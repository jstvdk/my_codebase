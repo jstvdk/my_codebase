{
 "cells": [
  {
   "cell_type": "code",
   "execution_count": null,
   "id": "0",
   "metadata": {},
   "outputs": [],
   "source": [
    "import sys\n",
    "sys.path.append('/Users/vdk/GeneveWork/Code/calibpipe-main-calibpipe/')\n",
    "from astropy.io import ascii\n",
    "import numpy as np\n",
    "import pandas as pd\n",
    "import matplotlib\n",
    "import csv\n",
    "import scipy\n",
    "import matplotlib.pyplot as plt\n",
    "from seaborn import histplot\n",
    "import random\n",
    "import copy\n",
    "from os import path, makedirs\n",
    "from astropy.coordinates import SkyCoord\n",
    "from astropy.table import Table\n",
    "import astropy.units as u\n",
    "from ctapipe.containers import MuonEfficiencyContainer\n",
    "from ctapipe.coordinates import CameraFrame, TelescopeFrame\n",
    "from ctapipe.io import EventSource, EventSeeker\n",
    "from ctapipe.core import TelescopeComponent\n",
    "from ctapipe.core.traits import (\n",
    "    List,\n",
    "    Int,\n",
    "    FloatTelescopeParameter,\n",
    "    TelescopeParameter,\n",
    "    Unicode,\n",
    ")\n",
    "from ctapipe.image.cleaning import tailcuts_clean\n",
    "from ctapipe.image.muon import MuonRingFitter, MuonIntensityFitter\n",
    "from traitlets.config import Config\n",
    "from ctapipe.image import ImageProcessor\n",
    "from ctapipe.image.muon import MuonProcessor\n",
    "from ctapipe.visualization import CameraDisplay\n",
    "from ctapipe.instrument import CameraGeometry\n",
    "from ctapipe.calib import CameraCalibrator\n",
    "from traitlets.config.loader import Config, FileConfigLoader, JSONFileConfigLoader\n",
    "import pathlib\n",
    "from calibpipe.throughput import MuonCalibrator\n",
    "from traitlets.config import Config\n",
    "from astropy.time import Time\n",
    "from astropy.coordinates import EarthLocation,SkyCoord, AltAz \n",
    "from traitlets.config import Config\n",
    "import time\n",
    "from ctapipe.image import number_of_island_sizes\n",
    "from ctapipe.image import (\n",
    "    hillas_parameters,\n",
    "    leakage_parameters,\n",
    "    concentration_parameters,\n",
    ")\n",
    "from ctapipe.image import timing_parameters\n",
    "from ctapipe.image import number_of_islands\n",
    "from ctapipe.image import camera_to_shower_coordinates\n",
    "\n",
    "\n",
    "\n"
   ]
  },
  {
   "cell_type": "code",
   "execution_count": null,
   "id": "1",
   "metadata": {},
   "outputs": [],
   "source": [
    "cleaned_rings = [3403, 5120, 5397, 6317, 6448, 6466, 8234, 8448, 9044, 9151, 9217, 9360, 9404, 9433, 9435, 12432, 16110, 16379, 17309, 17494, 19103, 19358, 20105, 20229, 20349, 20402, 21288, 21433, 22126, 22205, 22365, 22390, 25287, 25345, 25432, 26113, 26164, 26347, 27167, 27176, 27374, 28000, 28320, 28328, 28449, 29266, 29390, 31123, 31176, 32064, 32342, 33057, 33302, 33315, 34219, 34347, 35052, 35219, 35375, 35435, 36231, 36452]\n",
    "cleaned_shower = [28320, 28449]\n",
    "muon_rings_cleaned = sorted(set(cleaned_rings).difference(set(cleaned_shower)))\n",
    "print(len(set(cleaned_rings).difference(set(cleaned_shower))))\n",
    "print(len(cleaned_rings))\n",
    "print(sorted(set(cleaned_rings).difference(set(cleaned_shower))))"
   ]
  },
  {
   "cell_type": "code",
   "execution_count": null,
   "id": "2",
   "metadata": {},
   "outputs": [],
   "source": [
    "arr04 = [2414, 3211, 3403, 4426, 6200, 6317, 6466, 7418, 8234, 8448, 9404, 9433, 12262, 12334, 14335, 14402, 15185, 15405, 19103, 20229, 20402, 21288, 21433, 22053, 22205, 22271, 22390, 23382, 24482, 26113, 26164, 26347, 26365, 27176, 27374, 28000, 28034, 28328, 29266, 29390, 30405, 30462, 31176, 31386, 32064, 32298, 33057, 33071, 35052, 35219, 35375, 35435, 36231, 36364, 36452, 37363, 39094, 39152, 39376]\n",
    "arr05 = [1018, 1018, 1149, 1321, 1389, 2363, 2414, 3198, 3211, 3403, 4426, 5363, 5425, 6200, 6317, 6376, 6376, 6417, 6419, 6466, 7176, 7418, 8234, 8316, 8323, 8369, 8448, 8473, 8487, 8490, 9318, 9404, 9433, 9435, 9444, 9486, 12061, 12162, 12262, 12305, 12334, 13320, 14214, 14335, 14390, 14402, 15185, 15196, 15405, 15447, 16213, 16471, 17000, 17168, 17168, 18137, 18291, 18476, 19103, 20120, 20229, 20356, 20402, 21281, 21288, 21433, 22053, 22053, 22123, 22205, 22271, 22354, 22364, 22390, 23382, 23419, 24294, 24482, 24482, 25051, 25345, 26113, 26164, 26336, 26338, 26347, 26365, 26374, 27176, 27281, 27374, 27414, 28000, 28034, 28328, 28341, 28357, 28372, 29213, 29266, 29372, 29390, 30181, 30291, 30405, 30447, 30462, 31042, 31043, 31123, 31176, 31332, 31332, 31333, 31386, 32064, 32256, 32298, 33057, 33071, 34115, 35052, 35103, 35219, 35296, 35375, 35376, 35393, 35435, 35444, 35472, 36231, 36364, 36452, 37363, 39083, 39094, 39152, 39376, 39401, 39444, 39466]\n",
    "arr06 = [1018, 1018, 1087, 1149, 1281, 1321, 1389, 2080, 2086, 2363, 2388, 2414, 3146, 3198, 3211, 3380, 3403, 4054, 4054, 4070, 4339, 4367, 4426, 5218, 5218, 5363, 5425, 5454, 6171, 6200, 6242, 6317, 6376, 6376, 6417, 6419, 6433, 6466, 7176, 7418, 8055, 8141, 8234, 8316, 8323, 8369, 8448, 8473, 8487, 8490, 9074, 9168, 9236, 9318, 9339, 9369, 9393, 9404, 9412, 9422, 9433, 9435, 9444, 9478, 9478, 9486, 10083, 10396, 10406, 11001, 11252, 12013, 12025, 12030, 12061, 12162, 12162, 12262, 12305, 12334, 12336, 12386, 12386, 13202, 13320, 13332, 13408, 13421, 14214, 14335, 14390, 14402, 14406, 15185, 15196, 15348, 15405, 15433, 15447, 16110, 16213, 16338, 16379, 16398, 16399, 16422, 16424, 16462, 16471, 17000, 17168, 17168, 17356, 17422, 17446, 18026, 18137, 18237, 18291, 18351, 18413, 18447, 18476, 18476, 19103, 20120, 20229, 20356, 20402, 21104, 21250, 21281, 21288, 21353, 21433, 22053, 22053, 22088, 22123, 22127, 22205, 22271, 22354, 22364, 22365, 22373, 22390, 22415, 23054, 23238, 23285, 23382, 23392, 23419, 23435, 24272, 24294, 24294, 24353, 24353, 24374, 24471, 24482, 24482, 25051, 25345, 25371, 26113, 26164, 26193, 26336, 26338, 26347, 26365, 26374, 27176, 27195, 27281, 27374, 27383, 27414, 28000, 28034, 28110, 28320, 28328, 28341, 28342, 28357, 28372, 28449, 29072, 29213, 29266, 29313, 29372, 29372, 29390, 30152, 30181, 30291, 30405, 30447, 30462, 31042, 31043, 31063, 31123, 31176, 31332, 31332, 31333, 31361, 31386, 32064, 32100, 32256, 32275, 32298, 32366, 32434, 33057, 33071, 33151, 33240, 33383, 34115, 34126, 35052, 35099, 35103, 35133, 35219, 35294, 35296, 35375, 35376, 35392, 35393, 35435, 35444, 35470, 35470, 35470, 35472, 36231, 36260, 36331, 36364, 36452, 37091, 37107, 37363, 37383, 37402, 38106, 38191, 38209, 38337, 38351, 38398, 39083, 39094, 39094, 39121, 39152, 39372, 39376, 39401, 39444, 39466, 40182, 40387, 40411]\n",
    "arr_ring06 = [3198, 14406, 16110, 16379, 22123, 22364, 22365, 22415, 25051, 25345, 34115] \n",
    "set_ring04 = {8448, 26113, 20229, 36231, 35219, 31386, 19103, 33057, 21288, 27176, 8234, 28328, 32298, 6317, 33071, 35375, 20402, 26164, 21433, 9404, 22205, 32064, 6466, 14402, 31176, 3403, 29390, 29266, 9433, 28000, 36452, 12262, 26347, 35052, 35435, 27374, 22390, 26365}\n",
    "\n",
    "#print(sorted(set(arr06).difference(set(arr05))))\n",
    "#print(sorted(set(arr_ring06).difference(set(arr06).difference(set(arr05)))))\n",
    "print(sorted(set_ring04.union(set(arr_ring06))))\n",
    "muon_rings_regular = sorted(set_ring04.union(set(arr_ring06)))\n",
    "len(muon_rings_regular)"
   ]
  },
  {
   "cell_type": "code",
   "execution_count": null,
   "id": "3",
   "metadata": {},
   "outputs": [],
   "source": [
    "final_rings = list(set(muon_rings_cleaned).union(muon_rings_regular))\n",
    "len(final_rings)\n",
    "print(final_rings)"
   ]
  },
  {
   "cell_type": "code",
   "execution_count": null,
   "id": "4",
   "metadata": {},
   "outputs": [],
   "source": [
    "muon_events = {}\n",
    "for k in range(3,4):\n",
    "    filename = f'/Users/vdk/Software/sim_run_folder/output_prod_v12/corsika_theta_28.4_az_182.75_run{k}.simtel.gz'\n",
    "    source = EventSource(filename, max_events=9000)\n",
    "    event_iterator = iter(source)\n",
    "    k_part = k*1000\n",
    "    for i,j in enumerate(event_iterator):\n",
    "        if (k_part + i) in muon_rings_regular:\n",
    "            muon_events[k_part+i] = j\n",
    "    print(f\"new k = {k}\")\n",
    "            \n",
    "        \n",
    "        "
   ]
  },
  {
   "cell_type": "code",
   "execution_count": null,
   "id": "5",
   "metadata": {},
   "outputs": [],
   "source": [
    "image_processor = ImageProcessor(source.subarray)\n",
    "muon_processor = MuonProcessor(source.subarray)\n",
    "calib = CameraCalibrator(\n",
    "    image_extractor_type=\"GlobalPeakWindowSum\",\n",
    "    subarray = source.subarray)\n",
    "for key in muon_events:\n",
    "    calib(muon_events[key])\n",
    "    image_processor(muon_events[key])\n",
    "    muon_processor(muon_events[key])\n",
    "    \n",
    "    "
   ]
  },
  {
   "cell_type": "code",
   "execution_count": null,
   "id": "6",
   "metadata": {},
   "outputs": [],
   "source": [
    "# NSB\n",
    "\n",
    "nsb_scale = 10\n",
    "filename = f'/Users/vdk/Dummy100_nsb_scaling_factor_{nsb_scale}.simtel.gz'\n",
    "source = EventSource(filename, max_events=10)\n",
    "event_iterator = iter(source)\n",
    "arr_max_nsb = []\n",
    "\n",
    "for event in event_iterator:\n",
    "    for pixel in event.r1.tel[1].waveform:\n",
    "        arr_max_nsb.append(np.max(pixel))\n",
    "\n",
    "x,y,_ = plt.hist(arr_max_nsb, bins = 100, range = (0,10), density = True, alpha = 1, histtype = 'step', label = 'nsb')\n",
    "plt.legend()\n",
    "plt.xlabel(\"R1 waveform max amplitude [p.e. / ns]\")\n",
    "plt.ylabel(\"Probability density\")\n",
    "plt.grid()\n"
   ]
  },
  {
   "cell_type": "code",
   "execution_count": null,
   "id": "7",
   "metadata": {},
   "outputs": [],
   "source": [
    "# MUONS + NSB\n",
    "arr_max_muons = []\n",
    "\n",
    "for key in muon_events:\n",
    "    for tel in muon_events[key].trigger.tels_with_trigger:\n",
    "        if not np.isnan(muon_events[key].muon.tel[tel].efficiency.optical_efficiency):\n",
    "            for pixel in muon_events[key].r1.tel[tel].waveform:\n",
    "                arr_max_muons.append(np.max(pixel))\n",
    "            #arr_max.append(np.max(muon_events[key].r1.tel[tel].waveform))\n",
    "k, z, l = plt.hist(arr_max_muons,bins = 100, range = (0,10), density = True, alpha = 0.35, label = 'muons + muons/protons +nsb')\n",
    "plt.legend()\n",
    "plt.xlabel(\"R1 waveform max amplitude [p.e. / ns]\")\n",
    "plt.ylabel(\"Probability density\")\n",
    "plt.grid()\n"
   ]
  },
  {
   "cell_type": "code",
   "execution_count": null,
   "id": "8",
   "metadata": {},
   "outputs": [],
   "source": [
    "\n",
    "plt.figure()\n",
    "tels = 1\n",
    "plt.figure(figsize = (9,6))\n",
    "camgeom = source.subarray.tel[tels].camera.geometry\n",
    "title = f'{k}'\n",
    "disp = CameraDisplay(camgeom,title=title)\n",
    "disp.image = muon_events[3198].simulation.tel[tels].true_image\n",
    "#disp.image = event_container[i].r1.tel[m].waveform.sum(axis=1)\n",
    "disp.cmap = plt.cm.Reds\n",
    "disp.add_colorbar()\n",
    "#disp.set_limits_percent(95)\n",
    "plt.show()"
   ]
  },
  {
   "cell_type": "code",
   "execution_count": null,
   "id": "9",
   "metadata": {},
   "outputs": [],
   "source": [
    "pixel_mask = np.array(muon_events[3198].simulation.tel[tels].true_image > 5, dtype = bool)\n",
    "#plt.figure(figsize=(9,9))\n",
    "tels = 1\n",
    "plt.figure(figsize = (18,12))\n",
    "camgeom = source.subarray.tel[tels].camera.geometry\n",
    "title = f'{k}'\n",
    "disp = CameraDisplay(camgeom,title=title)\n",
    "disp.highlight_pixels(pixel_mask)\n",
    "disp.image = muon_events[3198].simulation.tel[tels].true_image\n",
    "#disp.image = event_container[i].r1.tel[m].waveform.sum(axis=1)\n",
    "disp.cmap = plt.cm.Reds\n",
    "disp.add_colorbar()\n",
    "#disp.set_limits_percent(95)\n",
    "plt.show()"
   ]
  },
  {
   "cell_type": "code",
   "execution_count": null,
   "id": "10",
   "metadata": {},
   "outputs": [],
   "source": [
    "pixel_mask = np.array(muon_events[3198].simulation.tel[tels].true_image > 5, dtype = bool)\n",
    "max_amplitude_vals = []\n",
    "for pixel in muon_events[3198].r1.tel[1].waveform[pixel_mask, :]:\n",
    "    max_amplitude_vals.append(np.max(pixel))\n",
    "\n",
    "plt.hist(max_amplitude_vals)\n"
   ]
  },
  {
   "attachments": {},
   "cell_type": "markdown",
   "id": "11",
   "metadata": {},
   "source": [
    "### Pixel mask for only active pixels on simulated image"
   ]
  },
  {
   "cell_type": "code",
   "execution_count": null,
   "id": "12",
   "metadata": {},
   "outputs": [],
   "source": [
    "# MUONS PROTONS NSB\n",
    "\n",
    "true_image_max_arr_m = []\n",
    "\n",
    "for key in muon_events:\n",
    "    for tel in muon_events[key].trigger.tels_with_trigger:\n",
    "        if not np.isnan(muon_events[key].muon.tel[tel].efficiency.optical_efficiency):\n",
    "            pixel_mask = np.array(muon_events[key].simulation.tel[tel].true_image, dtype = bool)\n",
    "            temp_event = muon_events[key].r1.tel[tel].waveform[pixel_mask, :]\n",
    "            for waveform in temp_event:\n",
    "                true_image_max_arr_m.append(np.max(waveform))\n",
    "\n",
    "                #true_image_max_arr.append(np.max(muon_events[key].r1.tel[tel].waveform[pixel_mask, :], axis = 1))\n",
    "            \n",
    "true_image_max_arr_m = np.array(true_image_max_arr_m)\n",
    "\n",
    "len(true_image_max_arr_m)\n",
    "k, z, l = plt.hist(true_image_max_arr_m,bins = 100, range = (0,10), density = True, alpha = 0.35, label = 'muons')\n",
    "plt.legend()\n",
    "plt.xlabel(\"R1 waveform max amplitude [p.e. / ns]\")\n",
    "plt.ylabel(\"Probability density\")\n",
    "plt.grid()"
   ]
  },
  {
   "cell_type": "code",
   "execution_count": null,
   "id": "13",
   "metadata": {},
   "outputs": [],
   "source": [
    "# PROTONS\n",
    "\n",
    "k = 1\n",
    "filename = f'/Users/vdk/sim_run_folder/output_prod_v12/corsika_theta_28.4_az_182.75_run{k}.simtel.gz'\n",
    "source = EventSource(filename, max_events=20)\n",
    "event_iterator = iter(source)\n",
    "arr_max_proton = []\n",
    "\n",
    "\n",
    "\n",
    "true_image_max_arr_p = []\n",
    "\n",
    "for event in event_iterator:\n",
    "    for tel in event.trigger.tels_with_trigger:\n",
    "        pixel_mask = np.array(event.simulation.tel[tel].true_image, dtype = bool)\n",
    "        temp_event = event.r1.tel[tel].waveform[pixel_mask, :]\n",
    "        for i in temp_event:\n",
    "            true_image_max_arr_p.append(np.max(i))\n",
    "\n",
    "true_image_max_arr_p = np.array(true_image_max_arr_p)\n",
    "\n",
    "len(true_image_max_arr_p)\n",
    "\n",
    "q,w,e = plt.hist(true_image_max_arr_p, bins = 100, range = (0,10), density = True, alpha = 0.35, label = 'protons')\n",
    "plt.legend()\n",
    "plt.xlabel(\"R1 waveform max amplitude [p.e. / ns]\")\n",
    "plt.ylabel(\"Probability density\")\n",
    "plt.grid()"
   ]
  },
  {
   "cell_type": "code",
   "execution_count": null,
   "id": "14",
   "metadata": {},
   "outputs": [],
   "source": [
    "# PURE MUONS\n",
    "\n",
    "pure_muons = [2414, 3211, 3403, 6317, 6466, 7418, 8234, 8448, 9404, 9433, 12262, 14402, 15405, 19103, 20229, 20402, 21288, 21433, 22205, 22271, 22390, 26113, 26164, 26347, 26365, 27176, 27374, 28000, 28328, 29266, 29390, 30405, 30462, 31176, 31386, 32064, 32298, 33057, 33071, 35052, 35375, 36231, 36452, 37363, 39094, 39376]\n",
    "true_image_max_arr_m_pure = []\n",
    "\n",
    "for key in muon_events:\n",
    "    if key in pure_muons:\n",
    "        for tel in event.trigger.tels_with_trigger:\n",
    "            if not np.isnan(muon_events[key].muon.tel[tel].efficiency.optical_efficiency):\n",
    "                pixel_mask = np.array(muon_events[key].simulation.tel[tel].true_image, dtype = bool)\n",
    "                temp_event = muon_events[key].r1.tel[tel].waveform[pixel_mask, :]\n",
    "                for i in temp_event:\n",
    "                    true_image_max_arr_m_pure.append(np.max(i))\n",
    "\n",
    "                #true_image_max_arr.append(np.max(muon_events[key].r1.tel[tel].waveform[pixel_mask, :], axis = 1))\n",
    "                #np.max(muon_events[key].r1.tel[tel].waveform[pixel_mask, :], axis = 1)\n",
    "\n",
    "            \n",
    "true_image_max_arr_m_pure = np.array(true_image_max_arr_m_pure)\n",
    "\n",
    "print(len(true_image_max_arr_m_pure))\n",
    "r,t,y = plt.hist(true_image_max_arr_m_pure, bins = 100, range = (0,10), density = True, alpha = 0.35, label = 'pure muons')\n",
    "plt.legend()\n",
    "plt.xlabel(\"R1 waveform max amplitude [p.e. / ns]\")\n",
    "plt.ylabel(\"Probability density\")\n",
    "plt.grid()"
   ]
  },
  {
   "cell_type": "code",
   "execution_count": null,
   "id": "15",
   "metadata": {},
   "outputs": [],
   "source": [
    "plt.figure(figsize = (12,9))\n",
    "x,y,_ = plt.hist(arr_max_nsb, bins = 100, range = (0,10), density = True, alpha = 1, histtype = 'step', label = 'nsb')\n",
    "\n",
    "#k, z, l = plt.hist(arr_max_muons,bins = 100, range = (0,10), density = True, alpha = 0.35, label = 'muons + muons/protons +nsb')\n",
    "\n",
    "a, b, c = plt.hist(true_image_max_arr_m,bins = 100, range = (0,10), density = True, alpha = 0.35, label = 'muons + muons/protons')\n",
    "\n",
    "q,w,e = plt.hist(true_image_max_arr_p,bins = 100, range = (0,10), density = True, alpha = 0.35, label = 'pure protons')\n",
    "\n",
    "r,t,y = plt.hist(true_image_max_arr_m_pure, bins = 100, range = (0,10), density = True, alpha = 0.35, label = 'pure muons')\n",
    "\n",
    "plt.legend()\n",
    "plt.xlabel(\"R1 waveform max amplitude [p.e. / ns]\")\n",
    "plt.ylabel(\"Probability density\")\n",
    "plt.grid()"
   ]
  },
  {
   "cell_type": "code",
   "execution_count": null,
   "id": "16",
   "metadata": {},
   "outputs": [],
   "source": [
    "plt.figure(figsize = (12,9))\n",
    "x,y,_ = plt.hist(arr_max_nsb, bins = 100, range = (0,10), density = True, alpha = 1, histtype = 'step', label = 'nsb')\n",
    "k, z, l = plt.hist(arr_max_muons,bins = 100, range = (0,10), density = True, alpha = 1, label = 'muons + muons/protons +nsb', histtype = 'step')\n",
    "a, b, c = plt.hist(true_image_max_arr_m,bins = 100, range = (0,10), density = True, alpha = 1, label = 'muons + muons/protons',histtype = 'step')\n",
    "q,w,e = plt.hist(true_image_max_arr_p,bins = 100, range = (0,10), density = True, alpha = 1, label = 'pure protons',histtype = 'step')\n",
    "r,t,y = plt.hist(true_image_max_arr_m_pure, bins = 100, range = (0,10), density = True, alpha = 1, label = 'pure muons',histtype = 'step')\n",
    "\n"
   ]
  },
  {
   "cell_type": "code",
   "execution_count": null,
   "id": "17",
   "metadata": {},
   "outputs": [],
   "source": [
    "n, bins, _ = plt.hist(true_image_max_arr_m_pure, bins = 100, range = (0,15), density = False, alpha = 0.35, label = 'pure muons')\n",
    "\n",
    "bin_width = bins[1] - bins[0]\n",
    "mask = np.where(bins > 2)\n",
    "\n",
    "integral = bin_width * sum(n[mask[:-1]])\n",
    "integral"
   ]
  },
  {
   "cell_type": "code",
   "execution_count": null,
   "id": "18",
   "metadata": {},
   "outputs": [],
   "source": [
    "sum(n)"
   ]
  },
  {
   "cell_type": "code",
   "execution_count": null,
   "id": "19",
   "metadata": {},
   "outputs": [],
   "source": [
    "mask = np.array(np.where(bins > 2)[0])\n",
    "n[mask[:-1]][-1]"
   ]
  },
  {
   "cell_type": "code",
   "execution_count": null,
   "id": "20",
   "metadata": {},
   "outputs": [],
   "source": [
    "arr = [1,2,3,4,5]\n",
    "\n",
    "sum(arr[1:3])\n",
    "sum(n[mask[:-1]])"
   ]
  },
  {
   "cell_type": "code",
   "execution_count": null,
   "id": "21",
   "metadata": {},
   "outputs": [],
   "source": [
    "r1_cut = 2"
   ]
  },
  {
   "cell_type": "code",
   "execution_count": null,
   "id": "22",
   "metadata": {},
   "outputs": [],
   "source": [
    "# PURE MUONS\n",
    "\n",
    "pure_muons = [2414, 3211, 3403, 6317, 6466, 7418, 8234, 8448, 9404, 9433, 12262, 14402, 15405, 19103, 20229, 20402, 21288, 21433, 22205, 22271, 22390, 26113, 26164, 26347, 26365, 27176, 27374, 28000, 28328, 29266, 29390, 30405, 30462, 31176, 31386, 32064, 32298, 33057, 33071, 35052, 35375, 36231, 36452, 37363, 39094, 39376]\n",
    "pixel_number_arr_m_pure = []\n",
    "counter = 0\n",
    "all_arr = []\n",
    "for key in muon_events:\n",
    "    if key in pure_muons:\n",
    "        temp_arr = []\n",
    "        for tel in event.trigger.tels_with_trigger:\n",
    "            if not np.isnan(muon_events[key].muon.tel[tel].efficiency.optical_efficiency) and muon_events[key].muon.tel[tel].efficiency.optical_efficiency < 0.26:\n",
    "                #print(\"key = \", key, \"tel = \", tel)\n",
    "                #print(\"optical eff = \", muon_events[key].muon.tel[tel].efficiency.optical_efficiency)\n",
    "                pixel_mask = np.array(muon_events[key].simulation.tel[tel].true_image, dtype = bool)\n",
    "                temp_event = muon_events[key].r1.tel[tel].waveform[pixel_mask, :]\n",
    "                for i in temp_event:\n",
    "                    temp_arr.append(np.max(i))\n",
    "                counter += len(temp_arr)\n",
    "                n, bins, _ = plt.hist(temp_arr, bins = 100, range = (0,15), density = False, alpha = 0.35, label = 'pure muons')\n",
    "                mask = np.array(np.where(bins > r1_cut)[0])\n",
    "                pixel_number_arr_m_pure.append(sum(n[mask[:-1]]))\n",
    "            \n",
    "#true_image_max_arr_m_pure = np.array(true_image_max_arr_m_pure)\n",
    "\n",
    "print(\"array with number of pixels\", len(pixel_number_arr_m_pure))\n",
    "print(\"pure muons = \", len(pure_muons))\n",
    "print(\"counter = \", counter)\n",
    "#r,t,y = plt.hist(true_image_max_arr_m_pure, bins = 100, range = (0,10), density = True, alpha = 0.35, label = 'pure muons')\n",
    "#plt.legend()\n",
    "#plt.xlabel(\"R1 waveform max amplitude [p.e. / ns]\")\n",
    "#plt.ylabel(\"Probability density\")\n",
    "#plt.grid()\n",
    "print(counter)"
   ]
  },
  {
   "cell_type": "code",
   "execution_count": null,
   "id": "23",
   "metadata": {},
   "outputs": [],
   "source": [
    "# Protons pixel number\n",
    "\n",
    "\n",
    "pixel_number_arr_p_pure = []\n",
    "counter = 0\n",
    "\n",
    "k = 1\n",
    "filename = f'/Users/vdk/sim_run_folder/output_prod_v12/corsika_theta_28.4_az_182.75_run{k}.simtel.gz'\n",
    "source = EventSource(filename, max_events=30)\n",
    "event_iterator = iter(source)\n",
    "count = 0\n",
    "all_arr = []\n",
    "\n",
    "for k in range(1,2):\n",
    "    filename = f'/Users/vdk/sim_run_folder/output_prod_v12/corsika_theta_28.4_az_182.75_run{k}.simtel.gz'\n",
    "    source = EventSource(filename, max_events=30)\n",
    "    event_iterator = iter(source)\n",
    "    for event in event_iterator:\n",
    "        for tel in event.trigger.tels_with_trigger:\n",
    "            temp_arr = []\n",
    "            count += 1\n",
    "            pixel_mask = np.array(event.simulation.tel[tel].true_image, dtype = bool)\n",
    "            temp_event = event.r1.tel[tel].waveform[pixel_mask, :]\n",
    "            for i in temp_event:\n",
    "                temp_arr.append(np.max(i))\n",
    "                all_arr.append(np.max(i))\n",
    "            #n, bins, _ = plt.hist(temp_arr, bins = 100, range = (0,15), density = False, alpha = 0.35, label = 'pure muons')\n",
    "            hist = np.histogram(temp_arr, bins = 100, range = (0,15))\n",
    "            mask = np.array(np.where(hist[1] > r1_cut)[0])\n",
    "            pixel_number_arr_p_pure.append(sum(hist[0][mask[:-1]]))\n",
    "\n",
    "\n",
    "#print(\"array with number of pixels\", len(pixel_number_arr_p_pure))\n",
    "#print(\"pure muons = \", len(pure_muons))\n",
    "#print(\"counter = \", counter)\n",
    "#pixel_number_arr_p_pure\n",
    "#t = np.where(bins[:-1] > 2)[0]\n",
    "#print(\"n = \", sum(n[t]))\n",
    "#print(\"bins\", bins[:-1])\n",
    "print(pixel_number_arr_p_pure)\n",
    "print(count)"
   ]
  },
  {
   "cell_type": "code",
   "execution_count": null,
   "id": "24",
   "metadata": {},
   "outputs": [],
   "source": [
    "pixel_number_arr_nsb = []\n",
    "counter = 0\n",
    "# NSB\n",
    "\n",
    "nsb_scale = 10\n",
    "filename = f'/Users/vdk/Dummy100_nsb_scaling_factor_{nsb_scale}.simtel.gz'\n",
    "source = EventSource(filename, max_events=30)\n",
    "event_iterator = iter(source)\n",
    "\n",
    "\n",
    "\n",
    "for event in event_iterator:\n",
    "    temp_arr = []  \n",
    "    #print(\"t\", event.r1.tel[1].waveform)\n",
    "    for pixel in event.r1.tel[1].waveform:\n",
    "        #print(\"here\")\n",
    "        temp_arr.append(np.max(pixel))\n",
    "        #print(np.max(pixel))\n",
    "        #print(\"nsb max = \", np.max(i))\n",
    "    hist = np.histogram(temp_arr, bins = 100, range = (0,15))\n",
    "    mask = np.array(np.where(hist[1] > r1_cut)[0])\n",
    "    #print(np.where(hist[1] > r1_cut))\n",
    "    pixel_number_arr_nsb.append(sum(hist[0][mask[:-1]]))\n",
    "    \n",
    "print(\"pix_number = \", pixel_number_arr_nsb)\n",
    "#print(temp_arr)"
   ]
  },
  {
   "cell_type": "code",
   "execution_count": null,
   "id": "25",
   "metadata": {},
   "outputs": [],
   "source": [
    "q,w,e = plt.hist(pixel_number_arr_m_pure, bins = 50, alpha = 0.5, label = 'pure muons', density = True)\n",
    "r,t,y = plt.hist(pixel_number_arr_p_pure, bins = 50, alpha = 0.5, label = 'pure protons', density = True)\n",
    "#r,t,y = plt.hist(pixel_number_arr_nsb, bins = 5, alpha = 0.5, label = 'nsb', density = True)\n",
    "\n",
    "plt.legend()\n",
    "plt.xlabel(f\"Number of pixels with max R1 amplitude > {r1_cut} p.e./ns\")\n",
    "plt.ylabel(\"Probability mass function\")\n",
    "plt.grid()\n",
    "#print(pixel_number_arr_m_pure)\n",
    "#3print(pixel_number_arr_p_pure)\n",
    "#print(pixel_number_arr_nsb)\n",
    "print(max(pixel_number_arr_p_pure))"
   ]
  },
  {
   "cell_type": "code",
   "execution_count": null,
   "id": "26",
   "metadata": {},
   "outputs": [],
   "source": [
    "# Rewrite proton pixel number without hist\n",
    "\n",
    "# Protons pixel number\n",
    "\n",
    "\n",
    "pixel_number_arr_p_pure = []\n",
    "counter = 0\n",
    "\n",
    "k = 1\n",
    "filename = f'/Users/vdk/sim_run_folder/output_prod_v12/corsika_theta_28.4_az_182.75_run{k}.simtel.gz'\n",
    "source = EventSource(filename, max_events=1000)\n",
    "event_iterator = iter(source)\n",
    "count = 0\n",
    "r1_cut = 2\n",
    "\n",
    "\n",
    "for k in range(1,41):\n",
    "    filename = f'/Users/vdk/sim_run_folder/output_prod_v12/corsika_theta_28.4_az_182.75_run{k}.simtel.gz'\n",
    "    source = EventSource(filename, max_events=9000)\n",
    "    event_iterator = iter(source)\n",
    "    for event in event_iterator:\n",
    "        if len(event.trigger.tels_with_trigger) > 1:\n",
    "            for tel in event.trigger.tels_with_trigger:\n",
    "                temp_arr = []\n",
    "                count += 1\n",
    "                pixel_mask = np.array(event.simulation.tel[tel].true_image, dtype = bool)\n",
    "                temp_event = event.r1.tel[tel].waveform[pixel_mask, :]\n",
    "                for i in temp_event:\n",
    "                    temp_arr.append(np.max(i))\n",
    "                temp_arr = np.array(temp_arr)\n",
    "                #print(\"len arr \",len(temp_arr))            \n",
    "                #print(\"len arr cut \",len(temp_arr[temp_arr>1]))\n",
    "                pixel_number_arr_p_pure.append(len(temp_arr[temp_arr>r1_cut]))\n",
    "                #n, bins, _ = plt.hist(temp_arr, bins = 100, range = (0,15), density = False, alpha = 0.35, label = 'pure muons')\n",
    "                #hist = np.histogram(temp_arr, bins = 100, range = (0,15))\n",
    "                #mask = np.array(np.where(hist[1] > r1_cut)[0])\n",
    "                #pixel_number_arr_p_pure.append(sum(hist[0][mask[:-1]]))\n",
    "\n",
    "\n",
    "#print(\"array with number of pixels\", len(pixel_number_arr_p_pure))\n",
    "#print(\"pure muons = \", len(pure_muons))\n",
    "#print(\"counter = \", counter)\n",
    "#pixel_number_arr_p_pure\n",
    "#t = np.where(bins[:-1] > 2)[0]\n",
    "#print(\"n = \", sum(n[t]))\n",
    "#print(\"bins\", bins[:-1])\n",
    "#print(len(all_arr))\n",
    "#print(count)\n",
    "print(len(pixel_number_arr_p_pure))\n",
    "#print(pixel_number_arr_p_pure)"
   ]
  },
  {
   "cell_type": "code",
   "execution_count": null,
   "id": "27",
   "metadata": {},
   "outputs": [],
   "source": [
    "sorted_protons = np.array(sorted(pixel_number_arr_p_pure))\n",
    "outlier = [sorted_protons[sorted_protons>200]]\n",
    "outliers = [200 for i in outlier[0]]\n",
    "wo_outlier = [sorted_protons[sorted_protons<200]]\n",
    "arr_outlier = np.append(wo_outlier,outliers)\n",
    "print(arr_outlier)\n",
    "print(len(outliers))\n",
    "print(len(wo_outlier))\n",
    "\n",
    "outlier[0]"
   ]
  },
  {
   "cell_type": "code",
   "execution_count": null,
   "id": "28",
   "metadata": {},
   "outputs": [],
   "source": [
    "plt.figure(figsize = (12,9))\n",
    "q,w,e = plt.hist(pixel_number_arr_m_pure, bins = 40, alpha = 0.5, label = 'pure muons', density = True)\n",
    "#r,t,y = plt.hist(wo_outlier, bins = 50, alpha = 0.5, label = 'pure protons', density = True)\n",
    "r,t,y = plt.hist(arr_outlier, bins = 40, alpha = 0.5, label = 'pure protons', density = True)\n",
    "\n",
    "#r,t,y = plt.hist(pixel_number_arr_nsb, bins = 5, alpha = 0.5, label = 'nsb', density = True)\n",
    "\n",
    "\n",
    "plt.legend()\n",
    "plt.xlabel(f\"Number of pixels with max R1 amplitude > {r1_cut} p.e./ns\")\n",
    "plt.ylabel(\"Probability mass function\")\n",
    "plt.ylim(0,0.02)\n",
    "plt.grid()\n",
    "#print(pixel_number_arr_m_pure)\n",
    "#3print(pixel_number_arr_p_pure)\n",
    "#print(pixel_number_arr_nsb)\n",
    "print(max(pixel_number_arr_p_pure))\n",
    "print(pixel_number_arr_m_pure)"
   ]
  },
  {
   "cell_type": "code",
   "execution_count": null,
   "id": "29",
   "metadata": {},
   "outputs": [],
   "source": []
  },
  {
   "cell_type": "code",
   "execution_count": null,
   "id": "30",
   "metadata": {},
   "outputs": [],
   "source": []
  },
  {
   "cell_type": "code",
   "execution_count": null,
   "id": "31",
   "metadata": {},
   "outputs": [],
   "source": [
    "stop here"
   ]
  },
  {
   "cell_type": "code",
   "execution_count": null,
   "id": "32",
   "metadata": {},
   "outputs": [],
   "source": [
    "pure_muons = [2414, 3211, 3403, 6317, 6466, 7418, 8234, 8448, 9404, 9433, 12262, 14402, 15405, 19103, 20229, 20402, 21288, 21433, 22205, 22271, 22390, 26113, 26164, 26347, 26365, 27176, 27374, 28000, 28328, 29266, 29390, 30405, 30462, 31176, 31386, 32064, 32298, 33057, 33071, 35052, 35375, 36231, 36452, 37363, 39094, 39376]\n",
    "pixel_number_arr_m_pure = []\n",
    "counter = 0\n",
    "all_arr = []\n",
    "\n",
    "r1_cuts = [0,1,2,3,4,5,6,7,8,9,10,11,12]\n",
    "event = muon_events[3403]\n",
    "cuts_values = []\n",
    "temp = []\n",
    "\n",
    "for tel in event.trigger.tels_with_trigger:\n",
    "    if not np.isnan(muon_events[key].muon.tel[tel].efficiency.optical_efficiency) and muon_events[key].muon.tel[tel].efficiency.optical_efficiency < 0.26:\n",
    "        for cut in r1_cuts:\n",
    "            temp = 0\n",
    "            pixel_mask = np.array(event.simulation.tel[tel].true_image, dtype = bool)\n",
    "            #temp_event = event.r1.tel[tel].waveform[pixel_mask, :]\n",
    "            for pixel in event.r1.tel[tel].waveform:\n",
    "                temp = np.append(temp, np.max(pixel))\n",
    "            #temp = np.array(temp)\n",
    "            cuts_values.append(len(temp[temp>cut]))\n",
    "            #n, bins, _ = plt.hist(temp_arr, bins = 100, range = (0,15), density = False, alpha = 0.35, label = 'pure muons')\n",
    "            #mask = np.array(np.where(bins > cut)[0])\n",
    "            #cuts_values.append(sum(n[mask[:-1]]))\n",
    "            \n",
    "\n",
    "\n",
    "#print(\"array with number of pixels\", len(pixel_number_arr_m_pure))\n",
    "#print(\"pure muons = \", len(pure_muons))\n",
    "#rint(\"counter = \", counter)\n",
    "#r,t,y = plt.hist(true_image_max_arr_m_pure, bins = 100, range = (0,10), density = True, alpha = 0.35, label = 'pure muons')\n",
    "#plt.legend()\n",
    "#plt.xlabel(\"R1 waveform max amplitude [p.e. / ns]\")\n",
    "#plt.ylabel(\"Probability density\")\n",
    "#plt.grid()\n",
    "print(cuts_values)\n",
    "plt.scatter(r1_cuts,cuts_values)\n",
    "plt.grid(alpha = 0.5)\n",
    "plt.xlabel(\"r1 waveform cut [p.e. / ns]\")\n",
    "plt.ylabel(\"number of pixels higher than\")\n",
    "plt.ylim(-100,1900)"
   ]
  },
  {
   "cell_type": "code",
   "execution_count": null,
   "id": "33",
   "metadata": {},
   "outputs": [],
   "source": [
    "nsb_scale = 10\n",
    "filename = f'/Users/vdk/Dummy100_nsb_scaling_factor_{nsb_scale}.simtel.gz'\n",
    "source = EventSource(filename, max_events=10)\n",
    "event_iterator = iter(source)\n",
    "arr_max_nsb = []\n",
    "event = next(event_iterator)\n",
    "for pixel in event.r1.tel[1].waveform:\n",
    "    print(np.mean(pixel))\n",
    "\n",
    "\n",
    "\n",
    "#for event in event_iterator:\n",
    "#    for pixel in event.r1.tel[1].waveform:\n",
    "#        arr_max_nsb.append(np.max(pixel))"
   ]
  },
  {
   "cell_type": "code",
   "execution_count": null,
   "id": "34",
   "metadata": {},
   "outputs": [],
   "source": [
    "# ALL CASES PIXEL NUMBER\n",
    "\n",
    "r1_cut = 2\n",
    "\n",
    "pure_muons = [2414, 3211, 3403, 6317, 6466, 7418, 8234, 8448, 9404, 9433, 12262, 14402, 15405, 19103, 20229, 20402, 21288, 21433, 22205, 22271, 22390, 26113, 26164, 26347, 26365, 27176, 27374, 28000, 28328, 29266, 29390, 30405, 30462, 31176, 31386, 32064, 32298, 33057, 33071, 35052, 35375, 36231, 36452, 37363, 39094, 39376]\n",
    "pixel_number_arr_m_pure = []\n",
    "\n",
    "for key in muon_events:\n",
    "    if key in pure_muons:\n",
    "        temp_arr = []\n",
    "        for tel in [1,2,3,4]:\n",
    "            if not np.isnan(muon_events[key].muon.tel[tel].efficiency.optical_efficiency) and muon_events[key].muon.tel[tel].efficiency.optical_efficiency < 0.26:\n",
    "                #print(\"key = \", key, \"tel = \", tel)\n",
    "                #print(\"optical eff = \", muon_events[key].muon.tel[tel].efficiency.optical_efficiency)\n",
    "                pixel_mask = np.array(muon_events[key].simulation.tel[tel].true_image, dtype = bool)\n",
    "                temp_event = muon_events[key].r1.tel[tel].waveform[pixel_mask, :]\n",
    "                for i in temp_event:\n",
    "                    temp_arr.append(np.max(i))\n",
    "                counter += len(temp_arr)\n",
    "                hist = np.histogram(temp_arr, bins = 100)\n",
    "                mask = np.array(np.where(hist[1] > r1_cut)[0])\n",
    "                pixel_number_arr_m_pure.append(sum(hist[0][mask[:-1]]))        \n",
    "                    \n",
    "# Protons pixel number\n",
    "\n",
    "\n",
    "pixel_number_arr_p_pure = []\n",
    "k = 1\n",
    "filename = f'/Users/vdk/Software/sim_run_folder/output_prod_v12/corsika_theta_28.4_az_182.75_run{k}.simtel.gz'\n",
    "source = EventSource(filename, max_events=30)\n",
    "event_iterator = iter(source)\n",
    "for event in event_iterator:\n",
    "    for tel in event.trigger.tels_with_trigger:\n",
    "        temp_arr = []\n",
    "        pixel_mask = np.array(event.simulation.tel[tel].true_image, dtype = bool)\n",
    "        temp_event = event.r1.tel[tel].waveform[pixel_mask, :]\n",
    "        for i in temp_event:\n",
    "            temp_arr.append(np.max(i))\n",
    "        hist = np.histogram(temp_arr, bins = 100)\n",
    "        mask = np.array(np.where(hist[1] > r1_cut)[0])\n",
    "        pixel_number_arr_p_pure.append(sum(hist[0][mask[:-1]]))\n",
    "\n",
    "\n",
    "pixel_number_arr_nsb = []\n",
    "nsb_scale = 10\n",
    "filename = f'/Users/vdk/LST/output_dummy_scan_4Sept_3/Dummy100_nsb_scaling_factor_{nsb_scale}.simtel.gz'\n",
    "source = EventSource(filename, max_events=30)\n",
    "event_iterator = iter(source)\n",
    "for event in event_iterator:\n",
    "    temp_arr = []  \n",
    "    #print(\"t\", event.r1.tel[1].waveform)\n",
    "    for pixel in event.r1.tel[1].waveform:\n",
    "        #print(\"here\")\n",
    "        temp_arr.append(np.max(pixel))\n",
    "        #print(np.max(pixel))\n",
    "        #print(\"nsb max = \", np.max(i))\n",
    "    hist = np.histogram(temp_arr, bins = 100, range = (0,15))\n",
    "    mask = np.array(np.where(hist[1] > r1_cut)[0])\n",
    "    #print(np.where(hist[1] > r1_cut))\n",
    "    pixel_number_arr_nsb.append(sum(hist[0][mask[:-1]]))\n",
    "    \n",
    "q,w,e = plt.hist(pixel_number_arr_m_pure, bins = 4, alpha = 0.5, label = 'pure muons', density = True)\n",
    "r,t,y = plt.hist(pixel_number_arr_p_pure, bins = 4, alpha = 0.5, label = 'pure protons', density = True)\n",
    "#r,t,y = plt.hist(pixel_number_arr_nsb, bins = 4, alpha = 0.5, label = 'nsb', density = True)\n",
    "\n",
    "plt.legend()\n",
    "plt.xlabel(f\"Number of pixels with max R1 amplitude > {r1_cut} p.e./ns\")\n",
    "plt.ylabel(\"Probability mass function\")\n",
    "plt.grid()\n",
    "print(len(pixel_number_arr_m_pure))\n",
    "print(len(pixel_number_arr_p_pure))\n",
    "print(pixel_number_arr_nsb)"
   ]
  },
  {
   "cell_type": "code",
   "execution_count": null,
   "id": "35",
   "metadata": {},
   "outputs": [],
   "source": []
  },
  {
   "cell_type": "code",
   "execution_count": null,
   "id": "36",
   "metadata": {},
   "outputs": [],
   "source": [
    "pure_muons = [2414, 3211, 3403, 6317, 6466, 7418, 8234, 8448, 9404, 9433, 12262, 14402, 15405, 19103, 20229, 20402, 21288, 21433, 22205, 22271, 22390, 26113, 26164, 26347, 26365, 27176, 27374, 28000, 28328, 29266, 29390, 30405, 30462, 31176, 31386, 32064, 32298, 33057, 33071, 35052, 35375, 36231, 36452, 37363, 39094, 39376]\n",
    "pixel_number_arr_m_pure = []\n",
    "counter = 0\n",
    "for key in muon_events:\n",
    "    if key in pure_muons:\n",
    "        counter += 1\n",
    "        temp_arr = []\n",
    "        for tel in event.trigger.tels_with_trigger:\n",
    "            if not np.isnan(muon_events[key].muon.tel[tel].efficiency.optical_efficiency):\n",
    "                plt.figure(figsize = (9,6))\n",
    "                camgeom = source.subarray.tel[tel].camera.geometry\n",
    "                title=f\"Event_{key}_optEff{round(muon_events[key].muon.tel[tel].efficiency.optical_efficiency,3)}_width{round(muon_events[key].muon.tel[tel].efficiency.width.to_value(),3)}_telescope{tel}\"\n",
    "                #title=f\"CleanedRing_{i}_optEff{round(event_container[i].muon.tel[m].efficiency.optical_efficiency,3)}_width{round(event_container[i].muon.tel[m].efficiency.width.to_value(),3)}_triggeredTel{m}\"\n",
    "                disp = CameraDisplay(camgeom,title=title)\n",
    "                disp.image = muon_events[key].simulation.tel[tel].true_image\n",
    "                #disp.image = event_container[i].r1.tel[m].waveform.sum(axis=1)\n",
    "                disp.cmap = plt.cm.RdBu_r\n",
    "                disp.add_colorbar()\n",
    "                disp.set_limits_percent(95)\n",
    "                #plt.show()"
   ]
  },
  {
   "cell_type": "code",
   "execution_count": null,
   "id": "37",
   "metadata": {},
   "outputs": [],
   "source": [
    "filename = f'/Users/vdk/Dummy100_nsb_scaling_factor_{nsb_scale}.simtel.gz'\n",
    "source = EventSource(filename, max_events=1)\n",
    "event_iterator = iter(source)\n",
    "arr_max_test = []\n",
    "\n",
    "for event in event_iterator:\n",
    "    for pixel in event.r1.tel[1].waveform:\n",
    "        arr_max_test.append(np.max(np.max(pixel)))\n",
    "        \n",
    "len(arr_max_test)"
   ]
  },
  {
   "cell_type": "code",
   "execution_count": null,
   "id": "38",
   "metadata": {},
   "outputs": [],
   "source": []
  },
  {
   "cell_type": "code",
   "execution_count": null,
   "id": "39",
   "metadata": {},
   "outputs": [],
   "source": []
  },
  {
   "cell_type": "code",
   "execution_count": null,
   "id": "40",
   "metadata": {},
   "outputs": [],
   "source": []
  },
  {
   "cell_type": "code",
   "execution_count": null,
   "id": "41",
   "metadata": {},
   "outputs": [],
   "source": []
  },
  {
   "cell_type": "code",
   "execution_count": null,
   "id": "42",
   "metadata": {},
   "outputs": [],
   "source": [
    "1+2"
   ]
  },
  {
   "cell_type": "code",
   "execution_count": null,
   "id": "43",
   "metadata": {},
   "outputs": [],
   "source": [
    "###\n",
    "# Algorithm to process events and try to calibrate them\n",
    "###\n",
    "int_cut = 0.3\n",
    "min_pixel = 80\n",
    "\n",
    "muon_processor_config = Config({\"MuonProcessor\": \n",
    "                                {\"RingQuery\": \n",
    "                                 {\"quality_criteria\" : [[\"intensity_check\",f\"np.abs(parameters.intensity_ratio - 1) < {int_cut}\"],\n",
    "                                                        [\"ring_containment\", \"parameters.containment > 0.5\"],\n",
    "                                                        [\"ring_completeness\", \"parameters.completeness > 0.5\"]]}}})\n",
    "\n",
    "#muon_processor_config = Config({\"MuonProcessor\":\n",
    "#                                {\"ImageParameterQuery\" :\n",
    "#                                {\"quality_criteria\" : [[\"min_pixels\", f\"dl1_params.morphology.n_pixels > {min_pixel}\"],\n",
    "#                                                        [\"min_intensity\", \"dl1_params.hillas.intensity > 500\"]]}}})\n",
    "\n",
    "muon_processor_config_2 = Config({\"MuonProcessor\":\n",
    "                                {\"ImageParameterQuery\" :\n",
    "                                 {\"quality_criteria\" : [[\"min_pixels\", f\"dl1_params.morphology.n_pixels > {min_pixel}\"],\n",
    "                                                        [\"min_intensity\", \"dl1_params.hillas.intensity > 500\"]]}}})\n",
    "\n",
    "checker = 0\n",
    "event_container = {}\n",
    "t1 = time.perf_counter(), time.process_time()\n",
    "\n",
    "\n",
    "\n",
    "\n",
    "for k in range(1,41):\n",
    "    filename = f'/Users/vdk/sim_run_folder/output_prod_v12/corsika_theta_28.4_az_182.75_run{k}.simtel.gz'\n",
    "    source = EventSource(filename, max_events=9000)\n",
    "    event_iterator = iter(source)\n",
    "    keks = k*1000\n",
    "    for i,j in enumerate(event_iterator):\n",
    "        if len(j.trigger.tels_with_trigger) > 1:\n",
    "            checker += 1\n",
    "            image_processor = ImageProcessor(source.subarray)\n",
    "            #muon_processor = MuonProcessor(source.subarray, config = muon_processor_config)\n",
    "            muon_processor = MuonProcessor(source.subarray)\n",
    "            calib = CameraCalibrator(\n",
    "                image_extractor_type=\"GlobalPeakWindowSum\",\n",
    "                subarray = source.subarray)\n",
    "            for tel_id in j.r1.tel.keys():\n",
    "                test_arr = np.where(j.r1.tel[tel_id].waveform > 8)\n",
    "                #if j.r1.tel[tel_id].waveform.sum() > 1500:\n",
    "                if len(test_arr[0]) > 5:\n",
    "                    event_container[keks+i] = j\n",
    "#                     calib(j)\n",
    "#                     image_processor(j)\n",
    "#                     muon_processor(j)\n",
    "#             for m in j.muon.tel.keys():\n",
    "#                 if not np.isnan(j.muon.tel[m].efficiency.width):\n",
    "#                     event_container[keks+i] = j\n",
    "    t2 = time.perf_counter(), time.process_time()\n",
    "        \n",
    "\n",
    "print(f\" Real time: {t2[0] - t1[0]:.2f} seconds\")\n",
    "print(f\" CPU time: {t2[1] - t1[1]:.2f} seconds\")\n",
    "            \n",
    "        "
   ]
  },
  {
   "cell_type": "code",
   "execution_count": null,
   "id": "44",
   "metadata": {},
   "outputs": [],
   "source": [
    "print(\"len = \", len(event_container))\n",
    "print(checker)"
   ]
  },
  {
   "cell_type": "code",
   "execution_count": null,
   "id": "45",
   "metadata": {},
   "outputs": [],
   "source": [
    "counter = 0\n",
    "\n",
    "for i in event_container:\n",
    "    if i in final_rings:\n",
    "        counter+=1\n",
    "\n",
    "counter"
   ]
  },
  {
   "cell_type": "code",
   "execution_count": null,
   "id": "46",
   "metadata": {},
   "outputs": [],
   "source": [
    "3.221/0.189"
   ]
  },
  {
   "cell_type": "code",
   "execution_count": null,
   "id": "47",
   "metadata": {},
   "outputs": [],
   "source": [
    "###\n",
    "# Algorithm to process events and try to calibrate them\n",
    "###\n",
    "int_cut = 0.3\n",
    "min_pixel = 80\n",
    "\n",
    "muon_processor_config = Config({\"MuonProcessor\": \n",
    "                                {\"RingQuery\": \n",
    "                                 {\"quality_criteria\" : [[\"intensity_check\",f\"np.abs(parameters.intensity_ratio - 1) < {int_cut}\"],\n",
    "                                                        [\"ring_containment\", \"parameters.containment > 0.5\"],\n",
    "                                                        [\"ring_completeness\", \"parameters.completeness > 0.5\"]]}}})\n",
    "\n",
    "#muon_processor_config = Config({\"MuonProcessor\":\n",
    "#                                {\"ImageParameterQuery\" :\n",
    "#                                {\"quality_criteria\" : [[\"min_pixels\", f\"dl1_params.morphology.n_pixels > {min_pixel}\"],\n",
    "#                                                        [\"min_intensity\", \"dl1_params.hillas.intensity > 500\"]]}}})\n",
    "\n",
    "muon_processor_config_2 = Config({\"MuonProcessor\":\n",
    "                                {\"ImageParameterQuery\" :\n",
    "                                 {\"quality_criteria\" : [[\"min_pixels\", f\"dl1_params.morphology.n_pixels > {min_pixel}\"],\n",
    "                                                        [\"min_intensity\", \"dl1_params.hillas.intensity > 500\"]]}}})\n",
    "\n",
    "checker = 0\n",
    "\n",
    "t1 = time.perf_counter(), time.process_time()\n",
    "\n",
    "pixel_values = [1, 10, 20, 30, 40, 50, 70, 100, 150, 175, 200, 225, 250, 275, 300, 350, 450]\n",
    "#pixel_values = [450]\n",
    "survived = []\n",
    "len_container = []\n",
    "\n",
    "for pixel in pixel_values:\n",
    "    counter = 0\n",
    "    event_container = {}\n",
    "\n",
    "    for k in range(1,41):\n",
    "        filename = f'/Users/vdk/sim_run_folder/output_prod_v12/corsika_theta_28.4_az_182.75_run{k}.simtel.gz'\n",
    "        source = EventSource(filename, max_events=9000)\n",
    "        event_iterator = iter(source)\n",
    "        keks = k*1000\n",
    "        for i,j in enumerate(event_iterator):\n",
    "            checker += 1\n",
    "            if len(j.trigger.tels_with_trigger) > 1:\n",
    "                image_processor = ImageProcessor(source.subarray)\n",
    "                #muon_processor = MuonProcessor(source.subarray, config = muon_processor_config)\n",
    "                muon_processor = MuonProcessor(source.subarray)\n",
    "                calib = CameraCalibrator(\n",
    "                    image_extractor_type=\"GlobalPeakWindowSum\",\n",
    "                    subarray = source.subarray)\n",
    "                for tel_id in j.r1.tel.keys():\n",
    "                    test_arr = np.where(j.r1.tel[tel_id].waveform > 7)\n",
    "                    #if j.r1.tel[tel_id].waveform.sum() > 1500:\n",
    "                    if len(test_arr[0]) > pixel:\n",
    "                        event_container[keks+i] = j\n",
    "    #                     calib(j)\n",
    "    #                     image_processor(j)\n",
    "    #                     muon_processor(j)\n",
    "    #             for m in j.muon.tel.keys():\n",
    "    #                 if not np.isnan(j.muon.tel[m].efficiency.width):\n",
    "    #                     event_container[keks+i] = j\n",
    "        \n",
    "    for event in event_container:\n",
    "        print(\"thats event = \", event)\n",
    "        if event in final_rings:\n",
    "            print(\"we are really counting\")\n",
    "            counter+=1\n",
    "            \n",
    "    survived.append(counter)\n",
    "    len_container.append(len(event_container))\n",
    "    print(\"survived = \", survived)\n",
    "    print(\"len_cont = \", len_container)\n",
    "    t2 = time.perf_counter(), time.process_time()   \n",
    "\n",
    "print(f\" Real time: {t2[0] - t1[0]:.2f} seconds\")\n",
    "print(f\" CPU time: {t2[1] - t1[1]:.2f} seconds\")\n",
    "            \n",
    "        "
   ]
  },
  {
   "cell_type": "code",
   "execution_count": null,
   "id": "48",
   "metadata": {},
   "outputs": [],
   "source": [
    "print(survived)\n",
    "print(len_container)\n"
   ]
  },
  {
   "cell_type": "code",
   "execution_count": null,
   "id": "49",
   "metadata": {},
   "outputs": [],
   "source": [
    "lets_check = 0\n",
    "opt_eff_cleaned = []\n",
    "events_opt_eff_cleaned = []\n",
    "for i in event_container:\n",
    "    for m in event_container[i].trigger.tel.keys():\n",
    "        #if not np.isnan(event_container[i].muon.tel[m].efficiency.width):\n",
    "                #if event_container[i].dl1.tel[m].parameters.morphology.n_pixels > 30 and abs(event_container[i].muon.tel[m].parameters.intensity_ratio - 1) < 0.4 and event_container[i].muon.tel[m].parameters.completeness > 0.5:\n",
    "                    lets_check+=1\n",
    "                    plt.figure(figsize = (9,6))\n",
    "                    camgeom = source.subarray.tel[m].camera.geometry\n",
    "                    #print(\"n_pixels = \", event_container[i].dl1.tel[m].parameters.morphology.n_pixels)\n",
    "                    title=f\"event_{i}_optEff{round(event_container[i].muon.tel[m].efficiency.optical_efficiency,3)}_width{round(event_container[i].muon.tel[m].efficiency.width.to_value(),3)}_triggercount{len(event_container[i].trigger.tel.keys())}\"\n",
    "                    #title=f\"CleanedRing_{i}_optEff{round(cleaned_event_container[i].muon.tel[m].efficiency.optical_efficiency,3)}_width{round(cleaned_event_container[i].muon.tel[m].efficiency.width.to_value(),3)}_triggeredTel{m}\"\n",
    "                    #title=f\"TrueImage for events tagged as muon ring by cleaning algorithm {i}\"\n",
    "                    #title = '1'\n",
    "                    disp = CameraDisplay(camgeom,title=title)\n",
    "                    disp.image = event_container[i].simulation.tel[m].true_image\n",
    "                    #disp.image = event_container[i].r1.tel[m].waveform.sum(axis=1)\n",
    "                    #disp.image = cleaned_event_container[i].simulation.tel[m].true_image\n",
    "                    disp.cmap = plt.cm.RdBu_r\n",
    "                    disp.add_colorbar()\n",
    "                    disp.set_limits_percent(95)\n",
    "                    \n",
    "                    #plt.savefig(f\"/Users/vdk/ImagePurgatorium/MuonsCleaned_intensitycut<0.3_event{i}.png\")\n",
    "                    opt_eff_cleaned.append(event_container[i].muon.tel[m].efficiency.optical_efficiency)\n",
    "                    events_opt_eff_cleaned.append(i)\n",
    "#                     for pix_id in range(0,1855):\n",
    "#                         plt.plot(event_container[i].r1.tel[m].waveform[pix_id], drawstyle='steps')\n",
    "\n",
    "#                     plt.plot(range(40), [1.2 for i in range(40)], color = 'black', lw = 4, label = 'treshold line')\n",
    "\n",
    "#                     plt.ylabel(\"Waveform amplitude\")\n",
    "#                     plt.xlabel(\"Time sample\")\n",
    "#                     plt.title(\"R1 Waveforms for contaminated muon ring\")\n",
    "#                     plt.legend()\n",
    "                    plt.show()\n",
    "plt.close()"
   ]
  },
  {
   "cell_type": "code",
   "execution_count": null,
   "id": "50",
   "metadata": {},
   "outputs": [],
   "source": [
    "#plt.ylim(-1,2)\n",
    "for pix_id in range(0,1855):\n",
    "    plt.plot(event_container[2414].r1.tel[1].waveform[pix_id], label=\"pix {}\".format(pix_id), drawstyle='steps')\n",
    "np.mean(event_container[2414].r1.tel[1].waveform)"
   ]
  },
  {
   "cell_type": "code",
   "execution_count": null,
   "id": "51",
   "metadata": {},
   "outputs": [],
   "source": [
    "for pix_id in range(0,1855):\n",
    "    plt.plot(event_container[2414].r1.tel[2].waveform[pix_id], label=\"pix {}\".format(pix_id), drawstyle='steps')\n",
    "np.mean(event_container[2414].r1.tel[2].waveform)"
   ]
  },
  {
   "cell_type": "code",
   "execution_count": null,
   "id": "52",
   "metadata": {},
   "outputs": [],
   "source": [
    "plt.ylim(-1,7)\n",
    "for pix_id in range(0,1855):\n",
    "    plt.plot(event_container[2414].r1.tel[3].waveform[pix_id], label=\"pix {}\".format(pix_id), drawstyle='steps')\n",
    "np.mean(event_container[2414].r1.tel[3].waveform)\n"
   ]
  },
  {
   "cell_type": "code",
   "execution_count": null,
   "id": "53",
   "metadata": {},
   "outputs": [],
   "source": [
    "histplot(np.mean(event_container[i].r1.tel[1].waveform, axis = 1), bins = 30)"
   ]
  },
  {
   "cell_type": "code",
   "execution_count": null,
   "id": "54",
   "metadata": {},
   "outputs": [],
   "source": [
    "event_container[2414].r1.tel[3].waveform[:,10].shape"
   ]
  },
  {
   "cell_type": "code",
   "execution_count": null,
   "id": "55",
   "metadata": {},
   "outputs": [],
   "source": [
    "test = np.where(event_container[2414].r1.tel[3].waveform > 3)\n",
    "print(\"shape = \", test[0].shape)\n",
    "print(test[0])"
   ]
  },
  {
   "cell_type": "code",
   "execution_count": null,
   "id": "56",
   "metadata": {},
   "outputs": [],
   "source": [
    "test = np.where(event_container[2414].r1.tel[3].waveform[:,10] > 1)\n",
    "test[0]"
   ]
  },
  {
   "cell_type": "code",
   "execution_count": null,
   "id": "57",
   "metadata": {},
   "outputs": [],
   "source": [
    "plt.ylim(-1,7)\n",
    "for pix_id in test[0]:\n",
    "    print(\"sum = \", event_container[2414].r1.tel[3].waveform[pix_id].sum(), \"mean = \", np.mean(event_container[2414].r1.tel[3].waveform[pix_id]))\n",
    "    \n",
    "    plt.plot(event_container[2414].r1.tel[3].waveform[pix_id], label=\"pix {}\".format(pix_id), drawstyle='steps')\n",
    "\n"
   ]
  },
  {
   "cell_type": "code",
   "execution_count": null,
   "id": "58",
   "metadata": {},
   "outputs": [],
   "source": [
    "event_container[2414].r1.tel[3].waveform"
   ]
  },
  {
   "cell_type": "code",
   "execution_count": null,
   "id": "59",
   "metadata": {},
   "outputs": [],
   "source": [
    "r0_waveforms = []\n",
    "dl1_npixels = []\n",
    "\n",
    "for i in event_container:\n",
    "    for tels in event_container[i].trigger.tels_with_trigger:\n",
    "        r0_waveforms.append(event_container[i].r1.tel[tels].waveform.sum(axis = 1))\n",
    "        dl1_npixels.append(event_container[i].dl1.tel[tels].parameters.morphology.n_pixels)\n",
    "\n",
    "    "
   ]
  },
  {
   "cell_type": "code",
   "execution_count": null,
   "id": "60",
   "metadata": {},
   "outputs": [],
   "source": [
    "for i in event_container[2414].trigger.tels_with_trigger:\n",
    "    print(i)"
   ]
  },
  {
   "cell_type": "code",
   "execution_count": null,
   "id": "61",
   "metadata": {},
   "outputs": [],
   "source": [
    "len(r0_waveforms[0])"
   ]
  },
  {
   "cell_type": "code",
   "execution_count": null,
   "id": "62",
   "metadata": {},
   "outputs": [],
   "source": [
    "len(event_container)"
   ]
  },
  {
   "cell_type": "code",
   "execution_count": null,
   "id": "63",
   "metadata": {},
   "outputs": [],
   "source": [
    "histplot(r0_waveforms)"
   ]
  },
  {
   "cell_type": "code",
   "execution_count": null,
   "id": "64",
   "metadata": {},
   "outputs": [],
   "source": [
    "for i in r0_waveforms:\n",
    "    histplot(i, bins = 30)"
   ]
  },
  {
   "cell_type": "code",
   "execution_count": null,
   "id": "65",
   "metadata": {},
   "outputs": [],
   "source": [
    "histplot(np.max(r0_waveforms, axis = 0), bins = 30)"
   ]
  },
  {
   "cell_type": "code",
   "execution_count": null,
   "id": "66",
   "metadata": {},
   "outputs": [],
   "source": [
    "np.max(r0_waveforms, axis = 0))"
   ]
  },
  {
   "cell_type": "code",
   "execution_count": null,
   "id": "67",
   "metadata": {},
   "outputs": [],
   "source": []
  },
  {
   "cell_type": "code",
   "execution_count": null,
   "id": "68",
   "metadata": {},
   "outputs": [],
   "source": [
    "dl1_npixels"
   ]
  },
  {
   "cell_type": "code",
   "execution_count": null,
   "id": "69",
   "metadata": {},
   "outputs": [],
   "source": [
    "for i,j in enumerate(r0_waveforms):\n",
    "    print(\"mean = \", np.mean(j), \" n_pixels = \", dl1_npixels[i])"
   ]
  },
  {
   "cell_type": "code",
   "execution_count": null,
   "id": "70",
   "metadata": {},
   "outputs": [],
   "source": [
    "x_range = range(len(r0_waveforms))\n",
    "for i,j in enumerate(r0_waveforms):\n",
    "    print(\"> 1 = \", len(np.where(j > 1.3)[0]), \" n_pixels = \", dl1_npixels[i])"
   ]
  },
  {
   "cell_type": "code",
   "execution_count": null,
   "id": "71",
   "metadata": {},
   "outputs": [],
   "source": [
    "plt.scatter(x_range, [len(np.where(j > 1.3)[0]) for j in r0_waveforms])\n",
    "plt.scatter(x_range, dl1_npixels)"
   ]
  },
  {
   "cell_type": "code",
   "execution_count": null,
   "id": "72",
   "metadata": {},
   "outputs": [],
   "source": [
    "event_container[2414].dl1.tel[3].parameters.morphology.n_pixels"
   ]
  },
  {
   "cell_type": "code",
   "execution_count": null,
   "id": "73",
   "metadata": {},
   "outputs": [],
   "source": [
    "histplot([len(np.where(j > 2)[0]) for j in r0_waveforms], bins = 15, stat = 'probability')\n",
    "histplot(dl1_npixels, bins = 15,  stat = 'probability')"
   ]
  },
  {
   "cell_type": "code",
   "execution_count": null,
   "id": "74",
   "metadata": {},
   "outputs": [],
   "source": [
    "event_container"
   ]
  },
  {
   "cell_type": "code",
   "execution_count": null,
   "id": "75",
   "metadata": {},
   "outputs": [],
   "source": [
    "mean_mean = []\n",
    "for i in event_container:\n",
    "    for tels in event_container[i].trigger.tels_with_trigger:\n",
    "        mean_mean.append(np.mean(np.mean(event_container[i].r1.tel[tels].waveform, axis =1)))\n",
    "        print(np.mean(np.mean(event_container[i].r1.tel[tels].waveform, axis =1)))"
   ]
  },
  {
   "cell_type": "code",
   "execution_count": null,
   "id": "76",
   "metadata": {},
   "outputs": [],
   "source": [
    "leng = np.array([len(event_container[i].trigger.tels_with_trigger) for i in event_container])\n",
    "length = leng.sum()\n",
    "plt.scatter(range(0,length),mean_mean)"
   ]
  },
  {
   "cell_type": "code",
   "execution_count": null,
   "id": "77",
   "metadata": {},
   "outputs": [],
   "source": [
    "len(event_container)"
   ]
  },
  {
   "cell_type": "code",
   "execution_count": null,
   "id": "78",
   "metadata": {},
   "outputs": [],
   "source": [
    "m = 1\n",
    "plt.figure(figsize = (9,6))\n",
    "camgeom = source.subarray.tel[m].camera.geometry\n",
    "#title=f\"Event_{i}_optEff{round(event_container[i].muon.tel[m].efficiency.optical_efficiency,3)}_width{round(event_container[i].muon.tel[m].efficiency.width.to_value(),3)}_triggercount{len(event_container[i].trigger.tel.keys())}\"\n",
    "#title=f\"CleanedRing_{i}_optEff{round(event_container[i].muon.tel[m].efficiency.optical_efficiency,3)}_width{round(event_container[i].muon.tel[m].efficiency.width.to_value(),3)}_triggeredTel{m}\"\n",
    "title = \"d\"\n",
    "disp = CameraDisplay(camgeom,title=title)\n",
    "disp.image = event_container[2414].simulation.tel[m].true_image\n",
    "#disp.image = event_container[i].r1.tel[m].waveform.sum(axis=1)\n",
    "disp.cmap = plt.cm.RdBu_r\n",
    "disp.add_colorbar()\n",
    "disp.set_limits_percent(95)\n",
    "plt.show()\n",
    "\n"
   ]
  },
  {
   "cell_type": "code",
   "execution_count": null,
   "id": "79",
   "metadata": {},
   "outputs": [],
   "source": [
    "event_container[2414].r1.tel[1].waveform.sum()"
   ]
  },
  {
   "cell_type": "code",
   "execution_count": null,
   "id": "80",
   "metadata": {},
   "outputs": [],
   "source": [
    "event_container[2414].r1.tel[2].waveform.sum()"
   ]
  },
  {
   "cell_type": "code",
   "execution_count": null,
   "id": "81",
   "metadata": {},
   "outputs": [],
   "source": [
    "event_container[2414].r1.tel[3].waveform.sum()"
   ]
  },
  {
   "cell_type": "code",
   "execution_count": null,
   "id": "82",
   "metadata": {},
   "outputs": [],
   "source": [
    "wave_sum = []\n",
    "dl_pix = []\n",
    "for i in event_container:\n",
    "    for tels in event_container[i].trigger.tels_with_trigger:\n",
    "        wave_sum.append(event_container[i].r1.tel[tels].waveform.sum())\n",
    "        dl_pix.append(event_container[i].dl1.tel[tels].parameters.morphology.n_pixels)\n",
    "        print(\" wave = \", event_container[i].r1.tel[tels].waveform.sum(), \" pix = \", event_container[i].dl1.tel[tels].parameters.morphology.n_pixels)\n",
    "        \n",
    "wave_sum = np.array(wave_sum)\n",
    "dl_pix = np.array(dl_pix)"
   ]
  },
  {
   "cell_type": "code",
   "execution_count": null,
   "id": "83",
   "metadata": {},
   "outputs": [],
   "source": [
    "plt.scatter([i for i in range(len(dl_pix))], wave_sum)\n"
   ]
  },
  {
   "cell_type": "code",
   "execution_count": null,
   "id": "84",
   "metadata": {},
   "outputs": [],
   "source": [
    "plt.scatter([i for i in range(len(dl_pix))], dl_pix)"
   ]
  },
  {
   "cell_type": "code",
   "execution_count": null,
   "id": "85",
   "metadata": {},
   "outputs": [],
   "source": [
    "np.where(dl_pix > 50)"
   ]
  },
  {
   "cell_type": "code",
   "execution_count": null,
   "id": "86",
   "metadata": {},
   "outputs": [],
   "source": [
    "min(wave_sum[np.where(dl_pix > 50)])"
   ]
  },
  {
   "cell_type": "code",
   "execution_count": null,
   "id": "87",
   "metadata": {},
   "outputs": [],
   "source": [
    "wave_sum[np.where(dl_pix > 30)]"
   ]
  },
  {
   "cell_type": "code",
   "execution_count": null,
   "id": "88",
   "metadata": {},
   "outputs": [],
   "source": [
    "for tel_id in j"
   ]
  },
  {
   "cell_type": "code",
   "execution_count": null,
   "id": "89",
   "metadata": {},
   "outputs": [],
   "source": [
    "filename = f'/Users/vdk/sim_run_folder/output_prod_v12/corsika_theta_28.4_az_182.75_run{k}.simtel.gz'\n",
    "source = EventSource(filename, max_events=9000)\n",
    "event_iterator = iter(source)"
   ]
  },
  {
   "cell_type": "code",
   "execution_count": null,
   "id": "90",
   "metadata": {},
   "outputs": [],
   "source": [
    "eventik = next(event_iterator)"
   ]
  },
  {
   "cell_type": "code",
   "execution_count": null,
   "id": "91",
   "metadata": {},
   "outputs": [],
   "source": [
    "for i in event_container[2414].r1.tel.keys():\n",
    "    event_container[2414]"
   ]
  },
  {
   "cell_type": "code",
   "execution_count": null,
   "id": "92",
   "metadata": {},
   "outputs": [],
   "source": []
  }
 ],
 "metadata": {
  "kernelspec": {
   "display_name": "cta",
   "language": "python",
   "name": "cta"
  },
  "language_info": {
   "codemirror_mode": {
    "name": "ipython",
    "version": 3
   },
   "file_extension": ".py",
   "mimetype": "text/x-python",
   "name": "python",
   "nbconvert_exporter": "python",
   "pygments_lexer": "ipython3",
   "version": "3.11.3"
  }
 },
 "nbformat": 4,
 "nbformat_minor": 5
}
