{
 "cells": [
  {
   "cell_type": "code",
   "execution_count": null,
   "id": "0",
   "metadata": {},
   "outputs": [],
   "source": [
    "import sys\n",
    "sys.path.append('/Users/vdk/GeneveWork/Code/calibpipe-main-calibpipe/')\n",
    "from astropy.io import ascii\n",
    "import numpy as np\n",
    "import pandas as pd\n",
    "import matplotlib\n",
    "import csv\n",
    "import scipy\n",
    "import matplotlib.pyplot as plt\n",
    "from seaborn import histplot\n",
    "import random\n",
    "import copy\n",
    "from os import path, makedirs\n",
    "from astropy.coordinates import SkyCoord\n",
    "from astropy.table import Table\n",
    "import astropy.units as u\n",
    "from ctapipe.containers import MuonEfficiencyContainer\n",
    "from ctapipe.coordinates import CameraFrame, TelescopeFrame\n",
    "from ctapipe.io import EventSource, EventSeeker\n",
    "from ctapipe.core import TelescopeComponent\n",
    "from ctapipe.core.traits import (\n",
    "    List,\n",
    "    Int,\n",
    "    FloatTelescopeParameter,\n",
    "    TelescopeParameter,\n",
    "    Unicode,\n",
    ")\n",
    "from ctapipe.image.cleaning import tailcuts_clean\n",
    "from ctapipe.image.muon import MuonRingFitter, MuonIntensityFitter\n",
    "from traitlets.config import Config\n",
    "from ctapipe.image import ImageProcessor\n",
    "from ctapipe.image.muon import MuonProcessor\n",
    "from ctapipe.visualization import CameraDisplay\n",
    "from ctapipe.instrument import CameraGeometry\n",
    "from ctapipe.calib import CameraCalibrator\n",
    "from traitlets.config.loader import Config, FileConfigLoader, JSONFileConfigLoader\n",
    "import pathlib\n",
    "from calibpipe.throughput import MuonCalibrator\n",
    "from traitlets.config import Config\n",
    "from astropy.time import Time\n",
    "from astropy.coordinates import EarthLocation,SkyCoord, AltAz \n",
    "from traitlets.config import Config\n",
    "\n",
    "\n"
   ]
  },
  {
   "cell_type": "code",
   "execution_count": null,
   "id": "1",
   "metadata": {},
   "outputs": [],
   "source": [
    "filename = '/Users/vdk/sim_run_folder/output_prod_v12/corsika_theta_28.4_az_182.75_run1.simtel.gz'\n",
    "source = EventSource(filename, max_events=9000)\n",
    "event_iterator = iter(source)"
   ]
  },
  {
   "cell_type": "code",
   "execution_count": null,
   "id": "2",
   "metadata": {},
   "outputs": [],
   "source": [
    "source.subarray.peek()"
   ]
  },
  {
   "cell_type": "code",
   "execution_count": null,
   "id": "3",
   "metadata": {},
   "outputs": [],
   "source": [
    "print(source.subarray.tel)"
   ]
  },
  {
   "cell_type": "code",
   "execution_count": null,
   "id": "4",
   "metadata": {},
   "outputs": [],
   "source": [
    "#filename = '/Users/vdk/MST_work/data_muons/mono_proton_simtel/proton_20deg_0deg_run2___cta-prod6-paranal-2147m-Paranal-nshow-3000-0-LSTs-1-MSTs-0-SSTs-NSCAT_5_CSCAT_300_EMIN_1_EMAX_200_after_muontag.simtel.zst'\n",
    "#filename = '/Users/vdk/MST_work/data_muons/mono_muon_simtel/muon_20deg_0deg_run0___cta-prod6-paranal-2147m-Paranal-0-LSTs-1-MSTs-0-SSTs-NSCAT_1_CSCAT_8_EMIN_0.005_EMAX_1_FIXCHI_600_VIEWCONE_3_after_muontag.simtel.zst'\n",
    "#filename = '/Users/vdk/sim_run_folder/test321.simtel.gz'\n",
    "source = EventSource(filename, max_events=9000)\n",
    "event_iterator = iter(source)\n",
    "\n",
    "\n",
    "\n",
    "for i,j in enumerate(event_iterator):\n",
    "    if i == 1:\n",
    "        telescope = 1\n",
    "        event = j\n",
    "        image_processor = ImageProcessor(source.subarray)\n",
    "        muon_processor = MuonProcessor(source.subarray)\n",
    "        calib = CameraCalibrator(\n",
    "                image_extractor_type=\"GlobalPeakWindowSum\",\n",
    "                subarray = source.subarray)\n",
    "        calib(j)\n",
    "        image_processor(j)\n",
    "        muon_processor(j)\n",
    "        fig, axes = plt.subplots(2, 1, sharex=False, gridspec_kw={'height_ratios': [1, 1]}, figsize=(9,12))\n",
    "        fig.subplots_adjust(hspace=0.2)\n",
    "        ax = axes[0]\n",
    "        camgeom = source.subarray.tel[telescope].camera.geometry\n",
    "        title=\"TrueImage run {} if {} fit {} width {}\".format(j.index.obs_id, j.index.event_id, round(j.muon.tel[telescope].efficiency.optical_efficiency, 3), round(j.muon.tel[telescope].efficiency.width.to_value(),3))\n",
    "        disp = CameraDisplay(camgeom,title=title, ax = ax)\n",
    "        disp.image = j.simulation.tel[telescope].true_image #.sum(axis=1)\n",
    "        #disp.image = event.dl1.tel[1].image\n",
    "        disp.cmap = plt.cm.RdBu_r\n",
    "        disp.add_colorbar()\n",
    "        disp.set_limits_percent(95)\n",
    "        bx = axes[1]\n",
    "        for pix_id in range(0,1764):\n",
    "            bx.plot(j.r0.tel[telescope].waveform[0][pix_id], label=\"pix {}\".format(pix_id), drawstyle='steps')\n",
    "        bx.set_ylabel(\"ADC counts\")\n",
    "        bx.set_xlabel(\"Samples\")\n",
    "        bx.set_title(\"Waveforms\")\n",
    "        plt.show()\n",
    "        #plt.savefig(f\"/Users/vdk/MST_ProtonImages_NewQualityCheck/TrueImage+Waveform_mstPROTON_event{j.index.event_id}_obs{j.index.obs_id}_numer{i}\")\n",
    "        #plt.savefig(f\"/Users/vdk/TrueImage+Waveform_mstMUON_event{j.index.event_id}_obs{j.index.obs_id}\")\n",
    "        break\n",
    "        #if i == 150:\n",
    "        #    break\n",
    "\n",
    "plt.close()"
   ]
  },
  {
   "cell_type": "code",
   "execution_count": null,
   "id": "5",
   "metadata": {},
   "outputs": [],
   "source": [
    "filename = '/Users/vdk/sim_run_folder/output_prod_v12/corsika_theta_28.4_az_182.75_run1.simtel.gz'\n",
    "source = EventSource(filename, max_events=9000)\n",
    "event_iterator = iter(source)\n",
    "for i,j in enumerate(event_iterator):\n",
    "    print(i, j.trigger.tels_with_trigger)\n",
    "    "
   ]
  },
  {
   "cell_type": "code",
   "execution_count": null,
   "id": "6",
   "metadata": {},
   "outputs": [],
   "source": [
    "filename = '/Users/vdk/sim_run_folder/output_prod_v12/corsika_theta_28.4_az_182.75_run1.simtel.gz'\n",
    "source = EventSource(filename, max_events=9000)\n",
    "event_iterator = iter(source)"
   ]
  },
  {
   "cell_type": "code",
   "execution_count": null,
   "id": "7",
   "metadata": {},
   "outputs": [],
   "source": [
    "event = next(event_iterator)"
   ]
  },
  {
   "cell_type": "code",
   "execution_count": null,
   "id": "8",
   "metadata": {},
   "outputs": [],
   "source": [
    "for i in range(len(event.trigger.tels_with_trigger)):\n",
    "    print(event.trigger.tels_with_trigger[i])\n",
    "\n",
    "\n"
   ]
  },
  {
   "cell_type": "code",
   "execution_count": null,
   "id": "9",
   "metadata": {},
   "outputs": [],
   "source": [
    "camgeom = source.subarray.tel[1].camera.geometry"
   ]
  },
  {
   "cell_type": "code",
   "execution_count": null,
   "id": "10",
   "metadata": {},
   "outputs": [],
   "source": [
    "disp = CameraDisplay(camgeom)\n",
    "disp.image = next(event_iterator).simulation.tel[3].true_image"
   ]
  },
  {
   "cell_type": "code",
   "execution_count": null,
   "id": "11",
   "metadata": {},
   "outputs": [],
   "source": [
    "event = next(event_iterator)"
   ]
  },
  {
   "cell_type": "code",
   "execution_count": null,
   "id": "12",
   "metadata": {},
   "outputs": [],
   "source": [
    "print(len(event.simulation.tel[10].true_image))"
   ]
  },
  {
   "cell_type": "code",
   "execution_count": null,
   "id": "13",
   "metadata": {},
   "outputs": [],
   "source": [
    "filename = '/Users/vdk/sim_run_folder/output_prod_v12/corsika_theta_28.4_az_182.75_run1.simtel.gz'\n",
    "source = EventSource(filename, max_events=10000)\n",
    "event_iterator = iter(source)\n",
    "\n",
    "events = [copy.deepcopy(event) for event in source]\n",
    "\n",
    "\n",
    "for i,j in enumerate(event_iterator):\n",
    "    print(f\"Telescope with data: {event.r1.tel.keys()} in the events number {i}\")"
   ]
  },
  {
   "cell_type": "code",
   "execution_count": null,
   "id": "14",
   "metadata": {},
   "outputs": [],
   "source": [
    "obstime = Time(\"2013-11-01T03:00\")\n",
    "location = EarthLocation.of_site(\"Roque de los Muchachos\")\n",
    "\n",
    "altaz = AltAz(location=location, obstime=obstime)\n",
    "\n",
    "array_pointing = SkyCoord(\n",
    "    alt=event.pointing.array_azimuth,\n",
    "    az=event.pointing.array_altitude,\n",
    "    frame=altaz,\n",
    ")\n",
    "\n",
    "print(array_pointing)"
   ]
  },
  {
   "cell_type": "code",
   "execution_count": null,
   "id": "15",
   "metadata": {},
   "outputs": [],
   "source": [
    "filename = '/Users/vdk/sim_run_folder/corsika_theta_28.4_az_182.75_run2.simtel.gz'\n",
    "source = EventSource(filename, max_events=10000)\n",
    "event_iterator = iter(source)\n",
    "\n",
    "events = [copy.deepcopy(event) for event in source]\n",
    "events[4]"
   ]
  },
  {
   "cell_type": "code",
   "execution_count": null,
   "id": "16",
   "metadata": {},
   "outputs": [],
   "source": [
    "events[12].trigger.tel[3]"
   ]
  },
  {
   "cell_type": "code",
   "execution_count": null,
   "id": "17",
   "metadata": {},
   "outputs": [],
   "source": [
    "stereo_mask = []\n",
    "for i in events:\n",
    "    check_LST1 = 1 in i.trigger.tels_with_trigger\n",
    "    check_LST2 = 2 in i.trigger.tels_with_trigger\n",
    "    if check_LST1 and check_LST2:\n",
    "        stereo_mask.append(True)\n",
    "        print(True)\n",
    "    else:\n",
    "        stereo_mask.append(False)        \n",
    "        print(False)"
   ]
  },
  {
   "cell_type": "code",
   "execution_count": null,
   "id": "18",
   "metadata": {},
   "outputs": [],
   "source": [
    "stereo_events = []\n",
    "for i,j in enumerate(events):\n",
    "    if stereo_mask[i]:\n",
    "        stereo_events.append(j)\n",
    "        print(j.trigger.tels_with_trigger)\n"
   ]
  },
  {
   "cell_type": "code",
   "execution_count": null,
   "id": "19",
   "metadata": {},
   "outputs": [],
   "source": [
    "#for i in stereo_events:\n",
    "    #print(i.trigger.tels_with_trigger)\n",
    "len(stereo_events)"
   ]
  },
  {
   "cell_type": "code",
   "execution_count": null,
   "id": "20",
   "metadata": {},
   "outputs": [],
   "source": [
    "source.subarray.peek()"
   ]
  },
  {
   "cell_type": "code",
   "execution_count": null,
   "id": "21",
   "metadata": {},
   "outputs": [],
   "source": [
    "telescope = 1\n",
    "camgeom = source.subarray.tel[telescope].camera.geometry\n",
    "disp = CameraDisplay(camgeom)\n",
    "disp.image = events[12].simulation.tel[telescope].true_image #.sum(axis=1)\n",
    "disp.cmap = plt.cm.RdBu_r\n",
    "disp.add_colorbar()"
   ]
  },
  {
   "cell_type": "code",
   "execution_count": null,
   "id": "22",
   "metadata": {},
   "outputs": [],
   "source": [
    "telescope = 3\n",
    "camgeom = source.subarray.tel[telescope].camera.geometry\n",
    "disp = CameraDisplay(camgeom)\n",
    "disp.image = events[6].simulation.tel[telescope].true_image #.sum(axis=1)\n",
    "disp.cmap = plt.cm.RdBu_r\n",
    "disp.add_colorbar()"
   ]
  },
  {
   "cell_type": "code",
   "execution_count": null,
   "id": "23",
   "metadata": {},
   "outputs": [],
   "source": [
    "stereo_events[2].trigger.tels_with_trigger"
   ]
  },
  {
   "cell_type": "code",
   "execution_count": null,
   "id": "24",
   "metadata": {},
   "outputs": [],
   "source": [
    "filename = '/Users/vdk/sim_run_folder/test123.simtel.gz'\n",
    "source = EventSource(filename, max_events=10000)\n",
    "event_iterator = iter(source)\n",
    "\n",
    "for i,j in enumerate(event_iterator):\n",
    "        telescope = 1\n",
    "        event = j\n",
    "        fig, axes = plt.subplots(2, 1, sharex=False, gridspec_kw={'height_ratios': [1, 1]}, figsize=(9,12))\n",
    "        fig.subplots_adjust(hspace=0.2)\n",
    "        ax = axes[0]\n",
    "        camgeom = source.subarray.tel[1].camera.geometry\n",
    "        title=\"TrueImage stereo trigger LST1\".format(j.index.obs_id, j.index.event_id, round(j.muon.tel[telescope].efficiency.optical_efficiency, 3), round(j.muon.tel[telescope].efficiency.width.to_value(),3))\n",
    "        disp = CameraDisplay(camgeom,title=title, ax = ax)\n",
    "        disp.image = j.simulation.tel[telescope].true_image #.sum(axis=1)\n",
    "        #disp.image = event.dl1.tel[1].image\n",
    "        disp.cmap = plt.cm.RdBu_r\n",
    "        disp.add_colorbar()\n",
    "        disp.set_limits_percent(95)\n",
    "        bx = axes[1]\n",
    "        camgeom = source.subarray.tel[1].camera.geometry\n",
    "        title=\"TrueImage stereo trigger LST1\".format(j.index.obs_id, j.index.event_id, round(j.muon.tel[telescope].efficiency.optical_efficiency, 3), round(j.muon.tel[telescope].efficiency.width.to_value(),3))\n",
    "        disp = CameraDisplay(camgeom,title=title, ax = bx)\n",
    "        disp.image = j.simulation.tel[2].true_image #.sum(axis=1)\n",
    "        #disp.image = event.dl1.tel[1].image\n",
    "        disp.cmap = plt.cm.RdBu_r\n",
    "        disp.add_colorbar()\n",
    "        disp.set_limits_percent(95)\n",
    "        #bx.set_ylabel(\"ADC counts\")\n",
    "        #bx.set_xlabel(\"\")\n",
    "        bx.set_title(\"LST2\")\n",
    "        #plt.show()\n",
    "        plt.savefig(f\"/Users/vdk/StereoProton_event{j.index.event_id}_obs{j.index.obs_id}_numer{i}\")\n",
    "        #plt.savefig(f\"/Users/vdk/TrueImage+Waveform_mstMUON_event{j.index.event_id}_obs{j.index.obs_id}\")\n",
    "        #if i == 150:\n",
    "        #    break\n",
    "\n",
    "plt.close()"
   ]
  },
  {
   "cell_type": "code",
   "execution_count": null,
   "id": "25",
   "metadata": {},
   "outputs": [],
   "source": [
    "# pipeline to extract only stereo trigger for 2 LSTs\n",
    "filename = '/Users/vdk/sim_run_folder/run1_nt2_mt2_at1.simtel.gz'\n",
    "source = EventSource(filename, max_events=10000)\n",
    "event_iterator = iter(source)\n",
    "\n",
    "events = [copy.deepcopy(event) for event in source]\n",
    "\n",
    "stereo_mask = []\n",
    "for i in events:\n",
    "    check_LST1 = 1 in i.trigger.tels_with_trigger\n",
    "    check_LST2 = 2 in i.trigger.tels_with_trigger\n",
    "    if check_LST1 and check_LST2:\n",
    "        stereo_mask.append(True)\n",
    "        #print(True)\n",
    "    else:\n",
    "        stereo_mask.append(False)        \n",
    "        #print(False)\n",
    "\n",
    "stereo_events = []\n",
    "for i,j in enumerate(events):\n",
    "    if stereo_mask[i]:\n",
    "        stereo_events.append(j)\n",
    "        #print(j.trigger.tels_with_trigger)\n",
    "\n",
    "print(\"events = \", len(events))\n",
    "print(\"stereo events = \", len(stereo_events))\n",
    "source.subarray.peek()"
   ]
  },
  {
   "cell_type": "code",
   "execution_count": null,
   "id": "26",
   "metadata": {},
   "outputs": [],
   "source": [
    "for i,j in enumerate(stereo_events):\n",
    "        telescope = 1\n",
    "        event = j\n",
    "        fig, axes = plt.subplots(2, 1, sharex=False, gridspec_kw={'height_ratios': [1, 1]}, figsize=(9,12))\n",
    "        fig.subplots_adjust(hspace=0.2)\n",
    "        ax = axes[0]\n",
    "        camgeom = source.subarray.tel[1].camera.geometry\n",
    "        title=\"TrueImage stereo trigger LST1\".format(j.index.obs_id, j.index.event_id, round(j.muon.tel[telescope].efficiency.optical_efficiency, 3), round(j.muon.tel[telescope].efficiency.width.to_value(),3))\n",
    "        disp = CameraDisplay(camgeom,title=title, ax = ax)\n",
    "        disp.image = j.simulation.tel[telescope].true_image #.sum(axis=1)\n",
    "        #disp.image = event.dl1.tel[1].image\n",
    "        disp.cmap = plt.cm.RdBu_r\n",
    "        disp.add_colorbar()\n",
    "        disp.set_limits_percent(95)\n",
    "        bx = axes[1]\n",
    "        camgeom = source.subarray.tel[1].camera.geometry\n",
    "        title=\"TrueImage stereo trigger LST1\".format(j.index.obs_id, j.index.event_id, round(j.muon.tel[telescope].efficiency.optical_efficiency, 3), round(j.muon.tel[telescope].efficiency.width.to_value(),3))\n",
    "        disp = CameraDisplay(camgeom,title=title, ax = bx)\n",
    "        disp.image = j.simulation.tel[2].true_image #.sum(axis=1)\n",
    "        #disp.image = event.dl1.tel[1].image\n",
    "        disp.cmap = plt.cm.RdBu_r\n",
    "        disp.add_colorbar()\n",
    "        disp.set_limits_percent(95)\n",
    "        #bx.set_ylabel(\"ADC counts\")\n",
    "        #bx.set_xlabel(\"\")\n",
    "        bx.set_title(\"LST2\")\n",
    "        #plt.show()\n",
    "        plt.savefig(f\"/Users/vdk/StereoProtonNT2MT2_AT1_event{j.index.event_id}_obs{j.index.obs_id}_numer{i}\")\n",
    "        #plt.savefig(f\"/Users/vdk/TrueImage+Waveform_mstMUON_event{j.index.event_id}_obs{j.index.obs_id}\")\n",
    "        #if i == 150:\n",
    "        #    break\n",
    "\n",
    "plt.close()"
   ]
  },
  {
   "cell_type": "code",
   "execution_count": null,
   "id": "27",
   "metadata": {},
   "outputs": [],
   "source": [
    "for i in stereo_events:\n",
    "    print(i.trigger.tels_with_trigger)"
   ]
  },
  {
   "cell_type": "code",
   "execution_count": null,
   "id": "28",
   "metadata": {},
   "outputs": [],
   "source": [
    "source.subarray.tels"
   ]
  },
  {
   "cell_type": "code",
   "execution_count": null,
   "id": "29",
   "metadata": {},
   "outputs": [],
   "source": [
    "# pipeline to extract only stereo trigger for 2 LSTs\n",
    "all_events = []\n",
    "for i in range(1,41):\n",
    "    filename = f'/Users/vdk/sim_run_folder/numtele2_maxtele2_arraytelescope1/corsika_theta_28.4_az_182.75_run{i}.simtel.gz'\n",
    "    source = EventSource(filename, max_events=10000)\n",
    "    events = [copy.deepcopy(event) for event in source]\n",
    "    all_events.append(events)\n",
    "\n",
    "#stereo_mask = []\n",
    "#for i in events:\n",
    "#    check_LST1 = 1 in i.trigger.tels_with_trigger\n",
    "#    check_LST2 = 2 in i.trigger.tels_with_trigger\n",
    "#    if check_LST1 and check_LST2:\n",
    "#        stereo_mask.append(True)\n",
    "#        #print(True)\n",
    "#    else:\n",
    "#        stereo_mask.append(False)        \n",
    "#        #print(False)\n",
    "\n",
    "#stereo_events = []\n",
    "#for i,j in enumerate(events):\n",
    "#    if stereo_mask[i]:\n",
    "#        stereo_events.append(j)\n",
    "#        #print(j.trigger.tels_with_trigger)\n",
    "\n",
    "#print(\"events = \", len(events))\n",
    "#print(\"stereo events = \", len(stereo_events))\n",
    "#source.subarray.peek()\n",
    "\n"
   ]
  },
  {
   "cell_type": "code",
   "execution_count": null,
   "id": "30",
   "metadata": {},
   "outputs": [],
   "source": [
    "full_stereo_events = []\n",
    "count = 0\n",
    "for j in range(1,40):\n",
    "    for i in all_events[j]:\n",
    "        count += 1\n",
    "        if len(i.trigger.tels_with_trigger) > 1:\n",
    "            full_stereo_events.append(i)"
   ]
  },
  {
   "cell_type": "code",
   "execution_count": null,
   "id": "31",
   "metadata": {},
   "outputs": [],
   "source": [
    "len(full_stereo_events)"
   ]
  },
  {
   "cell_type": "code",
   "execution_count": null,
   "id": "32",
   "metadata": {},
   "outputs": [],
   "source": [
    "count"
   ]
  },
  {
   "cell_type": "code",
   "execution_count": null,
   "id": "33",
   "metadata": {},
   "outputs": [],
   "source": []
  },
  {
   "cell_type": "code",
   "execution_count": null,
   "id": "34",
   "metadata": {},
   "outputs": [],
   "source": [
    "###\n",
    "# Algorithm to process events and try to calibrate them\n",
    "###\n",
    "int_cut = 0.3\n",
    "min_pixel = 150\n",
    "\n",
    "muon_processor_config = Config({\"MuonProcessor\": \n",
    "                                {\"RingQuery\": \n",
    "                                 {\"quality_criteria\" : [[\"intensity_check\",f\"np.abs(parameters.intensity_ratio - 1) < {int_cut}\"],\n",
    "                                                        [\"ring_containment\", \"parameters.containment > 0.5\"],\n",
    "                                                        [\"ring_completeness\", \"parameters.completeness > 0.5\"]]}}})\n",
    "\n",
    "#muon_processor_config = Config({\"MuonProcessor\":\n",
    "#                                {\"ImageParameterQuery\" :\n",
    "#                                {\"quality_criteria\" : [[\"min_pixels\", f\"dl1_params.morphology.n_pixels > {min_pixel}\"],\n",
    "#                                                        [\"min_intensity\", \"dl1_params.hillas.intensity > 500\"]]}}})\n",
    "\n",
    "muon_processor_config_2 = Config({\"MuonProcessor\":\n",
    "                                {\"ImageParameterQuery\" :\n",
    "                                 {\"quality_criteria\" : [[\"min_pixels\", f\"dl1_params.morphology.n_pixels > {min_pixel}\"],\n",
    "                                                        [\"min_intensity\", \"dl1_params.hillas.intensity > 500\"]]}}})\n",
    "\n",
    "checker = 0\n",
    "event_container = {}\n",
    "for k in range(1,41):\n",
    "    filename = f'/Users/vdk/sim_run_folder/output_prod_v12/corsika_theta_28.4_az_182.75_run{k}.simtel.gz'\n",
    "    source = EventSource(filename, max_events=9000)\n",
    "    event_iterator = iter(source)\n",
    "    keks = k*1000\n",
    "    for i,j in enumerate(event_iterator):\n",
    "        checker += 1\n",
    "        if len(j.trigger.tels_with_trigger) > 1:            \n",
    "            image_processor = ImageProcessor(source.subarray)\n",
    "            muon_processor = MuonProcessor(source.subarray, config = muon_processor_config_2)\n",
    "            #muon_processor = MuonProcessor(source.subarray)\n",
    "            calib = CameraCalibrator(\n",
    "                image_extractor_type=\"GlobalPeakWindowSum\",\n",
    "                subarray = source.subarray)\n",
    "            calib(j)\n",
    "            image_processor(j)\n",
    "            muon_processor(j)\n",
    "            for m in j.muon.tel.keys():\n",
    "                if not np.isnan(j.muon.tel[m].efficiency.width):\n",
    "                    event_container[keks+i] = j\n",
    "        \n",
    "        \n",
    "            \n",
    "            \n",
    "        "
   ]
  },
  {
   "cell_type": "code",
   "execution_count": null,
   "id": "35",
   "metadata": {},
   "outputs": [],
   "source": [
    "### NEW CLEANING NEW CLEANING NEW CLEANING\n",
    "####\n",
    "###\n",
    "###\n",
    "# Algorithm to process events and calibrate with new cleaning algo\n",
    "###\n",
    "int_cut = 0.2\n",
    "min_pixel = 250\n",
    "\n",
    "muon_processor_config = Config({\"MuonProcessor\": \n",
    "                                {\"RingQuery\": \n",
    "                                 {\"quality_criteria\" : [[\"intensity_check\",f\"np.abs(parameters.intensity_ratio - 1) < {int_cut}\"],\n",
    "                                                        [\"ring_containment\", \"parameters.containment > 0.5\"],\n",
    "                                                        [\"ring_completeness\", \"parameters.completeness > 0.5\"]]}}})\n",
    "\n",
    "#muon_processor_config = Config({\"MuonProcessor\":\n",
    "#                                {\"ImageParameterQuery\" :\n",
    "#                                {\"quality_criteria\" : [[\"min_pixels\", f\"dl1_params.morphology.n_pixels > {min_pixel}\"],\n",
    "#                                                        [\"min_intensity\", \"dl1_params.hillas.intensity > 500\"]]}}})\n",
    "\n",
    "muon_processor_config_2 = Config({\"MuonProcessor\":\n",
    "                                {\"ImageParameterQuery\" :\n",
    "                                 {\"quality_criteria\" : [[\"min_pixels\", f\"dl1_params.morphology.n_pixels > {min_pixel}\"],\n",
    "                                                        [\"min_intensity\", \"dl1_params.hillas.intensity > 500\"]]}}})\n",
    "\n",
    "checker = 0\n",
    "event_container = {}\n",
    "for k in range(1,41):\n",
    "    filename = f'/Users/vdk/sim_run_folder/output_prod_v12/corsika_theta_28.4_az_182.75_run{k}.simtel.gz'\n",
    "    source = EventSource(filename, max_events=9000)\n",
    "    event_iterator = iter(source)\n",
    "    keks = k*1000\n",
    "    for i,j in enumerate(event_iterator):\n",
    "        checker += 1\n",
    "        if len(j.trigger.tels_with_trigger) > 1: \n",
    "            event = j\n",
    "            image_processor = ImageProcessor(source.subarray)\n",
    "            muon_processor = MuonProcessor(source.subarray, config = muon_processor_config)\n",
    "            for k,l in enumerate(event.r0.tel[tel_number].waveform[1]):\n",
    "                if np.argmax(l) in [13,14,15]: \n",
    "                    pixel_mask.append(True)\n",
    "                else:\n",
    "                    pixel_mask.append(False)\n",
    "            working_wave = event.r1.tel[tel_number].waveform.copy()\n",
    "            for k,l in enumerate(working_wave):\n",
    "                if not pixel_mask[k]:\n",
    "                working_wave[k] = np.zeros(40)     \n",
    "                #working_wave[k] = np.min(event.r1.tel[tel_number].waveform, axis = 0)\n",
    "            working_waves.append(working_wave)            \n",
    "            event.r1.tel[tel_numbers[i]].waveform = working_waves[i]\n",
    "            image_processor = ImageProcessor(source.subarray)\n",
    "            muon_processor = MuonProcessor(source.subarray)\n",
    "            calib = CameraCalibrator(image_extractor_type=\"GlobalPeakWindowSum\",subarray = source.subarray)\n",
    "            calib(event)\n",
    "            image_processor(event)\n",
    "            muon_processor(event)\n",
    "            for m in j.muon.tel.keys():\n",
    "                if not np.isnan(j.muon.tel[m].efficiency.width):\n",
    "                    event_container[keks+i] = j\n",
    "        \n",
    "        \n",
    "            \n",
    "            \n",
    "        \n"
   ]
  },
  {
   "cell_type": "code",
   "execution_count": null,
   "id": "36",
   "metadata": {},
   "outputs": [],
   "source": [
    "print(\"fitted events - \", len(event_container))\n",
    "print(\"overall dataset - \", checker)"
   ]
  },
  {
   "cell_type": "code",
   "execution_count": null,
   "id": "37",
   "metadata": {},
   "outputs": [],
   "source": [
    "print(len(event_container))"
   ]
  },
  {
   "cell_type": "code",
   "execution_count": null,
   "id": "38",
   "metadata": {},
   "outputs": [],
   "source": [
    "for i in event_container:\n",
    "    for m in event_container[i].trigger.tel.keys():\n",
    "        print(\"m\", m)\n",
    "        print(event_container[i].index.event_id, \"= \", event_container[i].muon.tel[m].efficiency.optical_efficiency)"
   ]
  },
  {
   "cell_type": "code",
   "execution_count": null,
   "id": "39",
   "metadata": {},
   "outputs": [],
   "source": [
    "len(event_container)"
   ]
  },
  {
   "cell_type": "code",
   "execution_count": null,
   "id": "40",
   "metadata": {},
   "outputs": [],
   "source": [
    "optical_coef = []"
   ]
  },
  {
   "cell_type": "code",
   "execution_count": null,
   "id": "41",
   "metadata": {},
   "outputs": [],
   "source": [
    "optical_coef = []\n",
    "for i in event_container:\n",
    "    for m in event_container[i].trigger.tel.keys():\n",
    "        #print(np.isnan(event_container[i].muon.tel[m].efficiency.optical_efficiency))\n",
    "        if not np.isnan(event_container[i].muon.tel[m].efficiency.optical_efficiency):\n",
    "            optical_coef.append(event_container[i].muon.tel[m].efficiency.optical_efficiency)\n",
    "\n",
    "print(np.mean(optical_coef))\n",
    "print(np.std(optical_coef))\n",
    "print(np.std(optical_coef)/np.mean(optical_coef))\n",
    "print(len(optical_coef))\n",
    "#optical_coef = optical_coef[0:31]"
   ]
  },
  {
   "cell_type": "code",
   "execution_count": null,
   "id": "42",
   "metadata": {},
   "outputs": [],
   "source": [
    "x_range = [i for i in range(len(optical_coef))]\n",
    "#std_arr = [np.std(optical_coef)/np.mean(optical_coef) for i,j in enumerate(optical_coef)]\n",
    "std_arr = [np.std(optical_coef) for i,j in enumerate(optical_coef)]\n",
    "#std_arr = [np.std(opt_eff) for i,j in enumerate(opt_eff)]\n",
    "plt.xlabel(\"Event\")\n",
    "#plt.ylabel(\"Optical eff with rel. error for 1 measurment\")\n",
    "plt.ylabel(\"Optical eff with std for 1 measurment\")\n",
    "plt.title(\"Opt eff for muon rings without performing additional cleaning\")\n",
    "plt.grid(alpha=0.5)\n",
    "#plt.ylim(0,0.4)\n",
    "plt.scatter(x_range, optical_coef)\n",
    "plt.errorbar(x_range, optical_coef, yerr=std_arr, fmt='o', ms = 10)#, c = 'blue')#, s = 100)#, c= 'black')"
   ]
  },
  {
   "cell_type": "code",
   "execution_count": null,
   "id": "43",
   "metadata": {},
   "outputs": [],
   "source": [
    "event_nummer = 1053\n",
    "print(event_container[event_nummer].muon.tel[1].efficiency)\n",
    "print(event_container[event_nummer].muon.tel[2].efficiency)\n",
    "print(event_container[event_nummer].muon.tel[3].efficiency)\n",
    "tel_nummer = 3"
   ]
  },
  {
   "cell_type": "code",
   "execution_count": null,
   "id": "44",
   "metadata": {},
   "outputs": [],
   "source": [
    "plt.figure(figsize = (9,6))\n",
    "camgeom = source.subarray.tel[tel_nummer].camera.geometry\n",
    "title=\"Muon Ring?\"\n",
    "disp = CameraDisplay(camgeom,title=title)\n",
    "disp.image = event_container[event_nummer].simulation.tel[tel_nummer].true_image\n",
    "#disp.image = true_image\n",
    "disp.cmap = plt.cm.RdBu_r\n",
    "disp.add_colorbar()\n",
    "disp.set_limits_percent(95)\n",
    "#plt.savefig(f\"/Users/vdk/IntensityCut_event{j.index.event_id}\")"
   ]
  },
  {
   "cell_type": "code",
   "execution_count": null,
   "id": "45",
   "metadata": {},
   "outputs": [],
   "source": [
    "for i in event_container:\n",
    "    for m in event_container[i].trigger.tel.keys():\n",
    "        if not np.isnan(event_container[i].muon.tel[m].efficiency.width):\n",
    "                plt.figure(figsize = (9,6))\n",
    "                camgeom = source.subarray.tel[m].camera.geometry\n",
    "                #title=f\"event_{i}_optEff{round(event_container[i].muon.tel[m].efficiency.optical_efficiency,3)}_width{round(event_container[i].muon.tel[m].efficiency.width.to_value(),3)}_triggercount{len(event_container[i].trigger.tel.keys())}\"\n",
    "                title=f\"event_{i}_optEff{round(event_container[i].muon.tel[m].efficiency.optical_efficiency,3)}_width{round(event_container[i].muon.tel[m].efficiency.width.to_value(),3)}_triggerTel{m}\"\n",
    "                disp = CameraDisplay(camgeom,title=title)\n",
    "                disp.image = event_container[i].simulation.tel[m].true_image\n",
    "                disp.cmap = plt.cm.RdBu_r\n",
    "                disp.add_colorbar()\n",
    "                disp.set_limits_percent(95)\n",
    "                #plt.savefig(f\"/Users/vdk/MRing_event{i}_fit{round(event_container[i].muon.tel[m].efficiency.optical_efficiency,3)}_width{round(event_container[i].muon.tel[m].efficiency.width.to_value(),3)}.png\")\n",
    "                #plt.savefig(f\"/Users/vdk/MRing_event{i}_fit{round(event_container[i].muon.tel[m].efficiency.optical_efficiency,3)}_width{round(event_container[i].muon.tel[m].efficiency.width.to_value(),3)}.png\")\n",
    "                plt.show()\n",
    "                \n",
    "plt.close()"
   ]
  },
  {
   "cell_type": "code",
   "execution_count": null,
   "id": "46",
   "metadata": {},
   "outputs": [],
   "source": [
    "fig, axes = plt.subplots(1, 2, sharex=False, gridspec_kw={'width_ratios': [1, 1]}, figsize=(12,5))\n",
    "fig.subplots_adjust(hspace=0.2)\n",
    "dx = axes[0]\n",
    "camgeom = source.subarray.tel[3].camera.geometry\n",
    "disp = CameraDisplay(camgeom, ax = dx)\n",
    "disp.image = event_container[1053].simulation.tel[3].true_image\n",
    "#disp.image = true_image\n",
    "disp.cmap = plt.cm.RdBu_r\n",
    "disp.add_colorbar()\n",
    "disp.set_limits_percent(95)\n",
    "dx.set_title(\"Extracted muon ring\")\n",
    "cx = axes[1]\n",
    "camgeom = source.subarray.tel[2].camera.geometry\n",
    "disp = CameraDisplay(camgeom, ax = cx)\n",
    "disp.image = event_container[1053].simulation.tel[2].true_image\n",
    "#disp.image = true_image\n",
    "disp.cmap = plt.cm.RdBu_r\n",
    "disp.add_colorbar()\n",
    "disp.set_limits_percent(95)\n",
    "cx.set_title(\"Extracted contamination\")\n",
    "#plt.show()\n",
    "#plt.savefig(\"/Users/vdk/DistinctRingContamination\")"
   ]
  },
  {
   "cell_type": "code",
   "execution_count": null,
   "id": "47",
   "metadata": {},
   "outputs": [],
   "source": []
  },
  {
   "cell_type": "code",
   "execution_count": null,
   "id": "48",
   "metadata": {},
   "outputs": [],
   "source": [
    "image_processor = ImageProcessor(source.subarray)\n",
    "muon_processor = MuonProcessor(source.subarray)\n",
    "calib = CameraCalibrator(image_extractor_type=\"GlobalPeakWindowSum\", subarray = source.subarray)\n",
    "calib(event)\n",
    "image_processor(event)\n",
    "muon_processor(event)\n",
    "np.isnan(j.muon.tel[m].efficiency.width)"
   ]
  },
  {
   "cell_type": "code",
   "execution_count": null,
   "id": "49",
   "metadata": {},
   "outputs": [],
   "source": [
    "not np.isnan(event.muon.tel[1].efficiency.width)"
   ]
  },
  {
   "cell_type": "code",
   "execution_count": null,
   "id": "50",
   "metadata": {},
   "outputs": [],
   "source": [
    "if not type(efficiency_container[19]) is int:\n",
    "    print(1)"
   ]
  },
  {
   "cell_type": "code",
   "execution_count": null,
   "id": "51",
   "metadata": {},
   "outputs": [],
   "source": [
    "for key in efficiency_container:\n",
    "    print(efficiency_container[key].optical_efficiency)"
   ]
  },
  {
   "cell_type": "code",
   "execution_count": null,
   "id": "52",
   "metadata": {},
   "outputs": [],
   "source": [
    "calculated = {}\n",
    "for i,j in enumerate(efficiency_container):\n",
    "    if not type(j) is int:\n",
    "        calculated[i] = j\n",
    "        "
   ]
  },
  {
   "cell_type": "code",
   "execution_count": null,
   "id": "53",
   "metadata": {},
   "outputs": [],
   "source": [
    "for i in calculated:\n",
    "    print(i)"
   ]
  },
  {
   "cell_type": "code",
   "execution_count": null,
   "id": "54",
   "metadata": {},
   "outputs": [],
   "source": []
  },
  {
   "cell_type": "code",
   "execution_count": null,
   "id": "55",
   "metadata": {},
   "outputs": [],
   "source": [
    "calculated[2]"
   ]
  },
  {
   "cell_type": "code",
   "execution_count": null,
   "id": "56",
   "metadata": {},
   "outputs": [],
   "source": [
    "np.radians(0.2)"
   ]
  },
  {
   "cell_type": "code",
   "execution_count": null,
   "id": "57",
   "metadata": {},
   "outputs": [],
   "source": [
    "len(event_container)"
   ]
  },
  {
   "cell_type": "code",
   "execution_count": null,
   "id": "58",
   "metadata": {},
   "outputs": [],
   "source": [
    "checker"
   ]
  },
  {
   "cell_type": "code",
   "execution_count": null,
   "id": "59",
   "metadata": {},
   "outputs": [],
   "source": [
    "164/4227"
   ]
  },
  {
   "cell_type": "code",
   "execution_count": null,
   "id": "60",
   "metadata": {},
   "outputs": [],
   "source": [
    "3/4227"
   ]
  },
  {
   "cell_type": "code",
   "execution_count": null,
   "id": "61",
   "metadata": {},
   "outputs": [],
   "source": [
    "3/10000"
   ]
  },
  {
   "cell_type": "code",
   "execution_count": null,
   "id": "62",
   "metadata": {},
   "outputs": [],
   "source": [
    "for k in range(1,10):\n",
    "    print(k)"
   ]
  },
  {
   "cell_type": "code",
   "execution_count": null,
   "id": "63",
   "metadata": {},
   "outputs": [],
   "source": [
    "from traitlets.config import Config\n",
    "\n",
    "image_processor_config = Config(\n",
    "    {\n",
    "        \"ImageProcessor\": {\n",
    "            \"image_cleaner_type\": \"TailcutsImageCleaner\",\n",
    "            \"TailcutsImageCleaner\": {\n",
    "                \"picture_threshold_pe\": [\n",
    "                    (\"type\", \"LST_LST_LSTCam\", 7.5),\n",
    "                    (\"type\", \"MST_MST_FlashCam\", 8),\n",
    "                    (\"type\", \"MST_MST_NectarCam\", 8),\n",
    "                    (\"type\", \"SST_ASTRI_CHEC\", 7),\n",
    "                ],\n",
    "                \"boundary_threshold_pe\": [\n",
    "                    (\"type\", \"LST_LST_LSTCam\", 5),\n",
    "                    (\"type\", \"MST_MST_FlashCam\", 4),\n",
    "                    (\"type\", \"MST_MST_NectarCam\", 4),\n",
    "                    (\"type\", \"SST_ASTRI_CHEC\", 4),\n",
    "                ],\n",
    "            },\n",
    "        }\n",
    "    }\n",
    ")"
   ]
  },
  {
   "cell_type": "code",
   "execution_count": null,
   "id": "64",
   "metadata": {},
   "outputs": [],
   "source": [
    "filename = '/Users/vdk/sim_run_folder/output_prod_v12/corsika_theta_28.4_az_182.75_run1.simtel.gz'\n",
    "source = EventSource(filename, max_events=9000)\n",
    "event_iterator = iter(source)\n",
    "\n",
    "event = next(event_iterator)\n",
    "\n",
    "image_processor = ImageProcessor(source.subarray, config = image_processor_config)\n",
    "image_processor(event)"
   ]
  },
  {
   "cell_type": "code",
   "execution_count": null,
   "id": "65",
   "metadata": {},
   "outputs": [],
   "source": [
    "muon_processor_config = Config(\n",
    "    {\n",
    "        \"MuonProcessor\": {\n",
    "            \"RingQuery\": {\n",
    "                [\"intensity_check\",\"np.abs(parameters.intensity_ratio - 1) < 0.1\"]\n",
    "            }\n",
    "        }\n",
    "        \"MuonIntensityFitter\" :{\n",
    "        \"hole_radius_m\" : [\"type\", \"LST_*\", 0.308]\n",
    "        }\n",
    "    }\n",
    "\n",
    ")"
   ]
  },
  {
   "cell_type": "code",
   "execution_count": null,
   "id": "66",
   "metadata": {},
   "outputs": [],
   "source": [
    "7/(18295)*100"
   ]
  },
  {
   "cell_type": "code",
   "execution_count": null,
   "id": "67",
   "metadata": {},
   "outputs": [],
   "source": [
    "14068+4227"
   ]
  },
  {
   "cell_type": "code",
   "execution_count": null,
   "id": "68",
   "metadata": {},
   "outputs": [],
   "source": [
    "k = 2\n",
    "filename = f'/Users/vdk/sim_run_folder/output_prod_v12/corsika_theta_28.4_az_182.75_run{k}.simtel.gz'\n",
    "source = EventSource(filename, max_events=9000)\n",
    "event_iterator = iter(source)\n",
    "\n",
    "for i,j in enumerate(event_iterator):\n",
    "    if i == 223:\n",
    "        plt.figure(figsize = (9,6))\n",
    "        camgeom = source.subarray.tel[3].camera.geometry\n",
    "        title=\"Muon Ring?\"\n",
    "        disp = CameraDisplay(camgeom,title=title)\n",
    "        disp.image = j.simulation.tel[2].true_image\n",
    "        #disp.image = true_image\n",
    "        disp.cmap = plt.cm.RdBu_r\n",
    "        disp.add_colorbar()\n",
    "        disp.set_limits_percent(95)\n",
    "        plt.show()\n",
    "        break\n",
    "        #plt.savefig(f\"/Users/vdk/IntensityCut_event{j.index.event_id}\")\n",
    "        "
   ]
  },
  {
   "cell_type": "code",
   "execution_count": null,
   "id": "69",
   "metadata": {},
   "outputs": [],
   "source": [
    "len(for_hist)"
   ]
  },
  {
   "cell_type": "code",
   "execution_count": null,
   "id": "70",
   "metadata": {},
   "outputs": [],
   "source": [
    "for_hist = []\n",
    "check = 0\n",
    "\n",
    "for i in event_container:\n",
    "    #print(i)\n",
    "    #check+=1\n",
    "    for m in event_container[i].trigger.tel.keys():\n",
    "        if not np.isnan(event_container[i].muon.tel[m].efficiency.width):\n",
    "            #print(check)\n",
    "            #print(\"m\", m)\n",
    "            #print(\"i\", i)\n",
    "            peak_arr = np.empty(1855, dtype = int)\n",
    "            np.argmax(event_container[i].r0.tel[m].waveform[1], axis = 1, out = peak_arr)\n",
    "            #print(check,peak_arr)\n",
    "            for_hist = np.append(for_hist, peak_arr) \n",
    "            check += 1"
   ]
  },
  {
   "cell_type": "code",
   "execution_count": null,
   "id": "71",
   "metadata": {},
   "outputs": [],
   "source": [
    "histplot(for_hist, alpha = 0.8, binwidth = 1, binrange=[0,40])\n",
    "plt.xlabel(\"Time sample\")\n",
    "plt.ylabel(\"Count of pixels with appropriate peaktime\")\n",
    "#plt.title(f\"Histogram for peaktime of 40 runs minpixel > {min_pixel}\")\n",
    "#plt.savefig(f\"/Users/vdk/Histplot_40runs_PeakTime_minpixel>{min_pixel}\")\n",
    "#plt.title(f\"Histogram for peaktime of 40 runs IntensityCut<{int_cut}\")\n",
    "plt.title(f\"Histogram for r0 high gain\")\n",
    "#plt.savefig(f\"/Users/vdk/Histplot_40runs_IntensityCut>{int_cut}.png\")"
   ]
  },
  {
   "cell_type": "code",
   "execution_count": null,
   "id": "72",
   "metadata": {},
   "outputs": [],
   "source": [
    "test = histplot(for_hist, alpha = 0.8, bins = [i-0.5 for i in range(41)])\n",
    "plt.title(f\"Histogram for r0 low gain\")"
   ]
  },
  {
   "cell_type": "code",
   "execution_count": null,
   "id": "73",
   "metadata": {},
   "outputs": [],
   "source": [
    "hist, bin_edges = np.histogram(for_hist, bins =40)"
   ]
  },
  {
   "cell_type": "code",
   "execution_count": null,
   "id": "74",
   "metadata": {},
   "outputs": [],
   "source": [
    "bin_edges"
   ]
  },
  {
   "cell_type": "code",
   "execution_count": null,
   "id": "75",
   "metadata": {},
   "outputs": [],
   "source": [
    "plt.hist(for_hist, bins = [i for i in range(41)])"
   ]
  },
  {
   "cell_type": "code",
   "execution_count": null,
   "id": "76",
   "metadata": {},
   "outputs": [],
   "source": [
    "min(for_hist)"
   ]
  },
  {
   "cell_type": "code",
   "execution_count": null,
   "id": "77",
   "metadata": {},
   "outputs": [],
   "source": [
    "len(hist)"
   ]
  },
  {
   "cell_type": "code",
   "execution_count": null,
   "id": "78",
   "metadata": {},
   "outputs": [],
   "source": [
    "bin_edges"
   ]
  },
  {
   "cell_type": "code",
   "execution_count": null,
   "id": "79",
   "metadata": {},
   "outputs": [],
   "source": [
    "import pandas as pd\n",
    "\n",
    "# Generate data on commute times.\n",
    "size, scale = 1000, 10\n",
    "commutes = pd.Series(for_hist)\n",
    "\n",
    "commutes.plot.hist(grid=True, bins=40, rwidth=1,\n",
    "                   color='#607c8e')\n",
    "plt.title('Commute Times for 1,000 Commuters')\n",
    "plt.xlabel('Counts')\n",
    "plt.ylabel('Commute Time')\n",
    "plt.grid(axis='y', alpha=0.75)"
   ]
  },
  {
   "cell_type": "code",
   "execution_count": null,
   "id": "80",
   "metadata": {},
   "outputs": [],
   "source": [
    "len([-0.5,0.5,1.5,2.5,3.5,4.5,5.5,6.5,7.5,8.5,9.5,10.5,11.5,12.5,13.5,14.5,15.5,16.5,17.5,18.5,19.5,20.5,21.5,22.5,23.5,24.5,25.5,26.5,27.5,28.5,29.5,30.5,31.5,32.5,33.5,34.5,35.5,36.5,37.5,38.5,39.5])"
   ]
  },
  {
   "cell_type": "code",
   "execution_count": null,
   "id": "81",
   "metadata": {},
   "outputs": [],
   "source": [
    "for i in range(0,41):\n",
    "    print(i-0.5)"
   ]
  },
  {
   "cell_type": "code",
   "execution_count": null,
   "id": "82",
   "metadata": {},
   "outputs": [],
   "source": [
    "arr = [1,6,3,2,5,5,6,4,4,4,3,3,3,2,6]\n",
    "histplot(arr)"
   ]
  },
  {
   "cell_type": "code",
   "execution_count": null,
   "id": "83",
   "metadata": {},
   "outputs": [],
   "source": [
    "for i in for_hist:\n",
    "    print(i)"
   ]
  },
  {
   "cell_type": "code",
   "execution_count": null,
   "id": "84",
   "metadata": {},
   "outputs": [],
   "source": [
    "np.count(for_hist,1)"
   ]
  },
  {
   "cell_type": "code",
   "execution_count": null,
   "id": "85",
   "metadata": {},
   "outputs": [],
   "source": [
    "other = for_hist.tolist()"
   ]
  },
  {
   "cell_type": "code",
   "execution_count": null,
   "id": "86",
   "metadata": {},
   "outputs": [],
   "source": [
    "other.count(38)"
   ]
  },
  {
   "cell_type": "code",
   "execution_count": null,
   "id": "87",
   "metadata": {},
   "outputs": [],
   "source": [
    "np.char.count(arr,'1')"
   ]
  },
  {
   "cell_type": "code",
   "execution_count": null,
   "id": "88",
   "metadata": {},
   "outputs": [],
   "source": [
    "for_hist = []\n",
    "check = 0\n",
    "time_sample = 24\n",
    "\n",
    "for i in event_container:\n",
    "    for m in event_container[i].trigger.tel.keys():\n",
    "        if not np.isnan(event_container[i].muon.tel[m].efficiency.width):\n",
    "            max_val = np.amax(event_container[i].r1.tel[m].waveform[time_sample])\n",
    "            event_list = event_container[i].r1.tel[m].waveform[time_sample].tolist()\n",
    "            #print(\"max\", max_val)\n",
    "            #print(\"events\", event_container[i].r1.tel[m].waveform.shape)\n",
    "            counts = event_list.count(max_val)\n",
    "            print(\"counts = \", counts)\n",
    "            \n",
    "            "
   ]
  },
  {
   "cell_type": "code",
   "execution_count": null,
   "id": "89",
   "metadata": {},
   "outputs": [],
   "source": [
    "for_hist = []\n",
    "check = 0\n",
    "\n",
    "for i in event_container:\n",
    "    for m in event_container[i].trigger.tel.keys():\n",
    "        if not np.isnan(event_container[i].muon.tel[m].efficiency.width):\n",
    "            peak_arr = np.empty(1855, dtype = int)\n",
    "            np.argmax(event_container[i].r1.tel[m].waveform, axis = 1, out = peak_arr)\n",
    "            print(check,peak_arr)\n",
    "            for_hist = np.append(for_hist, peak_arr) \n",
    "            check += 1\n",
    "\n",
    "winner = np.argwhere(event_container[i].r1.tel[m].waveform == np.amax(event_container[i].r1.tel[m].waveform))"
   ]
  },
  {
   "cell_type": "code",
   "execution_count": null,
   "id": "90",
   "metadata": {},
   "outputs": [],
   "source": [
    "winner = np.argwhere(event_container[i].r1.tel[m].waveform == np.amax(event_container[i].r1.tel[m].waveform))"
   ]
  },
  {
   "cell_type": "code",
   "execution_count": null,
   "id": "91",
   "metadata": {},
   "outputs": [],
   "source": [
    "winner"
   ]
  },
  {
   "cell_type": "code",
   "execution_count": null,
   "id": "92",
   "metadata": {},
   "outputs": [],
   "source": [
    "k = 22\n",
    "event_number = 86\n",
    "teln = 3\n",
    "filename = f'/Users/vdk/sim_run_folder/output_prod_v12/corsika_theta_28.4_az_182.75_run{k}.simtel.gz'\n",
    "source = EventSource(filename, max_events=9000)\n",
    "event_iterator = iter(source)\n",
    "\n",
    "for i,j in enumerate(event_iterator):\n",
    "    if i == event_number:\n",
    "        image_processor = ImageProcessor(source.subarray)\n",
    "        muon_processor = MuonProcessor(source.subarray)\n",
    "        calib = CameraCalibrator(image_extractor_type=\"GlobalPeakWindowSum\",subarray = source.subarray)\n",
    "        calib(j)\n",
    "        image_processor(j)\n",
    "        muon_processor(j)\n",
    "        event = j\n",
    "        break\n",
    "\n",
    "\n",
    "# check only pixels where signal is less then some value\n",
    "# mean value for all pixels sum over the samples is 6200\n",
    "#work_arr = event.r0.tel[1].waveform[0].copy()\n",
    "#work_arr[np.sum(work_arr, axis = 1) > 10000] = 0\n",
    "#teln = 2\n",
    "#print(np.count_nonzero(work_arr))\n",
    "\n",
    "plt.figure(figsize = (9,6))\n",
    "camgeom = source.subarray.tel[1].camera.geometry\n",
    "title=\"Ring\"\n",
    "disp = CameraDisplay(camgeom,title=title, norm = 'lin', autoscale = False, allow_pick = True)\n",
    "\n",
    "disp.image = event.r0.tel[teln].waveform[1].sum(axis=1)\n",
    "#disp.image = event.dl0.tel[teln].waveform[:,11]\n",
    "#disp.image = working_arr\n",
    "#disp.image = event.simulation.tel[teln].true_image\n",
    "#disp.image = cont_arr\n",
    "disp.cmap = plt.cm.RdBu_r\n",
    "disp.add_colorbar()\n",
    "disp.set_limits_percent(95)\n",
    "print(\"print\", disp.pixels)\n",
    "#plt.savefig(f\"/Users/vdk/IntensityCut_event{j.index.event_id}\")"
   ]
  },
  {
   "cell_type": "code",
   "execution_count": null,
   "id": "93",
   "metadata": {},
   "outputs": [],
   "source": [
    "event_container[22086].r1.tel[2].selected_gain_channel"
   ]
  },
  {
   "cell_type": "code",
   "execution_count": null,
   "id": "94",
   "metadata": {},
   "outputs": [],
   "source": [
    "for i in event_container[22086].simulation.shower.energy"
   ]
  },
  {
   "cell_type": "code",
   "execution_count": null,
   "id": "95",
   "metadata": {},
   "outputs": [],
   "source": [
    "###\n",
    "# Algorithm to process events and try to calibrate them\n",
    "###\n",
    "int_cut = 0.2\n",
    "min_pixel = 250\n",
    "\n",
    "muon_processor_config = Config({\"MuonProcessor\": \n",
    "                                {\"RingQuery\": \n",
    "                                 {\"quality_criteria\" : [[\"intensity_check\",f\"np.abs(parameters.intensity_ratio - 1) < {int_cut}\"],\n",
    "                                                        [\"ring_containment\", \"parameters.containment > 0.3\"],\n",
    "                                                        [\"ring_completeness\", \"parameters.completeness > 0.3\"]]}}})\n",
    "\n",
    "#muon_processor_config = Config({\"MuonProcessor\":\n",
    "#                                {\"ImageParameterQuery\" :\n",
    "#                                {\"quality_criteria\" : [[\"min_pixels\", f\"dl1_params.morphology.n_pixels > {min_pixel}\"],\n",
    "#                                                        [\"min_intensity\", \"dl1_params.hillas.intensity > 500\"]]}}})\n",
    "\n",
    "muon_processor_config_2 = Config({\"MuonProcessor\":\n",
    "                                {\"ImageParameterQuery\" :\n",
    "                                 {\"quality_criteria\" : [[\"min_pixels\", f\"dl1_params.morphology.n_pixels > {min_pixel}\"],\n",
    "                                                        [\"min_intensity\", \"dl1_params.hillas.intensity > 500\"]]}}})\n",
    "#k = 1\n",
    "checker = 0\n",
    "event_container_protons = []\n",
    "\n",
    "for k in range(1,41):\n",
    "    filename = f'/Users/vdk/sim_run_folder/output_prod_v12/corsika_theta_28.4_az_182.75_run{k}.simtel.gz'\n",
    "    source = EventSource(filename, max_events=9000)\n",
    "    event_iterator = iter(source)\n",
    "    keks = k*1000\n",
    "    for i,j in enumerate(event_iterator):\n",
    "        checker += 1\n",
    "        if len(j.trigger.tels_with_trigger) > 1:\n",
    "            image_processor = ImageProcessor(source.subarray)\n",
    "            muon_processor = MuonProcessor(source.subarray, config = muon_processor_config_2)\n",
    "            #muon_processor = MuonProcessor(source.subarray)\n",
    "            calib = CameraCalibrator(image_extractor_type=\"GlobalPeakWindowSum\",subarray = source.subarray)\n",
    "            calib(j)\n",
    "            image_processor(j)\n",
    "            muon_processor(j)\n",
    "            for m in j.muon.tel.keys():\n",
    "                if not np.isnan(j.muon.tel[m].efficiency.width):\n",
    "                    event_container_protons.append(j)\n",
    "    if len(event_container_protons) > 43:\n",
    "        break\n",
    "        \n",
    "            \n",
    "            \n"
   ]
  },
  {
   "cell_type": "code",
   "execution_count": null,
   "id": "96",
   "metadata": {},
   "outputs": [],
   "source": [
    "len(event_container_protons)"
   ]
  },
  {
   "cell_type": "code",
   "execution_count": null,
   "id": "97",
   "metadata": {},
   "outputs": [],
   "source": [
    "for i,j in enumerate(event_container_protons):\n",
    "    for m in j.trigger.tel.keys():\n",
    "        if not np.isnan(j.muon.tel[m].efficiency.width):\n",
    "                plt.figure(figsize = (9,6))\n",
    "                camgeom = source.subarray.tel[m].camera.geometry\n",
    "                #title=f\"event_{i}_optEff{round(event_container[i].muon.tel[m].efficiency.optical_efficiency,3)}_width{round(event_container[i].muon.tel[m].efficiency.width.to_value(),3)}_triggercount{len(event_container[i].trigger.tel.keys())}\"\n",
    "                #title=f\"event_{i}_optEff{round(event_container[i].muon.tel[m].efficiency.optical_efficiency,3)}_width{round(event_container[i].muon.tel[m].efficiency.width.to_value(),3)}_triggerTel{m}\"\n",
    "                disp = CameraDisplay(camgeom,title=title)\n",
    "                disp.image = j.simulation.tel[m].true_image\n",
    "                disp.cmap = plt.cm.RdBu_r\n",
    "                disp.add_colorbar()\n",
    "                disp.set_limits_percent(95)\n",
    "                #plt.savefig(f\"/Users/vdk/MRing_event{i}_fit{round(event_container[i].muon.tel[m].efficiency.optical_efficiency,3)}_width{round(event_container[i].muon.tel[m].efficiency.width.to_value(),3)}.png\")\n",
    "                #plt.savefig(f\"/Users/vdk/MRing_event{i}_fit{round(event_container[i].muon.tel[m].efficiency.optical_efficiency,3)}_width{round(event_container[i].muon.tel[m].efficiency.width.to_value(),3)}.png\")\n",
    "                plt.show()\n",
    "                \n",
    "plt.close()"
   ]
  },
  {
   "cell_type": "code",
   "execution_count": null,
   "id": "98",
   "metadata": {},
   "outputs": [],
   "source": [
    "for_hist_muons = []\n",
    "check = 0\n",
    "bad_muons = [2277, 8234,  8448, 9404,  9433, 13088, 18054, 20351, 27176, 27374, 28000, 28328, 35298, 35473]\n",
    "\n",
    "for i in event_container:\n",
    "    #print(i)\n",
    "    #check+=1\n",
    "    for m in event_container[i].trigger.tel.keys():\n",
    "        if not np.isnan(event_container[i].muon.tel[m].efficiency.width) and i not in bad_muons:\n",
    "            #print(check)\n",
    "            #print(\"m\", m)\n",
    "            #print(\"i\", i)\n",
    "            peak_arr = np.empty(1855, dtype = int)\n",
    "            np.argmax(event_container[i].r0.tel[m].waveform[1], axis = 1, out = peak_arr)\n",
    "            #print(check,peak_arr)\n",
    "            for_hist_muons = np.append(for_hist_muons, peak_arr) \n",
    "            check += 1"
   ]
  },
  {
   "cell_type": "code",
   "execution_count": null,
   "id": "99",
   "metadata": {},
   "outputs": [],
   "source": [
    "len(for_hist_muons)/1855"
   ]
  },
  {
   "cell_type": "code",
   "execution_count": null,
   "id": "100",
   "metadata": {},
   "outputs": [],
   "source": [
    "for_hist_protons = []\n",
    "check = 0\n",
    "bad_muons = [2277, 8234,  8448, 9404,  9433, 13088, 18054, 20351, 27176, 27374, 28000, 28328, 35298, 35473]\n",
    "\n",
    "for i,j in enumerate(event_container_protons[2:33]):\n",
    "    #print(i)\n",
    "    #check+=1\n",
    "    for m in j.trigger.tel.keys():\n",
    "        if not np.isnan(j.muon.tel[m].efficiency.width):\n",
    "            #print(check)\n",
    "            #print(\"m\", m)\n",
    "            #print(\"i\", i)\n",
    "            peak_arr = np.empty(1855, dtype = int)\n",
    "            np.argmax(j.r0.tel[m].waveform[1], axis = 1, out = peak_arr)\n",
    "            #print(check,peak_arr)\n",
    "            for_hist_protons = np.append(for_hist, peak_arr) \n",
    "            check += 1"
   ]
  },
  {
   "cell_type": "code",
   "execution_count": null,
   "id": "101",
   "metadata": {},
   "outputs": [],
   "source": [
    "len(for_hist_protons)/1855"
   ]
  },
  {
   "cell_type": "code",
   "execution_count": null,
   "id": "102",
   "metadata": {},
   "outputs": [],
   "source": [
    "stack = np.vstack((for_hist_muons,for_hist_protons))"
   ]
  },
  {
   "cell_type": "code",
   "execution_count": null,
   "id": "103",
   "metadata": {},
   "outputs": [],
   "source": [
    "len(stack[0])"
   ]
  },
  {
   "cell_type": "code",
   "execution_count": null,
   "id": "104",
   "metadata": {},
   "outputs": [],
   "source": [
    "for i in stack:\n",
    "    histplot(i, bins = 40, alpha = 0.1)"
   ]
  },
  {
   "cell_type": "code",
   "execution_count": null,
   "id": "105",
   "metadata": {},
   "outputs": [],
   "source": [
    "k = 13\n",
    "if k in [13,14,15]:\n",
    "    print(True)"
   ]
  },
  {
   "cell_type": "code",
   "execution_count": null,
   "id": "106",
   "metadata": {},
   "outputs": [],
   "source": [
    "muon_processor_config = Config({\"MuonProcessor\": \n",
    "                                {\"RingQuery\": \n",
    "                                 {\"quality_criteria\" : [[\"intensity_check\",f\"np.abs(parameters.intensity_ratio - 1) < {int_cut}\"],\n",
    "                                                        [\"ring_containment\", \"parameters.containment > 0.5\"],\n",
    "                                                        [\"ring_completeness\", \"parameters.completeness > 0.5\"]]}}})\n",
    "\n",
    "#muon_processor_config = Config({\"MuonProcessor\":\n",
    "#                                {\"ImageParameterQuery\" :\n",
    "#                                {\"quality_criteria\" : [[\"min_pixels\", f\"dl1_params.morphology.n_pixels > {min_pixel}\"],\n",
    "#                                                        [\"min_intensity\", \"dl1_params.hillas.intensity > 500\"]]}}})\n",
    "\n",
    "muon_processor_config_2 = Config({\"MuonProcessor\":\n",
    "                                {\"ImageParameterQuery\" :\n",
    "                                 {\"quality_criteria\" : [[\"min_pixels\", f\"dl1_params.morphology.n_pixels > {min_pixel}\"],\n",
    "                                                        [\"min_intensity\", \"dl1_params.hillas.intensity > 500\"]]}}})\n",
    "\n",
    "checker = 0\n",
    "event_container = {}\n",
    "for k in range(1,5):\n",
    "    filename = f'/Users/vdk/sim_run_folder/output_prod_v12/corsika_theta_28.4_az_182.75_run{k}.simtel.gz'\n",
    "    source = EventSource(filename, max_events=9000)\n",
    "    event_iterator = iter(source)\n",
    "    keks = k*1000\n",
    "    for i,j in enumerate(event_iterator):\n",
    "        checker += 1\n",
    "        if len(j.trigger.tels_with_trigger) > 1: \n",
    "            #print('i am here')\n",
    "            event = j\n",
    "            image_processor = ImageProcessor(source.subarray)\n",
    "            calib = CameraCalibrator(image_extractor_type=\"GlobalPeakWindowSum\",subarray = source.subarray)\n",
    "            calib(event)\n",
    "            image_processor(event)\n",
    "            for m in event.muon.tel.keys():\n",
    "                print('i am here')\n",
    "                print(event.muon.tel[m].parameters)\n",
    "            #muon_processor = MuonProcessor(source.subarray, config = muon_processor_config)\n",
    "            #image_processor = ImageProcessor(source.subarray)\n",
    "            #muon_processor = MuonProcessor(source.subarray)\n",
    "            #muon_processor(event)\n",
    "            #for m in j.muon.tel.keys():\n",
    "            #    if not np.isnan(j.muon.tel[m].efficiency.width):\n",
    "            #        event_container[keks+i] = j"
   ]
  },
  {
   "cell_type": "code",
   "execution_count": null,
   "id": "107",
   "metadata": {},
   "outputs": [],
   "source": [
    "print(event.muon.tel[1].parameters)"
   ]
  },
  {
   "cell_type": "code",
   "execution_count": null,
   "id": "108",
   "metadata": {},
   "outputs": [],
   "source": [
    "for i in event_container:\n",
    "    for m in event_container[i].trigger.tel.keys():\n",
    "            print(event_container[i].muon.tel[m].efficiency.optical_efficiency)"
   ]
  },
  {
   "cell_type": "code",
   "execution_count": null,
   "id": "109",
   "metadata": {},
   "outputs": [],
   "source": []
  }
 ],
 "metadata": {
  "kernelspec": {
   "display_name": "cta",
   "language": "python",
   "name": "cta"
  },
  "language_info": {
   "codemirror_mode": {
    "name": "ipython",
    "version": 3
   },
   "file_extension": ".py",
   "mimetype": "text/x-python",
   "name": "python",
   "nbconvert_exporter": "python",
   "pygments_lexer": "ipython3",
   "version": "3.11.3"
  }
 },
 "nbformat": 4,
 "nbformat_minor": 5
}
