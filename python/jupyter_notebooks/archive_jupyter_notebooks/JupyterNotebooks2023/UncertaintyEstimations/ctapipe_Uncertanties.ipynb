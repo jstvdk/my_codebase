{
 "cells": [
  {
   "cell_type": "code",
   "execution_count": null,
   "id": "0",
   "metadata": {},
   "outputs": [],
   "source": [
    "import numpy as np\n",
    "import pandas as pd\n",
    "import csv\n",
    "from seaborn import histplot, pointplot, lineplot\n",
    "import scipy\n",
    "import matplotlib.pyplot as plt\n",
    "from scipy.stats import crystalball\n",
    "#%matplotlibinline"
   ]
  },
  {
   "cell_type": "code",
   "execution_count": null,
   "id": "1",
   "metadata": {},
   "outputs": [],
   "source": [
    "optical_efficiency = []\n",
    "#working_file = '/Users/vdk/values_minPixel80.txt'\n",
    "working_file = '/Users/vdk/MuonCalibratedEvents/values_obs501_minPixel50.txt'\n",
    "with open(working_file) as file:\n",
    "    for i in file:\n",
    "        optical_efficiency.append(float(i.strip()))\n",
    "\n",
    "#optical_efficiency = np.array(optical_efficiency)\n",
    "optical_hist = np.histogram(optical_efficiency, bins = 30)\n",
    "\n",
    "anomaly_cut_off = np.std(optical_efficiency) * 5\n",
    "lower_limit = np.mean(optical_efficiency) - anomaly_cut_off\n",
    "upper_limit = np.mean(optical_efficiency) + anomaly_cut_off\n",
    "anomalies = []\n",
    "\n",
    "anomalies = [i for i in optical_efficiency if i > lower_limit and i < upper_limit]\n",
    "anomalies\n",
    "#np.median(optical_efficiency)# - np.mean(optical_efficiency))\n",
    "#np.std(optical_efficiency)\n",
    "print(\"min = \", min(anomalies), \"\\nmax = \", max(anomalies))\n",
    "print(\"std = \", np.std(optical_efficiency))\n",
    "print(\"mean = \", np.mean(optical_efficiency))\n",
    "print(\"rel = \", np.std(optical_efficiency)/np.mean(optical_efficiency))"
   ]
  },
  {
   "cell_type": "code",
   "execution_count": null,
   "id": "2",
   "metadata": {},
   "outputs": [],
   "source": [
    "min_pixel = [100, 90, 80,70,60,50]\n",
    "std = [0.0242, 0.0227, 0.0224, 0.0240, 0.0244, 0.0267]\n",
    "opt_eff = [0.2179, 0.2167, 0.2150, 0.2150, 0.2144, 0.2144]\n",
    "rel_un = np.array(std)/np.array(opt_eff)"
   ]
  },
  {
   "cell_type": "code",
   "execution_count": null,
   "id": "3",
   "metadata": {},
   "outputs": [],
   "source": [
    "arr = crystalball.fit(anomalies)\n",
    "sim_data = np.linspace(min(anomalies), max(anomalies))\n",
    "beta, m = arr[0], arr[1] \n",
    "plt.plot(sim_data, crystalball.pdf(sim_data, beta = beta, m = m, loc = arr[2], scale =arr[3]), c = 'r', label = 'Crystal Ball function fit')\n",
    "#plt.hist(anomalies, density = True, bins = 60)# binwidth = 0.001)#bins = 100)\n",
    "#histplot(optical_efficiency, stat = 'density', label = 'Data')\n",
    "histplot(anomalies, stat = 'density', label = 'Data')\n",
    "#plt.xlim(0,0.4)\n",
    "plt.xlabel(\"Optical Efficiency\")\n",
    "plt.legend()\n",
    "plt.title(\"Data for min_pixel > 100\")\n",
    "#plt.show()\n",
    "plt.savefig(\"/Users/vdk/CrystalFit_othe2.png\")\n"
   ]
  },
  {
   "cell_type": "code",
   "execution_count": null,
   "id": "4",
   "metadata": {},
   "outputs": [],
   "source": [
    "print(np.std(optical_efficiency))\n",
    "print(np.mean(optical_efficiency))\n",
    "print(np.std(optical_efficiency)/np.mean(optical_efficiency))"
   ]
  },
  {
   "cell_type": "code",
   "execution_count": null,
   "id": "5",
   "metadata": {},
   "outputs": [],
   "source": [
    "plt.hist(optical_efficiency, bins= 50)\n",
    "plt.show()"
   ]
  },
  {
   "cell_type": "code",
   "execution_count": null,
   "id": "6",
   "metadata": {},
   "outputs": [],
   "source": []
  },
  {
   "cell_type": "code",
   "execution_count": null,
   "id": "7",
   "metadata": {},
   "outputs": [],
   "source": []
  },
  {
   "cell_type": "code",
   "execution_count": null,
   "id": "8",
   "metadata": {},
   "outputs": [],
   "source": [
    "scipy.stats.shapiro(optical_efficiency)"
   ]
  },
  {
   "cell_type": "code",
   "execution_count": null,
   "id": "9",
   "metadata": {},
   "outputs": [],
   "source": [
    "scipy.stats.anderson(norm)"
   ]
  },
  {
   "cell_type": "code",
   "execution_count": null,
   "id": "10",
   "metadata": {},
   "outputs": [],
   "source": [
    "scipy.stats.skew(optical_efficienВойцеховськийcy)"
   ]
  },
  {
   "cell_type": "code",
   "execution_count": null,
   "id": "11",
   "metadata": {},
   "outputs": [],
   "source": [
    "scipy.stats.kurtosis(optical_efficiency)"
   ]
  },
  {
   "cell_type": "code",
   "execution_count": null,
   "id": "12",
   "metadata": {},
   "outputs": [],
   "source": [
    "scipy.stats.median_abs_deviation(optical_efficiency)"
   ]
  },
  {
   "cell_type": "code",
   "execution_count": null,
   "id": "13",
   "metadata": {},
   "outputs": [],
   "source": [
    "scipy.stats.skewtest(optical_efficiency)"
   ]
  },
  {
   "cell_type": "code",
   "execution_count": null,
   "id": "14",
   "metadata": {},
   "outputs": [],
   "source": [
    "#pd.Series(optical_efficiency).plot(kind='hist')\n",
    "histplot(optical_efficiency, bins= 50)\n",
    "plt.xlabel('optical efficiency')\n",
    "plt.savefig(\"/Users/vdk/testgh.png\")"
   ]
  },
  {
   "cell_type": "code",
   "execution_count": null,
   "id": "15",
   "metadata": {},
   "outputs": [],
   "source": [
    "quantiles = [np.quantile(optical_efficiency,0.25),np.quantile(optical_efficiency,0.5),np.quantile(optical_efficiency,0.75),np.quantile(optical_efficiency,1)]\n",
    "quantiles"
   ]
  },
  {
   "cell_type": "code",
   "execution_count": null,
   "id": "16",
   "metadata": {},
   "outputs": [],
   "source": [
    "scipy_hist = scipy.stats.rv_histogram(optical_hist)"
   ]
  },
  {
   "cell_type": "code",
   "execution_count": null,
   "id": "17",
   "metadata": {},
   "outputs": [],
   "source": [
    "scipy_hist.std"
   ]
  },
  {
   "cell_type": "code",
   "execution_count": null,
   "id": "18",
   "metadata": {},
   "outputs": [],
   "source": []
  },
  {
   "cell_type": "code",
   "execution_count": null,
   "id": "19",
   "metadata": {},
   "outputs": [],
   "source": [
    "fig,ax = plt.subplots(1,1)"
   ]
  },
  {
   "cell_type": "code",
   "execution_count": null,
   "id": "20",
   "metadata": {},
   "outputs": [],
   "source": [
    "beta, m = 13, 7.58\n",
    "mean, var, skew, kurt = crystalball.stats(beta, m, moments = 'mvsk')\n",
    "x = np.linspace(crystalball.ppf(0.01, beta, m), crystalball.ppf(0.99, beta, m), 10)\n",
    "plt.plot(optical_efficiency, crystalball.pdf(optical_efficiency,beta,m))\n",
    "plt.show()"
   ]
  },
  {
   "cell_type": "code",
   "execution_count": null,
   "id": "21",
   "metadata": {},
   "outputs": [],
   "source": []
  },
  {
   "cell_type": "code",
   "execution_count": null,
   "id": "22",
   "metadata": {},
   "outputs": [],
   "source": [
    "optical_efficiency"
   ]
  },
  {
   "cell_type": "code",
   "execution_count": null,
   "id": "23",
   "metadata": {},
   "outputs": [],
   "source": [
    "fit = crystalball.fit(optical_efficiency)"
   ]
  },
  {
   "cell_type": "code",
   "execution_count": null,
   "id": "24",
   "metadata": {},
   "outputs": [],
   "source": [
    "fit"
   ]
  },
  {
   "cell_type": "code",
   "execution_count": null,
   "id": "25",
   "metadata": {},
   "outputs": [],
   "source": [
    "beta = 48.38 # transition from the Gaussian like part\n",
    "m = 693.499 # exponent parameter\n",
    "loc = 0.1767 # mean\n",
    "scale = 0.02 # std\n"
   ]
  },
  {
   "cell_type": "code",
   "execution_count": null,
   "id": "26",
   "metadata": {},
   "outputs": [],
   "source": [
    "#x = np.linspace(crystalball.ppf(0.01, beta, m), crystalball.ppf(0.99, beta, m), 100)\n",
    "plt.plot(optical_efficiency, crystalball.pdf(optical_efficiency,beta, m))\n",
    "plt.show()"
   ]
  },
  {
   "cell_type": "code",
   "execution_count": null,
   "id": "27",
   "metadata": {},
   "outputs": [],
   "source": [
    "from scipy import stats"
   ]
  },
  {
   "cell_type": "code",
   "execution_count": null,
   "id": "28",
   "metadata": {},
   "outputs": [],
   "source": [
    "beta, m  = 7.68, 13.59\n",
    "x = np.linspace(crystalball.ppf(0.01, beta, m), crystalball.ppf(0.99, beta, m), 100)"
   ]
  },
  {
   "cell_type": "code",
   "execution_count": null,
   "id": "29",
   "metadata": {},
   "outputs": [],
   "source": [
    "plt.plot(x, crystalball.pdf(x, beta,m))"
   ]
  },
  {
   "cell_type": "code",
   "execution_count": null,
   "id": "30",
   "metadata": {},
   "outputs": [],
   "source": [
    "plt.hist(optical_efficiency, bins = 100, density = True)\n",
    "plt.show()"
   ]
  },
  {
   "cell_type": "code",
   "execution_count": null,
   "id": "31",
   "metadata": {},
   "outputs": [],
   "source": [
    "print(min(optical_efficiency), max(optical_efficiency))"
   ]
  },
  {
   "cell_type": "code",
   "execution_count": null,
   "id": "32",
   "metadata": {},
   "outputs": [],
   "source": [
    "#beta, m  = 48.38, 693\n",
    "#y = np.linspace(crystalball.ppf(0.01, beta, m), crystalball.ppf(0.99, beta, m))\n",
    "#plt.plot(optical_efficiency, crystalball.pdf(y, beta,m))"
   ]
  },
  {
   "cell_type": "code",
   "execution_count": null,
   "id": "33",
   "metadata": {},
   "outputs": [],
   "source": [
    "anomalies = optical_efficiency\n",
    "print(min(anomalies), max(anomalies))\n"
   ]
  },
  {
   "cell_type": "code",
   "execution_count": null,
   "id": "34",
   "metadata": {},
   "outputs": [],
   "source": []
  },
  {
   "cell_type": "code",
   "execution_count": null,
   "id": "35",
   "metadata": {},
   "outputs": [],
   "source": [
    "histplot(optical_efficiency, stat = 'probability', bins = 50)"
   ]
  },
  {
   "cell_type": "code",
   "execution_count": null,
   "id": "36",
   "metadata": {},
   "outputs": [],
   "source": [
    "optical_efficiency = np.array(optical_efficiency)\n",
    "plt.plot(sim_data, scipy.stats.norm.pdf(sim_data, arr_2[0], arr_2[1]))\n",
    "plt.hist(optical_efficiency, bins = 80, density = True)\n",
    "plt.show()"
   ]
  },
  {
   "cell_type": "code",
   "execution_count": null,
   "id": "37",
   "metadata": {},
   "outputs": [],
   "source": [
    "min_pixel_value = [100, 90, 80, 50, 1]\n",
    "processed_events = [297/990, 467/990, 639/990, 884/990, 958/990]\n",
    "plt.xlabel(\"minimum number of active pixels on the image\")\n",
    "plt.ylabel(\"fraction of total events processed\")\n",
    "plt.xlim(0,100)\n",
    "plt.ylim(0,1)\n",
    "plt.grid(alpha = 0.5)\n",
    "lineplot(x = min_pixel_value, y = processed_events)\n",
    "plt.savefig(\"/Users/vdk/ProcessedEventFraction.png\")\n"
   ]
  },
  {
   "cell_type": "code",
   "execution_count": null,
   "id": "38",
   "metadata": {},
   "outputs": [],
   "source": [
    "x = [1,20, 30, 40, 50, 60, 70, 80,90,100]\n",
    "y = [0.1807,0.1807, 0.1808, 0.1768, 0.1767,0.1768, 0.1772, 0.1788, 0.1804, 0.1827]\n",
    "yerr = [0.1364,0.1364, 0.1365, 0.0228, 0.0206, 0.01851, 0.017, 0.0172, 0.0183, 0.0202]\n",
    "plt.xlabel(\"min pixels\")\n",
    "plt.ylabel(\"optical efficiency\")\n",
    "plt.title(\"Optical efficiency together with uncertainty\")\n",
    "plt.errorbar(x,y,yerr)\n",
    "plt.savefig(\"/Users/vdk/opteff.png\")"
   ]
  },
  {
   "cell_type": "code",
   "execution_count": null,
   "id": "39",
   "metadata": {},
   "outputs": [],
   "source": [
    "#fig, axs = plt.subplots(nrows=2, ncols=1, gridspec_kw={'height_ratios': [3, 1]}, sharex=True)\n",
    "#fig.set_figheight(12)\n",
    "#fig.set_figwidth(12)\n",
    "relative_uncertainty = np.array(yerr)/np.array(y)*100\n",
    "plt.rcParams.update({'font.size': 22, 'figure.figsize': (12,12)})\n",
    "\n",
    "fig, axes = plt.subplots(2, 1, sharex=True, gridspec_kw={'height_ratios': [3, 1]})\n",
    "fig.subplots_adjust(hspace=0.0)\n",
    "ax = axes[0]\n",
    "ax.errorbar(x, y, yerr=yerr, fmt='o', ms = 10)#, c = 'blue')#, s = 100)#, c= 'black')\n",
    "ax.set_title('Optical efficiency together with its relative uncertainty')\n",
    "ax.set_ylabel('Optical efficiency')\n",
    "#ax.set_ylim(0,0.22)\n",
    "bx = axes[1]\n",
    "bx.scatter(x, relative_uncertainty, marker = '+', s = 350, linewidths = 3.5)#, sharex = ax)#, c = \"black\")\n",
    "bx.set_ylabel(\"Rel. Unc.\")\n",
    "bx.set_xlabel(\"Min pixels\")\n",
    "bx.set_ylim(0,20)\n",
    "#bx.set_title('Relative uncertainty (in %)')\n",
    "ax.grid(alpha = 0.5)\n",
    "bx.grid(alpha = 0.5)\n",
    "plt.savefig(\"/Users/vdk/Uncertainty.png\")"
   ]
  },
  {
   "cell_type": "code",
   "execution_count": null,
   "id": "40",
   "metadata": {},
   "outputs": [],
   "source": []
  },
  {
   "cell_type": "code",
   "execution_count": null,
   "id": "41",
   "metadata": {},
   "outputs": [],
   "source": [
    "fig=plt.figure()\n",
    "ax1 = plt.subplot(211)\n",
    "ax2 = plt.subplot(212)\n",
    "\n",
    "ax1.plot(x,y)\n",
    "ax2.plot(x,yerr)\n",
    "\n",
    "ax1.get_shared_x_axes().join(ax1, ax2)\n",
    "ax1.set_xticklabels([])\n",
    "# ax2.autoscale() ## call autoscale if needed\n",
    "\n",
    "plt.show()"
   ]
  },
  {
   "cell_type": "code",
   "execution_count": null,
   "id": "42",
   "metadata": {},
   "outputs": [],
   "source": []
  }
 ],
 "metadata": {
  "kernelspec": {
   "display_name": "cta",
   "language": "python",
   "name": "cta"
  },
  "language_info": {
   "codemirror_mode": {
    "name": "ipython",
    "version": 3
   },
   "file_extension": ".py",
   "mimetype": "text/x-python",
   "name": "python",
   "nbconvert_exporter": "python",
   "pygments_lexer": "ipython3",
   "version": "3.11.3"
  }
 },
 "nbformat": 4,
 "nbformat_minor": 5
}
