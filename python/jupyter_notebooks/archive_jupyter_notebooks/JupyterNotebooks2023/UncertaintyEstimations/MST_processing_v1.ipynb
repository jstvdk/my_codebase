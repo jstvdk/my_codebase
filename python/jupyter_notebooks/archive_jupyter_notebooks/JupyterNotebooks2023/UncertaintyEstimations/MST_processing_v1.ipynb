{
 "cells": [
  {
   "cell_type": "code",
   "execution_count": null,
   "id": "0",
   "metadata": {},
   "outputs": [],
   "source": [
    "import numpy as np\n",
    "import pandas as pd\n",
    "import matplotlib\n",
    "import csv\n",
    "from seaborn import histplot, pointplot, lineplot, barplot\n",
    "import scipy\n",
    "import matplotlib.pyplot as plt\n",
    "from scipy.stats import crystalball\n",
    "from matplotlib.transforms import Affine2D\n",
    "import random\n",
    "import copy\n",
    "import plotly.graph_objects as go\n",
    "from astropy.io import ascii\n",
    "from ctapipe.utils import get_dataset_path\n",
    "from ctapipe.io import EventSource\n",
    "from ctapipe.visualization import CameraDisplay\n",
    "from ctapipe.instrument import CameraGeometry\n",
    "from matplotlib import pyplot as plt\n",
    "from astropy import units as u\n",
    "from ctapipe.image import ImageProcessor\n",
    "from ctapipe.image.muon import MuonProcessor\n",
    "from ctapipe.calib.camera import CameraCalibrator"
   ]
  },
  {
   "cell_type": "code",
   "execution_count": null,
   "id": "1",
   "metadata": {},
   "outputs": [],
   "source": [
    "max_events = 200\n",
    "source = EventSource(\"/Users/vdk/MST_work/data_muons/mono_proton_simtel/proton_20deg_0deg_run1___cta-prod6-paranal-2147m-Paranal-nshow-3000-0-LSTs-1-MSTs-0-SSTs-NSCAT_5_CSCAT_300_EMIN_1_EMAX_200_after_muontag.simtel.zst\", max_events=max_events)\n",
    "event_iterator = iter(source)\n",
    "\n",
    "for i,j in enumerate(event_iterator):\n",
    "    if i < 200:\n",
    "        event = j\n",
    "        print(event.index.obs_id)\n",
    "        plt.figure()\n",
    "        camgeom = source.subarray.tel[1].camera.geometry\n",
    "        title=\"CT{}, run {} event {}\".format(1,j.index.obs_id,event.index.event_id)\n",
    "        disp = CameraDisplay(camgeom,title=title)\n",
    "        disp.image = j.simulation.tel[1].true_image\n",
    "        disp.cmap = plt.cm.RdBu_r\n",
    "        disp.add_colorbar()\n",
    "        disp.set_limits_percent(95)\n",
    "        #plt.show()\n",
    "        plt.savefig(f'/Users/vdk/MST_work/TrueImagesProtons_test/MST_ProtonCheck4_{event.index.event_id}')\n",
    "    if i == 200:\n",
    "        break\n",
    "        plt.close()"
   ]
  },
  {
   "cell_type": "code",
   "execution_count": null,
   "id": "2",
   "metadata": {},
   "outputs": [],
   "source": [
    "max_events = 200\n",
    "source = EventSource(\"/Users/vdk/MST_work/data_muons/mono_proton_simtel/proton_20deg_0deg_run13___cta-prod6-paranal-2147m-Paranal-nshow-3000-0-LSTs-1-MSTs-0-SSTs-NSCAT_5_CSCAT_300_EMIN_1_EMAX_200_after_muontag.simtel.zst\", max_events=max_events)\n",
    "event_iterator = iter(source)\n",
    "\n",
    "for i,j in enumerate(event_iterator):\n",
    "    if i == 103:\n",
    "        event = j\n",
    "        print(event.index.obs_id)\n",
    "        plt.figure()\n",
    "        camgeom = source.subarray.tel[1].camera.geometry\n",
    "        title=\"CT{}, run {} event {}\".format(1,j.index.obs_id,event.index.event_id)\n",
    "        disp = CameraDisplay(camgeom,title=title)\n",
    "        disp.image = j.simulation.tel[1].true_image\n",
    "        disp.cmap = plt.cm.RdBu_r\n",
    "        disp.add_colorbar()\n",
    "        disp.set_limits_percent(95)\n",
    "        image_processor = ImageProcessor(source.subarray)\n",
    "        muon_processor = MuonProcessor(source.subarray)\n",
    "        r1_dl1_calibrator_for_muon_rings = CameraCalibrator(subarray=source.subarray,image_extractor_type = \"FlashCamExtractor\")\n",
    "        r1_dl1_calibrator_for_muon_rings(event)\n",
    "\n",
    "        image_processor(event)\n",
    "        muon_processor(event)\n",
    "        print(event.muon.tel[1].efficiency)\n",
    "        plt.show()\n",
    "        #plt.savefig(f'/Users/vdk/MST_work/TrueImagesProtons/MST_ProtonCheck4_{event.index.event_id}')\n",
    "        break"
   ]
  },
  {
   "cell_type": "code",
   "execution_count": null,
   "id": "3",
   "metadata": {},
   "outputs": [],
   "source": [
    "event.index.obs_id"
   ]
  },
  {
   "cell_type": "code",
   "execution_count": null,
   "id": "4",
   "metadata": {},
   "outputs": [],
   "source": [
    "max_events = 1000\n",
    "source = EventSource(\"/Users/vdk/MST_work/data_muons/mono_muon_simtel/muon_20deg_0deg_run0___cta-prod6-paranal-2147m-Paranal-0-LSTs-1-MSTs-0-SSTs-NSCAT_1_CSCAT_8_EMIN_0.005_EMAX_1_FIXCHI_600_VIEWCONE_3_after_muontag.simtel.zst\", max_events=max_events)\n",
    "event_iterator = iter(source)\n",
    "\n",
    "for i,j in enumerate(event_iterator):\n",
    "    if i < 30:\n",
    "        event = j\n",
    "        plt.figure()\n",
    "        camgeom = source.subarray.tel[1].camera.geometry\n",
    "        title=\"CT{}, run {} event {}\".format(1,j.index.obs_id,event.index.event_id)\n",
    "        disp = CameraDisplay(camgeom,title=title)\n",
    "        disp.image = j.simulation.tel[1].true_image\n",
    "        disp.cmap = plt.cm.RdBu_r\n",
    "        disp.add_colorbar()\n",
    "        disp.set_limits_percent(95)\n",
    "        image_processor = ImageProcessor(source.subarray)\n",
    "        muon_processor = MuonProcessor(source.subarray)\n",
    "        r1_dl1_calibrator_for_muon_rings = CameraCalibrator(subarray=source.subarray,image_extractor_type = \"FlashCamExtractor\")\n",
    "        r1_dl1_calibrator_for_muon_rings(event)\n",
    "\n",
    "        image_processor(event)\n",
    "        muon_processor(event)\n",
    "        print(event.muon.tel[1].efficiency)\n",
    "        #plt.savefig(f'/Users/vdk/MST_MuonsCheck_{event.index.event_id}')\n",
    "    if i == 30:\n",
    "        break"
   ]
  },
  {
   "cell_type": "code",
   "execution_count": null,
   "id": "5",
   "metadata": {},
   "outputs": [],
   "source": [
    "image_processor = ImageProcessor(source.subarray)\n",
    "muon_processor = MuonProcessor(source.subarray)\n",
    "r1_dl1_calibrator_for_muon_rings = CameraCalibrator(subarray=source.subarray,image_extractor_type = \"FlashCamExtractor\")\n",
    "r1_dl1_calibrator_for_muon_rings(event)\n",
    "\n",
    "image_processor(event)\n",
    "muon_processor(event)\n",
    "print(event.muon.tel[1].efficiency)"
   ]
  },
  {
   "cell_type": "code",
   "execution_count": null,
   "id": "6",
   "metadata": {},
   "outputs": [],
   "source": [
    "max_events = 1000\n",
    "source = EventSource(\"/Users/vdk/MST_work/data_muons/mono_muon_simtel/muon_20deg_0deg_run0___cta-prod6-paranal-2147m-Paranal-0-LSTs-1-MSTs-0-SSTs-NSCAT_1_CSCAT_8_EMIN_0.005_EMAX_1_FIXCHI_600_VIEWCONE_3_after_muontag.simtel.zst\", max_events=max_events)\n",
    "event_iterator = iter(source)"
   ]
  },
  {
   "cell_type": "code",
   "execution_count": null,
   "id": "7",
   "metadata": {},
   "outputs": [],
   "source": [
    "event = next(event_iterator)"
   ]
  },
  {
   "cell_type": "code",
   "execution_count": null,
   "id": "8",
   "metadata": {},
   "outputs": [],
   "source": [
    "event.keys()"
   ]
  },
  {
   "cell_type": "code",
   "execution_count": null,
   "id": "9",
   "metadata": {},
   "outputs": [],
   "source": [
    "print(event.dl0.tel[1].waveform)"
   ]
  },
  {
   "cell_type": "code",
   "execution_count": null,
   "id": "10",
   "metadata": {},
   "outputs": [],
   "source": [
    "for event in event_iterator:\n",
    "    plt.figure()\n",
    "    camgeom = source.subarray.tel[1].camera.geometry\n",
    "    title=\"CT{}, run {} event {}\".format(1,event.index.obs_id,event.index.event_id)\n",
    "    disp = CameraDisplay(camgeom,title=title)\n",
    "    #disp.image = event.r0.tel[1].waveform[0].sum(axis=1)\n",
    "    disp.image = event.simulation.tel[1].true_image\n",
    "    #disp_image = event.dl1.tel[1].image\n",
    "    disp.cmap = plt.cm.RdBu_r\n",
    "    disp.add_colorbar()\n",
    "    disp.set_limits_percent(95)\n",
    "    plt.savefig(f'/Users/vdk/MST_MuonsCheck_{event.index.event_id}')\n",
    "\n",
    "plt.close()"
   ]
  },
  {
   "cell_type": "code",
   "execution_count": null,
   "id": "11",
   "metadata": {},
   "outputs": [],
   "source": []
  },
  {
   "cell_type": "code",
   "execution_count": null,
   "id": "12",
   "metadata": {},
   "outputs": [],
   "source": []
  },
  {
   "cell_type": "code",
   "execution_count": null,
   "id": "13",
   "metadata": {},
   "outputs": [],
   "source": [
    "image_processor = ImageProcessor(source.subarray)\n",
    "muon_processor = MuonProcessor(source.subarray)\n",
    "#r1_dl1_calibrator_for_muon_rings = CameraCalibrator(subarray=source.subarray,image_extractor_type = \"GlobalPeakWindowSum\")\n",
    "#r1_dl1_calibrator_for_muon_rings(event)\n",
    "\n",
    "image_processor(event)\n",
    "muon_processor(event)\n",
    "print(event.muon.tel[1].efficiency)"
   ]
  },
  {
   "cell_type": "code",
   "execution_count": null,
   "id": "14",
   "metadata": {},
   "outputs": [],
   "source": [
    "event.keys()"
   ]
  },
  {
   "cell_type": "code",
   "execution_count": null,
   "id": "15",
   "metadata": {},
   "outputs": [],
   "source": [
    "print(event.muon.tel[1].efficiency)"
   ]
  },
  {
   "cell_type": "code",
   "execution_count": null,
   "id": "16",
   "metadata": {},
   "outputs": [],
   "source": []
  }
 ],
 "metadata": {
  "kernelspec": {
   "display_name": "cta",
   "language": "python",
   "name": "cta"
  },
  "language_info": {
   "codemirror_mode": {
    "name": "ipython",
    "version": 3
   },
   "file_extension": ".py",
   "mimetype": "text/x-python",
   "name": "python",
   "nbconvert_exporter": "python",
   "pygments_lexer": "ipython3",
   "version": "3.11.3"
  }
 },
 "nbformat": 4,
 "nbformat_minor": 5
}
