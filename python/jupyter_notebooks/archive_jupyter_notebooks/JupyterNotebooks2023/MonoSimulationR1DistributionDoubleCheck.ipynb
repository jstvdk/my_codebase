{
 "cells": [
  {
   "cell_type": "code",
   "execution_count": null,
   "metadata": {},
   "outputs": [],
   "source": [
    "import os\n",
    "import numpy as np\n",
    "import matplotlib.pyplot as plt\n",
    "from ctapipe.io import EventSource\n",
    "from ctapipe.visualization import CameraDisplay\n",
    "filename = '/Users/vdk/simtel_corsika_theta_30.390_az_93.640_run1.simtel.gz'\n",
    "source = EventSource(filename)\n",
    "event_iterator = iter(source)"
   ]
  },
  {
   "cell_type": "code",
   "execution_count": null,
   "metadata": {},
   "outputs": [],
   "source": [
    "muon_waveforms_sim = []\n",
    "for filename in os.listdir('/Users/vdk/UnrealLST/waveforms/'):\n",
    "    muon_waveforms_sim.append(np.load('/Users/vdk/UnrealLST/waveforms/' + filename, allow_pickle=True))\n",
    "\n",
    "proton_waveforms_sim = []\n",
    "for filename2 in os.listdir('/Users/vdk/UnrealLST/waveformsProton/'):\n",
    "  proton_waveforms_sim.append(np.load('/Users/vdk/UnrealLST/waveformsProton/' + filename2, allow_pickle=True))\n",
    "\n",
    "\n",
    "\n",
    "min_time = 9\n",
    "max_time = 14\n",
    "r1_cut\n",
    "\n",
    "arg_max_muons_mask_sim = []\n",
    "variance_muon_sim = []\n",
    "muon_pixel_number_sim = []\n",
    "\n",
    "for i,waveform in enumerate(muon_waveforms_sim):\n",
    "    tmp_var_muon = []\n",
    "    tmp_pixel = 0\n",
    "\n",
    "    pixel_mask = np.array(np.max(waveform, axis = 1) > r1_cut, dtype = bool)\n",
    "    for pixel in waveform[pixel_mask]:\n",
    "        arg_max_muons_mask_sim.append(np.argmax(pixel))\n",
    "        tmp_pixel += 1\n",
    "\n",
    "    for pixel in waveform[:, min_time:max_time]:\n",
    "        tmp_var_muon.append(np.var(pixel))\n",
    "   \n",
    "    variance_muon_sim.append(tmp_var_muon)\n",
    "    muon_pixel_number_sim.append(tmp_pixel)\n",
    "\n",
    "\n",
    "\n",
    "arg_max_protons_mask_sim = []\n",
    "variance_proton_sim = []\n",
    "proton_pixel_number_sim = []\n",
    "\n",
    "for waveform in proton_waveforms_sim:\n",
    "   tmp_var_proton = []\n",
    "   tmp_pixel = 0\n",
    "   if True:\n",
    "      pixel_mask = np.array(np.max(waveform, axis = 1) > r1_cut, dtype = bool)\n",
    "      for pixel in waveform[pixel_mask]:\n",
    "        arg_max_protons_mask_sim.append(np.argmax(pixel))\n",
    "        tmp_pixel += 1\n",
    "      \n",
    "      for pixel in waveform[:, min_time:max_time]:\n",
    "        tmp_var_proton.append(np.var(pixel))\n",
    "\n",
    "   variance_proton_sim.append(tmp_var_proton)\n",
    "   proton_pixel_number_sim.append(tmp_pixel)\n"
   ]
  },
  {
   "cell_type": "markdown",
   "metadata": {},
   "source": [
    "### Proton images"
   ]
  },
  {
   "cell_type": "code",
   "execution_count": null,
   "metadata": {},
   "outputs": [],
   "source": [
    "for i,waveform in enumerate(proton_waveforms_sim):\n",
    "    plt.figure(figsize = (18,12))\n",
    "    camgeom = source.subarray.tel[1].camera.geometry\n",
    "    title = f'{i}'\n",
    "    disp = CameraDisplay(camgeom,title=title)\n",
    "    #disp.highlight_pixels(pixel_mask)\n",
    "    disp.image = waveform.sum(axis = 1)\n",
    "    disp.cmap = plt.cm.Reds\n",
    "    disp.add_colorbar()\n",
    "    #disp.set_limits_percent(95)\n",
    "    disp.set_limits_minmax(0,20)\n",
    "    plt.show()"
   ]
  },
  {
   "cell_type": "markdown",
   "metadata": {},
   "source": [
    "### Muon images"
   ]
  },
  {
   "cell_type": "code",
   "execution_count": null,
   "metadata": {},
   "outputs": [],
   "source": [
    "for i,waveform in enumerate(muon_waveforms_sim):\n",
    "    plt.figure(figsize = (18,12))\n",
    "    camgeom = source.subarray.tel[1].camera.geometry\n",
    "    title = f'{i}'\n",
    "    disp = CameraDisplay(camgeom,title=title)\n",
    "    #disp.highlight_pixels(pixel_mask)\n",
    "    disp.image = waveform.sum(axis = 1)\n",
    "    disp.cmap = plt.cm.Reds\n",
    "    disp.add_colorbar()\n",
    "    #disp.set_limits_percent(95)\n",
    "    disp.set_limits_minmax(0,20)\n",
    "    plt.show()"
   ]
  },
  {
   "cell_type": "code",
   "execution_count": null,
   "metadata": {},
   "outputs": [],
   "source": [
    "plt.figure(figsize = (9,6))\n",
    "bin_number1 = 35\n",
    "bin_number2 = 40\n",
    "# Time distribution\n",
    "\n",
    "k, z, l = plt.hist(arg_max_protons_mask_sim, bins = bin_number2, density = True, color = 'red', alpha = 1, label = 'protons in simulation', histtype = 'step')\n",
    "k, z, l = plt.hist(arg_max_muons_mask_sim, bins = bin_number2, density = True, color = 'green', alpha = 1, label = 'muons in simulation', histtype = 'step')\n",
    "\n",
    "\n",
    "\n",
    "\n",
    "plt.legend()\n",
    "plt.xlabel(\"Time of max R1 amplitude\")\n",
    "plt.ylabel(\"Probability density\")\n",
    "plt.grid(alpha = 0.5)\n",
    "#plt.savefig(\"/Users/vdk/RealLST/images/Run14948_1_timesample_R1cut3.png\")"
   ]
  },
  {
   "cell_type": "code",
   "execution_count": null,
   "metadata": {},
   "outputs": [],
   "source": []
  },
  {
   "cell_type": "code",
   "execution_count": null,
   "metadata": {},
   "outputs": [],
   "source": []
  }
 ],
 "metadata": {
  "kernelspec": {
   "display_name": "cta",
   "language": "python",
   "name": "python3"
  },
  "language_info": {
   "codemirror_mode": {
    "name": "ipython",
    "version": 3
   },
   "file_extension": ".py",
   "mimetype": "text/x-python",
   "name": "python",
   "nbconvert_exporter": "python",
   "pygments_lexer": "ipython3",
   "version": "3.11.6"
  }
 },
 "nbformat": 4,
 "nbformat_minor": 2
}
