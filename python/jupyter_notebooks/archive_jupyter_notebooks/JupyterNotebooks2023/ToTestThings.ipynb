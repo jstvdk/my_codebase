{
 "cells": [
  {
   "cell_type": "code",
   "execution_count": null,
   "id": "0",
   "metadata": {},
   "outputs": [],
   "source": [
    "import sys\n",
    "sys.path.append('/Users/vdk/GeneveWork/Code/calibpipe-main-calibpipe/')\n",
    "from astropy.io import ascii\n",
    "import numpy as np\n",
    "import pandas as pd\n",
    "import matplotlib\n",
    "import csv\n",
    "import scipy\n",
    "import matplotlib.pyplot as plt\n",
    "from seaborn import histplot\n",
    "import random\n",
    "import copy\n",
    "from os import path, makedirs\n",
    "from astropy.coordinates import SkyCoord\n",
    "from astropy.table import Table\n",
    "import astropy.units as u\n",
    "from ctapipe.containers import MuonEfficiencyContainer\n",
    "from ctapipe.coordinates import CameraFrame, TelescopeFrame\n",
    "from ctapipe.io import EventSource, EventSeeker\n",
    "from ctapipe.core import TelescopeComponent\n",
    "from ctapipe.core.traits import (\n",
    "    List,\n",
    "    Int,\n",
    "    FloatTelescopeParameter,\n",
    "    TelescopeParameter,\n",
    "    Unicode,\n",
    ")\n",
    "from ctapipe.image.cleaning import tailcuts_clean\n",
    "from ctapipe.image.muon import MuonRingFitter, MuonIntensityFitter\n",
    "from traitlets.config import Config\n",
    "from ctapipe.image import ImageProcessor\n",
    "from ctapipe.image.muon import MuonProcessor\n",
    "from ctapipe.visualization import CameraDisplay\n",
    "from ctapipe.instrument import CameraGeometry\n",
    "from ctapipe.calib import CameraCalibrator\n",
    "from traitlets.config.loader import Config, FileConfigLoader, JSONFileConfigLoader\n",
    "import pathlib\n",
    "# from calibpipe.throughput import MuonCalibrator\n",
    "from traitlets.config import Config\n",
    "from astropy.time import Time\n",
    "from astropy.coordinates import EarthLocation,SkyCoord, AltAz \n",
    "from traitlets.config import Config\n",
    "import time\n",
    "from ctapipe.image import number_of_island_sizes\n",
    "from ctapipe.image import (\n",
    "    hillas_parameters,\n",
    "    leakage_parameters,\n",
    "    concentration_parameters,\n",
    ")\n",
    "from ctapipe.image import timing_parameters\n",
    "from ctapipe.image import number_of_islands\n",
    "from ctapipe.image import camera_to_shower_coordinates\n",
    "%matplotlib inline\n",
    "\n",
    "\n"
   ]
  },
  {
   "cell_type": "code",
   "execution_count": null,
   "id": "1",
   "metadata": {},
   "outputs": [],
   "source": [
    "round(event.muon.tel[1].efficiency.optical_efficiency,3)"
   ]
  },
  {
   "cell_type": "code",
   "execution_count": null,
   "id": "2",
   "metadata": {},
   "outputs": [],
   "source": [
    "source = EventSource(\"/Users/vdk/Software/ctasoft/calibpipe/src/calibpipe/tests/data/throughput/simtel_run501_muon_telescope_transmission_0.8.simtel.gz\", max_events = 100)\n",
    "event_iterator = iter(source)\n",
    "for i,event in enumerate(event_iterator):\n",
    "    image_processor = ImageProcessor(source.subarray)\n",
    "    muon_processor = MuonProcessor(source.subarray)\n",
    "    calib = CameraCalibrator(image_extractor_type=\"GlobalPeakWindowSum\",subarray = source.subarray)\n",
    "    calib(event)\n",
    "    image_processor(event)\n",
    "    muon_processor(event)\n",
    "    plt.figure(figsize = (9,6))\n",
    "    camgeom = source.subarray.tel[1].camera.geometry\n",
    "    title = f'event {event.index.event_id} in telescope with opt_eff {round(event.muon.tel[1].efficiency.optical_efficiency,3)}'\n",
    "    disp = CameraDisplay(camgeom,title=title)\n",
    "    #disp.image = event.r1.tel[m].waveform.sum(axis = 1)\n",
    "    disp.image = event.dl1.tel[1].image\n",
    "    #disp.cmap = plt.cm.viridis\n",
    "    disp.cmap = plt.cm.RdBu_r\n",
    "    disp.add_colorbar()\n",
    "    disp.set_limits_percent(95)\n",
    "    plt.show()"
   ]
  },
  {
   "cell_type": "code",
   "execution_count": null,
   "id": "3",
   "metadata": {},
   "outputs": [],
   "source": [
    "source = EventSource(\"/Users/vdk/Software/ctasoft/calibpipe/src/calibpipe/tests/data/throughput/simtel_run501_muon_telescope_transmission_0.8.simtel.gz\", max_events = 100)\n",
    "event_iterator = iter(source)\n",
    "event = next(event_iterator)\n",
    "\n"
   ]
  },
  {
   "cell_type": "code",
   "execution_count": null,
   "id": "4",
   "metadata": {},
   "outputs": [],
   "source": [
    "source.subarray.tels[1].optics_name"
   ]
  },
  {
   "cell_type": "code",
   "execution_count": null,
   "id": "5",
   "metadata": {},
   "outputs": [],
   "source": [
    "import numpy as np\n",
    "\n",
    "filename1 = '/Users/vdk/energies_500.txt'\n",
    "fi1 = open(filename1,'r')\n",
    "lines = fi1.readlines() \n",
    "splitted = lines[0].split(',')\n",
    "energies_proton_1 = np.array(list(filter(None, splitted))).astype('float')\n",
    "\n",
    "filename2 = '/Users/vdk/energies_501-1100.txt'\n",
    "fi2 = open(filename2,'r')\n",
    "lines2 = fi2.readlines() \n",
    "splitted2 = lines2[0].split(',')\n",
    "energies_proton_2 = np.array(list(filter(None, splitted2))).astype('float')\n",
    "\n",
    "filename2 = '/Users/vdk/energies_for_filerange1-1100.txt'\n",
    "fi2 = open(filename2, 'r')\n",
    "lines = fi2.readlines()\n",
    "energies_muon = np.array(lines).astype('float')\n",
    "\n",
    "w_protons = sum([energy**(-0.7) for energy in energies_proton_1])\n",
    "w_protons = w_protons + sum([energy**(-0.7) for energy in energies_proton_2])\n",
    "#new_proton_sample = len(energies_proton)/w_protons * len(energies_proton)\n",
    "new_proton_sample = w_protons\n",
    "print(\"Initial proton sample size = \", len(energies_proton_1))\n",
    "print(\"Weighted proton sample size = \", new_proton_sample)\n",
    "\n",
    "\n",
    "w_muons = sum([energy**(-0.7) for energy in energies_muon])\n",
    "#new_muon_sample = len(energies_muon)/w_muons * len(energies_muon)\n",
    "new_muon_sample = w_muons\n",
    "print(\"Initial muon sample size = \", len(energies_muon))\n",
    "print(\"Weighted muon sample size = \", new_muon_sample)\n",
    "\n",
    "print(\"Initial relation between muon sample size and proton sample = \", len(energies_muon)/(len(energies_proton_1) + len(energies_proton_2)))\n",
    "print(\"Weighed relation between muon sample size and proton sample = \", new_muon_sample / new_proton_sample)"
   ]
  },
  {
   "cell_type": "code",
   "execution_count": null,
   "id": "6",
   "metadata": {},
   "outputs": [],
   "source": [
    "print(1112/864648)\n",
    "print(9124/(9e6*0.79))"
   ]
  },
  {
   "cell_type": "code",
   "execution_count": null,
   "id": "7",
   "metadata": {},
   "outputs": [],
   "source": [
    "event_container = {}\n",
    "waveform_min_amplitude = 2\n",
    "min_pixel = 200\n",
    "pixel_number_arr = np.array([])\n",
    "pixel_number_dict = {}\n",
    "\n",
    "for k in range(1,41):\n",
    "    filename = f'/Users/vdk/sim_run_folder/output_prod_v12/corsika_theta_28.4_az_182.75_run{k}.simtel.gz'\n",
    "    source = EventSource(filename, max_events=10)\n",
    "    event_iterator = iter(source)\n",
    "    keks = k*1000\n",
    "    for i,event in enumerate(event_iterator):\n",
    "        if len(event.trigger.tels_with_trigger) > 1:\n",
    "            for tel_id in event.trigger.tels_with_trigger:\n",
    "                tmp_arr = np.array([])\n",
    "                for pix_id in event.r1.tel[tel_id].waveform:\n",
    "                    #print(\"pix_id = \", pix_id)\n",
    "                    #print(\"max pix_id = \", np.max(pix_id))\n",
    "                    tmp_arr = np.append(tmp_arr, np.max(pix_id)) # знаходить максимальне значення в кожному пікселі\n",
    "                print(\"tmp_arr = \", tmp_arr)\n",
    "                print(\"len tmp_arr = \", len(tmp_arr[tmp_arr>waveform_min_amplitude]))\n",
    "                pixel_number = len(tmp_arr[tmp_arr>r1_cut])\n",
    "\n",
    "                if pixel_number > min_pixel:\n",
    "                    event_container[keks+i] = event"
   ]
  },
  {
   "cell_type": "code",
   "execution_count": null,
   "id": "8",
   "metadata": {},
   "outputs": [],
   "source": [
    "# histogram for number of pixels > r1 cut for \n",
    "\n",
    "event_container = {}\n",
    "waveform_min_amplitude = 2\n",
    "min_pixel = 200\n",
    "pixel_number_arr = np.array([])\n",
    "pixel_number_dict = {}\n",
    "t1 = time.perf_counter(), time.process_time()\n",
    "\n",
    "\n",
    "\n",
    "for k in range(1,41):\n",
    "    t3 = time.perf_counter(), time.process_time()\n",
    "    filename = f'/Users/vdk/sim_run_folder/output_prod_v12/corsika_theta_28.4_az_182.75_run{k}.simtel.gz'\n",
    "    source = EventSource(filename, max_events=1000)\n",
    "    event_iterator = iter(source)\n",
    "    keks = k*1000\n",
    "    for i,event in enumerate(event_iterator):\n",
    "        tmp_max_pixel_arr = np.array([])\n",
    "        if len(event.trigger.tels_with_trigger) > 1:\n",
    "            for tel_id in event.trigger.tels_with_trigger:\n",
    "                tmp_arr = np.array([])\n",
    "                for pix_id in event.r1.tel[tel_id].waveform:\n",
    "                    tmp_arr = np.append(tmp_arr, np.max(pix_id)) # знаходить максимальне значення в кожному пікселі\n",
    "                #pixel_number = len(tmp_arr[tmp_arr>r1_cut])\n",
    "                tmp_max_pixel_arr = np.append(tmp_max_pixel_arr,len(tmp_arr[tmp_arr>r1_cut])) \n",
    "            pixel_number_arr = np.append(pixel_number_arr, max(tmp_max_pixel_arr))\n",
    "            if max(tmp_max_pixel_arr) > min_pixel:\n",
    "                    event_container[keks+i] = event\n",
    "    t2 = time.perf_counter(), time.process_time() \n",
    "    print(f\" Real time of iteration: {t2[0] - t3[0]:.2f} seconds\")\n",
    "    print(f\" CPU time of iteration: {t2[1] - t3[1]:.2f} seconds\")\n",
    "\n",
    "print(f\" Final Real time: {t2[0] - t1[0]:.2f} seconds\")\n",
    "print(f\" Final CPU time: {t2[1] - t1[1]:.2f} seconds\")"
   ]
  },
  {
   "cell_type": "code",
   "execution_count": null,
   "id": "9",
   "metadata": {},
   "outputs": [],
   "source": [
    "#print(\"len = \", len(sorted(pixel_number_arr[pixel_number_arr>200])))\n",
    "#print(sorted(pixel_number_arr[pixel_number_arr>200]))\n",
    "print(len(pixel_number_arr))"
   ]
  },
  {
   "cell_type": "code",
   "execution_count": null,
   "id": "10",
   "metadata": {},
   "outputs": [],
   "source": [
    "fig = plt.figure(figsize = (10,9))\n",
    "#ax = fig.add_subplot(1,1,1)\n",
    "\n",
    "\n",
    "x,y,_ = plt.hist(pixel_number_arr, bins = 100, range = (0,1855), density = True, histtype = 'step', alpha = 1, label = 'Number of pixels with r1 amplitude > 2')\n",
    "\n",
    "plt.xlim(0,1856)\n",
    "plt.ylim(0,0.001)\n",
    "\n",
    "#ax.set_xlim(0, 5)\n",
    "#ax.set_ylim(0, 2)\n",
    "#major_ticks_x = np.arange(0, 1855, 1)\n",
    "#minor_ticks_x = np.arange(0, 1855, 1)\n",
    "#major_ticks_y = np.arange(0, 5, 0.5)\n",
    "#minor_ticks_y = np.arange(0, 5, 0.5)\n",
    "#ax.set_xticks(major_ticks_x)\n",
    "#ax.set_xticks(minor_ticks_x, minor=True)\n",
    "#ax.set_yticks(major_ticks_y)\n",
    "#ax.set_yticks(minor_ticks_y, minor=True)\n",
    "# And a corresponding grid\n",
    "#ax.grid(which='both')\n",
    "# Or if you want different settings for the grids:\n",
    "#ax.grid(which='minor', alpha=0.2)\n",
    "#ax.grid(which='major', alpha=0.5)\n",
    "print(\"max number of pixels per event = \", int(max(pixel_number_arr)))\n",
    "print(\"number of events with number of pixels > 200 = \", len(sorted(pixel_number_arr[pixel_number_arr>200])))\n",
    "plt.legend()\n",
    "plt.xlabel(\"Number of pixels\")\n",
    "plt.ylabel(\"Probability density\")\n",
    "plt.grid()"
   ]
  },
  {
   "cell_type": "code",
   "execution_count": null,
   "id": "11",
   "metadata": {},
   "outputs": [],
   "source": []
  },
  {
   "cell_type": "code",
   "execution_count": null,
   "id": "12",
   "metadata": {},
   "outputs": [],
   "source": [
    "event_container_doubled = {}\n",
    "waveform_min_amplitude = 2\n",
    "min_pixel = 400\n",
    "pixel_number_arr_doubled = np.array([])\n",
    "pixel_number_dict = {}\n",
    "t1 = time.perf_counter(), time.process_time()\n",
    "\n",
    "\n",
    "\n",
    "for k in range(1,41):\n",
    "    t3 = time.perf_counter(), time.process_time()\n",
    "    filename = f'/Users/vdk/sim_run_folder/output_prod_v12/corsika_theta_28.4_az_182.75_run{k}.simtel.gz'\n",
    "    source = EventSource(filename, max_events=1000)\n",
    "    event_iterator = iter(source)\n",
    "    keks = k*1000\n",
    "    for i,event in enumerate(event_iterator):\n",
    "        pixel_number = 0\n",
    "        tel_counter = 0\n",
    "        if len(event.trigger.tels_with_trigger) > 1:\n",
    "            for tel_id in event.trigger.tels_with_trigger:\n",
    "                tmp_arr = np.array([])\n",
    "                for pix_id in event.r1.tel[tel_id].waveform:\n",
    "                    tmp_arr = np.append(tmp_arr, np.max(pix_id)) # знаходить максимальне значення в кожному пікселі\n",
    "                pixel_number += len(tmp_arr[tmp_arr>r1_cut])\n",
    "                tel_counter += 1\n",
    "                if tel_counter == 2:\n",
    "                    pixel_number_arr_doubled = np.append(pixel_number_arr_doubled, pixel_number)\n",
    "                    if pixel_number > min_pixel:\n",
    "                        event_container_doubled[keks+i] = event\n",
    "                    break\n",
    "    t2 = time.perf_counter(), time.process_time() \n",
    "    print(f\" Real time of iteration: {t2[0] - t3[0]:.2f} seconds\")\n",
    "    print(f\" CPU time of iteration: {t2[1] - t3[1]:.2f} seconds\")\n",
    "\n",
    "print(f\" Final Real time: {t2[0] - t1[0]:.2f} seconds\")\n",
    "print(f\" Final CPU time: {t2[1] - t1[1]:.2f} seconds\")"
   ]
  },
  {
   "cell_type": "code",
   "execution_count": null,
   "id": "13",
   "metadata": {},
   "outputs": [],
   "source": [
    "max(pixel_number_arr_doubled)"
   ]
  },
  {
   "cell_type": "code",
   "execution_count": null,
   "id": "14",
   "metadata": {},
   "outputs": [],
   "source": [
    "fig = plt.figure(figsize = (10,9))\n",
    "#ax = fig.add_subplot(1,1,1)\n",
    "\n",
    "\n",
    "x,y,_ = plt.hist(pixel_number_arr_doubled, bins = 100, range = (0,1855), density = True, histtype = 'step', alpha = 1, label = 'Number of pixels with r1 amplitude > 2')\n",
    "\n",
    "plt.xlim(0,3711)\n",
    "#plt.ylim(0,0.01)\n",
    "\n",
    "#ax.set_xlim(0, 5)\n",
    "#ax.set_ylim(0, 2)\n",
    "#major_ticks_x = np.arange(0, 1855, 1)\n",
    "#minor_ticks_x = np.arange(0, 1855, 1)\n",
    "#major_ticks_y = np.arange(0, 5, 0.5)\n",
    "#minor_ticks_y = np.arange(0, 5, 0.5)\n",
    "#ax.set_xticks(major_ticks_x)\n",
    "#ax.set_xticks(minor_ticks_x, minor=True)\n",
    "#ax.set_yticks(major_ticks_y)\n",
    "#ax.set_yticks(minor_ticks_y, minor=True)\n",
    "# And a corresponding grid\n",
    "#ax.grid(which='both')\n",
    "# Or if you want different settings for the grids:\n",
    "#ax.grid(which='minor', alpha=0.2)\n",
    "#ax.grid(which='major', alpha=0.5)\n",
    "print(\"max number of pixels per event = \", int(max(pixel_number_arr_doubled)))\n",
    "#print(\"number of events with number of pixels > 400 = \", len(sorted(pixel_number_arr_doubled[pixel_number_arr>400])))\n",
    "plt.legend()\n",
    "plt.xlabel(\"Number of pixels\")\n",
    "plt.ylabel(\"Probability density\")\n",
    "plt.grid()"
   ]
  },
  {
   "cell_type": "code",
   "execution_count": null,
   "id": "15",
   "metadata": {},
   "outputs": [],
   "source": [
    "len(event_container)"
   ]
  },
  {
   "cell_type": "code",
   "execution_count": null,
   "id": "16",
   "metadata": {},
   "outputs": [],
   "source": [
    "pixel_number_array = []\n",
    "true_image_sum = []\n",
    "for i in event_container:\n",
    "    for tel in event_container[i].trigger.tels_with_trigger:\n",
    "        tmp_arr = np.array([])\n",
    "        #print(\"Number of active pixels in the event = \" np.count_nonzero(event_container[i].simulation.true_image))\n",
    "        n_sim_pix = np.count_nonzero(event_container[i].simulation.tel[tel].true_image)\n",
    "        for pix_id in event_container[i].r1.tel[tel].waveform:\n",
    "            tmp_arr = np.append(tmp_arr, np.max(pix_id)) # знаходить максимальне значення в кожному пікселі\n",
    "        pixel_number = len(tmp_arr[tmp_arr>r1_cut])\n",
    "        plt.figure(figsize = (9,6))\n",
    "        camgeom = source.subarray.tel[tel].camera.geometry\n",
    "        #title=f\"Event_{key}_optEff{round(muon_events[key].muon.tel[tel].efficiency.optical_efficiency,3)}_width{round(muon_events[key].muon.tel[tel].efficiency.width.to_value(),3)}_telescope{tel}\"\n",
    "        title=f\"Event{i} - number of simulated pixels = {n_sim_pix} and Pixels with r1 waveform > 2 = {pixel_number}\"\n",
    "        disp = CameraDisplay(camgeom,title=title)\n",
    "        disp.image = event_container[i].simulation.tel[tel].true_image\n",
    "        disp.cmap = plt.cm.RdBu_r\n",
    "        disp.add_colorbar()\n",
    "        disp.set_limits_percent(95)\n",
    "        pixel_number_array.append(pixel_number)\n",
    "        true_image_sum.append(n_sim_pix)\n",
    "        plt.show()"
   ]
  },
  {
   "cell_type": "code",
   "execution_count": null,
   "id": "17",
   "metadata": {},
   "outputs": [],
   "source": [
    "energies = []\n",
    "for i in event_container:\n",
    "    energies.append(event_container[i].simulation.shower.energy.to_value())\n"
   ]
  },
  {
   "cell_type": "code",
   "execution_count": null,
   "id": "18",
   "metadata": {},
   "outputs": [],
   "source": [
    "plt.plot(energies)\n",
    "#energies\n",
    "plt.ylabel(\"TeV\")"
   ]
  },
  {
   "cell_type": "code",
   "execution_count": null,
   "id": "19",
   "metadata": {},
   "outputs": [],
   "source": [
    "event_container[1294].simulation.tel[2].true_image"
   ]
  },
  {
   "cell_type": "code",
   "execution_count": null,
   "id": "20",
   "metadata": {},
   "outputs": [],
   "source": [
    "event_container[1294].trigger.tels_with_trigger"
   ]
  },
  {
   "cell_type": "code",
   "execution_count": null,
   "id": "21",
   "metadata": {},
   "outputs": [],
   "source": [
    "np.count_nonzero(event_container[1294].simulation.tel[2].true_image)"
   ]
  },
  {
   "cell_type": "code",
   "execution_count": null,
   "id": "22",
   "metadata": {},
   "outputs": [],
   "source": [
    "r1_cut = 2\n",
    "tmp_max_pixel_arr = np.array([])\n",
    "tmp_arr = np.array([])\n",
    "for pix_id in event_container[1294].r1.tel[2].waveform:\n",
    "    tmp_arr = np.append(tmp_arr, np.max(pix_id)) # знаходить максимальне значення в кожному пікселі\n",
    "pixel_number = len(tmp_arr[tmp_arr>r1_cut])\n",
    "print(pixel_number)"
   ]
  },
  {
   "cell_type": "code",
   "execution_count": null,
   "id": "23",
   "metadata": {},
   "outputs": [],
   "source": [
    "number_of_true_pixels = []\n",
    "energies = []\n",
    "for i in event_container:\n",
    "    tmp = []\n",
    "    print('new event')\n",
    "    energies.append(event_container[i].simulation.shower.energy.to_value())\n",
    "    for tel in event_container[i].trigger.tels_with_trigger:\n",
    "        tmp.append(np.count_nonzero(event_container[i].simulation.tel[tel].true_image))\n",
    "    number_of_true_pixels.append(max(tmp))"
   ]
  },
  {
   "cell_type": "code",
   "execution_count": null,
   "id": "24",
   "metadata": {},
   "outputs": [],
   "source": [
    "x,y,z = plt.hist(number_of_true_pixels, alpha = 0.5, bins = 6, label = 'number of simulated pixels')\n",
    "plt.ylabel(\"Count\")\n",
    "plt.xlabel(\"Number of pixels\")\n",
    "plt.grid()\n",
    "plt.legend()"
   ]
  },
  {
   "cell_type": "code",
   "execution_count": null,
   "id": "25",
   "metadata": {},
   "outputs": [],
   "source": [
    "x,y,z = plt.hist(energies, alpha = 0.5, bins = 10, label = 'Energies of event')\n",
    "plt.ylabel(\"Count\")\n",
    "plt.xlabel(\"Energies [TeV]\")\n",
    "plt.grid()\n",
    "plt.legend()"
   ]
  },
  {
   "cell_type": "code",
   "execution_count": null,
   "id": "26",
   "metadata": {},
   "outputs": [],
   "source": [
    "max(number_of_true_pixels)"
   ]
  },
  {
   "cell_type": "code",
   "execution_count": null,
   "id": "27",
   "metadata": {},
   "outputs": [],
   "source": [
    "len(energies)"
   ]
  },
  {
   "cell_type": "code",
   "execution_count": null,
   "id": "28",
   "metadata": {},
   "outputs": [],
   "source": [
    "1+2"
   ]
  },
  {
   "cell_type": "code",
   "execution_count": null,
   "id": "29",
   "metadata": {},
   "outputs": [],
   "source": [
    "return_pixels = np.array([])\n",
    "island_id = np.array([1,2,2,2,3,4,4,5,5,6,1,1,1,1])\n",
    "t = 1\n",
    "\n",
    "test = []\n",
    "return_pixels = np.append(return_pixels, np.where(island_id ==t)[0])\n",
    "\n",
    "test.append(np.where(island_id ==t)[0])"
   ]
  },
  {
   "cell_type": "code",
   "execution_count": null,
   "id": "30",
   "metadata": {},
   "outputs": [],
   "source": [
    "test"
   ]
  },
  {
   "cell_type": "code",
   "execution_count": null,
   "id": "31",
   "metadata": {},
   "outputs": [],
   "source": [
    "np.where(island_id==2)[0]"
   ]
  },
  {
   "cell_type": "code",
   "execution_count": null,
   "id": "32",
   "metadata": {},
   "outputs": [],
   "source": [
    "return_pixels"
   ]
  },
  {
   "cell_type": "code",
   "execution_count": null,
   "id": "33",
   "metadata": {},
   "outputs": [],
   "source": [
    "test_arr = [1,2,3]"
   ]
  },
  {
   "cell_type": "code",
   "execution_count": null,
   "id": "34",
   "metadata": {},
   "outputs": [],
   "source": [
    "test_list = [1,2,3,4,5]\n",
    "\n",
    "result = ','.join(map(str, test_list))\n",
    "with open(\"/Users/vdk/testtest.txt\", 'a') as fout:\n",
    "    fout.write(result)\n",
    "    fout.write(',')"
   ]
  },
  {
   "cell_type": "code",
   "execution_count": null,
   "id": "35",
   "metadata": {},
   "outputs": [],
   "source": [
    "result"
   ]
  },
  {
   "cell_type": "code",
   "execution_count": null,
   "id": "36",
   "metadata": {},
   "outputs": [],
   "source": [
    "2000/60"
   ]
  },
  {
   "cell_type": "code",
   "execution_count": null,
   "id": "37",
   "metadata": {},
   "outputs": [],
   "source": [
    "for i in range(0,10):\n",
    "    print(f\"srun 4LST_cleaning_cluster.py {i * 20} {i*20 + 20} \\n\")"
   ]
  },
  {
   "cell_type": "code",
   "execution_count": null,
   "id": "38",
   "metadata": {},
   "outputs": [],
   "source": [
    "import joblib"
   ]
  },
  {
   "cell_type": "code",
   "execution_count": null,
   "id": "39",
   "metadata": {},
   "outputs": [],
   "source": [
    "joblib.cpu_count()"
   ]
  },
  {
   "cell_type": "code",
   "execution_count": null,
   "id": "40",
   "metadata": {},
   "outputs": [],
   "source": [
    "68/1356"
   ]
  },
  {
   "cell_type": "code",
   "execution_count": null,
   "id": "41",
   "metadata": {},
   "outputs": [],
   "source": [
    "73/2873"
   ]
  },
  {
   "cell_type": "code",
   "execution_count": null,
   "id": "42",
   "metadata": {},
   "outputs": [],
   "source": []
  }
 ],
 "metadata": {
  "kernelspec": {
   "display_name": "cta-dev",
   "language": "python",
   "name": "python3"
  },
  "language_info": {
   "codemirror_mode": {
    "name": "ipython",
    "version": 3
   },
   "file_extension": ".py",
   "mimetype": "text/x-python",
   "name": "python",
   "nbconvert_exporter": "python",
   "pygments_lexer": "ipython3",
   "version": "3.9.16"
  }
 },
 "nbformat": 4,
 "nbformat_minor": 5
}
