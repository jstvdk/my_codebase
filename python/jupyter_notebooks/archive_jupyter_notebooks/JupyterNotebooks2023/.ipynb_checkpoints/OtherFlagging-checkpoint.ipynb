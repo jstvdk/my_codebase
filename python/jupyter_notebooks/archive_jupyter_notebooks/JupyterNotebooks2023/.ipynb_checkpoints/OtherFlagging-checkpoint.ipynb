{
 "cells": [
  {
   "cell_type": "code",
   "execution_count": null,
   "id": "0",
   "metadata": {},
   "outputs": [],
   "source": [
    "import sys\n",
    "sys.path.append('/Users/vdk/GeneveWork/Code/calibpipe-main-calibpipe/')\n",
    "from astropy.io import ascii\n",
    "import numpy as np\n",
    "import pandas as pd\n",
    "import matplotlib\n",
    "import csv\n",
    "import scipy\n",
    "import matplotlib.pyplot as plt\n",
    "from seaborn import histplot\n",
    "import random\n",
    "import copy\n",
    "from os import path, makedirs\n",
    "from astropy.coordinates import SkyCoord\n",
    "from astropy.table import Table\n",
    "import astropy.units as u\n",
    "from ctapipe.containers import MuonEfficiencyContainer\n",
    "from ctapipe.coordinates import CameraFrame, TelescopeFrame\n",
    "from ctapipe.io import EventSource, EventSeeker\n",
    "from ctapipe.core import TelescopeComponent\n",
    "from ctapipe.core.traits import (\n",
    "    List,\n",
    "    Int,\n",
    "    FloatTelescopeParameter,\n",
    "    TelescopeParameter,\n",
    "    Unicode,\n",
    ")\n",
    "from ctapipe.image.cleaning import tailcuts_clean\n",
    "from ctapipe.image.muon import MuonRingFitter, MuonIntensityFitter\n",
    "from traitlets.config import Config\n",
    "from ctapipe.image import ImageProcessor\n",
    "from ctapipe.image.muon import MuonProcessor\n",
    "from ctapipe.visualization import CameraDisplay\n",
    "from ctapipe.instrument import CameraGeometry\n",
    "from ctapipe.calib import CameraCalibrator\n",
    "from traitlets.config.loader import Config, FileConfigLoader, JSONFileConfigLoader\n",
    "import pathlib\n",
    "from calibpipe.throughput import MuonCalibrator\n",
    "from traitlets.config import Config\n",
    "from astropy.time import Time\n",
    "from astropy.coordinates import EarthLocation,SkyCoord, AltAz \n",
    "from traitlets.config import Config\n",
    "import time\n",
    "from ctapipe.image import number_of_island_sizes\n",
    "from ctapipe.image import (\n",
    "    hillas_parameters,\n",
    "    leakage_parameters,\n",
    "    concentration_parameters,\n",
    ")\n",
    "from ctapipe.image import timing_parameters\n",
    "from ctapipe.image import number_of_islands\n",
    "from ctapipe.image import camera_to_shower_coordinates\n",
    "\n",
    "\n",
    "\n",
    "\n"
   ]
  },
  {
   "cell_type": "code",
   "execution_count": null,
   "id": "1",
   "metadata": {},
   "outputs": [],
   "source": [
    "###\n",
    "# Algorithm to process events and try to calibrate them\n",
    "###\n",
    "int_cut = 0.3\n",
    "min_pixel = 80\n",
    "\n",
    "event_num = 8234\n",
    "\n",
    "muon_processor_config = Config({\"MuonProcessor\": \n",
    "                                {\"RingQuery\": \n",
    "                                 {\"quality_criteria\" : [[\"intensity_check\",f\"np.abs(parameters.intensity_ratio - 1) < {int_cut}\"],\n",
    "                                                        [\"ring_containment\", \"parameters.containment > 0.5\"],\n",
    "                                                        [\"ring_completeness\", \"parameters.completeness > 0.5\"]]}}})\n",
    "\n",
    "#muon_processor_config = Config({\"MuonProcessor\":\n",
    "#                                {\"ImageParameterQuery\" :\n",
    "#                                {\"quality_criteria\" : [[\"min_pixels\", f\"dl1_params.morphology.n_pixels > {min_pixel}\"],\n",
    "#                                                        [\"min_intensity\", \"dl1_params.hillas.intensity > 500\"]]}}})\n",
    "\n",
    "muon_processor_config_2 = Config({\"MuonProcessor\":\n",
    "                                {\"ImageParameterQuery\" :\n",
    "                                 {\"quality_criteria\" : [[\"min_pixels\", f\"dl1_params.morphology.n_pixels > {min_pixel}\"],\n",
    "                                                        [\"min_intensity\", \"dl1_params.hillas.intensity > 500\"]]}}})\n",
    "\n",
    "checker = 0\n",
    "event_container = {}\n",
    "t1 = time.perf_counter(), time.process_time()\n",
    "\n",
    "\n",
    "\n",
    "\n",
    "for k in range(1,41):\n",
    "    filename = f'/Users/vdk/sim_run_folder/output_prod_v12/corsika_theta_28.4_az_182.75_run{k}.simtel.gz'\n",
    "    source = EventSource(filename, max_events=9000)\n",
    "    event_iterator = iter(source)\n",
    "    keks = k*1000\n",
    "    for i,j in enumerate(event_iterator):\n",
    "        checker += 1\n",
    "        if len(j.trigger.tels_with_trigger) > 1:\n",
    "            image_processor = ImageProcessor(source.subarray)\n",
    "            #muon_processor = MuonProcessor(source.subarray, config = muon_processor_config)\n",
    "            muon_processor = MuonProcessor(source.subarray)\n",
    "            calib = CameraCalibrator(\n",
    "                image_extractor_type=\"GlobalPeakWindowSum\",\n",
    "                subarray = source.subarray)\n",
    "            #calib(j)\n",
    "            #image_processor(j)\n",
    "            #muon_processor(j)\n",
    "            #for m in j.muon.tel.keys():\n",
    "            #    if not np.isnan(j.muon.tel[m].efficiency.width):\n",
    "            event_container[keks+i] = j\n",
    "    t2 = time.perf_counter(), time.process_time()\n",
    "        \n",
    "\n",
    "print(f\" Real time: {t2[0] - t1[0]:.2f} seconds\")\n",
    "print(f\" CPU time: {t2[1] - t1[1]:.2f} seconds\")\n",
    "\n",
    "\n",
    "event = event_container[event_num]"
   ]
  },
  {
   "cell_type": "code",
   "execution_count": null,
   "id": "2",
   "metadata": {},
   "outputs": [],
   "source": [
    "muon_ring_events = [3198, 3403, 6317, 6466, 8234, 8448, 9404, 9433, 12262, 14402, 14406, 16110, 16379, 19103, 20229, 20402, 21288, 21433, 22123, 22205, 22364, 22365, 22390, 22415, 25051, 25345, 26113, 26164, 26347, 26365, 27176, 27374, 28000, 28328, 29266, 29390, 31176, 31386, 32064, 32298, 33057, 33071, 34115, 35052, 35219, 35375, 35435, 36231, 36452]\n",
    "len(muon_ring_events)"
   ]
  },
  {
   "cell_type": "code",
   "execution_count": null,
   "id": "3",
   "metadata": {},
   "outputs": [],
   "source": [
    "event_container_fitted = {}\n",
    "for i in event_container:\n",
    "    print(i)\n",
    "    if i in muon_ring_events:\n",
    "        image_processor = ImageProcessor(source.subarray)\n",
    "        #muon_processor = MuonProcessor(source.subarray, config = muon_processor_config)\n",
    "        muon_processor = MuonProcessor(source.subarray)\n",
    "        calib = CameraCalibrator(\n",
    "            image_extractor_type=\"GlobalPeakWindowSum\",\n",
    "            subarray = source.subarray)\n",
    "        calib(event_container[i])\n",
    "        image_processor(event_container[i])\n",
    "        muon_processor(event_container[i])\n",
    "        for m in event_container[i].muon.tel.keys():\n",
    "            if not np.isnan(event_container[i].muon.tel[m].efficiency.width):\n",
    "                event_container_fitted[keks+i] = event_container[i]\n",
    "    t2 = time.perf_counter(), time.process_time()"
   ]
  },
  {
   "cell_type": "code",
   "execution_count": null,
   "id": "4",
   "metadata": {},
   "outputs": [],
   "source": [
    "plt.grid(alpha = 0.6)\n",
    "#plt.yticks([-0.5,0,0.5,1,1.1,1.2,1.3,1.4])\n",
    "for pix_id in range(0,1855):\n",
    "    plt.plot(event_container_fitted[43198].r1.tel[1].waveform[pix_id], drawstyle='steps')\n",
    "print(len(event_container_fitted))"
   ]
  },
  {
   "cell_type": "code",
   "execution_count": null,
   "id": "5",
   "metadata": {},
   "outputs": [],
   "source": [
    "for i in event_container_fitted:\n",
    "    for m in event_container_fitted[i].muon.tel.keys():\n",
    "        if not np.isnan(event_container_fitted[i].muon.tel[m].efficiency.width):\n",
    "            #print(\"here\")\n",
    "            plt.ylim(-1,10)\n",
    "            plt.grid(alpha = 0.6)\n",
    "            #plt.yticks([-0.5,0,0.5,1,1.1,1.2,1.3,1.4])\n",
    "            for pix_id in range(0,1855):\n",
    "                plt.plot(event_container_fitted[i].r1.tel[m].waveform[pix_id], drawstyle='steps')"
   ]
  },
  {
   "cell_type": "code",
   "execution_count": null,
   "id": "6",
   "metadata": {},
   "outputs": [],
   "source": [
    "wave_sum = []\n",
    "dl_pix = []\n",
    "for i in event_container:\n",
    "    for tels in event_container[i].trigger.tels_with_trigger:\n",
    "        wave_sum.append(event_container[i].r1.tel[tels].waveform.sum())\n",
    "        dl_pix.append(event_container[i].dl1.tel[tels].parameters.morphology.n_pixels)\n",
    "        print(\" wave = \", event_container[i].r1.tel[tels].waveform.sum(), \" pix = \", event_container[i].dl1.tel[tels].parameters.morphology.n_pixels)\n",
    "        \n",
    "wave_sum = np.array(wave_sum)\n",
    "dl_pix = np.array(dl_pix)"
   ]
  },
  {
   "cell_type": "code",
   "execution_count": null,
   "id": "7",
   "metadata": {},
   "outputs": [],
   "source": [
    "plt.scatter([i for i in range(len(dl_pix))], wave_sum)\n",
    "\n"
   ]
  },
  {
   "cell_type": "code",
   "execution_count": null,
   "id": "8",
   "metadata": {},
   "outputs": [],
   "source": [
    "plt.scatter([i for i in range(len(dl_pix))], dl_pix)"
   ]
  },
  {
   "cell_type": "code",
   "execution_count": null,
   "id": "9",
   "metadata": {},
   "outputs": [],
   "source": [
    "event_num = 8234\n",
    "plt.ylim(-1,2)\n",
    "plt.grid()\n",
    "plt.yticks([-0.5,0,0.5,1,1.1,1.2,1.3,1.4])\n",
    "for pix_id in range(0,1855):\n",
    "    plt.plot(event_container[event_num].r1.tel[1].waveform[pix_id], drawstyle='steps')\n",
    "\n",
    "plt.plot(range(40), [1.2 for i in range(40)], color = 'black', lw = 4, label = 'treshold line')\n",
    "plt.ylabel(\"Waveform amplitude\")\n",
    "plt.xlabel(\"Time sample\")\n",
    "plt.title(\"R1 Waveforms for contaminated muon ring\")\n",
    "plt.legend()\n",
    "    \n",
    "#np.mean(event_container[2414].r1.tel[1].waveform)"
   ]
  },
  {
   "cell_type": "code",
   "execution_count": null,
   "id": "10",
   "metadata": {},
   "outputs": [],
   "source": [
    "#plt.ylim(-1,2)\n",
    "plt.grid(alpha = 0.6)\n",
    "#plt.yticks([-0.5,0,0.5,1,1.1,1.2,1.3,1.4])\n",
    "for pix_id in range(0,1855):\n",
    "    plt.plot(event_container[event_num].r1.tel[1].waveform[pix_id], drawstyle='steps')\n",
    "\n",
    "plt.plot(range(40), [1.2 for i in range(40)], color = 'black', lw = 4, label = 'treshold line')\n",
    "\n",
    "plt.ylabel(\"Waveform amplitude\")\n",
    "plt.xlabel(\"Time sample\")\n",
    "plt.title(\"R1 Waveforms for contaminated muon ring\")\n",
    "plt.legend()"
   ]
  },
  {
   "cell_type": "code",
   "execution_count": null,
   "id": "11",
   "metadata": {},
   "outputs": [],
   "source": [
    "test = np.where(event_container[8234].r1.tel[1].waveform > 1.2)\n",
    "len(test[0])"
   ]
  },
  {
   "cell_type": "code",
   "execution_count": null,
   "id": "12",
   "metadata": {},
   "outputs": [],
   "source": [
    "83/473"
   ]
  },
  {
   "cell_type": "code",
   "execution_count": null,
   "id": "13",
   "metadata": {},
   "outputs": [],
   "source": [
    "for pix_id in test[0]:\n",
    "    plt.plot(event_container[event_num].r1.tel[1].waveform[pix_id], label=\"pix {}\".format(pix_id), drawstyle='steps')\n",
    "np.mean(event_container[event_num].r1.tel[2].waveform)"
   ]
  },
  {
   "cell_type": "code",
   "execution_count": null,
   "id": "14",
   "metadata": {},
   "outputs": [],
   "source": [
    "np.argmax(event.r0.tel[1].waveform[1])"
   ]
  },
  {
   "cell_type": "code",
   "execution_count": null,
   "id": "15",
   "metadata": {},
   "outputs": [],
   "source": [
    "pixes = []\n",
    "for i,j in enumerate(event.r1.tel[1].waveform):\n",
    "    if np.argmax(j) < 10:\n",
    "        pixes.append(i)\n"
   ]
  },
  {
   "cell_type": "code",
   "execution_count": null,
   "id": "16",
   "metadata": {},
   "outputs": [],
   "source": [
    "a = 6\n",
    "for pix_id in pixes:\n",
    "    plt.plot(event.r1.tel[1].waveform[pix_id], drawstyle='steps')\n"
   ]
  },
  {
   "cell_type": "code",
   "execution_count": null,
   "id": "17",
   "metadata": {},
   "outputs": [],
   "source": [
    "sumer = []\n",
    "mean = []\n",
    "for pix_id in pixes:\n",
    "    #print(event.r1.tel[1].waveform[pix_id])\n",
    "    mean.append(np.mean(event.r1.tel[1].waveform[pix_id]))\n",
    "    sumer.append(event.r1.tel[1].waveform[pix_id])\n",
    "    \n",
    "sumer = np.array(sumer)\n",
    "mean = np.array(mean)"
   ]
  },
  {
   "cell_type": "code",
   "execution_count": null,
   "id": "18",
   "metadata": {},
   "outputs": [],
   "source": [
    "np.mean(sumer, axis = 0).shape"
   ]
  },
  {
   "cell_type": "code",
   "execution_count": null,
   "id": "19",
   "metadata": {},
   "outputs": [],
   "source": [
    "np.mean(np.mean(sumer, axis = 0))"
   ]
  },
  {
   "cell_type": "code",
   "execution_count": null,
   "id": "20",
   "metadata": {},
   "outputs": [],
   "source": [
    "plt.plot([i for i in pixes], mean)"
   ]
  },
  {
   "cell_type": "code",
   "execution_count": null,
   "id": "21",
   "metadata": {},
   "outputs": [],
   "source": [
    "len(pixes)"
   ]
  },
  {
   "cell_type": "code",
   "execution_count": null,
   "id": "22",
   "metadata": {},
   "outputs": [],
   "source": [
    "len(mean)"
   ]
  },
  {
   "cell_type": "code",
   "execution_count": null,
   "id": "23",
   "metadata": {},
   "outputs": [],
   "source": [
    "len([i for i in pixes])"
   ]
  },
  {
   "cell_type": "code",
   "execution_count": null,
   "id": "24",
   "metadata": {},
   "outputs": [],
   "source": [
    "np.mean(mean)"
   ]
  },
  {
   "cell_type": "code",
   "execution_count": null,
   "id": "25",
   "metadata": {},
   "outputs": [],
   "source": [
    "event.trigger.tel[1].time.to_value(\"mjd\", \"float\")"
   ]
  },
  {
   "cell_type": "code",
   "execution_count": null,
   "id": "26",
   "metadata": {},
   "outputs": [],
   "source": [
    "test = []\n",
    "for k,l in enumerate(event.r1.tel[1].waveform):\n",
    "    if np.argmax(l) == 3:\n",
    "        test.append(l)\n",
    "\n",
    "test = np.array(test)"
   ]
  },
  {
   "cell_type": "code",
   "execution_count": null,
   "id": "27",
   "metadata": {},
   "outputs": [],
   "source": [
    "np.mean(test, axis = 0).shape"
   ]
  },
  {
   "cell_type": "code",
   "execution_count": null,
   "id": "28",
   "metadata": {},
   "outputs": [],
   "source": []
  }
 ],
 "metadata": {
  "kernelspec": {
   "display_name": "cta",
   "language": "python",
   "name": "cta"
  },
  "language_info": {
   "codemirror_mode": {
    "name": "ipython",
    "version": 3
   },
   "file_extension": ".py",
   "mimetype": "text/x-python",
   "name": "python",
   "nbconvert_exporter": "python",
   "pygments_lexer": "ipython3",
   "version": "3.11.3"
  }
 },
 "nbformat": 4,
 "nbformat_minor": 5
}
