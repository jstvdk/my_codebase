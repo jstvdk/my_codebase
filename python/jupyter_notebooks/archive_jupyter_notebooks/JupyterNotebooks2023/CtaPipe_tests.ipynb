{
 "cells": [
  {
   "cell_type": "code",
   "execution_count": null,
   "id": "0",
   "metadata": {},
   "outputs": [],
   "source": [
    "from os import path, makedirs\n",
    "from astropy.coordinates import SkyCoord\n",
    "from astropy.table import Table\n",
    "import astropy.units as u\n",
    "\n",
    "from ctapipe.calib.camera import CameraCalibrator\n",
    "from ctapipe.containers import MuonEfficiencyContainer\n",
    "from ctapipe.coordinates import CameraFrame, TelescopeFrame\n",
    "from ctapipe.io import EventSource, EventSeeker\n",
    "from ctapipe.core import TelescopeComponent\n",
    "from ctapipe.utils.datasets import get_dataset_path\n",
    "from ctapipe.core.traits import (\n",
    "    List,\n",
    "    Int,\n",
    "    FloatTelescopeParameter,\n",
    "    TelescopeParameter,\n",
    "    Unicode,\n",
    ")\n",
    "from ctapipe.image.cleaning import tailcuts_clean\n",
    "from ctapipe.image.muon import MuonRingFitter, MuonIntensityFitter\n",
    "import numpy as np\n",
    "\n",
    "from traitlets.config import Config\n",
    "from ctapipe.io import EventSource\n",
    "from ctapipe.image import ImageProcessor\n",
    "from ctapipe.image.muon import MuonProcessor\n",
    "import matplotlib.pyplot as plt\n",
    "from ctapipe.utils import get_dataset_path\n",
    "from ctapipe.io import EventSource\n",
    "from ctapipe.visualization import CameraDisplay\n",
    "from ctapipe.instrument import CameraGeometry\n",
    "from matplotlib import pyplot as plt\n",
    "from astropy import units as u\n",
    "from ctapipe.calib import CameraCalibrator\n",
    "import ctapipe\n"
   ]
  },
  {
   "cell_type": "code",
   "execution_count": null,
   "id": "1",
   "metadata": {},
   "outputs": [],
   "source": [
    "filename = get_dataset_path(\"gamma_prod5.simtel.zst\")\n",
    "source = EventSource(filename, max_events=5)\n",
    "all_muon_parameters = [\"optical_efficiency\"]\n",
    "\n",
    "for event in source:\n",
    "    print(event.index.event_id)"
   ]
  },
  {
   "cell_type": "code",
   "execution_count": null,
   "id": "2",
   "metadata": {},
   "outputs": [],
   "source": [
    "source.subarray.tels.keys()\n",
    "table = {}\n",
    "for tel_id in source.subarray.tels.keys():\n",
    "    table[tel_id] = Table(names = all_muon_parameters)\n",
    "    "
   ]
  },
  {
   "cell_type": "code",
   "execution_count": null,
   "id": "3",
   "metadata": {},
   "outputs": [],
   "source": [
    "table[1][\"optical_efficiency\"] = 123"
   ]
  },
  {
   "cell_type": "code",
   "execution_count": null,
   "id": "4",
   "metadata": {},
   "outputs": [],
   "source": [
    "event.muon"
   ]
  },
  {
   "cell_type": "code",
   "execution_count": null,
   "id": "5",
   "metadata": {},
   "outputs": [],
   "source": [
    "arr = {'1' : 1, '2' : 2}"
   ]
  },
  {
   "cell_type": "code",
   "execution_count": null,
   "id": "6",
   "metadata": {},
   "outputs": [],
   "source": [
    "print(event.mon.tel[3].calibration.unusable_pixels)"
   ]
  },
  {
   "cell_type": "code",
   "execution_count": null,
   "id": "7",
   "metadata": {},
   "outputs": [],
   "source": [
    "event.simulation.tel[3].true_image"
   ]
  },
  {
   "cell_type": "code",
   "execution_count": null,
   "id": "8",
   "metadata": {},
   "outputs": [],
   "source": [
    "event.mon.tel[3].calibration"
   ]
  },
  {
   "cell_type": "code",
   "execution_count": null,
   "id": "9",
   "metadata": {},
   "outputs": [],
   "source": [
    "event.muon.tel[3].efficiency.optical_efficiency"
   ]
  },
  {
   "cell_type": "code",
   "execution_count": null,
   "id": "10",
   "metadata": {},
   "outputs": [],
   "source": [
    "good_muon_data = {tel_id: True for tel_id in event.muon.tel.keys()}"
   ]
  },
  {
   "cell_type": "code",
   "execution_count": null,
   "id": "11",
   "metadata": {},
   "outputs": [],
   "source": [
    "good_muon_data[3]"
   ]
  },
  {
   "cell_type": "code",
   "execution_count": null,
   "id": "12",
   "metadata": {},
   "outputs": [],
   "source": [
    "event.muon.tel[3].efficiency.optical_efficiency"
   ]
  },
  {
   "cell_type": "code",
   "execution_count": null,
   "id": "13",
   "metadata": {},
   "outputs": [],
   "source": [
    "from ctapipe.image import ImageProcessor\n",
    "from ctapipe.image.muon import MuonProcessor\n"
   ]
  },
  {
   "cell_type": "code",
   "execution_count": null,
   "id": "14",
   "metadata": {},
   "outputs": [],
   "source": [
    "#ImageProcessor(event)"
   ]
  },
  {
   "cell_type": "code",
   "execution_count": null,
   "id": "15",
   "metadata": {},
   "outputs": [],
   "source": []
  },
  {
   "cell_type": "code",
   "execution_count": null,
   "id": "16",
   "metadata": {},
   "outputs": [],
   "source": [
    "filename = '/Users/vdk/GeneveWork/Code/calibpipe-main-calibpipe/calibpipe/tests/data/throughput/simtel_run501_muon_telescope_transmission_0.8.simtel'\n",
    "source = EventSource(filename)\n",
    "for event in source:\n",
    "    #print(event.count, event.index.event_id, event.simulation.shower.energy)\n",
    "    pass\n",
    "\n",
    "print(source.subarray.telescope_types[0])\n",
    "telescope_type = []\n",
    "for i in source.subarray.telescope_types:\n",
    "    telescope_type.append(i)\n",
    "\n",
    "print(str(telescope_type))"
   ]
  },
  {
   "cell_type": "code",
   "execution_count": null,
   "id": "17",
   "metadata": {},
   "outputs": [],
   "source": [
    "for event in source:\n",
    "    print(event.keys())\n"
   ]
  },
  {
   "cell_type": "code",
   "execution_count": null,
   "id": "18",
   "metadata": {},
   "outputs": [],
   "source": [
    "from fnmatch import fnmatch\n",
    "test_arr = ['a','b','c']\n",
    "telescope = ['a']\n",
    "matched_tel_types = []\n",
    "matched_tel_types = [str(t) for t in telescope if fnmatch(str(t), test_arr[1])]\n"
   ]
  },
  {
   "cell_type": "code",
   "execution_count": null,
   "id": "19",
   "metadata": {},
   "outputs": [],
   "source": [
    "matched_tel_types"
   ]
  },
  {
   "cell_type": "code",
   "execution_count": null,
   "id": "20",
   "metadata": {},
   "outputs": [],
   "source": [
    "import json\n",
    "\n",
    "config = {\n",
    "    \"hole_radius_m\": {\n",
    "        \"help\": \"Hole radius of the reflector in m\",\n",
    "        \"default_value\": [\n",
    "            (\"type\", \"LST_*\", 0.308),\n",
    "            (\"type\", \"DST_*\", 0.408)\n",
    "        ]\n",
    "    }\n",
    "}\n",
    "\n",
    "# Save the config as JSON\n",
    "with open('/Users/vdk/config.json', 'w') as f:\n",
    "    json.dump(config, f, indent=4)"
   ]
  },
  {
   "cell_type": "code",
   "execution_count": null,
   "id": "21",
   "metadata": {},
   "outputs": [],
   "source": [
    "with open('/Users/vdk/GeneveWork/Code/calibpipe-main-calibpipe/calibpipe/tests/data/throughput/config2.json', 'r') as file:\n",
    "    json_data = json.load(file)"
   ]
  },
  {
   "cell_type": "code",
   "execution_count": null,
   "id": "22",
   "metadata": {},
   "outputs": [],
   "source": [
    "json_data['MuonIntensityFitter']"
   ]
  },
  {
   "cell_type": "code",
   "execution_count": null,
   "id": "23",
   "metadata": {},
   "outputs": [],
   "source": [
    "json_data['MuonIntensityFitter'] = {'hole_radius_m': [['type', 'LST_*', 0.308]]}"
   ]
  },
  {
   "cell_type": "code",
   "execution_count": null,
   "id": "24",
   "metadata": {},
   "outputs": [],
   "source": [
    "json_data"
   ]
  },
  {
   "cell_type": "code",
   "execution_count": null,
   "id": "25",
   "metadata": {},
   "outputs": [],
   "source": [
    "with open('/Users/vdk/config.json') as file:\n",
    "    json_test = json.load(file)\n",
    "\n",
    "json_test['MuonIntensityFitter'] = config\n",
    "\n",
    "with open('/Users/vdk/config.json', 'w') as file:\n",
    "    json.dump(json_test, file, indent=4)"
   ]
  },
  {
   "cell_type": "code",
   "execution_count": null,
   "id": "26",
   "metadata": {},
   "outputs": [],
   "source": [
    "for i in source.subarray.telescope_types:\n",
    "    print(str(i))"
   ]
  },
  {
   "cell_type": "code",
   "execution_count": null,
   "id": "27",
   "metadata": {},
   "outputs": [],
   "source": [
    "with open('/Users/vdk/config.json') as file:\n",
    "    json_test = json.load(file)\n",
    "\n",
    "    \n",
    "hole_radius_dict = {'LST' : 0.308, 'MST' : 0.244, 'SST' : 0.13 }\n",
    "\n",
    "for i in source.subarray.telescope_types:\n",
    "    tel = str(i)\n",
    "    json_test['MuonIntensityFitter'] = {'hole_radius_m': [['type', f'{i}', 0.308]]}\n",
    "\n",
    "with open('/Users/vdk/config.json', 'w') as file:\n",
    "    json.dump(json_test, file, indent=4)"
   ]
  },
  {
   "cell_type": "code",
   "execution_count": null,
   "id": "28",
   "metadata": {},
   "outputs": [],
   "source": [
    "source.subarray.telescope_types"
   ]
  },
  {
   "cell_type": "code",
   "execution_count": null,
   "id": "29",
   "metadata": {},
   "outputs": [],
   "source": []
  },
  {
   "cell_type": "code",
   "execution_count": null,
   "id": "30",
   "metadata": {},
   "outputs": [],
   "source": [
    "hole_radius_dict = {'LST_*' : 0.308, 'MST_*' : 0.244, 'SST_1M_*' : 0.13, 'key' : 1}"
   ]
  },
  {
   "cell_type": "code",
   "execution_count": null,
   "id": "31",
   "metadata": {},
   "outputs": [],
   "source": [
    "hole_radius_dict['LST_HGFH'[:3]]"
   ]
  },
  {
   "cell_type": "code",
   "execution_count": null,
   "id": "32",
   "metadata": {},
   "outputs": [],
   "source": [
    "for key in hole_radius_dict.keys():\n",
    "    with open('/Users/vdk/config.json', 'r') as file:\n",
    "        json_test = json.load(file)\n",
    "    json_test['MuonIntensityFitter']['hole_radius_m'].append([['type', f'{key}', 0.308]])\n",
    "    with open('/Users/vdk/config.json', 'w') as file:\n",
    "        json.dump(json_test, file, indent=4)\n",
    "\n",
    "\n",
    "    "
   ]
  },
  {
   "cell_type": "code",
   "execution_count": null,
   "id": "33",
   "metadata": {},
   "outputs": [],
   "source": [
    "### WORKING VARIANT\n",
    "\n",
    "\n",
    "test_conf = {\"hole_radius_m\":[]}\n",
    "for key in hole_radius_dict.keys():\n",
    "    test_conf['hole_radius_m'].append([\"type\", key, 0.308])\n",
    "with open('/Users/vdk/config.json', 'r') as file:\n",
    "    json_test = json.load(file)\n",
    "\n",
    "json_test['MuonIntensityFitter'] = test_conf\n",
    "\n",
    "with open('/Users/vdk/config.json', 'w') as file:\n",
    "    json.dump(json_test, file, indent=4)"
   ]
  },
  {
   "cell_type": "code",
   "execution_count": null,
   "id": "34",
   "metadata": {},
   "outputs": [],
   "source": [
    "test_config = []\n",
    "for key in hole_radius_dict.keys():\n",
    "    test_config.append([\"type\", key, 0.308])\n",
    "with open('/Users/vdk/config.json', 'r') as file:\n",
    "    json_test = json.load(file)\n",
    "\n",
    "json_test['MuonIntensityFitter']['hole_radius_m'] = test_config\n",
    "\n",
    "with open('/Users/vdk/config.json', 'w') as file:\n",
    "    json.dump(json_test, file, indent=4)"
   ]
  },
  {
   "cell_type": "code",
   "execution_count": null,
   "id": "35",
   "metadata": {},
   "outputs": [],
   "source": [
    "config = { \"hole_radius_m\": [[\"type\", \"LST_*\", 0.308],[\"type\", \"DST_*\", 0.408]]}\n"
   ]
  },
  {
   "cell_type": "code",
   "execution_count": null,
   "id": "36",
   "metadata": {},
   "outputs": [],
   "source": [
    "with open('/Users/vdk/GeneveWork/Code/calibpipe-main-calibpipe/calibpipe/tests/data/throughput/config2.json') as file:\n",
    "    json_test = json.load(file)"
   ]
  },
  {
   "cell_type": "code",
   "execution_count": null,
   "id": "37",
   "metadata": {},
   "outputs": [],
   "source": [
    "json_test['MuonIntensityFitter']['hole_radius_m']"
   ]
  },
  {
   "cell_type": "code",
   "execution_count": null,
   "id": "38",
   "metadata": {},
   "outputs": [],
   "source": [
    "config['hole_radius_m']"
   ]
  },
  {
   "cell_type": "code",
   "execution_count": null,
   "id": "39",
   "metadata": {},
   "outputs": [],
   "source": [
    "table = source.subarray.to_table"
   ]
  },
  {
   "cell_type": "code",
   "execution_count": null,
   "id": "40",
   "metadata": {},
   "outputs": [],
   "source": [
    "dir(source.subarray)"
   ]
  },
  {
   "cell_type": "code",
   "execution_count": null,
   "id": "41",
   "metadata": {},
   "outputs": [],
   "source": [
    "from traitlets.config import Config\n",
    "\n",
    "# Create a Config object\n",
    "config = Config()\n",
    "\n",
    "# Set a configuration value\n",
    "config.MuonIntensittyFitter.hole_radius_m = 'new_value'\n",
    "\n",
    "# Specify the output file path\n",
    "output_file = '/Users/vdk/config3.json'\n",
    "\n",
    "# Write the config object to the JSON file\n",
    "with open(output_file, 'w') as file:\n",
    "    json.dump(config, file, indent=4)\n",
    "    \n",
    "# Access the updated configuration value\n",
    "print(config.MuonIntensittyFitter.my_attribut)"
   ]
  },
  {
   "cell_type": "code",
   "execution_count": null,
   "id": "42",
   "metadata": {},
   "outputs": [],
   "source": [
    "source"
   ]
  },
  {
   "cell_type": "code",
   "execution_count": null,
   "id": "43",
   "metadata": {},
   "outputs": [],
   "source": [
    "if not 'hole_radius_m' in dir(source.subarray.telescope_types):\n",
    "    print(1)\n",
    "\n"
   ]
  },
  {
   "cell_type": "code",
   "execution_count": null,
   "id": "44",
   "metadata": {},
   "outputs": [],
   "source": []
  },
  {
   "cell_type": "code",
   "execution_count": null,
   "id": "45",
   "metadata": {},
   "outputs": [],
   "source": [
    "tel = source.subarray.tel[1]\n",
    "dir(tel)"
   ]
  },
  {
   "cell_type": "code",
   "execution_count": null,
   "id": "46",
   "metadata": {},
   "outputs": [],
   "source": [
    "tel.type"
   ]
  },
  {
   "cell_type": "code",
   "execution_count": null,
   "id": "47",
   "metadata": {},
   "outputs": [],
   "source": [
    "source.subarray.telescope_types"
   ]
  },
  {
   "cell_type": "code",
   "execution_count": null,
   "id": "48",
   "metadata": {},
   "outputs": [],
   "source": [
    "image_processor = ImageProcessor(source.subarray)\n",
    "muon_processor = MuonProcessor(source.subarray)"
   ]
  },
  {
   "cell_type": "code",
   "execution_count": null,
   "id": "49",
   "metadata": {},
   "outputs": [],
   "source": [
    "muon_processor"
   ]
  },
  {
   "cell_type": "code",
   "execution_count": null,
   "id": "50",
   "metadata": {},
   "outputs": [],
   "source": [
    "for event in source:\n",
    "    image_processor(event)\n",
    "    muon_processor(event)"
   ]
  },
  {
   "cell_type": "code",
   "execution_count": null,
   "id": "51",
   "metadata": {},
   "outputs": [],
   "source": [
    "for event in source:\n",
    "    print(event.keys())"
   ]
  },
  {
   "cell_type": "code",
   "execution_count": null,
   "id": "52",
   "metadata": {},
   "outputs": [],
   "source": [
    "from ctapipe.calib import CameraCalibrator\n",
    "\n",
    "calib = CameraCalibrator(subarray=source.subarray)\n",
    "calib(event)"
   ]
  },
  {
   "cell_type": "code",
   "execution_count": null,
   "id": "53",
   "metadata": {},
   "outputs": [],
   "source": [
    "event.dl1.tel[1].parameters"
   ]
  },
  {
   "cell_type": "code",
   "execution_count": null,
   "id": "54",
   "metadata": {},
   "outputs": [],
   "source": [
    "event.muon.tel[1][\"efficiency\"][\"optical_efficiency\"]"
   ]
  },
  {
   "cell_type": "code",
   "execution_count": null,
   "id": "55",
   "metadata": {},
   "outputs": [],
   "source": [
    "filename = '/Users/vdk/GeneveWork/Code/calibpipe-main-calibpipe/calibpipe/tests/data/throughput/output/simtel_run101_muon.simtel.gz'\n",
    "source = EventSource(filename, max_events=9000)\n",
    "all_muon_parameters = [\"optical_efficiency\"]\n",
    "\n",
    "#for event in source:\n",
    "    #print(event.simulation.shower.energy)\n",
    "    #print(event.keys())\n",
    "    #print(event.muon.tel[1].ring.radius)\n",
    "    #print(event.simulation.shower.az)\n",
    "    #print(event.simulation.shower.az.degree)\n",
    "    \n",
    "event_iterator = iter(source)\n",
    "for i,j in enumerate(event_iterator):\n",
    "    if i == 7494:\n",
    "        event = j\n",
    "        break"
   ]
  },
  {
   "cell_type": "code",
   "execution_count": null,
   "id": "56",
   "metadata": {},
   "outputs": [],
   "source": [
    "print(source.subarray.tel[1].camera.geometry.pix_y)"
   ]
  },
  {
   "cell_type": "code",
   "execution_count": null,
   "id": "57",
   "metadata": {},
   "outputs": [],
   "source": [
    "plt.figure()\n",
    "camgeom = source.subarray.tel[1].camera.geometry\n",
    "title=\"CT{}, run {} event {}\".format(1,event.index.obs_id,event.index.event_id)\n",
    "disp = CameraDisplay(camgeom,title=title)\n",
    "#disp.image = event.r0.tel[1].waveform[0].sum(axis=1)\n",
    "disp.image = event.simulation.tel[1].true_image #.sum(axis=1)\n",
    "disp.cmap = plt.cm.RdBu_r\n",
    "disp.add_colorbar()\n",
    "disp.set_limits_percent(95)\n",
    "#plt.savefig(\"/Users/vdk/RawImageEvent6360\")"
   ]
  },
  {
   "cell_type": "code",
   "execution_count": null,
   "id": "58",
   "metadata": {},
   "outputs": [],
   "source": [
    "type(event_iterator)"
   ]
  },
  {
   "cell_type": "code",
   "execution_count": null,
   "id": "59",
   "metadata": {},
   "outputs": [],
   "source": [
    "#event = next(event_iterator)\n"
   ]
  },
  {
   "cell_type": "code",
   "execution_count": null,
   "id": "60",
   "metadata": {},
   "outputs": [],
   "source": []
  },
  {
   "cell_type": "code",
   "execution_count": null,
   "id": "61",
   "metadata": {},
   "outputs": [],
   "source": [
    "image_processor = ImageProcessor(source.subarray)\n",
    "muon_processor = MuonProcessor(source.subarray)\n",
    "calib = CameraCalibrator(\n",
    "            image_extractor_type=\"GlobalPeakWindowSum\",\n",
    "            subarray = source.subarray\n",
    "        )"
   ]
  },
  {
   "cell_type": "code",
   "execution_count": null,
   "id": "62",
   "metadata": {},
   "outputs": [],
   "source": [
    "calib(event)\n",
    "image_processor(event)\n",
    "muon_processor(event)"
   ]
  },
  {
   "cell_type": "code",
   "execution_count": null,
   "id": "63",
   "metadata": {},
   "outputs": [],
   "source": [
    "print(event.muon.tel[1].efficiency)"
   ]
  },
  {
   "cell_type": "code",
   "execution_count": null,
   "id": "64",
   "metadata": {},
   "outputs": [],
   "source": [
    "0.21012641404255117\n",
    "0.19613452249570607\n",
    "0.22294490761790398\n",
    "0.22313053590628718\n",
    "0.24273325608170904\n",
    "14.608160359593436\n",
    "0.22298128497637926\n",
    "0.22581768346240172\n",
    "0.24764642539110393\n",
    "0.21610763254437293"
   ]
  },
  {
   "cell_type": "code",
   "execution_count": null,
   "id": "65",
   "metadata": {},
   "outputs": [],
   "source": [
    "plt.figure()\n",
    "camgeom = source.subarray.tel[1].camera.geometry\n",
    "title=\"CT{}, run {} event {}\".format(1,event.index.obs_id,event.index.event_id)\n",
    "disp = CameraDisplay(camgeom,title=title)\n",
    "#disp.image = event.r0.tel[1].waveform[0].sum(axis=1)\n",
    "disp.image = event.simulation.tel[1].true_image #.sum(axis=1)\n",
    "disp.cmap = plt.cm.RdBu_r\n",
    "disp.add_colorbar()\n",
    "disp.set_limits_percent(95)\n",
    "#plt.savefig(\"/Users/vdk/RawImageEvent6360\")"
   ]
  },
  {
   "cell_type": "code",
   "execution_count": null,
   "id": "66",
   "metadata": {},
   "outputs": [],
   "source": [
    "help(ctapipe)"
   ]
  },
  {
   "cell_type": "code",
   "execution_count": null,
   "id": "67",
   "metadata": {},
   "outputs": [],
   "source": []
  }
 ],
 "metadata": {
  "kernelspec": {
   "display_name": "cta",
   "language": "python",
   "name": "cta"
  },
  "language_info": {
   "codemirror_mode": {
    "name": "ipython",
    "version": 3
   },
   "file_extension": ".py",
   "mimetype": "text/x-python",
   "name": "python",
   "nbconvert_exporter": "python",
   "pygments_lexer": "ipython3",
   "version": "3.11.3"
  }
 },
 "nbformat": 4,
 "nbformat_minor": 5
}
