{
 "cells": [
  {
   "cell_type": "code",
   "execution_count": null,
   "id": "0",
   "metadata": {},
   "outputs": [],
   "source": [
    "import sys\n",
    "sys.path.append('/Users/vdk/GeneveWork/Code/calibpipe-main-calibpipe/')\n",
    "from astropy.io import ascii\n",
    "import numpy as np\n",
    "import pandas as pd\n",
    "import matplotlib\n",
    "import csv\n",
    "import scipy\n",
    "import matplotlib.pyplot as plt\n",
    "import random\n",
    "import copy\n",
    "from os import path, makedirs\n",
    "from astropy.coordinates import SkyCoord\n",
    "from astropy.table import Table\n",
    "import astropy.units as u\n",
    "from ctapipe.containers import MuonEfficiencyContainer\n",
    "from ctapipe.coordinates import CameraFrame, TelescopeFrame\n",
    "from ctapipe.io import EventSource, EventSeeker\n",
    "from ctapipe.core import TelescopeComponent\n",
    "from ctapipe.core.traits import (\n",
    "    List,\n",
    "    Int,\n",
    "    FloatTelescopeParameter,\n",
    "    TelescopeParameter,\n",
    "    Unicode,\n",
    ")\n",
    "from ctapipe.image.cleaning import tailcuts_clean\n",
    "from ctapipe.image.muon import MuonRingFitter, MuonIntensityFitter\n",
    "from traitlets.config import Config\n",
    "from ctapipe.image import ImageProcessor\n",
    "from ctapipe.image.muon import MuonProcessor\n",
    "from ctapipe.visualization import CameraDisplay\n",
    "from ctapipe.instrument import CameraGeometry\n",
    "from ctapipe.calib import CameraCalibrator\n",
    "from traitlets.config.loader import Config, FileConfigLoader, JSONFileConfigLoader\n",
    "import pathlib\n",
    "from calibpipe.throughput import MuonCalibrator\n",
    "from seaborn import histplot, pointplot, lineplot, barplot"
   ]
  },
  {
   "cell_type": "code",
   "execution_count": null,
   "id": "1",
   "metadata": {},
   "outputs": [],
   "source": [
    "filename = '/Users/vdk/MST_work/data_muons/mono_proton_simtel/proton_20deg_0deg_run3___cta-prod6-paranal-2147m-Paranal-nshow-3000-0-LSTs-1-MSTs-0-SSTs-NSCAT_5_CSCAT_300_EMIN_1_EMAX_200_after_muontag.simtel.zst'\n",
    "#filename = '/Users/vdk/MST_work/data_muons/mono_muon_simtel/muon_20deg_0deg_run0___cta-prod6-paranal-2147m-Paranal-0-LSTs-1-MSTs-0-SSTs-NSCAT_1_CSCAT_8_EMIN_0.005_EMAX_1_FIXCHI_600_VIEWCONE_3_after_muontag.simtel.zst'\n",
    "source = EventSource(filename, max_events=9000)\n",
    "event_iterator = iter(source)\n",
    "\n",
    "\n",
    "\n",
    "for i,j in enumerate(event_iterator):\n",
    "    if i < 200:\n",
    "        event = j\n",
    "        image_processor = ImageProcessor(source.subarray)\n",
    "        muon_processor = MuonProcessor(source.subarray)\n",
    "        calib = CameraCalibrator(\n",
    "                image_extractor_type=\"NeighborPeakWindowSum\",\n",
    "                subarray = source.subarray)\n",
    "        calib(j)\n",
    "        image_processor(j)\n",
    "        muon_processor(j)\n",
    "        fig, axes = plt.subplots(2, 1, sharex=False, gridspec_kw={'height_ratios': [1, 1]}, figsize=(9,12))\n",
    "        fig.subplots_adjust(hspace=0.2)\n",
    "        ax = axes[0]\n",
    "        camgeom = source.subarray.tel[1].camera.geometry\n",
    "        title=\"TrImg run {} event {} fit {} width {}\".format(j.index.obs_id, j.index.event_id, round(j.muon.tel[1].efficiency.optical_efficiency, 3), round(j.muon.tel[1].efficiency.width.to_value(),3))\n",
    "        disp = CameraDisplay(camgeom,title=title, ax = ax)\n",
    "        disp.image = j.simulation.tel[1].true_image #.sum(axis=1)\n",
    "        #disp.image = event.dl1.tel[1].image\n",
    "        disp.cmap = plt.cm.RdBu_r\n",
    "        disp.add_colorbar()\n",
    "        disp.set_limits_percent(95)\n",
    "        bx = axes[1]\n",
    "        for pix_id in range(0,1764):\n",
    "            bx.plot(j.r0.tel[1].waveform[0][pix_id], label=\"pix {}\".format(pix_id), drawstyle='steps')\n",
    "        bx.set_ylabel(\"ADC counts\")\n",
    "        bx.set_xlabel(\"Samples\")\n",
    "        bx.set_title(\"Waveforms\")\n",
    "        #plt.show()\n",
    "        plt.savefig(f\"/Users/vdk/MST_ProtonImages_NewQualityCheck/TrueImage+Waveform_mstPROTON_event{j.index.event_id}_obs{j.index.obs_id}_numer{i}\")\n",
    "        #plt.savefig(f\"/Users/vdk/TrueImage+Waveform_mstMUON_event{j.index.event_id}_obs{j.index.obs_id}\")\n",
    "        #break\n",
    "    if i == 150:\n",
    "        break\n",
    "\n",
    "plt.close()"
   ]
  },
  {
   "cell_type": "code",
   "execution_count": null,
   "id": "2",
   "metadata": {},
   "outputs": [],
   "source": [
    "# Sampling rate for MST\n",
    "source.subarray.tel[1].camera.readout.sampling_rate.to_value(1/u.s)\n",
    "source.subarray.tel[1].camera.geometry.neighbor_matrix_sparse\n",
    "min(event.dl1.tel[1].peak_time)"
   ]
  },
  {
   "cell_type": "code",
   "execution_count": null,
   "id": "3",
   "metadata": {},
   "outputs": [],
   "source": [
    "plt.pcolormesh(event.r0.tel[1].waveform[0])  # note the [0] is for channel 0\n",
    "plt.colorbar()\n",
    "plt.xlabel(\"sample number\")\n",
    "plt.ylabel(\"Pixel_id\")"
   ]
  },
  {
   "cell_type": "code",
   "execution_count": null,
   "id": "4",
   "metadata": {},
   "outputs": [],
   "source": [
    "for pix_id in range(185,195):\n",
    "    plt.plot(event.r0.tel[1].waveform[0][pix_id], label=\"pix {}\".format(pix_id), drawstyle='steps')\n",
    "#plt.legend()"
   ]
  },
  {
   "cell_type": "code",
   "execution_count": null,
   "id": "5",
   "metadata": {},
   "outputs": [],
   "source": [
    "test_image = np.zeros((1764,25))\n",
    "test_true_image = np.zeros(1764)\n",
    "edit_image = event.simulation.tel[1].true_image.copy()\n",
    "edit_image.shape"
   ]
  },
  {
   "cell_type": "code",
   "execution_count": null,
   "id": "6",
   "metadata": {},
   "outputs": [],
   "source": [
    "plt.figure(figsize = (10,7))\n",
    "camgeom = source.subarray.tel[1].camera.geometry\n",
    "#title=\"CT{}, run {} event {}\".format(tel,event.index.obs_id,event.index.event_id)\n",
    "disp = CameraDisplay(camgeom,title=title)\n",
    "disp.image = event.simulation.tel[1].true_image\n",
    "disp.cmap = plt.cm.RdBu_r\n",
    "disp.add_colorbar()\n",
    "disp.set_limits_percent(95)"
   ]
  },
  {
   "cell_type": "code",
   "execution_count": null,
   "id": "7",
   "metadata": {},
   "outputs": [],
   "source": [
    "# Creating image only with muon ring\n",
    "edit_image = event.simulation.tel[1].true_image.copy()\n",
    "true_image = event.simulation.tel[1].true_image\n",
    "print(np.count_nonzero(edit_image))\n",
    "# INDICES for central contamination of event 93 from obs94 protonMST file\n",
    "indices1 = [i for i in range(160,175)]\n",
    "indices2 = [i for i in range(1243, 1260)]\n",
    "indices3 = [i for i in range(180,192)]\n",
    "indices4 = [i for i in range(196,200)]\n",
    "indices = indices1+indices2+indices3+indices4\n",
    "#np.put(edit_image, indices1, [0])\n",
    "#np.put(edit_image, indices2, [0])\n",
    "#np.put(edit_image, indices3, [0])\n",
    "np.put(edit_image, indices, [0])\n",
    "print(np.count_nonzero(edit_image))"
   ]
  },
  {
   "cell_type": "code",
   "execution_count": null,
   "id": "8",
   "metadata": {},
   "outputs": [],
   "source": [
    "# Creating the image of contamination, all pixels which are not the signal make equal to zero\n",
    "cont_image =  event.simulation.tel[1].true_image.copy()\n",
    "print(cont_image)\n",
    "print(np.count_nonzero(cont_image))\n",
    "ind = [i for i in range(1764)]\n",
    "cont_ind = list(set(ind)-set(indices))\n",
    "np.put(cont_image, cont_ind, [0]) \n",
    "print(cont_image)\n",
    "print(np.count_nonzero(cont_image))"
   ]
  },
  {
   "cell_type": "code",
   "execution_count": null,
   "id": "9",
   "metadata": {},
   "outputs": [],
   "source": [
    "plt.figure(figsize = (9,6))\n",
    "camgeom = source.subarray.tel[1].camera.geometry\n",
    "#title=\"CT{}, run {} event {}\".format(tel,event.index.obs_id,event.index.event_id)\n",
    "disp = CameraDisplay(camgeom,title=title)\n",
    "#disp.image = edit_image\n",
    "disp.image = cont_image\n",
    "#disp.image = true_image\n",
    "disp.cmap = plt.cm.RdBu_r\n",
    "disp.add_colorbar()\n",
    "disp.set_limits_percent(95)"
   ]
  },
  {
   "cell_type": "code",
   "execution_count": null,
   "id": "10",
   "metadata": {},
   "outputs": [],
   "source": [
    "fig, axes = plt.subplots(1, 2, sharex=False, gridspec_kw={'width_ratios': [1, 1]}, figsize=(12,5))\n",
    "fig.subplots_adjust(hspace=0.2)\n",
    "ax = axes[0]\n",
    "for pix_id in range(0,1760):\n",
    "    if pix_id in indices:\n",
    "        continue\n",
    "    else:\n",
    "        ax.plot(event.r0.tel[1].waveform[0][pix_id], label=\"pix {}\".format(pix_id), drawstyle='steps')\n",
    "ax.set_ylabel(\"ADC counts\")\n",
    "ax.set_xlabel(\"Samples\")\n",
    "ax.set_title(\"Only Ring\")\n",
    "#ax.set_ylim(320,1100)\n",
    "bx = axes[1]\n",
    "for pix_id in indices:\n",
    "    plt.plot(event.r0.tel[1].waveform[0][pix_id], label=\"pix {}\".format(pix_id), drawstyle='steps')\n",
    "#bx.set_ylabel(\"ADC counts\")\n",
    "#bx.set_ylim(320,1100)\n",
    "bx.set_xlabel(\"Samples\")\n",
    "bx.set_title(\"Contamination\")\n",
    "plt.show()\n",
    "#plt.savefig(\"/Users/vdk/WaveformsRingContaminationWithBackground\")"
   ]
  },
  {
   "cell_type": "code",
   "execution_count": null,
   "id": "11",
   "metadata": {},
   "outputs": [],
   "source": [
    "contaminated_waveform = np.array([])\n",
    "test_w = []\n",
    "for pix_id in indices:\n",
    "    #np.append(contaminated_waveform, event.r0.tel[1].waveform[0][pix_id], axis = 0)\n",
    "    test_w.append(event.r0.tel[1].waveform[0][pix_id])\n",
    "\n",
    "#contaminated_waveform\n",
    "#indices\n",
    "#event.r0.tel[1].waveform[0][165]\n",
    "np.argmax(test_w, axis = 0)\n",
    "#test_w[2]"
   ]
  },
  {
   "cell_type": "code",
   "execution_count": null,
   "id": "12",
   "metadata": {},
   "outputs": [],
   "source": [
    "fig, axes = plt.subplots(1, 2, sharex=False, gridspec_kw={'width_ratios': [1, 1]}, figsize=(12,5))\n",
    "fig.subplots_adjust(hspace=0.2)\n",
    "dx = axes[0]\n",
    "camgeom = source.subarray.tel[1].camera.geometry\n",
    "disp = CameraDisplay(camgeom,title=title, ax = dx)\n",
    "disp.image = edit_image\n",
    "#disp.image = true_image\n",
    "disp.cmap = plt.cm.RdBu_r\n",
    "disp.add_colorbar()\n",
    "disp.set_limits_percent(95)\n",
    "dx.set_title(\"Extracted muon ring\")\n",
    "cx = axes[1]\n",
    "camgeom = source.subarray.tel[1].camera.geometry\n",
    "disp = CameraDisplay(camgeom,title=title, ax = cx)\n",
    "disp.image = cont_image\n",
    "#disp.image = true_image\n",
    "disp.cmap = plt.cm.RdBu_r\n",
    "disp.add_colorbar()\n",
    "disp.set_limits_percent(95)\n",
    "cx.set_title(\"Extracted contamination\")\n",
    "# Array for broken pixels\n",
    "bool_cont_image = np.array(cont_image, dtype=bool)\n",
    "bool_ring_image = np.array(edit_image, dtype=bool)\n",
    "#plt.show()\n",
    "#plt.savefig(\"/Users/vdk/DistinctRingContamination\")"
   ]
  },
  {
   "cell_type": "code",
   "execution_count": null,
   "id": "13",
   "metadata": {},
   "outputs": [],
   "source": [
    "from ctapipe.image.extractor import ImageExtractor\n",
    "\n",
    "calib = CameraCalibrator(image_extractor_type=\"NeighborPeakWindowSum\",subarray = source.subarray)\n",
    "calib(event)\n",
    "\n",
    "image_extractor = ImageExtractor.from_name(\"NeighborPeakWindowSum\", subarray=source.subarray)\n",
    "#image_extractor = ImageExtractor.from_name(\"GlobalPeakWindowSum\", subarray=source.subarray)\n",
    "image_extractor.local_weight = 0\n",
    "image_extractor.window_shift = 3\n",
    "image_extractor.window_width = image_extractor.window_shift.tel[1]*2+1\n",
    "image_extractor"
   ]
  },
  {
   "cell_type": "code",
   "execution_count": null,
   "id": "14",
   "metadata": {},
   "outputs": [],
   "source": [
    "broken_pixels = np.array([False for i in event.dl0.tel[1].waveform])\n",
    "dl1_contamination = image_extractor(event.dl0.tel[1].waveform, tel_id = 1, selected_gain_channel=0, broken_pixels = bool_ring_image)\n",
    "dl1_ring = image_extractor(event.dl0.tel[1].waveform, tel_id = 1, selected_gain_channel=0, broken_pixels = bool_cont_image)\n",
    "#dl1 = image_extractor(cont_image, tel_id = 1, selected_gain_channel=0, broken_pixels = broken_pixels)\n"
   ]
  },
  {
   "cell_type": "code",
   "execution_count": null,
   "id": "15",
   "metadata": {},
   "outputs": [],
   "source": [
    "plt.figure(figsize = (9,6))\n",
    "camgeom = source.subarray.tel[1].camera.geometry\n",
    "title=\"Extracted Image\"\n",
    "disp = CameraDisplay(camgeom,title=title)\n",
    "disp.image = dl1_contamination.image\n",
    "#disp.image = true_image\n",
    "disp.cmap = plt.cm.RdBu_r\n",
    "disp.add_colorbar()\n",
    "disp.set_limits_percent(95)"
   ]
  },
  {
   "cell_type": "code",
   "execution_count": null,
   "id": "16",
   "metadata": {},
   "outputs": [],
   "source": [
    "plt.figure(figsize = (9,6))\n",
    "camgeom = source.subarray.tel[1].camera.geometry\n",
    "title=\"Extracted Image\"\n",
    "disp = CameraDisplay(camgeom,title=title)\n",
    "disp.image = dl1_ring.image\n",
    "#disp.image = true_image\n",
    "disp.cmap = plt.cm.RdBu_r\n",
    "disp.add_colorbar()\n",
    "disp.set_limits_percent(95)"
   ]
  },
  {
   "cell_type": "code",
   "execution_count": null,
   "id": "17",
   "metadata": {},
   "outputs": [],
   "source": [
    "image_processor = ImageProcessor(source.subarray)\n",
    "muon_processor = MuonProcessor(source.subarray)\n",
    "calib = CameraCalibrator(image_extractor_type=\"NeighborPeakWindowSum\",subarray = source.subarray)\n",
    "event.dl1.tel[1] = dl1_ring\n",
    "#calib(event)\n",
    "image_processor(event)\n",
    "muon_processor(event)"
   ]
  },
  {
   "cell_type": "code",
   "execution_count": null,
   "id": "18",
   "metadata": {},
   "outputs": [],
   "source": [
    "print(event.muon.tel[1])"
   ]
  },
  {
   "cell_type": "code",
   "execution_count": null,
   "id": "19",
   "metadata": {},
   "outputs": [],
   "source": [
    "pixel_range = [i for i in range(len(event.dl1.tel[1].image))]\n",
    "#dl1_contamination.peak_time\n",
    "\n",
    "plt.scatter(pixel_range, dl1_ring.image, alpha = 0.5)\n",
    "plt.scatter(pixel_range, dl1_contamination.image, alpha = 0.5)\n"
   ]
  },
  {
   "cell_type": "code",
   "execution_count": null,
   "id": "20",
   "metadata": {},
   "outputs": [],
   "source": [
    "for pix_id in range(0,1764):\n",
    "    plt.plot(dl1_ring.waveform[pix_id], label=\"pix {}\".format(pix_id), drawstyle='steps')"
   ]
  },
  {
   "cell_type": "code",
   "execution_count": null,
   "id": "21",
   "metadata": {},
   "outputs": [],
   "source": [
    "print(min(dl1_contamination.peak_time))\n",
    "print(max(dl1_contamination.peak_time))\n",
    "print(min(dl1_ring.peak_time))\n",
    "print(max(dl1_ring.peak_time))\n",
    "\n",
    "print(np.argmax(max(dl1_contamination.peak_time)))\n",
    "print(np.argmax(max(dl1_ring.peak_time)))"
   ]
  },
  {
   "cell_type": "code",
   "execution_count": null,
   "id": "22",
   "metadata": {},
   "outputs": [],
   "source": [
    "peak_ring = dl1_ring.peak_time * source.subarray.tel[1].camera.readout.sampling_rate.to_value(u.GHz)\n",
    "peak_cont = dl1_contamination.peak_time * source.subarray.tel[1].camera.readout.sampling_rate.to_value(u.GHz)\n",
    "np.around(peak_ring)\n",
    "pixel_range = [i for i in range(len(event.dl1.tel[1].image))]\n",
    "#dl1_contamination.peak_time\n",
    "\n",
    "#plt.scatter(np.around(peak),pixel_range)\n",
    "plt.rcParams.update({'font.size': 12, 'figure.figsize': (6,6)})\n",
    "histplot(np.around(peak_cont), stat='count', bins = 10)\n",
    "#plt.xscale('log')\n",
    "#plt.yscale('log')\n",
    "plt.title('Histogram for the peak sample')\n",
    "plt.xlabel('Sample')\n",
    "plt.grid()\n",
    "#plt.savefig(f\"/Users/vdk/EnergyHistogram_obs101.png\")"
   ]
  },
  {
   "cell_type": "code",
   "execution_count": null,
   "id": "23",
   "metadata": {},
   "outputs": [],
   "source": [
    "pixel_range = [i for i in range(len(event.dl1.tel[1].image))]\n",
    "#dl1_contamination.peak_time\n",
    "\n",
    "plt.scatter(pixel_range, dl1_contamination.peak_time)"
   ]
  },
  {
   "cell_type": "code",
   "execution_count": null,
   "id": "24",
   "metadata": {},
   "outputs": [],
   "source": [
    "plt.scatter(pixel_range, dl1_ring.peak_time)"
   ]
  },
  {
   "cell_type": "code",
   "execution_count": null,
   "id": "25",
   "metadata": {},
   "outputs": [],
   "source": [
    "max_indices = np.where(dl1_contamination.peak_time == dl1_ring.peak_time.max())\n",
    "len(max_indices[0])"
   ]
  },
  {
   "cell_type": "code",
   "execution_count": null,
   "id": "26",
   "metadata": {},
   "outputs": [],
   "source": [
    "plt.figure(figsize = (9,6))\n",
    "camgeom = source.subarray.tel[1].camera.geometry\n",
    "title=\"Intensity cut < mean+10% value\"\n",
    "disp = CameraDisplay(camgeom,title=title)\n",
    "disp.image = event.dl1.tel[1].image\n",
    "#disp.image = true_image\n",
    "disp.cmap = plt.cm.RdBu_r\n",
    "disp.add_colorbar()\n",
    "disp.set_limits_percent(95)"
   ]
  },
  {
   "cell_type": "code",
   "execution_count": null,
   "id": "27",
   "metadata": {},
   "outputs": [],
   "source": [
    "dl1 = DL1CameraContainer(\n",
    "                image=waveforms[..., 0].astype(np.float32),\n",
    "                peak_time=np.zeros(n_pixels, dtype=np.float32),\n",
    "                is_valid=True,\n",
    "            )\n",
    "extractor = self.image_extractors[self.image_extractor_type.tel[tel_id]]\n",
    "dl1 = extractor(\n",
    "                waveforms,\n",
    "                tel_id=tel_id,\n",
    "                selected_gain_channel=selected_gain_channel,\n",
    "                broken_pixels=broken_pixels,\n",
    "            )\n",
    "\n"
   ]
  },
  {
   "cell_type": "code",
   "execution_count": null,
   "id": "28",
   "metadata": {},
   "outputs": [],
   "source": [
    "event.r0.tel[1].waveform[0]"
   ]
  },
  {
   "cell_type": "code",
   "execution_count": null,
   "id": "29",
   "metadata": {},
   "outputs": [],
   "source": [
    "cont_image"
   ]
  },
  {
   "cell_type": "code",
   "execution_count": null,
   "id": "30",
   "metadata": {},
   "outputs": [],
   "source": [
    "edit_image"
   ]
  },
  {
   "cell_type": "code",
   "execution_count": null,
   "id": "31",
   "metadata": {},
   "outputs": [],
   "source": [
    "bool_cont_image = np.array(cont_image, dtype=bool)\n",
    "bool_ring_image = np.array(edit_image, dtype=bool)"
   ]
  },
  {
   "cell_type": "code",
   "execution_count": null,
   "id": "32",
   "metadata": {},
   "outputs": [],
   "source": [
    "bool_arr"
   ]
  },
  {
   "cell_type": "code",
   "execution_count": null,
   "id": "33",
   "metadata": {},
   "outputs": [],
   "source": [
    "filename = '/Users/vdk/MST_work/data_muons/mono_proton_simtel/proton_20deg_0deg_run2___cta-prod6-paranal-2147m-Paranal-nshow-3000-0-LSTs-1-MSTs-0-SSTs-NSCAT_5_CSCAT_300_EMIN_1_EMAX_200_after_muontag.simtel.zst'\n",
    "#filename = '/Users/vdk/MST_work/data_muons/mono_muon_simtel/muon_20deg_0deg_run0___cta-prod6-paranal-2147m-Paranal-0-LSTs-1-MSTs-0-SSTs-NSCAT_1_CSCAT_8_EMIN_0.005_EMAX_1_FIXCHI_600_VIEWCONE_3_after_muontag.simtel.zst'\n",
    "source = EventSource(filename, max_events=9000)\n",
    "event_iterator = iter(source)\n",
    "\n",
    "\n",
    "\n",
    "for i,j in enumerate(event_iterator):\n",
    "    if i == 93:\n",
    "        event = j\n",
    "        image_processor = ImageProcessor(source.subarray)\n",
    "        muon_processor = MuonProcessor(source.subarray)\n",
    "        calib = CameraCalibrator(\n",
    "                image_extractor_type=\"NeighborPeakWindowSum\",\n",
    "                subarray = source.subarray)\n",
    "        calib(j)\n",
    "        image_processor(j)\n",
    "        muon_processor(j)\n",
    "        print(event.muon.tel[1].efficiency)\n",
    "        fig, axes = plt.subplots(2, 1, sharex=False, gridspec_kw={'height_ratios': [1, 1]}, figsize=(9,12))\n",
    "        fig.subplots_adjust(hspace=0.2)\n",
    "        ax = axes[0]\n",
    "        camgeom = source.subarray.tel[1].camera.geometry\n",
    "        title=\"TrueImage run {} if {} fit {} width {}\".format(j.index.obs_id, j.index.event_id, round(j.muon.tel[1].efficiency.optical_efficiency, 3), round(j.muon.tel[1].efficiency.width.to_value(),3))\n",
    "        disp = CameraDisplay(camgeom,title=title, ax = ax)\n",
    "        disp.image = j.simulation.tel[1].true_image #.sum(axis=1)\n",
    "        #disp.image = event.dl1.tel[1].image\n",
    "        disp.cmap = plt.cm.RdBu_r\n",
    "        disp.add_colorbar()\n",
    "        disp.set_limits_percent(95)\n",
    "        bx = axes[1]\n",
    "        for pix_id in range(0,1764):\n",
    "            bx.plot(j.r0.tel[1].waveform[0][pix_id], label=\"pix {}\".format(pix_id), drawstyle='steps')\n",
    "        bx.set_ylabel(\"ADC counts\")\n",
    "        bx.set_xlabel(\"Samples\")\n",
    "        bx.set_title(\"Waveforms\")\n",
    "        plt.show()\n",
    "        #plt.savefig(f\"/Users/vdk/MST_ProtonImages_NewQualityCheck/TrueImage+Waveform_mstPROTON_event{j.index.event_id}_obs{j.index.obs_id}_numer{i}\")\n",
    "        #plt.savefig(f\"/Users/vdk/TrueImage+Waveform_mstMUON_event{j.index.event_id}_obs{j.index.obs_id}\")\n",
    "        break\n",
    "        #if i == 150:\n",
    "        #    break\n",
    "\n",
    "plt.close()"
   ]
  },
  {
   "cell_type": "code",
   "execution_count": null,
   "id": "34",
   "metadata": {},
   "outputs": [],
   "source": []
  }
 ],
 "metadata": {
  "kernelspec": {
   "display_name": "cta",
   "language": "python",
   "name": "cta"
  },
  "language_info": {
   "codemirror_mode": {
    "name": "ipython",
    "version": 3
   },
   "file_extension": ".py",
   "mimetype": "text/x-python",
   "name": "python",
   "nbconvert_exporter": "python",
   "pygments_lexer": "ipython3",
   "version": "3.11.3"
  }
 },
 "nbformat": 4,
 "nbformat_minor": 5
}
