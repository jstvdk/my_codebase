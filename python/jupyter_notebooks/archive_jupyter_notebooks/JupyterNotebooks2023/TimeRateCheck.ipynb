{
 "cells": [
  {
   "cell_type": "code",
   "execution_count": null,
   "metadata": {},
   "outputs": [],
   "source": [
    "import numpy as np\n",
    "import astropy.units as u\n",
    "from pyirf import simulations,utils \n",
    "import matplotlib.pyplot as plt"
   ]
  },
  {
   "cell_type": "markdown",
   "metadata": {},
   "source": [
    "# Theory"
   ]
  },
  {
   "cell_type": "code",
   "execution_count": null,
   "metadata": {},
   "outputs": [],
   "source": [
    "proton_norm_text = r'Norm = Norm * 0.74 = 1.3e4, \\: \\: \\: \\: \\: \\text{to account only for protons}'\n",
    "intensity_text = r'I(N) = Norm \\cdot (\\frac{E}{GeV})^{\\gamma}, \\: \\: \\: \\: \\: \\text{where Norm} = 1.8e4 \\: [GeV^{-1} s^{-1} sr^{-1} m^{-2} ]'\n",
    "shower_number_text = r'N_{showers} = Norm \\cdot \\int_A \\int_{\\Omega} \\int_{t} \\int_{E_{min}}^{E_{max}} E^{\\gamma} \\,dE = Norm \\cdot Area \\cdot time \\cdot \\Omega \\cdot \\int_{E_{min}}^{E_{max}} E^{\\gamma} \\,dE'\n",
    "time_text = r'TIME = \\frac{(\\gamma + 1)\\cdot N_{showers}}{Area \\cdot \\Omega \\cdot Norm \\cdot (E_{max}^{\\gamma + 1} - E_{min}^{\\gamma + 1})} = | \\gamma \\rightarrow (-2.7) | = \\frac{(-1.7)\\cdot N_{showers}}{Area \\cdot \\Omega \\cdot Norm \\cdot (E_{max}^{-1.7} - E_{min}^{-1.7})}'\n",
    "n_showers_text = r'where, \\; N_{showers} = N_{corsikashowers} \\cdot \\int_{E_{min}}^{E_{max}} \\frac{{E^{-2.7}}}{{E^{-2}}} \\, dE = N_{corsikashowers} \\cdot \\int_{E_{min}}^{E_{max}} {E^{-0.7} dE} '\n",
    "ax = plt.axes([0,0,0.3,0.3]) #left,bottom,width,height\n",
    "ax.set_xticks([])\n",
    "ax.set_yticks([])\n",
    "ax.axis('off')\n",
    "\n",
    "_ = plt.text(0,2.2,'$%s$' %intensity_text,size=15,color=\"black\")\n",
    "\n",
    "_ = plt.text(0,1.6,'$%s$' %shower_number_text,size=15,color=\"black\")\n",
    "\n",
    "_ = plt.text(0,0.8,'$%s$' %time_text,size=30,color=\"black\")\n",
    "\n",
    "_ = plt.text(0,0,'$%s$' %n_showers_text,size=20,color=\"black\")\n",
    "\n",
    "_ = plt.text(0,-0.5,'$%s$' %proton_norm_text,size=15,color=\"black\")\n",
    "\n",
    "\n",
    "\n"
   ]
  },
  {
   "cell_type": "markdown",
   "metadata": {},
   "source": [
    "# Function"
   ]
  },
  {
   "cell_type": "code",
   "execution_count": null,
   "metadata": {},
   "outputs": [],
   "source": [
    "def observational_time(simulated_event_info, norm=18000):\n",
    "    \"\"\"\n",
    "    Calculate observation time for simulated events\n",
    "    \n",
    "    This function is adapted from pyirf.spectral.from_simulation method\n",
    "\n",
    "    Parameters\n",
    "    ----------\n",
    "    Parameters are taken from pyirf.simulations.SimulatedEventsInfo object\n",
    "\n",
    "    e_min - min energy [GeV]\n",
    "    e_max - max energy [GeV]\n",
    "    index - index of simulated power law\n",
    "    n_showers - number of simulated shower (reused accounted)\n",
    "    viewcone - viewcone of simulation\n",
    "    max_impact - diameter of the area for simulation\n",
    "    e_ref - reference energy value\n",
    "    norm - normalisation factor from all particles spectrum from PDG (multiplied by 0.74 to normalise only for protons )\n",
    "    ----------\n",
    "\n",
    "    Returns\n",
    "    ----------\n",
    "    time of observation in seconds\n",
    "\n",
    "    \"\"\"\n",
    "    print(\"=== start of work ====\")\n",
    "    e_min = simulated_event_info.energy_min.to(\"GeV\")\n",
    "    e_max = simulated_event_info.energy_max.to(\"GeV\")\n",
    "    index = simulated_event_info.spectral_index\n",
    "    n_showers = simulated_event_info.n_showers\n",
    "    viewcone = simulated_event_info.viewcone\n",
    "    max_impact = simulated_event_info.max_impact.to(\"m\")\n",
    "    print(f\"max impact parameter = {max_impact}\")\n",
    "    e_ref = 1 * u.GeV\n",
    "    #norm = 0.74 * norm\n",
    "    print(f\"norm = {norm}\")\n",
    "    \n",
    "    solid_angle = utils.cone_solid_angle(viewcone)\n",
    "    print(f\"solid_angle = {solid_angle}\")\n",
    "    print(f\"viewcone = {viewcone}\")\n",
    "    A = (np.pi * (max_impact**2))\n",
    "    \n",
    "    delta = e_max ** (index + 1) - e_min ** (index + 1)\n",
    "    nom = (index + 1) * e_ref**index * n_showers\n",
    "    denom = A * solid_angle.to_value() * delta * norm\n",
    "    print(\"==== end of work =====\")\n",
    "    return (nom / denom).to_value()"
   ]
  },
  {
   "cell_type": "markdown",
   "metadata": {},
   "source": [
    "# Tests"
   ]
  },
  {
   "cell_type": "code",
   "execution_count": null,
   "metadata": {},
   "outputs": [],
   "source": [
    "# MONO Simulation\n",
    "path = '/fefs/aswg/data/mc/DL0/LSTProd2/TestDataset/Protons/Corsika/node_corsika_theta_10.0_az_248.117_/output'\n",
    "\n",
    "# integral E^-0.7 from 10 to 103901 GeV\n",
    "scale_integral = 98.75\n",
    "\n",
    "runs = 500\n",
    "showers = 2e4\n",
    "CSCAT = 10\n",
    "mono_shower_number = showers * CSCAT * runs * scale_integral\n",
    "\n",
    "real_proton_number = 42091\n",
    "weighted_proton_number = 125000\n",
    "#weighted_proton_number = 1256194\n",
    "weighted_muon_number = 201\n",
    "\n",
    "simulated_events2 = simulations.SimulatedEventsInfo(n_showers = int(mono_shower_number), \n",
    "                                                    energy_min=10*u.GeV, \n",
    "                                                    energy_max=103.9*u.TeV, \n",
    "                                                    max_impact = 1.51153*u.km, \n",
    "                                                    spectral_index=-2.7, \n",
    "                                                    viewcone=9*u.deg)\n",
    "\n",
    "time_mono = observational_time(simulated_events2)\n",
    "print(f\"time of observation for 500 runs of mono events = {time_mono} seconds\")\n",
    "print(f\"Rate of protons = {weighted_proton_number/time_mono} Hz\")\n",
    "print(f\"Rate of muons = {weighted_muon_number/time_mono} Hz\")"
   ]
  },
  {
   "cell_type": "code",
   "execution_count": null,
   "metadata": {},
   "outputs": [],
   "source": [
    "29217084 - 29216593"
   ]
  },
  {
   "cell_type": "code",
   "execution_count": null,
   "metadata": {},
   "outputs": [],
   "source": [
    "# 4LST stereo\n",
    "path = '/fefs/aswg/workspace/MC_common/corsika7.7_simtelarray_20200629/prod5/4LSTs_MAGIC/proton/zenith_20deg/south_pointing/corsika'\n",
    "\n",
    "# \\int E^-0.7 from 10 to 10e5 GeV\n",
    "scale_integral = 99.9\n",
    "\n",
    "n_runs = 499\n",
    "showers = 1e5\n",
    "CSCAT = 10\n",
    "stereo_shower_number = showers * CSCAT * runs * scale_integral\n",
    "\n",
    "original_proton_number = 151415\n",
    "original_muon_number = 170\n",
    "weighted_proton_number = 328637\n",
    "weighted_muon_number = 368\n",
    "cleaned_muon_number = 1870\n",
    "\n",
    "\n",
    "simulated_events3 = simulations.SimulatedEventsInfo(n_showers = int(stereo_shower_number), \n",
    "                                                    energy_min=10*u.GeV, \n",
    "                                                    energy_max=100*u.TeV, \n",
    "                                                    max_impact = 1.500*u.km, \n",
    "                                                    spectral_index=-2.7, \n",
    "                                                    viewcone=10*u.deg)\n",
    "\n",
    "time_stereo = observational_time(simulated_events3)\n",
    "print(f\"time of observation for 500 runs of stereo events =  {time_stereo} seconds\")\n",
    "print(f\"Rate of protons = {weighted_proton_number/time_stereo} Hz\")\n",
    "print(f\"Rate of muons = {weighted_muon_number/time_stereo} Hz\")\n",
    "print(f\"Rate of muons = {cleaned_muon_number/time_stereo} Hz\")"
   ]
  },
  {
   "cell_type": "code",
   "execution_count": null,
   "metadata": {},
   "outputs": [],
   "source": [
    "# MONO low zenith Simulation for high energies\n",
    "path = '/fefs/aswg/data/mc/DL0/LSTProd2/TrainingDataset/Protons/dec_2276/sim_telarray/node_theta_66.446_az_75.983_/output_v1.4/'\n",
    "\n",
    "# integral E^-0.7 from 10 to 103901 GeV\n",
    "scale_integral = 116.5\n",
    "\n",
    "runs = 499\n",
    "showers = 3e4\n",
    "CSCAT = 10\n",
    "mono_shower_number = showers * CSCAT * runs * scale_integral\n",
    "\n",
    "real_proton_number = 42091\n",
    "weighted_proton_number = 426238.4427456507\n",
    "weighted_muon_number = 909\n",
    "\n",
    "simulated_events2 = simulations.SimulatedEventsInfo(n_showers = int(mono_shower_number), \n",
    "                                                    energy_min=99*u.GeV, \n",
    "                                                    energy_max=200*u.TeV, \n",
    "                                                    max_impact = 2.372*u.km, \n",
    "                                                    spectral_index=-2.7, \n",
    "                                                    viewcone=5.057*u.deg)\n",
    "\n",
    "time_mono = observational_time(simulated_events2)\n",
    "print(f\"time of observation for 500 runs of mono events = {time_mono} seconds\")\n",
    "print(f\"Rate of protons = {weighted_proton_number/time_mono} Hz\")\n",
    "print(f\"Rate of muons = {weighted_muon_number/time_mono} Hz\")"
   ]
  },
  {
   "cell_type": "code",
   "execution_count": null,
   "metadata": {},
   "outputs": [],
   "source": [
    "i = quad(lambda x: math.pow(x, -0.7), 100, 2e5)\n",
    "print(i)"
   ]
  },
  {
   "cell_type": "markdown",
   "metadata": {},
   "source": [
    "### Spectral weighting"
   ]
  },
  {
   "cell_type": "code",
   "execution_count": null,
   "metadata": {},
   "outputs": [],
   "source": [
    "simulated_events = simulations.SimulatedEventsInfo(n_showers = int(42091), \n",
    "                                                   energy_min=10*u.GeV, \n",
    "                                                   energy_max=103.9*u.TeV, \n",
    "                                                   max_impact = 1.511*u.km, \n",
    "                                                   spectral_index=-2, \n",
    "                                                   viewcone=9*u.deg)"
   ]
  },
  {
   "cell_type": "code",
   "execution_count": null,
   "metadata": {},
   "outputs": [],
   "source": [
    "with open('/Users/vdk/energy.txt', 'r') as fi:\n",
    "    one_line = fi.read()\n",
    "    many_lines = one_line.split(\",\")\n",
    "    energy_array_protons = [float(value) for value in many_lines[:-1]]\n",
    "\n",
    "with open('/Users/vdk/energy_muons.txt', 'r') as fi:\n",
    "    one_line = fi.read()\n",
    "    many_lines = one_line.split(\",\")\n",
    "    energy_array_muons = [float(value) for value in many_lines[:-1]]\n",
    "\n",
    "w_protons = sum([energy**(-0.7) for energy in energy_array_protons])\n",
    "w_muons = sum([energy**(-0.7) for energy in energy_array_muons])\n",
    "print(f\"protons weighted manually = {w_protons}\")\n",
    "print(f\"muons weighted manually = {w_muons}\")\n",
    "\n",
    "\n",
    "\n",
    "\n",
    "simulated_spectrum = spectral.PowerLaw(normalization = 1 * spectral.DIFFUSE_FLUX_UNIT, index = -2, e_ref =1* u.TeV)\n",
    "target_spectrum = spectral.PowerLaw(normalization = 1 * spectral.DIFFUSE_FLUX_UNIT, index = -2.7, e_ref =1* u.TeV)\n",
    "\n",
    "#target_spectrum = spectral.PDG_ALL_PARTICLE\n",
    "#simulated_spectrum = spectral.PowerLaw.from_simulation(simulated_events, obstime=0.1*u.s)\n",
    "\n",
    "pyirf_weighted = [spectral.calculate_event_weights(energy*u.TeV, target_spectrum=target_spectrum, simulated_spectrum=simulated_spectrum) for energy in energy_array_protons]\n",
    "print(f\"protons weighted pyirf = {sum(pyirf_weighted)}\")\n",
    "#print(f\"muons weighted manually = {w_muons}\")"
   ]
  },
  {
   "cell_type": "code",
   "execution_count": null,
   "metadata": {},
   "outputs": [],
   "source": [
    "from scipy.integrate import quad"
   ]
  },
  {
   "cell_type": "code",
   "execution_count": null,
   "metadata": {},
   "outputs": [],
   "source": [
    "import math\n",
    "i = quad(lambda x: math.pow(x, -2.7), 10, 1e5)\n",
    "print(i)"
   ]
  },
  {
   "cell_type": "code",
   "execution_count": null,
   "metadata": {},
   "outputs": [],
   "source": [
    "math.pi * 1500**2"
   ]
  },
  {
   "cell_type": "code",
   "execution_count": null,
   "metadata": {},
   "outputs": [],
   "source": [
    "(math.pi * 1500**2) * 1.8e4 * 0.077 * 0.01173"
   ]
  },
  {
   "cell_type": "code",
   "execution_count": null,
   "metadata": {},
   "outputs": [],
   "source": [
    "# MONO Simulation\n",
    "path = '/fefs/aswg/data/mc/DL0/LSTProd2/TestDataset/Protons/Corsika/node_corsika_theta_10.0_az_248.117_/output'\n",
    "\n",
    "# integral E^-0.7 from 10 to 103901 GeV\n",
    "scale_integral = 98.75 / 98.75\n",
    "\n",
    "runs = 499\n",
    "showers = 2e4\n",
    "CSCAT = 10\n",
    "mono_shower_number = showers * CSCAT * runs * scale_integral\n",
    "\n",
    "obs_protons = 53000\n",
    "\n",
    "weighted_proton_number = 114868\n",
    "weighted_muon_number = 206\n",
    "\n",
    "simulated_events2 = simulations.SimulatedEventsInfo(n_showers = int(obs_protons), \n",
    "                                                    energy_min=200*u.GeV, \n",
    "                                                    energy_max=300*u.TeV, \n",
    "                                                    max_impact = 1.5*u.km, \n",
    "                                                    spectral_index=-2.7, \n",
    "                                                    viewcone=4.5*u.deg)\n",
    "\n",
    "time_mono = observational_time(simulated_events2)\n",
    "print(f\"time of observation for 500 runs of mono events = {time_mono} seconds\")\n",
    "print(f\"Rate of protons = {weighted_proton_number/time_mono} Hz\")\n",
    "print(f\"Rate of muons = {weighted_muon_number/time_mono} Hz\")"
   ]
  },
  {
   "cell_type": "markdown",
   "metadata": {},
   "source": [
    "# Muons"
   ]
  },
  {
   "cell_type": "code",
   "execution_count": null,
   "metadata": {},
   "outputs": [],
   "source": [
    "def muon_rate(max_impact, viewcone):\n",
    "    #area = np.pi*(max_impact**2)\n",
    "    area = 378*4\n",
    "    solid_angle = utils.cone_solid_angle(np.deg2rad(viewcone)).to_value()\n",
    "    return 200 * area * solid_angle"
   ]
  },
  {
   "cell_type": "code",
   "execution_count": null,
   "metadata": {},
   "outputs": [],
   "source": [
    "rate = muon_rate(378*4, 4.5*4)\n",
    "print(rate)"
   ]
  },
  {
   "cell_type": "code",
   "execution_count": null,
   "metadata": {},
   "outputs": [],
   "source": [
    "1e7 / '{:e}'.format(20000*100)"
   ]
  },
  {
   "cell_type": "code",
   "execution_count": null,
   "metadata": {},
   "outputs": [],
   "source": [
    "203852.31627598594 / 5857.174530632433"
   ]
  },
  {
   "cell_type": "code",
   "execution_count": null,
   "metadata": {},
   "outputs": [],
   "source": [
    "437*5"
   ]
  },
  {
   "cell_type": "code",
   "execution_count": null,
   "metadata": {},
   "outputs": [],
   "source": [
    "viewcone = 3.5\n",
    "radi = 150\n",
    "area = 150**2 * 3.14\n",
    "\n",
    "solid_angle = utils.cone_solid_angle(viewcone)"
   ]
  },
  {
   "cell_type": "code",
   "execution_count": null,
   "metadata": {},
   "outputs": [],
   "source": [
    "area*solid_angle * 3/20000"
   ]
  },
  {
   "cell_type": "code",
   "execution_count": null,
   "metadata": {},
   "outputs": [],
   "source": [
    "128*200"
   ]
  },
  {
   "cell_type": "code",
   "execution_count": null,
   "metadata": {},
   "outputs": [],
   "source": []
  }
 ],
 "metadata": {
  "kernelspec": {
   "display_name": "cta",
   "language": "python",
   "name": "python3"
  },
  "language_info": {
   "codemirror_mode": {
    "name": "ipython",
    "version": 3
   },
   "file_extension": ".py",
   "mimetype": "text/x-python",
   "name": "python",
   "nbconvert_exporter": "python",
   "pygments_lexer": "ipython3",
   "version": "3.11.6"
  }
 },
 "nbformat": 4,
 "nbformat_minor": 2
}
