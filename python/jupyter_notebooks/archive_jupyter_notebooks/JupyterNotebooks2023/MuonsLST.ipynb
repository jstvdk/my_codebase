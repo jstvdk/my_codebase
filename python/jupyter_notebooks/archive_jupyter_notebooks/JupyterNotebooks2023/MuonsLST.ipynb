{
 "cells": [
  {
   "cell_type": "code",
   "execution_count": null,
   "metadata": {},
   "outputs": [],
   "source": [
    "import pandas as pd\n",
    "from astropy.table import Table\n",
    "from ctapipe.instrument import SubarrayDescription\n",
    "from lstchain.io.io import dl1_params_lstcam_key, dl1_images_lstcam_key\n",
    "from lstchain.io import read_calibration_file\n",
    "import sys\n",
    "sys.path.append('/Users/vdk/GeneveWork/Code/calibpipe-main-calibpipe/')\n",
    "from astropy.io import ascii\n",
    "import numpy as np\n",
    "import pandas as pd\n",
    "import matplotlib\n",
    "import csv\n",
    "import scipy\n",
    "import matplotlib.pyplot as plt\n",
    "from seaborn import histplot\n",
    "import random\n",
    "import copy\n",
    "from os import path, makedirs\n",
    "from astropy.coordinates import SkyCoord\n",
    "from astropy.table import Table\n",
    "import astropy.units as u\n",
    "from ctapipe.containers import MuonEfficiencyContainer\n",
    "from ctapipe.coordinates import CameraFrame, TelescopeFrame\n",
    "from ctapipe.io import EventSource, EventSeeker\n",
    "from ctapipe.core import TelescopeComponent\n",
    "from ctapipe.core.traits import (\n",
    "    List,\n",
    "    Int,\n",
    "    FloatTelescopeParameter,\n",
    "    TelescopeParameter,\n",
    "    Unicode,\n",
    ")\n",
    "from ctapipe.image.cleaning import tailcuts_clean\n",
    "from ctapipe.image.muon import MuonRingFitter, MuonIntensityFitter\n",
    "from traitlets.config import Config\n",
    "from ctapipe.image import ImageProcessor\n",
    "from ctapipe.image.muon import MuonProcessor\n",
    "from ctapipe.visualization import CameraDisplay\n",
    "from ctapipe.instrument import CameraGeometry\n",
    "from ctapipe.calib import CameraCalibrator\n",
    "from traitlets.config.loader import Config, FileConfigLoader, JSONFileConfigLoader\n",
    "import pathlib\n",
    "from calibpipe.throughput import MuonCalibrator\n",
    "from traitlets.config import Config\n",
    "from astropy.time import Time\n",
    "from astropy.coordinates import EarthLocation,SkyCoord, AltAz \n",
    "from traitlets.config import Config\n",
    "import time\n",
    "from ctapipe.image import number_of_islands\n",
    "import json\n",
    "from pyirf import spectral\n",
    "from lstchain.image.muon import analyze_muon_event, tag_pix_thr\n",
    "\n",
    "\n",
    "\n"
   ]
  },
  {
   "cell_type": "code",
   "execution_count": null,
   "metadata": {},
   "outputs": [],
   "source": [
    "\n",
    "\n",
    "filename = '/Users/vdk/dl1_simtel_corsika_run32.h5'\n",
    "subarray = SubarrayDescription.from_hdf(filename)\n",
    "\n",
    "images = Table.read(filename, path=dl1_images_lstcam_key)['image']\n",
    "parameters = pd.read_hdf(filename, key=dl1_params_lstcam_key)\n",
    "\n",
    "pd.set_option('display.max_columns', None)\n",
    "for i in parameters['tel_id'][:]:\n",
    "    if i != 1:\n",
    "        print(f\"Other telescope = {i}\")"
   ]
  },
  {
   "cell_type": "code",
   "execution_count": null,
   "metadata": {},
   "outputs": [],
   "source": [
    "parameters"
   ]
  },
  {
   "cell_type": "markdown",
   "metadata": {},
   "source": [
    "### CTApipe Observation Processing\n"
   ]
  },
  {
   "cell_type": "code",
   "execution_count": null,
   "metadata": {},
   "outputs": [],
   "source": [
    "# Треба завантажити конфіг в івент соурс\n",
    "\n",
    "\n",
    "config_filename = '/Users/vdk/RealLST/typical_run_data/lstchain_standard_v0.10_heuristic_ff.json'\n",
    "\n",
    "with open(config_filename) as json_file:\n",
    "    config_data = json.load(json_file)\n",
    "\n",
    "custom_config = Config(config_data)\n",
    "\n",
    "muon_processor_config = Config({\n",
    "                                \"MuonProcessor\": {\n",
    "                                    \"RingQuery\": {\n",
    "                                        \"quality_criteria\" : [[\"intensity_check\",f\"np.abs(parameters.intensity_ratio - 1) < {int_cut}\"],\n",
    "                                                        [\"ring_containment\", \"parameters.containment > 0.1\"],\n",
    "                                                        [\"ring_completeness\", \"parameters.completeness > 0.1\"]]},\n",
    "                                    \"ImageParameterQuery\" :{\n",
    "                                        \"quality_criteria\" : [[\"min_pixels\", f\"dl1_params.morphology.n_pixels > {min_pixel}\"],\n",
    "                                                        [\"min_intensity\", \"dl1_params.hillas.intensity > 500\"]]}}})\n",
    "\n",
    "cfg = Config({\n",
    "    \"source_config\": {\n",
    "        \"EventSource\" : {\n",
    "            \"allowed_tels\": [1],\"max_events\": 9999}},\n",
    "        \"PointingSource\":{\n",
    "            \"drive_report_path\": '/Users/vdk/RealLST/data/DrivePosition_log_20231007.txt'},\n",
    "        \"LSTR0Corrections\": {\n",
    "          \"calib_scale_high_gain\":1.088,\n",
    "          \"calib_scale_low_gain\":1.004,\n",
    "          \"drs4_pedestal_path\": '/Users/vdk/RealLST/data/drs4_pedestal.Run14937.0000.h5',\n",
    "          \"calibration_path\": '/Users/vdk/RealLST/data/calibration_filters_52.Run14938.0000.h5',\n",
    "          \"drs4_time_calibration_path\": '/Users/vdk/RealLST/data/time_calibration.Run08349.0000.h5'\n",
    "      }})\n",
    "\n",
    "config = replace_config(standard_config, muon_processor_config)\n",
    "#onfig = replace_config(config, muon_processor_config_2)\n",
    "config = replace_config(config, custom_config)\n",
    "\n",
    "image_processor = ImageProcessor(source.subarray)\n",
    "muon_processor = MuonProcessor(source.subarray, config = Config(config))\n",
    "calib = CameraCalibrator(image_extractor_type=\"GlobalPeakWindowSum\",subarray = source.subarray, config = Config(config))\n"
   ]
  },
  {
   "cell_type": "code",
   "execution_count": null,
   "metadata": {},
   "outputs": [],
   "source": []
  },
  {
   "cell_type": "markdown",
   "metadata": {},
   "source": [
    "### CTApipe 4LST processing"
   ]
  },
  {
   "cell_type": "code",
   "execution_count": null,
   "metadata": {},
   "outputs": [],
   "source": [
    "int_cut = 0.2\n",
    "min_pixel = 70\n",
    "\n",
    "muon_processor_config = Config({\n",
    "                                \"MuonProcessor\": {\n",
    "                                    \"RingQuery\": {\n",
    "                                        \"quality_criteria\" : [[\"intensity_check\",f\"np.abs(parameters.intensity_ratio - 1) < {int_cut}\"],\n",
    "                                                        [\"ring_containment\", \"parameters.containment > 0.1\"],\n",
    "                                                        [\"ring_completeness\", \"parameters.completeness > 0.1\"]]},\n",
    "                                    \"ImageParameterQuery\" :{\n",
    "                                        \"quality_criteria\" : [[\"min_pixels\", f\"dl1_params.morphology.n_pixels > {min_pixel}\"],\n",
    "                                                        [\"min_intensity\", \"dl1_params.hillas.intensity > 500\"]]}}})"
   ]
  },
  {
   "cell_type": "code",
   "execution_count": null,
   "metadata": {},
   "outputs": [],
   "source": [
    "event_ids_calib = []\n",
    "impacts = []\n",
    "widths = []\n",
    "for k in range(1,101):\n",
    "    filename = f'/Users/vdk/LST/4LSTmuons/simtel_run{k}01_muon.simtel.gz'\n",
    "    source = EventSource(filename)\n",
    "    event_iterator = iter(source)\n",
    "    for i,event in enumerate(event_iterator):\n",
    "        for m in event.trigger.tels_with_trigger:\n",
    "            checker += 1\n",
    "            image_processor = ImageProcessor(source.subarray)\n",
    "            muon_processor = MuonProcessor(source.subarray, config = muon_processor_config)\n",
    "            calib = CameraCalibrator(image_extractor_type=\"GlobalPeakWindowSum\",subarray = source.subarray)\n",
    "            calib(event)\n",
    "            image_processor(event)\n",
    "            muon_processor(event)\n",
    "            for m in event.muon.tel.keys():\n",
    "                if not np.isnan(event.muon.tel[m].efficiency.width) and (0.2*11 < event.muon.tel[m].efficiency.impact.to_value() < 0.9*11):\n",
    "                    event_container[keks+i] = event\n",
    "                    event_ids_calib.append(event.index.event_id)\n",
    "                    impacts.append(event.muon.tel[m].efficiency.impact)\n",
    "                    widths.append(event.muon.tel[m].efficiency.width)\n",
    "    t2 = time.perf_counter(), time.process_time()\n",
    "    print(\"checker = \", checker)   \n",
    "\n",
    "print(f\" Real time: {t2[0] - t1[0]:.2f} seconds\")\n",
    "print(f\" CPU time: {t2[1] - t1[1]:.2f} seconds\")"
   ]
  },
  {
   "cell_type": "code",
   "execution_count": null,
   "metadata": {},
   "outputs": [],
   "source": [
    "print(\"muons = \", len(event_container))\n",
    "print(\"muons events = \", event_container.keys())\n",
    "\n",
    "opt_eff_m = []\n",
    "for i in event_container:\n",
    "    for m in event_container[i].trigger.tels_with_trigger:\n",
    "        if not np.isnan(event_container[i].muon.tel[m].efficiency.optical_efficiency):\n",
    "            opt_eff_m.append(event_container[i].muon.tel[m].efficiency.optical_efficiency)\n",
    "\n",
    "print(\"mean = \", np.mean(opt_eff_m))\n",
    "print(\"std = \", np.std(opt_eff_m))\n",
    "print(\"len = \", len(opt_eff_m))\n",
    "print(f\"event_ids = {event_ids_calib}\")\n"
   ]
  },
  {
   "cell_type": "code",
   "execution_count": null,
   "metadata": {},
   "outputs": [],
   "source": [
    "plt.hist(widths, bins = 12, alpha = 0.7)\n",
    "plt.ylabel('Counts')\n",
    "plt.xlabel('Ring widths in deg')\n",
    "plt.xlim(0,0.12)\n",
    "plt.ylim(0,90)\n",
    "plt.grid(alpha = 0.5)\n",
    "plt.title(\"Widths of muons processed by CalibPipe method\")"
   ]
  },
  {
   "cell_type": "code",
   "execution_count": null,
   "metadata": {},
   "outputs": [],
   "source": [
    "plt.hist(impacts, bins = 10, alpha = 0.7)\n",
    "plt.ylabel('Counts')\n",
    "plt.xlabel('Ring impact in m')\n",
    "plt.xlim(0,12)\n",
    "plt.ylim(0,90)\n",
    "plt.grid(alpha = 0.5)\n",
    "plt.title(\"Impact of muons processed by CalibPipe method\")"
   ]
  },
  {
   "cell_type": "markdown",
   "metadata": {},
   "source": [
    "### lstchain processing"
   ]
  },
  {
   "cell_type": "code",
   "execution_count": null,
   "metadata": {},
   "outputs": [],
   "source": []
  },
  {
   "cell_type": "code",
   "execution_count": null,
   "metadata": {},
   "outputs": [],
   "source": [
    "\n",
    "\n",
    "int_cut = 0.3\n",
    "min_pixel = 70\n",
    "\n",
    "muon_processor_config = Config({\n",
    "                                \"MuonProcessor\": {\n",
    "                                    \"RingQuery\": {\n",
    "                                        \"quality_criteria\" : [[\"intensity_check\",f\"np.abs(parameters.intensity_ratio - 1) < {int_cut}\"],\n",
    "                                                        [\"ring_containment\", \"parameters.containment > 0.1\"],\n",
    "                                                        [\"ring_completeness\", \"parameters.completeness > 0.1\"]]},\n",
    "                                    \"ImageParameterQuery\" : {\n",
    "                                        \"quality_criteria\" : [[\"min_pixels\", f\"dl1_params.morphology.n_pixels > {min_pixel}\"],\n",
    "                                                        [\"min_intensity\", \"dl1_params.hillas.intensity > 500\"]]},\n",
    "                                    \"MuonIntensityFitter\" : {\n",
    "                                        \"hole_radius_m\" : [[\"type\", \"LST_*\", 0.308]]\n",
    "                                    }}})\n",
    "\n",
    "checker = 0\n",
    "event_container = {}\n",
    "\n",
    "muon_params = []\n",
    "event_ids_lstchain = []\n",
    "\n",
    "for k in range(1,101):\n",
    "    filename = f'/Users/vdk/LST/4LSTmuons/simtel_run{k}01_muon.simtel.gz'\n",
    "    print(filename)\n",
    "    source = EventSource(filename)\n",
    "    event_iterator = iter(source)\n",
    "\n",
    "    for i,event in enumerate(event_iterator):\n",
    "        for m in event.trigger.tels_with_trigger:\n",
    "            checker += 1\n",
    "            image_processor = ImageProcessor(source.subarray)\n",
    "            muon_processor = MuonProcessor(source.subarray, config = muon_processor_config)\n",
    "            #muon_processor = MuonProcessor(source.subarray)\n",
    "            calib = CameraCalibrator(image_extractor_type=\"GlobalPeakWindowSum\",subarray = source.subarray)\n",
    "            #print(f\"Non Muon Event Telescope with stereo trigger = {event.trigger.tels_with_trigger}\")\n",
    "            calib(event)\n",
    "            #image_processor(event)\n",
    "            #muon_processor(event)\n",
    "            event_id = event.index.event_id\n",
    "            for tel_id in event.trigger.tels_with_trigger:\n",
    "                image = event.dl1.tel[tel_id].image\n",
    "                if not tag_pix_thr(event.dl1.tel[tel_id].image):  # default skips pedestal and calibration events\n",
    "                    continue\n",
    "\n",
    "                (\n",
    "                    muonintensityparam, dist_mask, size, size_outside_ring,\n",
    "                    muonringparam, good_ring, radial_distribution,\n",
    "                    mean_pixel_charge_around_ring, muonparameters\n",
    "                ) = analyze_muon_event(source.subarray, tel_id, event_id,\n",
    "                                    image, good_ring_config=None,\n",
    "                                    plot_rings=False, plots_path=False\n",
    "                                    )\n",
    "                if good_ring:\n",
    "                    muon_params.append(muonintensityparam)\n",
    "                    event_ids_lstchain.append(event.index.event_id)\n"
   ]
  },
  {
   "cell_type": "code",
   "execution_count": null,
   "metadata": {},
   "outputs": [],
   "source": [
    "event.pointing.tel[1]"
   ]
  },
  {
   "cell_type": "code",
   "execution_count": null,
   "metadata": {},
   "outputs": [],
   "source": [
    "opt_eff = []\n",
    "for muon_container in muon_params:\n",
    "    opt_eff.append(muon_container.optical_efficiency)\n",
    "    #print(muon_container.optical_efficiency)"
   ]
  },
  {
   "cell_type": "code",
   "execution_count": null,
   "metadata": {},
   "outputs": [],
   "source": [
    "print(f\"mean = {np.mean(opt_eff)}\")\n",
    "print(f\"len =  {len(opt_eff)}\")"
   ]
  },
  {
   "cell_type": "code",
   "execution_count": null,
   "metadata": {},
   "outputs": [],
   "source": [
    "source.subarray.tels[1].camera.geometry"
   ]
  },
  {
   "cell_type": "code",
   "execution_count": null,
   "metadata": {},
   "outputs": [],
   "source": [
    "widths = []\n",
    "impacts = []\n",
    "for muon_container in muon_params:\n",
    "    widths.append(muon_container.width)\n",
    "    impacts.append(muon_container.impact)"
   ]
  },
  {
   "cell_type": "code",
   "execution_count": null,
   "metadata": {},
   "outputs": [],
   "source": [
    "plt.hist(widths, bins = 12, alpha = 0.7)\n",
    "plt.ylabel('Counts')\n",
    "plt.xlabel('Ring widths in deg')\n",
    "plt.xlim(0,0.12)\n",
    "plt.ylim(0,90)\n",
    "plt.grid(alpha = 0.5)\n",
    "plt.title(\"Widths of muons processed by lstchain method\")"
   ]
  },
  {
   "cell_type": "code",
   "execution_count": null,
   "metadata": {},
   "outputs": [],
   "source": [
    "plt.hist(impacts, bins = 10, alpha = 0.7)\n",
    "plt.ylabel('Counts')\n",
    "plt.xlabel('Ring impact in m')\n",
    "plt.xlim(0,12)\n",
    "plt.ylim(0,90)\n",
    "plt.grid(alpha = 0.5)\n",
    "plt.title(\"Impact of muons processed by lstchain method\")"
   ]
  },
  {
   "cell_type": "code",
   "execution_count": null,
   "metadata": {},
   "outputs": [],
   "source": [
    "muon_params"
   ]
  },
  {
   "cell_type": "code",
   "execution_count": null,
   "metadata": {},
   "outputs": [],
   "source": []
  },
  {
   "cell_type": "markdown",
   "metadata": {},
   "source": [
    "### Modified ctapipe"
   ]
  },
  {
   "cell_type": "code",
   "execution_count": null,
   "metadata": {},
   "outputs": [],
   "source": [
    "int_cut = 0.1\n",
    "min_pixel = 50\n",
    "\n",
    "muon_processor_config = Config({\n",
    "                                \"MuonProcessor\": {\n",
    "                                    \"RingQuery\": {\n",
    "                                        \"quality_criteria\" : [[\"intensity_check\",f\"np.abs(parameters.intensity_ratio - 1) < {int_cut}\"],\n",
    "                                                        [\"ring_containment\", \"parameters.containment > 0.3\"],\n",
    "                                                        [\"ring_completeness\", \"parameters.completeness > 0.3\"]]},\n",
    "                                    \"ImageParameterQuery\" : {\n",
    "                                        \"quality_criteria\" : [[\"min_pixels\", f\"dl1_params.morphology.n_pixels > {min_pixel}\"],\n",
    "                                                        [\"min_intensity\", \"dl1_params.hillas.intensity > 500\"]]},\n",
    "                                    \"MuonIntensityFitter\" : {\n",
    "                                        \"hole_radius_m\" : [[\"type\", \"LST_*\", 0.308]]\n",
    "                                    }}})"
   ]
  },
  {
   "cell_type": "code",
   "execution_count": null,
   "metadata": {},
   "outputs": [],
   "source": [
    "from ctapipe.core.traits import Bool, BoolTelescopeParameter, ComponentName\n",
    "from ctapipe.image.cleaning import ImageCleaner\n",
    "\n",
    "\n",
    "#event_ids_calib = []\n",
    "impacts = []\n",
    "widths = []\n",
    "\n",
    "image_cleaner_type = ComponentName(\n",
    "        ImageCleaner, default_value=\"TailcutsImageCleaner\"\n",
    "    )\n",
    "for k in range(1,11):\n",
    "    filename = f'/Users/vdk/LST/4LSTmuons/simtel_run{k}01_muon.simtel.gz'\n",
    "    source = EventSource(filename)\n",
    "    event_iterator = iter(source)\n",
    "    geom = source.subarray.tels[1].camera.geometry\n",
    "    for i,event in enumerate(event_iterator):\n",
    "        for m in event.trigger.tels_with_trigger:\n",
    "            #checker += 1\n",
    "            image_processor = ImageProcessor(source.subarray)\n",
    "            muon_processor = MuonProcessor(source.subarray, config = muon_processor_config)\n",
    "\n",
    "            #clean = ImageCleaner.from_name(image_cleaner_type, subarray=source.subarray)\n",
    "\n",
    "            #calib = CameraCalibrator(image_extractor_type=\"GlobalPeakWindowSum\",subarray = source.subarray)\n",
    "            calib = CameraCalibrator(image_extractor_type=\"LocalPeakWindowSum\",subarray = source.subarray)\n",
    "            calib(event)\n",
    "            image_processor(event)\n",
    "            \n",
    "            #for tel_id, dl1_camera in event.dl1.tel.items():\n",
    "            #        dl1_camera.image_mask = tailcuts_clean(geom, image,picture_thresh=10,boundary_thresh=5)\n",
    "                #dl1_camera.image_mask = self.clean(tel_id=tel_id,image=dl1_camera.image,arrival_times=dl1_camera.peak_time)\n",
    "            \n",
    "            muon_processor(event)\n",
    "            for m in event.muon.tel.keys():\n",
    "                if not np.isnan(event.muon.tel[m].efficiency.width) and (0.2*11 < event.muon.tel[m].efficiency.impact.to_value() < 0.9*11):\n",
    "                    event_container[keks+i] = event\n",
    "                    #event_ids_calib.append(event.index.event_id)\n",
    "                    impacts.append(event.muon.tel[m].efficiency.impact)\n",
    "                    widths.append(event.muon.tel[m].efficiency.width)\n",
    "    t2 = time.perf_counter(), time.process_time()\n",
    "    print(\"checker = \", checker)   \n",
    "\n",
    "print(f\" Real time: {t2[0] - t1[0]:.2f} seconds\")\n",
    "print(f\" CPU time: {t2[1] - t1[1]:.2f} seconds\")\n"
   ]
  },
  {
   "cell_type": "code",
   "execution_count": null,
   "metadata": {},
   "outputs": [],
   "source": [
    "opt_eff_m = []\n",
    "for i in event_container:\n",
    "    for m in event_container[i].trigger.tels_with_trigger:\n",
    "        if not np.isnan(event_container[i].muon.tel[m].efficiency.optical_efficiency):\n",
    "            opt_eff_m.append(event_container[i].muon.tel[m].efficiency.optical_efficiency)\n",
    "\n",
    "print(\"mean = \", np.mean(opt_eff_m))\n",
    "print(\"std = \", np.std(opt_eff_m))\n",
    "print(\"len = \", len(opt_eff_m))\n",
    "print(f\"event_ids = {event_ids_calib}\")"
   ]
  },
  {
   "cell_type": "code",
   "execution_count": null,
   "metadata": {},
   "outputs": [],
   "source": []
  },
  {
   "cell_type": "markdown",
   "metadata": {},
   "source": [
    "### Event id processing"
   ]
  },
  {
   "cell_type": "code",
   "execution_count": null,
   "metadata": {},
   "outputs": [],
   "source": [
    "event_ids_calib"
   ]
  },
  {
   "cell_type": "code",
   "execution_count": null,
   "metadata": {},
   "outputs": [],
   "source": [
    "common_events = []\n",
    "for event_id in event_ids_calib:\n",
    "    if event_id in event_ids_lstchain:\n",
    "        common_events.append(event_id)\n"
   ]
  },
  {
   "cell_type": "code",
   "execution_count": null,
   "metadata": {},
   "outputs": [],
   "source": [
    "checker = 0\n",
    "\n",
    "lstchain_container = {}\n",
    "\n",
    "for k in range(1,41):\n",
    "    filename = f'/Users/vdk/LST/4LSTmuons/simtel_run{k}01_muon.simtel.gz'\n",
    "    print(filename)\n",
    "    source = EventSource(filename)\n",
    "    event_iterator = iter(source)\n",
    "\n",
    "    for i,event in enumerate(event_iterator):\n",
    "        if event.index.event_id in common_events:\n",
    "            for m in event.trigger.tels_with_trigger:\n",
    "    \n",
    "                muon_processor = MuonProcessor(source.subarray, config = muon_processor_config)\n",
    "                calib = CameraCalibrator(image_extractor_type=\"GlobalPeakWindowSum\",subarray = source.subarray)\n",
    "                \n",
    "                calib(event)\n",
    "                event_id = event.index.event_id\n",
    "                for tel_id in event.trigger.tels_with_trigger:\n",
    "                    image = event.dl1.tel[tel_id].image\n",
    "                    if not tag_pix_thr(event.dl1.tel[tel_id].image):  # default skips pedestal and calibration events\n",
    "                        continue\n",
    "\n",
    "                    (\n",
    "                        muonintensityparam, dist_mask, size, size_outside_ring,\n",
    "                        muonringparam, good_ring, radial_distribution,\n",
    "                        mean_pixel_charge_around_ring, muonparameters\n",
    "                    ) = analyze_muon_event(source.subarray, tel_id, event_id,\n",
    "                                        image, good_ring_config=None,\n",
    "                                        plot_rings=False, plots_path=False\n",
    "                                        )\n",
    "            event.muon.tel[m].efficiency = muonintensityparam\n",
    "            if checker < 10:\n",
    "                lstchain_container[event.index.event_id] = event\n",
    "                checker += 1 \n",
    "            if checker == 10:\n",
    "                break\n",
    "                    "
   ]
  },
  {
   "cell_type": "code",
   "execution_count": null,
   "metadata": {},
   "outputs": [],
   "source": []
  },
  {
   "cell_type": "code",
   "execution_count": null,
   "metadata": {},
   "outputs": [],
   "source": [
    "calib_container = {}\n",
    "checker = 0\n",
    "for k in range(1,2):\n",
    "    filename = f'/Users/vdk/LST/4LSTmuons/simtel_run{k}01_muon.simtel.gz'\n",
    "    source = EventSource(filename)\n",
    "    event_iterator = iter(source)\n",
    "    for i,event in enumerate(event_iterator):\n",
    "        if event.index.event_id in common_events: \n",
    "            for m in event.trigger.tels_with_trigger:\n",
    "                image_processor = ImageProcessor(source.subarray)\n",
    "                muon_processor = MuonProcessor(source.subarray, config = muon_processor_config)\n",
    "                calib = CameraCalibrator(image_extractor_type=\"GlobalPeakWindowSum\",subarray = source.subarray)\n",
    "                calib(event)\n",
    "                #image_processor(event)\n",
    "                muon_processor(event)\n",
    "\n",
    "                if checker < 10:\n",
    "                    calib_container[event.index.event_id] = event\n",
    "                    checker += 1 \n",
    "                if checker == 10:\n",
    "                    break\n",
    "\n"
   ]
  },
  {
   "cell_type": "code",
   "execution_count": null,
   "metadata": {},
   "outputs": [],
   "source": [
    "plot_stop = 0\n",
    "for key in calib_container:\n",
    "    for tels in calib_container[key].muon.tel.keys():\n",
    "            plt.figure(figsize = (6,4))\n",
    "            camgeom = source.subarray.tel[tels].camera.geometry\n",
    "            title = f\"event_id = {lstchain_container[key].index.event_id}, optical efficiency {round(calib_container[key].muon.tel[tels].efficiency.optical_efficiency,3)}\"\n",
    "            disp = CameraDisplay(camgeom,title=title)\n",
    "            #disp.image = calib_container[key].simulation.tel[tels].true_image\n",
    "            #disp.image = event_container[i].r1.tel[m].waveform.sum(axis=1)\n",
    "            #print(np.shape(calib_container[key].dl1.tel[m].image))\n",
    "            disp.image = calib_container[key].dl1.tel[tels].image\n",
    "            disp.cmap = plt.cm.RdBu_r\n",
    "            disp.add_colorbar()\n",
    "            disp.set_limits_percent(95)\n",
    "            plt.show()\n",
    "            #plt.savefig(f\"/Users/vdk/3978-4000runs_MuonsCleaning+Island17bin_intensitycut<0.3_event{i}.png\")\n",
    "    plot_stop += 1\n",
    "    if plot_stop >2:\n",
    "        break\n",
    "    "
   ]
  },
  {
   "cell_type": "code",
   "execution_count": null,
   "metadata": {},
   "outputs": [],
   "source": [
    "plot_stop = 0\n",
    "for key in lstchain_container:\n",
    "    for tels in lstchain_container[key].trigger.tels_with_trigger:\n",
    "            plt.figure(figsize = (6,4))\n",
    "            camgeom = source.subarray.tel[tels].camera.geometry\n",
    "            title = f\"event_id = {lstchain_container[key].index.event_id}, optical efficiency {round(lstchain_container[key].muon.tel[tels].efficiency.optical_efficiency,3)}\"\n",
    "            disp = CameraDisplay(camgeom,title=title)\n",
    "            #disp.image = lstchain_container[key].simulation.tel[tels].true_image\n",
    "            #disp.image = event_container[i].r1.tel[m].waveform.sum(axis=1)\n",
    "            disp.image = lstchain_container[key].dl1.tel[tels].image\n",
    "            disp.cmap = plt.cm.RdBu_r\n",
    "            disp.add_colorbar()\n",
    "            disp.set_limits_percent(95)\n",
    "            plt.show()\n",
    "            #plt.savefig(f\"/Users/vdk/3978-4000runs_MuonsCleaning+Island17bin_intensitycut<0.3_event{i}.png\")\n",
    "    plot_stop += 1\n",
    "    if plot_stop > 2: \n",
    "        break"
   ]
  },
  {
   "cell_type": "code",
   "execution_count": null,
   "metadata": {},
   "outputs": [],
   "source": [
    "print(lstchain_container[48900].dl1.tel[2])"
   ]
  },
  {
   "cell_type": "code",
   "execution_count": null,
   "metadata": {},
   "outputs": [],
   "source": [
    "print(calib_container[48900].dl1.tel[2].image)"
   ]
  },
  {
   "cell_type": "code",
   "execution_count": null,
   "metadata": {},
   "outputs": [],
   "source": [
    "len(event.trigger.tels_with_trigger)"
   ]
  },
  {
   "cell_type": "markdown",
   "metadata": {},
   "source": [
    "#### Check dl1 images and peak time for different methods"
   ]
  },
  {
   "cell_type": "code",
   "execution_count": null,
   "metadata": {},
   "outputs": [],
   "source": [
    "#event_id = 213300\n",
    "event_id = 48900\n",
    "tel = calib_container[event_id].trigger.tels_with_trigger[0]\n",
    "np.count_nonzero(calib_container[event_id].dl1.tel[tel].image == lstchain_container[event_id].dl1.tel[tel].image)"
   ]
  },
  {
   "cell_type": "code",
   "execution_count": null,
   "metadata": {},
   "outputs": [],
   "source": [
    "np.count_nonzero(calib_container[event_id].dl1.tel[tel].peak_time == lstchain_container[event_id].dl1.tel[tel].peak_time)"
   ]
  },
  {
   "cell_type": "code",
   "execution_count": null,
   "metadata": {},
   "outputs": [],
   "source": [
    "print(lstchain_container[event_id].muon.tel[tel])"
   ]
  },
  {
   "cell_type": "code",
   "execution_count": null,
   "metadata": {},
   "outputs": [],
   "source": [
    "print(calib_container[event_id].muon.tel[tel])"
   ]
  },
  {
   "cell_type": "code",
   "execution_count": null,
   "metadata": {},
   "outputs": [],
   "source": [
    "event"
   ]
  },
  {
   "cell_type": "markdown",
   "metadata": {},
   "source": [
    "### Check intensity fitter parameters"
   ]
  },
  {
   "cell_type": "code",
   "execution_count": null,
   "metadata": {},
   "outputs": [],
   "source": [
    "\n",
    "\n",
    "int_cut = 0.3\n",
    "min_pixel = 70\n",
    "\n",
    "muon_processor_config = Config({\n",
    "                                \"MuonProcessor\": {\n",
    "                                    \"RingQuery\": {\n",
    "                                        \"quality_criteria\" : [[\"intensity_check\",f\"np.abs(parameters.intensity_ratio - 1) < {int_cut}\"],\n",
    "                                                        [\"ring_containment\", \"parameters.containment > 0.1\"],\n",
    "                                                        [\"ring_completeness\", \"parameters.completeness > 0.1\"]]},\n",
    "                                    \"ImageParameterQuery\" : {\n",
    "                                        \"quality_criteria\" : [[\"min_pixels\", f\"dl1_params.morphology.n_pixels > {min_pixel}\"],\n",
    "                                                        [\"min_intensity\", \"dl1_params.hillas.intensity > 500\"]]},\n",
    "                                    \"MuonIntensityFitter\" : {\n",
    "                                        \"hole_radius_m\" : [[\"type\", \"LST_*\", 0.308]]\n",
    "                                    }}})\n",
    "\n",
    "checker = 0\n",
    "event_container = {}\n",
    "\n",
    "muon_params = []\n",
    "event_ids_lstchain = []\n",
    "\n",
    "for k in range(1,2):\n",
    "    filename = f'/Users/vdk/LST/4LSTmuons/simtel_run{k}01_muon.simtel.gz'\n",
    "    print(filename)\n",
    "    source = EventSource(filename)\n",
    "    event_iterator = iter(source)\n",
    "\n",
    "    for i,event in enumerate(event_iterator):\n",
    "        if event.index.event_id in [48900, 213300, 1154900]:\n",
    "            checker += 1\n",
    "            for m in event.trigger.tels_with_trigger:\n",
    "                checker += 1\n",
    "                image_processor = ImageProcessor(source.subarray)\n",
    "                muon_processor = MuonProcessor(source.subarray, config = muon_processor_config)\n",
    "                #muon_processor = MuonProcessor(source.subarray)\n",
    "                calib = CameraCalibrator(image_extractor_type=\"GlobalPeakWindowSum\",subarray = source.subarray)\n",
    "                #print(f\"Non Muon Event Telescope with stereo trigger = {event.trigger.tels_with_trigger}\")\n",
    "                calib(event)\n",
    "                #image_processor(event)\n",
    "                #muon_processor(event)\n",
    "                event_id = event.index.event_id\n",
    "                for tel_id in event.trigger.tels_with_trigger:\n",
    "                    image = event.dl1.tel[tel_id].image\n",
    "                    if not tag_pix_thr(event.dl1.tel[tel_id].image):  # default skips pedestal and calibration events\n",
    "                        continue\n",
    "\n",
    "                    (\n",
    "                        muonintensityparam, dist_mask, size, size_outside_ring,\n",
    "                        muonringparam, good_ring, radial_distribution,\n",
    "                        mean_pixel_charge_around_ring, muonparameters\n",
    "                    ) = analyze_muon_event(source.subarray, tel_id, event_id,\n",
    "                                        image, good_ring_config=None,\n",
    "                                        plot_rings=False, plots_path=False\n",
    "                                        )\n",
    "                    if good_ring:\n",
    "                        muon_params.append(muonintensityparam)\n",
    "                        event_ids_lstchain.append(event.index.event_id)\n",
    "                    break\n"
   ]
  },
  {
   "cell_type": "code",
   "execution_count": null,
   "metadata": {},
   "outputs": [],
   "source": [
    "print(muon_params[2])"
   ]
  },
  {
   "cell_type": "code",
   "execution_count": null,
   "metadata": {},
   "outputs": [],
   "source": [
    "int_cut = 1\n",
    "min_pixel = 50\n",
    "\n",
    "muon_processor_config = Config({\n",
    "                                \"MuonProcessor\": {\n",
    "                                    \"RingQuery\": {\n",
    "                                        \"quality_criteria\" : [[\"intensity_check\",f\"np.abs(parameters.intensity_ratio - 1) < {int_cut}\"],\n",
    "                                                        [\"ring_containment\", \"parameters.containment > 0.1\"],\n",
    "                                                        [\"ring_completeness\", \"parameters.completeness > 0.1\"]]},\n",
    "                                    \"ImageParameterQuery\" : {\n",
    "                                        \"quality_criteria\" : [[\"min_pixels\", f\"dl1_params.morphology.n_pixels > {min_pixel}\"],\n",
    "                                                        [\"min_intensity\", \"dl1_params.hillas.intensity > 500\"]]},\n",
    "                                    \"MuonIntensityFitter\" : {\n",
    "                                        \"hole_radius_m\" : [[\"type\", \"LST_*\", 0.308]]\n",
    "                                    }}})\n",
    "\n",
    "\n",
    "event_ids_calib = []\n",
    "impacts = []\n",
    "widths = []\n",
    "for k in range(1,2):\n",
    "    filename = f'/Users/vdk/LST/4LSTmuons/simtel_run{k}01_muon.simtel.gz'\n",
    "    source = EventSource(filename)\n",
    "    event_iterator = iter(source)\n",
    "    for i,event in enumerate(event_iterator):\n",
    "        if event.index.event_id in [48900, 213300, 1154900]:\n",
    "            for m in event.trigger.tels_with_trigger:\n",
    "                \n",
    "                image_processor = ImageProcessor(source.subarray)\n",
    "                muon_processor = MuonProcessor(source.subarray, config = muon_processor_config)\n",
    "                calib = CameraCalibrator(image_extractor_type=\"GlobalPeakWindowSum\",subarray = source.subarray)\n",
    "                calib(event)\n",
    "                image_processor(event)\n",
    "                muon_processor(event)\n",
    "\n"
   ]
  },
  {
   "cell_type": "code",
   "execution_count": null,
   "metadata": {},
   "outputs": [],
   "source": [
    "telescope_description = source.subarray.tel[1]"
   ]
  },
  {
   "cell_type": "code",
   "execution_count": null,
   "metadata": {},
   "outputs": [],
   "source": [
    "telescope_description.optics\n",
    "optics = telescope_description.optics\n",
    "mirror_area = optics.mirror_area.to_value(u.m**2)\n",
    "mirror_radius = np.sqrt(mirror_area / np.pi)\n",
    "\n",
    "focal_length = optics.equivalent_focal_length"
   ]
  },
  {
   "cell_type": "code",
   "execution_count": null,
   "metadata": {},
   "outputs": [],
   "source": [
    "cam = telescope_description.camera.geometry\n",
    "camera_frame = CameraFrame(focal_length=focal_length, rotation=cam.cam_rotation)\n",
    "cam_coords = SkyCoord(x=cam.pix_x, y=cam.pix_y, frame=camera_frame)\n",
    "tel_coords = cam_coords.transform_to(TelescopeFrame())"
   ]
  },
  {
   "cell_type": "code",
   "execution_count": null,
   "metadata": {},
   "outputs": [],
   "source": []
  },
  {
   "cell_type": "code",
   "execution_count": null,
   "metadata": {},
   "outputs": [],
   "source": [
    "pixel_diameter = 2 * (np.sqrt(cam.pix_area[0] / np.pi) / focal_length * u.rad).to_value(u.rad)\n",
    "\n",
    "pixel_diameter\n"
   ]
  },
  {
   "cell_type": "markdown",
   "metadata": {},
   "source": [
    "### Look into image and mask"
   ]
  },
  {
   "cell_type": "code",
   "execution_count": null,
   "metadata": {},
   "outputs": [],
   "source": [
    "np.set_printoptions(threshold=sys.maxsize)\n",
    "ctapipe_1154900_mask = np.loadtxt('/Users/vdk/ctapipe_1154900_mask.txt')\n",
    "ctapipe_1154900_image = np.loadtxt('/Users/vdk/ctapipe_1154900_image.txt')\n",
    "lstchain_1154900_mask = np.loadtxt('/Users/vdk/lstchain_1154900_mask.txt')\n",
    "lstchain_1154900_image = np.loadtxt('/Users/vdk/lstchain_1154900_image.txt')\n",
    "\n",
    "ctapipe_213300_mask = np.loadtxt('/Users/vdk/ctapipe_213300_mask.txt')\n",
    "ctapipe_213300_image = np.loadtxt('/Users/vdk/ctapipe_213300_image.txt')\n",
    "lstchain_213300_mask = np.loadtxt('/Users/vdk/lstchain_213300_mask.txt')\n",
    "lstchain_213300_image = np.loadtxt('/Users/vdk/lstchain_213300_image.txt')"
   ]
  },
  {
   "cell_type": "code",
   "execution_count": null,
   "metadata": {},
   "outputs": [],
   "source": [
    "for i,j in enumerate(ctapipe_213300_image):\n",
    "    #if j != lstchain_213300_image[i]:\n",
    "    if i in [42,188,1600]:\n",
    "        print(f\"ctapipe = {j} -------- lstchain = {lstchain_213300_image[i]}\")"
   ]
  },
  {
   "cell_type": "code",
   "execution_count": null,
   "metadata": {},
   "outputs": [],
   "source": [
    "counter = 0\n",
    "for i,j in enumerate(ctapipe_213300_mask):\n",
    "    if j != lstchain_213300_mask[i]:\n",
    "        counter += 1\n",
    "        print(f\"ctapipe = {j} -------- lstchain = {lstchain_213300_mask[i]} for the {i}th pixel\")"
   ]
  },
  {
   "cell_type": "code",
   "execution_count": null,
   "metadata": {},
   "outputs": [],
   "source": [
    "counter"
   ]
  },
  {
   "cell_type": "code",
   "execution_count": null,
   "metadata": {},
   "outputs": [],
   "source": [
    "np.count_nonzero(ctapipe_1154900_mask)\n",
    "np.count_nonzero(lstchain_1154900_mask)"
   ]
  },
  {
   "cell_type": "markdown",
   "metadata": {},
   "source": [
    "### Look into fov_lon fov_lat"
   ]
  },
  {
   "cell_type": "code",
   "execution_count": null,
   "metadata": {},
   "outputs": [],
   "source": [
    "np.set_printoptions(threshold=sys.maxsize)\n",
    "ctapipe_fovlon = np.loadtxt('/Users/vdk/ctapipe_48900_fovlon.txt')\n",
    "ctapipe_fovlon_2 = np.loadtxt('/Users/vdk/ctapipe_213300_fovlon.txt')\n",
    "ctapipe_fovlon_3 = np.loadtxt('/Users/vdk/ctapipe_1154900_fovlon.txt')\n",
    "ctapipe_fovlat = np.loadtxt('/Users/vdk/ctapipe_48900_fovlat.txt')\n",
    "lstchain_fovlat = np.loadtxt('/Users/vdk/lstchain-1.0669492483139038_fovlat.txt')\n",
    "lstchain_fovlon_1 = np.loadtxt('/Users/vdk/lstchain-1.0669492483139038_fovlon.txt')\n",
    "lstchain_fovlon_2 = np.loadtxt('/Users/vdk/lstchain1.7702226638793945_fovlon.txt')\n",
    "lstchain_fovlon_3 = np.loadtxt('/Users/vdk/lstchain-1.2239160537719727_fovlon.txt')\n",
    "\n",
    "\n",
    "ctapipe_fovlon_chng = np.loadtxt('/Users/vdk/ctapipe_48900_fovlon_changed.txt')\n"
   ]
  },
  {
   "cell_type": "code",
   "execution_count": null,
   "metadata": {},
   "outputs": [],
   "source": [
    "counter = 0\n",
    "for i,j in enumerate(lstchain_fovlon_1):\n",
    "    if j != lstchain_fovlon_3[i]:\n",
    "        counter += 1\n",
    "        print(f\"ctapipe = {j} -------- lstchain = {lstchain_fovlon_3[i]} for the {i}th pixel\")\n",
    "\n",
    "print(counter)"
   ]
  },
  {
   "cell_type": "code",
   "execution_count": null,
   "metadata": {},
   "outputs": [],
   "source": [
    "counter = 0\n",
    "for i,j in enumerate(ctapipe_fovlon):\n",
    "    if j != ctapipe_fovlon_3[i]:\n",
    "        counter += 1\n",
    "        print(f\"ctapipe = {j} -------- lstchain = {ctapipe_fovlon_3[i]} for the {i}th pixel\")\n",
    "\n",
    "print(counter)"
   ]
  },
  {
   "cell_type": "code",
   "execution_count": null,
   "metadata": {},
   "outputs": [],
   "source": [
    "counter = 0\n",
    "for i,j in enumerate(ctapipe_fovlon_chng):\n",
    "    if j != lstchain_fovlon_1[i]:\n",
    "        counter += 1\n",
    "        print(f\"ctapipe = {j} -------- lstchain = {lstchain_fovlon_1[i]} for the {i}th pixel\")\n",
    "\n",
    "print(counter)"
   ]
  },
  {
   "cell_type": "code",
   "execution_count": null,
   "metadata": {},
   "outputs": [],
   "source": [
    "counter = 0\n",
    "for i,j in enumerate(ctapipe_fovlat):\n",
    "    if j != lstchain_fovlat[i]:\n",
    "        counter += 1\n",
    "        print(f\"ctapipe = {j} -------- lstchain = {lstchain_fovlat[i]} for the {i}th pixel\")\n",
    "\n",
    "print(counter)"
   ]
  },
  {
   "cell_type": "markdown",
   "metadata": {},
   "source": [
    "### Exploring geometry"
   ]
  },
  {
   "cell_type": "markdown",
   "metadata": {},
   "source": [
    "#### User Guide ctapipe"
   ]
  },
  {
   "cell_type": "code",
   "execution_count": null,
   "metadata": {},
   "outputs": [],
   "source": [
    "geometry = source.subarray.tel[tel_id].camera.geometry\n",
    "pix_x = geometry.pix_x\n",
    "pix_y = geometry.pix_y\n",
    "focal_length = source.subarray.tel[tel_id].optics.equivalent_focal_length\n",
    "\n",
    "\n",
    "camera_frame = CameraFrame(\n",
    "focal_length=focal_length,\n",
    "rotation=0 * u.deg,\n",
    ")\n",
    "\n",
    "cam_coords = SkyCoord(x=pix_x, y=pix_y, frame=camera_frame)\n",
    "\n",
    "print(cam_coords)\n",
    "\n",
    "#\n",
    "# Pointing corrections should applied to the transformation between this frame and the camera frame. ??\n",
    "#\n",
    "\n",
    "telescope_frame = TelescopeFrame()\n",
    "\n",
    "telescope_coords = cam_coords.transform_to(telescope_frame)\n",
    "\n",
    "print(telescope_coords)\n"
   ]
  },
  {
   "cell_type": "markdown",
   "metadata": {},
   "source": [
    "#### ctapipe realisation"
   ]
  },
  {
   "cell_type": "code",
   "execution_count": null,
   "metadata": {},
   "outputs": [],
   "source": [
    "from ctapipe.coordinates import TelescopeFrame\n",
    "\n",
    "\n",
    "tel_id = 2\n",
    "\n",
    "\n",
    "frame = TelescopeFrame()\n",
    "\n",
    "#geometries = {tel_id: tel.camera.geometry.transform_to(frame) for tel_id, tel in source.subarray.tel.items()}\n",
    "#geometry = geometries[tel_id]\n",
    "\n",
    "\n",
    "geometry = source.subarray.tel[tel_id].camera.geometry.transform_to(frame)\n",
    "\n",
    "\n",
    "\n",
    "fov_lon = geometry.pix_x\n",
    "fov_lat = geometry.pix_y\n",
    "\n",
    "\n",
    "print(geometry.pix_x)"
   ]
  },
  {
   "cell_type": "code",
   "execution_count": null,
   "metadata": {},
   "outputs": [],
   "source": [
    "# type(tel.camera.geometry) = <class 'ctapipe.instrument.camera.geometry.CameraGeometry'>\n",
    "for tel_id, tel in source.subarray.tel.items():\n",
    "    print(f\"tel_id {tel_id} and tel {tel} and tel.camera.geometry {type(tel.camera.geometry)}\")"
   ]
  },
  {
   "cell_type": "code",
   "execution_count": null,
   "metadata": {},
   "outputs": [],
   "source": [
    "print(f\"ctapipe realisation = {source.subarray.tel[tel_id].camera.geometry}\")\n",
    "print(f\"lstchain realisation = {tel_description.camera.geometry}\")"
   ]
  },
  {
   "cell_type": "code",
   "execution_count": null,
   "metadata": {},
   "outputs": [],
   "source": [
    "source.subarray.tel[tel_id].optics.equivalent_focal_length"
   ]
  },
  {
   "cell_type": "code",
   "execution_count": null,
   "metadata": {},
   "outputs": [],
   "source": [
    "geom"
   ]
  },
  {
   "cell_type": "code",
   "execution_count": null,
   "metadata": {},
   "outputs": [],
   "source": [
    "print(geometries[2].pix_y)"
   ]
  },
  {
   "cell_type": "markdown",
   "metadata": {},
   "source": [
    "#### lstchain realisation"
   ]
  },
  {
   "cell_type": "code",
   "execution_count": null,
   "metadata": {},
   "outputs": [],
   "source": [
    "def pixel_coords_to_telescope(geom, equivalent_focal_length):\n",
    "    \"\"\"\n",
    "    Get the x, y coordinates of the pixels in the telescope frame\n",
    "\n",
    "    Parameters\n",
    "    ----------\n",
    "    geom : `CameraGeometry`\n",
    "        Camera geometry\n",
    "    equivalent_focal_length: `float`\n",
    "        Focal length of the telescope\n",
    "\n",
    "    Returns\n",
    "    -------\n",
    "    fov_lon, fov_lat : `floats`\n",
    "        Coordinates in  the TelescopeFrame\n",
    "    \"\"\"\n",
    "\n",
    "    camera_coord = SkyCoord(geom.pix_x, geom.pix_y,\n",
    "                            CameraFrame(focal_length=equivalent_focal_length,\n",
    "                                        rotation=geom.cam_rotation))\n",
    "\n",
    "    tel_coord = camera_coord.transform_to(TelescopeFrame())\n",
    "\n",
    "    return tel_coord.fov_lon, tel_coord.fov_lat\n",
    "\n",
    "\n",
    "tel_description = source.subarray.tels[tel_id]\n",
    "\n",
    "geom = tel_description.camera.geometry\n",
    "\n",
    "equivalent_focal_length = tel_description.optics.equivalent_focal_length\n",
    "\n",
    "x, y = pixel_coords_to_telescope(geom, equivalent_focal_length)"
   ]
  },
  {
   "cell_type": "code",
   "execution_count": null,
   "metadata": {},
   "outputs": [],
   "source": [
    "tel_description.optics.effective_focal_length"
   ]
  },
  {
   "cell_type": "code",
   "execution_count": null,
   "metadata": {},
   "outputs": [],
   "source": [
    "counter = 0\n",
    "for i,j in enumerate(fov_lon):\n",
    "    if j != x[i]:\n",
    "        counter += 1\n",
    "        print(f\"ctapipe = {j} -------- lstchain = {x[i]} for the {i}th pixel\")\n",
    "\n",
    "print(counter)"
   ]
  },
  {
   "cell_type": "markdown",
   "metadata": {},
   "source": [
    "### Other theories"
   ]
  },
  {
   "cell_type": "markdown",
   "metadata": {},
   "source": [
    "#### Process only for LST1"
   ]
  },
  {
   "cell_type": "code",
   "execution_count": null,
   "metadata": {},
   "outputs": [],
   "source": []
  },
  {
   "cell_type": "code",
   "execution_count": null,
   "metadata": {},
   "outputs": [],
   "source": [
    "int_cut = 0.3\n",
    "min_pixel = 70\n",
    "\n",
    "muon_processor_config = Config({\n",
    "                                \"MuonProcessor\": {\n",
    "                                    \"RingQuery\": {\n",
    "                                        \"quality_criteria\" : [[\"intensity_check\",f\"np.abs(parameters.intensity_ratio - 1) < {int_cut}\"],\n",
    "                                                        [\"ring_containment\", \"parameters.containment > 0.1\"],\n",
    "                                                        [\"ring_completeness\", \"parameters.completeness > 0.1\"]]},\n",
    "                                    \"ImageParameterQuery\" : {\n",
    "                                        \"quality_criteria\" : [[\"min_pixels\", f\"dl1_params.morphology.n_pixels > {min_pixel}\"],\n",
    "                                                        [\"min_intensity\", \"dl1_params.hillas.intensity > 500\"]]},\n",
    "                                    \"MuonIntensityFitter\" : {\n",
    "                                        \"hole_radius_m\" : [[\"type\", \"LST_*\", 0.308]]\n",
    "                                    }}})\n",
    "\n",
    "checker = 0\n",
    "event_container = {}\n",
    "\n",
    "muon_params_lst1 = []\n",
    "event_ids_lstchain_lst1 = []\n",
    "\n",
    "for k in range(1,101):\n",
    "    filename = f'/Users/vdk/LST/4LSTmuons/simtel_run{k}01_muon.simtel.gz'\n",
    "    print(filename)\n",
    "    source = EventSource(filename)\n",
    "    event_iterator = iter(source)\n",
    "\n",
    "    for i,event in enumerate(event_iterator):\n",
    "        for m in event.trigger.tels_with_trigger:\n",
    "            if m == 1:\n",
    "                checker += 1\n",
    "                image_processor = ImageProcessor(source.subarray)\n",
    "                muon_processor = MuonProcessor(source.subarray, config = muon_processor_config)\n",
    "                #muon_processor = MuonProcessor(source.subarray)\n",
    "                calib = CameraCalibrator(image_extractor_type=\"GlobalPeakWindowSum\",subarray = source.subarray)\n",
    "                #print(f\"Non Muon Event Telescope with stereo trigger = {event.trigger.tels_with_trigger}\")\n",
    "                calib(event)\n",
    "                #image_processor(event)\n",
    "                #muon_processor(event)\n",
    "                event_id = event.index.event_id\n",
    "                tel_id = 1\n",
    "                image = event.dl1.tel[tel_id].image\n",
    "                if not tag_pix_thr(event.dl1.tel[tel_id].image):  # default skips pedestal and calibration events\n",
    "                    continue\n",
    "\n",
    "                (\n",
    "                    muonintensityparam, dist_mask, size, size_outside_ring,\n",
    "                    muonringparam, good_ring, radial_distribution,\n",
    "                    mean_pixel_charge_around_ring, muonparameters\n",
    "                ) = analyze_muon_event(source.subarray, tel_id, event_id,\n",
    "                                    image, good_ring_config=None,\n",
    "                                    plot_rings=False, plots_path=False\n",
    "                                    )\n",
    "                if good_ring:\n",
    "                    muon_params_lst1.append(muonintensityparam)\n",
    "                    event_ids_lstchain_lst1.append(event.index.event_id)\n"
   ]
  },
  {
   "cell_type": "code",
   "execution_count": null,
   "metadata": {},
   "outputs": [],
   "source": []
  },
  {
   "cell_type": "code",
   "execution_count": null,
   "metadata": {},
   "outputs": [],
   "source": [
    "#from datetime import datetime\n",
    "timestamp_fmt=Unicode(        default_value=\"%Y-%m-%d %H:%M:%S\",        help=\"Timestamp's format.\",    )"
   ]
  },
  {
   "cell_type": "code",
   "execution_count": null,
   "metadata": {},
   "outputs": [],
   "source": [
    "timestamp = event.trigger.tel[1].time"
   ]
  },
  {
   "cell_type": "code",
   "execution_count": null,
   "metadata": {},
   "outputs": [],
   "source": [
    "new_timestamp = datetime.strptime(timestamp,timestamp_fmt)"
   ]
  },
  {
   "cell_type": "code",
   "execution_count": null,
   "metadata": {},
   "outputs": [],
   "source": [
    "timestamp.value"
   ]
  },
  {
   "cell_type": "code",
   "execution_count": null,
   "metadata": {},
   "outputs": [],
   "source": [
    "from astropy.time import Time\n",
    "\n",
    "# Assuming your timestamp in TAI with format 'MJD' is stored in a variable called 'tai_mjd_timestamp'\n",
    "tai_mjd_timestamp = 58984#event.trigger.tel[1].time  # Replace this with your TAI MJD timestamp\n",
    "\n",
    "\n",
    "\n",
    "# Convert Astropy Time object to Python datetime object\n",
    "datetime_obj = Time(tai_mjd_timestamp, format='mjd', scale='tai').to_datetime()\n",
    "\n",
    "datetime_obj"
   ]
  },
  {
   "cell_type": "code",
   "execution_count": null,
   "metadata": {},
   "outputs": [],
   "source": [
    "type(list(event.muon.tel.keys()))"
   ]
  },
  {
   "cell_type": "code",
   "execution_count": null,
   "metadata": {},
   "outputs": [],
   "source": [
    "test = event.trigger.tels_with_trigger.copy()"
   ]
  },
  {
   "cell_type": "code",
   "execution_count": null,
   "metadata": {},
   "outputs": [],
   "source": [
    "test\n",
    "new_arr = []"
   ]
  },
  {
   "cell_type": "code",
   "execution_count": null,
   "metadata": {},
   "outputs": [],
   "source": [
    "event.trigger.tels_with_trigger"
   ]
  },
  {
   "cell_type": "code",
   "execution_count": null,
   "metadata": {},
   "outputs": [],
   "source": [
    "new_arr.append(test)"
   ]
  },
  {
   "cell_type": "code",
   "execution_count": null,
   "metadata": {},
   "outputs": [],
   "source": [
    "new_arr.append(event.trigger.tels_with_trigger)"
   ]
  },
  {
   "cell_type": "code",
   "execution_count": null,
   "metadata": {},
   "outputs": [],
   "source": [
    "test2 = np.append(test,4)"
   ]
  },
  {
   "cell_type": "code",
   "execution_count": null,
   "metadata": {},
   "outputs": [],
   "source": [
    "new_arr.append(test2)"
   ]
  },
  {
   "cell_type": "code",
   "execution_count": null,
   "metadata": {},
   "outputs": [],
   "source": [
    "lok = ','.join(map(str, new_arr))\n",
    "lok"
   ]
  },
  {
   "cell_type": "code",
   "execution_count": null,
   "metadata": {},
   "outputs": [],
   "source": [
    "datetime_obj = Time(event.trigger.tel[1].time, format='mjd', scale='tai').to_datetime()"
   ]
  },
  {
   "cell_type": "code",
   "execution_count": null,
   "metadata": {},
   "outputs": [],
   "source": [
    "type(event.trigger.tel[1].time)"
   ]
  },
  {
   "cell_type": "code",
   "execution_count": null,
   "metadata": {},
   "outputs": [],
   "source": [
    "tai_mjd_timestamp = 59353.5  # Replace this with your TAI MJD timestamp\n",
    "\n",
    "# Create an Astropy Time object from the TAI MJD timestamp\n",
    "t = Time(58353.5, format='mjd', scale='tai')\n",
    "\n",
    "# Convert Astropy Time object to Python datetime object\n",
    "datetime_obj_1 = t.to_datetime()\n",
    "\n",
    "t = Time(59353.5, format='mjd', scale='tai')\n",
    "datetime_obj_2 = t.to_datetime()\n",
    "\n",
    "t = Time(57353.5, format='mjd', scale='tai')\n",
    "datetime_obj_3 = t.to_datetime()\n",
    "\n"
   ]
  },
  {
   "cell_type": "code",
   "execution_count": null,
   "metadata": {},
   "outputs": [],
   "source": [
    "datetime_obj_1"
   ]
  },
  {
   "cell_type": "code",
   "execution_count": null,
   "metadata": {},
   "outputs": [],
   "source": [
    "datetime_obj_2"
   ]
  },
  {
   "cell_type": "code",
   "execution_count": null,
   "metadata": {},
   "outputs": [],
   "source": [
    "list_times = [datetime_obj_1, datetime_obj_2, datetime_obj_3]"
   ]
  },
  {
   "cell_type": "code",
   "execution_count": null,
   "metadata": {},
   "outputs": [],
   "source": [
    "type(min(list_times))"
   ]
  },
  {
   "cell_type": "code",
   "execution_count": null,
   "metadata": {},
   "outputs": [],
   "source": [
    "timestamp_2 = 59353.5  # Replace this with your TAI MJD timestamp\n",
    "\n",
    "\n",
    "timestamp_2 = Time(timestamp_2, format='mjd', scale='tai').to_datetime()\n",
    "\n"
   ]
  },
  {
   "cell_type": "code",
   "execution_count": null,
   "metadata": {},
   "outputs": [],
   "source": [
    "type(timestamp_2)"
   ]
  },
  {
   "cell_type": "code",
   "execution_count": null,
   "metadata": {},
   "outputs": [],
   "source": [
    "from datetime import datetime \n",
    "timestamp=Unicode(default_value=None,        help=\"The UTC timestamp of the e.g. relevant OB, \"        \"defining the timeseries to be retrieved from a data assimilation system.\",        allow_none=False,)\n",
    "\n",
    "\n",
    "timestamp_fmt=Unicode(default_value=\"%Y-%m-%d %H:%M:%S\", help=\"Timestamp's format.\",)\n",
    "\n",
    "\n",
    "timestamp = datetime.strptime('1993-11-3 00:00:00', \"%Y-%m-%d %H:%M:%S\")"
   ]
  },
  {
   "cell_type": "code",
   "execution_count": null,
   "metadata": {},
   "outputs": [],
   "source": [
    "type(timestamp)"
   ]
  },
  {
   "cell_type": "code",
   "execution_count": null,
   "metadata": {},
   "outputs": [],
   "source": []
  },
  {
   "cell_type": "code",
   "execution_count": null,
   "metadata": {},
   "outputs": [],
   "source": [
    "datetime = event.trigger.tel[1].time.to_datetime()"
   ]
  },
  {
   "cell_type": "code",
   "execution_count": null,
   "metadata": {},
   "outputs": [],
   "source": [
    "datetime"
   ]
  },
  {
   "cell_type": "code",
   "execution_count": null,
   "metadata": {},
   "outputs": [],
   "source": [
    "print(event.mon.tel[2].calibration.unusable_pixels)"
   ]
  },
  {
   "cell_type": "code",
   "execution_count": null,
   "metadata": {},
   "outputs": [],
   "source": [
    "not np.isnan(event.muon.tel[3].efficiency.optical_efficiency)"
   ]
  },
  {
   "cell_type": "code",
   "execution_count": null,
   "metadata": {},
   "outputs": [],
   "source": [
    "event.simulation.shower.energy.to_value()"
   ]
  },
  {
   "cell_type": "code",
   "execution_count": null,
   "metadata": {},
   "outputs": [],
   "source": [
    "test = [1,2,3,4,5,6,7]\n",
    "number = 100\n",
    "output_energy = '/Users/vdk/energy_stereo.txt'\n",
    "with open(output_energy, 'a', newline='') as fo:\n",
    "    writer = csv.writer(fo)\n",
    "    writer.writerows([[number]])"
   ]
  },
  {
   "cell_type": "code",
   "execution_count": null,
   "metadata": {},
   "outputs": [],
   "source": [
    "list(number)"
   ]
  },
  {
   "cell_type": "code",
   "execution_count": null,
   "metadata": {},
   "outputs": [],
   "source": [
    "with open(output_energy, 'r') as fi:\n",
    "    lines = fi.readlines()"
   ]
  },
  {
   "cell_type": "code",
   "execution_count": null,
   "metadata": {},
   "outputs": [],
   "source": [
    "test = list(map(int, lines))"
   ]
  },
  {
   "cell_type": "code",
   "execution_count": null,
   "metadata": {},
   "outputs": [],
   "source": [
    "test = [int(x) for x[:-2] in lines]"
   ]
  },
  {
   "cell_type": "code",
   "execution_count": null,
   "metadata": {},
   "outputs": [],
   "source": [
    "lines"
   ]
  },
  {
   "cell_type": "code",
   "execution_count": null,
   "metadata": {},
   "outputs": [],
   "source": [
    "import string\n",
    "lines[0].strip()"
   ]
  },
  {
   "cell_type": "code",
   "execution_count": null,
   "metadata": {},
   "outputs": [],
   "source": [
    "test = list(map(int,list(map(str.strip,lines))))"
   ]
  },
  {
   "cell_type": "code",
   "execution_count": null,
   "metadata": {},
   "outputs": [],
   "source": [
    "np.isnan(event.muon.tel[1].efficiency.width)"
   ]
  },
  {
   "cell_type": "code",
   "execution_count": null,
   "metadata": {},
   "outputs": [],
   "source": []
  }
 ],
 "metadata": {
  "kernelspec": {
   "display_name": "cta",
   "language": "python",
   "name": "python3"
  },
  "language_info": {
   "codemirror_mode": {
    "name": "ipython",
    "version": 3
   },
   "file_extension": ".py",
   "mimetype": "text/x-python",
   "name": "python",
   "nbconvert_exporter": "python",
   "pygments_lexer": "ipython3",
   "version": "3.11.6"
  }
 },
 "nbformat": 4,
 "nbformat_minor": 2
}
