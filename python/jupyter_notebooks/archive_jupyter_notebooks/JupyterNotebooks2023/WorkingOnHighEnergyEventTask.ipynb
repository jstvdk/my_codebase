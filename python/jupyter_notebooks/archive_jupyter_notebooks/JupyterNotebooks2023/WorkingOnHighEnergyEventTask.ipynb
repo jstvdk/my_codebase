{
 "cells": [
  {
   "cell_type": "code",
   "execution_count": null,
   "id": "0",
   "metadata": {},
   "outputs": [],
   "source": [
    "import sys\n",
    "sys.path.append('/Users/vdk/GeneveWork/Code/calibpipe-main-calibpipe/')\n",
    "from astropy.io import ascii\n",
    "import numpy as np\n",
    "import pandas as pd\n",
    "import matplotlib\n",
    "import csv\n",
    "import scipy\n",
    "import matplotlib.pyplot as plt\n",
    "from seaborn import histplot\n",
    "import random\n",
    "import copy\n",
    "from os import path, makedirs\n",
    "from astropy.coordinates import SkyCoord\n",
    "from astropy.table import Table\n",
    "import astropy.units as u\n",
    "from ctapipe.containers import MuonEfficiencyContainer\n",
    "from ctapipe.coordinates import CameraFrame, TelescopeFrame\n",
    "from ctapipe.io import EventSource, EventSeeker\n",
    "from ctapipe.core import TelescopeComponent\n",
    "from ctapipe.core.traits import (\n",
    "    List,\n",
    "    Int,\n",
    "    FloatTelescopeParameter,\n",
    "    TelescopeParameter,\n",
    "    Unicode,\n",
    ")\n",
    "from ctapipe.image.cleaning import tailcuts_clean\n",
    "from ctapipe.image.muon import MuonRingFitter, MuonIntensityFitter\n",
    "from traitlets.config import Config\n",
    "from ctapipe.image import ImageProcessor\n",
    "from ctapipe.image.muon import MuonProcessor\n",
    "from ctapipe.visualization import CameraDisplay\n",
    "from ctapipe.instrument import CameraGeometry\n",
    "from ctapipe.calib import CameraCalibrator\n",
    "from traitlets.config.loader import Config, FileConfigLoader, JSONFileConfigLoader\n",
    "import pathlib\n",
    "from calibpipe.throughput import MuonCalibrator\n",
    "from traitlets.config import Config\n",
    "from astropy.time import Time\n",
    "from astropy.coordinates import EarthLocation,SkyCoord, AltAz \n",
    "from traitlets.config import Config\n",
    "import time\n",
    "from functools import reduce\n",
    "\n",
    "\n",
    "\n"
   ]
  },
  {
   "cell_type": "code",
   "execution_count": null,
   "id": "1",
   "metadata": {},
   "outputs": [],
   "source": [
    "event_container = {}\n",
    "counter = 0\n",
    "for k in range(1,41):\n",
    "    filename = f'/Users/vdk/sim_run_folder/output_prod_v12/corsika_theta_28.4_az_182.75_run{k}.simtel.gz'\n",
    "    source = EventSource(filename)\n",
    "    event_iterator = iter(source)\n",
    "    keks = k*1000\n",
    "    for i,j in enumerate(event_iterator):\n",
    "        counter += 1\n",
    "        if len(j.trigger.tels_with_trigger) > 1:\n",
    "            event_container[keks+i] = j"
   ]
  },
  {
   "cell_type": "code",
   "execution_count": null,
   "id": "2",
   "metadata": {},
   "outputs": [],
   "source": [
    "high_energy_events = {}\n",
    "for i in event_container:\n",
    "    if event_container[i].simulation.shower.energy.to_value() > 10:\n",
    "        print(event_container[i].simulation.shower.energy)\n",
    "        high_energy_events[i] = event_container[i]"
   ]
  },
  {
   "cell_type": "code",
   "execution_count": null,
   "id": "3",
   "metadata": {},
   "outputs": [],
   "source": [
    "high_energies = []\n",
    "for i in high_energy_events:\n",
    "    high_energies.append(high_energy_events[i].simulation.shower.energy.to_value())"
   ]
  },
  {
   "cell_type": "code",
   "execution_count": null,
   "id": "4",
   "metadata": {},
   "outputs": [],
   "source": [
    "x,y,_ = plt.hist(high_energies, bins = 10, alpha = 0.5, log = True)\n",
    "plt.grid(alpha = 0.5)"
   ]
  },
  {
   "cell_type": "code",
   "execution_count": null,
   "id": "5",
   "metadata": {},
   "outputs": [],
   "source": [
    "x,y,_ = plt.hist(high_energies, bins = 12, alpha = 0.5, log = False)\n",
    "plt.grid(alpha = 0.5)"
   ]
  },
  {
   "cell_type": "code",
   "execution_count": null,
   "id": "6",
   "metadata": {},
   "outputs": [],
   "source": [
    "high_energy_events[1018].trigger.tel[3].trigger_pixels"
   ]
  },
  {
   "cell_type": "code",
   "execution_count": null,
   "id": "7",
   "metadata": {},
   "outputs": [],
   "source": [
    "event = high_energy_events[1018]\n",
    "image_processor = ImageProcessor(source.subarray)\n",
    "muon_processor = MuonProcessor(source.subarray)\n",
    "calib = CameraCalibrator(image_extractor_type=\"GlobalPeakWindowSum\", subarray = source.subarray)\n",
    "calib(event)\n",
    "image_processor(event)\n",
    "muon_processor(event)"
   ]
  },
  {
   "cell_type": "code",
   "execution_count": null,
   "id": "8",
   "metadata": {},
   "outputs": [],
   "source": [
    "high_energy_events[1018]"
   ]
  },
  {
   "cell_type": "code",
   "execution_count": null,
   "id": "9",
   "metadata": {},
   "outputs": [],
   "source": [
    "print(high_energy_events[1018].simulation)"
   ]
  },
  {
   "cell_type": "code",
   "execution_count": null,
   "id": "10",
   "metadata": {},
   "outputs": [],
   "source": [
    "len(high_energy_events)"
   ]
  },
  {
   "cell_type": "code",
   "execution_count": null,
   "id": "11",
   "metadata": {},
   "outputs": [],
   "source": [
    "flatten_impact = sum(impact, [])"
   ]
  },
  {
   "cell_type": "code",
   "execution_count": null,
   "id": "12",
   "metadata": {},
   "outputs": [],
   "source": [
    "impact = np.array(impact)"
   ]
  },
  {
   "cell_type": "code",
   "execution_count": null,
   "id": "13",
   "metadata": {},
   "outputs": [],
   "source": [
    "impact = []\n",
    "for i in high_energy_events:\n",
    "    impact_points = []\n",
    "    for tel in high_energy_events[i].trigger.tels_with_trigger:\n",
    "        impact_points.append(high_energy_events[i].simulation.tel[tel].impact.distance.to_value())\n",
    "    impact.append(impact_points)"
   ]
  },
  {
   "cell_type": "code",
   "execution_count": null,
   "id": "14",
   "metadata": {},
   "outputs": [],
   "source": [
    "impact_xyz = []\n",
    "impact_min = []\n",
    "impact_max = []\n",
    "for i in impact:\n",
    "    impact_min.append(min(i))\n",
    "    impact_max.append(max(i))    \n",
    "    if len(i) > 2:\n",
    "        impact_xyz.append(i)"
   ]
  },
  {
   "cell_type": "code",
   "execution_count": null,
   "id": "15",
   "metadata": {},
   "outputs": [],
   "source": [
    "plt.hist(impact_min, alpha = 0.5, label = 'min impact distance for event')\n",
    "plt.hist(impact_max, alpha = 0.5, label = 'maximum impact distance for event')\n",
    "#plt.hist(flatten_impact, histtype = 'step', label = 'impact distance for every telescope')\n",
    "plt.legend()\n",
    "plt.grid(alpha = 0.5)\n",
    "plt.xlabel('impact distance from telescope in meters')\n",
    "plt.ylabel('events')\n"
   ]
  },
  {
   "cell_type": "code",
   "execution_count": null,
   "id": "16",
   "metadata": {},
   "outputs": [],
   "source": [
    "plt.hist(flatten_impact, histtype = 'step', label = 'impact distance for every telescope')\n",
    "plt.legend()\n",
    "plt.grid(alpha = 0.5)\n",
    "plt.xlabel('impact distance from telescope in meters')\n",
    "plt.ylabel('events')\n",
    "\n"
   ]
  },
  {
   "cell_type": "code",
   "execution_count": null,
   "id": "17",
   "metadata": {},
   "outputs": [],
   "source": [
    "def number_events(E0, E1, k = -2.68, A = 8040987.083198826): #A = 1000100.01):\n",
    "    return A * (E1**(k+1)-E0**(k+1))/(k+1)\n",
    "\n",
    "energies = np.logspace(1,5,45)\n",
    "\n",
    "events = number_events(energies[:-1], energies[1:])\n",
    "plt.step(0.5*(energies[:-1] + energies[1:]), events)\n",
    "plt.plot([10000 for i in range(100000)], range(100000))\n",
    "plt.yscale('symlog')\n",
    "plt.xscale('symlog')\n",
    "plt.xlabel(\"Energy [GeV]\")\n",
    "plt.ylabel(\"Number of showers\")\n",
    "plt.grid(alpha = 0.5)\n",
    "#plt.annotate(\"Power law with index = -2\", xy = (1000,210), xytext = (100,10),arrowprops=dict(facecolor='black', shrink=0.05, width = 1, headwidth = 5))\n",
    "plt.annotate(\"Power law with index = -2.68\", xy = (150,100), xytext = (10,5),arrowprops=dict(facecolor='black', shrink=0.05, width = 1, headwidth = 5))\n",
    "\n",
    "events"
   ]
  },
  {
   "cell_type": "code",
   "execution_count": null,
   "id": "18",
   "metadata": {},
   "outputs": [],
   "source": [
    "energies[energies >= 10000]"
   ]
  },
  {
   "cell_type": "code",
   "execution_count": null,
   "id": "19",
   "metadata": {},
   "outputs": [],
   "source": [
    "energies[len(energies)-12:]"
   ]
  },
  {
   "cell_type": "code",
   "execution_count": null,
   "id": "20",
   "metadata": {},
   "outputs": [],
   "source": [
    "sum(events[len(events)-12:])"
   ]
  },
  {
   "cell_type": "code",
   "execution_count": null,
   "id": "21",
   "metadata": {},
   "outputs": [],
   "source": [
    "(sum(events[len(events)-12:])/sum(events))"
   ]
  },
  {
   "cell_type": "code",
   "execution_count": null,
   "id": "22",
   "metadata": {},
   "outputs": [],
   "source": [
    "sum(events)"
   ]
  },
  {
   "cell_type": "code",
   "execution_count": null,
   "id": "23",
   "metadata": {},
   "outputs": [],
   "source": [
    "events"
   ]
  },
  {
   "cell_type": "code",
   "execution_count": null,
   "id": "24",
   "metadata": {},
   "outputs": [],
   "source": [
    "A = 100000 / ((100000**(-1.68) - 10**(-1.68))/-1.68)\n",
    "A"
   ]
  },
  {
   "cell_type": "code",
   "execution_count": null,
   "id": "25",
   "metadata": {},
   "outputs": [],
   "source": [
    "0.36*10500"
   ]
  },
  {
   "cell_type": "code",
   "execution_count": null,
   "id": "26",
   "metadata": {},
   "outputs": [],
   "source": [
    "1215/18000"
   ]
  },
  {
   "cell_type": "code",
   "execution_count": null,
   "id": "27",
   "metadata": {},
   "outputs": [],
   "source": [
    "0.0011329600354456106*18000"
   ]
  },
  {
   "cell_type": "code",
   "execution_count": null,
   "id": "28",
   "metadata": {},
   "outputs": [],
   "source": [
    "1215/4e7*100"
   ]
  },
  {
   "cell_type": "code",
   "execution_count": null,
   "id": "29",
   "metadata": {},
   "outputs": [],
   "source": [
    "(1215/4e7)/(sum(events[len(events)-12:])/sum(events))"
   ]
  },
  {
   "cell_type": "code",
   "execution_count": null,
   "id": "30",
   "metadata": {},
   "outputs": [],
   "source": [
    "print(event.pointing.tel[1])"
   ]
  },
  {
   "cell_type": "code",
   "execution_count": null,
   "id": "31",
   "metadata": {},
   "outputs": [],
   "source": [
    "print(np.rad2deg(event.pointing.tel[1].azimuth.to_value()))\n",
    "print(np.rad2deg(event.pointing.tel[1].altitude.to_value()))"
   ]
  },
  {
   "cell_type": "code",
   "execution_count": null,
   "id": "32",
   "metadata": {},
   "outputs": [],
   "source": [
    "event.pointing.tel[1].azimuth.to_value()"
   ]
  },
  {
   "cell_type": "code",
   "execution_count": null,
   "id": "33",
   "metadata": {},
   "outputs": [],
   "source": []
  }
 ],
 "metadata": {
  "kernelspec": {
   "display_name": "cta",
   "language": "python",
   "name": "cta"
  },
  "language_info": {
   "codemirror_mode": {
    "name": "ipython",
    "version": 3
   },
   "file_extension": ".py",
   "mimetype": "text/x-python",
   "name": "python",
   "nbconvert_exporter": "python",
   "pygments_lexer": "ipython3",
   "version": "3.11.3"
  }
 },
 "nbformat": 4,
 "nbformat_minor": 5
}
