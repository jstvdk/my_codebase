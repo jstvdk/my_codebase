{
 "cells": [
  {
   "cell_type": "code",
   "execution_count": null,
   "id": "0",
   "metadata": {},
   "outputs": [],
   "source": [
    "import sys\n",
    "sys.path.append('/Users/vdk/GeneveWork/Code/calibpipe-main-calibpipe/')\n",
    "from astropy.io import ascii\n",
    "import numpy as np\n",
    "import pandas as pd\n",
    "import matplotlib\n",
    "import csv\n",
    "import scipy\n",
    "import matplotlib.pyplot as plt\n",
    "from seaborn import histplot\n",
    "import random\n",
    "import copy\n",
    "from os import path, makedirs\n",
    "from astropy.coordinates import SkyCoord\n",
    "from astropy.table import Table\n",
    "import astropy.units as u\n",
    "from ctapipe.containers import MuonEfficiencyContainer\n",
    "from ctapipe.coordinates import CameraFrame, TelescopeFrame\n",
    "from ctapipe.io import EventSource, EventSeeker\n",
    "from ctapipe.core import TelescopeComponent\n",
    "from ctapipe.core.traits import (\n",
    "    List,\n",
    "    Int,\n",
    "    FloatTelescopeParameter,\n",
    "    TelescopeParameter,\n",
    "    Unicode,\n",
    ")\n",
    "from ctapipe.image.cleaning import tailcuts_clean\n",
    "from ctapipe.image.muon import MuonRingFitter, MuonIntensityFitter\n",
    "from traitlets.config import Config\n",
    "from ctapipe.image import ImageProcessor\n",
    "from ctapipe.image.muon import MuonProcessor\n",
    "from ctapipe.visualization import CameraDisplay\n",
    "from ctapipe.instrument import CameraGeometry\n",
    "from ctapipe.calib import CameraCalibrator\n",
    "from traitlets.config.loader import Config, FileConfigLoader, JSONFileConfigLoader\n",
    "import pathlib\n",
    "from calibpipe.throughput import MuonCalibrator\n",
    "from traitlets.config import Config\n",
    "from astropy.time import Time\n",
    "from astropy.coordinates import EarthLocation,SkyCoord, AltAz \n",
    "from traitlets.config import Config\n",
    "import time\n",
    "from ctapipe.image import number_of_island_sizes\n",
    "from ctapipe.image import (\n",
    "    hillas_parameters,\n",
    "    leakage_parameters,\n",
    "    concentration_parameters,\n",
    ")\n",
    "from ctapipe.image import timing_parameters\n",
    "from ctapipe.image import number_of_islands\n",
    "from ctapipe.image import camera_to_shower_coordinates\n",
    "\n",
    "\n",
    "\n",
    "\n"
   ]
  },
  {
   "cell_type": "code",
   "execution_count": null,
   "id": "1",
   "metadata": {},
   "outputs": [],
   "source": [
    "from lstchain import mc"
   ]
  },
  {
   "cell_type": "code",
   "execution_count": null,
   "id": "2",
   "metadata": {},
   "outputs": [],
   "source": [
    "bins, y = mc.power_law_integrated_distribution(10, 100000, 100000, -2.7)\n"
   ]
  },
  {
   "cell_type": "code",
   "execution_count": null,
   "id": "3",
   "metadata": {},
   "outputs": [],
   "source": [
    "e_mean = (bins[:-1] + bins[1:])/2\n",
    "plt.yscale('symlog')\n",
    "plt.xscale('symlog')\n",
    "plt.ylabel(\"Number of events\")\n",
    "plt.xlabel(\"Energy (GeV)\")\n",
    "plt.step(e_mean, y, where='mid', \n",
    "         linewidth=2,\n",
    "         label='Histogram computed from mc info'\n",
    "        )\n",
    "plt.grid()"
   ]
  },
  {
   "cell_type": "code",
   "execution_count": null,
   "id": "4",
   "metadata": {},
   "outputs": [],
   "source": [
    "e_mean = (bins[:-1] + bins[1:])/2\n",
    "plt.yscale('symlog')\n",
    "plt.xscale('symlog')\n",
    "plt.step(e_mean, y, where='mid', \n",
    "         linewidth=3,\n",
    "         color='black',\n",
    "         label='Histogram computed from mc info'\n",
    "        )\n",
    "plt.grid()"
   ]
  },
  {
   "cell_type": "code",
   "execution_count": null,
   "id": "5",
   "metadata": {},
   "outputs": [],
   "source": [
    "filename = '/Users/vdk/Downloads/Dummy100.simtel.gz'\n",
    "source = EventSource(filename, max_events=9000)\n",
    "event_iterator = iter(source)"
   ]
  },
  {
   "cell_type": "code",
   "execution_count": null,
   "id": "6",
   "metadata": {},
   "outputs": [],
   "source": [
    "energies = np.logspace(1,6,100)\n",
    "\n",
    "def func(e):\n",
    "    return e**(-2)"
   ]
  },
  {
   "cell_type": "code",
   "execution_count": null,
   "id": "7",
   "metadata": {},
   "outputs": [],
   "source": [
    "n = [func(i) for i in energies]"
   ]
  },
  {
   "cell_type": "code",
   "execution_count": null,
   "id": "8",
   "metadata": {},
   "outputs": [],
   "source": [
    "x_vals[4]-x_vals[3]"
   ]
  },
  {
   "cell_type": "code",
   "execution_count": null,
   "id": "9",
   "metadata": {},
   "outputs": [],
   "source": [
    "# Parameters\n",
    "k = -2\n",
    "x1 = 10\n",
    "x2 = 100000\n",
    "area_target = 100000\n",
    "\n",
    "# Calculate the constant A\n",
    "A = (area_target * (k + 1)) / ((x2)**(k+1) - (x1)**(k+1))\n",
    "\n",
    "# Generate x values\n",
    "x_vals = np.linspace(x1, x2, 200)\n",
    "\n",
    "y_vals = (A * x_vals**k)\n",
    "\n",
    "#y_vals = (A * x_vals**k) / (x_vals[4]-x_vals[3]) * x_vals\n",
    "print(A)\n",
    "# Plot the curve\n",
    "plt.loglog(x_vals, y_vals, label=f'Power Law (k = {k})')\n",
    "plt.xlabel('Energy (GeV)')\n",
    "plt.ylabel('Number of showers')\n",
    "plt.title('Energy spectrum for 100000 simulated showers')\n",
    "plt.legend()\n",
    "plt.grid(alpha = 0.35)\n",
    "plt.show()"
   ]
  },
  {
   "cell_type": "code",
   "execution_count": null,
   "id": "10",
   "metadata": {},
   "outputs": [],
   "source": [
    "def number_events(E0, E1, k = -2, A = 1000100.01):\n",
    "    return A * (E1**(k+1)-E0**(k+1))/(k+1)\n",
    "\n",
    "energies = np.logspace(1,5,45)\n",
    "\n",
    "events = number_events(energies[:-1], energies[1:])\n",
    "plt.step(0.5*(energies[:-1] + energies[1:]), events)\n",
    "plt.yscale('symlog')\n",
    "plt.xscale('symlog')\n",
    "plt.xlabel(\"Energy [GeV]\")\n",
    "plt.ylabel(\"Number of showers\")\n",
    "plt.grid(alpha = 0.5)\n",
    "plt.annotate(\"Power law with index = -2\", xy = (1000,250), xytext = (3600,500),arrowprops=dict(facecolor='black', shrink=0.05, width = 1, headwidth = 5))\n",
    "events"
   ]
  },
  {
   "cell_type": "code",
   "execution_count": null,
   "id": "11",
   "metadata": {},
   "outputs": [],
   "source": [
    "energies_lin = np.linspace(10,100000, 44)\n",
    "\n",
    "events_lin = number_events(energies_lin[:-1], energies_lin[1:])\n",
    "energies_lin"
   ]
  },
  {
   "cell_type": "code",
   "execution_count": null,
   "id": "12",
   "metadata": {},
   "outputs": [],
   "source": [
    "plt.plot(0.5*(energies_lin[:-1] + energies_lin[1:]), events_lin)\n",
    "plt.yscale('symlog')\n",
    "plt.xscale('symlog')"
   ]
  },
  {
   "cell_type": "code",
   "execution_count": null,
   "id": "13",
   "metadata": {},
   "outputs": [],
   "source": [
    "# Parameters\n",
    "k = -2\n",
    "x1 = 10\n",
    "x2 = 100000\n",
    "area_target = 100000\n",
    "\n",
    "# Calculate the constant A\n",
    "A = (area_target * (k + 1)) / (x2**(k + 1) - x1**(k + 1))\n",
    "\n",
    "# Generate x values\n",
    "x_vals = np.linspace(x1, x2, 1000)\n",
    "\n",
    "# Calculate y values using the shifted and scaled power law function\n",
    "y_vals = A * x_vals**k + 1\n",
    "\n",
    "# Plot the curve\n",
    "plt.loglog(x_vals, y_vals, label=f'Scaled Power Law (k = {k})')\n",
    "plt.xlabel('x')\n",
    "plt.ylabel('f(x)')\n",
    "plt.title('Scaled Power Law Function with Min f(x) = 1 and Area = 100')\n",
    "plt.legend()\n",
    "plt.grid()\n",
    "plt.show()\n",
    "\n",
    "\n",
    "\n",
    "\n",
    "\n"
   ]
  },
  {
   "cell_type": "code",
   "execution_count": null,
   "id": "14",
   "metadata": {},
   "outputs": [],
   "source": [
    "def power_law(x, A):\n",
    "    return A*x**-2\n",
    "\n",
    "value = np.linspace(10,10000, 1000)\n",
    "\n",
    "counts = power_"
   ]
  },
  {
   "cell_type": "code",
   "execution_count": null,
   "id": "15",
   "metadata": {},
   "outputs": [],
   "source": [
    "x_vals = np.logspace(1, 5, 200)"
   ]
  },
  {
   "cell_type": "code",
   "execution_count": null,
   "id": "16",
   "metadata": {},
   "outputs": [],
   "source": [
    "histplot(x_vals)"
   ]
  },
  {
   "cell_type": "code",
   "execution_count": null,
   "id": "17",
   "metadata": {},
   "outputs": [],
   "source": []
  },
  {
   "cell_type": "code",
   "execution_count": null,
   "id": "18",
   "metadata": {},
   "outputs": [],
   "source": [
    "import numpy as np\n",
    "import matplotlib.pyplot as plt\n",
    "\n",
    "# Parameters\n",
    "k = -2\n",
    "num_points = 100000\n",
    "x_min = 10\n",
    "x_max = 100000\n",
    "\n",
    "# Generate a set of unique integer values using a power law distribution\n",
    "x_unique = np.geomspace(x_min, x_max, num_points)\n",
    "x_unique = x_unique.astype(int)\n",
    "x_unique = np.unique(x_unique)\n",
    "\n",
    "# Calculate the corresponding counts for each unique value\n",
    "count_total = np.sum(x_unique**(-k))\n",
    "probabilities = (x_unique**(-k)) / count_total\n",
    "num_samples_per_value = np.round(probabilities * num_points).astype(int)\n",
    "\n",
    "# Generate the final distribution of integer points\n",
    "x_samples = np.repeat(x_unique, num_samples_per_value)\n",
    "print(len(x_samples))\n",
    "# Create a histogram to visualize the distribution\n",
    "plt.hist(x_samples, bins=15, edgecolor='black', alpha=0.7, cumulative = -1)\n",
    "plt.xlabel('x')\n",
    "plt.ylabel('Count')\n",
    "plt.title('Histogram of Integer Samples from Power Law Distribution (k = 2)')\n",
    "plt.grid()\n",
    "plt.show()\n"
   ]
  },
  {
   "cell_type": "code",
   "execution_count": null,
   "id": "19",
   "metadata": {},
   "outputs": [],
   "source": [
    "new_arr = np.flip(x_samples)\n",
    "new_arr"
   ]
  },
  {
   "cell_type": "code",
   "execution_count": null,
   "id": "20",
   "metadata": {},
   "outputs": [],
   "source": [
    "plt.figure()\n",
    "plt.rcParams[\"figure.autolayout\"] = True\n",
    "ax = plt.subplot()\n",
    "ax.hist(new_arr, bins=10, edgecolor='black', alpha=0.7)\n",
    "plt.xlim(110000, 10)\n",
    "plt.xlabel([0,10,100])\n",
    "ax.set_xticks('x')\n",
    "plt.ylabel('Count')\n",
    "plt.title('Histogram of Integer Samples from Power Law Distribution (k = 2)')\n",
    "plt.grid()\n",
    "plt.show()"
   ]
  },
  {
   "cell_type": "code",
   "execution_count": null,
   "id": "21",
   "metadata": {},
   "outputs": [],
   "source": [
    "import numpy as np\n",
    "import matplotlib.pyplot as plt\n",
    "\n",
    "# Parameters\n",
    "k = -2\n",
    "num_points = 100000\n",
    "x_min = 10\n",
    "x_max = 100000\n",
    "\n",
    "# Generate a set of unique integer values using a power law distribution\n",
    "x_unique = np.geomspace(x_min, x_max, num_points)\n",
    "x_unique = x_unique.astype(int)\n",
    "x_unique = np.unique(x_unique)\n",
    "\n",
    "# Calculate the logarithmic values\n",
    "log_values = np.log(x_unique)\n",
    "log_probabilities = (log_values - np.min(log_values)) / np.ptp(log_values)  # Normalize the log values\n",
    "\n",
    "# Calculate the corresponding counts for each unique value\n",
    "count_total = np.sum(log_probabilities)\n",
    "num_samples_per_value = np.round(log_probabilities * num_points).astype(int)\n",
    "\n",
    "# Generate the final distribution of integer points\n",
    "x_samples = np.repeat(x_unique, num_samples_per_value)\n",
    "\n",
    "# Create a histogram to visualize the distribution\n",
    "plt.hist(x_samples, bins=10, edgecolor='black', alpha=0.7)\n",
    "plt.xlabel('x')\n",
    "plt.ylabel('Count')\n",
    "plt.title('Reversed Histogram of Integer Samples from Power Law Distribution (k = -2)')\n",
    "plt.grid()\n",
    "plt.show()\n"
   ]
  },
  {
   "cell_type": "code",
   "execution_count": null,
   "id": "22",
   "metadata": {},
   "outputs": [],
   "source": [
    "k = -2\n",
    "num_samples = 100000\n",
    "x_min = 10\n",
    "x_max = 100000\n",
    "\n",
    "\n",
    "\n",
    "U = np.random.rand(num_samples)\n",
    "#U = np.random.logseries(0.6,num_samples)\n",
    "x_samples = ((x_max**(k+1) - x_min**(k+1)) * U + x_min**(k+1))**(1/(k+1))\n",
    "\n",
    "x_samples_int = np.round(x_samples).astype(int)\n",
    "\n",
    "# Create a histogram\n",
    "plt.hist(x_samples_int, bins=10, edgecolor='black', alpha=0.7, log = True)\n",
    "plt.xlabel('x')\n",
    "plt.ylabel('Count')\n",
    "plt.title('Histogram of Power Law Distribution (k = -2)')\n",
    "plt.grid()\n",
    "plt.show()"
   ]
  },
  {
   "cell_type": "code",
   "execution_count": null,
   "id": "23",
   "metadata": {},
   "outputs": [],
   "source": [
    "y = np.random.rand(100000)\n",
    "n = -2\n",
    "x0 = 10\n",
    "x1 = 100000\n",
    "x = ((x1**(n+1) - x0**(n+1))*y + x0**(n+1))**(1/(n+1))"
   ]
  },
  {
   "cell_type": "code",
   "execution_count": null,
   "id": "24",
   "metadata": {},
   "outputs": [],
   "source": [
    "histplot(x, log=True, bins = 10)"
   ]
  },
  {
   "cell_type": "code",
   "execution_count": null,
   "id": "25",
   "metadata": {},
   "outputs": [],
   "source": []
  },
  {
   "cell_type": "code",
   "execution_count": null,
   "id": "26",
   "metadata": {},
   "outputs": [],
   "source": [
    "filename = f'/Users/vdk/Dummy100.simtel.gz'\n",
    "F\n",
    "event_iterator = iter(source)\n",
    "#event = next(event_iterator)"
   ]
  },
  {
   "cell_type": "code",
   "execution_count": null,
   "id": "27",
   "metadata": {},
   "outputs": [],
   "source": [
    "for event in source:\n",
    "    print(event)\n",
    "    #print(event.count)"
   ]
  },
  {
   "cell_type": "code",
   "execution_count": null,
   "id": "28",
   "metadata": {},
   "outputs": [],
   "source": [
    "import eventio\n",
    "\n",
    "with eventio.SimTelFile('/Users/vdk/Dummy100.simtel.gz') as f:\n",
    "    print(\"len telescope \", len(f.telescope_descriptions))\n",
    "    for array_event in f:\n",
    "        print(array_event)\n",
    "        print(array_event['mc_shower']['energy'])"
   ]
  },
  {
   "cell_type": "code",
   "execution_count": null,
   "id": "29",
   "metadata": {},
   "outputs": [],
   "source": [
    "from eventio import EventIOFile\n",
    "from eventio.simtel import MCEvent, MCShower\n",
    "\n",
    "\n",
    "with EventIOFile('/Users/vdk/Dummy100.simtel.gz') as f:\n",
    "    for eventio_object in f:\n",
    "        if isinstance(eventio_object, MCShower):\n",
    "            shower = eventio_object.parse()\n",
    "            print('StereoReconstruction: {shower}, Energy={energy:.3f} TeV'.format(**shower))\n",
    "\n",
    "        if isinstance(eventio_object, MCEvent):\n",
    "            event = eventio_object.parse()\n",
    "            print('   event: {event}, core_x={xcore:6.2f} m, core_y={ycore:6.2f} m'.format(**event))"
   ]
  },
  {
   "cell_type": "code",
   "execution_count": null,
   "id": "30",
   "metadata": {},
   "outputs": [],
   "source": [
    "# Plotting library\n",
    "import matplotlib.pyplot as plt\n",
    "%matplotlib inline\n",
    "\n",
    "# mathematics\n",
    "from math import exp, pi, sqrt, log\n",
    "from numpy import linspace, hstack, round, random, arange, mean, logspace, argmax, array\n",
    "from collections import Counter\n",
    "from random import sample, choice\n",
    "from random import uniform\n",
    "#from functools import reduce"
   ]
  },
  {
   "cell_type": "code",
   "execution_count": null,
   "id": "31",
   "metadata": {},
   "outputs": [],
   "source": [
    "def power_law(x, alpha):\n",
    "    '''\n",
    "    x: iterable of x values\n",
    "    alpha: parameter alpha\n",
    "    '''\n",
    "    return [point**(-alpha) for point in x]\n",
    "\n",
    "# x values\n",
    "x = linspace(1,5,10000)\n",
    "alphas = linspace(1,3,5)\n",
    "for alpha in alphas:\n",
    "    plt.plot(x, power_law(x, alpha), '-', markersize = 1)\n",
    "    plt.ylabel(\"Probabilty mass at x\")\n",
    "    plt.xlabel(\"x\")\n",
    "    plt.title(\"Power Law Distribution\")\n",
    "    plt.legend([\"alpha = {}\".format(round(a,2)) for a in alphas], loc = 1)"
   ]
  },
  {
   "cell_type": "code",
   "execution_count": null,
   "id": "32",
   "metadata": {},
   "outputs": [],
   "source": [
    "for alpha in alphas:\n",
    "    plt.loglog(x, power_law(x, alpha), '-', markersize = 1)\n",
    "    plt.ylabel(\"Probabilty mass at x\")\n",
    "    plt.xlabel(\"x\")\n",
    "    plt.title(\"Power Law Distribution\")\n",
    "    plt.legend([\"alpha = {}\".format(round(a,2)) for a in alphas], loc = 1)"
   ]
  },
  {
   "cell_type": "code",
   "execution_count": null,
   "id": "33",
   "metadata": {},
   "outputs": [],
   "source": [
    "# generate 100000 samples of a uniform distribution on 0,1\n",
    "xmin = 1\n",
    "r = random.uniform(0,1,10**5)\n",
    "# generate the power law distributed samples\n",
    "# set alpha\n",
    "alpha = 2\n",
    "power_law_samples = [xmin*(1-sample)**(-1/(alpha-1)) for sample in r]"
   ]
  },
  {
   "cell_type": "code",
   "execution_count": null,
   "id": "34",
   "metadata": {},
   "outputs": [],
   "source": [
    "def simple_histogram(samples, bin_sizes = None, num_bins = None):\n",
    "    # sort the samples\n",
    "    sorted_samples = sorted(samples)\n",
    "    # grab the max for the bins\n",
    "    max_val = max(samples)\n",
    "    # min is 0, but not inclusive\n",
    "    min_val = 0\n",
    "    # either create bins by interval or by size\n",
    "    if bin_sizes is not None:\n",
    "        intervals = arange(min_val,max_val+bin_sizes,bin_sizes)\n",
    "    if num_bins is not None:\n",
    "        intervals = linspace(min_val,max_val,num_bins)\n",
    "    # list of tuples defining the bins\n",
    "    list_bins = list(zip(intervals,intervals[1:]))\n",
    "    dict_bins = {x: 0 for x in list_bins}\n",
    "    # put each sample into a bin\n",
    "    i = 0\n",
    "    for s in sorted_samples:\n",
    "        if (s > list_bins[i][0]) and (s <= list_bins[i][1]):\n",
    "            dict_bins[list_bins[i]] += 1\n",
    "        else:\n",
    "            while not ((s > list_bins[i][0]) and (s <= list_bins[i][1])):\n",
    "                i += 1\n",
    "            dict_bins[list_bins[i]] += 1\n",
    "    return dict_bins\n",
    "\n",
    "def plot_histogram(histogram):\n",
    "    histogram_items = sorted(list(histogram.items()),key = lambda x:x[0])\n",
    "    x_vals = [mean([x[0][0],x[0][1]]) for x in histogram_items]\n",
    "    y_vals = [x[1] for x in histogram_items]\n",
    "    return x_vals, y_vals"
   ]
  },
  {
   "cell_type": "code",
   "execution_count": null,
   "id": "35",
   "metadata": {},
   "outputs": [],
   "source": [
    "x,y = plot_histogram(simple_histogram(power_law_samples,num_bins = 100))\n",
    "plt.plot(x,y,'.')\n",
    "plt.title(\"A simple histogram\")\n",
    "plt.ylabel(\"# of samples\")\n",
    "plt.xlabel(\"x\")"
   ]
  },
  {
   "cell_type": "code",
   "execution_count": null,
   "id": "36",
   "metadata": {},
   "outputs": [],
   "source": [
    "x,y = plot_histogram(simple_histogram(power_law_samples,num_bins = 100))\n",
    "plt.loglog(x,y,'.-')\n",
    "plt.title(\"Log-log histogram\")\n",
    "plt.ylabel(\"# of samples\")\n",
    "plt.xlabel(\"x\")"
   ]
  },
  {
   "cell_type": "code",
   "execution_count": null,
   "id": "37",
   "metadata": {},
   "outputs": [],
   "source": [
    "def log_histogram(samples, num_bins = None):\n",
    "    # sort the samples\n",
    "    sorted_samples = sorted(samples)\n",
    "    # grab the max for the bins\n",
    "    max_val = max(samples)\n",
    "    # min is 0, but not inclusive\n",
    "    min_val = 0\n",
    "    # create logarithmically spaced bins\n",
    "    intervals = logspace(min_val,log(max_val+10,10),num_bins,base = 10)\n",
    "    #return intervals\n",
    "    # list of tuples defining the bins\n",
    "    list_bins = list(zip(intervals,intervals[1:]))\n",
    "    dict_bins = {x: 0 for x in list_bins}\n",
    "    # put each sample into a bin\n",
    "    i = 0\n",
    "    for s in sorted_samples:\n",
    "        if (s > list_bins[i][0]) and (s <= list_bins[i][1]):\n",
    "            dict_bins[list_bins[i]] += 1\n",
    "        else:\n",
    "            while not ((s > list_bins[i][0]) and (s <= list_bins[i][1])):\n",
    "                i += 1\n",
    "            dict_bins[list_bins[i]] += 1\n",
    "    return dict_bins\n",
    "\n",
    "def plot_log_histogram(histogram):\n",
    "    histogram_items = sorted(list(histogram.items()),key = lambda x:x[0][0])\n",
    "    x_vals = [10**mean([log(x[0][0],10),log(x[0][1],10)]) for x in histogram_items]\n",
    "    y_vals = [x[1]/(x[0][1] - x[0][0]) for x in histogram_items]\n",
    "    return x_vals, y_vals"
   ]
  },
  {
   "cell_type": "code",
   "execution_count": null,
   "id": "38",
   "metadata": {},
   "outputs": [],
   "source": [
    "x,y = plot_log_histogram(log_histogram(power_law_samples,num_bins = 100))\n",
    "_ = plt.loglog(x,y,'.')\n",
    "_ = plt.title(\"A log-log histogram with logarithmic binning\")\n",
    "_ = plt.ylabel(\"# of samples\")\n",
    "_ = plt.xlabel(\"x\")"
   ]
  },
  {
   "cell_type": "code",
   "execution_count": null,
   "id": "39",
   "metadata": {},
   "outputs": [],
   "source": [
    "def cumulative_dist(samples,bin_sizes = None, num_bins = None):\n",
    "    # count the number of samples with a value greater than X\n",
    "    # sort the samples\n",
    "    sorted_samples = array(sorted(samples))\n",
    "    # grab the max for the bins\n",
    "    max_val = max(samples)\n",
    "    # min is 0, but not inclusive\n",
    "    min_val = 0\n",
    "    # either create bins by interval or by size\n",
    "    if bin_sizes is not None:\n",
    "        intervals = arange(min_val,max_val+bin_sizes,bin_sizes)\n",
    "    if num_bins is not None:\n",
    "        intervals = linspace(min_val,max_val,num_bins)\n",
    "    # put each sample into a bin\n",
    "    cum_dist = []\n",
    "    for i in intervals:\n",
    "        cum_dist.append(len(sorted_samples) - argmax(sorted_samples > i))\n",
    "    return intervals, cum_dist"
   ]
  },
  {
   "cell_type": "code",
   "execution_count": null,
   "id": "40",
   "metadata": {},
   "outputs": [],
   "source": [
    "x,y = cumulative_dist(power_law_samples,num_bins = 100)\n",
    "_ = plt.loglog(x,y,'.')\n",
    "_ = plt.title(\"Cumulative distribution\")\n",
    "_ = plt.ylabel(\"# of samples > x\")\n",
    "_ = plt.xlabel(\"x\")"
   ]
  },
  {
   "cell_type": "code",
   "execution_count": null,
   "id": "41",
   "metadata": {},
   "outputs": [],
   "source": [
    "1+2"
   ]
  },
  {
   "cell_type": "code",
   "execution_count": null,
   "id": "42",
   "metadata": {},
   "outputs": [],
   "source": [
    "a = 51840\n",
    "b = 9e-7\n",
    "arr = [a,b]"
   ]
  },
  {
   "cell_type": "code",
   "execution_count": null,
   "id": "43",
   "metadata": {},
   "outputs": [],
   "source": [
    "plt.plot(arr)"
   ]
  },
  {
   "cell_type": "code",
   "execution_count": null,
   "id": "44",
   "metadata": {},
   "outputs": [],
   "source": [
    "-2.7+1"
   ]
  },
  {
   "cell_type": "code",
   "execution_count": null,
   "id": "45",
   "metadata": {},
   "outputs": [],
   "source": [
    "0.4*1.8"
   ]
  },
  {
   "cell_type": "code",
   "execution_count": null,
   "id": "46",
   "metadata": {},
   "outputs": [],
   "source": [
    "(100000**2)*4"
   ]
  },
  {
   "cell_type": "code",
   "execution_count": null,
   "id": "47",
   "metadata": {},
   "outputs": [],
   "source": [
    "400 * 1000 * 100"
   ]
  },
  {
   "cell_type": "code",
   "execution_count": null,
   "id": "48",
   "metadata": {},
   "outputs": [],
   "source": [
    "400 * 100"
   ]
  },
  {
   "cell_type": "code",
   "execution_count": null,
   "id": "49",
   "metadata": {},
   "outputs": [],
   "source": [
    "69.967-68.44"
   ]
  },
  {
   "cell_type": "code",
   "execution_count": null,
   "id": "50",
   "metadata": {},
   "outputs": [],
   "source": []
  }
 ],
 "metadata": {
  "kernelspec": {
   "display_name": "cta",
   "language": "python",
   "name": "cta"
  },
  "language_info": {
   "codemirror_mode": {
    "name": "ipython",
    "version": 3
   },
   "file_extension": ".py",
   "mimetype": "text/x-python",
   "name": "python",
   "nbconvert_exporter": "python",
   "pygments_lexer": "ipython3",
   "version": "3.11.3"
  }
 },
 "nbformat": 4,
 "nbformat_minor": 5
}
