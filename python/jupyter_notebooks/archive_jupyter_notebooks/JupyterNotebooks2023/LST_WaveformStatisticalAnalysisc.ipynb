{
 "cells": [
  {
   "cell_type": "code",
   "execution_count": null,
   "id": "0",
   "metadata": {},
   "outputs": [],
   "source": [
    "import sys\n",
    "sys.path.append('/Users/vdk/GeneveWork/Code/calibpipe-main-calibpipe/')\n",
    "from astropy.io import ascii\n",
    "import numpy as np\n",
    "import pandas as pd\n",
    "import matplotlib\n",
    "from seaborn import histplot\n",
    "import csv\n",
    "import scipy\n",
    "import matplotlib.pyplot as plt\n",
    "import random\n",
    "import copy\n",
    "from os import path, makedirs\n",
    "from astropy.coordinates import SkyCoord\n",
    "from astropy.table import Table\n",
    "import astropy.units as u\n",
    "from ctapipe.containers import MuonEfficiencyContainer\n",
    "from ctapipe.coordinates import CameraFrame, TelescopeFrame\n",
    "from ctapipe.io import EventSource, EventSeeker\n",
    "from ctapipe.core import TelescopeComponent\n",
    "from ctapipe.core.traits import (\n",
    "    List,\n",
    "    Int,\n",
    "    FloatTelescopeParameter,\n",
    "    TelescopeParameter,\n",
    "    Unicode,\n",
    ")\n",
    "from ctapipe.image.cleaning import tailcuts_clean\n",
    "from ctapipe.image.muon import MuonRingFitter, MuonIntensityFitter\n",
    "from traitlets.config import Config\n",
    "from ctapipe.image import ImageProcessor\n",
    "from ctapipe.image.muon import MuonProcessor\n",
    "from ctapipe.visualization import CameraDisplay\n",
    "from ctapipe.instrument import CameraGeometry\n",
    "from ctapipe.calib import CameraCalibrator\n",
    "from traitlets.config.loader import Config, FileConfigLoader, JSONFileConfigLoader\n",
    "import pathlib\n",
    "from calibpipe.throughput import MuonCalibrator\n",
    "from traitlets.config import Config\n",
    "from astropy.time import Time\n",
    "from astropy.coordinates import EarthLocation,SkyCoord, AltAz \n",
    "from traitlets.config import Config\n",
    "\n",
    "\n",
    "\n",
    "\n"
   ]
  },
  {
   "cell_type": "code",
   "execution_count": null,
   "id": "1",
   "metadata": {},
   "outputs": [],
   "source": [
    "k = 6\n",
    "event_number = 466\n",
    "teln = 1\n",
    "filename = f'/Users/vdk/Software/sim_run_folder/output_prod_v12/corsika_theta_28.4_az_182.75_run{k}.simtel.gz'\n",
    "source = EventSource(filename, max_events=9000)\n",
    "event_iterator = iter(source)\n",
    "\n",
    "for i,j in enumerate(event_iterator):\n",
    "    if i == event_number:\n",
    "        image_processor = ImageProcessor(source.subarray)\n",
    "        muon_processor = MuonProcessor(source.subarray)\n",
    "        calib = CameraCalibrator(image_extractor_type=\"GlobalPeakWindowSum\",subarray = source.subarray)\n",
    "        calib(j)\n",
    "        image_processor(j)\n",
    "        muon_processor(j)\n",
    "        event = j\n",
    "        fig, axes = plt.subplots(2, 1, sharex=False, gridspec_kw={'height_ratios': [1, 1]}, figsize=(9,12))\n",
    "        fig.subplots_adjust(hspace=0.2)\n",
    "        ax = axes[0]\n",
    "        camgeom = source.subarray.tel[1].camera.geometry\n",
    "        title=f\"event{event_number}_fit{round(j.muon.tel[teln].efficiency.optical_efficiency,3)}_width{round(j.muon.tel[teln].efficiency.width.to_value(),3)}\"\n",
    "        disp = CameraDisplay(camgeom,title=title, ax = ax)\n",
    "        #disp.image = event.r1.tel[teln].waveform[:,11]\n",
    "        #disp.image = event.dl0.tel[teln].waveform[:,11]\n",
    "        disp.image = j.simulation.tel[teln].true_image #.sum(axis=1)\n",
    "        disp.cmap = plt.cm.RdBu_r\n",
    "        disp.add_colorbar()\n",
    "        disp.set_limits_percent(95)\n",
    "        bx = axes[1]\n",
    "        for pix_id in range(0,1855):\n",
    "            #bx.plot(j.r0.tel[teln].waveform[0][pix_id], label=\"pix {}\".format(pix_id), drawstyle='steps')\n",
    "            bx.plot(j.r1.tel[teln].waveform[pix_id], label=\"pix {}\".format(pix_id), drawstyle='steps')\n",
    "        #bx.set_ylabel(\"ADC counts\")\n",
    "        bx.set_xlabel(\"Samples\")\n",
    "        bx.set_title(\"Waveforms\")\n",
    "        plt.show()\n",
    "        break\n",
    "\n",
    "\n"
   ]
  },
  {
   "cell_type": "code",
   "execution_count": null,
   "id": "2",
   "metadata": {},
   "outputs": [],
   "source": [
    "k = 6\n",
    "event_number = 466\n",
    "teln = 1\n",
    "filename = f'/Users/vdk/Software/sim_run_folder/output_prod_v12/corsika_theta_28.4_az_182.75_run{k}.simtel.gz'\n",
    "source = EventSource(filename, max_events=9000)\n",
    "event_iterator = iter(source)\n",
    "\n",
    "for i,j in enumerate(event_iterator):\n",
    "    if i == event_number:\n",
    "        image_processor = ImageProcessor(source.subarray)\n",
    "        muon_processor = MuonProcessor(source.subarray)\n",
    "        calib = CameraCalibrator(image_extractor_type=\"GlobalPeakWindowSum\",subarray = source.subarray)\n",
    "        calib(j)\n",
    "        image_processor(j)\n",
    "        muon_processor(j)\n",
    "        event = j\n",
    "        fig, axes = plt.subplots(2, 1, sharex=False, gridspec_kw={'height_ratios': [1, 1]}, figsize=(9,12))\n",
    "        fig.subplots_adjust(hspace=0.2)\n",
    "        ax = axes[0]\n",
    "        camgeom = source.subarray.tel[1].camera.geometry\n",
    "        title=f\"event{event_number}_fit{round(j.muon.tel[teln].efficiency.optical_efficiency,3)}_width{round(j.muon.tel[teln].efficiency.width.to_value(),3)}\"\n",
    "        disp = CameraDisplay(camgeom,title=title, ax = ax)\n",
    "        #disp.image = event.r1.tel[teln].waveform[:,11]\n",
    "        #disp.image = event.dl0.tel[teln].waveform[:,11]\n",
    "        disp.image = j.simulation.tel[teln].true_image #.sum(axis=1)\n",
    "        disp.cmap = plt.cm.RdBu_r\n",
    "        disp.add_colorbar()\n",
    "        disp.set_limits_percent(95)\n",
    "        bx = axes[1]\n",
    "        for pix_id in range(0,1855):\n",
    "            #bx.plot(j.r0.tel[teln].waveform[0][pix_id], label=\"pix {}\".format(pix_id), drawstyle='steps')\n",
    "            bx.plot(j.r0.tel[teln].waveform[1][pix_id], label=\"pix {}\".format(pix_id), drawstyle='steps')\n",
    "        #bx.set_ylabel(\"ADC counts\")\n",
    "        bx.set_xlabel(\"Samples\")\n",
    "        bx.set_title(\"Waveforms\")\n",
    "        plt.show()\n",
    "        break\n",
    "\n",
    "\n"
   ]
  },
  {
   "cell_type": "code",
   "execution_count": null,
   "id": "3",
   "metadata": {},
   "outputs": [],
   "source": [
    "event.mon.tel[1].calibration.unusable_pixels"
   ]
  },
  {
   "cell_type": "code",
   "execution_count": null,
   "id": "4",
   "metadata": {},
   "outputs": [],
   "source": [
    "n_pixels = [i for i in range(event.dl0.tel[teln].waveform.shape[-2])]\n",
    "n_timesamples = [i for i in range(event.dl0.tel[teln].waveform.shape[-1])]\n",
    "plt.scatter(event.dl1.tel[teln].peak_time, n_pixels, s = 10)\n",
    "plt.title(\"Peak time for every pixel in dl1 data\")\n",
    "plt.xlabel(\"Pixel number\")\n",
    "plt.ylabel(\"Time sample of the peak\")\n",
    "#plt.savefig(f\"/Users/vdk/PeakTime_DL1_event{str(k)+str(0)+str(event_number)}\")"
   ]
  },
  {
   "cell_type": "code",
   "execution_count": null,
   "id": "5",
   "metadata": {},
   "outputs": [],
   "source": [
    "n_pixels = [i for i in range(event.dl0.tel[teln].waveform.shape[-2])]\n",
    "n_timesamples = [i for i in range(event.dl0.tel[teln].waveform.shape[-1])]\n",
    "plt.scatter(n_pixels,event.dl1.tel[teln].peak_time, s = 10)\n",
    "plt.title(\"Peak time for every pixel in dl1 data\")\n",
    "plt.xlabel(\"Pixel number\")\n",
    "plt.ylabel(\"Time sample of the peak\")\n",
    "plt.savefig(f\"/Users/vdk/PeakTime_DL1_event{str(k)+str(0)+str(event_number)}\")"
   ]
  },
  {
   "cell_type": "code",
   "execution_count": null,
   "id": "6",
   "metadata": {},
   "outputs": [],
   "source": [
    "histplot(event.dl1.tel[teln].peak_time)\n",
    "plt.xlabel(\"time sample\")\n",
    "plt.title(\"Hist of peak times for all pixels in dl1\")"
   ]
  },
  {
   "cell_type": "code",
   "execution_count": null,
   "id": "7",
   "metadata": {},
   "outputs": [],
   "source": [
    "peak_arr = np.empty(1855, dtype = int)\n",
    "np.argmax(event.dl0.tel[teln].waveform, axis = 1, out = peak_arr)"
   ]
  },
  {
   "cell_type": "code",
   "execution_count": null,
   "id": "8",
   "metadata": {},
   "outputs": [],
   "source": [
    "plt.scatter(n_pixels, peak_arr, s = 10)\n",
    "plt.xlabel(\"Pixel number\")\n",
    "plt.ylabel(\"Time sample of the peak\")\n",
    "plt.title(\"Peak time for every pixel in dl0 data\")\n",
    "#plt.ylim(10,30)\n",
    "plt.savefig(f\"/Users/vdk/PeakTime_DL0_event{str(k)+str(0)+str(event_number)}\")"
   ]
  },
  {
   "cell_type": "code",
   "execution_count": null,
   "id": "9",
   "metadata": {},
   "outputs": [],
   "source": [
    "t = histplot(peak_arr, bins = 40)\n",
    "plt.xlabel(\"time sample\")\n",
    "plt.title(\"Hist of peak times for all pixels in dl1\")\n",
    "print(t)"
   ]
  },
  {
   "cell_type": "code",
   "execution_count": null,
   "id": "10",
   "metadata": {},
   "outputs": [],
   "source": [
    "event.dl0.tel[teln].waveform[0]"
   ]
  },
  {
   "cell_type": "code",
   "execution_count": null,
   "id": "11",
   "metadata": {},
   "outputs": [],
   "source": [
    "np.sum(event.r1.tel[teln].waveform, axis = 0)"
   ]
  },
  {
   "cell_type": "code",
   "execution_count": null,
   "id": "12",
   "metadata": {},
   "outputs": [],
   "source": [
    "np.max(event.r1.tel[teln].waveform, axis = 0)"
   ]
  },
  {
   "cell_type": "code",
   "execution_count": null,
   "id": "13",
   "metadata": {},
   "outputs": [],
   "source": [
    "plt.plot(n_timesamples, np.max(event.r1.tel[teln].waveform, axis = 0))"
   ]
  },
  {
   "cell_type": "code",
   "execution_count": null,
   "id": "14",
   "metadata": {},
   "outputs": [],
   "source": [
    "plt.plot(n_timesamples, np.sum(event.r1.tel[teln].waveform, axis = 0))"
   ]
  },
  {
   "cell_type": "code",
   "execution_count": null,
   "id": "15",
   "metadata": {},
   "outputs": [],
   "source": [
    "event.dl1.tel[teln].parameters"
   ]
  },
  {
   "cell_type": "code",
   "execution_count": null,
   "id": "16",
   "metadata": {},
   "outputs": [],
   "source": [
    "event.dl1.tel[teln].parameters.peak_time_statistics"
   ]
  },
  {
   "cell_type": "code",
   "execution_count": null,
   "id": "17",
   "metadata": {},
   "outputs": [],
   "source": [
    "event.dl1.tel[teln].parameters.morphology.n_islands"
   ]
  },
  {
   "cell_type": "code",
   "execution_count": null,
   "id": "18",
   "metadata": {},
   "outputs": [],
   "source": [
    "###\n",
    "###\n",
    "###\n",
    "###\n",
    "###\n",
    "\n",
    "k = [2,2,9,25,32,22,22,32]\n",
    "event_number = [223, 438,222,51,64,126,365,298]\n",
    "tel_arr = [2,3,2,1,1,1,1,3]\n",
    "work_range = [0,1,2,3,4,5,6,7]\n",
    "\n",
    "for_hist = []\n",
    "\n",
    "#filename = f'/Users/vdk/sim_run_folder/output_prod_v12/corsika_theta_28.4_az_182.75_run{k}.simtel.gz'\n",
    "#source = EventSource(filename, max_events=9000)\n",
    "#event_iterator = iter(source)\n",
    "\n",
    "for i in work_range:\n",
    "    filename = f'/Users/vdk/sim_run_folder/output_prod_v12/corsika_theta_28.4_az_182.75_run{k[i]}.simtel.gz'\n",
    "    source = EventSource(filename, max_events=9000)\n",
    "    event_iterator = iter(source)\n",
    "    n_pixels = [i for i in range(1855)]\n",
    "    n_timesamples = [i for i in range(40)]\n",
    "    for n,j in enumerate(event_iterator):\n",
    "        if n == event_number[i]:\n",
    "            teln = tel_arr[i]\n",
    "            #image_processor = ImageProcessor(source.subarray)\n",
    "            #muon_processor = MuonProcessor(source.subarray)\n",
    "            #calib = CameraCalibrator(image_extractor_type=\"GlobalPeakWindowSum\",subarray = source.subarray)\n",
    "            #calib(j)\n",
    "            #image_processor(j)\n",
    "            #muon_processor(j)\n",
    "            event = j\n",
    "            #fig, axes = plt.subplots(2, 1, sharex=False, gridspec_kw={'height_ratios': [1, 1]}, figsize=(9,12))\n",
    "            #fig.subplots_adjust(hspace=0.2)\n",
    "            #ax = axes[0]\n",
    "\n",
    "            \n",
    "            #plt.scatter(n_pixels,event.dl1.tel[teln].peak_time, s = 6, alpha = 0.5)\n",
    "            peak_arr = np.empty(1855, dtype = int)\n",
    "            np.argmax(event.r1.tel[teln].waveform, axis = 1, out = peak_arr)\n",
    "            plt.scatter(n_pixels,peak_arr, s = 6, alpha = 0.5)\n",
    "            \n",
    "            \n",
    "            #camgeom = source.subarray.tel[1].camera.geometry\n",
    "            #title=f\"event{event_number[i]}_fit{round(j.muon.tel[teln].efficiency.optical_efficiency,3)}_width{round(j.muon.tel[teln].efficiency.width.to_value(),3)}\"\n",
    "            #disp = CameraDisplay(camgeom,title=title, ax = ax)\n",
    "            #disp.image = j.simulation.tel[teln].true_image #.sum(axis=1)\n",
    "            #disp.cmap = plt.cm.RdBu_r\n",
    "            #disp.add_colorbar()\n",
    "            #disp.set_limits_percent(95)\n",
    "            for_hist = np.append(for_hist, peak_arr) \n",
    "            #for pix_id in range(0,1855):\n",
    "                #bx.plot(j.r0.tel[teln].waveform[0][pix_id], label=\"pix {}\".format(pix_id), drawstyle='steps')\n",
    "            #    bx.plot(j.r1.tel[teln].waveform[pix_id], label=\"pix {}\".format(pix_id), drawstyle='steps')\n",
    "            #bx.set_ylabel(\"ADC counts\")\n",
    "            #bx.set_xlabel(\"Samples\")\n",
    "            #bx.set_title(\"Waveforms\")\n",
    "            #plt.scatter(n_pixels,event.dl1.tel[teln].peak_time, s = 6, alpha = 0.5)\n",
    "            #plt.title(\"Peak time for every pixel in dl1 data\")\n",
    "            #plt.savefig(f\"/Users/vdk/PeakTime_DL1_event{str(k)+str(0)+str(event_number)}\")\n",
    "            break\n",
    "\n",
    "\n",
    "plt.xlabel(\"Pixel number\")\n",
    "plt.ylabel(\"Time sample of the peak\")\n",
    "plt.title(\"Peak time for every pixel in 8 events (dl0 data)\")\n",
    "plt.show()\n"
   ]
  },
  {
   "cell_type": "code",
   "execution_count": null,
   "id": "19",
   "metadata": {},
   "outputs": [],
   "source": []
  },
  {
   "cell_type": "code",
   "execution_count": null,
   "id": "20",
   "metadata": {},
   "outputs": [],
   "source": [
    "histplot(for_hist, alpha = 0.8, binrange=[0,40], bins = 40)\n",
    "plt.xlabel(\"Time sample\")\n",
    "plt.ylabel(\"Count of pixels with appropriate peaktime\")\n",
    "plt.title(\"Histogram for peaktime of 8 events (dl1 data)\")\n",
    "#plt.savefig(f\"/Users/vdk/Histplot_PeakTime_DL1events\")"
   ]
  },
  {
   "cell_type": "code",
   "execution_count": null,
   "id": "21",
   "metadata": {},
   "outputs": [],
   "source": [
    "for_hist"
   ]
  },
  {
   "cell_type": "code",
   "execution_count": null,
   "id": "22",
   "metadata": {},
   "outputs": [],
   "source": []
  }
 ],
 "metadata": {
  "kernelspec": {
   "display_name": "cta",
   "language": "python",
   "name": "cta"
  },
  "language_info": {
   "codemirror_mode": {
    "name": "ipython",
    "version": 3
   },
   "file_extension": ".py",
   "mimetype": "text/x-python",
   "name": "python",
   "nbconvert_exporter": "python",
   "pygments_lexer": "ipython3",
   "version": "3.11.3"
  }
 },
 "nbformat": 4,
 "nbformat_minor": 5
}
