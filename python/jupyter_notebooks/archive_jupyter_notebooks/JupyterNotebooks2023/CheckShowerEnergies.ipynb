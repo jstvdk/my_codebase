{
 "cells": [
  {
   "cell_type": "code",
   "execution_count": null,
   "id": "0",
   "metadata": {},
   "outputs": [],
   "source": [
    "import sys\n",
    "sys.path.append('/Users/vdk/GeneveWork/Code/calibpipe-main-calibpipe/')\n",
    "from astropy.io import ascii\n",
    "import numpy as np\n",
    "import pandas as pd\n",
    "import matplotlib\n",
    "import csv\n",
    "import scipy\n",
    "import matplotlib.pyplot as plt\n",
    "from seaborn import histplot\n",
    "import random\n",
    "import copy\n",
    "from os import path, makedirs\n",
    "from astropy.coordinates import SkyCoord\n",
    "from astropy.table import Table\n",
    "import astropy.units as u\n",
    "from ctapipe.containers import MuonEfficiencyContainer\n",
    "from ctapipe.coordinates import CameraFrame, TelescopeFrame\n",
    "from ctapipe.io import EventSource, EventSeeker\n",
    "from ctapipe.core import TelescopeComponent\n",
    "from ctapipe.core.traits import (\n",
    "    List,\n",
    "    Int,\n",
    "    FloatTelescopeParameter,\n",
    "    TelescopeParameter,\n",
    "    Unicode,\n",
    ")\n",
    "from ctapipe.image.cleaning import tailcuts_clean\n",
    "from ctapipe.image.muon import MuonRingFitter, MuonIntensityFitter\n",
    "from traitlets.config import Config\n",
    "from ctapipe.image import ImageProcessor\n",
    "from ctapipe.image.muon import MuonProcessor\n",
    "from ctapipe.visualization import CameraDisplay\n",
    "from ctapipe.instrument import CameraGeometry\n",
    "from ctapipe.calib import CameraCalibrator\n",
    "from traitlets.config.loader import Config, FileConfigLoader, JSONFileConfigLoader\n",
    "import pathlib\n",
    "from calibpipe.throughput import MuonCalibrator\n",
    "from traitlets.config import Config\n",
    "from astropy.time import Time\n",
    "from astropy.coordinates import EarthLocation,SkyCoord, AltAz \n",
    "from traitlets.config import Config\n",
    "import time\n",
    "\n",
    "\n",
    "\n",
    "\n"
   ]
  },
  {
   "cell_type": "code",
   "execution_count": null,
   "id": "1",
   "metadata": {},
   "outputs": [],
   "source": [
    "energies_all = []\n",
    "for k in range(1,41):\n",
    "    filename = f'/Users/vdk/sim_run_folder/output_prod_v12/corsika_theta_28.4_az_182.75_run{k}.simtel.gz'\n",
    "    source = EventSource(filename)\n",
    "    event_iterator = iter(source)\n",
    "    keks = k*1000\n",
    "    for i,j in enumerate(event_iterator):\n",
    "        energies_all.append(j.simulation.shower.energy)"
   ]
  },
  {
   "cell_type": "code",
   "execution_count": null,
   "id": "2",
   "metadata": {},
   "outputs": [],
   "source": [
    "def number_events(E0, E1, k = -2, A = 1000100.01):\n",
    "    return A * (E1**(k+1)-E0**(k+1))/(k+1)\n",
    "\n",
    "energies = np.logspace(1,5,45)\n",
    "\n",
    "events = number_events(energies[:-1], energies[1:])"
   ]
  },
  {
   "cell_type": "code",
   "execution_count": null,
   "id": "3",
   "metadata": {},
   "outputs": [],
   "source": [
    "energies_new = [i.to_value() for i in energies_all]\n",
    "histplot(energies_new, log_scale = True, bins = 45)\n",
    "plt.xlabel(\"Energy in TeV\")\n",
    "plt.title(\"Shower energies for 3LST\")\n",
    "#plt.savefig(\"/Users/vdk/Shower_energies_3LST.png\")"
   ]
  },
  {
   "cell_type": "code",
   "execution_count": null,
   "id": "4",
   "metadata": {},
   "outputs": [],
   "source": [
    "x,y = np.histogram(energies_new, bins = 44)\n"
   ]
  },
  {
   "cell_type": "code",
   "execution_count": null,
   "id": "5",
   "metadata": {},
   "outputs": [],
   "source": [
    "energies_lin = np.linspace(10,100000, 45)\n",
    "\n",
    "events_lin = number_events(energies_lin[:-1], energies_lin[1:])\n",
    "x/events_lin\n",
    "\n",
    "histplot(x/events, log_scale = False, bins = 44)\n",
    "plt.xlabel(\"Energy in TeV\")\n",
    "plt.title(\"Detected proton energies for 3LST\")"
   ]
  },
  {
   "cell_type": "code",
   "execution_count": null,
   "id": "6",
   "metadata": {},
   "outputs": [],
   "source": [
    "energi = np.linspace(10,100000,44)\n",
    "plt.plot(energi,x/events_lin)\n",
    "plt.xscale('log')\n",
    "plt.yscale('log')\n",
    "plt.ylabel(\"Trigger eficiency (detected / simulated)\")\n",
    "plt.grid(alpha = 0.5)\n",
    "plt.xlabel(\"Energy [GeV]\")\n",
    "plt.title(\"Trigger Efficiency\")\n",
    "plt.savefig('/Users/vdk/Trig.png')"
   ]
  },
  {
   "cell_type": "code",
   "execution_count": null,
   "id": "7",
   "metadata": {},
   "outputs": [],
   "source": [
    "energi"
   ]
  },
  {
   "cell_type": "code",
   "execution_count": null,
   "id": "8",
   "metadata": {},
   "outputs": [],
   "source": [
    "plt.hist(energies_new, bins = 44, log = True)"
   ]
  },
  {
   "cell_type": "code",
   "execution_count": null,
   "id": "9",
   "metadata": {},
   "outputs": [],
   "source": [
    "arr = [1.4117e+04, 1.3950e+03, 5.9400e+02, 4.3400e+02, 2.3500e+02,\n",
    "        1.5100e+02, 1.5200e+02, 1.3000e+02, 1.0000e+02, 8.5000e+01,\n",
    "        1.0200e+02, 7.8000e+01, 6.1000e+01, 3.5000e+01, 3.9000e+01,\n",
    "        4.8000e+01, 5.3000e+01, 2.7000e+01, 2.5000e+01, 2.7000e+01,\n",
    "        3.6000e+01, 2.5000e+01, 2.7000e+01, 1.5000e+01, 1.5000e+01,\n",
    "        4.8000e+01, 1.3000e+01, 1.2000e+01, 2.2000e+01, 8.0000e+00,\n",
    "        2.0000e+01, 1.1000e+01, 9.0000e+00, 2.1000e+01, 1.4000e+01,\n",
    "        1.1000e+01, 1.5000e+01, 1.3000e+01, 1.3000e+01, 4.0000e+00,\n",
    "        1.3000e+01, 9.0000e+00, 1.6000e+01, 1.7000e+01]\n",
    "print(events)\n",
    "plt.plot(energi, arr/events)"
   ]
  },
  {
   "cell_type": "code",
   "execution_count": null,
   "id": "10",
   "metadata": {},
   "outputs": [],
   "source": [
    "filename = f'/Users/vdk/sim_run_folder/output_prod_v12/corsika_theta_28.4_az_182.75_run{k}.simtel.gz'\n",
    "source = EventSource(filename, max_events=9000)\n",
    "event_iterator = iter(source)\n",
    "test = next(event_iterator)"
   ]
  },
  {
   "cell_type": "code",
   "execution_count": null,
   "id": "11",
   "metadata": {},
   "outputs": [],
   "source": [
    "test.trigger.event_type"
   ]
  },
  {
   "cell_type": "code",
   "execution_count": null,
   "id": "12",
   "metadata": {},
   "outputs": [],
   "source": [
    "test"
   ]
  },
  {
   "cell_type": "code",
   "execution_count": null,
   "id": "13",
   "metadata": {},
   "outputs": [],
   "source": [
    "energies_all = []\n",
    "\n",
    "for k in range(1,41):\n",
    "    filename = f'/Users/vdk/sim_run_folder/output_prod_v12/corsika_theta_28.4_az_182.75_run{k}.simtel.gz'\n",
    "    source = EventSource(filename)\n",
    "    event_iterator = iter(source)\n",
    "    keks = k*1000\n",
    "    for i,j in enumerate(event_iterator):\n",
    "        if len(j.trigger.tels_with_trigger) > 1:\n",
    "            energies_all.append(j.simulation.shower.energy)"
   ]
  },
  {
   "cell_type": "code",
   "execution_count": null,
   "id": "14",
   "metadata": {},
   "outputs": [],
   "source": [
    "energies_new = [i.to_value() for i in energies_all]\n",
    "histplot(energies_new, log_scale = True, bins = 35)\n",
    "plt.xlabel(\"Energy in TeV\")\n",
    "plt.title(\"Shower energies for 3LST\")\n",
    "#plt.savefig(\"/Users/vdk/Shower_energies_3LST_stereo.png\")"
   ]
  },
  {
   "cell_type": "code",
   "execution_count": null,
   "id": "15",
   "metadata": {},
   "outputs": [],
   "source": [
    "np.mean(energies_new)"
   ]
  },
  {
   "cell_type": "code",
   "execution_count": null,
   "id": "16",
   "metadata": {},
   "outputs": [],
   "source": []
  }
 ],
 "metadata": {
  "kernelspec": {
   "display_name": "cta",
   "language": "python",
   "name": "cta"
  },
  "language_info": {
   "codemirror_mode": {
    "name": "ipython",
    "version": 3
   },
   "file_extension": ".py",
   "mimetype": "text/x-python",
   "name": "python",
   "nbconvert_exporter": "python",
   "pygments_lexer": "ipython3",
   "version": "3.11.3"
  }
 },
 "nbformat": 4,
 "nbformat_minor": 5
}
