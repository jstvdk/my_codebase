{
 "cells": [
  {
   "cell_type": "code",
   "execution_count": null,
   "metadata": {},
   "outputs": [],
   "source": [
    "from matplotlib.colors import SymLogNorm\n",
    "import matplotlib\n",
    "import matplotlib.pyplot as plt\n",
    "import numpy as np\n",
    "from astropy.coordinates.sky_coordinate import SkyCoord\n",
    "import astropy.units as u\n",
    "#from astropy.cosmology import Planck15 as cosmo\n",
    "from astropy.cosmology import FlatLambdaCDM\n",
    "cosmo = FlatLambdaCDM(H0=70, Om0=0.3, Tcmb0=2.725, Ob0 = 0.0486, m_nu = [0, 0, 0.06] * u.eV)\n",
    "from astropy.wcs import WCS\n",
    "from minot import model\n",
    "\n",
    "# Modify plotting parameters\n",
    "dict_base = {'font.size':        16,\n",
    "             'legend.fontsize':  16,\n",
    "             'xtick.labelsize':  16,\n",
    "             'ytick.labelsize':  16,\n",
    "             'axes.labelsize':   16,\n",
    "             'axes.titlesize':   16,\n",
    "             'figure.titlesize': 16,    \n",
    "             'figure.figsize':[8.0, 6.0],\n",
    "             'figure.subplot.right':0.97,\n",
    "             'figure.subplot.left':0.15,\n",
    "             'font.family':'serif',\n",
    "             'figure.facecolor': 'white',\n",
    "             'legend.frameon': True}\n",
    "plt.rcParams.update(dict_base)"
   ]
  },
  {
   "cell_type": "code",
   "execution_count": null,
   "metadata": {},
   "outputs": [],
   "source": [
    "clust = model.Cluster(name='A2151CB', \n",
    "                      redshift=0.0368, M500=9.08e13*u.Msun, \n",
    "                      cosmology=cosmo, silent=False, \n",
    "                      output_dir='/Users/vdk/Desktop/A2151CB_TestLessEmax')"
   ]
  },
  {
   "cell_type": "code",
   "execution_count": null,
   "metadata": {},
   "outputs": [],
   "source": [
    "#----- Some parameters that can be set at when defining the cluster\n",
    "clust.coord = SkyCoord(\"241.14d  17.72d\", frame=\"icrs\", unit=\"deg\")\n",
    "\n",
    "#----- Define the relevant ICM model (available models are defined in model_modpar.py)\n",
    "\n",
    "# Density profile of the target thermal gas\n",
    "clust.density_gas_model = {'name':'beta', 'n_0':8.75e-3*u.cm**-3, 'beta':0.38, 'r_c':19.35*u.kpc}\n",
    "\n",
    "#UPP Plank P0 total\n",
    "clust.pressure_gas_model = {'name':'GNFW', 'P_0':0.009*u.keV/u.cm**3, 'c500':1.81, 'a':1.33, 'b':4.13, 'c':0.31}\n",
    "\n",
    "#UPP Planck P0 From Tiwari\n",
    "#clust.pressure_gas_model = {'name':'GNFW', 'P_0':0.005*u.keV/u.cm**3, 'c500':1.81, 'a':1.33, 'b':4.13, 'c':0.31}\n",
    "\n",
    "# Pressure profile of the target thermal gas\n",
    "#clust.pressure_gas_model = {'name':'GNFW', 'P_0':2.2e-2*u.keV/u.cm**3, 'c500':3.2, 'a':1.5, 'b':3.1, 'c':0.0}\n",
    "\n",
    "#Arnaud test\n",
    "#clust.pressure_gas_model = {'name':'GNFW', 'P_0':2.2e-2*u.keV/u.cm**3, 'c500':1.1, 'a':1., 'b':5.4, 'c':0.3}\n",
    "\n",
    "#Gong test\n",
    "#clust.pressure_gas_model = {'name':'GNFW', 'P_0':2.99e-2*u.keV/u.cm**3, 'c500':1.16, 'a':2.66, 'b':5.48, 'c':0.3}\n",
    "\n",
    "#Test from minot model\n",
    "#clust.set_pressure_gas_gNFW_param(pressure_model = 'P13UPP')\n",
    "\n",
    "#Planck test\n",
    "#clust.pressure_gas_model = {'name':'GNFW', 'P_0':2.57e-2*u.keV/u.cm**3, 'c500':1.17, 'a':1.05, 'b':5.49, 'c':0.3}\n",
    "\n",
    "#Pressure from Nagai paper\n",
    "#clust.pressure_gas_model = {'name':'GNFW', 'P_0':3.3e-2*u.keV/u.cm**3, 'c500':1.8, 'a':1.3, 'b':4.3, 'c':0.7}\n",
    "\n",
    "# Set the cosmic ray density profile to the same shape as the thermal gas density\n",
    "clust.set_density_crp_isodens_scal_param()\n",
    "clust.set_density_cre1_isodens_scal_param()\n",
    "\n",
    "# Cosmic ray proton spectrum\n",
    "clust.spectrum_crp_model = {'name':'ExponentialCutoffPowerLaw', 'Index':1.5, 'CutoffEnergy':30*u.TeV}\n",
    "\n",
    "# Cosmic ray proton normalization\n",
    "clust.X_crp_E = {'X':0.1, 'R_norm':clust.R500} # X is the CRp/thermal energy ratio, normalized within R_norm\n",
    "\n",
    "clust.X_cre1_E = {'X':0.01, 'R_norm':clust.R500} # X is the CRp/thermal energy ratio, normalized within R_norm\n",
    "\n",
    "\n",
    "\n",
    "#Set magnetic field profile\n",
    "clust.set_magfield_isodens_scal_param(10000000*u.uG, scal=2/3)\n",
    "\n",
    "clust.Epmax = 10e3*u.TeV\n",
    "clust.Eemax = 10e3*u.TeV\n",
    "\n",
    "clust.abundance = 0.43"
   ]
  },
  {
   "cell_type": "code",
   "execution_count": null,
   "metadata": {},
   "outputs": [],
   "source": [
    "def plot_CTA_sens():\n",
    "\n",
    "    # CTA Performance - Northern site\n",
    "    # for further details, see: www.cta - observatory.org / science / cta - performance / (prod3b - v2)\n",
    "\n",
    "    bins_lo = [0.02, 0.0316, 0.0501, 0.0794, 0.126, 0.2, 0.316, 0.501, 0.794, 1.26, 2, 3.16, 5.01, 7.94, 12.6, 20, 31.6, 50.1, 79.4, 126] # E_min (TeV)\n",
    "    bins_hi = [0.0316, 0.0501, 0.0794, 0.126, 0.2, 0.316, 0.501, 0.794, 1.26, 2, 3.16, 5.01, 7.94, 12.6, 20, 31.6, 50.1, 79.4, 126, 200] # E_max (TeV)\n",
    "    data = [2.37e-11, 8.35e-12, 2.02e-12, 9.41e-13, 5.37e-13, 3.58e-13, 2.43e-13, 1.76e-13, 1.35e-13, 1.24e-13, 1.1e-13,\n",
    "            1.21e-13, 1.44e-13, 2.06e-13, 3.2e-13, 5.1e-13, 7.97e-13, 1.2e-12, 1.93e-12, 3.92e-12] # S (erg / cm^2 / s)\n",
    "    data_GeV = [i * 624.15064799632 for i in data]\n",
    "    mid_point = [np.exp((np.log(i)+np.log(j))/2) * 1000 for i, j in zip(bins_lo, bins_hi)]\n",
    "\n",
    "\n",
    "    plt.loglog(mid_point, data_GeV, color='k', ls='-.', lw='2', alpha=0.5)\n",
    "    plt.show()\n",
    "\n",
    "plot_CTA_sens()"
   ]
  },
  {
   "cell_type": "code",
   "execution_count": null,
   "metadata": {},
   "outputs": [],
   "source": [
    "clust.print_param()"
   ]
  },
  {
   "cell_type": "code",
   "execution_count": null,
   "metadata": {},
   "outputs": [],
   "source": [
    "plt.figure(figsize=(10,8))\n",
    "r, x_r = clust.get_crp_to_thermal_energy_profile(Emin=None, Emax=None)\n",
    "plt.plot(r, x_r, label='Cosmic ray to thermal energy')\n",
    "plt.vlines(clust.X_crp_E['R_norm'].to_value('kpc'), clust.X_crp_E['X']*0.9, clust.X_crp_E['X']*1.1, label='Imposed normalization')\n",
    "plt.hlines(clust.X_crp_E['X'], clust.X_crp_E['R_norm'].to_value('kpc')*0.9, clust.X_crp_E['R_norm'].to_value('kpc')*1.1)\n",
    "plt.xscale('log')\n",
    "plt.xlabel('radius (kpc)')\n",
    "plt.ylabel('$U_{CRp}/U_{th} (<r)$')\n",
    "plt.legend()"
   ]
  },
  {
   "cell_type": "code",
   "execution_count": null,
   "metadata": {},
   "outputs": [],
   "source": [
    "r1, p1 = clust.get_gamma_profile(radius=np.logspace(0,4,100)*u.kpc, \n",
    "                                   Emin=500*u.GeV, Emax=1*u.PeV, Energy_density=False)\n",
    "r2, p2 = clust.get_gamma_profile(radius=np.logspace(0,4,100)*u.kpc, \n",
    "                                   Emin=1000*u.GeV, Emax=1*u.PeV, Energy_density=False)\n",
    "plt.figure(0,figsize=(10,8))\n",
    "plt.loglog((r1/clust.D_ang*u.rad).to('deg'),p1.to('cm-2 s-1 sr-1'), '-', label='500 GeV - 1 PeV')\n",
    "plt.loglog((r2/clust.D_ang*u.rad).to('deg'),p2.to('cm-2 s-1 sr-1'), '--', label='1 TeV - 1 PeV')\n",
    "plt.xlabel('Angular size (deg)')\n",
    "plt.ylabel('Surface brightness ($ph/cm^2/s/sr$)')\n",
    "plt.legend()"
   ]
  },
  {
   "cell_type": "code",
   "execution_count": null,
   "metadata": {},
   "outputs": [],
   "source": [
    "energy = np.logspace(-2,5,100)*u.GeV\n",
    "e1, s1 = clust.get_gamma_spectrum(energy,Rmax=clust.R_truncation, type_integral='spherical')\n",
    "e2, s2 = clust.get_gamma_spectrum(energy,Rmax=clust.R500, type_integral='spherical')\n",
    "e3, s3 = clust.get_gamma_spectrum(energy,Rmax=clust.R500, type_integral='cylindrical')\n",
    "\n",
    "# разом з СТА чутливістю\n",
    "plt.figure(0,figsize=(10,8))\n",
    "bins_lo = [0.02, 0.0316, 0.0501, 0.0794, 0.126, 0.2, 0.316, 0.501, 0.794, 1.26, 2, 3.16, 5.01, 7.94, 12.6, 20, 31.6, 50.1, 79.4, 126] # E_min (TeV)\n",
    "bins_hi = [0.0316, 0.0501, 0.0794, 0.126, 0.2, 0.316, 0.501, 0.794, 1.26, 2, 3.16, 5.01, 7.94, 12.6, 20, 31.6, 50.1, 79.4, 126, 200] # E_max (TeV)\n",
    "data = [2.37e-11, 8.35e-12, 2.02e-12, 9.41e-13, 5.37e-13, 3.58e-13, 2.43e-13, 1.76e-13, 1.35e-13, 1.24e-13, 1.1e-13,\n",
    "        1.21e-13, 1.44e-13, 2.06e-13, 3.2e-13, 5.1e-13, 7.97e-13, 1.2e-12, 1.93e-12, 3.92e-12] # S (erg / cm^2 / s)\n",
    "data_GeV = [i * 624.15064799632 for i in data]\n",
    "mid_point = [np.exp((np.log(i)+np.log(j))/2) * 1000 for i, j in zip(bins_lo, bins_hi)]\n",
    "plt.loglog(mid_point, data_GeV, color='k', ls='-.', lw='2', alpha=0.5, label = 'CTA North sensivity 50h')\n",
    "\n",
    "#LHAASO sensitivity\n",
    "bins_lo = [0.3, 0.6, 1, 2, 2.5, 3, 5, 8, 10, 20, 50, 100, 170, 300] # E_min (TeV)\n",
    "bins_hi = [0.6, 1, 2, 2.5, 3, 5, 8, 10, 20, 50, 100, 170, 300, 600] # E_max (TeV)\n",
    "data = [3e-9, 8e-10, 4e-10, 1e-10, 8e-11, 7e-11, 8e-11, 9e-11, 6e-11, 4e-11, 1.5e-11, 2e-11, 5e-11, 7e-11 ] # S (GeV/ cm^2 / s)\n",
    "mid_point = [np.exp((np.log(i)+np.log(j))/2) * 1000 for i, j in zip(bins_lo, bins_hi)]\n",
    "plt.loglog(mid_point, data, color='r', ls='-.', lw='2', alpha=0.5, label = 'LHAASO sensivity')\n",
    "\n",
    "plt.loglog(e1, (e1**2*s1).to('GeV cm-2 s-1'), '-', label='Total volume A2151CB')\n",
    "#plt.loglog(e2, (e2**2*s2).to('GeV cm-2 s-1'), '-', label='<R500, spherical integration')\n",
    "#plt.loglog(e3, (e3**2*s3).to('GeV cm-2 s-1'), '-', label='<R500, cylindrical integration')\n",
    "plt.gca().set_ylim(bottom= 1e-13)\n",
    "plt.gca().set_ylim(top= 1e-7)\n",
    "plt.gca().set_xlim(left= 1e-1)\n",
    "plt.xlabel('Energy (GeV)')\n",
    "plt.ylabel('Flux ($GeV/cm^2/s$)')\n",
    "plt.legend()"
   ]
  },
  {
   "cell_type": "code",
   "execution_count": null,
   "metadata": {},
   "outputs": [],
   "source": [
    "# Defines the grid\n",
    "clust.map_reso = 0.01*u.deg\n",
    "clust.map_fov = 5.0*u.deg\n",
    "\n",
    "# The center of the map can be offset wrt the cluster\n",
    "clust.map_coord = SkyCoord(\"241.14d  17.72d\", frame=\"icrs\", unit=\"deg\")\n",
    "\n",
    "# Get the corresponding header\n",
    "header = clust.get_map_header()"
   ]
  },
  {
   "cell_type": "code",
   "execution_count": null,
   "metadata": {},
   "outputs": [],
   "source": [
    "template = clust.get_gamma_map(Emin=None, Emax=None, \n",
    "                               Energy_density=False, \n",
    "                               Normalize=True) # The map is normalized to the total flux, to be in unit of sr-1"
   ]
  },
  {
   "cell_type": "code",
   "execution_count": null,
   "metadata": {},
   "outputs": [],
   "source": [
    "rad500 = clust.theta500.to_value('deg')\n",
    "radtru = clust.theta_truncation.to_value('deg')\n",
    "\n",
    "fig = plt.figure(figsize=(10, 8))\n",
    "ax = plt.subplot(111, projection=WCS(header))\n",
    "plt.imshow(template, vmin=0, origin='lower', cmap='magma', norm=SymLogNorm(1))\n",
    "\n",
    "# Show R500\n",
    "circle500 = matplotlib.patches.Ellipse((clust.coord.ra.value, clust.coord.dec.value),\n",
    "                                        2*rad500/np.cos(clust.coord.dec.value*np.pi/180), 2*rad500,\n",
    "                                        linewidth=2, fill=False, zorder=2,\n",
    "                                        edgecolor='green', linestyle='dashed',facecolor='none',\n",
    "                                        transform=ax.get_transform('fk5'))\n",
    "# Show R_truncation\n",
    "circletru = matplotlib.patches.Ellipse((clust.coord.ra.value, clust.coord.dec.value),\n",
    "                                        2*radtru/np.cos(clust.coord.dec.value*np.pi/180), 2*radtru,\n",
    "                                        linewidth=1, fill=False, zorder=2,\n",
    "                                        edgecolor='green', linestyle='dashed',facecolor='none',\n",
    "                                        transform=ax.get_transform('fk5'))\n",
    "ax.add_patch(circle500)\n",
    "ax.add_patch(circletru)\n",
    "plt.colorbar()\n",
    "plt.title(clust.name+', gamma template ($sr^{-1}$)')"
   ]
  },
  {
   "cell_type": "code",
   "execution_count": null,
   "metadata": {},
   "outputs": [],
   "source": [
    "# Save the parameters\n",
    "clust.save_param()\n",
    "\n",
    "# Save relevant output products\n",
    "clust.save_spectra()\n",
    "clust.save_profile()\n",
    "clust.save_map()\n",
    "\n",
    "# Can also produce plots\n",
    "clust.plot(prod_list=['all'])"
   ]
  },
  {
   "cell_type": "code",
   "execution_count": null,
   "metadata": {},
   "outputs": [],
   "source": [
    "clust_two = model.Cluster(name='A2151CF', \n",
    "                      redshift=0.0368, M500=3.01e13*u.Msun, \n",
    "                      cosmology=cosmo, silent=False, \n",
    "                      output_dir='/Users/vdk/Desktop/A2151CF_presentation')"
   ]
  },
  {
   "cell_type": "code",
   "execution_count": null,
   "metadata": {},
   "outputs": [],
   "source": [
    "clust_two.coord = SkyCoord(\"241.28d  17.72d\", frame=\"icrs\", unit=\"deg\")\n",
    "clust_two.density_gas_model = {'name':'beta', 'n_0':0.0049*u.cm**-3, 'beta':0.28, 'r_c':10.43*u.kpc}\n",
    "clust_two.pressure_gas_model = {'name':'GNFW', 'P_0':0.0077*u.keV/u.cm**3, 'c500':1.81, 'a':1.33, 'b':4.13, 'c':0.31}\n",
    "clust_two.set_density_crp_isodens_scal_param()\n",
    "clust_two.set_density_cre1_isodens_scal_param()\n",
    "clust_two.spectrum_crp_model = {'name':'ExponentialCutoffPowerLaw', 'Index':1.5, 'CutoffEnergy':30*u.TeV}\n",
    "clust_two.spectrum_cre1_model = {'name':'PowerLaw', 'Index':2.3}\n",
    "clust_two.X_crp_E = {'X':0.1, 'R_norm':clust_two.R500} \n",
    "clust_two.X_cre1_E = {'X':0.01, 'R_norm':clust_two.R500} \n",
    "clust_two.set_magfield_isodens_scal_param(5*u.uG, scal=2/3)\n",
    "clust_two.Epmax = 10e5*u.TeV\n",
    "clust_two.Eemax = 10e5*u.TeV\n",
    "clust_two.abundance = 0.13\n",
    "\n"
   ]
  },
  {
   "cell_type": "code",
   "execution_count": null,
   "metadata": {},
   "outputs": [],
   "source": [
    "energy = np.logspace(-1,4,100)*u.GeV\n",
    "e1, s1 = clust_two.get_gamma_spectrum(energy,Rmax=clust_two.R_truncation, type_integral='spherical')\n",
    "e2, s2 = clust_two.get_gamma_spectrum(energy,Rmax=clust_two.R500, type_integral='spherical')\n",
    "e3, s3 = clust_two.get_gamma_spectrum(energy,Rmax=clust_two.R500, type_integral='cylindrical')\n",
    "\n",
    "# разом з СТА чутливістю\n",
    "plt.figure(0,figsize=(10,8))\n",
    "bins_lo = [0.02, 0.0316, 0.0501, 0.0794, 0.126, 0.2, 0.316, 0.501, 0.794, 1.26, 2, 3.16, 5.01, 7.94, 12.6, 20, 31.6, 50.1, 79.4, 126] # E_min (TeV)\n",
    "bins_hi = [0.0316, 0.0501, 0.0794, 0.126, 0.2, 0.316, 0.501, 0.794, 1.26, 2, 3.16, 5.01, 7.94, 12.6, 20, 31.6, 50.1, 79.4, 126, 200] # E_max (TeV)\n",
    "data = [2.37e-11, 8.35e-12, 2.02e-12, 9.41e-13, 5.37e-13, 3.58e-13, 2.43e-13, 1.76e-13, 1.35e-13, 1.24e-13, 1.1e-13,\n",
    "        1.21e-13, 1.44e-13, 2.06e-13, 3.2e-13, 5.1e-13, 7.97e-13, 1.2e-12, 1.93e-12, 3.92e-12] # S (erg / cm^2 / s)\n",
    "data_GeV = [i * 624.15064799632 for i in data]\n",
    "mid_point = [np.exp((np.log(i)+np.log(j))/2) * 1000 for i, j in zip(bins_lo, bins_hi)]\n",
    "plt.loglog(mid_point, data_GeV, color='k', ls='-.', lw='2', alpha=0.5, label = 'CTA North sensivity 50h')\n",
    "\n",
    "#LHAASO sensitivity\n",
    "bins_lo = [0.3, 0.6, 1, 2, 2.5, 3, 5, 8, 10, 20, 50, 100, 170, 300] # E_min (TeV)\n",
    "bins_hi = [0.6, 1, 2, 2.5, 3, 5, 8, 10, 20, 50, 100, 170, 300, 600] # E_max (TeV)\n",
    "data = [3e-9, 8e-10, 4e-10, 1e-10, 8e-11, 7e-11, 8e-11, 9e-11, 6e-11, 4e-11, 1.5e-11, 2e-11, 5e-11, 7e-11 ] # S (GeV/ cm^2 / s)\n",
    "mid_point = [np.exp((np.log(i)+np.log(j))/2) * 1000 for i, j in zip(bins_lo, bins_hi)]\n",
    "plt.loglog(mid_point, data, color='r', ls='-.', lw='2', alpha=0.5, label = 'LHAASO sensivity')\n",
    "\n",
    "plt.loglog(e1, (e1**2*s1).to('GeV cm-2 s-1'), '-', label='Total volume')\n",
    "plt.loglog(e2, (e2**2*s2).to('GeV cm-2 s-1'), '-', label='<R500, spherical integration')\n",
    "plt.loglog(e3, (e3**2*s3).to('GeV cm-2 s-1'), '-', label='<R500, cylindrical integration')\n",
    "plt.xlabel('Energy (GeV)')\n",
    "plt.ylabel('Flux ($GeV/cm^2/s$)')\n",
    "plt.legend()"
   ]
  },
  {
   "cell_type": "code",
   "execution_count": null,
   "metadata": {},
   "outputs": [],
   "source": [
    "# Defines the grid\n",
    "clust_two.map_reso = 0.01*u.deg\n",
    "clust_two.map_fov = 5.0*u.deg\n",
    "\n",
    "# The center of the map can be offset wrt the cluster\n",
    "clust_two.map_coord = SkyCoord(\"241.28d  17.72d\", frame=\"icrs\", unit=\"deg\")\n",
    "\n",
    "# Get the corresponding header\n",
    "header = clust_two.get_map_header()"
   ]
  },
  {
   "cell_type": "code",
   "execution_count": null,
   "metadata": {},
   "outputs": [],
   "source": [
    "template = clust_two.get_gamma_map(Emin=None, Emax=None, \n",
    "                               Energy_density=False, \n",
    "                               Normalize=True) # The map is normalized to the total flux, to be in unit of sr-1"
   ]
  },
  {
   "cell_type": "code",
   "execution_count": null,
   "metadata": {},
   "outputs": [],
   "source": [
    "rad500 = clust_two.theta500.to_value('deg')\n",
    "radtru = clust_two.theta_truncation.to_value('deg')\n",
    "\n",
    "fig = plt.figure(figsize=(10, 8))\n",
    "ax = plt.subplot(111, projection=WCS(header))\n",
    "plt.imshow(template, vmin=0, origin='lower', cmap='magma', norm=SymLogNorm(1))\n",
    "\n",
    "# Show R500\n",
    "circle500 = matplotlib.patches.Ellipse((clust_two.coord.ra.value, clust_two.coord.dec.value),\n",
    "                                        2*rad500/np.cos(clust_two.coord.dec.value*np.pi/180), 2*rad500,\n",
    "                                        linewidth=2, fill=False, zorder=2,\n",
    "                                        edgecolor='green', linestyle='dashed',facecolor='none',\n",
    "                                        transform=ax.get_transform('fk5'))\n",
    "# Show R_truncation\n",
    "circletru = matplotlib.patches.Ellipse((clust_two.coord.ra.value, clust_two.coord.dec.value),\n",
    "                                        2*radtru/np.cos(clust_two.coord.dec.value*np.pi/180), 2*radtru,\n",
    "                                        linewidth=1, fill=False, zorder=2,\n",
    "                                        edgecolor='green', linestyle='dashed',facecolor='none',\n",
    "                                        transform=ax.get_transform('fk5'))\n",
    "ax.add_patch(circle500)\n",
    "ax.add_patch(circletru)\n",
    "plt.colorbar()\n",
    "plt.title(clust_two.name+', gamma template ($sr^{-1}$)')"
   ]
  },
  {
   "cell_type": "code",
   "execution_count": null,
   "metadata": {},
   "outputs": [],
   "source": [
    "# Save the parameters\n",
    "clust_two.save_param()\n",
    "\n",
    "# Save relevant output products\n",
    "clust_two.save_spectra()\n",
    "clust_two.save_profile()\n",
    "clust_two.save_map()\n",
    "\n",
    "# Can also produce plots\n",
    "clust_two.plot(prod_list=['all'])"
   ]
  },
  {
   "cell_type": "code",
   "execution_count": null,
   "metadata": {},
   "outputs": [],
   "source": [
    "bins_lo = [0.3, 0.6, 1, 2, 2.5, 3, 5, 8, 10, 20, 50, 100, 170, 300] # E_min (TeV)\n",
    "bins_hi = [0.6, 1, 2, 2.5, 3, 5, 8, 10, 20, 50, 100, 170, 300, 600] # E_max (TeV)\n",
    "data = [3e-9, 8e-10, 4e-10, 1e-10, 8e-11, 7e-11, 8e-11, 9e-11, 6e-11, 4e-11, 1.5e-11, 2e-11, 5e-11, 7e-11 ] # S (GeV/ cm^2 / s)\n",
    "mid_point = [np.exp((np.log(i)+np.log(j))/2) * 1000 for i, j in zip(bins_lo, bins_hi)]\n",
    "plt.loglog(mid_point, data, color='r', ls='-.', lw='2', alpha=0.5)\n",
    "plt.show()\n",
    "\n"
   ]
  },
  {
   "cell_type": "code",
   "execution_count": null,
   "metadata": {},
   "outputs": [],
   "source": [
    "x = [0.3, 0.6, 1, 2, 2.5, 3, 5, 8, 10, 20, 50, 100, 170, 300, 600]\n",
    "y = [3e-9, 8e-10, 4e-10, 1e-10, 8e-11, 7e-11, 8e-11, 9e-11, 6e-11, 4e-11, 1.5e-11, 2e-11, 5e-11, 7e-11, 1e-10]\n",
    "plt.plot(x,y)\n",
    "plt.show()"
   ]
  },
  {
   "cell_type": "code",
   "execution_count": null,
   "metadata": {},
   "outputs": [],
   "source": [
    "bins_lo = [0.02, 0.0316, 0.0501, 0.0794, 0.126, 0.2, 0.316, 0.501, 0.794, 1.26, 2, 3.16, 5.01, 7.94, 12.6, 20, 31.6, 50.1, 79.4, 126] # E_min (TeV)\n",
    "bins_hi = [0.0316, 0.0501, 0.0794, 0.126, 0.2, 0.316, 0.501, 0.794, 1.26, 2, 3.16, 5.01, 7.94, 12.6, 20, 31.6, 50.1, 79.4, 126, 200] # E_max (TeV)\n",
    "data = [2.37e-11, 8.35e-12, 2.02e-12, 9.41e-13, 5.37e-13, 3.58e-13, 2.43e-13, 1.76e-13, 1.35e-13, 1.24e-13, 1.1e-13,\n",
    "        1.21e-13, 1.44e-13, 2.06e-13, 3.2e-13, 5.1e-13, 7.97e-13, 1.2e-12, 1.93e-12, 3.92e-12] # S (erg / cm^2 / s)\n",
    "data_GeV = [i * 624.15064799632 for i in data]\n",
    "len(bins_hi)"
   ]
  },
  {
   "cell_type": "code",
   "execution_count": null,
   "metadata": {},
   "outputs": [],
   "source": [
    "energy = np.logspace(-1,5,100)*u.GeV\n",
    "e1, s1 = clust.get_gamma_spectrum(energy,Rmax=clust.R_truncation, type_integral='spherical')\n",
    "e2, s2 = clust_two.get_gamma_spectrum(energy,Rmax=clust.R_truncation, type_integral='spherical')\n",
    "\n",
    "# разом з СТА чутливістю\n",
    "plt.figure(0,figsize=(10,8))\n",
    "bins_lo = [0.02, 0.0316, 0.0501, 0.0794, 0.126, 0.2, 0.316, 0.501, 0.794, 1.26, 2, 3.16, 5.01, 7.94, 12.6, 20, 31.6, 50.1, 79.4, 126] # E_min (TeV)\n",
    "bins_hi = [0.0316, 0.0501, 0.0794, 0.126, 0.2, 0.316, 0.501, 0.794, 1.26, 2, 3.16, 5.01, 7.94, 12.6, 20, 31.6, 50.1, 79.4, 126, 200] # E_max (TeV)\n",
    "data = [2.37e-11, 8.35e-12, 2.02e-12, 9.41e-13, 5.37e-13, 3.58e-13, 2.43e-13, 1.76e-13, 1.35e-13, 1.24e-13, 1.1e-13,\n",
    "        1.21e-13, 1.44e-13, 2.06e-13, 3.2e-13, 5.1e-13, 7.97e-13, 1.2e-12, 1.93e-12, 3.92e-12] # S (erg / cm^2 / s)\n",
    "data_GeV = [i * 624.15064799632 for i in data]\n",
    "mid_point = [np.exp((np.log(i)+np.log(j))/2) * 1000 for i, j in zip(bins_lo, bins_hi)]\n",
    "plt.loglog(mid_point, data_GeV, color='k', ls='-.', lw='2', alpha=0.5, label = 'CTA North sensivity 50h')\n",
    "\n",
    "#LHAASO sensitivity\n",
    "bins_lo = [0.3, 0.6, 1, 2, 2.5, 3, 5, 8, 10, 20, 50, 100, 170, 300] # E_min (TeV)\n",
    "bins_hi = [0.6, 1, 2, 2.5, 3, 5, 8, 10, 20, 50, 100, 170, 300, 600] # E_max (TeV)\n",
    "data = [3e-9, 8e-10, 4e-10, 1e-10, 8e-11, 7e-11, 8e-11, 9e-11, 6e-11, 4e-11, 1.5e-11, 2e-11, 5e-11, 7e-11 ] # S (GeV/ cm^2 / s)\n",
    "mid_point = [np.exp((np.log(i)+np.log(j))/2) * 1000 for i, j in zip(bins_lo, bins_hi)]\n",
    "plt.loglog(mid_point, data, color='r', ls='-.', lw='2', alpha=0.5, label = 'LHAASO sensivity')\n",
    "\n",
    "sum = s1 + s2\n",
    "plt.gca().set_ylim(bottom= 1e-12)\n",
    "plt.gca().set_xlim(left= 1e-1)\n",
    "\n",
    "plt.loglog(e1, (e1**2*sum).to('GeV cm-2 s-1'), '-', label='Total volume of two subclumps')\n",
    "#plt.loglog(e2, (e2**2*s2).to('GeV cm-2 s-1'), '-', label='Total volume')\n",
    "plt.xlabel('Energy (GeV)')\n",
    "plt.ylabel('Flux ($GeV/cm^2/s$)')\n",
    "plt.legend()"
   ]
  },
  {
   "cell_type": "code",
   "execution_count": null,
   "metadata": {},
   "outputs": [],
   "source": [
    "print(s1+s2)"
   ]
  },
  {
   "cell_type": "code",
   "execution_count": null,
   "metadata": {},
   "outputs": [],
   "source": [
    "print(s2)"
   ]
  },
  {
   "cell_type": "code",
   "execution_count": null,
   "metadata": {},
   "outputs": [],
   "source": [
    "energy = np.logspace(-1,5,100)*u.GeV\n",
    "e1, s1 = clust.get_gamma_spectrum(energy,Rmax=clust.R_truncation, type_integral='spherical')\n",
    "e2, s2 = clust_two.get_gamma_spectrum(energy,Rmax=clust.R_truncation, type_integral='spherical')\n",
    "\n",
    "# разом з СТА чутливістю\n",
    "plt.figure(0,figsize=(10,8))\n",
    "bins_lo = [0.02, 0.0316, 0.0501, 0.0794, 0.126, 0.2, 0.316, 0.501, 0.794, 1.26, 2, 3.16, 5.01, 7.94, 12.6, 20, 31.6, 50.1, 79.4, 126] # E_min (TeV)\n",
    "bins_hi = [0.0316, 0.0501, 0.0794, 0.126, 0.2, 0.316, 0.501, 0.794, 1.26, 2, 3.16, 5.01, 7.94, 12.6, 20, 31.6, 50.1, 79.4, 126, 200] # E_max (TeV)\n",
    "data = [2.37e-11, 8.35e-12, 2.02e-12, 9.41e-13, 5.37e-13, 3.58e-13, 2.43e-13, 1.76e-13, 1.35e-13, 1.24e-13, 1.1e-13,\n",
    "        1.21e-13, 1.44e-13, 2.06e-13, 3.2e-13, 5.1e-13, 7.97e-13, 1.2e-12, 1.93e-12, 3.92e-12] # S (erg / cm^2 / s)\n",
    "data_GeV = [i * 624.15064799632 for i in data]\n",
    "mid_point = [np.exp((np.log(i)+np.log(j))/2) * 1000 for i, j in zip(bins_lo, bins_hi)]\n",
    "plt.loglog(mid_point, data_GeV, color='k', ls='-.', lw='2', alpha=0.5, label = 'CTA North sensivity 50h')\n",
    "\n",
    "#LHAASO sensitivity\n",
    "bins_lo = [0.3, 0.6, 1, 2, 2.5, 3, 5, 8, 10, 20, 50, 100, 170, 300] # E_min (TeV)\n",
    "bins_hi = [0.6, 1, 2, 2.5, 3, 5, 8, 10, 20, 50, 100, 170, 300, 600] # E_max (TeV)\n",
    "data = [3e-9, 8e-10, 4e-10, 1e-10, 8e-11, 7e-11, 8e-11, 9e-11, 6e-11, 4e-11, 1.5e-11, 2e-11, 5e-11, 7e-11 ] # S (GeV/ cm^2 / s)\n",
    "mid_point = [np.exp((np.log(i)+np.log(j))/2) * 1000 for i, j in zip(bins_lo, bins_hi)]\n",
    "plt.loglog(mid_point, data, color='r', ls='-.', lw='2', alpha=0.5, label = 'LHAASO sensivity')\n",
    "\n",
    "sum = s1 + s2\n",
    "plt.gca().set_ylim(bottom= 1e-12)\n",
    "plt.gca().set_xlim(left= 1e-1)\n",
    "plt.loglog(e1, (e1**2*sum).to('GeV cm-2 s-1'), '-', label='Total volume of two subclumps')\n",
    "#plt.loglog(e2, (e2**2*s2).to('GeV cm-2 s-1'), '-', label='Total volume')\n",
    "\n",
    "plt.xlabel('Energy (GeV)')\n",
    "plt.ylabel('Flux ($GeV/cm^2/s$)')\n",
    "plt.legend()\n"
   ]
  },
  {
   "cell_type": "code",
   "execution_count": null,
   "metadata": {},
   "outputs": [],
   "source": [
    "print(energy)"
   ]
  },
  {
   "cell_type": "code",
   "execution_count": null,
   "metadata": {},
   "outputs": [],
   "source": [
    "r1, p1 = clust.get_pressure_gas_profile()\n",
    "\n",
    "plt.figure(0,figsize=(10,8))\n",
    "plt.loglog(r1,p1, '.', label = 'Pressure profile')\n",
    "plt.xlabel('Radius, kpc')\n",
    "plt.ylabel('Pressure, keV/cm^3')\n",
    "plt.legend()"
   ]
  },
  {
   "cell_type": "code",
   "execution_count": null,
   "metadata": {},
   "outputs": [],
   "source": [
    "r = [15, 45, 75, 105, 135, 165]\n",
    "P = [14e-3, 9.26e-3, 5.6e-3, 6.14e-3, 3.75e-3, 2.6e-3]\n",
    "r1, p1 = clust.get_pressure_gas_profile()\n",
    "\n",
    "\n",
    "plt.figure(0,figsize=(10,8))\n",
    "plt.loglog(r1,p1, '-', label = 'Pressure profile MINOT')\n",
    "plt.loglog(r,P, '-', label = 'Pressure profile Tiwari')\n",
    "plt.xlabel('Radius, kpc')\n",
    "plt.ylabel('Pressure, keV/cm^3')\n",
    "plt.gca().set_ylim(bottom= 1e-3)\n",
    "plt.gca().set_xlim(left= 10)\n",
    "plt.legend()\n"
   ]
  },
  {
   "cell_type": "code",
   "execution_count": null,
   "metadata": {},
   "outputs": [],
   "source": [
    "clust.plot().__dir__()"
   ]
  },
  {
   "cell_type": "code",
   "execution_count": null,
   "metadata": {},
   "outputs": [],
   "source": [
    "clust.print_param()"
   ]
  },
  {
   "cell_type": "code",
   "execution_count": null,
   "metadata": {},
   "outputs": [],
   "source": [
    "cosmo"
   ]
  },
  {
   "cell_type": "code",
   "execution_count": null,
   "metadata": {},
   "outputs": [],
   "source": [
    "def plot_Fermi_sens():\n",
    "\n",
    "    #Fermi\n",
    "    bins_lo = [5e-5, 7e-5, 2e-4, 4e-4, 6e-4, 1.5e-3, 2e-3, 4e-3, 8e-3,5e-2] #in TeV\n",
    "    bins_hi = [7e-5, 2e-4, 4e-4, 6e-4, 1.5e-3, 2e-3, 4e-3, 8e-3,5e-2,0.1] #in TeV\n",
    "    data = [6e-12, 3e-12, 1e-12, 8e-13, 6.5e-13, 3.75e-13, 3e-13, 3.5e-13, 5e-13, 2e-12] # S (erg / cm^2 / s)\n",
    "    data_GeV = [i * 624.15064799632 for i in data]\n",
    "    mid_point = [np.exp((np.log(i)+np.log(j))/2) * 1000 for i, j in zip(bins_lo, bins_hi)]\n",
    "\n",
    "\n",
    "    plt.loglog(mid_point, data_GeV, color='k', ls='-.', lw='2', alpha=0.5)\n",
    "    plt.show()\n",
    "\n",
    "plot_Fermi_sens()"
   ]
  },
  {
   "cell_type": "code",
   "execution_count": null,
   "metadata": {},
   "outputs": [],
   "source": []
  }
 ],
 "metadata": {
  "kernelspec": {
   "display_name": "Python 3",
   "language": "python",
   "name": "python3"
  },
  "language_info": {
   "codemirror_mode": {
    "name": "ipython",
    "version": 3
   },
   "file_extension": ".py",
   "mimetype": "text/x-python",
   "name": "python",
   "nbconvert_exporter": "python",
   "pygments_lexer": "ipython3",
   "version": "3.7.1"
  }
 },
 "nbformat": 4,
 "nbformat_minor": 4
}
