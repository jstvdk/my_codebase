{
 "cells": [
  {
   "cell_type": "code",
   "execution_count": null,
   "id": "0",
   "metadata": {},
   "outputs": [],
   "source": [
    "import numpy\n",
    "from scipy import interpolate\n",
    "import math"
   ]
  },
  {
   "cell_type": "code",
   "execution_count": null,
   "id": "1",
   "metadata": {},
   "outputs": [],
   "source": [
    "def air_density(T, RH, P):\n",
    "    \"\"\"\n",
    "    Input parameters:\n",
    "    -----------\n",
    "    T - temperature [K]\n",
    "    RH - relative humidity\n",
    "    P - air pressure [Pa]\n",
    "    -----------\n",
    "    \n",
    "    Calculation parameters:\n",
    "    -----------\n",
    "    P_d - partial pressure of dry air [Pa]\n",
    "    P_v - water vapour partial pressure [Pa]\n",
    "    R_d - specific gas constant for dry air [J / (kg K)]\n",
    "    R_v - specific gas constant for vapor air [J / (kg K)]\n",
    "    poly - approximating polynomial suggested by Herman Wobus\n",
    "    E_s - saturated vapour pressure [mb] = 100 * [Pa]\n",
    "    c - coefficients of approximation polynomial\n",
    "    T_c - temperature in Celsius\n",
    "    -----------\n",
    "    \n",
    "    Output:\n",
    "    ----------\n",
    "    rho - density of air considering humidity [kg / m^3]\n",
    "    ----------\n",
    "    \"\"\"\n",
    "    c = [0.99999683, -0.90826951e-2, 0.78736169e-4, -0.61117958e-6, 0.43884187e-8, -0.29883885e-10,\n",
    "         0.21874425e-12, -0.17892321e-14, 0.11112018e-16, -0.30994571e-19]\n",
    "    T_c = T - 273\n",
    "    poly = c[0] + T_c*(c[1] + T_c*(c[2] + T_c*(c[3] + T_c*(c[4] + T_c*(c[5] + T_c*(c[6] + T_c*(c[7] + T_c*(c[8] + T_c*c[9]))))))))\n",
    "    E_s = (6.1078 / (poly**8))\n",
    "    P_v = (RH * E_s)\n",
    "    P_d = P - P_v\n",
    "    R_d = 287.05 \n",
    "    R_v = 461.495\n",
    "    rho = P_d / (R_d * T) + P_v / (R_v * T)\n",
    "    return rho"
   ]
  },
  {
   "cell_type": "code",
   "execution_count": null,
   "id": "2",
   "metadata": {},
   "outputs": [],
   "source": [
    "#1.2043760825259742\n",
    "air_density(293, 40, 101325)"
   ]
  },
  {
   "cell_type": "code",
   "execution_count": null,
   "id": "3",
   "metadata": {},
   "outputs": [],
   "source": [
    "help(air_density)"
   ]
  },
  {
   "cell_type": "code",
   "execution_count": null,
   "id": "4",
   "metadata": {},
   "outputs": [],
   "source": [
    "sound_speed = 343\n",
    "\n",
    "dia = 7.62 / 1000\n",
    "frontal_area = math.pi * (dia / 2) ** 2\n",
    "\n",
    "air_density = 1.19952\n",
    "air_density_2 = 1.20437\n",
    "\n",
    "g7_speed_points = [0.8, 1, 1.5, 2, 5]\n",
    "g7_drag_points = [0.12, 0.4, 0.35, 0.3, 0.18]\n",
    "g7_drag_fn = interpolate.interp1d(\n",
    "    g7_speed_points,\n",
    "    g7_drag_points,\n",
    "    kind=\"linear\",\n",
    "    fill_value=(g7_drag_points[0], g7_drag_points[-1]),\n",
    "    bounds_error=False,\n",
    ")\n",
    "\n",
    "def air_drag_force(velocity):\n",
    "    F = 0.5 * air_density * frontal_area * (velocity**2) * g7_drag_fn(velocity / sound_speed)\n",
    "    return F\n",
    "\n",
    "def air_drag_force_2(velocity):\n",
    "    F = 0.5 * air_density_2 * frontal_area * (velocity**2) * g7_drag_fn(velocity / sound_speed)\n",
    "    return F\n",
    "\n",
    "velocity = 400\n",
    "print(air_drag_force(velocity)-air_drag_force_2(velocity))\n",
    "print(\"true\", air_drag_force(velocity))\n",
    "print(\"calc\", air_drag_force_2(velocity))\n"
   ]
  },
  {
   "cell_type": "code",
   "execution_count": null,
   "id": "5",
   "metadata": {},
   "outputs": [],
   "source": [
    "0.006/0.0553"
   ]
  },
  {
   "cell_type": "code",
   "execution_count": null,
   "id": "6",
   "metadata": {},
   "outputs": [],
   "source": []
  }
 ],
 "metadata": {
  "kernelspec": {
   "display_name": "Python 3 (ipykernel)",
   "language": "python",
   "name": "python3"
  },
  "language_info": {
   "codemirror_mode": {
    "name": "ipython",
    "version": 3
   },
   "file_extension": ".py",
   "mimetype": "text/x-python",
   "name": "python",
   "nbconvert_exporter": "python",
   "pygments_lexer": "ipython3",
   "version": "3.8.13"
  }
 },
 "nbformat": 4,
 "nbformat_minor": 5
}
