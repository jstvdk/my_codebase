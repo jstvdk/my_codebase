{
 "cells": [
  {
   "cell_type": "code",
   "execution_count": null,
   "id": "0",
   "metadata": {},
   "outputs": [],
   "source": [
    "from matplotlib.colors import SymLogNorm\n",
    "import matplotlib\n",
    "import matplotlib.pyplot as plt\n",
    "import numpy as np\n",
    "from astropy.coordinates.sky_coordinate import SkyCoord\n",
    "import astropy.units as u\n",
    "from astropy.cosmology import Planck15 as cosmo\n",
    "from astropy.cosmology import FlatLambdaCDM\n",
    "cosmo = FlatLambdaCDM(H0=70, Om0=0.3, Tcmb0=2.725, Ob0 = 0.0486, m_nu = [0, 0, 0.06] * u.eV)\n",
    "from astropy.wcs import WCS\n",
    "from minot import model, model_plots\n",
    "from astropy import constants as const\n",
    "from astropy.wcs import WCS\n",
    "\n",
    "# Modify plotting parameters\n",
    "dict_base = {'font.size':        16,\n",
    "             'legend.fontsize':  16,\n",
    "             'xtick.labelsize':  16,\n",
    "             'ytick.labelsize':  16,\n",
    "             'axes.labelsize':   16,\n",
    "             'axes.titlesize':   16,\n",
    "             'figure.titlesize': 16,    \n",
    "             'figure.figsize':[8.0, 6.0],\n",
    "             'figure.subplot.right':0.97,\n",
    "             'figure.subplot.left':0.15,\n",
    "             'font.family':'serif',\n",
    "             'figure.facecolor': 'white',\n",
    "             'legend.frameon': True}\n",
    "plt.rcParams.update(dict_base)"
   ]
  },
  {
   "cell_type": "code",
   "execution_count": null,
   "id": "1",
   "metadata": {},
   "outputs": [],
   "source": [
    "clust = model.Cluster(name='A3558', redshift=0.048, M500=671000000000000.0*u.Msun, \n",
    "                        cosmology=cosmo, silent=False,\n",
    "                        output_dir='~/A3558')"
   ]
  },
  {
   "cell_type": "code",
   "execution_count": null,
   "id": "2",
   "metadata": {},
   "outputs": [],
   "source": [
    "#----- Some parameters that can be set at when defining the cluster\n",
    "clust.coord = SkyCoord(\"201.97d -31.49d\", frame=\"icrs\", unit=\"deg\")\n",
    "\n",
    "#----- Define the relevant ICM model (available models are defined in model_modpar.py)\n",
    "\n",
    "# Density profile of the target thermal gas\n",
    "clust.density_gas_model = {'name':'beta', 'n_0':0.46e-2*u.cm**-3, 'beta':0.58, 'r_c':223*u.kpc}\n",
    "\n",
    "# Pressure profile of the target thermal gas\n",
    "#clust.pressure_gas_model = {'name':'GNFW', 'P_0':2.2e-2*u.keV/u.cm**3, 'c500':3.2, 'a':1.5, 'b':3.1, 'c':0.0}\n",
    "\n",
    "#Exact from Planck 13\n",
    "clust.pressure_gas_model = {'name':'GNFW', 'P_0':(6.04*0.0030143804978998274)*u.keV/u.cm**3, 'c500':1.77, 'a':1.12, 'b':3.58, 'c':0.31}\n",
    "\n",
    "#Gong 20\n",
    "#clust.pressure_gas_model = {'name':'GNFW', 'P_0':2.99e-2*u.keV/u.cm**3, 'c500':1.16, 'a':2.66, 'b':5.48, 'c':0.3}\n",
    "\n",
    "#Plank Coma Universal test\n",
    "#clust.pressure_gas_model = {'name':'GNFW', 'P_0':2.57e-2*u.keV/u.cm**3, 'c500':1.17, 'a':1.05, 'b':5.49, 'c':0.3}\n",
    "\n",
    "# Set the cosmic ray density profile to the same shape as the thermal gas density\n",
    "clust.set_density_crp_isodens_scal_param()\n",
    "\n",
    "# Cosmic ray proton spectrum\n",
    "clust.spectrum_crp_model = {'name':'PowerLaw', 'Index':2.2}\n",
    "\n",
    "# Cosmic ray proton normalization\n",
    "clust.X_crp_E = {'X':0.05, 'R_norm':clust.R500} # X is the CRp/thermal energy ratio, normalized within R_norm\n",
    "\n",
    "#Set magnetic field profile\n",
    "clust.set_magfield_isodens_scal_param(5*u.uG, scal=0.5)"
   ]
  },
  {
   "cell_type": "code",
   "execution_count": null,
   "id": "3",
   "metadata": {},
   "outputs": [],
   "source": [
    "# Defines the grid\n",
    "clust.map_reso = 0.01*u.deg\n",
    "clust.map_fov = 5.0*u.deg\n",
    "\n",
    "# The center of the map can be offset wrt the cluster\n",
    "clust.map_coord = SkyCoord(\"201.97d -31.49d\", frame=\"icrs\", unit=\"deg\")\n",
    "\n",
    "# Get the corresponding header\n",
    "header = clust.get_map_header()"
   ]
  },
  {
   "cell_type": "code",
   "execution_count": null,
   "id": "4",
   "metadata": {},
   "outputs": [],
   "source": [
    "template = clust.get_gamma_map(Emin=None, Emax=None, \n",
    "                               Energy_density=False, \n",
    "                               Normalize=True) # The map is normalized to the total flux, to be in unit of sr-1"
   ]
  },
  {
   "cell_type": "code",
   "execution_count": null,
   "id": "5",
   "metadata": {},
   "outputs": [],
   "source": [
    "rad500 = clust.theta500.to_value('deg')\n",
    "radtru = clust.theta_truncation.to_value('deg')\n",
    "\n",
    "fig = plt.figure(figsize=(10, 8))\n",
    "ax = plt.subplot(111, projection=WCS(header))\n",
    "plt.imshow(template, vmin=0, origin='lower', cmap='magma', norm=SymLogNorm(1))\n",
    "\n",
    "# Show R500\n",
    "circle500 = matplotlib.patches.Ellipse((clust.coord.ra.value, clust.coord.dec.value),\n",
    "                                        2*rad500/np.cos(clust.coord.dec.value*np.pi/180), 2*rad500,\n",
    "                                        linewidth=2, fill=False, zorder=2,\n",
    "                                        edgecolor='green', linestyle='dashed',facecolor='none',\n",
    "                                        transform=ax.get_transform('fk5'))\n",
    "# Show R_truncation\n",
    "circletru = matplotlib.patches.Ellipse((clust.coord.ra.value, clust.coord.dec.value),\n",
    "                                        2*radtru/np.cos(clust.coord.dec.value*np.pi/180), 2*radtru,\n",
    "                                        linewidth=1, fill=False, zorder=2,\n",
    "                                        edgecolor='green', linestyle='dashed',facecolor='none',\n",
    "                                        transform=ax.get_transform('fk5'))\n",
    "ax.add_patch(circle500)\n",
    "ax.add_patch(circletru)\n",
    "plt.colorbar()\n",
    "plt.title(clust.name+', gamma template ($sr^{-1}$)')"
   ]
  },
  {
   "cell_type": "code",
   "execution_count": null,
   "id": "6",
   "metadata": {},
   "outputs": [],
   "source": []
  }
 ],
 "metadata": {
  "kernelspec": {
   "display_name": "Python 3",
   "language": "python",
   "name": "python3"
  },
  "language_info": {
   "codemirror_mode": {
    "name": "ipython",
    "version": 3
   },
   "file_extension": ".py",
   "mimetype": "text/x-python",
   "name": "python",
   "nbconvert_exporter": "python",
   "pygments_lexer": "ipython3",
   "version": "3.7.1"
  }
 },
 "nbformat": 4,
 "nbformat_minor": 5
}
