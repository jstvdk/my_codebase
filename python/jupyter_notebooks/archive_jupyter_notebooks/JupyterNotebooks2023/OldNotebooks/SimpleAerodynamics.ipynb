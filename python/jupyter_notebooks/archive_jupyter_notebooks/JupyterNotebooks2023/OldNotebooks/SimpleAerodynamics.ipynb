{
 "cells": [
  {
   "cell_type": "code",
   "execution_count": null,
   "id": "0",
   "metadata": {},
   "outputs": [],
   "source": [
    "import numpy\n",
    "import scipy as sc\n",
    "import math\n",
    "\n",
    "rho = 1.23"
   ]
  },
  {
   "cell_type": "code",
   "execution_count": null,
   "id": "1",
   "metadata": {},
   "outputs": [],
   "source": [
    "vec = [0.81542794, 0.57822864, 0.02699844]\n",
    "orientation = [[7.28603313e-01,-0.00308553,0.68492897],[-1.01959217e-05,0.9999898,0.00451569],[-6.84935919e-01, -0.00329713,0.72859585]]\n",
    "orientation = np.array(orientation)\n",
    "result = numpy.dot(vec, orientation)\n",
    "result"
   ]
  },
  {
   "cell_type": "code",
   "execution_count": null,
   "id": "2",
   "metadata": {},
   "outputs": [],
   "source": [
    "orientation_column_1 = [orientation[0,0],orientation[1,0],orientation[2,0]]\n",
    "numpy.dot(vec,orientation_column_1)"
   ]
  },
  {
   "cell_type": "code",
   "execution_count": null,
   "id": "3",
   "metadata": {},
   "outputs": [],
   "source": [
    "def fin_lift(alpha, wing_area, vel):\n",
    "    wing_area = wing_area * 10**-4\n",
    "    if alpha < 20:\n",
    "        return 2 * math.pi * np.radians(alpha) * wing_area * rho * vel**2 / 2\n",
    "    if alpha >= 20:\n",
    "        return (2 * math.pi * np.radians(20) * wing_area * rho * vel**2 / 2) - (2 * math.pi * np.radians(alpha-20) * wing_area * rho * vel**2 / 2)\n",
    "    \n",
    "def body_roll_lift():\n",
    "    pass\n",
    "\n",
    "def body_yaw_lift(beta, vel):\n",
    "    pass\n",
    "\n",
    "def body_pitch_lift(alpha, vel):\n",
    "    pass\n",
    "\n",
    "def fin_drag(alpha, wing_area, vel):\n",
    "    wing_area = wing_area * 10**-4\n",
    "    return np.sin(np.radians(alpha)) * wing_area * rho * vel**2 / 2\n",
    "\n",
    "def body_roll_drag():\n",
    "    pass\n",
    "\n",
    "def body_yaw_drag(beta, face_diam, tube_length, vel):\n",
    "    A_side = np.sin(np.radians(beta)) * math.pi * (face_diam/2)**2 * tube_length\n",
    "    A_cross = math.pi * (face_diam/2 * np.sin(np.radians(beta)))**2\n",
    "    A_ref = A_side + A_cross\n",
    "    Cd = 0 # read from table\n",
    "    return A_ref * Cd * rho * vel**2 / 2\n",
    "\n",
    "def body_pitch_drag(alpha, body_cross, vel):\n",
    "    A_ref = np.sin(np.radians(alpha)) * body_cross\n",
    "    Cd = 0.7 # read from table\n",
    "    return A_ref * Cd * rho * vel**2 / 2"
   ]
  },
  {
   "cell_type": "code",
   "execution_count": null,
   "id": "4",
   "metadata": {},
   "outputs": [],
   "source": [
    "body_yaw_drag(0, 0.38, 1.5, 300)"
   ]
  },
  {
   "cell_type": "code",
   "execution_count": null,
   "id": "5",
   "metadata": {},
   "outputs": [],
   "source": [
    "Coeff_arr = np.array([[-6.489, 2.199, 2.199, 0.884, 0.884], [-5.036, 165.467, 165.467, 52.236, 52.236], [0.126, 0.1365, 0.1365, 0.283, 0.283], [2.456, -17.904, -17.904, -0.458, -0.458],[-0.063, -0.5075, -0.5075, -1.008, -1.008]])\n",
    "Coeff_arr[0][1]"
   ]
  },
  {
   "cell_type": "code",
   "execution_count": null,
   "id": "6",
   "metadata": {},
   "outputs": [],
   "source": [
    "for i in Coeff_arr:\n",
    "    print(i[0][1])"
   ]
  },
  {
   "cell_type": "code",
   "execution_count": null,
   "id": "7",
   "metadata": {},
   "outputs": [],
   "source": [
    "def linear_approx(alpha, beta, theta1, theta2):\n",
    "    F_arr = [310.74]\n",
    "    Coeff_arr = [[-6.489, 2.199, 2.199, 0.884, 0.884],\n",
    "                 [-5.036, 165.467, 165.467, 52.236, 52.236],\n",
    "                 [0.126, 0.1365, 0.1365, 0.283, 0.283],\n",
    "                 [2.456, -17.904, -17.904, -0.458, -0.458],\n",
    "                 [-0.063, -0.5075, -0.5075, -1.008, -1.008]]\n",
    "    for i in Coeff_arr:\n",
    "        print(\"i = \", i)\n",
    "        F_arr.append(i[0] + i[1]*alpha + i[2]*alpha + i[3]*theta1 + i[4]*theta2)\n",
    "    return F_arr\n",
    "    \n",
    "    \n",
    "\n",
    "\n",
    "linear_approx(-5,2,2,2)"
   ]
  },
  {
   "cell_type": "code",
   "execution_count": null,
   "id": "8",
   "metadata": {},
   "outputs": [],
   "source": [
    "np.degrees(0.56)"
   ]
  },
  {
   "cell_type": "code",
   "execution_count": null,
   "id": "9",
   "metadata": {},
   "outputs": [],
   "source": [
    "orientation = np.array([[1, 2, 3], [4,5,6], [7,8,9]]).reshape(3,3)"
   ]
  },
  {
   "cell_type": "code",
   "execution_count": null,
   "id": "10",
   "metadata": {},
   "outputs": [],
   "source": [
    "orientation[:,0]"
   ]
  },
  {
   "cell_type": "code",
   "execution_count": null,
   "id": "11",
   "metadata": {},
   "outputs": [],
   "source": [
    "def forceLinear(alpha, beta, theta1 = 0, theta2 = 0):\n",
    "    F_arr = [310.74]\n",
    "    Coeff_arr = [[-6.489, 2.199, 165.467, 0.701, 35.061],\n",
    "                 [-5.036, 165.467, -2.199, 35.061, -0.701],\n",
    "                 [0.126, 0.1365, 0.1365, -0.047, -0.047],\n",
    "                 [2.456, -17.904, -0.5075, 2.4425, 0.895],\n",
    "                 [-0.063, -0.5075, 17.904, -0.895, -2.442]]\n",
    "    for i in Coeff_arr:\n",
    "        #print(\"COEFF ARR i =\", i)\n",
    "        F_arr.append(i[0] + i[1]*alpha + i[2]*beta + i[3]*theta1 + i[4]*theta2)\n",
    "    return F_arr"
   ]
  },
  {
   "cell_type": "code",
   "execution_count": null,
   "id": "12",
   "metadata": {},
   "outputs": [],
   "source": [
    "forceLinear(2,0)"
   ]
  },
  {
   "cell_type": "code",
   "execution_count": null,
   "id": "13",
   "metadata": {},
   "outputs": [],
   "source": [
    "f = open(\"test.txt\", \"a\")\n",
    "\n",
    "for i in range(10):\n",
    "    f.write(str(i) + '\\n')\n",
    "f.close()\n"
   ]
  },
  {
   "cell_type": "code",
   "execution_count": null,
   "id": "14",
   "metadata": {},
   "outputs": [],
   "source": [
    "a = [1,2,3,4,5]\n",
    "a[3:]"
   ]
  },
  {
   "cell_type": "code",
   "execution_count": null,
   "id": "15",
   "metadata": {},
   "outputs": [],
   "source": [
    "k = 1.456784"
   ]
  },
  {
   "cell_type": "code",
   "execution_count": null,
   "id": "16",
   "metadata": {},
   "outputs": [],
   "source": [
    "kk = '{:.2f}'.format(k)"
   ]
  },
  {
   "cell_type": "code",
   "execution_count": null,
   "id": "17",
   "metadata": {},
   "outputs": [],
   "source": [
    "type(kk)"
   ]
  },
  {
   "cell_type": "code",
   "execution_count": null,
   "id": "18",
   "metadata": {},
   "outputs": [],
   "source": []
  }
 ],
 "metadata": {
  "kernelspec": {
   "display_name": "Python 3 (ipykernel)",
   "language": "python",
   "name": "python3"
  },
  "language_info": {
   "codemirror_mode": {
    "name": "ipython",
    "version": 3
   },
   "file_extension": ".py",
   "mimetype": "text/x-python",
   "name": "python",
   "nbconvert_exporter": "python",
   "pygments_lexer": "ipython3",
   "version": "3.10.10"
  }
 },
 "nbformat": 4,
 "nbformat_minor": 5
}
