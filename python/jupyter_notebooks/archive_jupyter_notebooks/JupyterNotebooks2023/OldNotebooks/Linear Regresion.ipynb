{
 "cells": [
  {
   "cell_type": "code",
   "execution_count": null,
   "metadata": {},
   "outputs": [],
   "source": [
    "import numpy as np\n",
    "import matplotlib.pyplot as plt"
   ]
  },
  {
   "cell_type": "code",
   "execution_count": null,
   "metadata": {},
   "outputs": [],
   "source": [
    "cd MachineLearning/machine-learning-ex1/ex1/\n"
   ]
  },
  {
   "cell_type": "code",
   "execution_count": null,
   "metadata": {},
   "outputs": [],
   "source": [
    "data = np.loadtxt('ex1data1_space.txt')"
   ]
  },
  {
   "cell_type": "code",
   "execution_count": null,
   "metadata": {},
   "outputs": [],
   "source": [
    "data[0,:].size"
   ]
  },
  {
   "cell_type": "code",
   "execution_count": null,
   "metadata": {},
   "outputs": [],
   "source": [
    "data = np.loadtxt('ex1data1_space.txt')\n",
    "ones = np.ones((data[:,1].size,1))\n",
    "stacked = np.hstack((ones,data))\n",
    "stacked[:,]"
   ]
  },
  {
   "cell_type": "code",
   "execution_count": null,
   "metadata": {},
   "outputs": [],
   "source": [
    "def feature_scaling(features):\n",
    "    norm_features = features\n",
    "    features_size = features[0,:].size\n",
    "    mu = np.zeros((features_num,1))\n",
    "    sigma = np.zeros((features_num,1))\n",
    "    for i in range(features_size):\n",
    "        mu[i] = np.mean(features[:,i])\n",
    "        sigma[i] = np.std(features[:,i])\n",
    "        norm_features[:,i] = (features[:,i] - mu[i])/sigma[i]\n",
    "    return norm_features\n",
    "\n",
    "def gradient_descent(features, labels, theta, alpha, num_iter):\n",
    "    for i in range(num_iter):\n",
    "        # computing parameters by gradient descent\n",
    "        theta = theta - (alpha/example_num) * np.dot((np.dot(features,theta)-labels).transpose(),features).transpose()\n",
    "    return theta\n",
    "\n",
    "data = np.loadtxt('ex1data1_space.txt')\n",
    "\n",
    "example_num = data[:,1].size # number of training examples\n",
    "features_num = data[0,:].size-1 # number of features\n",
    "\n",
    "features = data[:,0:-1] # array with features\n",
    "labels = data[:,features_num:stacked_data[0,:].size] # array with labels\n",
    "theta = np.ones((features_num+1,1)) # array with regresion parameters\n",
    "\n",
    "features = feature_scaling(features) # normalization and scaling of features\n",
    "\n",
    "features = np.hstack((np.ones((data[:,1].size,1)),features)) # data with extra feature column = 1\n",
    "\n",
    "#print(\"features = \", features)\n",
    "#print(\"labels = \", labels)\n",
    "#print(\"theta = \", theta)\n",
    "\n",
    "cost_func = (1/(2*example_num))*np.dot((np.dot(features,theta)-labels).transpose(),(np.dot(features,theta)-labels)) # cost function\n",
    "#print(\"Cost function =\", cost_func)  \n",
    "\n",
    "alpha = 0.01 # learning rate\n",
    "num_iter = 3000\n",
    "\n",
    "theta = gradient_descent(features, labels, theta, alpha, num_iter)\n",
    "\n",
    "plt.scatter(features[:,1],labels,marker = '.')\n",
    "plt.plot(features[:,1], np.dot(features,theta), color = 'red')"
   ]
  },
  {
   "cell_type": "code",
   "execution_count": null,
   "metadata": {},
   "outputs": [],
   "source": [
    "sorted(np.dot(features,theta))\n"
   ]
  },
  {
   "cell_type": "code",
   "execution_count": null,
   "metadata": {},
   "outputs": [],
   "source": [
    "theta = np.array(([1],[1]))\n",
    "test1 = np.array(([1],[1],[1]))\n",
    "test2 = np.array(([2],[2],[2]))\n",
    "test3 = np.array(([1, 2], [3, 4]))\n",
    "print(test3[:,0])\n",
    "print(np.mean(test3[:,0]))"
   ]
  },
  {
   "cell_type": "code",
   "execution_count": null,
   "metadata": {},
   "outputs": [],
   "source": [
    "a = [1,2,3,4]\n",
    "np.std(a)"
   ]
  }
 ],
 "metadata": {
  "kernelspec": {
   "display_name": "Python 3",
   "language": "python",
   "name": "python3"
  },
  "language_info": {
   "codemirror_mode": {
    "name": "ipython",
    "version": 3
   },
   "file_extension": ".py",
   "mimetype": "text/x-python",
   "name": "python",
   "nbconvert_exporter": "python",
   "pygments_lexer": "ipython3",
   "version": "3.6.9"
  }
 },
 "nbformat": 4,
 "nbformat_minor": 4
}
