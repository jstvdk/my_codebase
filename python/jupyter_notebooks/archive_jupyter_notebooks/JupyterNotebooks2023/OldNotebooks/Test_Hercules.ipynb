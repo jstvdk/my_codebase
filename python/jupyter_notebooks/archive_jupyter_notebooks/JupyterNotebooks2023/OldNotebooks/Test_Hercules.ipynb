{
 "cells": [
  {
   "cell_type": "code",
   "execution_count": null,
   "metadata": {},
   "outputs": [],
   "source": [
    "from matplotlib.colors import SymLogNorm\n",
    "import matplotlib\n",
    "import matplotlib.pyplot as plt\n",
    "import numpy as np\n",
    "from astropy.coordinates.sky_coordinate import SkyCoord\n",
    "import astropy.units as u\n",
    "from astropy.cosmology import Planck15 as cosmo\n",
    "from astropy.wcs import WCS\n",
    "from minot import model\n",
    "\n",
    "# Modify plotting parameters\n",
    "dict_base = {'font.size':        16,\n",
    "             'legend.fontsize':  16,\n",
    "             'xtick.labelsize':  16,\n",
    "             'ytick.labelsize':  16,\n",
    "             'axes.labelsize':   16,\n",
    "             'axes.titlesize':   16,\n",
    "             'figure.titlesize': 16,    \n",
    "             'figure.figsize':[8.0, 6.0],\n",
    "             'figure.subplot.right':0.97,\n",
    "             'figure.subplot.left':0.15,\n",
    "             'font.family':'serif',\n",
    "             'figure.facecolor': 'white',\n",
    "             'legend.frameon': True}\n",
    "plt.rcParams.update(dict_base)"
   ]
  },
  {
   "cell_type": "code",
   "execution_count": null,
   "metadata": {},
   "outputs": [],
   "source": [
    "clust = model.Cluster(name='A2151CB', \n",
    "                      redshift=0.0368, M500=14.32e13*u.Msun, \n",
    "                      cosmology=cosmo, silent=False, \n",
    "                      output_dir='/Users/vdk/Desktop/testA2151CB')\n",
    "\n",
    "clust_two = model.Cluster(name='A2199', \n",
    "                      redshift=0.0368, M500=0.9e13*u.Msun, \n",
    "                      cosmology=cosmo, silent=False, \n",
    "                      output_dir='/Users/vdk/Desktop/testA2151CF')\n",
    "\n",
    "def gNFW_normalization(redshift, M500, cosmo=cosmo):\n",
    "    \"\"\"\n",
    "    Compute a gNFW model electronic pressure normalization based on mass and redshift.\n",
    "    See Arnaud et al. A&A 517, A92 (2010). This does not account to the P0 \n",
    "    term, which should be multiplied to get the overall normalization.\n",
    "    Parameters\n",
    "    ----------\n",
    "    - redshift: redshift of the cluster\n",
    "    - M500 (Msun): the mass within R500 of the cluster \n",
    "    Outputs\n",
    "    --------\n",
    "    - Pnorm (keV/cm^-3): the electron pressure normalization\n",
    "    \"\"\"\n",
    "\n",
    "    E_z = cosmo.efunc(redshift)\n",
    "    h70 = cosmo.H0.value/70.0\n",
    "\n",
    "    F_M = (M500/3e14*h70)**0.12\n",
    "    P500 = 1.65e-3 * E_z**(8.0/3.0) * (M500/3e14*h70)**(2.0/3.0) * h70**2\n",
    "    \n",
    "    Pnorm = P500 * F_M\n",
    "    \n",
    "    return Pnorm"
   ]
  },
  {
   "cell_type": "code",
   "execution_count": null,
   "metadata": {},
   "outputs": [],
   "source": [
    "#----- Some parameters that can be set at when defining the cluster\n",
    "clust.coord = SkyCoord(\"241.14d  17.72d\", frame=\"icrs\", unit=\"deg\")\n",
    "\n",
    "#----- Define the relevant ICM model (available models are defined in model_modpar.py)\n",
    "\n",
    "# Density profile of the target thermal gas\n",
    "clust.density_gas_model = {'name':'beta', 'n_0':8.51e-3*u.cm**-3, 'beta':0.38, 'r_c':19.35*u.kpc}\n",
    "\n",
    "\n",
    "\n",
    "#UPP Planck P0 From Tiwari\n",
    "clust.pressure_gas_model = {'name':'GNFW', 'P_0':0.009*u.keV/u.cm**3, 'c500':1.81, 'a':1.24, 'b':4.13, 'c':0.31}\n",
    "\n",
    "\n",
    "\n",
    "# Set the cosmic ray density profile to the same shape as the thermal gas density\n",
    "clust.set_density_crp_isodens_scal_param()\n",
    "# Cosmic ray proton spectrum\n",
    "clust.spectrum_crp_model = {'name':'ExponentialCutoffPowerLaw', 'Index':2., 'CutoffEnergy':10e5*u.TeV}\n",
    "# Cosmic ray proton normalization\n",
    "clust.X_crp_E = {'X':0.1, 'R_norm':clust.R500} # X is the CRp/thermal energy ratio, normalized within R_norm\n",
    "#Set magnetic field profile\n",
    "clust.set_magfield_isodens_scal_param(5*u.uG, scal=0.5)\n",
    "clust.abundance = 0.43\n",
    "clust.Epmax = 10e6*u.TeV\n",
    "clust.Eemax = 10e6*u.TeV\n",
    "\n",
    "#__________________________________________________________________________________________________\n",
    "\n",
    "\n",
    "\n",
    "#----- Some parameters that can be set at when defining the cluster\n",
    "clust_two.coord = SkyCoord(\"241.28d  17.72d\", frame=\"icrs\", unit=\"deg\")\n",
    "\n",
    "#----- Define the relevant ICM model (available models are defined in model_modpar.py)\n",
    "\n",
    "# Density profile of the target thermal gas\n",
    "clust_two.density_gas_model = {'name':'beta', 'n_0':3.87e-3*u.cm**-3, 'beta':0.28, 'r_c':10.43*u.kpc}\n",
    "\n",
    "\n",
    "\n",
    "\n",
    "\n",
    "# Set the cosmic ray density profile to the same shape as the thermal gas density\n",
    "clust_two.set_density_crp_isodens_scal_param()\n",
    "# Cosmic ray proton spectrum\n",
    "clust_two.spectrum_crp_model = {'name':'ExponentialCutoffPowerLaw', 'Index':2., 'CutoffEnergy':10e5*u.TeV}\n",
    "# Cosmic ray proton normalization\n",
    "clust_two.X_crp_E = {'X':0.05, 'R_norm':clust.R500} # X is the CRp/thermal energy ratio, normalized within R_norm\n",
    "#Set magnetic field profile\n",
    "clust_two.set_magfield_isodens_scal_param(5*u.uG, scal=0.5)\n",
    "clust_two.abundance = 0.13\n",
    "clust_two.Epmax = 10e6*u.TeV\n",
    "clust_two.Eemax = 10e6*u.TeV"
   ]
  },
  {
   "cell_type": "code",
   "execution_count": null,
   "metadata": {},
   "outputs": [],
   "source": [
    "energy = np.logspace(-1,5,100)*u.GeV\n",
    "e1, s1 = clust.get_gamma_spectrum(energy,Rmax=clust.R_truncation, type_integral='spherical')\n",
    "e2, s2 = clust_two.get_gamma_spectrum(energy,Rmax=clust.R_truncation, type_integral='spherical')\n",
    "\n",
    "# разом з СТА чутливістю\n",
    "plt.figure(0,figsize=(10,8))\n",
    "bins_lo = [0.02, 0.0316, 0.0501, 0.0794, 0.126, 0.2, 0.316, 0.501, 0.794, 1.26, 2, 3.16, 5.01, 7.94, 12.6, 20, 31.6, 50.1, 79.4, 126] # E_min (TeV)\n",
    "bins_hi = [0.0316, 0.0501, 0.0794, 0.126, 0.2, 0.316, 0.501, 0.794, 1.26, 2, 3.16, 5.01, 7.94, 12.6, 20, 31.6, 50.1, 79.4, 126, 200] # E_max (TeV)\n",
    "data = [2.37e-11, 8.35e-12, 2.02e-12, 9.41e-13, 5.37e-13, 3.58e-13, 2.43e-13, 1.76e-13, 1.35e-13, 1.24e-13, 1.1e-13,\n",
    "        1.21e-13, 1.44e-13, 2.06e-13, 3.2e-13, 5.1e-13, 7.97e-13, 1.2e-12, 1.93e-12, 3.92e-12] # S (erg / cm^2 / s)\n",
    "data_GeV = [i * 624.15064799632 for i in data]\n",
    "mid_point = [np.exp((np.log(i)+np.log(j))/2) * 1000 for i, j in zip(bins_lo, bins_hi)]\n",
    "plt.loglog(mid_point, data_GeV, color='k', ls='-.', lw='2', alpha=0.5, label = 'CTA North sensivity 50h')\n",
    "\n",
    "#LHAASO sensitivity\n",
    "bins_lo = [0.3, 0.6, 1, 2, 2.5, 3, 5, 8, 10, 20, 50, 100, 170, 300] # E_min (TeV)\n",
    "bins_hi = [0.6, 1, 2, 2.5, 3, 5, 8, 10, 20, 50, 100, 170, 300, 600] # E_max (TeV)\n",
    "data = [3e-9, 8e-10, 4e-10, 1e-10, 8e-11, 7e-11, 8e-11, 9e-11, 6e-11, 4e-11, 1.5e-11, 2e-11, 5e-11, 7e-11 ] # S (GeV/ cm^2 / s)\n",
    "mid_point = [np.exp((np.log(i)+np.log(j))/2) * 1000 for i, j in zip(bins_lo, bins_hi)]\n",
    "plt.loglog(mid_point, data, color='r', ls='-.', lw='2', alpha=0.5, label = 'LHAASO sensivity')\n",
    "\n",
    "\n",
    "sum = s1 + s2\n",
    "plt.gca().set_ylim(bottom= 1e-12)\n",
    "plt.gca().set_xlim(left= 1e-1)\n",
    "\n",
    "plt.loglog(e1, (e1**2*s1).to('GeV cm-2 s-1'), '-', label='Total volume A2151CB')\n",
    "plt.loglog(e1, (e1**2*sum).to('GeV cm-2 s-1'), '-', label='Total volume of two subclumps')\n",
    "plt.loglog(e2, (e2**2*s2).to('GeV cm-2 s-1'), '-', label='Total volume A2151CF')\n",
    "plt.xlabel('Energy (GeV)')\n",
    "plt.ylabel('Flux ($GeV/cm^2/s$)')\n",
    "plt.legend()"
   ]
  },
  {
   "cell_type": "code",
   "execution_count": null,
   "metadata": {},
   "outputs": [],
   "source": [
    "r = [15, 45, 75, 105, 135, 165]\n",
    "P = [14e-3, 9.26e-3, 5.6e-3, 6.14e-3, 3.75e-3, 2.6e-3]\n",
    "r1, p1 = clust.get_pressure_gas_profile()\n",
    "\n",
    "\n",
    "plt.figure(0,figsize=(10,8))\n",
    "plt.loglog(r1,p1, '-', label = 'Pressure profile MINOT')\n",
    "plt.loglog(r,P, '-', label = 'Pressure profile Tiwari')\n",
    "plt.xlabel('Radius, kpc')\n",
    "plt.ylabel('Pressure, keV/cm^3')\n",
    "plt.gca().set_ylim(bottom= 1e-3)\n",
    "plt.gca().set_xlim(left= 10)\n",
    "plt.legend()\n",
    "\n"
   ]
  },
  {
   "cell_type": "code",
   "execution_count": null,
   "metadata": {},
   "outputs": [],
   "source": [
    "0.0047 / gNFW_normalization(0.038, 14.32e13)"
   ]
  },
  {
   "cell_type": "code",
   "execution_count": null,
   "metadata": {},
   "outputs": [],
   "source": [
    "r = [15, 45, 75, 105, 135, 195]\n",
    "P = [14e-3, 9.26e-3, 5.6e-3, 6.14e-3, 3.75e-3, 2.6e-3]\n",
    "r1, p1 = clust.get_pressure_gas_profile()\n",
    "plt.figure(figsize = (12,9))\n",
    "ax = plt.subplot()\n",
    "ax.set_xscale(\"log\", nonposx='clip')\n",
    "ax.set_yscale(\"log\", nonposy='clip')\n",
    "ax.set(title='A2151CB')\n",
    "yer = [0.0011200000000000001, 0.0012964, 0.0008399999999999999, 0.001535, 0.0012, 0.000312 ]\n",
    "xer = [[15,15,15,15,15,35],[15,15,15,15,15,35]]\n",
    "ax.loglog(r1,p1, '-', label = 'Theoretical pressure profile MINOT')\n",
    "ax.errorbar(r, P, xerr=xer, yerr=yer, fmt = '.k', label = 'XMM-Newton data')\n",
    "\n",
    "# ylim must be set after errorbar to allow errorbar to autoscale limits\n",
    "ax.set_ylim(bottom= 1e-3)\n",
    "ax.set_xlim(left = 7)\n",
    "plt.xlabel('Radius, kpc')\n",
    "plt.ylabel('Pressure, keV/cm^3')\n",
    "plt.legend()\n",
    "#fig.tight_layout()\n",
    "\n",
    "plt.show()"
   ]
  },
  {
   "cell_type": "code",
   "execution_count": null,
   "metadata": {},
   "outputs": [],
   "source": [
    "P"
   ]
  },
  {
   "cell_type": "code",
   "execution_count": null,
   "metadata": {},
   "outputs": [],
   "source": [
    "0.0026*0.12"
   ]
  },
  {
   "cell_type": "code",
   "execution_count": null,
   "metadata": {},
   "outputs": [],
   "source": [
    "r = [15, 45, 75, 105, 135, 165]\n",
    "P = [14e-3, 9.26e-3, 5.6e-3, 6.14e-3, 3.75e-3, 2.6e-3]\n",
    "r1, p1 = clust.get_pressure_gas_profile()\n",
    "plt.figure(figsize = (12,9))\n",
    "ax = plt.subplot()\n",
    "ax.set_xscale(\"log\", nonposx='clip')\n",
    "ax.set_yscale(\"log\", nonposy='clip')\n",
    "ax.set(title='A2151CB')\n",
    "yer = [0.0011200000000000001, 0.0012964, 0.0008399999999999999, 0.001535, 0.0012, 0.000312 ]\n",
    "xer = [[15,15,15,15,15,15],[15,15,15,15,15,75]]\n",
    "\n",
    "ax.loglog(r1,p1, '-', c = 'r', label = 'Theoretical pressure profile MINOT')\n",
    "ax.errorbar(r, P, xerr=xer, yerr=yer, fmt = '.k', label = 'XMM-Newton data')\n",
    "\n",
    "# ylim must be set after errorbar to allow errorbar to autoscale limits\n",
    "ax.set_ylim(bottom= 1e-3)\n",
    "ax.set_xlim(left = 7, right = 10000)\n",
    "plt.xlabel('Radius, kpc')\n",
    "plt.ylabel('Pressure, keV/cm^3')\n",
    "plt.legend()\n",
    "#fig.tight_layout()\n",
    "\n",
    "plt.show()"
   ]
  },
  {
   "cell_type": "code",
   "execution_count": null,
   "metadata": {},
   "outputs": [],
   "source": [
    "clust.density_gas_model = {'name':'beta', 'n_0':10.5e-3*u.cm**-3, 'beta':0.32, 'r_c':19.35*u.kpc}\n",
    "#clust.density_gas_model = {'name':'doublebeta', 'n_01':10.5e-3*u.cm**-3, 'beta1':0.32, 'r_c1':11.35*u.kpc, \n",
    "#                                                'n_02':7.5e-3*u.cm**-3, 'beta2':0.32, 'r_c2':19.35*u.kpc}\n",
    "plt.figure(figsize = (12,9))\n",
    "rad, dens = clust.get_density_gas_profile()\n",
    "dens_XMM = [8.51e-3, 4.23e-3, 2.78e-3, 2.18e-3, 1.58e-3, 1.42e-3]\n",
    "rad_XMM = r\n",
    "ax1 = plt.subplot()\n",
    "ax1.set_xscale(\"log\", nonposx='clip')\n",
    "ax1.set_yscale(\"log\", nonposy='clip')\n",
    "ax1.set(title='A2151CB')\n",
    "yer = [0.24e-3, 0.11e-3, 0.08e-3, 0.08e-3, 0.08e-3, 0.03e-3 ]\n",
    "xer = [[15,15,15,15,15,15],[15,15,15,15,15,75]]\n",
    "ax1.errorbar(rad_XMM, dens_XMM, xerr=xer, yerr=yer, fmt = '.k', label = 'XMM-Newton data')\n",
    "ax1.loglog(rad,dens, '-', label = 'Pressure profile MINOT')\n",
    "\n",
    "ax1.set_ylim(bottom= 5e-4, top = 5e-2)\n",
    "ax1.set_xlim(left = 10, right = 5000)\n",
    "plt.xlabel('Radius, kpc')\n",
    "plt.ylabel('Density, 1/cm^3')\n",
    "plt.legend()\n",
    "plt.plot()"
   ]
  },
  {
   "cell_type": "code",
   "execution_count": null,
   "metadata": {},
   "outputs": [],
   "source": [
    "clust.print_param()"
   ]
  },
  {
   "cell_type": "code",
   "execution_count": null,
   "metadata": {},
   "outputs": [],
   "source": [
    "dens"
   ]
  },
  {
   "cell_type": "code",
   "execution_count": null,
   "metadata": {},
   "outputs": [],
   "source": [
    "clust.print_param()"
   ]
  },
  {
   "cell_type": "code",
   "execution_count": null,
   "metadata": {},
   "outputs": [],
   "source": [
    "clust_two.print_param()"
   ]
  },
  {
   "cell_type": "code",
   "execution_count": null,
   "metadata": {},
   "outputs": [],
   "source": [
    "cosmo.H"
   ]
  },
  {
   "cell_type": "code",
   "execution_count": null,
   "metadata": {},
   "outputs": [],
   "source": [
    "import astropy.cosmology\n",
    "import astropy.constants as cst\n",
    "import astropy.units as u\n",
    "from scipy.optimize import brentq\n",
    "import matplotlib.pyplot as plt\n",
    "\n",
    "#===================================================\n",
    "#========== get M_delta from R_delta\n",
    "#===================================================\n",
    "def Mdelta_to_Rdelta(M_delta, redshift, delta=500, cosmo=astropy.cosmology.Planck15):\n",
    "    \"\"\"\n",
    "    Compute a R_delta, delta being the overdensity wrt the local background\n",
    "    Parameters\n",
    "    ----------\n",
    "    - M_delta (Msun): array\n",
    "    Outputs\n",
    "    --------\n",
    "    - R_delta (kpc): array\n",
    "    \"\"\"\n",
    "    \n",
    "    # local density\n",
    "    rho = delta*3.0*cosmo.H(redshift)**2 / 8.0 / np.pi / cst.G\n",
    "\n",
    "    # Radius\n",
    "    R_delta = ((3.0*M_delta*u.Msun/4.0/np.pi/rho)**(1.0/3)).to_value('kpc')\n",
    "\n",
    "    return R_deltav"
   ]
  },
  {
   "cell_type": "code",
   "execution_count": null,
   "metadata": {},
   "outputs": [],
   "source": [
    "cst.G"
   ]
  },
  {
   "cell_type": "code",
   "execution_count": null,
   "metadata": {},
   "outputs": [],
   "source": []
  }
 ],
 "metadata": {
  "kernelspec": {
   "display_name": "Python 3",
   "language": "python",
   "name": "python3"
  },
  "language_info": {
   "codemirror_mode": {
    "name": "ipython",
    "version": 3
   },
   "file_extension": ".py",
   "mimetype": "text/x-python",
   "name": "python",
   "nbconvert_exporter": "python",
   "pygments_lexer": "ipython3",
   "version": "3.6.9"
  }
 },
 "nbformat": 4,
 "nbformat_minor": 4
}
