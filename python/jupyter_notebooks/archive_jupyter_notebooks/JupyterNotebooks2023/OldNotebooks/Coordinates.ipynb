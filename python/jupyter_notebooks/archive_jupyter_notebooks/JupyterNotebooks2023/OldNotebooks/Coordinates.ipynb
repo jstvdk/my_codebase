{
 "cells": [
  {
   "cell_type": "code",
   "execution_count": null,
   "metadata": {},
   "outputs": [],
   "source": [
    "import astropy.coordinates as coord\n",
    "import numpy as np\n",
    "from astropy import units as u\n",
    "from astropy.coordinates import SkyCoord\n",
    "from astropy.coordinates import Angle\n",
    "import matplotlib.pyplot as plt"
   ]
  },
  {
   "cell_type": "code",
   "execution_count": null,
   "metadata": {},
   "outputs": [],
   "source": [
    "a = Angle(149.7943, u.degree)\n",
    "b = Angle(-4.8083, u.degree)\n",
    "d = 54\n",
    "lon = a.radian\n",
    "lat = b.radian\n",
    "coord.spherical_to_cartesian(d,lat,lon)\n",
    "\n",
    "gc = SkyCoord(l=74.305*u.degree, b = 79.822*u.degree,frame='galactic')\n",
    "gc.transform_to('supergalactic')\n",
    "a = gc\n"
   ]
  },
  {
   "cell_type": "code",
   "execution_count": null,
   "metadata": {},
   "outputs": [],
   "source": [
    "coord_alpha = [83.61, 272.46, 276.40, 279.77, 280.72, 282.59, 286.91, 304.95, 307.74]\n",
    "coord_dec = [22.00, -19.34, -13.37, -5.71, -3.51, 0.14, 6.32, 36.78, 41.23]"
   ]
  },
  {
   "cell_type": "code",
   "execution_count": null,
   "metadata": {},
   "outputs": [],
   "source": [
    "galLon = []\n",
    "galLat = []\n",
    "for i,j in zip(coord_alpha, coord_dec):\n",
    "    galLon.append(SkyCoord(ra=i, dec=j,\n",
    "                     unit=(u.degree, u.degree)).galactic.l.value)\n",
    "    galLat.append(SkyCoord(ra=i, dec=j,\n",
    "                     unit=(u.degree, u.degree)).galactic.b.value)\n",
    "\n",
    " "
   ]
  },
  {
   "cell_type": "code",
   "execution_count": null,
   "metadata": {},
   "outputs": [],
   "source": [
    "print(galLon)\n",
    "print(galLat)"
   ]
  },
  {
   "cell_type": "code",
   "execution_count": null,
   "metadata": {},
   "outputs": [],
   "source": [
    "from __future__ import division\n",
    "import numpy as np\n",
    "import matplotlib.pyplot as plt\n",
    "from mpl_toolkits.basemap import Basemap\n",
    "from math import hypot\n",
    "\n",
    "\n",
    "def read_events(filename):\n",
    "    # Функція для читання з файлу нових положень КП та розмазування у випадковому маг. полі\n",
    "    file = open(filename, 'r')\n",
    "    l = []\n",
    "    b = []\n",
    "    theta = []\n",
    "    for line in file.readlines():\n",
    "        l.append(float(line.split()[1]))\n",
    "        b.append(float(line.split()[2]))\n",
    "        theta.append(float(line.split()[3]))\n",
    "    return np.array([l, b, theta])\n",
    "\n",
    "\n",
    "init_evs_l = np.array([ta_pao_new[i][1] for i in range(len(ta_pao_new))])  # Початкові полження КП: l\n",
    "init_evs_b = np.array([ta_pao_new[i][2] for i in range(len(ta_pao_new))])  # Початкові полження КП: b\n",
    "\n",
    "\n",
    "\n",
    "evs6 = read_events('z26_new_events_paoCalib_ta_fe.txt')  # Події і кути розмазування для z=26\n",
    "evsP = read_events('z1_new_events_paoCalib_ta_fe.txt')\n",
    "\n",
    "\n",
    "#_____________________________________\n",
    "def circle(alpha, l0, b0):\n",
    "    alpha = np.radians(alpha)\n",
    "    l0 = np.radians(l0)\n",
    "    b0 = np.radians(-(90 - b0))\n",
    "    t = np.linspace(0, 2 * np.pi, 400)\n",
    "    x = np.sin(alpha) * np.cos(b0) * np.cos(l0) * np.cos(t) + np.sin(alpha) * np.sin(l0) * np.sin(t) - np.cos(alpha) * np.sin(b0) * np.cos(l0)\n",
    "    y = -np.sin(alpha) * np.cos(b0) * np.sin(l0) * np.cos(t) + np.sin(alpha) * np.cos(l0) * np.sin(t) + np.cos(alpha) * np.sin(b0) * np.sin(l0)\n",
    "    z = np.sin(alpha) * np.sin(b0) * np.cos(t) + np.cos(alpha) * np.cos(b0)\n",
    "    l = -np.arctan2(y, x)\n",
    "    b = np.arcsin(z)\n",
    "    return [l * 180 / np.pi, b * 180 / np.pi]\n",
    "\n",
    "\n",
    "m = Basemap(projection='moll', lon_0=0, celestial=True, resolution='c')\n",
    "# draw parallels and meridians.\n",
    "m.drawparallels(np.arange(-90., 90., 15.), labels=[1, 0, 0, 0], color='k')\n",
    "m.drawmeridians(np.arange(0., 360., 30.))\n",
    "meridian = np.arange(0., 360., 30.)\n",
    "for i in np.arange(len(meridian)):\n",
    "    plt.annotate(np.str(meridian[i]) + '$^\\\\circ$', xy=m(meridian[i], 0), xycoords='data')\n",
    "\n",
    "\n",
    "l0, b0 = m(init_evs_l, init_evs_b)\n",
    "#m.scatter(l0, b0, s=20, c='k', marker='x', label='Registered cosmic ray events')\n",
    "\n",
    "\n",
    "evs6_l, evs6_b = m(evs6[0], evs6[1])\n",
    "#m.scatter(evs6_l[:], evs6_b[:], s=20, c='b', marker='o', label='Deflected cosmic rays')\n",
    "\n",
    "#для протонів коли разом з гелієм\n",
    "evsP_l, evsP_b = m(evsP[0], evsP[1])\n",
    "#m.scatter(evsP_l[:], evsP_b[:], s=20, c='b', marker='o', label='Deflected cosmic rays')\n",
    "\n",
    "\n",
    "for i in range(len(evs1[0])):\n",
    "    # __________Кола розмазування у випадковому гал полі для z=26__________\n",
    "    r = evs6[2][i]\n",
    "    res = circle(np.sqrt(r ** 2 + 30 ** 2), evs6[0][i], evs6[1][i]) # зсув 90 градусів вже враховано всередині функціїї\n",
    "                                                                    # circ(). підставляємо просто b а не 90-b\n",
    "    # Розбиваємо кожне коло на дві частини: 0 < l < 180 і l > 180\n",
    "    # для того, що не малювалися лінії, які з'єднують точки\n",
    "    # через всю карту\n",
    "    res_left = [[], []]\n",
    "    res_right = [[], []]\n",
    "    for i in range(len(res[0])):\n",
    "        if 0 < res[0][i] < 180:\n",
    "            res_left[0].append(res[0][i])\n",
    "            res_left[1].append(res[1][i])\n",
    "        else:\n",
    "            res_right[0].append(res[0][i])\n",
    "            res_right[1].append(res[1][i])\n",
    "    # Кожну з двох частин кола будемо малювати відрізками між двома сусідніми точками,\n",
    "    # за умови, що відстань між ними менше певної величини. Ця величина залежить від загальної кількості\n",
    "    # точок кола, яка задається всередині функції circle(): t = np.linspace(0, 2 * np.pi, 700) (коло має 700 точок)\n",
    "    for i in range(len(res_left[0]) - 1):\n",
    "        if hypot(res_left[0][i + 1] - res_left[0][i], res_left[1][i + 1] - res_left[1][i]) < 10:\n",
    "            x_l, y_l = m(res_left[0][i], res_left[1][i])\n",
    "            x_l2, y_l2 = m(res_left[0][i + 1], res_left[1][i + 1])\n",
    "            m.plot([x_l, x_l2], [y_l, y_l2], color='b', ls='-', lw=1, label='z=6 + extragal')\n",
    "    for i in range(len(res_right[0]) - 1):\n",
    "        if hypot(res_right[0][i + 1] - res_right[0][i], res_right[1][i + 1] - res_right[1][i]) < 10:\n",
    "            x_r, y_r = m(res_right[0][i], res_right[1][i])\n",
    "            x_r2, y_r2 = m(res_right[0][i + 1], res_right[1][i + 1])\n",
    "            m.plot([x_r, x_r2], [y_r, y_r2], color='b', ls='-', lw=1)\n",
    "\n",
    "\n",
    "# _________Додавання легенди до малюнка (з видалленям дублікатів однакових ліній)_________\n",
    "handles, labels = plt.gca().get_legend_handles_labels()\n",
    "newLabels, newHandles = [], []\n",
    "for handle, label in zip(handles, labels):\n",
    "    if label not in newLabels:\n",
    "        newLabels.append(label)\n",
    "        newHandles.append(handle)\n",
    "plt.legend(newHandles, newLabels, loc='upper right', prop={'size': 6})\n",
    "\n",
    "plt.tight_layout()\n",
    "\n",
    "plt.show()\n",
    "\n"
   ]
  },
  {
   "cell_type": "code",
   "execution_count": null,
   "metadata": {},
   "outputs": [],
   "source": [
    "def ang_len(x1,y1,x2,y2):\n",
    "    return ((x2-x1)**2 + (y2-y1)**2)**0.5"
   ]
  },
  {
   "cell_type": "code",
   "execution_count": null,
   "metadata": {},
   "outputs": [],
   "source": [
    "ang_len(3,3,4,4)"
   ]
  },
  {
   "cell_type": "code",
   "execution_count": null,
   "metadata": {},
   "outputs": [],
   "source": [
    "mag_lon = [9.99592, 10.72684, 15.35266, 23.34019, 23.24974, 27.38685, 33.57855, 43.02105, 57.24674, 6.91224, 9.7364, 15.03721, 29.56445, 72.32032, 29.71195]\n",
    "mag_lat = [-0.24194, -0.15839, -1.02095, 0.02042, -0.341, -0.00655, -0.04507, 0.76561, 0.81898, 0.06853, -0.26041, -0.25134, 0.10634, -0.10102, -0.24011]\n",
    "HAWC_lon = [184.55825082833528, 11.06789335428678, 18.115919005783056, 26.44354119763707, 28.83295780584482, 32.93364674684601, 40.40116997827228, 75.01677094008521, 79.90121001508535]\n",
    "HAWC_lat = [-5.81019557983303, 0.033042191208168724, -0.46012377048554015, 0.1352701905901796, 0.3005953936642766, 0.30366960293231876, -0.7040644056486725, 0.28326481716604796, 1.084356906171349]"
   ]
  },
  {
   "cell_type": "code",
   "execution_count": null,
   "metadata": {},
   "outputs": [],
   "source": [
    "len(mag_lon) == len(mag_lat)"
   ]
  },
  {
   "cell_type": "code",
   "execution_count": null,
   "metadata": {},
   "outputs": [],
   "source": [
    "table = [[0 for x in range(len(HAWC_lon))] for y in range(len(mag_lon))]\n",
    "x,y = 0,0\n",
    "for i,j in zip(HAWC_lon, HAWC_lat):\n",
    "    #print(\"i = \", i, \"j = \", j)\n",
    "    for l,b in zip(mag_lon, mag_lat):\n",
    "        #print(ang_len(i,j,l,b))"
   ]
  },
  {
   "cell_type": "code",
   "execution_count": null,
   "metadata": {},
   "outputs": [],
   "source": []
  },
  {
   "cell_type": "code",
   "execution_count": null,
   "metadata": {},
   "outputs": [],
   "source": []
  },
  {
   "cell_type": "code",
   "execution_count": null,
   "metadata": {},
   "outputs": [],
   "source": []
  },
  {
   "cell_type": "code",
   "execution_count": null,
   "metadata": {},
   "outputs": [],
   "source": []
  },
  {
   "cell_type": "code",
   "execution_count": null,
   "metadata": {},
   "outputs": [],
   "source": []
  },
  {
   "cell_type": "code",
   "execution_count": null,
   "metadata": {},
   "outputs": [],
   "source": []
  },
  {
   "cell_type": "code",
   "execution_count": null,
   "metadata": {},
   "outputs": [],
   "source": [
    "def extract_TA_events(ev_TA): # зчитування подій з файла, запис їх в 3 списки - енергія, довгота і широта, і формування результуючого списку списків\n",
    "    TA_events = []\n",
    "    file_w_events = open(ev_TA, 'r')  # open file with events\n",
    "    events_list = file_w_events.readlines()  # read all lines into list of strings\n",
    "    file_w_events.close()  # close events file\n",
    "    E = []\n",
    "    lon = []\n",
    "    lat = []\n",
    "    for i in events_list:\n",
    "        sep_list = i.split()\n",
    "        E.append(float(sep_list[0]))\n",
    "        lon.append(float(sep_list[1]))\n",
    "        lat.append(float(sep_list[2]))\n",
    "    TA_events.append(E)\n",
    "    TA_events.append(lon)\n",
    "    TA_events.append(lat)\n",
    "    return TA_events\n",
    "\n",
    "\n",
    "def extract_PAO_events(ev_PAO): # зчитування подій з файла, запис їх в 3 списки - енергія, довгота і широта, і формування результуючого списку списків\n",
    "    PAO_events = []\n",
    "    file_w_events = open(ev_PAO, 'r')  # open file with events\n",
    "    events_list = file_w_events.readlines()  # read all lines into list of strings\n",
    "    file_w_events.close()  # close events file\n",
    "    E = []\n",
    "    lon = []\n",
    "    lat = []\n",
    "    for i in events_list:\n",
    "        sep_list = i.split()\n",
    "        E.append(float(sep_list[3]))\n",
    "        lon.append(float(sep_list[6]))\n",
    "        lat.append(float(sep_list[7]))\n",
    "    PAO_events.append(E)\n",
    "    PAO_events.append(lon)\n",
    "    PAO_events.append(lat)\n",
    "    return PAO_events\n"
   ]
  },
  {
   "cell_type": "code",
   "execution_count": null,
   "metadata": {},
   "outputs": [],
   "source": [
    "ev_TA_file = 'TA_gal_events.txt' # файл з ТА подіями\n",
    "ev_PAO_file = 'PAO_events.txt'  # файл з Оже подіями\n",
    "PAO = extract_PAO_events(ev_PAO_file)\n",
    "print(PAO[0])"
   ]
  },
  {
   "cell_type": "code",
   "execution_count": null,
   "metadata": {},
   "outputs": [],
   "source": []
  },
  {
   "cell_type": "code",
   "execution_count": null,
   "metadata": {},
   "outputs": [],
   "source": []
  },
  {
   "cell_type": "code",
   "execution_count": null,
   "metadata": {},
   "outputs": [],
   "source": [
    "from Integral import test_data"
   ]
  },
  {
   "cell_type": "code",
   "execution_count": null,
   "metadata": {},
   "outputs": [],
   "source": [
    "neutrinos_file = open('Neutrino_data.txt')\n",
    "neutrinos_list = neutrinos_file.readlines()\n",
    "neutrinos_file.close()\n",
    "\n",
    "lon = []\n",
    "lat = []\n",
    "RA = []\n",
    "dec = []\n",
    "for i in neutrinos_list:\n",
    "        sep_list = i.split()\n",
    "        #E.append(float(sep_list[3]))\n",
    "        dec.append(float(sep_list[6]))\n",
    "        RA.append(float(sep_list[7]))\n",
    "        \n",
    "#for i in range(len(neutrinos_list)):\n",
    "#    print('_____________',i)\n",
    "#    print(RA[i])\n",
    "#    print(dec[i])\n",
    "        \n",
    "#print('RA = ', min(RA))\n",
    "#print('dec = ', min(dec))\n",
    "    \n",
    "#print(dec[2])\n",
    "#neutrinos_eq = [RA, dec]\n",
    "\n",
    "for i in range(len(dec)):\n",
    "   # print(i)\n",
    "    #print(dec[i])\n",
    "    #print(RA[i])\n",
    "    temp_coord = SkyCoord(RA[i], dec[i], frame='icrs', unit='deg') \n",
    "    lon.append(temp_coord.galactic.l.deg)\n",
    "    lat.append(temp_coord.galactic.b.deg)\n",
    "\n",
    "\n",
    "\n",
    "#print(neutrinos_eq[1][1])\n",
    "#print(neutrinos_eq[0][1])\n",
    "test_coord = SkyCoord(RA[0]*u.deg, dec[0]*u.deg, frame = 'icrs')\n",
    "\n",
    "print(test_coord.galactic.l.deg)\n",
    "print(test_coord.galactic.b.deg)\n",
    "#print(lon)\n",
    "#print(lat)\n",
    "\n",
    "neutrinos_gal = [lon, lat]\n",
    "print(neutrinos_gal[0][0],neutrinos_gal[1][0])\n"
   ]
  },
  {
   "cell_type": "code",
   "execution_count": null,
   "metadata": {},
   "outputs": [],
   "source": [
    "gal_cluster_data = open('Abels.txt')\n",
    "gal_cluster_list = gal_cluster_data.readlines()\n",
    "gal_cluster_data.close()\n",
    "\n",
    "lon = []\n",
    "lat = []\n",
    "for i in gal_cluster_list:\n",
    "        sep_list = i.split()\n",
    "        lon.append(float(sep_list[1]))\n",
    "        lat.append(float(sep_list[2]))\n",
    "\n",
    "gal_clusters = [lon, lat]"
   ]
  },
  {
   "cell_type": "code",
   "execution_count": null,
   "metadata": {},
   "outputs": [],
   "source": [
    "shapley_gal = SkyCoord(311.9*u.deg, 30.73*u.deg, frame='galactic')\n",
    "shapley_gal.transform_to('icrs')\n",
    "SLOAN_coord = SkyCoord(172.5*u.deg,25.5*u.deg, frame='icrs')\n",
    "BOSS_coord = SkyCoord(162*u.deg,51*u.deg, frame='icrs')\n",
    "BOSS_coord.transform_to('galactic')\n"
   ]
  },
  {
   "cell_type": "code",
   "execution_count": null,
   "metadata": {},
   "outputs": [],
   "source": [
    "# 135.5\n",
    "test_coord = SkyCoord(288.3*u.deg,0.34*u.deg, frame='icrs')\n",
    "test_coord.transform_to('galactic')"
   ]
  },
  {
   "cell_type": "code",
   "execution_count": null,
   "metadata": {},
   "outputs": [],
   "source": [
    "#101.4\n",
    "test_coord = SkyCoord(285.74*u.deg,-1.69*u.deg, frame='icrs')\n",
    "test_coord.transform_to('galactic')"
   ]
  },
  {
   "cell_type": "code",
   "execution_count": null,
   "metadata": {},
   "outputs": [],
   "source": []
  }
 ],
 "metadata": {
  "kernelspec": {
   "display_name": "Python 3",
   "language": "python",
   "name": "python3"
  },
  "language_info": {
   "codemirror_mode": {
    "name": "ipython",
    "version": 3
   },
   "file_extension": ".py",
   "mimetype": "text/x-python",
   "name": "python",
   "nbconvert_exporter": "python",
   "pygments_lexer": "ipython3",
   "version": "3.8.8"
  }
 },
 "nbformat": 4,
 "nbformat_minor": 4
}
