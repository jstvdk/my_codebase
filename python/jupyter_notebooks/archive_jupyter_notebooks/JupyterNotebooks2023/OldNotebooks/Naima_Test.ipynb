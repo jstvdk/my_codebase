{
 "cells": [
  {
   "cell_type": "code",
   "execution_count": null,
   "metadata": {},
   "outputs": [],
   "source": [
    "import naima\n",
    "import numpy as np\n",
    "import astropy.units as u\n",
    "import matplotlib.pyplot as plt\n",
    "from naima.models import (ExponentialCutoffPowerLaw, Synchrotron,\n",
    "                          InverseCompton)\n",
    "from astropy.constants import c"
   ]
  },
  {
   "cell_type": "code",
   "execution_count": null,
   "metadata": {},
   "outputs": [],
   "source": [
    "ECPL = naima.models.ExponentialCutoffPowerLaw(1e36*u.Unit('1/eV'), 1*u.TeV, 2.1, 13*u.TeV)\n",
    "IC = naima.models.InverseCompton(ECPL, seed_photon_fields=['CMB'])\n",
    "IC.particle_distribution.index = 1.8"
   ]
  },
  {
   "cell_type": "code",
   "execution_count": null,
   "metadata": {},
   "outputs": [],
   "source": [
    "SYN = naima.models.Synchrotron(ECPL, B = 100*u.uG)\n",
    "\n"
   ]
  },
  {
   "cell_type": "code",
   "execution_count": null,
   "metadata": {},
   "outputs": [],
   "source": [
    "spectrum_energy = np.logspace(-1,20,1000)*u.eV\n",
    "sed_IC = IC.sed(spectrum_energy, distance = 1*u.kpc)\n",
    "sed_SYN = SYN.sed(spectrum_energy, distance= 1*u.kpc)\n"
   ]
  },
  {
   "cell_type": "code",
   "execution_count": null,
   "metadata": {},
   "outputs": [],
   "source": [
    "ECPL = naima.models.ExponentialCutoffPowerLaw(1e42*u.Unit('1/eV'), 1*u.TeV, 2.1, 13*u.TeV)\n",
    "IC = naima.models.InverseCompton(ECPL, seed_photon_fields=['FIR'])\n",
    "IC.particle_distribution.index = 1.8\n",
    "SYN = naima.models.Synchrotron(ECPL, B = 100*u.uG)\n",
    "\n",
    "spectrum_energy = np.logspace(-1,20,1000)*u.eV\n",
    "sed_IC = IC.sed(spectrum_energy, distance = 10000*u.kpc)\n",
    "sed_SYN = SYN.sed(spectrum_energy, distance= 10000*u.kpc)\n",
    "\n",
    "plt.figure(figsize=(8,5))\n",
    "plt.rc('font', family='sans')\n",
    "plt.rc('mathtext', fontset='custom')\n",
    "\n",
    "#for seed, ls in zip(['CMB', 'FIR', 'NIR'], ['-','--',':']):\n",
    "#    sed = IC.sed(spectrum_energy, seed=seed, distance=1*u.kpc)\n",
    "#    plt.loglog(spectrum_energy,sed,lw=1,\n",
    "#            ls=ls,label='IC ({0})'.format(seed),c='0.25')\n",
    "    \n",
    "plt.loglog(spectrum_energy,sed_IC,lw=2,\n",
    "        label='IC (total)',c=naima.plot.color_cycle[0])\n",
    "plt.loglog(spectrum_energy,sed_SYN,lw=2,label='Sync',c=naima.plot.color_cycle[1])\n",
    "plt.xlabel('Photon energy [{0}]'.format(\n",
    "        spectrum_energy.unit.to_string('latex_inline')))\n",
    "plt.ylabel('$E^2 dN/dE$ [{0}]'.format(\n",
    "        sed_SYN.unit.to_string('latex_inline')))\n",
    "plt.ylim(1e-13, 1e-6)\n",
    "plt.tight_layout()\n",
    "plt.legend(loc='lower left')"
   ]
  },
  {
   "cell_type": "code",
   "execution_count": null,
   "metadata": {},
   "outputs": [],
   "source": [
    "ECPL = naima.models.ExponentialCutoffPowerLaw(1e42*u.Unit('1/eV'), 1*u.TeV, 2.1, 13*u.TeV)\n",
    "IC = naima.models.InverseCompton(ECPL, seed_photon_fields=['FIR'])\n",
    "IC.particle_distribution.index = 1.8\n",
    "SYN = naima.models.Synchrotron(ECPL, B = 100*u.uG)\n",
    "\n",
    "spectrum_energy = np.logspace(-1,20,1000)*u.eV\n",
    "sed_IC = IC.sed(spectrum_energy, distance = 10000*u.kpc)\n",
    "sed_SYN = SYN.sed(spectrum_energy, distance= 10000*u.kpc)\n",
    "\n",
    "flux_IC = IC.flux(spectrum_energy, distance = 10000*u.kpc)\n",
    "\n",
    "plt.figure(figsize=(8,5))\n",
    "plt.rc('font', family='sans')\n",
    "plt.rc('mathtext', fontset='custom')\n",
    "\n",
    "plt.loglog(spectrum_energy,sed_IC,lw=2,\n",
    "        label='IC (total)',c=naima.plot.color_cycle[0])\n",
    "plt.loglog(spectrum_energy,sed_SYN,lw=2,label='Sync',c=naima.plot.color_cycle[1])\n",
    "\n",
    "plt.loglog(spectrum_energy,flux_IC,lw=2,label='flux',c='b')\n",
    "\n",
    "plt.xlabel('Photon energy [{0}]'.format(\n",
    "        spectrum_energy.unit.to_string('latex_inline')))\n",
    "plt.ylabel('$E^2 dN/dE$ [{0}]'.format(\n",
    "        sed_SYN.unit.to_string('latex_inline')))\n",
    "plt.ylim(1e-13, 1e-6)\n",
    "plt.tight_layout()\n",
    "plt.legend(loc='lower left')"
   ]
  },
  {
   "cell_type": "code",
   "execution_count": null,
   "metadata": {},
   "outputs": [],
   "source": []
  },
  {
   "cell_type": "code",
   "execution_count": null,
   "metadata": {},
   "outputs": [],
   "source": [
    "import naima\n",
    "from naima.models import (ExponentialCutoffPowerLaw, Synchrotron,\n",
    "                          InverseCompton)\n",
    "from astropy.constants import c\n",
    "import astropy.units as u\n",
    "\n",
    "ECPL = ExponentialCutoffPowerLaw(1e36*u.Unit('1/eV'), 1*u.TeV, 2.1, 13*u.TeV)\n",
    "SYN = Synchrotron(ECPL, B=100*u.uG)\n",
    "\n",
    "# Define energy array for synchrotron seed photon field and compute\n",
    "# Synchroton luminosity by setting distance to 0.\n",
    "Esy = np.logspace(-6, 6, 100)*u.eV\n",
    "Lsy = SYN.flux(Esy, distance=0*u.cm)\n",
    "\n",
    "# Define source radius and compute photon density\n",
    "R = 2 * u.pc\n",
    "phn_sy = Lsy / (4 * np.pi * R**2 * c) * 2.26\n",
    "\n",
    "# Create IC instance with CMB and synchrotron seed photon fields:\n",
    "IC = InverseCompton(ECPL, seed_photon_fields=['CMB', 'FIR', 'NIR',\n",
    "                                              ['SSC', Esy, phn_sy]])\n",
    "\n",
    "# Compute SEDs\n",
    "spectrum_energy = np.logspace(-1,14,100)*u.eV\n",
    "sed_IC = IC.sed(spectrum_energy, distance=1.5*u.kpc)\n",
    "sed_SYN = SYN.sed(spectrum_energy, distance=1.5*u.kpc)\n",
    "\n",
    "# Plot\n",
    "plt.figure(figsize=(8,5))\n",
    "plt.rc('font', family='sans')\n",
    "plt.rc('mathtext', fontset='custom')\n",
    "ssc = IC.sed(spectrum_energy, seed='SSC', distance=1.5*u.kpc)\n",
    "plt.loglog(spectrum_energy,ssc,lw=1.5,\n",
    "        ls='-',label='IC (SSC)',c=naima.plot.color_cycle[2])\n",
    "for seed, ls in zip(['CMB','FIR','NIR'], ['-','--',':']):\n",
    "    sed = IC.sed(spectrum_energy, seed=seed, distance=1.5*u.kpc)\n",
    "    plt.loglog(spectrum_energy,sed,lw=1,\n",
    "            ls=ls,c='0.25')#,label='IC ({0})'.format(seed))\n",
    "\n",
    "\n",
    "plt.loglog(spectrum_energy,sed_IC,lw=2,\n",
    "        label='IC (total)',c=naima.plot.color_cycle[0])\n",
    "plt.loglog(spectrum_energy,sed_SYN,lw=2,label='Sync',c=naima.plot.color_cycle[1])\n",
    "plt.xlabel('Photon energy [{0}]'.format(\n",
    "        spectrum_energy.unit.to_string('latex_inline')))\n",
    "plt.ylabel('$E^2 dN/dE$ [{0}]'.format(\n",
    "        sed_SYN.unit.to_string('latex_inline')))\n",
    "plt.ylim(1e-12, 1e-6)\n",
    "plt.tight_layout()\n",
    "plt.legend(loc='lower left')"
   ]
  },
  {
   "cell_type": "code",
   "execution_count": null,
   "metadata": {},
   "outputs": [],
   "source": []
  }
 ],
 "metadata": {
  "kernelspec": {
   "display_name": "Python 3",
   "language": "python",
   "name": "python3"
  },
  "language_info": {
   "codemirror_mode": {
    "name": "ipython",
    "version": 3
   },
   "file_extension": ".py",
   "mimetype": "text/x-python",
   "name": "python",
   "nbconvert_exporter": "python",
   "pygments_lexer": "ipython3",
   "version": "3.6.10"
  }
 },
 "nbformat": 4,
 "nbformat_minor": 4
}
