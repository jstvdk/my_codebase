{
 "cells": [
  {
   "cell_type": "code",
   "execution_count": null,
   "id": "0",
   "metadata": {},
   "outputs": [],
   "source": [
    "import sys\n",
    "sys.path.append(\"/Users/vdk/Downloads/CRPropa3-3.2_TRYFFTW/build\")\n",
    "import numpy"
   ]
  },
  {
   "cell_type": "code",
   "execution_count": null,
   "id": "1",
   "metadata": {},
   "outputs": [],
   "source": [
    "from crpropa import *\n",
    "\n",
    "# magnetic field setup\n",
    "B = JF12Field()\n",
    "seed = 691342\n",
    "B.randomStriated(seed)\n",
    "B.randomTurbulent(seed)\n",
    "\n",
    "# simulation setup\n",
    "sim = ModuleList()\n",
    "sim.add(PropagationCK(B, 1e-4, 0.1 * parsec, 100 * parsec))\n",
    "obs = Observer()\n",
    "obs.add(ObserverSurface( Sphere(Vector3d(0), 20 * kpc) ))\n",
    "# obs.onDetection(TextOutput('galactic_backtracking.txt', Output.Event3D))\n",
    "sim.add(obs)\n",
    "print(sim)"
   ]
  },
  {
   "cell_type": "code",
   "execution_count": null,
   "id": "2",
   "metadata": {},
   "outputs": [],
   "source": [
    "R = Random()  # CRPropa random number generator\n",
    "\n",
    "pid = - nucleusId(1,1)\n",
    "meanEnergy = 10 * EeV\n",
    "sigmaEnergy = 0.1 * meanEnergy  # 10% energy uncertainty\n",
    "position = Vector3d(-8.5, 0, 0) * kpc\n",
    "lat0 = 0.96\n",
    "lon0 = 1.95\n",
    "meanDir = Vector3d()\n",
    "meanDir.setRThetaPhi(1, lat0, lon0)\n",
    "sigmaDir = 0.002  # 1 degree directional uncertainty\n",
    "\n",
    "lons, lats = [], []\n",
    "for i in range(100):\n",
    "    energy = R.randNorm(meanEnergy, sigmaEnergy)\n",
    "    direction = R.randVectorAroundMean(meanDir, sigmaDir)\n",
    "\n",
    "    c = Candidate(ParticleState(pid, energy, position, direction))\n",
    "    sim.run(c)\n",
    "\n",
    "    d1 = c.current.getDirection()\n",
    "    lons.append(d1.getPhi())\n",
    "    lats.append(d1.getTheta())\n"
   ]
  },
  {
   "cell_type": "code",
   "execution_count": null,
   "id": "3",
   "metadata": {},
   "outputs": [],
   "source": [
    "%matplotlib inline\n",
    "import matplotlib.pyplot as plt\n",
    "import numpy as np\n",
    "\n",
    "# Angle definitions:\n",
    "# CRPropa uses\n",
    "#   longitude (phi) [-pi, pi] with 0 pointing in x-direction\n",
    "#   colatitude (theta) [0, pi] with 0 pointing in z-direction\n",
    "# matplotlib expects\n",
    "#   longitude [-pi, pi] with 0 = 0 degrees\n",
    "#   latitude [pi/2, -pi/2] with pi/2 = 90 degrees (north)\n",
    "lat0 = np.pi/2 - lat0\n",
    "lats = np.pi/2 - np.array(lats)\n",
    "\n",
    "plt.figure(figsize=(12,7))\n",
    "plt.subplot(111, projection = 'hammer')\n",
    "plt.scatter(lon0, lat0, marker='+', c='black', s=100)\n",
    "plt.scatter(lons, lats, marker='o', c='blue', linewidths=0, alpha=0.2)\n",
    "plt.grid(True)"
   ]
  },
  {
   "cell_type": "code",
   "execution_count": null,
   "id": "4",
   "metadata": {},
   "outputs": [],
   "source": [
    "filepath = '/Users/vdk/EHECR_CRPropa/auger31/AugerApJS2022_highE.dat'"
   ]
  },
  {
   "cell_type": "code",
   "execution_count": null,
   "id": "5",
   "metadata": {},
   "outputs": [],
   "source": []
  }
 ],
 "metadata": {
  "kernelspec": {
   "display_name": "Python 3 (ipykernel)",
   "language": "python",
   "name": "python3"
  },
  "language_info": {
   "codemirror_mode": {
    "name": "ipython",
    "version": 3
   },
   "file_extension": ".py",
   "mimetype": "text/x-python",
   "name": "python",
   "nbconvert_exporter": "python",
   "pygments_lexer": "ipython3",
   "version": "3.11.3"
  }
 },
 "nbformat": 4,
 "nbformat_minor": 5
}
