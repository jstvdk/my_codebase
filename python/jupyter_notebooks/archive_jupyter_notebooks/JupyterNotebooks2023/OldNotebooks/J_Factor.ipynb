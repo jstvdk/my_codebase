{
 "cells": [
  {
   "cell_type": "code",
   "execution_count": null,
   "metadata": {},
   "outputs": [],
   "source": [
    "import numpy as np\n",
    "import matplotlib.pyplot as plt\n",
    "from scipy import integrate as integrate\n",
    "import math"
   ]
  },
  {
   "cell_type": "code",
   "execution_count": null,
   "metadata": {},
   "outputs": [],
   "source": [
    "# concentration of particles\n",
    "\n",
    "m_proton = 1.6e-24\n",
    "\n",
    "def n_con_e(r):\n",
    "    return ((3.9*0.01)/(1+(r/80)**2)**1.8 + (4.05*0.001)/(1+(r/280)**2)**0.87)\n",
    "\n",
    "def n_con_cr(r):\n",
    "    return ((3.9*0.01)/(1+(r/80)**2)**1.8 + (4.05*0.001)/(1+(r/280)**2)**0.87)*2e-7\n",
    "\n",
    "def n_con_int(r):\n",
    "    return (((3.9*0.01)/(1+(r/80)**2)**1.8 + (4.05*0.001)/(1+(r/280)**2)**0.87)*\n",
    "           (((3.9*0.01)/(1+(r/80)**2)**1.8 + (4.05*0.001)/(1+(r/280)**2)**0.87)*2e-7))\n",
    "\n",
    "# Функція з множником внаслідок перетворення Абеля\n",
    "def n_con_Abel(r):\n",
    "    r_p = 100\n",
    "    return ((3.9*0.01)/(1+(r/80)**2)**1.8 + (4.05*0.001)/(1+(r/280)**2)**0.87) * (r/np.sqrt(r**2-r_p**2))\n",
    "\n",
    "# густина протонів\n",
    "def ro_con_e(r):\n",
    "    return ((3.9*0.01)/(1+(r/80)**2)**1.8 + (4.05*0.001)/(1+(r/280)**2)**0.87) * m_proton\n",
    "\n",
    "def ro_con_cr(r):\n",
    "    return ((3.9*0.01)/(1+(r/80)**2)**1.8 + (4.05*0.001)/(1+(r/280)**2)**0.87)*2e-7 * m_proton"
   ]
  },
  {
   "cell_type": "code",
   "execution_count": null,
   "metadata": {},
   "outputs": [],
   "source": [
    "x = np.arange(10,1000,0.1)\n",
    "y = [n_con(i) for i in x]\n",
    "plt.plot(x,y)\n",
    "plt.yscale('log')\n",
    "plt.xscale('log')"
   ]
  },
  {
   "cell_type": "code",
   "execution_count": null,
   "metadata": {},
   "outputs": [],
   "source": [
    "n_con_int(1)"
   ]
  },
  {
   "cell_type": "code",
   "execution_count": null,
   "metadata": {},
   "outputs": [],
   "source": [
    "integrate.quad(n_con_Abel,100,6000)\n"
   ]
  },
  {
   "cell_type": "code",
   "execution_count": null,
   "metadata": {},
   "outputs": [],
   "source": [
    "n_con(99)"
   ]
  },
  {
   "cell_type": "code",
   "execution_count": null,
   "metadata": {},
   "outputs": [],
   "source": [
    "1e-9"
   ]
  },
  {
   "cell_type": "code",
   "execution_count": null,
   "metadata": {},
   "outputs": [],
   "source": [
    "1*1e-9"
   ]
  },
  {
   "cell_type": "code",
   "execution_count": null,
   "metadata": {},
   "outputs": [],
   "source": [
    "1e-9+2"
   ]
  },
  {
   "cell_type": "code",
   "execution_count": null,
   "metadata": {},
   "outputs": [],
   "source": [
    "# J_factor for constant density profile\n",
    "def J_constr(r):\n",
    "    ro = 0.00001\n",
    "    R = 20\n",
    "    return ro*2*(R**2-r**2)\n"
   ]
  },
  {
   "cell_type": "code",
   "execution_count": null,
   "metadata": {},
   "outputs": [],
   "source": [
    "r_val = np.arange(1,20,0.11)"
   ]
  },
  {
   "cell_type": "raw",
   "metadata": {},
   "source": []
  },
  {
   "cell_type": "code",
   "execution_count": null,
   "metadata": {},
   "outputs": [],
   "source": [
    "J_vec = np.vectorize(J_constr)"
   ]
  },
  {
   "cell_type": "code",
   "execution_count": null,
   "metadata": {},
   "outputs": [],
   "source": [
    "plt.plot(r_val, J_vec(r_val))"
   ]
  },
  {
   "cell_type": "code",
   "execution_count": null,
   "metadata": {},
   "outputs": [],
   "source": []
  },
  {
   "cell_type": "code",
   "execution_count": null,
   "metadata": {},
   "outputs": [],
   "source": [
    "def test_func(x):\n",
    "    return x**2"
   ]
  },
  {
   "cell_type": "code",
   "execution_count": null,
   "metadata": {},
   "outputs": [],
   "source": [
    "R_obj = 6000 # radius of object\n",
    "r_p = 100 # projected radius\n",
    "# line of sight integration, R_object - radius of object, r_p - projected radius\n",
    "# potribno vse domnojyty na \"2\"\n",
    "def los_int(R_object,r_p):\n",
    "    n = 1000\n",
    "    l = math.sqrt(R_object**2 - r_p**2)\n",
    "    delta_x = l/n\n",
    "    F = 0\n",
    "    For_graph = []\n",
    "    for i in range(0,n):\n",
    "        x = math.sqrt(r_p**2 + (l - delta_x*i)**2)\n",
    "        #print('x = ', x)\n",
    "        #print('n_con = ', n_con_cr(x))\n",
    "        F = F + ro_con_e(x)\n",
    "        For_graph.append(n_con(x))\n",
    "    F = F * delta_x\n",
    "    return F\n",
    "\n",
    "\n",
    "For_graph_x = np.arange(1,6000,6)\n",
    "\n",
    "print(los_int(R_obj,2))"
   ]
  },
  {
   "cell_type": "code",
   "execution_count": null,
   "metadata": {},
   "outputs": [],
   "source": [
    "dependence_of_R = []\n",
    "upper = 60000\n",
    "step = 10\n",
    "for i in range(1,upper,step):\n",
    "    dependence_of_R.append(los_int(i, r_p))\n",
    "    \n",
    "x_scale = np.arange(1,upper,step)"
   ]
  },
  {
   "cell_type": "code",
   "execution_count": null,
   "metadata": {},
   "outputs": [],
   "source": [
    "plt.plot(x_scale,dependence_of_R)\n",
    "#plt.yscale('log')\n",
    "#plt.xscale('log')\n"
   ]
  },
  {
   "cell_type": "code",
   "execution_count": null,
   "metadata": {},
   "outputs": [],
   "source": [
    "# коефіціент пропорційності К = Амплітуда / Астрофізичний фактор\n",
    "K = (1.65e-8)/(7.33e-24)\n",
    "print(K)"
   ]
  },
  {
   "cell_type": "code",
   "execution_count": null,
   "metadata": {},
   "outputs": [],
   "source": [
    "# код китайця з стаковерфлоу\n",
    "def LOS_integration1(r,r_vir,r_p):  #### radius in kpc\n",
    "    rho = lambda r: ((3.9*0.01)/(1+(r/80)**2)**1.8 + (4.05*0.001)/(1+(r/280)**2)**0.87) * (r/np.sqrt(r**2-r_p**2))\n",
    "    ### r/np.sqrt(r**2-r_p**2) is the factor convert from LOS integration to radius integration\n",
    "    result = integrate.quad(rho,r_p,r_vir,epsabs=1.49e-08, epsrel=1.49e-08)\n",
    "    return result[0]"
   ]
  },
  {
   "cell_type": "code",
   "execution_count": null,
   "metadata": {},
   "outputs": [],
   "source": []
  },
  {
   "cell_type": "code",
   "execution_count": null,
   "metadata": {},
   "outputs": [],
   "source": [
    "proj_rad = np.arange(0,6000,10)\n",
    "los_int_vec = np.vectorize(los_int)"
   ]
  },
  {
   "cell_type": "code",
   "execution_count": null,
   "metadata": {},
   "outputs": [],
   "source": [
    "res = los_int_vec(R_obj, proj_rad)\n",
    "res = [i*2*K for i in res]\n",
    "print(K)"
   ]
  },
  {
   "cell_type": "code",
   "execution_count": null,
   "metadata": {},
   "outputs": [],
   "source": [
    "plt.figure(figsize=(15, 10))\n",
    "plt.plot(proj_rad,res)\n",
    "plt.xscale('log')\n",
    "plt.yscale('log')\n",
    "\n",
    "\n",
    "ax = plt.subplot()\n",
    "ax.set_ylabel('J(r) * K')\n",
    "ax.set_xlabel('Projected Radius in kpc')\n"
   ]
  },
  {
   "cell_type": "code",
   "execution_count": null,
   "metadata": {},
   "outputs": [],
   "source": [
    "# __________________________допоміжна задача __________________________________\n",
    "#\n",
    "#\n",
    "#\n",
    "#\n",
    "#\n",
    "#\n",
    "\n",
    "\n",
    "e = 1\n",
    "R = 3.08e24\n",
    "D = 3.08e26\n",
    "max_angle = math.atan(R/D)\n",
    "def radial_intensity(r): #повертає довжину променя крізь об'єкт вздовж якого йде інтегрування\n",
    "    #r = r * 3.08e16\n",
    "    #R = 3.08e24\n",
    "    R = 1000000\n",
    "    #print(r)\n",
    "    return 2*((R**2 - r**2)**(0.5))\n",
    "\n",
    "def angular_intensity(theta):\n",
    "    distance = 3.08e26\n",
    "    return 2*((R**2 - (math.tan(math.radians(theta)*distance)**2))**(0.5))\n",
    "\n",
    "## функція працює з одиницями вимірювання парсеки\n",
    "def test_emissivity_parsec(r):\n",
    "    return 1 / (1 + (r / 100000)**2)\n",
    "\n",
    "## функція працює з одиницями вимірювання парсеки\n",
    "def test_emissivity_sm(r):\n",
    "    #r = r * 3.08e18\n",
    "    return 1 / (1 + (r / 3.08e23)**2)"
   ]
  },
  {
   "cell_type": "code",
   "execution_count": null,
   "metadata": {},
   "outputs": [],
   "source": [
    "# завжди потрібно заново юзати цей кусок на кожній ітерації\n",
    "radial_intensity_vec = np.vectorize(radial_intensity)\n",
    "angular_intensity_vec = np.vectorize(angular_intensity)\n",
    "test_emissivity_parsec_vec = np.vectorize(test_emissivity_parsec)\n",
    "test_emissivity_sm_vec = np.vectorize(test_emissivity_sm)\n",
    "projected_r = np.arange(0,1000000,10000)\n",
    "\n",
    "\n",
    "\n",
    "## алгоритм залежності від кута, такий, що знаходимо спочатку r з танегнса кута під яким бачимо об'єкт, і потім по\n",
    "## тій самій формулі рахуємо\n",
    "projected_angle = np.arange(0, max_angle, max_angle/100)\n",
    "for_angular_intensity = [(math.tan(i) * D)/(3.08e18) for i in projected_angle] \n",
    "check = [i * 3.08e16 for i in projected_r]\n",
    "\n",
    "proj_intensity = radial_intensity_vec(projected_r)\n",
    "angle_intensity = angular_intensity_vec(projected_angle)\n",
    "\n",
    "check_angle_intensity = radial_intensity_vec(for_angular_intensity) # рахує відносно кута"
   ]
  },
  {
   "cell_type": "code",
   "execution_count": null,
   "metadata": {},
   "outputs": [],
   "source": [
    "print(proj_intensity) # в парсеках вернуло інтенсивність"
   ]
  },
  {
   "cell_type": "code",
   "execution_count": null,
   "metadata": {},
   "outputs": [],
   "source": [
    "proj_intensity = [i*3.08e18 for i in proj_intensity] # переводимо в сантиметри\n",
    "plt.figure(figsize=(15, 10))\n",
    "plt.plot(projected_r, proj_intensity)\n",
    "plt.xscale('log')\n",
    "plt.yscale('log')\n",
    "plt.xlim(0,1e7)\n",
    "#plt.ylim(0,1e25)\n",
    "\n",
    "ax = plt.subplot()\n",
    "ax.set_ylabel('Intensity, erg * sm^(-2) * ster^(-1) * s^(-1) ')\n",
    "ax.set_xlabel('Projected Radius in pc')"
   ]
  },
  {
   "cell_type": "code",
   "execution_count": null,
   "metadata": {},
   "outputs": [],
   "source": [
    "#print(check_angle_intensity)\n",
    "check_angle_intensity = [i*3.08e18 for i in check_angle_intensity] # переводимо в сантиметри\n",
    "plt.figure(figsize=(15, 10))\n",
    "plt.plot(projected_angle, check_angle_intensity)\n",
    "plt.xscale('log')\n",
    "plt.yscale('log')\n",
    "plt.xlim(0,0.015)\n",
    "\n",
    "\n",
    "ax = plt.subplot()\n",
    "ax.set_ylabel('Intensity, erg * sm^(-2) * ster^(-1) * s^(-1) ')\n",
    "ax.set_xlabel('Projected radius (deg)')\n",
    "#print(check_angle_intensity)"
   ]
  },
  {
   "cell_type": "code",
   "execution_count": null,
   "metadata": {},
   "outputs": [],
   "source": [
    "#print(projected_angle)"
   ]
  },
  {
   "cell_type": "code",
   "execution_count": null,
   "metadata": {},
   "outputs": [],
   "source": [
    "#2*((R**2 - (math.tan(math.radians(9.99966669e-05)*3.08e26)**2))**(0.5))"
   ]
  },
  {
   "cell_type": "code",
   "execution_count": null,
   "metadata": {},
   "outputs": [],
   "source": [
    "#print(projected_angle)"
   ]
  },
  {
   "cell_type": "code",
   "execution_count": null,
   "metadata": {},
   "outputs": [],
   "source": []
  },
  {
   "cell_type": "code",
   "execution_count": null,
   "metadata": {},
   "outputs": [],
   "source": []
  },
  {
   "cell_type": "code",
   "execution_count": null,
   "metadata": {},
   "outputs": [],
   "source": []
  },
  {
   "cell_type": "code",
   "execution_count": null,
   "metadata": {},
   "outputs": [],
   "source": []
  },
  {
   "cell_type": "code",
   "execution_count": null,
   "metadata": {},
   "outputs": [],
   "source": [
    "math.atan(1/100)"
   ]
  },
  {
   "cell_type": "code",
   "execution_count": null,
   "metadata": {},
   "outputs": [],
   "source": [
    "# для парсеків функція\n",
    "def los_int_parsec(R_object,r_p):\n",
    "    n = 10000\n",
    "    l = math.sqrt(R_object**2 - r_p**2)\n",
    "    delta_x = l/n\n",
    "    F = 0\n",
    "    For_graph = []\n",
    "    for i in range(0,n):\n",
    "        x = math.sqrt(r_p**2 + (l - delta_x*i)**2)\n",
    "        #print('x = ', x)\n",
    "        #print('n_con = ', n_con_cr(x))\n",
    "        F = F + test_emissivity_parsec(x)\n",
    "        #For_graph.append(n_con(x))\n",
    "    F = F * delta_x\n",
    "    return F\n",
    "\n",
    "proj_rad = np.arange(0,1000000,10000)\n",
    "los_int_parsec_vec = np.vectorize(los_int_parsec)\n",
    "result = 0\n",
    "result = los_int_parsec_vec(1000000, proj_rad)\n",
    "result = [i*2*3.08e18 for i in result] #перевели в сантиметри\n",
    "#print(result)"
   ]
  },
  {
   "cell_type": "code",
   "execution_count": null,
   "metadata": {},
   "outputs": [],
   "source": [
    "plt.figure(figsize=(15, 10))\n",
    "plt.plot(proj_rad, result)\n",
    "plt.xscale('log')\n",
    "plt.yscale('log')\n",
    "\n",
    "\n",
    "ax = plt.subplot()\n",
    "ax.set_ylabel('Intensity, erg * sm^(-2) * ster^(-1) * s^(-1) ')\n",
    "ax.set_xlabel('Projected Radius in pc')\n",
    "plt.xlim(0,5e6)\n",
    "plt.ylim(0,1e24)\n",
    "\n"
   ]
  },
  {
   "cell_type": "code",
   "execution_count": null,
   "metadata": {},
   "outputs": [],
   "source": [
    "proj_rad = np.arange(0,1000000,10000)\n",
    "proj_rad_sm = [i*3.08e18 for i in proj_rad]\n",
    "emissivity = test_emissivity_sm_vec(proj_rad_sm)\n",
    "#res_emissivity = [i for i in emissivity]\n",
    "plt.figure(figsize=(15, 10))\n",
    "plt.plot(proj_rad, emissivity)\n",
    "plt.xscale('log')\n",
    "plt.yscale('log')\n",
    "plt.xlim(0,2e6)\n",
    "plt.ylim(0,1)\n",
    "\n",
    "ax = plt.subplot()\n",
    "ax.set_ylabel('Emission coefficient, erg * sm^(-3) * ster^(-1) * s^(-1) ')\n",
    "ax.set_xlabel('Projected Radius in pc')"
   ]
  },
  {
   "cell_type": "code",
   "execution_count": null,
   "metadata": {},
   "outputs": [],
   "source": [
    "proj_rad = np.arange(0,1000000,10000)\n",
    "proj_rad = [i*3.08e18 for i in proj_rad]\n",
    "emissivity = test_emissivity_sm_vec(proj_rad)\n",
    "print(emissivity)"
   ]
  },
  {
   "cell_type": "code",
   "execution_count": null,
   "metadata": {},
   "outputs": [],
   "source": [
    "\n",
    "\n"
   ]
  }
 ],
 "metadata": {
  "kernelspec": {
   "display_name": "Python 3",
   "language": "python",
   "name": "python3"
  },
  "language_info": {
   "codemirror_mode": {
    "name": "ipython",
    "version": 3
   },
   "file_extension": ".py",
   "mimetype": "text/x-python",
   "name": "python",
   "nbconvert_exporter": "python",
   "pygments_lexer": "ipython3",
   "version": "3.8.1"
  }
 },
 "nbformat": 4,
 "nbformat_minor": 4
}
