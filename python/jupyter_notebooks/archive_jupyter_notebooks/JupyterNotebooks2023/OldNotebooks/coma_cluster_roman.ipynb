{
 "cells": [
  {
   "cell_type": "markdown",
   "metadata": {},
   "source": [
    "# Import"
   ]
  },
  {
   "cell_type": "code",
   "execution_count": null,
   "metadata": {},
   "outputs": [],
   "source": [
    "from matplotlib.colors import SymLogNorm\n",
    "import matplotlib\n",
    "import matplotlib.pyplot as plt\n",
    "import numpy as np\n",
    "from astropy.coordinates.sky_coordinate import SkyCoord\n",
    "import astropy.units as u\n",
    "from astropy.cosmology import Planck15 as cosmo\n",
    "from astropy.cosmology import FlatLambdaCDM\n",
    "from astropy.wcs import WCS\n",
    "from minot import model\n",
    "import scipy\n",
    "\n",
    "# Modify plotting parameters\n",
    "dict_base = {'font.size':        16,\n",
    "             'legend.fontsize':  16,\n",
    "             'xtick.labelsize':  16,\n",
    "             'ytick.labelsize':  16,\n",
    "             'axes.labelsize':   16,\n",
    "             'axes.titlesize':   16,\n",
    "             'figure.titlesize': 16,    \n",
    "             'figure.figsize':[8.0, 6.0],\n",
    "             'figure.subplot.right':0.97,\n",
    "             'figure.subplot.left':0.15,\n",
    "             'font.family':'serif',\n",
    "             'figure.facecolor': 'white',\n",
    "             'legend.frameon': True}\n",
    "plt.rcParams.update(dict_base)"
   ]
  },
  {
   "cell_type": "markdown",
   "metadata": {},
   "source": [
    "# Define a cluster object"
   ]
  },
  {
   "cell_type": "code",
   "execution_count": null,
   "metadata": {},
   "outputs": [],
   "source": [
    "cosmo_coma = FlatLambdaCDM(H0=67.8, Om0=0.308, Tcmb0=2.7255, Ob0=0.0484, Neff=3.13, m_nu=[0, 0, 0.06] * u.eV)\n",
    "clust = model.Cluster(name='Coma', \n",
    "                      redshift=0.0231, M500=6.13e14*u.Msun, \n",
    "                      cosmology=cosmo_coma  , silent=False, \n",
    "                      output_dir='/home/roman/CTA/cluster/coma_main')\n",
    "\n",
    "clust.coord = SkyCoord(\"194.9119d  27.9537d\", frame=\"icrs\", unit=\"deg\")\n",
    "\n",
    "#----- Define the relevant ICM model (available models are defined in model_modpar.py)\n",
    "clust.density_gas_model = {'name':'beta', 'n_0':3.36e-3*u.cm**-3, 'beta':0.75, 'r_c':310*u.kpc}\n",
    "clust.pressure_gas_model = {'name':'GNFW', 'P_0':0.022*u.keV/u.cm**3, 'r_p':466.8*u.kpc, 'a':1.8, 'b':3.1, 'c':0.0}\n",
    "clust.set_density_crp_isodens_scal_param(scal=1.0)\n",
    "clust.abundance = 0.3\n",
    "clust.set_magfield_isodens_scal_param(4.7*u.uG, scal=0.5)\n",
    "clust.spectrum_crp_model = {'name':'ExponentialCutoffPowerLaw', 'Index':1.8, 'CutoffEnergy':30*u.TeV}\n",
    "clust.spectrum_cre1_model = {'name': 'PowerLaw', 'Index':3.0}\n",
    "clust.X_crp_E = {'X':0.01, 'R_norm':clust.R500}\n",
    "clust.X_cre1_E = {'X':0.00001, 'R_norm':clust.R500}\n",
    "\n",
    "clust.Epmax = 10e6*u.TeV\n",
    "clust.Eemax = 1e-2*u.TeV"
   ]
  },
  {
   "cell_type": "markdown",
   "metadata": {},
   "source": [
    "### Check what are the model parameters"
   ]
  },
  {
   "cell_type": "code",
   "execution_count": null,
   "metadata": {},
   "outputs": [],
   "source": [
    "# clust.print_param() # To print the parameters in the terminal\n",
    "clust.save_param()  # To write the parameters in the output directory"
   ]
  },
  {
   "cell_type": "code",
   "execution_count": null,
   "metadata": {},
   "outputs": [],
   "source": [
    "def plot_CTA_sens(): #CTA north 50h sensitivity\n",
    "    bins_lo = [0.02, 0.0316, 0.0501, 0.0794, 0.126, 0.2, 0.316, 0.501, 0.794, 1.26, 2, 3.16, 5.01, 7.94, 12.6, 20, 31.6, 50.1, 79.4, 126] # E_min (TeV)\n",
    "    bins_hi = [0.0316, 0.0501, 0.0794, 0.126, 0.2, 0.316, 0.501, 0.794, 1.26, 2, 3.16, 5.01, 7.94, 12.6, 20, 31.6, 50.1, 79.4, 126, 200] # E_max (TeV)\n",
    "    data = [2.37e-11, 8.35e-12, 2.02e-12, 9.41e-13, 5.37e-13, 3.58e-13, 2.43e-13, 1.76e-13, 1.35e-13, 1.24e-13, 1.1e-13,\n",
    "            1.21e-13, 1.44e-13, 2.06e-13, 3.2e-13, 5.1e-13, 7.97e-13, 1.2e-12, 1.93e-12, 3.92e-12] # S (erg / cm^2 / s)\n",
    "    data_GeV = [i * 624.15064799632 for i in data]\n",
    "    mid_point = [np.exp((np.log(i) + np.log(j)) / 2) * 1000 for i, j in zip(bins_lo, bins_hi)]\n",
    "    plt.loglog(mid_point, data_GeV, color='k', ls='-.', lw=float(2.0), alpha=1, label = 'CTA North sensivity 50h')\n",
    "\n",
    "def plot_LHAASO_sens(): #LHAASO sensitivity\n",
    "    bins_lo = [0.3, 0.6, 1, 2, 2.5, 3, 5, 8, 10, 20, 50, 100, 170, 300] # E_min (TeV)\n",
    "    bins_hi = [0.6, 1, 2, 2.5, 3, 5, 8, 10, 20, 50, 100, 170, 300, 600] # E_max (TeV)\n",
    "    data = [3e-9, 8e-10, 4e-10, 1e-10, 8e-11, 7e-11, 8e-11, 9e-11, 6e-11, 4e-11, 1.5e-11, 2e-11, 5e-11, 7e-11 ] # S (GeV/ cm^2 / s)\n",
    "    mid_point = [np.exp((np.log(i) + np.log(j)) / 2) * 1000 for i, j in zip(bins_lo, bins_hi)]\n",
    "    plt.loglog(mid_point, data, color='gray', ls='-.', lw=float(2.0), alpha=1, label = 'LHAASO sensitivity')\n",
    "\n",
    "def plot_fermi_sens(): # Fermi sensitivity\n",
    "    bins_lo = [5e-5, 7e-5, 2e-4, 4e-4, 6e-4, 1.5e-3, 2e-3, 4e-3, 8e-3,5e-2, 0.1] #in TeV\n",
    "    bins_hi = [7e-5, 2e-4, 4e-4, 6e-4, 1.5e-3, 2e-3, 4e-3, 8e-3, 5e-2,0.1, 0.3] #in TeV\n",
    "    data = [6e-12, 3e-12, 1e-12, 8e-13, 6.5e-13, 3.75e-13, 3e-13, 3.5e-13, 5e-13, 2e-12, 4.25e-12] # S (erg / cm^2 / s)\n",
    "    data_GeV = [i * 624.15064799632 for i in data]\n",
    "    mid_point = [np.exp((np.log(i) + np.log(j)) / 2) * 1000 for i, j in zip(bins_lo, bins_hi)]\n",
    "    plt.loglog(mid_point, data_GeV, color='grey', ls='-.', lw=float(2.0), alpha=0.5, label = 'Fermi sensitivity')\n",
    "    \n",
    "def plot_fermi_coma():\n",
    "    energy = np.logspace(-1, 1, 100)*u.GeV\n",
    "    F23_fermi = 5.2e-9\n",
    "    gamma23 = 2.3\n",
    "    F20_fermi = 3.2e-9 #ph cm-2 s-1\n",
    "    gamma20 = 2.0\n",
    "    N20_fermi = F20_fermi / scipy.integrate.quad(lambda e: e ** (-gamma20), 0.1, 10)[0]\n",
    "    N23_fermi = F23_fermi / scipy.integrate.quad(lambda e: e ** (-gamma23), 0.1, 10)[0]\n",
    "    dNdE_20 = N20_fermi * energy.value ** (-gamma20) * u.Unit('GeV-1 cm-2 s-1')\n",
    "    dNdE_23 = N23_fermi * energy.value ** (-gamma23) * u.Unit('GeV-1 cm-2 s-1')\n",
    "    plt.fill_between(energy, dNdE_20 * energy ** 2, dNdE_23 * energy ** 2, facecolor ='k', alpha=0.3, \n",
    "                     label='Fermi upper limit')"
   ]
  },
  {
   "cell_type": "markdown",
   "metadata": {},
   "source": [
    "# Plot gamma spectrum"
   ]
  },
  {
   "cell_type": "code",
   "execution_count": null,
   "metadata": {},
   "outputs": [],
   "source": [
    "energy = np.logspace(-1,5,100)*u.GeV\n",
    "\n",
    "\n",
    "plt.figure(0,figsize=(10,8))\n",
    "plt.ylim(1e-12,1e-8)\n",
    "plt.xlim(1e-1,1e6)\n",
    "\n",
    "clust.set_density_crp_isodens_scal_param(scal=1.0)\n",
    "scal = clust._density_crp_model['beta'] / clust._density_gas_model['beta']\n",
    "\n",
    "def plot_gamma_spec(a, b, c, X=0.01):\n",
    "    clust.X_crp_E['X'] = X\n",
    "    clust.X_cre1_E['X'] = X * 1e-3\n",
    "    for i,j in zip([a, b, c],['-','--','-.']):\n",
    "        clust.spectrum_crp_model['Index'] = i\n",
    "        e1, s1 = clust.get_gamma_spectrum(energy,Rmax=clust.R_truncation, type_integral='spherical')\n",
    "        plt.loglog(e1, (e1**2*s1).to('GeV cm-2 s-1'), ls=j, c = 'red', lw = float(3.0), label='$\\gamma$ = ' + \n",
    "                   str(clust.spectrum_crp_model['Index']))\n",
    "        \n",
    "def plot_gamma_spec_tot(a, b, c, d, e, f, X=0.01):\n",
    "    clust.X_crp_E['X'] = X\n",
    "    clust.X_cre1_E['X'] = X * 1e-3\n",
    "    for i,j in zip([(a, d), (b, e), (c, f)],['-','--','-.']):\n",
    "        clust.spectrum_crp_model['Index'] = i[0]\n",
    "        e1, s1 = clust.get_gamma_spectrum(energy,Rmax=clust.R_truncation, type_integral='spherical')\n",
    "        clust.spectrum_crp_model['Index'] = i[1]\n",
    "        e2, s2 = clust.get_gamma_spectrum(energy,Rmax=clust.R_truncation, type_integral='spherical')\n",
    "        plt.loglog(e1, (e1**2*(s1+s2)).to('GeV cm-2 s-1'), ls=j, c = 'blue', lw = float(3.0), label='$\\gamma_1$ = ' + \n",
    "                   str(i[0]) + ', $\\gamma_2$ =' + str(i[1]))\n",
    "        \n",
    "plot_fermi_coma()\n",
    "plot_CTA_sens()\n",
    "plot_LHAASO_sens()\n",
    "# plot_fermi_sens()\n",
    "# plot_gamma_spec(2.0, 2.3, 2.7, X=0.02) #будує спектр одної компоненти (для троьх гамма)\n",
    "plot_gamma_spec_tot(1.4, 1.6, 1.8, 2.0, 2.3, 2.7, X=0.01) #будує сумарний спектр двох компонент\n",
    "plt.text(0.01 * plt.gca().get_xlim()[1], 0.5 * plt.gca().get_ylim()[1], '$X_{cr,p} =$ ' + str(clust.X_crp_E['X']), \n",
    "         fontsize = 18)\n",
    "plt.text(0.01 * plt.gca().get_xlim()[1], 0.3 * plt.gca().get_ylim()[1], '$\\eta_{CR,p} =$ ' + str(scal), \n",
    "         fontsize = 18)\n",
    "plt.xlabel('Energy (GeV)')\n",
    "plt.ylabel('Flux ($GeV/cm^2/s$)')\n",
    "plt.legend()\n",
    "try:\n",
    "    # збереження рисунку в файл. в папку clust.output_dir\n",
    "    # plt.savefig(clust.output_dir + '/gamma_spec_Xcrp_' + str(clust.X_crp_E['X']) + '_eta_'+ str(scal) +'.png')\n",
    "    plt.savefig(clust.output_dir + '/gamma_spec_tot_Xcrp_' + str(clust.X_crp_E['X']) + '_eta_'+ str(scal) +'.png')\n",
    "    print('Figure saved')\n",
    "except:\n",
    "    print('Error while saving figure')"
   ]
  },
  {
   "cell_type": "markdown",
   "metadata": {},
   "source": [
    "# Plot neutrino spectrum"
   ]
  },
  {
   "cell_type": "code",
   "execution_count": null,
   "metadata": {},
   "outputs": [],
   "source": [
    "energy = np.logspace(-1,6,100)*u.GeV\n",
    "\n",
    "plt.figure(1,figsize=(10,8))\n",
    "plt.ylim(1e-12,1e-8)\n",
    "plt.xlim(1e-1,1e6)\n",
    "\n",
    "def plot_neutrino_spec(a, b, c, X=0.01):\n",
    "    clust.X_crp_E['X'] = X\n",
    "    clust.X_cre1_E['X'] = X * 1e-3\n",
    "    for i,j in zip([a, b, c],['-','--','-.']):\n",
    "        clust.spectrum_crp_model['Index'] = i\n",
    "        e1, s1 = clust.get_neutrino_spectrum(energy,Rmax=clust.R_truncation, type_integral='spherical')\n",
    "        plt.loglog(e1, (e1**2*s1).to('GeV cm-2 s-1'), ls=j, c = 'red', lw = float(3.0), label='$\\gamma$ = ' + \n",
    "                   str(clust.spectrum_crp_model['Index']))\n",
    "\n",
    "def plot_neutrino_spec_tot(a, b, c, d, e, f, X=0.01):\n",
    "    clust.X_crp_E['X'] = X\n",
    "    clust.X_cre1_E['X'] = X * 1e-3\n",
    "    for i,j in zip([(a, d), (b, e), (c, f)],['-','--','-.']):\n",
    "        clust.spectrum_crp_model['Index'] = i[0]\n",
    "        e1, s1 = clust.get_neutrino_spectrum(energy,Rmax=clust.R_truncation, type_integral='spherical')\n",
    "        clust.spectrum_crp_model['Index'] = i[1]\n",
    "        e2, s2 = clust.get_neutrino_spectrum(energy,Rmax=clust.R_truncation, type_integral='spherical')\n",
    "        plt.loglog(e1, (e1**2*(s1+s2)).to('GeV cm-2 s-1'), ls=j, c = 'blue', lw = float(3.0), label='$\\gamma_1$ = ' + \n",
    "                   str(i[0]) + ', $\\gamma_2$ =' + str(i[1]))    \n",
    "    \n",
    "# plot_neutrino_spec(1.4, 1.6, 1.8, X=0.01) #будує спектр одної компоненти (для троьх гамма)\n",
    "plot_neutrino_spec_tot(1.4, 1.6, 1.8, 2.0, 2.3, 2.7, X=0.01) #будує сумарний спектр двох компонент\n",
    "plt.plot(np.logspace(3,6,10), [1e-9] * 10, c = 'k', lw = float(3.0), ls='--', label = 'IceCube discovery potential')\n",
    "plt.text(0.01 * plt.gca().get_xlim()[1], 0.5 * plt.gca().get_ylim()[1], '$X_{cr,p} =$ ' + str(clust.X_crp_E['X']), \n",
    "         fontsize = 18)\n",
    "plt.text(0.01 * plt.gca().get_xlim()[1], 0.3 * plt.gca().get_ylim()[1], '$\\eta_{CR,p} =$ ' + str(scal), \n",
    "         fontsize = 18)\n",
    "plt.xlabel('Energy (GeV)')\n",
    "plt.ylabel('Flux ($GeV/cm^2/s$)')\n",
    "plt.legend()\n",
    "try:\n",
    "    # збереження рисунку в файл. в папку clust.output_dir\n",
    "    # plt.savefig(clust.output_dir + '/neutrino_spec_Xcrp_' + str(clust.X_crp_E['X']) + '_eta_'+ str(scal) +'.png')\n",
    "    plt.savefig(clust.output_dir + '/neutrino_spec_tot_Xcrp_' + str(clust.X_crp_E['X']) + '_eta_'+ str(scal) +'.png')\n",
    "    print('Figure saved')\n",
    "except:\n",
    "    print('Error while saving figure')"
   ]
  },
  {
   "cell_type": "code",
   "execution_count": null,
   "metadata": {},
   "outputs": [],
   "source": [
    "import sys\n",
    "import astropy\n",
    "import scipy\n",
    "import pickle\n",
    "import healpy\n",
    "import matplotlib\n",
    "print('python = ' + sys.version)\n",
    "print('astropy = ' + astropy.__version__)\n",
    "print('numpy = ' + np.__version__)\n",
    "print('scipy = ' + scipy.__version__)\n",
    "print('matplotlib = ' + matplotlib.__version__)\n",
    "print('pickle = ' + pickle.format_version)\n",
    "print('healpy = ' + healpy.__version__)"
   ]
  },
  {
   "cell_type": "code",
   "execution_count": null,
   "metadata": {},
   "outputs": [],
   "source": []
  }
 ],
 "metadata": {
  "kernelspec": {
   "display_name": "Python 3",
   "language": "python",
   "name": "python3"
  },
  "language_info": {
   "codemirror_mode": {
    "name": "ipython",
    "version": 3
   },
   "file_extension": ".py",
   "mimetype": "text/x-python",
   "name": "python",
   "nbconvert_exporter": "python",
   "pygments_lexer": "ipython3",
   "version": "3.6.9"
  }
 },
 "nbformat": 4,
 "nbformat_minor": 2
}
