{
 "cells": [
  {
   "cell_type": "code",
   "execution_count": null,
   "id": "0",
   "metadata": {},
   "outputs": [],
   "source": [
    "import numpy as np\n",
    "import pandas as pd\n",
    "import csv\n",
    "import matplotlib.pyplot as plt\n",
    "from scipy import interpolate\n",
    "import math"
   ]
  },
  {
   "cell_type": "code",
   "execution_count": null,
   "id": "1",
   "metadata": {},
   "outputs": [],
   "source": [
    "df1 = pd.read_csv(\"/Users/vdk/L2050-P_0grad.csv\", header = None)\n",
    "df2 = pd.read_csv(\"/Users/vdk/L2050-P_30grad.csv\",header = None)\n",
    "df3 = pd.read_csv(\"/Users/vdk/L2050-P_60grad.csv\", header = None)\n",
    "Mach_0grad = df1[1].to_numpy()\n",
    "Mach_30grad = df2[1].to_numpy()\n",
    "Mach_60grad = df3[1].to_numpy()\n",
    "Drag_0grad = df1[2].to_numpy()\n",
    "Drag_30grad = df2[2].to_numpy()\n",
    "Drag_60grad = df3[2].to_numpy()"
   ]
  },
  {
   "cell_type": "code",
   "execution_count": null,
   "id": "2",
   "metadata": {},
   "outputs": [],
   "source": [
    "min(Mach_30grad)"
   ]
  },
  {
   "cell_type": "code",
   "execution_count": null,
   "id": "3",
   "metadata": {},
   "outputs": [],
   "source": [
    "plt.plot(Mach_0grad, Drag_0grad, alpha = 1)\n",
    "plt.plot(Mach_30grad, Drag_30grad, alpha = 1)\n",
    "plt.plot(Mach_60grad, Drag_60grad, alpha = 1)\n",
    "plt.xlabel('Mach number')\n",
    "plt.ylabel('Drag coefficient')\n",
    "plt.title(\"Dependence of C_d from Mach number for different angle of attack (0,30,60 deg)\")"
   ]
  },
  {
   "cell_type": "code",
   "execution_count": null,
   "id": "4",
   "metadata": {},
   "outputs": [],
   "source": [
    "func_Drag = interpolate.interp1d(Mach_30grad, Drag_30grad)"
   ]
  },
  {
   "cell_type": "code",
   "execution_count": null,
   "id": "5",
   "metadata": {},
   "outputs": [],
   "source": [
    "def drag_force(velocity):\n",
    "    A_ref = math.pi * (0.035)**2\n",
    "    sound_speed = 343\n",
    "    rho = 1.2\n",
    "    Mach = velocity / sound_speed\n",
    "    df = pd.read_csv(\"/Users/vdk/L2050-P_30grad.csv\",header = None)\n",
    "    Mach_30grad = df[1].to_numpy()\n",
    "    Drag_30grad = df[2].to_numpy()\n",
    "    func_drag = interpolate.interp1d(Mach_30grad, Drag_30grad)\n",
    "    if Mach < min(Mach_30grad):\n",
    "        return 0.5 * rho * velocity**2 * A_ref * 1\n",
    "    else:\n",
    "        return 0.5 * rho * velocity**2 * A_ref * func_drag(Mach)\n",
    "    \n",
    "    \n",
    "drag_force(100)"
   ]
  },
  {
   "cell_type": "code",
   "execution_count": null,
   "id": "6",
   "metadata": {},
   "outputs": [],
   "source": [
    "A_ref = math.pi * (0.035)**2\n",
    "A_ref"
   ]
  },
  {
   "cell_type": "code",
   "execution_count": null,
   "id": "7",
   "metadata": {},
   "outputs": [],
   "source": [
    "df4 = pd.read_csv(\"/Users/vdk/1.csv\", header = None)\n",
    "df5 = pd.read_csv(\"/Users/vdk/2.csv\",header = None)\n",
    "df6 = pd.read_csv(\"/Users/vdk/3.csv\", header = None)\n",
    "Mach_0grad = df4[2].to_numpy()\n",
    "Mach_30grad = df5[2].to_numpy()\n",
    "Mach_60grad = df6[2].to_numpy()\n",
    "CP_0grad = df4[1].to_numpy()\n",
    "CP_30grad = df5[1].to_numpy()\n",
    "CP_60grad = df6[1].to_numpy()\n",
    "Time_0grad = df4[0].to_numpy()\n",
    "Time_30grad = df5[0].to_numpy()\n",
    "Time_60grad = df6[0].to_numpy()"
   ]
  },
  {
   "cell_type": "code",
   "execution_count": null,
   "id": "8",
   "metadata": {},
   "outputs": [],
   "source": [
    "#plt.plot(Time_0grad, CP_0grad, alpha = 1)\n",
    "\n",
    "plt.scatter(Time_60grad, CP_60grad, s = 0.5)"
   ]
  },
  {
   "cell_type": "code",
   "execution_count": null,
   "id": "9",
   "metadata": {},
   "outputs": [],
   "source": [
    "plt.plot(Time_30grad, CP_30grad, alpha = 1)"
   ]
  },
  {
   "cell_type": "code",
   "execution_count": null,
   "id": "10",
   "metadata": {},
   "outputs": [],
   "source": []
  }
 ],
 "metadata": {
  "kernelspec": {
   "display_name": "Python 3 (ipykernel)",
   "language": "python",
   "name": "python3"
  },
  "language_info": {
   "codemirror_mode": {
    "name": "ipython",
    "version": 3
   },
   "file_extension": ".py",
   "mimetype": "text/x-python",
   "name": "python",
   "nbconvert_exporter": "python",
   "pygments_lexer": "ipython3",
   "version": "3.10.9"
  }
 },
 "nbformat": 4,
 "nbformat_minor": 5
}
