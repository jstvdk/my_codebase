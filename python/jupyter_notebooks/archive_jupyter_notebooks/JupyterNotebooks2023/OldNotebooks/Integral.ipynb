{
 "cells": [
  {
   "cell_type": "code",
   "execution_count": null,
   "metadata": {},
   "outputs": [],
   "source": [
    "from scipy.integrate import quad\n",
    "import numpy as np\n"
   ]
  },
  {
   "cell_type": "code",
   "execution_count": null,
   "metadata": {},
   "outputs": [],
   "source": [
    "for i in range(1,5):\n",
    "    print(i)\n"
   ]
  },
  {
   "cell_type": "code",
   "execution_count": null,
   "metadata": {},
   "outputs": [],
   "source": [
    "def integral(f,a,b,n):\n",
    "    h = (b-a)/n\n",
    "    s = (f(a)+f(b))/2\n",
    "    for i in range(1,n):\n",
    "        x = a + i*h\n",
    "        s = s + f(x)\n",
    "    return s*h\n",
    "        \n",
    "def test_func(x):\n",
    "    return 2*x    "
   ]
  },
  {
   "cell_type": "code",
   "execution_count": null,
   "metadata": {},
   "outputs": [],
   "source": [
    "test_func(3) - test_func(1)\n"
   ]
  },
  {
   "cell_type": "code",
   "execution_count": null,
   "metadata": {},
   "outputs": [],
   "source": [
    "integral(test_func,1,5,1000000)"
   ]
  },
  {
   "cell_type": "code",
   "execution_count": null,
   "metadata": {},
   "outputs": [],
   "source": [
    "import numpy as np\n",
    "from scipy import integrate as integrate\n",
    "\n",
    "### From the definition of the LOS integral\n",
    "def LOS_integration(rs,r_vir,r_p):  #### radius in kpc\n",
    "    rho = lambda l: np.exp(1 - np.log(1+np.sqrt(l**2 + r_p**2)/rs)/(np.sqrt(l**2 + r_p**2)/rs))\n",
    "    result = integrate.quad(rho,0,np.sqrt(r_vir**2-r_p**2),epsabs=1.49e-08, epsrel=1.49e-08)\n",
    "    return result[0]\n",
    "\n",
    "integration_vec = np.vectorize(LOS_integration)   ### vectorize the function\n",
    "\n",
    "\n",
    "###  convert LOS integration to radius integration\n",
    "def LOS_integration1(rs,r_vir,r_p):  #### radius in kpc\n",
    "    rho = lambda r: np.exp(1 - np.log(1+r/rs)/(r/rs)) * r/np.sqrt(r**2-r_p**2)  \n",
    "    ### r/np.sqrt(r**2-r_p**2) is the factor convert from LOS integration to radius integration\n",
    "    result = integrate.quad(rho,r_p,r_vir,epsabs=1.49e-08, epsrel=1.49e-08)\n",
    "    return result[0]\n",
    "\n",
    "integration1_vec = np.vectorize(LOS_integration1)"
   ]
  },
  {
   "cell_type": "markdown",
   "metadata": {},
   "source": []
  },
  {
   "cell_type": "code",
   "execution_count": null,
   "metadata": {},
   "outputs": [],
   "source": [
    "a = 3"
   ]
  },
  {
   "cell_type": "code",
   "execution_count": null,
   "metadata": {},
   "outputs": [],
   "source": [
    "a"
   ]
  },
  {
   "cell_type": "code",
   "execution_count": null,
   "metadata": {},
   "outputs": [],
   "source": [
    "import numpy as np\n",
    "from scipy import integrate as integrate\n",
    "\n",
    "### From the definition of the LOS integral\n",
    "def LOS_integration(rs,r_vir,r_p):  #### radius in kpc\n",
    "    rho = lambda l: np.exp(1 - np.log(1+np.sqrt(l**2 + r_p**2)/rs)/(np.sqrt(l**2 + r_p**2)/rs))\n",
    "    result = integrate.quad(rho,0,np.sqrt(r_vir**2-r_p**2),epsabs=1.49e-08, epsrel=1.49e-08)\n",
    "    return result[0]\n",
    "\n",
    "integration_vec = np.vectorize(LOS_integration)   ### vectorize the function\n",
    "\n",
    "\n",
    "###  convert LOS integration to radius integration\n",
    "def LOS_integration1(rs,r_vir,r_p):  #### radius in kpc\n",
    "    rho = lambda r: np.exp(1 - np.log(1+r/rs)/(r/rs)) * r/np.sqrt(r**2-r_p**2)  \n",
    "    ### r/np.sqrt(r**2-r_p**2) is the factor convert from LOS integration to radius integration\n",
    "    result = integrate.quad(rho,r_p,r_vir,epsabs=1.49e-08, epsrel=1.49e-08)\n",
    "    return result[0]\n",
    "\n",
    "integration1_vec = np.vectorize(LOS_integration1)\n",
    "print(integration1_vec)"
   ]
  },
  {
   "cell_type": "code",
   "execution_count": null,
   "metadata": {},
   "outputs": [],
   "source": [
    "test1 = np.arange(1,10)\n",
    "test2 = np.arange(1,10)\n",
    "test3 = np.arange(1,10)"
   ]
  },
  {
   "cell_type": "code",
   "execution_count": null,
   "metadata": {},
   "outputs": [],
   "source": [
    "integration_vec(test1,test2,test3)"
   ]
  },
  {
   "cell_type": "code",
   "execution_count": null,
   "metadata": {},
   "outputs": [],
   "source": [
    "# integral for hercules\n",
    "\n",
    "def integrand(x):\n",
    "    return (x**2) * (1 + x**2)**((-3 * 0.38)/2)\n",
    "\n",
    "\n",
    "def integrand_squarebeta(x):\n",
    "    return (x**2) * (1 + x**2)**(-3 * 0.38)\n",
    "\n",
    "def test_integrand(x):\n",
    "    return x**2\n",
    "    "
   ]
  },
  {
   "cell_type": "code",
   "execution_count": null,
   "metadata": {},
   "outputs": [],
   "source": [
    "I1 = quad(integrand, 0, 35.08)\n",
    "I1"
   ]
  },
  {
   "cell_type": "code",
   "execution_count": null,
   "metadata": {},
   "outputs": [],
   "source": [
    "I2 = quad(integrand_squarebeta, 0, 35.08)\n",
    "I2"
   ]
  },
  {
   "cell_type": "code",
   "execution_count": null,
   "metadata": {},
   "outputs": [],
   "source": [
    "x = 2\n",
    "(x**2.) * (1. + x**2.)**(-0.57)"
   ]
  },
  {
   "cell_type": "code",
   "execution_count": null,
   "metadata": {},
   "outputs": [],
   "source": [
    "quad(test_integrand, 0, 4)"
   ]
  },
  {
   "cell_type": "code",
   "execution_count": null,
   "metadata": {},
   "outputs": [],
   "source": [
    "I1[0] * 4 * np.pi"
   ]
  },
  {
   "cell_type": "code",
   "execution_count": null,
   "metadata": {},
   "outputs": [],
   "source": [
    "I2[0] * 4 * np.pi"
   ]
  },
  {
   "cell_type": "code",
   "execution_count": null,
   "metadata": {},
   "outputs": [],
   "source": [
    "integrand(2)"
   ]
  },
  {
   "cell_type": "code",
   "execution_count": null,
   "metadata": {},
   "outputs": [],
   "source": [
    "integrand_squarebeta(2)"
   ]
  },
  {
   "cell_type": "code",
   "execution_count": null,
   "metadata": {},
   "outputs": [],
   "source": []
  }
 ],
 "metadata": {
  "kernelspec": {
   "display_name": "Python 3",
   "language": "python",
   "name": "python3"
  },
  "language_info": {
   "codemirror_mode": {
    "name": "ipython",
    "version": 3
   },
   "file_extension": ".py",
   "mimetype": "text/x-python",
   "name": "python",
   "nbconvert_exporter": "python",
   "pygments_lexer": "ipython3",
   "version": "3.6.9"
  }
 },
 "nbformat": 4,
 "nbformat_minor": 4
}
