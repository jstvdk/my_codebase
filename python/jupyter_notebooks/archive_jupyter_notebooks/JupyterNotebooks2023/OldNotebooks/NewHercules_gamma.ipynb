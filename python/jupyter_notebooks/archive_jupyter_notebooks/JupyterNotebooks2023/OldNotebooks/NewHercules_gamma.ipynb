{
 "cells": [
  {
   "cell_type": "code",
   "execution_count": null,
   "metadata": {},
   "outputs": [],
   "source": [
    "from matplotlib.colors import SymLogNorm\n",
    "import matplotlib\n",
    "import matplotlib.pyplot as plt\n",
    "import numpy as np\n",
    "from astropy.coordinates.sky_coordinate import SkyCoord\n",
    "import astropy.units as u\n",
    "from astropy.cosmology import Planck15 as cosmo\n",
    "#from astropy.cosmology import FlatLambdaCDM\n",
    "#cosmo = FlatLambdaCDM(H0=70, Om0=0.3, Tcmb0=2.725, Ob0 = 0.0486, m_nu = [0, 0, 0.06] * u.eV)\n",
    "from astropy.wcs import WCS\n",
    "from minot import model\n",
    "import minot\n",
    "\n",
    "# Modify plotting parameters\n",
    "dict_base = {'font.size':        16,\n",
    "             'legend.fontsize':  16,\n",
    "             'xtick.labelsize':  16,\n",
    "             'ytick.labelsize':  16,\n",
    "             'axes.labelsize':   16,\n",
    "             'axes.titlesize':   16,\n",
    "             'figure.titlesize': 16,    \n",
    "             'figure.figsize':[8.0, 6.0],\n",
    "             'figure.subplot.right':0.97,\n",
    "             'figure.subplot.left':0.15,\n",
    "             'font.family':'serif',\n",
    "             'figure.facecolor': 'white',\n",
    "             'legend.frameon': True}\n",
    "plt.rcParams.update(dict_base)"
   ]
  },
  {
   "cell_type": "code",
   "execution_count": null,
   "metadata": {},
   "outputs": [],
   "source": [
    "clust = model.Cluster(name='A2151CB', \n",
    "                      redshift=0.0368, M500=14.32e13*u.Msun, \n",
    "                      cosmology=cosmo, silent=False, \n",
    "                      output_dir='/Users/vdk/Desktop/test')"
   ]
  },
  {
   "cell_type": "code",
   "execution_count": null,
   "metadata": {},
   "outputs": [],
   "source": [
    "#----- Some parameters that can be set at when defining the cluster\n",
    "clust.coord = SkyCoord(\"241.14d  17.72d\", frame=\"icrs\", unit=\"deg\")\n",
    "\n",
    "#----- Define the relevant ICM model (available models are defined in model_modpar.py)\n",
    "\n",
    "# Density profile of the target thermal gas\n",
    "clust.density_gas_model = {'name':'beta', 'n_0':8.51e-3*u.cm**-3, 'beta':0.38, 'r_c':19.35*u.kpc}\n",
    "\n",
    "# Pressure profile of the target thermal gas\n",
    "#clust.pressure_gas_model = {'name':'GNFW', 'P_0':2.2e-2*u.keV/u.cm**3, 'c500':2.9, 'a':1.8, 'b':3.1, 'c':0.0}\n",
    "\n",
    "#Arnaud test\n",
    "#clust.pressure_gas_model = {'name':'GNFW', 'P_0':2.57e-2*u.keV/u.cm**3, 'c500':1.1, 'a':1., 'b':5.4, 'c':0.3}\n",
    "\n",
    "#TEST\n",
    "#clust.pressure_gas_model = {'name':'GNFW', 'P_0':6.41e-2*u.keV/u.cm**3, 'c500':1.81, 'a':1.33, 'b':4.13, 'c':0.31}\n",
    "#clust.pressure_gas_model = {'name':'GNFW', 'P_0':0.005659390691979803*u.keV/u.cm**3, 'c500':1.81, 'a':1.33, 'b':4.13, 'c':0.31}\n",
    "clust.pressure_gas_model = {'name':'GNFW', 'P_0':0.01*u.keV/u.cm**3, 'c500':1.81, 'a':1.33, 'b':4.13, 'c':0.31}\n",
    "\n",
    "#Gong test\n",
    "#clust.pressure_gas_model = {'name':'GNFW', 'P_0':2.99e-2*u.keV/u.cm**3, 'c500':1.16, 'a':2.66, 'b':5.48, 'c':0.3}\n",
    "\n",
    "#Gong test w/o eta\n",
    "#clust.pressure_gas_model = {'name':'GNFW', 'P_0':3.04e-2*u.keV/u.cm**3, 'c500':2.12, 'a':5.8, 'b':4.83, 'c':0.31}\n",
    "\n",
    "#Ma Gong test\n",
    "#clust.pressure_gas_model = {'name':'GNFW', 'P_0':6.62e-2*u.keV/u.cm**3, 'c500':1.91, 'a':1.65, 'b':4.88, 'c':0.31}\n",
    "\n",
    "#Plank Coma Universal test\n",
    "#clust.pressure_gas_model = {'name':'GNFW', 'P_0':2.57e-2*u.keV/u.cm**3, 'c500':1.17, 'a':1.05, 'b':5.49, 'c':0.3}\n",
    "\n",
    "#Test from minot model\n",
    "#clust.set_pressure_gas_gNFW_param(pressure_model = 'P13UPP')\n",
    "\n",
    "#Planck test\n",
    "#clust.pressure_gas_model = {'name':'GNFW', 'P_0':2.57e-2*u.keV/u.cm**3, 'c500':1.17, 'a':1.05, 'b':5.49, 'c':0.3}\n",
    "\n",
    "#Pressure from Nagai paper\n",
    "#clust.pressure_gas_model = {'name':'GNFW', 'P_0':3.3e-2*u.keV/u.cm**3, 'c500':1.8, 'a':1.3, 'b':4.3, 'c':0.7}\n",
    "\n",
    "# Set the cosmic ray density profile to the same shape as the thermal gas density\n",
    "clust.set_density_crp_isodens_scal_param()\n",
    "\n",
    "# Cosmic ray proton spectrum\n",
    "clust.spectrum_crp_model = {'name':'ExponentialCutoffPowerLaw', 'Index':2., 'CutoffEnergy':10e5*u.TeV}\n",
    "\n",
    "# Cosmic ray proton normalization\n",
    "clust.X_crp_E = {'X':0.1, 'R_norm':clust.R500} # X is the CRp/thermal energy ratio, normalized within R_norm\n",
    "\n",
    "clust.X_cre1_E = {'X':0.1, 'R_norm':clust.R500} # X is the CRp/thermal energy ratio, normalized within R_norm\n",
    "\n",
    "\n",
    "\n",
    "#Set magnetic field profile\n",
    "clust.set_magfield_isodens_scal_param(5*u.uG, scal=0.5)\n",
    "\n",
    "clust.Epmax = 10e6*u.TeV\n",
    "clust.Eemax = 10e6*u.TeV\n",
    "\n",
    "clust.abundance = 0.43"
   ]
  },
  {
   "cell_type": "code",
   "execution_count": null,
   "metadata": {},
   "outputs": [],
   "source": [
    "clust_two = model.Cluster(name='A2151CF', \n",
    "                      redshift=0.0368, M500=14.28e13*u.Msun, \n",
    "                      cosmology=cosmo, silent=False, \n",
    "                      output_dir='/Users/vdk/Desktop/test')"
   ]
  },
  {
   "cell_type": "code",
   "execution_count": null,
   "metadata": {},
   "outputs": [],
   "source": [
    "#----- Some parameters that can be set at when defining the cluster\n",
    "clust_two.coord = SkyCoord(\"241.28d  17.72d\", frame=\"icrs\", unit=\"deg\")\n",
    "\n",
    "#----- Define the relevant ICM model (available models are defined in model_modpar.py)\n",
    "\n",
    "# Density profile of the target thermal gas\n",
    "clust_two.density_gas_model = {'name':'beta', 'n_0':3.87e-3*u.cm**-3, 'beta':0.28, 'r_c':10.43*u.kpc}\n",
    "\n",
    "# Pressure profile of the target thermal gas\n",
    "#clust_two.pressure_gas_model = {'name':'GNFW', 'P_0':2.2e-2*u.keV/u.cm**3, 'c500':2.9, 'a':1.8, 'b':3.1, 'c':0.0}\n",
    "\n",
    "#Arnaud test\n",
    "#clust_two.pressure_gas_model = {'name':'GNFW', 'P_0':2.57e-2*u.keV/u.cm**3, 'c500':1.1, 'a':1., 'b':5.4, 'c':0.3}\n",
    "\n",
    "#Plank Coma Universal test\n",
    "#clust_two.pressure_gas_model = {'name':'GNFW', 'P_0':2.57e-2*u.keV/u.cm**3, 'c500':1.17, 'a':1.05, 'b':5.49, 'c':0.3}\n",
    "\n",
    "#Gong test\n",
    "#clust_two.pressure_gas_model = {'name':'GNFW', 'P_0':2.99e-2*u.keV/u.cm**3, 'c500':1.16, 'a':2.66, 'b':5.48, 'c':0.3}\n",
    "\n",
    "#TEST\n",
    "clust_two.pressure_gas_model = {'name':'GNFW', 'P_0':0.25e-2*u.keV/u.cm**3, 'c500':1.81, 'a':1.33, 'b':4.13, 'c':0.31}\n",
    "\n",
    "#Gong test w/o eta\n",
    "#clust_two.pressure_gas_model = {'name':'GNFW', 'P_0':3.04e-2*u.keV/u.cm**3, 'c500':2.12, 'a':5.8, 'b':4.83, 'c':0.31}\n",
    "\n",
    "#Test from minot model\n",
    "#clust_two.set_pressure_gas_gNFW_param(pressure_model = 'A10UPP')\n",
    "\n",
    "#Ma Gong test\n",
    "#clust_two.pressure_gas_model = {'name':'GNFW', 'P_0':6.62e-2*u.keV/u.cm**3, 'c500':1.91, 'a':1.65, 'b':4.88, 'c':0.31}\n",
    "\n",
    "#Planck test\n",
    "#clust_two.pressure_gas_model = {'name':'GNFW', 'P_0':2.57e-2*u.keV/u.cm**3, 'c500':1.17, 'a':1.05, 'b':5.49, 'c':0.3}\n",
    "\n",
    "#Pressure from Nagai paper\n",
    "#clust.pressure_gas_model = {'name':'GNFW', 'P_0':3.3e-2*u.keV/u.cm**3, 'c500':1.8, 'a':1.3, 'b':4.3, 'c':0.7}\n",
    "\n",
    "# Set the cosmic ray density profile to the same shape as the thermal gas density\n",
    "clust_two.set_density_crp_isodens_scal_param()\n",
    "\n",
    "# Cosmic ray proton spectrum\n",
    "clust_two.spectrum_crp_model = {'name':'ExponentialCutoffPowerLaw', 'Index':2., 'CutoffEnergy':10e5*u.TeV}\n",
    "# Cosmic ray proton normalization\n",
    "clust_two.X_crp_E = {'X':0.1, 'R_norm':clust.R500} # X is the CRp/thermal energy ratio, normalized within R_norm\n",
    "\n",
    "#Set magnetic field profile\n",
    "clust_two.set_magfield_isodens_scal_param(5*u.uG, scal=0.5)\n",
    "\n",
    "clust_two.abundance = 0.13"
   ]
  },
  {
   "cell_type": "code",
   "execution_count": null,
   "metadata": {},
   "outputs": [],
   "source": [
    "energy = np.logspace(-1,5,100)*u.GeV\n",
    "e1, s1 = clust.get_gamma_spectrum(energy,Rmax=clust.R_truncation, type_integral='spherical')\n",
    "e2, s2 = clust_two.get_gamma_spectrum(energy,Rmax=clust.R_truncation, type_integral='spherical')\n",
    "\n",
    "# разом з СТА чутливістю\n",
    "plt.figure(0,figsize=(10,8))\n",
    "bins_lo = [0.02, 0.0316, 0.0501, 0.0794, 0.126, 0.2, 0.316, 0.501, 0.794, 1.26, 2, 3.16, 5.01, 7.94, 12.6, 20, 31.6, 50.1, 79.4, 126] # E_min (TeV)\n",
    "bins_hi = [0.0316, 0.0501, 0.0794, 0.126, 0.2, 0.316, 0.501, 0.794, 1.26, 2, 3.16, 5.01, 7.94, 12.6, 20, 31.6, 50.1, 79.4, 126, 200] # E_max (TeV)\n",
    "data = [2.37e-11, 8.35e-12, 2.02e-12, 9.41e-13, 5.37e-13, 3.58e-13, 2.43e-13, 1.76e-13, 1.35e-13, 1.24e-13, 1.1e-13,\n",
    "        1.21e-13, 1.44e-13, 2.06e-13, 3.2e-13, 5.1e-13, 7.97e-13, 1.2e-12, 1.93e-12, 3.92e-12] # S (erg / cm^2 / s)\n",
    "data_GeV = [i * 624.15064799632 for i in data]\n",
    "mid_point = [np.exp((np.log(i)+np.log(j))/2) * 1000 for i, j in zip(bins_lo, bins_hi)]\n",
    "plt.loglog(mid_point, data_GeV, color='k', ls='-.', lw='2', alpha=0.5, label = 'CTA North sensivity 50h')\n",
    "\n",
    "#LHAASO sensitivity\n",
    "bins_lo = [0.3, 0.6, 1, 2, 2.5, 3, 5, 8, 10, 20, 50, 100, 170, 300] # E_min (TeV)\n",
    "bins_hi = [0.6, 1, 2, 2.5, 3, 5, 8, 10, 20, 50, 100, 170, 300, 600] # E_max (TeV)\n",
    "data = [3e-9, 8e-10, 4e-10, 1e-10, 8e-11, 7e-11, 8e-11, 9e-11, 6e-11, 4e-11, 1.5e-11, 2e-11, 5e-11, 7e-11 ] # S (GeV/ cm^2 / s)\n",
    "mid_point = [np.exp((np.log(i)+np.log(j))/2) * 1000 for i, j in zip(bins_lo, bins_hi)]\n",
    "plt.loglog(mid_point, data, color='r', ls='-.', lw='2', alpha=0.5, label = 'LHAASO sensivity')\n",
    "\n",
    "\n",
    "sum = s1 + s2\n",
    "plt.gca().set_ylim(bottom= 1e-12)\n",
    "plt.gca().set_xlim(left= 1e-1)\n",
    "\n",
    "plt.loglog(e1, (e1**2*s1).to('GeV cm-2 s-1'), '-', label='Total volume A2151CB')\n",
    "plt.loglog(e1, (e1**2*sum).to('GeV cm-2 s-1'), '-', label='Total volume of two subclumps')\n",
    "plt.loglog(e2, (e2**2*s2).to('GeV cm-2 s-1'), '-', label='Total volume A2151CF')\n",
    "plt.xlabel('Energy (GeV)')\n",
    "plt.ylabel('Flux ($GeV/cm^2/s$)')\n",
    "plt.legend()"
   ]
  },
  {
   "cell_type": "code",
   "execution_count": null,
   "metadata": {},
   "outputs": [],
   "source": [
    "def gNFW_normalization(redshift, M500, cosmo=cosmo):\n",
    "    \"\"\"\n",
    "    Compute a gNFW model electronic pressure normalization based on mass and redshift.\n",
    "    See Arnaud et al. A&A 517, A92 (2010). This does not account to the P0 \n",
    "    term, which should be multiplied to get the overall normalization.\n",
    "    Parameters\n",
    "    ----------\n",
    "    - redshift: redshift of the cluster\n",
    "    - M500 (Msun): the mass within R500 of the cluster \n",
    "    Outputs\n",
    "    --------\n",
    "    - Pnorm (keV/cm^-3): the electron pressure normalization\n",
    "    \"\"\"\n",
    "\n",
    "    E_z = cosmo.efunc(redshift)\n",
    "    h70 = cosmo.H0.value/70.0\n",
    "\n",
    "    F_M = (M500/3e14*h70)**0.12\n",
    "    P500 = 1.65e-3 * E_z**(8.0/3.0) * (M500/3e14*h70)**(2.0/3.0) * h70**2\n",
    "    \n",
    "    Pnorm = P500 * F_M\n",
    "    \n",
    "    return Pnorm\n",
    "\n",
    "def gNFW_model(r3d_kpc, P0, r_p, c_500 = 1.81, slope_a=1.33, slope_b=4.13, slope_c=0.31):\n",
    "    \"\"\"\n",
    "    Compute a gNFW model\n",
    "    Parameters\n",
    "    ----------\n",
    "    - r3d_kpc (kpc): array of radius\n",
    "    - P0 : normalization\n",
    "    - r_p (kpc): characteristic radius parameter\n",
    "    - sope_a : intermediate slope parameter\n",
    "    - sope_b : outer slope parameter\n",
    "    - sope_c : inner slope parameter\n",
    "    Outputs\n",
    "    --------\n",
    "    - gNFW model profile as a function of the input radius vector\n",
    "    \"\"\"\n",
    "    r_p = r_500 / c_500\n",
    "    \n",
    "    return P0 * (r3d_kpc / r_p)**(-slope_c) * (1 + (r3d_kpc / r_p)**(slope_a))**((slope_c-slope_b)/slope_a)"
   ]
  },
  {
   "cell_type": "code",
   "execution_count": null,
   "metadata": {},
   "outputs": [],
   "source": [
    "gNFW_normalization(0.038, 14.32e13, cosmo)"
   ]
  },
  {
   "cell_type": "code",
   "execution_count": null,
   "metadata": {},
   "outputs": [],
   "source": [
    "clust.print_param()"
   ]
  },
  {
   "cell_type": "code",
   "execution_count": null,
   "metadata": {},
   "outputs": [],
   "source": [
    "gNFW_normalization(0.038, 14.01e13, cosmo)"
   ]
  },
  {
   "cell_type": "code",
   "execution_count": null,
   "metadata": {},
   "outputs": [],
   "source": [
    "slope_a = 1.33\n",
    "slope_b = 4.13\n",
    "slope_c = 0.31\n",
    "c_500 = 1.81\n",
    "r_500 = 566\n",
    "r_p = r_500 / c_500\n",
    "\n",
    "r3d_kpc = 327\n",
    "P_r = 0.96e-3\n",
    "\n",
    "# znamennyk z gNFW\n",
    "ksi = ((r3d_kpc / r_p)**(slope_c)) * (1 + (r3d_kpc / r_p)**(slope_a))**((slope_b-slope_c)/slope_a)\n",
    "\n",
    "P_500 = gNFW_normalization(0.038, 14.08e13, cosmo)"
   ]
  },
  {
   "cell_type": "code",
   "execution_count": null,
   "metadata": {},
   "outputs": [],
   "source": [
    "ksi*P_r"
   ]
  },
  {
   "cell_type": "code",
   "execution_count": null,
   "metadata": {},
   "outputs": [],
   "source": [
    "P_0 = (ksi*P_r) / gNFW_normalization(0.038, 3.01e13, cosmo)"
   ]
  },
  {
   "cell_type": "code",
   "execution_count": null,
   "metadata": {},
   "outputs": [],
   "source": [
    "P_0 "
   ]
  },
  {
   "cell_type": "code",
   "execution_count": null,
   "metadata": {},
   "outputs": [],
   "source": [
    "P_0 * gNFW_normalization(0.038, 3.01e13, cosmo)"
   ]
  },
  {
   "cell_type": "code",
   "execution_count": null,
   "metadata": {},
   "outputs": [],
   "source": [
    "ksi*P_r"
   ]
  },
  {
   "cell_type": "code",
   "execution_count": null,
   "metadata": {},
   "outputs": [],
   "source": [
    "clust.R500"
   ]
  },
  {
   "cell_type": "code",
   "execution_count": null,
   "metadata": {},
   "outputs": [],
   "source": [
    "2965.957400150964*P_500"
   ]
  },
  {
   "cell_type": "code",
   "execution_count": null,
   "metadata": {},
   "outputs": [],
   "source": [
    "psi"
   ]
  },
  {
   "cell_type": "code",
   "execution_count": null,
   "metadata": {},
   "outputs": [],
   "source": [
    "clust.print_param()"
   ]
  },
  {
   "cell_type": "code",
   "execution_count": null,
   "metadata": {},
   "outputs": [],
   "source": [
    "clust.__dir__()"
   ]
  },
  {
   "cell_type": "code",
   "execution_count": null,
   "metadata": {},
   "outputs": [],
   "source": [
    "# перевірка чи сходяться графіки\n",
    "slope_a = 1.33\n",
    "slope_b = 4.13\n",
    "slope_c = 0.31\n",
    "r3d_kpc = 1\n",
    "c_500 = 1.81\n",
    "r_500 = 803.38\n",
    "r_p = r_500 / c_500\n",
    "r_p = r_500 / c_500\n",
    "0.009 * (r3d_kpc / r_p)**(-slope_c) * (1 + (r3d_kpc / r_p)**(slope_a))**((slope_c-slope_b)/slope_a)"
   ]
  },
  {
   "cell_type": "code",
   "execution_count": null,
   "metadata": {},
   "outputs": [],
   "source": []
  }
 ],
 "metadata": {
  "kernelspec": {
   "display_name": "Python 3",
   "language": "python",
   "name": "python3"
  },
  "language_info": {
   "codemirror_mode": {
    "name": "ipython",
    "version": 3
   },
   "file_extension": ".py",
   "mimetype": "text/x-python",
   "name": "python",
   "nbconvert_exporter": "python",
   "pygments_lexer": "ipython3",
   "version": "3.6.9"
  }
 },
 "nbformat": 4,
 "nbformat_minor": 4
}
