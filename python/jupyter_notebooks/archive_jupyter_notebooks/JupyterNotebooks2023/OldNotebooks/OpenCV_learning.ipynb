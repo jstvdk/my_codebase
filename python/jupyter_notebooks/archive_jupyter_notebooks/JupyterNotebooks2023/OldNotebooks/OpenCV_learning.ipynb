{
 "cells": [
  {
   "cell_type": "code",
   "execution_count": null,
   "id": "0",
   "metadata": {},
   "outputs": [],
   "source": [
    "from imutils.video import VideoStream\n",
    "from imutils.video import FPS\n",
    "import argparse\n",
    "import imutils\n",
    "import time\n",
    "import cv2\n",
    "import cv2\n",
    "import numpy as np\n",
    "import matplotlib.pyplot as plt\n",
    "%matplotlib inline\n",
    "from IPython.display import Image\n",
    "from skimage import data\n",
    "from skimage.filters import threshold_otsu\n",
    "from skimage.segmentation import clear_border\n",
    "from skimage.measure import label, regionprops\n",
    "from skimage.morphology import closing, square\n",
    "from skimage.color import label2rgb\n",
    "import tifffile as tiff\n"
   ]
  },
  {
   "cell_type": "code",
   "execution_count": null,
   "id": "1",
   "metadata": {},
   "outputs": [],
   "source": [
    "cb_img = cv2.imread(\"/Users/vdk/Downloads/Target_Blob.png\",0)"
   ]
  },
  {
   "cell_type": "code",
   "execution_count": null,
   "id": "2",
   "metadata": {},
   "outputs": [],
   "source": [
    "cv2.__version__"
   ]
  },
  {
   "cell_type": "code",
   "execution_count": null,
   "id": "3",
   "metadata": {},
   "outputs": [],
   "source": [
    "label_image = label(cb_img)"
   ]
  },
  {
   "cell_type": "code",
   "execution_count": null,
   "id": "4",
   "metadata": {},
   "outputs": [],
   "source": [
    "tiff.imshow(label_image)"
   ]
  },
  {
   "cell_type": "code",
   "execution_count": null,
   "id": "5",
   "metadata": {},
   "outputs": [],
   "source": [
    "# Read image as gray scale.\n",
    "cb_img = cv2.imread(\"checkerboard_18x18.png\",0)\n",
    "cb_img = cv2.imread(\"/Users/vdk/screenshots/Screenshot 2022-11-01 at 16.51.09.png\",0)\n",
    "\n",
    "# Print the image data (pixel values), element of a 2D numpy array.\n",
    "# Each pixel value is 8-bits [0,255]\n",
    "print(cb_img)"
   ]
  },
  {
   "cell_type": "code",
   "execution_count": null,
   "id": "6",
   "metadata": {},
   "outputs": [],
   "source": [
    "np.shape(cb_img)"
   ]
  },
  {
   "cell_type": "code",
   "execution_count": null,
   "id": "7",
   "metadata": {},
   "outputs": [],
   "source": [
    "import cv2\n",
    "import numpy as np\n",
    "\n",
    "# read image\n",
    "img = cv2.imread(\"/Users/vdk/Downloads/Figure_1.png\")\n",
    "\n",
    "# convert img to grayscale\n",
    "gray = cv2.cvtColor(img, cv2.COLOR_BGR2GRAY)\n",
    "\n",
    "# do adaptive threshold on gray image\n",
    "thresh = cv2.adaptiveThreshold(gray, 255, cv2.ADAPTIVE_THRESH_MEAN_C, cv2.THRESH_BINARY, 101, 3)\n",
    "\n",
    "# apply morphology open then close\n",
    "kernel = cv2.getStructuringElement(cv2.MORPH_ELLIPSE, (5,5))\n",
    "blob = cv2.morphologyEx(thresh, cv2.MORPH_OPEN, kernel)\n",
    "kernel = cv2.getStructuringElement(cv2.MORPH_ELLIPSE, (9,9))\n",
    "blob = cv2.morphologyEx(blob, cv2.MORPH_CLOSE, kernel)\n",
    "\n",
    "# invert blob\n",
    "blob = (255 - blob)\n",
    "\n",
    "# Get contours\n",
    "cnts = cv2.findContours(blob, cv2.RETR_EXTERNAL, cv2.CHAIN_APPROX_SIMPLE)\n",
    "cnts = cnts[0] if len(cnts) == 2 else cnts[1]\n",
    "big_contour = max(cnts, key=cv2.contourArea)\n",
    "\n",
    "# test blob size\n",
    "blob_area_thresh = 1000\n",
    "blob_area = cv2.contourArea(big_contour)\n",
    "if blob_area < blob_area_thresh:\n",
    "    print(\"Blob Is Too Small\")\n",
    "\n",
    "# draw contour\n",
    "result = img.copy()\n",
    "cv2.drawContours(result, [big_contour], -1, (0,0,255), 1)\n",
    "\n",
    "# write results to disk\n",
    "cv2.imwrite(\"doco3_threshold.jpg\", thresh)\n",
    "cv2.imwrite(\"doco3_blob.jpg\", blob)\n",
    "cv2.imwrite(\"doco3_contour.jpg\", result)\n",
    "\n",
    "# display it\n",
    "cv2.imshow(\"IMAGE\", img)\n",
    "cv2.imshow(\"THRESHOLD\", thresh)\n",
    "cv2.imshow(\"BLOB\", blob)\n",
    "cv2.imshow(\"RESULT\", result)\n",
    "cv2.waitKey(0)"
   ]
  },
  {
   "cell_type": "code",
   "execution_count": null,
   "id": "8",
   "metadata": {},
   "outputs": [],
   "source": []
  },
  {
   "cell_type": "code",
   "execution_count": null,
   "id": "9",
   "metadata": {},
   "outputs": [],
   "source": []
  },
  {
   "cell_type": "code",
   "execution_count": null,
   "id": "10",
   "metadata": {},
   "outputs": [],
   "source": []
  }
 ],
 "metadata": {
  "kernelspec": {
   "display_name": "Python 3",
   "language": "python",
   "name": "python3"
  },
  "language_info": {
   "codemirror_mode": {
    "name": "ipython",
    "version": 3
   },
   "file_extension": ".py",
   "mimetype": "text/x-python",
   "name": "python",
   "nbconvert_exporter": "python",
   "pygments_lexer": "ipython3",
   "version": "3.8.8"
  }
 },
 "nbformat": 4,
 "nbformat_minor": 5
}
