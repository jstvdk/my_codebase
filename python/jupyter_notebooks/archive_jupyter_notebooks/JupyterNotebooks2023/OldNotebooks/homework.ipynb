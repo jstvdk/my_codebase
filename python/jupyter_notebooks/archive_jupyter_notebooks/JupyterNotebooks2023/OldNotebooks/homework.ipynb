{
 "cells": [
  {
   "cell_type": "code",
   "execution_count": null,
   "metadata": {
    "executionInfo": {
     "elapsed": 408,
     "status": "ok",
     "timestamp": 1632202417953,
     "user": {
      "displayName": "Соня Невельчук",
      "photoUrl": "https://lh3.googleusercontent.com/a-/AOh14GiDDZDLbPZ9Wqv-Cretdmvh4B5d-h3TcRjzlOgN=s64",
      "userId": "17392375534603795490"
     },
     "user_tz": -180
    },
    "id": "GEM6pj60g7qV"
   },
   "outputs": [],
   "source": [
    "import pandas as pd"
   ]
  },
  {
   "cell_type": "code",
   "execution_count": null,
   "metadata": {
    "executionInfo": {
     "elapsed": 2138,
     "status": "ok",
     "timestamp": 1632202421677,
     "user": {
      "displayName": "Соня Невельчук",
      "photoUrl": "https://lh3.googleusercontent.com/a-/AOh14GiDDZDLbPZ9Wqv-Cretdmvh4B5d-h3TcRjzlOgN=s64",
      "userId": "17392375534603795490"
     },
     "user_tz": -180
    },
    "id": "tLWeLJZMhjvc"
   },
   "outputs": [],
   "source": [
    "df=pd.read_csv('/content/drive/MyDrive/ColabNotebooks/StudentsPerformance.csv')"
   ]
  },
  {
   "cell_type": "code",
   "execution_count": null,
   "metadata": {
    "executionInfo": {
     "elapsed": 2,
     "status": "ok",
     "timestamp": 1632202422795,
     "user": {
      "displayName": "Соня Невельчук",
      "photoUrl": "https://lh3.googleusercontent.com/a-/AOh14GiDDZDLbPZ9Wqv-Cretdmvh4B5d-h3TcRjzlOgN=s64",
      "userId": "17392375534603795490"
     },
     "user_tz": -180
    },
    "id": "2HZ3q0yWiL8n"
   },
   "outputs": [],
   "source": [
    "#df.info"
   ]
  },
  {
   "cell_type": "code",
   "execution_count": null,
   "metadata": {
    "executionInfo": {
     "elapsed": 5,
     "status": "ok",
     "timestamp": 1632202424365,
     "user": {
      "displayName": "Соня Невельчук",
      "photoUrl": "https://lh3.googleusercontent.com/a-/AOh14GiDDZDLbPZ9Wqv-Cretdmvh4B5d-h3TcRjzlOgN=s64",
      "userId": "17392375534603795490"
     },
     "user_tz": -180
    },
    "id": "tw7u0QvBiQRc"
   },
   "outputs": [],
   "source": [
    "#df"
   ]
  },
  {
   "cell_type": "code",
   "execution_count": null,
   "metadata": {
    "executionInfo": {
     "elapsed": 4,
     "status": "ok",
     "timestamp": 1632202425665,
     "user": {
      "displayName": "Соня Невельчук",
      "photoUrl": "https://lh3.googleusercontent.com/a-/AOh14GiDDZDLbPZ9Wqv-Cretdmvh4B5d-h3TcRjzlOgN=s64",
      "userId": "17392375534603795490"
     },
     "user_tz": -180
    },
    "id": "yJznzoJCib7F"
   },
   "outputs": [],
   "source": [
    "#df.describe()"
   ]
  },
  {
   "cell_type": "code",
   "execution_count": null,
   "metadata": {
    "executionInfo": {
     "elapsed": 935,
     "status": "ok",
     "timestamp": 1632202427789,
     "user": {
      "displayName": "Соня Невельчук",
      "photoUrl": "https://lh3.googleusercontent.com/a-/AOh14GiDDZDLbPZ9Wqv-Cretdmvh4B5d-h3TcRjzlOgN=s64",
      "userId": "17392375534603795490"
     },
     "user_tz": -180
    },
    "id": "OZfn3GQtimq9"
   },
   "outputs": [],
   "source": [
    "import seaborn as sns"
   ]
  },
  {
   "cell_type": "code",
   "execution_count": null,
   "metadata": {
    "colab": {
     "base_uri": "https://localhost:8080/",
     "height": 515
    },
    "executionInfo": {
     "elapsed": 572,
     "status": "ok",
     "timestamp": 1632211705332,
     "user": {
      "displayName": "Соня Невельчук",
      "photoUrl": "https://lh3.googleusercontent.com/a-/AOh14GiDDZDLbPZ9Wqv-Cretdmvh4B5d-h3TcRjzlOgN=s64",
      "userId": "17392375534603795490"
     },
     "user_tz": -180
    },
    "id": "NjpHfSJui0WF",
    "outputId": "be70779f-454f-43c4-b437-2af044d4d1a9"
   },
   "outputs": [],
   "source": [
    "import matplotlib.pyplot as plt\n",
    "plt.figure(figsize=(12,8))\n",
    "sns.boxplot(data=df,x='gender', y='reading score', width=0.2)##building boxplot"
   ]
  },
  {
   "cell_type": "code",
   "execution_count": null,
   "metadata": {
    "id": "tgC_Lh5Di731"
   },
   "outputs": [],
   "source": [
    "plt.figure(figsize=(12,8))\n",
    "sns.barplot(data=df, x='gender', y='reading score', ci=68)##building barplot, ci=68% (1 SD)"
   ]
  },
  {
   "cell_type": "code",
   "execution_count": null,
   "metadata": {
    "id": "zkJNn_hQkZ0B"
   },
   "outputs": [],
   "source": [
    "!pip install pingouin"
   ]
  },
  {
   "cell_type": "code",
   "execution_count": null,
   "metadata": {
    "colab": {
     "base_uri": "https://localhost:8080/",
     "height": 112
    },
    "executionInfo": {
     "elapsed": 1425,
     "status": "ok",
     "timestamp": 1632202468401,
     "user": {
      "displayName": "Соня Невельчук",
      "photoUrl": "https://lh3.googleusercontent.com/a-/AOh14GiDDZDLbPZ9Wqv-Cretdmvh4B5d-h3TcRjzlOgN=s64",
      "userId": "17392375534603795490"
     },
     "user_tz": -180
    },
    "id": "QGQeTdD3koG9",
    "outputId": "a0156401-f7b8-4762-da5f-44a2183e9a80"
   },
   "outputs": [],
   "source": [
    "import pingouin as pg\n",
    "pg.normality(data=df, dv='reading score', group='gender', method='normaltest')##performing omnibus normality test, approprite for large samples"
   ]
  },
  {
   "cell_type": "code",
   "execution_count": null,
   "metadata": {
    "colab": {
     "base_uri": "https://localhost:8080/",
     "height": 81
    },
    "executionInfo": {
     "elapsed": 356,
     "status": "ok",
     "timestamp": 1632202525124,
     "user": {
      "displayName": "Соня Невельчук",
      "photoUrl": "https://lh3.googleusercontent.com/a-/AOh14GiDDZDLbPZ9Wqv-Cretdmvh4B5d-h3TcRjzlOgN=s64",
      "userId": "17392375534603795490"
     },
     "user_tz": -180
    },
    "id": "QpfZ6rVUnnd_",
    "outputId": "8ed44195-a6d5-4f7a-a0fb-9a3e6462bee0"
   },
   "outputs": [],
   "source": [
    "pg.homoscedasticity(data=df, dv='reading score', group='gender')##performing homoscedasticity test"
   ]
  },
  {
   "cell_type": "code",
   "execution_count": null,
   "metadata": {
    "id": "J8DDik1Rn28z"
   },
   "outputs": [],
   "source": [
    "female=df.query('gender==\"female\"')['reading score']##string syntax for filtering\n",
    "male=df.query('gender==\"female\"')['reading score']\n",
    "##male\n",
    "##female"
   ]
  },
  {
   "cell_type": "code",
   "execution_count": null,
   "metadata": {
    "colab": {
     "base_uri": "https://localhost:8080/",
     "height": 81
    },
    "executionInfo": {
     "elapsed": 194,
     "status": "ok",
     "timestamp": 1632165254773,
     "user": {
      "displayName": "Соня Невельчук",
      "photoUrl": "https://lh3.googleusercontent.com/a-/AOh14GiDDZDLbPZ9Wqv-Cretdmvh4B5d-h3TcRjzlOgN=s64",
      "userId": "17392375534603795490"
     },
     "user_tz": -180
    },
    "id": "KoYdgkT8oPGX",
    "outputId": "34cdca62-9b25-4900-f973-85fefdd9e68a"
   },
   "outputs": [],
   "source": [
    "pg.ttest(female,male)##performing t-test"
   ]
  },
  {
   "cell_type": "markdown",
   "metadata": {
    "id": "KKaIJ5M9Y5NK"
   },
   "source": [
    "Two tailed unpaired t-test have been performed. Normality test showed that the sample from group 'male' corresponds to the normal distirbution, which is not true for 'female'. However, levenes homoscedacicity test shows that dyspersions of the both groups are homogenous (p>0,05). t-test p value "
   ]
  }
 ],
 "metadata": {
  "colab": {
   "authorship_tag": "ABX9TyOHWUibDu81VYZ1QJRsyVS8",
   "collapsed_sections": [],
   "mount_file_id": "19Wp2OJ9UKggYPC3DxVemiNS87l5y_RMc",
   "name": "homework.ipynb",
   "provenance": []
  },
  "kernelspec": {
   "display_name": "Python 3",
   "language": "python",
   "name": "python3"
  },
  "language_info": {
   "codemirror_mode": {
    "name": "ipython",
    "version": 3
   },
   "file_extension": ".py",
   "mimetype": "text/x-python",
   "name": "python",
   "nbconvert_exporter": "python",
   "pygments_lexer": "ipython3",
   "version": "3.8.8"
  }
 },
 "nbformat": 4,
 "nbformat_minor": 1
}
