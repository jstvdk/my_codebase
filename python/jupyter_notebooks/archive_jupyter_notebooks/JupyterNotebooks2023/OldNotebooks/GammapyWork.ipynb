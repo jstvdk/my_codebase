{
 "cells": [
  {
   "cell_type": "code",
   "execution_count": null,
   "id": "0",
   "metadata": {},
   "outputs": [],
   "source": [
    "import numpy as np\n",
    "import astropy.units as u\n",
    "from astropy.coordinates import SkyCoord\n",
    "from gammapy.irf import load_cta_irfs\n",
    "from gammapy.maps import WcsGeom, MapAxis\n",
    "from gammapy.modeling.models import (\n",
    "    PowerLawSpectralModel,\n",
    "    GaussianSpatialModel,\n",
    "    SkyModel,\n",
    "    Models,\n",
    "    FoVBackgroundModel,\n",
    ")\n",
    "from gammapy.makers import MapDatasetMaker, SafeMaskMaker\n",
    "from gammapy.modeling import Fit\n",
    "from gammapy.data import Observation\n",
    "from gammapy.datasets import MapDataset"
   ]
  },
  {
   "cell_type": "code",
   "execution_count": null,
   "id": "1",
   "metadata": {},
   "outputs": [],
   "source": [
    "sim = ctools.ctobssim()\n",
    "sim['inmodel'] = 'model_to_simulate.xml'\n",
    "sim['outevents'] = 'events_' + str(command_line_argument) + '.fits'\n",
    "#sim['caldb'] = 'prod3b'\n",
    "#sim['irf'] = 'North_z20_average_50h'\n",
    "#sim['ra'] = 98.48\n",
    "#sim['dec'] = 17.77\n",
    "sim['rad'] = 5.\n",
    "#sim['tmin'] = 0\n",
    "sim['seed'] = numpy.random.randint(low=0,high=100000000)\n",
    "#sim['tmax'] = time\n",
    "sim['emin'] = emin\n",
    "sim['emax'] = emax"
   ]
  },
  {
   "cell_type": "code",
   "execution_count": null,
   "id": "2",
   "metadata": {},
   "outputs": [],
   "source": [
    "ls"
   ]
  },
  {
   "cell_type": "code",
   "execution_count": null,
   "id": "3",
   "metadata": {},
   "outputs": [],
   "source": [
    "# Loading IRFs\n",
    "#irfs = load_cta_irfs(\"/Users/vdk/Downloads/irf_file.fits\")\n",
    "irfs = load_cta_irfs(\"/Users/vdk/WorkWithAnastasia/cta-prod5-zenodo-fitsonly-v0.1/fits/CTA-Performance-prod5-v0.1-North-20deg.FITS/Prod5.fits\")"
   ]
  },
  {
   "cell_type": "code",
   "execution_count": null,
   "id": "4",
   "metadata": {},
   "outputs": [],
   "source": [
    "irfs"
   ]
  },
  {
   "cell_type": "code",
   "execution_count": null,
   "id": "5",
   "metadata": {},
   "outputs": [],
   "source": [
    "# Define the observation parameters (typically the observation duration and the pointing position):\n",
    "livetime = 2.0 * u.hr\n",
    "pointing = SkyCoord(98.48, 17.77, unit=\"deg\", frame=\"icrs\")"
   ]
  },
  {
   "cell_type": "code",
   "execution_count": null,
   "id": "6",
   "metadata": {},
   "outputs": [],
   "source": [
    "# Define map geometry for binned simulation\n",
    "energy_reco = MapAxis.from_edges(\n",
    "    np.logspace(-1.0, 1.0, 10), unit=\"TeV\", name=\"energy\", interp=\"log\"\n",
    ")\n",
    "geom = WcsGeom.create(\n",
    "    skydir=(98.48, 17.77),\n",
    "    binsz=0.02,\n",
    "    width=(6, 6),\n",
    "    frame=\"icrs\",\n",
    "    axes=[energy_reco],\n",
    ")\n",
    "# It is usually useful to have a separate binning for the true energy axis\n",
    "energy_true = MapAxis.from_edges(\n",
    "    np.logspace(-1.5, 1.5, 30), unit=\"TeV\", name=\"energy\", interp=\"log\"\n",
    ")\n",
    "\n",
    "empty = MapDataset.create(geom, name=\"dataset-simu\")\n",
    "geom"
   ]
  },
  {
   "cell_type": "code",
   "execution_count": null,
   "id": "7",
   "metadata": {},
   "outputs": [],
   "source": [
    "# Define sky model to used simulate the data.\n",
    "# Here we use a Gaussian spatial model and a Power Law spectral model.\n",
    "spatial_model = GaussianSpatialModel(\n",
    "    lon_0=\"0.2 deg\", lat_0=\"0.1 deg\", sigma=\"0.3 deg\", frame=\"galactic\"\n",
    ")\n",
    "spectral_model = PowerLawSpectralModel(\n",
    "    index=3, amplitude=\"1e-11 cm-2 s-1 TeV-1\", reference=\"1 TeV\"\n",
    ")\n",
    "model_simu = SkyModel(\n",
    "    spatial_model=spatial_model,\n",
    "    spectral_model=spectral_model,\n",
    "    name=\"model-simu\",\n",
    ")\n",
    "\n",
    "bkg_model = FoVBackgroundModel(dataset_name=\"dataset-simu\")\n",
    "\n",
    "models = Models([model_simu, bkg_model])\n",
    "print(models)"
   ]
  },
  {
   "cell_type": "code",
   "execution_count": null,
   "id": "8",
   "metadata": {},
   "outputs": [],
   "source": [
    "# Create an in-memory observation\n",
    "obs = Observation.create(pointing=pointing, livetime=livetime, irfs=irfs)\n",
    "print(obs)"
   ]
  },
  {
   "cell_type": "code",
   "execution_count": null,
   "id": "9",
   "metadata": {},
   "outputs": [],
   "source": [
    "# Make the MapDataset\n",
    "maker = MapDatasetMaker(selection=[\"exposure\", \"background\", \"psf\", \"edisp\"])\n",
    "\n",
    "maker_safe_mask = SafeMaskMaker(methods=[\"offset-max\"], offset_max=4.0 * u.deg)\n",
    "\n",
    "dataset = maker.run(empty, obs)\n",
    "dataset = maker_safe_mask.run(dataset, obs)\n",
    "print(dataset)"
   ]
  },
  {
   "cell_type": "code",
   "execution_count": null,
   "id": "10",
   "metadata": {},
   "outputs": [],
   "source": [
    "# Add the model on the dataset and Poission fluctuate\n",
    "dataset.models = models\n",
    "dataset.fake()\n",
    "# Save dataset to fits fil\n",
    "e\n",
    "dataset.write(\"observation.fits\")"
   ]
  },
  {
   "cell_type": "code",
   "execution_count": null,
   "id": "11",
   "metadata": {},
   "outputs": [],
   "source": [
    "# This is what the XML file looks like\n",
    "# !tail -n 20 $CTADATA/models/models_gps.xml\n",
    "\n",
    "# TODO: write this example!\n",
    "\n",
    "# Read XML file and access spectrum parameters\n",
    "# from gammapy.extern import xmltodict\n",
    "\n",
    "# filename = os.path.join(os.environ[\"CTADATA\"], \"models/models_gps.xml\")\n",
    "# data = xmltodict.parse(open(filename).read())\n",
    "# data = data[\"source_library\"][\"source\"][-1]\n",
    "# data = data[\"spectrum\"][\"parameter\"]\n",
    "# data\n",
    "\n",
    "# Create a spectral model the the right units\n",
    "# from astropy import units as u\n",
    "# from gammapy.modeling.models import PowerLawSpectralModel\n",
    "\n",
    "# par_to_val = lambda par: float(par[\"@value\"]) * float(par[\"@scale\"])\n",
    "# spec = PowerLawSpectralModel(\n",
    "#     amplitude=par_to_val(data[0]) * u.Unit(\"cm-2 s-1 MeV-1\"),\n",
    "#     index=par_to_val(data[1]),\n",
    "#     reference=par_to_val(data[2]) * u.Unit(\"MeV\"),\n",
    "# )\n",
    "# print(spec)"
   ]
  },
  {
   "cell_type": "code",
   "execution_count": null,
   "id": "12",
   "metadata": {},
   "outputs": [],
   "source": [
    "from gammapy.maps import Map\n",
    "from gammapy.modeling.models import (\n",
    "    Models,\n",
    "    PowerLawSpectralModel,\n",
    "    SkyModel,\n",
    "    TemplateSpatialModel,\n",
    ")\n",
    "\n",
    "filename = \"/Users/vdk/WorkWithAnastasia/allenergies.fits\"\n",
    "m = Map.read(filename)\n",
    "m = m.copy(unit=\"sr^-1\")\n",
    "model = TemplateSpatialModel(m, filename=filename)\n",
    "\n",
    "#model.plot(add_cbar=True)"
   ]
  },
  {
   "cell_type": "code",
   "execution_count": null,
   "id": "13",
   "metadata": {},
   "outputs": [],
   "source": [
    "from gammapy.maps import MapAxis, WcsGeom\n",
    "#from gammapy.datasets import MapDataset\n",
    "\n",
    "energy_axis = MapAxis.from_bounds(\n",
    "    1, 10, nbin=11, name=\"energy\", unit=\"TeV\", interp=\"log\"\n",
    ")\n",
    "geom = WcsGeom.create(axes=[energy_axis])\n",
    "dataset_empty = MapDataset.create(geom=geom)\n",
    "print(dataset_empty)"
   ]
  },
  {
   "cell_type": "code",
   "execution_count": null,
   "id": "14",
   "metadata": {},
   "outputs": [],
   "source": [
    "a = [1,2,3,0]"
   ]
  },
  {
   "cell_type": "code",
   "execution_count": null,
   "id": "15",
   "metadata": {},
   "outputs": [],
   "source": [
    "a[3]=3"
   ]
  },
  {
   "cell_type": "code",
   "execution_count": null,
   "id": "16",
   "metadata": {},
   "outputs": [],
   "source": [
    "a"
   ]
  },
  {
   "cell_type": "code",
   "execution_count": null,
   "id": "17",
   "metadata": {},
   "outputs": [],
   "source": [
    "np.logspace(-1.0, 1.0, 10)"
   ]
  },
  {
   "cell_type": "code",
   "execution_count": null,
   "id": "18",
   "metadata": {},
   "outputs": [],
   "source": []
  }
 ],
 "metadata": {
  "kernelspec": {
   "display_name": "cta-dev",
   "language": "python",
   "name": "python3"
  },
  "language_info": {
   "codemirror_mode": {
    "name": "ipython",
    "version": 3
   },
   "file_extension": ".py",
   "mimetype": "text/x-python",
   "name": "python",
   "nbconvert_exporter": "python",
   "pygments_lexer": "ipython3",
   "version": "3.9.16"
  }
 },
 "nbformat": 4,
 "nbformat_minor": 5
}
