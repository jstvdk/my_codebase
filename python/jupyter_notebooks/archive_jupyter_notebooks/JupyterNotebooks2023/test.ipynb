{
 "cells": [
  {
   "cell_type": "code",
   "execution_count": null,
   "metadata": {},
   "outputs": [],
   "source": [
    "import numpy as np\n",
    "import matplotlib.pyplot as plt\n",
    "from seaborn import histplot\n",
    "import ctapipe.io.metadata as meta\n",
    "from astropy.time import Time"
   ]
  },
  {
   "cell_type": "code",
   "execution_count": null,
   "metadata": {},
   "outputs": [],
   "source": [
    "ProductMeta = meta.Product(description = \"test1\")\n",
    "ContactMeta = meta.Contact(email = \"test@email.ch\",  organization = \"MIB\")\n",
    "InstrumetMeta = meta.Instrument(site = \"CTA-North\", class_ = \"Telescope\")\n",
    "ProcessMeta = meta.Process()\n",
    "ActivityMeta = meta.Activity()"
   ]
  },
  {
   "cell_type": "code",
   "execution_count": null,
   "metadata": {},
   "outputs": [],
   "source": [
    "dict = meta._to_dict(InstrumetMeta)"
   ]
  },
  {
   "cell_type": "code",
   "execution_count": null,
   "metadata": {},
   "outputs": [],
   "source": [
    "ReferenceMeta = meta.Reference(product = ProductMeta, contact = ContactMeta, instrument = InstrumetMeta, process = ProcessMeta, activity = ActivityMeta)"
   ]
  },
  {
   "cell_type": "code",
   "execution_count": null,
   "metadata": {},
   "outputs": [],
   "source": [
    "test_dict = ReferenceMeta.to_dict()\n",
    "test_dict"
   ]
  },
  {
   "cell_type": "code",
   "execution_count": null,
   "metadata": {},
   "outputs": [],
   "source": [
    "test_dict['CTA PRODUCT ID']"
   ]
  },
  {
   "cell_type": "code",
   "execution_count": null,
   "metadata": {},
   "outputs": [],
   "source": [
    "np.linspace(-1,1,100)"
   ]
  },
  {
   "cell_type": "code",
   "execution_count": null,
   "metadata": {},
   "outputs": [],
   "source": [
    "import matplotlib.pyplot as plt\n",
    "import numpy as np\n",
    "import math\n",
    "\n",
    "x = np.linspace(-1,1,100)\n",
    "y = [math.cos(i) for i in x]\n",
    "plt.plot(x,y)\n",
    "plt.savefig('/Users/vdk/test.png')"
   ]
  },
  {
   "cell_type": "code",
   "execution_count": null,
   "metadata": {},
   "outputs": [],
   "source": [
    "flag_events = 10"
   ]
  },
  {
   "cell_type": "code",
   "execution_count": null,
   "metadata": {},
   "outputs": [],
   "source": [
    "with open('/Users/vdk/RealLST/flag_output_2.txt', 'w+') as fo:\n",
    "    fo.write(f'{flag_events}')"
   ]
  },
  {
   "cell_type": "code",
   "execution_count": null,
   "metadata": {},
   "outputs": [],
   "source": [
    "arr = np.array([[1,2,3,4], [1,2,3,4]])\n",
    "event = 43567"
   ]
  },
  {
   "cell_type": "code",
   "execution_count": null,
   "metadata": {},
   "outputs": [],
   "source": [
    "with open(f'/Users/vdk/test_output{event}.txt', 'w+') as fo:\n",
    "    fo.write(arr)"
   ]
  },
  {
   "cell_type": "code",
   "execution_count": null,
   "metadata": {},
   "outputs": [],
   "source": [
    "filename = f'/Users/vdk/test_output{event}.txt'\n",
    "np.save(filename, arr)"
   ]
  },
  {
   "cell_type": "code",
   "execution_count": null,
   "metadata": {},
   "outputs": [],
   "source": [
    "np.load('/Users/vdk/test_output43567.txt.npy')"
   ]
  },
  {
   "cell_type": "code",
   "execution_count": null,
   "metadata": {},
   "outputs": [],
   "source": [
    "arr = [123,234,567]"
   ]
  },
  {
   "cell_type": "code",
   "execution_count": null,
   "metadata": {},
   "outputs": [],
   "source": [
    "if '123' in arr:\n",
    "    print(True)"
   ]
  },
  {
   "cell_type": "code",
   "execution_count": null,
   "metadata": {},
   "outputs": [],
   "source": [
    "arr = [1,2,3,4]\n",
    "\n",
    "if 4 in arr:\n",
    "    print('ok')"
   ]
  },
  {
   "cell_type": "code",
   "execution_count": null,
   "metadata": {},
   "outputs": [],
   "source": [
    "with open('/Users/vdk/energy_muons.txt', 'r') as fi:\n",
    "    one_line = fi.read()\n",
    "    many_lines = one_line.split(\",\")\n",
    "    floats_array = [float(value)*1000 for value in many_lines[:-1]]\n",
    "\n",
    "#w_protons = sum([energy**(-0.7) for energy in floats_array])\n",
    "\n",
    "z,x,c = plt.hist(floats_array, density = True, bins = 100)\n",
    "plt.xscale(\"symlog\")\n",
    "#plt.yscale(\"symlog\")\n",
    "plt.label(\"Muon Energy GeV\")"
   ]
  },
  {
   "cell_type": "code",
   "execution_count": null,
   "metadata": {},
   "outputs": [],
   "source": [
    "histplot(floats_array, log_scale = True, bins = 25, stat = 'probability', alpha = 0.7)\n",
    "plt.vlines(x=20, ymin=0, ymax = 0.15, color = 'red', label = '20 GeV energy', lw= 2)\n",
    "plt.xlim(0,5e4)\n",
    "plt.ylim(0,0.15)\n",
    "plt.xlabel(\"Muon energy [GeV]\")\n",
    "plt.legend()\n",
    "plt.grid(alpha = 0.5)\n",
    "plt.savefig('/Users/vdk/ImagePurgatorium/muon_energies_sim500_opt0784.png')"
   ]
  },
  {
   "cell_type": "code",
   "execution_count": null,
   "metadata": {},
   "outputs": [],
   "source": [
    "sorted(floats_array)"
   ]
  },
  {
   "cell_type": "code",
   "execution_count": null,
   "metadata": {},
   "outputs": [],
   "source": [
    "29217084 - 29216593"
   ]
  },
  {
   "cell_type": "code",
   "execution_count": null,
   "metadata": {},
   "outputs": [],
   "source": [
    "flag_events = 1\n",
    "non_flag_events = 3\n",
    "tag_pix_number = 100\n",
    "good_ring_number = 5\n",
    "with open('/Users/vdk/test.txt', 'a+') as fo:\n",
    "   fo.write(f'flag_events = {flag_events} \\n non_flag_events = {non_flag_events} \\n tag_pix_number = {tag_pix_number} \\n good_ring_number {good_ring_number}')"
   ]
  },
  {
   "cell_type": "code",
   "execution_count": null,
   "metadata": {},
   "outputs": [],
   "source": []
  },
  {
   "cell_type": "code",
   "execution_count": null,
   "metadata": {},
   "outputs": [],
   "source": [
    "with open('/Users/vdk/test2.txt', 'a+') as fo:\n",
    "   fo.write(f'{flag_events},')"
   ]
  },
  {
   "cell_type": "code",
   "execution_count": null,
   "metadata": {},
   "outputs": [],
   "source": [
    "for counter in range(0,21):\n",
    "    if counter > 10 and counter < 20:\n",
    "        print(counter)"
   ]
  },
  {
   "cell_type": "code",
   "execution_count": null,
   "metadata": {},
   "outputs": [],
   "source": [
    "if (1 < 2 < 10):\n",
    "    print('k')"
   ]
  },
  {
   "cell_type": "code",
   "execution_count": null,
   "metadata": {},
   "outputs": [],
   "source": [
    "dist = np.array([1,2,3,4,4.11,4.22,4.5,5,6,7,8,9])\n",
    "radius = 4"
   ]
  },
  {
   "cell_type": "code",
   "execution_count": null,
   "metadata": {},
   "outputs": [],
   "source": [
    "mask = np.abs(dist - radius) < radius * 0.25"
   ]
  },
  {
   "cell_type": "code",
   "execution_count": null,
   "metadata": {},
   "outputs": [],
   "source": [
    "radius * 0.25"
   ]
  },
  {
   "cell_type": "code",
   "execution_count": null,
   "metadata": {},
   "outputs": [],
   "source": [
    "test_image = np.array([1,2,3,4,4.11,4.22,4.5,5,6,7,8,9])"
   ]
  },
  {
   "cell_type": "code",
   "execution_count": null,
   "metadata": {},
   "outputs": [],
   "source": [
    "test_image * mask"
   ]
  },
  {
   "cell_type": "code",
   "execution_count": null,
   "metadata": {},
   "outputs": [],
   "source": [
    "test_image[mask]"
   ]
  },
  {
   "cell_type": "code",
   "execution_count": null,
   "metadata": {},
   "outputs": [],
   "source": [
    "test_image"
   ]
  },
  {
   "cell_type": "code",
   "execution_count": null,
   "metadata": {},
   "outputs": [],
   "source": [
    "test = np.array([1.,2.,3.,4.])\n",
    "phi = 5"
   ]
  },
  {
   "cell_type": "code",
   "execution_count": null,
   "metadata": {},
   "outputs": [],
   "source": [
    "phi + test"
   ]
  },
  {
   "cell_type": "code",
   "execution_count": null,
   "metadata": {},
   "outputs": [],
   "source": [
    "test /= 2."
   ]
  },
  {
   "cell_type": "code",
   "execution_count": null,
   "metadata": {},
   "outputs": [],
   "source": [
    "test"
   ]
  },
  {
   "cell_type": "code",
   "execution_count": null,
   "metadata": {},
   "outputs": [],
   "source": [
    "arr = np.loadtxt('/Users/vdk/gauss.txt')"
   ]
  },
  {
   "cell_type": "code",
   "execution_count": null,
   "metadata": {},
   "outputs": [],
   "source": [
    "plt.hist(arr, bins = 100, density=True)\n",
    "plt.xlim(0,0.01)"
   ]
  },
  {
   "cell_type": "code",
   "execution_count": null,
   "metadata": {},
   "outputs": [],
   "source": [
    "for _ in (0, 0):\n",
    "    print('f')"
   ]
  },
  {
   "cell_type": "code",
   "execution_count": null,
   "metadata": {},
   "outputs": [],
   "source": [
    "test_list = [1,2,3,4,5]\n",
    "result = ','.join(map(str, test_list))"
   ]
  },
  {
   "cell_type": "code",
   "execution_count": null,
   "metadata": {},
   "outputs": [],
   "source": [
    "if result:\n",
    "    print(True)"
   ]
  },
  {
   "cell_type": "code",
   "execution_count": null,
   "metadata": {},
   "outputs": [],
   "source": [
    "x = [-70.93, -35.27, 75.28, 30.91]\n",
    "y = [-52.07, 66.14, 50.49, -64.54]\n",
    "circle = []\n",
    "telescope1 = [-70.93, -52.07]\n",
    "telescope2 = [-35.27, 66.14]\n",
    "telescope3 = [75.28, 50.49]\n",
    "telescope4 = [30.91, -64.54]\n",
    "plt.scatter(telescope1[0],telescope1[1], label = 'LST1', marker = 'x', s =200)\n",
    "plt.scatter(telescope2[0],telescope2[1], label = 'LST2', marker = 'x', s =200)\n",
    "plt.scatter(telescope3[0],telescope3[1], label = 'LST3', marker = 'x', s =200)\n",
    "plt.scatter(telescope4[0],telescope4[1], label = 'LST4', marker = 'x', s =200)\n",
    "circle2 = plt.Circle((0, 0), 150, color='b', fill=False)\n",
    "plt.scatter(0,0, marker = 's', c = 'k', s = 100)\n",
    "plt.xlim(-200,200)\n",
    "plt.ylim(-200,200)\n",
    "plt.grid(alpha = 0.5)\n",
    "plt.gca().add_patch(circle2)\n",
    "plt.xlabel(\"meters\")\n",
    "plt.ylabel(\"meters\")\n",
    "plt.legend()\n"
   ]
  },
  {
   "cell_type": "code",
   "execution_count": null,
   "metadata": {},
   "outputs": [],
   "source": [
    "print(np.sqrt((telescope1[0])**2 + telescope1[1]))\n",
    "print(np.sqrt((telescope2[0])**2 + telescope2[1]))\n",
    "print(np.sqrt((telescope3[0])**2 + telescope3[1]))\n",
    "print(np.sqrt((telescope4[0])**2 + telescope4[1]))"
   ]
  },
  {
   "cell_type": "code",
   "execution_count": null,
   "metadata": {},
   "outputs": [],
   "source": [
    "lines = []\n",
    "with open('/Users/vdk/data_data.txt', 'r') as fi:\n",
    "    lines = fi.readlines()\n"
   ]
  },
  {
   "cell_type": "code",
   "execution_count": null,
   "metadata": {},
   "outputs": [],
   "source": [
    "lines"
   ]
  },
  {
   "cell_type": "code",
   "execution_count": null,
   "metadata": {},
   "outputs": [],
   "source": [
    "test = ','.split(lines[0][:-1])"
   ]
  },
  {
   "cell_type": "code",
   "execution_count": null,
   "metadata": {},
   "outputs": [],
   "source": [
    "separated = list(map(int, lines[0][:-1].split(',')))"
   ]
  },
  {
   "cell_type": "code",
   "execution_count": null,
   "metadata": {},
   "outputs": [],
   "source": [
    "separated"
   ]
  },
  {
   "cell_type": "code",
   "execution_count": null,
   "metadata": {},
   "outputs": [],
   "source": [
    "test_lines = ['1\\n','1\\n','1\\n']"
   ]
  },
  {
   "cell_type": "code",
   "execution_count": null,
   "metadata": {},
   "outputs": [],
   "source": [
    "separated = list(map(int, test_lines[0][:-1].split(',')))"
   ]
  },
  {
   "cell_type": "code",
   "execution_count": null,
   "metadata": {},
   "outputs": [],
   "source": [
    "separated = []\n",
    "for line in lines:\n",
    "    separated.append(list(map(int, lines[0][:-1].split(','))))\n",
    "\n",
    "separated"
   ]
  },
  {
   "cell_type": "code",
   "execution_count": null,
   "metadata": {},
   "outputs": [],
   "source": [
    "\n",
    "lengths = [len(subarray) for subarray in separated]\n",
    "one_dim = list(chain.from_iterable(separated))\n",
    "one_dim"
   ]
  },
  {
   "cell_type": "code",
   "execution_count": null,
   "metadata": {},
   "outputs": [],
   "source": [
    "filename = 'test.fdsf'\n",
    "if filename == 'kek':\n",
    "    pass\n",
    "elif not filename.endswith(\".h5\"):\n",
    "    filename += \".h5\""
   ]
  },
  {
   "cell_type": "code",
   "execution_count": null,
   "metadata": {},
   "outputs": [],
   "source": [
    "test1 = np.array([1,2,3,4,5])\n",
    "test2 = np.array([2,2])\n",
    "\n",
    "result = test1[~test2]"
   ]
  },
  {
   "cell_type": "code",
   "execution_count": null,
   "metadata": {},
   "outputs": [],
   "source": [
    "tel_arr = [1,2,3,4,5]\n",
    "good_muon_data = self.kwargs.pop(\n",
    "    \"good_muon_data\",\n",
    "    {tel_id: True for tel_id in self.eventsource.subarray.tels.keys()},\n",
    ")"
   ]
  },
  {
   "cell_type": "code",
   "execution_count": null,
   "metadata": {},
   "outputs": [],
   "source": [
    "y = [1036, 920, 818, 726, 643, 568, 499, 438, 383, 333, 288, 249, 213, 182, 155, 132, 112, 95, 80, 67, 57]\n",
    "x = [i for i in range(21)]\n",
    "xvals = np.linspace(0, 20, 20000)\n",
    "\n",
    "yinterp = np.interp(xvals, x, y)\n",
    "\n",
    "plt.scatter(x,y, s = 200)\n",
    "plt.scatter(xvals, yinterp, alpha = 0.2)\n"
   ]
  },
  {
   "cell_type": "code",
   "execution_count": null,
   "metadata": {},
   "outputs": [],
   "source": [
    "yinterp[4278]"
   ]
  },
  {
   "cell_type": "code",
   "execution_count": null,
   "metadata": {},
   "outputs": [],
   "source": [
    "yinterp[3568]"
   ]
  },
  {
   "cell_type": "code",
   "execution_count": null,
   "metadata": {},
   "outputs": [],
   "source": [
    "yinterp[3121]"
   ]
  },
  {
   "cell_type": "code",
   "execution_count": null,
   "metadata": {},
   "outputs": [],
   "source": [
    "np.linspace(0,2,10)"
   ]
  },
  {
   "cell_type": "markdown",
   "metadata": {},
   "source": []
  }
 ],
 "metadata": {
  "kernelspec": {
   "display_name": "cta",
   "language": "python",
   "name": "cta"
  },
  "language_info": {
   "codemirror_mode": {
    "name": "ipython",
    "version": 3
   },
   "file_extension": ".py",
   "mimetype": "text/x-python",
   "name": "python",
   "nbconvert_exporter": "python",
   "pygments_lexer": "ipython3",
   "version": "3.11.6"
  }
 },
 "nbformat": 4,
 "nbformat_minor": 2
}
