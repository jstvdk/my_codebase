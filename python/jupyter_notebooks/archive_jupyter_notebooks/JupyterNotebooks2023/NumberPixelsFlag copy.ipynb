{
 "cells": [
  {
   "cell_type": "code",
   "execution_count": null,
   "id": "0",
   "metadata": {},
   "outputs": [],
   "source": [
    "import sys\n",
    "sys.path.append('/Users/vdk/GeneveWork/Code/calibpipe-main-calibpipe/')\n",
    "from astropy.io import ascii\n",
    "import numpy as np\n",
    "import pandas as pd\n",
    "import matplotlib\n",
    "import csv\n",
    "import scipy\n",
    "import matplotlib.pyplot as plt\n",
    "from seaborn import histplot\n",
    "import random\n",
    "import copy\n",
    "from os import path, makedirs\n",
    "from astropy.coordinates import SkyCoord\n",
    "from astropy.table import Table\n",
    "import astropy.units as u\n",
    "from ctapipe.containers import MuonEfficiencyContainer\n",
    "from ctapipe.coordinates import CameraFrame, TelescopeFrame\n",
    "from ctapipe.io import EventSource, EventSeeker\n",
    "from ctapipe.core import TelescopeComponent\n",
    "from ctapipe.core.traits import (\n",
    "    List,\n",
    "    Int,\n",
    "    FloatTelescopeParameter,\n",
    "    TelescopeParameter,\n",
    "    Unicode,\n",
    ")\n",
    "from ctapipe.image.cleaning import tailcuts_clean\n",
    "from ctapipe.image.muon import MuonRingFitter, MuonIntensityFitter\n",
    "from traitlets.config import Config\n",
    "from ctapipe.image import ImageProcessor\n",
    "from ctapipe.image.muon import MuonProcessor\n",
    "from ctapipe.visualization import CameraDisplay\n",
    "from ctapipe.instrument import CameraGeometry\n",
    "from ctapipe.calib import CameraCalibrator\n",
    "from traitlets.config.loader import Config, FileConfigLoader, JSONFileConfigLoader\n",
    "import pathlib\n",
    "from calibpipe.throughput import MuonCalibrator\n",
    "from traitlets.config import Config\n",
    "from astropy.time import Time\n",
    "from astropy.coordinates import EarthLocation,SkyCoord, AltAz \n",
    "from traitlets.config import Config\n",
    "import time\n",
    "from ctapipe.image import number_of_island_sizes\n",
    "from ctapipe.image import (\n",
    "    hillas_parameters,\n",
    "    leakage_parameters,\n",
    "    concentration_parameters,\n",
    ")\n",
    "from ctapipe.image import timing_parameters\n",
    "from ctapipe.image import number_of_islands\n",
    "from ctapipe.image import camera_to_shower_coordinates\n",
    "\n",
    "\n",
    "\n"
   ]
  },
  {
   "cell_type": "code",
   "execution_count": null,
   "id": "1",
   "metadata": {},
   "outputs": [],
   "source": [
    "cleaned_rings = [3403, 5120, 5397, 6317, 6448, 6466, 8234, 8448, 9044, 9151, 9217, 9360, 9404, 9433, 9435, 12432, 16110, 16379, 17309, 17494, 19103, 19358, 20105, 20229, 20349, 20402, 21288, 21433, 22126, 22205, 22365, 22390, 25287, 25345, 25432, 26113, 26164, 26347, 27167, 27176, 27374, 28000, 28320, 28328, 28449, 29266, 29390, 31123, 31176, 32064, 32342, 33057, 33302, 33315, 34219, 34347, 35052, 35219, 35375, 35435, 36231, 36452]\n",
    "cleaned_shower = [28320, 28449]\n",
    "muon_rings_cleaned = sorted(set(cleaned_rings).difference(set(cleaned_shower)))\n",
    "print(len(set(cleaned_rings).difference(set(cleaned_shower))))\n",
    "print(len(cleaned_rings))\n",
    "print(sorted(set(cleaned_rings).difference(set(cleaned_shower))))"
   ]
  },
  {
   "cell_type": "code",
   "execution_count": null,
   "id": "2",
   "metadata": {},
   "outputs": [],
   "source": [
    "arr04 = [2414, 3211, 3403, 4426, 6200, 6317, 6466, 7418, 8234, 8448, 9404, 9433, 12262, 12334, 14335, 14402, 15185, 15405, 19103, 20229, 20402, 21288, 21433, 22053, 22205, 22271, 22390, 23382, 24482, 26113, 26164, 26347, 26365, 27176, 27374, 28000, 28034, 28328, 29266, 29390, 30405, 30462, 31176, 31386, 32064, 32298, 33057, 33071, 35052, 35219, 35375, 35435, 36231, 36364, 36452, 37363, 39094, 39152, 39376]\n",
    "arr05 = [1018, 1018, 1149, 1321, 1389, 2363, 2414, 3198, 3211, 3403, 4426, 5363, 5425, 6200, 6317, 6376, 6376, 6417, 6419, 6466, 7176, 7418, 8234, 8316, 8323, 8369, 8448, 8473, 8487, 8490, 9318, 9404, 9433, 9435, 9444, 9486, 12061, 12162, 12262, 12305, 12334, 13320, 14214, 14335, 14390, 14402, 15185, 15196, 15405, 15447, 16213, 16471, 17000, 17168, 17168, 18137, 18291, 18476, 19103, 20120, 20229, 20356, 20402, 21281, 21288, 21433, 22053, 22053, 22123, 22205, 22271, 22354, 22364, 22390, 23382, 23419, 24294, 24482, 24482, 25051, 25345, 26113, 26164, 26336, 26338, 26347, 26365, 26374, 27176, 27281, 27374, 27414, 28000, 28034, 28328, 28341, 28357, 28372, 29213, 29266, 29372, 29390, 30181, 30291, 30405, 30447, 30462, 31042, 31043, 31123, 31176, 31332, 31332, 31333, 31386, 32064, 32256, 32298, 33057, 33071, 34115, 35052, 35103, 35219, 35296, 35375, 35376, 35393, 35435, 35444, 35472, 36231, 36364, 36452, 37363, 39083, 39094, 39152, 39376, 39401, 39444, 39466]\n",
    "arr06 = [1018, 1018, 1087, 1149, 1281, 1321, 1389, 2080, 2086, 2363, 2388, 2414, 3146, 3198, 3211, 3380, 3403, 4054, 4054, 4070, 4339, 4367, 4426, 5218, 5218, 5363, 5425, 5454, 6171, 6200, 6242, 6317, 6376, 6376, 6417, 6419, 6433, 6466, 7176, 7418, 8055, 8141, 8234, 8316, 8323, 8369, 8448, 8473, 8487, 8490, 9074, 9168, 9236, 9318, 9339, 9369, 9393, 9404, 9412, 9422, 9433, 9435, 9444, 9478, 9478, 9486, 10083, 10396, 10406, 11001, 11252, 12013, 12025, 12030, 12061, 12162, 12162, 12262, 12305, 12334, 12336, 12386, 12386, 13202, 13320, 13332, 13408, 13421, 14214, 14335, 14390, 14402, 14406, 15185, 15196, 15348, 15405, 15433, 15447, 16110, 16213, 16338, 16379, 16398, 16399, 16422, 16424, 16462, 16471, 17000, 17168, 17168, 17356, 17422, 17446, 18026, 18137, 18237, 18291, 18351, 18413, 18447, 18476, 18476, 19103, 20120, 20229, 20356, 20402, 21104, 21250, 21281, 21288, 21353, 21433, 22053, 22053, 22088, 22123, 22127, 22205, 22271, 22354, 22364, 22365, 22373, 22390, 22415, 23054, 23238, 23285, 23382, 23392, 23419, 23435, 24272, 24294, 24294, 24353, 24353, 24374, 24471, 24482, 24482, 25051, 25345, 25371, 26113, 26164, 26193, 26336, 26338, 26347, 26365, 26374, 27176, 27195, 27281, 27374, 27383, 27414, 28000, 28034, 28110, 28320, 28328, 28341, 28342, 28357, 28372, 28449, 29072, 29213, 29266, 29313, 29372, 29372, 29390, 30152, 30181, 30291, 30405, 30447, 30462, 31042, 31043, 31063, 31123, 31176, 31332, 31332, 31333, 31361, 31386, 32064, 32100, 32256, 32275, 32298, 32366, 32434, 33057, 33071, 33151, 33240, 33383, 34115, 34126, 35052, 35099, 35103, 35133, 35219, 35294, 35296, 35375, 35376, 35392, 35393, 35435, 35444, 35470, 35470, 35470, 35472, 36231, 36260, 36331, 36364, 36452, 37091, 37107, 37363, 37383, 37402, 38106, 38191, 38209, 38337, 38351, 38398, 39083, 39094, 39094, 39121, 39152, 39372, 39376, 39401, 39444, 39466, 40182, 40387, 40411]\n",
    "arr_ring06 = [3198, 14406, 16110, 16379, 22123, 22364, 22365, 22415, 25051, 25345, 34115] \n",
    "set_ring04 = {8448, 26113, 20229, 36231, 35219, 31386, 19103, 33057, 21288, 27176, 8234, 28328, 32298, 6317, 33071, 35375, 20402, 26164, 21433, 9404, 22205, 32064, 6466, 14402, 31176, 3403, 29390, 29266, 9433, 28000, 36452, 12262, 26347, 35052, 35435, 27374, 22390, 26365}\n",
    "\n",
    "#print(sorted(set(arr06).difference(set(arr05))))\n",
    "#print(sorted(set(arr_ring06).difference(set(arr06).difference(set(arr05)))))\n",
    "print(sorted(set_ring04.union(set(arr_ring06))))\n",
    "muon_rings_regular = sorted(set_ring04.union(set(arr_ring06)))"
   ]
  },
  {
   "cell_type": "code",
   "execution_count": null,
   "id": "3",
   "metadata": {},
   "outputs": [],
   "source": [
    "final_rings = set(muon_rings_cleaned).union(muon_rings_regular)\n",
    "len(final_rings)"
   ]
  },
  {
   "cell_type": "code",
   "execution_count": null,
   "id": "4",
   "metadata": {},
   "outputs": [],
   "source": [
    "def sum_of_numbers(n):\n",
    "    if n == 0:\n",
    "        return n\n",
    "    else:\n",
    "        print(\"call function with n = \", n)\n",
    "        return (n + sum_of_numbers(n-1))\n",
    "\n",
    "    \n",
    "def fib_rec(n):\n",
    "    if n == 1:\n",
    "        return 0\n",
    "    else:\n",
    "        return(fib_rec(n-1) + fib_rec(n-2))\n",
    "\n",
    "\n",
    "\n",
    "fib_rec(2)  "
   ]
  },
  {
   "cell_type": "code",
   "execution_count": null,
   "id": "5",
   "metadata": {},
   "outputs": [],
   "source": [
    "###\n",
    "# Algorithm to process events and try to calibrate them\n",
    "###\n",
    "int_cut = 0.3\n",
    "min_pixel = 80\n",
    "\n",
    "muon_processor_config = Config({\"MuonProcessor\": \n",
    "                                {\"RingQuery\": \n",
    "                                 {\"quality_criteria\" : [[\"intensity_check\",f\"np.abs(parameters.intensity_ratio - 1) < {int_cut}\"],\n",
    "                                                        [\"ring_containment\", \"parameters.containment > 0.5\"],\n",
    "                                                        [\"ring_completeness\", \"parameters.completeness > 0.5\"]]}}})\n",
    "\n",
    "#muon_processor_config = Config({\"MuonProcessor\":\n",
    "#                                {\"ImageParameterQuery\" :\n",
    "#                                {\"quality_criteria\" : [[\"min_pixels\", f\"dl1_params.morphology.n_pixels > {min_pixel}\"],\n",
    "#                                                        [\"min_intensity\", \"dl1_params.hillas.intensity > 500\"]]}}})\n",
    "\n",
    "muon_processor_config_2 = Config({\"MuonProcessor\":\n",
    "                                {\"ImageParameterQuery\" :\n",
    "                                 {\"quality_criteria\" : [[\"min_pixels\", f\"dl1_params.morphology.n_pixels > {min_pixel}\"],\n",
    "                                                        [\"min_intensity\", \"dl1_params.hillas.intensity > 500\"]]}}})\n",
    "\n",
    "checker = 0\n",
    "event_container = {}\n",
    "t1 = time.perf_counter(), time.process_time()\n",
    "\n",
    "\n",
    "\n",
    "\n",
    "for k in range(1,41):\n",
    "    filename = f'/Users/vdk/sim_run_folder/output_prod_v12/corsika_theta_28.4_az_182.75_run{k}.simtel.gz'\n",
    "    source = EventSource(filename, max_events=9000)\n",
    "    event_iterator = iter(source)\n",
    "    keks = k*1000\n",
    "    for i,j in enumerate(event_iterator):\n",
    "        checker += 1\n",
    "        if len(j.trigger.tels_with_trigger) > 1:\n",
    "            image_processor = ImageProcessor(source.subarray)\n",
    "            #muon_processor = MuonProcessor(source.subarray, config = muon_processor_config)\n",
    "            muon_processor = MuonProcessor(source.subarray)\n",
    "            calib = CameraCalibrator(\n",
    "                image_extractor_type=\"GlobalPeakWindowSum\",\n",
    "                subarray = source.subarray)\n",
    "            for tel_id in j.r1.tel.keys():\n",
    "                test_arr = np.where(j.r1.tel[tel_id].waveform > 2)\n",
    "                #if j.r1.tel[tel_id].waveform.sum() > 1500:\n",
    "                if len(test_arr[0]) > 450:\n",
    "                    event_container[keks+i] = j\n",
    "#                     calib(j)\n",
    "#                     image_processor(j)\n",
    "#                     muon_processor(j)\n",
    "#             for m in j.muon.tel.keys():\n",
    "#                 if not np.isnan(j.muon.tel[m].efficiency.width):\n",
    "#                     event_container[keks+i] = j\n",
    "    t2 = time.perf_counter(), time.process_time()\n",
    "        \n",
    "\n",
    "print(f\" Real time: {t2[0] - t1[0]:.2f} seconds\")\n",
    "print(f\" CPU time: {t2[1] - t1[1]:.2f} seconds\")\n",
    "            \n",
    "        "
   ]
  },
  {
   "cell_type": "code",
   "execution_count": null,
   "id": "6",
   "metadata": {},
   "outputs": [],
   "source": [
    "print(\"len = \", len(event_container))\n",
    "print(checker)"
   ]
  },
  {
   "cell_type": "code",
   "execution_count": null,
   "id": "7",
   "metadata": {},
   "outputs": [],
   "source": [
    "counter = 0\n",
    "\n",
    "for i in event_container:\n",
    "    if i in final_rings:\n",
    "        counter+=1\n",
    "\n",
    "counter"
   ]
  },
  {
   "cell_type": "code",
   "execution_count": null,
   "id": "8",
   "metadata": {},
   "outputs": [],
   "source": [
    "3.221/0.189"
   ]
  },
  {
   "cell_type": "code",
   "execution_count": null,
   "id": "9",
   "metadata": {},
   "outputs": [],
   "source": [
    "###\n",
    "# Algorithm to process events and try to calibrate them\n",
    "###\n",
    "int_cut = 0.3\n",
    "min_pixel = 80\n",
    "\n",
    "muon_processor_config = Config({\"MuonProcessor\": \n",
    "                                {\"RingQuery\": \n",
    "                                 {\"quality_criteria\" : [[\"intensity_check\",f\"np.abs(parameters.intensity_ratio - 1) < {int_cut}\"],\n",
    "                                                        [\"ring_containment\", \"parameters.containment > 0.5\"],\n",
    "                                                        [\"ring_completeness\", \"parameters.completeness > 0.5\"]]}}})\n",
    "\n",
    "#muon_processor_config = Config({\"MuonProcessor\":\n",
    "#                                {\"ImageParameterQuery\" :\n",
    "#                                {\"quality_criteria\" : [[\"min_pixels\", f\"dl1_params.morphology.n_pixels > {min_pixel}\"],\n",
    "#                                                        [\"min_intensity\", \"dl1_params.hillas.intensity > 500\"]]}}})\n",
    "\n",
    "muon_processor_config_2 = Config({\"MuonProcessor\":\n",
    "                                {\"ImageParameterQuery\" :\n",
    "                                 {\"quality_criteria\" : [[\"min_pixels\", f\"dl1_params.morphology.n_pixels > {min_pixel}\"],\n",
    "                                                        [\"min_intensity\", \"dl1_params.hillas.intensity > 500\"]]}}})\n",
    "\n",
    "checker = 0\n",
    "\n",
    "t1 = time.perf_counter(), time.process_time()\n",
    "\n",
    "pixel_values = [1,50, 70, 100, 120, 150, 170, 200, 230, 250, 275, 300, 350]\n",
    "survived = []\n",
    "\n",
    "for pixel in pixel_values:\n",
    "    counter = 0\n",
    "    event_container = {}\n",
    "    for k in range(1,41):\n",
    "        filename = f'/Users/vdk/sim_run_folder/output_prod_v12/corsika_theta_28.4_az_182.75_run{k}.simtel.gz'\n",
    "        source = EventSource(filename, max_events=9000)\n",
    "        event_iterator = iter(source)\n",
    "        keks = k*1000\n",
    "        for i,j in enumerate(event_iterator):\n",
    "            checker += 1\n",
    "            if len(j.trigger.tels_with_trigger) > 1:\n",
    "                image_processor = ImageProcessor(source.subarray)\n",
    "                #muon_processor = MuonProcessor(source.subarray, config = muon_processor_config)\n",
    "                muon_processor = MuonProcessor(source.subarray)\n",
    "                calib = CameraCalibrator(\n",
    "                    image_extractor_type=\"GlobalPeakWindowSum\",\n",
    "                    subarray = source.subarray)\n",
    "                for tel_id in j.r1.tel.keys():\n",
    "                    test_arr = np.where(j.r1.tel[tel_id].waveform > 2)\n",
    "                    #if j.r1.tel[tel_id].waveform.sum() > 1500:\n",
    "                    if len(test_arr[0]) > pixel:\n",
    "                        event_container[keks+i] = j\n",
    "    #                     calib(j)\n",
    "    #                     image_processor(j)\n",
    "    #                     muon_processor(j)\n",
    "    #             for m in j.muon.tel.keys():\n",
    "    #                 if not np.isnan(j.muon.tel[m].efficiency.width):\n",
    "    #                     event_container[keks+i] = j\n",
    "        \n",
    "    for event in event_container:\n",
    "        if i in final_rings:\n",
    "            counter+=1\n",
    "    survived.append(counter)\n",
    "        \n",
    "\n",
    "print(f\" Real time: {t2[0] - t1[0]:.2f} seconds\")\n",
    "print(f\" CPU time: {t2[1] - t1[1]:.2f} seconds\")\n",
    "            \n",
    "        "
   ]
  },
  {
   "cell_type": "code",
   "execution_count": null,
   "id": "10",
   "metadata": {},
   "outputs": [],
   "source": [
    "lets_check = 0\n",
    "opt_eff_cleaned = []\n",
    "events_opt_eff_cleaned = []\n",
    "for i in event_container:\n",
    "    for m in event_container[i].trigger.tel.keys():\n",
    "        #if not np.isnan(event_container[i].muon.tel[m].efficiency.width):\n",
    "                #if event_container[i].dl1.tel[m].parameters.morphology.n_pixels > 30 and abs(event_container[i].muon.tel[m].parameters.intensity_ratio - 1) < 0.4 and event_container[i].muon.tel[m].parameters.completeness > 0.5:\n",
    "                    lets_check+=1\n",
    "                    plt.figure(figsize = (9,6))\n",
    "                    camgeom = source.subarray.tel[m].camera.geometry\n",
    "                    #print(\"n_pixels = \", event_container[i].dl1.tel[m].parameters.morphology.n_pixels)\n",
    "                    title=f\"event_{i}_optEff{round(event_container[i].muon.tel[m].efficiency.optical_efficiency,3)}_width{round(event_container[i].muon.tel[m].efficiency.width.to_value(),3)}_triggercount{len(event_container[i].trigger.tel.keys())}\"\n",
    "                    #title=f\"CleanedRing_{i}_optEff{round(cleaned_event_container[i].muon.tel[m].efficiency.optical_efficiency,3)}_width{round(cleaned_event_container[i].muon.tel[m].efficiency.width.to_value(),3)}_triggeredTel{m}\"\n",
    "                    #title=f\"TrueImage for events tagged as muon ring by cleaning algorithm {i}\"\n",
    "                    #title = '1'\n",
    "                    disp = CameraDisplay(camgeom,title=title)\n",
    "                    disp.image = event_container[i].simulation.tel[m].true_image\n",
    "                    #disp.image = event_container[i].r1.tel[m].waveform.sum(axis=1)\n",
    "                    #disp.image = cleaned_event_container[i].simulation.tel[m].true_image\n",
    "                    disp.cmap = plt.cm.RdBu_r\n",
    "                    disp.add_colorbar()\n",
    "                    disp.set_limits_percent(95)\n",
    "                    \n",
    "                    #plt.savefig(f\"/Users/vdk/ImagePurgatorium/MuonsCleaned_intensitycut<0.3_event{i}.png\")\n",
    "                    opt_eff_cleaned.append(event_container[i].muon.tel[m].efficiency.optical_efficiency)\n",
    "                    events_opt_eff_cleaned.append(i)\n",
    "#                     for pix_id in range(0,1855):\n",
    "#                         plt.plot(event_container[i].r1.tel[m].waveform[pix_id], drawstyle='steps')\n",
    "\n",
    "#                     plt.plot(range(40), [1.2 for i in range(40)], color = 'black', lw = 4, label = 'treshold line')\n",
    "\n",
    "#                     plt.ylabel(\"Waveform amplitude\")\n",
    "#                     plt.xlabel(\"Time sample\")\n",
    "#                     plt.title(\"R1 Waveforms for contaminated muon ring\")\n",
    "#                     plt.legend()\n",
    "                    plt.show()\n",
    "plt.close()"
   ]
  },
  {
   "cell_type": "code",
   "execution_count": null,
   "id": "11",
   "metadata": {},
   "outputs": [],
   "source": [
    "#plt.ylim(-1,2)\n",
    "for pix_id in range(0,1855):\n",
    "    plt.plot(event_container[2414].r1.tel[1].waveform[pix_id], label=\"pix {}\".format(pix_id), drawstyle='steps')\n",
    "np.mean(event_container[2414].r1.tel[1].waveform)"
   ]
  },
  {
   "cell_type": "code",
   "execution_count": null,
   "id": "12",
   "metadata": {},
   "outputs": [],
   "source": [
    "for pix_id in range(0,1855):\n",
    "    plt.plot(event_container[2414].r1.tel[2].waveform[pix_id], label=\"pix {}\".format(pix_id), drawstyle='steps')\n",
    "np.mean(event_container[2414].r1.tel[2].waveform)"
   ]
  },
  {
   "cell_type": "code",
   "execution_count": null,
   "id": "13",
   "metadata": {},
   "outputs": [],
   "source": [
    "plt.ylim(-1,7)\n",
    "for pix_id in range(0,1855):\n",
    "    plt.plot(event_container[2414].r1.tel[3].waveform[pix_id], label=\"pix {}\".format(pix_id), drawstyle='steps')\n",
    "np.mean(event_container[2414].r1.tel[3].waveform)\n"
   ]
  },
  {
   "cell_type": "code",
   "execution_count": null,
   "id": "14",
   "metadata": {},
   "outputs": [],
   "source": [
    "histplot(np.mean(event_container[i].r1.tel[1].waveform, axis = 1), bins = 30)"
   ]
  },
  {
   "cell_type": "code",
   "execution_count": null,
   "id": "15",
   "metadata": {},
   "outputs": [],
   "source": [
    "event_container[2414].r1.tel[3].waveform[:,10].shape"
   ]
  },
  {
   "cell_type": "code",
   "execution_count": null,
   "id": "16",
   "metadata": {},
   "outputs": [],
   "source": [
    "test = np.where(event_container[2414].r1.tel[3].waveform > 3)\n",
    "print(\"shape = \", test[0].shape)\n",
    "print(test[0])"
   ]
  },
  {
   "cell_type": "code",
   "execution_count": null,
   "id": "17",
   "metadata": {},
   "outputs": [],
   "source": [
    "test = np.where(event_container[2414].r1.tel[3].waveform[:,10] > 1)\n",
    "test[0]"
   ]
  },
  {
   "cell_type": "code",
   "execution_count": null,
   "id": "18",
   "metadata": {},
   "outputs": [],
   "source": [
    "plt.ylim(-1,7)\n",
    "for pix_id in test[0]:\n",
    "    print(\"sum = \", event_container[2414].r1.tel[3].waveform[pix_id].sum(), \"mean = \", np.mean(event_container[2414].r1.tel[3].waveform[pix_id]))\n",
    "    \n",
    "    plt.plot(event_container[2414].r1.tel[3].waveform[pix_id], label=\"pix {}\".format(pix_id), drawstyle='steps')\n",
    "\n"
   ]
  },
  {
   "cell_type": "code",
   "execution_count": null,
   "id": "19",
   "metadata": {},
   "outputs": [],
   "source": [
    "event_container[2414].r1.tel[3].waveform"
   ]
  },
  {
   "cell_type": "code",
   "execution_count": null,
   "id": "20",
   "metadata": {},
   "outputs": [],
   "source": [
    "r0_waveforms = []\n",
    "dl1_npixels = []\n",
    "\n",
    "for i in event_container:\n",
    "    for tels in event_container[i].trigger.tels_with_trigger:\n",
    "        r0_waveforms.append(event_container[i].r1.tel[tels].waveform.sum(axis = 1))\n",
    "        dl1_npixels.append(event_container[i].dl1.tel[tels].parameters.morphology.n_pixels)\n",
    "\n",
    "    "
   ]
  },
  {
   "cell_type": "code",
   "execution_count": null,
   "id": "21",
   "metadata": {},
   "outputs": [],
   "source": [
    "for i in event_container[2414].trigger.tels_with_trigger:\n",
    "    print(i)"
   ]
  },
  {
   "cell_type": "code",
   "execution_count": null,
   "id": "22",
   "metadata": {},
   "outputs": [],
   "source": [
    "len(r0_waveforms[0])"
   ]
  },
  {
   "cell_type": "code",
   "execution_count": null,
   "id": "23",
   "metadata": {},
   "outputs": [],
   "source": [
    "len(event_container)"
   ]
  },
  {
   "cell_type": "code",
   "execution_count": null,
   "id": "24",
   "metadata": {},
   "outputs": [],
   "source": [
    "histplot(r0_waveforms)"
   ]
  },
  {
   "cell_type": "code",
   "execution_count": null,
   "id": "25",
   "metadata": {},
   "outputs": [],
   "source": [
    "for i in r0_waveforms:\n",
    "    histplot(i, bins = 30)"
   ]
  },
  {
   "cell_type": "code",
   "execution_count": null,
   "id": "26",
   "metadata": {},
   "outputs": [],
   "source": [
    "histplot(np.max(r0_waveforms, axis = 0), bins = 30)"
   ]
  },
  {
   "cell_type": "code",
   "execution_count": null,
   "id": "27",
   "metadata": {},
   "outputs": [],
   "source": [
    "np.max(r0_waveforms, axis = 0))"
   ]
  },
  {
   "cell_type": "code",
   "execution_count": null,
   "id": "28",
   "metadata": {},
   "outputs": [],
   "source": []
  },
  {
   "cell_type": "code",
   "execution_count": null,
   "id": "29",
   "metadata": {},
   "outputs": [],
   "source": [
    "dl1_npixels"
   ]
  },
  {
   "cell_type": "code",
   "execution_count": null,
   "id": "30",
   "metadata": {},
   "outputs": [],
   "source": [
    "for i,j in enumerate(r0_waveforms):\n",
    "    print(\"mean = \", np.mean(j), \" n_pixels = \", dl1_npixels[i])"
   ]
  },
  {
   "cell_type": "code",
   "execution_count": null,
   "id": "31",
   "metadata": {},
   "outputs": [],
   "source": [
    "x_range = range(len(r0_waveforms))\n",
    "for i,j in enumerate(r0_waveforms):\n",
    "    print(\"> 1 = \", len(np.where(j > 1.3)[0]), \" n_pixels = \", dl1_npixels[i])"
   ]
  },
  {
   "cell_type": "code",
   "execution_count": null,
   "id": "32",
   "metadata": {},
   "outputs": [],
   "source": [
    "plt.scatter(x_range, [len(np.where(j > 1.3)[0]) for j in r0_waveforms])\n",
    "plt.scatter(x_range, dl1_npixels)"
   ]
  },
  {
   "cell_type": "code",
   "execution_count": null,
   "id": "33",
   "metadata": {},
   "outputs": [],
   "source": [
    "event_container[2414].dl1.tel[3].parameters.morphology.n_pixels"
   ]
  },
  {
   "cell_type": "code",
   "execution_count": null,
   "id": "34",
   "metadata": {},
   "outputs": [],
   "source": [
    "histplot([len(np.where(j > 2)[0]) for j in r0_waveforms], bins = 15, stat = 'probability')\n",
    "histplot(dl1_npixels, bins = 15,  stat = 'probability')"
   ]
  },
  {
   "cell_type": "code",
   "execution_count": null,
   "id": "35",
   "metadata": {},
   "outputs": [],
   "source": [
    "event_container"
   ]
  },
  {
   "cell_type": "code",
   "execution_count": null,
   "id": "36",
   "metadata": {},
   "outputs": [],
   "source": [
    "mean_mean = []\n",
    "for i in event_container:\n",
    "    for tels in event_container[i].trigger.tels_with_trigger:\n",
    "        mean_mean.append(np.mean(np.mean(event_container[i].r1.tel[tels].waveform, axis =1)))\n",
    "        print(np.mean(np.mean(event_container[i].r1.tel[tels].waveform, axis =1)))"
   ]
  },
  {
   "cell_type": "code",
   "execution_count": null,
   "id": "37",
   "metadata": {},
   "outputs": [],
   "source": [
    "leng = np.array([len(event_container[i].trigger.tels_with_trigger) for i in event_container])\n",
    "length = leng.sum()\n",
    "plt.scatter(range(0,length),mean_mean)"
   ]
  },
  {
   "cell_type": "code",
   "execution_count": null,
   "id": "38",
   "metadata": {},
   "outputs": [],
   "source": [
    "len(event_container)"
   ]
  },
  {
   "cell_type": "code",
   "execution_count": null,
   "id": "39",
   "metadata": {},
   "outputs": [],
   "source": [
    "m = 1\n",
    "plt.figure(figsize = (9,6))\n",
    "camgeom = source.subarray.tel[m].camera.geometry\n",
    "#title=f\"Event_{i}_optEff{round(event_container[i].muon.tel[m].efficiency.optical_efficiency,3)}_width{round(event_container[i].muon.tel[m].efficiency.width.to_value(),3)}_triggercount{len(event_container[i].trigger.tel.keys())}\"\n",
    "#title=f\"CleanedRing_{i}_optEff{round(event_container[i].muon.tel[m].efficiency.optical_efficiency,3)}_width{round(event_container[i].muon.tel[m].efficiency.width.to_value(),3)}_triggeredTel{m}\"\n",
    "title = \"d\"\n",
    "disp = CameraDisplay(camgeom,title=title)\n",
    "disp.image = event_container[2414].simulation.tel[m].true_image\n",
    "#disp.image = event_container[i].r1.tel[m].waveform.sum(axis=1)\n",
    "disp.cmap = plt.cm.RdBu_r\n",
    "disp.add_colorbar()\n",
    "disp.set_limits_percent(95)\n",
    "plt.show()\n",
    "\n"
   ]
  },
  {
   "cell_type": "code",
   "execution_count": null,
   "id": "40",
   "metadata": {},
   "outputs": [],
   "source": [
    "event_container[2414].r1.tel[1].waveform.sum()"
   ]
  },
  {
   "cell_type": "code",
   "execution_count": null,
   "id": "41",
   "metadata": {},
   "outputs": [],
   "source": [
    "event_container[2414].r1.tel[2].waveform.sum()"
   ]
  },
  {
   "cell_type": "code",
   "execution_count": null,
   "id": "42",
   "metadata": {},
   "outputs": [],
   "source": [
    "event_container[2414].r1.tel[3].waveform.sum()"
   ]
  },
  {
   "cell_type": "code",
   "execution_count": null,
   "id": "43",
   "metadata": {},
   "outputs": [],
   "source": [
    "wave_sum = []\n",
    "dl_pix = []\n",
    "for i in event_container:\n",
    "    for tels in event_container[i].trigger.tels_with_trigger:\n",
    "        wave_sum.append(event_container[i].r1.tel[tels].waveform.sum())\n",
    "        dl_pix.append(event_container[i].dl1.tel[tels].parameters.morphology.n_pixels)\n",
    "        print(\" wave = \", event_container[i].r1.tel[tels].waveform.sum(), \" pix = \", event_container[i].dl1.tel[tels].parameters.morphology.n_pixels)\n",
    "        \n",
    "wave_sum = np.array(wave_sum)\n",
    "dl_pix = np.array(dl_pix)"
   ]
  },
  {
   "cell_type": "code",
   "execution_count": null,
   "id": "44",
   "metadata": {},
   "outputs": [],
   "source": [
    "plt.scatter([i for i in range(len(dl_pix))], wave_sum)\n"
   ]
  },
  {
   "cell_type": "code",
   "execution_count": null,
   "id": "45",
   "metadata": {},
   "outputs": [],
   "source": [
    "plt.scatter([i for i in range(len(dl_pix))], dl_pix)"
   ]
  },
  {
   "cell_type": "code",
   "execution_count": null,
   "id": "46",
   "metadata": {},
   "outputs": [],
   "source": [
    "np.where(dl_pix > 50)"
   ]
  },
  {
   "cell_type": "code",
   "execution_count": null,
   "id": "47",
   "metadata": {},
   "outputs": [],
   "source": [
    "min(wave_sum[np.where(dl_pix > 50)])"
   ]
  },
  {
   "cell_type": "code",
   "execution_count": null,
   "id": "48",
   "metadata": {},
   "outputs": [],
   "source": [
    "wave_sum[np.where(dl_pix > 30)]"
   ]
  },
  {
   "cell_type": "code",
   "execution_count": null,
   "id": "49",
   "metadata": {},
   "outputs": [],
   "source": [
    "for tel_id in j"
   ]
  },
  {
   "cell_type": "code",
   "execution_count": null,
   "id": "50",
   "metadata": {},
   "outputs": [],
   "source": [
    "filename = f'/Users/vdk/sim_run_folder/output_prod_v12/corsika_theta_28.4_az_182.75_run{k}.simtel.gz'\n",
    "source = EventSource(filename, max_events=9000)\n",
    "event_iterator = iter(source)"
   ]
  },
  {
   "cell_type": "code",
   "execution_count": null,
   "id": "51",
   "metadata": {},
   "outputs": [],
   "source": [
    "eventik = next(event_iterator)"
   ]
  },
  {
   "cell_type": "code",
   "execution_count": null,
   "id": "52",
   "metadata": {},
   "outputs": [],
   "source": [
    "for i in event_container[2414].r1.tel.keys():\n",
    "    event_container[2414]"
   ]
  },
  {
   "cell_type": "code",
   "execution_count": null,
   "id": "53",
   "metadata": {},
   "outputs": [],
   "source": []
  }
 ],
 "metadata": {
  "kernelspec": {
   "display_name": "cta",
   "language": "python",
   "name": "cta"
  },
  "language_info": {
   "codemirror_mode": {
    "name": "ipython",
    "version": 3
   },
   "file_extension": ".py",
   "mimetype": "text/x-python",
   "name": "python",
   "nbconvert_exporter": "python",
   "pygments_lexer": "ipython3",
   "version": "3.11.3"
  }
 },
 "nbformat": 4,
 "nbformat_minor": 5
}
