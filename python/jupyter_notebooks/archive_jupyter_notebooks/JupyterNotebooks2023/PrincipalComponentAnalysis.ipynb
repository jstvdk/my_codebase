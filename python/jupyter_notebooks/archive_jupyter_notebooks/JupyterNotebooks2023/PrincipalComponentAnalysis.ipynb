{
 "cells": [
  {
   "cell_type": "code",
   "execution_count": null,
   "metadata": {},
   "outputs": [],
   "source": [
    "import numpy as np\n",
    "import pickle\n",
    "import matplotlib.pyplot as plt\n",
    "from ctapipe.instrument import CameraGeometry\n",
    "from ctapipe.visualization import CameraDisplay\n",
    "from ctapipe.io import EventSource\n",
    "\n",
    "muon_rings_keys = [78124, 78437, 79331, 80266, 81137, 82039, 82691, 84192, 84560, 84631, 86287, 86345, 86590, 86633, 87027, 87511, 87597, 88049, 88103, 88130, 88524, 88598, 88599, 88647, 89104, 89236, 90093, 90324, 90493, 90635, 91012, 91662, 93161, 94747, 96593, 97606, 98657, 99694]\n",
    "\n",
    "filename = f'/Users/vdk/LST/LST_work/corsika_4LSTprotons/simtel_corsika_run3990.simtel.gz'\n",
    "source = EventSource(filename)"
   ]
  },
  {
   "cell_type": "code",
   "execution_count": null,
   "metadata": {},
   "outputs": [],
   "source": [
    "event_container = pickle.load(open('/Users/vdk/LST/4LST_R1Cut2_minPix50.pkl', 'rb'))\n"
   ]
  },
  {
   "cell_type": "code",
   "execution_count": null,
   "metadata": {},
   "outputs": [],
   "source": [
    "muon_events = {}\n",
    "proton_events = {}\n",
    "for key in event_container:\n",
    "    if key in muon_rings_keys:\n",
    "        muon_events[key] = event_container[key]\n",
    "    else:\n",
    "        proton_events[key] = event_container[key]"
   ]
  },
  {
   "attachments": {},
   "cell_type": "markdown",
   "metadata": {},
   "source": [
    "### Constants"
   ]
  },
  {
   "cell_type": "code",
   "execution_count": null,
   "metadata": {},
   "outputs": [],
   "source": [
    "active_threshold = 2"
   ]
  },
  {
   "attachments": {},
   "cell_type": "markdown",
   "metadata": {},
   "source": [
    "## Muon analysis"
   ]
  },
  {
   "cell_type": "code",
   "execution_count": null,
   "metadata": {},
   "outputs": [],
   "source": [
    "# List with telescope values for muon events\n",
    "# muon_events didnt fitted \n",
    "empty_muons= [79331, 81137, 84560, 86590, 90093, 93161]\n",
    "pop_tels = [1, 3, 1, 3, 4, 3]\n",
    "#muon_telescope = [2,3,1,1,3]\n",
    "muon_telescope = []\n",
    "\n",
    "#keys = [key for key in muon_events if key > 81137]\n",
    "for key in muon_events:\n",
    "    if key in empty_muons:\n",
    "        muon_telescope.append(pop_tels.pop(0))\n",
    "    else:\n",
    "        for tels in muon_events[key].trigger.tels_with_trigger:\n",
    "            if not np.isnan(muon_events[key].muon.tel[tels].efficiency.optical_efficiency):\n",
    "                muon_telescope.append(tels)\n",
    "                break\n",
    "\n",
    "print(len(muon_telescope))\n",
    "print(len(muon_events))\n"
   ]
  },
  {
   "cell_type": "code",
   "execution_count": null,
   "metadata": {},
   "outputs": [],
   "source": [
    "for item,key in enumerate(muon_events):\n",
    "    print(item)\n",
    "    print(muon_events[key].r1.tel[muon_telescope[item]].waveform.shape)\n",
    "    "
   ]
  },
  {
   "cell_type": "code",
   "execution_count": null,
   "metadata": {},
   "outputs": [],
   "source": [
    "argmaxes = []\n",
    "variances = []\n",
    "max_values = []\n",
    "max_times_argmax = []\n",
    "\n",
    "variances_m_dict = {}\n",
    "\n",
    "for item,key in enumerate(muon_events):\n",
    "    temp_var = []\n",
    "    for pixel in muon_events[key].r1.tel[muon_telescope[item]].waveform[:, 10:14]:\n",
    "        #print(np.argmax(pixel))\n",
    "        argmaxes.append(np.argmax(pixel))\n",
    "        variances.append(np.var(pixel))\n",
    "        temp_var.append(np.var(pixel))\n",
    "        max_values.append(np.max(pixel))\n",
    "        max_times_argmax.append(np.argmax(pixel) * np.max(pixel))\n",
    "    variances_m_dict[key] = temp_var\n",
    "    \n",
    "\n",
    "\n"
   ]
  },
  {
   "cell_type": "code",
   "execution_count": null,
   "metadata": {},
   "outputs": [],
   "source": [
    "len(variances_m_dict[78124])"
   ]
  },
  {
   "cell_type": "code",
   "execution_count": null,
   "metadata": {},
   "outputs": [],
   "source": [
    "plt.hist(variances, range = (0,10), density = True)\n",
    "plt.xlabel(\"R1 waveform variance\")\n",
    "plt.ylabel(\"Probability density\")\n",
    "plt.ylim(0,0.1)"
   ]
  },
  {
   "cell_type": "code",
   "execution_count": null,
   "metadata": {},
   "outputs": [],
   "source": [
    "variances_active = []\n",
    "argmaxes_active = []\n",
    "active_muons = 0\n",
    "for item,key in enumerate(muon_events):\n",
    "    pixel_mask = np.array(muon_events[key].simulation.tel[muon_telescope[item]].true_image > active_threshold, dtype = bool)\n",
    "    for pixel in muon_events[key].r1.tel[muon_telescope[item]].waveform[pixel_mask, :]:\n",
    "        variances_active.append(np.var(pixel))\n",
    "        argmaxes_active.append(np.argmax(pixel))\n",
    "    active_muons += 1\n",
    "\n",
    "\n"
   ]
  },
  {
   "cell_type": "code",
   "execution_count": null,
   "metadata": {},
   "outputs": [],
   "source": [
    "plt.hist(variances_active, range = (0,10), density = True)\n",
    "plt.xlabel(\"R1 waveform variance of active pixels\")\n",
    "plt.ylabel(\"Probability density\")\n",
    "plt.ylim(0,1)"
   ]
  },
  {
   "cell_type": "code",
   "execution_count": null,
   "metadata": {},
   "outputs": [],
   "source": [
    "plt.figure(figsize = (9,6))\n",
    "plt.hist(argmaxes_active, density = True, bins = 40, alpha = 0.7)\n",
    "plt.xlabel(\"Time of R1 waveform max in pixel for active pixels on muon images\")\n",
    "plt.ylabel(\"Probability density\")\n",
    "#plt.ylim(0,1)\n",
    "        "
   ]
  },
  {
   "cell_type": "code",
   "execution_count": null,
   "metadata": {},
   "outputs": [],
   "source": [
    "for item,key in enumerate(muon_events):\n",
    "    print(\"------\")\n",
    "    print(\"New Event\", key)\n",
    "    print(\"------\")\n",
    "    for tels in muon_events[key].trigger.tels_with_trigger:\n",
    "        print(\"tel \", tels)\n",
    "        print(\"opt eff \", muon_events[key].muon.tel[tels].efficiency.optical_efficiency)"
   ]
  },
  {
   "cell_type": "code",
   "execution_count": null,
   "metadata": {},
   "outputs": [],
   "source": [
    "plt.figure()\n",
    "tels = 1\n",
    "plt.figure(figsize = (9,6))\n",
    "camgeom = source.subarray.tel[tels].camera.geometry\n",
    "title = f'1'\n",
    "disp = CameraDisplay(camgeom,title=title)\n",
    "disp.image = muon_events[79331].simulation.tel[tels].true_image\n",
    "#disp.image = event_container[i].r1.tel[m].waveform.sum(axis=1)\n",
    "disp.cmap = plt.cm.Reds\n",
    "disp.add_colorbar()\n",
    "#disp.set_limits_percent(95)\n",
    "plt.show()"
   ]
  },
  {
   "attachments": {},
   "cell_type": "markdown",
   "metadata": {},
   "source": [
    "## Proton analysis"
   ]
  },
  {
   "cell_type": "code",
   "execution_count": null,
   "metadata": {},
   "outputs": [],
   "source": [
    "# ЗРОБИТИ ЩО Б ТІЛЬКИ ОДИН ТЕЛЕСКОП З ПОДІЇ ЗАПИСУВАЛО\n",
    "\n",
    "max_values_p = []\n",
    "variances_p = []\n",
    "argmaxes_p = []\n",
    "max_times_argmax_p = []\n",
    "\n",
    "variances_p_dict = {}\n",
    "\n",
    "for item,key in enumerate(proton_events):\n",
    "    temp_var = []\n",
    "    for tel in proton_events[key].trigger.tels_with_trigger:\n",
    "        if proton_events[key].r1.tel[tel].waveform is None:\n",
    "            continue\n",
    "        for pixel in proton_events[key].r1.tel[tel].waveform[:,10:14]:\n",
    "            argmaxes_p.append(np.argmax(pixel))\n",
    "            variances_p.append(np.var(pixel))\n",
    "            temp_var.append(np.var(pixel))\n",
    "            max_values_p.append(np.max(pixel))\n",
    "            max_times_argmax_p.append(np.argmax(pixel) * np.max(pixel))\n",
    "        variances_p_dict[key] = temp_var\n",
    "        break    \n",
    "            \n",
    "              \n",
    "                         "
   ]
  },
  {
   "cell_type": "code",
   "execution_count": null,
   "metadata": {},
   "outputs": [],
   "source": [
    "if proton_events[78071].simulation.tel[2].true_image is None:\n",
    "    print(1)"
   ]
  },
  {
   "cell_type": "code",
   "execution_count": null,
   "metadata": {},
   "outputs": [],
   "source": [
    "print(len(max_values_p)/1855)\n",
    "print(len(variances_p))\n",
    "print(len(argmaxes_p)/1855)\n",
    "print(len(proton_events))\n"
   ]
  },
  {
   "cell_type": "code",
   "execution_count": null,
   "metadata": {},
   "outputs": [],
   "source": [
    "variances_active_p = []\n",
    "argmaxes_active_p = []\n",
    "active_protons = 0\n",
    "\n",
    "\n",
    "for item,key in enumerate(proton_events):\n",
    "    for tel in proton_events[key].trigger.tels_with_trigger:\n",
    "        if proton_events[key].simulation.tel[tel].true_image is None:\n",
    "            continue\n",
    "        pixel_mask = np.array(proton_events[key].simulation.tel[tel].true_image > active_threshold, dtype = bool)\n",
    "        for pixel in proton_events[key].r1.tel[tel].waveform[pixel_mask, :]:\n",
    "            variances_active_p.append(np.var(pixel))\n",
    "            argmaxes_active_p.append(np.argmax(pixel))\n",
    "        active_protons += 1\n",
    "        break\n",
    "\n"
   ]
  },
  {
   "cell_type": "code",
   "execution_count": null,
   "metadata": {},
   "outputs": [],
   "source": []
  },
  {
   "cell_type": "code",
   "execution_count": null,
   "metadata": {},
   "outputs": [],
   "source": [
    "# Time distribution\n",
    "k, z, l = plt.hist(arg_max_muons_mask, bins = 36, range = (0,36), density = True, alpha = 0.35, label = 'muons')\n",
    "k, z, l = plt.hist(arg_max_protons_mask, bins = 36, range = (0,36), density = True, alpha = 0.35, label = 'protons')\n",
    "\n",
    "plt.legend()\n",
    "plt.xlabel(\"Time of max R1 amplitude\")\n",
    "plt.ylabel(\"Probability density\")\n",
    "plt.grid(alpha = 0.5)\n",
    "#plt.savefig(\"/Users/vdk/RealLST/images/Run14948_1_timesample_R1cut3.png\")\n"
   ]
  },
  {
   "cell_type": "code",
   "execution_count": null,
   "metadata": {},
   "outputs": [],
   "source": [
    "plt.hist(variances_active_p, range = (0,10), density = True, alpha = 0.7, label = 'protons')\n",
    "plt.hist(variances_active, range = (0,10), density = True, alpha = 0.7, label = 'muons')\n",
    "plt.xlabel(\"R1 waveform variance of active pixels\")\n",
    "plt.ylabel(\"Probability density\")\n",
    "plt.legend()\n",
    "#plt.ylim(0,2)"
   ]
  },
  {
   "cell_type": "code",
   "execution_count": null,
   "metadata": {},
   "outputs": [],
   "source": [
    "high_var_active_p = []\n",
    "for act_var in variances_active_p:\n",
    "    if act_var > 5:\n",
    "        high_var_active_p.append(act_var)\n",
    "\n",
    "high_var_active_m = []\n",
    "for var in variances_active:\n",
    "    if var > 5:\n",
    "        high_var_active_m.append(var)\n",
    "\n",
    "    \n",
    "high_var_p = []\n",
    "for var in variances_p:\n",
    "    if var > 5:\n",
    "        high_var_p.append(var)\n",
    "\n",
    "high_var_m = []\n",
    "for var in variances:\n",
    "    if var > 5:\n",
    "        high_var_m.append(var)"
   ]
  },
  {
   "cell_type": "code",
   "execution_count": null,
   "metadata": {},
   "outputs": [],
   "source": [
    "len(high_var_p)"
   ]
  },
  {
   "cell_type": "code",
   "execution_count": null,
   "metadata": {},
   "outputs": [],
   "source": [
    "print(\"number of high var protons = \", len(high_var_active_p))\n",
    "print(\"active protons = \", active_protons)\n",
    "print(\"number of high var muons = \", len(high_var_active_m))\n",
    "print(\"active muons = \", active_muons)\n",
    "print(\"===============\")\n",
    "print(\"number of high var protons = \", len(high_var_active_p)/active_protons)\n",
    "print(\"number of high var muons = \", len(high_var_active_m)/active_muons)\n",
    "print(\"===============\")\n",
    "print(\"===============\")\n",
    "print(\"number of high var protons = \", len(high_var_p))\n",
    "print(\"active protons = \", active_protons)\n",
    "print(\"number of high var muons = \", len(high_var_m))\n",
    "print(\"active muons = \", active_muons)\n",
    "print(\"===============\")\n",
    "print(\"relative number of high var protons = \", len(high_var_p)/active_protons)\n",
    "print(\"relative number of high var muons = \", len(high_var_m)/active_muons)"
   ]
  },
  {
   "cell_type": "code",
   "execution_count": null,
   "metadata": {},
   "outputs": [],
   "source": [
    "len(high_var_p)/len(variances_active_p)"
   ]
  },
  {
   "cell_type": "code",
   "execution_count": null,
   "metadata": {},
   "outputs": [],
   "source": [
    "len(high_var_m)/len(variances_active)"
   ]
  },
  {
   "cell_type": "code",
   "execution_count": null,
   "metadata": {},
   "outputs": [],
   "source": [
    "len(variances_active)"
   ]
  },
  {
   "cell_type": "code",
   "execution_count": null,
   "metadata": {},
   "outputs": [],
   "source": [
    "len(muon_events)"
   ]
  },
  {
   "cell_type": "code",
   "execution_count": null,
   "metadata": {},
   "outputs": [],
   "source": [
    " "
   ]
  },
  {
   "attachments": {},
   "cell_type": "markdown",
   "metadata": {},
   "source": [
    "## Variance Analysis"
   ]
  },
  {
   "cell_type": "code",
   "execution_count": null,
   "metadata": {},
   "outputs": [],
   "source": [
    "#var_hist_m = [np.mean(variances_m_dict[key]) for key in variances_m_dict]\n",
    "#var_hist_p = [np.mean(variances_p_dict[key]) for key in variances_p_dict]\n",
    "\n",
    "var_hist_m_short = [np.mean(variances_m_dict[key]) for key in variances_m_dict] # only for considered time span (10:14)\n",
    "var_hist_p_short = [np.mean(variances_p_dict[key]) for key in variances_p_dict]\n",
    "\n",
    "\n",
    "len(var_hist_p)"
   ]
  },
  {
   "cell_type": "code",
   "execution_count": null,
   "metadata": {},
   "outputs": [],
   "source": [
    "outliers = [var for var in var_hist_p_short if var > 0.4]\n",
    "len(outliers)/len(var_hist_p_short)\n",
    "#var_hist_m"
   ]
  },
  {
   "cell_type": "code",
   "execution_count": null,
   "metadata": {},
   "outputs": [],
   "source": [
    "\n",
    "plt.hist(var_hist_p_short, alpha = 0.5, density = True, bins = 38, range =(0,1), label='protons')\n",
    "plt.hist(var_hist_m_short, alpha = 0.5, density = True, bins = 38, range=(0,1), label='muons')\n",
    "plt.legend()\n",
    "plt.xlabel('Mean of variance per pixel for every event')\n",
    "plt.ylabel('Probability density')\n",
    "plt.title('Distribution of mean for variance per pixel for timebins [10:14]')"
   ]
  },
  {
   "cell_type": "code",
   "execution_count": null,
   "metadata": {},
   "outputs": [],
   "source": [
    "plt.hist(var_hist_p, alpha = 0.5, density = True, bins = 38, label='protons', range = (0,1))\n",
    "plt.hist(var_hist_m, alpha = 0.5, density = True, bins = 38, label='muons', range=(0,1))\n",
    "#plt.xlim(0,1)\n",
    "#plt.ylim(0,0.0001)\n",
    "plt.legend()\n",
    "#plt.title('Distribution of mean for variance per pixel')\n",
    "plt.xlabel(\"Mean of the variance for every pixel\")\n",
    "plt.ylabel(\"Probability density\")"
   ]
  },
  {
   "cell_type": "code",
   "execution_count": null,
   "metadata": {},
   "outputs": [],
   "source": [
    "var_hist_p"
   ]
  },
  {
   "attachments": {},
   "cell_type": "markdown",
   "metadata": {},
   "source": [
    "## Time of max R1 waveform"
   ]
  },
  {
   "cell_type": "code",
   "execution_count": null,
   "metadata": {},
   "outputs": [],
   "source": [
    "#plt.hist(argmaxes_p, density = True, bins = 38, range = (1,38), alpha = 0.5, label = 'protons')\n",
    "#plt.hist(argmaxes, density = True, bins = 38, range = (1,38),alpha = 0.5, label = 'muons')\n",
    "\n",
    "plt.hist(argmaxes_active_p, density = True, bins = 40, alpha = 0.5, label = 'protons')\n",
    "plt.hist(argmaxes_active, density = True, bins = 40, alpha = 0.5, label = 'muons')\n",
    "\n",
    "plt.xlabel(\"Time of R1 waveform max in pixel for active pixels\")\n",
    "plt.title(\"Timesample of R1 waveform amplitude maximum per pixel\")\n",
    "plt.ylabel(\"Probability density\")\n",
    "plt.legend()\n",
    "#plt.ylim(0,1)"
   ]
  },
  {
   "cell_type": "code",
   "execution_count": null,
   "metadata": {},
   "outputs": [],
   "source": [
    "plt.hist(argmaxes_p, density = True, bins = 38, range = (1,38), alpha = 0.5, label = 'protons')\n",
    "plt.hist(argmaxes, density = True, bins = 38, range = (1,38),alpha = 0.5, label = 'muons')\n",
    "plt.xlabel(\"Time of R1 waveform max in every pixel\")\n",
    "plt.ylabel(\"Probability density\")\n",
    "plt.legend()\n",
    "#plt.ylim(0,1)"
   ]
  },
  {
   "attachments": {},
   "cell_type": "markdown",
   "metadata": {},
   "source": [
    "## Max Value in every pixel analysis"
   ]
  },
  {
   "cell_type": "code",
   "execution_count": null,
   "metadata": {},
   "outputs": [],
   "source": [
    "outliers = [i for i in max_values_p if i > 10]\n",
    "len(outliers)/len(max_values_p)"
   ]
  },
  {
   "cell_type": "code",
   "execution_count": null,
   "metadata": {},
   "outputs": [],
   "source": [
    "plt.hist(max_values_p,bins = 30, range = (0,10), density = True, label = 'protons', alpha = 0.5)\n",
    "plt.hist(max_values, bins = 30, range = (0,10), density = True, label = 'muons', alpha = 0.5)\n",
    "plt.legend()\n",
    "plt.title(\"Max value of R1 waveform for every pixel (range (0,10))\")\n",
    "plt.ylabel(\"Probability density\")\n",
    "plt.xlabel(\"Max value of R1 waveform for every pixel\")\n",
    "plt.ylim(0,0.1)"
   ]
  },
  {
   "cell_type": "code",
   "execution_count": null,
   "metadata": {},
   "outputs": [],
   "source": [
    "plt.hist(max_values, bins = 38, range = (0,max(max_values)), density = True, label = 'muons', alpha = 0.5)\n",
    "plt.legend()\n",
    "plt.ylim(0,0.0001)\n",
    "plt.ylabel(\"Probability density\")\n",
    "plt.xlabel(\"Max value of R1 waveform for every pixel\")"
   ]
  },
  {
   "attachments": {},
   "cell_type": "markdown",
   "metadata": {},
   "source": [
    "## Max value times argmax analysis"
   ]
  },
  {
   "cell_type": "code",
   "execution_count": null,
   "metadata": {},
   "outputs": [],
   "source": [
    "outliers = [i for i in max_times_argmax_p if i > 10]\n",
    "len(outliers)/len(max_times_argmax_p)"
   ]
  },
  {
   "cell_type": "code",
   "execution_count": null,
   "metadata": {},
   "outputs": [],
   "source": [
    "plt.hist(max_times_argmax, label = 'muons', bins = 30, range = (0,10), alpha = 0.5, density = True)\n",
    "plt.hist(max_times_argmax_p, label = 'protons', bins = 30, range = (0,10), alpha = 0.5, density = True)\n",
    "plt.legend()\n",
    "plt.title(\"Max value times time of this max value for every pixel\")\n",
    "plt.ylabel(\"Probability density\")\n",
    "plt.xlabel(\"max(pixel) times argmax(pixel)\")\n"
   ]
  },
  {
   "cell_type": "code",
   "execution_count": null,
   "metadata": {},
   "outputs": [],
   "source": [
    "min(max_times_argmax)"
   ]
  },
  {
   "cell_type": "code",
   "execution_count": null,
   "metadata": {},
   "outputs": [],
   "source": []
  }
 ],
 "metadata": {
  "kernelspec": {
   "display_name": "cta",
   "language": "python",
   "name": "cta"
  },
  "language_info": {
   "codemirror_mode": {
    "name": "ipython",
    "version": 3
   },
   "file_extension": ".py",
   "mimetype": "text/x-python",
   "name": "python",
   "nbconvert_exporter": "python",
   "pygments_lexer": "ipython3",
   "version": "3.11.6"
  }
 },
 "nbformat": 4,
 "nbformat_minor": 2
}
