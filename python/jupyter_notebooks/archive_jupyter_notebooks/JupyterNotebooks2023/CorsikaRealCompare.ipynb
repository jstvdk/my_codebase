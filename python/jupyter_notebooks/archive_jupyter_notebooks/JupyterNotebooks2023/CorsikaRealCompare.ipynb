{
 "cells": [
  {
   "cell_type": "code",
   "execution_count": null,
   "metadata": {},
   "outputs": [],
   "source": [
    "import sys\n",
    "import math\n",
    "import time\n",
    "sys.path.append('/Users/vdk/GeneveWork/Code/calibpipe-main-calibpipe/')\n",
    "import numpy as np\n",
    "import pandas as pd\n",
    "import scipy as sc\n",
    "import matplotlib.pyplot as plt\n",
    "from seaborn import histplot\n",
    "import astropy.units as u\n",
    "from astropy.io import ascii\n",
    "from astropy.coordinates import SkyCoord\n",
    "from astropy.table import Table\n",
    "from astropy.time import Time\n",
    "from ctapipe.io import EventSource, EventSeeker\n",
    "from ctapipe.image.cleaning import tailcuts_clean\n",
    "from ctapipe.image.muon import MuonRingFitter, MuonIntensityFitter\n",
    "from traitlets.config import Config\n",
    "from ctapipe.image import ImageProcessor\n",
    "from ctapipe.image.muon import MuonProcessor\n",
    "from ctapipe.visualization import CameraDisplay\n",
    "from ctapipe.instrument import CameraGeometry\n",
    "from ctapipe.calib import CameraCalibrator\n",
    "from traitlets.config.loader import Config, FileConfigLoader, JSONFileConfigLoader\n",
    "from calibpipe.throughput import MuonCalibrator\n",
    "import h5py\n",
    "from astropy.io import fits\n",
    "\n",
    "\n",
    "\n",
    "\n"
   ]
  },
  {
   "cell_type": "code",
   "execution_count": null,
   "metadata": {},
   "outputs": [],
   "source": [
    "# Read all energies of the simulation\n",
    "energies_all = []\n",
    "counter = 0\n",
    "for k in range(1,11):\n",
    "    filename = f'/Users/vdk/output_lst1_12Septv1/corsika_theta_0.0_az_180.0_run{k}.simtel.gz'\n",
    "    source = EventSource(filename)\n",
    "    event_iterator = iter(source)\n",
    "    keks = k*1000\n",
    "    for i,j in enumerate(event_iterator):\n",
    "        counter += 1\n",
    "        energies_all.append(j.simulation.shower.energy)"
   ]
  },
  {
   "cell_type": "code",
   "execution_count": null,
   "metadata": {},
   "outputs": [],
   "source": [
    "histplot(energies_all, log_scale = True, bins = 45)"
   ]
  },
  {
   "cell_type": "code",
   "execution_count": null,
   "metadata": {},
   "outputs": [],
   "source": [
    "# Create event container with all events\n",
    "event_container = np.array([])\n",
    "for k in range(1,2):\n",
    "    filename = f'/Users/vdk/output_lst1_12Septv1/corsika_theta_0.0_az_180.0_run{k}.simtel.gz'\n",
    "    source = EventSource(filename)\n",
    "    event_iterator = iter(source)\n",
    "    for i,j in enumerate(event_iterator):\n",
    "        event_container = np.append(event_container, j)"
   ]
  },
  {
   "cell_type": "code",
   "execution_count": null,
   "metadata": {},
   "outputs": [],
   "source": [
    "event_container[0].simulation.shower.energy.to_value()"
   ]
  },
  {
   "cell_type": "code",
   "execution_count": null,
   "metadata": {},
   "outputs": [],
   "source": [
    "###\n",
    "### To calibrate events and process muon rings\n",
    "###\n",
    "int_cut = 0.3\n",
    "min_pixel = 80\n",
    "muons = []\n",
    "\n",
    "muon_processor_config = Config({\"MuonProcessor\": \n",
    "                                {\"RingQuery\": \n",
    "                                 {\"quality_criteria\" : [[\"intensity_check\",f\"np.abs(parameters.intensity_ratio - 1) < {int_cut}\"],\n",
    "                                                        [\"ring_containment\", \"parameters.containment > 0.5\"],\n",
    "                                                        [\"ring_completeness\", \"parameters.completeness > 0.5\"]]}}})\n",
    "\n",
    "\n",
    "for k in range(1,11):\n",
    "    filename = f'/Users/vdk/output_lst1_12Septv1/corsika_theta_0.0_az_180.0_run{k}.simtel.gz'\n",
    "    source = EventSource(filename)\n",
    "    event_iterator = iter(source)\n",
    "    for i,event in enumerate(event_iterator):           \n",
    "        image_processor = ImageProcessor(source.subarray)\n",
    "        muon_processor = MuonProcessor(source.subarray, config = muon_processor_config)\n",
    "        calib = CameraCalibrator(image_extractor_type=\"GlobalPeakWindowSum\",subarray = source.subarray)\n",
    "        calib(event)\n",
    "        image_processor(event)\n",
    "        muon_processor(event)\n",
    "        if not np.isnan(event.muon.tel[1].efficiency.optical_efficiency):\n",
    "            muons.append(event)\n",
    "\n",
    "# optical efficiency of muons           \n",
    "opt_eff = []\n",
    "for muon_event in muons:\n",
    "    opt_eff.append(muon_event.muon.tel[1].efficiency.optical_efficiency)        "
   ]
  },
  {
   "cell_type": "code",
   "execution_count": null,
   "metadata": {},
   "outputs": [],
   "source": [
    "# Not cleaned dataset\n",
    "print(np.mean(opt_eff))\n",
    "print(np.std(opt_eff))\n",
    "print(len(opt_eff))"
   ]
  },
  {
   "cell_type": "code",
   "execution_count": null,
   "metadata": {},
   "outputs": [],
   "source": [
    "####  NEW CLEANING NEW CLEANING NEW CLEANING\n",
    "####\n",
    "####\n",
    "####\n",
    "\n",
    "muon_processor_config = Config({\"MuonProcessor\": \n",
    "                                {\"RingQuery\": \n",
    "                                 {\"quality_criteria\" : [[\"intensity_check\",f\"np.abs(parameters.intensity_ratio - 1) < {int_cut}\"],\n",
    "                                                        [\"ring_containment\", \"parameters.containment > 0.5\"],\n",
    "                                                        [\"ring_completeness\", \"parameters.completeness > 0.5\"]]}}})\n",
    "\n",
    "muon_processor_config_2 = Config({\"MuonProcessor\":\n",
    "                                {\"ImageParameterQuery\" :\n",
    "                                 {\"quality_criteria\" : [[\"min_pixels\", f\"dl1_params.morphology.n_pixels < {min_pixel}\"],\n",
    "                                                        [\"min_intensity\", \"dl1_params.hillas.intensity > 500\"]]}}})\n",
    "\n",
    "int_cut = 0.2\n",
    "min_pixel = 200\n",
    "muons_cleaned = []\n",
    "tels = 1\n",
    "\n",
    "for k in range(1,11):\n",
    "    filename = f'/Users/vdk/output_lst1_12Septv1/corsika_theta_0.0_az_180.0_run{k}.simtel.gz'\n",
    "    source = EventSource(filename)\n",
    "    event_iterator = iter(source)\n",
    "    for i,event in enumerate(event_iterator): \n",
    "        image_processor = ImageProcessor(source.subarray)\n",
    "        muon_processor = MuonProcessor(source.subarray, config = muon_processor_config_2)\n",
    "        calib = CameraCalibrator(image_extractor_type=\"GlobalPeakWindowSum\",subarray = source.subarray)\n",
    "        pixel_mask = []\n",
    "        for k,l in enumerate(event.r0.tel[tels].waveform[1]):\n",
    "            if np.argmax(l) in range(16,40): \n",
    "                pixel_mask.append(True)\n",
    "            else:\n",
    "                pixel_mask.append(False)\n",
    "        working_wave = event.r1.tel[tels].waveform.copy()\n",
    "        for k,l in enumerate(working_wave):\n",
    "            if pixel_mask[k]:\n",
    "                #working_wave[k] = np.zeros(40)     \n",
    "                working_wave[k] = np.mean(event.r1.tel[tels].waveform, axis = 0)\n",
    "        event.r1.tel[tels].waveform = working_wave\n",
    "    \n",
    "        calib(event)\n",
    "        image_processor(event)\n",
    "        muon_processor(event)\n",
    "        if not np.isnan(event.muon.tel[tels].efficiency.width):\n",
    "            muons_cleaned.append(event)\n",
    "      \n"
   ]
  },
  {
   "cell_type": "code",
   "execution_count": null,
   "metadata": {},
   "outputs": [],
   "source": [
    "# Processing of cleaned images, to choose proper muon rings\n",
    "true_muons_cleaned = []\n",
    "\n",
    "for event in muons_cleaned:\n",
    "    if event.dl1.tel[tels].parameters.morphology.n_pixels > 30 and abs(event.muon.tel[tels].parameters.intensity_ratio - 1) < 0.3 and event.muon.tel[tels].parameters.completeness > 0.4 and event.muon.tel[tels].parameters.mean_squared_error.to_value() < 0.01:\n",
    "        print(event.index.event_id)\n",
    "        plt.figure(figsize = (9,6))\n",
    "        camgeom = source.subarray.tel[tels].camera.geometry\n",
    "        title=f\"CleanedRing{event.index.event_id}_optEff{round(event.muon.tel[tels].efficiency.optical_efficiency,3)}_width{round(event.muon.tel[tels].efficiency.width.to_value(),3)}\"\n",
    "        disp = CameraDisplay(camgeom,title=title)\n",
    "        disp.image = event.simulation.tel[tels].true_image\n",
    "        disp.cmap = plt.cm.RdBu_r\n",
    "        disp.add_colorbar()\n",
    "        disp.set_limits_percent(95)\n",
    "        #plt.show()\n",
    "        true_muons_cleaned.append(event)\n",
    "        \n",
    "plt.close()\n",
    "\n",
    "cleaned_opt_eff = []\n",
    "for event in true_muons_cleaned:\n",
    "    cleaned_opt_eff.append(event.muon.tel[1].efficiency.optical_efficiency)"
   ]
  },
  {
   "cell_type": "code",
   "execution_count": null,
   "metadata": {},
   "outputs": [],
   "source": [
    "# Cleaned dataset\n",
    "print(np.mean(cleaned_opt_eff))\n",
    "print(np.std(cleaned_opt_eff))\n",
    "print(len(cleaned_opt_eff))"
   ]
  },
  {
   "cell_type": "code",
   "execution_count": null,
   "metadata": {},
   "outputs": [],
   "source": [
    "cleaned_completeness = []\n",
    "for i in true_muons_cleaned:\n",
    "    cleaned_completeness.append(i.muon.tel[1].parameters.completeness)\n",
    "\n",
    "completeness = []\n",
    "for i in muons:\n",
    "    completeness.append(i.muon.tel[1].parameters.completeness)\n",
    "\n",
    "plt.hist(completeness,bins = 7, label = 'completeness of muon rings', histtype = 'step')\n",
    "plt.hist(cleaned_completeness,bins = 7, alpha = 1, label = 'completeness of cleaned muon rings', histtype = 'step')\n",
    "plt.xlabel(\"counts\")\n",
    "plt.ylabel(\"completeness\")\n",
    "plt.legend()"
   ]
  },
  {
   "attachments": {},
   "cell_type": "markdown",
   "metadata": {},
   "source": [
    "Lets work with hdf5 files"
   ]
  },
  {
   "cell_type": "code",
   "execution_count": null,
   "metadata": {},
   "outputs": [],
   "source": [
    "filename = '/Users/vdk/Downloads/DL1_datacheck_20220628.h5'\n",
    "fi = h5py.File(filename, 'r')\n",
    "keys = list(fi.keys())\n",
    "\n",
    "def printname(name):\n",
    "    print(name)\n",
    "\n",
    "# Show all included tables\n",
    "fi.visit(printname)"
   ]
  },
  {
   "cell_type": "code",
   "execution_count": null,
   "metadata": {},
   "outputs": [],
   "source": [
    "for item in fi['runsummary/_i_table/elapsed_time']:\n",
    "    print(item)"
   ]
  },
  {
   "attachments": {},
   "cell_type": "markdown",
   "metadata": {},
   "source": [
    "Now Fits format"
   ]
  },
  {
   "cell_type": "code",
   "execution_count": null,
   "metadata": {},
   "outputs": [],
   "source": [
    "# Test table we received as result of script lstchain_dl1_muon_analysis.py\n",
    "filename_fits = '~/folder_for_test/test_table.fits'\n",
    "hdul = fits.open(filename_fits)\n",
    "hdul.info()\n",
    "#hdul[1].data"
   ]
  },
  {
   "cell_type": "code",
   "execution_count": null,
   "metadata": {},
   "outputs": [],
   "source": [
    "# element number 10 is muon efficiency, so in such way we can check it\n",
    "for i in range(len(hdul[1].data)):\n",
    "    if not np.isnan(hdul[1].data[i][10]):\n",
    "        print(hdul[1].data[i])"
   ]
  },
  {
   "cell_type": "code",
   "execution_count": null,
   "metadata": {},
   "outputs": [],
   "source": [
    "counter = 100\n",
    "np.savetxt(f'/Users/vdk/values.txt', [counter])"
   ]
  },
  {
   "cell_type": "code",
   "execution_count": null,
   "metadata": {},
   "outputs": [],
   "source": [
    "int_cut = 0.3\n",
    "\n",
    "muon_processor_config = Config({\"MuonProcessor\": \n",
    "                                {\"RingQuery\": \n",
    "                                 {\"quality_criteria\" : [[\"intensity_check\",f\"np.abs(parameters.intensity_ratio - 1) < {int_cut}\"],\n",
    "                                                        [\"ring_containment\", \"parameters.containment > 0.5\"],\n",
    "                                                        [\"ring_completeness\", \"parameters.completeness > 0.5\"]]}}})\n",
    "muons = []\n",
    "\n",
    "for run in range(1001, 1100):\n",
    "    crab_sim_file = f'/Users/vdk/crab_sim/corsika_theta_16.087_az_108.090_run{run}.simtel.gz'\n",
    "    source = EventSource(crab_sim_file)\n",
    "    event_iterator = iter(source)\n",
    "    for i,event in enumerate(event_iterator):           \n",
    "        image_processor = ImageProcessor(source.subarray)\n",
    "        muon_processor = MuonProcessor(source.subarray, config = muon_processor_config)\n",
    "        calib = CameraCalibrator(image_extractor_type=\"GlobalPeakWindowSum\",subarray = source.subarray)\n",
    "        calib(event)\n",
    "        image_processor(event)\n",
    "        muon_processor(event)\n",
    "        if not np.isnan(event.muon.tel[1].efficiency.optical_efficiency):\n",
    "            muons.append(event)"
   ]
  },
  {
   "cell_type": "code",
   "execution_count": null,
   "metadata": {},
   "outputs": [],
   "source": [
    "opt_eff = []\n",
    "for event in muons:\n",
    "    opt_eff.append(event.muon.tel[1].efficiency.optical_efficiency)\n",
    "\n",
    "np.mean(opt_eff)"
   ]
  },
  {
   "cell_type": "code",
   "execution_count": null,
   "metadata": {},
   "outputs": [],
   "source": [
    "tels = 1\n",
    "for event in muons:\n",
    "    print(event.index.event_id)\n",
    "    plt.figure(figsize = (9,6))\n",
    "    camgeom = source.subarray.tel[tels].camera.geometry\n",
    "    title=f\"CleanedRing{event.index.event_id}_optEff{round(event.muon.tel[tels].efficiency.optical_efficiency,3)}_width{round(event.muon.tel[tels].efficiency.width.to_value(),3)}\"\n",
    "    disp = CameraDisplay(camgeom,title=title)\n",
    "    disp.image = event.simulation.tel[tels].true_image\n",
    "    disp.cmap = plt.cm.RdBu_r\n",
    "    disp.add_colorbar()\n",
    "    disp.set_limits_percent(95)\n",
    "    #plt.show()"
   ]
  },
  {
   "cell_type": "code",
   "execution_count": null,
   "metadata": {},
   "outputs": [],
   "source": [
    "len(opt_eff)"
   ]
  },
  {
   "cell_type": "code",
   "execution_count": null,
   "metadata": {},
   "outputs": [],
   "source": []
  },
  {
   "attachments": {},
   "cell_type": "markdown",
   "metadata": {},
   "source": [
    "CRAB LST 1 hour (3 runs approx. 20 min each) OBSERVATIONS "
   ]
  },
  {
   "cell_type": "code",
   "execution_count": null,
   "metadata": {},
   "outputs": [],
   "source": [
    "crab_obs_file_1 = '~/crab_obs/muons_LST-1.Run10880.fits'\n",
    "crab_obs_file_2 = '~/crab_obs/muons_LST-1.Run10881.fits'\n",
    "crab_obs_file_3 = '~/crab_obs/muons_LST-1.Run10882.fits'\n",
    "\n",
    "hdul_crab_1 = fits.open(crab_obs_file_1)\n",
    "hdul_crab_2 = fits.open(crab_obs_file_2)\n",
    "hdul_crab_3 = fits.open(crab_obs_file_3)\n",
    "hdul_crab_1.info()"
   ]
  },
  {
   "cell_type": "code",
   "execution_count": null,
   "metadata": {},
   "outputs": [],
   "source": [
    "len(hdul_crab_1[1].data)"
   ]
  },
  {
   "cell_type": "code",
   "execution_count": null,
   "metadata": {},
   "outputs": [],
   "source": [
    "len(hdul_crab_2[1].data)"
   ]
  },
  {
   "cell_type": "code",
   "execution_count": null,
   "metadata": {},
   "outputs": [],
   "source": [
    "len(hdul_crab_3[1].data)"
   ]
  },
  {
   "cell_type": "code",
   "execution_count": null,
   "metadata": {},
   "outputs": [],
   "source": [
    "len(hdul_crab_1[1].data) + len(hdul_crab_2[1].data) + len(hdul_crab_3[1].data)"
   ]
  },
  {
   "cell_type": "code",
   "execution_count": null,
   "metadata": {},
   "outputs": [],
   "source": [
    "flag_count = 0\n",
    "for flag in hdul_crab_1[1].data:\n",
    "    if flag:\n",
    "        flag_count += 1"
   ]
  },
  {
   "cell_type": "code",
   "execution_count": null,
   "metadata": {},
   "outputs": [],
   "source": [
    "flag_count"
   ]
  },
  {
   "cell_type": "code",
   "execution_count": null,
   "metadata": {},
   "outputs": [],
   "source": [
    "filename1 = '/Users/vdk/energies_500.txt'\n",
    "fi1 = open(filename1,'r')\n",
    "lines = fi1.readlines() \n",
    "splitted = lines[0].split(',')\n",
    "energies_proton_1 = np.array(list(filter(None, splitted))).astype('float')\n",
    "fi1.close()\n",
    "\n",
    "filename1 = '/Users/vdk/energies_501-1100.txt'\n",
    "fi1 = open(filename1,'r')\n",
    "lines = fi1.readlines() \n",
    "splitted = lines[0].split(',')\n",
    "energies_proton_2 = np.array(list(filter(None, splitted))).astype('float')\n",
    "fi1.close()\n",
    "\n",
    "filename1 = '/Users/vdk/energies_625-1100.txt'\n",
    "fi1 = open(filename1,'r')\n",
    "lines = fi1.readlines() \n",
    "splitted = lines[0].split(',')\n",
    "energies_proton_3 = np.array(list(filter(None, splitted))).astype('float')\n",
    "fi1.close()\n",
    "\n",
    "energies_proton = np.append(energies_proton_1, energies_proton_2)\n",
    "energies_proton = np.append(energies_proton, energies_proton_3)\n",
    "\n",
    "filename2 = '/Users/vdk/energies_for_filerange1-1100.txt'\n",
    "fi2 = open(filename2, 'r')\n",
    "lines = fi2.readlines()\n",
    "energies_muon = np.array(lines).astype('float')\n",
    "\n",
    "\n",
    "\n",
    "w_protons = sum([energy**(-0.7) for energy in energies_proton])\n",
    "new_proton_sample = len(energies_proton)/ w_protons  * len(energies_proton)\n",
    "new_proton_sample = w_protons\n",
    "\n",
    "print(\"Initial proton sample size = \", len(energies_proton))\n",
    "print(\"Weighted proton sample size = \", new_proton_sample)\n",
    "\n",
    "w_muons = sum([energy**(-0.7) for energy in energies_muon])\n",
    "new_muon_sample = len(energies_muon)/ w_muons * len(energies_muon)\n",
    "new_muon_sample = w_muons\n",
    "\n",
    "print(\"Initial muon sample size = \", len(energies_muon))\n",
    "print(\"Weighted muon sample size = \", new_muon_sample)\n",
    "\n",
    "print(\"Initial relation between muon sample size and proton sample = \", len(energies_muon)/len(energies_proton))\n",
    "print(\"Weighed relation between muon sample size and proton sample = \", new_muon_sample / new_proton_sample)\n",
    "\n",
    "print(\"reweigth muons = \", w_muons / len(energies_muon))\n",
    "print(\"reweigth protons = \", w_protons / len(energies_proton))"
   ]
  },
  {
   "cell_type": "code",
   "execution_count": null,
   "metadata": {},
   "outputs": [],
   "source": [
    "plt.hist(energies_proton, log=True, bins = 30)"
   ]
  },
  {
   "cell_type": "code",
   "execution_count": null,
   "metadata": {},
   "outputs": [],
   "source": [
    "plt.hist([energy**(-0.7) for energy in energies_proton], log=True, bins = 30)"
   ]
  },
  {
   "cell_type": "code",
   "execution_count": null,
   "metadata": {},
   "outputs": [],
   "source": [
    "plt.hist([energy**(-0.7) for energy in energies_muon], log=True, bins = 10)"
   ]
  },
  {
   "cell_type": "code",
   "execution_count": null,
   "metadata": {},
   "outputs": [],
   "source": [
    "plt.hist(energies_muon, log=True, bins = 10)"
   ]
  },
  {
   "cell_type": "code",
   "execution_count": null,
   "metadata": {},
   "outputs": [],
   "source": [
    "filename1 = '/Users/vdk/energies_500.txt'\n",
    "fi1 = open(filename1,'r')\n",
    "lines = fi1.readlines() \n",
    "splitted = lines[0].split(',')\n",
    "energies_proton = np.array(list(filter(None, splitted))).astype('float')\n",
    "fi1.close()\n",
    "\n",
    "filename2 = '/Users/vdk/energies_for_filerange1-499.txt\n",
    "fi2 = open(filename2, 'r')\n",
    "lines = fi2.readlines()\n",
    "energies_muon = np.array(lines).astype('float')\n",
    "\n",
    "\n",
    "\n",
    "w_protons = sum([energy**(-0.7) for energy in energies_proton])\n",
    "new_proton_sample = len(energies_proton)/ w_protons  * len(energies_proton)\n",
    "new_proton_sample = w_protons\n",
    "\n",
    "print(\"Initial proton sample size = \", len(energies_proton))\n",
    "print(\"Weighted proton sample size = \", new_proton_sample)\n",
    "\n",
    "w_muons = sum([energy**(-0.7) for energy in energies_muon])\n",
    "new_muon_sample = len(energies_muon)/ w_muons * len(energies_muon)\n",
    "new_muon_sample = w_muons\n",
    "\n",
    "print(\"Initial muon sample size = \", len(energies_muon))\n",
    "print(\"Weighted muon sample size = \", new_muon_sample)\n",
    "\n",
    "print(\"Initial relation between muon sample size and proton sample = \", len(energies_muon)/len(energies_proton))\n",
    "print(\"Weighed relation between muon sample size and proton sample = \", new_muon_sample / new_proton_sample)\n",
    "\n",
    "print(\"reweigth muons = \", w_muons / len(energies_muon))\n",
    "print(\"reweigth protons = \", w_protons / len(energies_proton))"
   ]
  },
  {
   "cell_type": "code",
   "execution_count": null,
   "metadata": {},
   "outputs": [],
   "source": []
  }
 ],
 "metadata": {
  "kernelspec": {
   "display_name": "cta",
   "language": "python",
   "name": "python3"
  },
  "language_info": {
   "codemirror_mode": {
    "name": "ipython",
    "version": 3
   },
   "file_extension": ".py",
   "mimetype": "text/x-python",
   "name": "python",
   "nbconvert_exporter": "python",
   "pygments_lexer": "ipython3",
   "version": "3.11.6"
  }
 },
 "nbformat": 4,
 "nbformat_minor": 2
}
