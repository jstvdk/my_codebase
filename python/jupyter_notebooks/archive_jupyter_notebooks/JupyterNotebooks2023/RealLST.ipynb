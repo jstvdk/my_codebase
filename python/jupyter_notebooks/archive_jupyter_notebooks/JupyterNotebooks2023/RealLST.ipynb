{
 "cells": [
  {
   "cell_type": "code",
   "execution_count": null,
   "metadata": {},
   "outputs": [],
   "source": [
    "import sys\n",
    "sys.path.append('/Users/vdk/GeneveWork/Code/calibpipe-main-calibpipe/')\n",
    "from astropy.io import ascii\n",
    "import numpy as np\n",
    "import pandas as pd\n",
    "import matplotlib\n",
    "import csv\n",
    "import scipy\n",
    "import matplotlib.pyplot as plt\n",
    "from seaborn import histplot\n",
    "import random\n",
    "import copy\n",
    "from os import path, makedirs\n",
    "from astropy.coordinates import SkyCoord\n",
    "from astropy.table import Table\n",
    "import astropy.units as u\n",
    "from ctapipe.containers import MuonEfficiencyContainer\n",
    "from ctapipe.coordinates import CameraFrame, TelescopeFrame\n",
    "from ctapipe.io import EventSource, EventSeeker\n",
    "from ctapipe.core import TelescopeComponent\n",
    "from ctapipe.core.traits import (\n",
    "    List,\n",
    "    Int,\n",
    "    FloatTelescopeParameter,\n",
    "    TelescopeParameter,\n",
    "    Unicode,\n",
    ")\n",
    "from ctapipe.image.cleaning import tailcuts_clean\n",
    "from ctapipe.image.muon import MuonRingFitter, MuonIntensityFitter\n",
    "from traitlets.config import Config\n",
    "from ctapipe.image import ImageProcessor\n",
    "from ctapipe.image.muon import MuonProcessor\n",
    "from ctapipe.visualization import CameraDisplay\n",
    "from ctapipe.instrument import CameraGeometry\n",
    "from ctapipe.calib import CameraCalibrator\n",
    "from traitlets.config.loader import Config, FileConfigLoader, JSONFileConfigLoader\n",
    "import pathlib\n",
    "from calibpipe.throughput import MuonCalibrator\n",
    "from traitlets.config import Config\n",
    "from astropy.time import Time\n",
    "from astropy.coordinates import EarthLocation,SkyCoord, AltAz \n",
    "import time\n",
    "from ctapipe.image import number_of_island_sizes\n",
    "from ctapipe.image import (\n",
    "    hillas_parameters,\n",
    "    leakage_parameters,\n",
    "    concentration_parameters,\n",
    ")\n",
    "from ctapipe.image import timing_parameters\n",
    "from ctapipe.image import number_of_islands\n",
    "from ctapipe.image import camera_to_shower_coordinates\n",
    "import ctapipe\n",
    "from lstchain.io import replace_config, standard_config\n",
    "import h5py\n",
    "from astropy.io import fits\n",
    "import json\n",
    "muon_rings = [434, 663, 949, 1295, 1355, 1565, 1777, 1933, 3067, 3179, 3270, 3314,3346, 3692, 4076,  5016, 6853, 7723, 7919, 8122, 8605, 9047, 9157, 9239, 9774,  9910, 10486, 10491, 11600, 11781, 12038, 12506, 12969, 13004, 13101] \n",
    "muon_rings_datacheck = [54110, 55656, 55942, 57623, 58136, 58798, 59194, 59570, 60407, 60422, 62395, 63033, 63412, 64971, 65272, 66251, 66737, 67143, 67175, 67772, 68483, 68495, 68755, 68902, 69300, 69891, 70855, 72398, 73259, 73261, 73725, 76581, 76871, 77277, 80267, 80982, 81229, 81606, 82140, 83970, 84318, 85580, 87424, 87427, 87921, 88388, 89632, 91351, 93414, 93971, 94651, 95006, 96661, 97072, 97242, 97335, 97713, 97785, 97891, 99847, 100267, 101084, 101156, 101606, 103028, 103475, 105020, 105713]\n",
    "flagged_rings_sim = [5333507, 1673009, 1808303, 3362305, 2835508, 4026706, 159503, 4854202, 5464504, 2439702, 1402200, 3456509, 3547004, 2229705, 22604, 5573308, 3489206, 417000, 5895006, 1836008, 1794401, 593906, 3280901, 1114103, 5920700, 5521903, 5240406, 5678007, 918003, 5858809, 4315801, 3547006, 729206, 5412204, 759808, 3386907, 2597005, 3539901, 4125904, 1073405, 3662503, 846606, 2845905, 5139408, 5097001, 3248609, 2257305, 5559707, 1775404, 5586609, 5387503, 336801, 3611003, 4504102, 1556201, 3742006, 55203, 377809, 5303909, 3393108, 5854105, 3850800, 5240903, 5120108, 4330605, 4006201, 4752000, 817501, 1096109, 5562603, 3289408, 2057308, 1646106, 2736603, 220203, 2095301, 243205, 250008, 728702, 1177701, 402700, 4589808, 1063003, 3804102, 1088507, 5638409, 1824304, 2482107, 2619809, 4647903, 5864908, 4805401, 2936707, 996201]\n",
    "len(muon_rings)\n",
    "import os\n",
    "import pickle\n"
   ]
  },
  {
   "cell_type": "code",
   "execution_count": null,
   "metadata": {},
   "outputs": [],
   "source": [
    "# Треба завантажити конфіг в івент соурс\n",
    "filename = f'/Users/vdk/CTA/RealLST/typical_run_data/LST-1.1.Run14948.0001.fits.fz'\n",
    "\n",
    "int_cut = 0.3\n",
    "min_pixel = 30\n",
    "\n",
    "config_filename = '/Users/vdk/CTA/RealLST/typical_run_data/lstchain_standard_v0.10_heuristic_ff.json'\n",
    "with open(config_filename) as json_file:\n",
    "    config_data = json.load(json_file)\n",
    "\n",
    "custom_config = Config(config_data)\n",
    "\n",
    "# muon_processor_config = Config({\"MuonProcessor\": \n",
    "#                                 {\"RingQuery\": \n",
    "#                                  {\"quality_criteria\" : [[\"intensity_check\",f\"np.abs(parameters.intensity_ratio - 1) < {int_cut}\"],\n",
    "#                                                         [\"ring_containment\", \"parameters.containment > 0.5\"],\n",
    "#                                                         [\"ring_completeness\", \"parameters.completeness > 0.5\"]]}}})\n",
    "\n",
    "# muon_processor_config_2 = Config({\"MuonProcessor\":\n",
    "#                                 {\"ImageParameterQuery\" :\n",
    "#                                  {\"quality_criteria\" : [[\"min_pixels\", f\"dl1_params.morphology.n_pixels > {min_pixel}\"],\n",
    "#                                                         [\"min_intensity\", \"dl1_params.hillas.intensity > 500\"]]}}})\n",
    "\n",
    "cfg = Config({\n",
    "    \"source_config\": {\n",
    "        \"EventSource\" : {\n",
    "            \"allowed_tels\": [1],\"max_events\": 9999}},\n",
    "        \"PointingSource\":{\n",
    "            \"drive_report_path\": '/Users/vdk/CTA/RealLST/typical_run_data/DrivePosition_log_20231007.txt'},\n",
    "        \"LSTR0Corrections\": {\n",
    "          \"calib_scale_high_gain\":1.088,\n",
    "          \"calib_scale_low_gain\":1.004,\n",
    "          \"drs4_pedestal_path\": '/Users/vdk/CTA/RealLST/typical_run_data/drs4_pedestal.Run14937.0000.h5',\n",
    "          \"calibration_path\": '/Users/vdk/CTA/RealLST/typical_run_data/calibration_filters_52.Run14938.0000.h5',\n",
    "          \"drs4_time_calibration_path\": '/Users/vdk/CTA/RealLST/typical_run_data/time_calibration.Run08349.0000.h5'\n",
    "      }})\n",
    "\n",
    "# config = replace_config(standard_config, muon_processor_config)\n",
    "# config = replace_config(config, muon_processor_config_2)\n",
    "#config = replace_config(config, custom_config)\n"
   ]
  },
  {
   "cell_type": "markdown",
   "metadata": {},
   "source": []
  },
  {
   "cell_type": "code",
   "execution_count": null,
   "metadata": {},
   "outputs": [],
   "source": [
    "source = EventSource('/Users/vdk/Software/ctasoft/calibpipe/src/calibpipe/tests/data/throughput/Dummy100_NSB.simtel.gz')\n",
    "#source = EventSource('/Users/vdk/CTA/GeneveWork/muon_simpaper/data/run401_muon_lst.simtel.gz')\n",
    "event_iterator = iter(source)\n",
    "event = next(event_iterator)\n",
    "for i,event in enumerate(event_iterator):    \n",
    "    for pix_id in range(0, 1855):\n",
    "        plt.plot(\n",
    "            event.r0.tel[1].waveform[0][pix_id], label=\"pix {}\".format(pix_id), drawstyle=\"steps\"\n",
    "        )\n",
    "        \n",
    "    plt.title('LG')\n",
    "    plt.show()\n",
    "    for pix_id in range(0, 1855):\n",
    "        plt.plot(\n",
    "            event.r0.tel[1].waveform[1][pix_id], label=\"pix {}\".format(pix_id), drawstyle=\"steps\"\n",
    "        )\n",
    "    plt.title(f'HG {i}')\n",
    "    plt.show()\n",
    "    if i > 100:\n",
    "        plt.close()\n",
    "        break"
   ]
  },
  {
   "cell_type": "code",
   "execution_count": null,
   "metadata": {},
   "outputs": [],
   "source": []
  },
  {
   "cell_type": "code",
   "execution_count": null,
   "metadata": {},
   "outputs": [],
   "source": []
  },
  {
   "cell_type": "code",
   "execution_count": null,
   "metadata": {},
   "outputs": [],
   "source": [
    "source = EventSource(filename, config = Config(cfg))\n",
    "\n",
    "event_iterator = iter(source)\n",
    "event = next(event_iterator)\n",
    "\n",
    "event.index.event_id"
   ]
  },
  {
   "cell_type": "code",
   "execution_count": null,
   "metadata": {},
   "outputs": [],
   "source": [
    "event.r0.tel[1]"
   ]
  },
  {
   "cell_type": "code",
   "execution_count": null,
   "metadata": {},
   "outputs": [],
   "source": [
    "if (len(event.trigger.tels_with_trigger) == 1) and (event.trigger.tels_with_trigger[0] == 1):\n",
    "    filename = f'/fefs/aswg/workspace/vadym.voitsekhovskyi/1LST/waveforms_1LST/R1waveform{event.index.event_id}.txt'\n",
    "    np.save(filename, event.r1.tel[1].waveform)"
   ]
  },
  {
   "attachments": {},
   "cell_type": "markdown",
   "metadata": {},
   "source": [
    "### Process events and create dict with muon rings"
   ]
  },
  {
   "cell_type": "code",
   "execution_count": null,
   "metadata": {},
   "outputs": [],
   "source": [
    "print(event.mon.tel[1].calibration.unusable_pixels)\n"
   ]
  },
  {
   "cell_type": "code",
   "execution_count": null,
   "metadata": {},
   "outputs": [],
   "source": [
    "#event = next(event_iterator)\n",
    "# There are 13247 events\n",
    "\n",
    "cfg = Config({\n",
    "    \"source_config\": {\n",
    "        \"EventSource\" : {\n",
    "            \"allowed_tels\": [1],\"max_events\": 9999}},\n",
    "        \"PointingSource\":{\n",
    "            \"drive_report_path\": '/Users/vdk/CTA/RealLST/typical_run_data/DrivePosition_log_20231007.txt'},\n",
    "        \"LSTR0Corrections\": {\n",
    "          \"calib_scale_high_gain\":1.088,\n",
    "          \"calib_scale_low_gain\":1.004,\n",
    "          \"drs4_pedestal_path\": '/Users/vdk/CTA/RealLST/typical_run_data/drs4_pedestal.Run14937.0000.h5',\n",
    "          \"calibration_path\": '/Users/vdk/CTA/RealLST/typical_run_data/calibration_filters_52.Run14938.0000.h5',\n",
    "          \"drs4_time_calibration_path\": '/Users/vdk/CTA/RealLST/typical_run_data/time_calibration.Run08349.0000.h5'\n",
    "      }})\n",
    "source = EventSource(filename, config = Config(cfg))\n",
    "\n",
    "event_iterator = iter(source)\n",
    "config = replace_config(standard_config, muon_processor_config)\n",
    "config = replace_config(config, muon_processor_config_2)\n",
    "config = replace_config(config, custom_config)\n",
    "\n",
    "optical_efficiency_list = []\n",
    "muon_arr = []\n",
    "muon_list = {}\n",
    "image_processor = ImageProcessor(source.subarray)\n",
    "muon_processor = MuonProcessor(source.subarray, config = Config(config))\n",
    "calib = CameraCalibrator(image_extractor_type=\"GlobalPeakWindowSum\",subarray = source.subarray, config = Config(config))\n",
    "n_pixels = []\n",
    "arr_max_muons = []\n",
    "arg_max_muons = []\n",
    "\n",
    "arr_max_muons_mask = []\n",
    "arg_max_muons_mask = []\n",
    "\n",
    "arr_max_protons = []\n",
    "arg_max_protons = []\n",
    "\n",
    "arr_max_protons_mask = []\n",
    "arg_max_protons_mask = []\n",
    "counter = 0\n",
    "for iter_number, event in enumerate(event_iterator):\n",
    "   #print(iter_number)\n",
    "   #calib(event)\n",
    "   #image_processor(event)\n",
    "   #muon_processor(event)\n",
    "   #print(\"n pixels = \", event.dl1.tel[1].parameters.morphology.n_pixels)\n",
    "   #n_pixels.append(event.dl1.tel[1].parameters.morphology.n_pixels)\n",
    "   #pixel_mask = np.array(np.max(event.r1.tel[1].waveform, axis = 1) > 2.5, dtype = bool)\n",
    "   if event.index.event_id in muon_rings_datacheck:\n",
    "      counter += 1\n",
    "      calib(event)\n",
    "      image_processor(event)\n",
    "      muon_processor(event)\n",
    "      plt.figure(figsize = (9,6))\n",
    "      camgeom = source.subarray.tel[1].camera.geometry\n",
    "      title = f'iter_number = {iter_number}, event_id = {event.index.event_id}, opt_eff = {round(event.muon.tel[1].efficiency.optical_efficiency,3)}'\n",
    "      disp = CameraDisplay(camgeom,title=title)\n",
    "      #disp.highlight_pixels(pixel_mask)\n",
    "      disp.image = event.r1.tel[1].waveform.sum(axis = 1)\n",
    "      #disp.image = event.dl1.tel[1].image\n",
    "      disp.cmap = plt.cm.RdBu_r\n",
    "      disp.add_colorbar()\n",
    "      #disp.set_limits_percent(95)\n",
    "      plt.show()\n",
    "   #    for pixel in event.r1.tel[1].waveform[pixel_mask]:\n",
    "   #       #print(pixel)\n",
    "   #       arr_max_muons_mask.append(np.max(pixel))\n",
    "   #       arg_max_muons_mask.append(np.argmax(pixel))\n",
    "         \n",
    "   #    for pixel in event.r1.tel[1].waveform:\n",
    "   #       arr_max_muons.append(np.max(pixel))\n",
    "   #       arg_max_muons.append(np.argmax(pixel))\n",
    "   # else:\n",
    "   #    for pixel in event.r1.tel[1].waveform[pixel_mask]:\n",
    "   #       arr_max_protons_mask.append(np.max(pixel))\n",
    "   #       arg_max_protons_mask.append(np.argmax(pixel))\n",
    "   #    for pixel in event.r1.tel[1].waveform:\n",
    "   #       arr_max_protons.append(np.max(pixel))\n",
    "   #       arg_max_protons.append(np.argmax(pixel))\n",
    "\n",
    "\n",
    "   #print(f\"number {i} contain event number {event.index.event_id}\")\n",
    "\n",
    "\n",
    "plt.close()"
   ]
  },
  {
   "cell_type": "code",
   "execution_count": null,
   "metadata": {},
   "outputs": [],
   "source": [
    "print(event.mon)\n"
   ]
  },
  {
   "cell_type": "code",
   "execution_count": null,
   "metadata": {},
   "outputs": [],
   "source": [
    "filename = f'/Users/vdk/RealLST/typical_run_data/LST-1.4.Run14948.0001.fits.fz'\n",
    "source = EventSource(filename, config = Config(cfg))\n",
    "\n",
    "event_iterator = iter(source)\n",
    "\n",
    "arr_max_muons = []\n",
    "arg_max_muons = []\n",
    "\n",
    "arr_max_muons_mask = []\n",
    "arg_max_muons_mask = []\n",
    "\n",
    "arr_max_protons = []\n",
    "arg_max_protons = []\n",
    "\n",
    "arr_max_protons_mask = []\n",
    "arg_max_protons_mask = []\n",
    "\n",
    "\n",
    "variance_muon = []\n",
    "variance_proton = []\n",
    "\n",
    "muon_n_pixel = []\n",
    "\n",
    "muon_pixel_number = []\n",
    "proton_pixel_number = []\n",
    "\n",
    "for iter_number, event in enumerate(event_iterator):\n",
    "   #calib(event)\n",
    "   #image_processor(event)\n",
    "   #muon_processor(event)\n",
    "   tmp_var_muon = []\n",
    "   tmp_var_proton = []\n",
    "   #print(\"n pixels = \", event.dl1.tel[1].parameters.morphology.n_pixels)\n",
    "   #n_pixels.append(event.dl1.tel[1].parameters.morphology.n_pixels)\n",
    "   #if event.dl1.tel[1].parameters.morphology.n_pixels > 0 and event.dl1.tel[1].parameters.morphology.n_pixels < 1855:\n",
    "   if True:\n",
    "      muon_pix_temp = 0\n",
    "      proton_pix_temp = 0\n",
    "      pixel_mask = np.array(np.max(event.r1.tel[1].waveform, axis = 1) > 2.5, dtype = bool)\n",
    "      if iter_number in muon_rings:\n",
    "         #muon_n_pixel.append(event.dl1.tel[1].parameters.morphology.n_pixels)\n",
    "         \n",
    "         for pixel in event.r1.tel[1].waveform[pixel_mask]:\n",
    "            muon_pix_temp += 1\n",
    "         #print(pixel)\n",
    "            #arr_max_muons_mask.append(np.max(pixel))\n",
    "            arg_max_muons_mask.append(np.argmax(pixel))\n",
    "         \n",
    "         # for pixel in event.r1.tel[1].waveform:\n",
    "         #    #arr_max_muons.append(np.max(pixel))\n",
    "         #    #arg_max_muons.append(np.argmax(pixel))\n",
    "         \n",
    "         for pixel in event.r1.tel[1].waveform[:, 7:12]:\n",
    "            tmp_var_muon.append(np.var(pixel))\n",
    "         muon_pixel_number.append(muon_pix_temp)\n",
    "\n",
    "      else:\n",
    "         for pixel in event.r1.tel[1].waveform[pixel_mask]:\n",
    "            proton_pix_temp += 1\n",
    "            #arr_max_protons_mask.append(np.max(pixel))\n",
    "            arg_max_protons_mask.append(np.argmax(pixel))\n",
    "         # for pixel in event.r1.tel[1].waveform:\n",
    "         #    arr_max_protons.append(np.max(pixel))\n",
    "         #    arg_max_protons.append(np.argmax(pixel))\n",
    "         for pixel in event.r1.tel[1].waveform[:, 7:12]:\n",
    "            tmp_var_proton.append(np.var(pixel))\n",
    "         proton_pixel_number.append(proton_pix_temp)\n",
    "   variance_muon.append(tmp_var_muon)\n",
    "   variance_proton.append(tmp_var_proton)"
   ]
  },
  {
   "cell_type": "code",
   "execution_count": null,
   "metadata": {},
   "outputs": [],
   "source": [
    "from astropy.time import Time\n",
    "\n",
    "\n",
    "tai_mjd_timestamp = event.trigger.tel[1].time\n",
    "\n",
    "datetime_obj = Time(tai_mjd_timestamp, format='mjd', scale='tai').to_datetime()\n",
    "\n",
    "print(datetime_obj)\n"
   ]
  },
  {
   "cell_type": "code",
   "execution_count": null,
   "metadata": {},
   "outputs": [],
   "source": [
    "tai_mjd_timestamp = event.trigger.tel[1].time\n",
    "\n",
    "datetime_obj = Time(tai_mjd_timestamp, format='unix_tai', scale='tai').to_datetime()\n",
    "\n",
    "print(datetime_obj)"
   ]
  },
  {
   "cell_type": "code",
   "execution_count": null,
   "metadata": {},
   "outputs": [],
   "source": [
    "print(event.trigger.tel[1].time.to_datetime())"
   ]
  },
  {
   "cell_type": "code",
   "execution_count": null,
   "metadata": {},
   "outputs": [],
   "source": [
    "pixel_mask = np.array(np.max(event.r1.tel[1].waveform, axis = 1) > 2, dtype = bool)\n",
    "for pixel in event.r1.tel[1].waveform[pixel_mask]:\n",
    "    print(pixel.shape)"
   ]
  },
  {
   "cell_type": "code",
   "execution_count": null,
   "metadata": {},
   "outputs": [],
   "source": [
    "plt.hist(muon_pixel_number,range=(0,200), density = True)\n",
    "plt.hist(proton_pixel_number, range=(0,200), density = True)\n"
   ]
  },
  {
   "cell_type": "code",
   "execution_count": null,
   "metadata": {},
   "outputs": [],
   "source": [
    "key = 434\n",
    "camgeom = source.subarray.tel[1].camera.geometry\n",
    "title=f\"event{key}_fit{round(muon_list[key].muon.tel[1].efficiency.optical_efficiency,3)}_width{round(muon_list[key].muon.tel[1].efficiency.width.to_value(),3)}\"\n",
    "disp = CameraDisplay(camgeom,title=title)\n",
    "#disp.image = event.r1.tel[teln].waveform[:,11]\n",
    "#disp.image = event.dl0.tel[teln].waveform[:,11]\n",
    "disp.image = muon_list[key].dl1.tel[1].image\n",
    "disp.cmap = plt.cm.RdBu_r\n",
    "disp.add_colorbar()\n",
    "disp.set_limits_percent(95)\n",
    "plt.show()"
   ]
  },
  {
   "attachments": {},
   "cell_type": "markdown",
   "metadata": {},
   "source": [
    "### Build images + waveforms of events"
   ]
  },
  {
   "cell_type": "code",
   "execution_count": null,
   "metadata": {},
   "outputs": [],
   "source": [
    "#event = next(event_iterator)\n",
    "# There are 13247 events\n",
    "\n",
    "source = EventSource(filename, config = Config(cfg))\n",
    "event_iterator = iter(source)\n",
    "config = replace_config(standard_config, muon_processor_config)\n",
    "config = replace_config(config, muon_processor_config_2)\n",
    "optical_efficiency_list = []\n",
    "muon_list = {}\n",
    "image_processor = ImageProcessor(source.subarray)\n",
    "muon_processor = MuonProcessor(source.subarray, config = Config(config))\n",
    "calib = CameraCalibrator(image_extractor_type=\"GlobalPeakWindowSum\",subarray = source.subarray, config = Config(config))\n",
    "n_pixels = []\n",
    "\n",
    "for iter_number,event in enumerate(event_iterator):\n",
    "   #print(iter_number)\n",
    "   calib(event)\n",
    "   image_processor(event)\n",
    "   muon_processor(event)\n",
    "   #print(\"n pixels = \", event.dl1.tel[1].parameters.morphology.n_pixels)\n",
    "   n_pixels.append(event.dl1.tel[1].parameters.morphology.n_pixels)\n",
    "   if event.dl1.tel[1].parameters.morphology.n_pixels > 50 and event.dl1.tel[1].parameters.morphology.n_pixels < 150:\n",
    "      j = event\n",
    "      teln = 1\n",
    "      fig, axes = plt.subplots(2, 1, sharex=False, gridspec_kw={'height_ratios': [1, 1]}, figsize=(9,12))\n",
    "      fig.subplots_adjust(hspace=0.2)\n",
    "      ax = axes[0]\n",
    "      camgeom = source.subarray.tel[1].camera.geometry\n",
    "      title=f\"event{iter_number}_fit{round(j.muon.tel[teln].efficiency.optical_efficiency,3)}_width{round(j.muon.tel[teln].efficiency.width.to_value(),3)}\"\n",
    "      disp = CameraDisplay(camgeom,title=title, ax = ax)\n",
    "      #disp.image = event.r1.tel[teln].waveform[:,11]\n",
    "      #disp.image = event.dl0.tel[teln].waveform[:,11]\n",
    "      disp.image = j.dl1.tel[teln].image\n",
    "      disp.cmap = plt.cm.RdBu_r\n",
    "      disp.add_colorbar()\n",
    "      disp.set_limits_percent(95)\n",
    "      bx = axes[1]\n",
    "      for pix_id in range(0,1855):\n",
    "         #bx.plot(j.r0.tel[teln].waveform[0][pix_id], label=\"pix {}\".format(pix_id), drawstyle='steps')\n",
    "         bx.plot(j.r1.tel[teln].waveform[pix_id], label=\"pix {}\".format(pix_id), drawstyle='steps')\n",
    "      plt.show()\n",
    "   if not np.isnan(event.muon.tel[1].efficiency.width):\n",
    "      muon_list[iter_number] = event\n",
    "   #print(f\"number {i} contain event number {event.index.event_id}\")\n",
    "plt.close()"
   ]
  },
  {
   "attachments": {},
   "cell_type": "markdown",
   "metadata": {},
   "source": [
    "## Mono sims"
   ]
  },
  {
   "cell_type": "code",
   "execution_count": null,
   "metadata": {},
   "outputs": [],
   "source": [
    "event_waveforms = {}\n",
    "muon_waveforms = []\n",
    "#for filename in os.listdir('/Users/vdk/UnrealLST/waveforms/'):\n",
    "for filename in os.listdir('/Users/vdk/RealLST/waveforms/'):\n",
    "    #event_waveforms[filename[10:16]] = np.load('/Users/vdk/UnrealLST/waveforms/' + filename)\n",
    "    event_waveforms[filename[10:16]] = np.load('/Users/vdk/RealLST/waveforms/' + filename)\n",
    "    #muon_waveforms.append( np.load('/Users/vdk/RealLST/waveforms/' + filename, allow_pickle=True))\n",
    "\n",
    "# proton_waveforms = []\n",
    "# for filename2 in os.listdir('/Users/vdk/UnrealLST/waveformsProton/'):\n",
    "#     proton_waveforms.append(np.load('/Users/vdk/UnrealLST/waveformsProton/' + filename2, allow_pickle=True))\n",
    "\n",
    "#proton_waveforms = []\n",
    "#for filename2 in os.listdir('/Users/vdk/UnrealLST/waveforms_flag/'):\n",
    "#    proton_waveforms.append(np.load('/Users/vdk/UnrealLST/waveforms_flag/' + filename2, allow_pickle=True))\n",
    "\n",
    "str_rings = [str(number) for number in flagged_rings_sim]\n",
    "proton_waveforms = []\n",
    "flag = True\n",
    "counter = 0\n",
    "# for filename2 in os.listdir('/Users/vdk/UnrealLST/waveforms_flag/'):\n",
    "# #for filename2 in os.listdir('/Users/vdk/UnrealLST/waveformsProton/'):\n",
    "#     for i in str_rings:\n",
    "#         if filename2[20:26] in str_rings:\n",
    "#             flag = False\n",
    "#             #print(filename2[20:26])\n",
    "#             break\n",
    "#     if flag:\n",
    "#         flag = True\n",
    "#         #muon_waveforms.append(np.load('/Users/vdk/UnrealLST/waveforms_flag/' + filename2, allow_pickle=True))\n",
    "#         # ADDITIONAL RINGS CONTAMINATED AND NOT FULL:\n",
    "#         event_waveforms[filename2[20:26]] = np.load('/Users/vdk/UnrealLST/waveforms_flag/' + filename2, allow_pickle=True)\n",
    "#         #proton_waveforms.append(np.load('/Users/vdk/UnrealLST/waveforms_flag/' + filename2, allow_pickle=True))\n",
    "        \n",
    "#     else:\n",
    "#         counter += 1\n",
    "#         #print(filename2[20:26])\n",
    "#         proton_waveforms.append(np.load('/Users/vdk/UnrealLST/waveforms_flag/' + filename2, allow_pickle=True))\n",
    "#     if counter == 1000:\n",
    "#        break\n",
    "\n",
    "counter = 0\n",
    "proton_waveforms = []\n",
    "#for filename2 in os.listdir('/Users/vdk/UnrealLST/waveformsProton/'):\n",
    "for filename2 in os.listdir('/Users/vdk/RealLST/waveforms_protons/'):\n",
    "  proton_waveforms.append(np.load('/Users/vdk/RealLST/waveforms_protons/' + filename2, allow_pickle=True))\n",
    "  if counter == 1000:\n",
    "    break\n",
    "\n",
    "\n",
    "\n",
    "min_time = 9\n",
    "max_time = 15\n",
    "\n",
    "arr_max_muons = []\n",
    "arg_max_muons = []\n",
    "\n",
    "arr_max_muons_mask = []\n",
    "arg_max_muons_mask_sim = []\n",
    "\n",
    "variance_muon_sim = []\n",
    "\n",
    "\n",
    "muon_pixel_number_sim = []\n",
    "\n",
    "for key in event_waveforms:\n",
    "   tmp_var_muon = []\n",
    "   tmp_pixel = 0\n",
    "   if True:\n",
    "      pixel_mask = np.array(np.max(event_waveforms[key], axis = 1) > 2, dtype = bool)\n",
    "      for pixel in event_waveforms[key][pixel_mask]:\n",
    "        arg_max_muons_mask_sim.append(np.argmax(pixel))\n",
    "        tmp_pixel += 1\n",
    "      \n",
    "      for pixel in event_waveforms[key][:, min_time:max_time]:\n",
    "        tmp_var_muon.append(np.var(pixel))\n",
    "   \n",
    "   variance_muon_sim.append(tmp_var_muon)\n",
    "   muon_pixel_number_sim.append(tmp_pixel)\n",
    "\n",
    "\n",
    "arg_max_protons = []\n",
    "\n",
    "\n",
    "arg_max_protons_mask_sim = []\n",
    "\n",
    "variance_proton_sim = []\n",
    "\n",
    "proton_pixel_number_sim = []\n",
    "\n",
    "for waveform in proton_waveforms:\n",
    "   tmp_var_proton = []\n",
    "   tmp_pixel = 0\n",
    "   if True:\n",
    "      pixel_mask = np.array(np.max(waveform, axis = 1) > 2, dtype = bool)\n",
    "      for pixel in waveform[pixel_mask]:\n",
    "        arg_max_protons_mask_sim.append(np.argmax(pixel))\n",
    "        tmp_pixel += 1\n",
    "      \n",
    "      for pixel in waveform[:, min_time:max_time]:\n",
    "        tmp_var_proton.append(np.var(pixel))\n",
    "\n",
    "   variance_proton_sim.append(tmp_var_proton)\n",
    "   proton_pixel_number_sim.append(tmp_pixel)\n"
   ]
  },
  {
   "cell_type": "code",
   "execution_count": null,
   "metadata": {},
   "outputs": [],
   "source": [
    "#arg_max_muons_mask_sim"
   ]
  },
  {
   "cell_type": "code",
   "execution_count": null,
   "metadata": {},
   "outputs": [],
   "source": [
    "str_rings = [str(number) for number in flagged_rings_sim]\n",
    "proton_waveforms = []\n",
    "flag = True\n",
    "for filename2 in os.listdir('/Users/vdk/UnrealLST/waveforms_flag/'):\n",
    "    for i in str_rings:\n",
    "        if filename2[20:26] in str_rings:\n",
    "            flag = False\n",
    "            print(filename2[20:26])\n",
    "            break\n",
    "    if flag:\n",
    "        flag = True\n",
    "        muon_waveforms.append(np.load('/Users/vdk/UnrealLST/waveforms_flag/' + filename2, allow_pickle=True))\n",
    "        #proton_waveforms.append(np.load('/Users/vdk/UnrealLST/waveforms_flag/' + filename2, allow_pickle=True))\n",
    "        \n",
    "    else:\n",
    "        #print(filename2[20:26])\n",
    "        proton_waveforms.append(np.load('/Users/vdk/UnrealLST/waveforms_flag/' + filename2, allow_pickle=True))\n"
   ]
  },
  {
   "cell_type": "code",
   "execution_count": null,
   "metadata": {},
   "outputs": [],
   "source": [
    "\n",
    "# for waveform in muon_waveforms:\n",
    "#     camgeom = source.subarray.tel[1].camera.geometry\n",
    "#     disp = CameraDisplay(camgeom,title='1')\n",
    "#     disp.image = waveform.sum(axis = 1)\n",
    "#     disp.cmap = plt.cm.RdBu_r\n",
    "#     disp.add_colorbar()\n",
    "#     disp.set_limits_percent(95)\n",
    "#     plt.show()\n",
    "\n",
    "# plt.close()\n",
    "\n",
    "#for waveform in muon_waveforms:\n",
    "for waveform in proton_waveforms:    \n",
    "    fig, axes = plt.subplots(2, 1, sharex=False, gridspec_kw={'height_ratios': [1, 1]}, figsize=(9,12))\n",
    "    fig.subplots_adjust(hspace=0.2)\n",
    "    ax = axes[0]\n",
    "    camgeom = source.subarray.tel[1].camera.geometry\n",
    "    title =1 \n",
    "    disp = CameraDisplay(camgeom,title=title, ax = ax)\n",
    "    disp.image = waveform.sum(axis=1)\n",
    "    disp.cmap = plt.cm.RdBu_r\n",
    "    disp.add_colorbar()\n",
    "    disp.set_limits_percent(95)\n",
    "    bx = axes[1]\n",
    "    for pix_id in range(0,1855):\n",
    "        bx.plot(waveform[pix_id], label=\"pix {}\".format(pix_id), drawstyle='steps')\n",
    "    plt.show()\n",
    "\n",
    "plt.close()"
   ]
  },
  {
   "cell_type": "code",
   "execution_count": null,
   "metadata": {},
   "outputs": [],
   "source": [
    "for_test = str(6)\n",
    "test = ['635903.t', 'fdfsdfs', 'fdsfds']\n",
    "\n",
    "for i in test:\n",
    "    if for_test in i:\n",
    "        print(\"Wohoo\")"
   ]
  },
  {
   "attachments": {},
   "cell_type": "markdown",
   "metadata": {},
   "source": [
    "### Build R1 distributions "
   ]
  },
  {
   "attachments": {},
   "cell_type": "markdown",
   "metadata": {},
   "source": [
    "#### Value of R1 max amplitude "
   ]
  },
  {
   "cell_type": "code",
   "execution_count": null,
   "metadata": {},
   "outputs": [],
   "source": [
    "# MUONS + PROTONS\n",
    "\n",
    "k, z, l = plt.hist(arr_max_muons_mask,bins = 100, range = (0,10), density = True, alpha = 0.7, label = 'muons')\n",
    "k, z, l = plt.hist(arr_max_protons_mask,bins = 100, range = (0,10), density = True, alpha = 0.35, label = 'protons')\n",
    "\n",
    "plt.legend()\n",
    "plt.xlabel(\"R1 waveform max amplitude [p.e. / ns]\")\n",
    "plt.ylabel(\"Probability density\")\n",
    "plt.grid()\n",
    "#plt.ylim(0,1.1)"
   ]
  },
  {
   "cell_type": "code",
   "execution_count": null,
   "metadata": {},
   "outputs": [],
   "source": [
    "# MUONS + PROTONS with NSB\n",
    "\n",
    "k, z, l = plt.hist(arr_max_muons,bins = 100, range = (0,10), density = True, alpha = 0.7, label = 'muons')\n",
    "k, z, l = plt.hist(arr_max_protons,bins = 100, range = (0,10), density = True, alpha = 0.35, label = 'protons')\n",
    "\n",
    "plt.legend()\n",
    "plt.xlabel(\"R1 waveform max amplitude [p.e. / ns]\")\n",
    "plt.ylabel(\"Probability density\")\n",
    "plt.grid()\n",
    "#plt.ylim(0,1.1)"
   ]
  },
  {
   "cell_type": "code",
   "execution_count": null,
   "metadata": {},
   "outputs": [],
   "source": [
    "new_arg = [i+1 for i in arg_max_protons_mask_sim]"
   ]
  },
  {
   "attachments": {},
   "cell_type": "markdown",
   "metadata": {},
   "source": [
    "#### Time of R1 max amplitude"
   ]
  },
  {
   "cell_type": "code",
   "execution_count": null,
   "metadata": {},
   "outputs": [],
   "source": [
    "plt.figure(figsize = (9,6))\n",
    "bin_number = 35\n",
    "# Time distribution\n",
    "k, z, l = plt.hist(arg_max_protons_mask, bins = bin_number-4, color = '#1f77b4', density = True, alpha = 0.35, label = 'protons in observation')\n",
    "muons_val, muons_bin, l = plt.hist(arg_max_muons_mask, bins = bin_number-4, density = True,color = 'orange', alpha = 0.35, label = 'muons in observation')\n",
    "k, z, l = plt.hist(arg_max_protons_mask_sim, bins = bin_number, density = True, color = '#1f77b4', alpha = 1, label = 'protons in simulation', histtype = 'step')\n",
    "#k, z, l = plt.hist(new_arg, bins = bin_number, density = True, color = '#1f77b4', alpha = 1, label = 'protons in simulation', histtype = 'step')\n",
    "k, z, l = plt.hist(arg_max_muons_mask_sim, bins = bin_number, density = True, color = 'orange', alpha = 1, label = 'muons in simulation', histtype = 'step')\n",
    "\n",
    "\n",
    "\n",
    "\n",
    "plt.legend()\n",
    "plt.xlabel(\"Time of max R1 amplitude\")\n",
    "plt.ylabel(\"Probability density\")\n",
    "plt.grid(alpha = 0.5)\n",
    "#plt.savefig(\"/Users/vdk/RealLST/images/Run14948_1_timesample_R1cut3.png\")\n"
   ]
  },
  {
   "cell_type": "code",
   "execution_count": null,
   "metadata": {},
   "outputs": [],
   "source": [
    "muons_val"
   ]
  },
  {
   "cell_type": "code",
   "execution_count": null,
   "metadata": {},
   "outputs": [],
   "source": []
  },
  {
   "attachments": {},
   "cell_type": "markdown",
   "metadata": {},
   "source": [
    "#### Variance distribution"
   ]
  },
  {
   "cell_type": "code",
   "execution_count": null,
   "metadata": {},
   "outputs": [],
   "source": [
    "#var_hist_m_short = [np.mean(np.array(item)) for item in variance_muon] # only for considered time span (7:12)\n",
    "#var_hist_p_short = [np.mean(np.array(item)) for item in variance_proton]\n",
    "\n",
    "var_hist_m_short_sim = [np.mean(np.array(item)) for item in variance_muon_sim] # only for considered time span (7:12)\n",
    "var_hist_p_short_sim = [np.mean(np.array(item)) for item in variance_proton_sim]\n",
    "\n",
    "#outliers = [var for var in var_hist_p_short if var > 0.4]\n",
    "#len(outliers)/len(var_hist_p_short)\n",
    "\n"
   ]
  },
  {
   "cell_type": "code",
   "execution_count": null,
   "metadata": {},
   "outputs": [],
   "source": [
    "bin_number = 15\n",
    "plt.figure(figsize = (9,6))\n",
    "#z,x,c = plt.hist(var_hist_p_short, alpha = 0.35, density = True,color = '#1f77b4', bins = bin_number, range =(0,1), label='protons in observation')\n",
    "#plt.hist(var_hist_m_short, alpha = 0.35, density = True, color = 'orange', bins = bin_number, range=(0,1), label='muons in observation')\n",
    "plt.hist(var_hist_p_short_sim, alpha = 1, density = True, color = '#1f77b4', bins = bin_number, range =(0,1), label='protons in simulation', histtype='step')\n",
    "plt.hist(var_hist_m_short_sim, alpha = 1, density = True, bins = bin_number, color = 'orange', range=(0,1), label='muons in simulation', histtype='step')\n",
    "plt.grid(alpha = 0.5)\n",
    "plt.legend()\n",
    "plt.xlabel('Mean of variance per pixel for every event')\n",
    "plt.ylabel('Probability density')\n",
    "plt.title('Distribution of mean for variance per pixel for timebins [7:12] - obs; [9:14] - sim')\n",
    "#plt.savefig(\"/Users/vdk/RealLST/images/Run14948_1_variance_R1cut2_7-11timebin.png\")"
   ]
  },
  {
   "cell_type": "code",
   "execution_count": null,
   "metadata": {},
   "outputs": [],
   "source": [
    "protons_outlier = [250 for i in proton_pixel_number if i >= 250]\n",
    "protons_outlier_sim = [250 for i in proton_pixel_number_sim if i >= 250]\n",
    "\n",
    "final_proton_number = proton_pixel_number + protons_outlier\n",
    "final_proton_number_sim = proton_pixel_number_sim + protons_outlier_sim"
   ]
  },
  {
   "attachments": {},
   "cell_type": "markdown",
   "metadata": {},
   "source": [
    "#### Pixel number distribution"
   ]
  },
  {
   "cell_type": "code",
   "execution_count": null,
   "metadata": {},
   "outputs": [],
   "source": [
    "bin_number = 10\n",
    "plt.figure(figsize = (9,6))\n",
    "z,x,c = plt.hist(final_proton_number, alpha = 0.35, density = True,color = '#1f77b4', bins = bin_number, range =(0,250), label='protons in observation')\n",
    "plt.hist(muon_pixel_number, alpha = 0.35, density = True, color = 'orange', bins = bin_number, range=(0,250), label='muons in observation')\n",
    "plt.hist(final_proton_number_sim, alpha = 1, density = True, color = '#1f77b4', bins = bin_number, range =(0,250), label='protons in simulation', histtype='step')\n",
    "plt.hist(muon_pixel_number_sim, alpha = 1, density = True, bins = bin_number, color = 'orange', range=(0,250), label='muons in simulation', histtype='step')\n",
    "plt.grid(alpha = 0.5)\n",
    "plt.legend()\n",
    "plt.xlabel('Number of pixels on the image with R1 amplitude > 2.5')\n",
    "plt.ylabel('Probability density')\n",
    "plt.title('Distribution of pixel number for simulation and real data (overflow bin 250)')\n",
    "#plt.savefig(\"/Users/vdk/RealLST/images/Run14948_1_variance_R1cut2_7-11timebin.png\")"
   ]
  },
  {
   "attachments": {},
   "cell_type": "markdown",
   "metadata": {},
   "source": [
    "## LSTCHAIN processing"
   ]
  },
  {
   "attachments": {},
   "cell_type": "markdown",
   "metadata": {},
   "source": [
    "### Real Data on the cluster"
   ]
  },
  {
   "cell_type": "code",
   "execution_count": null,
   "metadata": {},
   "outputs": [],
   "source": [
    "muon_file = '/Users/vdk/RealLST/output/muons_LST-1.Run14948.0001.fits' # My Local output\n",
    "#muon_file = '/Users/vdk/RealLST/muons_LST-1.Run14948.0001._DATACHECK.fits' # Official Cluster output\n",
    "#muon_file = '/Users/vdk/muons_LST-1.Run14948.0001.fits' # My Cluster output\n",
    "muon_file = '/Users/vdk/RealLST/muons_LST-1.Run14948.0001.fits' # My NEW Cluster output WORKING!\n",
    "muon_file = '/Users/vdk/RealLST/output_14985/muons_LST-1.Run14985.0001.fits' # My NEW Cluster output WORKING!\n",
    "\n",
    "#muon_file = '/Users/vdk/RealLST/typical_run_data/muons_LST-1.Run14948.0001.fits'\n",
    "#muon_file = '/Users/vdk/RealLST/dir_flag/muons_LST-1.Run14948.0001.fits'\n",
    "#muon_file = '/Users/vdk/RealLST/cleaning/muons_LST-1.Run14948.0001_noclean.fits'\n",
    "#muon_file = '/Users/vdk/RealLST/cleaning/muons_LST-1.Run14948.0001_clean15-36.fits'\n",
    "#muon_file = '/Users/vdk/RealLST/MuonFitsForCompare/muons_LST-1.Run14948.0001_minPix90.fits' # min pix cut 50 r1 = 2.5\n",
    "#muon_file = '/Users/vdk/RealLST/cleaning/muons_LST-1.Run14948.0001_15.fits' # CLEANING from cluster for full 1 run\n",
    "\n",
    "\n",
    "#dl1_file = '/Users/vdk/RealLST/output/cta_env_output/dl1_LST-1.Run14948.0001.h5'\n",
    "dl1_file = '/Users/vdk/RealLST/dl1_LST-1.Run14948.0001.h5'\n",
    "dl1_file = '/Users/vdk/RealLST/output_14985/dl1_LST-1.Run14985.0001.h5'\n",
    "#dl1_file = '/Users/vdk/dl1_LST-1.Run14948.0001.h5'\n",
    "\n"
   ]
  },
  {
   "cell_type": "code",
   "execution_count": null,
   "metadata": {},
   "outputs": [],
   "source": []
  },
  {
   "attachments": {},
   "cell_type": "markdown",
   "metadata": {},
   "source": [
    "#### Muons from fits file"
   ]
  },
  {
   "cell_type": "code",
   "execution_count": null,
   "metadata": {},
   "outputs": [],
   "source": [
    "hdul = fits.open(muon_file)\n",
    "hdul.info()\n",
    "opt_eff = []\n",
    "containment = []\n",
    "completeness = []\n",
    "n_ring_pixels = []\n",
    "event_id = []\n",
    "efficiency_dict = {}\n",
    "# element number 10 is muon efficiency, so in such way we can check it\n",
    "for i in range(len(hdul[1].data)):\n",
    "    #print(hdul[1].data[i])\n",
    "    opt_eff.append(hdul[1].data[i][10])\n",
    "    containment.append(hdul[1].data[i][11])\n",
    "    completeness.append(hdul[1].data[i][12])\n",
    "    n_ring_pixels.append(hdul[1].data[i][-4])\n",
    "    event_id.append(hdul[1].data[i][0])\n",
    "    efficiency_dict[hdul[1].data[i][0]] = hdul[1].data[i][10]\n"
   ]
  },
  {
   "cell_type": "code",
   "execution_count": null,
   "metadata": {},
   "outputs": [],
   "source": [
    "print(\"Optical Efficiency value = \", round(np.mean(opt_eff),3))\n",
    "print(\"Optical Efficiency relative std value = \", round(np.std(opt_eff)/len(opt_eff)**0.5,3))\n",
    "print(\"Number of fitted muons = \", len(opt_eff))\n",
    "print(\"Event IDs\", event_id)\n"
   ]
  },
  {
   "cell_type": "code",
   "execution_count": null,
   "metadata": {},
   "outputs": [],
   "source": [
    "#cleaned_efficiency_dict = efficiency_dict.copy()\n",
    "\n",
    "#print(efficiency_dict.keys())\n",
    "#print(cleaned_efficiency_dict.keys())\n",
    "\n",
    "print(opt_eff)\n",
    "plt.scatter([i for i in range(len(opt_eff))], opt_eff)"
   ]
  },
  {
   "cell_type": "code",
   "execution_count": null,
   "metadata": {},
   "outputs": [],
   "source": [
    "print(\"Optical Efficiency value = \", round(np.mean(opt_eff),3))\n",
    "print(\"Optical Efficiency relative std value = \", round(np.std(opt_eff)/len(opt_eff)**0.5,3))\n",
    "print(\"Number of fitted muons = \", len(opt_eff))\n"
   ]
  },
  {
   "cell_type": "code",
   "execution_count": null,
   "metadata": {},
   "outputs": [],
   "source": [
    "print(f\"completeness = {sorted(completeness)}\")\n",
    "print(f\"containment = {sorted(containment)}\")\n",
    "print(f\"n_ring_pixels = {sorted(n_ring_pixels)}\")"
   ]
  },
  {
   "cell_type": "code",
   "execution_count": null,
   "metadata": {},
   "outputs": [],
   "source": [
    "plt.figure(figsize=(7,5))\n",
    "plt.hist(completeness, alpha = 0.3, label = 'completeness', bins = 10, density = True)\n",
    "plt.hist(containment, alpha = 0.3, label = 'containment', bins = 10, density = True)\n",
    "plt.grid()\n",
    "plt.xlim(0,1)\n",
    "plt.legend()"
   ]
  },
  {
   "attachments": {},
   "cell_type": "markdown",
   "metadata": {},
   "source": [
    "### Graphs"
   ]
  },
  {
   "cell_type": "code",
   "execution_count": null,
   "metadata": {},
   "outputs": [],
   "source": [
    "mean_range = [i-1 for i in range(len(opt_eff)+2)]\n",
    "y_mid = [np.mean(opt_eff) for i in mean_range]\n",
    "#y_mid = [np.mean(nice_opt_eff[:i+1]) for i in range(len(nice_opt_eff[:i+1]))]\n",
    "\n",
    "y_upper = [np.mean(opt_eff)+np.std(opt_eff) for i in mean_range]\n",
    "y_lower = [np.mean(opt_eff)-np.std(opt_eff) for i in mean_range]\n",
    "\n",
    "x_range = [i for i in range(len(opt_eff))]\n",
    "\n",
    "\n",
    "\n",
    "\n",
    "#std_arr = [np.std(optical_coef)/np.mean(optical_coef) for i,j in enumerate(optical_coef)]\n",
    "std_arr = [np.std(opt_eff)/i**0.5 for i,j in enumerate(opt_eff)]\n",
    "#std_arr_big = [np.std(opt_eff) for i,j in enumerate(opt_eff)]\n",
    "\n",
    "#std_arr_3 = [np.std(new_plot)/i**0.5 for i,j in enumerate(new_plot)]\n",
    "#std_arr_3_big = [np.std(new_plot) for i,j in enumerate(new_plot)]\n",
    "#std_arr = [np.std(opt_eff) for i,j in enumerate(opt_eff)]\n",
    "\n",
    "\n",
    "plt.figure(figsize = (9,6))\n",
    "plt.ylim(0.05,0.3)\n",
    "#plt.ylim(0.095,0.265)\n",
    "plt.xlabel(\"Event\")\n",
    "#plt.ylabel(\"Optical eff with rel. error for 1 measurment\")\n",
    "plt.ylabel(\"Optical efficiency value\")\n",
    "#plt.title(\"Opt eff for muon rings after time sample cleaning, pix > 50, intensity<0.2\")\n",
    "plt.title(\"Optical efficiency for events in the subrun 14948.0001\")\n",
    "#plt.title(\"Events after island cleaning (size $\\leq 4$)\")\n",
    "\n",
    "\n",
    "plt.grid(alpha=0.5)\n",
    "#plt.ylim(0.05,0.3)\n",
    "#plt.scatter(new_ind, new_plot, color = 'orange')\n",
    "\n",
    "\n",
    "#y_upper = [j+std_arr[-1] for i,j in enumerate(y_mid)]\n",
    "#y_lower = [j-std_arr[-1] for i,j in enumerate(y_mid)]\n",
    "\n",
    "\n",
    "y_upper = [j+std_arr[-1] for i,j in enumerate([np.mean(opt_eff) for i in x_range])]\n",
    "y_lower = [j-std_arr[-1] for i,j in enumerate([np.mean(opt_eff) for i in x_range])]\n",
    "\n",
    "plt.errorbar(x_range, opt_eff, yerr=std_arr, fmt='o', ms = 5, alpha = 0.8, label=\"\")#, c = 'blue')#, s = 100)#, c= 'black')\n",
    "#plt.errorbar(new_ind, new_plot, yerr=std_arr_3, fmt='o', ms = 5, alpha = 0.8, label=\"original\") #, c = 'blue')#, s = 100)#, c= 'black')\n",
    "#plt.errorbar(new_ind, new_plot, yerr=new_std, fmt='o', ms = 5, alpha = 0.8, label=\"original\") #, c = 'blue')#, s = 100)#, c= 'black')\n",
    "\n",
    "#plt.scatter(new_ind, new_plot, alpha = 0.9, color = \"orange\", label=\"original\") #, c = 'blue')#, s = 100)#, c= 'black')\n",
    "\n",
    "\n",
    "#plt.fill_between(mean_range, y_upper, y_lower, alpha = 0.3, color = 'green', label = 'mean +/- $1\\sigma$')\n",
    "plt.fill_between(x_range, y_upper, y_lower, alpha = 0.3, color = 'green', label = 'mean +/- $1\\sigma$')\n",
    "#plt.plot(mean_range, y_mid, label = \"mean\", lw = 1.5, color='green')\n",
    "\n",
    "#plt.plot(x_range, y_mid, label = \"mean\", lw = 1.5, color='green')\n",
    "plt.plot(x_range, [np.mean(opt_eff) for i in x_range], label = \"mean\", lw = 1.5, color='green')\n",
    "\n",
    "#plt.fill_between(x_range_1, y_upper_1, y_lower_1, color = 'r', alpha = 0.3, label = 'mean +/- $1\\sigma$')\n",
    "\n",
    "plt.xlim(-1,len(opt_eff))\n",
    "plt.legend()\n",
    "#plt.savefig(\"/Users/vdk/ImagePurgatorium/CleanedOptEff_pix>50_int=01_16timebin_complet>05_RelStdErr_fdsfs.png\")\n",
    "#plt.savefig(\"/Users/vdk/ImagePurgatorium/LST1_14948_OptEffRaw.png\", dpi=900)"
   ]
  },
  {
   "cell_type": "code",
   "execution_count": null,
   "metadata": {},
   "outputs": [],
   "source": []
  },
  {
   "attachments": {},
   "cell_type": "markdown",
   "metadata": {},
   "source": [
    "#### DL1 data level"
   ]
  },
  {
   "cell_type": "code",
   "execution_count": null,
   "metadata": {},
   "outputs": [],
   "source": [
    "dl1_file = '/Users/vdk/dl1_simtel_corsika_run322.h5'\n",
    "fi = h5py.File(dl1_file, 'r')\n",
    "keys = list(fi.keys())\n",
    "\n",
    "def printname(name):\n",
    "    print(name)\n",
    "\n",
    "# Show all included tables\n",
    "fi.visit(printname)"
   ]
  },
  {
   "cell_type": "code",
   "execution_count": null,
   "metadata": {},
   "outputs": [],
   "source": [
    "length = 0\n",
    "for item in fi['dl1/event/telescope/parameters/LST_LSTCam'][:10]:\n",
    "    for i in item:\n",
    "        print(i)\n",
    "    #length+=1"
   ]
  },
  {
   "cell_type": "code",
   "execution_count": null,
   "metadata": {},
   "outputs": [],
   "source": [
    "import pandas as pd\n",
    "from astropy.table import Table\n",
    "from ctapipe.instrument import SubarrayDescription\n",
    "from lstchain.io.io import dl1_params_lstcam_key, dl1_images_lstcam_key\n",
    "from lstchain.io import read_calibration_file\n",
    "\n",
    "filename = '/Users/vdk/dl1_simtel_corsika_run32.h5'\n",
    "subarray = SubarrayDescription.from_hdf(filename)\n",
    "\n",
    "images = Table.read(filename, path=dl1_images_lstcam_key)['image']\n",
    "parameters = pd.read_hdf(filename, key=dl1_params_lstcam_key)"
   ]
  },
  {
   "cell_type": "code",
   "execution_count": null,
   "metadata": {},
   "outputs": [],
   "source": [
    "pd.set_option('display.max_columns', None)\n",
    "for i in parameters['tel_id'][:]:\n",
    "    if i != 1:\n",
    "        print(\"hehe\")"
   ]
  },
  {
   "attachments": {},
   "cell_type": "markdown",
   "metadata": {},
   "source": [
    "### Real data on the local machine"
   ]
  },
  {
   "cell_type": "code",
   "execution_count": null,
   "metadata": {},
   "outputs": [],
   "source": []
  },
  {
   "attachments": {},
   "cell_type": "markdown",
   "metadata": {},
   "source": [
    "### Simulation"
   ]
  },
  {
   "cell_type": "code",
   "execution_count": null,
   "metadata": {},
   "outputs": [],
   "source": [
    "#filename = '/Users/vdk/UnrealLST/muons_new_sim/muon_table_run1.fits'\n",
    "#filename = '/Users/vdk/UnrealLST/muon_table.fits'\n",
    "filename = '/Users/vdk/UnrealLST/optical_efficiency_scan/muon_table_run249.fits'\n",
    "hdul = fits.open(filename)\n",
    "hdul.info()\n",
    "opt_eff = []\n",
    "containment = []\n",
    "completeness = []\n",
    "n_ring_pixels = []\n",
    "event_id = []\n",
    "# element number 10 is muon efficiency, so in such way we can check it\n",
    "for i in range(len(hdul[1].data)):\n",
    "    print(hdul[1].data[i])\n",
    "    opt_eff.append(hdul[1].data[i][10])\n",
    "    containment.append(hdul[1].data[i][11])\n",
    "    completeness.append(hdul[1].data[i][12])\n",
    "    n_ring_pixels.append(hdul[1].data[i][-4])\n",
    "    event_id.append(hdul[1].data[i][0])\n",
    "\n",
    "opt_eff = np.array(opt_eff)\n",
    "opt_eff = opt_eff[np.logical_not(np.isnan(opt_eff))]"
   ]
  },
  {
   "cell_type": "code",
   "execution_count": null,
   "metadata": {},
   "outputs": [],
   "source": [
    "print(np.mean(opt_eff))\n",
    "print(len(opt_eff))"
   ]
  },
  {
   "cell_type": "code",
   "execution_count": null,
   "metadata": {},
   "outputs": [],
   "source": [
    "opt_eff_2 = []\n",
    "containment = []\n",
    "completeness = []\n",
    "n_ring_pixels = []\n",
    "event_id = []\n",
    "muon_id = []\n",
    "mc_energy = []\n",
    "opt_eff_multiplier = '0634'\n",
    "for i in range(1,500):\n",
    "    #filename = f'/Users/vdk/UnrealLST/muons_new_sim/muon_table_run{i}.fits'\n",
    "    #filename = f'/Users/vdk/UnrealLST/optical_efficiency_scan/table_muons_{opt_eff_multiplier}/muon_table_run{i}.fits'\n",
    "    #filename = f'/Users/vdk/UnrealLST/table_muon_lz/muon_table_run{i}.fits' \n",
    "    filename = f'/Users/vdk/UnrealLST/table_muons_low_photons/muon_table_run{i}.fits' \n",
    "    #print(filename)\n",
    "    hdul = fits.open(filename)\n",
    "    # element number 10 is muon efficiency, so in such way we can check it\n",
    "    for i in range(len(hdul[1].data)):\n",
    "        #print(hdul[1].data[i])\n",
    "        #print(hdul[1].data[i][10])\n",
    "        #print(hdul[1].data[i])\n",
    "        #containment.append(hdul[1].data[i][11])\n",
    "        #completeness.append(hdul[1].data[i][12])\n",
    "        #n_ring_pixels.append(hdul[1].data[i][-4])\n",
    "        if not np.isnan(hdul[1].data[i][10]):\n",
    "            event_id.append(hdul[1].data[i][0])\n",
    "\n",
    "            #print(hdul[1].data[i][10])\n",
    "            opt_eff_2.append(hdul[1].data[i][10])\n",
    "            muon_id.append(hdul[1].data[i][0])\n",
    "            mc_energy.append(hdul[1].data[i][2])\n",
    "\n",
    "opt_eff_2 = np.array(opt_eff_2)\n",
    "#opt_eff_2 = opt_eff_2[np.logical_not(np.isnan(opt_eff_2))]"
   ]
  },
  {
   "cell_type": "code",
   "execution_count": null,
   "metadata": {},
   "outputs": [],
   "source": [
    "print(\"Mean optical efficiency = \", np.mean(opt_eff_2))\n",
    "print(\"Std optical efficiency = \", np.std(opt_eff_2))\n",
    "print(\"Number of fitted muons = \", len(opt_eff_2))\n",
    "print(f\"muons_{opt_eff_multiplier} = \", event_id)\n",
    "#print(muon_id)\n",
    "#print(len(muon_id))\n",
    "#print(opt_eff_2)\n",
    "#print(np.std(opt_eff_2))\n",
    "print( np.mean(opt_eff_2) + np.std(opt_eff_2))\n",
    "print(mc_energy)\n"
   ]
  },
  {
   "cell_type": "code",
   "execution_count": null,
   "metadata": {},
   "outputs": [],
   "source": [
    "from pyirf import spectral\n",
    "simulated_spectrum = spectral.PowerLaw(normalization = 1 * spectral.DIFFUSE_FLUX_UNIT, index = -2, e_ref =1* u.TeV)\n",
    "target_spectrum = spectral.PowerLaw(normalization = 1 * spectral.DIFFUSE_FLUX_UNIT, index = -2.7, e_ref =1* u.TeV)\n",
    "pyirf_weighted = [spectral.calculate_event_weights(energy*u.TeV, target_spectrum=target_spectrum, simulated_spectrum=simulated_spectrum) for energy in mc_energy]\n",
    "sum(pyirf_weighted)"
   ]
  },
  {
   "cell_type": "code",
   "execution_count": null,
   "metadata": {},
   "outputs": [],
   "source": [
    "file = open('/Users/vdk/low_zenith_sim_muons.pkl', 'wb')\n",
    "\n",
    "# dump information to that file\n",
    "pickle.dump(event_id, file)\n",
    "\n",
    "# close the file\n",
    "file.close()"
   ]
  },
  {
   "cell_type": "code",
   "execution_count": null,
   "metadata": {},
   "outputs": [],
   "source": [
    "file = open('/Users/vdk/low_zenith_sim_muons.pkl', 'rb')\n",
    "\n",
    "# dump information to that file\n",
    "data = pickle.load(file)"
   ]
  },
  {
   "cell_type": "code",
   "execution_count": null,
   "metadata": {},
   "outputs": [],
   "source": [
    "800*1000"
   ]
  },
  {
   "cell_type": "code",
   "execution_count": null,
   "metadata": {},
   "outputs": [],
   "source": [
    "print(29/17000)\n",
    "print(9/7300)\n",
    "0.78+0.0784"
   ]
  },
  {
   "cell_type": "code",
   "execution_count": null,
   "metadata": {},
   "outputs": [],
   "source": [
    "# run = 6\n",
    "# length = 0\n",
    "# for run in range(1,4):\n",
    "#     dl1_file = f'/Users/vdk/UnrealLST/optical_efficiency_scan/dl1_files/dl1_corsika_theta_10.0_az_248.117_run{run}.h5'\n",
    "#     #dl1_file = f'/Users/vdk/UnrealLST/dl1_files/dl1_simtel_corsika_theta_30.390_az_93.640_run{run}.h5'\n",
    "#     fi = h5py.File(dl1_file, 'r')\n",
    "#     keys = list(fi.keys())\n",
    "#     for item in fi['dl1/event/telescope/parameters/LST_LSTCam']:\n",
    "#     #print(item)\n",
    "#         length+=1\n",
    "\n",
    "length = 0\n",
    "for run in range(5,500):\n",
    "    #dl1_file = f'/Users/vdk/UnrealLST/optical_efficiency_scan/dl1_files/dl1_corsika_theta_10.0_az_248.117_run{run}.h5'\n",
    "    dl1_file = f'/Users/vdk/opt_eff_0784/dl1_corsika_theta_10.0_az_248.117_run{run}.h5'\n",
    "    #dl1_file = f'/Users/vdk/UnrealLST/dl1_files/dl1_simtel_corsika_theta_30.390_az_93.640_run{run}.h5'\n",
    "    fi = h5py.File(dl1_file, 'r')\n",
    "    keys = list(fi.keys())\n",
    "    for item in fi['dl1/event/telescope/parameters/LST_LSTCam']:\n",
    "    #print(item)\n",
    "        length+=1\n",
    "\n",
    "def printname(name):\n",
    "    print(name)\n",
    "\n",
    "#fi.visit(printname)\n",
    "length"
   ]
  },
  {
   "cell_type": "code",
   "execution_count": null,
   "metadata": {},
   "outputs": [],
   "source": [
    "dl1_file = f'/Users/vdk/opt_eff_0784/dl1_corsika_theta_10.0_az_248.117_run1.h5'\n",
    "#dl1_file = f'/Users/vdk/UnrealLST/dl1_files/dl1_simtel_corsika_theta_30.390_az_93.640_run{run}.h5'\n",
    "fi = h5py.File(dl1_file, 'r')\n",
    "keys = list(fi.keys())\n",
    "#for item in fi['dl1/event/telescope/parameters/LST_LSTCam']:\n",
    "    \n",
    "fi.visit(printname)"
   ]
  },
  {
   "cell_type": "code",
   "execution_count": null,
   "metadata": {},
   "outputs": [],
   "source": [
    "for item in fi['dl1/event/subarray/trigger']:\n",
    "    if item[3] != 1:\n",
    "        print(item[3] == 1)"
   ]
  },
  {
   "cell_type": "code",
   "execution_count": null,
   "metadata": {},
   "outputs": [],
   "source": [
    "for item in fi['dl1/event/telescope/image/LST_LSTCam'][0]:\n",
    "    print(item.shape)\n",
    "\n",
    "fi.visit(printname)"
   ]
  },
  {
   "cell_type": "code",
   "execution_count": null,
   "metadata": {},
   "outputs": [],
   "source": [
    "#indices.index(4431008)\n",
    "indices.index(5405008)"
   ]
  },
  {
   "cell_type": "code",
   "execution_count": null,
   "metadata": {},
   "outputs": [],
   "source": [
    "#eventik = muon_list[3270]\n",
    "#print(\"number of pixels = \", eventik.dl1.tel[1].parameters.morphology.n_pixels)\n",
    "#pixel_mask = np.array(eventik.dl1.tel[1].image > 2, dtype = bool)\n",
    "plt.figure(figsize = (15,9))\n",
    "camgeom = source.subarray.tel[1].camera.geometry\n",
    "title = f'1'\n",
    "disp = CameraDisplay(camgeom,title=title)\n",
    "disp.highlight_pixels(pixel_mask)\n",
    "#disp.image = fi['dl1/event/telescope/image/LST_LSTCam'][413][2]\n",
    "disp.image = fi['dl1/event/telescope/image/LST_LSTCam'][0][4]\n",
    "#disp.image = eventik.r1.tel[1].waveform.sum(axis=1)\n",
    "disp.cmap = plt.cm.Reds\n",
    "disp.add_colorbar()\n",
    "#disp.set_limits_percent(95)\n",
    "plt.show()"
   ]
  },
  {
   "cell_type": "code",
   "execution_count": null,
   "metadata": {},
   "outputs": [],
   "source": []
  },
  {
   "attachments": {},
   "cell_type": "markdown",
   "metadata": {},
   "source": [
    "## Calibpipe processing"
   ]
  },
  {
   "attachments": {},
   "cell_type": "markdown",
   "metadata": {},
   "source": [
    "### Real Data"
   ]
  },
  {
   "cell_type": "code",
   "execution_count": null,
   "metadata": {},
   "outputs": [],
   "source": [
    "# Треба завантажити конфіг в івент соурс\n",
    "filename = f'/Users/vdk/RealLST/typical_run_data/LST-1.1.Run14948.0001.fits.fz'\n",
    "source = EventSource(filename)\n",
    "int_cut = 0.1\n",
    "min_pixel = 50\n",
    "\n",
    "config_filename = '/Users/vdk/RealLST/typical_run_data/lstchain_standard_v0.10_heuristic_ff.json'\n",
    "\n",
    "with open(config_filename) as json_file:\n",
    "    config_data = json.load(json_file)\n",
    "\n",
    "custom_config = Config(config_data)\n",
    "\n",
    "muon_processor_config = Config({\n",
    "                                \"MuonProcessor\": {\n",
    "                                    \"RingQuery\": {\n",
    "                                        \"quality_criteria\" : [[\"intensity_check\",f\"np.abs(parameters.intensity_ratio - 1) < {int_cut}\"],\n",
    "                                                        [\"ring_containment\", \"parameters.containment > 0.1\"],\n",
    "                                                        [\"ring_completeness\", \"parameters.completeness > 0.1\"]]},\n",
    "                                    \"ImageParameterQuery\" :{\n",
    "                                        \"quality_criteria\" : [[\"min_pixels\", f\"dl1_params.morphology.n_pixels > {min_pixel}\"],\n",
    "                                                        [\"min_intensity\", \"dl1_params.hillas.intensity > 500\"]]}}})\n",
    "\n",
    "cfg = Config({\n",
    "    \"source_config\": {\n",
    "        \"EventSource\" : {\n",
    "            \"allowed_tels\": [1],\"max_events\": 9999}},\n",
    "        \"PointingSource\":{\n",
    "            \"drive_report_path\": '/Users/vdk/RealLST/data/DrivePosition_log_20231007.txt'},\n",
    "        \"LSTR0Corrections\": {\n",
    "          \"calib_scale_high_gain\":1.088,\n",
    "          \"calib_scale_low_gain\":1.004,\n",
    "          \"drs4_pedestal_path\": '/Users/vdk/RealLST/data/drs4_pedestal.Run14937.0000.h5',\n",
    "          \"calibration_path\": '/Users/vdk/RealLST/data/calibration_filters_52.Run14938.0000.h5',\n",
    "          \"drs4_time_calibration_path\": '/Users/vdk/RealLST/data/time_calibration.Run08349.0000.h5'\n",
    "      }})\n",
    "\n",
    "config = replace_config(standard_config, muon_processor_config)\n",
    "#onfig = replace_config(config, muon_processor_config_2)\n",
    "config = replace_config(config, custom_config)\n",
    "\n",
    "image_processor = ImageProcessor(source.subarray)\n",
    "muon_processor = MuonProcessor(source.subarray, config = Config(config))\n",
    "calib = CameraCalibrator(image_extractor_type=\"GlobalPeakWindowSum\",subarray = source.subarray, config = Config(config))\n"
   ]
  },
  {
   "cell_type": "code",
   "execution_count": null,
   "metadata": {},
   "outputs": [],
   "source": []
  },
  {
   "cell_type": "code",
   "execution_count": null,
   "metadata": {},
   "outputs": [],
   "source": [
    "source = EventSource(filename, config = Config(cfg))\n",
    "\n",
    "event_iterator = iter(source)\n",
    "optical_eff = []\n",
    "muon_waveforms = []\n",
    "\n",
    "for iter_number, event in enumerate(event_iterator):\n",
    "   calib(event)\n",
    "   image_processor(event)\n",
    "   muon_processor(event)\n",
    "   if not np.isnan(event.muon.tel[1].efficiency.optical_efficiency):\n",
    "      optical_eff.append(event.muon.tel[1].efficiency.optical_efficiency)\n",
    "      muon_waveforms.append(event.r1.tel[1].waveform)\n"
   ]
  },
  {
   "cell_type": "code",
   "execution_count": null,
   "metadata": {},
   "outputs": [],
   "source": [
    "print(\"number of fitted muon rings = \", len(optical_eff))\n",
    "print(\"optical efficiency = \", np.mean(optical_eff))"
   ]
  },
  {
   "cell_type": "code",
   "execution_count": null,
   "metadata": {},
   "outputs": [],
   "source": [
    "for i,waveform in enumerate(muon_waveforms):\n",
    "    plt.figure(figsize = (18,12))\n",
    "    camgeom = source.subarray.tel[1].camera.geometry\n",
    "    title = f'{i}'\n",
    "    disp = CameraDisplay(camgeom,title=title)\n",
    "    #disp.highlight_pixels(pixel_mask)\n",
    "    disp.image = waveform.sum(axis = 1)\n",
    "    disp.cmap = plt.cm.Reds\n",
    "    disp.add_colorbar()\n",
    "    disp.set_limits_percent(95)\n",
    "    #disp.set_limits_minmax(0,20)\n",
    "    plt.show()"
   ]
  },
  {
   "cell_type": "code",
   "execution_count": null,
   "metadata": {},
   "outputs": [],
   "source": [
    "ctapipe.__version__"
   ]
  },
  {
   "attachments": {},
   "cell_type": "markdown",
   "metadata": {},
   "source": [
    "### Simulated Data"
   ]
  },
  {
   "cell_type": "code",
   "execution_count": null,
   "metadata": {},
   "outputs": [],
   "source": []
  },
  {
   "cell_type": "code",
   "execution_count": null,
   "metadata": {},
   "outputs": [],
   "source": [
    "for i, event in enumerate(event_iterator):\n",
    "    print(event.index.event_id)"
   ]
  },
  {
   "cell_type": "code",
   "execution_count": null,
   "metadata": {},
   "outputs": [],
   "source": [
    "# in 1st run we have two rings 5405008 and 4431008\n",
    "filename = '/Users/vdk/simtel_corsika_theta_30.390_az_93.640_run1.simtel.gz'\n",
    "source = EventSource(filename)\n",
    "event_iterator = iter(source)\n",
    "for i, event in enumerate(event_iterator):\n",
    "    #if 1 == event.trigger.tels_with_trigger[0]:\n",
    "    if event.index.event_id == 5405008:\n",
    "      fig, axes = plt.subplots(2, 1, sharex=False, gridspec_kw={'height_ratios': [1, 1]}, figsize=(9,12))\n",
    "      fig.subplots_adjust(hspace=0.2)\n",
    "      ax = axes[0]\n",
    "      camgeom = source.subarray.tel[1].camera.geometry\n",
    "      #title=f\"event{iter_number}_fit{round(j.muon.tel[teln].efficiency.optical_efficiency,3)}_width{round(j.muon.tel[teln].efficiency.width.to_value(),3)}\"\n",
    "      disp = CameraDisplay(camgeom,title=title, ax = ax)\n",
    "      #disp.image = event.r1.tel[teln].waveform[:,11]\n",
    "      #disp.image = event.dl0.tel[teln].waveform[:,11]\n",
    "      disp.image = event.r1.tel[1].waveform.sum(axis = 1)\n",
    "      disp.cmap = plt.cm.RdBu_r\n",
    "      disp.add_colorbar()\n",
    "      disp.set_limits_percent(95)\n",
    "      bx = axes[1]\n",
    "      for pix_id in range(0,1855):\n",
    "         #bx.plot(j.r0.tel[teln].waveform[0][pix_id], label=\"pix {}\".format(pix_id), drawstyle='steps')\n",
    "         bx.plot(event.r1.tel[1].waveform[pix_id], label=\"pix {}\".format(pix_id), drawstyle='steps')\n",
    "      plt.show()\n",
    "    #if i == 20:\n",
    "    #   break\n",
    "plt.close()        "
   ]
  },
  {
   "cell_type": "code",
   "execution_count": null,
   "metadata": {},
   "outputs": [],
   "source": [
    "# TIME CLEANING ALGO + ISLANDS CLEANING\n",
    "\n",
    "int_cut = 0.3\n",
    "min_pixel = 160\n",
    "\n",
    "muon_processor_config = Config({\"MuonProcessor\": \n",
    "                                {\"RingQuery\": \n",
    "                                 {\"quality_criteria\" : [[\"intensity_check\",f\"np.abs(parameters.intensity_ratio - 1) < {int_cut}\"],\n",
    "                                                        [\"ring_containment\", \"parameters.containment > 0.5\"],\n",
    "                                                        [\"ring_completeness\", \"parameters.completeness > 0.5\"]]}}})\n",
    "\n",
    "muon_processor_config_2 = Config({\"MuonProcessor\":\n",
    "                                {\"ImageParameterQuery\" :\n",
    "                                 {\"quality_criteria\" : [[\"min_pixels\", f\"dl1_params.morphology.n_pixels < {min_pixel}\"],\n",
    "                                                        [\"min_intensity\", \"dl1_params.hillas.intensity > 500\"]]}}})\n",
    "\n",
    "counter = 0\n",
    "cleaned_event_container = {}\n",
    "r1_cut = 2\n",
    "min_pixel_cut = 60\n",
    "max_pixel_cut = 200\n",
    "low_threshold_variance = 0.1\n",
    "up_threshold_variance = 0.4\n",
    "max_time = 14\n",
    "\n",
    "image_processor = ImageProcessor(source.subarray)\n",
    "muon_processor = MuonProcessor(source.subarray, config = muon_processor_config_2)\n",
    "calib = CameraCalibrator(image_extractor_type=\"GlobalPeakWindowSum\",subarray = source.subarray)\n",
    "\n",
    "for run in range(460,481):\n",
    "    filename = f'/Users/vdk/simulations/corsika_theta_30.390_az_93.640_run{run}.simtel.gz'\n",
    "    source = EventSource(filename)\n",
    "    event_iterator = iter(source)\n",
    "    for i,event in enumerate(event_iterator):\n",
    "        counter += 1\n",
    "        calib(event)\n",
    "        image_processor(event)\n",
    "        muon_processor(event)   \n",
    "        if not np.isnan(event.muon.tel[1].efficiency.width):          \n",
    "            opt_eff_calib.append(event.muon.tel[1].efficiency.optical_efficiency)   \n",
    "\n",
    "\n",
    "\n",
    "\n"
   ]
  },
  {
   "cell_type": "code",
   "execution_count": null,
   "metadata": {},
   "outputs": [],
   "source": [
    "filename = '/Users/vdk/RealLST/data/LST-1.4.Run14948.0001.fits.fz'\n",
    "source = EventSource(filename)\n",
    "event_iterator = iter(source)\n",
    "for i,event in enumerate(event_iterator):\n",
    "    counter += 1\n",
    "    calib(event)\n",
    "    image_processor(event)\n",
    "    muon_processor(event)   \n",
    "    if not np.isnan(event.muon.tel[1].efficiency.width):          \n",
    "        opt_eff_calib.append(event.muon.tel[1].efficiency.optical_efficiency)  "
   ]
  },
  {
   "cell_type": "code",
   "execution_count": null,
   "metadata": {},
   "outputs": [],
   "source": []
  },
  {
   "attachments": {},
   "cell_type": "markdown",
   "metadata": {},
   "source": [
    "## Graph Building"
   ]
  },
  {
   "cell_type": "code",
   "execution_count": null,
   "metadata": {},
   "outputs": [],
   "source": [
    "M_n = 179\n",
    "P_n = 53000-M_n\n",
    "cuts = np.array([30, 40, 50, 60, 70, 80]) #, 90])\n",
    "muons_detected = np.array([179, 179, 61, 38, 19, 10]) #, 4])\n",
    "protons_detected = np.array([519, 276, 141, 79, 34, 18]) #, 9]) - muons_detected\n",
    "\n",
    "true_negative = P_n - protons_detected\n",
    "false_negative = M_n - muons_detected \n",
    "R1_cut = 2.5\n",
    "\n",
    "plt.rcParams.update({'font.size': 12, 'figure.figsize': (9,9)})\n",
    "fig, axs = plt.subplots(2, 2)\n",
    "fig.subplots_adjust(hspace=0.2, wspace = 0.35)\n",
    "fig.suptitle(f\"Muon flagging based on choosing N pixels which have R1 waveforms values > {R1_cut}, timesample[7:12], 0.1 < mean(variance) < 0.4\", fontsize = 15)\n",
    "\n",
    "axs[0, 0].plot(cuts, muons_detected/M_n)\n",
    "axs[0, 0].set_title('True Positive')\n",
    "#axs[0, 0].set_xlabel(\"Number of cutted pixels\", fontsize = 7)\n",
    "axs[0, 0].set_ylabel(\"True positive / Mn\")\n",
    "\n",
    "axs[0, 1].plot(cuts, (protons_detected)/M_n, 'tab:orange')\n",
    "axs[0, 1].set_title('False Positive')\n",
    "#axs[0, 1].set_xlabel(\"Number of cutted pixels\", fontsize = 7)\n",
    "axs[0, 1].set_ylabel(\"False positive / Mn\")\n",
    "\n",
    "axs[1, 0].plot(cuts, true_negative/P_n, 'tab:green')\n",
    "axs[1, 0].set_title('True Negative')\n",
    "axs[1, 0].set_xlabel(\"Number of cutted pixels\", fontsize = 10)\n",
    "axs[1, 0].set_ylabel(\"True negative / Pn\")\n",
    "\n",
    "axs[1, 1].plot(cuts, false_negative/P_n, 'tab:red')\n",
    "axs[1, 1].set_title('False Negative')\n",
    "axs[1, 1].set_xlabel(\"Number of cutted pixels\", fontsize = 10)\n",
    "axs[1, 1].set_ylabel(\"False negative / Pn\")\n",
    "for ax in axs.flat:\n",
    "    ax.grid(alpha = 0.5)\n",
    "\n",
    "#plt.savefig(f\"/Users/vdk/ImagePurgatorium/PixelCut_R1waveform>{R1_cut}_Time+Variance.png\")"
   ]
  },
  {
   "cell_type": "code",
   "execution_count": null,
   "metadata": {},
   "outputs": [],
   "source": [
    "# PRECISION RECALL\n",
    "TP = muons_detected\n",
    "FP = protons_detected\n",
    "TN = P_n - protons_detected\n",
    "FN = M_n - muons_detected\n",
    "\n",
    "precision = TP/(TP+FP)\n",
    "recall = TP/(TP+FN)\n",
    "\n",
    "print(\"precision = \", precision)\n",
    "print(\"recal = \", recall)\n",
    "#fig = plt.figure(figsize = (10,9))\n",
    "_, ax = plt.subplots(2,1)\n",
    "\n",
    "ax[0].plot(cuts, precision)\n",
    "ax[0].grid()\n",
    "ax[0].set_ylabel(\"precision\")\n",
    "ax[1].set_xlabel(\"cuts (min number of pixels)\")\n",
    "ax[1].plot(cuts, recall)\n",
    "ax[1].set_ylabel(\"recall\")\n",
    "ax[1].grid()"
   ]
  },
  {
   "cell_type": "code",
   "execution_count": null,
   "metadata": {},
   "outputs": [],
   "source": [
    "# PRECISION RECALL\n",
    "TP = muons_detected\n",
    "FP = protons_detected\n",
    "TN = P_n - protons_detected\n",
    "FN = M_n - muons_detected\n",
    "\n",
    "precision = TP/(TP+FP)\n",
    "recall = TP/(TP+FN)\n",
    "\n",
    "print(\"precision = \", precision)\n",
    "print(\"recal = \", recall)\n",
    "\n",
    "plt.plot(recall, precision)\n",
    "plt.grid()\n",
    "plt.xlabel(\"Recall\")\n",
    "plt.ylabel(\"Precision\")"
   ]
  },
  {
   "attachments": {},
   "cell_type": "markdown",
   "metadata": {},
   "source": [
    "#### Precision/recall for muons fitted by lst chain"
   ]
  },
  {
   "cell_type": "code",
   "execution_count": null,
   "metadata": {},
   "outputs": [],
   "source": [
    "M_n = 68\n",
    "P_n = 53000-M_n\n",
    "cuts = np.array([30, 40, 50, 60, 70, 80]) #, 90])\n",
    "muons_detected = np.array([68, 68, 61, 38, 19, 10]) #, 4])\n",
    "protons_detected = np.array([519, 276, 141, 79, 34, 18]) - muons_detected #, 9]) - muons_detected\n",
    "\n",
    "M_n_sim = 85\n",
    "P_n_sim = 14517-85\n",
    "cuts_sim = np.array([30, 40, 50, 60, 70, 80]) # , 90])\n",
    "#muons_detected_sim = np.array([85, 83, 79, 67, 55, 49]) #, 45])\n",
    "muons_detected_sim = np.array([84, 83, 83, 77, 65, 59])\n",
    "protons_detected_sim = np.array([684, 447, 266, 166, 97, 71])- muons_detected_sim #, 49]) - muons_detected_sim\n",
    "\n",
    "M_n_sim_mono = 147\n",
    "#M_n_sim_mono = 51\n",
    "P_n_sim_mono = 42750-M_n_sim_mono\n",
    "cuts_sim_mono = np.array([30, 40, 50, 60, 70, 80])\n",
    "#muons_detected_sim_mono = np.array([51, 51, 50, 44, 36, 27])\n",
    "#muons_detected_sim_mono = np.array([53, 53, 49, 43, 37, 31])\n",
    "muons_detected_sim_mono = np.array([144, 141, 121, 90, 60, 44])\n",
    "\n",
    "#muons_detected_sim_mono = np.array([144, 130, 114, 71, 40, 23]) # 2.5\n",
    "\n",
    "#protons_detected_sim_mono = np.array([1152, 734, 433, 254, 160, 104])- muons_detected_sim_mono\n",
    "protons_detected_sim_mono = np.array([1031, 640, 365, 203, 125, 80])- muons_detected_sim_mono\n",
    "\n",
    "#protons_detected_sim_mono = np.array([920, 508, 278, 161, 83, 51])- muons_detected_sim_mono # 2.5\n",
    "\n",
    "\n",
    "M_n_full = 8771\n",
    "P_n_full = 7467508-M_n_full\n",
    "cuts = np.array([30, 40, 50, 60, 70, 80]) #, 90])\n",
    "muons_detected_full = np.array([8695, 8686, 8634, 7130, 4422, 3000]) #, 4])\n",
    "protons_detected_full = np.array([185934, 108332, 65925, 41309, 26309, 15000]) - muons_detected_full #, 9]) - muons_detected\n",
    "# PRECISION RECALL\n",
    "TP_full = muons_detected_full\n",
    "FP_full = protons_detected_full\n",
    "TN_full = P_n_full - protons_detected_full\n",
    "FN_full = M_n_full - muons_detected_full\n",
    "precision_full = TP_full/(TP_full+FP_full)\n",
    "recall_full = TP_full/(TP_full+FN_full)\n",
    "\n",
    "\n",
    "\n",
    "# PRECISION RECALL\n",
    "TP = muons_detected\n",
    "FP = protons_detected\n",
    "TN = P_n - protons_detected\n",
    "FN = M_n - muons_detected\n",
    "precision = TP/(TP+FP)\n",
    "recall = TP/(TP+FN)\n",
    "\n",
    "\n",
    "TP_sim = muons_detected_sim\n",
    "FP_sim = protons_detected_sim\n",
    "TN_sim = P_n_sim - protons_detected_sim\n",
    "FN_sim = M_n_sim - muons_detected_sim\n",
    "precision_sim = TP_sim/(TP_sim+FP_sim)\n",
    "recall_sim = TP_sim/(TP_sim+FN_sim)\n",
    "\n",
    "\n",
    "TP_sim_mono = muons_detected_sim_mono\n",
    "FP_sim_mono = protons_detected_sim_mono\n",
    "TN_sim_mono = P_n_sim_mono - protons_detected_sim_mono\n",
    "FN_sim_mono = M_n_sim_mono - muons_detected_sim_mono\n",
    "precision_sim_mono = TP_sim_mono/(TP_sim_mono+FP_sim_mono)\n",
    "recall_sim_mono = TP_sim_mono/(TP_sim_mono+FN_sim_mono)\n",
    "\n",
    "print(\"precision = \", precision)\n",
    "print(\"recal = \", recall)\n",
    "#fig = plt.figure(figsize = (10,9))\n",
    "_, ax = plt.subplots(2,1)\n",
    "\n",
    "ax[0].plot(cuts, precision, label = 'Observational Data')\n",
    "ax[0].plot(cuts, precision_sim, label = 'Stereo Simulations')\n",
    "ax[0].plot(cuts_sim_mono, precision_sim_mono, label = 'Mono Simulations')\n",
    "#ax[0].plot(cuts, precision_full, label = 'Full Obs')\n",
    "ax[0].grid()\n",
    "ax[0].legend()\n",
    "ax[0].set_ylabel(\"precision\")\n",
    "ax[1].set_xlabel(\"cuts (min number of pixels)\")\n",
    "ax[1].plot(cuts, recall, label = 'Observational Data')\n",
    "ax[1].plot(cuts, recall_sim, label = 'Stereo Simulations')\n",
    "ax[1].plot(cuts_sim_mono, recall_sim_mono, label = 'Mono Simulations')\n",
    "#ax[1].plot(cuts, recall_full, label = 'Full Obs')\n",
    "ax[1].set_ylabel(\"recall\")\n",
    "ax[1].grid()\n",
    "ax[1].legend()"
   ]
  },
  {
   "cell_type": "code",
   "execution_count": null,
   "metadata": {},
   "outputs": [],
   "source": [
    "# PRECISION RECALL\n",
    "TP = muons_detected\n",
    "FP = protons_detected\n",
    "TN = P_n - protons_detected\n",
    "FN = M_n - muons_detected\n",
    "\n",
    "precision = TP/(TP+FP)\n",
    "recall = TP/(TP+FN)\n",
    "\n",
    "print(\"precision = \", precision)\n",
    "print(\"recal = \", recall)\n",
    "\n",
    "#plt.plot(recall, precision)\n",
    "#plt.plot(recall_sim, precision_sim)\n",
    "plt.plot(precision, recall)\n",
    "plt.plot(precision_sim, recall_sim)\n",
    "\n",
    "plt.grid()\n",
    "plt.ylabel(\"Recall\")\n",
    "plt.xlabel(\"Precision\")"
   ]
  },
  {
   "cell_type": "code",
   "execution_count": null,
   "metadata": {},
   "outputs": [],
   "source": [
    "cuts = [30,40,50,60,70,80,90]\n",
    "true_opt_eff = [0.1654 for i in cuts]\n",
    "y_upper = [0.1654+(0.002)/(1**0.5) for i in cuts]\n",
    "y_lower = [0.1654-(0.002)/(1**0.5) for i in cuts]\n",
    "\n",
    "plt.figure(figsize=(9,6))\n",
    "flagged_opt_eff = [0.1652, 0.1652, 0.1655, 0.1637, 0.1644, 0.1672, 0.1732]\n",
    "#opt_eff_err = [np.std(flagged_opt_eff[i])/muons_detected[i]**0.5 for i in range(len(muons_detected))]\n",
    "opt_eff_err = [0.002, 0.002, 0.002, 0.002, 0.002, 0.003, 0.005]\n",
    "plt.errorbar(x = cuts, y = flagged_opt_eff, yerr = opt_eff_err,fmt='o', ms = 7, alpha = 1, label = 'optical efficiency after tagging', color = 'black')\n",
    "plt.fill_between([30,40,50,60,70,80,90], y_upper, y_lower, alpha = 0.3, color = 'green', label = 'optical efficiency without tagging')\n",
    "plt.plot(cuts, true_opt_eff, color = 'green')#, label = 'without flagging')\n",
    "plt.xlim(28,92)\n",
    "plt.ylim(0.15,0.2)\n",
    "plt.yticks((0.14,0.15,0.16, 0.17, 0.18, 0.19))\n",
    "plt.grid()\n",
    "plt.xlabel(\"cuts on min pixels\")\n",
    "plt.ylabel(\"optical efficiency\")\n",
    "plt.title(\"Performance of tagging in terms of ability to correctly reproduce optical efficiency\")\n",
    "plt.legend()"
   ]
  },
  {
   "cell_type": "code",
   "execution_count": null,
   "metadata": {},
   "outputs": [],
   "source": [
    "M_n = 177\n",
    "P_n = 53000-M_n\n",
    "cuts = np.array([30, 40, 50, 60, 70, 80]) #, 90])\n",
    "muons_detected = np.array([176, 176, 116, 69, 29, 15]) #, 4])\n",
    "protons_detected = np.array([519, 276, 141, 79, 34, 18]) - muons_detected #, 9]) - muons_detected\n",
    "\n",
    "true_negative = P_n - protons_detected\n",
    "false_negative = M_n - muons_detected \n",
    "R1_cut = 2.5\n",
    "\n",
    "plt.rcParams.update({'font.size': 12, 'figure.figsize': (9,9)})\n",
    "fig, axs = plt.subplots(2, 2)\n",
    "fig.subplots_adjust(hspace=0.2, wspace = 0.35)\n",
    "fig.suptitle(f\"Muon flagging based on choosing N pixels which have R1 waveforms values > {R1_cut}, timesample[7:12], 0.1 < mean(variance) < 0.4\", fontsize = 15)\n",
    "\n",
    "axs[0, 0].plot(cuts, muons_detected/M_n)\n",
    "axs[0, 0].set_title('True Positive')\n",
    "#axs[0, 0].set_xlabel(\"Number of cutted pixels\", fontsize = 7)\n",
    "axs[0, 0].set_ylabel(\"True positive / Mn\")\n",
    "\n",
    "axs[0, 1].plot(cuts, (protons_detected)/M_n, 'tab:orange')\n",
    "axs[0, 1].set_title('False Positive')\n",
    "#axs[0, 1].set_xlabel(\"Number of cutted pixels\", fontsize = 7)\n",
    "axs[0, 1].set_ylabel(\"False positive / Mn\")\n",
    "\n",
    "axs[1, 0].plot(cuts, true_negative/P_n, 'tab:green')\n",
    "axs[1, 0].set_title('True Negative')\n",
    "axs[1, 0].set_xlabel(\"Number of cutted pixels\", fontsize = 10)\n",
    "axs[1, 0].set_ylabel(\"True negative / Pn\")\n",
    "\n",
    "axs[1, 1].plot(cuts, false_negative/P_n, 'tab:red')\n",
    "axs[1, 1].set_title('False Negative')\n",
    "axs[1, 1].set_xlabel(\"Number of cutted pixels\", fontsize = 10)\n",
    "axs[1, 1].set_ylabel(\"False negative / Pn\")\n",
    "for ax in axs.flat:\n",
    "    ax.grid(alpha = 0.5)\n",
    "\n",
    "#plt.savefig(f\"/Users/vdk/ImagePurgatorium/PixelCut_R1waveform>{R1_cut}_Time+Variance.png\")"
   ]
  },
  {
   "attachments": {},
   "cell_type": "markdown",
   "metadata": {},
   "source": [
    "#### Precision/recall for all muons in sample"
   ]
  },
  {
   "cell_type": "code",
   "execution_count": null,
   "metadata": {},
   "outputs": [],
   "source": [
    "M_n = 177\n",
    "P_n = 53000-M_n\n",
    "cuts = np.array([30, 40, 50, 60, 70, 80]) #, 90])\n",
    "muons_detected = np.array([176, 176, 116, 69, 29, 15]) #, 4])\n",
    "protons_detected = np.array([519, 276, 141, 79, 34, 18]) - muons_detected #, 9]) - muons_detected\n",
    "\n",
    "\n",
    "M_n_sim = 85\n",
    "P_n_sim = 14517-85\n",
    "cuts_sim = np.array([30, 40, 50, 60, 70, 80]) # , 90])\n",
    "muons_detected_sim = np.array([85, 83, 79, 67, 55, 49]) #, 45])\n",
    "protons_detected_sim = np.array([784, 447, 266, 166, 97, 71])- muons_detected_sim #, 49]) - muons_detected_sim\n",
    "muons_detected_sim = np.array([83, 83, 83, 77, 65, 59])\n",
    "protons_detected_sim = np.array([657, 447, 266, 166, 97, 71]) - muons_detected_sim\n",
    "\n",
    "# PRECISION RECALL\n",
    "TP = muons_detected\n",
    "FP = protons_detected\n",
    "TN = P_n - protons_detected\n",
    "FN = M_n - muons_detected\n",
    "precision = TP/(TP+FP)\n",
    "recall = TP/(TP+FN)\n",
    "\n",
    "\n",
    "TP_sim = muons_detected_sim\n",
    "FP_sim = protons_detected_sim\n",
    "TN_sim = P_n_sim - protons_detected_sim\n",
    "FN_sim = M_n_sim - muons_detected_sim\n",
    "precision_sim = TP_sim/(TP_sim+FP_sim)\n",
    "recall_sim = TP_sim/(TP_sim+FN_sim)\n",
    "\n",
    "print(\"precision = \", precision)\n",
    "print(\"recal = \", recall)\n",
    "#fig = plt.figure(figsize = (10,9))\n",
    "_, ax = plt.subplots(2,1)\n",
    "\n",
    "ax[0].plot(cuts, precision, label = 'Observational Data')\n",
    "#ax[0].plot(cuts, precision_sim, label = 'Simulations')\n",
    "ax[0].grid()\n",
    "ax[0].legend()\n",
    "ax[0].set_ylabel(\"precision\")\n",
    "ax[1].set_xlabel(\"cuts (min number of pixels)\")\n",
    "ax[1].plot(cuts, recall, label = 'Observational Data')\n",
    "#ax[1].plot(cuts, recall_sim, label = 'Stereo simulations')\n",
    "ax[1].set_ylabel(\"recall\")\n",
    "ax[1].grid()\n",
    "ax[1].legend()"
   ]
  },
  {
   "cell_type": "code",
   "execution_count": null,
   "metadata": {},
   "outputs": [],
   "source": [
    "# PRECISION RECALL\n",
    "TP = muons_detected\n",
    "FP = protons_detected\n",
    "TN = P_n - protons_detected\n",
    "FN = M_n - muons_detected\n",
    "\n",
    "precision = TP/(TP+FP)\n",
    "recall = TP/(TP+FN)\n",
    "\n",
    "print(\"precision = \", precision)\n",
    "print(\"recal = \", recall)\n",
    "\n",
    "#plt.plot(recall, precision)\n",
    "#plt.plot(recall_sim, precision_sim)\n",
    "plt.plot(precision, recall, label = 'data')\n",
    "plt.plot(precision_sim, recall_sim, label = 'sim')\n",
    "\n",
    "plt.grid()\n",
    "plt.legend()\n",
    "plt.xlabel(\"Precision\")\n",
    "plt.ylabel(\"Recall\")"
   ]
  },
  {
   "cell_type": "code",
   "execution_count": null,
   "metadata": {},
   "outputs": [],
   "source": [
    "print(event.trigger.tel[1])"
   ]
  },
  {
   "cell_type": "code",
   "execution_count": null,
   "metadata": {},
   "outputs": [],
   "source": [
    "print(event.r1.tel[1].waveform.shape)"
   ]
  },
  {
   "cell_type": "code",
   "execution_count": null,
   "metadata": {},
   "outputs": [],
   "source": [
    "plt.hist(np.argmax(event.r1.tel[1].waveform, axis = 0), bins = 50)"
   ]
  },
  {
   "cell_type": "code",
   "execution_count": null,
   "metadata": {},
   "outputs": [],
   "source": [
    "plt.hist(np.argmax(event.r0.tel[1].waveform[0], axis = 1))"
   ]
  },
  {
   "cell_type": "code",
   "execution_count": null,
   "metadata": {},
   "outputs": [],
   "source": [
    "muon_rings = [434, 663, 949, 1295, 1355, 1565, 1777, 1933, 3067, 3179, 3270, 3314,3346, 3692, 4076,  5016, 6853, 7723, 7919, 8122, 8605, 9047, 9157, 9239, 9774,  9910, 10486, 10491, 11600, 11781, 12038, 12506, 12969, 13004, 13101] \n",
    "len(muon_rings)"
   ]
  },
  {
   "cell_type": "code",
   "execution_count": null,
   "metadata": {},
   "outputs": [],
   "source": [
    "35/6"
   ]
  },
  {
   "cell_type": "code",
   "execution_count": null,
   "metadata": {},
   "outputs": [],
   "source": [
    "image = event.dl1.tel[1].image\n"
   ]
  },
  {
   "cell_type": "code",
   "execution_count": null,
   "metadata": {},
   "outputs": [],
   "source": [
    "len(image[image > 4])"
   ]
  },
  {
   "cell_type": "code",
   "execution_count": null,
   "metadata": {},
   "outputs": [],
   "source": [
    "plt.figure(figsize = (18,12))\n",
    "camgeom = source.subarray.tel[1].camera.geometry\n",
    "title = f'1'\n",
    "disp = CameraDisplay(camgeom,title=title)\n",
    "disp.highlight_pixels(pixel_mask)\n",
    "#disp.image = eventik.dl1.tel[1].image\n",
    "disp.image = image\n",
    "disp.cmap = plt.cm.Reds\n",
    "disp.add_colorbar()\n",
    "#disp.set_limits_percent(95)\n",
    "plt.show()"
   ]
  },
  {
   "cell_type": "code",
   "execution_count": null,
   "metadata": {},
   "outputs": [],
   "source": [
    "event.r1.tel[1].waveform.shape[1]  "
   ]
  },
  {
   "cell_type": "code",
   "execution_count": null,
   "metadata": {},
   "outputs": [],
   "source": [
    "calibration_mon = source.r0_r1_calibrator.mon_data.tel[1].calibration"
   ]
  },
  {
   "cell_type": "code",
   "execution_count": null,
   "metadata": {},
   "outputs": [],
   "source": [
    "telescope_id = 1\n",
    "numsamples = event.r1.tel[telescope_id].waveform.shape[1]  # not necessarily the same as in r0!\n",
    "bad_pixels_hg = calibration_mon.unusable_pixels[0]\n",
    "bad_pixels_lg = calibration_mon.unusable_pixels[1]\n",
    "\n",
    "\n",
    "# Now set to 0 all samples in unreliable pixels. Important for global peak\n",
    "# integrator in case of crazy pixels!  TBD: can this be done in a simpler\n",
    "# way?\n",
    "bad_pixels = bad_pixels_hg | bad_pixels_lg\n",
    "bad_waveform = np.transpose(np.array(numsamples*[bad_pixels]))"
   ]
  },
  {
   "cell_type": "code",
   "execution_count": null,
   "metadata": {},
   "outputs": [],
   "source": [
    "M_n = 68\n",
    "P_n = 53000-M_n\n",
    "cuts = np.array([30, 40, 50, 60, 70, 80]) #, 90])\n",
    "muons_detected = np.array([68, 68, 61, 38, 19, 10]) #, 4])\n",
    "protons_detected = np.array([519, 276, 141, 79, 34, 18]) - muons_detected #, 9]) - muons_detected\n",
    "\n",
    "M_n_sim = 85\n",
    "P_n_sim = 14517-85\n",
    "cuts_sim = np.array([30, 40, 50, 60, 70, 80]) # , 90])\n",
    "#muons_detected_sim = np.array([85, 83, 79, 67, 55, 49]) #, 45])\n",
    "muons_detected_sim = np.array([84, 83, 83, 77, 65, 59])\n",
    "protons_detected_sim = np.array([684, 447, 266, 166, 97, 71])- muons_detected_sim #, 49]) - muons_detected_sim\n",
    "\n",
    "M_n_sim_mono = 147\n",
    "#M_n_sim_mono = 51\n",
    "P_n_sim_mono = 42750-M_n_sim_mono\n",
    "cuts_sim_mono = np.array([30, 40, 50, 60, 70, 80])\n",
    "muons_detected_sim_mono = np.array([51, 51, 50, 44, 36, 27])\n",
    "#muons_detected_sim_mono = np.array([53, 53, 49, 43, 37, 31])\n",
    "muons_detected_sim_mono = np.array([144, 141, 121, 90, 60, 44])\n",
    "\n",
    "#muons_detected_sim_mono = np.array([144, 130, 114, 71, 40, 23]) # 2.5\n",
    "\n",
    "#protons_detected_sim_mono = np.array([1152, 734, 433, 254, 160, 104])- muons_detected_sim_mono\n",
    "protons_detected_sim_mono = np.array([1031, 640, 365, 203, 125, 80])- muons_detected_sim_mono\n",
    "\n",
    "#protons_detected_sim_mono = np.array([920, 508, 278, 161, 83, 51])- muons_detected_sim_mono # 2.5\n",
    "\n",
    "\n",
    "M_n_full = 8771\n",
    "P_n_full = 7467508-M_n_full\n",
    "cuts = np.array([30, 40, 50, 60, 70, 80]) #, 90])\n",
    "muons_detected_full = np.array([8695, 8686, 8634, 7130, 4422, 2434]) #, 4])\n",
    "protons_detected_full = np.array([185934, 108332, 65925, 41309, 26309, 17058]) - muons_detected_full #, 9]) - muons_detected\n",
    "# PRECISION RECALL\n",
    "TP_full = muons_detected_full\n",
    "FP_full = protons_detected_full\n",
    "TN_full = P_n_full - protons_detected_full\n",
    "FN_full = M_n_full - muons_detected_full\n",
    "precision_full = TP_full/(TP_full+FP_full)\n",
    "recall_full = TP_full/(TP_full+FN_full)\n",
    "\n",
    "\n",
    "\n",
    "# PRECISION RECALL\n",
    "TP = muons_detected\n",
    "FP = protons_detected\n",
    "TN = P_n - protons_detected\n",
    "FN = M_n - muons_detected\n",
    "precision = TP/(TP+FP)\n",
    "recall = TP/(TP+FN)\n",
    "\n",
    "\n",
    "TP_sim = muons_detected_sim\n",
    "FP_sim = protons_detected_sim\n",
    "TN_sim = P_n_sim - protons_detected_sim\n",
    "FN_sim = M_n_sim - muons_detected_sim\n",
    "precision_sim = TP_sim/(TP_sim+FP_sim)\n",
    "recall_sim = TP_sim/(TP_sim+FN_sim)\n",
    "\n",
    "\n",
    "TP_sim_mono = muons_detected_sim_mono\n",
    "FP_sim_mono = protons_detected_sim_mono\n",
    "TN_sim_mono = P_n_sim_mono - protons_detected_sim_mono\n",
    "FN_sim_mono = M_n_sim_mono - muons_detected_sim_mono\n",
    "precision_sim_mono = TP_sim_mono/(TP_sim_mono+FP_sim_mono)\n",
    "recall_sim_mono = TP_sim_mono/(TP_sim_mono+FN_sim_mono)\n",
    "\n",
    "print(\"precision = \", precision)\n",
    "print(\"recal = \", recall)\n",
    "#fig = plt.figure(figsize = (10,9))\n",
    "_, ax = plt.subplots(2,1,figsize=(12, 12))\n",
    "\n",
    "ax[0].plot(cuts, precision, label = 'Observational Data')\n",
    "#ax[0].plot(cuts, precision_sim, label = 'Stereo Simulations')\n",
    "ax[0].plot(cuts_sim_mono, precision_sim_mono, label = 'Mono Simulations')\n",
    "ax[0].plot(cuts, precision_full, label = 'Full Obs')\n",
    "ax[0].grid()\n",
    "ax[0].legend()\n",
    "ax[0].set_ylabel(\"precision\")\n",
    "ax[1].set_xlabel(\"cuts (min number of pixels)\")\n",
    "ax[1].plot(cuts, recall, label = 'Observational Data')\n",
    "#ax[1].plot(cuts, recall_sim, label = 'Stereo Simulations')\n",
    "ax[1].plot(cuts_sim_mono, recall_sim_mono, label = 'Mono Simulations')\n",
    "ax[1].plot(cuts, recall_full, label = 'Full Obs')\n",
    "ax[1].set_ylabel(\"recall\")\n",
    "ax[1].grid()\n",
    "ax[1].legend()"
   ]
  },
  {
   "cell_type": "code",
   "execution_count": null,
   "metadata": {},
   "outputs": [],
   "source": [
    "np.transpose(np.array(numsamples*[bad_pixels])).shape"
   ]
  },
  {
   "cell_type": "code",
   "execution_count": null,
   "metadata": {},
   "outputs": [],
   "source": [
    "test3 = [1,2,3]\n",
    "np.array(3*test3)"
   ]
  },
  {
   "cell_type": "code",
   "execution_count": null,
   "metadata": {},
   "outputs": [],
   "source": [
    "len(numsamples*bad_pixels)"
   ]
  },
  {
   "cell_type": "code",
   "execution_count": null,
   "metadata": {},
   "outputs": [],
   "source": [
    "bad_pixels.shape"
   ]
  },
  {
   "cell_type": "code",
   "execution_count": null,
   "metadata": {},
   "outputs": [],
   "source": [
    "test1.shape"
   ]
  },
  {
   "cell_type": "code",
   "execution_count": null,
   "metadata": {},
   "outputs": [],
   "source": [
    "10* test1"
   ]
  },
  {
   "cell_type": "code",
   "execution_count": null,
   "metadata": {},
   "outputs": [],
   "source": [
    "(~bad_waveform).shape"
   ]
  },
  {
   "cell_type": "code",
   "execution_count": null,
   "metadata": {},
   "outputs": [],
   "source": [
    "bad_waveform.shape"
   ]
  },
  {
   "cell_type": "code",
   "execution_count": null,
   "metadata": {},
   "outputs": [],
   "source": [
    "len(~bad_waveform[~bad_waveform==0])"
   ]
  },
  {
   "cell_type": "code",
   "execution_count": null,
   "metadata": {},
   "outputs": [],
   "source": [
    "test2"
   ]
  },
  {
   "cell_type": "code",
   "execution_count": null,
   "metadata": {},
   "outputs": [],
   "source": [
    "event.r1.tel[telescope_id].waveform.shape"
   ]
  },
  {
   "cell_type": "code",
   "execution_count": null,
   "metadata": {},
   "outputs": [],
   "source": [
    "np.rad2deg(0.0035)"
   ]
  },
  {
   "cell_type": "code",
   "execution_count": null,
   "metadata": {},
   "outputs": [],
   "source": [
    "0.08 * 1855"
   ]
  },
  {
   "cell_type": "code",
   "execution_count": null,
   "metadata": {},
   "outputs": [],
   "source": [
    "print(all([1<3, 4<2, 10<20]))"
   ]
  },
  {
   "cell_type": "code",
   "execution_count": null,
   "metadata": {},
   "outputs": [],
   "source": [
    "print(event_id)"
   ]
  },
  {
   "cell_type": "code",
   "execution_count": null,
   "metadata": {},
   "outputs": [],
   "source": [
    "import numpy as np\n",
    "a = np.random.randn(5).astype(np.uint64)\n",
    "b = np.random.randn(5).astype(np.uint32)\n",
    "c = np.float64(3.6).astype(np.uint64)\n",
    "d = np.float64(3.6).astype(np.uint32)"
   ]
  },
  {
   "cell_type": "code",
   "execution_count": null,
   "metadata": {},
   "outputs": [],
   "source": [
    "test = np.array([[[1],[2]],[[3], [4]]])"
   ]
  },
  {
   "cell_type": "code",
   "execution_count": null,
   "metadata": {},
   "outputs": [],
   "source": [
    "test.shape"
   ]
  },
  {
   "cell_type": "code",
   "execution_count": null,
   "metadata": {},
   "outputs": [],
   "source": [
    "test[0,0,0]"
   ]
  },
  {
   "cell_type": "code",
   "execution_count": null,
   "metadata": {},
   "outputs": [],
   "source": []
  }
 ],
 "metadata": {
  "kernelspec": {
   "display_name": "cta",
   "language": "python",
   "name": "python3"
  },
  "language_info": {
   "codemirror_mode": {
    "name": "ipython",
    "version": 3
   },
   "file_extension": ".py",
   "mimetype": "text/x-python",
   "name": "python",
   "nbconvert_exporter": "python",
   "pygments_lexer": "ipython3",
   "version": "3.11.6"
  }
 },
 "nbformat": 4,
 "nbformat_minor": 2
}
