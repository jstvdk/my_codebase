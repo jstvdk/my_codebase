{
 "cells": [
  {
   "cell_type": "code",
   "execution_count": null,
   "id": "0",
   "metadata": {},
   "outputs": [],
   "source": [
    "import sys\n",
    "sys.path.append('/Users/vdk/GeneveWork/Code/calibpipe-main-calibpipe/')\n",
    "from astropy.io import ascii\n",
    "import numpy as np\n",
    "import pandas as pd\n",
    "import matplotlib\n",
    "import csv\n",
    "import scipy\n",
    "import matplotlib.pyplot as plt\n",
    "from seaborn import histplot\n",
    "import random\n",
    "import copy\n",
    "from os import path, makedirs\n",
    "from astropy.coordinates import SkyCoord\n",
    "from astropy.table import Table\n",
    "import astropy.units as u\n",
    "from ctapipe.containers import MuonEfficiencyContainer\n",
    "from ctapipe.coordinates import CameraFrame, TelescopeFrame\n",
    "from ctapipe.io import EventSource, EventSeeker\n",
    "from ctapipe.core import TelescopeComponent\n",
    "from ctapipe.core.traits import (\n",
    "    List,\n",
    "    Int,\n",
    "    FloatTelescopeParameter,\n",
    "    TelescopeParameter,\n",
    "    Unicode,\n",
    ")\n",
    "from ctapipe.image.cleaning import tailcuts_clean\n",
    "from ctapipe.image.muon import MuonRingFitter, MuonIntensityFitter\n",
    "from traitlets.config import Config\n",
    "from ctapipe.image import ImageProcessor\n",
    "from ctapipe.image.muon import MuonProcessor\n",
    "from ctapipe.visualization import CameraDisplay\n",
    "from ctapipe.instrument import CameraGeometry\n",
    "from ctapipe.calib import CameraCalibrator\n",
    "from traitlets.config.loader import Config, FileConfigLoader, JSONFileConfigLoader\n",
    "import pathlib\n",
    "from calibpipe.throughput import MuonCalibrator\n",
    "from traitlets.config import Config\n",
    "from astropy.time import Time\n",
    "from astropy.coordinates import EarthLocation,SkyCoord, AltAz \n",
    "from traitlets.config import Config\n",
    "import time\n",
    "from pyirf import simulations,utils, spectral\n",
    "\n",
    "\n"
   ]
  },
  {
   "cell_type": "code",
   "execution_count": null,
   "id": "1",
   "metadata": {},
   "outputs": [],
   "source": [
    "2+2"
   ]
  },
  {
   "cell_type": "code",
   "execution_count": null,
   "id": "2",
   "metadata": {},
   "outputs": [],
   "source": [
    "int_cut = 0.3\n",
    "min_pixel = 70\n",
    "\n",
    "# MuonIntensityFitter : \n",
    "#   hole_radius_m : [[\"type\", \"LST_*\", 0.308]]\n",
    "\n",
    "muon_processor_config = Config({\"MuonProcessor\": \n",
    "                                {\"RingQuery\": \n",
    "                                 {\"quality_criteria\" : [[\"intensity_check\",f\"np.abs(parameters.intensity_ratio - 1) < {int_cut}\"],\n",
    "                                                        [\"ring_containment\", \"parameters.containment > 0.5\"],\n",
    "                                                        [\"ring_completeness\", \"parameters.completeness > 0.5\"]]}}})\n",
    "\n",
    "#muon_processor_config = Config({\"MuonProcessor\":\n",
    "#                                {\"ImageParameterQuery\" :\n",
    "#                                {\"quality_criteria\" : [[\"min_pixels\", f\"dl1_params.morphology.n_pixels > {min_pixel}\"],\n",
    "#                                                        [\"min_intensity\", \"dl1_params.hillas.intensity > 500\"]]}}})\n",
    "\n",
    "muon_processor_config_2 = Config({\"MuonProcessor\":\n",
    "                                {\"ImageParameterQuery\" :\n",
    "                                 {\"quality_criteria\" : [[\"min_pixels\", f\"dl1_params.morphology.n_pixels > {min_pixel}\"],\n",
    "                                                        [\"min_intensity\", \"dl1_params.hillas.intensity > 500\"]]}}})\n",
    "\n",
    "\n",
    "muon_processor_config = Config({\n",
    "                                \"MuonProcessor\": {\n",
    "                                    \"RingQuery\": {\n",
    "                                        \"quality_criteria\" : [[\"intensity_check\",f\"np.abs(parameters.intensity_ratio - 1) < {int_cut}\"],\n",
    "                                                        [\"ring_containment\", \"parameters.containment > 0.3\"],\n",
    "                                                        [\"ring_completeness\", \"parameters.completeness > 0.3\"]]},\n",
    "                                    \"ImageParameterQuery\" : {\n",
    "                                        \"quality_criteria\" : [[\"min_pixels\", f\"dl1_params.morphology.n_pixels > {min_pixel}\"],\n",
    "                                                        [\"min_intensity\", \"dl1_params.hillas.intensity > 500\"]]},\n",
    "                                    \"MuonIntensityFitter\" : {\n",
    "                                        \"hole_radius_m\" : [[\"type\", \"LST_*\", 0.308]]\n",
    "                                    }}})\n",
    "\n",
    "checker = 0\n",
    "event_container = {}\n",
    "t1 = time.perf_counter(), time.process_time()\n",
    "event_ids = []\n",
    "impacts = []\n",
    "widths = []\n",
    "for k in range(1,101):\n",
    "    filename = f'/Users/vdk/LST/4LSTmuons/simtel_run{k}01_muon.simtel.gz'\n",
    "    print(filename)\n",
    "    source = EventSource(filename)\n",
    "    event_iterator = iter(source)\n",
    "    keks = k*1000\n",
    "    checker = 0\n",
    "    for i,event in enumerate(event_iterator):\n",
    "        for m in event.trigger.tels_with_trigger:\n",
    "            checker += 1\n",
    "            image_processor = ImageProcessor(source.subarray)\n",
    "            muon_processor = MuonProcessor(source.subarray, config = muon_processor_config)\n",
    "            #muon_processor = MuonProcessor(source.subarray)\n",
    "            calib = CameraCalibrator(image_extractor_type=\"GlobalPeakWindowSum\",subarray = source.subarray)\n",
    "            print(f\"Non Muon Event Telescope with stereo trigger = {event.trigger.tels_with_trigger}\")\n",
    "            calib(event)\n",
    "            image_processor(event)\n",
    "            muon_processor(event)\n",
    "            for m in event.muon.tel.keys():\n",
    "                if not np.isnan(event.muon.tel[m].efficiency.width):\n",
    "                    #print(\"I am here\")\n",
    "                    # plt.figure(figsize = (9,6))\n",
    "                    # camgeom = source.subarray.tel[1].camera.geometry\n",
    "                    # title = f'event {event.index.event_id} in telescope {m}'\n",
    "                    # disp = CameraDisplay(camgeom,title=title)\n",
    "                    # #disp.image = event.r1.tel[m].waveform.sum(axis = 1)\n",
    "                    # disp.image = event.dl1.tel[m].image\n",
    "                    # disp.cmap = plt.cm.Reds\n",
    "                    # disp.add_colorbar()\n",
    "                    # disp.set_limits_percent(95)\n",
    "                    # plt.show()\n",
    "                    print(f\"Muon Event Telescope with stereo trigger = {event.trigger.tels_with_trigger}\")\n",
    "                    event_container[keks+i] = event\n",
    "                    event_ids.append(event.index.event_id)\n",
    "                    impacts.append(event.muon.tel[m].efficiency.impact)\n",
    "                    widths.append(event.muon.tel[m].efficiency.width)\n",
    "    t2 = time.perf_counter(), time.process_time()\n",
    "    print(\"checker = \", checker)   \n",
    "#plt.close()\n",
    "print(f\" Real time: {t2[0] - t1[0]:.2f} seconds\")\n",
    "print(f\" CPU time: {t2[1] - t1[1]:.2f} seconds\")"
   ]
  },
  {
   "cell_type": "code",
   "execution_count": null,
   "id": "3",
   "metadata": {},
   "outputs": [],
   "source": [
    "\n",
    "unusable_pixels_hg = event.mon.tel[tel_id].calibration.unusable_pixels[0]\n",
    "unusable_pixels_lg = event.mon.tel[tel_id].calibration.unusable_pixels[1]\n",
    "\n",
    "bad_pixels = unusable_pixels_hg | unusable_pixels_lg\n",
    "\n",
    "event.dl1.tel[tel_id] *= ~bad_pixels\n"
   ]
  },
  {
   "cell_type": "code",
   "execution_count": null,
   "id": "4",
   "metadata": {},
   "outputs": [],
   "source": [
    "for items in event_container[1003].r1.tel.items():\n",
    "    print()"
   ]
  },
  {
   "cell_type": "code",
   "execution_count": null,
   "id": "5",
   "metadata": {},
   "outputs": [],
   "source": [
    "event_container[1003].r1.tel[2].waveform.shape"
   ]
  },
  {
   "cell_type": "code",
   "execution_count": null,
   "id": "6",
   "metadata": {},
   "outputs": [],
   "source": [
    "mask = np.array([True,True,False])\n",
    "bad_pixels = test*[~mask]\n",
    "test = np.array([1,2,3])"
   ]
  },
  {
   "cell_type": "code",
   "execution_count": null,
   "id": "7",
   "metadata": {},
   "outputs": [],
   "source": [
    "test *= ~mask\n",
    "test"
   ]
  },
  {
   "cell_type": "code",
   "execution_count": null,
   "id": "8",
   "metadata": {},
   "outputs": [],
   "source": [
    "#print(\"all events = \", all_events)\n",
    "#print(\"stereo = \", stereo)\n",
    "print(\"muons = \", len(event_container))\n",
    "print(\"muons events = \", event_container.keys())\n",
    "#for i in event_container_protons:\n",
    "#    print(i)\n",
    "\n",
    "opt_eff_m = []\n",
    "for i in event_container:\n",
    "    for m in event_container[i].trigger.tels_with_trigger:\n",
    "        if not np.isnan(event_container[i].muon.tel[m].efficiency.optical_efficiency) and event_container[i].muon.tel[m].efficiency.optical_efficiency < 100:\n",
    "            opt_eff_m.append(event_container[i].muon.tel[m].efficiency.optical_efficiency)\n",
    "\n",
    "print(\"mean = \", np.mean(opt_eff_m))\n",
    "print(\"std = \", np.std(opt_eff_m))\n",
    "print(\"len = \", len(opt_eff_m))\n",
    "print(f\"event_ids = {event_ids}\")\n"
   ]
  },
  {
   "cell_type": "code",
   "execution_count": null,
   "id": "9",
   "metadata": {},
   "outputs": [],
   "source": [
    "plt.hist(widths, bins = 12, alpha = 0.7)\n",
    "plt.ylabel('Counts')\n",
    "plt.xlabel('Ring widths in deg')\n",
    "plt.xlim(0,0.12)\n",
    "plt.ylim(0,90)\n",
    "plt.grid(alpha = 0.5)\n",
    "plt.title(\"Widths of muons processed by CalibPipe method\")"
   ]
  },
  {
   "cell_type": "code",
   "execution_count": null,
   "id": "10",
   "metadata": {},
   "outputs": [],
   "source": [
    "plt.hist(impacts, bins = 10, alpha = 0.7)\n",
    "plt.ylabel('Counts')\n",
    "plt.xlabel('Ring impact in m')\n",
    "plt.xlim(0,12)\n",
    "plt.ylim(0,90)\n",
    "plt.grid(alpha = 0.5)\n",
    "plt.title(\"Impact of muons processed by CalibPipe method\")"
   ]
  },
  {
   "cell_type": "code",
   "execution_count": null,
   "id": "11",
   "metadata": {},
   "outputs": [],
   "source": [
    "energies = []\n",
    "for k in range(1,100):\n",
    "    filename = f'/Users/vdk/LST/4LSTmuons/simtel_run{k}01_muon.simtel.gz'\n",
    "    source = EventSource(filename)\n",
    "    event_iterator = iter(source)\n",
    "    keks = k*1000\n",
    "    for i,event in enumerate(event_iterator):\n",
    "        energies.append(event.simulation.shower.energy.to_value())"
   ]
  },
  {
   "cell_type": "code",
   "execution_count": null,
   "id": "12",
   "metadata": {},
   "outputs": [],
   "source": []
  },
  {
   "cell_type": "code",
   "execution_count": null,
   "id": "13",
   "metadata": {},
   "outputs": [],
   "source": [
    "gev_energies = np.array(energies)\n",
    "histplot(gev_energies*1000, log_scale = True, bins = 15)\n",
    "plt.xlabel(\"Energy in GeV\")\n",
    "plt.title(\"Muon Energies\")"
   ]
  },
  {
   "cell_type": "code",
   "execution_count": null,
   "id": "14",
   "metadata": {},
   "outputs": [],
   "source": [
    "w_energies = [energy**(-0.7) for energy in energies]\n",
    "sum(w_energies)"
   ]
  },
  {
   "cell_type": "code",
   "execution_count": null,
   "id": "15",
   "metadata": {},
   "outputs": [],
   "source": [
    "simulated_spectrum = spectral.PowerLaw(normalization = 1 * spectral.DIFFUSE_FLUX_UNIT, index = -2, e_ref =1* u.TeV)\n",
    "target_spectrum = spectral.PowerLaw(normalization = 1 * spectral.DIFFUSE_FLUX_UNIT, index = -2.7, e_ref =1* u.TeV)\n",
    "\n",
    "#target_spectrum = spectral.PDG_ALL_PARTICLE\n",
    "#simulated_spectrum = spectral.PowerLaw.from_simulation(simulated_events, obstime=0.1*u.s)\n",
    "\n",
    "pyirf_weighted = [spectral.calculate_event_weights(energy*u.TeV, target_spectrum=target_spectrum, simulated_spectrum=simulated_spectrum) for energy in energies]\n",
    "print(f\"protons weighted pyirf = {sum(pyirf_weighted)}\")"
   ]
  },
  {
   "cell_type": "code",
   "execution_count": null,
   "id": "16",
   "metadata": {},
   "outputs": [],
   "source": [
    "sorted(pyirf_weighted, reverse=True)"
   ]
  },
  {
   "cell_type": "code",
   "execution_count": null,
   "id": "17",
   "metadata": {},
   "outputs": [],
   "source": [
    "#pyirf_weighted = np.array(pyirf_weighted)*1000\n",
    "histplot(pyirf_weighted, log_scale = True, bins = 25)\n",
    "plt.xlabel(\"Energy in GeV\")\n",
    "plt.title(\"Muon Energies\")"
   ]
  },
  {
   "cell_type": "code",
   "execution_count": null,
   "id": "18",
   "metadata": {},
   "outputs": [],
   "source": [
    "#\n",
    "#\n",
    "# Images for events without cleaning\n",
    "#\n",
    "#\n",
    "\n",
    "x_range_1 = [i for i in range(len(opt_eff_m))]\n",
    "#std_arr = [np.std(opt_eff_m)/np.mean(opt_eff_m) for i,j in enumerate(opt_eff_m)]\n",
    "std_arr_1 = [np.std(opt_eff_m)/i**0.5 for i,j in enumerate(opt_eff_m)]\n",
    "std_arr_1_big = [np.std(opt_eff_m) for i,j in enumerate(opt_eff_m)]\n",
    "#std_arr = [np.std(opt_eff) for i,j in enumerate(opt_eff)]\n",
    "\n",
    "\n",
    "mean_range_1 = [i-1 for i in range(len(opt_eff_m)+3)]\n",
    "y_upper_1 = [np.mean(opt_eff_m)+np.std(opt_eff_m) for i in mean_range_1]\n",
    "y_lower_1 = [np.mean(opt_eff_m)-np.std(opt_eff_m) for i in mean_range_1]\n",
    "\n",
    "y_mid_1 = [np.mean(opt_eff_m) for i in mean_range_1]\n",
    "y_mid_1 = [np.mean(opt_eff_m[:i+1]) for i in range(len(opt_eff_m[:i+1]))]\n",
    "\n",
    "\n",
    "#y_upper_1 = [j+std_arr_1[-1] for i,j in enumerate(y_mid_1)]\n",
    "#y_lower_1 = [j-std_arr_1[-1] for i,j in enumerate(y_mid_1)]\n",
    "\n",
    "y_upper_1 = [j+std_arr_1[-1] for i,j in enumerate(y_mid_1)]\n",
    "y_lower_1 = [j-std_arr_1[-1] for i,j in enumerate(y_mid_1)]\n",
    "\n",
    "\n",
    "#y_upper_1 = [j+np.std(opt_eff_m[:i+1]) for i,j in enumerate(y_mid_1)]\n",
    "#y_lower_1 = [j-np.std(opt_eff_m[:i+1]) for i,j in enumerate(y_mid_1)]\n",
    "\n",
    "\n",
    "y_upper_1 = [j+std_arr_1[-1] for i,j in enumerate([np.mean(opt_eff_m) for i in x_range_1])]\n",
    "y_lower_1 = [j-std_arr_1[-1] for i,j in enumerate([np.mean(opt_eff_m) for i in x_range_1])]\n",
    "\n",
    "plt.figure(figsize = (12,6))\n",
    "#plt.ylim(0.095,0.34)\n",
    "\n",
    "plt.style.use('default')\n",
    "plt.xlim(-1,len(opt_eff_m))\n",
    "plt.xlabel(\"Number of Events\")\n",
    "#plt.ylabel(\"Optical eff with rel. error for 1 measurment\")\n",
    "plt.ylabel(\"Optical efficiency\")\n",
    "#plt.title(\"Opt eff for muon rings without performing additional cleaning int_cut<0.1\")\n",
    "plt.title(\"Optical Efficiency from pure muonic simulation\")\n",
    "plt.grid(alpha=0.5)\n",
    "plt.ylim(0,0.6)\n",
    "\n",
    "#plt.scatter(x_range_1, opt_eff_m)\n",
    "plt.errorbar(x_range_1, opt_eff_m, yerr=std_arr_1, fmt='o', ms = 7, alpha = 0.8, color = 'darkorange')#, c = 'blue')#, s = 100)#, c= 'black')\n",
    "\n",
    "\n",
    "#plt.fill_between(x_range_1, y_upper_1, y_lower_1, color = 'green', alpha = 0.3, label = 'mean +/- $1\\sigma$')\n",
    "plt.fill_between(x_range_1, y_upper_1, y_lower_1, color = 'green', alpha = 0.3, label = 'mean +/- $1\\sigma$')\n",
    "#plt.plot(x_range_1, y_mid_1, label = \"mean\", c = 'green', linewidth = 1.5)\n",
    "plt.plot(x_range_1, [np.mean(opt_eff_m) for i in x_range_1], label = \"mean\", c = 'green', linewidth = 2.5)\n",
    "\n",
    "\n",
    "plt.legend()\n",
    "print(\"mean = \", np.mean(opt_eff_m))\n",
    "print(\"std = \", np.std(opt_eff_m))\n",
    "print(\"rel_err = \", np.std(opt_eff_m)/np.mean(opt_eff_m))\n",
    "print(\"len = \", len(opt_eff_m))\n",
    "#plt.savefig(\"/Users/vdk/ImagePurgatorium/4LSTMuons_RelStd.png\")"
   ]
  },
  {
   "cell_type": "code",
   "execution_count": null,
   "id": "19",
   "metadata": {},
   "outputs": [],
   "source": [
    "#\n",
    "# DISPLAY IMAGES\n",
    "#\n",
    "\n",
    "int_cut = 0.3\n",
    "min_pixel = 70\n",
    "\n",
    "muon_processor_config = Config({\"MuonProcessor\": \n",
    "                                {\"RingQuery\": \n",
    "                                 {\"quality_criteria\" : [[\"intensity_check\",f\"np.abs(parameters.intensity_ratio - 1) < {int_cut}\"],\n",
    "                                                        [\"ring_containment\", \"parameters.containment > 0.5\"],\n",
    "                                                        [\"ring_completeness\", \"parameters.completeness > 0.5\"]]}}})\n",
    "\n",
    "#muon_processor_config = Config({\"MuonProcessor\":\n",
    "#                                {\"ImageParameterQuery\" :\n",
    "#                                {\"quality_criteria\" : [[\"min_pixels\", f\"dl1_params.morphology.n_pixels > {min_pixel}\"],\n",
    "#                                                        [\"min_intensity\", \"dl1_params.hillas.intensity > 500\"]]}}})\n",
    "\n",
    "muon_processor_config_2 = Config({\"MuonProcessor\":\n",
    "                                {\"ImageParameterQuery\" :\n",
    "                                 {\"quality_criteria\" : [[\"min_pixels\", f\"dl1_params.morphology.n_pixels > {min_pixel}\"],\n",
    "                                                        [\"min_intensity\", \"dl1_params.hillas.intensity > 500\"]]}}})\n",
    "\n",
    "checker = 0\n",
    "event_container = {}\n",
    "t1 = time.perf_counter(), time.process_time()\n",
    "\n",
    "for k in range(1,101):\n",
    "    filename = f'/Users/vdk/4LSTmuons/simtel_run{k}01_muon.simtel.gz'\n",
    "    print(filename)\n",
    "    source = EventSource(filename, max_events=9000)\n",
    "    event_iterator = iter(source)\n",
    "    keks = k*1000\n",
    "    checker = 0\n",
    "    for i,j in enumerate(event_iterator):\n",
    "        for m in j.trigger.tels_with_trigger:\n",
    "            event = j\n",
    "            checker += 1\n",
    "            image_processor = ImageProcessor(source.subarray)\n",
    "            muon_processor = MuonProcessor(source.subarray, config = muon_processor_config_2)\n",
    "            #muon_processor = MuonProcessor(source.subarray)\n",
    "            calib = CameraCalibrator(image_extractor_type=\"GlobalPeakWindowSum\",subarray = source.subarray)\n",
    "            calib(j)\n",
    "            image_processor(j)\n",
    "            muon_processor(j)\n",
    "            plt.figure(figsize = (9,6))\n",
    "            camgeom = source.subarray.tel[m].camera.geometry\n",
    "            title=f\"event_{i}_telescope_{m}\"\n",
    "            #title=f\"CleanedRing_{i}_optEff{round(event_container[i].muon.tel[m].efficiency.optical_efficiency,3)}_width{round(event_container[i].muon.tel[m].efficiency.width.to_value(),3)}_triggeredTel{m}\"\n",
    "            disp = CameraDisplay(camgeom,title=title)\n",
    "            #disp.image = event_container[i].simulation.tel[m].true_image\n",
    "            disp.image = j.r1.tel[m].waveform.sum(axis=1)\n",
    "            disp.cmap = plt.cm.RdBu_r\n",
    "            disp.add_colorbar()\n",
    "            disp.set_limits_percent(95)\n",
    "            reg_event_number.append(i)\n",
    "            plt.show()\n",
    "            plt.close()\n",
    "    t2 = time.perf_counter(), time.process_time()\n",
    "    print(\"checker = \", checker)   \n",
    "\n",
    "print(f\" Real time: {t2[0] - t1[0]:.2f} seconds\")\n",
    "print(f\" CPU time: {t2[1] - t1[1]:.2f} seconds\")"
   ]
  },
  {
   "cell_type": "code",
   "execution_count": null,
   "id": "20",
   "metadata": {},
   "outputs": [],
   "source": [
    "len(event_container)"
   ]
  },
  {
   "cell_type": "code",
   "execution_count": null,
   "id": "21",
   "metadata": {},
   "outputs": [],
   "source": [
    "filename = f'/Users/vdk/4LSTmuons/simtel_run101_muon.simtel.gz'\n",
    "print(filename)\n",
    "source = EventSource(filename, max_events=9000)\n",
    "event_iterator = iter(source)\n",
    "event = next(event_iterator)"
   ]
  },
  {
   "cell_type": "code",
   "execution_count": null,
   "id": "22",
   "metadata": {},
   "outputs": [],
   "source": [
    "# PROCESSING OF REGULAR IMAGES\n",
    "lets_check = 0\n",
    "opt_eff_cleaned = []\n",
    "reg_event_number = []\n",
    "for i in event_container:\n",
    "    for m in event_container[i].trigger.tel.keys():\n",
    "        if not np.isnan(event_container[i].muon.tel[m].efficiency.width):\n",
    "                #plt.savefig(f\"/Users/vdk/MRing_event{i}_fit{round(event_container[i].muon.tel[m].efficiency.optical_efficiency,3)}_width{round(event_container[i].muon.tel[m].efficiency.width.to_value(),3)}.png\")\n",
    "                #plt.savefig(f\"/Users/vdk/MRing_event{i}_fit{round(event_container[i].muon.tel[m].efficiency.optical_efficiency,3)}_width{round(event_container[i].muon.tel[m].efficiency.width.to_value(),3)}.png\")\n",
    "                \n",
    "                print(\"n_pixels \", event_container[i].dl1.tel[m].parameters.morphology.n_pixels)\n",
    "                #print(\"MSE \", event_container[i].muon.tel[m].parameters.mean_squared_error)                \n",
    "                #print(\"Muon parameters \", event_container[i].muon.tel[m].parameters)   \n",
    "                #print(\"intensity_check \", abs(event_container[i].muon.tel[m].parameters.intensity_ratio - 1))\n",
    "                #if event_container[i].dl1.tel[m].parameters.morphology.n_pixels > 50 and abs(event_container[i].muon.tel[m].parameters.intensity_ratio - 1) < 0.1:\n",
    "                #if abs(event_container[i].muon.tel[m].parameters.intensity_ratio - 1) < 0.2:\n",
    "                #print(\"n_pixels \", event_container[i].dl1.tel[m].parameters.morphology.n_pixels)\n",
    "                #print(\"Muon parameters \", event_container[i].muon.tel[m].parameters)   \n",
    "                #print(\"intensity_check \", abs(event_container[i].muon.tel[m].parameters.intensity_ratio - 1))\n",
    "                lets_check+=1\n",
    "                plt.figure(figsize = (9,6))\n",
    "                camgeom = source.subarray.tel[m].camera.geometry\n",
    "                title=f\"Event_{i}_optEff{round(event_container[i].muon.tel[m].efficiency.optical_efficiency,3)}_width{round(event_container[i].muon.tel[m].efficiency.width.to_value(),3)}_triggercount{len(event_container[i].trigger.tel.keys())}\"\n",
    "                #title=f\"CleanedRing_{i}_optEff{round(event_container[i].muon.tel[m].efficiency.optical_efficiency,3)}_width{round(event_container[i].muon.tel[m].efficiency.width.to_value(),3)}_triggeredTel{m}\"\n",
    "                disp = CameraDisplay(camgeom,title=title)\n",
    "                disp.image = event_container[i].simulation.tel[m].true_image\n",
    "                #disp.image = event_container[i].r1.tel[m].waveform.sum(axis=1)\n",
    "                disp.cmap = plt.cm.RdBu_r\n",
    "                disp.add_colorbar()\n",
    "                disp.set_limits_percent(95)\n",
    "                reg_event_number.append(i)\n",
    "                plt.show()\n",
    "                #plt.savefig(f\"/Users/vdk/ImagePurgatorium/MuonsWithoutCleaning_intensitycut<0.3_event{i}.png\")\n",
    "                #opt_eff_cleaned.append(event_container[i].muon.tel[m].efficiency.optical_efficiency)\n",
    "                    \n",
    "plt.close()"
   ]
  },
  {
   "cell_type": "code",
   "execution_count": null,
   "id": "23",
   "metadata": {},
   "outputs": [],
   "source": [
    "for m in event.trigger.tels_with_trigger:\n",
    "    print(m)"
   ]
  },
  {
   "cell_type": "code",
   "execution_count": null,
   "id": "24",
   "metadata": {},
   "outputs": [],
   "source": [
    "int_cut = 0.3\n",
    "min_pixel = 70\n",
    "\n",
    "muon_processor_config = Config({\"MuonProcessor\": \n",
    "                                {\"RingQuery\": \n",
    "                                 {\"quality_criteria\" : [[\"intensity_check\",f\"np.abs(parameters.intensity_ratio - 1) < {int_cut}\"],\n",
    "                                                        [\"ring_containment\", \"parameters.containment > 0.5\"],\n",
    "                                                        [\"ring_completeness\", \"parameters.completeness > 0.5\"]]}}})\n",
    "\n",
    "#muon_processor_config = Config({\"MuonProcessor\":\n",
    "#                                {\"ImageParameterQuery\" :\n",
    "#                                {\"quality_criteria\" : [[\"min_pixels\", f\"dl1_params.morphology.n_pixels > {min_pixel}\"],\n",
    "#                                                        [\"min_intensity\", \"dl1_params.hillas.intensity > 500\"]]}}})\n",
    "\n",
    "muon_processor_config_2 = Config({\"MuonProcessor\":\n",
    "                                {\"ImageParameterQuery\" :\n",
    "                                 {\"quality_criteria\" : [[\"min_pixels\", f\"dl1_params.morphology.n_pixels > {min_pixel}\"],\n",
    "                                                        [\"min_intensity\", \"dl1_params.hillas.intensity > 500\"]]}}})\n",
    "\n",
    "checker = 0\n",
    "event_container = {}\n",
    "t1 = time.perf_counter(), time.process_time()\n",
    "\n",
    "for k in range(1,101):\n",
    "    filename = f'/Users/vdk/4LSTmuons/simtel_run{k}01_muon.simtel.gz'\n",
    "    print(filename)\n",
    "    source = EventSource(filename, max_events=9000)\n",
    "    event_iterator = iter(source)\n",
    "    keks = k*1000\n",
    "    checker = 0\n",
    "    for i,j in enumerate(event_iterator):\n",
    "        if len(j.trigger.tels_with_trigger) > 1:\n",
    "            for m in j.trigger.tels_with_trigger:\n",
    "                plt.figure(figsize = (9,6))\n",
    "                camgeom = source.subarray.tel[m].camera.geometry\n",
    "                title=f\"event_{i}_telescope_{m}\"\n",
    "                #title=f\"CleanedRing_{i}_optEff{round(event_container[i].muon.tel[m].efficiency.optical_efficiency,3)}_width{round(event_container[i].muon.tel[m].efficiency.width.to_value(),3)}_triggeredTel{m}\"\n",
    "                disp = CameraDisplay(camgeom,title=title)\n",
    "                #disp.image = event_container[i].simulation.tel[m].true_image\n",
    "                disp.image = j.r1.tel[m].waveform.sum(axis=1)\n",
    "                disp.cmap = plt.cm.RdBu_r\n",
    "                disp.add_colorbar()\n",
    "                disp.set_limits_percent(95)\n",
    "                reg_event_number.append(i)\n",
    "                plt.show()\n",
    "                plt.close()\n",
    "            "
   ]
  },
  {
   "cell_type": "code",
   "execution_count": null,
   "id": "25",
   "metadata": {},
   "outputs": [],
   "source": [
    "opt_eff = []\n",
    "\n",
    "for i in event_container:\n",
    "    for m in event_container[i].trigger.tels_with_trigger:\n",
    "        opt_eff.append(event_container[i].muon.tel[m].efficiency.optical_efficiency)"
   ]
  },
  {
   "cell_type": "code",
   "execution_count": null,
   "id": "26",
   "metadata": {},
   "outputs": [],
   "source": [
    "x_values = [i for i in range(len(event_container))]\n",
    "plt.scatter(x_values, opt_eff)"
   ]
  },
  {
   "cell_type": "code",
   "execution_count": null,
   "id": "27",
   "metadata": {},
   "outputs": [],
   "source": [
    "np.mean(opt_eff)"
   ]
  },
  {
   "cell_type": "code",
   "execution_count": null,
   "id": "28",
   "metadata": {},
   "outputs": [],
   "source": [
    "len(opt_eff)"
   ]
  },
  {
   "cell_type": "code",
   "execution_count": null,
   "id": "29",
   "metadata": {},
   "outputs": [],
   "source": [
    "from datetime import datetime\n",
    "\n",
    "date_string = \"21 June, 2018\"\n",
    "\n",
    "print(\"date_string =\", date_string)\n",
    "print(\"type of date_string =\", type(date_string))\n",
    "\n",
    "date_object = datetime.strptime(date_string, \"%d %B, %Y\")\n",
    "\n",
    "print(\"date_object =\", date_object)\n",
    "print(\"type of date_object =\", type(date_object))"
   ]
  },
  {
   "cell_type": "code",
   "execution_count": null,
   "id": "30",
   "metadata": {},
   "outputs": [],
   "source": []
  },
  {
   "cell_type": "code",
   "execution_count": null,
   "id": "31",
   "metadata": {},
   "outputs": [],
   "source": [
    "testtime = event.trigger.tel[1].time.to_value(\"mjd\", \"str\")"
   ]
  },
  {
   "cell_type": "code",
   "execution_count": null,
   "id": "32",
   "metadata": {},
   "outputs": [],
   "source": [
    "date_string = testtime\n",
    "\n",
    "print(\"date_string =\", date_string)\n",
    "print(\"type of date_string =\", type(date_string))\n",
    "\n",
    "date_object = datetime.strptime(date_string, \"%d %B, %Y\")\n",
    "\n",
    "print(\"date_object =\", date_object)\n",
    "print(\"type of date_object =\", type(date_object))"
   ]
  },
  {
   "cell_type": "code",
   "execution_count": null,
   "id": "33",
   "metadata": {},
   "outputs": [],
   "source": [
    "np.count_nonzero(event.simulation.tel[4].true_image)"
   ]
  },
  {
   "cell_type": "code",
   "execution_count": null,
   "id": "34",
   "metadata": {},
   "outputs": [],
   "source": [
    "filename = f'/Users/vdk/LST/4LSTmuons/simtel_run101_muon.simtel.gz'\n",
    "source = EventSource(filename, max_events=9000)\n",
    "event_iterator = iter(source)\n"
   ]
  },
  {
   "cell_type": "code",
   "execution_count": null,
   "id": "35",
   "metadata": {},
   "outputs": [],
   "source": [
    "event = next(event_iterator)"
   ]
  },
  {
   "cell_type": "code",
   "execution_count": null,
   "id": "36",
   "metadata": {},
   "outputs": [],
   "source": [
    "print(np.max(event.r1.tel[3].waveform))"
   ]
  },
  {
   "cell_type": "code",
   "execution_count": null,
   "id": "37",
   "metadata": {},
   "outputs": [],
   "source": [
    "image_processor = ImageProcessor(source.subarray)\n",
    "muon_processor = MuonProcessor(source.subarray)\n",
    "calib = CameraCalibrator(image_extractor_type=\"GlobalPeakWindowSum\",subarray = source.subarray)\n",
    "calib(event)\n",
    "image_processor(event)\n",
    "muon_processor(event)"
   ]
  },
  {
   "cell_type": "code",
   "execution_count": null,
   "id": "38",
   "metadata": {},
   "outputs": [],
   "source": [
    "print(event.r0.tel[4].waveform[1])"
   ]
  },
  {
   "cell_type": "code",
   "execution_count": null,
   "id": "39",
   "metadata": {},
   "outputs": [],
   "source": [
    "source.subarray.peek()"
   ]
  },
  {
   "cell_type": "code",
   "execution_count": null,
   "id": "40",
   "metadata": {},
   "outputs": [],
   "source": [
    "import pickle"
   ]
  },
  {
   "cell_type": "code",
   "execution_count": null,
   "id": "41",
   "metadata": {},
   "outputs": [],
   "source": [
    "with open(\"/Users/vdk/pickle_dump_4LSTstereoMuons.pkl\", \"rb\") as input_file:\n",
    "    events = pickle.load(input_file)"
   ]
  },
  {
   "cell_type": "code",
   "execution_count": null,
   "id": "42",
   "metadata": {},
   "outputs": [],
   "source": [
    "for event in events:\n",
    "    print(event)"
   ]
  },
  {
   "cell_type": "code",
   "execution_count": null,
   "id": "43",
   "metadata": {},
   "outputs": [],
   "source": [
    "events.r1.tel[1].waveform"
   ]
  },
  {
   "cell_type": "code",
   "execution_count": null,
   "id": "44",
   "metadata": {},
   "outputs": [],
   "source": [
    "\n",
    "plt.figure(figsize = (18,12))\n",
    "camgeom = source.subarray.tel[1].camera.geometry\n",
    "title = f'1'\n",
    "disp = CameraDisplay(camgeom,title=title)\n",
    "#disp.highlight_pixels(pixel_mask)\n",
    "disp.image = events.r1.tel[4].waveform.sum(axis = 1)\n",
    "disp.cmap = plt.cm.Reds\n",
    "disp.add_colorbar()\n",
    "disp.set_limits_percent(95)\n",
    "#disp.set_limits_minmax(0,20)\n",
    "plt.show()"
   ]
  },
  {
   "cell_type": "code",
   "execution_count": null,
   "id": "45",
   "metadata": {},
   "outputs": [],
   "source": [
    "for tel in events.trigger.tels_with_trigger:\n",
    "    print(tel)"
   ]
  },
  {
   "cell_type": "code",
   "execution_count": null,
   "id": "46",
   "metadata": {},
   "outputs": [],
   "source": [
    "event.index.event_id"
   ]
  },
  {
   "cell_type": "code",
   "execution_count": null,
   "id": "47",
   "metadata": {},
   "outputs": [],
   "source": []
  },
  {
   "cell_type": "markdown",
   "id": "48",
   "metadata": {},
   "source": [
    "## Prod6 FIXCHI200 production"
   ]
  },
  {
   "cell_type": "code",
   "execution_count": null,
   "id": "49",
   "metadata": {},
   "outputs": [],
   "source": [
    "int_cut = 0.3\n",
    "min_pixel = 70\n",
    "completeness = 0.9\n",
    "containment = 0.5\n",
    "\n",
    "muon_processor_config = Config({\n",
    "                                \"MuonProcessor\": {\n",
    "                                    \"RingQuery\": {\n",
    "                                        \"quality_criteria\" : [[\"intensity_check\",f\"np.abs(parameters.intensity_ratio - 1) < {int_cut}\"],\n",
    "                                                        [\"ring_containment\", f\"parameters.containment > {containment}\"],\n",
    "                                                        [\"ring_completeness\", f\"parameters.completeness > {completeness}\"]]},\n",
    "                                    \"ImageParameterQuery\" : {\n",
    "                                        \"quality_criteria\" : [[\"min_pixels\", f\"dl1_params.morphology.n_pixels > {min_pixel}\"],\n",
    "                                                        [\"min_intensity\", \"dl1_params.hillas.intensity > 500\"]]},\n",
    "                                    \"MuonIntensityFitter\" : {\n",
    "                                        \"hole_radius_m\" : [[\"type\", \"LST_*\", 0.308]]\n",
    "                                    }}})\n",
    "\n",
    "checker = 0\n",
    "event_container = {}\n",
    "t1 = time.perf_counter(), time.process_time()\n",
    "event_ids = []\n",
    "impacts = []\n",
    "widths = []\n",
    "\n",
    "\n",
    "filename = f'/Users/vdk/UnrealLST/simtel_investigations/run901_muon.simtel.gz' # mono stereo\n",
    "filename = f'/Users/vdk/UnrealLST/simtel_investigations/run1001_muon.simtel.gz' # stereo stereo\n",
    "\n",
    "print(filename)\n",
    "source = EventSource(filename)\n",
    "event_iterator = iter(source)\n",
    "checker = 0\n",
    "for i,event in enumerate(event_iterator):\n",
    "    for m in event.trigger.tels_with_trigger:\n",
    "        checker += 1\n",
    "        image_processor = ImageProcessor(source.subarray)\n",
    "        muon_processor = MuonProcessor(source.subarray, config = muon_processor_config)\n",
    "        calib = CameraCalibrator(image_extractor_type=\"GlobalPeakWindowSum\",subarray = source.subarray)\n",
    "        \n",
    "        #print(f\"Non Muon Event Telescope with stereo trigger = {event.trigger.tels_with_trigger}\")\n",
    "        calib(event)\n",
    "        image_processor(event)\n",
    "        muon_processor(event)\n",
    "        for tel in event.trigger.tels_with_trigger:\n",
    "            if not np.isnan(event.muon.tel[tel].efficiency.width):\n",
    "                plt.figure(figsize = (9,6))\n",
    "                camgeom = source.subarray.tel[1].camera.geometry\n",
    "                title = f'event {event.index.event_id} in telescope {tel} and energy = {event.shower.simulation.energy}'\n",
    "                disp = CameraDisplay(camgeom,title=title)\n",
    "                disp.image = event.dl1.tel[tel].image\n",
    "                disp.cmap = plt.cm.Reds\n",
    "                disp.add_colorbar()\n",
    "                disp.set_limits_percent(95)\n",
    "                plt.show()\n",
    "                print(f\"Muon Event Telescope with stereo trigger = {event.trigger.tels_with_trigger}\")\n",
    "                event_container[i] = event\n",
    "                event_ids.append(event.index.event_id)\n",
    "                impacts.append(event.muon.tel[tel].efficiency.impact)\n",
    "                widths.append(event.muon.tel[tel].efficiency.width)\n",
    "t2 = time.perf_counter(), time.process_time()\n",
    "print(\"checker = \", checker)   \n",
    "plt.close()\n",
    "print(f\" Real time: {t2[0] - t1[0]:.2f} seconds\")\n",
    "print(f\" CPU time: {t2[1] - t1[1]:.2f} seconds\")"
   ]
  },
  {
   "cell_type": "code",
   "execution_count": null,
   "id": "50",
   "metadata": {},
   "outputs": [],
   "source": [
    "event_container.keys()"
   ]
  },
  {
   "cell_type": "code",
   "execution_count": null,
   "id": "51",
   "metadata": {},
   "outputs": [],
   "source": [
    "event_container[83].trigger.tels_with_trigger"
   ]
  },
  {
   "cell_type": "code",
   "execution_count": null,
   "id": "52",
   "metadata": {},
   "outputs": [],
   "source": [
    "print(event_container[83].simulation.shower)"
   ]
  },
  {
   "cell_type": "code",
   "execution_count": null,
   "id": "53",
   "metadata": {},
   "outputs": [],
   "source": [
    "print(event_container[83].muon.tel[3].efficiency)"
   ]
  },
  {
   "cell_type": "code",
   "execution_count": null,
   "id": "54",
   "metadata": {},
   "outputs": [],
   "source": [
    "print(event_container[83].muon.tel[4].efficiency)"
   ]
  },
  {
   "cell_type": "code",
   "execution_count": null,
   "id": "55",
   "metadata": {},
   "outputs": [],
   "source": [
    "event"
   ]
  },
  {
   "cell_type": "code",
   "execution_count": null,
   "id": "56",
   "metadata": {},
   "outputs": [],
   "source": [
    "print(event.pointing)"
   ]
  },
  {
   "cell_type": "code",
   "execution_count": null,
   "id": "57",
   "metadata": {},
   "outputs": [],
   "source": [
    "print(event.trigger.tel[3])"
   ]
  },
  {
   "cell_type": "code",
   "execution_count": null,
   "id": "58",
   "metadata": {},
   "outputs": [],
   "source": [
    "source.subarray.tel[1]"
   ]
  },
  {
   "cell_type": "code",
   "execution_count": null,
   "id": "59",
   "metadata": {},
   "outputs": [],
   "source": []
  },
  {
   "cell_type": "code",
   "execution_count": null,
   "id": "60",
   "metadata": {},
   "outputs": [],
   "source": [
    "print(source.subarray.tel[1].camera.geometry)"
   ]
  },
  {
   "cell_type": "code",
   "execution_count": null,
   "id": "61",
   "metadata": {},
   "outputs": [],
   "source": [
    "print(source.subarray.tel)"
   ]
  },
  {
   "cell_type": "code",
   "execution_count": null,
   "id": "62",
   "metadata": {},
   "outputs": [],
   "source": [
    "source.subarray.tels"
   ]
  },
  {
   "cell_type": "code",
   "execution_count": null,
   "id": "63",
   "metadata": {},
   "outputs": [],
   "source": [
    "int_cut = 0.3\n",
    "min_pixel = 70\n",
    "\n",
    "# MuonIntensityFitter : \n",
    "#   hole_radius_m : [[\"type\", \"LST_*\", 0.308]]\n",
    "\n",
    "# muon_processor_config = Config({\"MuonProcessor\": \n",
    "#                                 {\"RingQuery\": \n",
    "#                                  {\"quality_criteria\" : [[\"intensity_check\",f\"np.abs(parameters.intensity_ratio - 1) < {int_cut}\"],\n",
    "#                                                         [\"ring_containment\", \"parameters.containment > 0.5\"],\n",
    "#                                                         [\"ring_completeness\", \"parameters.completeness > 0.5\"]]}}})\n",
    "\n",
    "# #muon_processor_config = Config({\"MuonProcessor\":\n",
    "# #                                {\"ImageParameterQuery\" :\n",
    "# #                                {\"quality_criteria\" : [[\"min_pixels\", f\"dl1_params.morphology.n_pixels > {min_pixel}\"],\n",
    "# #                                                        [\"min_intensity\", \"dl1_params.hillas.intensity > 500\"]]}}})\n",
    "\n",
    "# muon_processor_config_2 = Config({\"MuonProcessor\":\n",
    "#                                 {\"ImageParameterQuery\" :\n",
    "#                                  {\"quality_criteria\" : [[\"min_pixels\", f\"dl1_params.morphology.n_pixels > {min_pixel}\"],\n",
    "#                                                         [\"min_intensity\", \"dl1_params.hillas.intensity > 500\"]]}}})\n",
    "\n",
    "\n",
    "muon_processor_config = Config({\n",
    "                                \"MuonProcessor\": {\n",
    "                                    \"RingQuery\": {\n",
    "                                        \"quality_criteria\" : [[\"intensity_check\",f\"np.abs(parameters.intensity_ratio - 1) < {int_cut}\"],\n",
    "                                                        [\"ring_containment\", \"parameters.containment > 0.3\"],\n",
    "                                                        [\"ring_completeness\", \"parameters.completeness > 0.3\"]]},\n",
    "                                    \"ImageParameterQuery\" : {\n",
    "                                        \"quality_criteria\" : [[\"min_pixels\", f\"dl1_params.morphology.n_pixels > {min_pixel}\"],\n",
    "                                                        [\"min_intensity\", \"dl1_params.hillas.intensity > 500\"]]},\n",
    "                                    \"MuonIntensityFitter\" : {\n",
    "                                        \"hole_radius_m\" : [[\"type\", \"MST_*\", 0.108]]\n",
    "                                    }}})\n",
    "\n",
    "checker = 0\n",
    "event_container = {}\n",
    "t1 = time.perf_counter(), time.process_time()\n",
    "event_ids = []\n",
    "impacts = []\n",
    "widths = []\n",
    "filename = f'/Users/vdk/Software/ctasoft/calibpipe/calibpipe/tests/data/throughput/run101_muon_mst.simtel.gz'\n",
    "print(filename)\n",
    "source = EventSource(filename)\n",
    "event_iterator = iter(source)\n",
    "checker = 0\n",
    "for i,event in enumerate(event_iterator):\n",
    "    for m in event.trigger.tels_with_trigger:\n",
    "        print(event.trigger.tels_with_trigger)\n",
    "        checker += 1\n",
    "        image_processor = ImageProcessor(source.subarray)\n",
    "        muon_processor = MuonProcessor(source.subarray, config = muon_processor_config)\n",
    "        #muon_processor = MuonProcessor(source.subarray)\n",
    "        calib = CameraCalibrator(image_extractor_type=\"GlobalPeakWindowSum\",subarray = source.subarray)\n",
    "        #print(f\"Non Muon Event Telescope with stereo trigger = {event.trigger.tels_with_trigger}\")\n",
    "        calib(event)\n",
    "        image_processor(event)\n",
    "        muon_processor(event)\n",
    "        plt.figure(figsize = (9,6))\n",
    "        camgeom = source.subarray.tel[1].camera.geometry\n",
    "        title = f'event {event.index.event_id} in telescope {m}'\n",
    "        disp = CameraDisplay(camgeom,title=title)\n",
    "        disp.image = event.r1.tel[1].waveform.sum(axis = 1)\n",
    "        # disp.image = event.dl1.tel[m].image\n",
    "        # disp.cmap = plt.cm.Reds\n",
    "        # disp.add_colorbar()\n",
    "        # disp.set_limits_percent(95)\n",
    "        plt.show()\n",
    "        for m in event.muon.tel.keys():\n",
    "            if not np.isnan(event.muon.tel[m].efficiency.width):\n",
    "                #print(\"I am here\")\n",
    "                plt.figure(figsize = (9,6))\n",
    "                camgeom = source.subarray.tel[1].camera.geometry\n",
    "                title = f'event {event.index.event_id} in telescope {m}'\n",
    "                disp = CameraDisplay(camgeom,title=title)\n",
    "                disp.image = event.r1.tel[m].waveform.sum(axis = 1)\n",
    "                # disp.image = event.dl1.tel[m].image\n",
    "                # disp.cmap = plt.cm.Reds\n",
    "                # disp.add_colorbar()\n",
    "                # disp.set_limits_percent(95)\n",
    "                plt.show()\n",
    "                #print(f\"Muon Event Telescope with stereo trigger = {event.trigger.tels_with_trigger}\")\n",
    "                event_container[keks+i] = event\n",
    "                event_ids.append(event.index.event_id)\n",
    "                impacts.append(event.muon.tel[m].efficiency.impact)\n",
    "                widths.append(event.muon.tel[m].efficiency.width)\n",
    "t2 = time.perf_counter(), time.process_time()\n",
    "print(\"checker = \", checker)   \n",
    "#plt.close()\n",
    "print(f\" Real time: {t2[0] - t1[0]:.2f} seconds\")\n",
    "print(f\" CPU time: {t2[1] - t1[1]:.2f} seconds\")"
   ]
  },
  {
   "cell_type": "code",
   "execution_count": null,
   "id": "64",
   "metadata": {},
   "outputs": [],
   "source": [
    "source.subarray.positions"
   ]
  },
  {
   "cell_type": "code",
   "execution_count": null,
   "id": "65",
   "metadata": {},
   "outputs": [],
   "source": [
    "source.subarray.__dir__()"
   ]
  },
  {
   "cell_type": "code",
   "execution_count": null,
   "id": "66",
   "metadata": {},
   "outputs": [],
   "source": [
    "event.trigger"
   ]
  },
  {
   "cell_type": "code",
   "execution_count": null,
   "id": "67",
   "metadata": {},
   "outputs": [],
   "source": []
  },
  {
   "cell_type": "code",
   "execution_count": null,
   "id": "68",
   "metadata": {},
   "outputs": [],
   "source": []
  }
 ],
 "metadata": {
  "kernelspec": {
   "display_name": "cta",
   "language": "python",
   "name": "python3"
  },
  "language_info": {
   "codemirror_mode": {
    "name": "ipython",
    "version": 3
   },
   "file_extension": ".py",
   "mimetype": "text/x-python",
   "name": "python",
   "nbconvert_exporter": "python",
   "pygments_lexer": "ipython3",
   "version": "3.10.14"
  }
 },
 "nbformat": 4,
 "nbformat_minor": 5
}
