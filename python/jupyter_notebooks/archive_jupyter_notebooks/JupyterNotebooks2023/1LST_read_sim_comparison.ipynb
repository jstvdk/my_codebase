{
 "cells": [
  {
   "cell_type": "code",
   "execution_count": null,
   "metadata": {},
   "outputs": [],
   "source": [
    "from  ctapipe.io import EventSource\n",
    "from traitlets.config import Config\n",
    "from ctapipe.image import ImageProcessor\n",
    "from ctapipe.image.muon import MuonProcessor\n",
    "from ctapipe.calib import CameraCalibrator\n",
    "import numpy as np\n",
    "import matplotlib.pyplot as plt\n",
    "from ctapipe.visualization import CameraDisplay"
   ]
  },
  {
   "cell_type": "code",
   "execution_count": null,
   "metadata": {},
   "outputs": [],
   "source": []
  },
  {
   "attachments": {},
   "cell_type": "markdown",
   "metadata": {},
   "source": [
    "## Preparing events for further processing"
   ]
  },
  {
   "cell_type": "code",
   "execution_count": null,
   "metadata": {},
   "outputs": [],
   "source": [
    "intensity_cut = 0.3\n",
    "counter = 0\n",
    "event_container = {}\n",
    "\n",
    "\n",
    "muon_processor_config = Config({\"MuonProcessor\": \n",
    "                                {\"RingQuery\": \n",
    "                                 {\"quality_criteria\" : [[\"intensity_check\",f\"np.abs(parameters.intensity_ratio - 1) < {intensity_cut}\"],\n",
    "                                                        [\"ring_containment\", \"parameters.containment > 0.5\"],\n",
    "                                                        [\"ring_completeness\", \"parameters.completeness > 0.5\"]]}}})\n",
    "\n",
    "image_processor = ImageProcessor(source.subarray)\n",
    "muon_processor = MuonProcessor(source.subarray, config = muon_processor_config)\n",
    "calib = CameraCalibrator(image_extractor_type=\"GlobalPeakWindowSum\",subarray = source.subarray)\n",
    "\n",
    "for run in range(0,1):\n",
    "    filename = f'/Users/vdk/simulations/corsika_theta_30.390_az_93.640_run49{run}.simtel.gz'\n",
    "    source = EventSource(filename)\n",
    "    event_iterator = iter(source)\n",
    "\n",
    "    for i,event in enumerate(event_iterator):\n",
    "        #calib(event)\n",
    "        #image_processor(event)\n",
    "        #muon_processor(event)\n",
    "        \n",
    "        #print(event.simulation.tel[2].true_image.shape)\n",
    "        print(event.trigger.tels_with_trigger)\n",
    "        if not np.isnan(event.muon.tel[1].efficiency.width):\n",
    "            event_container[run*1000+i] = event"
   ]
  },
  {
   "cell_type": "code",
   "execution_count": null,
   "metadata": {},
   "outputs": [],
   "source": [
    "print(event_container[list(event_container.keys())[1]].muon.tel[1].efficiency)"
   ]
  },
  {
   "cell_type": "code",
   "execution_count": null,
   "metadata": {},
   "outputs": [],
   "source": [
    "eventik = event_container[list(event_container.keys())[0]]\n",
    "j = eventik\n",
    "teln = 1\n",
    "fig, axes = plt.subplots(2, 1, sharex=False, gridspec_kw={'height_ratios': [1, 1]}, figsize=(9,12))\n",
    "fig.subplots_adjust(hspace=0.2)\n",
    "ax = axes[0]\n",
    "camgeom = source.subarray.tel[1].camera.geometry\n",
    "#title=f\"event{event_number}_fit{round(j.muon.tel[teln].efficiency.optical_efficiency,3)}_width{round(j.muon.tel[teln].efficiency.width.to_value(),3)}\"\n",
    "title =1 \n",
    "disp = CameraDisplay(camgeom,title=title, ax = ax)\n",
    "#disp.image = event.r1.tel[teln].waveform[:,11]\n",
    "#disp.image = event.dl0.tel[teln].waveform[:,11]\n",
    "disp.image = j.simulation.tel[teln].true_image #.sum(axis=1)\n",
    "disp.cmap = plt.cm.RdBu_r\n",
    "disp.add_colorbar()\n",
    "disp.set_limits_percent(95)\n",
    "bx = axes[1]\n",
    "for pix_id in range(0,1855):\n",
    "    #bx.plot(j.r0.tel[teln].waveform[0][pix_id], label=\"pix {}\".format(pix_id), drawstyle='steps')\n",
    "    bx.plot(j.r1.tel[teln].waveform[pix_id], label=\"pix {}\".format(pix_id), drawstyle='steps')"
   ]
  },
  {
   "attachments": {},
   "cell_type": "markdown",
   "metadata": {},
   "source": [
    "## Timesample of muon rings and protons"
   ]
  },
  {
   "attachments": {},
   "cell_type": "markdown",
   "metadata": {},
   "source": [
    "### Real Data"
   ]
  },
  {
   "cell_type": "code",
   "execution_count": null,
   "metadata": {},
   "outputs": [],
   "source": [
    "filename = '/fefs/aswg/data/real/R0/20231007/LST-1.2.Run14948.0001.fits.fz'\n",
    "# cfg = Config({\n",
    "#     \"source_config\": {\n",
    "#         \"EventSource\" : {\n",
    "#             \"allowed_tels\": [1],\"max_events\": 99999}},\n",
    "#         \"PointingSource\":{\n",
    "#             \"drive_report_path\": '/fefs/onsite/monitoring/driveLST1/DrivePositioning/DrivePosition_log_20231005.txt'},\n",
    "#         \"LSTR0Corrections\": {\n",
    "#           \"calib_scale_high_gain\":1.088,\n",
    "#           \"calib_scale_low_gain\":1.004,\n",
    "#           \"drs4_pedestal_path\": '/fefs/aswg/data/real/monitoring/PixelCalibration/Cat-A/drs4_baseline/20231005/v0.10.2/drs4_pedestal.Run14905.0000.h5',\n",
    "#           \"calibration_path\": '/fefs/aswg/data/real/monitoring/PixelCalibration/Cat-A/calibration/20231005/pro/calibration_filters_52.Run14906.0000.h5',\n",
    "#           \"drs4_time_calibration_path\": '/fefs/aswg/data/real/monitoring/PixelCalibration/Cat-A/drs4_time_sampling_from_FF/20220518/v0.10.0/time_calibration.Run08349.0000.h5'\n",
    "#       }})\n",
    "\n",
    "source_cfg = Config({\n",
    "    \"source_config\": {\n",
    "        \"EventSource\" : {\n",
    "            \"allowed_tels\": [1],\"max_events\": 9999}},\n",
    "        \"PointingSource\":{\n",
    "            \"drive_report_path\": '/fefs/onsite/monitoring/driveLST1/DrivePositioning/DrivePosition_log_20231007.txt'},\n",
    "        \"LSTR0Corrections\": {\n",
    "          \"calib_scale_high_gain\":1.088,\n",
    "          \"calib_scale_low_gain\":1.004,\n",
    "          \"drs4_pedestal_path\": '/fefs/aswg/data/real/monitoring/PixelCalibration/Cat-A/drs4_baseline/20231007/v0.10.2/drs4_pedestal.Run14937.0000.h5',\n",
    "          \"calibration_path\": '/fefs/aswg/data/real/monitoring/PixelCalibration/Cat-A/calibration/20231007/v0.10.4/calibration_filters_52.Run14938.0000.h5',\n",
    "          \"drs4_time_calibration_path\": '/fefs/aswg/data/real/monitoring/PixelCalibration/Cat-A/drs4_time_sampling_from_FF/20220518/v0.10.0/time_calibration.Run08349.0000.h5'\n",
    "      }})\n",
    "\n",
    "source = EventSource(filename, max_events=10, config = source_cfg)\n",
    "event_iterator = iter(source)"
   ]
  },
  {
   "cell_type": "code",
   "execution_count": null,
   "metadata": {},
   "outputs": [],
   "source": [
    "event = next(event_iterator)"
   ]
  },
  {
   "cell_type": "code",
   "execution_count": null,
   "metadata": {},
   "outputs": [],
   "source": [
    "for pix_id in range(0,1855):\n",
    "    #bx.plot(j.r0.tel[xteln].waveform[0][pix_id], label=\"pix {}\".format(pix_id), drawstyle='steps')\n",
    "    plt.plot(event.r1.tel[1].waveform[pix_id], label=\"pix {}\".format(pix_id), drawstyle='steps')"
   ]
  },
  {
   "attachments": {},
   "cell_type": "markdown",
   "metadata": {},
   "source": [
    "## R1 max amplitude distribution"
   ]
  },
  {
   "attachments": {},
   "cell_type": "markdown",
   "metadata": {},
   "source": [
    "### Real Data"
   ]
  },
  {
   "cell_type": "code",
   "execution_count": null,
   "metadata": {},
   "outputs": [],
   "source": []
  },
  {
   "attachments": {},
   "cell_type": "markdown",
   "metadata": {},
   "source": [
    "### Simulations"
   ]
  },
  {
   "cell_type": "code",
   "execution_count": null,
   "metadata": {},
   "outputs": [],
   "source": []
  },
  {
   "cell_type": "code",
   "execution_count": null,
   "metadata": {},
   "outputs": [],
   "source": [
    "counter"
   ]
  },
  {
   "attachments": {},
   "cell_type": "markdown",
   "metadata": {},
   "source": [
    "## Variances for muons and protons"
   ]
  },
  {
   "attachments": {},
   "cell_type": "markdown",
   "metadata": {},
   "source": []
  }
 ],
 "metadata": {
  "kernelspec": {
   "display_name": "cta",
   "language": "python",
   "name": "cta"
  },
  "language_info": {
   "codemirror_mode": {
    "name": "ipython",
    "version": 3
   },
   "file_extension": ".py",
   "mimetype": "text/x-python",
   "name": "python",
   "nbconvert_exporter": "python",
   "pygments_lexer": "ipython3",
   "version": "3.11.6"
  }
 },
 "nbformat": 4,
 "nbformat_minor": 2
}
