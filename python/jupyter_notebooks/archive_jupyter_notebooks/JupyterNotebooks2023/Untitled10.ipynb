{
 "cells": [
  {
   "cell_type": "code",
   "execution_count": null,
   "id": "0",
   "metadata": {},
   "outputs": [],
   "source": [
    "import sys\n",
    "sys.path.append('/Users/vdk/GeneveWork/Code/calibpipe-main-calibpipe/')\n",
    "from astropy.io import ascii\n",
    "import numpy as np\n",
    "import pandas as pd\n",
    "import matplotlib\n",
    "import csv\n",
    "import scipy\n",
    "import matplotlib.pyplot as plt\n",
    "from seaborn import histplot\n",
    "import random\n",
    "import copy\n",
    "from os import path, makedirs\n",
    "from astropy.coordinates import SkyCoord\n",
    "from astropy.table import Table\n",
    "import astropy.units as u\n",
    "from ctapipe.containers import MuonEfficiencyContainer\n",
    "from ctapipe.coordinates import CameraFrame, TelescopeFrame\n",
    "from ctapipe.io import EventSource, EventSeeker\n",
    "import math\n",
    "from ctapipe.core import TelescopeComponent\n",
    "from ctapipe.core.traits import (\n",
    "    List,\n",
    "    Int,\n",
    "    FloatTelescopeParameter,\n",
    "    TelescopeParameter,\n",
    "    Unicode,\n",
    ")\n",
    "from ctapipe.image.cleaning import tailcuts_clean\n",
    "from ctapipe.image.muon import MuonRingFitter, MuonIntensityFitter\n",
    "from traitlets.config import Config\n",
    "from ctapipe.image import ImageProcessor\n",
    "from ctapipe.image.muon import MuonProcessor\n",
    "from ctapipe.visualization import CameraDisplay\n",
    "from ctapipe.instrument import CameraGeometry\n",
    "from ctapipe.calib import CameraCalibrator\n",
    "from traitlets.config.loader import Config, FileConfigLoader, JSONFileConfigLoader\n",
    "import pathlib\n",
    "from calibpipe.throughput import MuonCalibrator\n",
    "from traitlets.config import Config\n",
    "from astropy.time import Time\n",
    "from astropy.coordinates import EarthLocation,SkyCoord, AltAz \n",
    "from traitlets.config import Config\n",
    "import time\n",
    "\n",
    "\n",
    "\n",
    "\n"
   ]
  },
  {
   "cell_type": "code",
   "execution_count": null,
   "id": "1",
   "metadata": {},
   "outputs": [],
   "source": [
    "energies_all = []\n",
    "counter = 0\n",
    "for k in range(1,11):\n",
    "    filename = f'/Users/vdk/output_lst1_12Septv1/corsika_theta_0.0_az_180.0_run{k}.simtel.gz'\n",
    "    source = EventSource(filename)\n",
    "    event_iterator = iter(source)\n",
    "    keks = k*1000\n",
    "    for i,j in enumerate(event_iterator):\n",
    "        counter += 1\n",
    "        energies_all.append(j.simulation.shower.energy)"
   ]
  },
  {
   "cell_type": "code",
   "execution_count": null,
   "id": "2",
   "metadata": {},
   "outputs": [],
   "source": [
    "len(energies_all)"
   ]
  },
  {
   "cell_type": "code",
   "execution_count": null,
   "id": "3",
   "metadata": {},
   "outputs": [],
   "source": [
    "counter"
   ]
  },
  {
   "cell_type": "code",
   "execution_count": null,
   "id": "4",
   "metadata": {},
   "outputs": [],
   "source": [
    "event_container = np.array([])\n",
    "for k in range(1,11):\n",
    "    filename = f'/Users/vdk/output_lst1_12Septv1/corsika_theta_0.0_az_180.0_run{k}.simtel.gz'\n",
    "    source = EventSource(filename)\n",
    "    event_iterator = iter(source)\n",
    "    for i,j in enumerate(event_iterator):\n",
    "        event_container = np.append(event_container, j)"
   ]
  },
  {
   "cell_type": "code",
   "execution_count": null,
   "id": "5",
   "metadata": {},
   "outputs": [],
   "source": [
    "len(event_container)"
   ]
  },
  {
   "cell_type": "code",
   "execution_count": null,
   "id": "6",
   "metadata": {},
   "outputs": [],
   "source": [
    "source.subarray.peek()"
   ]
  },
  {
   "cell_type": "code",
   "execution_count": null,
   "id": "7",
   "metadata": {},
   "outputs": [],
   "source": [
    "energies_all = []\n",
    "for i in event_container:\n",
    "    energies_all.append(i.simulation.shower.energy.to_value())"
   ]
  },
  {
   "cell_type": "code",
   "execution_count": null,
   "id": "8",
   "metadata": {},
   "outputs": [],
   "source": [
    "histplot(energies_all, log_scale = True, bins = 45)"
   ]
  },
  {
   "cell_type": "code",
   "execution_count": null,
   "id": "9",
   "metadata": {},
   "outputs": [],
   "source": [
    "###\n",
    "# Algorithm to process events and try to calibrate them\n",
    "###\n",
    "int_cut = 0.3\n",
    "min_pixel = 80\n",
    "\n",
    "muon_processor_config = Config({\"MuonProcessor\": \n",
    "                                {\"RingQuery\": \n",
    "                                 {\"quality_criteria\" : [[\"intensity_check\",f\"np.abs(parameters.intensity_ratio - 1) < {int_cut}\"],\n",
    "                                                        [\"ring_containment\", \"parameters.containment > 0.5\"],\n",
    "                                                        [\"ring_completeness\", \"parameters.completeness > 0.5\"]]}}})\n",
    "\n",
    "muon_processor_config_2 = Config({\"MuonProcessor\":\n",
    "                                {\"ImageParameterQuery\" :\n",
    "                                 {\"quality_criteria\" : [[\"min_pixels\", f\"dl1_params.morphology.n_pixels > {min_pixel}\"],\n",
    "                                                        [\"min_intensity\", \"dl1_params.hillas.intensity > 500\"]]}}})\n",
    "muons = []\n",
    "for k in range(1,11):\n",
    "    filename = f'/Users/vdk/output_lst1_12Septv1/corsika_theta_0.0_az_180.0_run{k}.simtel.gz'\n",
    "    source = EventSource(filename)\n",
    "    event_iterator = iter(source)\n",
    "    for i,event in enumerate(event_iterator):           \n",
    "        image_processor = ImageProcessor(source.subarray)\n",
    "        muon_processor = MuonProcessor(source.subarray, config = muon_processor_config)\n",
    "        calib = CameraCalibrator(\n",
    "            image_extractor_type=\"GlobalPeakWindowSum\",\n",
    "            subarray = source.subarray)\n",
    "        calib(event)\n",
    "        image_processor(event)\n",
    "        muon_processor(event)\n",
    "        if not np.isnan(event.muon.tel[1].efficiency.optical_efficiency):\n",
    "            muons.append(event)\n",
    "            \n",
    "        "
   ]
  },
  {
   "cell_type": "code",
   "execution_count": null,
   "id": "10",
   "metadata": {},
   "outputs": [],
   "source": [
    "opt_eff = []\n",
    "for muon_event in muons:\n",
    "    opt_eff.append(muon_event.muon.tel[1].efficiency.optical_efficiency)\n"
   ]
  },
  {
   "cell_type": "code",
   "execution_count": null,
   "id": "11",
   "metadata": {},
   "outputs": [],
   "source": [
    "muons[0].muon.tel[1].efficiency.optical_efficiency"
   ]
  },
  {
   "cell_type": "code",
   "execution_count": null,
   "id": "12",
   "metadata": {},
   "outputs": [],
   "source": [
    "np.mean(opt_eff)"
   ]
  },
  {
   "cell_type": "code",
   "execution_count": null,
   "id": "13",
   "metadata": {},
   "outputs": [],
   "source": [
    "### NEW CLEANING NEW CLEANING NEW CLEANING\n",
    "####\n",
    "###\n",
    "###\n",
    "\n",
    "int_cut = 0.2\n",
    "min_pixel = 200\n",
    "\n",
    "muon_processor_config = Config({\"MuonProcessor\": \n",
    "                                {\"RingQuery\": \n",
    "                                 {\"quality_criteria\" : [[\"intensity_check\",f\"np.abs(parameters.intensity_ratio - 1) < {int_cut}\"],\n",
    "                                                        [\"ring_containment\", \"parameters.containment > 0.5\"],\n",
    "                                                        [\"ring_completeness\", \"parameters.completeness > 0.5\"]]}}})\n",
    "\n",
    "muon_processor_config_2 = Config({\"MuonProcessor\":\n",
    "                                {\"ImageParameterQuery\" :\n",
    "                                 {\"quality_criteria\" : [[\"min_pixels\", f\"dl1_params.morphology.n_pixels < {min_pixel}\"],\n",
    "                                                        [\"min_intensity\", \"dl1_params.hillas.intensity > 500\"]]}}})\n",
    "\n",
    "muons_cleaned = []\n",
    "tels = 1\n",
    "for k in range(1,11):\n",
    "    filename = f'/Users/vdk/output_lst1_12Septv1/corsika_theta_0.0_az_180.0_run{k}.simtel.gz'\n",
    "    source = EventSource(filename)\n",
    "    event_iterator = iter(source)\n",
    "    for i,event in enumerate(event_iterator): \n",
    "        image_processor = ImageProcessor(source.subarray)\n",
    "        muon_processor = MuonProcessor(source.subarray, config = muon_processor_config_2)\n",
    "        calib = CameraCalibrator(image_extractor_type=\"GlobalPeakWindowSum\",subarray = source.subarray)\n",
    "        pixel_mask = []\n",
    "        for k,l in enumerate(event.r0.tel[tels].waveform[1]):\n",
    "            if np.argmax(l) in range(16,40): \n",
    "                pixel_mask.append(True)\n",
    "            else:\n",
    "                pixel_mask.append(False)\n",
    "        working_wave = event.r1.tel[tels].waveform.copy()\n",
    "        for k,l in enumerate(working_wave):\n",
    "            if pixel_mask[k]:\n",
    "                #working_wave[k] = np.zeros(40)     \n",
    "                working_wave[k] = np.mean(event.r1.tel[tels].waveform, axis = 0)\n",
    "        event.r1.tel[tels].waveform = working_wave\n",
    "    \n",
    "        calib(event)\n",
    "        image_processor(event)\n",
    "        muon_processor(event)\n",
    "        if not np.isnan(event.muon.tel[tels].efficiency.width):\n",
    "            muons_cleaned.append(event)\n",
    "      \n"
   ]
  },
  {
   "cell_type": "code",
   "execution_count": null,
   "id": "14",
   "metadata": {},
   "outputs": [],
   "source": [
    "# PROCESSING OF CLEANED IMAGES\n",
    "true_muons_cleaned = []\n",
    "\n",
    "for event in muons_cleaned:\n",
    "    if event.dl1.tel[tels].parameters.morphology.n_pixels > 30 and abs(event.muon.tel[tels].parameters.intensity_ratio - 1) < 0.3 and event.muon.tel[tels].parameters.completeness > 0.4 and event.muon.tel[tels].parameters.mean_squared_error.to_value() < 0.01:\n",
    "        print(event.index.event_id)\n",
    "        plt.figure(figsize = (9,6))\n",
    "        camgeom = source.subarray.tel[tels].camera.geometry\n",
    "        title=f\"CleanedRing{event.index.event_id}_optEff{round(event.muon.tel[tels].efficiency.optical_efficiency,3)}_width{round(event.muon.tel[tels].efficiency.width.to_value(),3)}\"\n",
    "        disp = CameraDisplay(camgeom,title=title)\n",
    "        disp.image = event.simulation.tel[tels].true_image\n",
    "        disp.cmap = plt.cm.RdBu_r\n",
    "        disp.add_colorbar()\n",
    "        disp.set_limits_percent(95)\n",
    "        #plt.show()\n",
    "        true_muons_cleaned.append(event)\n",
    "        \n",
    "plt.close()"
   ]
  },
  {
   "cell_type": "code",
   "execution_count": null,
   "id": "15",
   "metadata": {},
   "outputs": [],
   "source": [
    "cleaned_opt_eff = []\n",
    "for event in true_muons_cleaned:\n",
    "    cleaned_opt_eff.append(event.muon.tel[1].efficiency.optical_efficiency)"
   ]
  },
  {
   "cell_type": "code",
   "execution_count": null,
   "id": "16",
   "metadata": {},
   "outputs": [],
   "source": [
    "# Not cleaned dataset\n",
    "print(np.mean(opt_eff))\n",
    "print(np.std(opt_eff))\n",
    "print(len(opt_eff))"
   ]
  },
  {
   "cell_type": "code",
   "execution_count": null,
   "id": "17",
   "metadata": {},
   "outputs": [],
   "source": [
    "# Cleaned dataset\n",
    "print(np.mean(cleaned_opt_eff))\n",
    "print(np.std(cleaned_opt_eff))\n",
    "print(len(cleaned_opt_eff))"
   ]
  },
  {
   "cell_type": "code",
   "execution_count": null,
   "id": "18",
   "metadata": {},
   "outputs": [],
   "source": [
    "cleaned_completeness = []\n",
    "for i in true_muons_cleaned:\n",
    "    cleaned_completeness.append(i.muon.tel[1].parameters.completeness)\n",
    "\n",
    "completeness = []\n",
    "for i in muons:\n",
    "    completeness.append(i.muon.tel[1].parameters.completeness)"
   ]
  },
  {
   "cell_type": "code",
   "execution_count": null,
   "id": "19",
   "metadata": {},
   "outputs": [],
   "source": [
    "plt.hist(completeness,bins = 7, label = 'completeness of muon rings', histtype = 'step')\n",
    "plt.hist(cleaned_completeness,bins = 7, alpha = 1, label = 'completeness of cleaned muon rings', histtype = 'step')\n",
    "plt.xlabel(\"counts\")\n",
    "plt.ylabel(\"completeness\")\n",
    "plt.legend()"
   ]
  },
  {
   "cell_type": "code",
   "execution_count": null,
   "id": "20",
   "metadata": {},
   "outputs": [],
   "source": [
    "len(cleaned_completeness)"
   ]
  },
  {
   "cell_type": "code",
   "execution_count": null,
   "id": "21",
   "metadata": {},
   "outputs": [],
   "source": [
    "from astropy.table import Table\n",
    "\n",
    "table = {}\n",
    "\n",
    "all_muon_parameters = [\"event_id\", \"energy\", \"pointing\"]\n",
    "\n",
    "for tel_id in subarray.tels.keys():\n",
    "        table[tel_id] = Table(names=all_muon_parameters)\n",
    "table.add_row([obs_id, timestamp, muon_intensity_param.optical_efficiency])"
   ]
  },
  {
   "cell_type": "code",
   "execution_count": null,
   "id": "22",
   "metadata": {},
   "outputs": [],
   "source": [
    "import lstchain"
   ]
  },
  {
   "cell_type": "code",
   "execution_count": null,
   "id": "23",
   "metadata": {},
   "outputs": [],
   "source": []
  },
  {
   "cell_type": "code",
   "execution_count": null,
   "id": "24",
   "metadata": {},
   "outputs": [],
   "source": [
    "import h5py"
   ]
  },
  {
   "cell_type": "code",
   "execution_count": null,
   "id": "25",
   "metadata": {},
   "outputs": [],
   "source": [
    "filename = f'/Users/vdk/folder_for_test/dl1_corsika_theta_0.0_az_180.0_run1.h5'\n",
    "with h5py.File(filename,\"r\") as f:\n",
    "    print(f\"Keys: {f.keys()}\")\n",
    "    a_group_key = list(f.keys())[1]\n",
    "    print(type(f[a_group_key]))\n",
    "    data = list(f[a_group_key])\n",
    "    test = f[a_group_key]"
   ]
  },
  {
   "cell_type": "code",
   "execution_count": null,
   "id": "26",
   "metadata": {},
   "outputs": [],
   "source": [
    "fi = h5py.File(filename, 'r')"
   ]
  },
  {
   "cell_type": "code",
   "execution_count": null,
   "id": "27",
   "metadata": {},
   "outputs": [],
   "source": [
    "list(fi.keys())"
   ]
  },
  {
   "cell_type": "code",
   "execution_count": null,
   "id": "28",
   "metadata": {},
   "outputs": [],
   "source": [
    "def printname(name):\n",
    "    print(name)\n",
    "fi.visit(printname)"
   ]
  },
  {
   "cell_type": "code",
   "execution_count": null,
   "id": "29",
   "metadata": {},
   "outputs": [],
   "source": [
    "#for group in fi['dl1/event/telescope/image/LST_LSTCam'][1]:\n",
    "for group in fi['dl1/event/telescope/parameters/LST_LSTCam'][1]:\n",
    "    print(group)\n",
    "    #for item in group:\n",
    "    #    print(item)"
   ]
  },
  {
   "cell_type": "code",
   "execution_count": null,
   "id": "30",
   "metadata": {},
   "outputs": [],
   "source": [
    "len(fi['dl1/event/telescope/image/LST_LSTCam'])"
   ]
  },
  {
   "cell_type": "code",
   "execution_count": null,
   "id": "31",
   "metadata": {},
   "outputs": [],
   "source": [
    "from astropy.io import fits\n",
    "#filename_fits = '~/folder_for_test/data_table.fits'\n",
    "filename_fits = '~/folder_for_test/test_table.fits'"
   ]
  },
  {
   "cell_type": "code",
   "execution_count": null,
   "id": "32",
   "metadata": {},
   "outputs": [],
   "source": [
    "hdul = fits.open(filename_fits)"
   ]
  },
  {
   "cell_type": "code",
   "execution_count": null,
   "id": "33",
   "metadata": {},
   "outputs": [],
   "source": [
    "hdul[1].data"
   ]
  },
  {
   "cell_type": "code",
   "execution_count": null,
   "id": "34",
   "metadata": {},
   "outputs": [],
   "source": [
    "for i in range(len(hdul[1].data)):\n",
    "    if not np.isnan(hdul[1].data[i][10]):\n",
    "        print(hdul[1].data[i])"
   ]
  },
  {
   "cell_type": "code",
   "execution_count": null,
   "id": "35",
   "metadata": {},
   "outputs": [],
   "source": [
    "hdul[1].data"
   ]
  },
  {
   "cell_type": "code",
   "execution_count": null,
   "id": "36",
   "metadata": {},
   "outputs": [],
   "source": [
    "filename = f'/Users/vdk/output_lst1_12Septv1/corsika_theta_0.0_az_180.0_run1.simtel.gz'\n",
    "source = EventSource(filename)\n",
    "event_iterator = iter(source)\n",
    "counter = 0\n",
    "for i,event in enumerate(event_iterator):\n",
    "    counter+=1"
   ]
  },
  {
   "cell_type": "code",
   "execution_count": null,
   "id": "37",
   "metadata": {},
   "outputs": [],
   "source": [
    "((7.842/2)**2)*math.pi\n",
    "\n",
    "\n"
   ]
  },
  {
   "cell_type": "code",
   "execution_count": null,
   "id": "38",
   "metadata": {},
   "outputs": [],
   "source": [
    "filename_2 = f'/Users/vdk/folder_for_test/test.h5'\n",
    "fi = h5py.File(filename_2, 'r')\n",
    "list(fi.keys())"
   ]
  },
  {
   "cell_type": "code",
   "execution_count": null,
   "id": "39",
   "metadata": {},
   "outputs": [],
   "source": [
    "fi.visit(printname)"
   ]
  },
  {
   "cell_type": "code",
   "execution_count": null,
   "id": "40",
   "metadata": {},
   "outputs": [],
   "source": [
    "fi['dl1/event/telescope/image/LST_LSTCam']"
   ]
  },
  {
   "cell_type": "code",
   "execution_count": null,
   "id": "41",
   "metadata": {},
   "outputs": [],
   "source": [
    "filename = '/Users/vdk/Downloads/DL1_datacheck_20220628.h5'\n",
    "fi = h5py.File(filename, 'r')\n",
    "keys = list(fi.keys())\n",
    "\n",
    "def printname(name):\n",
    "    print(name)\n",
    "\n",
    "# Show all included tables\n",
    "fi.visit(printname)"
   ]
  },
  {
   "cell_type": "code",
   "execution_count": null,
   "id": "42",
   "metadata": {},
   "outputs": [],
   "source": [
    "for item in fi['runsummary/_i_table/mu_intensity_mean']:\n",
    "    print(item)"
   ]
  },
  {
   "cell_type": "code",
   "execution_count": null,
   "id": "43",
   "metadata": {},
   "outputs": [],
   "source": [
    "for i in fi['runsummary/_i_table/mu_intensity_mean/sorted']:\n",
    "    print(i)"
   ]
  },
  {
   "cell_type": "code",
   "execution_count": null,
   "id": "44",
   "metadata": {},
   "outputs": [],
   "source": [
    "fi['runsummary/_i_table/mu_intensity_mean/sorted'][:]"
   ]
  },
  {
   "cell_type": "code",
   "execution_count": null,
   "id": "45",
   "metadata": {},
   "outputs": [],
   "source": [
    "#fi['runsummary/_i_table/mu_intensity_mean']['indices']\n",
    "fi['cosmics/_i_table/time/zbounds']"
   ]
  },
  {
   "cell_type": "code",
   "execution_count": null,
   "id": "46",
   "metadata": {},
   "outputs": [],
   "source": [
    "run = 1000\n",
    "crab_sim_file = f'/Users/vdk/crab_sim/corsika_theta_16.087_az_108.090_run{run}.simtel.gz'\n",
    "source = EventSource(crab_sim_file)\n",
    "event_iterator = iter(source)\n",
    "counter = 0\n",
    "for i in event_iterator:\n",
    "    counter += 1"
   ]
  },
  {
   "cell_type": "code",
   "execution_count": null,
   "id": "47",
   "metadata": {},
   "outputs": [],
   "source": [
    "counter*500()"
   ]
  },
  {
   "cell_type": "code",
   "execution_count": null,
   "id": "48",
   "metadata": {},
   "outputs": [],
   "source": [
    "3/10000"
   ]
  },
  {
   "cell_type": "code",
   "execution_count": null,
   "id": "49",
   "metadata": {},
   "outputs": [],
   "source": [
    "3*3600"
   ]
  },
  {
   "cell_type": "code",
   "execution_count": null,
   "id": "50",
   "metadata": {},
   "outputs": [],
   "source": [
    "150 / 163500"
   ]
  },
  {
   "cell_type": "code",
   "execution_count": null,
   "id": "51",
   "metadata": {},
   "outputs": [],
   "source": [
    "3/10000"
   ]
  },
  {
   "cell_type": "code",
   "execution_count": null,
   "id": "52",
   "metadata": {},
   "outputs": [],
   "source": [
    "1255/10501"
   ]
  },
  {
   "cell_type": "code",
   "execution_count": null,
   "id": "53",
   "metadata": {},
   "outputs": [],
   "source": [
    "150000"
   ]
  },
  {
   "cell_type": "code",
   "execution_count": null,
   "id": "54",
   "metadata": {},
   "outputs": [],
   "source": [
    "150000 * 0.0003"
   ]
  },
  {
   "cell_type": "code",
   "execution_count": null,
   "id": "55",
   "metadata": {},
   "outputs": [],
   "source": [
    "10000 / 0.0003"
   ]
  },
  {
   "cell_type": "code",
   "execution_count": null,
   "id": "56",
   "metadata": {},
   "outputs": [],
   "source": [
    "33333333 / 1000000"
   ]
  },
  {
   "cell_type": "code",
   "execution_count": null,
   "id": "57",
   "metadata": {},
   "outputs": [],
   "source": [
    "for run in range(1001, 1100):\n",
    "    crab_sim_file = f'/Users/vdk/crab_sim/corsika_theta_16.087_az_108.090_run{run}.simtel.gz'\n",
    "    source = EventSource(crab_sim_file)\n",
    "    event_iterator = iter(source)\n",
    "    for i,event in enumerate(event_iterator): \n",
    "        #print(event.trigger.tels_with_trigger)"
   ]
  },
  {
   "cell_type": "code",
   "execution_count": null,
   "id": "58",
   "metadata": {},
   "outputs": [],
   "source": [
    "event_counter = 0\n",
    "for run in range(1001, 1100):\n",
    "    crab_sim_file = f'/Users/vdk/crab_sim/corsika_theta_16.087_az_108.090_run{run}.simtel.gz'\n",
    "    source = EventSource(crab_sim_file)\n",
    "    event_iterator = iter(source)\n",
    "    for i,event in enumerate(event_iterator):\n",
    "        event_counter += 1"
   ]
  },
  {
   "cell_type": "code",
   "execution_count": null,
   "id": "59",
   "metadata": {},
   "outputs": [],
   "source": [
    "event_counter"
   ]
  },
  {
   "cell_type": "code",
   "execution_count": null,
   "id": "60",
   "metadata": {},
   "outputs": [],
   "source": [
    "28/31405"
   ]
  },
  {
   "cell_type": "code",
   "execution_count": null,
   "id": "61",
   "metadata": {},
   "outputs": [],
   "source": [
    "3/6000"
   ]
  },
  {
   "cell_type": "code",
   "execution_count": null,
   "id": "62",
   "metadata": {},
   "outputs": [],
   "source": [
    "1100*310"
   ]
  },
  {
   "cell_type": "code",
   "execution_count": null,
   "id": "63",
   "metadata": {},
   "outputs": [],
   "source": [
    "for i in range(1,10):\n",
    "    print(i*5)"
   ]
  },
  {
   "cell_type": "code",
   "execution_count": null,
   "id": "64",
   "metadata": {},
   "outputs": [],
   "source": [
    "counter = [1,2,3]\n",
    "to_save = ['k = ', 100]\n",
    "\n",
    "to_save.append(counter)\n",
    "to_save"
   ]
  },
  {
   "cell_type": "code",
   "execution_count": null,
   "id": "65",
   "metadata": {},
   "outputs": [],
   "source": [
    "all_events = [1,2]\n",
    "stereo_events = [1,2]\n",
    "muon_ring_number = [1,2,3]\n",
    "k = 1\n",
    "start = 1\n",
    "stop = 10\n",
    "#np_arr = np.array(['all events: ', all_events, 'stereo: ', stereo_events, 'muons: ', muon_ring_number, 'run :', k])\n",
    "np.savetxt(f'/Users/vdk/muon_rings_for_runs{start}-{stop}_4LST_all_events.txt', all_events)\n",
    "np.savetxt(f'/Users/vdk/muon_rings_for_runs{start}-{stop}_4LST_stereo.txt', stereo_events)\n",
    "np.savetxt(f'/Users/vdk/muon_rings_for_runs{start}-{stop}_4LST_muon.txt', muon_ring_number)\n",
    "np.savetxt(f'/Users/vdk/muon_rings_for_runs{start}-{stop}_4LST_run.txt', [k])"
   ]
  },
  {
   "cell_type": "code",
   "execution_count": null,
   "id": "66",
   "metadata": {},
   "outputs": [],
   "source": [
    "file = '/Users/vdk/test.txt'\n",
    "for i in range(20):\n",
    "    open_file = open(file, 'a')\n",
    "    open_file.writelines(str(i)+',')\n",
    "    open_file.close()\n",
    "\n"
   ]
  },
  {
   "cell_type": "code",
   "execution_count": null,
   "id": "67",
   "metadata": {},
   "outputs": [],
   "source": [
    "for i in range(40):\n",
    "    print(i)\n",
    "    for j in range(1,25):\n",
    "        #print(\"j \", j)\n",
    "        if j%5 == 0:\n",
    "            break\n",
    "        print(\"j \", j)"
   ]
  },
  {
   "cell_type": "code",
   "execution_count": null,
   "id": "68",
   "metadata": {},
   "outputs": [],
   "source": [
    "arr1 = [1,2,3]\n",
    "arr2 = [4,5]\n",
    "\n",
    "arr1+arr2"
   ]
  },
  {
   "cell_type": "code",
   "execution_count": null,
   "id": "69",
   "metadata": {},
   "outputs": [],
   "source": []
  }
 ],
 "metadata": {
  "kernelspec": {
   "display_name": "cta",
   "language": "python",
   "name": "cta"
  },
  "language_info": {
   "codemirror_mode": {
    "name": "ipython",
    "version": 3
   },
   "file_extension": ".py",
   "mimetype": "text/x-python",
   "name": "python",
   "nbconvert_exporter": "python",
   "pygments_lexer": "ipython3",
   "version": "3.11.3"
  }
 },
 "nbformat": 4,
 "nbformat_minor": 5
}
