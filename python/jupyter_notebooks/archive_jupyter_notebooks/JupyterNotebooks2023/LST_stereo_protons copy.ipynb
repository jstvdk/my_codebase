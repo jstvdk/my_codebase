{
 "cells": [
  {
   "cell_type": "code",
   "execution_count": null,
   "id": "0",
   "metadata": {},
   "outputs": [],
   "source": [
    "import sys\n",
    "sys.path.append('/Users/vdk/GeneveWork/Code/calibpipe-main-calibpipe/')\n",
    "from astropy.io import ascii\n",
    "import numpy as np\n",
    "import pandas as pd\n",
    "import matplotlib\n",
    "import csv\n",
    "import scipy\n",
    "import matplotlib.pyplot as plt\n",
    "import random\n",
    "import copy\n",
    "from os import path, makedirs\n",
    "from astropy.coordinates import SkyCoord\n",
    "from astropy.table import Table\n",
    "import astropy.units as u\n",
    "from ctapipe.containers import MuonEfficiencyContainer\n",
    "from ctapipe.coordinates import CameraFrame, TelescopeFrame\n",
    "from ctapipe.io import EventSource, EventSeeker\n",
    "from ctapipe.core import TelescopeComponent\n",
    "from ctapipe.core.traits import (\n",
    "    List,\n",
    "    Int,\n",
    "    FloatTelescopeParameter,\n",
    "    TelescopeParameter,\n",
    "    Unicode,\n",
    ")\n",
    "from ctapipe.image.cleaning import tailcuts_clean\n",
    "from ctapipe.image.muon import MuonRingFitter, MuonIntensityFitter\n",
    "from traitlets.config import Config\n",
    "from ctapipe.image import ImageProcessor\n",
    "from ctapipe.image.muon import MuonProcessor\n",
    "from ctapipe.visualization import CameraDisplay\n",
    "from ctapipe.instrument import CameraGeometry\n",
    "from ctapipe.calib import CameraCalibrator\n",
    "from traitlets.config.loader import Config, FileConfigLoader, JSONFileConfigLoader\n",
    "import pathlib\n",
    "from calibpipe.throughput import MuonCalibrator\n",
    "from traitlets.config import Config\n",
    "from astropy.time import Time\n",
    "from astropy.coordinates import EarthLocation,SkyCoord, AltAz "
   ]
  },
  {
   "cell_type": "code",
   "execution_count": null,
   "id": "1",
   "metadata": {},
   "outputs": [],
   "source": [
    "filename = '/Users/vdk/sim_run_folder/output_prod_v12/corsika_theta_28.4_az_182.75_run1.simtel.gz'\n",
    "source = EventSource(filename, max_events=9000)\n",
    "event_iterator = iter(source)"
   ]
  },
  {
   "cell_type": "code",
   "execution_count": null,
   "id": "2",
   "metadata": {},
   "outputs": [],
   "source": [
    "source.subarray.peek()"
   ]
  },
  {
   "cell_type": "code",
   "execution_count": null,
   "id": "3",
   "metadata": {},
   "outputs": [],
   "source": [
    "print(source.subarray.tel)"
   ]
  },
  {
   "cell_type": "code",
   "execution_count": null,
   "id": "4",
   "metadata": {},
   "outputs": [],
   "source": [
    "#filename = '/Users/vdk/MST_work/data_muons/mono_proton_simtel/proton_20deg_0deg_run2___cta-prod6-paranal-2147m-Paranal-nshow-3000-0-LSTs-1-MSTs-0-SSTs-NSCAT_5_CSCAT_300_EMIN_1_EMAX_200_after_muontag.simtel.zst'\n",
    "#filename = '/Users/vdk/MST_work/data_muons/mono_muon_simtel/muon_20deg_0deg_run0___cta-prod6-paranal-2147m-Paranal-0-LSTs-1-MSTs-0-SSTs-NSCAT_1_CSCAT_8_EMIN_0.005_EMAX_1_FIXCHI_600_VIEWCONE_3_after_muontag.simtel.zst'\n",
    "#filename = '/Users/vdk/sim_run_folder/test321.simtel.gz'\n",
    "source = EventSource(filename, max_events=9000)\n",
    "event_iterator = iter(source)\n",
    "\n",
    "\n",
    "\n",
    "for i,j in enumerate(event_iterator):\n",
    "    if i == 1:\n",
    "        telescope = 1\n",
    "        event = j\n",
    "        image_processor = ImageProcessor(source.subarray)\n",
    "        muon_processor = MuonProcessor(source.subarray)\n",
    "        calib = CameraCalibrator(\n",
    "                image_extractor_type=\"GlobalPeakWindowSum\",\n",
    "                subarray = source.subarray)\n",
    "        calib(j)\n",
    "        image_processor(j)\n",
    "        muon_processor(j)\n",
    "        fig, axes = plt.subplots(2, 1, sharex=False, gridspec_kw={'height_ratios': [1, 1]}, figsize=(9,12))\n",
    "        fig.subplots_adjust(hspace=0.2)\n",
    "        ax = axes[0]\n",
    "        camgeom = source.subarray.tel[telescope].camera.geometry\n",
    "        title=\"TrueImage run {} if {} fit {} width {}\".format(j.index.obs_id, j.index.event_id, round(j.muon.tel[telescope].efficiency.optical_efficiency, 3), round(j.muon.tel[telescope].efficiency.width.to_value(),3))\n",
    "        disp = CameraDisplay(camgeom,title=title, ax = ax)\n",
    "        disp.image = j.simulation.tel[telescope].true_image #.sum(axis=1)\n",
    "        #disp.image = event.dl1.tel[1].image\n",
    "        disp.cmap = plt.cm.RdBu_r\n",
    "        disp.add_colorbar()\n",
    "        disp.set_limits_percent(95)\n",
    "        bx = axes[1]\n",
    "        for pix_id in range(0,1764):\n",
    "            bx.plot(j.r0.tel[telescope].waveform[0][pix_id], label=\"pix {}\".format(pix_id), drawstyle='steps')\n",
    "        bx.set_ylabel(\"ADC counts\")\n",
    "        bx.set_xlabel(\"Samples\")\n",
    "        bx.set_title(\"Waveforms\")\n",
    "        plt.show()\n",
    "        #plt.savefig(f\"/Users/vdk/MST_ProtonImages_NewQualityCheck/TrueImage+Waveform_mstPROTON_event{j.index.event_id}_obs{j.index.obs_id}_numer{i}\")\n",
    "        #plt.savefig(f\"/Users/vdk/TrueImage+Waveform_mstMUON_event{j.index.event_id}_obs{j.index.obs_id}\")\n",
    "        break\n",
    "        #if i == 150:\n",
    "        #    break\n",
    "\n",
    "plt.close()"
   ]
  },
  {
   "cell_type": "code",
   "execution_count": null,
   "id": "5",
   "metadata": {},
   "outputs": [],
   "source": [
    "filename = '/Users/vdk/sim_run_folder/output_prod_v12/corsika_theta_28.4_az_182.75_run1.simtel.gz'\n",
    "source = EventSource(filename, max_events=9000)\n",
    "event_iterator = iter(source)\n",
    "for i,j in enumerate(event_iterator):\n",
    "    print(i, j.trigger.tels_with_trigger)\n",
    "    "
   ]
  },
  {
   "cell_type": "code",
   "execution_count": null,
   "id": "6",
   "metadata": {},
   "outputs": [],
   "source": [
    "filename = '/Users/vdk/sim_run_folder/output_prod_v12/corsika_theta_28.4_az_182.75_run1.simtel.gz'\n",
    "source = EventSource(filename, max_events=9000)\n",
    "event_iterator = iter(source)"
   ]
  },
  {
   "cell_type": "code",
   "execution_count": null,
   "id": "7",
   "metadata": {},
   "outputs": [],
   "source": [
    "event = next(event_iterator)"
   ]
  },
  {
   "cell_type": "code",
   "execution_count": null,
   "id": "8",
   "metadata": {},
   "outputs": [],
   "source": [
    "for i in range(len(event.trigger.tels_with_trigger)):\n",
    "    print(event.trigger.tels_with_trigger[i])\n",
    "\n",
    "\n"
   ]
  },
  {
   "cell_type": "code",
   "execution_count": null,
   "id": "9",
   "metadata": {},
   "outputs": [],
   "source": [
    "camgeom = source.subarray.tel[1].camera.geometry"
   ]
  },
  {
   "cell_type": "code",
   "execution_count": null,
   "id": "10",
   "metadata": {},
   "outputs": [],
   "source": [
    "disp = CameraDisplay(camgeom)\n",
    "disp.image = next(event_iterator).simulation.tel[3].true_image"
   ]
  },
  {
   "cell_type": "code",
   "execution_count": null,
   "id": "11",
   "metadata": {},
   "outputs": [],
   "source": [
    "event = next(event_iterator)"
   ]
  },
  {
   "cell_type": "code",
   "execution_count": null,
   "id": "12",
   "metadata": {},
   "outputs": [],
   "source": [
    "print(len(event.simulation.tel[10].true_image))"
   ]
  },
  {
   "cell_type": "code",
   "execution_count": null,
   "id": "13",
   "metadata": {},
   "outputs": [],
   "source": [
    "filename = '/Users/vdk/sim_run_folder/output_prod_v12/corsika_theta_28.4_az_182.75_run1.simtel.gz'\n",
    "source = EventSource(filename, max_events=10000)\n",
    "event_iterator = iter(source)\n",
    "\n",
    "events = [copy.deepcopy(event) for event in source]\n",
    "\n",
    "\n",
    "for i,j in enumerate(event_iterator):\n",
    "    print(f\"Telescope with data: {event.r1.tel.keys()} in the events number {i}\")"
   ]
  },
  {
   "cell_type": "code",
   "execution_count": null,
   "id": "14",
   "metadata": {},
   "outputs": [],
   "source": [
    "obstime = Time(\"2013-11-01T03:00\")\n",
    "location = EarthLocation.of_site(\"Roque de los Muchachos\")\n",
    "\n",
    "altaz = AltAz(location=location, obstime=obstime)\n",
    "\n",
    "array_pointing = SkyCoord(\n",
    "    alt=event.pointing.array_azimuth,\n",
    "    az=event.pointing.array_altitude,\n",
    "    frame=altaz,\n",
    ")\n",
    "\n",
    "print(array_pointing)"
   ]
  },
  {
   "cell_type": "code",
   "execution_count": null,
   "id": "15",
   "metadata": {},
   "outputs": [],
   "source": [
    "filename = '/Users/vdk/sim_run_folder/corsika_theta_28.4_az_182.75_run2.simtel.gz'\n",
    "source = EventSource(filename, max_events=10000)\n",
    "event_iterator = iter(source)\n",
    "\n",
    "events = [copy.deepcopy(event) for event in source]\n",
    "events[4]"
   ]
  },
  {
   "cell_type": "code",
   "execution_count": null,
   "id": "16",
   "metadata": {},
   "outputs": [],
   "source": [
    "events[12].trigger.tel[3]"
   ]
  },
  {
   "cell_type": "code",
   "execution_count": null,
   "id": "17",
   "metadata": {},
   "outputs": [],
   "source": [
    "stereo_mask = []\n",
    "for i in events:\n",
    "    check_LST1 = 1 in i.trigger.tels_with_trigger\n",
    "    check_LST2 = 2 in i.trigger.tels_with_trigger\n",
    "    if check_LST1 and check_LST2:\n",
    "        stereo_mask.append(True)\n",
    "        print(True)\n",
    "    else:\n",
    "        stereo_mask.append(False)        \n",
    "        print(False)"
   ]
  },
  {
   "cell_type": "code",
   "execution_count": null,
   "id": "18",
   "metadata": {},
   "outputs": [],
   "source": [
    "stereo_events = []\n",
    "for i,j in enumerate(events):\n",
    "    if stereo_mask[i]:\n",
    "        stereo_events.append(j)\n",
    "        print(j.trigger.tels_with_trigger)\n"
   ]
  },
  {
   "cell_type": "code",
   "execution_count": null,
   "id": "19",
   "metadata": {},
   "outputs": [],
   "source": [
    "#for i in stereo_events:\n",
    "    #print(i.trigger.tels_with_trigger)\n",
    "len(stereo_events)"
   ]
  },
  {
   "cell_type": "code",
   "execution_count": null,
   "id": "20",
   "metadata": {},
   "outputs": [],
   "source": [
    "source.subarray.peek()"
   ]
  },
  {
   "cell_type": "code",
   "execution_count": null,
   "id": "21",
   "metadata": {},
   "outputs": [],
   "source": [
    "telescope = 1\n",
    "camgeom = source.subarray.tel[telescope].camera.geometry\n",
    "disp = CameraDisplay(camgeom)\n",
    "disp.image = events[12].simulation.tel[telescope].true_image #.sum(axis=1)\n",
    "disp.cmap = plt.cm.RdBu_r\n",
    "disp.add_colorbar()"
   ]
  },
  {
   "cell_type": "code",
   "execution_count": null,
   "id": "22",
   "metadata": {},
   "outputs": [],
   "source": [
    "telescope = 3\n",
    "camgeom = source.subarray.tel[telescope].camera.geometry\n",
    "disp = CameraDisplay(camgeom)\n",
    "disp.image = events[6].simulation.tel[telescope].true_image #.sum(axis=1)\n",
    "disp.cmap = plt.cm.RdBu_r\n",
    "disp.add_colorbar()"
   ]
  },
  {
   "cell_type": "code",
   "execution_count": null,
   "id": "23",
   "metadata": {},
   "outputs": [],
   "source": [
    "stereo_events[2].trigger.tels_with_trigger"
   ]
  },
  {
   "cell_type": "code",
   "execution_count": null,
   "id": "24",
   "metadata": {},
   "outputs": [],
   "source": [
    "filename = '/Users/vdk/sim_run_folder/test123.simtel.gz'\n",
    "source = EventSource(filename, max_events=10000)\n",
    "event_iterator = iter(source)\n",
    "\n",
    "for i,j in enumerate(event_iterator):\n",
    "        telescope = 1\n",
    "        event = j\n",
    "        fig, axes = plt.subplots(2, 1, sharex=False, gridspec_kw={'height_ratios': [1, 1]}, figsize=(9,12))\n",
    "        fig.subplots_adjust(hspace=0.2)\n",
    "        ax = axes[0]\n",
    "        camgeom = source.subarray.tel[1].camera.geometry\n",
    "        title=\"TrueImage stereo trigger LST1\".format(j.index.obs_id, j.index.event_id, round(j.muon.tel[telescope].efficiency.optical_efficiency, 3), round(j.muon.tel[telescope].efficiency.width.to_value(),3))\n",
    "        disp = CameraDisplay(camgeom,title=title, ax = ax)\n",
    "        disp.image = j.simulation.tel[telescope].true_image #.sum(axis=1)\n",
    "        #disp.image = event.dl1.tel[1].image\n",
    "        disp.cmap = plt.cm.RdBu_r\n",
    "        disp.add_colorbar()\n",
    "        disp.set_limits_percent(95)\n",
    "        bx = axes[1]\n",
    "        camgeom = source.subarray.tel[1].camera.geometry\n",
    "        title=\"TrueImage stereo trigger LST1\".format(j.index.obs_id, j.index.event_id, round(j.muon.tel[telescope].efficiency.optical_efficiency, 3), round(j.muon.tel[telescope].efficiency.width.to_value(),3))\n",
    "        disp = CameraDisplay(camgeom,title=title, ax = bx)\n",
    "        disp.image = j.simulation.tel[2].true_image #.sum(axis=1)\n",
    "        #disp.image = event.dl1.tel[1].image\n",
    "        disp.cmap = plt.cm.RdBu_r\n",
    "        disp.add_colorbar()\n",
    "        disp.set_limits_percent(95)\n",
    "        #bx.set_ylabel(\"ADC counts\")\n",
    "        #bx.set_xlabel(\"\")\n",
    "        bx.set_title(\"LST2\")\n",
    "        #plt.show()\n",
    "        plt.savefig(f\"/Users/vdk/StereoProton_event{j.index.event_id}_obs{j.index.obs_id}_numer{i}\")\n",
    "        #plt.savefig(f\"/Users/vdk/TrueImage+Waveform_mstMUON_event{j.index.event_id}_obs{j.index.obs_id}\")\n",
    "        #if i == 150:\n",
    "        #    break\n",
    "\n",
    "plt.close()"
   ]
  },
  {
   "cell_type": "code",
   "execution_count": null,
   "id": "25",
   "metadata": {},
   "outputs": [],
   "source": [
    "# pipeline to extract only stereo trigger for 2 LSTs\n",
    "filename = '/Users/vdk/sim_run_folder/run1_nt2_mt2_at1.simtel.gz'\n",
    "source = EventSource(filename, max_events=10000)\n",
    "event_iterator = iter(source)\n",
    "\n",
    "events = [copy.deepcopy(event) for event in source]\n",
    "\n",
    "stereo_mask = []\n",
    "for i in events:\n",
    "    check_LST1 = 1 in i.trigger.tels_with_trigger\n",
    "    check_LST2 = 2 in i.trigger.tels_with_trigger\n",
    "    if check_LST1 and check_LST2:\n",
    "        stereo_mask.append(True)\n",
    "        #print(True)\n",
    "    else:\n",
    "        stereo_mask.append(False)        \n",
    "        #print(False)\n",
    "\n",
    "stereo_events = []\n",
    "for i,j in enumerate(events):\n",
    "    if stereo_mask[i]:\n",
    "        stereo_events.append(j)\n",
    "        #print(j.trigger.tels_with_trigger)\n",
    "\n",
    "print(\"events = \", len(events))\n",
    "print(\"stereo events = \", len(stereo_events))\n",
    "source.subarray.peek()"
   ]
  },
  {
   "cell_type": "code",
   "execution_count": null,
   "id": "26",
   "metadata": {},
   "outputs": [],
   "source": [
    "for i,j in enumerate(stereo_events):\n",
    "        telescope = 1\n",
    "        event = j\n",
    "        fig, axes = plt.subplots(2, 1, sharex=False, gridspec_kw={'height_ratios': [1, 1]}, figsize=(9,12))\n",
    "        fig.subplots_adjust(hspace=0.2)\n",
    "        ax = axes[0]\n",
    "        camgeom = source.subarray.tel[1].camera.geometry\n",
    "        title=\"TrueImage stereo trigger LST1\".format(j.index.obs_id, j.index.event_id, round(j.muon.tel[telescope].efficiency.optical_efficiency, 3), round(j.muon.tel[telescope].efficiency.width.to_value(),3))\n",
    "        disp = CameraDisplay(camgeom,title=title, ax = ax)\n",
    "        disp.image = j.simulation.tel[telescope].true_image #.sum(axis=1)\n",
    "        #disp.image = event.dl1.tel[1].image\n",
    "        disp.cmap = plt.cm.RdBu_r\n",
    "        disp.add_colorbar()\n",
    "        disp.set_limits_percent(95)\n",
    "        bx = axes[1]\n",
    "        camgeom = source.subarray.tel[1].camera.geometry\n",
    "        title=\"TrueImage stereo trigger LST1\".format(j.index.obs_id, j.index.event_id, round(j.muon.tel[telescope].efficiency.optical_efficiency, 3), round(j.muon.tel[telescope].efficiency.width.to_value(),3))\n",
    "        disp = CameraDisplay(camgeom,title=title, ax = bx)\n",
    "        disp.image = j.simulation.tel[2].true_image #.sum(axis=1)\n",
    "        #disp.image = event.dl1.tel[1].image\n",
    "        disp.cmap = plt.cm.RdBu_r\n",
    "        disp.add_colorbar()\n",
    "        disp.set_limits_percent(95)\n",
    "        #bx.set_ylabel(\"ADC counts\")\n",
    "        #bx.set_xlabel(\"\")\n",
    "        bx.set_title(\"LST2\")\n",
    "        #plt.show()\n",
    "        plt.savefig(f\"/Users/vdk/StereoProtonNT2MT2_AT1_event{j.index.event_id}_obs{j.index.obs_id}_numer{i}\")\n",
    "        #plt.savefig(f\"/Users/vdk/TrueImage+Waveform_mstMUON_event{j.index.event_id}_obs{j.index.obs_id}\")\n",
    "        #if i == 150:\n",
    "        #    break\n",
    "\n",
    "plt.close()"
   ]
  },
  {
   "cell_type": "code",
   "execution_count": null,
   "id": "27",
   "metadata": {},
   "outputs": [],
   "source": [
    "for i in stereo_events:\n",
    "    print(i.trigger.tels_with_trigger)"
   ]
  },
  {
   "cell_type": "code",
   "execution_count": null,
   "id": "28",
   "metadata": {},
   "outputs": [],
   "source": [
    "source.subarray.tels"
   ]
  },
  {
   "cell_type": "code",
   "execution_count": null,
   "id": "29",
   "metadata": {},
   "outputs": [],
   "source": [
    "# pipeline to extract only stereo trigger for 2 LSTs\n",
    "all_events = []\n",
    "for i in range(1,41):\n",
    "    filename = f'/Users/vdk/sim_run_folder/numtele2_maxtele2_arraytelescope1/corsika_theta_28.4_az_182.75_run{i}.simtel.gz'\n",
    "    source = EventSource(filename, max_events=10000)\n",
    "    events = [copy.deepcopy(event) for event in source]\n",
    "    all_events.append(events)\n",
    "\n",
    "#stereo_mask = []\n",
    "#for i in events:\n",
    "#    check_LST1 = 1 in i.trigger.tels_with_trigger\n",
    "#    check_LST2 = 2 in i.trigger.tels_with_trigger\n",
    "#    if check_LST1 and check_LST2:\n",
    "#        stereo_mask.append(True)\n",
    "#        #print(True)\n",
    "#    else:\n",
    "#        stereo_mask.append(False)        \n",
    "#        #print(False)\n",
    "\n",
    "#stereo_events = []\n",
    "#for i,j in enumerate(events):\n",
    "#    if stereo_mask[i]:\n",
    "#        stereo_events.append(j)\n",
    "#        #print(j.trigger.tels_with_trigger)\n",
    "\n",
    "#print(\"events = \", len(events))\n",
    "#print(\"stereo events = \", len(stereo_events))\n",
    "#source.subarray.peek()\n",
    "\n"
   ]
  },
  {
   "cell_type": "code",
   "execution_count": null,
   "id": "30",
   "metadata": {},
   "outputs": [],
   "source": [
    "full_stereo_events = []\n",
    "count = 0\n",
    "for j in range(1,40):\n",
    "    for i in all_events[j]:\n",
    "        count += 1\n",
    "        if len(i.trigger.tels_with_trigger) > 1:\n",
    "            full_stereo_events.append(i)"
   ]
  },
  {
   "cell_type": "code",
   "execution_count": null,
   "id": "31",
   "metadata": {},
   "outputs": [],
   "source": [
    "len(full_stereo_events)"
   ]
  },
  {
   "cell_type": "code",
   "execution_count": null,
   "id": "32",
   "metadata": {},
   "outputs": [],
   "source": [
    "count"
   ]
  },
  {
   "cell_type": "code",
   "execution_count": null,
   "id": "33",
   "metadata": {},
   "outputs": [],
   "source": [
    "2745/11191"
   ]
  },
  {
   "cell_type": "code",
   "execution_count": null,
   "id": "34",
   "metadata": {},
   "outputs": [],
   "source": [
    "checker = 0\n",
    "efficiency_container = []\n",
    "for k in range(1,40):\n",
    "    filename = f'/Users/vdk/sim_run_folder/output_prod_v12/corsika_theta_28.4_az_182.75_run{k}.simtel.gz'\n",
    "    source = EventSource(filename, max_events=9000)\n",
    "    event_iterator = iter(source)\n",
    "    for i,j in enumerate(event_iterator):\n",
    "        checker += 1\n",
    "        if len(j.trigger.tels_with_trigger) > 1:\n",
    "            image_processor = ImageProcessor(source.subarray)\n",
    "            muon_processor = MuonProcessor(source.subarray)\n",
    "            calib = CameraCalibrator(\n",
    "                image_extractor_type=\"GlobalPeakWindowSum\",\n",
    "                subarray = source.subarray)\n",
    "            calib(j)\n",
    "            image_processor(j)\n",
    "            muon_processor(j)\n",
    "            for m in j.muon.tel.keys():\n",
    "                efficiency_container.append(j.muon.tel[m].efficiency)\n",
    "            efficiency_container.append(j)\n",
    "        \n",
    "        \n",
    "            \n",
    "            \n",
    "        "
   ]
  },
  {
   "cell_type": "code",
   "execution_count": null,
   "id": "35",
   "metadata": {},
   "outputs": [],
   "source": [
    "filename = '/Users/vdk/sim_run_folder/output_prod_v12/corsika_theta_28.4_az_182.75_run1.simtel.gz'\n",
    "source = EventSource(filename, max_events=9000)\n",
    "event_iterator = iter(source)\n",
    "\n"
   ]
  },
  {
   "cell_type": "code",
   "execution_count": null,
   "id": "36",
   "metadata": {},
   "outputs": [],
   "source": [
    "event = next(event_iterator)"
   ]
  },
  {
   "cell_type": "code",
   "execution_count": null,
   "id": "37",
   "metadata": {},
   "outputs": [],
   "source": [
    "image_processor = ImageProcessor(source.subarray)\n",
    "muon_processor = MuonProcessor(source.subarray)\n",
    "calib = CameraCalibrator(image_extractor_type=\"GlobalPeakWindowSum\", subarray = source.subarray)\n",
    "calib(event)\n",
    "image_processor(event)\n",
    "muon_processor(event)"
   ]
  },
  {
   "cell_type": "code",
   "execution_count": null,
   "id": "38",
   "metadata": {},
   "outputs": [],
   "source": [
    "for i in event.muon.tel.keys():\n",
    "    print(event.muon.tel[i].efficiency)"
   ]
  },
  {
   "cell_type": "code",
   "execution_count": null,
   "id": "39",
   "metadata": {},
   "outputs": [],
   "source": [
    "test[0].width"
   ]
  },
  {
   "cell_type": "code",
   "execution_count": null,
   "id": "40",
   "metadata": {},
   "outputs": [],
   "source": []
  }
 ],
 "metadata": {
  "kernelspec": {
   "display_name": "cta",
   "language": "python",
   "name": "cta"
  },
  "language_info": {
   "codemirror_mode": {
    "name": "ipython",
    "version": 3
   },
   "file_extension": ".py",
   "mimetype": "text/x-python",
   "name": "python",
   "nbconvert_exporter": "python",
   "pygments_lexer": "ipython3",
   "version": "3.11.3"
  }
 },
 "nbformat": 4,
 "nbformat_minor": 5
}
