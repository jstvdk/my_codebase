{
 "cells": [
  {
   "cell_type": "code",
   "execution_count": null,
   "metadata": {},
   "outputs": [],
   "source": [
    "from eventio import SimTelFile\n",
    "import matplotlib.pyplot as plt\n",
    "import copy\n",
    "import numpy as np\n",
    "import csv\n",
    "from itertools import chain\n",
    "from lstchain import mc\n",
    "import numpy as np\n",
    "import astropy.units as u\n",
    "import glob\n",
    "import math"
   ]
  },
  {
   "cell_type": "markdown",
   "metadata": {},
   "source": [
    "### Scheme of 4LST configuration together with CSCAT region in Corsika simulation (blue circle)"
   ]
  },
  {
   "cell_type": "code",
   "execution_count": null,
   "metadata": {},
   "outputs": [],
   "source": [
    "telescope1 = [-70.93, -52.07]\n",
    "telescope2 = [-35.27, 66.14]\n",
    "telescope3 = [75.28, 50.49]\n",
    "telescope4 = [30.91, -64.54]\n",
    "\n",
    "# telescope5 = [-70.05, -7.23]\n",
    "# telescope6 = [-12.3, 71.29]\n",
    "# telescope7 = [71.82, 8.2]\n",
    "# telescope8 = [9.31, -68.07]\n",
    "\n",
    "telescope_ruben = np.array([[-70.05, -7.23], [-12.3, 71.29], [71.82, 8.2],[9.31, -68.07]])\n",
    "\n",
    "telescope_prod3b = np.array([[-70.04, -7.23], [-34.37, 110.98], [76.18, 95.34], [31.81, -19.70]])\n",
    "\n",
    "telescope_prod6 = np.array([[-70.91, -52.35], [-35.28, 65.92], [75.31, 50.21], [30.88,-63.78]])\n",
    "\n",
    "plt.figure(figsize=(7,7))\n",
    "\n",
    "# plt.scatter(telescope1[0],telescope1[1], label = 'LST1', marker = 'x', s =200, lw = 5)\n",
    "# plt.scatter(telescope2[0],telescope2[1], label = 'LST2', marker = 'x', s =200, lw = 5)\n",
    "# plt.scatter(telescope3[0],telescope3[1], label = 'LST3', marker = 'x', s =200, lw = 5)\n",
    "# plt.scatter(telescope4[0],telescope4[1], label = 'LST4', marker = 'x', s =200, lw = 5)\n",
    "\n",
    "plt.scatter(telescope_ruben[:,0],telescope_ruben[:,1], label = 'LST in prod3 (Ruben work)', marker = 'x', s =200, lw = 5, c='purple')\n",
    "\n",
    "plt.scatter(telescope_prod6[:,0],telescope_prod6[:,1], label = 'LST in prod6', marker = 'x', s =200, lw = 5, c='green')\n",
    "\n",
    "#plt.scatter(telescope_prod3b[:,0],telescope_prod3b[:,1], label = 'LST_prod3b', marker = 'x', s =20, lw = 5, c='red')\n",
    "\n",
    "circle2 = plt.Circle((0, 0), 150, color='b', fill=False)\n",
    "\n",
    "plt.scatter(0,0, marker = 's', c = 'k', s = 100, label = 'MSTS-01 (x=0,y=0)')\n",
    "plt.arrow(-50, 0, 100, 0,head_width=10, label = 'North', color = 'k')\n",
    "plt.arrow(0, -50, 0, 100,head_width=10, label = 'West')\n",
    "plt.plot([0,0,0],[-50,0,50])\n",
    "\n",
    "plt.xlim(-230,230)\n",
    "plt.ylim(-230,230)\n",
    "plt.grid(alpha = 0.5)\n",
    "plt.gca().add_patch(circle2)\n",
    "plt.xlabel(\"meters\")\n",
    "plt.ylabel(\"meters\")\n",
    "plt.legend(loc='upper left')\n"
   ]
  },
  {
   "cell_type": "markdown",
   "metadata": {},
   "source": [
    "#### Distance between LST telescopes in Ruben's simulation"
   ]
  },
  {
   "cell_type": "code",
   "execution_count": null,
   "metadata": {},
   "outputs": [],
   "source": [
    "print(f\"distance between LST1 and LST2 = {math.dist(telescope_ruben[0], telescope_ruben[1])}\")\n",
    "print(f\"distance between LST2 and LST3 = {math.dist(telescope_ruben[1], telescope_ruben[2])}\")\n",
    "print(f\"distance between LST3 and LST4 = {math.dist(telescope_ruben[2], telescope_ruben[3])}\")\n",
    "print(f\"distance between LST1 and LST4 = {math.dist(telescope_ruben[3], telescope_ruben[0])}\")"
   ]
  },
  {
   "cell_type": "markdown",
   "metadata": {},
   "source": [
    "#### Distance between LST telescopes in prod6"
   ]
  },
  {
   "cell_type": "code",
   "execution_count": null,
   "metadata": {},
   "outputs": [],
   "source": [
    "print(f\"distance between LST1 and LST2 = {math.dist(telescope_prod6[0], telescope_prod6[1])}\")\n",
    "print(f\"distance between LST2 and LST3 = {math.dist(telescope_prod6[1], telescope_prod6[2])}\")\n",
    "print(f\"distance between LST3 and LST4 = {math.dist(telescope_prod6[2], telescope_prod6[3])}\")\n",
    "print(f\"distance between LST1 and LST4 = {math.dist(telescope_prod6[3], telescope_prod6[0])}\")\n",
    "print(f\"distance between LST1 and LST3 = {math.dist(telescope_prod6[0], telescope_prod6[2])}\")"
   ]
  },
  {
   "cell_type": "markdown",
   "metadata": {},
   "source": [
    "### Distance between LST telescopes in prod3b"
   ]
  },
  {
   "cell_type": "code",
   "execution_count": null,
   "metadata": {},
   "outputs": [],
   "source": [
    "print(f\"distance between LST1 and LST2 = {math.dist(telescope_prod3b[0], telescope_prod3b[1])}\")\n",
    "print(f\"distance between LST2 and LST3 = {math.dist(telescope_prod3b[1], telescope_prod3b[2])}\")\n",
    "print(f\"distance between LST3 and LST4 = {math.dist(telescope_prod3b[2], telescope_prod3b[3])}\")\n",
    "print(f\"distance between LST1 and LST4 = {math.dist(telescope_prod3b[3], telescope_prod3b[0])}\")"
   ]
  },
  {
   "cell_type": "code",
   "execution_count": null,
   "metadata": {},
   "outputs": [],
   "source": [
    "alpha = np.deg2rad(1.2)\n",
    "distance = 77\n",
    "def calculate_muon_height(alpha, distance):\n",
    "    return distance / math.tan(alpha)\n",
    "\n",
    "calculate_muon_height(alpha, 6)"
   ]
  },
  {
   "cell_type": "code",
   "execution_count": null,
   "metadata": {},
   "outputs": [],
   "source": [
    "1500*math.tan(np.deg2rad(1.2))"
   ]
  },
  {
   "cell_type": "markdown",
   "metadata": {},
   "source": [
    "### Eventio processing of simtel files "
   ]
  },
  {
   "cell_type": "code",
   "execution_count": null,
   "metadata": {},
   "outputs": [],
   "source": [
    "with eventio.SimTelFile('/Users/vdk/UnrealLST/simtel_investigations/MONOSTEREO_run1001_muon.simtel.gz') as fi:\n",
    "    for i, event in enumerate(fi.iter_mc_events()):\n",
    "        #print(event.keys())\n",
    "        print(event['mc_shower']['n_profiles'])\n",
    "        if i > 50: \n",
    "            break"
   ]
  },
  {
   "cell_type": "code",
   "execution_count": null,
   "metadata": {},
   "outputs": [],
   "source": [
    "event['mc_event']"
   ]
  },
  {
   "cell_type": "code",
   "execution_count": null,
   "metadata": {},
   "outputs": [],
   "source": [
    "event.keys()\n"
   ]
  },
  {
   "cell_type": "code",
   "execution_count": null,
   "metadata": {},
   "outputs": [],
   "source": [
    "with eventio.SimTelFile('/Users/vdk/UnrealLST/simtel_investigations/ARRAYSTEREO_run1001_muon.simtel.gz') as fi:\n",
    "    for event in fi:\n",
    "        if len(event['telescope_events']) > 1:\n",
    "            print(event['telescope_events'].keys())\n",
    "            array_stereo_event = copy.deepcopy(event)"
   ]
  },
  {
   "cell_type": "code",
   "execution_count": null,
   "metadata": {},
   "outputs": [],
   "source": [
    "telescopes = []\n",
    "with eventio.SimTelFile('/Users/vdk/UnrealLST/simtel_investigations/STEREOSTEREO_run1001_muon.simtel.gz') as fi:\n",
    "    for event in fi:\n",
    "        if len(event['telescope_events']) > 1:\n",
    "            print(event['telescope_events'].keys())\n",
    "            stereo_stereo_event = copy.deepcopy(event)\n",
    "            telescopes.append(list(event['telescope_events'].keys()))"
   ]
  },
  {
   "cell_type": "code",
   "execution_count": null,
   "metadata": {},
   "outputs": [],
   "source": [
    "telescopes = []\n",
    "with eventio.SimTelFile('/Users/vdk/UnrealLST/simtel_investigations/MONOSTEREO_run1001_muon.simtel.gz') as fi:\n",
    "    for event in fi:\n",
    "        if len(event['telescope_events']) > 0:\n",
    "            #print(event['telescope_events'].keys())\n",
    "            telescopes.append(list(event['telescope_events'].keys()))"
   ]
  },
  {
   "cell_type": "code",
   "execution_count": null,
   "metadata": {},
   "outputs": [],
   "source": [
    "# Keys to extract number of triggered telescopes\n",
    "event['trigger_information']['n_triggered_telescopes']"
   ]
  },
  {
   "cell_type": "code",
   "execution_count": null,
   "metadata": {},
   "outputs": [],
   "source": []
  },
  {
   "cell_type": "code",
   "execution_count": null,
   "metadata": {},
   "outputs": [],
   "source": [
    "# array stereo event containment\n",
    "array_stereo_event"
   ]
  },
  {
   "cell_type": "code",
   "execution_count": null,
   "metadata": {},
   "outputs": [],
   "source": [
    "# stereo stereo event containment\n",
    "stereo_stereo_event"
   ]
  },
  {
   "cell_type": "code",
   "execution_count": null,
   "metadata": {},
   "outputs": [],
   "source": [
    "len(event['telescope_events'])"
   ]
  },
  {
   "cell_type": "code",
   "execution_count": null,
   "metadata": {},
   "outputs": [],
   "source": [
    "telescopes"
   ]
  },
  {
   "cell_type": "code",
   "execution_count": null,
   "metadata": {},
   "outputs": [],
   "source": [
    "\n",
    "file_name = '/Users/vdk/data_data.csv'\n",
    "\n",
    "# Write the list to a CSV file\n",
    "with open(file_name, 'w', newline='') as file:\n",
    "    writer = csv.writer(file)\n",
    "    writer.writerows(telescopes)"
   ]
  },
  {
   "cell_type": "code",
   "execution_count": null,
   "metadata": {},
   "outputs": [],
   "source": [
    "\n"
   ]
  },
  {
   "cell_type": "markdown",
   "metadata": {},
   "source": [
    "### Histograms for triggered telescopes"
   ]
  },
  {
   "cell_type": "code",
   "execution_count": null,
   "metadata": {},
   "outputs": [],
   "source": [
    "\"\"\"\n",
    "KEYWORDS:\n",
    "\n",
    "mono_stereo : /fefs/aswg/workspace/vadym.voitsekhovskyi/4LST/simtel/icrs_pmt_config.toml\n",
    "\n",
    "stereo_stereo : /fefs/aswg/workspace/vadym.voitsekhovskyi/4LST/simtel/stereo_icrc_pmt_config.toml\n",
    "\n",
    "array_stereo : /fefs/aswg/workspace/vadym.voitsekhovskyi/4LST/simtel/icrs_pmt_config_array_stereo.toml\n",
    "\n",
    "mono_mono : /fefs/aswg/workspace/vadym.voitsekhovskyi/4LST/simtel/icrs_pmt_config_nostereo.toml\n",
    "\"\"\"\n",
    "\n",
    "mono_stereo_tels = []\n",
    "with open('/Users/vdk/UnrealLST/simtel_investigations/trigger_stereo_dcheck_monostereo.txt', 'r') as fi:\n",
    "    lines = fi.readlines()\n",
    "    \n",
    "for line in lines:\n",
    "    mono_stereo_tels.append(list(map(int, line[:-1].split(','))))\n",
    "\n",
    "mono_mono_tels = []\n",
    "with open('/Users/vdk/UnrealLST/simtel_investigations/trigger_monostereo_mono.txt', 'r') as fi:\n",
    "    lines = fi.readlines()\n",
    "    \n",
    "for line in lines:\n",
    "    mono_mono_tels.append(list(map(int, line[:-1].split(','))))\n",
    "\n",
    "# =====\n",
    "mono_mono_stereo_tels = []\n",
    "with open('/Users/vdk/UnrealLST/simtel_investigations/trigger_monomono_stereo.txt', 'r') as fi:\n",
    "    lines = fi.readlines()\n",
    "    \n",
    "for line in lines:\n",
    "    mono_mono_stereo_tels.append(list(map(int, line[:-1].split(','))))\n",
    "\n",
    "mono_mono_mono_tels = []\n",
    "with open('/Users/vdk/UnrealLST/simtel_investigations/trigger_monomono_mono.txt', 'r') as fi:\n",
    "    lines = fi.readlines()\n",
    "    \n",
    "for line in lines:\n",
    "    mono_mono_mono_tels.append(list(map(int, line[:-1].split(','))))\n",
    "\n",
    "\n",
    "# =======\n",
    "stereo_stereo_tels = []\n",
    "with open('/Users/vdk/UnrealLST/simtel_investigations/trigger_stereo_stereo.txt', 'r') as fi:\n",
    "    lines = fi.readlines()\n",
    "    \n",
    "for line in lines:\n",
    "    stereo_stereo_tels.append(list(map(int, line[:-1].split(','))))\n",
    "\n",
    "\n",
    "array_stereo_tels = []\n",
    "with open('/Users/vdk/UnrealLST/simtel_investigations/trigger_array_stereo.txt', 'r') as fi:\n",
    "    lines = fi.readlines()\n",
    "    \n",
    "for line in lines:\n",
    "    array_stereo_tels.append(list(map(int, line[:-1].split(','))))\n",
    "\n",
    "#=====\n",
    "georgios_stereo_tels = []\n",
    "with open('/Users/vdk/UnrealLST/simtel_investigations/trigger_stereo_georgios.txt', 'r') as fi:\n",
    "    lines = fi.readlines()\n",
    "    \n",
    "for line in lines:\n",
    "    georgios_stereo_tels.append(list(map(int, line[:-1].split(','))))\n",
    "\n",
    "georgios_mono_tels = []\n",
    "with open('/Users/vdk/UnrealLST/simtel_investigations/trigger_mono_georgios.txt', 'r') as fi:\n",
    "    lines = fi.readlines()\n",
    "    \n",
    "for line in lines:\n",
    "    georgios_mono_tels.append(list(map(int, line[:-1].split(','))))\n",
    "\n",
    "# Array with number of triggered telescopes per event\n",
    "mono_stereo_tels_number = [len(sublist) for sublist in mono_stereo_tels]\n",
    "mono_mono_tels_number = [len(sublist) for sublist in mono_mono_tels]\n",
    "\n",
    "mono_mono_stereo_tels_number = [len(sublist) for sublist in mono_mono_stereo_tels]\n",
    "mono_mono_mono_tels_number = [len(sublist) for sublist in mono_mono_mono_tels]\n",
    "\n",
    "stereo_stereo_tels_number = [len(sublist) for sublist in stereo_stereo_tels]\n",
    "array_stereo_tels_number = [len(sublist) for sublist in array_stereo_tels]\n",
    "\n",
    "georgios_stereo_tels_number = [len(sublist) for sublist in georgios_stereo_tels]\n",
    "georgios_mono_tels_number = [len(sublist) for sublist in georgios_mono_tels]\n",
    "\n",
    "# Array with every particular telescope which was triggered\n",
    "mono_stereo_one_dim = list(chain.from_iterable(mono_stereo_tels))\n",
    "mono_mono_one_dim = list(chain.from_iterable(mono_mono_tels))\n",
    "\n",
    "mono_mono_stereo_one_dim = list(chain.from_iterable(mono_mono_stereo_tels))\n",
    "mono_mono_mono_one_dim = list(chain.from_iterable(mono_mono_mono_tels))\n",
    "\n",
    "stereo_stereo_one_dim = list(chain.from_iterable(stereo_stereo_tels))\n",
    "array_stereo_one_dim = list(chain.from_iterable(array_stereo_tels))\n",
    "\n",
    "georgios_stereo_one_dim = list(chain.from_iterable(georgios_stereo_tels))\n",
    "georgios_mono_one_dim = list(chain.from_iterable(georgios_mono_tels))\n"
   ]
  },
  {
   "cell_type": "code",
   "execution_count": null,
   "metadata": {},
   "outputs": [],
   "source": [
    "len(mono_stereo_tels_number)"
   ]
  },
  {
   "cell_type": "markdown",
   "metadata": {},
   "source": [
    "####  NO_STEREO_TRIGGER = 1 (only mono trigger)"
   ]
  },
  {
   "cell_type": "code",
   "execution_count": null,
   "metadata": {},
   "outputs": [],
   "source": [
    "bin_count, bins, _ = plt.hist(mono_mono_mono_one_dim[:300000],bins = [1,2,3,4,5], edgecolor = 'black', alpha = 0.4, density = False, align = 'left', rwidth=0.5)\n",
    "plt.grid(alpha = 0.3)\n",
    "plt.xlabel('Triggered telescope (1.0=LST1, 2.0=LST2, etc)')\n",
    "plt.ylabel('Counts')\n",
    "#plt.title(\"Mono trigger in mono_mono regime\")\n",
    "print(f\"Counts in each bin {bin_count}\")"
   ]
  },
  {
   "cell_type": "markdown",
   "metadata": {},
   "source": [
    "####  NO_STEREO_TRIGGER = 1 (only stereo trigger)"
   ]
  },
  {
   "cell_type": "code",
   "execution_count": null,
   "metadata": {},
   "outputs": [],
   "source": [
    "bin_count, bins, _ = plt.hist(mono_mono_stereo_one_dim[:300000],bins = [1,2,3,4,5], edgecolor = 'black', alpha = 0.4, density = False, align = 'left', rwidth=0.5)\n",
    "plt.grid(alpha = 0.3)\n",
    "plt.xlabel('Triggered telescope (1.0=LST1, 2.0=LST2, etc)')\n",
    "plt.ylabel('Counts')\n",
    "#plt.title(\"Stereo trigger in mono_mono regime\")\n",
    "print(f\"Counts in each bin {bin_count}\")"
   ]
  },
  {
   "cell_type": "markdown",
   "metadata": {},
   "source": [
    "####  NO_STEREO_TRIGGER = 0 (only mono trigger)"
   ]
  },
  {
   "cell_type": "code",
   "execution_count": null,
   "metadata": {},
   "outputs": [],
   "source": [
    "bin_count, bins, _ = plt.hist(mono_mono_one_dim[:300000],bins = [1,2,3,4,5], edgecolor = 'black', alpha = 0.4, density = False, align = 'left', rwidth=0.5)\n",
    "plt.grid(alpha = 0.3)\n",
    "plt.xlabel('Triggered telescope')\n",
    "plt.ylabel('Counts')\n",
    "plt.title(\"Mono trigger in mono_stereo regime\")\n",
    "print(f\"Counts in each bin {bin_count}\")\n"
   ]
  },
  {
   "cell_type": "markdown",
   "metadata": {},
   "source": [
    "####  NO_STEREO_TRIGGER = 0 (only stereo trigger)"
   ]
  },
  {
   "cell_type": "code",
   "execution_count": null,
   "metadata": {},
   "outputs": [],
   "source": [
    "bin_count, bins, _ = plt.hist(mono_stereo_one_dim,bins = [1,2,3,4,5], edgecolor = 'black', alpha = 0.4, density = True, align = 'left', rwidth=0.5)\n",
    "plt.grid(alpha = 0.3)\n",
    "plt.xlabel('Triggered telescope')\n",
    "plt.ylabel('Counts')\n",
    "plt.title(\"Stereo trigger in mono_stereo regime\")\n",
    "print(f\"Counts in each bin {bin_count}\")\n"
   ]
  },
  {
   "cell_type": "markdown",
   "metadata": {},
   "source": [
    "####  NO_STEREO_TRIGGER = DELETED (only stereo trigger) "
   ]
  },
  {
   "cell_type": "code",
   "execution_count": null,
   "metadata": {},
   "outputs": [],
   "source": [
    "bin_count, bins, _ = plt.hist(stereo_stereo_one_dim, bins = [1,2,3,4,5], edgecolor = 'black', alpha = 0.4, density = True, align = 'left', rwidth=0.5)\n",
    "plt.grid(alpha = 0.3)\n",
    "plt.xlabel('Triggered telescope (1.0=LST1, 2.0=LST2, etc)')\n",
    "plt.ylabel('Counts')\n",
    "#plt.title(\"Stereo trigger in stereo_stereo regime\")\n",
    "print(f\"Counts in each bin {bin_count}\")\n"
   ]
  },
  {
   "cell_type": "markdown",
   "metadata": {},
   "source": [
    "####  NO_STEREO_TRIGGER = DELETED (only mono trigger)"
   ]
  },
  {
   "cell_type": "code",
   "execution_count": null,
   "metadata": {},
   "outputs": [],
   "source": [
    "# DOESN'T EXISTS"
   ]
  },
  {
   "cell_type": "markdown",
   "metadata": {},
   "source": [
    "####  NO_STEREO_TRIGGER = DELETED (only stereo trigger) + prod 6 array_trigger file"
   ]
  },
  {
   "cell_type": "code",
   "execution_count": null,
   "metadata": {},
   "outputs": [],
   "source": [
    "bin_count, bins, _ = plt.hist(array_stereo_one_dim, bins = [1,2,3,4,5], edgecolor = 'black', alpha = 0.4, density = False, align = 'left', rwidth=0.5)\n",
    "plt.grid(alpha = 0.3)\n",
    "plt.xlabel('Triggered telescope')\n",
    "plt.ylabel('Counts')\n",
    "plt.title(\"Stereo trigger in array_stereo regime\")\n",
    "print(f\"Counts in each bin {bin_count}\")\n"
   ]
  },
  {
   "cell_type": "code",
   "execution_count": null,
   "metadata": {},
   "outputs": [],
   "source": [
    "bin_count, bins, _ = plt.hist(georgios_stereo_one_dim, bins = [1,2,3,4,5], edgecolor = 'black', alpha = 0.4, density = False, align = 'left', rwidth=0.5)\n",
    "plt.grid(alpha = 0.3)\n",
    "plt.xlabel('Triggered telescope')\n",
    "plt.ylabel('Counts')\n",
    "plt.title(\"Stereo trigger in array_stereo regime\")\n",
    "print(f\"Counts in each bin {bin_count}\")\n"
   ]
  },
  {
   "cell_type": "code",
   "execution_count": null,
   "metadata": {},
   "outputs": [],
   "source": [
    "bin_count, bins, _ = plt.hist(georgios_mono_one_dim, bins = [1,2,3,4,5], edgecolor = 'black', alpha = 0.4, density = False, align = 'left', rwidth=0.5)\n",
    "plt.grid(alpha = 0.3)\n",
    "plt.xlabel('Triggered telescope')\n",
    "plt.ylabel('Counts')\n",
    "plt.title(\"Stereo trigger in array_stereo regime\")\n",
    "print(f\"Counts in each bin {bin_count}\")\n"
   ]
  },
  {
   "cell_type": "markdown",
   "metadata": {},
   "source": [
    "#### Number of triggered telescopes"
   ]
  },
  {
   "cell_type": "code",
   "execution_count": null,
   "metadata": {},
   "outputs": [],
   "source": [
    "bin_count, bins, _ = plt.hist(mono_stereo_tels_number, bins = [1,2,3,4,5], edgecolor = 'black', alpha = 0.4, density = True, align = 'left', rwidth=0.5, label = 'mono_stereo')\n",
    "bin_count, bins, _ = plt.hist(stereo_stereo_tels_number, bins = [0.9,1.9,2.9,3.9,4.9], edgecolor = 'black', alpha = 0.4, density = True, align = 'left', rwidth=0.5, label = 'stereo_stereo')\n",
    "bin_count, bins, _ = plt.hist(array_stereo_tels_number, bins =  [0.8,1.8,2.8,3.8,4.8], edgecolor = 'black', alpha = 0.4, density = True, align = 'left', rwidth=0.5, label = 'array_stereo')\n",
    "bin_count, bins, _ = plt.hist(georgios_stereo_tels_number, bins =  [1,2,3,4,5], edgecolor = 'black', alpha = 0.4, density = True, align = 'left', rwidth=0.5, label = 'georgios_stereo')\n",
    "bin_count, bins, _ = plt.hist(mono_mono_tels_number, bins = [1,2,3,4,5], edgecolor = 'black', alpha = 0.4, density = True, align = 'left', rwidth=0.5, label = 'mono regime')\n",
    "bin_count, bins, _ = plt.hist(mono_mono_mono_tels_number, bins = [0.9,1.9,2.9,3.9,4.9], edgecolor = 'black', alpha = 0.4, density = True, align = 'left', rwidth=0.5, label = 'monomono regime')\n",
    "#bin_count, bins, _ = plt.hist(mono_mono_stereo_tels_number, bins = [0.9,1.9,2.9,3.9,4.9], edgecolor = 'black', alpha = 0.4, density = True, align = 'left', rwidth=0.5, label = 'monomono regime')\n",
    "plt.legend()\n",
    "plt.xlabel('Number of triggered telescopes')\n",
    "plt.ylabel('Probability density')\n",
    "plt.title(\"Triggered telescope number in different regimes\")\n",
    "#plt.ylim(0,0.1)"
   ]
  },
  {
   "cell_type": "code",
   "execution_count": null,
   "metadata": {},
   "outputs": [],
   "source": []
  },
  {
   "cell_type": "markdown",
   "metadata": {},
   "source": [
    "### Images for shower core"
   ]
  },
  {
   "cell_type": "code",
   "execution_count": null,
   "metadata": {},
   "outputs": [],
   "source": [
    "datafile_mono = \"/Users/vdk/UnrealLST/simtel_investigations/MONOSTEREO_run1001_muon.simtel.gz\"\n",
    "datafile_stereo = \"/Users/vdk/UnrealLST/simtel_investigations/STEREOSTEREO_run1001_muon.simtel.gz\"\n",
    "datafile_array = \"/Users/vdk/UnrealLST/simtel_investigations/ARRAYSTEREO_run1001_muon.simtel.gz\"\n",
    "source = SimTelFile(datafile_mono)\n",
    "source.mc_run_headers[0]\n"
   ]
  },
  {
   "cell_type": "markdown",
   "metadata": {},
   "source": [
    "#### MONO_STEREO"
   ]
  },
  {
   "cell_type": "code",
   "execution_count": null,
   "metadata": {},
   "outputs": [],
   "source": [
    "xcores = []  \n",
    "ycores = []\n",
    "xcores_sim = []\n",
    "ycores_sim = []\n",
    "Alts = []\n",
    "Azimuths = []\n",
    "PE = []\n",
    "\n",
    "\n",
    "with SimTelFile(datafile_mono) as f:\n",
    "    evt_iter = f.iter_array_events()\n",
    "    xcores_temp = []\n",
    "    ycores_temp = []\n",
    "    for event in evt_iter:\n",
    "        xcores_temp.append(event['mc_event']['xcore'])\n",
    "        ycores_temp.append(event['mc_event']['ycore']) \n",
    "        #print(event['mc_event'])\n",
    "    xcores.extend(xcores_temp)\n",
    "    ycores.extend(ycores_temp)\n",
    "\n",
    "with SimTelFile(datafile_mono) as f:\n",
    "    evt_mc_iter = f.iter_mc_events()\n",
    "    xcores_sim_temp = []\n",
    "    ycores_sim_temp = []    \n",
    "    for event in evt_mc_iter:\n",
    "        xcores_sim_temp.append(event['mc_event']['xcore'])\n",
    "        ycores_sim_temp.append(event['mc_event']['ycore'])     \n",
    "    xcores_sim.extend(xcores_sim_temp)\n",
    "    ycores_sim.extend(ycores_sim_temp)\n",
    "\n",
    "print('number of simulated events', len(xcores_sim))\n",
    "print('number of triggered events', len(xcores))"
   ]
  },
  {
   "cell_type": "code",
   "execution_count": null,
   "metadata": {},
   "outputs": [],
   "source": [
    "plt.hist2d(xcores_sim, ycores_sim, bins=(50, 50), cmap=plt.cm.jet)\n",
    "# plt.scatter(telescope1[0],telescope1[1], label = 'LST1', marker = 'x', s =200, lw = 5, c = 'k')\n",
    "# plt.scatter(telescope2[0],telescope2[1], label = 'LST2', marker = 'x', s =200, lw = 5, c = 'k')\n",
    "# plt.scatter(telescope3[0],telescope3[1], label = 'LST3', marker = 'x', s =200, lw = 5, c = 'k')\n",
    "# plt.scatter(telescope4[0],telescope4[1], label = 'LST4', marker = 'x', s =200, lw = 5, c = 'k')\n",
    "plt.colorbar()\n",
    "plt.ylabel('y core (m)')\n",
    "plt.xlabel('x core (m)')\n",
    "plt.title('Cores for simulated showers')\n",
    "plt.xlim(-150,150)\n",
    "plt.ylim(-150,150)\n",
    "#plt.savefig('SimCoresElectrons_617.png')\n",
    "plt.show()"
   ]
  },
  {
   "cell_type": "code",
   "execution_count": null,
   "metadata": {},
   "outputs": [],
   "source": [
    "plt.hist2d(xcores, ycores, bins=(50, 50), cmap=plt.cm.jet)\n",
    "# plt.scatter(telescope1[0],telescope1[1], label = 'LST1', marker = 'x', s =200, lw = 5, c = 'k')\n",
    "# plt.scatter(telescope2[0],telescope2[1], label = 'LST2', marker = 'x', s =200, lw = 5, c = 'k')\n",
    "# plt.scatter(telescope3[0],telescope3[1], label = 'LST3', marker = 'x', s =200, lw = 5, c = 'k')\n",
    "# plt.scatter(telescope4[0],telescope4[1], label = 'LST4', marker = 'x', s =200, lw = 5, c = 'k')\n",
    "plt.colorbar()\n",
    "plt.ylabel('y core (m)')\n",
    "plt.xlabel('x core (m)')\n",
    "plt.title('Cores for showers that triggered in mono')\n",
    "plt.xlim(-150,150)\n",
    "plt.ylim(-150,150)\n",
    "#plt.savefig('TrigCoresElectrons_617.png')\n",
    "plt.show()"
   ]
  },
  {
   "cell_type": "markdown",
   "metadata": {},
   "source": [
    "#### STEREO_STEREO"
   ]
  },
  {
   "cell_type": "code",
   "execution_count": null,
   "metadata": {},
   "outputs": [],
   "source": [
    "xcores = []  \n",
    "ycores = []\n",
    "xcores_sim = []\n",
    "ycores_sim = []\n",
    "Alts = []\n",
    "Azimuths = []\n",
    "PE = []\n",
    "\n",
    "\n",
    "with SimTelFile(datafile_stereo) as f:\n",
    "    evt_iter = f.iter_array_events()\n",
    "    xcores_temp = []\n",
    "    ycores_temp = []\n",
    "    for event in evt_iter:\n",
    "        xcores_temp.append(event['mc_event']['xcore'])\n",
    "        ycores_temp.append(event['mc_event']['ycore']) \n",
    "        #print(event['mc_event'])\n",
    "    xcores.extend(xcores_temp)\n",
    "    ycores.extend(ycores_temp)\n",
    "\n",
    "with SimTelFile(datafile_stereo) as f:\n",
    "    evt_mc_iter = f.iter_mc_events()\n",
    "    xcores_sim_temp = []\n",
    "    ycores_sim_temp = []    \n",
    "    for event in evt_mc_iter:\n",
    "        xcores_sim_temp.append(event['mc_event']['xcore'])\n",
    "        ycores_sim_temp.append(event['mc_event']['ycore'])     \n",
    "    xcores_sim.extend(xcores_sim_temp)\n",
    "    ycores_sim.extend(ycores_sim_temp)\n",
    "\n",
    "print('number of simulated events', len(xcores_sim))\n",
    "print('number of triggered events', len(xcores))"
   ]
  },
  {
   "cell_type": "code",
   "execution_count": null,
   "metadata": {},
   "outputs": [],
   "source": [
    "plt.hist2d(xcores_sim, ycores_sim, bins=(50, 50), cmap=plt.cm.jet)\n",
    "# plt.scatter(telescope1[0],telescope1[1], label = 'LST1', marker = 'x', s =200, lw = 5, c = 'k')\n",
    "# plt.scatter(telescope2[0],telescope2[1], label = 'LST2', marker = 'x', s =200, lw = 5, c = 'k')\n",
    "# plt.scatter(telescope3[0],telescope3[1], label = 'LST3', marker = 'x', s =200, lw = 5, c = 'k')\n",
    "# plt.scatter(telescope4[0],telescope4[1], label = 'LST4', marker = 'x', s =200, lw = 5, c = 'k')\n",
    "plt.colorbar()\n",
    "plt.ylabel('y core (m)')\n",
    "plt.xlabel('x core (m)')\n",
    "plt.title('Cores for simulated showers')\n",
    "plt.xlim(-150,150)\n",
    "plt.ylim(-150,150)\n",
    "#plt.savefig('SimCoresElectrons_617.png')\n",
    "plt.show()"
   ]
  },
  {
   "cell_type": "code",
   "execution_count": null,
   "metadata": {},
   "outputs": [],
   "source": [
    "plt.scatter(telescope1[0],telescope1[1], label = 'LST1', marker = 'x', s =200, lw = 5, c = 'k')\n",
    "plt.scatter(telescope2[0],telescope2[1], label = 'LST2', marker = 'x', s =200, lw = 5, c = 'k')\n",
    "plt.scatter(telescope3[0],telescope3[1], label = 'LST3', marker = 'x', s =200, lw = 5, c = 'k')\n",
    "plt.scatter(telescope4[0],telescope4[1], label = 'LST4', marker = 'x', s =200, lw = 5, c = 'k')\n",
    "plt.hist2d(xcores, ycores, bins=(50, 50), cmap=plt.cm.jet)\n",
    "plt.colorbar()\n",
    "plt.ylabel('y core (m)')\n",
    "plt.xlabel('x core (m)')\n",
    "plt.title('Cores for showers that triggered')\n",
    "plt.xlim(-150,150)\n",
    "plt.ylim(-150,150)\n",
    "#plt.savefig('TrigCoresElectrons_617.png')\n",
    "plt.show()"
   ]
  },
  {
   "cell_type": "markdown",
   "metadata": {},
   "source": [
    "#### ARRAY_STEREO"
   ]
  },
  {
   "cell_type": "code",
   "execution_count": null,
   "metadata": {},
   "outputs": [],
   "source": [
    "xcores = []  \n",
    "ycores = []\n",
    "xcores_sim = []\n",
    "ycores_sim = []\n",
    "Alts = []\n",
    "Azimuths = []\n",
    "PE = []\n",
    "\n",
    "\n",
    "with SimTelFile(datafile_array) as f:\n",
    "    evt_iter = f.iter_array_events()\n",
    "    xcores_temp = []\n",
    "    ycores_temp = []\n",
    "    for event in evt_iter:\n",
    "        xcores_temp.append(event['mc_event']['xcore'])\n",
    "        ycores_temp.append(event['mc_event']['ycore']) \n",
    "        #print(event['mc_event'])\n",
    "    xcores.extend(xcores_temp)\n",
    "    ycores.extend(ycores_temp)\n",
    "\n",
    "with SimTelFile(datafile_array) as f:\n",
    "    evt_mc_iter = f.iter_mc_events()\n",
    "    xcores_sim_temp = []\n",
    "    ycores_sim_temp = []    \n",
    "    for event in evt_mc_iter:\n",
    "        xcores_sim_temp.append(event['mc_event']['xcore'])\n",
    "        ycores_sim_temp.append(event['mc_event']['ycore'])     \n",
    "    xcores_sim.extend(xcores_sim_temp)\n",
    "    ycores_sim.extend(ycores_sim_temp)\n",
    "\n",
    "print('number of simulated events', len(xcores_sim))\n",
    "print('number of triggered events', len(xcores))"
   ]
  },
  {
   "cell_type": "code",
   "execution_count": null,
   "metadata": {},
   "outputs": [],
   "source": [
    "plt.hist2d(xcores_sim, ycores_sim, bins=(50, 50), cmap=plt.cm.jet)\n",
    "# plt.scatter(telescope1[0],telescope1[1], label = 'LST1', marker = 'x', s =200, lw = 5, c = 'k')\n",
    "# plt.scatter(telescope2[0],telescope2[1], label = 'LST2', marker = 'x', s =200, lw = 5, c = 'k')\n",
    "# plt.scatter(telescope3[0],telescope3[1], label = 'LST3', marker = 'x', s =200, lw = 5, c = 'k')\n",
    "# plt.scatter(telescope4[0],telescope4[1], label = 'LST4', marker = 'x', s =200, lw = 5, c = 'k')\n",
    "plt.colorbar()\n",
    "plt.ylabel('y core (m)')\n",
    "plt.xlabel('x core (m)')\n",
    "plt.title('Cores for simulated showers')\n",
    "plt.xlim(-200,200)\n",
    "plt.ylim(-150,150)\n",
    "#plt.savefig('SimCoresElectrons_617.png')\n",
    "plt.show()"
   ]
  },
  {
   "cell_type": "code",
   "execution_count": null,
   "metadata": {},
   "outputs": [],
   "source": [
    "plt.scatter(telescope1[0],telescope1[1], label = 'LST1', marker = 'x', s =200, lw = 5, c = 'k')\n",
    "plt.scatter(telescope2[0],telescope2[1], label = 'LST2', marker = 'x', s =200, lw = 5, c = 'k')\n",
    "plt.scatter(telescope3[0],telescope3[1], label = 'LST3', marker = 'x', s =200, lw = 5, c = 'k')\n",
    "plt.scatter(telescope4[0],telescope4[1], label = 'LST4', marker = 'x', s =200, lw = 5, c = 'k')\n",
    "plt.hist2d(xcores, ycores, bins=(50, 50), cmap=plt.cm.jet)\n",
    "plt.colorbar()\n",
    "plt.ylabel('y core (m)')\n",
    "plt.xlabel('x core (m)')\n",
    "plt.title('Cores for showers that triggered')\n",
    "plt.xlim(-150,150)\n",
    "plt.ylim(-150,150)\n",
    "#plt.savefig('TrigCoresElectrons_617.png')\n",
    "plt.show()"
   ]
  },
  {
   "cell_type": "code",
   "execution_count": null,
   "metadata": {},
   "outputs": [],
   "source": [
    "with SimTelFile(datafile_mono) as f:\n",
    "    evt_iter = f.iter_array_events()\n",
    "    xcores_temp = []\n",
    "    ycores_temp = []\n",
    "    for event in evt_iter:\n",
    "        if len(event['telescope_events'].keys()) > 1:\n",
    "            print(event['telescope_events'].keys())\n",
    "            xcores_temp.append(event['mc_event']['xcore'])\n",
    "            ycores_temp.append(event['mc_event']['ycore']) \n",
    "        \n",
    "    xcores.extend(xcores_temp)\n",
    "    ycores.extend(ycores_temp)"
   ]
  },
  {
   "cell_type": "code",
   "execution_count": null,
   "metadata": {},
   "outputs": [],
   "source": [
    "event.keys()"
   ]
  },
  {
   "cell_type": "code",
   "execution_count": null,
   "metadata": {},
   "outputs": [],
   "source": [
    "plt.scatter(telescope1[0],telescope1[1], label = 'LST1', marker = 'x', s =200, lw = 5, c = 'k')\n",
    "plt.scatter(telescope2[0],telescope2[1], label = 'LST2', marker = 'x', s =200, lw = 5, c = 'k')\n",
    "plt.scatter(telescope3[0],telescope3[1], label = 'LST3', marker = 'x', s =200, lw = 5, c = 'k')\n",
    "plt.scatter(telescope4[0],telescope4[1], label = 'LST4', marker = 'x', s =200, lw = 5, c = 'k')\n",
    "plt.hist2d(xcores, ycores, bins=(50, 50), cmap=plt.cm.jet)\n",
    "plt.colorbar()\n",
    "plt.ylabel('y core (m)')\n",
    "plt.xlabel('x core (m)')\n",
    "plt.title('Cores for showers that triggered in mono sim but stereo')\n",
    "plt.xlim(-150,150)\n",
    "plt.ylim(-150,150)\n",
    "#plt.savefig('TrigCoresElectrons_617.png')\n",
    "plt.show()"
   ]
  },
  {
   "cell_type": "code",
   "execution_count": null,
   "metadata": {},
   "outputs": [],
   "source": [
    "test = glob.glob('/Users/vdk/UnrealLST/images/muon_*_tel1.png')"
   ]
  },
  {
   "cell_type": "code",
   "execution_count": null,
   "metadata": {},
   "outputs": [],
   "source": [
    "test[:10]"
   ]
  },
  {
   "cell_type": "code",
   "execution_count": null,
   "metadata": {},
   "outputs": [],
   "source": [
    "with eventio.SimTelFile('/Users/vdk/UnrealLST/simtel_investigations/run6901_muon.simtel.gz') as fi:\n",
    "    for event in fi:\n",
    "        if len(event['telescope_events']) > 1:\n",
    "            print(event['telescope_events'].keys())"
   ]
  },
  {
   "cell_type": "code",
   "execution_count": null,
   "metadata": {},
   "outputs": [],
   "source": [
    "18/650"
   ]
  },
  {
   "cell_type": "code",
   "execution_count": null,
   "metadata": {},
   "outputs": [],
   "source": []
  }
 ],
 "metadata": {
  "kernelspec": {
   "display_name": "cta",
   "language": "python",
   "name": "python3"
  },
  "language_info": {
   "codemirror_mode": {
    "name": "ipython",
    "version": 3
   },
   "file_extension": ".py",
   "mimetype": "text/x-python",
   "name": "python",
   "nbconvert_exporter": "python",
   "pygments_lexer": "ipython3",
   "version": "3.11.6"
  }
 },
 "nbformat": 4,
 "nbformat_minor": 2
}
