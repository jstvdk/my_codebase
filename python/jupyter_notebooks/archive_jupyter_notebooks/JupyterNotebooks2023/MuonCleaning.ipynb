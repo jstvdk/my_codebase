{
 "cells": [
  {
   "cell_type": "code",
   "execution_count": null,
   "id": "0",
   "metadata": {},
   "outputs": [],
   "source": [
    "import sys\n",
    "sys.path.append('/Users/vdk/GeneveWork/Code/calibpipe-main-calibpipe/')\n",
    "from astropy.io import ascii\n",
    "import numpy as np\n",
    "import pandas as pd\n",
    "import matplotlib\n",
    "import csv\n",
    "import scipy\n",
    "import matplotlib.pyplot as plt\n",
    "import random\n",
    "import copy\n",
    "from os import path, makedirs\n",
    "from astropy.coordinates import SkyCoord\n",
    "from astropy.table import Table\n",
    "import astropy.units as u\n",
    "from ctapipe.containers import MuonEfficiencyContainer\n",
    "from ctapipe.coordinates import CameraFrame, TelescopeFrame\n",
    "from ctapipe.io import EventSource, EventSeeker\n",
    "from ctapipe.core import TelescopeComponent\n",
    "from ctapipe.core.traits import (\n",
    "    List,\n",
    "    Int,\n",
    "    FloatTelescopeParameter,\n",
    "    TelescopeParameter,\n",
    "    Unicode,\n",
    ")\n",
    "from ctapipe.image.cleaning import tailcuts_clean\n",
    "from ctapipe.image.muon import MuonRingFitter, MuonIntensityFitter\n",
    "from traitlets.config import Config\n",
    "from ctapipe.image import ImageProcessor\n",
    "from ctapipe.image.muon import MuonProcessor\n",
    "from ctapipe.visualization import CameraDisplay\n",
    "from ctapipe.instrument import CameraGeometry\n",
    "from ctapipe.calib import CameraCalibrator\n",
    "from traitlets.config.loader import Config, FileConfigLoader, JSONFileConfigLoader\n",
    "import pathlib\n",
    "from calibpipe.throughput import MuonCalibrator"
   ]
  },
  {
   "cell_type": "code",
   "execution_count": null,
   "id": "1",
   "metadata": {},
   "outputs": [],
   "source": [
    "# TO FIND BIG WIDTH\n",
    "filename = '/Users/vdk/GeneveWork/Code/calibpipe-main-calibpipe/calibpipe/tests/data/throughput/output/simtel_run201_muon.simtel.gz'\n",
    "source = EventSource(filename, max_events=9000)\n",
    "event_iterator = iter(source)\n",
    "\n",
    "\n",
    "bad_events_obs2  = [1096, 876, 3649, 6122]\n",
    "norm_events = [2402]\n",
    "checker = 0\n",
    "bad_eff_obs2= [254,  346,  382,  658,  876,  971,  999, 1096, 1537]\n",
    "\n",
    "for i,j in enumerate(event_iterator):\n",
    "    if i==1096:\n",
    "        event664 = j\n",
    "        image_processor = ImageProcessor(source.subarray)\n",
    "        muon_processor = MuonProcessor(source.subarray)\n",
    "        calib = CameraCalibrator(\n",
    "                image_extractor_type=\"GlobalPeakWindowSum\",\n",
    "                subarray = source.subarray)\n",
    "        calib(j)\n",
    "        image_processor(j)\n",
    "        muon_processor(j)\n",
    "        #print(\"width = \", j.muon.tel[1].efficiency.width.to_value())\n",
    "        plt.figure()\n",
    "        camgeom = source.subarray.tel[1].camera.geometry\n",
    "        title=\"CT{}, run {} cog {} fit {} width {}\".format(1,j.index.obs_id, round(j.dl1.tel[1].parameters.concentration.cog, 3), round(j.muon.tel[1].efficiency.optical_efficiency, 3), round(j.muon.tel[1].efficiency.width.to_value(),3))\n",
    "        disp = CameraDisplay(camgeom,title=title)\n",
    "        disp.image = j.simulation.tel[1].true_image #.sum(axis=1)\n",
    "        #disp.image = j.r0.tel[1].waveform[0].sum(axis=1)        \n",
    "        disp.cmap = plt.cm.RdBu_r\n",
    "        disp.add_colorbar()\n",
    "        disp.set_limits_percent(95)\n",
    "        #plt.savefig(f\"/Users/vdk/TrurImageCheckCOG{i}_COG=0_fitWrong\")\n",
    "        plt.show()\n",
    "        event = j\n",
    "        break\n",
    "        #if i == 4000:\n",
    "        #    break\n",
    "\n",
    "plt.close()"
   ]
  },
  {
   "cell_type": "code",
   "execution_count": null,
   "id": "2",
   "metadata": {},
   "outputs": [],
   "source": [
    "# Sampling rate for MST\n",
    "source.subarray.tel[1].camera.readout.sampling_rate.to_value(u.GHz)"
   ]
  },
  {
   "cell_type": "code",
   "execution_count": null,
   "id": "3",
   "metadata": {},
   "outputs": [],
   "source": [
    "# TO FIND BIG WIDTH\n",
    "filename = '/Users/vdk/GeneveWork/Code/calibpipe-main-calibpipe/calibpipe/tests/data/throughput/output/simtel_run201_muon.simtel.gz'\n",
    "source = EventSource(filename, max_events=9000)\n",
    "event_iterator = iter(source)\n",
    "\n",
    "\n",
    "bad_events_obs2  = [1096, 876, 3649, 6122]\n",
    "norm_events = [2402]\n",
    "checker = 0\n",
    "bad_eff_obs2= [254,  346,  382,  658,  876,  971,  999, 1096, 1537]\n",
    "\n",
    "for i,j in enumerate(event_iterator):\n",
    "    if i==664:\n",
    "        event664 = j\n",
    "        image_processor = ImageProcessor(source.subarray)\n",
    "        muon_processor = MuonProcessor(source.subarray)\n",
    "        calib = CameraCalibrator(\n",
    "                image_extractor_type=\"GlobalPeakWindowSum\",\n",
    "                subarray = source.subarray)\n",
    "        calib(j)\n",
    "        image_processor(j)\n",
    "        muon_processor(j)\n",
    "        print(\"width = \", j.muon.tel[1].efficiency.width.to_value())\n",
    "        plt.figure()\n",
    "        camgeom = source.subarray.tel[1].camera.geometry\n",
    "        title=\"CT{}, run {} cog {} fit {} width {}\".format(1,j.index.obs_id, round(j.dl1.tel[1].parameters.concentration.cog, 3), round(j.muon.tel[1].efficiency.optical_efficiency, 3), round(j.muon.tel[1].efficiency.width.to_value(),3))\n",
    "        disp = CameraDisplay(camgeom,title=title)\n",
    "        disp.image = j.simulation.tel[1].true_image #.sum(axis=1)\n",
    "        #disp.image = j.r0.tel[1].waveform[0].sum(axis=1)        \n",
    "        disp.cmap = plt.cm.RdBu_r\n",
    "        disp.add_colorbar()\n",
    "        disp.set_limits_percent(95)\n",
    "        #plt.savefig(f\"/Users/vdk/TrurImageCheckCOG{i}_COG=0_fitWrong\")\n",
    "        plt.show()\n",
    "        #event = j\n",
    "        break\n",
    "        #if i == 4000:\n",
    "        #    break\n",
    "\n",
    "plt.close()"
   ]
  },
  {
   "cell_type": "code",
   "execution_count": null,
   "id": "4",
   "metadata": {},
   "outputs": [],
   "source": []
  },
  {
   "cell_type": "code",
   "execution_count": null,
   "id": "5",
   "metadata": {},
   "outputs": [],
   "source": [
    "waveform_iterator = iter(event.r0.tel[1].waveform)"
   ]
  },
  {
   "cell_type": "code",
   "execution_count": null,
   "id": "6",
   "metadata": {},
   "outputs": [],
   "source": [
    "a = next(waveform_iterator)"
   ]
  },
  {
   "cell_type": "code",
   "execution_count": null,
   "id": "7",
   "metadata": {},
   "outputs": [],
   "source": [
    "a[100]"
   ]
  },
  {
   "cell_type": "code",
   "execution_count": null,
   "id": "8",
   "metadata": {},
   "outputs": [],
   "source": [
    "# TO FIND BIG WIDTH\n",
    "filename = '/Users/vdk/GeneveWork/Code/calibpipe-main-calibpipe/calibpipe/tests/data/throughput/output/simtel_run201_muon.simtel.gz'\n",
    "source = EventSource(filename, max_events=9000)\n",
    "event_iterator = iter(source)\n",
    "\n",
    "\n",
    "bad_events_obs2  = [1096, 876, 3649, 6122]\n",
    "norm_events = [2402]\n",
    "checker = 0\n",
    "bad_eff_obs2= [254,  346,  382,  658,  876,  971,  999, 1096, 1537]\n",
    "\n",
    "for i,j in enumerate(event_iterator):\n",
    "    if i<201:\n",
    "        event2 = j\n",
    "        image_processor = ImageProcessor(source.subarray)\n",
    "        muon_processor = MuonProcessor(source.subarray)\n",
    "        calib = CameraCalibrator(\n",
    "                image_extractor_type=\"GlobalPeakWindowSum\",\n",
    "                subarray = source.subarray)\n",
    "        calib(j)\n",
    "        image_processor(j)\n",
    "        muon_processor(j)\n",
    "        print(\"width = \", j.muon.tel[1].efficiency.width.to_value())\n",
    "        plt.figure()\n",
    "        camgeom = source.subarray.tel[1].camera.geometry\n",
    "        title=\"CT{}, run {} cog {} fit {} width {}\".format(1,j.index.obs_id, round(j.dl1.tel[1].parameters.concentration.cog, 3), round(j.muon.tel[1].efficiency.optical_efficiency, 3), round(j.muon.tel[1].efficiency.width.to_value(),3))\n",
    "        disp = CameraDisplay(camgeom,title=title)\n",
    "        disp.image = j.simulation.tel[1].true_image #.sum(axis=1)\n",
    "        disp.cmap = plt.cm.RdBu_r\n",
    "        disp.add_colorbar()\n",
    "        disp.set_limits_percent(95)\n",
    "        #plt.savefig(f\"/Users/vdk/TrurImageCheckCOG{i}_COG=0_fitWrong\")\n",
    "        #plt.show()\n",
    "        print(j.r1.tel[1].waveform.shape)\n",
    "        #break\n",
    "        if i == 100:\n",
    "            break\n",
    "\n",
    "plt.close()"
   ]
  },
  {
   "cell_type": "code",
   "execution_count": null,
   "id": "9",
   "metadata": {},
   "outputs": [],
   "source": [
    "event2.r1.tel[1].waveform.shape"
   ]
  },
  {
   "cell_type": "code",
   "execution_count": null,
   "id": "10",
   "metadata": {},
   "outputs": [],
   "source": [
    "event.index.event_id"
   ]
  },
  {
   "cell_type": "code",
   "execution_count": null,
   "id": "11",
   "metadata": {},
   "outputs": [],
   "source": [
    "teldata = event.r0.tel[1]\n",
    "trace = teldata.waveform[0][7]\n",
    "plt.plot(trace, drawstyle='steps')"
   ]
  },
  {
   "cell_type": "code",
   "execution_count": null,
   "id": "12",
   "metadata": {},
   "outputs": [],
   "source": [
    "teldata = event.r1.tel[1]\n",
    "trace = teldata.waveform[7]\n",
    "plt.plot(trace, drawstyle='steps')"
   ]
  },
  {
   "cell_type": "code",
   "execution_count": null,
   "id": "13",
   "metadata": {},
   "outputs": [],
   "source": [
    "for pix_id in range(1,1855):\n",
    "    plt.plot(teldata.waveform[0][pix_id], label=\"pix {}\".format(pix_id), drawstyle='steps')\n",
    "#plt.legend()"
   ]
  },
  {
   "cell_type": "code",
   "execution_count": null,
   "id": "14",
   "metadata": {},
   "outputs": [],
   "source": [
    "plt.figure()\n",
    "camgeom = source.subarray.tel[1].camera.geometry\n",
    "#title=\"CT{}, run {} cog {} fit {} width {}\".format(1,event.index.obs_id, round(event.dl1.tel[1].parameters.concentration.cog, 3), round(event.muon.tel[1].efficiency.optical_efficiency, 3), round(event.muon.tel[1].efficiency.width.to_value(),3))\n",
    "disp = CameraDisplay(camgeom,title=title)\n",
    "disp.image = event2.simulation.tel[1].true_image #.sum(axis=1)\n",
    "disp.cmap = plt.cm.RdBu_r\n",
    "disp.add_colorbar()\n",
    "disp.set_limits_percent(95)\n",
    "plt.show()"
   ]
  },
  {
   "cell_type": "code",
   "execution_count": null,
   "id": "15",
   "metadata": {},
   "outputs": [],
   "source": [
    "teldata = event2.r0.tel[1]\n",
    "for pix_id in range(0,1855):\n",
    "    plt.plot(teldata.waveform[0][pix_id], label=\"pix {}\".format(pix_id), drawstyle='steps')\n",
    "#plt.legend()"
   ]
  },
  {
   "cell_type": "code",
   "execution_count": null,
   "id": "16",
   "metadata": {},
   "outputs": [],
   "source": [
    "plt.pcolormesh(teldata.waveform[0])\n",
    "plt.colorbar()\n",
    "plt.ylim(0,1855)\n",
    "plt.xlabel(\"sample number\")\n",
    "plt.ylabel(\"pixel_id\")\n",
    "print(\"waveform[0] is an array of shape (N_pix,N_slice) =\",teldata.waveform[0].shape)"
   ]
  },
  {
   "cell_type": "code",
   "execution_count": null,
   "id": "17",
   "metadata": {},
   "outputs": [],
   "source": [
    "teldata2 = event.r0.tel[1]\n",
    "plt.pcolormesh(event664.r0.tel[1].waveform[0])\n",
    "plt.colorbar()\n",
    "plt.ylim(0,250)\n",
    "plt.xlabel(\"sample number\")\n",
    "plt.ylabel(\"pixel_id\")\n",
    "print(\"waveform[0] is an array of shape (N_pix,N_slice) =\",teldata2.waveform[0].shape)"
   ]
  },
  {
   "cell_type": "code",
   "execution_count": null,
   "id": "18",
   "metadata": {},
   "outputs": [],
   "source": [
    "plt.figure()\n",
    "camgeom = source.subarray.tel[1].camera.geometry\n",
    "#title=\"CT{}, run {} cog {} fit {} width {}\".format(1,event.index.obs_id, round(event.dl1.tel[1].parameters.concentration.cog, 3), round(event.muon.tel[1].efficiency.optical_efficiency, 3), round(event.muon.tel[1].efficiency.width.to_value(),3))\n",
    "disp = CameraDisplay(camgeom,title=title)\n",
    "disp.image = event.simulation.tel[1].true_image #.sum(axis=1)\n",
    "disp.cmap = plt.cm.RdBu_r\n",
    "disp.add_colorbar()\n",
    "disp.set_limits_percent(95)\n",
    "plt.show()"
   ]
  },
  {
   "cell_type": "code",
   "execution_count": null,
   "id": "19",
   "metadata": {},
   "outputs": [],
   "source": [
    "filename = '/Users/vdk/GeneveWork/Code/calibpipe-main-calibpipe/calibpipe/tests/data/throughput/output/simtel_run201_muon.simtel.gz'\n",
    "source = EventSource(filename, max_events=9000)\n",
    "event_iterator = iter(source)\n",
    "\n",
    "\n",
    "\n",
    "for i,j in enumerate(event_iterator):\n",
    "    if i == 501:\n",
    "        event_test = j\n",
    "        image_processor = ImageProcessor(source.subarray)\n",
    "        muon_processor = MuonProcessor(source.subarray)\n",
    "        calib = CameraCalibrator(\n",
    "                image_extractor_type=\"GlobalPeakWindowSum\",\n",
    "                subarray = source.subarray)\n",
    "        calib(j)\n",
    "        image_processor(j)\n",
    "        muon_processor(j)\n",
    "        fig, axes = plt.subplots(2, 1, sharex=False, gridspec_kw={'height_ratios': [1, 1]}, figsize=(9,12))\n",
    "        fig.subplots_adjust(hspace=0.2)\n",
    "        ax = axes[0]\n",
    "        camgeom = source.subarray.tel[1].camera.geometry\n",
    "        title=\"TrueImage run {} event {} fit efficiency {} width {}\".format(j.index.obs_id, j.index.event_id, round(j.muon.tel[1].efficiency.optical_efficiency, 3), round(j.muon.tel[1].efficiency.width.to_value(),3))\n",
    "        disp = CameraDisplay(camgeom,title=title, ax = ax)\n",
    "        disp.image = j.simulation.tel[1].true_image #.sum(axis=1)\n",
    "        disp.cmap = plt.cm.RdBu_r\n",
    "        disp.add_colorbar()\n",
    "        disp.set_limits_percent(95)\n",
    "        bx = axes[1]\n",
    "        for pix_id in range(0,1764):\n",
    "            bx.plot(j.r0.tel[1].waveform[0][pix_id], label=\"pix {}\".format(pix_id), drawstyle='steps')\n",
    "        bx.set_ylabel(\"ADC counts\")\n",
    "        bx.set_xlabel(\"Samples\")\n",
    "        bx.set_title(\"Waveforms per pixel\")\n",
    "        #plt.show()\n",
    "        plt.savefig(f\"/Users/vdk/TrueImage+Waveform_event{j.index.event_id}_obs{j.index.obs_id}\")\n",
    "        break\n",
    "        #if i == 4000:\n",
    "        #    break\n",
    "\n",
    "plt.close()"
   ]
  },
  {
   "cell_type": "code",
   "execution_count": null,
   "id": "20",
   "metadata": {},
   "outputs": [],
   "source": [
    "for pix_id in range(0,1855):\n",
    "    plt.plot(event.r0.tel[1].waveform[0][pix_id], label=\"pix {}\".format(pix_id), drawstyle='steps')\n",
    "    #plt.ylim(500,1200)"
   ]
  },
  {
   "cell_type": "code",
   "execution_count": null,
   "id": "21",
   "metadata": {},
   "outputs": [],
   "source": [
    "for pix_id in range(1,1855):\n",
    "    plt.plot(event2.r0.tel[1].waveform[0][pix_id], label=\"pix {}\".format(pix_id), drawstyle='steps')\n",
    "    #plt.ylim(500,1200)\n",
    "#plt.legend()"
   ]
  },
  {
   "cell_type": "code",
   "execution_count": null,
   "id": "22",
   "metadata": {},
   "outputs": [],
   "source": [
    "for pix_id in range(1,1855):\n",
    "    plt.plot(event3.r0.tel[1].waveform[0][pix_id], label=\"pix {}\".format(pix_id), drawstyle='steps')\n",
    "    #plt.ylim(500,1200)\n",
    "#plt.legend()"
   ]
  },
  {
   "cell_type": "code",
   "execution_count": null,
   "id": "23",
   "metadata": {},
   "outputs": [],
   "source": [
    "for pix_id in range(60,90):\n",
    "    plt.plot(event664.r0.tel[1].waveform[0][pix_id], label=\"pix {}\".format(pix_id), drawstyle='steps')\n",
    "    #plt.ylim(500,1200)\n",
    "#plt.legend()"
   ]
  },
  {
   "cell_type": "code",
   "execution_count": null,
   "id": "24",
   "metadata": {},
   "outputs": [],
   "source": [
    "for pix_id in range(0,1855):\n",
    "    plt.plot(event5.r0.tel[1].waveform[0][pix_id], label=\"pix {}\".format(pix_id), drawstyle='steps')\n",
    "    #plt.ylim(500,1200)\n",
    "#plt.legend()"
   ]
  },
  {
   "cell_type": "code",
   "execution_count": null,
   "id": "25",
   "metadata": {},
   "outputs": [],
   "source": [
    "for pix_id in range(0,1855):\n",
    "    plt.plot(event6087.r0.tel[1].waveform[0][pix_id], label=\"pix {}\".format(pix_id), drawstyle='steps')\n",
    "    #plt.ylim(500,1200)\n",
    "#plt.legend()"
   ]
  },
  {
   "cell_type": "markdown",
   "id": "26",
   "metadata": {},
   "source": [
    "MST PROCESSING"
   ]
  },
  {
   "cell_type": "code",
   "execution_count": null,
   "id": "27",
   "metadata": {},
   "outputs": [],
   "source": [
    "filename = '/Users/vdk/MST_work/data_muons/mono_proton_simtel/proton_20deg_0deg_run2___cta-prod6-paranal-2147m-Paranal-nshow-3000-0-LSTs-1-MSTs-0-SSTs-NSCAT_5_CSCAT_300_EMIN_1_EMAX_200_after_muontag.simtel.zst'\n",
    "source = EventSource(filename, max_events=9000)\n",
    "event_iterator = iter(source)\n",
    "\n",
    "\n",
    "\n",
    "for i,j in enumerate(event_iterator):\n",
    "    if i == 2:\n",
    "        event_mst2 = j\n",
    "        image_processor = ImageProcessor(source.subarray)\n",
    "        muon_processor = MuonProcessor(source.subarray)\n",
    "        calib = CameraCalibrator(\n",
    "                image_extractor_type=\"GlobalPeakWindowSum\",\n",
    "                subarray = source.subarray)\n",
    "        calib(j)\n",
    "        image_processor(j)\n",
    "        muon_processor(j)\n",
    "        fig, axes = plt.subplots(2, 1, sharex=False, gridspec_kw={'height_ratios': [1, 1]}, figsize=(9,12))\n",
    "        fig.subplots_adjust(hspace=0.2)\n",
    "        ax = axes[0]\n",
    "        camgeom = source.subarray.tel[1].camera.geometry\n",
    "        title=\"TrueImage run {} if {} fit {} width {}\".format(j.index.obs_id, j.index.event_id, round(j.dl1.tel[1].parameters.concentration.cog, 3), round(j.muon.tel[1].efficiency.optical_efficiency, 3), round(j.muon.tel[1].efficiency.width.to_value(),3))\n",
    "        disp = CameraDisplay(camgeom,title=title, ax = ax)\n",
    "        disp.image = j.simulation.tel[1].true_image #.sum(axis=1)\n",
    "        disp.cmap = plt.cm.RdBu_r\n",
    "        disp.add_colorbar()\n",
    "        disp.set_limits_percent(95)\n",
    "        bx = axes[1]\n",
    "        for pix_id in range(0,1764):\n",
    "            bx.plot(j.r0.tel[1].waveform[0][pix_id], label=\"pix {}\".format(pix_id), drawstyle='steps')\n",
    "        bx.set_ylabel(\"ADC counts\")\n",
    "        bx.set_xlabel(\"Samples\")\n",
    "        bx.set_title(\"Waveforms\")\n",
    "        plt.show()\n",
    "        break\n",
    "        #if i == 4000:\n",
    "        #    break\n",
    "\n",
    "plt.close()"
   ]
  },
  {
   "cell_type": "code",
   "execution_count": null,
   "id": "28",
   "metadata": {},
   "outputs": [],
   "source": [
    "for pix_id in range(0,1764):\n",
    "    plt.plot(event_mst2.r0.tel[1].waveform[0][pix_id], label=\"pix {}\".format(pix_id), drawstyle='steps')\n",
    "    #plt.ylim(500,1200)"
   ]
  },
  {
   "cell_type": "code",
   "execution_count": null,
   "id": "29",
   "metadata": {},
   "outputs": [],
   "source": [
    "filename = '/Users/vdk/MST_work/data_muons/mono_proton_simtel/proton_20deg_0deg_run2___cta-prod6-paranal-2147m-Paranal-nshow-3000-0-LSTs-1-MSTs-0-SSTs-NSCAT_5_CSCAT_300_EMIN_1_EMAX_200_after_muontag.simtel.zst'\n",
    "source = EventSource(filename, max_events=9000)\n",
    "event_iterator = iter(source)\n",
    "\n",
    "\n",
    "\n",
    "for i,j in enumerate(event_iterator):\n",
    "    if i == 1:\n",
    "        event_mst1 = j\n",
    "        image_processor = ImageProcessor(source.subarray)\n",
    "        muon_processor = MuonProcessor(source.subarray)\n",
    "        calib = CameraCalibrator(\n",
    "                image_extractor_type=\"GlobalPeakWindowSum\",\n",
    "                subarray = source.subarray)\n",
    "        calib(j)\n",
    "        image_processor(j)\n",
    "        muon_processor(j)\n",
    "        fig, axes = plt.subplots(2, 1, sharex=False, gridspec_kw={'height_ratios': [1, 1]}, figsize=(9,12))\n",
    "        fig.subplots_adjust(hspace=0.2)\n",
    "        ax = axes[0]\n",
    "        camgeom = source.subarray.tel[1].camera.geometry\n",
    "        title=\"TrueImage run {} if {} fit {} width {}\".format(j.index.obs_id, j.index.event_id, round(j.dl1.tel[1].parameters.concentration.cog, 3), round(j.muon.tel[1].efficiency.optical_efficiency, 3), round(j.muon.tel[1].efficiency.width.to_value(),3))\n",
    "        disp = CameraDisplay(camgeom,title=title, ax = ax)\n",
    "        disp.image = j.simulation.tel[1].true_image #.sum(axis=1)\n",
    "        disp.cmap = plt.cm.RdBu_r\n",
    "        disp.add_colorbar()\n",
    "        disp.set_limits_percent(95)\n",
    "        bx = axes[1]\n",
    "        for pix_id in range(0,1764):\n",
    "            bx.plot(j.r0.tel[1].waveform[0][pix_id], label=\"pix {}\".format(pix_id), drawstyle='steps')\n",
    "        bx.set_ylabel(\"ADC counts\")\n",
    "        bx.set_xlabel(\"Samples\")\n",
    "        bx.set_title(\"Waveforms\")\n",
    "        plt.show()\n",
    "        break\n",
    "        #if i == 4000:\n",
    "        #    break\n",
    "\n",
    "plt.close()"
   ]
  },
  {
   "cell_type": "code",
   "execution_count": null,
   "id": "30",
   "metadata": {},
   "outputs": [],
   "source": [
    "for pix_id in range(0,1764):\n",
    "    plt.plot(event_mst1.r0.tel[1].waveform[0][pix_id], label=\"pix {}\".format(pix_id), drawstyle='steps')\n",
    "    #plt.ylim(500,1200)"
   ]
  },
  {
   "cell_type": "code",
   "execution_count": null,
   "id": "31",
   "metadata": {},
   "outputs": [],
   "source": [
    "filename = '/Users/vdk/MST_work/data_muons/mono_proton_simtel/proton_20deg_0deg_run2___cta-prod6-paranal-2147m-Paranal-nshow-3000-0-LSTs-1-MSTs-0-SSTs-NSCAT_5_CSCAT_300_EMIN_1_EMAX_200_after_muontag.simtel.zst'\n",
    "source = EventSource(filename, max_events=9000)\n",
    "event_iterator = iter(source)\n",
    "\n",
    "\n",
    "\n",
    "for i,j in enumerate(event_iterator):\n",
    "    if i == 4:\n",
    "        event_mst4 = j\n",
    "        image_processor = ImageProcessor(source.subarray)\n",
    "        muon_processor = MuonProcessor(source.subarray)\n",
    "        calib = CameraCalibrator(\n",
    "                image_extractor_type=\"GlobalPeakWindowSum\",\n",
    "                subarray = source.subarray)\n",
    "        calib(j)\n",
    "        image_processor(j)\n",
    "        muon_processor(j)\n",
    "        fig, axes = plt.subplots(2, 1, sharex=False, gridspec_kw={'height_ratios': [1, 1]}, figsize=(9,12))\n",
    "        fig.subplots_adjust(hspace=0.2)\n",
    "        ax = axes[0]\n",
    "        camgeom = source.subarray.tel[1].camera.geometry\n",
    "        title=\"TrueImage run {} if {} fit {} width {}\".format(j.index.obs_id, j.index.event_id, round(j.dl1.tel[1].parameters.concentration.cog, 3), round(j.muon.tel[1].efficiency.optical_efficiency, 3), round(j.muon.tel[1].efficiency.width.to_value(),3))\n",
    "        disp = CameraDisplay(camgeom,title=title, ax = ax)\n",
    "        disp.image = j.simulation.tel[1].true_image #.sum(axis=1)\n",
    "        disp.cmap = plt.cm.RdBu_r\n",
    "        disp.add_colorbar()\n",
    "        disp.set_limits_percent(95)\n",
    "        bx = axes[1]\n",
    "        for pix_id in range(0,1764):\n",
    "            bx.plot(j.r0.tel[1].waveform[0][pix_id], label=\"pix {}\".format(pix_id), drawstyle='steps')\n",
    "        bx.set_ylabel(\"ADC counts\")\n",
    "        bx.set_xlabel(\"Samples\")\n",
    "        bx.set_title(\"Waveforms\")\n",
    "        plt.show()\n",
    "        break\n",
    "        #if i == 4000:\n",
    "        #    break\n",
    "\n",
    "plt.close()"
   ]
  },
  {
   "cell_type": "code",
   "execution_count": null,
   "id": "32",
   "metadata": {},
   "outputs": [],
   "source": [
    "for pix_id in range(0,1764):\n",
    "    plt.plot(event_mst4.r0.tel[1].waveform[0][pix_id], label=\"pix {}\".format(pix_id), drawstyle='steps')\n",
    "    #plt.ylim(500,1200)"
   ]
  },
  {
   "cell_type": "code",
   "execution_count": null,
   "id": "33",
   "metadata": {},
   "outputs": [],
   "source": [
    "filename = '/Users/vdk/MST_work/data_muons/mono_proton_simtel/proton_20deg_0deg_run2___cta-prod6-paranal-2147m-Paranal-nshow-3000-0-LSTs-1-MSTs-0-SSTs-NSCAT_5_CSCAT_300_EMIN_1_EMAX_200_after_muontag.simtel.zst'\n",
    "source = EventSource(filename, max_events=9000)\n",
    "event_iterator = iter(source)\n",
    "\n",
    "\n",
    "\n",
    "for i,j in enumerate(event_iterator):\n",
    "    if i == 2:\n",
    "        event_mst8 = j\n",
    "        image_processor = ImageProcessor(source.subarray)\n",
    "        muon_processor = MuonProcessor(source.subarray)\n",
    "        calib = CameraCalibrator(\n",
    "                image_extractor_type=\"GlobalPeakWindowSum\",\n",
    "                subarray = source.subarray)\n",
    "        calib(j)\n",
    "        image_processor(j)\n",
    "        muon_processor(j)\n",
    "        fig, axes = plt.subplots(2, 1, sharex=False, gridspec_kw={'height_ratios': [1, 1]}, figsize=(9,12))\n",
    "        fig.subplots_adjust(hspace=0.2)\n",
    "        ax = axes[0]\n",
    "        camgeom = source.subarray.tel[1].camera.geometry\n",
    "        title=\"TrueImage run {} if {} fit {} width {}\".format(j.index.obs_id, j.index.event_id, round(j.dl1.tel[1].parameters.concentration.cog, 3), round(j.muon.tel[1].efficiency.optical_efficiency, 3), round(j.muon.tel[1].efficiency.width.to_value(),3))\n",
    "        disp = CameraDisplay(camgeom,title=title, ax = ax)\n",
    "        disp.image = j.simulation.tel[1].true_image #.sum(axis=1)\n",
    "        disp.cmap = plt.cm.RdBu_r\n",
    "        disp.add_colorbar()\n",
    "        disp.set_limits_percent(95)\n",
    "        bx = axes[1]\n",
    "        for pix_id in range(0,1764):\n",
    "            bx.plot(j.r0.tel[1].waveform[0][pix_id], label=\"pix {}\".format(pix_id), drawstyle='steps')\n",
    "        bx.set_ylabel(\"ADC counts\")\n",
    "        bx.set_xlabel(\"Samples\")\n",
    "        bx.set_title(\"Waveforms\")\n",
    "        plt.show()\n",
    "        break\n",
    "        #if i == 4000:\n",
    "        #    break\n",
    "\n",
    "plt.close()"
   ]
  },
  {
   "cell_type": "code",
   "execution_count": null,
   "id": "34",
   "metadata": {},
   "outputs": [],
   "source": [
    "for pix_id in range(0,1764):\n",
    "    plt.plot(event_mst8.r0.tel[1].waveform[0][pix_id], label=\"pix {}\".format(pix_id), drawstyle='steps')\n",
    "    #plt.ylim(500,1200)"
   ]
  },
  {
   "cell_type": "code",
   "execution_count": null,
   "id": "35",
   "metadata": {},
   "outputs": [],
   "source": [
    "filename = '/Users/vdk/MST_work/data_muons/mono_proton_simtel/proton_20deg_0deg_run2___cta-prod6-paranal-2147m-Paranal-nshow-3000-0-LSTs-1-MSTs-0-SSTs-NSCAT_5_CSCAT_300_EMIN_1_EMAX_200_after_muontag.simtel.zst'\n",
    "source = EventSource(filename, max_events=9000)\n",
    "event_iterator = iter(source)\n",
    "\n",
    "\n",
    "# event 9 in proton run2 is muon ring\n",
    "\n",
    "for i,j in enumerate(event_iterator):\n",
    "    if i == 110:\n",
    "        event_mst9 = j\n",
    "        image_processor = ImageProcessor(source.subarray)\n",
    "        muon_processor = MuonProcessor(source.subarray)\n",
    "        calib = CameraCalibrator(\n",
    "                image_extractor_type=\"GlobalPeakWindowSum\",\n",
    "                subarray = source.subarray)\n",
    "        calib(j)\n",
    "        image_processor(j)\n",
    "        muon_processor(j)\n",
    "        #print(\"width = \", j.muon.tel[1].efficiency.width.to_value())\n",
    "        fig, axes = plt.subplots(2, 1, sharex=False, gridspec_kw={'height_ratios': [1, 1]}, figsize=(9,12))\n",
    "        fig.subplots_adjust(hspace=0.2)\n",
    "        ax = axes[0]\n",
    "        camgeom = source.subarray.tel[1].camera.geometry\n",
    "        title=\"TrueImage run {} if {} fit {} width {}\".format(j.index.obs_id, j.index.event_id, round(j.dl1.tel[1].parameters.concentration.cog, 3), round(j.muon.tel[1].efficiency.optical_efficiency, 3), round(j.muon.tel[1].efficiency.width.to_value(),3))\n",
    "        disp = CameraDisplay(camgeom,title=title, ax = ax)\n",
    "        disp.image = j.simulation.tel[1].true_image #.sum(axis=1)\n",
    "        disp.cmap = plt.cm.RdBu_r\n",
    "        disp.add_colorbar()\n",
    "        disp.set_limits_percent(95)\n",
    "        bx = axes[1]\n",
    "        for pix_id in range(0,1764):\n",
    "            #bx.plot(j.r0.tel[1].waveform[0][pix_id], label=\"pix {}\".format(pix_id), drawstyle='steps')\n",
    "            bx.plot(j.dl0.tel[1].waveform[pix_id], label=\"pix {}\".format(pix_id), drawstyle='steps')\n",
    "        bx.set_ylabel(\"ADC counts\")\n",
    "        bx.set_xlabel(\"Samples\")\n",
    "        bx.set_title(\"Waveforms\")\n",
    "        #bx.set_ylim()\n",
    "        plt.show()\n",
    "        #plt.savefig(f\"/Users/vdk/TrueImage+Waveform_mstPROTON_event{j.index.event_id}_obs{j.index.obs_id}\")\n",
    "        break\n",
    "        #if i == 4000:\n",
    "        #    break\n",
    "\n",
    "plt.close()"
   ]
  },
  {
   "cell_type": "code",
   "execution_count": null,
   "id": "36",
   "metadata": {},
   "outputs": [],
   "source": [
    "for pix_id in range(0,1764):\n",
    "    plt.plot(event_mst9.r0.tel[1].waveform[0][pix_id], label=\"pix {}\".format(pix_id), drawstyle='steps')\n",
    "    #plt.ylim(500,1200)"
   ]
  },
  {
   "cell_type": "code",
   "execution_count": null,
   "id": "37",
   "metadata": {},
   "outputs": [],
   "source": [
    "plt.plot(event_mst9.r0.tel[1].waveform[0][700], label=\"pix {}\".format(pix_id), drawstyle='steps')"
   ]
  },
  {
   "cell_type": "code",
   "execution_count": null,
   "id": "38",
   "metadata": {},
   "outputs": [],
   "source": [
    "event_mst9.r0.tel[1].waveform[0,1]"
   ]
  },
  {
   "cell_type": "code",
   "execution_count": null,
   "id": "39",
   "metadata": {},
   "outputs": [],
   "source": [
    "from ipywidgets import interact\n",
    "\n",
    "brightest_pixel = np.argmax(event_mst9.r0.tel[1].waveform[0].sum(axis=1))\n",
    "\n",
    "@interact\n",
    "def view_waveform(chan=0, pix_id=brightest_pixel):\n",
    "    plt.plot(event_mst9.r0.tel[1].waveform[chan, pix_id])\n",
    "    plt.ylim(0,700)"
   ]
  },
  {
   "cell_type": "code",
   "execution_count": null,
   "id": "40",
   "metadata": {},
   "outputs": [],
   "source": [
    "filename = '/Users/vdk/MST_work/data_muons/mono_muon_simtel/muon_20deg_0deg_run0___cta-prod6-paranal-2147m-Paranal-0-LSTs-1-MSTs-0-SSTs-NSCAT_1_CSCAT_8_EMIN_0.005_EMAX_1_FIXCHI_600_VIEWCONE_3_after_muontag.simtel.zst'\n",
    "source = EventSource(filename, max_events=9000)\n",
    "event_iterator = iter(source)\n",
    "\n",
    "\n",
    "\n",
    "for i,j in enumerate(event_iterator):\n",
    "    if i == 2:\n",
    "        event_mst2 = j\n",
    "        image_processor = ImageProcessor(source.subarray)\n",
    "        muon_processor = MuonProcessor(source.subarray)\n",
    "        calib = CameraCalibrator(\n",
    "                image_extractor_type=\"GlobalPeakWindowSum\",\n",
    "                subarray = source.subarray)\n",
    "        calib(j)\n",
    "        image_processor(j)\n",
    "        muon_processor(j)\n",
    "        fig, axes = plt.subplots(2, 1, sharex=False, gridspec_kw={'height_ratios': [1, 1]}, figsize=(9,12))\n",
    "        fig.subplots_adjust(hspace=0.2)\n",
    "        ax = axes[0]\n",
    "        camgeom = source.subarray.tel[1].camera.geometry\n",
    "        title=\"TrueImage run {} if {} fit {} width {}\".format(j.index.obs_id, j.index.event_id, round(j.dl1.tel[1].parameters.concentration.cog, 3), round(j.muon.tel[1].efficiency.optical_efficiency, 3), round(j.muon.tel[1].efficiency.width.to_value(),3))\n",
    "        disp = CameraDisplay(camgeom,title=title, ax = ax)\n",
    "        disp.image = j.simulation.tel[1].true_image #.sum(axis=1)\n",
    "        disp.cmap = plt.cm.RdBu_r\n",
    "        disp.add_colorbar()\n",
    "        disp.set_limits_percent(95)\n",
    "        bx = axes[1]\n",
    "        for pix_id in range(0,1764):\n",
    "            bx.plot(j.r0.tel[1].waveform[0][pix_id], label=\"pix {}\".format(pix_id), drawstyle='steps')\n",
    "        bx.set_ylabel(\"ADC counts\")\n",
    "        bx.set_xlabel(\"Samples\")\n",
    "        bx.set_title(\"Waveforms\")\n",
    "        #bx.set_ylim(0,50)\n",
    "        plt.show()\n",
    "        #plt.savefig(f\"/Users/vdk/TrueImage+Waveform_mstMUON_event{j.index.event_id}_obs{j.index.obs_id}\")\n",
    "        break\n",
    "        #if i == 4000:\n",
    "        #    break\n",
    "        \n",
    "plt.close()"
   ]
  },
  {
   "cell_type": "code",
   "execution_count": null,
   "id": "41",
   "metadata": {},
   "outputs": [],
   "source": [
    "event_mst9"
   ]
  },
  {
   "cell_type": "code",
   "execution_count": null,
   "id": "42",
   "metadata": {},
   "outputs": [],
   "source": [
    "event_mst9.muon.tel[1]"
   ]
  },
  {
   "cell_type": "code",
   "execution_count": null,
   "id": "43",
   "metadata": {},
   "outputs": [],
   "source": [
    "teldata = event.r0.tel[1]"
   ]
  },
  {
   "cell_type": "code",
   "execution_count": null,
   "id": "44",
   "metadata": {},
   "outputs": [],
   "source": [
    "plt.pcolormesh(teldata.waveform[0])  # note the [0] is for channel 0\n",
    "plt.colorbar()\n",
    "plt.xlabel(\"sample number\")\n",
    "plt.ylabel(\"Pixel_id\")"
   ]
  },
  {
   "cell_type": "code",
   "execution_count": null,
   "id": "45",
   "metadata": {},
   "outputs": [],
   "source": [
    "plt.pcolormesh(teldata.waveform[0])\n",
    "plt.colorbar()\n",
    "plt.ylim(0,250)\n",
    "plt.xlabel(\"sample number\")\n",
    "plt.ylabel(\"pixel_id\")\n",
    "print(\"waveform[0] is an array of shape (N_pix,N_slice) =\",teldata.waveform[0].shape)"
   ]
  },
  {
   "cell_type": "code",
   "execution_count": null,
   "id": "46",
   "metadata": {},
   "outputs": [],
   "source": [
    "for pix_id in range(0,1850):\n",
    "    plt.plot(teldata.waveform[0][pix_id], label=\"pix {}\".format(pix_id), drawstyle='steps')\n",
    "#plt.legend()"
   ]
  },
  {
   "cell_type": "code",
   "execution_count": null,
   "id": "47",
   "metadata": {},
   "outputs": [],
   "source": [
    "for pix_id in range(180,220):\n",
    "    plt.plot(teldata.waveform[0][pix_id], label=\"pix {}\".format(pix_id), drawstyle='steps')\n",
    "#plt.legend()"
   ]
  },
  {
   "cell_type": "code",
   "execution_count": null,
   "id": "48",
   "metadata": {},
   "outputs": [],
   "source": [
    "for pix_id in range(240,250):\n",
    "    plt.plot(teldata.waveform[0][pix_id], label=\"pix {}\".format(pix_id), drawstyle='steps')\n",
    "plt.legend()"
   ]
  },
  {
   "cell_type": "code",
   "execution_count": null,
   "id": "49",
   "metadata": {},
   "outputs": [],
   "source": [
    "for pix_id in range(718,723):\n",
    "    plt.plot(teldata.waveform[0][pix_id],'+-')\n",
    "plt.fill_betweenx([0,1600],30,25,color='red',alpha=0.3, label='Ped window')\n",
    "plt.fill_betweenx([0,1600],10,20,color='green',alpha=0.3, label='Signal window')\n",
    "plt.legend()"
   ]
  },
  {
   "cell_type": "code",
   "execution_count": null,
   "id": "50",
   "metadata": {},
   "outputs": [],
   "source": [
    "data = teldata.waveform[0]\n",
    "peds = data[:, 19:24].mean(axis=1)  # mean of samples 20 to 29 for all pixels\n",
    "sums = data[:, 5:9].sum(axis=1)/(13-8)"
   ]
  },
  {
   "cell_type": "code",
   "execution_count": null,
   "id": "51",
   "metadata": {},
   "outputs": [],
   "source": [
    "plt.plot(sums - peds)\n",
    "plt.xlabel(\"pixel id\")\n",
    "plt.ylabel(\"Pedestal-subtracted Signal\")"
   ]
  },
  {
   "cell_type": "code",
   "execution_count": null,
   "id": "52",
   "metadata": {},
   "outputs": [],
   "source": [
    "filename = '/Users/vdk/MST_work/data_muons/mono_proton_simtel/proton_20deg_0deg_run2___cta-prod6-paranal-2147m-Paranal-nshow-3000-0-LSTs-1-MSTs-0-SSTs-NSCAT_5_CSCAT_300_EMIN_1_EMAX_200_after_muontag.simtel.zst'\n",
    "#filename = '/Users/vdk/MST_work/data_muons/mono_muon_simtel/muon_20deg_0deg_run0___cta-prod6-paranal-2147m-Paranal-0-LSTs-1-MSTs-0-SSTs-NSCAT_1_CSCAT_8_EMIN_0.005_EMAX_1_FIXCHI_600_VIEWCONE_3_after_muontag.simtel.zst'\n",
    "source = EventSource(filename, max_events=9000)\n",
    "event_iterator = iter(source)\n",
    "\n",
    "\n",
    "\n",
    "for i,j in enumerate(event_iterator):\n",
    "    if i == 93:\n",
    "        event = j\n",
    "        image_processor = ImageProcessor(source.subarray)\n",
    "        muon_processor = MuonProcessor(source.subarray)\n",
    "        calib = CameraCalibrator(\n",
    "                image_extractor_type=\"NeighborPeakWindowSum\",\n",
    "                subarray = source.subarray)\n",
    "        calib(j)\n",
    "        image_processor(j)\n",
    "        muon_processor(j)\n",
    "        fig, axes = plt.subplots(2, 1, sharex=False, gridspec_kw={'height_ratios': [1, 1]}, figsize=(9,12))\n",
    "        fig.subplots_adjust(hspace=0.2)\n",
    "        ax = axes[0]\n",
    "        camgeom = source.subarray.tel[1].camera.geometry\n",
    "        title=\"TrueImage run {} if {} fit {} width {}\".format(j.index.obs_id, j.index.event_id, round(j.muon.tel[1].efficiency.optical_efficiency, 3), round(j.muon.tel[1].efficiency.width.to_value(),3))\n",
    "        disp = CameraDisplay(camgeom,title=title, ax = ax)\n",
    "        disp.image = j.simulation.tel[1].true_image #.sum(axis=1)\n",
    "        #disp.image = event.dl1.tel[1].image\n",
    "        disp.cmap = plt.cm.RdBu_r\n",
    "        disp.add_colorbar()\n",
    "        disp.set_limits_percent(95)\n",
    "        bx = axes[1]\n",
    "        for pix_id in range(0,1764):\n",
    "            bx.plot(j.r0.tel[1].waveform[0][pix_id], label=\"pix {}\".format(pix_id), drawstyle='steps')\n",
    "        bx.set_ylabel(\"ADC counts\")\n",
    "        bx.set_xlabel(\"Samples\")\n",
    "        bx.set_title(\"Waveforms\")\n",
    "        plt.show()\n",
    "        #plt.savefig(f\"/Users/vdk/MST_ProtonImages_NewQualityCheck/TrueImage+Waveform_mstPROTON_event{j.index.event_id}_obs{j.index.obs_id}_numer{i}\")\n",
    "        #plt.savefig(f\"/Users/vdk/TrueImage+Waveform_mstMUON_event{j.index.event_id}_obs{j.index.obs_id}\")\n",
    "        break\n",
    "        #if i == 150:\n",
    "        #    break\n",
    "\n",
    "plt.close()"
   ]
  },
  {
   "cell_type": "code",
   "execution_count": null,
   "id": "53",
   "metadata": {},
   "outputs": [],
   "source": [
    "# Sampling rate for MST\n",
    "source.subarray.tel[1].camera.readout.sampling_rate.to_value(1/u.s)\n",
    "source.subarray.tel[1].camera.geometry.neighbor_matrix_sparse\n",
    "min(event.dl1.tel[1].peak_time)"
   ]
  },
  {
   "cell_type": "code",
   "execution_count": null,
   "id": "54",
   "metadata": {},
   "outputs": [],
   "source": [
    "plt.pcolormesh(event.r0.tel[1].waveform[0])  # note the [0] is for channel 0\n",
    "plt.colorbar()\n",
    "plt.xlabel(\"sample number\")\n",
    "plt.ylabel(\"Pixel_id\")"
   ]
  },
  {
   "cell_type": "code",
   "execution_count": null,
   "id": "55",
   "metadata": {},
   "outputs": [],
   "source": [
    "for pix_id in range(185,195):\n",
    "    plt.plot(event.r0.tel[1].waveform[0][pix_id], label=\"pix {}\".format(pix_id), drawstyle='steps')\n",
    "#plt.legend()"
   ]
  },
  {
   "cell_type": "code",
   "execution_count": null,
   "id": "56",
   "metadata": {},
   "outputs": [],
   "source": [
    "test_image = np.zeros((1764,25))\n",
    "test_true_image = np.zeros(1764)\n",
    "edit_image = event.simulation.tel[1].true_image.copy()\n",
    "edit_image.shape"
   ]
  },
  {
   "cell_type": "code",
   "execution_count": null,
   "id": "57",
   "metadata": {},
   "outputs": [],
   "source": [
    "plt.figure(figsize = (10,7))\n",
    "camgeom = source.subarray.tel[1].camera.geometry\n",
    "#title=\"CT{}, run {} event {}\".format(tel,event.index.obs_id,event.index.event_id)\n",
    "disp = CameraDisplay(camgeom,title=title)\n",
    "disp.image = event.simulation.tel[1].true_image\n",
    "disp.cmap = plt.cm.RdBu_r\n",
    "disp.add_colorbar()\n",
    "disp.set_limits_percent(95)"
   ]
  },
  {
   "cell_type": "code",
   "execution_count": null,
   "id": "58",
   "metadata": {},
   "outputs": [],
   "source": [
    "edit_image = event.simulation.tel[1].true_image.copy()\n",
    "true_image = event.simulation.tel[1].true_image\n",
    "# INDICES for central contamination of event 93 from obs94 protonMST file\n",
    "indices1 = [i for i in range(160,175)]\n",
    "indices2 = [i for i in range(1243, 1260)]\n",
    "indices3 = [i for i in range(180,192)]\n",
    "indices4 = [i for i in range(196,200)]\n",
    "indices = indices1+indices2+indices3+indices4\n",
    "#np.put(edit_image, indices1, [0])\n",
    "#np.put(edit_image, indices2, [0])\n",
    "#np.put(edit_image, indices3, [0])\n",
    "np.put(edit_image, indices, [0])"
   ]
  },
  {
   "cell_type": "code",
   "execution_count": null,
   "id": "59",
   "metadata": {},
   "outputs": [],
   "source": [
    "cont_image =  event.simulation.tel[1].true_image.copy()\n",
    "ind = [i for i in range(1764)]\n",
    "cont_ind = list(set(ind)-set(indices))\n",
    "np.put(cont_image, cont_ind, [0]) "
   ]
  },
  {
   "cell_type": "code",
   "execution_count": null,
   "id": "60",
   "metadata": {},
   "outputs": [],
   "source": [
    "plt.figure(figsize = (9,6))\n",
    "camgeom = source.subarray.tel[1].camera.geometry\n",
    "#title=\"CT{}, run {} event {}\".format(tel,event.index.obs_id,event.index.event_id)\n",
    "disp = CameraDisplay(camgeom,title=title)\n",
    "#disp.image = edit_image\n",
    "disp.image = cont_image\n",
    "#disp.image = true_image\n",
    "disp.cmap = plt.cm.RdBu_r\n",
    "disp.add_colorbar()\n",
    "disp.set_limits_percent(95)"
   ]
  },
  {
   "cell_type": "code",
   "execution_count": null,
   "id": "61",
   "metadata": {},
   "outputs": [],
   "source": [
    "# only contamination region\n",
    "for pix_id in indices:\n",
    "    plt.plot(event.r0.tel[1].waveform[0][pix_id], label=\"pix {}\".format(pix_id), drawstyle='steps')\n",
    "    #plt.ylim(320,1000)\n",
    "#plt.legend()"
   ]
  },
  {
   "cell_type": "code",
   "execution_count": null,
   "id": "62",
   "metadata": {},
   "outputs": [],
   "source": [
    "for pix_id in range(0,1760):\n",
    "    if pix_id in indices:\n",
    "        continue\n",
    "    else:\n",
    "        plt.plot(event.r0.tel[1].waveform[0][pix_id], label=\"pix {}\".format(pix_id), drawstyle='steps')\n",
    "    #plt.ylim(320,1000)\n",
    "#plt.legend()"
   ]
  },
  {
   "cell_type": "code",
   "execution_count": null,
   "id": "63",
   "metadata": {},
   "outputs": [],
   "source": [
    "fig, axes = plt.subplots(1, 2, sharex=False, gridspec_kw={'width_ratios': [1, 1]}, figsize=(12,5))\n",
    "fig.subplots_adjust(hspace=0.2)\n",
    "ax = axes[0]\n",
    "for pix_id in range(0,1760):\n",
    "    if pix_id in indices:\n",
    "        continue\n",
    "    else:\n",
    "        ax.plot(event.r0.tel[1].waveform[0][pix_id], label=\"pix {}\".format(pix_id), drawstyle='steps')\n",
    "ax.set_ylabel(\"ADC counts\")\n",
    "ax.set_xlabel(\"Samples\")\n",
    "ax.set_title(\"Only Ring\")\n",
    "#ax.set_ylim(320,1100)\n",
    "bx = axes[1]\n",
    "for pix_id in indices:\n",
    "    plt.plot(event.r0.tel[1].waveform[0][pix_id], label=\"pix {}\".format(pix_id), drawstyle='steps')\n",
    "#bx.set_ylabel(\"ADC counts\")\n",
    "#bx.set_ylim(320,1100)\n",
    "bx.set_xlabel(\"Samples\")\n",
    "bx.set_title(\"Contamination\")\n",
    "plt.show()\n",
    "#plt.savefig(\"/Users/vdk/WaveformsRingContaminationWithBackground\")"
   ]
  },
  {
   "cell_type": "code",
   "execution_count": null,
   "id": "64",
   "metadata": {},
   "outputs": [],
   "source": [
    "contaminated_waveform = np.array([])\n",
    "test_w = []\n",
    "for pix_id in indices:\n",
    "    #np.append(contaminated_waveform, event.r0.tel[1].waveform[0][pix_id], axis = 0)\n",
    "    test_w.append(event.r0.tel[1].waveform[0][pix_id])\n",
    "\n",
    "#contaminated_waveform\n",
    "#indices\n",
    "#event.r0.tel[1].waveform[0][165]\n",
    "np.argmax(test_w, axis = 0)\n",
    "#test_w[2]"
   ]
  },
  {
   "cell_type": "code",
   "execution_count": null,
   "id": "65",
   "metadata": {},
   "outputs": [],
   "source": [
    "fig, axes = plt.subplots(1, 2, sharex=False, gridspec_kw={'width_ratios': [1, 1]}, figsize=(12,5))\n",
    "fig.subplots_adjust(hspace=0.2)\n",
    "dx = axes[0]\n",
    "camgeom = source.subarray.tel[1].camera.geometry\n",
    "disp = CameraDisplay(camgeom,title=title, ax = dx)\n",
    "disp.image = edit_image\n",
    "#disp.image = true_image\n",
    "disp.cmap = plt.cm.RdBu_r\n",
    "disp.add_colorbar()\n",
    "disp.set_limits_percent(95)\n",
    "dx.set_title(\"Extracted muon ring\")\n",
    "cx = axes[1]\n",
    "camgeom = source.subarray.tel[1].camera.geometry\n",
    "disp = CameraDisplay(camgeom,title=title, ax = cx)\n",
    "disp.image = cont_image\n",
    "#disp.image = true_image\n",
    "disp.cmap = plt.cm.RdBu_r\n",
    "disp.add_colorbar()\n",
    "disp.set_limits_percent(95)\n",
    "cx.set_title(\"Extracted contamination\")\n",
    "#plt.show()\n",
    "#plt.savefig(\"/Users/vdk/DistinctRingContamination\")"
   ]
  },
  {
   "cell_type": "code",
   "execution_count": null,
   "id": "66",
   "metadata": {},
   "outputs": [],
   "source": [
    "filename = '/Users/vdk/MST_work/data_muons/mono_proton_simtel/proton_20deg_0deg_run2___cta-prod6-paranal-2147m-Paranal-nshow-3000-0-LSTs-1-MSTs-0-SSTs-NSCAT_5_CSCAT_300_EMIN_1_EMAX_200_after_muontag.simtel.zst'\n",
    "#filename = '/Users/vdk/MST_work/data_muons/mono_muon_simtel/muon_20deg_0deg_run0___cta-prod6-paranal-2147m-Paranal-0-LSTs-1-MSTs-0-SSTs-NSCAT_1_CSCAT_8_EMIN_0.005_EMAX_1_FIXCHI_600_VIEWCONE_3_after_muontag.simtel.zst'\n",
    "source = EventSource(filename, max_events=9000)\n",
    "event_iterator = iter(source)\n",
    "\n",
    "\n",
    "\n",
    "for i,j in enumerate(event_iterator):\n",
    "    if i == 20:\n",
    "        event2 = j\n",
    "        image_processor = ImageProcessor(source.subarray)\n",
    "        muon_processor = MuonProcessor(source.subarray)\n",
    "        calib = CameraCalibrator(\n",
    "                image_extractor_type=\"NeighborPeakWindowSum\",\n",
    "                subarray = source.subarray)\n",
    "        calib(j)\n",
    "        image_processor(j)\n",
    "        muon_processor(j)\n",
    "        fig, axes = plt.subplots(2, 1, sharex=False, gridspec_kw={'height_ratios': [1, 1]}, figsize=(9,12))\n",
    "        fig.subplots_adjust(hspace=0.2)\n",
    "        ax = axes[0]\n",
    "        camgeom = source.subarray.tel[1].camera.geometry\n",
    "        title=\"TrueImage run {} if {} fit {} width {}\".format(j.index.obs_id, j.index.event_id, round(j.muon.tel[1].efficiency.optical_efficiency, 3), round(j.muon.tel[1].efficiency.width.to_value(),3))\n",
    "        disp = CameraDisplay(camgeom,title=title, ax = ax)\n",
    "        disp.image = j.simulation.tel[1].true_image #.sum(axis=1)\n",
    "        disp.cmap = plt.cm.RdBu_r\n",
    "        disp.add_colorbar()\n",
    "        disp.set_limits_percent(95)\n",
    "        bx = axes[1]\n",
    "        for pix_id in range(0,1764):\n",
    "            bx.plot(j.r0.tel[1].waveform[0][pix_id], label=\"pix {}\".format(pix_id), drawstyle='steps')\n",
    "        bx.set_ylabel(\"ADC counts\")\n",
    "        bx.set_xlabel(\"Samples\")\n",
    "        bx.set_title(\"Waveforms\")\n",
    "        plt.show()\n",
    "        #plt.savefig(f\"/Users/vdk/MST_ProtonImages_NewQualityCheck/TrueImage+Waveform_mstPROTON_event{j.index.event_id}_obs{j.index.obs_id}_numer{i}\")\n",
    "        #plt.savefig(f\"/Users/vdk/TrueImage+Waveform_mstMUON_event{j.index.event_id}_obs{j.index.obs_id}\")\n",
    "        break\n",
    "        #if i == 150:\n",
    "        #    break\n",
    "\n",
    "plt.close()"
   ]
  },
  {
   "cell_type": "code",
   "execution_count": null,
   "id": "67",
   "metadata": {},
   "outputs": [],
   "source": [
    "filename = '/Users/vdk/MST_work/data_muons/mono_proton_simtel/proton_20deg_0deg_run2___cta-prod6-paranal-2147m-Paranal-nshow-3000-0-LSTs-1-MSTs-0-SSTs-NSCAT_5_CSCAT_300_EMIN_1_EMAX_200_after_muontag.simtel.zst'\n",
    "#filename = '/Users/vdk/MST_work/data_muons/mono_muon_simtel/muon_20deg_0deg_run0___cta-prod6-paranal-2147m-Paranal-0-LSTs-1-MSTs-0-SSTs-NSCAT_1_CSCAT_8_EMIN_0.005_EMAX_1_FIXCHI_600_VIEWCONE_3_after_muontag.simtel.zst'\n",
    "source = EventSource(filename, max_events=9000)\n",
    "event_iterator = iter(source)\n",
    "\n",
    "\n",
    "\n",
    "for i,j in enumerate(event_iterator):\n",
    "    if i == 112:\n",
    "        event3 = j\n",
    "        image_processor = ImageProcessor(source.subarray)\n",
    "        muon_processor = MuonProcessor(source.subarray)\n",
    "        calib = CameraCalibrator(\n",
    "                image_extractor_type=\"NeighborPeakWindowSum\",\n",
    "                subarray = source.subarray)\n",
    "        calib(j)\n",
    "        image_processor(j)\n",
    "        muon_processor(j)\n",
    "        fig, axes = plt.subplots(2, 1, sharex=False, gridspec_kw={'height_ratios': [1, 1]}, figsize=(9,12))\n",
    "        fig.subplots_adjust(hspace=0.2)\n",
    "        ax = axes[0]\n",
    "        camgeom = source.subarray.tel[1].camera.geometry\n",
    "        title=\"TrueImage run {} if {} fit {} width {}\".format(j.index.obs_id, j.index.event_id, round(j.muon.tel[1].efficiency.optical_efficiency, 3), round(j.muon.tel[1].efficiency.width.to_value(),3))\n",
    "        disp = CameraDisplay(camgeom,title=title, ax = ax)\n",
    "        disp.image = j.simulation.tel[1].true_image #.sum(axis=1)\n",
    "        disp.cmap = plt.cm.RdBu_r\n",
    "        disp.add_colorbar()\n",
    "        disp.set_limits_percent(95)\n",
    "        bx = axes[1]\n",
    "        for pix_id in range(0,1764):\n",
    "            bx.plot(j.r0.tel[1].waveform[0][pix_id], label=\"pix {}\".format(pix_id), drawstyle='steps')\n",
    "        bx.set_ylabel(\"ADC counts\")\n",
    "        bx.set_xlabel(\"Samples\")\n",
    "        bx.set_title(\"Waveforms\")\n",
    "        plt.show()\n",
    "        #plt.savefig(\"/Users/vdk/TrueImage\")\n",
    "        #plt.savefig(f\"/Users/vdk/MST_ProtonImages_NewQualityCheck/TrueImage+Waveform_mstPROTON_event{j.index.event_id}_obs{j.index.obs_id}_numer{i}\")\n",
    "        #plt.savefig(f\"/Users/vdk/TrueImage+Waveform_mstMUON_event{j.index.event_id}_obs{j.index.obs_id}\")\n",
    "        break\n",
    "        #if i == 150:\n",
    "        #    break\n",
    "\n",
    "plt.close()"
   ]
  },
  {
   "cell_type": "code",
   "execution_count": null,
   "id": "68",
   "metadata": {},
   "outputs": [],
   "source": []
  },
  {
   "cell_type": "code",
   "execution_count": null,
   "id": "69",
   "metadata": {},
   "outputs": [],
   "source": [
    "# check only pixels where signal is less then some value\n",
    "# mean value for all pixels sum over the samples is 6200\n",
    "work_arr = event3.r0.tel[1].waveform[0].copy()\n",
    "work_arr[np.sum(work_arr, axis = 1) > 11000] = 0\n",
    "print(np.count_nonzero(work_arr))\n",
    "plt.figure(figsize = (9,6))\n",
    "camgeom = source.subarray.tel[1].camera.geometry\n",
    "title=\"Intensity cut\"\n",
    "disp = CameraDisplay(camgeom,title=title)\n",
    "disp.image = work_arr.sum(axis=1)\n",
    "#disp.image = true_image\n",
    "disp.cmap = plt.cm.RdBu_r\n",
    "disp.add_colorbar()\n",
    "disp.set_limits_percent(95)\n",
    "#plt.savefig(f\"/Users/vdk/IntensityCut_event{j.index.event_id}\")"
   ]
  },
  {
   "cell_type": "code",
   "execution_count": null,
   "id": "70",
   "metadata": {},
   "outputs": [],
   "source": [
    "for pix_id in range(0,1764):\n",
    "    plt.plot(work_arr[pix_id], label=\"pix {}\".format(pix_id), drawstyle='steps')"
   ]
  },
  {
   "cell_type": "code",
   "execution_count": null,
   "id": "71",
   "metadata": {},
   "outputs": [],
   "source": [
    "plt.figure(figsize = (9,6))\n",
    "camgeom = source.subarray.tel[1].camera.geometry\n",
    "title=\"Intensity cut\"\n",
    "disp = CameraDisplay(camgeom,title=title)\n",
    "disp.image = work_arr.sum(axis=1)\n",
    "#disp.image = true_image\n",
    "disp.cmap = plt.cm.RdBu_r\n",
    "disp.add_colorbar()\n",
    "disp.set_limits_percent(95)\n",
    "#plt.savefig(f\"/Users/vdk/IntensityCut_event{j.index.event_id}\")"
   ]
  },
  {
   "cell_type": "code",
   "execution_count": null,
   "id": "72",
   "metadata": {},
   "outputs": [],
   "source": [
    "for i in work_arr:\n",
    "    print(i)"
   ]
  },
  {
   "cell_type": "code",
   "execution_count": null,
   "id": "73",
   "metadata": {},
   "outputs": [],
   "source": [
    "print(min(np.sum(work_arr, axis = 1)))\n",
    "print(max(np.sum(work_arr, axis = 1)))\n",
    "print(np.mean(np.sum(work_arr, axis = 1)))"
   ]
  },
  {
   "cell_type": "code",
   "execution_count": null,
   "id": "74",
   "metadata": {},
   "outputs": [],
   "source": [
    "a = {1,2,3,4} \n",
    "b = {1,2,5,6}"
   ]
  },
  {
   "cell_type": "code",
   "execution_count": null,
   "id": "75",
   "metadata": {},
   "outputs": [],
   "source": [
    "a - b"
   ]
  },
  {
   "cell_type": "code",
   "execution_count": null,
   "id": "76",
   "metadata": {},
   "outputs": [],
   "source": [
    "test = [i for i in range(0,1765)]"
   ]
  },
  {
   "cell_type": "code",
   "execution_count": null,
   "id": "77",
   "metadata": {},
   "outputs": [],
   "source": [
    "new_arr = set(test) - set(indices)"
   ]
  },
  {
   "cell_type": "code",
   "execution_count": null,
   "id": "78",
   "metadata": {},
   "outputs": [],
   "source": [
    "filename = '/Users/vdk/MST_work/data_muons/mono_proton_simtel/proton_20deg_0deg_run2___cta-prod6-paranal-2147m-Paranal-nshow-3000-0-LSTs-1-MSTs-0-SSTs-NSCAT_5_CSCAT_300_EMIN_1_EMAX_200_after_muontag.simtel.zst'\n",
    "#filename = '/Users/vdk/MST_work/data_muons/mono_muon_simtel/muon_20deg_0deg_run0___cta-prod6-paranal-2147m-Paranal-0-LSTs-1-MSTs-0-SSTs-NSCAT_1_CSCAT_8_EMIN_0.005_EMAX_1_FIXCHI_600_VIEWCONE_3_after_muontag.simtel.zst'\n",
    "source = EventSource(filename, max_events=9000)\n",
    "event_iterator = iter(source)\n",
    "\n",
    "\n",
    "\n",
    "for i,j in enumerate(event_iterator):\n",
    "    if i == 92:\n",
    "        event_work = j\n",
    "        break"
   ]
  },
  {
   "cell_type": "code",
   "execution_count": null,
   "id": "79",
   "metadata": {},
   "outputs": [],
   "source": [
    "plt.figure(figsize = (9,6))\n",
    "camgeom = source.subarray.tel[1].camera.geometry\n",
    "title=\"Intensity cut < mean+10% value\"\n",
    "disp = CameraDisplay(camgeom,title=title)\n",
    "disp.image = event.dl0.tel[1].waveform.sum(axis=1)\n",
    "#disp.image = true_image\n",
    "disp.cmap = plt.cm.RdBu_r\n",
    "disp.add_colorbar()\n",
    "disp.set_limits_percent(95)\n",
    "#plt.savefig(\"/Users/vdk/IntensityCutMean+\")\n"
   ]
  },
  {
   "cell_type": "code",
   "execution_count": null,
   "id": "80",
   "metadata": {},
   "outputs": [],
   "source": [
    "plt.figure(figsize = (9,6))\n",
    "camgeom = source.subarray.tel[1].camera.geometry\n",
    "title=\"Intensity cut < mean+10% value\"\n",
    "disp = CameraDisplay(camgeom,title=title)\n",
    "disp.image = event.dl1.tel[1].image\n",
    "#disp.image = true_image\n",
    "disp.cmap = plt.cm.RdBu_r\n",
    "disp.add_colorbar()\n",
    "disp.set_limits_percent(95)\n"
   ]
  },
  {
   "cell_type": "code",
   "execution_count": null,
   "id": "81",
   "metadata": {},
   "outputs": [],
   "source": [
    "plt.figure(figsize = (9,6))\n",
    "camgeom = source.subarray.tel[1].camera.geometry\n",
    "title=\"Intensity cut < mean+10% value\"\n",
    "disp = CameraDisplay(camgeom,title=title)\n",
    "disp.image = event.simulation.tel[1].true_image\n",
    "#disp.image = true_image\n",
    "disp.cmap = plt.cm.RdBu_r\n",
    "disp.add_colorbar()\n",
    "disp.set_limits_percent(95)"
   ]
  },
  {
   "cell_type": "code",
   "execution_count": null,
   "id": "82",
   "metadata": {},
   "outputs": [],
   "source": [
    "from ctapipe.image.extractor import ImageExtractor\n",
    "\n",
    "image_extractors[name] = ImageExtractor.from_name(\n",
    "                    name, subarray=self.subarray, parent=self\n",
    "                )\n",
    "\n",
    "\n",
    "dl1 = DL1CameraContainer(\n",
    "                image=waveforms[..., 0].astype(np.float32),\n",
    "                peak_time=np.zeros(n_pixels, dtype=np.float32),\n",
    "                is_valid=True,\n",
    "            )\n",
    "extractor = self.image_extractors[self.image_extractor_type.tel[tel_id]]\n",
    "dl1 = extractor(\n",
    "                waveforms,\n",
    "                tel_id=tel_id,\n",
    "                selected_gain_channel=selected_gain_channel,\n",
    "                broken_pixels=broken_pixels,\n",
    "            )\n"
   ]
  },
  {
   "cell_type": "code",
   "execution_count": null,
   "id": "83",
   "metadata": {},
   "outputs": [],
   "source": []
  },
  {
   "cell_type": "code",
   "execution_count": null,
   "id": "84",
   "metadata": {},
   "outputs": [],
   "source": []
  },
  {
   "cell_type": "code",
   "execution_count": null,
   "id": "85",
   "metadata": {},
   "outputs": [],
   "source": []
  },
  {
   "cell_type": "code",
   "execution_count": null,
   "id": "86",
   "metadata": {},
   "outputs": [],
   "source": []
  },
  {
   "cell_type": "code",
   "execution_count": null,
   "id": "87",
   "metadata": {},
   "outputs": [],
   "source": []
  }
 ],
 "metadata": {
  "kernelspec": {
   "display_name": "cta",
   "language": "python",
   "name": "cta"
  },
  "language_info": {
   "codemirror_mode": {
    "name": "ipython",
    "version": 3
   },
   "file_extension": ".py",
   "mimetype": "text/x-python",
   "name": "python",
   "nbconvert_exporter": "python",
   "pygments_lexer": "ipython3",
   "version": "3.11.3"
  }
 },
 "nbformat": 4,
 "nbformat_minor": 5
}
