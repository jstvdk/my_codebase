{
 "cells": [
  {
   "cell_type": "code",
   "execution_count": null,
   "id": "0",
   "metadata": {},
   "outputs": [],
   "source": [
    "import h5py\n",
    "from astropy.io import ascii\n",
    "import numpy as np\n",
    "import pandas as pd\n",
    "import os\n",
    "import csv\n",
    "from seaborn import histplot, pointplot, lineplot\n",
    "import scipy\n",
    "import matplotlib.pyplot as plt\n",
    "from scipy.stats import crystalball\n",
    "from matplotlib.transforms import Affine2D\n",
    "import random\n",
    "import copy\n",
    "import plotly.graph_objects as go\n",
    "from os import path, makedirs\n",
    "from astropy.coordinates import SkyCoord\n",
    "from astropy.table import Table\n",
    "import astropy.units as u\n",
    "from ctapipe.containers import MuonEfficiencyContainer\n",
    "from ctapipe.coordinates import CameraFrame, TelescopeFrame\n",
    "from ctapipe.io import EventSource, EventSeeker\n",
    "from ctapipe.core import TelescopeComponent\n",
    "from ctapipe.utils.datasets import get_dataset_path\n",
    "from ctapipe.core.traits import (\n",
    "    List,\n",
    "    Int,\n",
    "    FloatTelescopeParameter,\n",
    "    TelescopeParameter,\n",
    "    Unicode,\n",
    ")\n",
    "from ctapipe.image.cleaning import tailcuts_clean\n",
    "from ctapipe.image.muon import MuonRingFitter, MuonIntensityFitter\n",
    "from traitlets.config import Config\n",
    "from ctapipe.io import EventSource\n",
    "from ctapipe.image import ImageProcessor\n",
    "from ctapipe.image.muon import MuonProcessor\n",
    "import matplotlib.pyplot as plt\n",
    "from ctapipe.utils import get_dataset_path\n",
    "from ctapipe.io import EventSource\n",
    "from ctapipe.visualization import CameraDisplay\n",
    "from ctapipe.instrument import CameraGeometry\n",
    "from ctapipe.calib import CameraCalibrator\n",
    "import ctapipe\n",
    "from eventio import EventIOFile\n",
    "from eventio.search_utils import yield_all_objects_depth_first\n",
    "from eventio import SimTelFile"
   ]
  },
  {
   "cell_type": "code",
   "execution_count": null,
   "id": "1",
   "metadata": {},
   "outputs": [],
   "source": []
  },
  {
   "cell_type": "code",
   "execution_count": null,
   "id": "2",
   "metadata": {},
   "outputs": [],
   "source": [
    "filename = \"/Users/vdk/Downloads/events_after_muon_tagging_all.pog.h5\"\n",
    "\n",
    "with h5py.File(filename, \"r\") as f:\n",
    "    pass"
   ]
  },
  {
   "cell_type": "code",
   "execution_count": null,
   "id": "3",
   "metadata": {},
   "outputs": [],
   "source": [
    "f = h5py.File('/Users/vdk/Downloads/events_after_muon_tagging_all.pog.h5', 'r')"
   ]
  },
  {
   "cell_type": "code",
   "execution_count": null,
   "id": "4",
   "metadata": {},
   "outputs": [],
   "source": []
  },
  {
   "cell_type": "code",
   "execution_count": null,
   "id": "5",
   "metadata": {},
   "outputs": [],
   "source": [
    "filename = \"/Users/vdk/MST_work/data_muons/events_after_muon_tagging_all.pog.h5\"\n",
    "#filename = '/Users/vdk/Downloads/events_after_muon_tagging_all.pog.h5'\n",
    "source = EventSource(input_url = filename, max_events=5)\n",
    "#source = ctapipe.io.SimTelEventSource(filename)\n",
    "#source = ctapipe.io.HDF5EventSource(filename)\n",
    "#source = ctapipe.io.TableLoader(filename)\n"
   ]
  },
  {
   "cell_type": "code",
   "execution_count": null,
   "id": "6",
   "metadata": {},
   "outputs": [],
   "source": [
    "os.access(filename, os.R_OK)"
   ]
  },
  {
   "cell_type": "code",
   "execution_count": null,
   "id": "7",
   "metadata": {},
   "outputs": [],
   "source": [
    "import scipy.io\n",
    "f = scipy.io.loadmat('/Users/vdk/MST_work/data_muons/events_after_muon_tagging_all_opt_deg_random.pog.h5')"
   ]
  },
  {
   "cell_type": "code",
   "execution_count": null,
   "id": "8",
   "metadata": {},
   "outputs": [],
   "source": [
    "path = \"/Users/vdk/MST_work/data_muons/events_after_muon_tagging_all.pog.h5\"\n",
    "\n",
    "with EventIOFile(path) as f:\n",
    "    for o, level in yield_all_objects_depth_first(f):\n",
    "        if hasattr(o, 'parse'):\n",
    "            o.parse()"
   ]
  },
  {
   "cell_type": "code",
   "execution_count": null,
   "id": "9",
   "metadata": {},
   "outputs": [],
   "source": [
    "test = SimTelFile(filename)"
   ]
  },
  {
   "cell_type": "code",
   "execution_count": null,
   "id": "10",
   "metadata": {},
   "outputs": [],
   "source": [
    "import numpy as np\n",
    "import pandas as pd\n",
    "import argparse, os, sys, subprocess, h5py\n",
    "import astropy.units as u\n",
    "from astropy.table import Table, unique, vstack, QTable, hstack, join, Column\n",
    "from eventio import SimTelFile\n",
    "\n",
    "parser = argparse.ArgumentParser(description=\"Specify simulation file\")\n",
    "\n",
    "parser.add_argument('simtel_urls',nargs='+',default=[],help='Enter sim_telarray file')\n",
    "parser.add_argument('run_no',nargs='+',default=0,help='Enter run number')\n",
    "\n",
    "args = parser.parse_args()\n",
    "dicts = vars(args)\n",
    "\n",
    "simtel_urls = dicts['simtel_urls']\n",
    "run_n = int(dicts[\"run_no\"][0])\n",
    "print(run_n)\n",
    "patch_url = \"/lfs/l1/cta/nieves/muon-tagging/fc1764_layout_patches.txt\"  #contains position of the patches and cards\n",
    "\n",
    "def get_events(simtel_urls, patch_url, run_n):\n",
    "    \"\"\"\n",
    "    simtel_url : sim_telarray simulation\n",
    "    patch_url : file with positions of patches and cards in the camera\n",
    "    \"\"\"\n",
    "    X = pd.read_csv(patch_url, sep=\" \", index_col=None)\n",
    "    trigger_id = X[\"trigger_addr\"]\n",
    "\n",
    "    no_trig_sect = []\n",
    "    no_trig_tel = []\n",
    "    no_trig_card = []\n",
    "    event_id = []\n",
    "    tel_id = []\n",
    "    shower_id = []\n",
    "    r0_traces = []\n",
    "    r1_traces = []\n",
    "    dc_to_pe = []\n",
    "    pedestal = []\n",
    "    for simtel_url in simtel_urls:\n",
    "        with SimTelFile(simtel_url) as f:   #reading trigger & event information with eventio\n",
    "            for e in f:\n",
    "                tels = e['telescope_events'].keys()\n",
    "                for tel in tels:\n",
    "                    t_trig = e['telescope_events'][tel]['header']['time_trgsect']\n",
    "                    trig_sects = e['telescope_events'][tel]['header']['list_trgsect'][t_trig < (np.min(t_trig) + 8)]\n",
    "                    no_trig_sect.append(len(trig_sects)) #no of triggered sectors\n",
    "\n",
    "                    trig_card = []\n",
    "                    for string in np.array(trigger_id.values)[np.array(trig_sects)]:\n",
    "                        trig_card.append(string[2])\n",
    "\n",
    "                    no_trig_card.append(len(np.unique(trig_card)))  #no of triggered cards\n",
    "                    no_trig_tel.append(len(e[\"trigger_information\"][\"triggered_telescopes\"]))  #no of triggered tels to study background\n",
    "                    event_id.append(e.get(\"event_id\", 0))\n",
    "                    tel_id.append(tel)\n",
    "                    pedestal.append(e[\"camera_monitorings\"][tel][\"pedestal\"][0] / e[\"camera_monitorings\"][tel][\"n_ped_slices\"])\n",
    "                    dc_to_pe.append(e[\"laser_calibrations\"][tel][\"calib\"][0])\n",
    "                    shower_id.append(e[\"mc_event\"][\"shower_num\"])\n",
    "                    r0_traces.append(e[\"telescope_events\"][tel][\"adc_samples\"][0])\n",
    "                    r1_traces.append((e[\"telescope_events\"][tel][\"adc_samples\"][0] - (e[\"camera_monitorings\"][tel][\"pedestal\"][0][:,None] / e[\"camera_monitorings\"][tel][\"n_ped_slices\"]))*e[\"laser_calibrations\"][tel][\"calib\"][0][:,None])\n",
    "                \n",
    "    cut_p = np.array(no_trig_sect) >= 30  #patch cut\n",
    "    cut_c = np.array(no_trig_card) >= 3   #card cut\n",
    "\n",
    "    events_after_tagging = QTable([np.array(event_id)[(cut_p) & (cut_c)], np.array(shower_id)[(cut_p) & (cut_c)], np.array(tel_id)[(cut_p) & (cut_c)], np.array(no_trig_tel)[(cut_p) & (cut_c)], np.array(dc_to_pe)[(cut_p) & (cut_c)], np.array(pedestal)[(cut_p) & (cut_c)], np.array(r1_traces)[(cut_p) & (cut_c)], np.array(r0_traces)[(cut_p) & (cut_c)]], names=(\"Event_ID\", \"Shower_Number\", \"Telescope_Num\", \"Num_Trigger_Tel\", \"dc_to_pe\", \"pedestal\", \"R1_Traces\", \"R0_Traces\"))\n",
    "\n",
    "    events_after_tagging.write('/lfs/l1/cta/nieves/muon-tagging/dataset/results/events_after_muon_tagging_{}.pog.h5'.format(run_n), format='fits', overwrite=True) \n",
    "\n",
    "get_events(simtel_urls, patch_url, run_n)\n"
   ]
  },
  {
   "cell_type": "code",
   "execution_count": null,
   "id": "11",
   "metadata": {},
   "outputs": [],
   "source": [
    "t = Table.read(\"/Users/vdk/MST_work/data_muons/events_after_muon_tagging_all.pog.h5\")"
   ]
  },
  {
   "cell_type": "code",
   "execution_count": null,
   "id": "12",
   "metadata": {},
   "outputs": [],
   "source": [
    "t"
   ]
  },
  {
   "cell_type": "code",
   "execution_count": null,
   "id": "13",
   "metadata": {},
   "outputs": [],
   "source": [
    "np.shape(t['R0_Traces'])"
   ]
  },
  {
   "cell_type": "code",
   "execution_count": null,
   "id": "14",
   "metadata": {},
   "outputs": [],
   "source": [
    "t['R1_Traces'][3]"
   ]
  },
  {
   "cell_type": "code",
   "execution_count": null,
   "id": "15",
   "metadata": {},
   "outputs": [],
   "source": [
    "t2 = Table.read(\"/Users/vdk/MST_work/data_muons/events_after_muon_tagging_all_opt_deg_random.pog.h5\")"
   ]
  },
  {
   "cell_type": "code",
   "execution_count": null,
   "id": "16",
   "metadata": {},
   "outputs": [],
   "source": [
    "t2"
   ]
  },
  {
   "cell_type": "code",
   "execution_count": null,
   "id": "17",
   "metadata": {},
   "outputs": [],
   "source": []
  }
 ],
 "metadata": {
  "kernelspec": {
   "display_name": "cta",
   "language": "python",
   "name": "cta"
  },
  "language_info": {
   "codemirror_mode": {
    "name": "ipython",
    "version": 3
   },
   "file_extension": ".py",
   "mimetype": "text/x-python",
   "name": "python",
   "nbconvert_exporter": "python",
   "pygments_lexer": "ipython3",
   "version": "3.11.3"
  }
 },
 "nbformat": 4,
 "nbformat_minor": 5
}
