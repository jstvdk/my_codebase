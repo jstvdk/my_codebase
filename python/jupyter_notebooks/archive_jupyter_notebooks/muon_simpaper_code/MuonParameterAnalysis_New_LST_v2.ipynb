{
 "cells": [
  {
   "cell_type": "markdown",
   "metadata": {},
   "source": [
    "This notebook serves as an example to analyze and display muon parameters created from a simtel file and written to an hdf5 table using the MuonParameterCalculation notebook.\n",
    "\n",
    "Created by Markus Gaug, 19/3/2020, based on code found in ctapipe.tools.MuonDisplayerTool and ctapipe.image.muon.*\n",
    "\n"
   ]
  },
  {
   "cell_type": "markdown",
   "metadata": {},
   "source": [
    "Import the table, created by MuonParameterCalculation"
   ]
  },
  {
   "cell_type": "code",
   "execution_count": null,
   "metadata": {},
   "outputs": [],
   "source": [
    "import tables as tb\n",
    "import glob\n",
    "import numpy as np\n",
    "from astropy import units as u\n",
    "from os.path import basename\n",
    "\n",
    "from astropy.coordinates import SkyCoord, AltAz\n",
    "from ctapipe.coordinates import NominalFrame\n",
    "\n",
    "\n",
    "muonFile = \"run*_muon_lst.simtel.hdf5\"\n",
    "\n",
    "muonDir=\"/Users/vdk/CTA/GeneveWork/muon_simpaper/hdf5output/new/lst/\"\n",
    "\n",
    "muonTableName = 'muons/muon_table'\n",
    "\n",
    "\n",
    "'''Initialize all parameters we might need in this notebook from the hdf5 table \n",
    "   I'm really sorry, no way found to combine tables which host data of type 'Table'\n",
    "   So, we have to read all files in once and store all the information we need in separate np arrays'''\n",
    "\n",
    "# usedParameters = [  'alt' , 'az', \n",
    "#             'center_fov_lon', 'center_fov_lat',  'radius', \n",
    "#             'impact_x', 'impact_y', \n",
    "#             'core_x', 'core_y',\n",
    "#             'energy',\n",
    "#             'optical_efficiency', \n",
    "#             'width',\n",
    "#             'impact_error', 'phi_error', 'width_error', \n",
    "#             'optical_efficiency_error',\n",
    "#             'is_valid'\n",
    "#          ]\n",
    "\n",
    "# telParameters = [ 'telalt', 'telaz']\n",
    "\n",
    "# '''and the corresponding units'''\n",
    "# usedUnits = { 'alt' : u.deg, 'az': u.deg, \n",
    "#               'center_fov_lon': u.deg, 'center_fov_lat': u.deg, 'radius' : u.deg, \n",
    "#               'impact_x' : u.m, 'impact_y' : u.m, \n",
    "#               'core_x' : u.m, 'core_y' : u.m,\n",
    "#               'energy' : u.TeV, \n",
    "#               'optical_efficiency' : u.dimensionless_unscaled,\n",
    "#               'width' : u.deg, \n",
    "#               'impact_error' : u.m, 'phi_error' : u.deg, 'width_error' : u.deg, \n",
    "#               'optical_efficiency_error' : u.dimensionless_unscaled,\n",
    "#               'is_valid' : u.dimensionless_unscaled\n",
    "#             }\n",
    "\n",
    "usedParameters = [  'alt' , 'az', \n",
    "            'center_fov_lon', 'center_fov_lat',  'radius', \n",
    "            'impact_x', 'impact_y', \n",
    "            'core_x', 'core_y',\n",
    "            'energy',\n",
    "            'optical_efficiency', \n",
    "            'width',\n",
    "            'is_valid'\n",
    "         ]\n",
    "\n",
    "telParameters = [ 'telalt', 'telaz']\n",
    "\n",
    "'''and the corresponding units'''\n",
    "usedUnits = { 'alt' : u.deg, 'az': u.deg, \n",
    "              'center_fov_lon': u.deg, 'center_fov_lat': u.deg, 'radius' : u.deg, \n",
    "              'impact_x' : u.m, 'impact_y' : u.m, \n",
    "              'core_x' : u.m, 'core_y' : u.m,\n",
    "              'energy' : u.TeV, \n",
    "              'optical_efficiency' : u.dimensionless_unscaled,\n",
    "              'width' : u.deg,\n",
    "              'is_valid' : u.dimensionless_unscaled\n",
    "            }\n",
    "\n",
    "\n",
    "telUnits = { 'telalt' : u.deg , 'telaz' : u.deg }\n",
    "\n",
    "'''Initialize the dictionary for easier access later and loops '''\n",
    "muonData = {}\n",
    "for parameterName in usedParameters:\n",
    "    muonData[parameterName] = np.array([]) \n",
    "for telparName in telParameters:\n",
    "    muonData[telparName] = np.array([]) \n",
    "#print (muonData)\n",
    "\n",
    "\n",
    "if '*' in muonFile:\n",
    "    fileCounter = 0\n",
    "    print ('Search for files in',muonDir+muonFile)\n",
    "    for file in glob.glob(muonDir+muonFile):\n",
    "        print ('reading ',file)\n",
    "        \n",
    "        tel_pointing_alt = 90.\n",
    "        tel_pointing_az = 0.\n",
    "        telData = { 'telalt' : tel_pointing_alt, 'telaz' : tel_pointing_az }\n",
    "        \n",
    "        h5Root  = tb.open_file(file,mode='r')  \n",
    "        h5Table = h5Root.root[muonTableName]\n",
    "        \n",
    "        #for x in h5Table.iterrows(): print (x)\n",
    "        \n",
    "        for parameterName in usedParameters:\n",
    "            arrayWithUnit = ( np.array(  [ x[parameterName] for x in h5Table.iterrows() ] ) ) * usedUnits[parameterName]\n",
    "            muonData[parameterName] = np.concatenate( (muonData[parameterName], arrayWithUnit) )\n",
    "            #print (parameterName,muonData[parameterName])\n",
    "        for telparName in telParameters: \n",
    "            #print (len(h5Table), telData[telparName])\n",
    "            arrayWithUnit = ( np.ones(len(h5Table))  * telData[telparName] ) #* telUnits[telparName]\n",
    "            muonData[telparName] = np.concatenate( (muonData[telparName], arrayWithUnit) )\n",
    "        h5Root.close()\n",
    "        fileCounter = fileCounter + 1\n",
    "    print('\\nDone with reading all {:d} muon data arrays from {:d} df5 files into memory'.format(len(usedParameters)                                                                                         ,fileCounter))\n",
    "\n",
    "else:\n",
    "    file = muonDir+muonFile\n",
    "    print ('reading ',file)\n",
    "\n",
    "    tel_pointing_alt = 90.\n",
    "    tel_pointing_az = 0.\n",
    "    telData = { 'telalt' : tel_pointing_alt, 'telaz' : tel_pointing_az }\n",
    "    print ('Telescope points at: ', tel_pointing_alt,'deg Alt and ', tel_pointing_az,'deg Az ')\n",
    "\n",
    "    h5Root  = tb.open_file(file)\n",
    "    # print (h5Root)\n",
    "    # print (h5Root.root.muons.muon_table)\n",
    "    h5Table = h5Root.root.muons.muon_table\n",
    "    # print (h5Table.flush)\n",
    "\n",
    "    for parameterName in usedParameters:\n",
    "        print(f\"parameterName = {parameterName} and muoNData = {muonData[parameterName]}\")\n",
    "        arrayWithUnit = (np.array([x[parameterName] for x in h5Table.iterrows()])) * usedUnits[parameterName]\n",
    "        muonData[parameterName] = np.concatenate( (muonData[parameterName], arrayWithUnit) )\n",
    "        print(f\"parameterName = {parameterName} and muoNData = {muonData[parameterName]}\")\n",
    "\n",
    "\n",
    "    for telparName in telParameters: \n",
    "        print (\"telpar\", len(h5Table), telData[telparName])\n",
    "        arrayWithUnit = ( np.ones(len(h5Table))  * telData[telparName] ) #* telUnits[telparName]\n",
    "        muonData[telparName] = np.concatenate( (muonData[telparName], arrayWithUnit) )\n",
    "    #print (h5Table.iterrows())\n",
    "    print('\\nDone with reading all {:d} muon data arrays from the hdf5 file into memory'.format(len(usedParameters)))\n",
    "\n"
   ]
  },
  {
   "cell_type": "code",
   "execution_count": null,
   "metadata": {},
   "outputs": [],
   "source": []
  },
  {
   "cell_type": "code",
   "execution_count": null,
   "metadata": {},
   "outputs": [],
   "source": [
    "nan_indices = np.where(muonData['is_valid'] == 0)[0]\n",
    "\n",
    "for key in muonData.keys():\n",
    "    print(\"before\", len(muonData[key]))\n",
    "    muonData[key] = np.delete(muonData[key], nan_indices)\n",
    "    print(\"after\", len(muonData[key]))"
   ]
  },
  {
   "cell_type": "markdown",
   "metadata": {},
   "source": [
    "First, check the accuracy of the ring reconstruction.  "
   ]
  },
  {
   "cell_type": "markdown",
   "metadata": {},
   "source": [
    "The muon reconstruction found in ctapipe.image.muon.muon_reco_functions converts camera coordinates immediately into sky coordinates and reconstructs the ring 'on the sky'. So, we only have to compare the true muon direction with the one found in 'ring_center_x' and 'ring_center_y', which are actually 'ring_center_delta_az' and 'ring_center_delta_alt'. \n",
    "\n",
    "However, it looks as if the camera rotation (particularly important for FlashCam) has been taken into account, so have to subtract it from the true muon incidence angle. Moreover, the camera rotation angle cannot be written to the hdf5 table, because event.inst.subarray.tels[1].camera does not have any Fields. The should actually be fixed... \n",
    "\n",
    "We will have to initialize the rotation angle by hand"
   ]
  },
  {
   "cell_type": "code",
   "execution_count": null,
   "metadata": {},
   "outputs": [],
   "source": [
    "\"\"\"These values apply only to FlashCam !!!\"\"\"\n",
    "camera_rotation = 0.* u.deg # rotation seems to be correced with current version, previously 30.*u.deg\n",
    "\"\"\"For Nectar Cam and LST Cam use:\n",
    "camera_rotation = 100.893 * u.deg \"\"\"\n",
    "#camera_rotation = 100.893 * u.deg "
   ]
  },
  {
   "cell_type": "markdown",
   "metadata": {},
   "source": [
    "Initialize the telescope pointing direction now. The values can also be found later on in max_alt/min_alt or in max_az/min_az, but for simplicity we copy them here and initialize only once.\n",
    "\n",
    "Moreover, be aware with using the value from max_alt/min_alt directly (1.5707964 rad, beware of the last digit '4'), because AltAz will reject them telling that an altitude larger than 90 deg. is obtained and not supported. Reducing the altitude to 1.5707963 rad by hand works, but should actually be fixed in the simtel_array. "
   ]
  },
  {
   "cell_type": "code",
   "execution_count": null,
   "metadata": {},
   "outputs": [],
   "source": [
    "telescope_alt =  u.Quantity(muonData['telalt'],u.deg).to(u.rad) #1.5707963  * u.rad   # If muons have been simulated with telescope pointing to zenith \n",
    "telescope_az  =  u.Quantity(muonData['telaz'],u.deg).to(u.rad) #- 0.09284279 * u.rad   # Magnetic North, used for simulations with Corsika \n",
    "\n",
    "\"\"\" The next lines are only to avoid warnings from ctapipe.coordinates and are not needed for MC \"\"\"\n",
    "from astropy.time import Time\n",
    "from astropy.coordinates import EarthLocation\n",
    "\n",
    "\n",
    "\"\"\" Adopt a dummy time and an earth location\"\"\"\n",
    "obstime = Time('2013-11-01T03:00')\n",
    "location = EarthLocation.of_site('Roque de los Muchachos')\n",
    "altaz = AltAz(location=location, obstime=obstime)\n",
    "\n",
    "telescope_pointing = SkyCoord(alt=telescope_alt, az=telescope_az, frame=altaz)"
   ]
  },
  {
   "cell_type": "code",
   "execution_count": null,
   "metadata": {},
   "outputs": [],
   "source": [
    "telescope_alt =  u.Quantity(muonData['telalt'],u.deg).to(u.rad) #1.5707963  * u.rad   # If muons have been simulated with telescope pointing to zenith \n",
    "telescope_az  = -0.09284279 * u.rad   # Magnetic North, used for simulations with Corsika \n",
    "telescope_pointing = SkyCoord(alt=telescope_alt, az=telescope_az, frame=altaz)\n",
    "telescope_pointing[0]"
   ]
  },
  {
   "cell_type": "markdown",
   "metadata": {},
   "source": [
    "Now, get the true muon directions into the right frame: "
   ]
  },
  {
   "cell_type": "code",
   "execution_count": null,
   "metadata": {},
   "outputs": [],
   "source": [
    "alts = muonData['alt']\n",
    "\"\"\"\n",
    "ATTENTION !!!! \n",
    "HAVE TO SUBTRACT HERE THE CAMERA ROTATION FOR FLASHCAM WHICH WAS NOT CORRECTLY \n",
    "TAKEN INTO ACCOUNT DURING THE PRODUCTION OF THE MUON PARAMETERS !!!!\n",
    "\"\"\"\n",
    "azs  = muonData['az'] - camera_rotation\n",
    "\n",
    "#print (alts)\n",
    "\n",
    "\"\"\"Convert the original muon directions into the telescope pointing frame \"\"\"\n",
    "ring_original       = SkyCoord(az=azs, alt=alts, frame=altaz)\n",
    "ring_original_sky   = ring_original.transform_to(NominalFrame(origin=telescope_pointing) )\n",
    "\n",
    "#ring_original_sky_x = ring_original_sky.fov_lon.to(u.deg)\n",
    "#ring_original_sky_y = ring_original_sky.fov_lat.to(u.deg)\n",
    "\n",
    "ring_original_sky_x = ring_original_sky.fov_lon.to_value('deg')\n",
    "ring_original_sky_y = ring_original_sky.fov_lat.to_value('deg')\n",
    "\n",
    "#print (ring_original_sky_x)\n",
    "#print (ring_original_sky_y)"
   ]
  },
  {
   "cell_type": "code",
   "execution_count": null,
   "metadata": {},
   "outputs": [],
   "source": [
    "print(ring_original.transform_to(NominalFrame(origin=telescope_pointing)).fov_lon[0].to(u.deg))\n",
    "print(ring_original.transform_to(NominalFrame(origin=telescope_pointing))[0].fov_lon.to_value('deg'))\n",
    "ring_original.transform_to(NominalFrame(origin=telescope_pointing)).fov_lon[0].to(u.deg)\\\n",
    "    == ring_original.transform_to(NominalFrame(origin=telescope_pointing))[0].fov_lon.to_value('deg')"
   ]
  },
  {
   "cell_type": "code",
   "execution_count": null,
   "metadata": {},
   "outputs": [],
   "source": []
  },
  {
   "cell_type": "code",
   "execution_count": null,
   "metadata": {},
   "outputs": [],
   "source": [
    "muonData['center_fov_lon']"
   ]
  },
  {
   "cell_type": "markdown",
   "metadata": {},
   "source": [
    "The reconstructed ring already comes in sky coordinates"
   ]
  },
  {
   "cell_type": "code",
   "execution_count": null,
   "metadata": {},
   "outputs": [],
   "source": [
    "ring_delta_az  = muonData['center_fov_lon']\n",
    "ring_delta_alt = muonData['center_fov_lat']\n",
    "radius         = muonData['radius']"
   ]
  },
  {
   "cell_type": "code",
   "execution_count": null,
   "metadata": {},
   "outputs": [],
   "source": [
    "# ring_original_sky_x\n",
    "# ring_delta_az.to_value()"
   ]
  },
  {
   "cell_type": "markdown",
   "metadata": {},
   "source": [
    "Now, check the angular distance between both and plot them as a function of energy"
   ]
  },
  {
   "cell_type": "code",
   "execution_count": null,
   "metadata": {},
   "outputs": [],
   "source": [
    "from matplotlib import pyplot as plt\n",
    "%matplotlib inline\n",
    "from astropy.stats import sigma_clip, mad_std\n",
    "from scipy.optimize import minimize\n",
    "from scipy.optimize import least_squares\n",
    "\n",
    "d_x = np.array(ring_original_sky_x - ring_delta_az.to_value())\n",
    "d_y = np.array(ring_original_sky_y - ring_delta_alt.to_value())\n",
    "d_r = np.array(np.sqrt(d_x**2 + d_y**2))\n",
    "\n",
    "\n",
    "# nan_indices = np.where(np.isnan(d_x))\n",
    "\n",
    "# d_x_reduced = d_x[~np.isnan(d_x)]\n",
    "# d_y_reduced = d_y[~np.isnan(d_y)]\n",
    "# d_r_reduced = d_r[~np.isnan(d_r)]\n",
    "\n",
    "d_r_reduced = d_r\n",
    "\n",
    "# print(f\"dx {d_x}, dy {d_y}, dr {d_r},\")\n",
    "\n",
    "energy = np.array(muonData['energy'])\n",
    "\n",
    "#energy_reduced = np.delete(energy, nan_indices)\n",
    "\n",
    "energy_reduced = energy\n",
    "\n",
    "plt.figure(figsize=[10.,5.])\n",
    "plt.plot(np.log10(energy_reduced),d_r_reduced,'.') \n",
    "\n",
    "plt.xlabel(r'$\\log_{10}$(energy [TeV])')\n",
    "plt.ylabel(r'$\\Delta \\Phi$ [deg]')\n",
    "\n",
    "\n",
    "# Fit with robust statistics\n",
    "\n",
    "def deviationError(x,a,b,c):\n",
    "    return a*np.abs(x)**c + b\n",
    "\n",
    "def residuals(x,t,y):\n",
    "    return deviationError(t,x[0],x[1],x[2]) - y\n",
    "\n",
    "bnds = ((0, None), (0, None), (0, None))\n",
    "f_scale = 0.01\n",
    "loss = 'soft_l1'\n",
    "result = least_squares(residuals, [0.02, 0.2, 3.], args=(np.log10(energy_reduced),d_r_reduced),loss=loss, f_scale=f_scale) #, bounds=bnds)\n",
    "\n",
    "xx = np.linspace(-2.4,1,100)\n",
    "label_str = rf'$\\Delta \\Phi = {result.x[1]:3.3f} + {result.x[0]:3.3f} \\cdot | \\log_{{{10}}}(energy [TeV]) |^{{{result.x[2]:3.1f}}}$'\n",
    "plt.plot(xx, deviationError(xx, *result.x), label=label_str) \n",
    "plt.legend(loc='best')\n",
    "\n",
    "#plt.ylim(0,5)\n",
    "plt.show()\n"
   ]
  },
  {
   "cell_type": "code",
   "execution_count": null,
   "metadata": {},
   "outputs": [],
   "source": []
  },
  {
   "cell_type": "markdown",
   "metadata": {},
   "source": [
    "Let's check also the accuracy of the reconstructed muon impact distance. \n",
    "\n",
    "Here, also a rotation the true muon impact parameters is necessary and a reflection of the X-coordinate! \n",
    "\n",
    "First, try without anything: "
   ]
  },
  {
   "cell_type": "code",
   "execution_count": null,
   "metadata": {},
   "outputs": [],
   "source": [
    "reconstructed_core_x = muonData['impact_x'] # fitted impact parameter x position\n",
    "reconstructed_core_y = muonData['impact_y'] # fitted impact parameter y position\n",
    "reconstructed_core_d = np.sqrt(reconstructed_core_x**2+reconstructed_core_y**2) # fitted impact parameter\n",
    "\n",
    "true_core_x = muonData['core_x'] # simulated core position x\n",
    "true_core_y = muonData['core_y'] # simulated core position y\n",
    "true_core_d = np.sqrt(true_core_x**2+true_core_y**2) # simulated core distance\n",
    "\n",
    "reconstruction_err = np.sqrt((reconstructed_core_x-true_core_x)**2+(reconstructed_core_y-true_core_y)**2)\n",
    "\n",
    "reconstruction_err_d = reconstructed_core_d - true_core_d\n",
    "\n",
    "unit = reconstruction_err.unit\n",
    "\n",
    "plt.figure(figsize=[15.,5.])\n",
    "\n",
    "plt.subplot(121)\n",
    "plt.hist(reconstruction_err.to_value(), bins = 20, alpha = 0.5)\n",
    "plt.grid(alpha=0.5)\n",
    "plt.xlabel(rf'$\\Delta \\rho$ [{unit:FITS}]')\n",
    "plt.subplot(122)\n",
    "plt.hist(reconstruction_err_d.to_value(), bins = 20, alpha = 0.5)\n",
    "plt.grid(alpha=0.5)\n",
    "plt.xlabel(rf'$\\Delta |\\rho|$ [{unit:FITS}]')\n",
    "plt.show()\n"
   ]
  },
  {
   "cell_type": "markdown",
   "metadata": {},
   "source": [
    "Now, try a reflection only:"
   ]
  },
  {
   "cell_type": "code",
   "execution_count": null,
   "metadata": {},
   "outputs": [],
   "source": [
    "reconstruction_err = np.sqrt((reconstructed_core_x-true_core_x)**2+(reconstructed_core_y-true_core_y)**2)\n",
    "\n",
    "plt.figure(figsize=[15.,5.])\n",
    "plt.subplot(121)\n",
    "plt.hist(reconstruction_err.to_value(), bins = 20, alpha = 0.5)\n",
    "plt.xlabel(rf'$\\Delta \\rho$ [{unit:FITS}]')\n",
    "plt.subplot(122)\n",
    "plt.hist(reconstruction_err_d.to_value(), bins = 20, alpha = 0.5)\n",
    "plt.xlabel(rf'$\\Delta |\\rho|$ [{unit:FITS}]')\n",
    "plt.show()\n"
   ]
  },
  {
   "cell_type": "markdown",
   "metadata": {},
   "source": [
    "Seems that here also, the camera rotation needs to be introduced by hand:"
   ]
  },
  {
   "cell_type": "code",
   "execution_count": null,
   "metadata": {},
   "outputs": [],
   "source": [
    "camera_rotation = 84.* u.deg #   79.* u.deg  # 260 ++\n",
    "camera_rotation = 0*u.deg\n",
    "theta = camera_rotation.to_value('rad')\n",
    "rotM = np.array([[np.cos(theta), -np.sin(theta)], \n",
    "                 [np.sin(theta),  np.cos(theta)]])\n",
    "\n",
    "rotated_cores = np.dot(rotM, np.stack((true_core_x,true_core_y)))"
   ]
  },
  {
   "cell_type": "code",
   "execution_count": null,
   "metadata": {},
   "outputs": [],
   "source": [
    "# first some basic quality cuts \n",
    "ids = np.where((reconstructed_core_d > 1 * u.m) & (reconstructed_core_d < 12 * u.m) & (radius < 1.3 *u.deg) & (radius > 0.85 *u.deg))\n",
    "\n",
    "reconstruction_err = np.sqrt((reconstructed_core_x-rotated_cores[0])**2+(reconstructed_core_y-rotated_cores[1])**2)\n",
    "true_core_d = np.sqrt(rotated_cores[0]**2+rotated_cores[1]**2)\n",
    "\n",
    "reconstruction_err_d = reconstructed_core_d - true_core_d\n",
    "\n",
    "\n",
    "mean   = reconstruction_err[ids].to_value().mean()\n",
    "mean_d = reconstruction_err_d[ids].to_value().mean()\n",
    "std_d  = reconstruction_err_d[ids].to_value().std()\n",
    "\n",
    "plt.figure(figsize=[12.,12.])\n",
    "plt.subplot(221)\n",
    "plt.hist(reconstruction_err[ids].to_value(),30)\n",
    "\n",
    "plt.axvline(mean, color='k', linestyle='dashed', linewidth=1, label=f'Mean: {mean:.4f} {unit:FITS} ')\n",
    "\n",
    "plt.xlabel(rf'$|\\Delta \\rho|$ [{unit:FITS}]')\n",
    "plt.legend()\n",
    "\n",
    "plt.subplot(222)\n",
    "plt.hist(reconstruction_err_d[ids].to_value(),30)\n",
    "plt.axvline(mean_d, color='k', linestyle='dashed', linewidth=1, label=rf'$\\Delta|\\rho|$: {mean_d:.2f} $\\pm$ {std_d:.2f} {unit:FITS} ')\n",
    "plt.xlabel(r'$|\\rho|_{{reconstructed}}-|\\rho|_{{simulated}}$ [{0:FITS}]'.format(unit))\n",
    "plt.legend()\n",
    "\n",
    "plt.subplot(223)\n",
    "plt.plot(true_core_d[ids].to_value(),reconstruction_err[ids].to_value(),'.')\n",
    "plt.xlabel(r'$|\\rho_{{simulated}}|$ [{0:FITS}]'.format(unit))\n",
    "plt.ylabel(r'$|\\Delta \\rho|$ [{0:FITS}]'.format(unit))\n",
    "\n",
    "\n",
    "plt.subplot(224)\n",
    "plt.plot(true_core_d[ids].to_value(),reconstruction_err_d[ids].to_value(),'.')\n",
    "plt.xlabel(r'$|\\rho_{{simulated}}|$ [{0:FITS}]'.format(unit))\n",
    "plt.ylabel(r'$|\\rho|_{{reconstructed}}-|\\rho|_{{simulated}}$ [{0:FITS}]'.format(unit))\n",
    "\n",
    "plt.show()"
   ]
  },
  {
   "cell_type": "code",
   "execution_count": null,
   "metadata": {},
   "outputs": [],
   "source": [
    "reconstruction_err[ids]"
   ]
  },
  {
   "cell_type": "markdown",
   "metadata": {},
   "source": [
    "That seems to be correct one, although still quite improvable in precision! \n",
    "\n",
    "Let's check whether it has to do with muon energy: "
   ]
  },
  {
   "cell_type": "code",
   "execution_count": null,
   "metadata": {},
   "outputs": [],
   "source": [
    "plt.plot(np.log10(energy[ids]),reconstruction_err[ids].to_value(),'.')\n",
    "plt.xlabel(r'$\\log_{10}$(energy [TeV])')\n",
    "plt.ylabel(r'$\\Delta \\rho$ [{0:FITS}]'.format(unit))\n",
    "\n",
    "result = least_squares(residuals, [0.02, 0.2, 3.], args=(np.log10(energy[ids]),reconstruction_err[ids].to_value()),loss=loss, f_scale=f_scale) #, bounds=bnds)\n",
    "\n",
    "xx = np.linspace(-2.2,-0.01,100)\n",
    "label_str = rf'$\\Delta \\rho = {result.x[1]:3.3f} + {result.x[0]:3.3f} \\cdot | \\log_{{{10}}}(energy [TeV]) |^{{{result.x[2]:3.1f}}}$'\n",
    "plt.plot(xx, deviationError(xx, *result.x), label=label_str) \n",
    "plt.legend(loc='best')\n",
    "\n",
    "plt.show()"
   ]
  },
  {
   "cell_type": "markdown",
   "metadata": {},
   "source": [
    "Definitely! We have to cut also on the muon ring! "
   ]
  },
  {
   "cell_type": "code",
   "execution_count": null,
   "metadata": {},
   "outputs": [],
   "source": [
    "thetainf = 1.225 * u.deg    # average value of sqrt(2epsilon) for 2200 m a.s.l.\n",
    "m_mu     = 105.7 * u.MeV \n",
    "\n",
    "# radius_predicted = np.sqrt(thetainf.to('', equivalencies=u.dimensionless_angles())**2 \n",
    "#                            - (m_mu.to(u.TeV)/energy)**2).to(u.deg,equivalencies=u.dimensionless_angles())\n",
    "\n",
    "radius_predicted = np.sqrt((thetainf**2).to_value() - ((((m_mu/1000000).to_value())/energy)**2))\n",
    "\n",
    "plt.figure(figsize=[12.,5.])\n",
    "plt.subplot(121)\n",
    "plt.plot(np.log10(energy[ids]),radius[ids].to_value(),'.')\n",
    "plt.xlabel(r'$\\log_{10}$(energy [TeV])')\n",
    "plt.ylabel(r'$R_{{reconstructed}}$ [deg]')\n",
    "\n",
    "plt.subplot(122)\n",
    "plt.plot(radius_predicted[ids],radius[ids].to_value(),'.')\n",
    "plt.plot([0.9,1.3],[0.9,1.3])\n",
    "plt.xlim(0.9,1.28), plt.ylim(0.9,1.28)\n",
    "\n",
    "plt.xlabel(r'$R_{{simulated}}$ [deg]')\n",
    "plt.ylabel(r'$R_{{reconstructed}}$ [deg]')\n",
    "\n",
    "plt.show()"
   ]
  },
  {
   "cell_type": "code",
   "execution_count": null,
   "metadata": {},
   "outputs": [],
   "source": [
    "radius_predicted = np.sqrt((thetainf**2).to_value() - ((((m_mu/1000000).to_value())/energy)**2))\n",
    "radius_predicted"
   ]
  },
  {
   "cell_type": "code",
   "execution_count": null,
   "metadata": {},
   "outputs": [],
   "source": [
    "(thetainf**2).to_value()\n"
   ]
  },
  {
   "cell_type": "code",
   "execution_count": null,
   "metadata": {},
   "outputs": [],
   "source": [
    "((((m_mu/1000000).to_value())/energy)**2)"
   ]
  },
  {
   "cell_type": "code",
   "execution_count": null,
   "metadata": {},
   "outputs": [],
   "source": [
    "# new quality cuts, with a stronger ring radius cut  \n",
    "ids = np.where((reconstructed_core_d > 1 * u.m) & (reconstructed_core_d < 12 * u.m) \n",
    "               & (radius < 1.3 *u.deg) & (radius > 1.17 *u.deg))\n",
    "\n",
    "mean   = reconstruction_err[ids].to_value().mean()\n",
    "mean_d = reconstruction_err_d[ids].to_value().mean()\n",
    "std_d  = reconstruction_err_d[ids].to_value().std()\n",
    "\n",
    "plt.figure(figsize=[12.,12.])\n",
    "plt.subplot(221)\n",
    "plt.hist(reconstruction_err[ids].to_value(),30)\n",
    "plt.axvline(mean, color='k', linestyle='dashed', linewidth=1, \n",
    "            label=f'Mean: {mean:.4f} {unit:FITS} ')\n",
    "plt.xlabel(rf'$|\\Delta \\rho|$ [{unit:FITS}]')\n",
    "plt.legend()\n",
    "\n",
    "plt.subplot(222)\n",
    "plt.hist(reconstruction_err_d[ids].to_value(),30)\n",
    "plt.axvline(mean_d, color='k', linestyle='dashed', linewidth=1, \n",
    "            label=rf'$\\Delta|\\rho|$: {mean_d:.2f} $\\pm$ {std_d:.2f} {unit:FITS} ')\n",
    "plt.xlabel(r'$|\\rho|_{{reconstructed}}-|\\rho|_{{simulated}}$ [{0:FITS}]'.format(unit))\n",
    "plt.legend()\n",
    "\n",
    "plt.subplot(223)\n",
    "plt.plot(true_core_d[ids].to_value(),reconstruction_err[ids].to_value(),'.')\n",
    "plt.xlabel(r'$|\\rho_{{simulated}}|$ [{0:FITS}]'.format(unit))\n",
    "plt.ylabel(r'$|\\Delta \\rho|$ [{0:FITS}]'.format(unit))\n",
    "\n",
    "plt.subplot(224)\n",
    "plt.plot(true_core_d[ids].to_value(),reconstruction_err_d[ids].to_value(),'.')\n",
    "plt.xlabel(r'$|\\rho_{{simulated}}|$ [{0:FITS}]'.format(unit))\n",
    "plt.ylabel(r'$|\\rho|_{{reconstructed}}-|\\rho|_{{simulated}}$ [{0:FITS}]'.format(unit))\n",
    "\n",
    "plt.show()"
   ]
  },
  {
   "cell_type": "markdown",
   "metadata": {},
   "source": [
    "Finally, look at the optical efficienies: "
   ]
  },
  {
   "cell_type": "code",
   "execution_count": null,
   "metadata": {},
   "outputs": [],
   "source": [
    "effs = muonData['optical_efficiency']\n",
    "\n",
    "plt.plot(np.log10(energy),effs.to_value(),'.')\n",
    "plt.grid(alpha=0.5)\n",
    "plt.xlabel(r'$\\log_{10}$(energy [TeV])')\n",
    "plt.ylabel(r'$\\epsilon$ [1]')\n",
    "\n",
    "plt.show()\n",
    "print(f\"len of sample = {len(effs.to_value())}\")"
   ]
  },
  {
   "cell_type": "code",
   "execution_count": null,
   "metadata": {},
   "outputs": [],
   "source": []
  },
  {
   "cell_type": "markdown",
   "metadata": {},
   "source": [
    "Fair enough, let's check the values above 20 GeV only"
   ]
  },
  {
   "cell_type": "code",
   "execution_count": null,
   "metadata": {},
   "outputs": [],
   "source": [
    "plt.plot(reconstruction_err[ids].to_value(),effs[ids].to_value(),'.')\n",
    "plt.grid()\n",
    "plt.xlabel(r'$\\Delta \\rho$ [m]')\n",
    "plt.ylabel(r'$\\epsilon$ [1]')\n",
    "plt.show()\n",
    "print(f\"len of sample = {len(effs[ids].to_value())}\")"
   ]
  },
  {
   "cell_type": "code",
   "execution_count": null,
   "metadata": {},
   "outputs": [],
   "source": [
    "from scipy.stats import norm\n",
    "from astropy.stats import biweight\n",
    "from astropy.stats import mad_std\n",
    "\n",
    "ids2 = np.intersect1d(ids,np.where((effs < 0.3) & (effs > 0.09)))\n",
    "\n",
    "n, bins, patches = plt.hist(effs[ids2].to_value(),50, density=1, facecolor='green', alpha=0.75)\n",
    "(mu, sigma) = norm.fit(effs[ids2].to_value())\n",
    "\n",
    "def gauss(x,mu,sigma,A):\n",
    "    return (A/np.sqrt(2*np.pi*sigma**2))*np.exp(-0.5*(((x-mu)/sigma))**2)\n",
    "\n",
    "print ('mean, std dev. (full sample): ',effs[ids].mean(),effs[ids].std())\n",
    "print ('median, MAD: ',np.median(effs[ids]),mad_std(effs[ids]))\n",
    "print ('biweight loc, scale: ',biweight.biweight_location(effs[ids]),biweight.biweight_scale(effs[ids]))\n",
    "print ('gaussian fit to reduced sample: ',mu,sigma)\n",
    "l = plt.plot(bins, gauss(bins,mu,sigma,1.), 'r--', linewidth=2)\n",
    "\n",
    "plt.xlabel(r'$\\epsilon$ [1]')\n",
    "plt.show()"
   ]
  },
  {
   "cell_type": "code",
   "execution_count": null,
   "metadata": {},
   "outputs": [],
   "source": [
    "\n",
    "plt.hist(muonData['width'],30)\n",
    "plt.legend()"
   ]
  },
  {
   "cell_type": "code",
   "execution_count": null,
   "metadata": {},
   "outputs": [],
   "source": [
    "max(muonData['width'])"
   ]
  },
  {
   "cell_type": "code",
   "execution_count": null,
   "metadata": {},
   "outputs": [],
   "source": []
  }
 ],
 "metadata": {
  "kernelspec": {
   "display_name": "cta-test",
   "language": "python",
   "name": "python3"
  },
  "language_info": {
   "codemirror_mode": {
    "name": "ipython",
    "version": 3
   },
   "file_extension": ".py",
   "mimetype": "text/x-python",
   "name": "python",
   "nbconvert_exporter": "python",
   "pygments_lexer": "ipython3",
   "version": "3.9.18"
  }
 },
 "nbformat": 4,
 "nbformat_minor": 4
}
