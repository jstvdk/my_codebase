{
 "cells": [
  {
   "cell_type": "markdown",
   "metadata": {},
   "source": [
    "This notebook serves as an example to analyze and display muon parameters created from a simtel file and written to an hdf5 table using the MuonParameterCalculation notebook.\n",
    "\n",
    "Created by Markus Gaug, 19/3/2020, based on code found in ctapipe.tools.MuonDisplayerTool and ctapipe.image.muon.*\n",
    "\n"
   ]
  },
  {
   "cell_type": "markdown",
   "metadata": {},
   "source": [
    "Import the table, created by MuonParameterCalculation"
   ]
  },
  {
   "cell_type": "code",
   "execution_count": null,
   "metadata": {},
   "outputs": [],
   "source": [
    "import tables as tb\n",
    "import glob\n",
    "import numpy as np\n",
    "from astropy import units as u\n",
    "from os.path import basename\n",
    "\n",
    "muonFile=\"/muon_30deg_84.6805deg_run2307___cta-prod4-sst-astri_desert-2180m-LaPalma-sst-astri.simtel.hdf5\"\n",
    "#muonFile=\"/muon_0deg_354.681deg_run53___cta-prod4-sst-astri_desert-2180m-LaPalma-sst-astri.simtel.hdf5\"\n",
    "#muonFile=\"/muon_30deg_84.6805deg_run925___cta-prod4-lst_desert-2180m-LaPalma-lst.simtel.hdf5\"\n",
    "muonDir=\"/Users/markusgaug/Teaching/JordiFalguera/Muons\"\n",
    "muonTableName = 'muons/muon_table'\n",
    "\n",
    "\n",
    "'''Initialize all parameters we might need in this notebook from the hdf5 table \n",
    "   I'm really sorry, no way found to combine tables which host data of type 'Table'\n",
    "   So, we have to read all files in once and store all the information we need in separate np arrays'''\n",
    "\n",
    "usedParameters = [  'alt' , 'az', \n",
    "            'center_x', 'center_y',  'radius', \n",
    "            'impact_x', 'impact_y', \n",
    "            'core_x', 'core_y',\n",
    "            'energy',\n",
    "            'optical_efficiency', \n",
    "            'width',\n",
    "            'impact_error', 'phi_error', 'width_error', 'optical_efficiency_error',\n",
    "         ]\n",
    "\n",
    "telParameters = [ 'telalt', 'telaz']\n",
    "\n",
    "'''and the corresponding units'''\n",
    "usedUnits = { 'alt' : u.deg, 'az': u.deg, \n",
    "              'center_x': u.deg, 'center_y': u.deg, 'radius' : u.deg, \n",
    "              'impact_x' : u.m, 'impact_y' : u.m, \n",
    "              'core_x' : u.m, 'core_y' : u.m,\n",
    "              'energy' : u.TeV, \n",
    "              'optical_efficiency' : u.dimensionless_unscaled,\n",
    "              'width' : u.deg, \n",
    "              'impact_error' : u.m, 'phi_error' : u.deg, 'width_error' : u.deg, \n",
    "              'optical_efficiency_error' : u.dimensionless_unscaled\n",
    "            }\n",
    "\n",
    "telUnits = { 'telalt' : u.deg , 'telaz' : u.deg }\n",
    "\n",
    "'''Initialize the dictionary for easier access later and loops '''\n",
    "muonData = {}\n",
    "for parameterName in usedParameters:\n",
    "    muonData[parameterName] = np.array([]) \n",
    "for telparName in telParameters:\n",
    "    muonData[telparName] = np.array([]) \n",
    "#print (muonData)\n",
    "\n",
    "if '*' in muonFile:\n",
    "    fileCounter = 0\n",
    "    print ('Search for files in',muonDir+muonFile)\n",
    "    for file in glob.glob(muonDir+muonFile):\n",
    "        print ('reading ',file)\n",
    "        tel_pointing_alt = 90. - float(((basename(file).split('_')[1]).split('d'))[0])\n",
    "        tel_pointing_az = float(((muonFile.split('_')[2]).split('d'))[0])\n",
    "        telData = { 'telalt' : tel_pointing_alt, 'telaz' : tel_pointing_az }\n",
    "        h5Root  = tb.open_file(file,mode='r')  \n",
    "        h5Table = h5Root.root[muonTableName]\n",
    "        #print (h5Table)\n",
    "        for x in h5Table.iterrows(): print (x)\n",
    "        for parameterName in usedParameters:\n",
    "            arrayWithUnit = ( np.array(  [ x[parameterName] for x in h5Table.iterrows() ] ) ) * usedUnits[parameterName]\n",
    "            muonData[parameterName] = np.concatenate( (muonData[parameterName], arrayWithUnit) )\n",
    "            #print (parameterName,muonData[parameterName])\n",
    "        for telparName in telParameters: \n",
    "            #print (len(h5Table), telData[telparName])\n",
    "            arrayWithUnit = ( np.ones(len(h5Table))  * telData[telparName] ) #* telUnits[telparName]\n",
    "            muonData[telparName] = np.concatenate( (muonData[telparName], arrayWithUnit) )\n",
    "        h5Root.close()\n",
    "        fileCounter = fileCounter + 1\n",
    "    print('\\nDone with reading all {:d} muon data arrays from {:d} df5 files into memory'.format(len(usedParameters)\n",
    "                                                                                              ,fileCounter))\n",
    "else:\n",
    "    file = muonDir+muonFile\n",
    "    print ('reading ',file)\n",
    "    tel_pointing_alt = 90. - float(((muonFile.split('_')[1]).split('d'))[0])\n",
    "    tel_pointing_az = float(((muonFile.split('_')[2]).split('d'))[0])\n",
    "    telData = { 'telalt' : tel_pointing_alt, 'telaz' : tel_pointing_az }\n",
    "    print ('Telescope points at: ', tel_pointing_alt,'deg Alt and ', tel_pointing_az,'deg Az ')\n",
    "    h5Root  = tb.open_file(file)\n",
    "    print (h5Root)\n",
    "    print (h5Root.root.muons.muon_table)\n",
    "    h5Table = h5Root.root.muons.muon_table\n",
    "    print (h5Table.flush)\n",
    "    for x in h5Table.itercolumns(): print (x)\n",
    "    for parameterName in usedParameters:\n",
    "        arrayWithUnit = ( np.array(  [ x[parameterName] for x in h5Table.iterrows() ] ) ) * usedUnits[parameterName]\n",
    "        #print (len(arrayWithUnit))\n",
    "        muonData[parameterName] = np.concatenate( (muonData[parameterName], arrayWithUnit) )\n",
    "    for telparName in telParameters: \n",
    "        #print (len(h5Table), telData[telparName])\n",
    "        arrayWithUnit = ( np.ones(len(h5Table))  * telData[telparName] ) #* telUnits[telparName]\n",
    "        muonData[telparName] = np.concatenate( (muonData[telparName], arrayWithUnit) )\n",
    "    #print (h5Table.iterrows())\n",
    "    print('\\nDone with reading all {:d} muon data arrays from the hdf5 file into memory'.format(len(usedParameters)))"
   ]
  },
  {
   "cell_type": "markdown",
   "metadata": {},
   "source": [
    "First, check the accuracy of the ring reconstruction.  "
   ]
  },
  {
   "cell_type": "code",
   "execution_count": null,
   "metadata": {},
   "outputs": [],
   "source": [
    "\n",
    "from astropy.coordinates import SkyCoord, AltAz\n",
    "from ctapipe.coordinates import NominalFrame\n"
   ]
  },
  {
   "cell_type": "markdown",
   "metadata": {},
   "source": [
    "The muon reconstruction found in ctapipe.image.muon.muon_reco_functions converts camera coordinates immediately into sky coordinates and reconstructs the ring 'on the sky'. So, we only have to compare the true muon direction with the one found in 'ring_center_x' and 'ring_center_y', which are actually 'ring_center_delta_az' and 'ring_center_delta_alt'. \n",
    "\n",
    "However, it looks as if the camera rotation (particularly important for FlashCam) has been taken into account, so have to subtract it from the true muon incidence angle. Moreover, the camera rotation angle cannot be written to the hdf5 table, because event.inst.subarray.tels[1].camera does not have any Fields. The should actually be fixed... \n",
    "\n",
    "We will have to initialize the rotation angle by hand"
   ]
  },
  {
   "cell_type": "code",
   "execution_count": null,
   "metadata": {},
   "outputs": [],
   "source": [
    "\"\"\"These values apply only to FlashCam !!!\"\"\"\n",
    "camera_rotation = 0.* u.deg # rotation seems to be correced with current version, previously 30.*u.deg\n",
    "\"\"\"For Nectar Cam and LST Cam use:\n",
    "camera_rotation = 100.893 * u.deg \"\"\"\n"
   ]
  },
  {
   "cell_type": "markdown",
   "metadata": {},
   "source": [
    "Initialize the telescope pointing direction now. The values can also be found later on in max_alt/min_alt or in max_az/min_az, but for simplicity we copy them here and initialize only once.\n",
    "\n",
    "Moreover, be aware with using the value from max_alt/min_alt directly (1.5707964 rad, beware of the last digit '4'), because AltAz will reject them telling that an altitude larger than 90 deg. is obtained and not supported. Reducing the altitude to 1.5707963 rad by hand works, but should actually be fixed in the simtel_array. "
   ]
  },
  {
   "cell_type": "code",
   "execution_count": null,
   "metadata": {},
   "outputs": [],
   "source": [
    "telescope_alt =  u.Quantity(muonData['telalt'],u.deg).to(u.rad) #1.5707963  * u.rad   # If muons have been simulated with telescope pointing to zenith \n",
    "telescope_az  =  u.Quantity(muonData['telaz'],u.deg).to(u.rad) #- 0.09284279 * u.rad   # Magnetic North, used for simulations with Corsika \n",
    "\n",
    "\"\"\" The next lines are only to avoid warnings from ctapipe.coordinates and are not needed for MC \"\"\"\n",
    "from astropy.time import Time\n",
    "from astropy.coordinates import EarthLocation\n",
    "\"\"\" Adopt a dummy time and an earth location\"\"\"\n",
    "obstime = Time('2013-11-01T03:00')\n",
    "location = EarthLocation.of_site('Roque de los Muchachos')\n",
    "altaz = AltAz(location=location, obstime=obstime)\n",
    "\n",
    "telescope_pointing = SkyCoord(alt=telescope_alt, az=telescope_az, frame=altaz)"
   ]
  },
  {
   "cell_type": "markdown",
   "metadata": {},
   "source": [
    "Now, get the true muon directions into the right frame: "
   ]
  },
  {
   "cell_type": "code",
   "execution_count": null,
   "metadata": {},
   "outputs": [],
   "source": [
    "alts = muonData['alt']\n",
    "\"\"\"\n",
    "ATTENTION !!!! \n",
    "HAVE TO SUBTRACT HERE THE CAMERA ROTATION FOR FLASHCAM WHICH WAS NOT CORRECTLY \n",
    "TAKEN INTO ACCOUNT DURING THE PRODUCTION OF THE MUON PARAMETERS !!!!\n",
    "\"\"\"\n",
    "azs  = muonData['az'] - camera_rotation\n",
    "\n",
    "#print (alts)\n",
    "\n",
    "\"\"\"Convert the original muon directions into the telescope pointing frame \"\"\"\n",
    "ring_original       = SkyCoord(az=azs, alt=alts, frame=altaz)\n",
    "ring_original_sky   = ring_original.transform_to( NominalFrame(origin=telescope_pointing) )\n",
    "\n",
    "ring_original_sky_x = ring_original_sky.fov_lon.to(u.deg)\n",
    "ring_original_sky_y = ring_original_sky.fov_lat.to(u.deg)\n",
    "\n",
    "#print (ring_original_sky_x)\n",
    "#print (ring_original_sky_y)"
   ]
  },
  {
   "cell_type": "markdown",
   "metadata": {},
   "source": [
    "The reconstructed ring already comes in sky coordinates"
   ]
  },
  {
   "cell_type": "code",
   "execution_count": null,
   "metadata": {},
   "outputs": [],
   "source": [
    "ring_delta_az  = muonData['center_x']\n",
    "ring_delta_alt = muonData['center_y']\n",
    "radius         = muonData['radius']"
   ]
  },
  {
   "cell_type": "markdown",
   "metadata": {},
   "source": [
    "Now, check the angular distance between both and plot them as a function of energy"
   ]
  },
  {
   "cell_type": "code",
   "execution_count": null,
   "metadata": {},
   "outputs": [],
   "source": [
    "from matplotlib import pyplot as plt\n",
    "%matplotlib inline\n",
    "from astropy.stats import sigma_clip, mad_std\n",
    "from scipy.optimize import minimize\n",
    "from scipy.optimize import least_squares\n",
    "\n",
    "d_x = ring_original_sky_x - ring_delta_az\n",
    "d_y = ring_original_sky_y - ring_delta_alt\n",
    "d_r = np.sqrt(d_x**2 + d_y**2)  \n",
    "\n",
    "energy = muonData['energy']\n",
    "\n",
    "plt.figure(figsize=[10.,5.])\n",
    "plt.plot(np.log10(energy.to_value()),d_r.to_value(u.deg),'.') \n",
    "plt.xlabel(r'$\\log_{10}$(energy [TeV])')\n",
    "plt.ylabel(r'$\\Delta \\Phi$ [deg]')\n",
    "plt.ylim([0,1.0])\n",
    "\n",
    "\n",
    "# Fit with robust statistics\n",
    "\n",
    "def deviationError(x,a,b,c):\n",
    "    return a*np.abs(x)**c + b\n",
    "\n",
    "def residuals(x,t,y):\n",
    "    return deviationError(t,x[0],x[1],x[2]) - y\n",
    "\n",
    "bnds = ((0, None), (0, None), (0, None))\n",
    "f_scale = 0.01\n",
    "loss = 'soft_l1'\n",
    "result = least_squares(residuals, [0.02, 0.2, 3.], args=(np.log10(energy.to_value()),d_r.to_value(u.deg)),loss=loss, f_scale=f_scale) #, bounds=bnds)\n",
    "\n",
    "xx = np.linspace(-2.2,-0.01,100)\n",
    "label_str = rf'$\\Delta \\Phi = {result.x[1]:3.3f} + {result.x[0]:3.3f} \\cdot | \\log_{{{10}}}(energy [TeV]) |^{{{result.x[2]:3.1f}}}$'\n",
    "plt.plot(xx, deviationError(xx, *result.x), label=label_str) \n",
    "plt.legend(loc='best')\n",
    "\n",
    "\n",
    "plt.show()\n"
   ]
  },
  {
   "cell_type": "code",
   "execution_count": null,
   "metadata": {},
   "outputs": [],
   "source": []
  },
  {
   "cell_type": "markdown",
   "metadata": {},
   "source": [
    "Let's check also the accuracy of the reconstructed muon impact distance. \n",
    "\n",
    "Here, also a rotation the true muon impact parameters is necessary and a reflection of the X-coordinate! \n",
    "\n",
    "First, try without anything: "
   ]
  },
  {
   "cell_type": "code",
   "execution_count": null,
   "metadata": {},
   "outputs": [],
   "source": [
    "reconstructed_core_x = muonData['impact_x']\n",
    "reconstructed_core_y = muonData['impact_y']\n",
    "reconstructed_core_d = np.sqrt(reconstructed_core_x**2+reconstructed_core_y**2)\n",
    "\n",
    "true_core_x = muonData['core_x']\n",
    "true_core_y = muonData['core_y']\n",
    "true_core_d = np.sqrt(true_core_x**2+true_core_y**2)\n",
    "\n",
    "reconstruction_err = np.sqrt((reconstructed_core_x-true_core_x)**2+(reconstructed_core_y-true_core_y)**2)\n",
    "reconstruction_err_d = reconstructed_core_d - true_core_d\n",
    "unit = reconstruction_err.unit\n",
    "\n",
    "plt.figure(figsize=[15.,5.])\n",
    "plt.subplot(121)\n",
    "plt.hist(reconstruction_err.to_value())\n",
    "plt.xlabel(rf'$\\Delta \\rho$ [{unit:FITS}]')\n",
    "plt.subplot(122)\n",
    "plt.hist(reconstruction_err_d.to_value())\n",
    "plt.xlabel(rf'$\\Delta |\\rho|$ [{unit:FITS}]')\n",
    "plt.show()\n"
   ]
  },
  {
   "cell_type": "markdown",
   "metadata": {},
   "source": [
    "Now, try a reflection only:"
   ]
  },
  {
   "cell_type": "code",
   "execution_count": null,
   "metadata": {},
   "outputs": [],
   "source": [
    "reconstruction_err = np.sqrt((reconstructed_core_x+true_core_x)**2+(reconstructed_core_y-true_core_y)**2)\n",
    "\n",
    "plt.figure(figsize=[15.,5.])\n",
    "plt.subplot(121)\n",
    "plt.hist(reconstruction_err.to_value())\n",
    "plt.xlabel(rf'$\\Delta \\rho$ [{unit:FITS}]')\n",
    "plt.subplot(122)\n",
    "plt.hist(reconstruction_err_d.to_value())\n",
    "plt.xlabel(rf'$\\Delta |\\rho|$ [{unit:FITS}]')\n",
    "plt.show()\n"
   ]
  },
  {
   "cell_type": "markdown",
   "metadata": {},
   "source": [
    "Seems that here also, the camera rotation needs to be introduced by hand:"
   ]
  },
  {
   "cell_type": "code",
   "execution_count": null,
   "metadata": {},
   "outputs": [],
   "source": [
    "camera_rotation = 84.* u.deg #   79.* u.deg  # 260 ++\n",
    "theta = camera_rotation.to_value('rad')\n",
    "rotM = np.array([[np.cos(theta), -np.sin(theta)], \n",
    "                 [np.sin(theta),  np.cos(theta)]])\n",
    "\n",
    "rotated_cores = np.dot(rotM, np.stack((true_core_x,true_core_y)))"
   ]
  },
  {
   "cell_type": "code",
   "execution_count": null,
   "metadata": {},
   "outputs": [],
   "source": [
    "# first some basic quality cuts \n",
    "ids = np.where((reconstructed_core_d > 1 * u.m) & (reconstructed_core_d < 12 * u.m) & (radius < 1.3 *u.deg) & (radius > 0.85 *u.deg))\n",
    "\n",
    "reconstruction_err = np.sqrt((reconstructed_core_x-rotated_cores[0])**2+(reconstructed_core_y-rotated_cores[1])**2)\n",
    "true_core_d = np.sqrt(rotated_cores[0]**2+rotated_cores[1]**2)\n",
    "reconstruction_err_d = reconstructed_core_d - true_core_d\n",
    "\n",
    "\n",
    "mean   = reconstruction_err[ids].to_value().mean()\n",
    "mean_d = reconstruction_err_d[ids].to_value().mean()\n",
    "std_d  = reconstruction_err_d[ids].to_value().std()\n",
    "\n",
    "plt.figure(figsize=[12.,12.])\n",
    "plt.subplot(221)\n",
    "plt.hist(reconstruction_err[ids].to_value(),30)\n",
    "plt.axvline(mean, color='k', linestyle='dashed', linewidth=1, label=f'Mean: {mean:.4f} {unit:FITS} ')\n",
    "plt.xlabel(rf'$|\\Delta \\rho|$ [{unit:FITS}]')\n",
    "plt.legend()\n",
    "\n",
    "plt.subplot(222)\n",
    "plt.hist(reconstruction_err_d[ids].to_value(),30)\n",
    "plt.axvline(mean_d, color='k', linestyle='dashed', linewidth=1, label=rf'$\\Delta|\\rho|$: {mean_d:.2f} $\\pm$ {std_d:.2f} {unit:FITS} ')\n",
    "plt.xlabel(r'$|\\rho|_{{reconstructed}}-|\\rho|_{{simulated}}$ [{0:FITS}]'.format(unit))\n",
    "plt.legend()\n",
    "\n",
    "plt.subplot(223)\n",
    "plt.plot(true_core_d[ids].to_value(),reconstruction_err[ids].to_value(),'.')\n",
    "plt.xlabel(r'$|\\rho_{{simulated}}|$ [{0:FITS}]'.format(unit))\n",
    "plt.ylabel(r'$|\\Delta \\rho|$ [{0:FITS}]'.format(unit))\n",
    "\n",
    "\n",
    "plt.subplot(224)\n",
    "plt.plot(true_core_d[ids].to_value(),reconstruction_err_d[ids].to_value(),'.')\n",
    "plt.xlabel(r'$|\\rho_{{simulated}}|$ [{0:FITS}]'.format(unit))\n",
    "plt.ylabel(r'$|\\rho|_{{reconstructed}}-|\\rho|_{{simulated}}$ [{0:FITS}]'.format(unit))\n",
    "\n",
    "plt.show()"
   ]
  },
  {
   "cell_type": "markdown",
   "metadata": {},
   "source": [
    "That seems to be correct one, although still quite improvable in precision! \n",
    "\n",
    "Let's check whether it has to do with muon energy: "
   ]
  },
  {
   "cell_type": "code",
   "execution_count": null,
   "metadata": {},
   "outputs": [],
   "source": [
    "plt.plot(np.log10(energy[ids].to_value()),reconstruction_err[ids].to_value(),'.')\n",
    "plt.xlabel(r'$\\log_{10}$(energy [TeV])')\n",
    "plt.ylabel(r'$\\Delta \\rho$ [{0:FITS}]'.format(unit))\n",
    "\n",
    "result = least_squares(residuals, [0.02, 0.2, 3.], args=(np.log10(energy[ids].to_value()),reconstruction_err[ids].to_value()),loss=loss, f_scale=f_scale) #, bounds=bnds)\n",
    "\n",
    "xx = np.linspace(-2.2,-0.01,100)\n",
    "label_str = rf'$\\Delta \\rho = {result.x[1]:3.3f} + {result.x[0]:3.3f} \\cdot | \\log_{{{10}}}(energy [TeV]) |^{{{result.x[2]:3.1f}}}$'\n",
    "plt.plot(xx, deviationError(xx, *result.x), label=label_str) \n",
    "plt.legend(loc='best')\n",
    "\n",
    "plt.show()"
   ]
  },
  {
   "cell_type": "markdown",
   "metadata": {},
   "source": [
    "Definitely! We have to cut also on the muon ring! "
   ]
  },
  {
   "cell_type": "code",
   "execution_count": null,
   "metadata": {},
   "outputs": [],
   "source": [
    "thetainf = 1.225 * u.deg    # average value of sqrt(2epsilon) for 2200 m a.s.l.\n",
    "m_mu     = 105.7 * u.MeV \n",
    "\n",
    "radius_predicted = np.sqrt(thetainf.to('', equivalencies=u.dimensionless_angles())**2 \n",
    "                           - (m_mu.to(u.TeV)/energy)**2).to(u.deg,equivalencies=u.dimensionless_angles())\n",
    "\n",
    "plt.figure(figsize=[12.,5.])\n",
    "plt.subplot(121)\n",
    "plt.plot(np.log10(energy[ids].to_value()),radius[ids].to_value(),'.')\n",
    "plt.xlabel(r'$\\log_{10}$(energy [TeV])')\n",
    "plt.ylabel(r'$R_{{reconstructed}}$ [deg]')\n",
    "\n",
    "plt.subplot(122)\n",
    "plt.plot(radius_predicted[ids].to_value(),radius[ids].to_value(),'.')\n",
    "plt.plot([0.9,1.3],[0.9,1.3])\n",
    "plt.xlim(0.9,1.28), plt.ylim(0.9,1.28)\n",
    "\n",
    "plt.xlabel(r'$R_{{simulated}}$ [deg]')\n",
    "plt.ylabel(r'$R_{{reconstructed}}$ [deg]')\n",
    "\n",
    "plt.show()"
   ]
  },
  {
   "cell_type": "code",
   "execution_count": null,
   "metadata": {},
   "outputs": [],
   "source": [
    "# new quality cuts, with a stronger ring radius cut  \n",
    "ids = np.where((reconstructed_core_d > 1 * u.m) & (reconstructed_core_d < 12 * u.m) \n",
    "               & (radius < 1.3 *u.deg) & (radius > 1.17 *u.deg))\n",
    "\n",
    "mean   = reconstruction_err[ids].to_value().mean()\n",
    "mean_d = reconstruction_err_d[ids].to_value().mean()\n",
    "std_d  = reconstruction_err_d[ids].to_value().std()\n",
    "\n",
    "plt.figure(figsize=[12.,12.])\n",
    "plt.subplot(221)\n",
    "plt.hist(reconstruction_err[ids].to_value(),30)\n",
    "plt.axvline(mean, color='k', linestyle='dashed', linewidth=1, \n",
    "            label=f'Mean: {mean:.4f} {unit:FITS} ')\n",
    "plt.xlabel(rf'$|\\Delta \\rho|$ [{unit:FITS}]')\n",
    "plt.legend()\n",
    "\n",
    "plt.subplot(222)\n",
    "plt.hist(reconstruction_err_d[ids].to_value(),30)\n",
    "plt.axvline(mean_d, color='k', linestyle='dashed', linewidth=1, \n",
    "            label=rf'$\\Delta|\\rho|$: {mean_d:.2f} $\\pm$ {std_d:.2f} {unit:FITS} ')\n",
    "plt.xlabel(r'$|\\rho|_{{reconstructed}}-|\\rho|_{{simulated}}$ [{0:FITS}]'.format(unit))\n",
    "plt.legend()\n",
    "\n",
    "plt.subplot(223)\n",
    "plt.plot(true_core_d[ids].to_value(),reconstruction_err[ids].to_value(),'.')\n",
    "plt.xlabel(r'$|\\rho_{{simulated}}|$ [{0:FITS}]'.format(unit))\n",
    "plt.ylabel(r'$|\\Delta \\rho|$ [{0:FITS}]'.format(unit))\n",
    "\n",
    "plt.subplot(224)\n",
    "plt.plot(true_core_d[ids].to_value(),reconstruction_err_d[ids].to_value(),'.')\n",
    "plt.xlabel(r'$|\\rho_{{simulated}}|$ [{0:FITS}]'.format(unit))\n",
    "plt.ylabel(r'$|\\rho|_{{reconstructed}}-|\\rho|_{{simulated}}$ [{0:FITS}]'.format(unit))\n",
    "\n",
    "plt.show()"
   ]
  },
  {
   "cell_type": "markdown",
   "metadata": {},
   "source": [
    "Finally, look at the optical efficienies: "
   ]
  },
  {
   "cell_type": "code",
   "execution_count": null,
   "metadata": {},
   "outputs": [],
   "source": [
    "effs = muonData['optical_efficiency']\n",
    "\n",
    "plt.plot(np.log10(energy.to_value()),effs.to_value(),'.')\n",
    "plt.xlabel(r'$\\log_{10}$(energy [TeV])')\n",
    "plt.ylabel(r'$\\epsilon$ [1]')\n",
    "plt.show()"
   ]
  },
  {
   "cell_type": "markdown",
   "metadata": {},
   "source": [
    "Fair enough, let's check the values above 20 GeV only"
   ]
  },
  {
   "cell_type": "code",
   "execution_count": null,
   "metadata": {},
   "outputs": [],
   "source": [
    "plt.plot(reconstruction_err[ids].to_value(),effs[ids].to_value(),'.')\n",
    "plt.xlabel(r'$\\Delta \\rho$ [m]')\n",
    "plt.ylabel(r'$\\epsilon$ [1]')\n",
    "plt.show()"
   ]
  },
  {
   "cell_type": "code",
   "execution_count": null,
   "metadata": {},
   "outputs": [],
   "source": [
    "from scipy.stats import norm\n",
    "from astropy.stats import biweight\n",
    "from astropy.stats import mad_std\n",
    "\n",
    "ids2 = np.intersect1d(ids,np.where((effs < 0.14) & (effs > 0.09)))\n",
    "\n",
    "n, bins, patches = plt.hist(effs[ids2].to_value(),50, density=1, facecolor='green', alpha=0.75)\n",
    "(mu, sigma) = norm.fit(effs[ids2].to_value())\n",
    "\n",
    "def gauss(x,mu,sigma,A):\n",
    "    return (A/np.sqrt(2*np.pi*sigma**2))*np.exp(-0.5*(((x-mu)/sigma))**2)\n",
    "\n",
    "print ('mean, std dev. (full sample): ',effs[ids].mean(),effs[ids].std())\n",
    "print ('median, MAD: ',np.median(effs[ids]),mad_std(effs[ids]))\n",
    "print ('biweight loc, scale: ',biweight.biweight_location(effs[ids]),biweight.biweight_scale(effs[ids]))\n",
    "print ('gaussian fit to reduced sample: ',mu,sigma)\n",
    "l = plt.plot(bins, gauss(bins,mu,sigma,1.), 'r--', linewidth=2)\n",
    "\n",
    "plt.xlabel(r'$\\epsilon$ [1]')\n",
    "plt.show()"
   ]
  }
 ],
 "metadata": {
  "kernelspec": {
   "display_name": "Python 3 (ipykernel)",
   "language": "python",
   "name": "python3"
  },
  "language_info": {
   "codemirror_mode": {
    "name": "ipython",
    "version": 3
   },
   "file_extension": ".py",
   "mimetype": "text/x-python",
   "name": "python",
   "nbconvert_exporter": "python",
   "pygments_lexer": "ipython3",
   "version": "3.7.7"
  }
 },
 "nbformat": 4,
 "nbformat_minor": 4
}
