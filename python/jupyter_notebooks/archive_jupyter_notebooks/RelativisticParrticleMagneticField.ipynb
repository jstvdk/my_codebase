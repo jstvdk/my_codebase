{
 "cells": [
  {
   "cell_type": "code",
   "execution_count": null,
   "metadata": {},
   "outputs": [],
   "source": [
    "import matplotlib.pyplot as plt\n",
    "import math\n",
    "import numpy as np\n",
    "import astropy.units as u\n",
    "#import astro astropy.units import conts as const"
   ]
  },
  {
   "cell_type": "markdown",
   "metadata": {},
   "source": [
    "#### The gyroradius is the radius of circular motion of charged particle in the presence of a uniform magnetic field. \n",
    "\n",
    "It can be obtained from centripetal force $F = \\frac{mv^2}{r}$ and Lorentz force (for magnetic field only) $F = q[v,B]$.  \n",
    "If we equate both parts and consider the simplest case of only one component of velocity and only perpendicular magnetic field, we will go from vector equations to much simpler one:\n",
    "\n",
    "$\\frac{m{v_{\\perp}}^2}{r} = q v_{\\perp} B_z $, that will lead us to the gyroradius -> $r_g = \\frac{mv_{\\perp}}{qB_z}$\n",
    "\n",
    "\n",
    "\n",
    "**To switch to the relativistic case need to use relativistic mass $m_{rel} = \\gamma m_0 $. Finally our gyroradius can be found as:**\n",
    "\n",
    "$r_g = \\frac{\\gamma m_0v_{\\perp}}{qB_z}$\n",
    "\n",
    "$\\gamma m_0v_{\\perp} = p_{\\perp} = E/c$ from the relativistic  energy-momentum relation: $E^2 = (pc)^2 + (m_0c^2)^2$. For ultra relativistic case we can neglect second part, therefore $E = pc$\n",
    "\n",
    "Let's now take a look at the units:\n",
    "\n",
    "$r_g = \\frac{p (GeV/c)}{q(elementary charges) \\times B(Tesla)} $\n",
    "\n",
    "Or simply:\n",
    "\n",
    "$r_g = \\frac{E (GeV)}{q(elementary charges) \\times B(Tesla)} \\times 1 / c $\n",
    "\n",
    "Need carefully add here transfer from GeV to Joule ($1 GeV = 1.602 \\times 10^{-10} Joules$), and multiply by all constants to get the convenient expression for gyroradius in meters:\n",
    "\n",
    "$(r_g / meters) = 3.3 \\times \\frac{(E/GeV)}{(q/ elementary charges) \\times (B/Tesla)} $ - this equation is in agreement with equation for relativistic [gyroradius from wikipedia](https://en.wikipedia.org/wiki/Gyroradius)\n",
    "\n",
    "\n"
   ]
  },
  {
   "cell_type": "code",
   "execution_count": null,
   "metadata": {},
   "outputs": [],
   "source": [
    "def gyroradius(energy, m_field, charge):\n",
    "    \"\"\" \n",
    "    Calculate gyroradius of relativistic particle\n",
    "    ---------\n",
    "    Arguments:\n",
    "    \n",
    "    energy : GeV\n",
    "        energy of the particle\n",
    "    m_field : T\n",
    "        perpendicular magnetic field\n",
    "    charge : in electron charges\n",
    "        charge of the particle\n",
    "    \"\"\"\n",
    "    rg = 3.3 * (energy/m_field) * (1/charge)\n",
    "    return rg\n",
    "\n",
    "\n",
    "def plot_gyroradius_traj(energy,m_field,charge):\n",
    "    \"\"\" \n",
    "    This function calculates and plots trajectory of particle that is moving in the X-direction with energy=energy,\n",
    "    and in perpendicular magnetic field in Z-direction B=m_field.\n",
    "    --------\n",
    "    Arguments:\n",
    "    \n",
    "    energy : GeV\n",
    "        energy of the particle\n",
    "    m_field : T\n",
    "        perpendicular magnetic field\n",
    "    charge : in electron charges\n",
    "        charge of the particle\n",
    "    \"\"\"\n",
    "    \n",
    "    fig, ax = plt.subplots(figsize = (12,6))\n",
    "    \n",
    "    # Calculate gyroradius of the particle\n",
    "    radius = 3.3 * (energy/m_field) * charge\n",
    "    center = (0, -radius)  # Center of the circle\n",
    "    \n",
    "    # Create circle and add to the plot\n",
    "    circle = plt.Circle(center, radius, color='r', fill=False)\n",
    "    ax.add_patch(circle)\n",
    "\n",
    "    plt.ylim(-0.2,0.2)\n",
    "    plt.xlim(0,1)\n",
    "    plt.xlabel(\"X-axis (direction of movement) [meters]\")\n",
    "    plt.ylabel(\"Y-axis [meters]\")\n",
    "    plt.grid(alpha=0.5)\n",
    "    plt.show()\n"
   ]
  },
  {
   "cell_type": "code",
   "execution_count": null,
   "metadata": {},
   "outputs": [],
   "source": [
    "# Lets make a plot for the electron with energy 1 GeV in magnetic field 1 T\n",
    "plot_gyroradius_traj(energy=25,m_field=5, charge=1)"
   ]
  },
  {
   "cell_type": "markdown",
   "metadata": {},
   "source": [
    "#### Lets also simulate the whole process of movement of charged particle in the perpendicular magnetic field\n",
    "\n",
    "As far as we apply force only in perpendicular direction, the speed of particle doesn't change, and therefore it undergo circular motion with constant radius $r_g$, \n",
    "\n",
    "and so-called cyclotrone frequency:\n",
    "\n",
    "$\\omega_{c} = \\frac{|q|B}{\\gamma m}$\n",
    "\n",
    "Using this expression, the position of particle at time $t$ can be calculated using the parametric equations of a circle:\n",
    "\n",
    "$x(t) = r_g cos(\\omega_c t + \\phi)$\n",
    "\n",
    "$y(t) = r_g sin(\\omega_c t + \\phi)$\n",
    "\n",
    "with phase angle $\\phi$ = 0.\n",
    "\n",
    "We can express the frequency as $\\omega_c = c / r_g$"
   ]
  },
  {
   "cell_type": "code",
   "execution_count": null,
   "metadata": {},
   "outputs": [],
   "source": [
    "def calculate_traj(gyroradius):\n",
    "    \"\"\"\n",
    "    Calculates circular trajectory of the particle based on the gyroradius\n",
    "    -----\n",
    "    Arguments:\n",
    "        gyroradius (m): gyro radius of particle\n",
    "\n",
    "    Returns:\n",
    "        list (numpy array) : list with x and y coordiantes\n",
    "    \"\"\"\n",
    "    t = 1\n",
    "    dt = 0.0001/gyroradius # divide by gyroradius to have always smooth line\n",
    "    x_array = []\n",
    "    y_array = []\n",
    "    for t in np.arange(0,t,dt):\n",
    "        x_array.append((gyroradius * math.cos((3e8/gyroradius)*t)))\n",
    "        y_array.append(gyroradius * math.sin(((3e8/gyroradius))*t)-gyroradius)\n",
    "    plt.grid(alpha=0.5)\n",
    "    plt.xlabel(\"meters\")\n",
    "    plt.ylabel(\"meters\")\n",
    "    plt.xlim(0,1)\n",
    "    plt.ylim(-0.1,0.1)\n",
    "    plt.scatter(x_array,y_array, s = 0.5)\n",
    "    return np.array([x_array, y_array])"
   ]
  },
  {
   "cell_type": "code",
   "execution_count": null,
   "metadata": {},
   "outputs": [],
   "source": [
    "result = calculate_traj(1)"
   ]
  },
  {
   "cell_type": "code",
   "execution_count": null,
   "metadata": {},
   "outputs": [],
   "source": [
    "test = []\n",
    "test.append(1*u.m)\n",
    "test"
   ]
  },
  {
   "cell_type": "code",
   "execution_count": null,
   "metadata": {},
   "outputs": [],
   "source": [
    "plt.plot(u.Quantity(1*u.m), u.Quantity(2*u.m))"
   ]
  },
  {
   "cell_type": "code",
   "execution_count": null,
   "metadata": {},
   "outputs": [],
   "source": [
    "u.Quantity(1*u.m)"
   ]
  },
  {
   "cell_type": "code",
   "execution_count": null,
   "metadata": {},
   "outputs": [],
   "source": [
    "np.array([1*u.m]).to_value()"
   ]
  },
  {
   "cell_type": "code",
   "execution_count": null,
   "metadata": {},
   "outputs": [],
   "source": []
  }
 ],
 "metadata": {
  "kernelspec": {
   "display_name": "cta-dev",
   "language": "python",
   "name": "python3"
  },
  "language_info": {
   "codemirror_mode": {
    "name": "ipython",
    "version": 3
   },
   "file_extension": ".py",
   "mimetype": "text/x-python",
   "name": "python",
   "nbconvert_exporter": "python",
   "pygments_lexer": "ipython3",
   "version": "3.9.16"
  }
 },
 "nbformat": 4,
 "nbformat_minor": 2
}
