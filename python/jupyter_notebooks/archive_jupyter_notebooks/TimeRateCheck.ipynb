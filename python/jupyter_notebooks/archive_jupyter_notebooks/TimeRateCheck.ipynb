{
 "cells": [
  {
   "cell_type": "code",
   "execution_count": null,
   "metadata": {},
   "outputs": [],
   "source": [
    "import numpy as np\n",
    "import astropy.units as u\n",
    "from pyirf import simulations,utils \n",
    "import matplotlib.pyplot as plt"
   ]
  },
  {
   "cell_type": "markdown",
   "metadata": {},
   "source": [
    "# Theory"
   ]
  },
  {
   "cell_type": "code",
   "execution_count": null,
   "metadata": {},
   "outputs": [],
   "source": [
    "proton_norm_text = r'Norm = Norm * 0.74 = 1.3e4, \\: \\: \\: \\: \\: \\text{to account only for protons}'\n",
    "intensity_text = r'I(N) = Norm \\cdot (\\frac{E}{GeV})^{\\gamma}, \\: \\: \\: \\: \\: \\text{where Norm} = 1.8e4 \\: [GeV^{-1} s^{-1} sr^{-1} m^{-2} ]'\n",
    "shower_number_text = r'N_{showers} = Norm \\cdot \\int_A \\int_{\\Omega} \\int_{t} \\int_{E_{min}}^{E_{max}} E^{\\gamma} \\,dE = Norm \\cdot Area \\cdot time \\cdot \\Omega \\cdot \\int_{E_{min}}^{E_{max}} E^{\\gamma} \\,dE'\n",
    "time_text = r'TIME = \\frac{(\\gamma + 1)\\cdot N_{showers}}{Area \\cdot \\Omega \\cdot Norm \\cdot (E_{max}^{\\gamma + 1} - E_{min}^{\\gamma + 1})} = | \\gamma \\rightarrow (-2.7) | = \\frac{(-1.7)\\cdot N_{showers}}{Area \\cdot \\Omega \\cdot Norm \\cdot (E_{max}^{-1.7} - E_{min}^{-1.7})}'\n",
    "n_showers_text = r'where, \\; N_{showers} = N_{corsikashowers} \\cdot \\int_{E_{min}}^{E_{max}} {E^{-0.7} dE} '\n",
    "ax = plt.axes([0,0,0.3,0.3]) #left,bottom,width,height\n",
    "ax.set_xticks([])\n",
    "ax.set_yticks([])\n",
    "ax.axis('off')\n",
    "\n",
    "_ = plt.text(0,2.2,'$%s$' %intensity_text,size=15,color=\"black\")\n",
    "\n",
    "_ = plt.text(0,1.6,'$%s$' %shower_number_text,size=15,color=\"black\")\n",
    "\n",
    "_ = plt.text(0,0.8,'$%s$' %time_text,size=30,color=\"black\")\n",
    "\n",
    "_ = plt.text(0,0,'$%s$' %n_showers_text,size=20,color=\"black\")\n",
    "\n",
    "_ = plt.text(0,-0.5,'$%s$' %proton_norm_text,size=15,color=\"black\")\n",
    "\n",
    "\n",
    "\n"
   ]
  },
  {
   "cell_type": "markdown",
   "metadata": {},
   "source": [
    "# Function"
   ]
  },
  {
   "cell_type": "code",
   "execution_count": null,
   "metadata": {},
   "outputs": [],
   "source": [
    "def observational_time(simulated_event_info, norm=18000):\n",
    "    \"\"\"\n",
    "    Calculate observation time for simulated events\n",
    "    \n",
    "    This function is derived from pyirf.spectral.from_simulation method\n",
    "\n",
    "    Parameters\n",
    "    ----------\n",
    "    Parameters are taken from pyirf.simulations.SimulatedEventsInfo object\n",
    "\n",
    "    e_min - min energy [GeV]\n",
    "    e_max - max energy [GeV]\n",
    "    index - index of simulated power law\n",
    "    n_showers - number of simulated shower (reused accounted)\n",
    "    viewcone - viewcone of simulation\n",
    "    max_impact - diameter of the area for simulation\n",
    "    e_ref - reference energy value\n",
    "    norm - normalisation factor from all particles spectrum from PDG (multiplied by 0.74 to normalise only for protons )\n",
    "    ----------\n",
    "\n",
    "    Returns\n",
    "    ----------\n",
    "    time of observation in seconds\n",
    "\n",
    "    \"\"\"\n",
    "\n",
    "    e_min = simulated_event_info.energy_min.to(\"GeV\")\n",
    "    e_max = simulated_event_info.energy_max.to(\"GeV\")\n",
    "    index = simulated_event_info.spectral_index\n",
    "    n_showers = simulated_event_info.n_showers\n",
    "    viewcone = simulated_event_info.viewcone.to_value()\n",
    "    max_impact = simulated_event_info.max_impact.to(\"m\")\n",
    "    e_ref = 1 * u.GeV\n",
    "    norm = 0.74 * norm\n",
    "    \n",
    "    solid_angle = utils.cone_solid_angle(viewcone*u.deg).to_value()\n",
    "    A = (np.pi * (max_impact**2))\n",
    "    \n",
    "    delta = e_max ** (index + 1) - e_min ** (index + 1)\n",
    "    nom = (index + 1) * e_ref**index * n_showers\n",
    "    denom = A * solid_angle * delta * norm\n",
    "\n",
    "    return (nom / denom).to_value()"
   ]
  },
  {
   "cell_type": "markdown",
   "metadata": {},
   "source": [
    "# Tests"
   ]
  },
  {
   "cell_type": "code",
   "execution_count": null,
   "metadata": {},
   "outputs": [],
   "source": [
    "# MONO Simulation\n",
    "path = '/fefs/aswg/data/mc/DL0/LSTProd2/TestDataset/Protons/Corsika/node_corsika_theta_10.0_az_248.117_/output'\n",
    "\n",
    "# integral E^-0.7 from 10 to 103901 GeV\n",
    "scale_integral = 99.97 \n",
    "\n",
    "runs = 499\n",
    "showers = 2e4\n",
    "CSCAT = 10\n",
    "mono_shower_number = showers * CSCAT * runs * scale_integral\n",
    "\n",
    "weighted_proton_number = 114868\n",
    "weighted_muon_number = 206\n",
    "\n",
    "simulated_events2 = simulations.SimulatedEventsInfo(n_showers = int(mono_shower_number), \n",
    "                                                    energy_min=10*u.GeV, \n",
    "                                                    energy_max=103.9*u.TeV, \n",
    "                                                    max_impact = 1.511*u.km, \n",
    "                                                    spectral_index=-2.7, \n",
    "                                                    viewcone=9*u.deg)\n",
    "\n",
    "time_mono = observational_time(simulated_events2)\n",
    "print(f\"time of observation for 500 runs of mono events = {time_mono} seconds\")\n",
    "print(f\"Rate of protons = {weighted_proton_number/time_mono} Hz\")\n",
    "print(f\"Rate of muons = {weighted_muon_number/time_mono} Hz\")"
   ]
  },
  {
   "cell_type": "code",
   "execution_count": null,
   "metadata": {},
   "outputs": [],
   "source": [
    "# 4LST stereo\n",
    "path = '/fefs/aswg/workspace/MC_common/corsika7.7_simtelarray_20200629/prod5/4LSTs_MAGIC/proton/zenith_20deg/south_pointing/corsika'\n",
    "\n",
    "# integral E^-0.7 from 10 to 10e5 GeV\n",
    "scale_integral = 98.75\n",
    "\n",
    "n_runs = 499\n",
    "showers = 1e5\n",
    "CSCAT = 10\n",
    "stereo_shower_number = showers * CSCAT * runs * scale_integral\n",
    "\n",
    "\n",
    "weighted_proton_number = 328637\n",
    "weighted_muon_number = 391\n",
    "\n",
    "simulated_events3 = simulations.SimulatedEventsInfo(n_showers = int(stereo_shower_number), \n",
    "                                                    energy_min=10*u.GeV, \n",
    "                                                    energy_max=100*u.TeV, \n",
    "                                                    max_impact = 1.500*u.km, \n",
    "                                                    spectral_index=-2.7, \n",
    "                                                    viewcone=10*u.deg)\n",
    "\n",
    "time_stereo = observational_time(simulated_events3)\n",
    "print(f\"time of observation for 500 runs of stereo events =  {time_stereo} seconds\")\n",
    "print(f\"Rate of protons = {weighted_proton_number/time_stereo} Hz\")\n",
    "print(f\"Rate of muons = {weighted_muon_number/time_stereo} Hz\")"
   ]
  },
  {
   "cell_type": "code",
   "execution_count": null,
   "metadata": {},
   "outputs": [],
   "source": []
  }
 ],
 "metadata": {
  "kernelspec": {
   "display_name": "cta",
   "language": "python",
   "name": "python3"
  },
  "language_info": {
   "codemirror_mode": {
    "name": "ipython",
    "version": 3
   },
   "file_extension": ".py",
   "mimetype": "text/x-python",
   "name": "python",
   "nbconvert_exporter": "python",
   "pygments_lexer": "ipython3",
   "version": "3.11.6"
  }
 },
 "nbformat": 4,
 "nbformat_minor": 2
}
