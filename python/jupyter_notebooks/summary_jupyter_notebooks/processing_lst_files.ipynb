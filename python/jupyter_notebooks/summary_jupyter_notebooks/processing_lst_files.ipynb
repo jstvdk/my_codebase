{
 "cells": [
  {
   "cell_type": "code",
   "execution_count": null,
   "metadata": {},
   "outputs": [],
   "source": [
    "import sys\n",
    "import json\n",
    "import h5py\n",
    "import glob\n",
    "\n",
    "import matplotlib.pyplot as plt\n",
    "import seaborn as sns\n",
    "import pandas as pd\n",
    "import numpy as np\n",
    "\n",
    "from muonpipe import usefull_func\n",
    "from astropy.table import Table\n",
    "from datetime import datetime\n",
    "from traitlets.config.loader import Config\n",
    "\n",
    "from muonpipe import usefull_func\n",
    "from ctapipe.io import EventSource\n",
    "from ctapipe.visualization import CameraDisplay\n",
    "\n",
    "start_date_2019 = datetime.strptime(\"2019-01-01 00:00:00.0\", \"%Y-%m-%d %H:%M:%S.%f\").timestamp()\n",
    "end_date_2019 = datetime.strptime(\"2019-12-31 00:00:00.0\", \"%Y-%m-%d %H:%M:%S.%f\").timestamp()\n",
    "    \n",
    "start_date_2020 = datetime.strptime(\"2020-01-01 00:00:00.0\", \"%Y-%m-%d %H:%M:%S.%f\").timestamp()\n",
    "end_date_2020 = datetime.strptime(\"2020-12-31 00:00:00.0\", \"%Y-%m-%d %H:%M:%S.%f\").timestamp()\n",
    "\n",
    "start_date_2021 = datetime.strptime(\"2021-01-01 00:00:00.0\", \"%Y-%m-%d %H:%M:%S.%f\").timestamp()\n",
    "end_date_2021 = datetime.strptime(\"2021-12-31 00:00:00.0\", \"%Y-%m-%d %H:%M:%S.%f\").timestamp()\n",
    "\n",
    "start_date_2022 = datetime.strptime(\"2022-01-01 00:00:00.0\", \"%Y-%m-%d %H:%M:%S.%f\").timestamp()\n",
    "end_date_2022 = datetime.strptime(\"2022-12-31 00:00:00.0\", \"%Y-%m-%d %H:%M:%S.%f\").timestamp()\n",
    "\n",
    "start_date_2023 = datetime.strptime(\"2023-01-01 00:00:00.0\", \"%Y-%m-%d %H:%M:%S.%f\").timestamp()\n",
    "end_date_2023 = datetime.strptime(\"2023-12-31 00:00:00.0\", \"%Y-%m-%d %H:%M:%S.%f\").timestamp()\n",
    "\n",
    "start_date_2024 = datetime.strptime(\"2024-01-01 00:00:00.0\", \"%Y-%m-%d %H:%M:%S.%f\").timestamp()\n",
    "end_date_2024 = datetime.strptime(\"2024-12-31 00:00:00.0\", \"%Y-%m-%d %H:%M:%S.%f\").timestamp()"
   ]
  },
  {
   "cell_type": "markdown",
   "metadata": {},
   "source": [
    "# Explanation\n",
    "\n",
    "`lstchain` produces `.fits` files for muons and `.h5` files for the dl1 data out of the `.fits.fz`.\n",
    "\n",
    "This notebook gathers together main methods for processing these files, and extracting useful information"
   ]
  },
  {
   "cell_type": "markdown",
   "metadata": {},
   "source": [
    "# Processing of raw R0 data\n",
    "\n",
    "To process real data manually, we need to know all the supporting calibration files, pointing information, configurational parameters, etc. \n",
    "\n",
    "Very handy is to look into the file named `sequence_LST1_RUNNUMBER.py` which can be found in the appropriate directory on the LaPalma cluster, e.g. for the run `17043` its - `/fefs/aswg/data/real/running_analysis/20240310/v0.10/sequence_LST1_17043.py`\n",
    "\n",
    "Inside this file will be noted down absolute pathes to the necessary for R0 data processing files, e.g. :\n",
    "\n",
    "\n",
    "        '--drs4-pedestal-file=/fefs/aswg/data/real/monitoring/PixelCalibration/Cat-A/drs4_baseline/20240310/v0.10.8/drs4_pedestal.Run17016.0000.h5',\n",
    "        '--time-calib-file=/fefs/aswg/data/real/monitoring/PixelCalibration/Cat-A/drs4_time_sampling_from_FF/20231102/v0.10.4/time_calibration.Run15253.0000.h5',\n",
    "        '--pedcal-file=/fefs/aswg/data/real/monitoring/PixelCalibration/Cat-A/calibration/20240310/v0.10.8/calibration_filters_52.Run17017.0000.h5',\n",
    "        '--systematic-correction-file=/fefs/aswg/data/real/monitoring/PixelCalibration/Cat-A/ffactor_systematics/20230410/v0.10.3/calibration_scan_fit_20230410.0000.h5',\n",
    "        '--drive-file=/fefs/onsite/monitoring/driveLST1/DrivePositioning/DrivePosition_log_20240310.txt\n",
    "\n",
    "\n",
    "After figuring out all the supporting files, we can process the raw `.fits.fz` file."
   ]
  },
  {
   "cell_type": "code",
   "execution_count": null,
   "metadata": {},
   "outputs": [],
   "source": [
    "# Треба завантажити конфіг в івент соурс\n",
    "filename = f'/Users/vdk/muons2024/muon_cleaning_2024/LST-1.1.Run16463.0001.fits.fz'\n",
    "\n",
    "\n",
    "config_filename = '/Users/vdk/CTA/RealLST/typical_run_data/lstchain_standard_v0.10_heuristic_ff.json'\n",
    "with open(config_filename) as json_file:\n",
    "    config_data = json.load(json_file)\n",
    "\n",
    "custom_config = Config(config_data)\n",
    "\n",
    "\n",
    "cfg = Config({\n",
    "    \"source_config\": {\n",
    "        \"EventSource\" : {\n",
    "            \"allowed_tels\": [1],\"max_events\": 9999}},\n",
    "        \"PointingSource\":{\n",
    "            \"drive_report_path\": '/Users/vdk/muons2024/muon_cleaning_2024/DrivePosition_log_20240201.txt'},\n",
    "        \"LSTR0Corrections\": {\n",
    "          \"calib_scale_high_gain\":1.088,\n",
    "          \"calib_scale_low_gain\":1.004,\n",
    "          \"drs4_pedestal_path\": '/Users/vdk/muons2024/muon_cleaning_2024/drs4_pedestal.Run16453.0000.h5',\n",
    "          \"calibration_path\": '/Users/vdk/muons2024/muon_cleaning_2024/calibration_filters_52.Run16454.0000.h5',\n",
    "          \"drs4_time_calibration_path\": '/Users/vdk/muons2024/muon_cleaning_2024/time_calibration.Run15253.0000.h5'\n",
    "      }})\n",
    "\n",
    "source = EventSource(filename, config = Config(cfg))\n",
    "\n",
    "event_iterator = iter(source)"
   ]
  },
  {
   "cell_type": "markdown",
   "metadata": {},
   "source": [
    "### <center>Look into the event</center>"
   ]
  },
  {
   "cell_type": "code",
   "execution_count": null,
   "metadata": {},
   "outputs": [],
   "source": [
    "event = next(event_iterator)\n",
    "event"
   ]
  },
  {
   "cell_type": "markdown",
   "metadata": {},
   "source": [
    "# <center>Muon FITS files</center>\n",
    "\n",
    "We assume that fits file are preserved in the `listdir` directory"
   ]
  },
  {
   "cell_type": "markdown",
   "metadata": {},
   "source": [
    "### <center> One method </center>"
   ]
  },
  {
   "cell_type": "code",
   "execution_count": null,
   "metadata": {},
   "outputs": [],
   "source": [
    "listdir= glob.glob('/Users/vdk/muons2024/real_data/additional_statistic/11June2024/*')\n",
    "filtered_data_list = []\n",
    "\n",
    "for fits_file in listdir:\n",
    "    dat = Table.read(fits_file, format='fits')\n",
    "    \n",
    "    # Convert 'good_ring' column to boolean if it exists, because in different versions of lstchain it can be a string or a boolean\n",
    "    if 'good_ring' in dat.colnames:\n",
    "        dat['good_ring'] = dat['good_ring'].astype(bool)\n",
    "    \n",
    "    # Convert the Astropy Table to a Pandas DataFrame\n",
    "    df = dat.to_pandas()\n",
    "    \n",
    "    # Apply the cuts (filters)\n",
    "    df_good_data = df[(df['muon_efficiency'] < 1) & (df['size_outside'] < 500)]\n",
    "    \n",
    "    # Append the filtered data to the list\n",
    "    filtered_data_list.append(df_good_data)\n",
    "\n",
    "# Concatenate all filtered DataFrames into one\n",
    "df_all_good_data = pd.concat(filtered_data_list, ignore_index=True)\n",
    "\n",
    "df_all_good_data"
   ]
  },
  {
   "cell_type": "markdown",
   "metadata": {},
   "source": [
    "### <center> Second method </center>"
   ]
  },
  {
   "cell_type": "code",
   "execution_count": null,
   "metadata": {},
   "outputs": [],
   "source": [
    "def get_muon_parameters(listdir, **kwargs):\n",
    "    \"\"\"\n",
    "    Extracts and filters muon parameters from a list of FITS files.\n",
    "    Parameters:\n",
    "    -----------\n",
    "    listdir : list of str\n",
    "        List of file paths to the FITS files to be processed.\n",
    "    **kwargs : dict\n",
    "        Dictionary of cuts to be applied to the data. The keys should be the column names,\n",
    "        and the values should be tuples of the form (cut_value, cut_type), where:\n",
    "            - cut_value : float\n",
    "                The threshold value for the cut.\n",
    "            - cut_type : str\n",
    "                The type of cut to apply. Should be either 'lower' (keep values greater than cut_value)\n",
    "                or 'upper' (keep values less than cut_value).\n",
    "    Returns:\n",
    "    --------\n",
    "    pandas.DataFrame\n",
    "        A concatenated DataFrame containing the filtered data from all the FITS files.\n",
    "    \"\"\"\n",
    "    filtered_data_list = []\n",
    "\n",
    "    for fits_file in listdir:\n",
    "        # Read the FITS file into an Astropy Table\n",
    "        dat = Table.read(fits_file, format='fits')\n",
    "        \n",
    "        # Convert 'good_ring' column to boolean if it exists\n",
    "        if 'good_ring' in dat.colnames:\n",
    "            dat['good_ring'] = dat['good_ring'].astype(bool)\n",
    "        \n",
    "        # Convert the Astropy Table to a Pandas DataFrame\n",
    "        df = dat.to_pandas()\n",
    "        \n",
    "        # Apply the cuts (filters)\n",
    "        # Start by setting a mask to all True (no filtering)\n",
    "        mask = pd.Series([True] * len(df))\n",
    "        \n",
    "        # Iterate over the cuts passed via kwargs\n",
    "        for column, (cut_value, cut_type) in kwargs.items():\n",
    "            if cut_type == 'lower':\n",
    "                mask &= df[column] > cut_value\n",
    "            elif cut_type == 'upper':\n",
    "                mask &= df[column] < cut_value\n",
    "            else:\n",
    "                raise ValueError(f\"Invalid cut type: {cut_type}. Use 'upper' or 'lower'.\")\n",
    "        \n",
    "        # Filter the dataframe based on the combined mask\n",
    "        df_good_data = df[mask]\n",
    "        \n",
    "        # Append the filtered data to the list\n",
    "        filtered_data_list.append(df_good_data)\n",
    "    \n",
    "    # Return the list of filtered dataframes\n",
    "    return pd.concat(filtered_data_list, ignore_index=True)\\\n",
    "    \n",
    "#example of usage:\n",
    "\n",
    "test_df_frame = get_muon_parameters(listdir, muon_efficiency=(1, 'upper'), size_outside=(500, 'upper'))\n",
    "\n",
    "test_df_frame"
   ]
  },
  {
   "cell_type": "markdown",
   "metadata": {},
   "source": [
    "# <center>DL1 .h5 files </center>"
   ]
  },
  {
   "cell_type": "markdown",
   "metadata": {},
   "source": [
    "dataset named `dl1/event/telescope/image/LST_LSTCam` contains:\n",
    "\n",
    "|   Index | Name                  |\n",
    "|--------:|:----------------------|\n",
    "|       0 | obs_id                |\n",
    "|       1 | event_id              |\n",
    "|       2 | image                 |\n",
    "|       3 | peak_time             |\n",
    "|       4 | image_mask            |\n",
    "|       5 | is_valid              |\n",
    "|       6 | tel_id                |\n",
    "|       7 | selected_gain_channel |\n",
    "\n",
    "\n",
    "We can access it using `h5py` library:"
   ]
  },
  {
   "cell_type": "code",
   "execution_count": null,
   "metadata": {},
   "outputs": [],
   "source": [
    "# It can be any dl1 file, from real data or simulations\n",
    "dl1_file = '/Users/vdk/muons2024/data/for_comparison/zenith10/global_peak_window_sum/dl1_run101_muon.h5'\n",
    "\n",
    "dl1_images = []\n",
    "\n",
    "with h5py.File(dl1_file, 'r') as f:\n",
    "    # Access the dataset\n",
    "    dataset = f['dl1/event/telescope/image/LST_LSTCam']\n",
    "    \n",
    "    # Read the data\n",
    "    data = dataset[:]\n",
    "    for i, dataline in enumerate(data):\n",
    "        dl1_images.append(dataline[2])"
   ]
  },
  {
   "cell_type": "markdown",
   "metadata": {},
   "source": [
    "# <center> Datacheck files </center>"
   ]
  },
  {
   "cell_type": "code",
   "execution_count": null,
   "metadata": {},
   "outputs": [],
   "source": [
    "files = glob.glob('/Users/vdk/muons2024/datachecks/v0.9-v0.10_datacheck_files/20*/DL1_datacheck_*.h5') # path to your datacheck files for each date\n",
    "files.sort()\n",
    "\n",
    "runsummary = []\n",
    "cosmics = []\n",
    "cis = []\n",
    "\n",
    "for file in files:\n",
    "    try:\n",
    "        runsummary.append(pd.read_hdf(file, 'runsummary'))\n",
    "        cosmics.append(pd.read_hdf(file, 'cosmics'))\n",
    "        cis.append(pd.read_hdf(file, 'cosmics_intensity_spectrum'))\n",
    "    except:\n",
    "        print(file)\n",
    "    \n",
    "cosmics_pd = pd.concat(cosmics, ignore_index=True)\n",
    "runsummary_pd = pd.concat(runsummary, ignore_index=True)\n",
    "cis_pd = pd.concat(cis, ignore_index=True)\n",
    "cosmics_pd.columns"
   ]
  },
  {
   "cell_type": "markdown",
   "metadata": {},
   "source": [
    "## <center> Choose only subruns with low NSB </center>"
   ]
  },
  {
   "cell_type": "code",
   "execution_count": null,
   "metadata": {},
   "outputs": [],
   "source": [
    "max_diffuse_nsb_std = 2.3\n",
    "\n",
    "low_nsb_runs = cis_pd[['yyyymmdd','runnumber', 'subrun']][(cis_pd['diffuse_nsb_std'] < max_diffuse_nsb_std)]\n",
    "low_nsb_runsummary = runsummary_pd[runsummary_pd['runnumber'].isin(low_nsb_runs['runnumber'])]\n",
    "low_nsb_cosmics = cosmics_pd[cosmics_pd['runnumber'].isin(low_nsb_runs['runnumber'])]\n",
    "low_nsb_cosmics"
   ]
  },
  {
   "cell_type": "markdown",
   "metadata": {},
   "source": [
    "### <center> Save only runs with low nsb to choose the appropriate data later </center>"
   ]
  },
  {
   "cell_type": "code",
   "execution_count": null,
   "metadata": {},
   "outputs": [],
   "source": [
    "cut_time_for_low_nsb = 1709158619.7528722 # Beginning of 2024 year\n",
    "set_low_nsb = pd.DataFrame(set(low_nsb_cosmics['runnumber'][(low_nsb_cosmics['time'] > cut_time_for_low_nsb)]), columns=['runnumber']) # create a set of runnumbers with low nsb for only 2024 year\n",
    "# set_low_nsb.to_csv('/Users/vdk/Software/code/muon_paper_2024/low_nsb_2024year.csv') # Save it to the file\n",
    "set_low_nsb"
   ]
  },
  {
   "cell_type": "markdown",
   "metadata": {},
   "source": [
    "## <center> Muon parameters for each year </center>"
   ]
  },
  {
   "cell_type": "code",
   "execution_count": null,
   "metadata": {},
   "outputs": [],
   "source": [
    "# Define years and corresponding time range variables\n",
    "years = [2019, 2020, 2021, 2022, 2023, 2024]\n",
    "start_dates = {\n",
    "    2019: start_date_2019, 2020: start_date_2020, 2021: start_date_2021,\n",
    "    2022: start_date_2022, 2023: start_date_2023, 2024: start_date_2024\n",
    "}\n",
    "end_dates = {\n",
    "    2019: end_date_2019, 2020: end_date_2020, 2021: end_date_2021,\n",
    "    2022: end_date_2022, 2023: end_date_2023, 2024: end_date_2024\n",
    "}\n",
    "\n",
    "# Initialize dictionaries for mueff, mustd, and musize\n",
    "mueff = {}\n",
    "mustd = {}\n",
    "musize = {}\n",
    "\n",
    "# Loop to extract data for each year\n",
    "for year in years:\n",
    "    time_filter = (low_nsb_runsummary['time'] > start_dates[year]) & (low_nsb_runsummary['time'] < end_dates[year])\n",
    "    \n",
    "    mueff[year] = low_nsb_runsummary['mu_effi_mean'][time_filter]\n",
    "    mustd[year] = low_nsb_runsummary['mu_effi_stddev'][time_filter]\n",
    "    musize[year] = low_nsb_runsummary['mu_intensity_mean'][time_filter]\n",
    "\n",
    "# Loop to print mean optical efficiency and standard deviation\n",
    "for year in years:\n",
    "    print(f\"[LOW NSB Data] Mean opt eff for {year} year = {np.mean(mueff[year]):.3f} with std = {np.mean(mustd[year]):.3f}\")\n",
    "\n",
    "# Loop to print mean ring size\n",
    "for year in years:\n",
    "    print(f\"[LOW NSB Data] Mean ring size for {year} year = {np.mean(musize[year]):.3f}\")"
   ]
  },
  {
   "cell_type": "code",
   "execution_count": null,
   "metadata": {},
   "outputs": [],
   "source": [
    "import numpy as np\n",
    "\n",
    "# Define years and corresponding time range variables\n",
    "years = [2019, 2020, 2021, 2022, 2023, 2024]\n",
    "start_dates = {\n",
    "    2019: start_date_2019, 2020: start_date_2020, 2021: start_date_2021,\n",
    "    2022: start_date_2022, 2023: start_date_2023, 2024: start_date_2024\n",
    "}\n",
    "end_dates = {\n",
    "    2019: end_date_2019, 2020: end_date_2020, 2021: end_date_2021,\n",
    "    2022: end_date_2022, 2023: end_date_2023, 2024: end_date_2024\n",
    "}\n",
    "\n",
    "# Initialize dictionaries for runsummary_pd data (renamed)\n",
    "mueff_pd = {}\n",
    "mustd_pd = {}\n",
    "musize_pd = {}\n",
    "\n",
    "# Loop to extract data for each year from runsummary_pd\n",
    "for year in years:\n",
    "    time_filter = (runsummary_pd['time'] > start_dates[year]) & (runsummary_pd['time'] < end_dates[year])\n",
    "    \n",
    "    mueff_pd[year] = runsummary_pd['mu_effi_mean'][time_filter]\n",
    "    mustd_pd[year] = runsummary_pd['mu_effi_stddev'][time_filter]\n",
    "    musize_pd[year] = runsummary_pd['mu_intensity_mean'][time_filter]\n",
    "\n",
    "# Loop to print mean optical efficiency and standard deviation for runsummary_pd\n",
    "for year in years:\n",
    "    print(f\"[All Data] Mean opt eff for {year} year = {np.mean(mueff_pd[year]):.3f} with std = {np.mean(mustd_pd[year]):.3f}\")\n",
    "\n",
    "# Loop to print mean ring size for runsummary_pd\n",
    "for year in years:\n",
    "    print(f\"[All Data] Mean ring size for {year} year = {np.mean(musize_pd[year]):.3f}\")\n",
    "    \n"
   ]
  },
  {
   "cell_type": "code",
   "execution_count": null,
   "metadata": {},
   "outputs": [],
   "source": [
    "import matplotlib.pyplot as plt\n",
    "import numpy as np\n",
    "\n",
    "# Years for the plot\n",
    "years = [2019, 2020, 2021, 2022, 2023, 2024]\n",
    "\n",
    "# Calculate mean and stddev for low_nsb_runsummary\n",
    "mean_mueff_nsb = [np.mean(mueff[year]) for year in years]\n",
    "std_mueff_nsb = [np.mean(mustd[year]) for year in years]\n",
    "mean_musize_nsb = [np.mean(musize[year]) for year in years]\n",
    "\n",
    "# Calculate mean and stddev for runsummary_pd\n",
    "mean_mueff_pd = [np.mean(mueff_pd[year]) for year in years]\n",
    "std_mueff_pd = [np.mean(mustd_pd[year]) for year in years]\n",
    "mean_musize_pd = [np.mean(musize_pd[year]) for year in years]\n",
    "\n",
    "# Create figure with 2 horizontal subplots\n",
    "fig, (ax1, ax2) = plt.subplots(1, 2, figsize=(14, 6))\n",
    "\n",
    "# Plot mueff with stddev for both datasets\n",
    "ax1.errorbar(years, mean_mueff_nsb, yerr=std_mueff_nsb, marker='o', linestyle='-', linewidth=2, color='b', label='Low NSB Data', alpha = 0.5)\n",
    "ax1.errorbar(years, mean_mueff_pd, yerr=std_mueff_pd, marker='o', linestyle='-', linewidth=2, color='r', label='All Data)', alpha = 0.5)\n",
    "ax1.set_title('Mean Optical Efficiency (mueff) ± stddev Over Years')\n",
    "ax1.set_xlabel('Year')\n",
    "ax1.set_ylabel('Mean mueff')\n",
    "ax1.legend()\n",
    "ax1.set_ylim(0.1,0.25)\n",
    "ax1.grid(True)\n",
    "\n",
    "# Plot musize for both datasets\n",
    "ax2.plot(years, mean_musize_nsb, marker='s', linestyle='-', linewidth=2, color='b', label='Low NSB Data', alpha = 0.5)\n",
    "ax2.plot(years, mean_musize_pd, marker='s', linestyle='-', linewidth=2, color='r', label='All Data', alpha = 0.5)\n",
    "ax2.set_title('Mean Ring Size (musize) Over Years')\n",
    "ax2.set_xlabel('Year')\n",
    "ax2.set_ylabel('Mean musize')\n",
    "ax2.legend()\n",
    "ax2.set_ylim(1500, 2700)\n",
    "ax2.grid(True)\n",
    "\n",
    "# Adjust layout and show the plots\n",
    "plt.tight_layout()\n",
    "plt.show()"
   ]
  },
  {
   "cell_type": "code",
   "execution_count": null,
   "metadata": {},
   "outputs": [],
   "source": [
    "import matplotlib.pyplot as plt\n",
    "import seaborn as sns\n",
    "\n",
    "# Define the years and corresponding start/end dates\n",
    "years = [2019, 2020, 2021, 2022, 2023, 2024]\n",
    "start_dates = {\n",
    "    2019: start_date_2019, 2020: start_date_2020, 2021: start_date_2021,\n",
    "    2022: start_date_2022, 2023: start_date_2023, 2024: start_date_2024\n",
    "}\n",
    "end_dates = {\n",
    "    2019: end_date_2019, 2020: end_date_2020, 2021: end_date_2021,\n",
    "    2022: end_date_2022, 2023: end_date_2023, 2024: end_date_2024\n",
    "}\n",
    "\n",
    "# Extract run numbers based on the time filter for each year\n",
    "runs = {}\n",
    "for year in years:\n",
    "    runs[year] = low_nsb_runsummary['runnumber'][(low_nsb_runsummary['time'] > start_dates[year]) &\n",
    "                                                 (low_nsb_runsummary['time'] < end_dates[year])]\n",
    "\n",
    "# Plot the regression plots\n",
    "plt.figure(figsize=(12, 9))\n",
    "sns.regplot(x=low_nsb_runsummary['runnumber'], y=low_nsb_runsummary['mu_intensity_mean'], color='k', scatter_kws={'s': 10})\n",
    "sns.regplot(x=runsummary_pd['runnumber'], y=runsummary_pd['mu_intensity_mean'], color='g', scatter_kws={'s': 10})\n",
    "\n",
    "# Fill between regions for each year\n",
    "y_limits = [0, 4000]\n",
    "alpha_values = [0.05, 0.075, 0.075, 0.075, 0.075, 0.075]\n",
    "previous_max = 0\n",
    "\n",
    "for i, year in enumerate(years):\n",
    "    max_run = max(runs[year]) if year in runs else 20000\n",
    "    plt.fill_betweenx(y=y_limits, x1=previous_max, x2=max_run, alpha=alpha_values[i])\n",
    "    previous_max = max_run\n",
    "\n",
    "# Annotations for each year\n",
    "y_text = 600\n",
    "x_text_positions = [600, 2200, 4500, 8500, 13700, 16600]\n",
    "for i, year in enumerate(years):\n",
    "    plt.annotate(f\"{year}\", (x_text_positions[i], y_text), color='red')\n",
    "\n",
    "# Adjust plot limits, grid, and labels\n",
    "plt.ylim(500, 3500)\n",
    "plt.xlim(0, 18500)\n",
    "plt.grid(alpha=0.2)\n",
    "plt.xlabel('Runnumber')\n",
    "plt.ylabel('Size of the muon ring [p.e.]')\n",
    "\n",
    "# Display the plot\n",
    "plt.tight_layout()\n",
    "plt.show()"
   ]
  },
  {
   "cell_type": "markdown",
   "metadata": {},
   "source": [
    "# <center> Visualising and analysing the data </center>"
   ]
  },
  {
   "cell_type": "markdown",
   "metadata": {},
   "source": [
    "## <center>Looking onto the DL1 image</center>"
   ]
  },
  {
   "cell_type": "code",
   "execution_count": null,
   "metadata": {},
   "outputs": [],
   "source": [
    "# Getting geometry of the camera\n",
    "camgeom = source.subarray.tel[1].camera.geometry"
   ]
  },
  {
   "cell_type": "code",
   "execution_count": null,
   "metadata": {},
   "outputs": [],
   "source": [
    "disp = CameraDisplay(camgeom, image=dl1_images[0])\n",
    "disp.cmap = plt.cm.RdBu_r\n",
    "disp.add_colorbar()\n",
    "disp.set_limits_percent(95)\n",
    "\n",
    "plt.show()"
   ]
  },
  {
   "cell_type": "markdown",
   "metadata": {},
   "source": [
    "## <center>Calculating and highlighing clean mask</center>"
   ]
  },
  {
   "cell_type": "code",
   "execution_count": null,
   "metadata": {},
   "outputs": [],
   "source": []
  },
  {
   "cell_type": "code",
   "execution_count": null,
   "metadata": {},
   "outputs": [],
   "source": [
    "usefull_func"
   ]
  }
 ],
 "metadata": {
  "kernelspec": {
   "display_name": "lstchain-v0.10.3",
   "language": "python",
   "name": "python3"
  },
  "language_info": {
   "codemirror_mode": {
    "name": "ipython",
    "version": 3
   },
   "file_extension": ".py",
   "mimetype": "text/x-python",
   "name": "python",
   "nbconvert_exporter": "python",
   "pygments_lexer": "ipython3",
   "version": "3.10.14"
  }
 },
 "nbformat": 4,
 "nbformat_minor": 2
}
