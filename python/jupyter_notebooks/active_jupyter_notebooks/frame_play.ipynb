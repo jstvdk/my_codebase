{
 "cells": [
  {
   "cell_type": "code",
   "execution_count": null,
   "metadata": {},
   "outputs": [],
   "source": [
    "import numpy as np\n",
    "\n",
    "from ctapipe.containers import (\n",
    "    ArrayEventContainer,\n",
    "    MuonParametersContainer,\n",
    "    MuonTelescopeContainer,\n",
    ")\n",
    "from ctapipe.coordinates import TelescopeFrame\n",
    "from ctapipe.core import QualityQuery, TelescopeComponent\n",
    "from ctapipe.core.traits import FloatTelescopeParameter, List, Tuple, Unicode\n",
    "from ctapipe.io import EventSource\n",
    "\n",
    "import matplotlib.pyplot as plt\n",
    "import numpy as np\n",
    "from astropy import units as u\n",
    "from astropy.coordinates import SkyCoord\n",
    "from ctapipe.containers import (\n",
    "    MuonEfficiencyContainer,\n",
    "    MuonParametersContainer,\n",
    ")\n",
    "from ctapipe.coordinates import (\n",
    "    CameraFrame,\n",
    "    TelescopeFrame,\n",
    ")\n",
    "filename = '/Users/vdk/muons2024/simtel_files/2024year_tuned_nooulier_reflectivity_additional/run101_muon.simtel.gz'\n",
    "source = EventSource(input_url=filename, max_events=1000)\n",
    "\n",
    "frame = TelescopeFrame()\n"
   ]
  },
  {
   "cell_type": "code",
   "execution_count": null,
   "metadata": {},
   "outputs": [],
   "source": [
    "geometries = {\n",
    "            tel_id: tel.camera.geometry.transform_to(frame)\n",
    "            for tel_id, tel in source.subarray.tel.items()\n",
    "        }\n",
    "fov_radius = {\n",
    "            tel_id: geometry.guess_radius()\n",
    "            for tel_id, geometry in geometries.items()\n",
    "        }"
   ]
  },
  {
   "cell_type": "code",
   "execution_count": null,
   "metadata": {},
   "outputs": [],
   "source": [
    "geometries[1].pix_x"
   ]
  },
  {
   "cell_type": "code",
   "execution_count": null,
   "metadata": {},
   "outputs": [],
   "source": [
    "geometries[1].pix_x.to_value(u.deg)"
   ]
  },
  {
   "cell_type": "code",
   "execution_count": null,
   "metadata": {},
   "outputs": [],
   "source": [
    "source.subarray.tel[1].camera.geometry.frame.focal_length"
   ]
  },
  {
   "cell_type": "code",
   "execution_count": null,
   "metadata": {},
   "outputs": [],
   "source": [
    "telescope_description = source.subarray.tel[1]\n",
    "geometry = telescope_description.camera.geometry\n",
    "optics = telescope_description.optics\n",
    "\n",
    "optics.equivalent_focal_length  "
   ]
  },
  {
   "cell_type": "code",
   "execution_count": null,
   "metadata": {},
   "outputs": [],
   "source": [
    "optics.effective_focal_length"
   ]
  },
  {
   "cell_type": "code",
   "execution_count": null,
   "metadata": {},
   "outputs": [],
   "source": [
    "source.subarray.tel[1].camera.geometry.frame.focal_length"
   ]
  },
  {
   "cell_type": "code",
   "execution_count": null,
   "metadata": {},
   "outputs": [],
   "source": [
    "camera_coord = SkyCoord(geometry.pix_x, geometry.pix_y,\n",
    "                        CameraFrame(focal_length=optics.equivalent_focal_length,\n",
    "                                    rotation=geometry.cam_rotation))\n",
    "tel_coord = camera_coord.transform_to(TelescopeFrame())"
   ]
  },
  {
   "cell_type": "code",
   "execution_count": null,
   "metadata": {},
   "outputs": [],
   "source": [
    "tel_coord.fov_lon.to(u.deg).value"
   ]
  },
  {
   "cell_type": "code",
   "execution_count": null,
   "metadata": {},
   "outputs": [],
   "source": [
    "tel_coord.fov_lon"
   ]
  },
  {
   "cell_type": "code",
   "execution_count": null,
   "metadata": {},
   "outputs": [],
   "source": [
    "filename = '/Users/vdk/muons2024/simtel_files/2024year_tuned_nooulier_reflectivity_additional/run101_muon.simtel.gz'\n",
    "source = EventSource(input_url=filename, max_events=1000)"
   ]
  },
  {
   "cell_type": "code",
   "execution_count": null,
   "metadata": {},
   "outputs": [],
   "source": [
    "source.subarray.tel[1].camera.geometry"
   ]
  },
  {
   "cell_type": "code",
   "execution_count": null,
   "metadata": {},
   "outputs": [],
   "source": [
    "test_frame = source.subarray.tel[1].camera.geometry.transform_to(frame)"
   ]
  },
  {
   "cell_type": "code",
   "execution_count": null,
   "metadata": {},
   "outputs": [],
   "source": [
    "source.subarray.tel[1].camera.geometry.pix_x"
   ]
  },
  {
   "cell_type": "code",
   "execution_count": null,
   "metadata": {},
   "outputs": [],
   "source": [
    "test_frame.pix_x"
   ]
  },
  {
   "cell_type": "code",
   "execution_count": null,
   "metadata": {},
   "outputs": [],
   "source": [
    "source.subarray.tel[1].camera.geometry.frame.__dir__()"
   ]
  },
  {
   "cell_type": "code",
   "execution_count": null,
   "metadata": {},
   "outputs": [],
   "source": [
    "source.subarray.tel[1].camera.geometry.__dir__()"
   ]
  }
 ],
 "metadata": {
  "kernelspec": {
   "display_name": "cta-dev",
   "language": "python",
   "name": "python3"
  },
  "language_info": {
   "codemirror_mode": {
    "name": "ipython",
    "version": 3
   },
   "file_extension": ".py",
   "mimetype": "text/x-python",
   "name": "python",
   "nbconvert_exporter": "python",
   "pygments_lexer": "ipython3",
   "version": "3.10.14"
  }
 },
 "nbformat": 4,
 "nbformat_minor": 2
}
