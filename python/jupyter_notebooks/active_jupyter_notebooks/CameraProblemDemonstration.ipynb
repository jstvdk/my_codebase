{
 "cells": [
  {
   "cell_type": "code",
   "execution_count": null,
   "metadata": {},
   "outputs": [],
   "source": [
    "import h5py\n",
    "\n",
    "import numpy as np\n",
    "from astropy.table import Table\n",
    "from ctapipe.visualization import CameraDisplay\n",
    "import matplotlib.pyplot as plt\n",
    "\n",
    "from ctapipe.io import EventSource\n"
   ]
  },
  {
   "cell_type": "code",
   "execution_count": null,
   "metadata": {},
   "outputs": [],
   "source": [
    "filename = '/Users/vdk/muons2024/real_data/17744/fits_tables/code_check/LST-1.1.Run17744.0035.fits.fz'\n",
    "source = EventSource(filename, max_events = 1)\n",
    "camgeom = source.subarray.tel[1].camera.geometry"
   ]
  },
  {
   "cell_type": "markdown",
   "metadata": {},
   "source": [
    "## DL1 Images from Run 17745 (11 June 2024) ALL EVENTS"
   ]
  },
  {
   "cell_type": "code",
   "execution_count": null,
   "metadata": {},
   "outputs": [],
   "source": [
    "dl1_file = '/Users/vdk/muons2024/real_data/17744/fits_tables/code_check/dl1_LST-1.Run17745.0035.h5'\n",
    "\n",
    "dl1_images = []\n",
    "dl1_mask = []\n",
    "dl1_event_id = []\n",
    "\n",
    "with h5py.File(dl1_file, 'r') as f:\n",
    "    # Access the dataset\n",
    "    dataset = f['dl1/event/telescope/image/LST_LSTCam']\n",
    "    \n",
    "    # Read the data\n",
    "    data = dataset[:]\n",
    "    for i, dataline in enumerate(data):\n",
    "        dl1_images.append(dataline[2])\n",
    "        dl1_mask.append(dataline[4])\n",
    "        dl1_event_id.append(dataline[0])\n",
    "\n",
    "dl1_images = np.array(dl1_images)\n",
    "dl1_mask = np.array(dl1_mask).astype(bool)\n",
    "\n",
    "for key_id in range(0, 5):\n",
    "    disp = CameraDisplay(camgeom, image=dl1_images[key_id], title=f\"Serial number of event: {key_id}\")\n",
    "    disp.cmap = plt.cm.RdBu_r\n",
    "    disp.add_colorbar()\n",
    "    disp.set_limits_percent(95)\n",
    "\n",
    "    plt.show()\n",
    "\n",
    "plt.close()"
   ]
  },
  {
   "cell_type": "markdown",
   "metadata": {},
   "source": [
    "In order to process the muon images extracted with `GlobalPEakWindowSum`:\n",
    "\n",
    "-   I added the to the `create_muon_table()` method one more column `image`\n",
    "-   Filled this column with the dl1 `image` during call of method `fill_muon_event()` in the `r0_to_dl1.py` (line 729), after muon events were processed with correct image extractor. "
   ]
  },
  {
   "cell_type": "markdown",
   "metadata": {},
   "source": [
    "## DL1 Images from Run 17745 (11 June 2024) ONLY MUONS\n",
    "\n",
    "We can see that for all muon events the part of camera is missing"
   ]
  },
  {
   "cell_type": "code",
   "execution_count": null,
   "metadata": {},
   "outputs": [],
   "source": [
    "runnumber = 17745\n",
    "fits_file = f'/Users/vdk/muons2024/real_data/17744/fits_tables/code_check/muons_LST-1.Run{runnumber}.0035.fits'\n",
    "dat = Table.read(fits_file, format='fits')\n",
    "\n",
    "# Identify one-dimensional and multidimensional columns\n",
    "one_d_cols = [name for name in dat.colnames if len(dat[name].shape) <= 1]\n",
    "multi_d_cols = [name for name in dat.colnames if len(dat[name].shape) > 1]\n",
    "\n",
    "# Convert one-dimensional columns to pandas DataFrame\n",
    "df = dat[one_d_cols].to_pandas()\n",
    "\n",
    "# Extract multidimensional data separately\n",
    "images = dat['image'].tolist() if 'image' in multi_d_cols else None\n",
    "dist_masks = dat['dist_mask'].tolist() if 'dist_mask' in multi_d_cols else None\n",
    "\n",
    "for id_to_plot in range(0, 5):   \n",
    "\n",
    "    disp = CameraDisplay(camgeom, image=images[id_to_plot], title=f\"Serial number of event: {id_to_plot}\")\n",
    "    disp.cmap = plt.cm.RdBu_r\n",
    "    disp.add_colorbar()\n",
    "    images_good = None\n",
    "\n",
    "    plt.show()\n",
    "\n",
    "plt.close()"
   ]
  },
  {
   "cell_type": "markdown",
   "metadata": {},
   "source": [
    "## DL1 Images from Run 17744 (11 June 2024) ONLY MUONS"
   ]
  },
  {
   "cell_type": "code",
   "execution_count": null,
   "metadata": {},
   "outputs": [],
   "source": [
    "# Define the FITS file path\n",
    "runnumber = 17744\n",
    "fits_file = f'/Users/vdk/muons2024/real_data/17744/fits_tables/tables_run{runnumber}/muons_LST-1.Run{runnumber}.0047.fits'\n",
    "\n",
    "# Read the FITS file into an Astropy Table\n",
    "dat = Table.read(fits_file, format='fits')\n",
    "\n",
    "# Identify one-dimensional and multidimensional columns\n",
    "one_d_cols = [name for name in dat.colnames if len(dat[name].shape) <= 1]\n",
    "multi_d_cols = [name for name in dat.colnames if len(dat[name].shape) > 1]\n",
    "\n",
    "# Convert one-dimensional columns to pandas DataFrame\n",
    "df = dat[one_d_cols].to_pandas()\n",
    "\n",
    "# Extract multidimensional data separately\n",
    "images = dat['image'].tolist() if 'image' in multi_d_cols else None\n",
    "dist_masks = dat['dist_mask'].tolist() if 'dist_mask' in multi_d_cols else None\n",
    "\n",
    "for id_to_plot in range(0, 5):   \n",
    "\n",
    "    disp = CameraDisplay(camgeom, image=images[id_to_plot], title=f\"Serial number of event: {id_to_plot}\")\n",
    "    disp.cmap = plt.cm.RdBu_r\n",
    "    disp.add_colorbar()\n",
    "    images_good = None\n",
    "\n",
    "    plt.show()\n",
    "\n",
    "plt.close()"
   ]
  },
  {
   "cell_type": "markdown",
   "metadata": {},
   "source": [
    "## DL1 Images from Run 17747 (11 June 2024) ONLY MUONS"
   ]
  },
  {
   "cell_type": "code",
   "execution_count": null,
   "metadata": {},
   "outputs": [],
   "source": [
    "# Define the FITS file path\n",
    "runnumber = 17747\n",
    "fits_file = f'/Users/vdk/muons2024/real_data/17744/fits_tables/code_check/muons_LST-1.Run{runnumber}.0035.fits'\n",
    "\n",
    "# Read the FITS file into an Astropy Table\n",
    "dat = Table.read(fits_file, format='fits')\n",
    "\n",
    "# Identify one-dimensional and multidimensional columns\n",
    "one_d_cols = [name for name in dat.colnames if len(dat[name].shape) <= 1]\n",
    "multi_d_cols = [name for name in dat.colnames if len(dat[name].shape) > 1]\n",
    "\n",
    "# Convert one-dimensional columns to pandas DataFrame\n",
    "df = dat[one_d_cols].to_pandas()\n",
    "\n",
    "# Extract multidimensional data separately\n",
    "images = dat['image'].tolist() if 'image' in multi_d_cols else None\n",
    "dist_masks = dat['dist_mask'].tolist() if 'dist_mask' in multi_d_cols else None\n",
    "\n",
    "for id_to_plot in range(0, 5):   \n",
    "\n",
    "    disp = CameraDisplay(camgeom, image=images[id_to_plot], title=f\"Serial number of event: {id_to_plot}\")\n",
    "    disp.cmap = plt.cm.RdBu_r\n",
    "    disp.add_colorbar()\n",
    "    images_good = None\n",
    "\n",
    "    plt.show()\n",
    "\n",
    "plt.close()"
   ]
  },
  {
   "cell_type": "markdown",
   "metadata": {},
   "source": [
    "## DL1 Images from Run 18198 (11 July 2024) ONLY MUONS"
   ]
  },
  {
   "cell_type": "markdown",
   "metadata": {},
   "source": [
    "And now everything works again"
   ]
  },
  {
   "cell_type": "code",
   "execution_count": null,
   "metadata": {},
   "outputs": [],
   "source": [
    "# Define the FITS file path\n",
    "runnumber = 18198\n",
    "fits_file = f'/Users/vdk/muons2024/real_data/17744/fits_tables/tables_run{runnumber}/muons_LST-1.Run{runnumber}.0035.fits'\n",
    "\n",
    "# Read the FITS file into an Astropy Table\n",
    "dat = Table.read(fits_file, format='fits')\n",
    "\n",
    "# Identify one-dimensional and multidimensional columns\n",
    "one_d_cols = [name for name in dat.colnames if len(dat[name].shape) <= 1]\n",
    "multi_d_cols = [name for name in dat.colnames if len(dat[name].shape) > 1]\n",
    "\n",
    "# Convert one-dimensional columns to pandas DataFrame\n",
    "df = dat[one_d_cols].to_pandas()\n",
    "\n",
    "# Extract multidimensional data separately\n",
    "images = dat['image'].tolist() if 'image' in multi_d_cols else None\n",
    "dist_masks = dat['dist_mask'].tolist() if 'dist_mask' in multi_d_cols else None\n",
    "\n",
    "for id_to_plot in range(0, 5):   \n",
    "\n",
    "    disp = CameraDisplay(camgeom, image=images[id_to_plot], title=f\"Serial number of event: {id_to_plot}\")\n",
    "    disp.cmap = plt.cm.RdBu_r\n",
    "    disp.add_colorbar()\n",
    "    images_good = None\n",
    "\n",
    "    plt.show()\n",
    "\n",
    "plt.close()"
   ]
  },
  {
   "cell_type": "markdown",
   "metadata": {},
   "source": [
    "## DL1 Images from Run 17780 (11 June 2024) ONLY MUONS"
   ]
  },
  {
   "cell_type": "code",
   "execution_count": null,
   "metadata": {},
   "outputs": [],
   "source": [
    "# Define the FITS file path\n",
    "runnumber = 17780\n",
    "fits_file = f'/Users/vdk/muons2024/real_data/17744/fits_tables/code_check/muons_LST-1.Run{runnumber}.0001.fits'\n",
    "\n",
    "# Read the FITS file into an Astropy Table\n",
    "dat = Table.read(fits_file, format='fits')\n",
    "\n",
    "# Identify one-dimensional and multidimensional columns\n",
    "one_d_cols = [name for name in dat.colnames if len(dat[name].shape) <= 1]\n",
    "multi_d_cols = [name for name in dat.colnames if len(dat[name].shape) > 1]\n",
    "\n",
    "# Convert one-dimensional columns to pandas DataFrame\n",
    "df = dat[one_d_cols].to_pandas()\n",
    "\n",
    "# Extract multidimensional data separately\n",
    "images = dat['image'].tolist() if 'image' in multi_d_cols else None\n",
    "dist_masks = dat['dist_mask'].tolist() if 'dist_mask' in multi_d_cols else None\n",
    "\n",
    "for id_to_plot in range(0, 5):   \n",
    "\n",
    "    disp = CameraDisplay(camgeom, image=images[id_to_plot], title=f\"Serial number of event: {id_to_plot}\")\n",
    "    disp.cmap = plt.cm.RdBu_r\n",
    "    disp.add_colorbar()\n",
    "    images_good = None\n",
    "\n",
    "    plt.show()\n",
    "\n",
    "plt.close()"
   ]
  },
  {
   "cell_type": "code",
   "execution_count": null,
   "metadata": {},
   "outputs": [],
   "source": []
  }
 ],
 "metadata": {
  "kernelspec": {
   "display_name": "lstchain-env",
   "language": "python",
   "name": "python3"
  },
  "language_info": {
   "codemirror_mode": {
    "name": "ipython",
    "version": 3
   },
   "file_extension": ".py",
   "mimetype": "text/x-python",
   "name": "python",
   "nbconvert_exporter": "python",
   "pygments_lexer": "ipython3",
   "version": "3.11.9"
  }
 },
 "nbformat": 4,
 "nbformat_minor": 2
}
