{
 "cells": [
  {
   "cell_type": "code",
   "execution_count": null,
   "metadata": {},
   "outputs": [],
   "source": [
    "import glob\n",
    "import pandas as pd\n",
    "import numpy as np \n",
    "from astropy.table import Table\n",
    "from astropy.io import fits\n",
    "import glob\n",
    "import seaborn as sns\n",
    "import matplotlib.pyplot as plt\n",
    "import time"
   ]
  },
  {
   "cell_type": "code",
   "execution_count": null,
   "metadata": {},
   "outputs": [],
   "source": [
    "files = glob.glob('/Users/vdk/muons2024/20240131muons/muons_LST-1.*')\n",
    "len(files)\n",
    "short_files = files[:40000]\n",
    "run_number = [file_part[50:55] for file_part in short_files]\n",
    "sorted_run_number = sorted(run_number, key=int)\n",
    "set_sorted_run = set(sorted_run_number)\n",
    "subruns_dict = {}\n",
    "for run in set_sorted_run:\n",
    "    subruns_dict[run] = []\n",
    "\n",
    "for run in set_sorted_run:    \n",
    "    for subrun in short_files:\n",
    "        if run in subrun:\n",
    "            subruns_dict[run].append(subrun)"
   ]
  },
  {
   "cell_type": "code",
   "execution_count": null,
   "metadata": {},
   "outputs": [],
   "source": [
    "all_data_df = pd.DataFrame()\n",
    "\n",
    "# Assuming subruns_dict is a dictionary where each key corresponds to a subrun\n",
    "# and its value is a list of FITS file paths for that subrun\n",
    "t1 = time.perf_counter(), time.process_time()\n",
    "for subrun_key in subruns_dict:\n",
    "    for fits_file_path in subruns_dict[subrun_key]:\n",
    "        try:\n",
    "            # Read the FITS file into an Astropy Table\n",
    "            dat = Table.read(fits_file_path)\n",
    "            \n",
    "            # Convert the Astropy Table to a Pandas DataFrame\n",
    "            df = dat.to_pandas()\n",
    "            # Append the DataFrame to the main DataFrame\n",
    "            all_data_df = pd.concat([df, df_good_data], ignore_index=True)\n",
    "        except:\n",
    "            pass\n",
    "    t2 = time.perf_counter(), time.process_time()\n",
    "\n",
    "print(f\" Real time: {t2[0] - t1[0]:.2f} seconds\")\n",
    "print(f\" CPU time: {t2[1] - t1[1]:.2f} seconds\")"
   ]
  },
  {
   "cell_type": "code",
   "execution_count": null,
   "metadata": {},
   "outputs": [],
   "source": [
    "# Apply most basic quality cuts, taken from Ruben work\n",
    "size_outside = 500 # pe\n",
    "df_good_data = all_data_df[(all_data_df['ring_completeness'] > 0.9) & (all_data_df['size_outside'] < size_outside) & (all_data_df['ring_width'] < 0.5) & all_data_df['good_ring']]\n",
    "df_good_data = all_data_df"
   ]
  },
  {
   "cell_type": "code",
   "execution_count": null,
   "metadata": {},
   "outputs": [],
   "source": [
    "# Step 1: Create bins for 'ring_width'\n",
    "df_good_data['ring_width_bin'] = pd.cut(df_good_data['ring_width'], bins=300)\n",
    "\n",
    "# Step 2: Group by the new bin column and calculate mean muon efficiency for each bin\n",
    "binned_data = df_good_data.groupby('ring_width_bin')['muon_efficiency'].mean().reset_index()\n",
    "\n",
    "# Step 3: Convert the bin intervals to strings (for plotting) or use midpoints\n",
    "binned_data['bin_mid'] = binned_data['ring_width_bin'].apply(lambda x: x.mid)\n",
    "\n",
    "# Plotting\n",
    "plt.figure(figsize=(10, 6))\n",
    "\n",
    "# Scatter plot of binned values\n",
    "plt.scatter(binned_data['bin_mid'], binned_data['muon_efficiency'], label='Binned Muon efficiency from LST Data')\n",
    "\n",
    "# Calculate and plot the regression line over the original data\n",
    "m, b = np.polyfit(df_good_data['ring_width'], df_good_data['muon_efficiency'], 1)\n",
    "plt.plot(df_good_data['ring_width'], m*df_good_data['ring_width'] + b, color='red', label='Regression Line', alpha = 0.75)\n",
    "\n",
    "plt.xlabel('Ring Width [deg]')\n",
    "plt.ylabel('Optical Efficiency')\n",
    "plt.legend()\n",
    "plt.grid(alpha=0.5)\n",
    "plt.show()\n",
    "#plt.savefig('/home/jovyan/OptEffVSWidth.png', dpi=300, format='png', bbox_inches='tight')\n"
   ]
  }
 ],
 "metadata": {
  "kernelspec": {
   "display_name": "cta-dev",
   "language": "python",
   "name": "python3"
  },
  "language_info": {
   "codemirror_mode": {
    "name": "ipython",
    "version": 3
   },
   "file_extension": ".py",
   "mimetype": "text/x-python",
   "name": "python",
   "nbconvert_exporter": "python",
   "pygments_lexer": "ipython3",
   "version": "3.9.16"
  }
 },
 "nbformat": 4,
 "nbformat_minor": 2
}
