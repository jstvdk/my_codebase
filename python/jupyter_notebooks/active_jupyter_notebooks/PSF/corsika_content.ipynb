{
 "cells": [
  {
   "cell_type": "code",
   "execution_count": null,
   "metadata": {},
   "outputs": [],
   "source": [
    "import eventio"
   ]
  },
  {
   "cell_type": "code",
   "execution_count": null,
   "metadata": {},
   "outputs": [],
   "source": [
    "particle_types = []\n",
    "with eventio.IACTFile('/Users/vdk/muons2024/psf_work/proton_simulation/corsika_theta_10.0_az_102.199_run97.corsika.gz', 'r') as file_in:\n",
    "    for event in file_in:\n",
    "        particle_types.append(event.header[2])\n",
    "        if event.header[2] != 14.0:\n",
    "            print(event.header[2])\n",
    "            print(event.__dir__())\n",
    "            save_event = event\n",
    "            break"
   ]
  },
  {
   "cell_type": "code",
   "execution_count": null,
   "metadata": {},
   "outputs": [],
   "source": [
    "set(particle_types)"
   ]
  },
  {
   "cell_type": "code",
   "execution_count": null,
   "metadata": {},
   "outputs": [],
   "source": [
    "methods = [method_name for method_name in save_event.__dir__() if not method_name.startswith('_')]\n",
    "methods"
   ]
  },
  {
   "cell_type": "code",
   "execution_count": null,
   "metadata": {},
   "outputs": [],
   "source": [
    "save_event"
   ]
  },
  {
   "cell_type": "code",
   "execution_count": null,
   "metadata": {},
   "outputs": [],
   "source": [
    "for keys, items in save_event.longitudinal.items():\n",
    "    print(f\"key name is '{keys}' and it contains -> {items}\")"
   ]
  },
  {
   "cell_type": "code",
   "execution_count": null,
   "metadata": {},
   "outputs": [],
   "source": [
    "save_event.longitudinal['data'].shape"
   ]
  },
  {
   "cell_type": "code",
   "execution_count": null,
   "metadata": {},
   "outputs": [],
   "source": [
    "field_names = save_event.header.dtype.names\n",
    "for field_name in field_names:\n",
    "    print(f\"{field_name} = {save_event.header[field_name]}\")"
   ]
  }
 ],
 "metadata": {
  "kernelspec": {
   "display_name": "cta-dev",
   "language": "python",
   "name": "python3"
  },
  "language_info": {
   "codemirror_mode": {
    "name": "ipython",
    "version": 3
   },
   "file_extension": ".py",
   "mimetype": "text/x-python",
   "name": "python",
   "nbconvert_exporter": "python",
   "pygments_lexer": "ipython3",
   "version": "3.10.14"
  }
 },
 "nbformat": 4,
 "nbformat_minor": 2
}
