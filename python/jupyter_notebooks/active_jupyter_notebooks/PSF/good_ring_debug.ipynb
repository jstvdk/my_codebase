{
 "cells": [
  {
   "cell_type": "code",
   "execution_count": null,
   "metadata": {},
   "outputs": [],
   "source": [
    "import numpy as np\n",
    "import matplotlib.pyplot as plt\n",
    "import glob\n",
    "from datetime import datetime\n",
    "\n",
    "import numpy as np\n",
    "\n",
    "\n",
    "import matplotlib.pyplot as plt\n",
    "from astropy.table import Table, vstack\n",
    "\n",
    "#from muonpipe import usefull_func\n",
    "import matplotlib.pyplot as plt\n",
    "import seaborn as sns\n",
    "import pandas as pd\n"
   ]
  },
  {
   "cell_type": "code",
   "execution_count": null,
   "metadata": {},
   "outputs": [],
   "source": [
    "listdir= glob.glob('/Users/vdk/muons2024/psf_work/fixchi710/tables/*')\n",
    "\n",
    "dat = Table.read('{}'.format(listdir[0]), format='fits')\n",
    "\n",
    "for muon_file in listdir:\n",
    "    dat2 = Table.read(muon_file, format='fits')\n",
    "    for key_value in dat2['good_ring']:\n",
    "        if not isinstance(key_value, np.bool_):\n",
    "            print(f\"Field is not of type numpy.bool_ {key_value}\")\n",
    "    print(f\"File {muon_file} - 'good_ring' type:\", dat2[\"good_ring\"].dtype)\n",
    "    # Stack the tables\n",
    "    # if dat is None:\n",
    "    #     dat = dat2\n",
    "    # else:\n",
    "    #     dat = vstack([dat, dat2])\n",
    "\n",
    "# df = dat.to_pandas()\n",
    "# df_sim_0015_alignment_3200m = df[\n",
    "#     df['good_ring'] & \n",
    "#     (df['muon_efficiency'] < muon_efficiency_cut) & \n",
    "#     (df['size_outside'] < size_outside_cut)\n",
    "# ]\n",
    "\n",
    "# df_sim_0015_alignment_3200m"
   ]
  },
  {
   "cell_type": "code",
   "execution_count": null,
   "metadata": {},
   "outputs": [],
   "source": [
    "filename = '/Users/vdk/muons2024/psf_work/fixchi710/tables/muon_table_run13.fits'\n",
    "\n",
    "dat = Table.read('{}'.format(filename), format='fits')"
   ]
  },
  {
   "cell_type": "code",
   "execution_count": null,
   "metadata": {},
   "outputs": [],
   "source": [
    "dat"
   ]
  },
  {
   "cell_type": "code",
   "execution_count": null,
   "metadata": {},
   "outputs": [],
   "source": [
    "listdir= glob.glob('/Users/vdk/muons2024/lapalma_simulations/proper_mc_config/nsbtune2024year_tuned_reflectivity_0015alignment/tables/*')\n",
    "\n",
    "dat = Table.read('{}'.format(listdir[0]), format='fits')\n",
    "\n",
    "for muon_file in listdir:\n",
    "    dat2 = Table.read(muon_file, format='fits')\n",
    "    \n",
    "    # Stack the tables\n",
    "    if dat is None:\n",
    "        dat = dat2\n",
    "    else:\n",
    "        dat = vstack([dat, dat2])\n"
   ]
  },
  {
   "cell_type": "code",
   "execution_count": null,
   "metadata": {},
   "outputs": [],
   "source": [
    "listdir1 = glob.glob('/Users/vdk/muons2024/lapalma_simulations/proper_mc_config/nsbtune2024year_tuned_reflectivity/tables/*')\n",
    "listdir2 = glob.glob('/Users/vdk/muons2024/lapalma_simulations/for_paper/nsbtune2024year_no_outliers_additional_true/tables/*')\n",
    "listdir = listdir1 + listdir2\n",
    "\n",
    "dat = Table.read('{}'.format(listdir[0]), format='fits')\n",
    "\n",
    "for muon_file in listdir:\n",
    "    dat2 = Table.read(muon_file, format='fits')\n",
    "    \n",
    "    # Stack the tables\n",
    "    if dat is None:\n",
    "        dat = dat2\n",
    "    else:\n",
    "        dat = vstack([dat, dat2])\n",
    "\n",
    "df = dat.to_pandas()\n",
    "df_sim_00043_alignment = df[\n",
    "    df['good_ring'] & \n",
    "    (df['muon_efficiency'] < muon_efficiency_cut) & \n",
    "    (df['size_outside'] < size_outside_cut)\n",
    "]\n",
    "df_sim_00043_alignment"
   ]
  }
 ],
 "metadata": {
  "kernelspec": {
   "display_name": "cta-dev",
   "language": "python",
   "name": "python3"
  },
  "language_info": {
   "codemirror_mode": {
    "name": "ipython",
    "version": 3
   },
   "file_extension": ".py",
   "mimetype": "text/x-python",
   "name": "python",
   "nbconvert_exporter": "python",
   "pygments_lexer": "ipython3",
   "version": "3.10.14"
  }
 },
 "nbformat": 4,
 "nbformat_minor": 2
}
