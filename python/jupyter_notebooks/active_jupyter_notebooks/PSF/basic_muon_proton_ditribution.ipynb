{
 "cells": [
  {
   "cell_type": "code",
   "execution_count": null,
   "metadata": {},
   "outputs": [],
   "source": [
    "import numpy as np\n",
    "import matplotlib.pyplot as plt\n",
    "import glob\n",
    "from astropy.table import Table, vstack\n",
    "import pandas as pd\n",
    "import glob as glob\n",
    "\n",
    "size_outside_cut = 100\n",
    "muon_efficiency_cut = 1\n",
    "min_impact = 2.2199933748101555\n",
    "max_impact = 9.983608702234397\n",
    "\n",
    "color_dict = {\n",
    "    'muon_sim_00025deg': 'purple',\n",
    "    'muon_sim_00046deg': 'orange',\n",
    "    'muon_sim_00092deg': 'green',\n",
    "    'muon_sim_0015deg': 'red',\n",
    "    'muon_sim_002deg': 'blue',\n",
    "    'muon_from_proton_sim_00046deg' : 'lightgreen',\n",
    "    'muon_from_proton_sim_001deg' : 'blue',\n",
    "    'winter_data_2024': 'black'\n",
    "}\n",
    "\n",
    "fmt_dict = {\n",
    "    'muon_sim_00025deg': 'o',\n",
    "    'muon_sim_00046deg': 'o',\n",
    "    'muon_sim_00092deg': 'o',\n",
    "    'muon_sim_0015deg': 'o',\n",
    "    'muon_sim_002deg': 'o',\n",
    "    'muon_from_proton_sim_00046deg' : 'o',\n",
    "    'muon_from_proton_sim_001deg' : 'o',\n",
    "    'winter_data_2024': 'x'   \n",
    "}\n",
    "\n",
    "ls_dict = {\n",
    "    'muon_sim_00025deg': '--',\n",
    "    'muon_sim_00046deg': '--',\n",
    "    'muon_sim_00092deg': '--',\n",
    "    'muon_sim_0015deg': '--',\n",
    "    'muon_sim_002deg': '--',\n",
    "    'muon_from_proton_sim_00046deg' : '--',\n",
    "    'muon_from_proton_sim_001deg' : '--',\n",
    "    'winter_data_2024': '-'\n",
    "} \n"
   ]
  },
  {
   "cell_type": "markdown",
   "metadata": {},
   "source": [
    "# Methods"
   ]
  },
  {
   "cell_type": "code",
   "execution_count": null,
   "metadata": {},
   "outputs": [],
   "source": [
    "def reweight_gaug(data, zenith, alpha  = 0.7, is_data=False):\n",
    "    if is_data:\n",
    "        weights = np.ones(len(data))/len(data)\n",
    "    else:\n",
    "        zenith = np.deg2rad(zenith)\n",
    "        weights = np.ones(len(data))\n",
    "        weights = data['mc_energy']**(-alpha) * (1/(1 + 1.1 * data['mc_energy'] * 1000 * np.cos(np.deg2rad(zenith))/115) + 0.054/(1 + 1.1 * data['mc_energy'] * 1000 * np.cos(np.deg2rad(zenith))/850))\n",
    "    return weights / np.sum(weights)\n",
    "    \n",
    "def read_and_process_fits(files):\n",
    "    dat = None\n",
    "    for muon_file in files:\n",
    "        dat2 = Table.read(muon_file, format='fits')\n",
    "        \n",
    "        # Convert columns to boolean if they exist\n",
    "        for col in ['good_ring', 'is_valid', 'parameters_at_limit']:\n",
    "            if col in dat2.colnames:\n",
    "                dat2[col] = dat2[col].astype(bool)\n",
    "        \n",
    "        # Stack the tables\n",
    "        dat = vstack([dat, dat2]) if dat is not None else dat2\n",
    "    \n",
    "    return dat\n",
    "\n",
    "def filter_dataframe(df, muon_efficiency_cut, size_outside_cut):\n",
    "    return df[\n",
    "        df['good_ring'] & \n",
    "        (df['muon_efficiency'] < muon_efficiency_cut) & \n",
    "        (df['size_outside'] < size_outside_cut)\n",
    "    ]\n",
    "\n",
    "def calculate_survival_percentage(df, df_cut):\n",
    "    return (len(df_cut) / len(df)) * 100\n",
    "\n",
    "def apply_radius_cut(df, min_radius_cut, max_radius_cut):\n",
    "    return df[\n",
    "        (df['ring_radius'] > min_radius_cut) &\n",
    "        (df['ring_radius'] < max_radius_cut)\n",
    "    ]\n",
    "    \n",
    "def apply_cuts(df, completeness_cut, containment_cut, min_radius_cut, max_radius_cut, center_distance_cut, impact_distance_cut, num_pixels_in_ring_cut, quantile_cut=1):\n",
    "    \"\"\" Apply cuts to the dataframe \"\"\"\n",
    "    \n",
    "    #ring_width_quantile = df['ring_width'].quantile(quantile_cut)\n",
    "    \n",
    "    return df[\n",
    "        (df['ring_completeness'] > completeness_cut) &\n",
    "        (df['ring_containment'] > containment_cut) &\n",
    "        (df['ring_radius'] > min_radius_cut) &\n",
    "        (df['ring_radius'] < max_radius_cut) &\n",
    "        (df['ring_center_x'].abs() < center_distance_cut) &\n",
    "        (df['ring_center_y'].abs() < center_distance_cut) &\n",
    "        (df['impact_parameter'] < impact_distance_cut) &\n",
    "        (df['num_pixels_in_ring'] < num_pixels_in_ring_cut) &\n",
    "        (df['ring_width'] < quantile_cut)  # Apply the cut on ring_width\n",
    "    ]\n",
    "\n",
    "\n",
    "def plot_columns(df_data, df_sim, df_sim_protons, columns, rows, cols, apply_weight=True, df_name='None', plot_option=True, percentile=False):\n",
    "    fig, axes = plt.subplots(rows, cols, figsize=(10, 13))\n",
    "    axes = axes.flatten()\n",
    "    data_weights = reweight_gaug(df_data, 10, 10, True)\n",
    "    sim_weights = reweight_gaug(df_sim, 10, 0.7, False)\n",
    "    sim_protons_weights = df_sim_protons['mc_energy']**(-0.71)\n",
    "    \n",
    "    for i, col in enumerate(columns):\n",
    "        data_values = df_data[col]\n",
    "        sim_values = df_sim[col]\n",
    "        sim_protons_values = df_sim_protons[col]\n",
    "\n",
    "        combined_values = pd.concat([data_values, sim_values, sim_protons_values])\n",
    "\n",
    "        min_value = combined_values.min()\n",
    "        max_value = combined_values.max()\n",
    "\n",
    "        total_events = len(combined_values)\n",
    "        num_bins = int(max(len(df_data)**0.3, len(df_sim))**0.3)\n",
    "        num_bins = max(10, min(num_bins, 50))\n",
    "        #num_bins = int(min(len(df_data)**0.5, len(df_sim))**0.5)\n",
    "        #num_bins = max(10, min(num_bins, 50))\n",
    "\n",
    "        if col == 'ring_width':\n",
    "            if percentile:\n",
    "                min_value = combined_values.min()\n",
    "                max_value = 0.07\n",
    "                axes[i].set_xlim(0, 0.08)\n",
    "                num_bins = int(min(len(df_data), len(df_data))**0.4)\n",
    "                bins = np.linspace(min_value, max_value, num_bins + 1)\n",
    "            else:\n",
    "                min_value = combined_values.min()\n",
    "                max_value = 0.15\n",
    "                axes[i].set_xlim(0, 0.15)\n",
    "                num_bins = int(max(len(df_data)**0.3, len(df_sim))**0.3)\n",
    "                bins = np.linspace(min_value, max_value, num_bins + 1)\n",
    "        \n",
    "        bins = np.linspace(min_value, max_value, num_bins + 1)\n",
    "        if apply_weight:\n",
    "            axes[i].hist(data_values, weights=data_weights, bins=bins, alpha=0.6, color='k', density=True, label='Data', histtype='step', lw=2)\n",
    "            axes[i].hist(sim_values, weights=sim_weights, bins=bins, alpha=0.85, color='orange', density=True, label=f'Muon Simulation 0.0046deg', histtype='step', lw=2)\n",
    "            axes[i].hist(sim_protons_values, weights=sim_protons_weights, bins=bins, alpha=0.85, color='lightgreen', density=True, label='Muon From Proton Simulations 0.0046deg', histtype='step', lw=2)\n",
    "            #axes[i].hist(sim_protons_values, weights=sim_protons_weights, bins=bins, alpha=0.85, color='red', density=True, label='Muon Simulations 0.015 deg', histtype='step', lw=2)\n",
    "        else:\n",
    "            axes[i].hist(data_values, bins=bins, alpha=0.6, color='k', density=True, label='Data', histtype='step', lw=2)\n",
    "            axes[i].hist(sim_values, bins=bins, alpha=0.85, color='orange', density=True, label=f'Muon Simulations 0.0046 deg', histtype='step', lw=2)\n",
    "            axes[i].hist(sim_protons_values, bins=bins, alpha=0.85, color='lightgreen', density=True, label='Muon From Proton Simulations 0.0046deg', histtype='step', lw=2)\n",
    "            #axes[i].hist(sim_protons_values, bins=bins, alpha=0.85, color='red', density=True, label='Muon Simulations 0.015 deg', histtype='step', lw=2)\n",
    "\n",
    "        axes[i].set_title(f'Histogram of {col}')\n",
    "        axes[i].set_xlabel(col)\n",
    "        axes[i].set_ylabel('Normalized Frequency')\n",
    "        axes[i].legend(loc='lower left')\n",
    "\n",
    "    plt.tight_layout()\n",
    "    if plot_option:\n",
    "        plt.savefig(f'/Users/vdk/muons2024/basic_distributions/PROTONS_noringcenter_{name}_radiuscut={min_radius_cut}-{max_radius_cut}_completeness={ring_completeness_cut}_centerdistance={ring_center_distance_cut}_impactdistance={impact_distance_cut}_widthquantile={QUANTILE_CUT}.pdf', dpi=200)\n",
    "    plt.show()\n"
   ]
  },
  {
   "cell_type": "code",
   "execution_count": null,
   "metadata": {},
   "outputs": [],
   "source": [
    "listdir = glob.glob('/Users/vdk/muons2024/lapalma_simulations/proper_mc_config/nsbtune2024year_tuned_reflectivity_00025alignment/tables/*')\n",
    "dat = read_and_process_fits(listdir)\n",
    "df = dat.to_pandas()\n",
    "df_sim_00025_align = filter_dataframe(df, muon_efficiency_cut, size_outside_cut)\n",
    "df_sim_00025_align.name = 'muon_sim_00025deg'\n",
    "\n",
    "listdir1 = glob.glob('/Users/vdk/muons2024/lapalma_simulations/proper_mc_config/nsbtune2024year_tuned_reflectivity/tables/*')\n",
    "listdir2 = glob.glob('/Users/vdk/muons2024/lapalma_simulations/for_paper/nsbtune2024year_no_outliers_additional_true/tables/*')\n",
    "dat = read_and_process_fits(listdir1 + listdir2)\n",
    "df = dat.to_pandas()\n",
    "df_sim_00046_align = filter_dataframe(df, muon_efficiency_cut, size_outside_cut)\n",
    "df_sim_00046_align.name = 'muon_sim_00046deg'\n",
    "\n",
    "listdir = glob.glob('/Users/vdk/muons2024/lapalma_simulations/proper_mc_config/psf_sim/nsbtune2024year_tuned_reflectivity_00092alignment/tables/*')\n",
    "dat = read_and_process_fits(listdir)\n",
    "df = dat.to_pandas()\n",
    "df_sim_00092_align = filter_dataframe(df, muon_efficiency_cut, size_outside_cut)\n",
    "df_sim_00092_align.name = 'muon_sim_00092deg'\n",
    "\n",
    "listdir = glob.glob('/Users/vdk/muons2024/lapalma_simulations/proper_mc_config/nsbtune2024year_tuned_reflectivity_0015alignment/tables/*')\n",
    "dat = read_and_process_fits(listdir)\n",
    "df = dat.to_pandas()\n",
    "df_sim_0015_align = filter_dataframe(df, muon_efficiency_cut, size_outside_cut)\n",
    "df_sim_0015_align.name = 'muon_sim_0015deg'\n",
    "\n",
    "listdir= glob.glob('/Users/vdk/muons2024/lapalma_simulations/proper_mc_config/psf_sim/nsbtune2024year_tuned_reflectivity_002alignment/tables/*')\n",
    "dat = read_and_process_fits(listdir)\n",
    "df = dat.to_pandas()\n",
    "df_sim_002_align = filter_dataframe(df, muon_efficiency_cut, size_outside_cut)\n",
    "df_sim_002_align.name = 'muon_sim_002deg'"
   ]
  },
  {
   "cell_type": "code",
   "execution_count": null,
   "metadata": {},
   "outputs": [],
   "source": [
    "listdir= glob.glob('/Users/vdk/muons2024/psf_work/proton_simulation/tables/*')\n",
    "dat = read_and_process_fits(listdir)\n",
    "df = dat.to_pandas()\n",
    "df_sim_protons = filter_dataframe(df, muon_efficiency_cut, size_outside_cut)\n",
    "df_sim_protons.name = 'protons_oiginal'\n",
    "\n",
    "listdir = glob.glob('/Users/vdk/muons2024/psf_work/proton_simulation/more_runs_/tables/*')\n",
    "dat = read_and_process_fits(listdir)\n",
    "df = dat.to_pandas()\n",
    "df_sim_protons_more = filter_dataframe(df, muon_efficiency_cut, size_outside_cut)\n",
    "df_sim_protons_more.name = 'protons'\n",
    "\n",
    "listdir = glob.glob('/Users/vdk/muons2024/psf_work/proton_simulation/more_runs_2/tables/*')\n",
    "dat = read_and_process_fits(listdir)\n",
    "df = dat.to_pandas()\n",
    "df_sim_protons_more_2 = filter_dataframe(df, muon_efficiency_cut, size_outside_cut)\n",
    "df_sim_protons_more_2.name = 'protons'\n",
    "\n",
    "listdir = glob.glob('/Users/vdk/muons2024/psf_work/proton_simulation/more_runs_3/tables/*')\n",
    "dat = read_and_process_fits(listdir)\n",
    "df = dat.to_pandas()\n",
    "df_sim_protons_more_3 = filter_dataframe(df, muon_efficiency_cut, size_outside_cut)\n",
    "df_sim_protons_more_3.name = 'protons'\n",
    "\n",
    "listdir = glob.glob('/Users/vdk/muons2024/psf_work/proton_simulation/more_runs_4/tables/*')\n",
    "dat = read_and_process_fits(listdir)\n",
    "df = dat.to_pandas()\n",
    "df_sim_protons_more_4 = filter_dataframe(df, muon_efficiency_cut, size_outside_cut)\n",
    "df_sim_protons_more_4.name = 'protons'\n",
    "\n",
    "listdir = glob.glob('/Users/vdk/muons2024/psf_work/proton_simulation/more_runs_6/tables/*')\n",
    "dat = read_and_process_fits(listdir)\n",
    "df = dat.to_pandas()\n",
    "df_sim_protons_more_6 = filter_dataframe(df, muon_efficiency_cut, size_outside_cut)\n",
    "df_sim_protons_more_6.name = 'protons'\n",
    "\n",
    "listdir = glob.glob('/Users/vdk/muons2024/psf_work/proton_simulation/more_runs_7/tables/*')\n",
    "dat = read_and_process_fits(listdir)\n",
    "df = dat.to_pandas()\n",
    "df_sim_protons_more_7 = filter_dataframe(df, muon_efficiency_cut, size_outside_cut)\n",
    "df_sim_protons_more_7.name = 'protons'\n",
    "\n",
    "listdir = glob.glob('/Users/vdk/muons2024/psf_work/proton_simulation/more_runs_9/tables/*')\n",
    "dat = read_and_process_fits(listdir)\n",
    "df = dat.to_pandas()\n",
    "df_sim_protons_more_9 = filter_dataframe(df, muon_efficiency_cut, size_outside_cut)\n",
    "df_sim_protons_more_9.name = 'protons'\n",
    "df_sim_protons_more_9\n",
    "\n",
    "df_sim_protons_combined = pd.concat([df_sim_protons, df_sim_protons_more, df_sim_protons_more_2, df_sim_protons_more_3, df_sim_protons_more_4, df_sim_protons_more_6, df_sim_protons_more_7, df_sim_protons_more_9], ignore_index=True)\n",
    "df_sim_protons_combined.name = 'muon_from_proton_sim_00046deg'\n",
    "\n",
    "listdir = glob.glob('/Users/vdk/muons2024/psf_work/proton_simulation/more_runs_3_001align/tables/*')\n",
    "dat = read_and_process_fits(listdir)\n",
    "df = dat.to_pandas()\n",
    "df_sim_protons_more_3_001 = filter_dataframe(df, muon_efficiency_cut, size_outside_cut)\n",
    "df_sim_protons_more_3_001.name = 'protons_001'\n",
    "\n",
    "listdir = glob.glob('/Users/vdk/muons2024/psf_work/proton_simulation/more_runs_4_001align/tables/*')\n",
    "dat = read_and_process_fits(listdir)\n",
    "df = dat.to_pandas()\n",
    "df_sim_protons_more_4_001 = filter_dataframe(df, muon_efficiency_cut, size_outside_cut)\n",
    "df_sim_protons_more_4_001.name = 'protons_001'\n",
    "\n",
    "df_sim_protons_combined_001 = pd.concat([df_sim_protons_more_3_001, df_sim_protons_more_4_001], ignore_index=True)\n",
    "df_sim_protons_combined_001.name = 'muon_from_proton_sim_001deg'"
   ]
  },
  {
   "cell_type": "code",
   "execution_count": null,
   "metadata": {},
   "outputs": [],
   "source": [
    "df_sim_protons_combined"
   ]
  },
  {
   "cell_type": "code",
   "execution_count": null,
   "metadata": {},
   "outputs": [],
   "source": [
    "listdir = glob.glob('/Users/vdk/muons2024/psf_work/no_integration_cor/tables/*')\n",
    "dat = read_and_process_fits(listdir)\n",
    "df = dat.to_pandas()\n",
    "df_no_int_cor = filter_dataframe(df, muon_efficiency_cut, size_outside_cut)\n",
    "df_no_int_cor.name = 'no_integr_cor'"
   ]
  },
  {
   "cell_type": "markdown",
   "metadata": {},
   "source": [
    "# Data"
   ]
  },
  {
   "cell_type": "code",
   "execution_count": null,
   "metadata": {},
   "outputs": [],
   "source": [
    "listdir = glob.glob('/Users/vdk/muons2024/data_quality_winter_2024/tables/*')\n",
    "dat = read_and_process_fits(listdir)\n",
    "df = dat.to_pandas()\n",
    "df_winter_data = filter_dataframe(df, muon_efficiency_cut, size_outside_cut)\n",
    "df_winter_data.name = 'winter_data_2024'"
   ]
  },
  {
   "cell_type": "code",
   "execution_count": null,
   "metadata": {},
   "outputs": [],
   "source": [
    "QUANTILE_CUT = 0.2\n",
    "width_data_quantile_cut = df_winter_data['ring_width'].quantile(QUANTILE_CUT)\n",
    "\n",
    "ring_completeness_cut = 0.6\n",
    "ring_containment_cut = 0\n",
    "num_pixels_in_ring_cut = 1000\n",
    "# Cut on ring radius coming from the energy range in simulations (8.4 GeV - 1 TeV)\n",
    "min_radius_cut = 1.003\n",
    "max_radius_cut = 1.235\n",
    "\n",
    "# Cut on ring center distance comes from the narrow cone of simulated muons, viewcone = 0.9 degrees\n",
    "ring_center_distance_cut = 0.65\n",
    "\n",
    "# Muons were simulated to be randomly scattered in the circle with radius of 9.8 meters\n",
    "impact_distance_cut = 5.5\n",
    "\n",
    "df_list = [df_sim_00025_align, df_sim_00046_align, df_sim_00092_align, df_sim_0015_align, df_sim_002_align, df_sim_protons_combined, df_sim_protons_combined_001, df_winter_data]\n",
    "cut_datasets = {}\n",
    "data_width_binned_dict = {}\n",
    "\n",
    "bin_edges = max_radius_cut - min_radius_cut\n",
    "bin_bins = np.linspace(min_radius_cut, max_radius_cut, 10)\n",
    "bin_centers = (bin_bins[1:] + bin_bins[:-1]) / 2\n",
    "\n",
    "for df in df_list:\n",
    "    \n",
    "    cut_datasets[df.name] = apply_cuts(\n",
    "        df, \n",
    "        ring_completeness_cut, \n",
    "        ring_containment_cut, \n",
    "        min_radius_cut, \n",
    "        max_radius_cut, \n",
    "        ring_center_distance_cut, \n",
    "        impact_distance_cut,\n",
    "        num_pixels_in_ring_cut,\n",
    "        width_data_quantile_cut\n",
    "    ).copy()\n",
    "\n",
    "    cut_datasets[df.name] = cut_datasets[df.name].assign(\n",
    "        radius_bin=pd.cut(\n",
    "            cut_datasets[df.name]['ring_radius'], \n",
    "            bins=bin_bins, \n",
    "            include_lowest=True\n",
    "        )\n",
    "    )\n",
    "    data_width_binned_dict[df.name] = cut_datasets[df.name].groupby('radius_bin', observed=False)['ring_width'].agg(['mean', 'sum', 'count', 'std']).reset_index()\n",
    "    data_width_binned_dict[df.name]['error'] = data_width_binned_dict[df.name]['std'] / np.sqrt(data_width_binned_dict[df.name]['count'])\n",
    "    print(f\"Events survived for {df.name}: {len(cut_datasets[df.name])} ({calculate_survival_percentage(df, cut_datasets[df.name]):.2f}%)\")\n",
    "\n",
    "df_to_plot = {\n",
    "    'muon_sim_00025deg': False,\n",
    "    'muon_sim_00046deg': True,\n",
    "    'muon_sim_00092deg': True,\n",
    "    'muon_sim_0015deg': True,\n",
    "    'muon_sim_002deg': False,\n",
    "    'muon_from_proton_sim_00046deg': True,\n",
    "    'muon_from_proton_sim_001deg': False,\n",
    "    'winter_data_2024': True\n",
    "}\n",
    "\n",
    "plt.figure(figsize=(10, 6.5))\n",
    "\n",
    "for name, df in data_width_binned_dict.items():\n",
    "    if df_to_plot[name]:\n",
    "        plt.errorbar(\n",
    "            bin_centers,\n",
    "            df['mean'] / bin_centers,\n",
    "            yerr=df['error'] / bin_centers,\n",
    "            fmt=fmt_dict[name],\n",
    "            label=name,\n",
    "            color=color_dict[name],\n",
    "            capsize=7,\n",
    "            markersize=10,\n",
    "            alpha=0.9\n",
    "        )\n",
    "    \n",
    "        slope, intercept = np.polyfit(bin_centers, df['mean'] / bin_centers, 1)\n",
    "        y_fit = slope * bin_centers + intercept\n",
    "        plt.plot(bin_centers, y_fit, color=color_dict[name], linestyle=ls_dict[name])#, label=f'{name} fit')\n",
    "\n",
    "plt.legend()\n",
    "\n",
    "# Customize the plot\n",
    "plt.xlabel('Ring Radius (bin centers)')\n",
    "plt.ylabel('Mean Ring Width / Radius')\n",
    "plt.ylim(0.02, 0.09)\n",
    "plt.title(f'min/max radiuscut = {min_radius_cut}/{max_radius_cut},completeness={ring_completeness_cut},centerdistance<{ring_center_distance_cut},impactdistance<{impact_distance_cut},widthquantile={QUANTILE_CUT}') \n",
    "plt.grid(alpha=0.3)\n",
    "plt.tight_layout()  # Adjust layout for better spacing\n",
    "plt.savefig(f'/Users/vdk/muons2024/basic_distributions/relative_broadening/PROTONS_radiuscut={min_radius_cut}-{max_radius_cut}_completeness={ring_completeness_cut}_center distance={ring_center_distance_cut}_impact distance={impact_distance_cut}_width quantile={QUANTILE_CUT}.pdf', dpi=200)\n",
    "plt.show()\n"
   ]
  },
  {
   "cell_type": "code",
   "execution_count": null,
   "metadata": {},
   "outputs": [],
   "source": [
    "width_data_quantile_cut"
   ]
  },
  {
   "cell_type": "markdown",
   "metadata": {},
   "source": [
    "# Basic distributions"
   ]
  },
  {
   "cell_type": "code",
   "execution_count": null,
   "metadata": {},
   "outputs": [],
   "source": [
    "#name_of_columns = ['ring_size', 'ring_radius', 'ring_center_x', 'ring_center_y', 'num_pixels_in_ring', 'mean_pixel_charge_around_ring', 'radial_stdev', 'ring_width']\n",
    "name_of_columns = ['ring_size', 'ring_radius', 'num_pixels_in_ring', 'mean_pixel_charge_around_ring', 'radial_stdev', 'ring_width']\n",
    "\n",
    "print('====================================================')\n",
    "print('====================================================')\n",
    "print('\\n')\n",
    "print('-----------> Data + Simulation for mirror alignment', name[-20:], 'deg <--------------\\n')\n",
    "print(f'min/max radius cut = {min_radius_cut}/{max_radius_cut}, \\ncompleteness>{ring_completeness_cut} \\ncenter distance<{ring_center_distance_cut},\\nimpact distance<{impact_distance_cut}, \\nwidth quantile={QUANTILE_CUT}')\n",
    "print('\\n')\n",
    "print('====================================================')\n",
    "print('====================================================')\n",
    "percentile_bool = True\n",
    "if QUANTILE_CUT == 1:\n",
    "    percentile_bool = False\n",
    "plot_columns(cut_datasets['winter_data_2024'], cut_datasets['muon_sim_00046deg'], cut_datasets['muon_from_proton_sim_00046deg'], name_of_columns, rows = 3, cols = 2, df_name = name, percentile=percentile_bool, plot_option=True)"
   ]
  },
  {
   "cell_type": "code",
   "execution_count": null,
   "metadata": {},
   "outputs": [],
   "source": [
    "max(cut_datasets['muon_from_proton_sim_00046deg']['impact_y_array'])"
   ]
  },
  {
   "cell_type": "code",
   "execution_count": null,
   "metadata": {},
   "outputs": [],
   "source": [
    "max(cut_datasets['muon_sim_00046deg']['ring_center_x'])"
   ]
  },
  {
   "cell_type": "code",
   "execution_count": null,
   "metadata": {},
   "outputs": [],
   "source": [
    "cut_datasets['muon_from_proton_sim_00046deg'].keys()"
   ]
  },
  {
   "cell_type": "code",
   "execution_count": null,
   "metadata": {},
   "outputs": [],
   "source": [
    "plt.figure(figsize=(10, 6.5))\n",
    "z,x,c = plt.hist(cut_datasets['winter_data_2024']['size_outside'][cut_datasets['winter_data_2024']['size_outside'] >= 0.0000], log=True, bins=np.linspace(0,500,30), alpha=0.6, color='k', density=True, label='Data', histtype='step', lw=2)\n",
    "z,x,c = plt.hist(cut_datasets['muon_sim_00046deg']['size_outside'][cut_datasets['muon_sim_00046deg']['size_outside'] >= 0.00000], log=True, bins=np.linspace(0,500,30), alpha=0.85, color='orange', density=True, label='Muon Simulations 0.0046 deg', histtype='step', lw=2)\n",
    "z,x,c = plt.hist(cut_datasets['muon_from_proton_sim_00046deg']['size_outside'][cut_datasets['muon_from_proton_sim_00046deg']['size_outside'] >= 0.00000], log=True, bins=np.linspace(0,500,30), alpha=0.85, color='lightgreen', density=True, label='Muon From Proton Simulations 0.0046deg', histtype='step', lw=2)\n",
    "#plt.xlim(0,20)\n",
    "plt.legend()"
   ]
  },
  {
   "cell_type": "code",
   "execution_count": null,
   "metadata": {},
   "outputs": [],
   "source": [
    "z,x,c = plt.hist(cut_datasets['winter_data_2024']['size_outside'][cut_datasets['winter_data_2024']['size_outside'] > 0.0000001], log=True, bins=30, alpha=0.6, color='k', density=True, label='Data', histtype='step', lw=2)\n",
    "z,x,c = plt.hist(cut_datasets['muon_sim_00046deg']['size_outside'][cut_datasets['muon_sim_00046deg']['size_outside'] > 0.0000001], log=True, bins=30, alpha=0.85, color='orange', density=True, label='Muon Simulations 0.0046 deg', histtype='step', lw=2)\n",
    "z,x,c = plt.hist(cut_datasets['muon_from_proton_sim_00046deg']['size_outside'][cut_datasets['muon_from_proton_sim_00046deg']['size_outside'] > 0.0000001], log=True, bins=30, alpha=0.85, color='lightgreen', density=True, label='Muon From Proton Simulations 0.0046deg', histtype='step', lw=2)\n",
    "#plt.xlim()\n",
    "plt.legend()"
   ]
  },
  {
   "cell_type": "code",
   "execution_count": null,
   "metadata": {},
   "outputs": [],
   "source": [
    "print(f\"Fraction of size outside pixels in data {round(len(cut_datasets['winter_data_2024']['size_outside'][cut_datasets['winter_data_2024']['size_outside'] > 0.0000001]) / len(cut_datasets['winter_data_2024']['size_outside'][cut_datasets['winter_data_2024']['size_outside'] < 0.0000001]) * 100, 2)}%\")\n",
    "print(f\"Fraction of size outside pixels in muon sim {round(len(cut_datasets['muon_sim_00046deg']['size_outside'][cut_datasets['muon_sim_00046deg']['size_outside'] > 0.0000001]) / len(cut_datasets['muon_sim_00046deg']['size_outside'][cut_datasets['muon_sim_00046deg']['size_outside'] < 0.0000001]) * 100, 2)}%\")\n",
    "print(f\"Fraction of size outside pixels in proton sim {round(len(cut_datasets['muon_from_proton_sim_00046deg']['size_outside'][cut_datasets['muon_from_proton_sim_00046deg']['size_outside'] > 0.0000001]) / len(cut_datasets['muon_from_proton_sim_00046deg']['size_outside'][cut_datasets['muon_from_proton_sim_00046deg']['size_outside'] < 0.0000001]) * 100, 2)}%\")"
   ]
  },
  {
   "cell_type": "code",
   "execution_count": null,
   "metadata": {},
   "outputs": [],
   "source": [
    "z,x,c = plt.hist(cut_datasets['winter_data_2024']['mean_pixel_charge_around_ring'][cut_datasets['winter_data_2024']['size_outside'] > 0.0000001], log=False, bins=20, alpha=0.6, color='k', density=True, label='Data', histtype='step', lw=2)\n",
    "z,x,c = plt.hist(cut_datasets['muon_sim_00046deg']['mean_pixel_charge_around_ring'][cut_datasets['muon_sim_00046deg']['size_outside'] > 0.0000001], log=False, bins=20, alpha=0.85, color='orange', density=True, label='Muon Simulations 0.0046 deg', histtype='step', lw=2)\n",
    "z,x,c = plt.hist(cut_datasets['muon_from_proton_sim_00046deg']['mean_pixel_charge_around_ring'][cut_datasets['muon_from_proton_sim_00046deg']['size_outside'] > 0.0000001], log=False, bins=20, alpha=0.85, color='lightgreen', density=True, label='Muon From Proton Simulations 0.0046deg', histtype='step', lw=2)\n",
    "plt.xlim(-0.5, 1.5)\n",
    "plt.legend()"
   ]
  },
  {
   "cell_type": "code",
   "execution_count": null,
   "metadata": {},
   "outputs": [],
   "source": [
    "z,x,c = plt.hist(cut_datasets['winter_data_2024']['mean_pixel_charge_around_ring'][cut_datasets['winter_data_2024']['size_outside'] < 0.0000001], log=False, bins=20, alpha=0.6, color='k', density=True, label='Data', histtype='step', lw=2)\n",
    "z,x,c = plt.hist(cut_datasets['muon_sim_00046deg']['mean_pixel_charge_around_ring'][cut_datasets['muon_sim_00046deg']['size_outside'] < 0.0000001], log=False, bins=20, alpha=0.85, color='orange', density=True, label='Muon Simulations 0.0046 deg', histtype='step', lw=2)\n",
    "z,x,c = plt.hist(cut_datasets['muon_from_proton_sim_00046deg']['mean_pixel_charge_around_ring'][cut_datasets['muon_from_proton_sim_00046deg']['size_outside'] < 0.0000001], log=False, bins=20, alpha=0.85, color='lightgreen', density=True, label='Muon From Proton Simulations 0.0046deg', histtype='step', lw=2)\n",
    "plt.xlim(-1, 1)\n",
    "plt.legend()"
   ]
  },
  {
   "cell_type": "code",
   "execution_count": null,
   "metadata": {},
   "outputs": [],
   "source": [
    "z,x,c = plt.hist(cut_datasets['winter_data_2024']['mean_pixel_charge_around_ring'][cut_datasets['winter_data_2024']['size_outside'] >= 0], log=True, bins=20, alpha=0.6, color='k', density=True, label='Data', histtype='step', lw=2)\n",
    "z,x,c = plt.hist(cut_datasets['muon_sim_00046deg']['mean_pixel_charge_around_ring'][cut_datasets['muon_sim_00046deg']['size_outside'] >= 0], log=True, bins=20, alpha=0.85, color='orange', density=True, label='Muon Simulations 0.0046 deg', histtype='step', lw=2)\n",
    "z,x,c = plt.hist(cut_datasets['muon_from_proton_sim_00046deg']['mean_pixel_charge_around_ring'][cut_datasets['muon_from_proton_sim_00046deg']['size_outside'] >= 0], log=True, bins=20, alpha=0.85, color='lightgreen', density=True, label='Muon From Proton Simulations 0.0046deg', histtype='step', lw=2)\n",
    "plt.xlim(-1, 4)\n",
    "plt.legend()"
   ]
  },
  {
   "cell_type": "code",
   "execution_count": null,
   "metadata": {},
   "outputs": [],
   "source": [
    "plt.figure(figsize=(10, 6.5))\n",
    "z,x,c = plt.hist(cut_datasets['winter_data_2024']['mean_pixel_charge_around_ring'], log=False, bins=40, alpha=0.6, color='k', density=True, label='Data', histtype='step', lw=2)\n",
    "z,x,c = plt.hist(cut_datasets['muon_sim_00046deg']['mean_pixel_charge_around_ring'], log=False, bins=40, alpha=0.85, color='orange', density=True, label='Muon Simulations 0.0046 deg', histtype='step', lw=2)\n",
    "z,x,c = plt.hist(cut_datasets['muon_sim_0015deg']['mean_pixel_charge_around_ring'], log=False, bins=40, alpha=0.85, color='purple', density=True, label='Muon Simulations 0.015 deg', histtype='step', lw=2)\n",
    "z,x,c = plt.hist(cut_datasets['muon_from_proton_sim_00046deg']['mean_pixel_charge_around_ring'], log=False, bins=40, alpha=0.85, color='lightgreen', density=True, label='Muon From Proton Simulations 0.0046deg', histtype='step', lw=2)\n",
    "z,x,c = plt.hist(df_no_int_cor['mean_pixel_charge_around_ring'], log=False, bins=40, alpha=0.85, color='red', density=True, label='No integration correction', histtype='step', lw=2)\n",
    "plt.xlim(-0.5, 1)\n",
    "plt.legend()"
   ]
  },
  {
   "cell_type": "code",
   "execution_count": null,
   "metadata": {},
   "outputs": [],
   "source": [
    "listdir = glob.glob('/Users/vdk/muons2024/psf_work/proton_simulation/more_runs_8/tables/*')\n",
    "dat = read_and_process_fits(listdir)\n",
    "df = dat.to_pandas()\n",
    "df_sim_protons_more_8 = filter_dataframe(df, muon_efficiency_cut, size_outside_cut)\n",
    "df_sim_protons_more_8.name = 'protons_008'"
   ]
  },
  {
   "cell_type": "code",
   "execution_count": null,
   "metadata": {},
   "outputs": [],
   "source": [
    "len(df_sim_protons_more_7['mc_energy'])"
   ]
  },
  {
   "cell_type": "code",
   "execution_count": null,
   "metadata": {},
   "outputs": [],
   "source": [
    "plt.figure(figsize=(10, 6.5))\n",
    "z,x,c = plt.hist(df_sim_protons_combined['mc_energy'], bins=np.linspace(0.01,1,100), alpha=0.6, color='k', density=True, label='Proton simulation', histtype='step', lw=2,log=True)\n",
    "plt.legend()"
   ]
  },
  {
   "cell_type": "code",
   "execution_count": null,
   "metadata": {},
   "outputs": [],
   "source": [
    "plt.figure(figsize=(10, 6.5))\n",
    "z,x,c = plt.hist(df_sim_protons_more_7['mc_energy'][df_sim_protons_more_7['mc_energy'] < 1], bins=np.linspace(0.01,1,100), alpha=0.6, color='k', density=True, label='Proton simulation', histtype='step', lw=2,log=True)\n",
    "z,x,c = plt.hist(df_sim_00046_align['mc_energy'], bins=np.linspace(0.01,1,100), alpha=0.6, color='red', density=True, label='Muon simulation', histtype='step', lw=2,log=True)\n",
    "plt.legend()"
   ]
  },
  {
   "cell_type": "code",
   "execution_count": null,
   "metadata": {},
   "outputs": [],
   "source": [
    "# Calculate weights\n",
    "weights_protons = reweight_gaug(df_sim_protons_more_7, 10, False)\n",
    "weights_muons = reweight_gaug(df_sim_00046_align, 10, False)\n",
    "\n",
    "# Plot histograms with weights\n",
    "plt.figure(figsize=(12, 8.5))\n",
    "z, x, c = plt.hist(df_sim_protons_more_7['mc_energy'][(df_sim_protons_more_7['mc_energy'] < 1) & (df_sim_protons_more_7['mc_energy'] > 0.1)], bins=np.linspace(0.01, 1, 100), alpha=0.6, color='k', density=True, label='Proton simulation', histtype='step', lw=2, log=True)\n",
    "z, x, c = plt.hist(df_sim_00046_align['mc_energy'][df_sim_00046_align['mc_energy'] > 0.1], bins=np.linspace(0.01, 1, 100), alpha=0.6, color='red', density=True, label='Muon simulation', histtype='step', lw=2, log=True)\n",
    "plt.legend()\n",
    "plt.xlabel('TeV')\n",
    "plt.show()"
   ]
  },
  {
   "cell_type": "code",
   "execution_count": null,
   "metadata": {},
   "outputs": [],
   "source": [
    "mc_energies_1 = df_sim_protons_combined['mc_energy']\n",
    "mc_energies_2 = df_sim_00046_align['mc_energy']\n",
    "\n",
    "len(mc_energies_2)\n",
    "mc_energies_1.min()"
   ]
  },
  {
   "cell_type": "code",
   "execution_count": null,
   "metadata": {},
   "outputs": [],
   "source": [
    "df_sim_protons_combined['mc_energy'].min()\n",
    "df_sim_00046_align['mc_energy'].min()\n"
   ]
  },
  {
   "cell_type": "code",
   "execution_count": null,
   "metadata": {},
   "outputs": [],
   "source": [
    "from scipy.optimize import curve_fit\n",
    "\n",
    "import numpy as np\n",
    "import matplotlib.pyplot as plt\n",
    "\n",
    "# Assume 'data' is your DataFrame containing MC events\n",
    "#mc_energies_1 = df_sim_protons_combined['mc_energy'][(df_sim_protons_combined['mc_energy'] < 1) & (df_sim_protons_combined['mc_energy'] > 0.01)]\n",
    "mc_energies_1 = df_sim_protons_combined['mc_energy']\n",
    "mc_energies_2 = df_sim_00046_align['mc_energy'][:len(mc_energies_1)]\n",
    "\n",
    "# Define energy bins (adjust as needed)\n",
    "bins = np.logspace(np.log10(mc_energies_1.min()), np.log10(mc_energies_1.max()), 50)\n",
    "\n",
    "# Create histogram\n",
    "counts, bin_edges = np.histogram(mc_energies_1, bins=bins)\n",
    "counts_2, bin_edges_2 = np.histogram(mc_energies_2, bins=bins)\n",
    "# Calculate bin centers\n",
    "bin_centers = (bin_edges[:-1] + bin_edges[1:]) / 2\n",
    "\n",
    "# Plot the histogram\n",
    "plt.figure(figsize=(8, 6))\n",
    "plt.loglog(bin_centers, counts, label='MC Energy Distribution for proton simulation', color='red')\n",
    "plt.loglog(bin_centers, counts_2, color='black', label = 'MC Energy Distribution for muon simulation')\n",
    "plt.xlabel('Muon Energy (TeV)')\n",
    "plt.ylabel('Number of Events')\n",
    "plt.title('MC Energy Spectrum')\n",
    "plt.legend()\n",
    "plt.show()\n",
    "\n"
   ]
  },
  {
   "cell_type": "code",
   "execution_count": null,
   "metadata": {},
   "outputs": [],
   "source": [
    "# Define a power-law function\n",
    "def power_law(E, A, gamma):\n",
    "    return A * E**-gamma\n",
    "\n",
    "# Initial guesses for A and gamma\n",
    "initial_guess = [1e3, 2]\n",
    "\n",
    "# Perform the fit\n",
    "popt, pcov = curve_fit(power_law, bin_centers, counts, p0=initial_guess)\n",
    "\n",
    "A_fit, gamma_fit = popt\n",
    "print(f\"Fitted parameters: A = {A_fit}, gamma = {gamma_fit}\")\n",
    "\n",
    "# Plot the fit\n",
    "plt.figure(figsize=(8, 6))\n",
    "plt.loglog(bin_centers, counts, 'b.', label='MC Data')\n",
    "plt.loglog(bin_centers, power_law(bin_centers, *popt), 'r-', label=f'Fit: $E^{{-{gamma_fit:.2f}}}$')\n",
    "plt.xlabel('Muon Energy (TeV)')\n",
    "plt.ylabel('Number of Events')\n",
    "plt.title('Fitted MC Energy Spectrum')\n",
    "plt.legend()\n",
    "plt.show()"
   ]
  },
  {
   "cell_type": "code",
   "execution_count": null,
   "metadata": {},
   "outputs": [],
   "source": [
    "# def dF_dE(data,zenith):\n",
    "#     flux = data**-2.7 * (1/(1 + 1.1 * data * 1000 * np.cos(zenith)/115) + 0.054/(1 + 1.1 * data * 1000 * np.cos(zenith)/850))\n",
    "#     return flux\n",
    "\n",
    "\n",
    "def dPhi_dE_calc(energy, zenith):\n",
    "    \"\"\" Calculate the muon flux at a given energy and zenith angle \"\"\"\n",
    "    # Calculate the cosine of the zenith angle\n",
    "    cos_theta = np.cos(np.deg2rad(zenith))\n",
    "    \n",
    "    # Formula components\n",
    "    term1 = 1 / (1 + (1.1 * energy * cos_theta) / 115)\n",
    "    term2 = 0.054 / (1 + (1.1 * energy * cos_theta) / 850)\n",
    "    \n",
    "    # Calculate the flux\n",
    "    flux = 1.4e3 * energy**-2.7 * (term1 + term2)\n",
    "    \n",
    "    return flux\n",
    "\n",
    "# Energy range in GeV\n",
    "E_mu = np.logspace(np.log10(10), np.log10(1000), 500)  # From 10 GeV to 1 TeV\n",
    "\n"
   ]
  },
  {
   "cell_type": "code",
   "execution_count": null,
   "metadata": {},
   "outputs": [],
   "source": [
    "# Normalizing the flux distribution\n",
    "E_mu = np.logspace(np.log10(10), np.log10(1000), 500)  # From 10 GeV to 1 TeV\n",
    "dPhi_dE_normalized = dPhi_dE_calc(E_mu,10) / np.max(dPhi_dE_calc(E_mu,10))\n",
    "\n",
    "# Creating a normalized power-law spectrum E^-2.7\n",
    "power_law = E_mu**-2.7\n",
    "power_law_normalized = power_law / np.max(power_law)\n",
    "\n",
    "# Plotting both normalized distributions\n",
    "plt.figure(figsize=(10, 6))\n",
    "plt.plot(E_mu, dPhi_dE_normalized, label=\"Normalized Gaug Flux\")\n",
    "plt.plot(E_mu, power_law_normalized, label=\"Normalized $E^{-2.7}$ Spectrum\", linestyle=\"--\")\n",
    "plt.xscale(\"log\")\n",
    "plt.yscale(\"log\")\n",
    "plt.xlabel(r\"Energy $E_\\mu$ [GeV]\")\n",
    "plt.ylabel(\"Normalized Flux\")\n",
    "plt.title(\"Normalized Muon Flux and Power-Law Spectrum\")\n",
    "plt.grid(True, which=\"both\", linestyle=\"--\", linewidth=0.5)\n",
    "plt.legend()\n",
    "plt.show()"
   ]
  },
  {
   "cell_type": "markdown",
   "metadata": {},
   "source": [
    "# Proton sim reweigth"
   ]
  },
  {
   "cell_type": "code",
   "execution_count": null,
   "metadata": {},
   "outputs": [],
   "source": [
    "data = df_sim_protons_combined.copy()\n",
    "#data = df_sim_00046_align.copy()\n",
    "\n",
    "# 2. Define Energy Bins\n",
    "E_min = 0.1\n",
    "E_max = 1\n",
    "num_bins = 50  # Adjust as needed\n",
    "bins = np.logspace(np.log10(E_min), np.log10(E_max), num=num_bins + 1)\n",
    "#bins = np.linspace(E_min, E_max, num=num_bins + 1)\n",
    "# 3. Bin the Data\n",
    "data['energy_bin'] = pd.cut(data['mc_energy'], bins=bins, labels=False, include_lowest=True)\n",
    "data.dropna(subset=['energy_bin'], inplace=True)"
   ]
  },
  {
   "cell_type": "code",
   "execution_count": null,
   "metadata": {},
   "outputs": [],
   "source": [
    "# 4. Calculate Current Distribution\n",
    "current_counts, _ = np.histogram(data['mc_energy'], bins=bins)\n",
    "current_counts = np.where(current_counts == 0, 1, current_counts)  # Avoid division by zero\n",
    "\n",
    "# 5. Define Desired Distribution (E^-2.7)\n",
    "bin_centers = np.sqrt(bins[:-1] * bins[1:])  # Geometric mean for log bins\n",
    "desired_counts = bin_centers**-2.7\n",
    "#desired_counts = dPhi_dE_calc(bin_centers, 10)\n",
    "desired_counts *= np.sum(current_counts) / np.sum(desired_counts)  # Normalize to total events\n",
    "\n",
    "# 6. Compute Weights Per Bin\n",
    "weights_per_bin = (desired_counts / current_counts)\n",
    "print(weights_per_bin)\n",
    "# 7. Assign Weights to Events\n",
    "\n",
    "\n",
    "data['weight'] = data['energy_bin'].apply(lambda x: weights_per_bin[x])\n",
    "\n",
    "# 8. Validate the Weighted Distribution\n",
    "weighted_counts = current_counts * weights_per_bin\n",
    "\n",
    "plt.figure(figsize=(10, 6))\n",
    "plt.loglog(bin_centers, current_counts, label='Original Distribution', alpha=0.7)\n",
    "plt.loglog(bin_centers, weighted_counts, label='Weighted Distribution (E^-2.7)', alpha=0.7)\n",
    "plt.loglog(bin_centers, desired_counts, label='Desired E^-2.7 Spectrum', linestyle='--')\n",
    "plt.xlabel('Muon Energy (TeV)')\n",
    "plt.ylabel('Number of Events')\n",
    "plt.title('Reweighting to Achieve E^-2.7 Energy Spectrum')\n",
    "plt.legend()\n",
    "plt.grid(True, which=\"both\", ls=\"--\")\n",
    "plt.show()\n",
    "\n",
    "# Additional Histogram Comparison\n",
    "plt.figure(figsize=(10, 6))\n",
    "plt.hist(data['mc_energy'], bins=bins, histtype='step', label='Original', color='blue')\n",
    "plt.hist(data['mc_energy'], bins=bins, weights=data['weight'], histtype='step', label='Weighted (E^-2.7)', color='red')\n",
    "plt.loglog(bin_centers, desired_counts, label='Desired E^-2.7 Spectrum', linestyle='--', color='green')\n",
    "plt.xscale('log')\n",
    "plt.yscale('log')\n",
    "plt.xlabel('Muon Energy (TeV)')\n",
    "plt.ylabel('Number of Events')\n",
    "plt.title('Histogram Comparison: Original vs. Weighted')\n",
    "plt.legend()\n",
    "plt.grid(True, which=\"both\", ls=\"--\")\n",
    "plt.show()\n",
    "\n",
    "# 9. Verify Normalization\n",
    "total_original = np.sum(current_counts)\n",
    "total_desired = np.sum(desired_counts)\n",
    "total_weighted = np.sum(data['weight'])\n",
    "\n",
    "print(f\"Total Original Counts: {total_original}\")\n",
    "print(f\"Total Desired Counts: {total_desired:.2f}\")\n",
    "print(f\"Total Weighted Counts: {total_weighted:.2f}\")"
   ]
  },
  {
   "cell_type": "code",
   "execution_count": null,
   "metadata": {},
   "outputs": [],
   "source": [
    "bins"
   ]
  },
  {
   "cell_type": "code",
   "execution_count": null,
   "metadata": {},
   "outputs": [],
   "source": []
  },
  {
   "cell_type": "code",
   "execution_count": null,
   "metadata": {},
   "outputs": [],
   "source": [
    "plt.figure(figsize=(10, 7.5))\n",
    "z,x,c = plt.hist(data['ring_radius'][(data['ring_radius'] > 1) & (data['ring_radius'] < 1.235)], weights=data['weight'][(data['ring_radius'] > 1) & (data['ring_radius'] < 1.235)], bins=20, histtype='step', label='Weighted Muon Proton Sim', color='blue',density=True)\n",
    "z,x,c = plt.hist(df_winter_data['ring_radius'][(df_winter_data['ring_radius'] > 1) & (df_winter_data['ring_radius'] < 1.235)], bins=20, histtype='step', label='Data', color='black',density=True)\n",
    "z,x,c = plt.hist(df_sim_00046_align['ring_radius'][(df_sim_00046_align['ring_radius'] > 1) & (df_sim_00046_align['ring_radius'] < 1.235)], weights=reweight_gaug(df_sim_00046_align, 10)[(df_sim_00046_align['ring_radius'] > 1) & (df_sim_00046_align['ring_radius'] < 1.235)], bins=20, histtype='step', label='Weighted Muon Sim v1', color='red', density=True)\n",
    "plt.legend()"
   ]
  },
  {
   "cell_type": "code",
   "execution_count": null,
   "metadata": {},
   "outputs": [],
   "source": [
    "plt.figure(figsize=(10, 7.5))\n",
    "z,x,c = plt.hist(data['ring_radius'], weights=data['weight'], bins=20, histtype='step', label='Weighted Muon Proton Sim', color='blue',density=True)\n",
    "z,x,c = plt.hist(df_winter_data['ring_radius'], weights=reweight_gaug(df_winter_data, 10, True), bins=20, histtype='step', label='Data', color='black',density=True)\n",
    "z,x,c = plt.hist(df_sim_00046_align['ring_radius'], weights=reweight_gaug(df_sim_00046_align, 10), bins=20, histtype='step', label='Weighted Muon Sim v1', color='red', density=True)\n",
    "plt.legend()"
   ]
  },
  {
   "cell_type": "code",
   "execution_count": null,
   "metadata": {},
   "outputs": [],
   "source": []
  },
  {
   "cell_type": "code",
   "execution_count": null,
   "metadata": {},
   "outputs": [],
   "source": [
    "plt.figure(figsize=(10, 7.5))\n",
    "z,x,c = plt.hist(df_sim_protons_combined['ring_radius'][(df_sim_protons_combined['ring_radius'] > 1) & (df_sim_protons_combined['ring_radius'] < 1.235)], weights=data['weight'][(df_sim_protons_combined['ring_radius'] > 1) & (df_sim_protons_combined['ring_radius'] < 1.235)], bins=20, histtype='step', label='Weighted Proton Sim', color='blue',density=True)\n",
    "z,x,c = plt.hist(df_sim_00046_align['ring_radius'][(df_sim_00046_align['ring_radius'] > 1) & (df_sim_00046_align['ring_radius'] < 1.235)], weights=reweight_gaug(df_sim_00046_align, 10)[(df_sim_00046_align['ring_radius'] > 1) & (df_sim_00046_align['ring_radius'] < 1.235)], bins=20, histtype='step', label='Weighted Muon Sim', color='red', density=True)\n",
    "plt.legend()"
   ]
  },
  {
   "cell_type": "code",
   "execution_count": null,
   "metadata": {},
   "outputs": [],
   "source": [
    "df_sim_00046_align"
   ]
  },
  {
   "cell_type": "code",
   "execution_count": null,
   "metadata": {},
   "outputs": [],
   "source": [
    "df_sim_protons_combined[df_sim_protons_combined['mc_energy'] > 0.15]"
   ]
  },
  {
   "cell_type": "code",
   "execution_count": null,
   "metadata": {},
   "outputs": [],
   "source": [
    "data = df_sim_protons_combined.copy()\n",
    "\n",
    "E_min = 0.1\n",
    "E_max = 1\n",
    "num_bins = 50 \n",
    "\n",
    "bins = np.logspace(np.log10(E_min), np.log10(E_max), num=num_bins + 1)\n",
    "#bins = np.linspace(E_min, E_max, num=num_bins + 1)\n",
    "\n",
    "data['energy_bin'] = pd.cut(data['mc_energy'], bins=bins, labels=False, include_lowest=True)\n",
    "data.dropna(subset=['energy_bin'], inplace=True)"
   ]
  },
  {
   "cell_type": "code",
   "execution_count": null,
   "metadata": {},
   "outputs": [],
   "source": [
    "plt.figure(figsize=(10, 6))\n",
    "z,x,c = plt.hist(data['mc_energy'], bins=bins, histtype='step', label='Original', color='blue', log=True, density=True)\n",
    "plt.xlabel('Energy [TeV]')"
   ]
  },
  {
   "cell_type": "code",
   "execution_count": null,
   "metadata": {},
   "outputs": [],
   "source": [
    "current_counts, _ = np.histogram(data['mc_energy'], bins=bins)\n",
    "current_counts = np.where(current_counts == 0, 1, current_counts)  # Avoid division by zero\n",
    "sum(current_counts)"
   ]
  },
  {
   "cell_type": "code",
   "execution_count": null,
   "metadata": {},
   "outputs": [],
   "source": [
    "desired_counts"
   ]
  },
  {
   "cell_type": "code",
   "execution_count": null,
   "metadata": {},
   "outputs": [],
   "source": [
    "bin_centers = np.sqrt(bins[:-1] * bins[1:])  # Geometric mean for log bins\n",
    "desired_counts = bin_centers**-2.7\n",
    "#desired_counts = dPhi_dE_calc(bin_centers, 10)\n",
    "desired_counts *= np.sum(current_counts) / np.sum(desired_counts)  # Normalize to total events\n",
    "\n",
    "plt.loglog(desired_counts)\n",
    "plt.loglog(current_counts)\n",
    "print(sum(current_counts))\n",
    "print(sum(desired_counts))"
   ]
  },
  {
   "cell_type": "code",
   "execution_count": null,
   "metadata": {},
   "outputs": [],
   "source": [
    "weights_per_bin = (desired_counts / current_counts)\n",
    "weights_per_bin"
   ]
  },
  {
   "cell_type": "markdown",
   "metadata": {},
   "source": [
    "# New way to reweight"
   ]
  },
  {
   "cell_type": "code",
   "execution_count": null,
   "metadata": {},
   "outputs": [],
   "source": [
    "E_min, E_max = 0.15,0.9\n",
    "protons_energy_cut = df_sim_protons_combined[(df_sim_protons_combined['mc_energy'] > E_min) & (df_sim_protons_combined['mc_energy'] < E_max)]\n",
    "muons_energy_cut = df_sim_00046_align[(df_sim_00046_align['mc_energy'] > E_min) & (df_sim_00046_align['mc_energy'] < E_max)]\n",
    "counts_hist,bins_hist,c = plt.hist(protons_energy_cut['mc_energy'], bins=50, histtype='step', label='Protons', color='blue', log=True, density=True)\n",
    "z,x,c = plt.hist(muons_energy_cut['mc_energy'], weights=reweight_gaug(muons_energy_cut, 10), bins=50, histtype='step', label='Muons', color='red', log=True, density=True)"
   ]
  },
  {
   "cell_type": "code",
   "execution_count": null,
   "metadata": {},
   "outputs": [],
   "source": [
    "# Calculate bin centers\n",
    "bin_centers = (bins_hist[:-1] + bins_hist[1:]) / 2\n",
    "nonzero = counts_hist > 0\n",
    "bin_centers_nonzero = bin_centers[nonzero]\n",
    "counts_nonzero = counts_hist[nonzero]\n",
    "bin_centers, counts_hist"
   ]
  },
  {
   "cell_type": "code",
   "execution_count": null,
   "metadata": {},
   "outputs": [],
   "source": [
    "def power_law(x, A, alpha):\n",
    "    return A * x ** (-alpha)\n",
    "# Example initial guesses for Power-law\n",
    "initial_guesses = [max(counts_nonzero), 2.0]  # A and alpha\n",
    "\n",
    "from scipy.optimize import curve_fit\n",
    "\n",
    "# For Power-law\n",
    "popt, pcov = curve_fit(power_law, bin_centers_nonzero, counts_nonzero, p0=initial_guesses)\n",
    "# Extract fitted parameters\n",
    "A_fit, alpha_fit = popt\n",
    "print(f\"Fitted Parameters:\\nA = {A_fit:.2f}\\nalpha = {alpha_fit:.2f}\")\n",
    "\n",
    "# Generate fitted curve\n",
    "x_fit = np.linspace(bins_hist[0], bins_hist[-1], 1000)\n",
    "y_fit = power_law(x_fit, *popt)\n",
    "\n",
    "# Plot the histogram and the fitted function\n",
    "plt.figure(figsize=(10, 6))\n",
    "plt.bar(bin_centers, counts_hist, width=np.diff(bins_hist), alpha=0.6, label='Histogram Data', color='lightgreen', edgecolor='black', log=True)\n",
    "plt.plot(x_fit, y_fit, 'r-', label='Fitted Power-law', linewidth=2)\n",
    "plt.xscale('log')\n",
    "plt.yscale('log')\n",
    "plt.xlabel('Energy')\n",
    "plt.ylabel('Counts')\n",
    "plt.title('Log-Log Histogram with Fitted Power-law Function')\n",
    "plt.legend()\n",
    "plt.show()"
   ]
  },
  {
   "cell_type": "code",
   "execution_count": null,
   "metadata": {},
   "outputs": [],
   "source": [
    "plt.figure(figsize=(11, 7))\n",
    "z,x,c = plt.hist(protons_energy_cut['mc_energy'], bins=50, histtype='step', color='blue', log=True, density=True, label='Proton sim before reweighting')\n",
    "z,x,c = plt.hist(protons_energy_cut['mc_energy'], weights=reweight_gaug(protons_energy_cut,10,(2.7-alpha_fit)), bins=50, histtype='step', color='red', log=True, density=True, label='Proton sim after reweighting')\n",
    "z,x,c = plt.hist(muons_energy_cut['mc_energy'],weights=reweight_gaug(muons_energy_cut,10,0.7), bins=50, histtype='step', color='orange', log=True, density=True, label='Muon sim after reweighting')\n",
    "plt.legend()\n",
    "plt.xlabel('Energy [TeV]')"
   ]
  },
  {
   "cell_type": "code",
   "execution_count": null,
   "metadata": {},
   "outputs": [],
   "source": [
    "plt.figure(figsize=(11, 7))\n",
    "z,x,c = plt.hist(protons_energy_cut['ring_radius'],weights=reweight_gaug(protons_energy_cut,10,(2.7-alpha_fit)), bins=20, histtype='step', color='blue', log=True, density=True, label='Proton sim after reweighting')\n",
    "z,x,c = plt.hist(muons_energy_cut['ring_radius'],weights=reweight_gaug(muons_energy_cut, 10, 0.7), bins=20, histtype='step', color='orange', log=True, density=True, label='Muon sim after reweighting')\n",
    "z,x,c = plt.hist(df_winter_data['ring_radius'], weights=reweight_gaug(df_winter_data, 10, 10, True), bins=20, histtype='step', color='black', log=True, density=True, label='Data')\n",
    "plt.legend()\n",
    "plt.xlabel('Ring Radius')"
   ]
  },
  {
   "cell_type": "code",
   "execution_count": null,
   "metadata": {},
   "outputs": [],
   "source": [
    "plt.figure(figsize=(11, 7))\n",
    "plt.title(\"Energy range 0.15-0.9 TeV\")\n",
    "z,x,c = plt.hist(protons_energy_cut['ring_radius'][(protons_energy_cut['ring_radius'] > 1) & (protons_energy_cut['ring_radius'] < 1.235)],weights=reweight_gaug(protons_energy_cut,10,(2.7-alpha_fit))[(protons_energy_cut['ring_radius'] > 1) & (protons_energy_cut['ring_radius'] < 1.235)], bins=20, histtype='step', color='blue', log=True, density=True, label='Proton sim after reweighting')\n",
    "z,x,c = plt.hist(muons_energy_cut['ring_radius'][(muons_energy_cut['ring_radius'] > 1) & (muons_energy_cut['ring_radius'] < 1.235)],weights=reweight_gaug(muons_energy_cut, 10, 0.7)[(muons_energy_cut['ring_radius'] > 1) & (muons_energy_cut['ring_radius'] < 1.235)], bins=20, histtype='step', color='orange', log=True, density=True, label='Muon sim after reweighting')\n",
    "z,x,c = plt.hist(df_winter_data['ring_radius'][(df_winter_data['ring_radius'] > 1) & (df_winter_data['ring_radius'] < 1.235)], weights=reweight_gaug(df_winter_data, 10, 10, True)[(df_winter_data['ring_radius'] > 1) & (df_winter_data['ring_radius'] < 1.235)], bins=20, histtype='step', color='black', log=True, density=True, label='Data')\n",
    "plt.legend()\n",
    "plt.xlabel('Ring Radius')"
   ]
  },
  {
   "cell_type": "code",
   "execution_count": null,
   "metadata": {},
   "outputs": [],
   "source": [
    "print(protons_energy_cut['mc_energy'].min())\n",
    "print(protons_energy_cut['mc_energy'].max())\n",
    "print(muons_energy_cut['mc_energy'].min())\n",
    "print(muons_energy_cut['mc_energy'].max())"
   ]
  },
  {
   "cell_type": "code",
   "execution_count": null,
   "metadata": {},
   "outputs": [],
   "source": [
    "print(protons_energy_cut['ring_radius'].min())\n",
    "print(protons_energy_cut['ring_radius'].max())\n",
    "print(muons_energy_cut['ring_radius'].min())\n",
    "print(muons_energy_cut['ring_radius'].max())"
   ]
  },
  {
   "cell_type": "code",
   "execution_count": null,
   "metadata": {},
   "outputs": [],
   "source": [
    "z,x,c = plt.hist(protons_energy_cut['mc_energy'], weights=protons_energy_cut['mc_energy']**(-0.71), bins=50, histtype='step', label='Protons', color='blue', log=True, density=True)\n",
    "z,x,c = plt.hist(muons_energy_cut['mc_energy'], weights=reweight_gaug(muons_energy_cut,10), bins=50, histtype='step', label='Muons', color='red', log=True, density=True)\n"
   ]
  },
  {
   "cell_type": "code",
   "execution_count": null,
   "metadata": {},
   "outputs": [],
   "source": [
    "plt.figure(figsize=(11, 7))\n",
    "plt.title(\"Energy range 0.15-0.9 TeV\")\n",
    "z,x,c = plt.hist(protons_energy_cut['ring_radius'],weights=protons_energy_cut['mc_energy']**(-0.71), bins=20, histtype='step', color='blue', log=True, density=True, label='Proton sim after reweighting')\n",
    "z,x,c = plt.hist(df_winter_data['ring_radius'], weights=reweight_gaug(df_winter_data, 10, 10, True), bins=20, histtype='step', color='black', log=True, density=True, label='Data')\n",
    "plt.legend()\n",
    "plt.xlabel('Ring Radius')"
   ]
  }
 ],
 "metadata": {
  "kernelspec": {
   "display_name": "cta-dev",
   "language": "python",
   "name": "python3"
  },
  "language_info": {
   "codemirror_mode": {
    "name": "ipython",
    "version": 3
   },
   "file_extension": ".py",
   "mimetype": "text/x-python",
   "name": "python",
   "nbconvert_exporter": "python",
   "pygments_lexer": "ipython3",
   "version": "3.10.14"
  }
 },
 "nbformat": 4,
 "nbformat_minor": 2
}
