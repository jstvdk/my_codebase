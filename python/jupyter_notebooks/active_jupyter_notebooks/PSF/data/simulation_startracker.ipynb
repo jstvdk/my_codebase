{
 "cells": [
  {
   "cell_type": "code",
   "execution_count": null,
   "id": "0",
   "metadata": {},
   "outputs": [],
   "source": [
    "from ctapipe.calib import CameraCalibrator\n",
    "from ctapipe.image import tailcuts_clean\n",
    "from ctapipe.io import EventSource\n",
    "from ctapipe.visualization import CameraDisplay\n",
    "\n",
    "from startracker.analysis.fitter import *\n",
    "from startracker.io.io import *\n",
    "from ctapipe.instrument import CameraGeometry\n",
    "from ctapipe.coordinates import EngineeringCameraFrame\n",
    "from ctapipe.io import read_table\n",
    "import astropy.units as u\n",
    "from astropy.time import Time\n",
    "from astropy.coordinates import EarthLocation\n",
    "telescope_location = EarthLocation(lon=342.108612 * u.deg,\n",
    "                                   lat=28.761389 * u.deg,\n",
    "                                   height=2147 * u.m)\n",
    "\n",
    "from traitlets.config import Config\n",
    "\n",
    "import matplotlib.pyplot as plt\n",
    "\n",
    "import matplotlib\n",
    "from matplotlib.colors import PowerNorm\n",
    "matplotlib.rcParams['figure.figsize'] = (12, 12)\n",
    "matplotlib.rcParams.update({'font.size': 22, 'errorbar.capsize': 10})\n",
    "\n",
    "import numpy as np\n",
    "import pandas as pd\n",
    "from itertools import cycle"
   ]
  },
  {
   "cell_type": "markdown",
   "id": "1",
   "metadata": {},
   "source": [
    "Analyze the NSB level in data run 7761, compare it to existing simulation in order to estimate required NSB"
   ]
  },
  {
   "cell_type": "code",
   "execution_count": null,
   "id": "2",
   "metadata": {},
   "outputs": [],
   "source": [
    "telescope_location = EarthLocation(lon=342.108612 * u.deg,\n",
    "                                   lat=28.761389 * u.deg,\n",
    "                                   height=2147 * u.m)\n",
    "config_data =Config(\n",
    "    {\"LSTR0Corrections\" : {\n",
    "        \"drs4_pedestal_path\" : \"/fefs/aswg/data/real/DL1/20220409/v0.9/tailcut84/log/drs4_pedestal.Run07759.0000.h5\",\n",
    "        \"calibration_path\" : \"/fefs/aswg/data/real/DL1/20220409/v0.9/tailcut84/log/calibration_filters_52.Run07760.0000.h5\",\n",
    "        \"drs4_time_calibration_path\" : \"/fefs/aswg/data/real/DL1/20220409/v0.9/tailcut84/log/time_calibration.Run05979.0000.h5\"\n",
    "    },\n",
    "     \"PointingSource\" : {\n",
    "        \"drive_report_path\" : \"/fefs/aswg/data/real/monitoring/DrivePositioning/drive_log_22_04_09.txt\"\n",
    "    },\n",
    "     \"LocalPeakWindowSum\":{\n",
    "        \"window_shift\": 4,\n",
    "        \"window_width\": 8,\n",
    "        \"apply_integration_correction\": False\n",
    "        }\n",
    "    })\n",
    "\n",
    "fname_data = '/fefs/aswg/data/real/R0/20220409/LST-1.1.Run07761.0120.fits.fz'\n",
    "\n",
    "config_mc = Config({\n",
    "    \"LocalPeakWindowSum\":{\n",
    "        \"window_shift\": 4,\n",
    "        \"window_width\": 8,\n",
    "        \"apply_integration_correction\": True\n",
    "        }\n",
    "    })\n",
    "fname_mc_0 = '/fefs/aswg/workspace/georgios.voutsinas/AllSky/TrainingDataset/GammaDiffuse/dec_2276/sim_telarray/node_corsika_theta_30.390_az_266.360_/output_v1.4/simtel_corsika_theta_30.390_az_266.360_run106.simtel.gz'\n",
    "fname_mc_1 = '/fefs/aswg/workspace/mykhailo.dalchenko/pointing/simulation/test/simtel_corsika_theta_30.390_az_266.360_run106_nsb_836.simtel.gz'\n",
    "fname_mc_2 = '/fefs/aswg/workspace/mykhailo.dalchenko/pointing/simulation/test/test_nsb2.4_trunc.simtel.gz'"
   ]
  },
  {
   "cell_type": "code",
   "execution_count": null,
   "id": "3",
   "metadata": {},
   "outputs": [],
   "source": [
    "def plot_variance_hist(fname, config, tel_id=1, is_data=False, label=''):\n",
    "    src = EventSource(fname,\n",
    "                      config=config)\n",
    "    calibrator = CameraCalibrator(subarray=src.subarray,\n",
    "                                  image_extractor_type=\"LocalPeakWindowSum\",\n",
    "                                  config=config\n",
    "                                  )\n",
    "    camera_geometry = src.subarray.tel[tel_id].camera.geometry\n",
    "    it = iter(src)\n",
    "    i = 0\n",
    "    event_variance_list = []\n",
    "    while i < 1000:\n",
    "        try:\n",
    "            event =next(it)\n",
    "            if event.r1.tel[tel_id].waveform is not None:\n",
    "                calibrator(event)\n",
    "                pixel_variances = np.var(event.r1.tel[tel_id].waveform, axis = 1)\n",
    "                pixel_charges = event.dl1.tel[tel_id].image\n",
    "                shower_mask = tailcuts_clean(camera_geometry, pixel_charges,\n",
    "                                             picture_thresh=30, boundary_thresh=15)\n",
    "                if np.all(shower_mask == False):\n",
    "                    continue\n",
    "                pixel_variances[shower_mask] = np.mean(pixel_variances[~shower_mask])\n",
    "                event_variance_list.append(pixel_variances)\n",
    "                i = i+1\n",
    "        except StopIteration:\n",
    "            break\n",
    "        \n",
    "    if is_data:\n",
    "        average_image = np.sum(event_variance_list, axis=0) / len(event_variance_list)\n",
    "    else:\n",
    "        average_image = np.sum(event_variance_list, axis=0) / len(event_variance_list)\n",
    "    print(pd.DataFrame(average_image).describe())\n",
    "    plt.hist(average_image, bins=1000, range=(0,1), alpha=0.5, label=label)\n",
    "    plt.legend()"
   ]
  },
  {
   "cell_type": "code",
   "execution_count": null,
   "id": "4",
   "metadata": {},
   "outputs": [],
   "source": [
    "# plot_variance_hist(fname_mc_0, config_mc, label='Nominal MC')\n",
    "# plot_variance_hist(fname_mc_1, config_mc, label='NSB 836MHz')\n",
    "# plot_variance_hist(fname_mc_2, config_mc, label='NSB 2842MHz')\n",
    "# plot_variance_hist(fname_data, config_data, is_data=True, label='Data')"
   ]
  },
  {
   "cell_type": "code",
   "execution_count": null,
   "id": "5",
   "metadata": {},
   "outputs": [],
   "source": [
    "def plot_variance_hist_nsb_injection(fname, config, tel_id=1, is_data=False, nsb_injection_factor = 1):\n",
    "    src = EventSource(fname,\n",
    "                      config=config)\n",
    "    calibrator = CameraCalibrator(subarray=src.subarray,\n",
    "                                  image_extractor_type=\"LocalPeakWindowSum\",\n",
    "                                  config=config\n",
    "                                  )\n",
    "    camera_geometry = src.subarray.tel[tel_id].camera.geometry\n",
    "    it = iter(src)\n",
    "    i = 0\n",
    "    event_variance_list = []\n",
    "    while i < 500:\n",
    "        try:\n",
    "            event =next(it)\n",
    "            wf = event.r1.tel[tel_id].waveform\n",
    "            if event.r1.tel[tel_id].waveform is not None:\n",
    "                calibrator(event)\n",
    "                if not is_data:\n",
    "                    wf = wf * nsb_injection_factor\n",
    "                pixel_variances = np.var(wf, axis = 1)\n",
    "                pixel_charges = event.dl1.tel[tel_id].image\n",
    "                shower_mask = tailcuts_clean(camera_geometry, pixel_charges,\n",
    "                                             picture_thresh=30, boundary_thresh=15)\n",
    "                if np.all(shower_mask == False):\n",
    "                    continue\n",
    "                pixel_variances[shower_mask] = np.mean(pixel_variances[~shower_mask])\n",
    "                event_variance_list.append(pixel_variances)\n",
    "                i = i+1\n",
    "        except StopIteration:\n",
    "            break\n",
    "    average_image = np.sum(event_variance_list, axis=0) / len(event_variance_list)\n",
    "    print(pd.DataFrame(average_image).describe())\n",
    "    plt.hist(average_image, bins=1000, range=(0,1), alpha=0.5)"
   ]
  },
  {
   "cell_type": "code",
   "execution_count": null,
   "id": "6",
   "metadata": {},
   "outputs": [],
   "source": [
    "def produce_cumulative_waveforms(fname, config):\n",
    "    src = EventSource(fname, config=config)\n",
    "    calibrator = CameraCalibrator(subarray=src.subarray,\n",
    "                                  image_extractor_type=\"LocalPeakWindowSum\",\n",
    "                                  config=config\n",
    "                                  )\n",
    "    camera_geometry = src.subarray.tel[1].camera.geometry\n",
    "    r0 = np.array([])\n",
    "    r1 = np.array([])\n",
    "    c = np.array([])\n",
    "    i = 0\n",
    "    for event in src:\n",
    "        try:\n",
    "            calibrator(event)\n",
    "            pixel_charges = event.dl1.tel[1].image\n",
    "            if pixel_charges is not None:\n",
    "                shower_mask = tailcuts_clean(camera_geometry,\n",
    "                                             pixel_charges,\n",
    "                                             picture_thresh=30, boundary_thresh=15)\n",
    "                r0 = np.append(r0, event.r0.tel[1].waveform[0,~shower_mask,:].flatten())\n",
    "                r1 = np.append(r1, event.r1.tel[1].waveform[~shower_mask,:].flatten())\n",
    "                c = np.append(c, pixel_charges[~shower_mask])\n",
    "                i = i + 1\n",
    "        except StopIteration:\n",
    "            break\n",
    "        if i > 1000:\n",
    "            break\n",
    "    return r0, r1, c"
   ]
  },
  {
   "cell_type": "code",
   "execution_count": null,
   "id": "7",
   "metadata": {},
   "outputs": [],
   "source": [
    "# r0_data, r1_data, c_data = produce_cumulative_waveforms(fname_data, config_data)\n",
    "# r0_mc_0, r1_mc_0, c_mc_0 = produce_cumulative_waveforms(fname_mc_0, config_mc)\n",
    "# r0_mc_1, r1_mc_1, c_mc_1 = produce_cumulative_waveforms(fname_mc_1, config_mc)\n",
    "# r0_mc_2, r1_mc_2, c_mc_2 = produce_cumulative_waveforms(fname_mc_2, config_mc)"
   ]
  },
  {
   "cell_type": "code",
   "execution_count": null,
   "id": "8",
   "metadata": {},
   "outputs": [],
   "source": [
    "# fig, ax = plt.subplots()\n",
    "# t=ax.hist(c_data, bins=1000, range=(0,100), alpha=0.3, label='Data')\n",
    "# t=ax.hist(c_mc_0, bins=1000, range=(0,100), alpha=0.3)\n",
    "# t=ax.hist(c_mc_1, bins=1000, range=(0,100), alpha=0.3)\n",
    "# t=ax.hist(c_mc_2, bins=1000, range=(0,100), alpha=0.3)"
   ]
  },
  {
   "cell_type": "code",
   "execution_count": null,
   "id": "9",
   "metadata": {},
   "outputs": [],
   "source": [
    "def plot_image(filename, telescope_location, index=0):\n",
    "    image = []\n",
    "    star_pixels = []\n",
    "    expected_x = []\n",
    "    expected_y = []\n",
    "    reco_x = []\n",
    "    reco_y = []\n",
    "    stars = {}\n",
    "    \n",
    "    for key in get_dataset_keys(filename):\n",
    "        if 'variance_images' in key:\n",
    "            image_table = read_table(filename, f'/{key}')\n",
    "            image = image_table['image'][index]\n",
    "            t = Time(image_table['timestamp'][index], format='unix_tai', scale='utc')\n",
    "            pointing = SkyCoord(image_table['ra'][index],\n",
    "                                image_table['dec'][index],\n",
    "                                unit='deg', frame='icrs', obstime=t,\n",
    "                                location=telescope_location)\n",
    "            pointing.transform_to('altaz')\n",
    "        else:\n",
    "            star_table = read_table(filename, f'/{key}')\n",
    "#             cluster = star_table['pixels'][index]\n",
    "#             cluster = cluster[cluster!= -1]\n",
    "#             star_pixels.extend(cluster)\n",
    "            if not np.isnan(star_table['reco_x'][index]): \n",
    "                cluster = star_table['pixels'][index]\n",
    "                cluster = cluster[cluster!= -1]\n",
    "                star_pixels.extend(cluster)\n",
    "                stars[key] = cluster\n",
    "                print(f'Expected star coordinates:\\n'\n",
    "                      f'x={-star_table[\"expected_x\"][index]},\\n'\n",
    "                      f'y={-star_table[\"expected_y\"][index]},\\n'\n",
    "                      f'Cluster: {cluster}'\n",
    "                      )\n",
    "            #if not np.isnan(star_table['reco_x'][index]): \n",
    "                expected_x.append(-star_table['expected_x'][index])\n",
    "                expected_y.append(-star_table['expected_y'][index])\n",
    "                reco_x.append(-star_table['reco_x'][index])\n",
    "                reco_y.append(-star_table['reco_y'][index])\n",
    "    frame = EngineeringCameraFrame(telescope_pointing=pointing,\n",
    "                               focal_length=28*u.m,\n",
    "                               obstime=t.utc,\n",
    "                               location=telescope_location)\n",
    "    fig, ax = plt.subplots()\n",
    "    \n",
    "    geom = CameraGeometry.from_name('LSTCam-003')\n",
    "    neighbors = []\n",
    "    for pix in star_pixels:\n",
    "        neighbors.extend(geom.neighbors[pix])\n",
    "    \n",
    "    star_pixels.extend(neighbors)\n",
    "    star_pixels = np.unique(star_pixels)\n",
    "    star_mask = np.ones(image.size, dtype=bool)\n",
    "    star_mask[star_pixels] = False\n",
    "    nsb = np.mean(image[star_mask])\n",
    "    print(f'NSB level: {nsb}')\n",
    "    print(f'NSB stats: \\n{pd.DataFrame(image[star_mask]).describe()}')\n",
    "    \n",
    "    image[~star_mask] = nsb\n",
    "\n",
    "    geom.frame=frame\n",
    "    disp = CameraDisplay(geom, image, ax)\n",
    "    disp.norm = PowerNorm(gamma=0.3)\n",
    "    disp.highlight_pixels(star_pixels, 'red', linewidth=2)\n",
    "    disp.add_colorbar()\n",
    "    print(f'Star pixels total {star_pixels}')\n",
    "    ax.grid(True)\n",
    "    return star_pixels, stars"
   ]
  },
  {
   "cell_type": "code",
   "execution_count": null,
   "id": "10",
   "metadata": {},
   "outputs": [],
   "source": [
    "nsb_mask, stars = plot_image('/fefs/aswg/workspace/mykhailo.dalchenko/pointing/data/run_7761_v5/out/run_7761.244.h5',telescope_location, 5)"
   ]
  },
  {
   "cell_type": "code",
   "execution_count": null,
   "id": "11",
   "metadata": {},
   "outputs": [],
   "source": [
    "nsb_mask.shape"
   ]
  },
  {
   "cell_type": "code",
   "execution_count": null,
   "id": "12",
   "metadata": {},
   "outputs": [],
   "source": [
    "stars"
   ]
  },
  {
   "cell_type": "code",
   "execution_count": null,
   "id": "13",
   "metadata": {},
   "outputs": [],
   "source": [
    "stars.pop('startracker/images/stars/S_1158_0196865')"
   ]
  },
  {
   "cell_type": "code",
   "execution_count": null,
   "id": "14",
   "metadata": {},
   "outputs": [],
   "source": [
    "data_reference = '/fefs/aswg/data/real/R0/20220409/LST-1.1.Run07761.0244.fits.fz'\n",
    "src = EventSource(data_reference,\n",
    "                  config=config_data)\n",
    "calibrator = CameraCalibrator(subarray=src.subarray,\n",
    "                              image_extractor_type=\"LocalPeakWindowSum\",\n",
    "                              config=config_data\n",
    "                              )\n",
    "\n",
    "variances_nsb = []\n",
    "charges_nsb = []\n",
    "variance_stars = {k: [] for k in stars.keys()}\n",
    "average_variance_stars = {k: [] for k in stars.keys()}\n",
    "std_variance_stars = {k: [] for k in stars.keys()}\n",
    "\n",
    "average_variance_nsb = []\n",
    "\n",
    "camera_geometry = src.subarray.tel[1].camera.geometry\n",
    "\n",
    "for i in range(1, 300):\n",
    "    with EventSource(data_reference, config=config_data) as t_src:\n",
    "        variance_stars = {k: [] for k in stars.keys()}\n",
    "        for j in range(0,i):\n",
    "            event = next(iter(t_src))\n",
    "            calibrator(event)\n",
    "            pixel_variances = np.var(event.r1.tel[1].waveform, axis = 1)\n",
    "            #print(pixel_variances.shape)\n",
    "            pixel_charges = event.dl1.tel[1].image\n",
    "            shower_mask = tailcuts_clean(camera_geometry, pixel_charges,\n",
    "                                         picture_thresh=30, boundary_thresh=15)\n",
    "            #print(f'Shower mask: {shower_mask}')\n",
    "            safe_mask = shower_mask.copy()\n",
    "            safe_mask[nsb_mask] = True\n",
    "            #print(f'Safe mask: {safe_mask}')\n",
    "            #print(pixel_variances[~safe_mask].shape)\n",
    "            variances_nsb.extend(pixel_variances[~safe_mask])\n",
    "            #variances_nsb.append(np.average(pixel_variances[~safe_mask]))\n",
    "            pixel_variances[shower_mask] = np.mean(pixel_variances[~safe_mask])\n",
    "\n",
    "\n",
    "            #charges_nsb.extend(pixel_charges[~safe_mask])\n",
    "            for k in variance_stars.keys():\n",
    "        #         print(f'Star cluster {stars[k]}')\n",
    "        #         print(f'shower mask {np.where(shower_mask == True)}')\n",
    "#                 if np.isin(stars[k], np.where(shower_mask == True)).any():\n",
    "#                     variance_stars[k].append(np.nan)\n",
    "                sv = np.sum(pixel_variances[stars[k]])\n",
    "                variance_stars[k].append(sv)\n",
    "        for k in variance_stars.keys():\n",
    "            average_variance_stars[k].append(np.nanmean(variance_stars[k]))\n",
    "            std_variance_stars[k].append(np.nanstd(variance_stars[k]))\n",
    "        average_variance_nsb.append(np.nanmean(variances_nsb))"
   ]
  },
  {
   "cell_type": "code",
   "execution_count": null,
   "id": "15",
   "metadata": {},
   "outputs": [],
   "source": [
    "fig, ax = plt.subplots()\n",
    "lines = [\"--\",\"-.\",\":\", (0, (5, 1)), \"-\"]\n",
    "linecycler = cycle(lines)\n",
    "x = range(1,300)\n",
    "for k in variance_stars.keys():\n",
    "    label = k.split('/')[-1][2:].replace('_','-')\n",
    "    #ax.errorbar(x, average_variance_stars[k], yerr=std_variance_stars[k], label=f'Average variance of star {label}')\n",
    "    ax.plot(x, average_variance_stars[k],\n",
    "            linestyle=next(linecycler),\n",
    "            linewidth=3,\n",
    "            label=f'Star {label}')\n",
    "    \n",
    "ax.plot(x, average_variance_nsb,\n",
    "        linestyle=next(linecycler),\n",
    "        linewidth=3,\n",
    "        label=\"Average NSB level\")\n",
    "    \n",
    "#ax.grid()\n",
    "ax.legend()\n",
    "ax.set_ylim(0, 8)\n",
    "ax.set_ylabel(r'Average variance of a star $[p.e.^2]$')\n",
    "ax.set_xlabel('Number of events used to produce average variance')\n",
    "plt.savefig('/fefs/aswg/workspace/mykhailo.dalchenko/variance_stability.pdf', format='pdf', dpi=300, bbox_inches = \"tight\")"
   ]
  },
  {
   "cell_type": "code",
   "execution_count": null,
   "id": "16",
   "metadata": {},
   "outputs": [],
   "source": [
    "data_reference = '/fefs/aswg/data/real/R0/20220409/LST-1.1.Run07761.0244.fits.fz'\n",
    "src = EventSource(data_reference,\n",
    "                  config=config_data)\n",
    "calibrator = CameraCalibrator(subarray=src.subarray,\n",
    "                              image_extractor_type=\"LocalPeakWindowSum\",\n",
    "                              config=config_data\n",
    "                              )\n",
    "\n",
    "variances_nsb = []\n",
    "charges_nsb = []\n",
    "variance_stars = {k: [] for k in stars.keys()}\n",
    "\n",
    "camera_geometry = src.subarray.tel[1].camera.geometry\n",
    "i = 0\n",
    "for event in src:\n",
    "    calibrator(event)\n",
    "    pixel_variances = np.var(event.r1.tel[1].waveform, axis = 1)\n",
    "    #print(pixel_variances.shape)\n",
    "    pixel_charges = event.dl1.tel[1].image\n",
    "    shower_mask = tailcuts_clean(camera_geometry, pixel_charges,\n",
    "                                 picture_thresh=30, boundary_thresh=15)\n",
    "    #print(f'Shower mask: {shower_mask}')\n",
    "    safe_mask = shower_mask.copy()\n",
    "    safe_mask[nsb_mask] = True\n",
    "    #print(f'Safe mask: {safe_mask}')\n",
    "    #print(pixel_variances[~safe_mask].shape)\n",
    "    variances_nsb.extend(pixel_variances[~safe_mask])\n",
    "    #variances_nsb.append(np.average(pixel_variances[~safe_mask]))\n",
    "\n",
    "\n",
    "    charges_nsb.extend(pixel_charges[~safe_mask])\n",
    "    for k in variance_stars.keys():\n",
    "#         print(f'Star cluster {stars[k]}')\n",
    "#         print(f'shower mask {np.where(shower_mask == True)}')\n",
    "        if np.isin(stars[k], np.where(shower_mask == True)).any():\n",
    "            continue\n",
    "        sv = np.sum(pixel_variances[stars[k]])\n",
    "        variance_stars[k].append(sv)\n",
    "#     i = i + 1\n",
    "#     if i > 10000:\n",
    "#         break\n"
   ]
  },
  {
   "cell_type": "code",
   "execution_count": null,
   "id": "17",
   "metadata": {},
   "outputs": [],
   "source": [
    "nsb, bins, patches = plt.hist(variances_nsb, bins=100, range=(0,10), density=True, label='NSB')\n",
    "variance_hist_stars = {k: None for k in stars.keys()}\n",
    "for k, v in variance_stars.items():\n",
    "#     print('----------------------------------------')\n",
    "#     print(v)\n",
    "#     print('----------------------------------------')\n",
    "    n, bins, patches = plt.hist(v, bins=100, histtype=u'step', linewidth=3, label=k, range=(0,10), density=True)\n",
    "    variance_hist_stars[k] = n\n",
    "#plt.yscale('log')\n",
    "plt.legend()\n",
    "plt.xlabel(r'Variance $[p.e.^2]$')\n",
    "plt.ylabel('a.u.')\n",
    "plt.grid(True)"
   ]
  },
  {
   "cell_type": "code",
   "execution_count": null,
   "id": "18",
   "metadata": {},
   "outputs": [],
   "source": [
    "for k, v in variance_stars.items():\n",
    "    print('----------------------------------------')\n",
    "    print(v[:10])\n",
    "    print('----------------------------------------')\n",
    "    plt.hist(v, bins=100, histtype=u'step', linewidth=2, label=k, range=(0,20))\n",
    "plt.yscale('log')\n",
    "plt.legend()"
   ]
  },
  {
   "cell_type": "code",
   "execution_count": null,
   "id": "19",
   "metadata": {},
   "outputs": [],
   "source": [
    "plt.step((bins[1:] + bins[:-1])/2, nsb)\n",
    "plt.xlim(0,2)"
   ]
  },
  {
   "cell_type": "code",
   "execution_count": null,
   "id": "20",
   "metadata": {},
   "outputs": [],
   "source": [
    "bin_centers = (bins[1:] + bins[:-1])/2\n",
    "nsb_av = np.average(bin_centers, weights=nsb)"
   ]
  },
  {
   "cell_type": "code",
   "execution_count": null,
   "id": "21",
   "metadata": {},
   "outputs": [],
   "source": [
    "nsb_av"
   ]
  },
  {
   "cell_type": "code",
   "execution_count": null,
   "id": "22",
   "metadata": {},
   "outputs": [],
   "source": [
    "for k,v in variance_hist_stars.items():\n",
    "    print(f'Average variance for star {k}:\\n{np.average(bin_centers, weights=v)}')"
   ]
  },
  {
   "cell_type": "code",
   "execution_count": null,
   "id": "23",
   "metadata": {},
   "outputs": [],
   "source": [
    "sim_reference = fname_mc_0\n",
    "src = EventSource(sim_reference,\n",
    "                  config=config_mc)\n",
    "calibrator = CameraCalibrator(subarray=src.subarray,\n",
    "                              image_extractor_type=\"LocalPeakWindowSum\",\n",
    "                              config=config_mc\n",
    "                              )\n",
    "\n",
    "variances_nsb_sim = []\n",
    "\n",
    "\n",
    "camera_geometry = src.subarray.tel[1].camera.geometry\n",
    "i = 0\n",
    "for event in src:\n",
    "    calibrator(event)\n",
    "    if event.r1.tel[1].waveform is not None:\n",
    "        pixel_variances = np.var(event.r1.tel[1].waveform, axis = 1)\n",
    "        #print(pixel_variances.shape)\n",
    "        pixel_charges = event.dl1.tel[1].image\n",
    "        shower_mask = tailcuts_clean(camera_geometry, pixel_charges,\n",
    "                                     picture_thresh=30, boundary_thresh=15)\n",
    "\n",
    "        variances_nsb_sim.extend(pixel_variances[~shower_mask])\n",
    "\n",
    "        i = i + 1\n",
    "        if i > 1000:\n",
    "            break\n",
    "\n"
   ]
  },
  {
   "cell_type": "code",
   "execution_count": null,
   "id": "24",
   "metadata": {},
   "outputs": [],
   "source": [
    "nsb_sim, bins_sim, _ = plt.hist(variances_nsb_sim, bins=100, range=(0,1), density=True, label='NSB Simulation')"
   ]
  },
  {
   "cell_type": "code",
   "execution_count": null,
   "id": "25",
   "metadata": {},
   "outputs": [],
   "source": [
    "bin_centers_sim = (bins_sim[1:] + bins_sim[:-1])/2\n",
    "nsb_sim_av = np.average(bin_centers_sim, weights=nsb_sim)"
   ]
  },
  {
   "cell_type": "code",
   "execution_count": null,
   "id": "26",
   "metadata": {},
   "outputs": [],
   "source": [
    "nsb_sim_av"
   ]
  },
  {
   "cell_type": "code",
   "execution_count": null,
   "id": "27",
   "metadata": {},
   "outputs": [],
   "source": [
    "0.48211155714816123/0.037680045925003694"
   ]
  },
  {
   "cell_type": "code",
   "execution_count": null,
   "id": "28",
   "metadata": {},
   "outputs": [],
   "source": [
    "0.48211155714816123/0.037680045925003694 * 0.24586"
   ]
  },
  {
   "cell_type": "code",
   "execution_count": null,
   "id": "29",
   "metadata": {},
   "outputs": [],
   "source": [
    "sim_reference = '/fefs/aswg/workspace/mykhailo.dalchenko/pointing/simulation/test/test_nsb_3.8GHz-HT.simtel.gz'\n",
    "src = EventSource(sim_reference,\n",
    "                  config=config_mc)\n",
    "calibrator = CameraCalibrator(subarray=src.subarray,\n",
    "                              image_extractor_type=\"LocalPeakWindowSum\",\n",
    "                              config=config_mc\n",
    "                              )\n",
    "\n",
    "variances_nsb_sim = []\n",
    "\n",
    "\n",
    "camera_geometry = src.subarray.tel[1].camera.geometry\n",
    "i = 0\n",
    "for event in src:\n",
    "    try:\n",
    "        calibrator(event)\n",
    "        if event.r1.tel[1].waveform is not None:\n",
    "            pixel_variances = np.var(event.r1.tel[1].waveform, axis = 1)\n",
    "            #print(pixel_variances.shape)\n",
    "            pixel_charges = event.dl1.tel[1].image\n",
    "            shower_mask = tailcuts_clean(camera_geometry, pixel_charges,\n",
    "                                         picture_thresh=30, boundary_thresh=15)\n",
    "\n",
    "            variances_nsb_sim.extend(pixel_variances[~shower_mask])\n",
    "\n",
    "            i = i + 1\n",
    "            if i > 1000:\n",
    "                break\n",
    "    except Exception as e:\n",
    "        print(i)\n",
    "\n"
   ]
  },
  {
   "cell_type": "code",
   "execution_count": null,
   "id": "30",
   "metadata": {},
   "outputs": [],
   "source": [
    "nsb_sim, bins_sim, _ = plt.hist(variances_nsb_sim, bins=100, range=(0,10), density=True, label='NSB Simulation')"
   ]
  },
  {
   "cell_type": "code",
   "execution_count": null,
   "id": "31",
   "metadata": {},
   "outputs": [],
   "source": [
    "bin_centers_sim = (bins_sim[1:] + bins_sim[:-1])/2\n",
    "nsb_sim_av = np.average(bin_centers_sim, weights=nsb_sim)"
   ]
  },
  {
   "cell_type": "code",
   "execution_count": null,
   "id": "32",
   "metadata": {},
   "outputs": [],
   "source": [
    "nsb_sim_av"
   ]
  },
  {
   "cell_type": "code",
   "execution_count": null,
   "id": "33",
   "metadata": {},
   "outputs": [],
   "source": [
    "plt.step((bins[1:] + bins[:-1])/2, nsb, label = 'Data')\n",
    "plt.step((bins[1:] + bins[:-1])/2, nsb_sim)\n",
    "plt.legend()\n",
    "plt.xlim(0,2)"
   ]
  },
  {
   "cell_type": "raw",
   "id": "34",
   "metadata": {},
   "source": [
    "Average variance for star startracker/images/stars/S_1155_0198137:\n",
    "3.75037522901183\n",
    "Average variance for star startracker/images/stars/S_1158_0196874:\n",
    "4.487377626323164\n",
    "Average variance for star startracker/images/stars/S_1160_0199719:\n",
    "1.4362496770464468\n",
    "Average variance for star startracker/images/stars/S_1172_0251679:\n",
    "5.66156369031502"
   ]
  },
  {
   "cell_type": "code",
   "execution_count": null,
   "id": "35",
   "metadata": {},
   "outputs": [],
   "source": [
    "3.8*(3.75037522901183-0.48376160336586865)/0.48376160336586865"
   ]
  },
  {
   "cell_type": "code",
   "execution_count": null,
   "id": "36",
   "metadata": {},
   "outputs": [],
   "source": [
    "3.8*(1.4362496770464468-0.48376160336586865)/0.48376160336586865"
   ]
  },
  {
   "cell_type": "code",
   "execution_count": null,
   "id": "37",
   "metadata": {},
   "outputs": [],
   "source": [
    "3.8*(4.487377626323164-0.48376160336586865)/0.48376160336586865"
   ]
  },
  {
   "cell_type": "code",
   "execution_count": null,
   "id": "38",
   "metadata": {},
   "outputs": [],
   "source": [
    "3.8*(5.66156369031502-0.48376160336586865)/0.48376160336586865"
   ]
  },
  {
   "cell_type": "code",
   "execution_count": null,
   "id": "39",
   "metadata": {},
   "outputs": [],
   "source": [
    "def read_star_lis(fname):\n",
    "    colnames = ['PixelN', 'X', 'Y', 'Star']\n",
    "    df = pd.read_csv(fname, sep=' ', usecols=[1,2,3,15], skiprows=35, names=colnames)\n",
    "    df['X'] = df['X']/100.0\n",
    "    df['Y'] = df['Y']/100.0\n",
    "    df['Star'] = df['Star']\n",
    "    df = df[df['PixelN'] != -1]\n",
    "    return df"
   ]
  },
  {
   "cell_type": "code",
   "execution_count": null,
   "id": "40",
   "metadata": {},
   "outputs": [],
   "source": [
    "star_pixels_df = read_star_lis('/fefs/aswg/workspace/mykhailo.dalchenko/pointing/simulation/test/star_photons_hstat2_realistic.lis')"
   ]
  },
  {
   "cell_type": "code",
   "execution_count": null,
   "id": "41",
   "metadata": {},
   "outputs": [],
   "source": [
    "labels = [int(i) for i in range(1, 5)]\n",
    "simulated_stars = {}\n",
    "for l in labels:\n",
    "    simulated_stars[l] = np.unique(star_pixels_df[star_pixels_df['Star'] == l]['PixelN'])"
   ]
  },
  {
   "cell_type": "code",
   "execution_count": null,
   "id": "42",
   "metadata": {},
   "outputs": [],
   "source": [
    "simulated_stars"
   ]
  },
  {
   "cell_type": "code",
   "execution_count": null,
   "id": "43",
   "metadata": {},
   "outputs": [],
   "source": [
    "nsb_mask_sim = np.concatenate([v for k, v in simulated_stars.items()])\n",
    "nsb_mask_sim"
   ]
  },
  {
   "cell_type": "code",
   "execution_count": null,
   "id": "44",
   "metadata": {},
   "outputs": [],
   "source": [
    "simulated_stars[4] = np.array([0])"
   ]
  },
  {
   "cell_type": "code",
   "execution_count": null,
   "id": "45",
   "metadata": {},
   "outputs": [],
   "source": [
    "sim_reference = '/fefs/aswg/workspace/mykhailo.dalchenko/pointing/simulation/test/test_nsb_3.8GHz-HT_stars_high_stat2_realistic.simtel.gz'\n",
    "src = EventSource(sim_reference,\n",
    "                  config=config_mc)\n",
    "calibrator = CameraCalibrator(subarray=src.subarray,\n",
    "                              image_extractor_type=\"LocalPeakWindowSum\",\n",
    "                              config=config_mc\n",
    "                              )\n",
    "\n",
    "variances_nsb_sim = []\n",
    "variance_stars_sim = {k: [] for k in simulated_stars.keys()}\n",
    "\n",
    "\n",
    "cluster_size_correction = {1:4.36, 2:4.36, 3:1.45, 4:0}\n",
    "\n",
    "camera_geometry = src.subarray.tel[1].camera.geometry\n",
    "i = 0\n",
    "for event in src:\n",
    "    calibrator(event)\n",
    "    if event.r1.tel[1].waveform is not None:\n",
    "        pixel_variances = np.var(event.r1.tel[1].waveform, axis = 1)\n",
    "        #print(pixel_variances.shape)\n",
    "        pixel_charges = event.dl1.tel[1].image\n",
    "        shower_mask = tailcuts_clean(camera_geometry, pixel_charges,\n",
    "                                     picture_thresh=30, boundary_thresh=15)\n",
    "\n",
    "        safe_mask = shower_mask.copy()\n",
    "        safe_mask[nsb_mask_sim] = True\n",
    "        #print(f'Safe mask: {safe_mask}')\n",
    "        #print(pixel_variances[~safe_mask].shape)\n",
    "        variances_nsb_sim.extend(pixel_variances[~safe_mask])\n",
    "        #variances_nsb.append(np.average(pixel_variances[~safe_mask]))\n",
    "        for k in variance_stars_sim.keys():\n",
    "#             print(f'Star cluster {simulated_stars[k]}')\n",
    "#             print(f'shower mask {np.where(shower_mask == True)}')\n",
    "            if np.isin(simulated_stars[k], np.where(shower_mask == True)).any():\n",
    "                continue\n",
    "            sv = np.sum(pixel_variances[simulated_stars[k]]) - cluster_size_correction[k]\n",
    "            variance_stars_sim[k].append(sv)\n",
    "        i = i + 1\n",
    "#         if i > 1000:\n",
    "#             break\n",
    "\n"
   ]
  },
  {
   "cell_type": "code",
   "execution_count": null,
   "id": "46",
   "metadata": {},
   "outputs": [],
   "source": [
    "nsb_sim, bins_sim, patches = plt.hist(variances_nsb_sim, bins=100, range=(0,10), density=True, label='NSB')\n",
    "variance_hist_stars_sim = {k: None for k in simulated_stars.keys()}\n",
    "for k, v in variance_stars_sim.items():\n",
    "#     print('----------------------------------------')\n",
    "#     print(v)\n",
    "#     print('----------------------------------------')\n",
    "    n, bins, patches = plt.hist(v, bins=100, histtype=u'step', linewidth=3, label=k, range=(0,10), density=True)\n",
    "    variance_hist_stars_sim[k] = n\n",
    "#plt.yscale('log')\n",
    "plt.legend()\n",
    "plt.xlabel('Variance [pe]')\n",
    "plt.ylabel('a.u.')\n",
    "plt.grid(True)"
   ]
  },
  {
   "cell_type": "code",
   "execution_count": null,
   "id": "47",
   "metadata": {},
   "outputs": [],
   "source": [
    "for k, v in variance_stars_sim.items():\n",
    "#     print('----------------------------------------')\n",
    "#     print(v)\n",
    "#     print('----------------------------------------')\n",
    "    n, bins, patches = plt.hist(v, bins=100, histtype=u'step', linewidth=3, label=k, range=(0,10), density=True)\n",
    "for k, v in variance_stars.items():\n",
    "#     print('----------------------------------------')\n",
    "#     print(v)\n",
    "#     print('----------------------------------------')\n",
    "    n, bins, patches = plt.hist(v, bins=100, histtype=u'step', linewidth=3, label=k, range=(0,10), density=True)\n",
    "plt.legend()\n",
    "plt.grid()"
   ]
  },
  {
   "cell_type": "code",
   "execution_count": null,
   "id": "48",
   "metadata": {},
   "outputs": [],
   "source": [
    "disp = CameraDisplay(camera_geometry)\n",
    "disp.norm = PowerNorm(gamma=0.3)\n",
    "disp.highlight_pixels(simulated_stars[3], color='r')\n",
    "disp.add_colorbar()"
   ]
  },
  {
   "cell_type": "code",
   "execution_count": null,
   "id": "49",
   "metadata": {},
   "outputs": [],
   "source": [
    "for k,v in variance_hist_stars_sim.items():\n",
    "    print(f'Average variance for star {k}:\\n{np.average(bin_centers, weights=v)}')"
   ]
  },
  {
   "cell_type": "code",
   "execution_count": null,
   "id": "50",
   "metadata": {},
   "outputs": [],
   "source": [
    "print(f'Average variance for nsb:\\n{np.average(bin_centers, weights=nsb_sim)}')"
   ]
  },
  {
   "cell_type": "code",
   "execution_count": null,
   "id": "51",
   "metadata": {},
   "outputs": [],
   "source": [
    "for k, v in simulated_stars.items():\n",
    "    print(f'{k}: cluster length {v.shape}')"
   ]
  },
  {
   "cell_type": "code",
   "execution_count": null,
   "id": "52",
   "metadata": {},
   "outputs": [],
   "source": []
  },
  {
   "cell_type": "code",
   "execution_count": null,
   "id": "53",
   "metadata": {},
   "outputs": [],
   "source": [
    "1.4362496770464468 - 0.482"
   ]
  },
  {
   "cell_type": "code",
   "execution_count": null,
   "id": "54",
   "metadata": {},
   "outputs": [],
   "source": [
    "0.7688118684158723 - 0.4838989651150047"
   ]
  },
  {
   "cell_type": "code",
   "execution_count": null,
   "id": "55",
   "metadata": {},
   "outputs": [],
   "source": [
    "0.9542496770464468/0.28491290330086766"
   ]
  },
  {
   "cell_type": "raw",
   "id": "56",
   "metadata": {},
   "source": [
    "Average variance for star startracker/images/stars/S_1155_0198137:\n",
    "3.75037522901183\n",
    "Average variance for star startracker/images/stars/S_1158_0196874:\n",
    "4.487377626323164\n",
    "Average variance for star startracker/images/stars/S_1160_0199719:\n",
    "1.4362496770464468\n",
    "Average variance for star startracker/images/stars/S_1172_0251679:\n",
    "5.66156369031502"
   ]
  },
  {
   "cell_type": "code",
   "execution_count": null,
   "id": "57",
   "metadata": {},
   "outputs": [],
   "source": [
    "for k, v in stars.items():\n",
    "    print(f'{k}: cluster length {v.shape}')\n",
    "    print(f'residual variance from star is {np.average(bin_centers, weights=variance_hist_stars[k]) - v.shape[0] * 0.482}')"
   ]
  },
  {
   "cell_type": "code",
   "execution_count": null,
   "id": "58",
   "metadata": {},
   "outputs": [],
   "source": [
    "5 * 3.34"
   ]
  },
  {
   "cell_type": "code",
   "execution_count": null,
   "id": "59",
   "metadata": {},
   "outputs": [],
   "source": [
    "1.8055636903150205/0.9542496770464468 * 16.7"
   ]
  },
  {
   "cell_type": "code",
   "execution_count": null,
   "id": "60",
   "metadata": {},
   "outputs": [],
   "source": [
    "3 * 0.4838989651150047"
   ]
  },
  {
   "cell_type": "code",
   "execution_count": null,
   "id": "61",
   "metadata": {},
   "outputs": [],
   "source": [
    "test_file = '/fefs/aswg/workspace/mykhailo.dalchenko/pointing/simulation/test/test_nsb_3.145GHz.simtel.gz'"
   ]
  },
  {
   "cell_type": "code",
   "execution_count": null,
   "id": "62",
   "metadata": {},
   "outputs": [],
   "source": [
    "src = EventSource(test_file,\n",
    "                  config=config_mc)\n",
    "calibrator = CameraCalibrator(subarray=src.subarray,\n",
    "                              image_extractor_type=\"LocalPeakWindowSum\",\n",
    "                              config=config_mc\n",
    "                              )\n",
    "i = 0\n",
    "for event in src:\n",
    "    calibrator(event)\n",
    "    print(event.trigger.time.to_value('ymdhms'))\n",
    "    i = i+1\n",
    "    if i > 9:\n",
    "        break\n",
    "    "
   ]
  },
  {
   "cell_type": "code",
   "execution_count": null,
   "id": "63",
   "metadata": {},
   "outputs": [],
   "source": [
    "src = EventSource(test_file,\n",
    "                  config=config_mc)\n",
    "calibrator = CameraCalibrator(subarray=src.subarray,\n",
    "                              image_extractor_type=\"LocalPeakWindowSum\",\n",
    "                              config=config_mc\n",
    "                              )\n",
    "i = 0\n",
    "for event in src:\n",
    "    calibrator(event)\n",
    "    print(f'Initial time {event.trigger.time}')\n",
    "    event.trigger.time = i\n",
    "    print(f'Modified time {event.trigger.time}')\n",
    "    i = i+1\n",
    "    if i > 9:\n",
    "        break"
   ]
  },
  {
   "cell_type": "code",
   "execution_count": null,
   "id": "64",
   "metadata": {},
   "outputs": [],
   "source": [
    "start_t = 1649540000\n",
    "#stop_t = 1649546000\n",
    "stop_t = 1649540003\n",
    "dt = stop_t - start_t\n",
    "print(dt*10)"
   ]
  },
  {
   "cell_type": "code",
   "execution_count": null,
   "id": "65",
   "metadata": {},
   "outputs": [],
   "source": [
    "times = np.linspace(start_t, stop_t, (stop_t-start_t)*10+1)\n",
    "len(times)"
   ]
  },
  {
   "cell_type": "code",
   "execution_count": null,
   "id": "66",
   "metadata": {},
   "outputs": [],
   "source": [
    "sim_reference = '/fefs/aswg/workspace/mykhailo.dalchenko/pointing/simulation/test/simulation_startracker/subrun_1/output//1649540000.0.simtel.gz'\n",
    "src = EventSource(sim_reference,\n",
    "                  config=config_mc)\n",
    "calibrator = CameraCalibrator(subarray=src.subarray,\n",
    "                              image_extractor_type=\"LocalPeakWindowSum\",\n",
    "                              config=config_mc\n",
    "                              )\n",
    "\n",
    "variances_nsb_sim = []\n",
    "\n",
    "\n",
    "camera_geometry = src.subarray.tel[1].camera.geometry\n",
    "i = 0\n",
    "event = next(iter(src))\n",
    "calibrator(event)\n",
    "image = np.var(event.r1.tel[1].waveform, axis = 1)\n",
    "disp = CameraDisplay(camera_geometry)\n",
    "disp.norm = PowerNorm(gamma=0.5)\n",
    "disp.image = image\n",
    "disp.add_colorbar()"
   ]
  },
  {
   "cell_type": "code",
   "execution_count": null,
   "id": "67",
   "metadata": {},
   "outputs": [],
   "source": [
    "data_reference = '/fefs/aswg/data/real/R0/20220409/LST-1.1.Run07761.0060.fits.fz'\n",
    "src = EventSource(data_reference,\n",
    "                  config=config_data)\n",
    "calibrator = CameraCalibrator(subarray=src.subarray,\n",
    "                              image_extractor_type=\"LocalPeakWindowSum\",\n",
    "                              config=config_data\n",
    "                              )"
   ]
  },
  {
   "cell_type": "code",
   "execution_count": null,
   "id": "68",
   "metadata": {},
   "outputs": [],
   "source": [
    "it = iter(src)\n",
    "event = next(it)\n",
    "src.r0_r1_calibrator.calibrate(event)"
   ]
  },
  {
   "cell_type": "code",
   "execution_count": null,
   "id": "69",
   "metadata": {},
   "outputs": [],
   "source": [
    "event.mon.tel[1].pixel_status.hardware_failing_pixels.shape"
   ]
  },
  {
   "cell_type": "code",
   "execution_count": null,
   "id": "70",
   "metadata": {},
   "outputs": [],
   "source": [
    "event.mon.tel[1].pixel_status"
   ]
  },
  {
   "cell_type": "code",
   "execution_count": null,
   "id": "71",
   "metadata": {},
   "outputs": [],
   "source": [
    "np.argwhere(event.mon.tel[1].pixel_status.hardware_failing_pixels == True)"
   ]
  },
  {
   "cell_type": "code",
   "execution_count": null,
   "id": "72",
   "metadata": {},
   "outputs": [],
   "source": [
    "np.argwhere(event.mon.tel[1].pixel_status.pedestal_failing_pixels == True)"
   ]
  },
  {
   "cell_type": "code",
   "execution_count": null,
   "id": "73",
   "metadata": {},
   "outputs": [],
   "source": [
    "np.argwhere(event.mon.tel[1].pixel_status.flatfield_failing_pixels == True)"
   ]
  },
  {
   "cell_type": "code",
   "execution_count": null,
   "id": "74",
   "metadata": {},
   "outputs": [],
   "source": [
    "event.mon.tel[1].calibration.unusable_pixels"
   ]
  },
  {
   "cell_type": "code",
   "execution_count": null,
   "id": "75",
   "metadata": {},
   "outputs": [],
   "source": [
    "event.trigger.event_type"
   ]
  },
  {
   "cell_type": "code",
   "execution_count": null,
   "id": "76",
   "metadata": {},
   "outputs": [],
   "source": [
    "calibrator(event)"
   ]
  },
  {
   "cell_type": "code",
   "execution_count": null,
   "id": "77",
   "metadata": {},
   "outputs": [],
   "source": [
    "event.mon.tel[1].calibration.unusable_pixels"
   ]
  },
  {
   "cell_type": "code",
   "execution_count": null,
   "id": "78",
   "metadata": {},
   "outputs": [],
   "source": [
    "event.calibration.tel[1].dl1"
   ]
  },
  {
   "cell_type": "code",
   "execution_count": null,
   "id": "79",
   "metadata": {},
   "outputs": [],
   "source": [
    "import ctapipe"
   ]
  },
  {
   "cell_type": "code",
   "execution_count": null,
   "id": "80",
   "metadata": {},
   "outputs": [],
   "source": [
    "print(ctapipe.__version__)"
   ]
  },
  {
   "cell_type": "code",
   "execution_count": null,
   "id": "81",
   "metadata": {},
   "outputs": [],
   "source": []
  }
 ],
 "metadata": {
  "kernelspec": {
   "display_name": "Python 3",
   "language": "python",
   "name": "python3"
  },
  "language_info": {
   "codemirror_mode": {
    "name": "ipython",
    "version": 3
   },
   "file_extension": ".py",
   "mimetype": "text/x-python",
   "name": "python",
   "nbconvert_exporter": "python",
   "pygments_lexer": "ipython3",
   "version": "3.7.10"
  }
 },
 "nbformat": 4,
 "nbformat_minor": 5
}
