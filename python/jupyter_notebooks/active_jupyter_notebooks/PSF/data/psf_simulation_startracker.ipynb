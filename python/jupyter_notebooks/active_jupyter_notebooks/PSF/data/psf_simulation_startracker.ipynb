{
 "cells": [
  {
   "cell_type": "code",
   "execution_count": null,
   "id": "0",
   "metadata": {},
   "outputs": [],
   "source": [
    "from ctapipe.io import EventSource\n",
    "from ctapipe.visualization import CameraDisplay\n",
    "from ctapipe.instrument import CameraGeometry\n",
    "from eventio import SimTelFile\n",
    "\n",
    "\n",
    "import matplotlib.pyplot as plt\n",
    "from copy import copy\n",
    "\n",
    "import matplotlib\n",
    "from matplotlib.colors import PowerNorm\n",
    "matplotlib.rcParams['figure.figsize'] = (15, 15)\n",
    "matplotlib.rcParams.update({'font.size': 22})\n",
    "\n",
    "import numpy as np\n",
    "import pandas as pd\n",
    "\n",
    "from scipy.stats import laplace, laplace_asymmetric, kstest\n",
    "from scipy.optimize import curve_fit\n",
    "\n",
    "\n",
    "import astropy.units as u\n",
    "import os"
   ]
  },
  {
   "cell_type": "code",
   "execution_count": null,
   "id": "1",
   "metadata": {},
   "outputs": [],
   "source": [
    "src = EventSource('/fefs/aswg/workspace/alessandro.carosi/StarTracking/output_stars/simulations/simulations_5rot_89.0_rdm_nsb001_intensity4/output/starsim_113_angle_0.simtel.gz')"
   ]
  },
  {
   "cell_type": "code",
   "execution_count": null,
   "id": "2",
   "metadata": {},
   "outputs": [],
   "source": [
    "it = iter(src)"
   ]
  },
  {
   "cell_type": "code",
   "execution_count": null,
   "id": "3",
   "metadata": {},
   "outputs": [],
   "source": [
    "event = next(it)"
   ]
  },
  {
   "cell_type": "code",
   "execution_count": null,
   "id": "4",
   "metadata": {},
   "outputs": [],
   "source": [
    "event_variance_list = []\n",
    "\n",
    "for i in range(200):\n",
    "    event =next(it)\n",
    "    pixel_variances = np.var(event.r1.tel[1].waveform, axis = 1)\n",
    "    event_variance_list.append(pixel_variances)\n",
    "average_image = np.sum(event_variance_list, axis=0) / len(event_variance_list)"
   ]
  },
  {
   "cell_type": "code",
   "execution_count": null,
   "id": "5",
   "metadata": {},
   "outputs": [],
   "source": [
    "fig, ax = plt.subplots()\n",
    "geom = src.subarray.tel[1].camera.geometry\n",
    "disp = CameraDisplay(geom, average_image, ax)\n",
    "disp.norm = PowerNorm(gamma=0.3)\n",
    "disp.add_colorbar()"
   ]
  },
  {
   "cell_type": "code",
   "execution_count": null,
   "id": "6",
   "metadata": {},
   "outputs": [],
   "source": [
    "input_dir = '/fefs/aswg/workspace/alessandro.carosi/StarTracking/output_stars/simulations/simulations_5rot_89.8_rdm_nsb04_intensity4/input/'\n",
    "files = os.listdir(input_dir)\n",
    "\n",
    "#lis_f = '/fefs/aswg/workspace/alessandro.carosi/StarTracking/output_stars/simulations/simulations_5rot_89.0_rdm_nsb001_intensity4//input/xt_radial_113.lis'\n",
    "colnames = ['PixelN', 'X', 'Y', 'Star']\n",
    "dfs = []\n",
    "\n",
    "for i, f in enumerate(files):\n",
    "    df = pd.read_csv(f'{input_dir}/{f}', sep=' ', usecols=[1,2,3,15], skiprows=35, names=colnames)\n",
    "    df['X'] = df['X']/100.0\n",
    "    df['Y'] = df['Y']/100.0\n",
    "    df['Star'] = df['Star'] + i * 10\n",
    "    df = df[df['PixelN'] != -1]\n",
    "    \n",
    "    dfs.append(df)\n",
    "\n",
    "df = pd.concat(dfs, ignore_index=True)\n",
    "print(df.shape)\n",
    "df.tail()"
   ]
  },
  {
   "cell_type": "code",
   "execution_count": null,
   "id": "7",
   "metadata": {},
   "outputs": [],
   "source": [
    "# star_phot_dist = np.zeros_like(average_image)\n",
    "# for row in df.itertuples():\n",
    "#     if row.PixelN != -1:\n",
    "#         star_phot_dist[row.PixelN] += 1\n",
    "        \n",
    "# #disp.image = star_phot_dist"
   ]
  },
  {
   "cell_type": "code",
   "execution_count": null,
   "id": "8",
   "metadata": {},
   "outputs": [],
   "source": [
    "# fig, ax = plt.subplots()\n",
    "# #ax.set_grid('True')\n",
    "# ax.set_xlim(-1, 1)\n",
    "# ax.set_ylim(-1, 1)\n",
    "# ax.set_xlabel('X [m]')\n",
    "# ax.set_ylabel('Y [m]')\n",
    "# ax.grid(True)\n",
    "# disp2 = CameraDisplay(geom, star_phot_dist, ax)\n",
    "# disp2.norm = PowerNorm(gamma=0.2)\n",
    "# disp2.cmap = 'binary'\n",
    "# for i in np.unique(df['Star']):\n",
    "#     ax.scatter(df[df['Star']==i]['X'],df[df['Star']==i]['Y'], label=f'Star {i}', marker='.')\n",
    "# ax.legend()\n"
   ]
  },
  {
   "cell_type": "code",
   "execution_count": null,
   "id": "9",
   "metadata": {},
   "outputs": [],
   "source": [
    "geom.rotate(f\"10.893d\") # due to pixel's internal rotation"
   ]
  },
  {
   "cell_type": "code",
   "execution_count": null,
   "id": "10",
   "metadata": {},
   "outputs": [],
   "source": [
    "# all_pixels = [i for i in range(1855)]\n",
    "# fig, ax = plt.subplots()\n",
    "# #ax.set_grid('True')\n",
    "# ax.set_xlim(-1.2, 1.2)\n",
    "# ax.set_ylim(-1.2, 1.2)\n",
    "# ax.set_xlabel('X [m]')\n",
    "# ax.set_ylabel('Y [m]')\n",
    "# ax.grid(True)\n",
    "# disp2 = CameraDisplay(geom, star_phot_dist, ax)\n",
    "# disp2.norm = PowerNorm(gamma=0.3)\n",
    "# disp2.cmap = 'binary'\n",
    "# disp2.highlight_pixels(all_pixels, color='red', linewidth=1, alpha=0.3)\n",
    "# disp2.add_colorbar()\n",
    "# for i in np.unique(df['Star']):\n",
    "#     ax.scatter(df[df['Star']==i]['X'],df[df['Star']==i]['Y'], label=f'Star {i}', marker='.', alpha=0.15)\n",
    "# ax.legend()"
   ]
  },
  {
   "cell_type": "code",
   "execution_count": null,
   "id": "11",
   "metadata": {},
   "outputs": [],
   "source": [
    "def cart2pol(x, y):\n",
    "    rho = np.sqrt(x**2 + y**2)\n",
    "    phi = np.arctan2(y, x)\n",
    "    return(rho, phi)\n",
    "\n",
    "def pol2cart(rho, phi):\n",
    "    x = rho * np.cos(phi)\n",
    "    y = rho * np.sin(phi)\n",
    "    return(x, y)"
   ]
  },
  {
   "cell_type": "code",
   "execution_count": null,
   "id": "12",
   "metadata": {},
   "outputs": [],
   "source": [
    "df['R'], df['Phi'] = cart2pol(df['X'], df['Y'])\n",
    "mask = df['Phi'] < 0\n",
    "df.loc[mask, 'Phi'] += 2 * np.pi\n",
    "# pixel_x_map = geom.pix_x.to_value()\n",
    "# pixel_y_map = geom.pix_y.to_value()\n",
    "# df['PixelX'] = pixel_x_map[df['PixelN']]\n",
    "# df['PixelY'] = pixel_y_map[df['PixelN']]\n",
    "# df['PixelR'], df['PixelPhi'] = cart2pol(df['PixelX'], df['PixelY'])\n",
    "# mask = df['PixelPhi'] < 0\n",
    "# df.loc[mask, 'PixelPhi'] += 2 * np.pi\n",
    "df.head()"
   ]
  },
  {
   "cell_type": "code",
   "execution_count": null,
   "id": "13",
   "metadata": {},
   "outputs": [],
   "source": [
    "# fig, ax = plt.subplots()\n",
    "# for i in np.unique(df['Star']):\n",
    "# #for i in range(1,2):\n",
    "#     ax.hist(df[df['Star']==i]['R'] + i, histtype='step', linewidth=3, bins=10, label='Raytracing', density=True)\n",
    "#     #ax.hist(df[df['Star']==i]['PixelR'] + i, histtype='step', linewidth=3, bins=10, label='Pixelated hits')\n",
    "# ax.grid(True)\n",
    "# ax.legend()"
   ]
  },
  {
   "cell_type": "code",
   "execution_count": null,
   "id": "14",
   "metadata": {},
   "outputs": [],
   "source": [
    "# fig, ax = plt.subplots()\n",
    "# #for i in np.unique(df['Star']):\n",
    "# for i in range(2):\n",
    "#     ax.hist(df[df['Star']==i]['Phi'], histtype='step', linewidth=3, alpha=1, bins=10, label='Raytracing', density=True)\n",
    "#     #ax.hist(df[df['Star']==i]['PixelPhi'], histtype='step', linewidth=3, alpha=1, bins=10, label='Pixelated hits')\n",
    "# ax.grid(True)\n",
    "# ax.legend()"
   ]
  },
  {
   "cell_type": "code",
   "execution_count": null,
   "id": "15",
   "metadata": {},
   "outputs": [],
   "source": [
    "def fit_data(data, fit_function, bins=50, show=True):\n",
    "    hist, edges = np.histogram(data, bins=bins, density=True)\n",
    "    params = fit_function.fit(data)\n",
    "    if show == True:\n",
    "        fig, ax = plt.subplots()\n",
    "        x = np.linspace(edges[0], edges[-1], 10000)\n",
    "        ax.scatter(x, fit_function.pdf(x, *params), label=f'Fit, parameters: {params}')\n",
    "        bincenters = 0.5*(edges[1:]+edges[:-1])\n",
    "        width = np.diff(edges)\n",
    "        ax.bar(bincenters, hist, width=width, alpha=0.3, label='Data')\n",
    "        ax.grid(True)\n",
    "        ax.legend()\n",
    "    return fit_function, params"
   ]
  },
  {
   "cell_type": "code",
   "execution_count": null,
   "id": "16",
   "metadata": {},
   "outputs": [],
   "source": [
    "def plot_pdf(data_pdp, bins_pdp, data_pixels, bins_pixels, fit_function, fit_parameters, xlabel):\n",
    "    hist_pdp, edges_pdp = np.histogram(data_pdp, bins=bins_pdp, density=True)\n",
    "    hist_pixels, edges_pixels = np.histogram(data_pixels, bins=bins_pixels, density=True)\n",
    "    x = np.linspace(edges_pdp[0], edges_pdp[-1], 10000)\n",
    "    plt.scatter(x, fit_function.pdf(x, *fit_parameters), label='Fit')\n",
    "    bincenters_pdp = 0.5*(edges_pdp[1:]+edges_pdp[:-1])\n",
    "    width_pdp = np.diff(edges_pdp)\n",
    "    plt.bar(bincenters_pdp, hist_pdp, width=width_pdp, alpha=0.3, label='Raytracing data')\n",
    "    bincenters_pixels = 0.5*(edges_pixels[1:]+edges_pixels[:-1])\n",
    "    width_pixels = np.diff(edges_pixels)\n",
    "    plt.bar(bincenters_pixels, hist_pixels, width=width_pixels, alpha=0.3, label='Pixel hit data')\n",
    "    plt.ylabel('A.U.')\n",
    "    plt.xlabel(xlabel)\n",
    "    plt.grid(True)\n",
    "    plt.legend()\n",
    "    arr = fit_function.pdf(x, *fit_parameters)\n",
    "    print(arr)\n",
    "    "
   ]
  },
  {
   "cell_type": "code",
   "execution_count": null,
   "id": "17",
   "metadata": {},
   "outputs": [],
   "source": [
    "ff, fp = fit_data(df['R'], laplace_asymmetric, show=False)\n",
    "#plot_pdf(df['R'], 50, df['PixelR'], 25, ff, fp, 'R[m]')"
   ]
  },
  {
   "cell_type": "code",
   "execution_count": null,
   "id": "18",
   "metadata": {},
   "outputs": [],
   "source": [
    "ff2, fp2 = fit_data(df[df['Star']==3]['Phi'], laplace, show=False)\n",
    "#plot_pdf(df[df['Star']==3]['Phi'], 50, df[df['Star']==3]['PixelPhi'], 25, ff2, fp2, 'φ[rad]')"
   ]
  },
  {
   "cell_type": "code",
   "execution_count": null,
   "id": "19",
   "metadata": {},
   "outputs": [],
   "source": [
    "def pixel_pdf(camera_geometry,\n",
    "              radial_pdf,\n",
    "              radial_pdf_params,\n",
    "              azimuth_pdf,\n",
    "              azimuth_pdf_params,\n",
    "              starting_point,\n",
    "              radial_range,\n",
    "              azimuthal_range,\n",
    "              nbins=100,\n",
    "              show=True):\n",
    "    all_pixels = [i for i in range(1855)]\n",
    "    image = np.zeros(1855)\n",
    "    r0 = starting_point[0]\n",
    "    f0 = starting_point[1]\n",
    "    r = np.linspace(r0-radial_range, r0+radial_range, nbins)\n",
    "    dr = 2*radial_range/nbins\n",
    "    f = np.linspace(f0-azimuthal_range, f0+azimuthal_range, nbins)\n",
    "    df = 2*azimuthal_range/nbins\n",
    "    for r_ in r:\n",
    "        for f_ in f:\n",
    "            val = radial_pdf.pdf(r_, *radial_pdf_params) * azimuth_pdf.pdf(f_, *azimuth_pdf_params) * dr * df\n",
    "            x, y = pol2cart(r_, f_)\n",
    "            pixelN = camera_geometry.position_to_pix_index(x * u.m, y * u.m)\n",
    "            if pixelN != -1: # \n",
    "                image[pixelN] += val\n",
    "            \n",
    "    if show == True:\n",
    "        fig, ax = plt.subplots()\n",
    "        ax.set_xlim(-1.2, 1.2)\n",
    "        ax.set_ylim(-1.2, 1.2)\n",
    "        ax.set_xlabel('X [m]')\n",
    "        ax.set_ylabel('Y [m]')\n",
    "        ax.grid(True)\n",
    "        disp = CameraDisplay(camera_geometry, image, ax)\n",
    "        disp.norm = PowerNorm(gamma=0.3)\n",
    "        disp.cmap = 'binary'\n",
    "        disp.highlight_pixels(all_pixels, color='red', linewidth=1, alpha=0.3)\n",
    "        disp.highlight_pixels(np.where(image>0.00001), color='green',linewidth=1, alpha=0.3)\n",
    "        disp.add_colorbar()\n",
    "        \n",
    "    return image\n",
    "            "
   ]
  },
  {
   "cell_type": "code",
   "execution_count": null,
   "id": "20",
   "metadata": {},
   "outputs": [],
   "source": [
    "# image = np.zeros(1855)\n",
    "# for i in np.unique(df['Star']):\n",
    "#     ff_phi, fp_phi = fit_data(df[df['Star']==i]['Phi'], laplace, show=True)\n",
    "#     image += pixel_pdf(geom, ff, fp, ff_phi, fp_phi, (0.5, df[df['Star']==i]['Phi'].mean()), 0.2, 0.2)\n",
    "# fig, ax = plt.subplots()\n",
    "# ax.set_xlim(-1.2, 1.2)\n",
    "# ax.set_ylim(-1.2, 1.2)\n",
    "# ax.set_xlabel('X [m]')\n",
    "# ax.set_ylabel('Y [m]')\n",
    "# ax.grid(True)\n",
    "# disp = CameraDisplay(geom, image, ax)\n",
    "# disp.norm = PowerNorm(gamma=0.3)\n",
    "# disp.cmap = 'binary'\n",
    "# disp.highlight_pixels(all_pixels, color='red', linewidth=1, alpha=0.3)\n",
    "# #disp.highlight_pixels(np.where(image>0.00001), color='green',linewidth=1, alpha=0.3)\n",
    "# disp.add_colorbar()\n",
    "    "
   ]
  },
  {
   "cell_type": "code",
   "execution_count": null,
   "id": "21",
   "metadata": {},
   "outputs": [],
   "source": [
    "columns = ['phi_loc', 'phi_scale', 'average_phi', 'average_r']\n"
   ]
  },
  {
   "cell_type": "code",
   "execution_count": null,
   "id": "22",
   "metadata": {},
   "outputs": [],
   "source": [
    "loc = []\n",
    "scale = []\n",
    "phi = []\n",
    "r = []\n",
    "for i in np.unique(df['Star']):\n",
    "    ff_phi, fp_phi = fit_data(df[df['Star']==i]['Phi'], laplace, show=False)\n",
    "    loc.append(fp_phi[0])\n",
    "    scale.append(fp_phi[1])\n",
    "    phi.append(df[df['Star']==i]['Phi'].mean())\n",
    "    r.append(df[df['Star']==i]['R'].mean())\n",
    "\n",
    "    \n",
    "df_phi_fit = pd.DataFrame(data=np.array([loc, scale, phi, r]).T, columns=columns)\n",
    "\n",
    "fig, axes = plt.subplots(2, 1, sharex=True, squeeze=True, gridspec_kw={'hspace':0, 'height_ratios':[3,1]})\n",
    "axes[0].scatter(phi, loc, label='Location')\n",
    "axes[1].scatter(phi, scale, label='Scale')\n",
    "for ax in axes: \n",
    "    ax.grid(True)\n",
    "    ax.legend()\n",
    "axes[0].set_xlim(0, 6)\n",
    "axes[0].set_ylim(0, 6)\n",
    "axes[1].set_ylim(0, 0.05)\n",
    "\n",
    "    \n",
    "    "
   ]
  },
  {
   "cell_type": "code",
   "execution_count": null,
   "id": "23",
   "metadata": {},
   "outputs": [],
   "source": [
    "columns=['asymmetry', 'r_loc', 'r_scale', 'average_phi', 'average_r']"
   ]
  },
  {
   "cell_type": "code",
   "execution_count": null,
   "id": "24",
   "metadata": {},
   "outputs": [],
   "source": [
    "kappa = []\n",
    "loc = []\n",
    "scale = []\n",
    "phi = []\n",
    "r = []\n",
    "for i in np.unique(df['Star']):\n",
    "    ff_r, fp_r = fit_data(df[df['Star']==i]['R'], laplace_asymmetric, show=False)\n",
    "    kappa.append(fp_r[0])\n",
    "    loc.append(fp_r[1])\n",
    "    scale.append(fp_r[2])\n",
    "    phi.append(df[df['Star']==i]['Phi'].mean())\n",
    "    r.append(df[df['Star']==i]['R'].mean())\n",
    "\n",
    "df_r_fit = pd.DataFrame(data=np.array([kappa, loc, scale, phi, r]).T, columns=columns)\n",
    "    \n",
    "fig, axes = plt.subplots(3, 1, sharex=True, squeeze=True, gridspec_kw={'hspace':0, 'height_ratios':[1,1,1]})\n",
    "axes[0].scatter(phi, loc, label='Location')\n",
    "axes[1].scatter(phi, scale, label='Scale')\n",
    "axes[2].scatter(phi, kappa, label='Asymmetry')\n",
    "for ax in axes: \n",
    "    ax.grid(True)\n",
    "    ax.legend()\n",
    "axes[0].set_xlim(0, 6)"
   ]
  },
  {
   "cell_type": "code",
   "execution_count": null,
   "id": "25",
   "metadata": {},
   "outputs": [],
   "source": [
    "df_r_fit.describe()"
   ]
  },
  {
   "cell_type": "code",
   "execution_count": null,
   "id": "26",
   "metadata": {},
   "outputs": [],
   "source": [
    "df_phi_fit.describe()"
   ]
  },
  {
   "cell_type": "code",
   "execution_count": null,
   "id": "27",
   "metadata": {},
   "outputs": [],
   "source": [
    "df_r_fit.to_csv(f'/fefs/aswg/workspace/mykhailo.dalchenko/pointing/psf/{input_dir.split(\"/\")[-3]}_r.csv')\n",
    "df_phi_fit.to_csv(f'/fefs/aswg/workspace/mykhailo.dalchenko/pointing/psf/{input_dir.split(\"/\")[-3]}_phi.csv')"
   ]
  },
  {
   "cell_type": "code",
   "execution_count": null,
   "id": "28",
   "metadata": {},
   "outputs": [],
   "source": [
    "input_dir.split('/')[-3]"
   ]
  },
  {
   "cell_type": "code",
   "execution_count": null,
   "id": "29",
   "metadata": {},
   "outputs": [],
   "source": [
    "r_dfs = []\n",
    "phi_dfs = []\n",
    "for f in os.listdir('/fefs/aswg/workspace/mykhailo.dalchenko/pointing/psf/'):\n",
    "    if '_phi' in f:\n",
    "        phi_dfs.append(pd.read_csv(f'/fefs/aswg/workspace/mykhailo.dalchenko/pointing/psf/{f}'))\n",
    "    else:\n",
    "        r_dfs.append(pd.read_csv(f'/fefs/aswg/workspace/mykhailo.dalchenko/pointing/psf/{f}'))"
   ]
  },
  {
   "cell_type": "code",
   "execution_count": null,
   "id": "30",
   "metadata": {},
   "outputs": [],
   "source": [
    "def fit_func(x, n1, k1, s1):\n",
    "    return 1 - n1 * np.tanh(k1*x) - s1 * x\n",
    "\n",
    "\n",
    "asym = []\n",
    "unc_asym = []\n",
    "avg_r = []\n",
    "unc_avg_r = []\n",
    "for df in r_dfs:\n",
    "    asym.append(df['asymmetry'].mean())\n",
    "    unc_asym.append(df['asymmetry'].std())\n",
    "    avg_r.append(df['average_r'].mean())\n",
    "    unc_avg_r.append(df['average_r'].std())\n",
    "    \n",
    "popt, pcov = curve_fit(fit_func, xdata=avg_r, ydata=asym, sigma=unc_asym)\n",
    "\n",
    "print(popt)\n",
    "\n",
    "fig, ax = plt.subplots()\n",
    "ax.errorbar(avg_r, asym, yerr=unc_asym, fmt='bo', label=r'$K$')\n",
    "x = np.linspace(0, 1, 1000)\n",
    "ax.plot(x, fit_func(x, *popt), label=fr'$f(r)=1-{popt[0]:.3f}\\tanh({popt[1]:.3f}r) - {popt[2]:.3f}r$')\n",
    "ax.grid(True)\n",
    "ax.set_xlabel(r'$R~[m]$')\n",
    "ax.set_ylabel(r'$K$')\n",
    "#ax.set_ylim(0, 1.2)\n",
    "ax.legend()"
   ]
  },
  {
   "cell_type": "code",
   "execution_count": null,
   "id": "31",
   "metadata": {},
   "outputs": [],
   "source": [
    "asym = []\n",
    "unc_asym = []\n",
    "avg_r = []\n",
    "unc_avg_r = []\n",
    "for df in r_dfs:\n",
    "    asym.append(df['r_loc'].mean())\n",
    "    unc_asym.append(df['r_loc'].std())\n",
    "    avg_r.append(df['average_r'].mean())\n",
    "    unc_avg_r.append(df['average_r'].std())\n",
    "    \n",
    "fig, ax = plt.subplots()\n",
    "ax.errorbar(avg_r, asym, xerr=unc_avg_r, yerr=unc_asym, fmt='bo')\n",
    "ax.grid(True)\n",
    "ax.set_xlabel('R[m]')\n",
    "ax.set_ylabel('PDF center point')"
   ]
  },
  {
   "cell_type": "code",
   "execution_count": null,
   "id": "32",
   "metadata": {},
   "outputs": [],
   "source": [
    "def fit_func(x, n1, k1, k2, k3):\n",
    "    return n1 - k1*x + k2*x**2 + k3*x**3\n",
    "\n",
    "asym = []\n",
    "unc_asym = []\n",
    "avg_r = []\n",
    "unc_avg_r = []\n",
    "for df in r_dfs:\n",
    "    asym.append(df['r_scale'].mean())\n",
    "    unc_asym.append(df['r_scale'].std())\n",
    "    avg_r.append(df['average_r'].mean())\n",
    "    unc_avg_r.append(df['average_r'].std())\n",
    "    \n",
    "popt, pcov = curve_fit(fit_func, xdata=avg_r, ydata=asym, sigma=unc_asym)\n",
    "\n",
    "print(popt)\n",
    "\n",
    "\n",
    "fig, ax = plt.subplots()\n",
    "ax.errorbar(avg_r, asym, yerr=unc_asym, fmt='bo', label=r'$S_R$')\n",
    "x = np.linspace(0, 1, 1000)\n",
    "ax.plot(x, fit_func(x, *popt), label=fr'$f(r)={popt[0]:.3f} - {popt[1]:.3f}r + {popt[2]:.3f}r^2$')\n",
    "ax.grid(True)\n",
    "ax.set_xlabel(r'$R~[m]$')\n",
    "ax.set_ylabel(r'$S_R$')\n",
    "#ax.set_ylim(0, 0.02)\n",
    "ax.legend()  "
   ]
  },
  {
   "cell_type": "code",
   "execution_count": null,
   "id": "33",
   "metadata": {},
   "outputs": [],
   "source": [
    "asym = []\n",
    "unc_asym = []\n",
    "avg_r = []\n",
    "unc_avg_r = []\n",
    "for df in phi_dfs:\n",
    "    asym.append(df['phi_loc'].mean())\n",
    "    unc_asym.append(df['phi_loc'].std())\n",
    "    avg_r.append(df['average_r'].mean())\n",
    "    unc_avg_r.append(df['average_r'].std())\n",
    "    \n",
    "fig, ax = plt.subplots()\n",
    "ax.errorbar(avg_r, asym, xerr=unc_avg_r, yerr=unc_asym, fmt='bo')\n",
    "ax.grid(True)\n",
    "ax.set_xlabel('R[m]')\n",
    "ax.set_ylabel('PDF center point')"
   ]
  },
  {
   "cell_type": "code",
   "execution_count": null,
   "id": "34",
   "metadata": {},
   "outputs": [],
   "source": [
    "def fit_func(x, n1, k1, s1):\n",
    "    return n1 * np.exp(-k1*x) + s1\n",
    "\n",
    "\n",
    "asym = []\n",
    "unc_asym = []\n",
    "avg_r = []\n",
    "unc_avg_r = []\n",
    "for df in phi_dfs:\n",
    "    df = df[(df['phi_loc'] < 5.75) & (df['phi_loc'] > 0.75)]\n",
    "    asym.append(df['phi_scale'].mean())\n",
    "    unc_asym.append(df['phi_scale'].std())\n",
    "    avg_r.append(df['average_r'].mean())\n",
    "    unc_avg_r.append(df['average_r'].std())\n",
    "    \n",
    "popt, pcov = curve_fit(fit_func, xdata=avg_r, ydata=asym)#, sigma=unc_asym, maxfev=10000)\n",
    "\n",
    "print(popt)\n",
    "\n",
    "fig, ax = plt.subplots()\n",
    "ax.errorbar(avg_r, asym, yerr=unc_asym, fmt='bo', label=r'$S_\\phi$')\n",
    "x = np.linspace(0, 1, 1000)\n",
    "ax.plot(x, fit_func(x, *popt), label=fr'$f(r)={popt[0]:.3f} exp({-popt[1]:.3f}r) + {popt[2]:.3f}r$')\n",
    "ax.grid(True)\n",
    "ax.set_xlabel(r'$R~[m]$')\n",
    "ax.set_ylabel(r'$S_\\phi$')\n",
    "#ax.set_ylim(0, 0.02)\n",
    "ax.legend()  "
   ]
  },
  {
   "cell_type": "code",
   "execution_count": null,
   "id": "35",
   "metadata": {},
   "outputs": [],
   "source": [
    "df = phi_dfs[0]\n",
    "plt.scatter(df['phi_loc'],df['phi_scale'])\n",
    "print(df['average_r'].mean())"
   ]
  },
  {
   "cell_type": "code",
   "execution_count": null,
   "id": "36",
   "metadata": {},
   "outputs": [],
   "source": [
    "df.head()"
   ]
  },
  {
   "cell_type": "code",
   "execution_count": null,
   "id": "37",
   "metadata": {},
   "outputs": [],
   "source": [
    "fit_func(0.001, *popt)"
   ]
  },
  {
   "cell_type": "code",
   "execution_count": null,
   "id": "38",
   "metadata": {},
   "outputs": [],
   "source": []
  }
 ],
 "metadata": {
  "kernelspec": {
   "display_name": "Python 3 (ipykernel)",
   "language": "python",
   "name": "python3"
  },
  "language_info": {
   "codemirror_mode": {
    "name": "ipython",
    "version": 3
   },
   "file_extension": ".py",
   "mimetype": "text/x-python",
   "name": "python",
   "nbconvert_exporter": "python",
   "pygments_lexer": "ipython3",
   "version": "3.7.10"
  }
 },
 "nbformat": 4,
 "nbformat_minor": 5
}
