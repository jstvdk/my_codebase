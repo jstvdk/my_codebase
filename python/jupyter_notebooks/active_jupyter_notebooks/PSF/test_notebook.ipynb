{
 "cells": [
  {
   "cell_type": "code",
   "execution_count": null,
   "metadata": {},
   "outputs": [],
   "source": [
    "import math\n",
    "import numpy as np\n",
    "import matplotlib.pyplot as plt\n",
    "summer_refractive_index = 1+0.00020409512542851616\n",
    "winter_refractive_index = 1+0.00020953240736654166"
   ]
  },
  {
   "cell_type": "code",
   "execution_count": null,
   "metadata": {},
   "outputs": [],
   "source": [
    "def cherenkov_angle(muon_energy_eV, refractive_index=1.000217):\n",
    "    \"\"\"\n",
    "    Calculate the Cherenkov angle for a given muon energy and refractive index.\n",
    "\n",
    "    Parameters:\n",
    "    - muon_energy_eV (float): The energy of the muon in electron volts (eV).\n",
    "    - refractive_index (float, optional): The refractive index of the medium. Default is 1.000293.\n",
    "\n",
    "    Returns:\n",
    "    - theta_C_degrees (float): The Cherenkov angle in degrees.\n",
    "\n",
    "    Raises:\n",
    "    - None\n",
    "\n",
    "    \"\"\"\n",
    "    # Constants\n",
    "    c = 299792458  # speed of light in m/s\n",
    "    muon_rest_mass_MeV = 105.66  # rest mass of muon in MeV\n",
    "    eV_to_MeV = 1e-6  # conversion factor from eV to MeV\n",
    "    \n",
    "    # Convert muon energy from eV to MeV\n",
    "    muon_energy_MeV = muon_energy_eV * eV_to_MeV\n",
    "    \n",
    "    # Check if the energy is sufficient for Cherenkov radiation\n",
    "    if muon_energy_MeV <= muon_rest_mass_MeV:\n",
    "        return \"Energy too low for Cherenkov radiation.\"\n",
    "    \n",
    "    # Calculate the momentum p\n",
    "    p = math.sqrt((muon_energy_MeV)**2 - (muon_rest_mass_MeV)**2)\n",
    "    \n",
    "    # Calculate beta\n",
    "    beta = p / muon_energy_MeV\n",
    "    \n",
    "    # Check if Cherenkov condition is met\n",
    "    if beta * refractive_index <= 1:\n",
    "        return \"Muon velocity too low for Cherenkov radiation in this medium.\"\n",
    "    \n",
    "    # Calculate Cherenkov angle\n",
    "    cos_theta_C = 1 / (beta * refractive_index)\n",
    "    theta_C = math.acos(cos_theta_C)\n",
    "    \n",
    "    # Convert angle from radians to degrees\n",
    "    theta_C_degrees = math.degrees(theta_C)\n",
    "    \n",
    "    return theta_C_degrees\n",
    "\n",
    "\n",
    "def plot_cherenkov_angle_distribution(min_energy_eV, max_energy_eV, num_points, refractive_index=1.000217, plot_option=False):\n",
    "    \"\"\"\n",
    "    Plots the Cherenkov angle distribution as a function of muon energy.\n",
    "\n",
    "    Parameters:\n",
    "    - min_energy_eV (float): The minimum energy in electron volts (eV) for the muon.\n",
    "    - max_energy_eV (float): The maximum energy in electron volts (eV) for the muon.\n",
    "    - num_points (int): The number of points to generate between the minimum and maximum energy.\n",
    "    - refractive_index (float, optional): The refractive index of the medium. Default is 1.000293.\n",
    "    - plot_option (bool, optional): Whether to plot the distribution. Default is False.\n",
    "\n",
    "    Returns:\n",
    "    - energies_GeV (numpy.ndarray): An array of muon energies in gigaelectron volts (GeV).\n",
    "    - angles (list): A list of Cherenkov angles in degrees corresponding to the muon energies.\n",
    "\n",
    "    Example usage:\n",
    "    >>> min_energy_eV = 1e6\n",
    "    >>> max_energy_eV = 1e9\n",
    "    >>> num_points = 100\n",
    "    >>> refractive_index = 1.000293\n",
    "    >>> plot_option = True\n",
    "    >>> energies_GeV, angles = plot_cherenkov_angle_distribution(min_energy_eV, max_energy_eV, num_points, refractive_index, plot_option)\n",
    "    \"\"\"\n",
    "\n",
    "    energies_eV = np.logspace(np.log10(min_energy_eV), np.log10(max_energy_eV), num_points)\n",
    "    energies_GeV = energies_eV * 1e-9  # Convert eV to GeV\n",
    "    angles = []\n",
    "\n",
    "    for energy in energies_eV:\n",
    "        angle = cherenkov_angle(energy, refractive_index)\n",
    "        if angle is not None:\n",
    "            angles.append(angle)\n",
    "        else:\n",
    "            angles.append(0)  # Append 0 for energies not producing Cherenkov radiation\n",
    "\n",
    "    if plot_option:\n",
    "        plt.plot(energies_GeV, angles, label='Cherenkov Angle')\n",
    "        plt.xscale('log')\n",
    "        plt.xlabel('Muon Energy (GeV)')\n",
    "        plt.ylabel('Cherenkov Angle (degrees)')\n",
    "        plt.title('Cherenkov Angle Distribution as a Function of Muon Energy')\n",
    "        plt.legend()\n",
    "        plt.show()\n",
    "\n",
    "    return energies_GeV, angles"
   ]
  },
  {
   "cell_type": "code",
   "execution_count": null,
   "metadata": {},
   "outputs": [],
   "source": [
    "cherenkov_angle(muon_energy_eV=1e12)"
   ]
  },
  {
   "cell_type": "code",
   "execution_count": null,
   "metadata": {},
   "outputs": [],
   "source": [
    "min_energy_eV = 6e9  # 1 GeV\n",
    "max_energy_eV = 1e12  # 1 TeV\n",
    "num_points = 1000\n",
    "\n",
    "energies, summer_angles = plot_cherenkov_angle_distribution(min_energy_eV, max_energy_eV, num_points,refractive_index=summer_refractive_index)"
   ]
  },
  {
   "cell_type": "code",
   "execution_count": null,
   "metadata": {},
   "outputs": [],
   "source": [
    "max(summer_angles)"
   ]
  },
  {
   "cell_type": "code",
   "execution_count": null,
   "metadata": {},
   "outputs": [],
   "source": []
  },
  {
   "cell_type": "code",
   "execution_count": null,
   "metadata": {},
   "outputs": [],
   "source": [
    "plt.figure(figsize=(12,9))\n",
    "print(f\"Maximum angle value for the summer = {round(max(summer_angles),3)} degrees\")\n",
    "#print(f\"Maximum angle value for the winter = {round(max(winter_angles),3)} degrees\")\n",
    "plt.plot(energies, summer_angles, label='Cherenkov Angle for Summer')\n",
    "#plt.plot(energies, winter_angles, label='Cherenkov Angle for  Winter')\n",
    "plt.xscale('log')\n",
    "plt.xlabel('Muon Energy (GeV)')\n",
    "plt.ylabel('Cherenkov Angle (degrees)')\n",
    "#plt.title('Cherenkov Angle Distribution as a Function of Muon Energy and refractive index')\n",
    "plt.legend()\n",
    "#plt.savefig('/Users/vdk/muons2024/images/AA_paper/cherenkov_angle_distribution.pdf', dpi=200, format='pdf', bbox_inches='tight')"
   ]
  },
  {
   "cell_type": "code",
   "execution_count": null,
   "metadata": {},
   "outputs": [],
   "source": [
    "blank.x"
   ]
  },
  {
   "cell_type": "code",
   "execution_count": null,
   "metadata": {},
   "outputs": [],
   "source": [
    "x =blank.x"
   ]
  },
  {
   "cell_type": "code",
   "execution_count": null,
   "metadata": {},
   "outputs": [],
   "source": [
    "x is blank.x"
   ]
  },
  {
   "cell_type": "code",
   "execution_count": null,
   "metadata": {},
   "outputs": [],
   "source": [
    "id(x)"
   ]
  },
  {
   "cell_type": "code",
   "execution_count": null,
   "metadata": {},
   "outputs": [],
   "source": [
    "id(blank.x)"
   ]
  },
  {
   "cell_type": "code",
   "execution_count": null,
   "metadata": {},
   "outputs": [],
   "source": [
    "blank.x = 4.0 "
   ]
  },
  {
   "cell_type": "code",
   "execution_count": null,
   "metadata": {},
   "outputs": [],
   "source": [
    "x is blank.x"
   ]
  },
  {
   "cell_type": "code",
   "execution_count": null,
   "metadata": {},
   "outputs": [],
   "source": [
    "blank.y = 10000"
   ]
  },
  {
   "cell_type": "code",
   "execution_count": null,
   "metadata": {},
   "outputs": [],
   "source": [
    "y = blank.y"
   ]
  },
  {
   "cell_type": "code",
   "execution_count": null,
   "metadata": {},
   "outputs": [],
   "source": [
    "class Hs:\n",
    "    \"\"\" \"\"\""
   ]
  },
  {
   "cell_type": "code",
   "execution_count": null,
   "metadata": {},
   "outputs": [],
   "source": []
  }
 ],
 "metadata": {
  "kernelspec": {
   "display_name": "cta-dev",
   "language": "python",
   "name": "python3"
  },
  "language_info": {
   "codemirror_mode": {
    "name": "ipython",
    "version": 3
   },
   "file_extension": ".py",
   "mimetype": "text/x-python",
   "name": "python",
   "nbconvert_exporter": "python",
   "pygments_lexer": "ipython3",
   "version": "3.10.14"
  }
 },
 "nbformat": 4,
 "nbformat_minor": 2
}
