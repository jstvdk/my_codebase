{
 "cells": [
  {
   "cell_type": "code",
   "execution_count": null,
   "metadata": {},
   "outputs": [],
   "source": [
    "import math\n",
    "import numpy as np\n",
    "import matplotlib.pyplot as plt\n",
    "summer_refractive_index = 1+0.00020409512542851616\n",
    "winter_refractive_index = 1+0.00020953240736654166\n",
    "\n",
    "import sys\n",
    "import glob\n",
    "from datetime import datetime\n",
    "\n",
    "import numpy as np\n",
    "import pandas as pd\n",
    "import seaborn as sns\n",
    "import scipy.stats as stats\n",
    "from scipy.interpolate import interp1d\n",
    "import statsmodels.api as sm\n",
    "\n",
    "import matplotlib.pyplot as plt\n",
    "from ctapipe.io import EventSource\n",
    "from ctapipe.image import ImageProcessor, tailcuts_clean\n",
    "from ctapipe.calib import CameraCalibrator\n",
    "from ctapipe.visualization import CameraDisplay\n",
    "from astropy.table import Table, vstack\n",
    "\n",
    "#from muonpipe import usefull_func\n",
    "import matplotlib.pyplot as plt\n",
    "import seaborn as sns\n",
    "import pandas as pd\n",
    "\n"
   ]
  },
  {
   "cell_type": "code",
   "execution_count": null,
   "metadata": {},
   "outputs": [],
   "source": []
  }
 ],
 "metadata": {
  "kernelspec": {
   "display_name": "cta",
   "language": "python",
   "name": "python3"
  },
  "language_info": {
   "name": "python",
   "version": "3.11.6"
  }
 },
 "nbformat": 4,
 "nbformat_minor": 2
}
