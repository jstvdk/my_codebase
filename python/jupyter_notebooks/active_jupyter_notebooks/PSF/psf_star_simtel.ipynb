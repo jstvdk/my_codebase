{
 "cells": [
  {
   "cell_type": "code",
   "execution_count": null,
   "metadata": {},
   "outputs": [],
   "source": [
    "from ctapipe.io import EventSource\n",
    "import pandas as pd\n",
    "import matplotlib.pyplot as plt\n"
   ]
  },
  {
   "cell_type": "code",
   "execution_count": null,
   "metadata": {},
   "outputs": [],
   "source": [
    "imaging_file = '/Users/vdk/Software/my_code/python/jupyter_notebooks/active_jupyter_notebooks/psf/data/imaging.lis'\n",
    "simtel_file = '/Users/vdk/Software/my_code/python/jupyter_notebooks/active_jupyter_notebooks/psf/data/test_2.simtel.gz'"
   ]
  },
  {
   "cell_type": "code",
   "execution_count": null,
   "metadata": {},
   "outputs": [],
   "source": [
    "source = EventSource(simtel_file)\n",
    "\n",
    "event_iterator = iter(source)"
   ]
  },
  {
   "cell_type": "code",
   "execution_count": null,
   "metadata": {},
   "outputs": [],
   "source": [
    "df = pd.read_csv(\n",
    "    imaging_file,\n",
    "    sep='\\s+',          # Use any whitespace as separator\n",
    "    comment='#',        # Skip lines starting with '#'\n",
    "    header=None,        # No header row in the data\n",
    ")\n",
    "df"
   ]
  },
  {
   "cell_type": "code",
   "execution_count": null,
   "metadata": {},
   "outputs": [],
   "source": [
    "df = pd.read_csv(\n",
    "    imaging_file,\n",
    "    sep='\\s+',          # Use any whitespace as separator\n",
    "    comment='#',        # Skip lines starting with '#'\n",
    "    header=None,        # No header row in the data\n",
    "    usecols=[4, 5],     # Columns 3 and 4 (0-based indexing: 2 and 3)\n",
    "    names=['X_cm', 'Y_cm']  # Assign meaningful names\n",
    ")\n",
    "\n",
    "# Display the first few rows\n",
    "print(df.head())"
   ]
  },
  {
   "cell_type": "code",
   "execution_count": null,
   "metadata": {},
   "outputs": [],
   "source": [
    "plt.figure(figsize=(8, 6))\n",
    "plt.scatter(df['X_cm'], df['Y_cm'], s=1, alpha=0.5)\n",
    "plt.title('Photon X vs Y Positions')\n",
    "plt.xlabel('X Position (cm)')\n",
    "plt.ylabel('Y Position (cm)')\n",
    "plt.grid(True)\n",
    "plt.show()"
   ]
  },
  {
   "cell_type": "code",
   "execution_count": null,
   "metadata": {},
   "outputs": [],
   "source": []
  },
  {
   "cell_type": "code",
   "execution_count": null,
   "metadata": {},
   "outputs": [],
   "source": []
  },
  {
   "cell_type": "code",
   "execution_count": null,
   "metadata": {},
   "outputs": [],
   "source": []
  },
  {
   "cell_type": "code",
   "execution_count": null,
   "metadata": {},
   "outputs": [],
   "source": []
  },
  {
   "cell_type": "code",
   "execution_count": null,
   "metadata": {},
   "outputs": [],
   "source": [
    "sim_command = ('sbatch -p short -o /dev/null -e /dev/null ' +\n",
    "               ' --wrap \"/fefs/aswg/workspace/mykhailo.dalchenko/corsika_simtel/corsika7.7_simtelarray_2020-06-28/sim_telarray/bin/sim_telarray ' +\n",
    "               '-I/fefs/aswg/workspace/vadym.voitsekhovskyi/psf/lst-sim-config ' +\n",
    "               '-c /fefs/aswg/workspace/vadym.voitsekhovskyi/psf/lst-sim-config/array.cfg ' +\n",
    "               '-DNUM_TELESCOPES=1 -DNO_STEREO_TRIGGER=1 -Dpower_law=2.68 ' +\n",
    "               '-C telescope_altitude=__alt__ -C telescope_azimuth=__az__ -C altitude=2158 ' +\n",
    "               '-C maximum_events=200, -C pedestal_events=0 ' +\n",
    "               '-C random_state=auto -C ATMOSPHERIC_TRANSMISSION=atm_trans_2158_1_3_2_0_0_0.1_0.1.dat ' +\n",
    "               '-C maximum_telescopes=1 -C stars=__stars__ -C show=all ' +\n",
    "               '-o __output__ ' +\n",
    "               '/fefs/aswg/workspace/vadym.voitsekhovskyi/psf/dummy100000.corsika.gz\"')\n",
    "\n",
    "subrun = 0\n",
    "points_per_subrun = subrun_duration * sampling_frequency\n",
    "prefix = '/fefs/aswg/workspace/mykhailo.dalchenko/pointing/simulation/run7761_simulated_mispointing_stars_2.4arcsec_per_degree'\n",
    "for i, (index, row) in enumerate(pointing_df.iterrows()):\n",
    "    #print(f'Time: {index}, pointing Alt: {row[(\"Pointing\", \"Alt\")]}, Az: {row[(\"Pointing\", \"Az\")]}')\n",
    "    if i%points_per_subrun == 0:\n",
    "        subrun = subrun + 1\n",
    "    star_filename = f'{prefix}/subrun_{subrun}/stars/{index}.dat'\n",
    "    outputdir = f'{prefix}/subrun_{subrun}/output/'\n",
    "    os.makedirs(os.path.dirname(star_filename), exist_ok=True)\n",
    "    os.makedirs(os.path.dirname(outputdir), exist_ok=True)\n",
    "    with open(star_filename, 'w') as f:\n",
    "        for star_label in stars.keys():\n",
    "            f.write(f'{row[(star_label, \"Az\")]} {row[(star_label, \"Alt\")]} {star_label}\\n')\n",
    "    cmd = sim_command.replace('__alt__', str(row[(\"Pointing\", \"Alt\")]))\n",
    "    cmd = cmd.replace('__az__', str(row[(\"Pointing\", \"Az\")]))\n",
    "    cmd = cmd.replace('__stars__', star_filename)\n",
    "    cmd = cmd.replace('__output__', f'{outputdir}/{index}.simtel.gz')\n",
    "    #logger.debug('simulation cmd\\n %s', cmd) \n",
    "    subprocess.run(cmd, shell=True, check=True, stdout=subprocess.PIPE, stderr=subprocess.PIPE)"
   ]
  },
  {
   "cell_type": "code",
   "execution_count": null,
   "metadata": {},
   "outputs": [],
   "source": [
    "sim_command = ('sbatch -p short -o /dev/null -e /dev/null ' +\n",
    "               ' --wrap \"/fefs/aswg/workspace/mykhailo.dalchenko/corsika_simtel/corsika7.7_simtelarray_2020-06-28/sim_telarray/bin/sim_telarray ' +\n",
    "               '-I/fefs/aswg/workspace/vadym.voitsekhovskyi/psf/lst-sim-config ' +\n",
    "               '-c /fefs/aswg/workspace/vadym.voitsekhovskyi/psf/lst-sim-config/array.cfg ' +\n",
    "               '-DNUM_TELESCOPES=1 -DNO_STEREO_TRIGGER=1 -Dpower_law=2.68 ' +\n",
    "               '-C telescope_altitude=80 -C telescope_azimuth=180 -C altitude=2158 ' +\n",
    "               '-C maximum_events=200, -C pedestal_events=0 ' +\n",
    "               '-C random_state=auto -C ATMOSPHERIC_TRANSMISSION=atm_trans_2158_1_3_2_0_0_0.1_0.1.dat ' +\n",
    "               '-C maximum_telescopes=1 -C stars=/fefs/aswg/workspace/vadym.voitsekhovskyi/psf/stars/10zenith_star.dat -C show=all ' +\n",
    "               'IMAGING_LIST imaging.lis ' +\n",
    "               '-o /fefs/aswg/workspace/vadym.voitsekhovskyi/psf/zenith20/test.simtel.gz ' +\n",
    "               '/fefs/aswg/workspace/vadym.voitsekhovskyi/psf/dummy100000.corsika.gz ')\n",
    "\n",
    "subrun = 0\n",
    "points_per_subrun = subrun_duration * sampling_frequency\n",
    "prefix = '/fefs/aswg/workspace/mykhailo.dalchenko/pointing/simulation/run7761_simulated_mispointing_stars_2.4arcsec_per_degree'\n",
    "for i, (index, row) in enumerate(pointing_df.iterrows()):\n",
    "    #print(f'Time: {index}, pointing Alt: {row[(\"Pointing\", \"Alt\")]}, Az: {row[(\"Pointing\", \"Az\")]}')\n",
    "    if i%points_per_subrun == 0:\n",
    "        subrun = subrun + 1\n",
    "    star_filename = f'{prefix}/subrun_{subrun}/stars/{index}.dat'\n",
    "    outputdir = f'{prefix}/subrun_{subrun}/output/'\n",
    "    os.makedirs(os.path.dirname(star_filename), exist_ok=True)\n",
    "    os.makedirs(os.path.dirname(outputdir), exist_ok=True)\n",
    "    with open(star_filename, 'w') as f:\n",
    "        for star_label in stars.keys():\n",
    "            f.write(f'{row[(star_label, \"Az\")]} {row[(star_label, \"Alt\")]} {star_label}\\n')\n",
    "    cmd = sim_command.replace('__alt__', str(row[(\"Pointing\", \"Alt\")]))\n",
    "    cmd = cmd.replace('__az__', str(row[(\"Pointing\", \"Az\")]))\n",
    "    cmd = cmd.replace('__stars__', star_filename)\n",
    "    cmd = cmd.replace('__output__', f'{outputdir}/{index}.simtel.gz')\n",
    "    #logger.debug('simulation cmd\\n %s', cmd) \n",
    "    subprocess.run(cmd, shell=True, check=True, stdout=subprocess.PIPE, stderr=subprocess.PIPE)"
   ]
  },
  {
   "cell_type": "code",
   "execution_count": null,
   "metadata": {},
   "outputs": [],
   "source": [
    "import os\n",
    "\n",
    "sim_command = ('sbatch -p short -o /dev/null -e /dev/null ' +\n",
    "               ' --wrap \"/fefs/aswg/workspace/mykhailo.dalchenko/corsika_simtel/corsika7.7_simtelarray_2020-06-28/sim_telarray/bin/sim_telarray ' +\n",
    "               '-I/fefs/aswg/workspace/vadym.voitsekhovskyi/psf/lst-sim-config ' +\n",
    "               '-c /fefs/aswg/workspace/vadym.voitsekhovskyi/psf/lst-sim-config/array.cfg ' +\n",
    "               '-DNUM_TELESCOPES=1 -DNO_STEREO_TRIGGER=1 -Dpower_law=2.68 ' +\n",
    "               '-C telescope_altitude=80 -C telescope_azimuth=180 -C altitude=2158 ' +\n",
    "               '-C maximum_events=200, -C pedestal_events=0 ' +\n",
    "               '-C random_state=auto -C ATMOSPHERIC_TRANSMISSION=atm_trans_2158_1_3_2_0_0_0.1_0.1.dat ' +\n",
    "               '-C maximum_telescopes=1 -C stars=/fefs/aswg/workspace/vadym.voitsekhovskyi/psf/stars/10zenith_star.dat -C show=all ' +\n",
    "               'IMAGING_LIST imaging.lis ' +\n",
    "               '-o /fefs/aswg/workspace/vadym.voitsekhovskyi/psf/zenith10/test.simtel.gz ' +\n",
    "               '/fefs/aswg/workspace/vadym.voitsekhovskyi/psf/dummy100000.corsika.gz ')\n",
    "\n",
    "job_name = 'star10deg'\n",
    "job_file = open(f\"/fefs/aswg/workspace/vadym.voitsekhovskyi/psf/jobs/{job_name}.job\", \"w\")\n",
    "job_file.writelines(\"#!/bin/bash\\n\")\n",
    "job_file.writelines(\"#BATCH --partition=short\\n\")\n",
    "job_file.writelines(\"#SBATCH --time=1:59:00\\n\")\n",
    "job_file.writelines(\"#SBATCH --ntasks=1\\n\")\n",
    "job_file.writelines(\"#SBATCH --mem-per-cpu=6000 # in MB\\n\")\n",
    "job_file.writelines(f\"#SBATCH --output=/fefs/aswg/workspace/vadym.voitsekhovskyi/psf/jobs/log/{job_name}.log\\n\")\n",
    "job_file.writelines(f\"#SBATCH --error=/fefs/aswg/workspace/vadym.voitsekhovskyi/psf/jobs/error/{job_name}.err\\n\")\n",
    "job_file.writelines(\"\\n\")\n",
    "job_file.writelines(sim_command)\n",
    "job_file.close()\n",
    "command = f\"sbatch /fefs/aswg/workspace/vadym.voitsekhovskyi/psf/jobs/{job_name}.job\"\n",
    "os.system(command)\n",
    "print(f\"Sbatch name {job_name} runned\")\n"
   ]
  },
  {
   "cell_type": "code",
   "execution_count": null,
   "metadata": {},
   "outputs": [],
   "source": [
    "type(sim_command)"
   ]
  }
 ],
 "metadata": {
  "kernelspec": {
   "display_name": "cta",
   "language": "python",
   "name": "python3"
  },
  "language_info": {
   "codemirror_mode": {
    "name": "ipython",
    "version": 3
   },
   "file_extension": ".py",
   "mimetype": "text/x-python",
   "name": "python",
   "nbconvert_exporter": "python",
   "pygments_lexer": "ipython3",
   "version": "3.11.6"
  }
 },
 "nbformat": 4,
 "nbformat_minor": 2
}
