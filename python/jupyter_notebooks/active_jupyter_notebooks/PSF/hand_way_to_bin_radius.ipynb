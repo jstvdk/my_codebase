{
 "cells": [
  {
   "cell_type": "code",
   "execution_count": null,
   "metadata": {},
   "outputs": [],
   "source": [
    "import numpy as np\n",
    "import matplotlib.pyplot as plt\n",
    "import os\n",
    "import seaborn as sns\n",
    "from scipy.optimize import curve_fit\n",
    "import glob\n",
    "from astropy.table import Table, vstack\n",
    "import pandas as pd\n",
    "import statsmodels.api as sm\n",
    "import pandas as pd\n",
    "from astropy.table import Table, vstack\n",
    "import glob as glob\n",
    "from datetime import datetime\n",
    "from collections import OrderedDict\n",
    "\n",
    "size_outside_cut = 500\n",
    "muon_efficiency_cut = 1\n",
    "min_impact = 2.2199933748101555\n",
    "max_impact = 9.983608702234397\n"
   ]
  },
  {
   "cell_type": "markdown",
   "metadata": {},
   "source": [
    "# Reweighting functions"
   ]
  },
  {
   "cell_type": "code",
   "execution_count": null,
   "metadata": {},
   "outputs": [],
   "source": [
    "def reweight_gaug(data, zenith):\n",
    "    zenith = np.deg2rad(zenith)\n",
    "    weights = np.ones(len(data))\n",
    "    weights = data['mc_energy']**-0.7 * (1/(1 + 1.1 * data['mc_energy'] * 1000 * np.cos(zenith)/115) + 0.054/(1 + 1.1 * data['mc_energy'] * 1000 * np.cos(zenith)/850))\n",
    "    return weights / np.sum(weights)\n",
    "\n",
    "def plot_reweighted_gaug(data, quantity, zenith=0, bins=50, range=(None, None), log=True, label=None, fit=False, fit_p0=None, fit_bounds=(-np.inf, np.inf), is_data = False):\n",
    "    if is_data:\n",
    "        weights = np.ones(len(data))/len(data)\n",
    "    else:\n",
    "        weights = reweight_gaug(data, zenith)\n",
    "    counts, bin_edges, patches = plt.hist(data[quantity], bins=bins, histtype='step', lw=2, log=log, label=label, weights=weights)\n",
    "    y_limits = plt.gca().get_ylim()\n",
    "    \n",
    "    if fit:\n",
    "        bin_centers = (bin_edges[:-1] + bin_edges[1:]) / 2\n",
    "        popt, pcov = curve_fit(fit, bin_centers, counts, p0=fit_p0, bounds=fit_bounds)\n",
    "        plt.plot(bin_centers, fit(bin_centers, *popt), label=f'Fit of {label}\\nFit parameters: {popt}')\n",
    "        plt.ylim(y_limits)\n",
    "    \n",
    "    plt.legend()\n",
    "    plt.xlim(*range)"
   ]
  },
  {
   "cell_type": "markdown",
   "metadata": {},
   "source": [
    "# Data processing functions"
   ]
  },
  {
   "cell_type": "code",
   "execution_count": null,
   "metadata": {},
   "outputs": [],
   "source": [
    "def read_and_process_fits(files):\n",
    "    dat = None\n",
    "    for muon_file in files:\n",
    "        dat2 = Table.read(muon_file, format='fits')\n",
    "        \n",
    "        # Convert columns to boolean if they exist\n",
    "        for col in ['good_ring', 'is_valid', 'parameters_at_limit']:\n",
    "            if col in dat2.colnames:\n",
    "                dat2[col] = dat2[col].astype(bool)\n",
    "        \n",
    "        # Stack the tables\n",
    "        dat = vstack([dat, dat2]) if dat is not None else dat2\n",
    "    \n",
    "    return dat\n",
    "\n",
    "# Define a function to filter the DataFrame\n",
    "def filter_dataframe(df, muon_efficiency_cut, size_outside_cut):\n",
    "    return df[\n",
    "        df['good_ring'] & \n",
    "        (df['muon_efficiency'] < muon_efficiency_cut) & \n",
    "        (df['size_outside'] < size_outside_cut)\n",
    "    ]\n",
    "\n"
   ]
  },
  {
   "cell_type": "markdown",
   "metadata": {},
   "source": [
    "# Simulations"
   ]
  },
  {
   "cell_type": "code",
   "execution_count": null,
   "metadata": {},
   "outputs": [],
   "source": [
    "# Process the first set of files\n",
    "listdir = glob.glob('/Users/vdk/muons2024/lapalma_simulations/proper_mc_config/nsbtune2024year_tuned_reflectivity_00025alignment/tables/*')\n",
    "dat = read_and_process_fits(listdir)\n",
    "df = dat.to_pandas()\n",
    "df_sim_00025_align = filter_dataframe(df, muon_efficiency_cut, size_outside_cut)\n",
    "\n",
    "\n",
    "listdir1 = glob.glob('/Users/vdk/muons2024/lapalma_simulations/proper_mc_config/nsbtune2024year_tuned_reflectivity/tables/*')\n",
    "listdir2 = glob.glob('/Users/vdk/muons2024/lapalma_simulations/for_paper/nsbtune2024year_no_outliers_additional_true/tables/*')\n",
    "listdir = listdir1 + listdir2\n",
    "dat = read_and_process_fits(listdir)\n",
    "df = dat.to_pandas()\n",
    "df_sim_00046_align = filter_dataframe(df, muon_efficiency_cut, size_outside_cut)\n",
    "\n",
    "\n",
    "listdir = glob.glob('/Users/vdk/muons2024/lapalma_simulations/proper_mc_config/psf_sim/nsbtune2024year_tuned_reflectivity_00092alignment/tables/*')\n",
    "dat = read_and_process_fits(listdir)\n",
    "df = dat.to_pandas()\n",
    "df_sim_0092_align = filter_dataframe(df, muon_efficiency_cut, size_outside_cut)\n",
    "\n",
    "\n",
    "listdir = glob.glob('/Users/vdk/muons2024/lapalma_simulations/proper_mc_config/nsbtune2024year_tuned_reflectivity_0015alignment/tables/*')\n",
    "dat = read_and_process_fits(listdir)\n",
    "df = dat.to_pandas()\n",
    "df_sim_0015_align = filter_dataframe(df, muon_efficiency_cut, size_outside_cut)\n",
    "\n",
    "listdir= glob.glob('/Users/vdk/muons2024/lapalma_simulations/proper_mc_config/psf_sim/nsbtune2024year_tuned_reflectivity_002alignment/tables/*')\n",
    "dat = read_and_process_fits(listdir)\n",
    "df = dat.to_pandas()\n",
    "df_sim_002_align = filter_dataframe(df, muon_efficiency_cut, size_outside_cut)\n",
    "\n",
    "listdir = glob.glob('/Users/vdk/muons2024/psf_work/focus_offset_0/tables/*')\n",
    "dat = read_and_process_fits(listdir)\n",
    "df = dat.to_pandas()\n",
    "df_sim_focus_offset0 = filter_dataframe(df, muon_efficiency_cut, size_outside_cut)"
   ]
  },
  {
   "cell_type": "markdown",
   "metadata": {},
   "source": [
    "# Data"
   ]
  },
  {
   "cell_type": "code",
   "execution_count": null,
   "metadata": {},
   "outputs": [],
   "source": [
    "listdir = glob.glob('/Users/vdk/muons2024/data_quality_winter_2024/tables/*')\n",
    "dat = read_and_process_fits(listdir)\n",
    "df = dat.to_pandas()\n",
    "df_winter_data = filter_dataframe(df, muon_efficiency_cut, size_outside_cut)"
   ]
  },
  {
   "cell_type": "code",
   "execution_count": null,
   "metadata": {},
   "outputs": [],
   "source": [
    "start_date_2024 = datetime.strptime(\"2024-01-01 00:00:00.0\", \"%Y-%m-%d %H:%M:%S.%f\").timestamp()\n",
    "end_date_2024 = datetime.strptime(\"2024-12-31 00:00:00.0\", \"%Y-%m-%d %H:%M:%S.%f\").timestamp()\n",
    "\n",
    "muon_files = glob.glob('/Users/vdk/Documents/DocumentsVadymMacBookWork/all_muon_fits/low_nsb_filter/*')\n",
    "for i, filename in enumerate(sorted(muon_files)):\n",
    "    print(i, filename)\n",
    "\n",
    "df_files = [\n",
    "    pd.read_csv(muon_file, na_values=['NA', '?']).query(\n",
    "        '(muon_efficiency < @muon_efficiency_cut) & '\n",
    "        '(size_outside < @size_outside_cut) & '\n",
    "        '(event_time >= @start_date_2024) & '\n",
    "        '(event_time <= @end_date_2024)'\n",
    "    )\n",
    "    for muon_file in sorted(muon_files)[10:]\n",
    "]\n",
    "\n",
    "df_good_data_real = pd.concat(df_files, ignore_index=True)\n",
    "df_good_data_real"
   ]
  },
  {
   "cell_type": "markdown",
   "metadata": {},
   "source": [
    "# Apply cuts"
   ]
  },
  {
   "cell_type": "code",
   "execution_count": null,
   "metadata": {},
   "outputs": [],
   "source": [
    "ring_completeness_cut = 0.9\n",
    "ring_containment_cut = 0\n",
    "min_radius_cut = 0\n",
    "max_radius_cut = 2\n",
    "ring_center_distance_cut = 0.75\n",
    "impact_distance_cut = 6.5\n",
    "\n",
    "def calculate_survival_percentage(df, df_cut):\n",
    "    return (len(df_cut) / len(df)) * 100\n",
    "\n",
    "def apply_cuts(df, completeness_cut, containment_cut, min_radius_cut, max_radius_cut, center_distance_cut, impact_distance_cut):\n",
    "    # Calculate the 20% quantile for ring_width\n",
    "    ring_width_quantile = df['ring_width'].quantile(0.2)\n",
    "    \n",
    "    return df[\n",
    "        (df['ring_completeness'] > completeness_cut) &\n",
    "        (df['ring_containment'] > containment_cut) &\n",
    "        (df['ring_radius'] > min_radius_cut) &\n",
    "        (df['ring_radius'] < max_radius_cut) &\n",
    "        (df['ring_center_x'].abs() < center_distance_cut) &\n",
    "        (df['ring_center_y'].abs() < center_distance_cut) &\n",
    "        (df['impact_parameter'] < impact_distance_cut) &\n",
    "        (df['ring_width'] < ring_width_quantile)  # Apply the cut on ring_width\n",
    "    ]\n",
    "\n",
    "\n",
    "df_sim_00025_cut = apply_cuts(df_sim_00025_align, ring_completeness_cut, ring_containment_cut, min_radius_cut, max_radius_cut, ring_center_distance_cut, impact_distance_cut)\n",
    "print(f\"Events survived for df_sim_00025_cut: {len(df_sim_00025_cut)} ({calculate_survival_percentage(df_sim_00025_align, df_sim_00025_cut):.2f}%)\")\n",
    "\n",
    "df_sim_00046_cut = apply_cuts(df_sim_00046_align, ring_completeness_cut, ring_containment_cut, min_radius_cut, max_radius_cut, ring_center_distance_cut, impact_distance_cut)\n",
    "print(f\"Events survived for df_sim_00043_cut: {len(df_sim_00046_cut)} ({calculate_survival_percentage(df_sim_00046_align, df_sim_00046_cut):.2f}%)\")\n",
    "\n",
    "df_sim_0092_cut = apply_cuts(df_sim_0092_align, ring_completeness_cut, ring_containment_cut, min_radius_cut, max_radius_cut, ring_center_distance_cut, impact_distance_cut)\n",
    "print(f\"Events survived for df_sim_0092_cut: {len(df_sim_0092_cut)} ({calculate_survival_percentage(df_sim_0092_align, df_sim_0092_cut):.2f}%)\")\n",
    "\n",
    "df_sim_0015_cut = apply_cuts(df_sim_0015_align, ring_completeness_cut, ring_containment_cut, min_radius_cut, max_radius_cut, ring_center_distance_cut, impact_distance_cut)\n",
    "print(f\"Events survived for df_sim_0015_cut: {len(df_sim_0015_cut)} ({calculate_survival_percentage(df_sim_0015_align, df_sim_0015_cut):.2f}%)\")\n",
    "\n",
    "df_sim_002_cut = apply_cuts(df_sim_002_align, ring_completeness_cut, ring_containment_cut, min_radius_cut, max_radius_cut, ring_center_distance_cut, impact_distance_cut)\n",
    "print(f\"Events survived for df_sim_002_cut: {len(df_sim_002_cut)} ({calculate_survival_percentage(df_sim_002_align, df_sim_002_cut):.2f}%)\")\n",
    "\n",
    "df_sim_focus_offset0_cut = apply_cuts(df_sim_focus_offset0, ring_completeness_cut, ring_containment_cut, min_radius_cut, max_radius_cut, ring_center_distance_cut, impact_distance_cut)\n",
    "print(f\"Events survived for df_sim_focus_offset0_cut: {len(df_sim_focus_offset0_cut)} ({calculate_survival_percentage(df_sim_focus_offset0, df_sim_focus_offset0_cut):.2f}%)\")\n",
    "\n",
    "df_data_cut = apply_cuts(df_good_data_real, ring_completeness_cut, ring_containment_cut, min_radius_cut, max_radius_cut, ring_center_distance_cut, impact_distance_cut)\n",
    "print(f\"Events survived for df_data_cut: {len(df_data_cut)} ({calculate_survival_percentage(df_good_data_real, df_data_cut):.2f}%)\")\n",
    "\n",
    "df_winter_2024_cut = apply_cuts(df_winter_data, ring_completeness_cut, ring_containment_cut, min_radius_cut, max_radius_cut, ring_center_distance_cut, impact_distance_cut)\n",
    "print(f\"Events survived for df_winter_2024_cut: {len(df_winter_2024_cut)} ({calculate_survival_percentage(df_winter_data, df_winter_2024_cut):.2f}%)\")"
   ]
  },
  {
   "cell_type": "code",
   "execution_count": null,
   "metadata": {},
   "outputs": [],
   "source": [
    "# print(f\"Winter data ring radius min and max: {min(df_winter_data['ring_radius']):.3f}, {max(df_winter_data['ring_radius']):.3f}\")\n",
    "# print(f\"For 0.0046 deg radius min and max = {min(df_sim_00046_align['ring_radius']):.3f} and {max(df_sim_00046_align['ring_radius']):.3f}\")\n",
    "# print(f\"For 0.0092 deg radius min and max = {min(df_sim_0092_align['ring_radius']):.3f} and {max(df_sim_0092_align['ring_radius']):.3f}\")\n",
    "# print(f\"For 0.015 deg radius min and max = {min(df_sim_0015_align['ring_radius']):.3f} and {max(df_sim_0015_align['ring_radius']):.3f}\")"
   ]
  },
  {
   "cell_type": "markdown",
   "metadata": {},
   "source": [
    "# Apply ring radius cut"
   ]
  },
  {
   "cell_type": "code",
   "execution_count": null,
   "metadata": {},
   "outputs": [],
   "source": [
    "def apply_radius_cut(df, min_radius_cut, max_radius_cut):\n",
    "    return df[\n",
    "        (df['ring_radius'] > min_radius_cut) &\n",
    "        (df['ring_radius'] < max_radius_cut)\n",
    "    ]"
   ]
  },
  {
   "cell_type": "code",
   "execution_count": null,
   "metadata": {},
   "outputs": [],
   "source": [
    "min_radius_cut = 1.15\n",
    "max_radius_cut = 1.23\n",
    "\n",
    "df_sim_00025_radius_cut = apply_radius_cut(df_sim_00025_cut, min_radius_cut, max_radius_cut)\n",
    "df_sim_00046_radius_cut = apply_radius_cut(df_sim_00046_cut, min_radius_cut, max_radius_cut)\n",
    "df_sim_0092_radius_cut = apply_radius_cut(df_sim_0092_cut, min_radius_cut, max_radius_cut)\n",
    "df_sim_0015_radius_cut = apply_radius_cut(df_sim_0015_cut, min_radius_cut, max_radius_cut)\n",
    "df_sim_002_radius_cut = apply_radius_cut(df_sim_002_cut, min_radius_cut, max_radius_cut)\n",
    "df_sim_focus_offset0_radius_cut = apply_radius_cut(df_sim_focus_offset0_cut, min_radius_cut, max_radius_cut)\n",
    "\n",
    "df_winter_2024_radius_cut = apply_radius_cut(df_winter_2024_cut, min_radius_cut, max_radius_cut)\n",
    "df_data_cut_radius_cut = apply_radius_cut(df_data_cut, min_radius_cut, max_radius_cut)\n",
    "\n",
    "print(f\"2024 Winter Data ring radius min and max: {min(df_winter_2024_radius_cut['ring_radius']):.3f}, {max(df_winter_2024_radius_cut['ring_radius']):.3f}\")\n",
    "print(f\"All 2024 Data ring radius min and max: {min(df_data_cut_radius_cut['ring_radius']):.3f}, {max(df_data_cut_radius_cut['ring_radius']):.3f}\")\n",
    "\n",
    "print(f\"For 0.0025 deg radius min and max = {min(df_sim_00025_radius_cut['ring_radius']):.3f} and {max(df_sim_00025_radius_cut['ring_radius']):.3f}\")\n",
    "print(f\"For 0.0046 deg radius min and max = {min(df_sim_00046_radius_cut['ring_radius']):.3f} and {max(df_sim_00046_radius_cut['ring_radius']):.3f}\")\n",
    "print(f\"For 0.0092 deg radius min and max = {min(df_sim_0092_radius_cut['ring_radius']):.3f} and {max(df_sim_0092_radius_cut['ring_radius']):.3f}\")\n",
    "print(f\"For 0.015 deg radius min and max = {min(df_sim_0015_radius_cut['ring_radius']):.3f} and {max(df_sim_0015_radius_cut['ring_radius']):.3f}\")\n",
    "print(f\"For 0.002 deg radius min and max = {min(df_sim_002_radius_cut['ring_radius']):.3f} and {max(df_sim_002_radius_cut['ring_radius']):.3f}\")\n",
    "print(f\"For focus offset 0 deg radius min and max = {min(df_sim_focus_offset0_radius_cut['ring_radius']):.3f} and {max(df_sim_focus_offset0_radius_cut['ring_radius']):.3f}\")"
   ]
  },
  {
   "cell_type": "markdown",
   "metadata": {},
   "source": [
    "## Bin definition"
   ]
  },
  {
   "cell_type": "code",
   "execution_count": null,
   "metadata": {},
   "outputs": [],
   "source": [
    "bin_edges = max_radius_cut - min_radius_cut\n",
    "bin_bins = np.linspace(min_radius_cut, max_radius_cut, 10)\n",
    "bin_centers = (bin_bins[1:] + bin_bins[:-1]) / 2"
   ]
  },
  {
   "cell_type": "markdown",
   "metadata": {},
   "source": [
    "# Apply binning to the ring radius"
   ]
  },
  {
   "cell_type": "code",
   "execution_count": null,
   "metadata": {},
   "outputs": [],
   "source": [
    "df_winter_2024_radius_cut['radius_bin'] = pd.cut(df_winter_2024_radius_cut['ring_radius'], bins=bin_bins, include_lowest=True)\n",
    "df_data_cut_radius_cut['radius_bin'] = pd.cut(df_data_cut_radius_cut['ring_radius'], bins=bin_bins, include_lowest=True)\n",
    "\n",
    "df_sim_00025_radius_cut['radius_bin'] = pd.cut(df_sim_00025_radius_cut['ring_radius'], bins=bin_bins, include_lowest=True)\n",
    "df_sim_00046_radius_cut['radius_bin'] = pd.cut(df_sim_00046_radius_cut['ring_radius'], bins=bin_bins, include_lowest=True)\n",
    "df_sim_0092_radius_cut['radius_bin'] = pd.cut(df_sim_0092_radius_cut['ring_radius'], bins=bin_bins, include_lowest=True)\n",
    "df_sim_0015_radius_cut['radius_bin'] = pd.cut(df_sim_0015_radius_cut['ring_radius'], bins=bin_bins, include_lowest=True)\n",
    "df_sim_002_radius_cut['radius_bin'] = pd.cut(df_sim_002_radius_cut['ring_radius'], bins=bin_bins, include_lowest=True)\n",
    "df_sim_focus_offset0_radius_cut['radius_bin'] = pd.cut(df_sim_focus_offset0_radius_cut['ring_radius'], bins=bin_bins, include_lowest=True)"
   ]
  },
  {
   "cell_type": "markdown",
   "metadata": {},
   "source": [
    "# Ring width grouping by radius bins"
   ]
  },
  {
   "cell_type": "code",
   "execution_count": null,
   "metadata": {},
   "outputs": [],
   "source": [
    "data_ring_width_binned = df_winter_2024_radius_cut.groupby('radius_bin')['ring_width'].agg(['mean', 'sum', 'count']).reset_index()\n",
    "all_data_ring_width_binned = df_data_cut_radius_cut.groupby('radius_bin')['ring_width'].agg(['mean', 'sum', 'count']).reset_index()\n",
    "\n",
    "sim_00025_width_binned = df_sim_00025_radius_cut.groupby('radius_bin')['ring_width'].agg(['mean', 'sum', 'count']).reset_index()\n",
    "sim_00046_width_binned = df_sim_00046_radius_cut.groupby('radius_bin')['ring_width'].agg(['mean', 'sum', 'count']).reset_index()\n",
    "sim_0092_width_binned = df_sim_0092_radius_cut.groupby('radius_bin')['ring_width'].agg(['mean', 'sum', 'count']).reset_index()\n",
    "sim_0015_width_binned = df_sim_0015_radius_cut.groupby('radius_bin')['ring_width'].agg(['mean', 'sum', 'count']).reset_index()\n",
    "sim_002_width_binned = df_sim_002_radius_cut.groupby('radius_bin')['ring_width'].agg(['mean', 'sum', 'count']).reset_index()\n",
    "sim_focus_offset0_width_binned = df_sim_focus_offset0_radius_cut.groupby('radius_bin')['ring_width'].agg(['mean', 'sum', 'count']).reset_index()\n"
   ]
  },
  {
   "cell_type": "markdown",
   "metadata": {},
   "source": [
    "## Adding statistical errors"
   ]
  },
  {
   "cell_type": "code",
   "execution_count": null,
   "metadata": {},
   "outputs": [],
   "source": [
    "data_ring_width_binned['error'] = data_ring_width_binned['mean'] / np.sqrt(data_ring_width_binned['count'])\n",
    "all_data_ring_width_binned['error'] = all_data_ring_width_binned['mean'] / np.sqrt(all_data_ring_width_binned['count'])\n",
    "\n",
    "sim_00025_width_binned['error'] = sim_00025_width_binned['mean'] / np.sqrt(sim_00025_width_binned['count'])\n",
    "sim_00046_width_binned['error'] = sim_00046_width_binned['mean'] / np.sqrt(sim_00046_width_binned['count'])\n",
    "sim_0092_width_binned['error'] = sim_0092_width_binned['mean'] / np.sqrt(sim_0092_width_binned['count'])\n",
    "sim_0015_width_binned['error'] = sim_0015_width_binned['mean'] / np.sqrt(sim_0015_width_binned['count'])\n",
    "sim_002_width_binned['error'] = sim_002_width_binned['mean'] / np.sqrt(sim_002_width_binned['count'])\n",
    "sim_focus_offset0_width_binned['error'] = sim_focus_offset0_width_binned['mean'] / np.sqrt(sim_focus_offset0_width_binned['count'])"
   ]
  },
  {
   "cell_type": "markdown",
   "metadata": {},
   "source": [
    "# Check what is going on"
   ]
  },
  {
   "cell_type": "code",
   "execution_count": null,
   "metadata": {},
   "outputs": [],
   "source": [
    "data_ring_width_binned"
   ]
  },
  {
   "cell_type": "markdown",
   "metadata": {},
   "source": [
    "# Errorbar plot with statistical error"
   ]
  },
  {
   "cell_type": "code",
   "execution_count": null,
   "metadata": {},
   "outputs": [],
   "source": [
    "plt.figure(figsize=(11, 7.5)) \n",
    "\n",
    "# plt.errorbar(\n",
    "#     bin_centers,\n",
    "#     data_ring_width_binned['mean'] / bin_centers,\n",
    "#     yerr=data_ring_width_binned['error'] / bin_centers,\n",
    "#     fmt='o',\n",
    "#     label='Good Data Winter 2024',\n",
    "#     color='gray',\n",
    "#     capsize=5  # Adds caps to the error bars\n",
    "# )\n",
    "\n",
    "plt.errorbar(\n",
    "    bin_centers,\n",
    "    all_data_ring_width_binned['mean'] / bin_centers,\n",
    "    yerr=all_data_ring_width_binned['error'] / bin_centers,\n",
    "    fmt='o',\n",
    "    label='All Data 2024',\n",
    "    color='black',\n",
    "    capsize=5\n",
    ")\n",
    "\n",
    "plt.errorbar(\n",
    "    bin_centers,\n",
    "    sim_00025_width_binned['mean'] / bin_centers,\n",
    "    yerr=sim_00025_width_binned['error'] / bin_centers,\n",
    "    fmt='o',\n",
    "    label='MC 0.0025',\n",
    "    color='purple',\n",
    "    capsize=5\n",
    ")\n",
    "\n",
    "plt.errorbar(\n",
    "    bin_centers,\n",
    "    sim_00046_width_binned['mean'] / bin_centers,\n",
    "    yerr=sim_00046_width_binned['error'] / bin_centers,\n",
    "    fmt='o',\n",
    "    label='MC 0.0046',\n",
    "    color='orange',\n",
    "    capsize=5\n",
    ")\n",
    "\n",
    "\n",
    "plt.errorbar(\n",
    "    bin_centers,\n",
    "    sim_0092_width_binned['mean'] / bin_centers,\n",
    "    yerr=sim_0092_width_binned['error'] / bin_centers,\n",
    "    fmt='o',\n",
    "    label='MC 0.0092',\n",
    "    color='green',\n",
    "    capsize=5\n",
    ")\n",
    "\n",
    "\n",
    "plt.errorbar(\n",
    "    bin_centers,\n",
    "    sim_0015_width_binned['mean'] / bin_centers,\n",
    "    yerr=sim_0015_width_binned['error'] / bin_centers,\n",
    "    fmt='o',\n",
    "    label='MC 0.015',\n",
    "    color='red',\n",
    "    capsize=5\n",
    ")\n",
    "\n",
    "plt.errorbar(\n",
    "    bin_centers,\n",
    "    sim_002_width_binned['mean'] / bin_centers,\n",
    "    yerr=sim_002_width_binned['error'] / bin_centers,\n",
    "    fmt='o',\n",
    "    label='MC 0.02',\n",
    "    color='blue',\n",
    "    capsize=5\n",
    ")\n",
    "\n",
    "# plt.errorbar(\n",
    "#     bin_centers,\n",
    "#     sim_focus_offset0_width_binned['mean'] / bin_centers,\n",
    "#     yerr=sim_focus_offset0_width_binned['error'] / bin_centers,\n",
    "#     fmt='o',\n",
    "#     label='MC Focus Offset 0',\n",
    "#     color='brown',\n",
    "#     capsize=5\n",
    "# )\n",
    "\n",
    "plt.xlabel('Ring Radius (bin centers)')\n",
    "plt.ylabel('Mean Ring Width / Radius')\n",
    "plt.title('Mean Ring Width per Radius Bin with Statistical Errors')\n",
    "plt.legend()\n",
    "plt.ylim(0.01, 0.06)\n",
    "plt.grid(alpha=0.6)\n",
    "plt.tight_layout()  # Adjusts subplot params for better layout\n",
    "plt.show()"
   ]
  },
  {
   "cell_type": "markdown",
   "metadata": {},
   "source": [
    "# Regression line"
   ]
  },
  {
   "cell_type": "code",
   "execution_count": null,
   "metadata": {},
   "outputs": [],
   "source": [
    "# Organize datasets into a list of dictionaries\n",
    "datasets = [\n",
    "    {'df': data_ring_width_binned, 'label': 'Data', 'color': 'gray'},\n",
    "    {'df': all_data_ring_width_binned, 'label': 'All Data 2024 year', 'color': 'black'},\n",
    "    {'df': sim_00025_width_binned, 'label': 'MC 0.0025', 'color': 'purple'},\n",
    "    {'df': sim_00046_width_binned, 'label': 'MC 0.0046', 'color': 'orange'},\n",
    "    {'df': sim_0092_width_binned, 'label': 'MC 0.0092', 'color': 'green'},\n",
    "    {'df': sim_0015_width_binned, 'label': 'MC 0.015', 'color': 'red'},\n",
    "    {'df': sim_002_width_binned, 'label': 'MC 0.02', 'color': 'blue'},\n",
    "    {'df': sim_focus_offset0_width_binned, 'label': 'MC Focus Offset 0', 'color': 'brown'}\n",
    "]\n",
    "\n",
    "datasets = [\n",
    "    {'df': all_data_ring_width_binned, 'label': 'All Data 2024 year', 'color': 'black'},\n",
    "    {'df': sim_00025_width_binned, 'label': 'MC 0.0025', 'color': 'purple'},\n",
    "    {'df': sim_00046_width_binned, 'label': 'MC 0.0046', 'color': 'orange'},\n",
    "    {'df': sim_0092_width_binned, 'label': 'MC 0.0092', 'color': 'green'},\n",
    "    {'df': sim_0015_width_binned, 'label': 'MC 0.015', 'color': 'red'},\n",
    "    {'df': sim_002_width_binned, 'label': 'MC 0.02', 'color': 'blue'},\n",
    "]\n",
    "\n",
    "# Initialize the plot\n",
    "plt.figure(figsize=(11, 7.5))\n",
    "\n",
    "# Iterate over each dataset to plot error bars and regression lines\n",
    "for dataset in datasets:\n",
    "    df = dataset['df']\n",
    "    label = dataset['label']\n",
    "    color = dataset['color']\n",
    "    \n",
    "    # Extract x and y values\n",
    "    x = bin_centers\n",
    "    y = df['mean'] / x\n",
    "    y_err = df['error'] / x\n",
    "    \n",
    "    # Plot data points with error bars\n",
    "    plt.errorbar(\n",
    "        x,\n",
    "        y,\n",
    "        yerr=y_err,\n",
    "        fmt='o',\n",
    "        label=label,\n",
    "        color=color,\n",
    "        capsize=5\n",
    "    )\n",
    "    \n",
    "    # Perform linear regression (degree=1)\n",
    "    slope, intercept = np.polyfit(x, y, 1)\n",
    "    \n",
    "    # Generate y-values for the regression line\n",
    "    y_fit = slope * x + intercept\n",
    "    \n",
    "    # Plot the regression line\n",
    "    plt.plot(x, y_fit, color=color, linestyle='--')\n",
    "\n",
    "# Adjust legend to avoid duplicate entries\n",
    "handles, labels = plt.gca().get_legend_handles_labels()\n",
    "by_label = OrderedDict(zip(labels, handles))\n",
    "plt.legend(by_label.values(), by_label.keys())\n",
    "\n",
    "# Customize the plot\n",
    "plt.xlabel('Ring Radius (bin centers)')\n",
    "plt.ylabel('Mean Ring Width / Radius')\n",
    "plt.ylim(0.01, 0.06)\n",
    "plt.title(f'min/max radius cut = {min_radius_cut}/{max_radius_cut}, completeness = {ring_completeness_cut} center distance cut < {ring_center_distance_cut}, impact distance cut < {impact_distance_cut}')\n",
    "plt.grid(alpha=0.3)\n",
    "plt.tight_layout()  # Adjust layout for better spacing\n",
    "plt.show()\n"
   ]
  },
  {
   "cell_type": "code",
   "execution_count": null,
   "metadata": {},
   "outputs": [],
   "source": []
  },
  {
   "cell_type": "markdown",
   "metadata": {},
   "source": [
    "# Reweighting of ring radius"
   ]
  },
  {
   "cell_type": "code",
   "execution_count": null,
   "metadata": {},
   "outputs": [],
   "source": [
    "plt.figure(figsize=(12, 8))\n",
    "\n",
    "plot_reweighted_gaug(df_data_cut_radius_cut, 'ring_radius', zenith=10, is_data=True, label = 'All 2024 Data')\n",
    "#plot_reweighted_gaug(df_winter_2024_radius_cut, 'ring_radius', zenith=10, is_data=True, label = 'Winter 2024 Good Quality Data')\n",
    "plot_reweighted_gaug(df_sim_00025_radius_cut, 'ring_radius', zenith=10, is_data=False, label = 'Sim with 0.0025 deg random alignment (reference)')\n",
    "plot_reweighted_gaug(df_sim_00046_radius_cut, 'ring_radius', zenith=10, is_data=False, label = 'Sim with 0.0046 deg random alignment')\n",
    "plot_reweighted_gaug(df_sim_0015_radius_cut, 'ring_radius', zenith=10, is_data=False, label = 'Sim with 0.015 deg random alignment')\n",
    "\n",
    "plt.xlabel('Ring radius')\n",
    "plt.ylabel('Normalized counts')"
   ]
  },
  {
   "cell_type": "code",
   "execution_count": null,
   "metadata": {},
   "outputs": [],
   "source": [
    "z,x,c = plt.hist(df_sim_00046_cut['ring_radius'], bins=100, density=True, histtype='step', lw=2, label='Sim with 0.0046 deg random alignment')\n",
    "z,x,c = plt.hist(df_sim_0015_cut['ring_radius'], bins=100, density=True, histtype='step', lw=2, label='Sim with 0.015 deg random alignment and focus offset=0')"
   ]
  },
  {
   "cell_type": "markdown",
   "metadata": {},
   "source": [
    "# Plot with point displacement"
   ]
  },
  {
   "cell_type": "code",
   "execution_count": null,
   "metadata": {},
   "outputs": [],
   "source": [
    "# Calculate Errors\n",
    "data_ring_width_binned['error'] = data_ring_width_binned['mean'] / np.sqrt(data_ring_width_binned['count'])\n",
    "sim_00046_width_binned['error'] = sim_00046_width_binned['mean'] / np.sqrt(sim_00046_width_binned['count'])\n",
    "sim_0092_width_binned['error'] = sim_0092_width_binned['mean'] / np.sqrt(sim_0092_width_binned['count'])\n",
    "sim_0015_width_binned['error'] = sim_0015_width_binned['mean'] / np.sqrt(sim_0015_width_binned['count'])\n",
    "\n",
    "# Define Offsets\n",
    "num_datasets = 4  # Data + 3 MC simulations\n",
    "total_width = 0.01   # Total offset range\n",
    "offset_step = total_width / (num_datasets - 1)  # e.g., 4 / 3 ≈ 1.333\n",
    "offsets = np.linspace(-total_width / 2, total_width / 2, num_datasets)\n",
    "# offsets = [-2.0, -0.666..., +0.666..., +2.0]\n",
    "\n",
    "# Assign each dataset an offset\n",
    "datasets = [\n",
    "    {'df': data_ring_width_binned, 'label': 'Data', 'color': 'darkblue'},\n",
    "    {'df': sim_00046_width_binned, 'label': 'MC 0.0046', 'color': 'orange'},\n",
    "    {'df': sim_0092_width_binned, 'label': 'MC 0.0092', 'color': 'green'},\n",
    "    {'df': sim_0015_width_binned, 'label': 'MC 0.015', 'color': 'red'}\n",
    "]\n",
    "\n",
    "plt.figure(figsize=(10, 6))\n",
    "\n",
    "for dataset, offset in zip(datasets, offsets):\n",
    "    shifted_bin_centers = bin_centers + offset  # Apply offset\n",
    "    plt.errorbar(\n",
    "        shifted_bin_centers,\n",
    "        dataset['df']['mean'] / bin_centers,\n",
    "        yerr=dataset['df']['error'] / bin_centers,\n",
    "        fmt='o',\n",
    "        label=dataset['label'],\n",
    "        color=dataset['color'],\n",
    "        capsize=5  # Adds caps to the error bars\n",
    "    )\n",
    "\n",
    "# Customize the Plot\n",
    "plt.xlabel('Ring Radius (bin centers)')\n",
    "plt.ylabel('Mean Ring Width / Radius')\n",
    "plt.title('Mean Ring Width per Radius Bin with Statistical Errors')\n",
    "plt.legend()\n",
    "plt.grid(True)\n",
    "#plt.xticks(bin_centers, bin_bins[:-1] + np.diff(bin_bins) / 2)  # Ensures x-ticks are at bin centers\n",
    "plt.tight_layout()  # Adjusts subplot params for better layout\n",
    "plt.show()"
   ]
  }
 ],
 "metadata": {
  "kernelspec": {
   "display_name": "cta-dev",
   "language": "python",
   "name": "python3"
  },
  "language_info": {
   "codemirror_mode": {
    "name": "ipython",
    "version": 3
   },
   "file_extension": ".py",
   "mimetype": "text/x-python",
   "name": "python",
   "nbconvert_exporter": "python",
   "pygments_lexer": "ipython3",
   "version": "3.10.14"
  }
 },
 "nbformat": 4,
 "nbformat_minor": 2
}
