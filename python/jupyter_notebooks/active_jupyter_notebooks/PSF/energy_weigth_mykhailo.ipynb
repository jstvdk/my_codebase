{
 "cells": [
  {
   "cell_type": "code",
   "execution_count": null,
   "metadata": {},
   "outputs": [],
   "source": [
    "import copy \n",
    "import os\n",
    "import numpy as np\n",
    "import matplotlib.pyplot as plt\n",
    "from functools import wraps\n",
    "\n",
    "from astropy.table import Table, vstack\n",
    "\n",
    "import pandas as pd\n",
    "from scipy.optimize import curve_fit"
   ]
  },
  {
   "cell_type": "code",
   "execution_count": null,
   "metadata": {},
   "outputs": [],
   "source": [
    "def get_data(basedir):\n",
    "    def _read_files(basedir):\n",
    "        for index, f in enumerate(os.listdir(basedir)):\n",
    "            if f.endswith('.fits'):\n",
    "                tt = Table.read(os.path.join(basedir, f), format='fits')\n",
    "                if len(tt):\n",
    "                    yield tt\n",
    "    return vstack(list(_read_files(basedir)))"
   ]
  },
  {
   "cell_type": "code",
   "execution_count": null,
   "metadata": {},
   "outputs": [],
   "source": [
    "simulations = get_data('./simulations')"
   ]
  },
  {
   "cell_type": "code",
   "execution_count": null,
   "metadata": {},
   "outputs": [],
   "source": [
    "good_ring_mask = simulations['good_ring']>0"
   ]
  },
  {
   "cell_type": "code",
   "execution_count": null,
   "metadata": {},
   "outputs": [],
   "source": [
    "simulations"
   ]
  },
  {
   "cell_type": "code",
   "execution_count": null,
   "metadata": {},
   "outputs": [],
   "source": [
    "def plot_spectrum(data, bins=100, range=None, log=True, label=None, fit=False, fit_p0=None, fit_bounds=(-np.inf, np.inf)):\n",
    "    counts, bin_edges, patches = plt.hist(data['mc_energy'], bins=bins, histtype='step', lw=2, log=log, label=label)\n",
    "    y_limits = plt.gca().get_ylim()\n",
    "    if fit:\n",
    "        bin_centers = (bin_edges[:-1] + bin_edges[1:]) / 2\n",
    "        popt, pcov = curve_fit(fit, bin_centers, counts, p0=fit_p0, bounds=fit_bounds)\n",
    "        plt.plot(bin_centers, fit(bin_centers, *popt), label=f'Fit of {label}\\nFit parameters: {popt}')\n",
    "        plt.ylim(y_limits)\n",
    "    plt.legend()\n",
    "    plt.xlim(*range)\n",
    "\n",
    "plot_spectrum(simulations[good_ring_mask], bins=200, range=(0, 0.1), log=True, label='good_ring', fit=lambda x, a, b: a*x**b)\n",
    "plot_spectrum(simulations, bins=200, range=(0, 1), log=True, label='all rings', fit=lambda x, a, b: a*x**b)"
   ]
  },
  {
   "cell_type": "code",
   "execution_count": null,
   "metadata": {},
   "outputs": [],
   "source": [
    "def reweight(data, spectral_index):\n",
    "    weights = data['mc_energy']**spectral_index\n",
    "    return weights/np.sum(weights)\n",
    "\n",
    "def plot_reweighted_spectrum(data, spectral_index, bins=100, range=None, log=True, label=None, fit=False, fit_p0=None, fit_bounds=(-np.inf, np.inf)):\n",
    "    weights = reweight(data, spectral_index)\n",
    "    counts, bin_edges, patches = plt.hist(data['mc_energy'], bins=bins, histtype='step', lw=2, log=log, label=label, weights=weights)\n",
    "    y_limits = plt.gca().get_ylim()\n",
    "    if fit:\n",
    "        bin_centers = (bin_edges[:-1] + bin_edges[1:]) / 2\n",
    "        popt, pcov = curve_fit(fit, bin_centers, counts, p0=fit_p0, bounds=fit_bounds)\n",
    "        plt.plot(bin_centers, fit(bin_centers, *popt), label=f'Fit of {label}\\nFit parameters: {popt}')\n",
    "        plt.ylim(y_limits)\n",
    "    plt.legend()\n",
    "    plt.xlim(*range)\n",
    "\n",
    "    return counts, bin_edges\n",
    "\n",
    "reweighted_counts, bin_edges = plot_reweighted_spectrum(simulations[good_ring_mask], -0.7, bins=200, range=(0, 1), log=True, label='Good Rings reweighted to -2.7', fit=lambda x, a, b: a*x**b, fit_p0=(1, -2.7))\n",
    "counts, bin_edges = plot_reweighted_spectrum(simulations[good_ring_mask], 0, bins=200, range=(0, 1), log=True, label='Good Rings', fit=lambda x, a, b: a*x**b)"
   ]
  },
  {
   "cell_type": "code",
   "execution_count": null,
   "metadata": {},
   "outputs": [],
   "source": [
    "plt.rcParams['figure.figsize'] = [10, 5]\n",
    "def reweight_broken(data, energy_bands):\n",
    "    weights = np.ones(len(data))\n",
    "    for (e0, e1, spectral_index) in energy_bands:\n",
    "        mask = (data['mc_energy'] >= e0) & (data['mc_energy'] < e1)\n",
    "        weights[mask] = data['mc_energy'][mask]**spectral_index\n",
    "    return weights / np.sum(weights)\n",
    "\n",
    "def plot_reweighted_quantity(data, quantity, energy_bands=[], bins=100, range=(None, None), log=True, label=None, fit=False, fit_p0=None, fit_bounds=(-np.inf, np.inf)):\n",
    "    if not energy_bands:\n",
    "        weights = np.ones(len(data))/len(data)\n",
    "    else:\n",
    "        weights = reweight_broken(data, energy_bands)\n",
    "    \n",
    "    counts, bin_edges, patches = plt.hist(data[quantity], bins=bins, histtype='step', lw=2, log=log, label=label, weights=weights)\n",
    "    y_limits = plt.gca().get_ylim()\n",
    "    \n",
    "    if fit:\n",
    "        bin_centers = (bin_edges[:-1] + bin_edges[1:]) / 2\n",
    "        popt, pcov = curve_fit(fit, bin_centers, counts, p0=fit_p0, bounds=fit_bounds)\n",
    "        plt.plot(bin_centers, fit(bin_centers, *popt), label=f'Fit of {label}\\nFit parameters: {popt}')\n",
    "        plt.ylim(y_limits)\n",
    "    \n",
    "    plt.legend()\n",
    "    plt.xlim(*range)\n",
    "    #plt.show()\n",
    "\n",
    "# Example usage\n",
    "# energy_bands = [(0.0, 0.01, -0.12), (0.01, 0.02, -0.46), (0.02, np.inf, -0.7)]  # Define energy bands and corresponding spectral indices\n",
    "energy_bands = [(0.0, 0.02, -0.46), (0.02, np.inf, -0.7)]  # Define energy bands and corresponding spectral indices\n",
    "\n",
    "plot_reweighted_quantity(simulations[good_ring_mask], 'ring_radius', bins=200, log=False, label='Good Rings')\n",
    "plot_reweighted_quantity(simulations[good_ring_mask], 'ring_radius', energy_bands=[(0.0, np.inf, -0.7)], bins=200, log=False, label='Good Rings reweighted to -0.7')\n",
    "plot_reweighted_quantity(simulations[good_ring_mask], 'ring_radius', energy_bands=energy_bands, bins=200, log=False, label='Good Rings reweighted to different indices')\n",
    "# plot_reweighted_quantity(simulations[good_ring_mask], 'ring_radius', energy_bands=[(0.0, np.inf, -1.0)], bins=200, log=False, label='Good Rings reweighted to -1.0')\n",
    "# plot_reweighted_quantity(simulations[good_ring_mask], 'ring_radius', energy_bands=[(0.0, np.inf, -0.12)], bins=200, log=False, label='Good Rings reweighted to -0.12')\n",
    "# plot_reweighted_quantity(simulations[good_ring_mask], 'ring_radius', energy_bands=[(0.0, np.inf, -0.46)], bins=200, log=False, label='Good Rings reweighted to -0.46')\n",
    "\n",
    "\n"
   ]
  },
  {
   "cell_type": "code",
   "execution_count": null,
   "metadata": {},
   "outputs": [],
   "source": [
    "plot_reweighted_quantity(simulations[good_ring_mask], 'mc_energy', bins=200, log=True, label='Good Rings')\n",
    "plot_reweighted_quantity(simulations[good_ring_mask], 'mc_energy', energy_bands=[(0.0, np.inf, -0.7)], bins=200, log=True, label='Good Rings reweighted to -0.7')\n",
    "plot_reweighted_quantity(simulations[good_ring_mask], 'mc_energy', energy_bands=energy_bands, bins=200, log=True, label='Good Rings reweighted to different indices')"
   ]
  },
  {
   "cell_type": "code",
   "execution_count": null,
   "metadata": {},
   "outputs": [],
   "source": [
    "reweighting_options = [\n",
    "    [(0.0, np.inf, -0.12),],\n",
    "    [(0.0, np.inf, -0.46),],\n",
    "    [(0.0, np.inf, -0.7),],\n",
    "    [(0.0, 0.02, -0.46), (0.02, np.inf, -0.7)],\n",
    "]\n",
    "\n",
    "for reweighting_option in reweighting_options:\n",
    "    weights = reweight_broken(simulations[good_ring_mask], reweighting_option)\n",
    "    plt.hist(weights, bins=100, histtype='step', lw=2, log=True, label=f'{reweighting_option}')\n",
    "    plt.legend()"
   ]
  },
  {
   "cell_type": "code",
   "execution_count": null,
   "metadata": {},
   "outputs": [],
   "source": [
    "for reweighting_option in reweighting_options:\n",
    "    weights = reweight_broken(simulations[good_ring_mask], reweighting_option)\n",
    "    plt.scatter(simulations[good_ring_mask]['mc_energy'], weights, label=f'{reweighting_option}')\n",
    "    plt.legend()"
   ]
  },
  {
   "cell_type": "code",
   "execution_count": null,
   "metadata": {},
   "outputs": [],
   "source": [
    "def reweight_gaug(data, zenith):\n",
    "    zenith = np.deg2rad(zenith)\n",
    "    weights = np.ones(len(data))\n",
    "    weights = data['mc_energy']**-0.7 * (1/(1 + 1.1 * data['mc_energy'] * 1000 * np.cos(zenith)/115) + 0.054/(1 + 1.1 * data['mc_energy'] * 1000 * np.cos(zenith)/850))\n",
    "    return weights / np.sum(weights)\n",
    "\n",
    "def plot_reweighted_gaug(data, zenith, bins=100, range=(None, None), log=True, label=None, fit=False, fit_p0=None, fit_bounds=(-np.inf, np.inf)):\n",
    "    weights = reweight_gaug(data, zenith)\n",
    "    counts, bin_edges, patches = plt.hist(data['mc_energy'], bins=bins, histtype='step', lw=2, log=log, label=label, weights=weights)\n",
    "    y_limits = plt.gca().get_ylim()\n",
    "    \n",
    "    if fit:\n",
    "        bin_centers = (bin_edges[:-1] + bin_edges[1:]) / 2\n",
    "        popt, pcov = curve_fit(fit, bin_centers, counts, p0=fit_p0, bounds=fit_bounds)\n",
    "        plt.plot(bin_centers, fit(bin_centers, *popt), label=f'Fit of {label}\\nFit parameters: {popt}')\n",
    "        plt.ylim(y_limits)\n",
    "    \n",
    "    plt.legend()\n",
    "    plt.xlim(*range)\n",
    "    #plt.show()\n",
    "\n",
    "plot_reweighted_gaug(simulations[good_ring_mask], 0, bins=200, log=True, label='Good Rings')\n",
    "plot_reweighted_gaug(simulations[good_ring_mask], 20, bins=200, log=True, label='Good Rings')"
   ]
  },
  {
   "cell_type": "code",
   "execution_count": null,
   "metadata": {},
   "outputs": [],
   "source": [
    "dat = Table.read('{}'.format(listdir[0]), format='fits')\n",
    "\n",
    "for muon_file in listdir:\n",
    "    dat2 = Table.read(muon_file, format='fits')\n",
    "    \n",
    "    # Check if 'good_ring' exists and convert to bool\n",
    "    if 'good_ring' in dat2.colnames:\n",
    "        dat2['good_ring'] = dat2['good_ring'].astype(bool)\n",
    "    \n",
    "    # Stack the tables\n",
    "    if dat is None:\n",
    "        dat = dat2\n",
    "    else:\n",
    "        dat = vstack([dat, dat2])\n",
    "\n",
    "df = dat.to_pandas()\n",
    "df_sim_00043_alignment = df[\n",
    "    df['good_ring'] & \n",
    "    (df['muon_efficiency'] < muon_efficiency_cut) & \n",
    "    (df['size_outside'] < size_outside_cut)\n",
    "]\n",
    "df_sim_00043_alignment"
   ]
  },
  {
   "cell_type": "markdown",
   "metadata": {},
   "source": [
    "# Applying cuts"
   ]
  },
  {
   "cell_type": "code",
   "execution_count": null,
   "metadata": {},
   "outputs": [],
   "source": [
    "ring_completeness_cut = 0\n",
    "ring_containment_cut = 0\n",
    "min_radius_cut = 0.8\n",
    "max_radius_cut = 1.5\n",
    "ring_center_distance_cut = 2\n",
    "impact_distance_cut = 15\n"
   ]
  },
  {
   "cell_type": "code",
   "execution_count": null,
   "metadata": {},
   "outputs": [],
   "source": [
    "def calculate_survival_percentage(df, df_cut):\n",
    "    return (len(df_cut) / len(df)) * 100\n",
    "\n",
    "def apply_cuts(df, completeness_cut, containment_cut, min_radius_cut, max_radius_cut, center_distance_cut, impact_distance_cut):\n",
    "    return df[\n",
    "        (df['ring_completeness'] > completeness_cut) &\n",
    "        (df['ring_containment'] > containment_cut) &\n",
    "        (df['ring_radius'] > min_radius_cut) &\n",
    "        (df['ring_radius'] < max_radius_cut) &\n",
    "        (df['ring_center_y'].abs() < center_distance_cut) &\n",
    "        (df['impact_parameter'] < impact_distance_cut)\n",
    "    ]\n",
    "\n",
    "\n",
    "# Apply cuts to each dataframe\n",
    "df_data_cut = apply_cuts(df_good_data_real, ring_completeness_cut, ring_containment_cut, min_radius_cut, max_radius_cut, ring_center_distance_cut, impact_distance_cut)\n",
    "print(f\"Events survived for df_data_cut: {len(df_data_cut)} ({calculate_survival_percentage(df_good_data_real, df_data_cut):.2f}%) out of {len(df_good_data_real)}\")\n",
    "\n",
    "df_good_data_winter_2024_cut = apply_cuts(df_good_data_winter_2024, ring_completeness_cut, ring_containment_cut, min_radius_cut, max_radius_cut, ring_center_distance_cut, impact_distance_cut)\n",
    "print(f\"Events survived for df_good_data_winter_2024_cut: {len(df_good_data_winter_2024_cut)} ({calculate_survival_percentage(df_good_data_winter_2024, df_good_data_winter_2024_cut):.2f}%) out of {len(df_good_data_winter_2024)}\")\n",
    "\n",
    "df_sim_00043_cut = apply_cuts(df_sim_00043_alignment, ring_completeness_cut, ring_containment_cut, min_radius_cut, max_radius_cut, ring_center_distance_cut, impact_distance_cut)\n",
    "print(f\"Events survived for df_sim_00043_cut: {len(df_sim_00043_cut)} ({calculate_survival_percentage(df_sim_00043_alignment, df_sim_00043_cut):.2f}%) out of {len(df_sim_00043_alignment)}\")\n",
    "\n",
    "df_sim_0015_cut = apply_cuts(df_sim_0015_alignment, ring_completeness_cut, ring_containment_cut, min_radius_cut, max_radius_cut, ring_center_distance_cut, impact_distance_cut)\n",
    "print(f\"Events survived for df_sim_0015_cut: {len(df_sim_0015_cut)} ({calculate_survival_percentage(df_sim_0015_alignment, df_sim_0015_cut):.2f}%) out of {len(df_sim_0015_alignment)}\")\n",
    "\n",
    "df_sim_0015_cut_3200m = apply_cuts(df_sim_0015_alignment_3200m, ring_completeness_cut, ring_containment_cut, min_radius_cut, max_radius_cut, ring_center_distance_cut, impact_distance_cut)\n",
    "print(f\"Events survived for df_sim_0015_alignment_3200m_cut: {len(df_sim_0015_cut_3200m)} ({calculate_survival_percentage(df_sim_0015_alignment_3200m, df_sim_0015_cut_3200m):.2f}%) out of {len(df_sim_0015_alignment_3200m)}\")"
   ]
  },
  {
   "cell_type": "markdown",
   "metadata": {},
   "source": [
    "# Functions for weighting"
   ]
  },
  {
   "cell_type": "code",
   "execution_count": null,
   "metadata": {},
   "outputs": [],
   "source": [
    "def weighted_data(df, power_index):\n",
    "    df_copy = copy.deepcopy(df[['ring_radius', 'mc_energy', 'ring_completeness', 'ring_containment', 'impact_parameter']])\n",
    "    df_copy['weights'] = df_copy['mc_energy'] ** (-power_index)\n",
    "    return df_copy"
   ]
  },
  {
   "cell_type": "code",
   "execution_count": null,
   "metadata": {},
   "outputs": [],
   "source": [
    "def calculate_weights_broken_power_law(df, energy_breaks, power_indices):\n",
    "    \"\"\"\n",
    "    Calculate weights using a broken power law.\n",
    "    \n",
    "    Parameters:\n",
    "    - df (pd.DataFrame): DataFrame with at least 'mc_energy' column.\n",
    "    - energy_breaks (list): List of energy breakpoints for the broken power law.\n",
    "    - power_indices (list): List of power indices for each energy segment.\n",
    "    \n",
    "    Returns:\n",
    "    - pd.DataFrame: A DataFrame with weights added.\n",
    "    \"\"\"\n",
    "    if len(energy_breaks) + 1 != len(power_indices):\n",
    "        raise ValueError(\"The number of power indices must be one more than the number of energy breaks.\")\n",
    "    \n",
    "    df_copy = df.copy()\n",
    "    df_copy['weights'] = np.nan\n",
    "\n",
    "    # Assign weights based on the energy ranges\n",
    "    for i, power_index in enumerate(power_indices):\n",
    "        if i == 0:\n",
    "            mask = df_copy['mc_energy'] < energy_breaks[0]\n",
    "            print(f\"LEN MASK {sum(mask)}\")\n",
    "        elif i == len(power_indices) - 1:\n",
    "            mask = df_copy['mc_energy'] >= energy_breaks[-1]\n",
    "            print(f\"LEN MASK {sum(mask)}\")\n",
    "        else:\n",
    "            mask = (df_copy['mc_energy'] >= energy_breaks[i - 1]) & (df_copy['mc_energy'] < energy_breaks[i])\n",
    "            print(f\"LEN MASK {sum(mask)}\")\n",
    "        \n",
    "        df_copy.loc[mask, 'weights'] = df_copy.loc[mask, 'mc_energy'] ** (-power_index)\n",
    "\n",
    "    return df_copy\n"
   ]
  },
  {
   "cell_type": "markdown",
   "metadata": {},
   "source": [
    "# Applying weights"
   ]
  },
  {
   "cell_type": "code",
   "execution_count": null,
   "metadata": {},
   "outputs": [],
   "source": [
    "energy_breaks = [0.01, 0.02]\n",
    "power_indices = [0.12, 0.46, 0.71]\n",
    "\n",
    "df_sim_broken_power_law_weight_all_3200m = calculate_weights_broken_power_law(\n",
    "    df_sim_0015_cut_3200m, energy_breaks, power_indices\n",
    ")"
   ]
  },
  {
   "cell_type": "code",
   "execution_count": null,
   "metadata": {},
   "outputs": [],
   "source": [
    "df_sim_broken_power_law_weight_all_3200m['weights']"
   ]
  },
  {
   "cell_type": "code",
   "execution_count": null,
   "metadata": {},
   "outputs": [],
   "source": [
    "print(7.897**(-1/0.71))\n",
    "print(1.74 ** (-1/0.12))"
   ]
  },
  {
   "cell_type": "code",
   "execution_count": null,
   "metadata": {},
   "outputs": [],
   "source": [
    "df_sim_broken_power_law_weight_all_3200m['mc_energy']"
   ]
  },
  {
   "cell_type": "code",
   "execution_count": null,
   "metadata": {},
   "outputs": [],
   "source": [
    "df_sim_standard_power_law_weigth = weighted_data(df_sim_0015_cut, 0.7)\n",
    "\n",
    "df_test = weighted_data(df_sim_0015_cut_3200m, 0.7)\n",
    "\n",
    "df_sim_broken_power_law_weight_016 = weighted_data(df_sim_0015_cut[df_sim_0015_cut['mc_energy'] < 0.01], 0.12)\n",
    "df_sim_broken_power_law_weight_046 = weighted_data(df_sim_0015_cut[(df_sim_0015_cut['mc_energy'] > 0.01) & (df_sim_0015_cut['mc_energy'] < 0.02)], 0.46)\n",
    "#df_sim_broken_power_law_weight_046 = weighted_data(df_sim_0015_cut[(df_sim_0015_cut['mc_energy'] < 0.02)], 0.46)\n",
    "df_sim_broken_power_law_weight_071 = weighted_data(df_sim_0015_cut[df_sim_0015_cut['mc_energy'] >= 0.02], 0.71)\n",
    "\n",
    "df_sim_broken_power_law_weight_all = pd.concat([df_sim_broken_power_law_weight_046, df_sim_broken_power_law_weight_071], ignore_index=True)"
   ]
  },
  {
   "cell_type": "code",
   "execution_count": null,
   "metadata": {},
   "outputs": [],
   "source": [
    "ring_completeness_cut_hist = 0\n",
    "bin_number = 100\n",
    "density_param = True\n",
    "\n",
    "min_value = min_radius_cut\n",
    "max_value = max_radius_cut\n",
    "\n",
    "# Define the bin edges\n",
    "bins = np.linspace(min_value, max_value, bin_number)  \n",
    "\n",
    "plt.figure(figsize=(11,8))\n",
    "\n",
    "# print(f\"Size of df_sim_standard_power_law_weigth: {len(df_sim_standard_power_law_weigth)}\")\n",
    "# print(f\"Size of df_sim_broken_power_law_weight_all: {len(df_sim_broken_power_law_weight_all)}\")\n",
    "print(f\"Size of df_sim_0015_cut: {len(df_sim_0015_cut)}\")\n",
    "\n",
    "# z,x,c = plt.hist(df_sim_standard_power_law_weigth['ring_radius'][\n",
    "#                  df_sim_standard_power_law_weigth['ring_completeness'] > ring_completeness_cut_hist], \n",
    "#                  weights=df_sim_standard_power_law_weigth['weights'][df_sim_standard_power_law_weigth['ring_completeness'] > ring_completeness_cut_hist],\n",
    "#                  bins=bins, \n",
    "#                  label='Standard Reweighted Simulation', \n",
    "#                  histtype='step', \n",
    "#                  density=density_param, \n",
    "#                  lw=3\n",
    "#                 )\n",
    "\n",
    "# z,x,c = plt.hist(df_sim_broken_power_law_weight_all['ring_radius'], weights=df_sim_broken_power_law_weight_all['weights'], bins=bin_number, label='Broken Power Law Reweighted Simulation',\n",
    "#          alpha=0.5, histtype='step', density=density_param, lw=3)\n",
    "\n",
    "# z,x,c = plt.hist(df_sim_0015_cut['ring_radius'][df_sim_0015_cut['ring_completeness'] > ring_completeness_cut_hist], bins=bins, label='Original Simulation with cut',\n",
    "#          alpha=0.5, density=density_param)\n",
    "\n",
    "# z,x,c = plt.hist(df_sim_0015_cut['ring_radius'], bins=bins, label='Original Simulation',\n",
    "#          alpha=0.7, density=density_param, histtype='step', lw=3)\n",
    "\n",
    "z,x,c = plt.hist(df_data_cut['ring_radius'][df_data_cut['ring_completeness'] > ring_completeness_cut_hist], bins=bins, label='All 2024 year data',\n",
    "         alpha=0.7, density=density_param, histtype='step', lw=3)\n",
    "\n",
    "# z,x,c = plt.hist(df_good_data_winter_2024_cut['ring_radius'][df_good_data_winter_2024_cut['ring_completeness'] > ring_completeness_cut_hist], bins=bins, label='Winter 2024 + zenith angle < 20 deg + good atmo conditions',\n",
    "#          alpha=0.5, density=density_param)\n",
    "\n",
    "z,x,c = plt.hist(df_sim_0015_cut_3200m['ring_radius'], bins=bins, label='Simulations for start height 3200m',\n",
    "         alpha=0.5, density=density_param)\n",
    "\n",
    "z,x,c = plt.hist(df_test['ring_radius'], weights=df_test['weights'], bins=bins, label='Simulations for start height 3200m PL reweighted',\n",
    "         alpha=0.5, density=density_param, histtype='step', lw=3)\n",
    "\n",
    "z,x,c = plt.hist(df_test['ring_radius'], weights=df_sim_broken_power_law_weight_all_3200m['weights'], bins=bins, label='Simulations for start height 3200m Broken PL reweighted',\n",
    "         alpha=0.5, density=density_param, histtype='step', lw=3)\n",
    "\n",
    "plt.xlabel('Ring Radius [deg]')\n",
    "plt.axvline(1.2157382060313375, lw = 2, ls = '-.', c = 'r', label = 'summer max ring radius on 2 km',alpha=0.75)\n",
    "plt.axvline(1.2354433340796351, lw = 2, ls = '-.', c = 'k', label = 'winter max ring radius on 2 km',alpha=0.75)\n",
    "plt.ylabel('Normalized Count')\n",
    "#plt.title('Histogram of Radius with Reweighted Energy Distribution')\n",
    "plt.xlim(0.9,1.3)\n",
    "plt.legend()\n",
    "plt.show()"
   ]
  },
  {
   "cell_type": "code",
   "execution_count": null,
   "metadata": {},
   "outputs": [],
   "source": [
    "plt.figure(figsize=(10,7))\n",
    "he_muons = df_sim_0015_cut[df_sim_0015_cut['mc_energy'] > 0.02]\n",
    "GeV_10_muons = df_sim_0015_cut[df_sim_0015_cut['mc_energy'] < 0.01]\n",
    "GeV_10_20_muons = df_sim_0015_cut[(df_sim_0015_cut['mc_energy'] > 0.01) & (df_sim_0015_cut['mc_energy'] < 0.02)]\n",
    "z,x,c = plt.hist(he_muons['ring_radius'], bins = 100, label='High Energy Muons')\n",
    "z,x,c = plt.hist(GeV_10_muons['ring_radius'], bins = 100, label='Muons < 10 GeV')\n",
    "z,x,c = plt.hist(GeV_10_20_muons['ring_radius'], bins = 100, label='10 GeV < Muons < 20 GeV')\n",
    "plt.xlabel('Radius')\n",
    "plt.ylabel('Normalized Count')\n",
    "plt.title('Histogram of Radius with Reweighted Energy Distribution')\n",
    "plt.xlim(0.9,1.3)\n",
    "#plt.ylim(0,1)\n",
    "plt.legend()\n",
    "plt.show()"
   ]
  },
  {
   "cell_type": "code",
   "execution_count": null,
   "metadata": {},
   "outputs": [],
   "source": [
    "bin_number_hist = 50\n",
    "IP_cut = 3\n",
    "plt.figure(figsize=(10,7))\n",
    "z,x,c = plt.hist(df_good_data_winter_2024_cut['ring_radius'], bins = bin_number_hist, label='Winter 2024 + zenith angle < 20 deg + good atmo conditions', density=True)\n",
    "z,x,c = plt.hist(df_good_data_winter_2024_cut['ring_radius'][df_good_data_winter_2024_cut['impact_parameter'] < 9.8], bins = bin_number_hist, label='+ IP<9.8m', density=True, histtype='step', lw=3)\n",
    "z,x,c = plt.hist(df_good_data_winter_2024_cut['ring_radius'][\n",
    "    (df_good_data_winter_2024_cut['impact_parameter'] < IP_cut) & \n",
    "    (df_good_data_winter_2024_cut['ring_center_x'] < 0.5) & \n",
    "    (df_good_data_winter_2024_cut['ring_center_y'] < 0.5)], \n",
    "    bins = bin_number_hist, \n",
    "    label=f'+ IP<{IP_cut}m + RC < 0.5deg', \n",
    "    density=True, \n",
    "    histtype='step', \n",
    "    lw=3\n",
    "    )\n",
    "plt.legend()\n",
    "plt.xlim(0.6, 1.5)\n",
    "plt.xlim(0.6, 1.5)"
   ]
  },
  {
   "cell_type": "code",
   "execution_count": null,
   "metadata": {},
   "outputs": [],
   "source": [
    "z,x,c = plt.hist(df_sim_0015_cut['impact_parameter'], bins = 100, label='Simulation')\n",
    "plt.axvline(5.5, c = 'r')\n",
    "plt.axvline(5.6, c = 'r')"
   ]
  },
  {
   "cell_type": "code",
   "execution_count": null,
   "metadata": {},
   "outputs": [],
   "source": [
    "len(df_sim_0015_cut['ring_radius'])"
   ]
  },
  {
   "cell_type": "code",
   "execution_count": null,
   "metadata": {},
   "outputs": [],
   "source": [
    "len(df_sim_0015_with_IP_cut['ring_radius']) - len(df_sim_0015_cut['ring_radius'])"
   ]
  },
  {
   "cell_type": "code",
   "execution_count": null,
   "metadata": {},
   "outputs": [],
   "source": [
    "plt.figure(figsize=(10,7))\n",
    "df_sim_0015_with_IP_cut = df_sim_0015_cut[(df_sim_0015_cut['impact_parameter'] < 5.5) | (df_sim_0015_cut['impact_parameter'] > 5.6)]\n",
    "\n",
    "z,x,c = plt.hist(df_sim_0015_with_IP_cut['ring_radius'], bins = 100, label='Simulation with IP cut')\n",
    "#z,x,c = plt.hist(df_good_data_winter_2024_cut['ring_radius'], bins = 100, label='Simulation with IP cut')\n",
    "z,x,c = plt.hist(df_sim_0015_cut['ring_radius'], bins = 100, label='Simulation without IP cut', histtype='step', lw=3)\n",
    "plt.legend()\n"
   ]
  },
  {
   "cell_type": "code",
   "execution_count": null,
   "metadata": {},
   "outputs": [],
   "source": [
    "z,x,c = plt.hist(df_sim_0015_with_IP_cut['impact_parameter'], bins = 100, label='Simulation with IP cut')"
   ]
  },
  {
   "cell_type": "code",
   "execution_count": null,
   "metadata": {},
   "outputs": [],
   "source": [
    "plt.hist(he_muons[he_muons['ring_radius'] < 1.17]['ring_completeness'], bins = 25)"
   ]
  },
  {
   "cell_type": "code",
   "execution_count": null,
   "metadata": {},
   "outputs": [],
   "source": []
  },
  {
   "cell_type": "code",
   "execution_count": null,
   "metadata": {},
   "outputs": [],
   "source": []
  },
  {
   "cell_type": "code",
   "execution_count": null,
   "metadata": {},
   "outputs": [],
   "source": []
  },
  {
   "cell_type": "code",
   "execution_count": null,
   "metadata": {},
   "outputs": [],
   "source": [
    "plt.figure(figsize=(10,8))\n",
    "\n",
    "# Calculate the weights\n",
    "df_sim_0015_cut['weights'] = df_sim_0015_cut['mc_energy'] ** -0.7\n",
    "\n",
    "# Determine the range for bins based on all datasets\n",
    "min_value = min(df_sim_0015_cut['ring_radius'].min(), df_data_cut['ring_radius'].min())\n",
    "max_value = max(df_sim_0015_cut['ring_radius'].max(), df_data_cut['ring_radius'].max())\n",
    "\n",
    "# Define the bin edges\n",
    "bins = np.linspace(min_value, max_value, 31)  # 30 bins between min_value and max_value\n",
    "\n",
    "# Plot the histogram of radius with the calculated weights\n",
    "plt.hist(df_sim_0015_cut['ring_radius'], weights=df_sim_0015_cut['weights'],\n",
    "         bins=bins, label='Reweighted Simulation', histtype='step', density=True, lw=2)\n",
    "\n",
    "plt.hist(df_sim_0015_cut['ring_radius'], bins=bins, label='Original Simulation',\n",
    "         alpha=0.5, density=True)\n",
    "\n",
    "plt.hist(df_data_cut['ring_radius'], bins=bins, label='Data', alpha=0.5, density=True)\n",
    "\n",
    "plt.xlabel('Radius')\n",
    "plt.ylabel('Normalized Count')\n",
    "plt.title('Histogram of Radius with Reweighted Energy Distribution')\n",
    "plt.legend()\n",
    "plt.show()"
   ]
  },
  {
   "cell_type": "code",
   "execution_count": null,
   "metadata": {},
   "outputs": [],
   "source": [
    "# plt.figure(figsize=(10,8))\n",
    "\n",
    "# # Calculate the weights\n",
    "# df_sim_0015_cut['weights'] = df_sim_0015_cut['mc_energy'] ** -0.7\n",
    "\n",
    "# # Determine the range for bins based on all datasets\n",
    "# min_value = min(df_sim_0015_cut['ring_radius'].min(), df_data_cut['ring_radius'].min())\n",
    "# max_value = max(df_sim_0015_cut['ring_radius'].max(), df_data_cut['ring_radius'].max())\n",
    "\n",
    "# # Define the bin edges\n",
    "# bins = np.linspace(min_value, max_value, 31)  # 30 bins between min_value and max_value\n",
    "\n",
    "# # Plot the histogram of radius with the calculated weights\n",
    "# plt.hist(df_sim_0015_cut['ring_radius'], weights=df_sim_0015_cut['weights'],\n",
    "#          bins=bins, label='Reweighted Simulation', histtype='step', density=True, lw=3)\n",
    "\n",
    "# plt.hist(df_data_cut['ring_radius'], bins=bins, label='Data', alpha=0.5, density=True, color = 'green')\n",
    "\n",
    "# plt.xlabel('Ring Radius')\n",
    "# plt.ylabel('Normalized Count')\n",
    "# plt.title('Histogram of Radius with Reweighted Energy Distribution for physicaly justified ring radius range')\n",
    "# plt.legend()\n",
    "# plt.show()"
   ]
  },
  {
   "cell_type": "code",
   "execution_count": null,
   "metadata": {},
   "outputs": [],
   "source": [
    "plt.hist(df_sim_0015_cut['mc_energy'], log=True)"
   ]
  },
  {
   "cell_type": "code",
   "execution_count": null,
   "metadata": {},
   "outputs": [],
   "source": [
    "min_value = min(df_sim_0015_cut['ring_radius'].min(), df_data_cut['ring_radius'].min())\n",
    "max_value = max(df_sim_0015_cut['ring_radius'].max(), df_data_cut['ring_radius'].max())\n",
    "\n",
    "\n",
    "bins = np.linspace(min_value, max_value, 31) \n",
    "\n",
    "plt.figure(figsize=(10,8))\n",
    "df_sim_0015_cut['weights'] = df_sim_0015_cut['mc_energy'] ** -0.46\n",
    "plt.hist(df_sim_0015_cut['ring_radius'][df_sim_0015_cut['mc_energy'] < 0.02], weights=df_sim_0015_cut['weights'][df_sim_0015_cut['mc_energy'] < 0.02], bins=bins, label='reweighting', histtype='step', density=True, lw = 2)\n",
    "plt.hist(df_sim_0015_cut['ring_radius'], bins=bins, label='no reweighting', alpha = 0.5, density=True)\n",
    "plt.hist(df_data_cut['ring_radius'], bins=bins, label='data', alpha = 0.5, density=True)\n",
    "plt.xlabel('Radius')\n",
    "plt.ylabel('Weighted Count')\n",
    "plt.title('Histogram of Radius with Reweighted Energy Distribution')\n",
    "plt.legend()\n",
    "plt.show()"
   ]
  },
  {
   "cell_type": "code",
   "execution_count": null,
   "metadata": {},
   "outputs": [],
   "source": [
    "plt.figure(figsize=(10,8))\n",
    "\n",
    "GeV_10_muons = df_sim_0015_cut[df_sim_0015_cut['mc_energy'] < 0.01][:34000000]\n",
    "GeV_20_muons = df_sim_0015_cut[(df_sim_0015_cut['mc_energy'] > 0.01) & (df_sim_0015_cut['mc_energy'] < 0.02)][:21750000]\n",
    "GeV_all_muons = df_sim_0015_cut[df_sim_0015_cut['mc_energy'] > 0.02][:952000000]\n",
    "\n",
    "min_value = min(df_sim_0015_cut['ring_radius'].min(), df_data_cut['ring_radius'].min())\n",
    "max_value = max(df_sim_0015_cut['ring_radius'].max(), df_data_cut['ring_radius'].max())\n",
    "\n",
    "bins = np.linspace(min_value, max_value, 31) \n",
    "bins = 30\n",
    "\n",
    "GeV_10_muons['weights'] = GeV_10_muons['mc_energy'] ** -0.16\n",
    "GeV_20_muons['weights'] = GeV_20_muons['mc_energy'] ** -0.46\n",
    "GeV_all_muons['weights'] = GeV_all_muons['mc_energy'] ** -0.16\n",
    "plt.hist(GeV_10_muons['ring_radius'], bins=bins, label='< 10 GeV', weights=GeV_10_muons['weights'], alpha = 0.5, density=True)\n",
    "plt.hist(GeV_20_muons['ring_radius'], bins=bins, label='10-20 GeV', weights=GeV_20_muons['weights'], alpha = 0.5, density=True)\n",
    "plt.hist(GeV_all_muons['ring_radius'], bins=bins, label='20+ GeV', weights=GeV_all_muons['weights'], alpha = 0.5, density=True)\n",
    "#plt.hist(df_sim_0015_cut['ring_radius'], bins=bins, label='no reweighting', alpha = 0.5, density=True)\n",
    "plt.hist(df_data_cut['ring_radius'], bins=bins, label='data', alpha = 0.5, density=True)\n",
    "plt.xlabel('Radius')\n",
    "plt.ylabel('Weighted Count')\n",
    "plt.title('Histogram of Radius with Reweighted Energy Distribution')\n",
    "plt.legend()\n",
    "plt.show()"
   ]
  },
  {
   "cell_type": "code",
   "execution_count": null,
   "metadata": {},
   "outputs": [],
   "source": [
    "plt.figure(figsize=(10,8))\n",
    "new_weights = pd.concat([\n",
    "    GeV_10_muons['weights'],\n",
    "    GeV_20_muons['weights'],\n",
    "    GeV_all_muons['weights']\n",
    "], ignore_index=True)\n",
    "all_muons = pd.concat([\n",
    "    GeV_10_muons,\n",
    "    GeV_20_muons,\n",
    "    GeV_all_muons\n",
    "], ignore_index=True)\n",
    "\n",
    "plt.hist(all_muons['ring_radius'], bins=bins, label='Broken Power Law weighting', weights=new_weights, alpha = 0.9, density=True, histtype='step', lw = 2)\n",
    "#plt.hist(df_sim_0015_cut['ring_radius'], bins=bins, label='no reweighting', alpha = 0.5, density=True)\n",
    "plt.hist(df_data_cut['ring_radius'], bins=bins, label='data', alpha = 0.5, density=True)\n",
    "plt.xlabel('Radius')\n",
    "plt.ylabel('Weighted Count')\n",
    "plt.title('Histogram of Radius with Reweighted Energy Distribution')\n",
    "plt.legend()\n",
    "plt.show()"
   ]
  },
  {
   "cell_type": "code",
   "execution_count": null,
   "metadata": {},
   "outputs": [],
   "source": []
  },
  {
   "cell_type": "code",
   "execution_count": null,
   "metadata": {},
   "outputs": [],
   "source": [
    "plt.figure(figsize=(10,8))\n",
    "\n",
    "def get_power_index(mc_energy):\n",
    "    if mc_energy < 0.01:\n",
    "        return -0.16\n",
    "    elif 0.01 <= mc_energy < 0.02:\n",
    "        return -0.46\n",
    "    else:\n",
    "        return -0.7\n",
    "\n",
    "# Apply the power index to calculate weights\n",
    "df_sim_0015_cut['weights'] = df_sim_0015_cut['mc_energy'].apply(lambda x: x ** get_power_index(x))\n",
    "plt.hist(df_sim_0015_cut['ring_radius'], weights=df_sim_0015_cut['weights'], bins=30, label='reweighting', histtype='step', density=True, lw = 2)\n",
    "plt.hist(df_sim_0015_cut['ring_radius'], bins=30, label='no reweighting', alpha = 0.5, density=True)\n",
    "plt.hist(df_data_cut['ring_radius'], bins=30, label='data', alpha = 0.5, density=True)\n",
    "plt.xlabel('Radius')\n",
    "plt.ylabel('Weighted Count')\n",
    "plt.title('Histogram of Radius with Reweighted Energy Distribution')\n",
    "plt.legend()\n",
    "plt.show()"
   ]
  },
  {
   "cell_type": "code",
   "execution_count": null,
   "metadata": {},
   "outputs": [],
   "source": [
    "df_sim_0015_cut"
   ]
  },
  {
   "cell_type": "code",
   "execution_count": null,
   "metadata": {},
   "outputs": [],
   "source": [
    "mc_energy = df_sim_0015_cut['mc_energy']\n",
    "\n",
    "conditions = [\n",
    "    mc_energy < 0.01,\n",
    "    (mc_energy >= 0.01) & (mc_energy < 0.02),\n",
    "    mc_energy >= 0.02\n",
    "]\n",
    "choices = [-0.16, -0.46, -0.7]\n",
    "exponents = np.select(conditions, choices, default=-0.7)\n",
    "\n",
    "df_sim_0015_cut['weights'] = mc_energy ** exponents\n",
    "\n",
    "plt.figure(figsize=(10,8))\n",
    "\n",
    "plt.hist(df_sim_0015_cut['ring_radius'], weights=df_sim_0015_cut['weights'], bins=30, label='reweighting', histtype='step', density=True, lw = 2)\n",
    "plt.hist(df_sim_0015_cut['ring_radius'], weights=df_sim_0015_cut['weights'], bins=30, label='broken power law', histtype='step', density=True, lw = 2)\n",
    "plt.hist(df_sim_0015_cut['ring_radius'], bins=30, label='no reweighting', alpha = 0.5, density=True)\n",
    "#plt.hist(df_data_cut['ring_radius'], bins=30, label='data', alpha = 0.5, density=True)\n",
    "\n",
    "plt.xlabel('Radius')\n",
    "plt.ylabel('Weighted Count')\n",
    "plt.title('Histogram of Radius with Reweighted Energy Distribution')\n",
    "plt.legend()\n",
    "plt.show()"
   ]
  },
  {
   "cell_type": "code",
   "execution_count": null,
   "metadata": {},
   "outputs": [],
   "source": [
    "plt.figure(figsize=(10,8))\n",
    "mc_energy = df_sim_0015_cut['mc_energy']\n",
    "\n",
    "conditions = [\n",
    "    mc_energy < 0.01,\n",
    "    (mc_energy >= 0.01) & (mc_energy < 0.02),\n",
    "    mc_energy >= 0.02\n",
    "]\n",
    "\n",
    "choices = [-0.16, -0.46, -0.7]\n",
    "exponents = np.select(conditions, choices, default=-0.7)\n",
    "\n",
    "df_sim_0015_cut['broken_weights'] = mc_energy ** exponents\n",
    "\n",
    "df_sim_0015_cut['weights'] = df_sim_0015_cut['mc_energy'] ** -0.7\n",
    "\n",
    "z,x,c = plt.hist(df_sim_0015_cut['mc_energy'], log = True, alpha = 0.5, bins = 2000)\n",
    "z,x,c = plt.hist(df_sim_0015_cut['mc_energy'], weights=df_sim_0015_cut['weights'], log=True,  histtype='step', label='weighted to -2.7', lw = 3, bins = 2000)\n",
    "z,x,c = plt.hist(df_sim_0015_cut['mc_energy'], weights=df_sim_0015_cut['broken_weights'], log=True,  histtype='step', label='broken power law', lw = 3, bins = 2000)\n",
    "plt.xlim(0,0.03)\n",
    "plt.legend()"
   ]
  },
  {
   "cell_type": "code",
   "execution_count": null,
   "metadata": {},
   "outputs": [],
   "source": [
    "mc_energy = df_sim_0015_cut['mc_energy']\n",
    "conditions = [\n",
    "    mc_energy < 0.01,\n",
    "    (mc_energy >= 0.01) & (mc_energy < 0.02),\n",
    "    mc_energy >= 0.02\n",
    "]\n",
    "choices = [-0.16, -0.46, -0.7]\n",
    "exponents = np.select(conditions, choices, default=-0.7)\n",
    "df_sim_0015_cut['weights'] = mc_energy ** exponents\n",
    "df_sim_0015_cut['weights']"
   ]
  },
  {
   "cell_type": "code",
   "execution_count": null,
   "metadata": {},
   "outputs": [],
   "source": [
    "df_sim_0015_cut['weights'] = df_sim_0015_cut['mc_energy'] ** -0.7\n",
    "df_sim_0015_cut['weights']"
   ]
  },
  {
   "cell_type": "markdown",
   "metadata": {},
   "source": [
    "# Ring Radius vs Completeness"
   ]
  },
  {
   "cell_type": "code",
   "execution_count": null,
   "metadata": {},
   "outputs": [],
   "source": [
    "plt.scatter(df_data_cut['ring_completeness'],df_data_cut['ring_radius'], s = 1)"
   ]
  },
  {
   "cell_type": "code",
   "execution_count": null,
   "metadata": {},
   "outputs": [],
   "source": [
    "plt.scatter(df_sim_0015_cut['ring_completeness'],df_sim_0015_cut['ring_radius'], s = 1)"
   ]
  },
  {
   "cell_type": "code",
   "execution_count": null,
   "metadata": {},
   "outputs": [],
   "source": [
    "plt.figure(figsize=(8, 6))\n",
    "plt.hist2d(df_data_cut['ring_radius'], df_data_cut['ring_completeness'], bins=100, cmap='viridis')\n",
    "plt.colorbar(label='Count')\n",
    "plt.xlabel('Ring Radius')\n",
    "plt.ylabel('Ring Completeness')\n",
    "plt.title('2D Histogram of Ring Radius vs. Ring Completeness')\n",
    "plt.show()"
   ]
  },
  {
   "cell_type": "code",
   "execution_count": null,
   "metadata": {},
   "outputs": [],
   "source": [
    "plt.figure(figsize=(8, 6))\n",
    "plt.hist2d(df_sim_0015_cut['ring_radius'], df_sim_0015_cut['ring_completeness'], bins=100, cmap='viridis')\n",
    "plt.colorbar(label='Count')\n",
    "plt.xlabel('Ring Radius')\n",
    "plt.ylabel('Ring Completeness')\n",
    "plt.title('2D Histogram of Ring Radius vs. Ring Completeness')\n",
    "plt.show()"
   ]
  },
  {
   "cell_type": "code",
   "execution_count": null,
   "metadata": {},
   "outputs": [],
   "source": [
    "z,x,c = plt.hist(df_data_cut['ring_completeness'], bins = 100, density=True)\n",
    "z,x,c = plt.hist(df_sim_0015_cut['ring_completeness'], bins = 100, density=True, alpha = 0.5)"
   ]
  },
  {
   "cell_type": "code",
   "execution_count": null,
   "metadata": {},
   "outputs": [],
   "source": [
    "z,x,c = plt.hist(df_data_cut['ring_completeness'][df_data_cut['ring_completeness'] > 0.6], bins = 100, density=True)\n",
    "z,x,c = plt.hist(df_sim_0015_cut['ring_completeness'][df_sim_0015_cut['ring_completeness'] > 0.6], bins = 100, density=True, alpha = 0.5)"
   ]
  },
  {
   "cell_type": "code",
   "execution_count": null,
   "metadata": {},
   "outputs": [],
   "source": []
  }
 ],
 "metadata": {
  "kernelspec": {
   "display_name": "cta-dev",
   "language": "python",
   "name": "python3"
  },
  "language_info": {
   "codemirror_mode": {
    "name": "ipython",
    "version": 3
   },
   "file_extension": ".py",
   "mimetype": "text/x-python",
   "name": "python",
   "nbconvert_exporter": "python",
   "pygments_lexer": "ipython3",
   "version": "3.11.9"
  }
 },
 "nbformat": 4,
 "nbformat_minor": 2
}
