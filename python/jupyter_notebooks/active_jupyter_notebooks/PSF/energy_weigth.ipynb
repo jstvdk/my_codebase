{
 "cells": [
  {
   "cell_type": "code",
   "execution_count": null,
   "metadata": {},
   "outputs": [],
   "source": [
    "import math\n",
    "import numpy as np\n",
    "import matplotlib.pyplot as plt\n",
    "summer_refractive_index = 1+0.00020409512542851616\n",
    "winter_refractive_index = 1+0.00020953240736654166\n",
    "import copy \n",
    "import sys\n",
    "import glob\n",
    "from datetime import datetime\n",
    "\n",
    "import numpy as np\n",
    "import pandas as pd\n",
    "import seaborn as sns\n",
    "import scipy.stats as stats\n",
    "from scipy.interpolate import interp1d\n",
    "import statsmodels.api as sm\n",
    "\n",
    "import matplotlib.pyplot as plt\n",
    "from ctapipe.io import EventSource\n",
    "from ctapipe.image import ImageProcessor, tailcuts_clean\n",
    "from ctapipe.calib import CameraCalibrator\n",
    "from ctapipe.visualization import CameraDisplay\n",
    "from astropy.table import Table, vstack\n",
    "\n",
    "#from muonpipe import usefull_func\n",
    "import matplotlib.pyplot as plt\n",
    "import seaborn as sns\n",
    "import pandas as pd\n",
    "filename = '/Users/vdk/muons2024//simtel_files/2024year_tuned_nooulier_reflectivity_additional/run101_muon.simtel.gz'\n",
    "source = EventSource(filename, max_events = 1)\n",
    "camgeom = source.subarray.tel[1].camera.geometry\n",
    "\n",
    "start_date_2019 = datetime.strptime(\"2019-11-25 00:00:00.0\", \"%Y-%m-%d %H:%M:%S.%f\").timestamp()\n",
    "\n",
    "start_date_2020 = datetime.strptime(\"2020-01-01 00:00:00.0\", \"%Y-%m-%d %H:%M:%S.%f\").timestamp()\n",
    "end_date_2020 = datetime.strptime(\"2020-12-31 00:00:00.0\", \"%Y-%m-%d %H:%M:%S.%f\").timestamp()\n",
    "\n",
    "start_date_2021 = datetime.strptime(\"2021-01-01 00:00:00.0\", \"%Y-%m-%d %H:%M:%S.%f\").timestamp()\n",
    "end_date_2021 = datetime.strptime(\"2021-12-31 00:00:00.0\", \"%Y-%m-%d %H:%M:%S.%f\").timestamp()\n",
    "\n",
    "start_date_2022 = datetime.strptime(\"2022-01-01 00:00:00.0\", \"%Y-%m-%d %H:%M:%S.%f\").timestamp()\n",
    "end_date_2022 = datetime.strptime(\"2022-12-31 00:00:00.0\", \"%Y-%m-%d %H:%M:%S.%f\").timestamp()\n",
    "\n",
    "start_date_2023 = datetime.strptime(\"2023-01-01 00:00:00.0\", \"%Y-%m-%d %H:%M:%S.%f\").timestamp()\n",
    "end_date_2023 = datetime.strptime(\"2023-12-31 00:00:00.0\", \"%Y-%m-%d %H:%M:%S.%f\").timestamp()\n",
    "\n",
    "start_date_2024 = datetime.strptime(\"2024-01-01 00:00:00.0\", \"%Y-%m-%d %H:%M:%S.%f\").timestamp()\n",
    "end_date_2024 = datetime.strptime(\"2024-12-31 00:00:00.0\", \"%Y-%m-%d %H:%M:%S.%f\").timestamp()\n",
    "\n",
    "size_outside_cut = 500\n",
    "muon_efficiency_cut = 1\n",
    "min_impact = 2.2199933748101555\n",
    "max_impact = 9.983608702234397\n"
   ]
  },
  {
   "cell_type": "code",
   "execution_count": null,
   "metadata": {},
   "outputs": [],
   "source": [
    "def atmo_thick(height, make_plot=False):\n",
    "    \"\"\" \n",
    "    Function that returns atmospheric thickness in g/cm^2\n",
    "    \n",
    "    Arguments\n",
    "    ---------\n",
    "    height - [m]\n",
    "        Height for which thickness should be calculated\n",
    "        \n",
    "    Returns\n",
    "    -------\n",
    "    value of the thickness [g/cm2] for given height\n",
    "    \"\"\"\n",
    "    atmospheric_thickness = [1036, 920, 818, 726, 643, 568, 499, 438, 383, 333, 288, 249, 213, 182, 155, 132, 112, 95, 80, 67, 57]\n",
    "    altitude = [i for i in range(21)]\n",
    "    xvals = np.linspace(0, 20, 20000)\n",
    "\n",
    "    interpolated_thickness = np.interp(xvals, altitude, atmospheric_thickness)\n",
    "    if make_plot:\n",
    "        plt.figure()\n",
    "        plt.scatter(xvals, interpolated_thickness, alpha = 0.2)\n",
    "        plt.grid()\n",
    "    \n",
    "    return interpolated_thickness[height]\n",
    "\n",
    "atmo_thick(2699)"
   ]
  },
  {
   "cell_type": "markdown",
   "metadata": {},
   "source": [
    "# Simulations 0.0043 deg mirror random align"
   ]
  },
  {
   "cell_type": "code",
   "execution_count": null,
   "metadata": {},
   "outputs": [],
   "source": [
    "listdir1 = glob.glob('/Users/vdk/muons2024/lapalma_simulations/proper_mc_config/nsbtune2024year_tuned_reflectivity/tables/*')\n",
    "listdir2 = glob.glob('/Users/vdk/muons2024/lapalma_simulations/for_paper/nsbtune2024year_no_outliers_additional_true/tables/*')\n",
    "listdir = listdir1 + listdir2\n",
    "\n",
    "dat = Table.read('{}'.format(listdir[0]), format='fits')\n",
    "\n",
    "for muon_file in listdir:\n",
    "    dat2 = Table.read(muon_file, format='fits')\n",
    "    \n",
    "    # Check if 'good_ring' exists and convert to bool\n",
    "    if 'good_ring' in dat2.colnames:\n",
    "        dat2['good_ring'] = dat2['good_ring'].astype(bool)\n",
    "    \n",
    "    # Stack the tables\n",
    "    if dat is None:\n",
    "        dat = dat2\n",
    "    else:\n",
    "        dat = vstack([dat, dat2])\n",
    "\n",
    "df = dat.to_pandas()\n",
    "df_sim_00043_alignment = df[\n",
    "    df['good_ring'] & \n",
    "    (df['muon_efficiency'] < muon_efficiency_cut) & \n",
    "    (df['size_outside'] < size_outside_cut)\n",
    "]\n",
    "df_sim_00043_alignment"
   ]
  },
  {
   "cell_type": "markdown",
   "metadata": {},
   "source": [
    "# Simulations 0.015 deg mirror random align"
   ]
  },
  {
   "cell_type": "code",
   "execution_count": null,
   "metadata": {},
   "outputs": [],
   "source": [
    "listdir= glob.glob('/Users/vdk/muons2024/lapalma_simulations/proper_mc_config/nsbtune2024year_tuned_reflectivity_0015alignment/tables/*')\n",
    "\n",
    "dat = Table.read('{}'.format(listdir[0]), format='fits')\n",
    "\n",
    "for muon_file in listdir:\n",
    "    dat2 = Table.read(muon_file, format='fits')\n",
    "\n",
    "    if 'good_ring' in dat.colnames:\n",
    "        dat['good_ring'] = dat['good_ring'].astype(bool)\n",
    "    if 'is_valid' in dat2.colnames:\n",
    "        dat2['is_valid'] = dat2['is_valid'].astype(bool)\n",
    "    if 'parameters_at_limit' in dat2.colnames:\n",
    "        dat2['parameters_at_limit'] = dat2['parameters_at_limit'].astype(bool)       \n",
    "    if 'good_ring' in dat2.colnames:\n",
    "        dat2['good_ring'] = dat2['good_ring'].astype(bool)\n",
    "    \n",
    "    # Stack the tables\n",
    "    if dat is None:\n",
    "        dat = dat2\n",
    "    else:\n",
    "        dat = vstack([dat, dat2])\n",
    "\n",
    "df = dat.to_pandas()\n",
    "df_sim_0015_alignment = df[\n",
    "    df['good_ring'] & \n",
    "    (df['muon_efficiency'] < muon_efficiency_cut) & \n",
    "    (df['size_outside'] < size_outside_cut)\n",
    "]\n",
    "\n",
    "df_sim_0015_alignment"
   ]
  },
  {
   "cell_type": "markdown",
   "metadata": {},
   "source": [
    "## Starting height of particle 3200m"
   ]
  },
  {
   "cell_type": "code",
   "execution_count": null,
   "metadata": {},
   "outputs": [],
   "source": [
    "listdir= glob.glob('/Users/vdk/muons2024/psf_work/fixchi710/tables/*')\n",
    "\n",
    "dat = Table.read('{}'.format(listdir[0]), format='fits')\n",
    "\n",
    "for muon_file in listdir:\n",
    "    dat2 = Table.read(muon_file, format='fits')\n",
    "\n",
    "    if 'good_ring' in dat.colnames:\n",
    "        dat['good_ring'] = dat['good_ring'].astype(bool)\n",
    "    if 'is_valid' in dat2.colnames:\n",
    "        dat2['is_valid'] = dat2['is_valid'].astype(bool)\n",
    "    if 'parameters_at_limit' in dat2.colnames:\n",
    "        dat2['parameters_at_limit'] = dat2['parameters_at_limit'].astype(bool)       \n",
    "    if 'good_ring' in dat2.colnames:\n",
    "        dat2['good_ring'] = dat2['good_ring'].astype(bool)\n",
    "    \n",
    "    # Stack the tables\n",
    "    if dat is None:\n",
    "        dat = dat2\n",
    "    else:\n",
    "        dat = vstack([dat, dat2])\n",
    "\n",
    "df = dat.to_pandas()\n",
    "df_sim_0015_alignment_3200m = df[\n",
    "    df['good_ring'] & \n",
    "    (df['muon_efficiency'] < muon_efficiency_cut) & \n",
    "    (df['size_outside'] < size_outside_cut)\n",
    "]\n",
    "\n",
    "df_sim_0015_alignment_3200m"
   ]
  },
  {
   "cell_type": "markdown",
   "metadata": {},
   "source": [
    "## Sim height=3200m Broken Power Law"
   ]
  },
  {
   "cell_type": "code",
   "execution_count": null,
   "metadata": {},
   "outputs": [],
   "source": [
    "listdir1 = glob.glob('/Users/vdk/muons2024/psf_work/fixchi710/broken_spectrum/tables_6-10gev/*')\n",
    "listdir2 = glob.glob('/Users/vdk/muons2024/psf_work/fixchi710/tables_10-20gev/*')\n",
    "listdir3 = glob.glob('/Users/vdk/muons2024/psf_work/fixchi710/tables_20-80gev/*')\n",
    "\n",
    "listdir = listdir1 + listdir2 + listdir3\n",
    "\n",
    "dat = Table.read('{}'.format(listdir[0]), format='fits')\n",
    "\n",
    "for muon_file in listdir:\n",
    "    dat2 = Table.read(muon_file, format='fits')\n",
    "\n",
    "    if 'good_ring' in dat.colnames:\n",
    "        dat['good_ring'] = dat['good_ring'].astype(bool)\n",
    "    if 'is_valid' in dat2.colnames:\n",
    "        dat2['is_valid'] = dat2['is_valid'].astype(bool)\n",
    "    if 'parameters_at_limit' in dat2.colnames:\n",
    "        dat2['parameters_at_limit'] = dat2['parameters_at_limit'].astype(bool)       \n",
    "    if 'good_ring' in dat2.colnames:\n",
    "        dat2['good_ring'] = dat2['good_ring'].astype(bool)\n",
    "    \n",
    "    # Stack the tables\n",
    "    if dat is None:\n",
    "        dat = dat2\n",
    "    else:\n",
    "        dat = vstack([dat, dat2])\n",
    "\n",
    "df = dat.to_pandas()\n",
    "df_sim_broken = df[\n",
    "    df['good_ring'] & \n",
    "    (df['muon_efficiency'] < muon_efficiency_cut) & \n",
    "    (df['size_outside'] < size_outside_cut)\n",
    "]\n",
    "\n",
    "df_sim_broken"
   ]
  },
  {
   "cell_type": "markdown",
   "metadata": {},
   "source": [
    "# Sim starting height = 2700"
   ]
  },
  {
   "cell_type": "code",
   "execution_count": null,
   "metadata": {},
   "outputs": [],
   "source": [
    "listdir = glob.glob('/Users/vdk/muons2024/psf_work/fixchi753/tables/*')\n",
    "\n",
    "dat = Table.read('{}'.format(listdir[0]), format='fits')\n",
    "\n",
    "for muon_file in listdir:\n",
    "    dat2 = Table.read(muon_file, format='fits')\n",
    "\n",
    "    if 'good_ring' in dat.colnames:\n",
    "        dat['good_ring'] = dat['good_ring'].astype(bool)\n",
    "    if 'is_valid' in dat2.colnames:\n",
    "        dat2['is_valid'] = dat2['is_valid'].astype(bool)\n",
    "    if 'parameters_at_limit' in dat2.colnames:\n",
    "        dat2['parameters_at_limit'] = dat2['parameters_at_limit'].astype(bool)       \n",
    "    if 'good_ring' in dat2.colnames:\n",
    "        dat2['good_ring'] = dat2['good_ring'].astype(bool)\n",
    "    \n",
    "    # Stack the tables\n",
    "    if dat is None:\n",
    "        dat = dat2\n",
    "    else:\n",
    "        dat = vstack([dat, dat2])\n",
    "\n",
    "df = dat.to_pandas()\n",
    "df_sim_0015_alignment_2700m = df[\n",
    "    df['good_ring'] & \n",
    "    (df['muon_efficiency'] < muon_efficiency_cut) & \n",
    "    (df['size_outside'] < size_outside_cut)\n",
    "]\n",
    "\n",
    "df_sim_0015_alignment_2700m"
   ]
  },
  {
   "cell_type": "markdown",
   "metadata": {},
   "source": [
    "# Data"
   ]
  },
  {
   "cell_type": "code",
   "execution_count": null,
   "metadata": {},
   "outputs": [],
   "source": [
    "muon_files = glob.glob('/Users/vdk/Documents/DocumentsVadymMacBookWork/all_muon_fits/low_nsb_filter/*')\n",
    "for i, filename in enumerate(sorted(muon_files)):\n",
    "    print(i, filename)"
   ]
  },
  {
   "cell_type": "code",
   "execution_count": null,
   "metadata": {},
   "outputs": [],
   "source": [
    "muon_files = glob.glob('/Users/vdk/Documents/DocumentsVadymMacBookWork/all_muon_fits/low_nsb_filter/*')\n",
    "# for i, filename in enumerate(sorted(muon_files)):\n",
    "#     print(i, filename)\n",
    "\n",
    "df_files = [\n",
    "    pd.read_csv(muon_file, na_values=['NA', '?']).query(\n",
    "        '(muon_efficiency < @muon_efficiency_cut) & '\n",
    "        '(size_outside < @size_outside_cut) & '\n",
    "        '(event_time >= @start_date_2024) & '\n",
    "        '(event_time <= @end_date_2024)'\n",
    "    )\n",
    "    for muon_file in sorted(muon_files)[-1:]\n",
    "]\n",
    "\n",
    "df_good_data_real = pd.concat(df_files, ignore_index=True)\n",
    "df_good_data_real"
   ]
  },
  {
   "cell_type": "code",
   "execution_count": null,
   "metadata": {},
   "outputs": [],
   "source": [
    "min_event_time = min(df_good_data_real['event_time'])\n",
    "max_event_time = max(df_good_data_real['event_time'])\n",
    "\n",
    "min_event_time_formatted = datetime.fromtimestamp(min_event_time).strftime('%d:%m:%Y')\n",
    "max_event_time_formatted = datetime.fromtimestamp(max_event_time).strftime('%d:%m:%Y')\n",
    "\n",
    "print(min_event_time_formatted)\n",
    "print(max_event_time_formatted)"
   ]
  },
  {
   "cell_type": "code",
   "execution_count": null,
   "metadata": {},
   "outputs": [],
   "source": [
    "winter_good_data_2024 = glob.glob('/Users/vdk/muons2024/data_quality_winter_2024/tables/*')\n",
    "\n",
    "dat = Table.read('{}'.format(winter_good_data_2024[0]), format='fits')\n",
    "\n",
    "for muon_file in winter_good_data_2024:\n",
    "    dat2 = Table.read(muon_file, format='fits')\n",
    "\n",
    "    if 'good_ring' in dat.colnames:\n",
    "        dat['good_ring'] = dat['good_ring'].astype(bool)\n",
    "    if 'is_valid' in dat2.colnames:\n",
    "        dat2['is_valid'] = dat2['is_valid'].astype(bool)\n",
    "    if 'parameters_at_limit' in dat2.colnames:\n",
    "        dat2['parameters_at_limit'] = dat2['parameters_at_limit'].astype(bool)       \n",
    "    if 'good_ring' in dat2.colnames:\n",
    "        dat2['good_ring'] = dat2['good_ring'].astype(bool)\n",
    "    \n",
    "    # Stack the tables\n",
    "    if dat is None:\n",
    "        dat = dat2\n",
    "    else:\n",
    "        dat = vstack([dat, dat2])\n",
    "\n",
    "df = dat.to_pandas()\n",
    "\n",
    "df_good_data_winter_2024 = df[\n",
    "    df['good_ring'] & \n",
    "    (df['muon_efficiency'] < muon_efficiency_cut) & \n",
    "    (df['size_outside'] < size_outside_cut)\n",
    "]\n",
    "\n",
    "df_good_data_winter_2024"
   ]
  },
  {
   "cell_type": "code",
   "execution_count": null,
   "metadata": {},
   "outputs": [],
   "source": [
    "min_event_time = min(df_good_data_winter_2024['event_time'])\n",
    "max_event_time = max(df_good_data_winter_2024['event_time'])\n",
    "\n",
    "min_event_time_formatted = datetime.fromtimestamp(min_event_time).strftime('%d:%m:%Y')\n",
    "max_event_time_formatted = datetime.fromtimestamp(max_event_time).strftime('%d:%m:%Y')\n",
    "\n",
    "print(min_event_time_formatted)\n",
    "print(max_event_time_formatted)"
   ]
  },
  {
   "cell_type": "markdown",
   "metadata": {},
   "source": [
    "# Applying cuts"
   ]
  },
  {
   "cell_type": "code",
   "execution_count": null,
   "metadata": {},
   "outputs": [],
   "source": [
    "ring_completeness_cut = 0\n",
    "ring_containment_cut = 0\n",
    "min_radius_cut = 0.8\n",
    "max_radius_cut = 1.5\n",
    "ring_center_distance_cut = 2\n",
    "impact_distance_cut = 15\n"
   ]
  },
  {
   "cell_type": "code",
   "execution_count": null,
   "metadata": {},
   "outputs": [],
   "source": [
    "def calculate_survival_percentage(df, df_cut):\n",
    "    return (len(df_cut) / len(df)) * 100\n",
    "\n",
    "def apply_cuts(df, completeness_cut, containment_cut, min_radius_cut, max_radius_cut, center_distance_cut, impact_distance_cut):\n",
    "    return df[\n",
    "        (df['ring_completeness'] > completeness_cut) &\n",
    "        (df['ring_containment'] > containment_cut) &\n",
    "        (df['ring_radius'] > min_radius_cut) &\n",
    "        (df['ring_radius'] < max_radius_cut) &\n",
    "        (df['ring_center_y'].abs() < center_distance_cut) &\n",
    "        (df['impact_parameter'] < impact_distance_cut)\n",
    "    ]\n",
    "\n",
    "\n",
    "# Apply cuts to each dataframe\n",
    "# df_data_cut = apply_cuts(df_good_data_real, ring_completeness_cut, ring_containment_cut, min_radius_cut, max_radius_cut, ring_center_distance_cut, impact_distance_cut)\n",
    "# print(f\"Events survived for df_data_cut: {len(df_data_cut)} ({calculate_survival_percentage(df_good_data_real, df_data_cut):.2f}%) out of {len(df_good_data_real)}\")\n",
    "\n",
    "df_good_data_winter_2024_cut = apply_cuts(df_good_data_winter_2024, ring_completeness_cut, ring_containment_cut, min_radius_cut, max_radius_cut, ring_center_distance_cut, impact_distance_cut)\n",
    "print(f\"Events survived for df_good_data_winter_2024_cut: {len(df_good_data_winter_2024_cut)} ({calculate_survival_percentage(df_good_data_winter_2024, df_good_data_winter_2024_cut):.2f}%) out of {len(df_good_data_winter_2024)}\")\n",
    "\n",
    "df_sim_00043_cut = apply_cuts(df_sim_00043_alignment, ring_completeness_cut, ring_containment_cut, min_radius_cut, max_radius_cut, ring_center_distance_cut, impact_distance_cut)\n",
    "print(f\"Events survived for df_sim_00043_cut: {len(df_sim_00043_cut)} ({calculate_survival_percentage(df_sim_00043_alignment, df_sim_00043_cut):.2f}%) out of {len(df_sim_00043_alignment)}\")\n",
    "\n",
    "df_sim_0015_cut = apply_cuts(df_sim_0015_alignment, ring_completeness_cut, ring_containment_cut, min_radius_cut, max_radius_cut, ring_center_distance_cut, impact_distance_cut)\n",
    "print(f\"Events survived for df_sim_0015_cut: {len(df_sim_0015_cut)} ({calculate_survival_percentage(df_sim_0015_alignment, df_sim_0015_cut):.2f}%) out of {len(df_sim_0015_alignment)}\")\n",
    "\n",
    "df_sim_0015_cut_3200m = apply_cuts(df_sim_0015_alignment_3200m, ring_completeness_cut, ring_containment_cut, min_radius_cut, max_radius_cut, ring_center_distance_cut, impact_distance_cut)\n",
    "print(f\"Events survived for df_sim_0015_alignment_3200m_cut: {len(df_sim_0015_cut_3200m)} ({calculate_survival_percentage(df_sim_0015_alignment_3200m, df_sim_0015_cut_3200m):.2f}%) out of {len(df_sim_0015_alignment_3200m)}\")\n",
    "\n",
    "df_sim_0015_cut_2700m = apply_cuts(df_sim_0015_alignment_2700m, ring_completeness_cut, ring_containment_cut, min_radius_cut, max_radius_cut, ring_center_distance_cut, impact_distance_cut)\n",
    "print(f\"Events survived for df_sim_0015_alignment_2700m_cut: {len(df_sim_0015_cut_2700m)} ({calculate_survival_percentage(df_sim_0015_alignment_2700m, df_sim_0015_cut_2700m):.2f}%) out of {len(df_sim_0015_alignment_2700m)}\")\n",
    "\n",
    "df_sim_broken_cut = apply_cuts(df_sim_broken, ring_completeness_cut, ring_containment_cut, min_radius_cut, max_radius_cut, ring_center_distance_cut, impact_distance_cut)\n",
    "print(f\"Events survived for df_sim_broken_cut: {len(df_sim_broken_cut)} ({calculate_survival_percentage(df_sim_broken, df_sim_broken_cut):.2f}%) out of {len(df_sim_broken)}\")"
   ]
  },
  {
   "cell_type": "markdown",
   "metadata": {},
   "source": [
    "# Functions for weighting"
   ]
  },
  {
   "cell_type": "code",
   "execution_count": null,
   "metadata": {},
   "outputs": [],
   "source": [
    "def weighted_data(df, power_index):\n",
    "    df_copy = copy.deepcopy(df[['ring_radius', 'mc_energy', 'ring_completeness', 'ring_containment', 'impact_parameter']])\n",
    "    df_copy['weights'] = df_copy['mc_energy'] ** (-power_index)\n",
    "    return df_copy"
   ]
  },
  {
   "cell_type": "code",
   "execution_count": null,
   "metadata": {},
   "outputs": [],
   "source": [
    "def calculate_weights_broken_power_law(df, energy_breaks, power_indices):\n",
    "    \"\"\"\n",
    "    Calculate weights using a broken power law.\n",
    "    \n",
    "    Parameters:\n",
    "    - df (pd.DataFrame): DataFrame with at least 'mc_energy' column.\n",
    "    - energy_breaks (list): List of energy breakpoints for the broken power law.\n",
    "    - power_indices (list): List of power indices for each energy segment.\n",
    "    \n",
    "    Returns:\n",
    "    - pd.DataFrame: A DataFrame with weights added.\n",
    "    \"\"\"\n",
    "    if len(energy_breaks) + 1 != len(power_indices):\n",
    "        raise ValueError(\"The number of power indices must be one more than the number of energy breaks.\")\n",
    "    \n",
    "    df_copy = df.copy()\n",
    "    df_copy['weights'] = np.nan\n",
    "\n",
    "    # Assign weights based on the energy ranges\n",
    "    for i, power_index in enumerate(power_indices):\n",
    "        if i == 0:\n",
    "            mask = df_copy['mc_energy'] < energy_breaks[0]\n",
    "            print(f\"LEN MASK {sum(mask)}\")\n",
    "        elif i == len(power_indices) - 1:\n",
    "            mask = df_copy['mc_energy'] >= energy_breaks[-1]\n",
    "            print(f\"LEN MASK {sum(mask)}\")\n",
    "        else:\n",
    "            mask = (df_copy['mc_energy'] >= energy_breaks[i - 1]) & (df_copy['mc_energy'] < energy_breaks[i])\n",
    "            print(f\"LEN MASK {sum(mask)}\")\n",
    "        \n",
    "        df_copy.loc[mask, 'weights'] = df_copy.loc[mask, 'mc_energy'] ** (-power_index)\n",
    "\n",
    "    return df_copy\n"
   ]
  },
  {
   "cell_type": "markdown",
   "metadata": {},
   "source": [
    "# Applying weights"
   ]
  },
  {
   "cell_type": "code",
   "execution_count": null,
   "metadata": {},
   "outputs": [],
   "source": [
    "energy_breaks = [0.01, 0.02]\n",
    "power_indices = [0.12, 0.46, 0.71]\n",
    "\n",
    "df_sim_broken_power_law_weight_all_3200m = calculate_weights_broken_power_law(\n",
    "    df_sim_0015_cut_3200m, energy_breaks, power_indices\n",
    ")"
   ]
  },
  {
   "cell_type": "code",
   "execution_count": null,
   "metadata": {},
   "outputs": [],
   "source": [
    "df_sim_broken_power_law_weight_all_3200m['weights']"
   ]
  },
  {
   "cell_type": "code",
   "execution_count": null,
   "metadata": {},
   "outputs": [],
   "source": [
    "print(7.897**(-1/0.71))\n",
    "print(1.74 ** (-1/0.12))"
   ]
  },
  {
   "cell_type": "code",
   "execution_count": null,
   "metadata": {},
   "outputs": [],
   "source": [
    "df_sim_broken_power_law_weight_all_3200m['mc_energy']"
   ]
  },
  {
   "cell_type": "code",
   "execution_count": null,
   "metadata": {},
   "outputs": [],
   "source": [
    "df_sim_standard_power_law_weigth = weighted_data(df_sim_0015_cut, 0.7)\n",
    "\n",
    "df_test = weighted_data(df_sim_0015_cut_3200m, 0.7)\n",
    "\n",
    "df_sim_broken_power_law_weight_016 = weighted_data(df_sim_0015_cut[df_sim_0015_cut['mc_energy'] < 0.01], 0.12)\n",
    "df_sim_broken_power_law_weight_046 = weighted_data(df_sim_0015_cut[(df_sim_0015_cut['mc_energy'] > 0.01) & (df_sim_0015_cut['mc_energy'] < 0.02)], 0.46)\n",
    "#df_sim_broken_power_law_weight_046 = weighted_data(df_sim_0015_cut[(df_sim_0015_cut['mc_energy'] < 0.02)], 0.46)\n",
    "df_sim_broken_power_law_weight_071 = weighted_data(df_sim_0015_cut[df_sim_0015_cut['mc_energy'] >= 0.02], 0.71)\n",
    "\n",
    "df_sim_broken_power_law_weight_all = pd.concat([df_sim_broken_power_law_weight_046, df_sim_broken_power_law_weight_071], ignore_index=True)"
   ]
  },
  {
   "cell_type": "code",
   "execution_count": null,
   "metadata": {},
   "outputs": [],
   "source": [
    "ring_completeness_cut_hist = 0\n",
    "bin_number = 100\n",
    "density_param = True\n",
    "\n",
    "min_value = min_radius_cut\n",
    "max_value = max_radius_cut\n",
    "\n",
    "# Define the bin edges\n",
    "bins = np.linspace(min_value, max_value, bin_number)  \n",
    "\n",
    "plt.figure(figsize=(11,8))\n",
    "\n",
    "# print(f\"Size of df_sim_standard_power_law_weigth: {len(df_sim_standard_power_law_weigth)}\")\n",
    "# print(f\"Size of df_sim_broken_power_law_weight_all: {len(df_sim_broken_power_law_weight_all)}\")\n",
    "print(f\"Size of df_sim_0015_cut: {len(df_sim_0015_cut)}\")\n",
    "\n",
    "# z,x,c = plt.hist(df_sim_standard_power_law_weigth['ring_radius'][\n",
    "#                  df_sim_standard_power_law_weigth['ring_completeness'] > ring_completeness_cut_hist], \n",
    "#                  weights=df_sim_standard_power_law_weigth['weights'][df_sim_standard_power_law_weigth['ring_completeness'] > ring_completeness_cut_hist],\n",
    "#                  bins=bins, \n",
    "#                  label='Standard Reweighted Simulation', \n",
    "#                  histtype='step', \n",
    "#                  density=density_param, \n",
    "#                  lw=3\n",
    "#                 )\n",
    "\n",
    "# z,x,c = plt.hist(df_sim_broken_power_law_weight_all['ring_radius'], weights=df_sim_broken_power_law_weight_all['weights'], bins=bin_number, label='Broken Power Law Reweighted Simulation',\n",
    "#          alpha=0.5, histtype='step', density=density_param, lw=3)\n",
    "\n",
    "# z,x,c = plt.hist(df_sim_0015_cut['ring_radius'][df_sim_0015_cut['ring_completeness'] > ring_completeness_cut_hist], bins=bins, label='Original Simulation with cut',\n",
    "#          alpha=0.5, density=density_param)\n",
    "\n",
    "z,x,c = plt.hist(df_sim_0015_cut['ring_radius'], bins=bins, label='Original Simulation',\n",
    "         alpha=0.7, density=density_param, histtype='step', lw=3)\n",
    "\n",
    "# z,x,c = plt.hist(df_data_cut['ring_radius'][df_data_cut['ring_completeness'] > ring_completeness_cut_hist], bins=bins, label='All 2024 year data',\n",
    "#          alpha=0.7, density=density_param, histtype='step', lw=3)\n",
    "\n",
    "z,x,c = plt.hist(df_good_data_winter_2024_cut['ring_radius'][df_good_data_winter_2024_cut['ring_completeness'] > ring_completeness_cut_hist], bins=bins, label='Winter 2024 + zenith angle < 20 deg + good atmo conditions',\n",
    "         alpha=0.5, density=density_param)\n",
    "\n",
    "z,x,c = plt.hist(df_sim_0015_cut_3200m['ring_radius'], bins=bins, label='Simulations for start height 3200m',\n",
    "         alpha=0.5, density=density_param)\n",
    "\n",
    "# z,x,c = plt.hist(df_test['ring_radius'], weights=df_test['weights'], bins=bins, label='Simulations for start height 3200m PL reweighted',\n",
    "#          alpha=0.5, density=density_param, histtype='step', lw=3)\n",
    "\n",
    "# z,x,c = plt.hist(df_test['ring_radius'], weights=df_sim_broken_power_law_weight_all_3200m['weights'], bins=bins, label='Simulations for start height 3200m Broken PL reweighted',\n",
    "#          alpha=0.5, density=density_param, histtype='step', lw=3)\n",
    "\n",
    "#z,x,c = plt.hist(df_sim_broken_cut['ring_radius'], bins=bins, label='Simulations for broken spectrum', histtype='step', lw=3, density=density_param)\n",
    "\n",
    "z,x,c = plt.hist(df_sim_0015_cut_2700m['ring_radius'], bins=bins, label='Simulations for starting height 2700', histtype='step', lw=3, density=density_param)\n",
    "\n",
    "plt.xlabel('Ring Radius [deg]')\n",
    "plt.axvline(1.2157382060313375, lw = 2, ls = '-.', c = 'r', label = 'summer max ring radius on 2 km',alpha=0.75)\n",
    "plt.axvline(1.2354433340796351, lw = 2, ls = '-.', c = 'k', label = 'winter max ring radius on 2 km',alpha=0.75)\n",
    "plt.ylabel('Normalized Count')\n",
    "#plt.title('Histogram of Radius with Reweighted Energy Distribution')\n",
    "plt.xlim(0.7,1.3)\n",
    "#plt.ylim(0,10)\n",
    "plt.legend()\n",
    "plt.show()"
   ]
  },
  {
   "cell_type": "code",
   "execution_count": null,
   "metadata": {},
   "outputs": [],
   "source": [
    "plt.figure(figsize=(10,7))\n",
    "he_muons = df_sim_0015_cut[df_sim_0015_cut['mc_energy'] > 0.02]\n",
    "GeV_10_muons = df_sim_0015_cut[df_sim_0015_cut['mc_energy'] < 0.01]\n",
    "GeV_10_20_muons = df_sim_0015_cut[(df_sim_0015_cut['mc_energy'] > 0.01) & (df_sim_0015_cut['mc_energy'] < 0.02)]\n",
    "z,x,c = plt.hist(he_muons['ring_radius'], bins = 100, label='High Energy Muons')\n",
    "z,x,c = plt.hist(GeV_10_muons['ring_radius'], bins = 100, label='Muons < 10 GeV')\n",
    "z,x,c = plt.hist(GeV_10_20_muons['ring_radius'], bins = 100, label='10 GeV < Muons < 20 GeV')\n",
    "plt.xlabel('Radius')\n",
    "plt.ylabel('Normalized Count')\n",
    "plt.title('Histogram of Radius with Reweighted Energy Distribution')\n",
    "plt.xlim(0.9,1.3)\n",
    "#plt.ylim(0,1)\n",
    "plt.legend()\n",
    "plt.show()"
   ]
  },
  {
   "cell_type": "code",
   "execution_count": null,
   "metadata": {},
   "outputs": [],
   "source": [
    "bin_number_hist = 50\n",
    "IP_cut = 3\n",
    "plt.figure(figsize=(10,7))\n",
    "z,x,c = plt.hist(df_good_data_winter_2024_cut['ring_radius'], bins = bin_number_hist, label='Winter 2024 + zenith angle < 20 deg + good atmo conditions', density=True)\n",
    "z,x,c = plt.hist(df_good_data_winter_2024_cut['ring_radius'][df_good_data_winter_2024_cut['impact_parameter'] < 9.8], bins = bin_number_hist, label='+ IP<9.8m', density=True, histtype='step', lw=3)\n",
    "z,x,c = plt.hist(df_good_data_winter_2024_cut['ring_radius'][\n",
    "    (df_good_data_winter_2024_cut['impact_parameter'] < IP_cut) & \n",
    "    (df_good_data_winter_2024_cut['ring_center_x'] < 0.5) & \n",
    "    (df_good_data_winter_2024_cut['ring_center_y'] < 0.5)], \n",
    "    bins = bin_number_hist, \n",
    "    label=f'+ IP<{IP_cut}m + RC < 0.5deg', \n",
    "    density=True, \n",
    "    histtype='step', \n",
    "    lw=3\n",
    "    )\n",
    "plt.legend()\n",
    "plt.xlim(0.6, 1.5)\n",
    "plt.xlim(0.6, 1.5)"
   ]
  },
  {
   "cell_type": "code",
   "execution_count": null,
   "metadata": {},
   "outputs": [],
   "source": [
    "z,x,c = plt.hist(df_sim_0015_cut['impact_parameter'], bins = 100, label='Simulation')\n",
    "plt.axvline(5.5, c = 'r')\n",
    "plt.axvline(5.6, c = 'r')"
   ]
  },
  {
   "cell_type": "code",
   "execution_count": null,
   "metadata": {},
   "outputs": [],
   "source": [
    "len(df_sim_0015_cut['ring_radius'])"
   ]
  },
  {
   "cell_type": "code",
   "execution_count": null,
   "metadata": {},
   "outputs": [],
   "source": [
    "len(df_sim_0015_with_IP_cut['ring_radius']) - len(df_sim_0015_cut['ring_radius'])"
   ]
  },
  {
   "cell_type": "code",
   "execution_count": null,
   "metadata": {},
   "outputs": [],
   "source": [
    "plt.figure(figsize=(10,7))\n",
    "df_sim_0015_with_IP_cut = df_sim_0015_cut[(df_sim_0015_cut['impact_parameter'] < 5.5) | (df_sim_0015_cut['impact_parameter'] > 5.6)]\n",
    "\n",
    "z,x,c = plt.hist(df_sim_0015_with_IP_cut['ring_radius'], bins = 100, label='Simulation with IP cut')\n",
    "#z,x,c = plt.hist(df_good_data_winter_2024_cut['ring_radius'], bins = 100, label='Simulation with IP cut')\n",
    "z,x,c = plt.hist(df_sim_0015_cut['ring_radius'], bins = 100, label='Simulation without IP cut', histtype='step', lw=3)\n",
    "plt.legend()\n"
   ]
  },
  {
   "cell_type": "code",
   "execution_count": null,
   "metadata": {},
   "outputs": [],
   "source": [
    "z,x,c = plt.hist(df_sim_0015_with_IP_cut['impact_parameter'], bins = 100, label='Simulation with IP cut')"
   ]
  },
  {
   "cell_type": "code",
   "execution_count": null,
   "metadata": {},
   "outputs": [],
   "source": [
    "plt.hist(he_muons[he_muons['ring_radius'] < 1.17]['ring_completeness'], bins = 25)"
   ]
  },
  {
   "cell_type": "code",
   "execution_count": null,
   "metadata": {},
   "outputs": [],
   "source": []
  },
  {
   "cell_type": "code",
   "execution_count": null,
   "metadata": {},
   "outputs": [],
   "source": []
  },
  {
   "cell_type": "code",
   "execution_count": null,
   "metadata": {},
   "outputs": [],
   "source": []
  },
  {
   "cell_type": "code",
   "execution_count": null,
   "metadata": {},
   "outputs": [],
   "source": [
    "plt.figure(figsize=(10,8))\n",
    "\n",
    "# Calculate the weights\n",
    "df_sim_0015_cut['weights'] = df_sim_0015_cut['mc_energy'] ** -0.7\n",
    "\n",
    "# Determine the range for bins based on all datasets\n",
    "min_value = min(df_sim_0015_cut['ring_radius'].min(), df_data_cut['ring_radius'].min())\n",
    "max_value = max(df_sim_0015_cut['ring_radius'].max(), df_data_cut['ring_radius'].max())\n",
    "\n",
    "# Define the bin edges\n",
    "bins = np.linspace(min_value, max_value, 31)  # 30 bins between min_value and max_value\n",
    "\n",
    "# Plot the histogram of radius with the calculated weights\n",
    "plt.hist(df_sim_0015_cut['ring_radius'], weights=df_sim_0015_cut['weights'],\n",
    "         bins=bins, label='Reweighted Simulation', histtype='step', density=True, lw=2)\n",
    "\n",
    "plt.hist(df_sim_0015_cut['ring_radius'], bins=bins, label='Original Simulation',\n",
    "         alpha=0.5, density=True)\n",
    "\n",
    "plt.hist(df_data_cut['ring_radius'], bins=bins, label='Data', alpha=0.5, density=True)\n",
    "\n",
    "plt.xlabel('Radius')\n",
    "plt.ylabel('Normalized Count')\n",
    "plt.title('Histogram of Radius with Reweighted Energy Distribution')\n",
    "plt.legend()\n",
    "plt.show()"
   ]
  },
  {
   "cell_type": "code",
   "execution_count": null,
   "metadata": {},
   "outputs": [],
   "source": [
    "# plt.figure(figsize=(10,8))\n",
    "\n",
    "# # Calculate the weights\n",
    "# df_sim_0015_cut['weights'] = df_sim_0015_cut['mc_energy'] ** -0.7\n",
    "\n",
    "# # Determine the range for bins based on all datasets\n",
    "# min_value = min(df_sim_0015_cut['ring_radius'].min(), df_data_cut['ring_radius'].min())\n",
    "# max_value = max(df_sim_0015_cut['ring_radius'].max(), df_data_cut['ring_radius'].max())\n",
    "\n",
    "# # Define the bin edges\n",
    "# bins = np.linspace(min_value, max_value, 31)  # 30 bins between min_value and max_value\n",
    "\n",
    "# # Plot the histogram of radius with the calculated weights\n",
    "# plt.hist(df_sim_0015_cut['ring_radius'], weights=df_sim_0015_cut['weights'],\n",
    "#          bins=bins, label='Reweighted Simulation', histtype='step', density=True, lw=3)\n",
    "\n",
    "# plt.hist(df_data_cut['ring_radius'], bins=bins, label='Data', alpha=0.5, density=True, color = 'green')\n",
    "\n",
    "# plt.xlabel('Ring Radius')\n",
    "# plt.ylabel('Normalized Count')\n",
    "# plt.title('Histogram of Radius with Reweighted Energy Distribution for physicaly justified ring radius range')\n",
    "# plt.legend()\n",
    "# plt.show()"
   ]
  },
  {
   "cell_type": "code",
   "execution_count": null,
   "metadata": {},
   "outputs": [],
   "source": [
    "plt.hist(df_sim_0015_cut['mc_energy'], log=True)"
   ]
  },
  {
   "cell_type": "code",
   "execution_count": null,
   "metadata": {},
   "outputs": [],
   "source": [
    "min_value = min(df_sim_0015_cut['ring_radius'].min(), df_data_cut['ring_radius'].min())\n",
    "max_value = max(df_sim_0015_cut['ring_radius'].max(), df_data_cut['ring_radius'].max())\n",
    "\n",
    "\n",
    "bins = np.linspace(min_value, max_value, 31) \n",
    "\n",
    "plt.figure(figsize=(10,8))\n",
    "df_sim_0015_cut['weights'] = df_sim_0015_cut['mc_energy'] ** -0.46\n",
    "plt.hist(df_sim_0015_cut['ring_radius'][df_sim_0015_cut['mc_energy'] < 0.02], weights=df_sim_0015_cut['weights'][df_sim_0015_cut['mc_energy'] < 0.02], bins=bins, label='reweighting', histtype='step', density=True, lw = 2)\n",
    "plt.hist(df_sim_0015_cut['ring_radius'], bins=bins, label='no reweighting', alpha = 0.5, density=True)\n",
    "plt.hist(df_data_cut['ring_radius'], bins=bins, label='data', alpha = 0.5, density=True)\n",
    "plt.xlabel('Radius')\n",
    "plt.ylabel('Weighted Count')\n",
    "plt.title('Histogram of Radius with Reweighted Energy Distribution')\n",
    "plt.legend()\n",
    "plt.show()"
   ]
  },
  {
   "cell_type": "code",
   "execution_count": null,
   "metadata": {},
   "outputs": [],
   "source": [
    "plt.figure(figsize=(10,8))\n",
    "\n",
    "GeV_10_muons = df_sim_0015_cut[df_sim_0015_cut['mc_energy'] < 0.01][:34000000]\n",
    "GeV_20_muons = df_sim_0015_cut[(df_sim_0015_cut['mc_energy'] > 0.01) & (df_sim_0015_cut['mc_energy'] < 0.02)][:21750000]\n",
    "GeV_all_muons = df_sim_0015_cut[df_sim_0015_cut['mc_energy'] > 0.02][:952000000]\n",
    "\n",
    "min_value = min(df_sim_0015_cut['ring_radius'].min(), df_data_cut['ring_radius'].min())\n",
    "max_value = max(df_sim_0015_cut['ring_radius'].max(), df_data_cut['ring_radius'].max())\n",
    "\n",
    "bins = np.linspace(min_value, max_value, 31) \n",
    "bins = 30\n",
    "\n",
    "GeV_10_muons['weights'] = GeV_10_muons['mc_energy'] ** -0.16\n",
    "GeV_20_muons['weights'] = GeV_20_muons['mc_energy'] ** -0.46\n",
    "GeV_all_muons['weights'] = GeV_all_muons['mc_energy'] ** -0.16\n",
    "plt.hist(GeV_10_muons['ring_radius'], bins=bins, label='< 10 GeV', weights=GeV_10_muons['weights'], alpha = 0.5, density=True)\n",
    "plt.hist(GeV_20_muons['ring_radius'], bins=bins, label='10-20 GeV', weights=GeV_20_muons['weights'], alpha = 0.5, density=True)\n",
    "plt.hist(GeV_all_muons['ring_radius'], bins=bins, label='20+ GeV', weights=GeV_all_muons['weights'], alpha = 0.5, density=True)\n",
    "#plt.hist(df_sim_0015_cut['ring_radius'], bins=bins, label='no reweighting', alpha = 0.5, density=True)\n",
    "plt.hist(df_data_cut['ring_radius'], bins=bins, label='data', alpha = 0.5, density=True)\n",
    "plt.xlabel('Radius')\n",
    "plt.ylabel('Weighted Count')\n",
    "plt.title('Histogram of Radius with Reweighted Energy Distribution')\n",
    "plt.legend()\n",
    "plt.show()"
   ]
  },
  {
   "cell_type": "code",
   "execution_count": null,
   "metadata": {},
   "outputs": [],
   "source": [
    "plt.figure(figsize=(10,8))\n",
    "new_weights = pd.concat([\n",
    "    GeV_10_muons['weights'],\n",
    "    GeV_20_muons['weights'],\n",
    "    GeV_all_muons['weights']\n",
    "], ignore_index=True)\n",
    "all_muons = pd.concat([\n",
    "    GeV_10_muons,\n",
    "    GeV_20_muons,\n",
    "    GeV_all_muons\n",
    "], ignore_index=True)\n",
    "\n",
    "plt.hist(all_muons['ring_radius'], bins=bins, label='Broken Power Law weighting', weights=new_weights, alpha = 0.9, density=True, histtype='step', lw = 2)\n",
    "#plt.hist(df_sim_0015_cut['ring_radius'], bins=bins, label='no reweighting', alpha = 0.5, density=True)\n",
    "plt.hist(df_data_cut['ring_radius'], bins=bins, label='data', alpha = 0.5, density=True)\n",
    "plt.xlabel('Radius')\n",
    "plt.ylabel('Weighted Count')\n",
    "plt.title('Histogram of Radius with Reweighted Energy Distribution')\n",
    "plt.legend()\n",
    "plt.show()"
   ]
  },
  {
   "cell_type": "code",
   "execution_count": null,
   "metadata": {},
   "outputs": [],
   "source": []
  },
  {
   "cell_type": "code",
   "execution_count": null,
   "metadata": {},
   "outputs": [],
   "source": [
    "plt.figure(figsize=(10,8))\n",
    "\n",
    "def get_power_index(mc_energy):\n",
    "    if mc_energy < 0.01:\n",
    "        return -0.16\n",
    "    elif 0.01 <= mc_energy < 0.02:\n",
    "        return -0.46\n",
    "    else:\n",
    "        return -0.7\n",
    "\n",
    "# Apply the power index to calculate weights\n",
    "df_sim_0015_cut['weights'] = df_sim_0015_cut['mc_energy'].apply(lambda x: x ** get_power_index(x))\n",
    "plt.hist(df_sim_0015_cut['ring_radius'], weights=df_sim_0015_cut['weights'], bins=30, label='reweighting', histtype='step', density=True, lw = 2)\n",
    "plt.hist(df_sim_0015_cut['ring_radius'], bins=30, label='no reweighting', alpha = 0.5, density=True)\n",
    "plt.hist(df_data_cut['ring_radius'], bins=30, label='data', alpha = 0.5, density=True)\n",
    "plt.xlabel('Radius')\n",
    "plt.ylabel('Weighted Count')\n",
    "plt.title('Histogram of Radius with Reweighted Energy Distribution')\n",
    "plt.legend()\n",
    "plt.show()"
   ]
  },
  {
   "cell_type": "code",
   "execution_count": null,
   "metadata": {},
   "outputs": [],
   "source": [
    "df_sim_0015_cut"
   ]
  },
  {
   "cell_type": "code",
   "execution_count": null,
   "metadata": {},
   "outputs": [],
   "source": [
    "mc_energy = df_sim_0015_cut['mc_energy']\n",
    "\n",
    "conditions = [\n",
    "    mc_energy < 0.01,\n",
    "    (mc_energy >= 0.01) & (mc_energy < 0.02),\n",
    "    mc_energy >= 0.02\n",
    "]\n",
    "choices = [-0.16, -0.46, -0.7]\n",
    "exponents = np.select(conditions, choices, default=-0.7)\n",
    "\n",
    "df_sim_0015_cut['weights'] = mc_energy ** exponents\n",
    "\n",
    "plt.figure(figsize=(10,8))\n",
    "\n",
    "plt.hist(df_sim_0015_cut['ring_radius'], weights=df_sim_0015_cut['weights'], bins=30, label='reweighting', histtype='step', density=True, lw = 2)\n",
    "plt.hist(df_sim_0015_cut['ring_radius'], weights=df_sim_0015_cut['weights'], bins=30, label='broken power law', histtype='step', density=True, lw = 2)\n",
    "plt.hist(df_sim_0015_cut['ring_radius'], bins=30, label='no reweighting', alpha = 0.5, density=True)\n",
    "#plt.hist(df_data_cut['ring_radius'], bins=30, label='data', alpha = 0.5, density=True)\n",
    "\n",
    "plt.xlabel('Radius')\n",
    "plt.ylabel('Weighted Count')\n",
    "plt.title('Histogram of Radius with Reweighted Energy Distribution')\n",
    "plt.legend()\n",
    "plt.show()"
   ]
  },
  {
   "cell_type": "code",
   "execution_count": null,
   "metadata": {},
   "outputs": [],
   "source": [
    "plt.figure(figsize=(10,8))\n",
    "mc_energy = df_sim_0015_cut['mc_energy']\n",
    "\n",
    "conditions = [\n",
    "    mc_energy < 0.01,\n",
    "    (mc_energy >= 0.01) & (mc_energy < 0.02),\n",
    "    mc_energy >= 0.02\n",
    "]\n",
    "\n",
    "choices = [-0.16, -0.46, -0.7]\n",
    "exponents = np.select(conditions, choices, default=-0.7)\n",
    "\n",
    "df_sim_0015_cut['broken_weights'] = mc_energy ** exponents\n",
    "\n",
    "df_sim_0015_cut['weights'] = df_sim_0015_cut['mc_energy'] ** -0.7\n",
    "\n",
    "z,x,c = plt.hist(df_sim_0015_cut['mc_energy'], log = True, alpha = 0.5, bins = 2000)\n",
    "z,x,c = plt.hist(df_sim_0015_cut['mc_energy'], weights=df_sim_0015_cut['weights'], log=True,  histtype='step', label='weighted to -2.7', lw = 3, bins = 2000)\n",
    "z,x,c = plt.hist(df_sim_0015_cut['mc_energy'], weights=df_sim_0015_cut['broken_weights'], log=True,  histtype='step', label='broken power law', lw = 3, bins = 2000)\n",
    "plt.xlim(0,0.03)\n",
    "plt.legend()"
   ]
  },
  {
   "cell_type": "code",
   "execution_count": null,
   "metadata": {},
   "outputs": [],
   "source": [
    "mc_energy = df_sim_0015_cut['mc_energy']\n",
    "conditions = [\n",
    "    mc_energy < 0.01,\n",
    "    (mc_energy >= 0.01) & (mc_energy < 0.02),\n",
    "    mc_energy >= 0.02\n",
    "]\n",
    "choices = [-0.16, -0.46, -0.7]\n",
    "exponents = np.select(conditions, choices, default=-0.7)\n",
    "df_sim_0015_cut['weights'] = mc_energy ** exponents\n",
    "df_sim_0015_cut['weights']"
   ]
  },
  {
   "cell_type": "code",
   "execution_count": null,
   "metadata": {},
   "outputs": [],
   "source": [
    "df_sim_0015_cut['weights'] = df_sim_0015_cut['mc_energy'] ** -0.7\n",
    "df_sim_0015_cut['weights']"
   ]
  },
  {
   "cell_type": "markdown",
   "metadata": {},
   "source": [
    "# Ring Radius vs Completeness"
   ]
  },
  {
   "cell_type": "code",
   "execution_count": null,
   "metadata": {},
   "outputs": [],
   "source": [
    "plt.scatter(df_data_cut['ring_completeness'],df_data_cut['ring_radius'], s = 1)"
   ]
  },
  {
   "cell_type": "code",
   "execution_count": null,
   "metadata": {},
   "outputs": [],
   "source": [
    "plt.scatter(df_sim_0015_cut['ring_completeness'],df_sim_0015_cut['ring_radius'], s = 1)"
   ]
  },
  {
   "cell_type": "code",
   "execution_count": null,
   "metadata": {},
   "outputs": [],
   "source": [
    "plt.figure(figsize=(8, 6))\n",
    "plt.hist2d(df_data_cut['ring_radius'], df_data_cut['ring_completeness'], bins=100, cmap='viridis')\n",
    "plt.colorbar(label='Count')\n",
    "plt.xlabel('Ring Radius')\n",
    "plt.ylabel('Ring Completeness')\n",
    "plt.title('2D Histogram of Ring Radius vs. Ring Completeness')\n",
    "plt.show()"
   ]
  },
  {
   "cell_type": "code",
   "execution_count": null,
   "metadata": {},
   "outputs": [],
   "source": [
    "plt.figure(figsize=(8, 6))\n",
    "plt.hist2d(df_sim_0015_cut['ring_radius'], df_sim_0015_cut['ring_completeness'], bins=100, cmap='viridis')\n",
    "plt.colorbar(label='Count')\n",
    "plt.xlabel('Ring Radius')\n",
    "plt.ylabel('Ring Completeness')\n",
    "plt.title('2D Histogram of Ring Radius vs. Ring Completeness')\n",
    "plt.show()"
   ]
  },
  {
   "cell_type": "code",
   "execution_count": null,
   "metadata": {},
   "outputs": [],
   "source": [
    "z,x,c = plt.hist(df_data_cut['ring_completeness'], bins = 100, density=True)\n",
    "z,x,c = plt.hist(df_sim_0015_cut['ring_completeness'], bins = 100, density=True, alpha = 0.5)"
   ]
  },
  {
   "cell_type": "code",
   "execution_count": null,
   "metadata": {},
   "outputs": [],
   "source": [
    "z,x,c = plt.hist(df_data_cut['ring_completeness'][df_data_cut['ring_completeness'] > 0.6], bins = 100, density=True)\n",
    "z,x,c = plt.hist(df_sim_0015_cut['ring_completeness'][df_sim_0015_cut['ring_completeness'] > 0.6], bins = 100, density=True, alpha = 0.5)"
   ]
  },
  {
   "cell_type": "code",
   "execution_count": null,
   "metadata": {},
   "outputs": [],
   "source": []
  }
 ],
 "metadata": {
  "kernelspec": {
   "display_name": "cta-dev",
   "language": "python",
   "name": "python3"
  },
  "language_info": {
   "codemirror_mode": {
    "name": "ipython",
    "version": 3
   },
   "file_extension": ".py",
   "mimetype": "text/x-python",
   "name": "python",
   "nbconvert_exporter": "python",
   "pygments_lexer": "ipython3",
   "version": "3.10.14"
  }
 },
 "nbformat": 4,
 "nbformat_minor": 2
}
