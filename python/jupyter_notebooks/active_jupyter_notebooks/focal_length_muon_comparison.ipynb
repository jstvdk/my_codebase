{
 "cells": [
  {
   "cell_type": "code",
   "execution_count": null,
   "metadata": {},
   "outputs": [],
   "source": [
    "import h5py\n",
    "import numpy as np\n",
    "from astropy.table import Table, vstack\n",
    "import pandas as pd\n",
    "import matplotlib.pyplot as plt\n",
    "from astropy.table import Table\n",
    "import numpy as np\n",
    "import math\n",
    "import warnings\n",
    "import matplotlib.pyplot as plt\n",
    "import glob\n"
   ]
  },
  {
   "cell_type": "markdown",
   "metadata": {},
   "source": [
    "# Methods"
   ]
  },
  {
   "cell_type": "code",
   "execution_count": null,
   "metadata": {},
   "outputs": [],
   "source": [
    "def reweight_gaug(data, zenith, alpha  = 0.7, is_data=False):\n",
    "    if is_data:\n",
    "        weights = np.ones(len(data))/len(data)\n",
    "    else:\n",
    "        zenith = np.deg2rad(zenith)\n",
    "        weights = np.ones(len(data))\n",
    "        weights = data['mc_energy']**(-alpha) * (1/(1 + 1.1 * data['mc_energy'] * 1000 * np.cos(np.deg2rad(zenith))/115) + 0.054/(1 + 1.1 * data['mc_energy'] * 1000 * np.cos(np.deg2rad(zenith))/850))\n",
    "    return weights / np.sum(weights)\n",
    "\n",
    "def check_h5_structure(file_path):\n",
    "    with h5py.File(file_path, \"r\") as h5_file:\n",
    "        \n",
    "        # List all groups in the file\n",
    "        print(\"Groups in the file:\")\n",
    "        for group in h5_file:\n",
    "            print(group)\n",
    "        \n",
    "        # You can also recursively list all datasets\n",
    "        def print_structure(name, obj):\n",
    "            print(f\"{name}: {obj}\")\n",
    "        \n",
    "        print(\"\\nFile structure:\")\n",
    "        h5_file.visititems(print_structure)\n",
    "\n",
    "def read_and_process_fits(files):\n",
    "    dat = None\n",
    "    for muon_file in files:\n",
    "        dat2 = Table.read(muon_file, format='fits')\n",
    "        \n",
    "        # Convert columns to boolean if they exist\n",
    "        for col in ['good_ring', 'is_valid', 'parameters_at_limit']:\n",
    "            if col in dat2.colnames:\n",
    "                dat2[col] = dat2[col].astype(bool)\n",
    "        \n",
    "        # Stack the tables\n",
    "        dat = vstack([dat, dat2]) if dat is not None else dat2\n",
    "    \n",
    "    return dat\n",
    "\n",
    "def plot_columns(df_lstchain, df_ctapipe, columns_lstchain, columns_ctapipe, rows, cols, bin_power = 0.4, apply_weight=True, plot_option=True):\n",
    "    fig, axes = plt.subplots(rows, cols, figsize=(12, 18))\n",
    "    axes = axes.flatten()\n",
    "    \n",
    "    for i, col in enumerate(columns_lstchain):\n",
    "        lstchain_values = df_lstchain[col][~np.isnan(df_lstchain[col])]\n",
    "        ctapipe_values = df_ctapipe[columns_ctapipe[i]][~np.isnan(df_ctapipe[columns_ctapipe[i]])]\n",
    "    \n",
    "\n",
    "        min_value = min(min(ctapipe_values), min(lstchain_values))\n",
    "        max_value = max(max(ctapipe_values), max(lstchain_values))\n",
    "\n",
    "        num_bins = int(max(len(df_lstchain)**bin_power, len(df_ctapipe))**bin_power)\n",
    "        #num_bins = max(10, min(num_bins, 50))\n",
    "\n",
    "        \n",
    "        bins = np.linspace(min_value, max_value, num_bins + 1)\n",
    "\n",
    "        if apply_weight:\n",
    "            lst_weights = reweight_gaug(df_lstchain, 10, 0.7, False)\n",
    "            ctapipe_weights = reweight_gaug(df_ctapipe, 10, 0.7, False)\n",
    "            axes[i].hist(lstchain_values, weights=lst_weights, bins=bins, alpha=0.6, color='k', density=True, label='Data', histtype='step', lw=2)\n",
    "            axes[i].hist(ctapipe_values, weights=ctapipe_weights, bins=bins, alpha=0.85, color='orange', density=True, label=f'Muon Simulation 0.0046deg', histtype='step', lw=2)\n",
    "        else:\n",
    "            axes[i].hist(lstchain_values, bins=bins, alpha=0.6, color='k', density=True, label='lstchain', histtype='step', lw=2)\n",
    "            axes[i].hist(ctapipe_values, bins=bins, alpha=0.85, color='orange', density=True, label=f'ctapipe', histtype='step', lw=2)\n",
    "\n",
    "        axes[i].set_title(f'Histogram of {col}')\n",
    "        axes[i].set_xlabel(col)\n",
    "        axes[i].set_ylabel('Normalized Frequency')\n",
    "        axes[i].legend(loc='upper right')\n",
    "\n",
    "    plt.tight_layout()\n",
    "    if plot_option:\n",
    "        plt.savefig(f'/Users/vdk/muons2024/basic_distributions/PROTONS_noringcenter_{name}_radiuscut={min_radius_cut}-{max_radius_cut}_completeness={ring_completeness_cut}_centerdistance={ring_center_distance_cut}_impactdistance={impact_distance_cut}_widthquantile={QUANTILE_CUT}.pdf', dpi=200)\n",
    "    plt.show()\n",
    "\n",
    "comparison_columns_lstchain = [\n",
    "    'ring_size', \n",
    "    'ring_center_x', \n",
    "    'ring_center_y', \n",
    "    'ring_radius',  \n",
    "    'ring_width', \n",
    "    'impact_parameter', \n",
    "    'muon_efficiency',\n",
    "    'radial_stdev',\n",
    "    ]\n",
    "comparison_columns_ctapipe = [\n",
    "    'muonparameters_ring_size', \n",
    "    'muonring_center_fov_lon', \n",
    "    'muonring_center_fov_lat', \n",
    "    'muonring_radius',  \n",
    "    'muonefficiency_width', \n",
    "    'muonefficiency_impact',\n",
    "    'muonefficiency_optical_efficiency',\n",
    "    'muonparameters_standard_dev'\n",
    "]"
   ]
  },
  {
   "cell_type": "markdown",
   "metadata": {},
   "source": [
    "# ctapipe data"
   ]
  },
  {
   "cell_type": "code",
   "execution_count": null,
   "metadata": {},
   "outputs": [],
   "source": [
    "folder_path = '/Users/vdk/muons2024/focal_difference/ctapipe/data/16903'\n",
    "dl1_files = glob.glob(folder_path + '/*dl1.h5')\n",
    "\n",
    "tables = []\n",
    "for file_path in dl1_files:\n",
    "    with h5py.File(file_path, \"r\") as h5_file:\n",
    "        dataset = h5_file[\"dl1/event/telescope/muon/tel_001\"]\n",
    "        dataset_dtype = dataset.dtype\n",
    "        data = dataset[:]\n",
    "    \n",
    "    data_array = np.array(data, dtype=dataset_dtype)\n",
    "    muon_table = Table(data_array)\n",
    "    tables.append(muon_table)\n",
    "\n",
    "muon_table_ctapipe_data_16903 = vstack(tables)\n",
    "#muon_table_ctapipe[muon_table_ctapipe['muonefficiency_is_valid'] == 1]\n",
    "#muon_table_ctapipe[muon_table_ctapipe['muonefficiency_optical_efficiency'] > 0]\n",
    "muon_table_ctapipe_data_16903"
   ]
  },
  {
   "cell_type": "code",
   "execution_count": null,
   "metadata": {},
   "outputs": [],
   "source": [
    "muon_table_ctapipe_data_16903[muon_table_ctapipe_data_16903['muonparameters_ring_size'] > 0]"
   ]
  },
  {
   "cell_type": "code",
   "execution_count": null,
   "metadata": {},
   "outputs": [],
   "source": [
    "#muon_table_ctapipe_data_16903[muon_table_ctapipe_data_16903['muonefficiency_is_valid'] == 1]\n",
    "plt.figure(figsize=(12, 8))\n",
    "#z,x,c = plt.hist(muon_table_ctapipe_data_16903[muon_table_ctapipe_data_16903['muonparameters_ring_size'] > 0]['muonparameters_ring_size'], bins = 500, alpha=0.6, color='k', density=True, label='Data', histtype='step', lw=2)\n",
    "z,x,c = plt.hist(muon_table_ctapipe_data_16903[muon_table_ctapipe_data_16903['muonparameters_ring_size'] > 0]['muonparameters_ring_size'], bins = np.linspace(0,100000,100), alpha=0.6, color='k', density=True, label='Data', histtype='step', lw=2)\n",
    "plt.xlabel('Ring Size')\n",
    "plt.ylabel('Normalized Frequency')"
   ]
  },
  {
   "cell_type": "code",
   "execution_count": null,
   "metadata": {},
   "outputs": [],
   "source": [
    "plt.figure(figsize=(12, 8))\n",
    "z,x,c = plt.hist(muon_table_ctapipe_data_16903[muon_table_ctapipe_data_16903['muonparameters_ring_size'] > 0]['muonring_radius'], bins = np.linspace(0,2,50), alpha=0.6, color='k', density=True, label='Data', histtype='step', lw=2)\n",
    "plt.xlabel('Ring Radius')\n",
    "plt.ylabel('Normalized Frequency')"
   ]
  },
  {
   "cell_type": "code",
   "execution_count": null,
   "metadata": {},
   "outputs": [],
   "source": [
    "plt.figure(figsize=(12, 8))\n",
    "z,x,c = plt.hist(muon_table_ctapipe_data_16903[muon_table_ctapipe_data_16903['muonparameters_ring_size'] > 0]['muonparameters_mean_squared_error'], bins = np.linspace(0,0.5,100), alpha=0.6, color='k', density=True, label='Data', histtype='step', lw=2)\n",
    "plt.xlabel('MSE of ring geometry fit')\n",
    "plt.ylabel('Normalized Frequency')"
   ]
  },
  {
   "cell_type": "code",
   "execution_count": null,
   "metadata": {},
   "outputs": [],
   "source": [
    "plt.figure(figsize=(12, 8))\n",
    "z,x,c = plt.hist(muon_table_ctapipe_data_16903[muon_table_ctapipe_data_16903['muonparameters_ring_size'] > 0]['muonparameters_size_outside'], bins = np.linspace(0,1000,100), alpha=0.6, color='k', density=True, label='Data', histtype='step', lw=2)\n",
    "plt.xlabel('Size Outside')\n",
    "plt.ylabel('Normalized Frequency')"
   ]
  },
  {
   "cell_type": "code",
   "execution_count": null,
   "metadata": {},
   "outputs": [],
   "source": [
    "with h5py.File(dl1_files[0], \"r\") as h5_file:\n",
    "    dataset = h5_file[\"dl1/event/telescope/muon/tel_001\"]\n",
    "    muon_dataset_dtype = dataset.dtype\n",
    "    muon_data = dataset[:]\n",
    "    dataset = h5_file[\"/dl1/event/telescope/images/tel_001\"]\n",
    "    image_dataset_dtype = dataset.dtype\n",
    "    image_data = dataset[:]\n",
    "\n",
    "muon_table = Table(np.array(muon_data, dtype=muon_dataset_dtype))\n",
    "image_table = Table(np.array(image_data, dtype=image_dataset_dtype))"
   ]
  },
  {
   "cell_type": "code",
   "execution_count": null,
   "metadata": {},
   "outputs": [],
   "source": [
    "image_table[image_table['event_id'] == 1196156]['image']\n",
    "image_table"
   ]
  },
  {
   "cell_type": "code",
   "execution_count": null,
   "metadata": {},
   "outputs": [],
   "source": [
    "muon_mask = ~np.isnan(muon_table['muonparameters_ring_size'])\n",
    "muon_table[muon_mask]['event_id']"
   ]
  },
  {
   "cell_type": "code",
   "execution_count": null,
   "metadata": {},
   "outputs": [],
   "source": [
    "image_mask = np.isin(image_table['event_id'], muon_table[muon_mask]['event_id'])\n",
    "image_table[image_mask]"
   ]
  },
  {
   "cell_type": "code",
   "execution_count": null,
   "metadata": {},
   "outputs": [],
   "source": []
  },
  {
   "cell_type": "code",
   "execution_count": null,
   "metadata": {},
   "outputs": [],
   "source": [
    "from ctapipe.io import EventSource\n",
    "from ctapipe.visualization import CameraDisplay\n",
    "\n",
    "source = EventSource('/Users/vdk/muons2024/simtel_files/2024year_tuned_nooulier_reflectivity_additional/run101_muon.simtel.gz')\n",
    "\n",
    "camgeom = source.subarray.tel[1].camera.geometry\n",
    "for i in range(1098):\n",
    "    if np.sum(image_table[image_mask]['image'][i]) < 100000 and muon_table[muon_mask]['muonparameters_num_pixels_in_ring'][i] > 95 and muon_table[muon_mask]['muonparameters_num_pixels_in_ring'][i] < 180:\n",
    "        disp = CameraDisplay(camgeom, image=image_table[image_mask]['image'][i])\n",
    "        disp.cmap = plt.cm.RdBu_r\n",
    "        disp.add_colorbar()\n",
    "        disp.set_limits_percent(95)\n",
    "        plt.title(f\"{np.sum(image_table[image_mask]['image'][i])}, {muon_table[muon_mask]['muonparameters_num_pixels_in_ring'][i]}\")\n",
    "\n",
    "        plt.show()"
   ]
  },
  {
   "cell_type": "code",
   "execution_count": null,
   "metadata": {},
   "outputs": [],
   "source": [
    "muon_table[muon_table['muonefficiency_is_valid'] == 1]"
   ]
  },
  {
   "cell_type": "markdown",
   "metadata": {},
   "source": [
    "# ctapipe sim std"
   ]
  },
  {
   "cell_type": "code",
   "execution_count": null,
   "metadata": {},
   "outputs": [],
   "source": [
    "folder_path = '/Users/vdk/muons2024/focal_difference/ctapipe/sim/ctapipe_00046deg'\n",
    "dl1_files = glob.glob(folder_path + '/dl1*.h5')\n",
    "\n",
    "tables = []\n",
    "for file_path in dl1_files:\n",
    "    with h5py.File(file_path, \"r\") as h5_file:\n",
    "        dataset = h5_file[\"dl1/event/telescope/muon/tel_001\"]\n",
    "        dataset_dtype = dataset.dtype\n",
    "        data = dataset[:]\n",
    "    \n",
    "    data_array = np.array(data, dtype=dataset_dtype)\n",
    "    muon_table = Table(data_array)\n",
    "    tables.append(muon_table)\n",
    "\n",
    "muon_table_ctapipe_00046 = vstack(tables)\n",
    "#muon_table_ctapipe[muon_table_ctapipe['muonefficiency_is_valid'] == 1]\n",
    "#muon_table_ctapipe[muon_table_ctapipe['muonefficiency_optical_efficiency'] > 0]\n",
    "muon_table_ctapipe_00046"
   ]
  },
  {
   "cell_type": "markdown",
   "metadata": {},
   "source": [
    "# ctapipe sim 0.015"
   ]
  },
  {
   "cell_type": "code",
   "execution_count": null,
   "metadata": {},
   "outputs": [],
   "source": [
    "folder_path = '/Users/vdk/muons2024/focal_difference/ctapipe/sim/ctapipe_0015deg'\n",
    "dl1_files = glob.glob(folder_path + '/dl1*.h5')\n",
    "\n",
    "tables = []\n",
    "for file_path in dl1_files:\n",
    "    with h5py.File(file_path, \"r\") as h5_file:\n",
    "        dataset = h5_file[\"dl1/event/telescope/muon/tel_001\"]\n",
    "        dataset_dtype = dataset.dtype\n",
    "        data = dataset[:]\n",
    "    \n",
    "    data_array = np.array(data, dtype=dataset_dtype)\n",
    "    muon_table = Table(data_array)\n",
    "    tables.append(muon_table)\n",
    "\n",
    "muon_table_ctapipe_0015 = vstack(tables)\n",
    "#muon_table_ctapipe[muon_table_ctapipe['muonefficiency_is_valid'] == 1]\n",
    "#muon_table_ctapipe[muon_table_ctapipe['muonefficiency_optical_efficiency'] > 0]\n",
    "muon_table_ctapipe_0015"
   ]
  },
  {
   "cell_type": "markdown",
   "metadata": {},
   "source": [
    "# lstchain data effective"
   ]
  },
  {
   "cell_type": "code",
   "execution_count": null,
   "metadata": {},
   "outputs": [],
   "source": [
    "folder_path = '/Users/vdk/muons2024/focal_difference/lstchain/data/16903/effective_focal_length/tables/*'\n",
    "muon_table_lstchain_data_16903_eff = read_and_process_fits(glob.glob(folder_path))\n",
    "muon_table_lstchain_data_16903_eff"
   ]
  },
  {
   "cell_type": "markdown",
   "metadata": {},
   "source": [
    "# lstchain data equivalent"
   ]
  },
  {
   "cell_type": "code",
   "execution_count": null,
   "metadata": {},
   "outputs": [],
   "source": [
    "folder_path = '/Users/vdk/muons2024/focal_difference/lstchain/data/16903/equivalent_focal_length/*'\n",
    "muon_table_lstchain_data_16903_eq = read_and_process_fits(glob.glob(folder_path))\n",
    "muon_table_lstchain_data_16903_eq"
   ]
  },
  {
   "cell_type": "markdown",
   "metadata": {},
   "source": [
    "# lstchain sim std effective"
   ]
  },
  {
   "cell_type": "code",
   "execution_count": null,
   "metadata": {},
   "outputs": [],
   "source": [
    "folder_path = '/Users/vdk/muons2024/focal_difference/lstchain/sim/effective_focal_length/00046deg/*'\n",
    "muon_table_lstchain_data_00046_eff = read_and_process_fits(glob.glob(folder_path))\n",
    "muon_table_lstchain_data_00046_eff"
   ]
  },
  {
   "cell_type": "markdown",
   "metadata": {},
   "source": [
    "# lstchain sim std equivalent"
   ]
  },
  {
   "cell_type": "code",
   "execution_count": null,
   "metadata": {},
   "outputs": [],
   "source": []
  },
  {
   "cell_type": "markdown",
   "metadata": {},
   "source": [
    "# lstchain sim 0.015 effective"
   ]
  },
  {
   "cell_type": "code",
   "execution_count": null,
   "metadata": {},
   "outputs": [],
   "source": [
    "folder_path = '/Users/vdk/muons2024/focal_difference/lstchain/sim/effective_focal_length/0015deg/*'\n",
    "muon_table_lstchain_data_0015_eff = read_and_process_fits(glob.glob(folder_path))\n",
    "muon_table_lstchain_data_0015_eff"
   ]
  },
  {
   "cell_type": "markdown",
   "metadata": {},
   "source": [
    "# lstchain sim 0.015 equivalent"
   ]
  },
  {
   "cell_type": "code",
   "execution_count": null,
   "metadata": {},
   "outputs": [],
   "source": []
  }
 ],
 "metadata": {
  "kernelspec": {
   "display_name": "cta-dev",
   "language": "python",
   "name": "python3"
  },
  "language_info": {
   "codemirror_mode": {
    "name": "ipython",
    "version": 3
   },
   "file_extension": ".py",
   "mimetype": "text/x-python",
   "name": "python",
   "nbconvert_exporter": "python",
   "pygments_lexer": "ipython3",
   "version": "3.10.14"
  }
 },
 "nbformat": 4,
 "nbformat_minor": 2
}
