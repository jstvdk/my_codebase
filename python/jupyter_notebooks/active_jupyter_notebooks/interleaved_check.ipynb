{
 "cells": [
  {
   "cell_type": "code",
   "execution_count": null,
   "metadata": {},
   "outputs": [],
   "source": [
    "import h5py\n",
    "import numpy as np\n",
    "import copy\n",
    "from astropy.table import Table\n",
    "import matplotlib.pyplot as plt\n",
    "\n",
    "file_path = \"/Users/vdk/muons2024/psf_work/interleaved_check/interleaved_LST-1.Run16903.0042.h5\"\n",
    "\n",
    "with h5py.File(file_path, \"r\") as h5_file:\n",
    "    \n",
    "    # List all groups in the file\n",
    "    print(\"Groups in the file:\")\n",
    "    for group in h5_file:\n",
    "        print(group)\n",
    "    \n",
    "    # You can also recursively list all datasets\n",
    "    def print_structure(name, obj):\n",
    "        print(f\"{name}: {obj}\")\n",
    "    \n",
    "    print(\"\\nFile structure:\")\n",
    "    h5_file.visititems(print_structure)"
   ]
  },
  {
   "cell_type": "code",
   "execution_count": null,
   "metadata": {},
   "outputs": [],
   "source": [
    "file_path = \"/Users/vdk/muons2024/psf_work/interleaved_check/dl1_LST-1.Run16903.0042.h5\"\n",
    "\n",
    "with h5py.File(file_path, \"r\") as h5_file:\n",
    "    \n",
    "    # List all groups in the file\n",
    "    print(\"Groups in the file:\")\n",
    "    for group in h5_file:\n",
    "        print(group)\n",
    "    \n",
    "    # You can also recursively list all datasets\n",
    "    def print_structure(name, obj):\n",
    "        print(f\"{name}: {obj}\")\n",
    "    \n",
    "    print(\"\\nFile structure:\")\n",
    "    h5_file.visititems(print_structure)"
   ]
  },
  {
   "cell_type": "code",
   "execution_count": null,
   "metadata": {},
   "outputs": [],
   "source": [
    "with h5py.File(file_path, \"r\") as h5_file:\n",
    "    # Access a dataset\n",
    "    dataset_ff = h5_file[\"dl1/event/telescope/monitoring/flatfield\"]\n",
    "    dataset_ped = h5_file[\"dl1/event/telescope/monitoring/pedestal\"]\n",
    "    \n",
    "    dataset_ff_dtype = dataset_ff.dtype\n",
    "    dataset_ped_dtype = dataset_ped.dtype\n",
    "    data_ff = dataset_ff[:100]\n",
    "    data_ped = dataset_ped[:100]"
   ]
  },
  {
   "cell_type": "code",
   "execution_count": null,
   "metadata": {},
   "outputs": [],
   "source": [
    "data_ff_array = np.array(data_ff, dtype=dataset_ff_dtype)\n",
    "data_ped_array = np.array(data_ped, dtype=dataset_ped_dtype)\n",
    "\n",
    "table_ff = Table(data_ff_array)\n",
    "table_ped = Table(data_ped_array)"
   ]
  },
  {
   "cell_type": "code",
   "execution_count": null,
   "metadata": {},
   "outputs": [],
   "source": [
    "table_ff.columns, table_ped.columns"
   ]
  },
  {
   "cell_type": "code",
   "execution_count": null,
   "metadata": {},
   "outputs": [],
   "source": [
    "z,x,c = plt.hist(table_ped['charge_mean'][0][1], bins = 30)"
   ]
  },
  {
   "cell_type": "code",
   "execution_count": null,
   "metadata": {},
   "outputs": [],
   "source": [
    "z,x,c = plt.hist(table_ff['charge_mean'][0][1], bins = 30)"
   ]
  }
 ],
 "metadata": {
  "kernelspec": {
   "display_name": "cta-dev",
   "language": "python",
   "name": "python3"
  },
  "language_info": {
   "codemirror_mode": {
    "name": "ipython",
    "version": 3
   },
   "file_extension": ".py",
   "mimetype": "text/x-python",
   "name": "python",
   "nbconvert_exporter": "python",
   "pygments_lexer": "ipython3",
   "version": "3.10.14"
  }
 },
 "nbformat": 4,
 "nbformat_minor": 2
}
