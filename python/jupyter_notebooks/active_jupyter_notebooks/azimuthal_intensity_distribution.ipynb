{
 "cells": [
  {
   "cell_type": "code",
   "execution_count": null,
   "metadata": {},
   "outputs": [],
   "source": [
    "import numpy as np\n",
    "from lstchain.image.muon.muon_analysis import pixel_coords_to_telescope\n",
    "from ctapipe.io import EventSource\n",
    "import matplotlib.pyplot as plt\n",
    "from ctapipe.image import ImageProcessor\n",
    "from ctapipe.image.muon import MuonProcessor\n",
    "from ctapipe.calib import CameraCalibrator\n",
    "import os\n",
    "import re\n",
    "import numpy as np\n",
    "from ctapipe.image import tailcuts_clean\n",
    "from astropy.table import Table, vstack\n",
    "from ctapipe.visualization import CameraDisplay\n",
    "import matplotlib.pyplot as plt\n",
    "\n",
    "import glob\n",
    "import os\n",
    "import glob\n",
    "import re\n",
    "import numpy as np\n",
    "from ctapipe.image import tailcuts_clean\n",
    "import h5py\n",
    "\n",
    "from ctapipe.visualization import CameraDisplay  # Assuming you're using ctapipe for CameraDisplay\n"
   ]
  },
  {
   "cell_type": "code",
   "execution_count": null,
   "metadata": {},
   "outputs": [],
   "source": [
    "filename = '/Users/vdk/muons2024//simtel_files/2024year_tuned_nooulier_reflectivity_additional/run101_muon.simtel.gz'\n",
    "source = EventSource(filename, max_events = 1)\n",
    "camgeom = source.subarray.tel[1].camera.geometry\n",
    "\n",
    "tel_description = source.subarray.tels[1]\n",
    "geom = tel_description.camera.geometry\n",
    "equivalent_focal_length = tel_description.optics.equivalent_focal_length\n",
    "x_coord, y_coord = pixel_coords_to_telescope(geom, equivalent_focal_length)\n",
    "camgeom = source.subarray.tel[1].camera.geometry"
   ]
  },
  {
   "cell_type": "code",
   "execution_count": null,
   "metadata": {},
   "outputs": [],
   "source": [
    "unified_bin_size = 15\n",
    "\n",
    "def find_alpha_angles(x, y, x_center, y_center, x_cam, y_cam):\n",
    "    # Calculate the azimuthal angles relative to the ring center\n",
    "    alpha_angles = np.rad2deg(np.arctan2(y - y_center, x - x_center))\n",
    "    alpha_angles[alpha_angles < 0] += 360\n",
    "\n",
    "    # Calculate the reference angle from the ring center to the camera center\n",
    "    phi0 = np.rad2deg(np.arctan2(y_center - y_cam, x_center - x_cam))\n",
    "    if phi0 < 0:\n",
    "        phi0 += 360\n",
    "\n",
    "    # Adjust angles to have a common zero pointing towards the camera center\n",
    "    alpha_angles_adjusted = alpha_angles - phi0\n",
    "    alpha_angles_adjusted[alpha_angles_adjusted < 0] += 360\n",
    "    return alpha_angles_adjusted\n",
    "\n",
    "def intensity_binning(x, y, x_center, y_center, image, clean_mask, bin_size=unified_bin_size, x_cam=0, y_cam = 0):\n",
    "    alpha_angles = find_alpha_angles(x, y, x_center, y_center, x_cam, y_cam)\n",
    "    num_bins = int(360 / bin_size)\n",
    "    intensity_azimuth = np.zeros(num_bins)\n",
    "    image[~clean_mask] = 0\n",
    "\n",
    "    # Map adjusted angles to bins\n",
    "    bin_indices = (alpha_angles // bin_size).astype(int) % num_bins\n",
    "    np.add.at(intensity_azimuth, bin_indices, image)\n",
    "    return intensity_azimuth"
   ]
  },
  {
   "cell_type": "markdown",
   "metadata": {},
   "source": [
    "## Simulations"
   ]
  },
  {
   "cell_type": "code",
   "execution_count": null,
   "metadata": {},
   "outputs": [],
   "source": [
    "filename = '/Users/vdk/muons2024/simtel_files/2024year_tuned_nooulier_reflectivity_additional/run101_muon.simtel.gz'\n",
    "source = EventSource(filename, max_events = 1000)\n",
    "event_iterator = iter(source)\n",
    "\n",
    "tel_description = source.subarray.tels[1]\n",
    "geom = tel_description.camera.geometry\n",
    "equivalent_focal_length = tel_description.optics.equivalent_focal_length\n",
    "#x_coord, y_coord = pixel_coords_to_telescope(geom, equivalent_focal_length)\n",
    "\n",
    "image_processor = ImageProcessor(source.subarray)\n",
    "muon_processor = MuonProcessor(source.subarray)\n",
    "calib = CameraCalibrator(image_extractor_type=\"GlobalPeakWindowSum\",subarray = source.subarray)\n",
    "\n",
    "intensity_profiles = []\n",
    "image_profiles = []\n",
    "image_masks = []\n",
    "\n",
    "for event in event_iterator:\n",
    "        calib(event)\n",
    "        image_processor(event)\n",
    "        muon_processor(event)\n",
    "        \n",
    "        center_x = event.muon.tel[1].ring.center_fov_lon.to_value()\n",
    "        center_y = event.muon.tel[1].ring.center_fov_lat.to_value()\n",
    "        if event.muon.tel[1].parameters.completeness > 0.8:\n",
    "        #if event.muon.tel[1].efficiency.impact.to_value() < 3:\n",
    "                intensity_profile_temp = intensity_binning(\n",
    "                        x_coord.degree, \n",
    "                        y_coord.degree, \n",
    "                        center_x, \n",
    "                        center_y, \n",
    "                        event.dl1.tel[1].image, \n",
    "                        event.dl1.tel[1].image_mask\n",
    "                )\n",
    "        \n",
    "                intensity_profiles.append(intensity_profile_temp)\n",
    "                image_profiles.append(event.dl1.tel[1].image)\n",
    "                image_masks.append(event.dl1.tel[1].image_mask)\n",
    "        if len(intensity_profiles) == 10:\n",
    "            break\n",
    "\n",
    "intensity_profiles = np.array(intensity_profiles)\n",
    "image_profiles = np.array(image_profiles)\n",
    "        "
   ]
  },
  {
   "cell_type": "markdown",
   "metadata": {},
   "source": [
    "** TODO ** Make the clean_mask from tailcuts procedure, to have +- 0.4*R region"
   ]
  },
  {
   "cell_type": "code",
   "execution_count": null,
   "metadata": {},
   "outputs": [],
   "source": [
    "\n",
    "id_to_plot = 4\n",
    "\n",
    "# Data for the first plot\n",
    "bin_size = unified_bin_size\n",
    "num_bins = int(360 / bin_size)\n",
    "bin_edges = np.linspace(0, 360, num_bins + 1)\n",
    "bin_centers = (bin_edges[:-1] + bin_edges[1:]) / 2\n",
    "\n",
    "# Create the figure and subplots\n",
    "\n",
    "\n",
    "# First plot - step plot\n",
    "for id_to_plot in range(0, 10):\n",
    "    fig, ax = plt.subplots(1, 3, figsize=(17, 5))  # 1 row, 2 columns\n",
    "    ax[0].step(bin_centers, intensity_profiles[id_to_plot], where='mid', linewidth=2)\n",
    "    ax[0].set_xlim(0, 360)\n",
    "    ax[0].set_ylim(0, 200)\n",
    "    ax[0].set_xlabel('Azimuthal angle (degrees)')\n",
    "    ax[0].set_ylabel('Intensity [p.e.]')\n",
    "\n",
    "    # Second plot - CameraDisplay\n",
    "    #disp = CameraDisplay(camgeom, image=data_dict[data_event_ids[id_to_plot]], cmap=\"RdBu\", ax=ax[1])\n",
    "    \n",
    "    disp = CameraDisplay(camgeom, image=image_profiles[id_to_plot],ax=ax[1])\n",
    "    disp.cmap = plt.cm.RdBu_r\n",
    "    disp.add_colorbar()\n",
    "    disp.set_limits_percent(95)\n",
    "    \n",
    "    disp = CameraDisplay(camgeom, image=image_profiles[id_to_plot],ax=ax[2])\n",
    "    disp.cmap = plt.cm.RdBu_r\n",
    "    disp.add_colorbar()\n",
    "    disp.set_limits_percent(95)\n",
    "    disp.highlight_pixels(image_masks[id_to_plot], color='red', linewidth=2)\n",
    "    #ax[1].set_title(\"Pixels without signal\")\n",
    "\n",
    "    # Adjust layout\n",
    "    plt.tight_layout()\n",
    "    plt.show()"
   ]
  },
  {
   "cell_type": "markdown",
   "metadata": {},
   "source": [
    "# <center> Data </center>"
   ]
  },
  {
   "cell_type": "markdown",
   "metadata": {},
   "source": [
    "## <center> Fits files with dl1 images (GlobalpeakWindowSum)</center>"
   ]
  },
  {
   "cell_type": "code",
   "execution_count": null,
   "metadata": {},
   "outputs": [],
   "source": [
    "# Define the FITS file path\n",
    "fits_file = f'/Users/vdk/muons2024/real_data/17744/fits_tables/tables_run{17744}/muons_LST-1.Run17744.0047.fits'\n",
    "\n",
    "# Read the FITS file into an Astropy Table\n",
    "dat = Table.read(fits_file, format='fits')\n",
    "\n",
    "# Ensure 'good_ring' is of boolean type\n",
    "dat['good_ring'] = dat['good_ring'].astype(bool)\n",
    "\n",
    "# Identify one-dimensional and multidimensional columns\n",
    "one_d_cols = [name for name in dat.colnames if len(dat[name].shape) <= 1]\n",
    "multi_d_cols = [name for name in dat.colnames if len(dat[name].shape) > 1]\n",
    "\n",
    "# Convert one-dimensional columns to pandas DataFrame\n",
    "df = dat[one_d_cols].to_pandas()\n",
    "\n",
    "# Extract multidimensional data separately\n",
    "images = dat['image'].tolist() if 'image' in multi_d_cols else None\n",
    "dist_masks = dat['dist_mask'].tolist() if 'dist_mask' in multi_d_cols else None\n",
    "\n",
    "# Apply your filtering criteria on the DataFrame\n",
    "filter_mask = (df['muon_efficiency'] < 100) & (df['size_outside'] < 10000)\n",
    "df_good_data = df[filter_mask]\n",
    "\n",
    "# Optionally, filter the multidimensional data based on the same criteria\n",
    "if images is not None:\n",
    "    images_good = [img for img, cond in zip(images, filter_mask) if cond]\n",
    "else:\n",
    "    images_good = None\n",
    "\n",
    "if dist_masks is not None:\n",
    "    dist_masks_good = [mask for mask, cond in zip(dist_masks, filter_mask) if cond]\n",
    "else:\n",
    "    dist_masks_good = None\n",
    "\n",
    "# Check if the lengths match\n",
    "if images_good is not None and len(images_good) != len(df_good_data):\n",
    "    raise ValueError(\"Length of images_good does not match the number of filtered events.\")\n",
    "if dist_masks_good is not None and len(dist_masks_good) != len(df_good_data):\n",
    "    raise ValueError(\"Length of dist_masks_good does not match the number of filtered events.\")\n",
    "\n",
    "# Create the dictionary using dictionary comprehension\n",
    "event_dict = {\n",
    "    event_id: [\n",
    "        ring_center_x,\n",
    "        ring_center_y,\n",
    "        image if images_good is not None else None,\n",
    "        dist_mask if dist_masks_good is not None else None\n",
    "    ]\n",
    "    for event_id, ring_center_x, ring_center_y, image, dist_mask in zip(\n",
    "        df_good_data['event_id'],\n",
    "        df_good_data['ring_center_x'],\n",
    "        df_good_data['ring_center_y'],\n",
    "        images_good if images_good is not None else [None] * len(df_good_data),\n",
    "        dist_masks_good if dist_masks_good is not None else [None] * len(df_good_data)\n",
    "    )\n",
    "}\n",
    "\n",
    "len(event_dict.keys())"
   ]
  },
  {
   "cell_type": "code",
   "execution_count": null,
   "metadata": {},
   "outputs": [],
   "source": [
    "data_intensity_profiles = []\n",
    "data_event_ids = []\n",
    "for i, (event_id, data) in enumerate(event_dict.items()):\n",
    "        center_x = data[0]\n",
    "        center_y = data[1]\n",
    "        image = np.array(data[2])\n",
    "        dist_mask = np.array(data[3])\n",
    "        if df[df['event_id'] == event_id]['ring_completeness'].iloc[0] > 0.8:     \n",
    "                intensity_profile_temp = intensity_binning(\n",
    "                        x_coord.degree, \n",
    "                        y_coord.degree, \n",
    "                        center_x, \n",
    "                        center_y, \n",
    "                        image, \n",
    "                        dist_mask\n",
    "                )\n",
    "        \n",
    "                data_intensity_profiles.append(intensity_profile_temp)\n",
    "                data_event_ids.append(event_id)\n",
    "        if len(data_intensity_profiles) == 10:\n",
    "            break\n",
    "\n",
    "data_intensity_profiles = np.array(data_intensity_profiles)\n",
    "data_event_ids = np.array(data_event_ids)\n",
    "print(data_intensity_profiles.shape)\n",
    "print(data_event_ids.shape)"
   ]
  },
  {
   "cell_type": "code",
   "execution_count": null,
   "metadata": {},
   "outputs": [],
   "source": [
    "id_to_plot = 4\n",
    "\n",
    "# Data for the first plot\n",
    "bin_size = unified_bin_size\n",
    "num_bins = int(360 / bin_size)\n",
    "bin_edges = np.linspace(0, 360, num_bins + 1)\n",
    "bin_centers = (bin_edges[:-1] + bin_edges[1:]) / 2\n",
    "\n",
    "# Create the figure and subplots\n",
    "\n",
    "\n",
    "# First plot - step plot\n",
    "for id_to_plot in range(0, len(data_intensity_profiles)):   \n",
    "    fig, ax = plt.subplots(1, 3, figsize=(17, 5))  \n",
    "    ax[0].step(bin_centers, data_intensity_profiles[id_to_plot], where='mid', linewidth=2)\n",
    "    ax[0].set_xlim(0, 360)\n",
    "    ax[0].set_ylim(0, 200)\n",
    "    ax[0].set_xlabel('Azimuthal angle (degrees)')\n",
    "    ax[0].set_ylabel('Intensity [p.e.]')\n",
    "\n",
    "    # Second plot - CameraDisplay\n",
    "    #disp = CameraDisplay(camgeom, image=data_dict[data_event_ids[id_to_plot]], cmap=\"RdBu\", ax=ax[1])\n",
    "    \n",
    "    disp = CameraDisplay(camgeom, image=event_dict[data_event_ids[id_to_plot]][2],ax=ax[1])\n",
    "    disp.cmap = plt.cm.RdBu_r\n",
    "    disp.add_colorbar()\n",
    "    disp.set_limits_percent(95)\n",
    "    \n",
    "    disp = CameraDisplay(camgeom, image=event_dict[data_event_ids[id_to_plot]][2],ax=ax[2])\n",
    "    disp.cmap = plt.cm.RdBu_r\n",
    "    disp.add_colorbar()\n",
    "    disp.set_limits_percent(95)\n",
    "    disp.highlight_pixels(event_dict[data_event_ids[id_to_plot]][3], color='red', linewidth=2)\n",
    "\n",
    "    # Adjust layout\n",
    "    plt.tight_layout()\n",
    "    plt.show()"
   ]
  },
  {
   "cell_type": "markdown",
   "metadata": {},
   "source": [
    "## <center> DL1 images from standard procedure (LocalPeakWindowSum) </center>"
   ]
  },
  {
   "cell_type": "code",
   "execution_count": null,
   "metadata": {},
   "outputs": [],
   "source": [
    "image_folder = glob.glob('/Users/vdk/muons2024/real_data/17744/images/*')\n",
    "\n",
    "data_dict = {}\n",
    "\n",
    "for file_path in image_folder:\n",
    "    filename = os.path.basename(file_path)\n",
    "    match = re.search(r'image_event(\\d+)\\.txt$', filename)\n",
    "    if match:\n",
    "        event_id = int(match.group(1))\n",
    "        array_content = np.loadtxt(file_path)\n",
    "        data_dict[event_id] = array_content\n",
    "    else:\n",
    "        print(f\"Filename {filename} does not match the expected pattern.\")\n",
    "\n",
    "\n",
    "camgeom = source.subarray.tel[1].camera.geometry\n",
    "data_mask = {}\n",
    "for event_id, array_content in data_dict.items():\n",
    "    mask = tailcuts_clean(camgeom, array_content, picture_thresh=10, boundary_thresh=5)\n",
    "    data_mask[event_id] = mask"
   ]
  },
  {
   "cell_type": "code",
   "execution_count": null,
   "metadata": {},
   "outputs": [],
   "source": [
    "key_id = 3743987\n",
    "\n",
    "fig, ax = plt.subplots(1, 2, figsize=(14, 5))\n",
    "\n",
    "disp = CameraDisplay(camgeom, image=data_dict[key_id],ax=ax[0])\n",
    "disp.cmap = plt.cm.RdBu_r\n",
    "disp.add_colorbar()\n",
    "disp.set_limits_percent(95)\n",
    "\n",
    "disp = CameraDisplay(camgeom, image=data_dict[key_id],ax=ax[1])\n",
    "disp.cmap = plt.cm.RdBu_r\n",
    "disp.add_colorbar()\n",
    "disp.set_limits_percent(95)\n",
    "disp.highlight_pixels(data_mask[key_id], color='red', linewidth=2)"
   ]
  },
  {
   "cell_type": "markdown",
   "metadata": {},
   "source": [
    "### <center> Upload all data from one subrun .h5 file for 11 June </center>"
   ]
  },
  {
   "cell_type": "markdown",
   "metadata": {},
   "source": [
    "-"
   ]
  },
  {
   "cell_type": "markdown",
   "metadata": {},
   "source": [
    "#### <center> 11 June 2024, Run 17744.0036.h5 </center>"
   ]
  },
  {
   "cell_type": "markdown",
   "metadata": {},
   "source": [
    "-"
   ]
  },
  {
   "cell_type": "code",
   "execution_count": null,
   "metadata": {},
   "outputs": [],
   "source": [
    "# It can be any dl1 file, from real data or simulations\n",
    "dl1_file = '/Users/vdk/muons2024/real_data/17744/fits_tables/code_check/dl1_LST-1.Run17744.0036.h5'\n",
    "\n",
    "dl1_images = []\n",
    "dl1_mask = []\n",
    "\n",
    "with h5py.File(dl1_file, 'r') as f:\n",
    "    # Access the dataset\n",
    "    dataset = f['dl1/event/telescope/image/LST_LSTCam']\n",
    "    \n",
    "    # Read the data\n",
    "    data = dataset[:]\n",
    "    for i, dataline in enumerate(data):\n",
    "        dl1_images.append(dataline[2])\n",
    "        dl1_mask.append(dataline[4])\n",
    "\n",
    "dl1_images = np.array(dl1_images)\n",
    "dl1_mask = np.array(dl1_mask).astype(bool)"
   ]
  },
  {
   "cell_type": "code",
   "execution_count": null,
   "metadata": {},
   "outputs": [],
   "source": [
    "key_id = 1\n",
    "\n",
    "for key_id in range(0, 3):\n",
    "    if sum(dl1_images[key_id]) < 10000:\n",
    "        fig, ax = plt.subplots(1, 2, figsize=(14, 5))\n",
    "\n",
    "        disp = CameraDisplay(camgeom, image=dl1_images[key_id], ax=ax[0], title=f\"Event ID: {key_id}, sum: {sum(dl1_images[key_id]):.2f}\")\n",
    "        disp.cmap = plt.cm.RdBu_r\n",
    "        disp.title = f\"Event ID: {key_id}, sum: {sum(dl1_images[key_id]):.2f}\"\n",
    "        disp.add_colorbar()\n",
    "        disp.set_limits_percent(95)\n",
    "\n",
    "        disp = CameraDisplay(camgeom, image=dl1_images[key_id], ax=ax[1])\n",
    "        disp.cmap = plt.cm.RdBu_r\n",
    "        disp.add_colorbar()\n",
    "        disp.set_limits_percent(95)\n",
    "        disp.highlight_pixels(dl1_mask[key_id], color='red', linewidth=2)\n",
    "        plt.tight_layout()\n",
    "        plt.show()\n",
    "\n",
    "plt.close()"
   ]
  },
  {
   "cell_type": "markdown",
   "metadata": {},
   "source": [
    "-"
   ]
  },
  {
   "cell_type": "markdown",
   "metadata": {},
   "source": [
    "#### <center> 11 June 2024, Run 17744.0035.h5 </center>"
   ]
  },
  {
   "cell_type": "markdown",
   "metadata": {},
   "source": [
    "-"
   ]
  },
  {
   "cell_type": "code",
   "execution_count": null,
   "metadata": {},
   "outputs": [],
   "source": [
    "# It can be any dl1 file, from real data or simulations\n",
    "dl1_file = '/Users/vdk/muons2024/real_data/17744/fits_tables/code_check/dl1_LST-1.Run17744.0035.h5'\n",
    "\n",
    "dl1_images = []\n",
    "dl1_mask = []\n",
    "\n",
    "with h5py.File(dl1_file, 'r') as f:\n",
    "    # Access the dataset\n",
    "    dataset = f['dl1/event/telescope/image/LST_LSTCam']\n",
    "    \n",
    "    # Read the data\n",
    "    data = dataset[:]\n",
    "    for i, dataline in enumerate(data):\n",
    "        dl1_images.append(dataline[2])\n",
    "        dl1_mask.append(dataline[4])\n",
    "\n",
    "dl1_images = np.array(dl1_images)\n",
    "dl1_mask = np.array(dl1_mask).astype(bool)\n",
    "\n",
    "key_id = 1\n",
    "\n",
    "for key_id in range(0, 3):\n",
    "    if sum(dl1_images[key_id]) < 10000:\n",
    "        fig, ax = plt.subplots(1, 2, figsize=(14, 5))\n",
    "\n",
    "        disp = CameraDisplay(camgeom, image=dl1_images[key_id], ax=ax[0], title=f\"Event ID: {key_id}, sum: {sum(dl1_images[key_id]):.2f}\")\n",
    "        disp.cmap = plt.cm.RdBu_r\n",
    "        disp.title = f\"Event ID: {key_id}, sum: {sum(dl1_images[key_id]):.2f}\"\n",
    "        disp.add_colorbar()\n",
    "        disp.set_limits_percent(95)\n",
    "\n",
    "        disp = CameraDisplay(camgeom, image=dl1_images[key_id], ax=ax[1])\n",
    "        disp.cmap = plt.cm.RdBu_r\n",
    "        disp.add_colorbar()\n",
    "        disp.set_limits_percent(95)\n",
    "        disp.highlight_pixels(dl1_mask[key_id], color='red', linewidth=2)\n",
    "        plt.tight_layout()\n",
    "        plt.show()\n",
    "\n",
    "plt.close()"
   ]
  },
  {
   "cell_type": "markdown",
   "metadata": {},
   "source": [
    "-"
   ]
  },
  {
   "cell_type": "markdown",
   "metadata": {},
   "source": [
    "#### <center> 11 June 2024, Run 17745.0035.h5 </center>"
   ]
  },
  {
   "cell_type": "markdown",
   "metadata": {},
   "source": [
    "-"
   ]
  },
  {
   "cell_type": "code",
   "execution_count": null,
   "metadata": {},
   "outputs": [],
   "source": [
    "# It can be any dl1 file, from real data or simulations\n",
    "dl1_file = '/Users/vdk/muons2024/real_data/17744/fits_tables/code_check/dl1_LST-1.Run17745.0035.h5'\n",
    "\n",
    "dl1_images = []\n",
    "dl1_mask = []\n",
    "\n",
    "with h5py.File(dl1_file, 'r') as f:\n",
    "    # Access the dataset\n",
    "    dataset = f['dl1/event/telescope/image/LST_LSTCam']\n",
    "    \n",
    "    # Read the data\n",
    "    data = dataset[:]\n",
    "    for i, dataline in enumerate(data):\n",
    "        dl1_images.append(dataline[2])\n",
    "        dl1_mask.append(dataline[4])\n",
    "\n",
    "dl1_images = np.array(dl1_images)\n",
    "dl1_mask = np.array(dl1_mask).astype(bool)\n",
    "\n",
    "key_id = 1\n",
    "\n",
    "for key_id in range(0, 3):\n",
    "    if sum(dl1_images[key_id]) < 10000:\n",
    "        fig, ax = plt.subplots(1, 2, figsize=(14, 5))\n",
    "\n",
    "        disp = CameraDisplay(camgeom, image=dl1_images[key_id], ax=ax[0], title=f\"Event ID: {key_id}, sum: {sum(dl1_images[key_id]):.2f}\")\n",
    "        disp.cmap = plt.cm.RdBu_r\n",
    "        disp.title = f\"Event ID: {key_id}, sum: {sum(dl1_images[key_id]):.2f}\"\n",
    "        disp.add_colorbar()\n",
    "        disp.set_limits_percent(95)\n",
    "\n",
    "        disp = CameraDisplay(camgeom, image=dl1_images[key_id], ax=ax[1])\n",
    "        disp.cmap = plt.cm.RdBu_r\n",
    "        disp.add_colorbar()\n",
    "        disp.set_limits_percent(95)\n",
    "        disp.highlight_pixels(dl1_mask[key_id], color='red', linewidth=2)\n",
    "        plt.tight_layout()\n",
    "        plt.show()\n",
    "\n",
    "plt.close()"
   ]
  },
  {
   "cell_type": "markdown",
   "metadata": {},
   "source": [
    "-"
   ]
  },
  {
   "cell_type": "markdown",
   "metadata": {},
   "source": [
    "#### <center> 11 July 2024 Run 18198.0035.h5 </center>"
   ]
  },
  {
   "cell_type": "markdown",
   "metadata": {},
   "source": [
    "-"
   ]
  },
  {
   "cell_type": "code",
   "execution_count": null,
   "metadata": {},
   "outputs": [],
   "source": [
    "# It can be any dl1 file, from real data or simulations\n",
    "dl1_file = '/Users/vdk/muons2024/real_data/17744/fits_tables/code_check/dl1_LST-1.Run18198.0035.h5'\n",
    "\n",
    "dl1_images = []\n",
    "dl1_mask = []\n",
    "\n",
    "with h5py.File(dl1_file, 'r') as f:\n",
    "    # Access the dataset\n",
    "    dataset = f['dl1/event/telescope/image/LST_LSTCam']\n",
    "    \n",
    "    # Read the data\n",
    "    data = dataset[:]\n",
    "    for i, dataline in enumerate(data):\n",
    "        dl1_images.append(dataline[2])\n",
    "        dl1_mask.append(dataline[4])\n",
    "\n",
    "dl1_images = np.array(dl1_images)\n",
    "dl1_mask = np.array(dl1_mask).astype(bool)\n",
    "\n",
    "key_id = 1\n",
    "\n",
    "for key_id in range(0, 3):\n",
    "    if sum(dl1_images[key_id]) < 10000:\n",
    "        fig, ax = plt.subplots(1, 2, figsize=(14, 5))\n",
    "\n",
    "        disp = CameraDisplay(camgeom, image=dl1_images[key_id], ax=ax[0], title=f\"Event ID: {key_id}, sum: {sum(dl1_images[key_id]):.2f}\")\n",
    "        disp.cmap = plt.cm.RdBu_r\n",
    "        disp.title = f\"Event ID: {key_id}, sum: {sum(dl1_images[key_id]):.2f}\"\n",
    "        disp.add_colorbar()\n",
    "        disp.set_limits_percent(95)\n",
    "\n",
    "        disp = CameraDisplay(camgeom, image=dl1_images[key_id], ax=ax[1])\n",
    "        disp.cmap = plt.cm.RdBu_r\n",
    "        disp.add_colorbar()\n",
    "        disp.set_limits_percent(95)\n",
    "        disp.highlight_pixels(dl1_mask[key_id], color='red', linewidth=2)\n",
    "        plt.tight_layout()\n",
    "        plt.show()\n",
    "\n",
    "plt.close()"
   ]
  },
  {
   "cell_type": "markdown",
   "metadata": {},
   "source": [
    "#### <center> 12 June 2024 Run 17767.0035.h5 </center>"
   ]
  },
  {
   "cell_type": "code",
   "execution_count": null,
   "metadata": {},
   "outputs": [],
   "source": [
    "# It can be any dl1 file, from real data or simulations\n",
    "dl1_file = '/Users/vdk/muons2024/real_data/17744/fits_tables/code_check/dl1_LST-1.Run17767.0035.h5'\n",
    "\n",
    "dl1_images = []\n",
    "dl1_mask = []\n",
    "\n",
    "with h5py.File(dl1_file, 'r') as f:\n",
    "    # Access the dataset\n",
    "    dataset = f['dl1/event/telescope/image/LST_LSTCam']\n",
    "    \n",
    "    # Read the data\n",
    "    data = dataset[:]\n",
    "    for i, dataline in enumerate(data):\n",
    "        dl1_images.append(dataline[2])\n",
    "        dl1_mask.append(dataline[4])\n",
    "\n",
    "dl1_images = np.array(dl1_images)\n",
    "dl1_mask = np.array(dl1_mask).astype(bool)\n",
    "\n",
    "key_id = 1\n",
    "\n",
    "for key_id in range(0, 3):\n",
    "    if sum(dl1_images[key_id]) < 10000:\n",
    "        fig, ax = plt.subplots(1, 2, figsize=(14, 5))\n",
    "\n",
    "        disp = CameraDisplay(camgeom, image=dl1_images[key_id], ax=ax[0], title=f\"Event ID: {key_id}, sum: {sum(dl1_images[key_id]):.2f}\")\n",
    "        disp.cmap = plt.cm.RdBu_r\n",
    "        disp.title = f\"Event ID: {key_id}, sum: {sum(dl1_images[key_id]):.2f}\"\n",
    "        disp.add_colorbar()\n",
    "        disp.set_limits_percent(95)\n",
    "\n",
    "        disp = CameraDisplay(camgeom, image=dl1_images[key_id], ax=ax[1])\n",
    "        disp.cmap = plt.cm.RdBu_r\n",
    "        disp.add_colorbar()\n",
    "        disp.set_limits_percent(95)\n",
    "        disp.highlight_pixels(dl1_mask[key_id], color='red', linewidth=2)\n",
    "        plt.tight_layout()\n",
    "        plt.show()\n",
    "\n",
    "plt.close()"
   ]
  },
  {
   "cell_type": "code",
   "execution_count": null,
   "metadata": {},
   "outputs": [],
   "source": []
  },
  {
   "cell_type": "code",
   "execution_count": null,
   "metadata": {},
   "outputs": [],
   "source": []
  },
  {
   "cell_type": "code",
   "execution_count": null,
   "metadata": {},
   "outputs": [],
   "source": [
    "disp = CameraDisplay(camgeom, image=images[0])\n",
    "disp.cmap = plt.cm.RdBu_r\n",
    "disp.add_colorbar()\n",
    "disp.set_limits_percent(95)"
   ]
  },
  {
   "cell_type": "code",
   "execution_count": null,
   "metadata": {},
   "outputs": [],
   "source": [
    "disp = CameraDisplay(camgeom, image=images_good[0])\n",
    "disp.cmap = plt.cm.RdBu_r\n",
    "disp.add_colorbar()\n",
    "disp.set_limits_percent(95)\n",
    "disp.highlight_pixels(dist_masks_good[0], color='black', linewidth=2)"
   ]
  },
  {
   "cell_type": "code",
   "execution_count": null,
   "metadata": {},
   "outputs": [],
   "source": [
    "sum(event_dict[data_event_ids[2]][2])"
   ]
  },
  {
   "cell_type": "code",
   "execution_count": null,
   "metadata": {},
   "outputs": [],
   "source": [
    "dist_mask"
   ]
  }
 ],
 "metadata": {
  "kernelspec": {
   "display_name": "lstchain-v0.10.3",
   "language": "python",
   "name": "python3"
  },
  "language_info": {
   "codemirror_mode": {
    "name": "ipython",
    "version": 3
   },
   "file_extension": ".py",
   "mimetype": "text/x-python",
   "name": "python",
   "nbconvert_exporter": "python",
   "pygments_lexer": "ipython3",
   "version": "3.11.9"
  }
 },
 "nbformat": 4,
 "nbformat_minor": 2
}
