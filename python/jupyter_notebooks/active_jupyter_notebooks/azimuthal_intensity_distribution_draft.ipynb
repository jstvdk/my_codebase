{
 "cells": [
  {
   "cell_type": "code",
   "execution_count": null,
   "metadata": {},
   "outputs": [],
   "source": [
    "import numpy as np\n",
    "from lstchain.image.muon.muon_analysis import pixel_coords_to_telescope\n",
    "from ctapipe.io import EventSource\n",
    "import matplotlib.pyplot as plt\n",
    "from lstchain.reco import r0_to_dl1\n",
    "from ctapipe.image import ImageProcessor\n",
    "from ctapipe.image.muon import MuonProcessor\n",
    "from ctapipe.calib import CameraCalibrator\n",
    "import pandas as pd\n",
    "from astropy.table import Table, vstack\n",
    "\n",
    "import glob\n",
    "\n",
    "filename = '/Users/vdk//muons2024/data/for_comparison/nsb_tuning/triple_tuning/run101_muon.simtel.gz'\n",
    "source = EventSource(filename, max_events = 5000)"
   ]
  },
  {
   "cell_type": "code",
   "execution_count": null,
   "metadata": {},
   "outputs": [],
   "source": [
    "tel_description = source.subarray.tels[1]\n",
    "geom = tel_description.camera.geometry\n",
    "equivalent_focal_length = tel_description.optics.equivalent_focal_length\n",
    "x_coord, y_coord = pixel_coords_to_telescope(geom, equivalent_focal_length)"
   ]
  },
  {
   "cell_type": "markdown",
   "metadata": {},
   "source": [
    "### How to sum up the binned intensity"
   ]
  },
  {
   "cell_type": "code",
   "execution_count": null,
   "metadata": {},
   "outputs": [],
   "source": [
    "alpha_angles = np.array([0,1,0,2,0])  # Your list of bin indices (1855 elements, ranging from 0 to 359)\n",
    "image_clean = np.array([5,15,5,15,5])  # Your list of intensity values (1855 elements)\n",
    "\n",
    "# Number of bins\n",
    "num_bins = 5\n",
    "\n",
    "# Initialize an array to hold the summed values for each bin\n",
    "binned_sums = np.zeros(num_bins)\n",
    "\n",
    "# Use np.add.at to accumulate values into the corresponding bins\n",
    "np.add.at(binned_sums, alpha_angles, image_clean)\n",
    "binned_sums"
   ]
  },
  {
   "cell_type": "code",
   "execution_count": null,
   "metadata": {},
   "outputs": [],
   "source": [
    "def find_alpha_angles(x, y, x_center, y_center):\n",
    "    \"\"\"\n",
    "    It should return the array with 1855 elements, each element contain angle with respect to the muon ring\n",
    "    \"\"\"\n",
    "    # Calculate the angle with respect to the muon ring\n",
    "    alpha_angles = np.rad2deg(np.arctan2(y - y_center, x - x_center))\n",
    "    alpha_angles = np.round(alpha_angles).astype(int)\n",
    "    alpha_angles[alpha_angles < 0] += 360\n",
    "    return np.array(alpha_angles)\n",
    "\n",
    "def intensity_binning(x, y, x_center, y_center, image, clean_mask):\n",
    "    \"\"\"\n",
    "    It should return the array with 360 elements, each element contain number of p.e. in the bin width 1 deg\n",
    "    \"\"\"\n",
    "    # Its a list with angles, where to each x,y element of pixel we map the angle with respect to this particular muon ring. Each element should be rounded to integer, to serve as a bin.\n",
    "    \n",
    "    alpha_angles = find_alpha_angles(x, y, x_center, y_center)\n",
    "    # print(f\"Alpha angles shape : {alpha_angles.shape}\")\n",
    "    # print(f\"Alpha angles : {alpha_angles}\")\n",
    "    intensity_azimuth = np.zeros(360)\n",
    "    # print(f\"Intensity azimuth shape : {intensity_azimuth.shape}\")\n",
    "    # print(f\"Image clean shape : {image.shape}\")\n",
    "    print(np.max(alpha_angles))  # Check if this exceeds 359\n",
    "    print(np.min(alpha_angles))  # Should be >= 0\n",
    "    print(np.shape(intensity_azimuth), np.shape(alpha_angles), np.shape(image))\n",
    "    print(intensity_azimuth[359])\n",
    "    image[~clean_mask] = 0\n",
    "    np.add.at(intensity_azimuth, alpha_angles, image)\n",
    "    return intensity_azimuth\n"
   ]
  },
  {
   "cell_type": "markdown",
   "metadata": {},
   "source": [
    "## Tests"
   ]
  },
  {
   "cell_type": "code",
   "execution_count": null,
   "metadata": {},
   "outputs": [],
   "source": [
    "filename = '/Users/vdk//muons2024/data/for_comparison/nsb_tuning/triple_tuning/run101_muon.simtel.gz'\n",
    "source = EventSource(filename, max_events = 50)\n",
    "event_iterator = iter(source)\n",
    "events = np.array([])\n",
    "for event in event_iterator:\n",
    "        events = np.append(events, event)"
   ]
  },
  {
   "cell_type": "code",
   "execution_count": null,
   "metadata": {},
   "outputs": [],
   "source": [
    "event = events[0]\n",
    "image_processor = ImageProcessor(source.subarray)\n",
    "muon_processor = MuonProcessor(source.subarray)\n",
    "calib = CameraCalibrator(image_extractor_type=\"GlobalPeakWindowSum\",subarray = source.subarray)\n",
    "\n",
    "calib(event)\n",
    "image_processor(event)\n",
    "muon_processor(event)"
   ]
  },
  {
   "cell_type": "code",
   "execution_count": null,
   "metadata": {},
   "outputs": [],
   "source": [
    "min(y_coord.degree)"
   ]
  },
  {
   "cell_type": "code",
   "execution_count": null,
   "metadata": {},
   "outputs": [],
   "source": [
    "test_alpha = find_alpha_angles(x_coord.degree, y_coord.degree, 0.3,0)\n",
    "test_alpha"
   ]
  },
  {
   "cell_type": "code",
   "execution_count": null,
   "metadata": {},
   "outputs": [],
   "source": [
    "test_alpha = find_alpha_angles(x_coord.degree, y_coord.degree, 0,0)\n",
    "z,x,c = plt.hist(test_alpha, bins = 10)"
   ]
  },
  {
   "cell_type": "code",
   "execution_count": null,
   "metadata": {},
   "outputs": [],
   "source": [
    "event.muon.tel[1].ring.center_fov_lat"
   ]
  },
  {
   "cell_type": "code",
   "execution_count": null,
   "metadata": {},
   "outputs": [],
   "source": [
    "alpha_angles = find_alpha_angles(x_coord.degree, y_coord.degree, 0, 0)\n",
    "image = event.dl1.tel[1].image\n",
    "\n",
    "# Ensure the shapes match\n",
    "if alpha_angles.shape != image.shape:\n",
    "    raise ValueError(f\"Shape mismatch: alpha_angles shape {alpha_angles.shape} and image shape {image.shape}\")\n",
    "\n",
    "test_intensity = intensity_binning(x_coord.degree, y_coord.degree, 0.0639, 0.39, image, event.dl1.tel[1].image_mask)\n"
   ]
  },
  {
   "cell_type": "code",
   "execution_count": null,
   "metadata": {},
   "outputs": [],
   "source": [
    "x_values = [i for i in range(360)]\n",
    "#plt.scatter(x_values,test_intensity)\n",
    "#plt.hist(test_intensity, bins = 10)\n",
    "plt.plot(test_intensity)"
   ]
  },
  {
   "cell_type": "code",
   "execution_count": null,
   "metadata": {},
   "outputs": [],
   "source": [
    "test_intensity"
   ]
  },
  {
   "cell_type": "code",
   "execution_count": null,
   "metadata": {},
   "outputs": [],
   "source": [
    "image = event.dl1.tel[1].image\n",
    "image_mask = event.dl1.tel[1].image_mask\n",
    "\n",
    "image[~image_mask] = 0"
   ]
  },
  {
   "cell_type": "code",
   "execution_count": null,
   "metadata": {},
   "outputs": [],
   "source": [
    "image"
   ]
  },
  {
   "cell_type": "code",
   "execution_count": null,
   "metadata": {},
   "outputs": [],
   "source": [
    "print(event.dl1.tel[1].image[event.dl1.tel[1].image_mask])"
   ]
  },
  {
   "cell_type": "code",
   "execution_count": null,
   "metadata": {},
   "outputs": [],
   "source": [
    "plt.plot(test_intensity)"
   ]
  },
  {
   "cell_type": "code",
   "execution_count": null,
   "metadata": {},
   "outputs": [],
   "source": [
    "# Sample data: Replace these with your actual list1 and list2\n",
    "list1 = alpha_angles\n",
    "list2 = [10, 20, 5, 15, 25, 30]  # Values corresponding to each bin\n",
    "\n",
    "# Number of bins (maximum bin number + 1, if bins start from 0)\n",
    "num_bins = max(list1) + 1\n",
    "\n",
    "# Initialize an array to store the sum of values for each bin\n",
    "binned_values = np.zeros(num_bins)\n",
    "\n",
    "# Aggregate values into bins\n",
    "for bin_num, value in zip(list1, list2):\n",
    "    binned_values[bin_num] += value\n",
    "\n",
    "# Create the histogram (bar chart)\n",
    "plt.bar(range(num_bins), binned_values)\n",
    "plt.xlabel('Bin Number')\n",
    "plt.ylabel('Summed Values')\n",
    "plt.title('Histogram of Binned Values')\n",
    "plt.xticks(range(num_bins))  # Ensure the bin numbers are shown correctly on x-axis\n",
    "plt.show()"
   ]
  },
  {
   "cell_type": "code",
   "execution_count": null,
   "metadata": {},
   "outputs": [],
   "source": []
  },
  {
   "cell_type": "markdown",
   "metadata": {},
   "source": [
    "## Next step"
   ]
  },
  {
   "cell_type": "markdown",
   "metadata": {},
   "source": [
    "### From ctapipe intensity_fitter.py"
   ]
  },
  {
   "cell_type": "code",
   "execution_count": null,
   "metadata": {},
   "outputs": [],
   "source": [
    "# center_x: float\n",
    "#     center of muon ring in the telescope frame\n",
    "# pixel_x: quantity[angle]\n",
    "#     Pixel x coordinate in telescope frame\n",
    "\n",
    "\n",
    "\n",
    "dx = pixel_x_rad - center_x_rad\n",
    "dy = pixel_y_rad - center_y_rad\n",
    "ang = np.arctan2(dy, dx)"
   ]
  },
  {
   "cell_type": "markdown",
   "metadata": {},
   "source": [
    "## Final version"
   ]
  },
  {
   "cell_type": "code",
   "execution_count": null,
   "metadata": {},
   "outputs": [],
   "source": [
    "filename = '/Users/vdk//muons2024/data/for_comparison/nsb_tuning/triple_tuning/run101_muon.simtel.gz'\n",
    "source = EventSource(filename, max_events = 50)\n",
    "event_iterator = iter(source)\n",
    "event = next(event_iterator)\n",
    "image_processor = ImageProcessor(source.subarray)\n",
    "muon_processor = MuonProcessor(source.subarray)\n",
    "calib = CameraCalibrator(image_extractor_type=\"GlobalPeakWindowSum\",subarray = source.subarray)\n",
    "calib(event)\n",
    "image_processor(event)\n",
    "muon_processor(event)\n",
    "\n",
    "tel_description = source.subarray.tels[1]\n",
    "geom = tel_description.camera.geometry\n",
    "equivalent_focal_length = tel_description.optics.equivalent_focal_length\n",
    "x_coord, y_coord = pixel_coords_to_telescope(geom, equivalent_focal_length)"
   ]
  },
  {
   "cell_type": "markdown",
   "metadata": {},
   "source": [
    "### Functions to extract azimuthal angles and bin the intensity to this angles"
   ]
  },
  {
   "cell_type": "code",
   "execution_count": null,
   "metadata": {},
   "outputs": [],
   "source": [
    "def find_alpha_angles(x, y, x_center, y_center):\n",
    "    \"\"\"\n",
    "    It should return the array with 1855 elements, each element contain angle with respect to the muon ring\n",
    "    \"\"\"\n",
    "    # Calculate the angle with respect to the center of muon ring\n",
    "    alpha_angles = np.rad2deg(np.arctan2(y - y_center, x - x_center))\n",
    "    alpha_angles = np.round(alpha_angles).astype(int)\n",
    "    alpha_angles[alpha_angles < 0] += 360\n",
    "    return np.array(alpha_angles)\n",
    "\n",
    "def intensity_binning(x, y, x_center, y_center, image, clean_mask):\n",
    "    \"\"\"\n",
    "    It should return the array with 360 elements, each element contain number of p.e. in the bin width 1 deg with respect to muon center\n",
    "    \"\"\"\n",
    "    # Its a list with angles, where to each x,y element of pixel \n",
    "    # we map the angle with respect to this particular muon ring. \n",
    "    # Each element is rounded to integer, to serve as a bin.\n",
    "    alpha_angles = find_alpha_angles(x, y, x_center, y_center)\n",
    "    intensity_azimuth = np.zeros(360)\n",
    "    image[~clean_mask] = 0\n",
    "    np.add.at(intensity_azimuth, alpha_angles, image)\n",
    "    return intensity_azimuth\n"
   ]
  },
  {
   "cell_type": "code",
   "execution_count": null,
   "metadata": {},
   "outputs": [],
   "source": [
    "alpha_angles = find_alpha_angles(x_coord.degree, y_coord.degree, 0, 0)\n",
    "image = event.dl1.tel[1].image\n",
    "\n",
    "# Ensure the shapes match\n",
    "if alpha_angles.shape != image.shape:\n",
    "    raise ValueError(f\"Shape mismatch: alpha_angles shape {alpha_angles.shape} and image shape {image.shape}\")\n",
    "\n",
    "test_intensity = intensity_binning(x_coord.degree, y_coord.degree, 0.0639, 0.39, image, event.dl1.tel[1].image_mask)\n"
   ]
  },
  {
   "cell_type": "code",
   "execution_count": null,
   "metadata": {},
   "outputs": [],
   "source": [
    "center_x = event.muon.tel[1].ring.center_fov_lon.to_value()\n",
    "center_y = event.muon.tel[1].ring.center_fov_lat.to_value()\n",
    "intensity_profile_temp = intensity_binning(x_coord.degree, y_coord.degree, center_x, center_y, event.dl1.tel[1].image, event.dl1.tel[1].image_mask)"
   ]
  },
  {
   "cell_type": "code",
   "execution_count": null,
   "metadata": {},
   "outputs": [],
   "source": [
    "filename = '/Users/vdk//muons2024/data/for_comparison/nsb_tuning/triple_tuning/run101_muon.simtel.gz'\n",
    "source = EventSource(filename, max_events = 100)\n",
    "event_iterator = iter(source)\n",
    "image_processor = ImageProcessor(source.subarray)\n",
    "muon_processor = MuonProcessor(source.subarray)\n",
    "calib = CameraCalibrator(image_extractor_type=\"GlobalPeakWindowSum\",subarray = source.subarray)\n",
    "\n",
    "intensity_profiles = []\n",
    "\n",
    "for event in event_iterator:\n",
    "        calib(event)\n",
    "        image_processor(event)\n",
    "        muon_processor(event)\n",
    "        \n",
    "        center_x = event.muon.tel[1].ring.center_fov_lon.to_value()\n",
    "        center_y = event.muon.tel[1].ring.center_fov_lat.to_value()\n",
    "        #if event.muon.tel[1].parameters.completeness > 0.99:\n",
    "        if event.muon.tel[1].efficiency.impact.to_value() > 8:\n",
    "                intensity_profile_temp = intensity_binning(x_coord.degree, y_coord.degree, center_x, center_y, event.dl1.tel[1].image, event.dl1.tel[1].image_mask)\n",
    "        \n",
    "                intensity_profiles.append(intensity_profile_temp)\n",
    "\n",
    "intensity_profiles = np.array(intensity_profiles)\n",
    "        "
   ]
  },
  {
   "cell_type": "code",
   "execution_count": null,
   "metadata": {},
   "outputs": [],
   "source": [
    "for shape in intensity_profiles:\n",
    "    #plt.scatter(x_values,shape)\n",
    "    plt.plot(shape,alpha=1)\n",
    "\n",
    "    #plt.ylim(0,100)"
   ]
  },
  {
   "cell_type": "code",
   "execution_count": null,
   "metadata": {},
   "outputs": [],
   "source": [
    "event.muon.tel[1].parameters.completeness"
   ]
  },
  {
   "cell_type": "code",
   "execution_count": null,
   "metadata": {},
   "outputs": [],
   "source": [
    "import matplotlib.pyplot as plt\n",
    "\n",
    "# Assuming intensity_profiles is a list of 10 lists, each representing a profile\n",
    "for i, shape in enumerate(intensity_profiles):\n",
    "    plt.figure()  # Create a new figure for each profile\n",
    "    plt.plot(shape, alpha=1)  # Plot the profile\n",
    "    plt.title(f'Profile {i+1}')  # Add a title to each plot\n",
    "    plt.xlabel('X Values')  # Label for the x-axis (optional)\n",
    "    plt.ylabel('Y Values')  # Label for the y-axis (optional)\n",
    "    plt.show()  # Show the plot"
   ]
  },
  {
   "cell_type": "code",
   "execution_count": null,
   "metadata": {},
   "outputs": [],
   "source": []
  },
  {
   "cell_type": "code",
   "execution_count": null,
   "metadata": {},
   "outputs": [],
   "source": [
    "event.muon.tel[1].efficiency.impact"
   ]
  },
  {
   "cell_type": "code",
   "execution_count": null,
   "metadata": {},
   "outputs": [],
   "source": []
  },
  {
   "cell_type": "markdown",
   "metadata": {},
   "source": [
    "## Revised version"
   ]
  },
  {
   "cell_type": "code",
   "execution_count": null,
   "metadata": {},
   "outputs": [],
   "source": [
    "def find_alpha_angles(x, y, x_center, y_center, x_cam, y_cam):\n",
    "    # Calculate the azimuthal angles relative to the ring center\n",
    "    alpha_angles = np.rad2deg(np.arctan2(y - y_center, x - x_center))\n",
    "    alpha_angles[alpha_angles < 0] += 360\n",
    "\n",
    "    # Calculate the reference angle from the ring center to the camera center\n",
    "    phi0 = np.rad2deg(np.arctan2(y_center - y_cam, x_center - x_cam))\n",
    "    if phi0 < 0:\n",
    "        phi0 += 360\n",
    "\n",
    "    # Adjust angles to have a common zero pointing towards the camera center\n",
    "    alpha_angles_adjusted = alpha_angles - phi0\n",
    "    alpha_angles_adjusted[alpha_angles_adjusted < 0] += 360\n",
    "    return alpha_angles_adjusted\n",
    "\n",
    "def intensity_binning(x, y, x_center, y_center, image, clean_mask, bin_size=10, x_cam=0, y_cam = 0):\n",
    "    alpha_angles = find_alpha_angles(x, y, x_center, y_center, x_cam, y_cam)\n",
    "    num_bins = int(360 / bin_size)\n",
    "    intensity_azimuth = np.zeros(num_bins)\n",
    "    image[~clean_mask] = 0\n",
    "\n",
    "    # Map adjusted angles to bins\n",
    "    bin_indices = (alpha_angles // bin_size).astype(int) % num_bins\n",
    "    np.add.at(intensity_azimuth, bin_indices, image)\n",
    "    return intensity_azimuth"
   ]
  },
  {
   "cell_type": "code",
   "execution_count": null,
   "metadata": {},
   "outputs": [],
   "source": [
    "filename = '/Users/vdk//muons2024/data/for_comparison/nsb_tuning/triple_tuning/run101_muon.simtel.gz'\n",
    "source = EventSource(filename, max_events = 1000)\n",
    "event_iterator = iter(source)\n",
    "image_processor = ImageProcessor(source.subarray)\n",
    "muon_processor = MuonProcessor(source.subarray)\n",
    "calib = CameraCalibrator(image_extractor_type=\"GlobalPeakWindowSum\",subarray = source.subarray)\n",
    "\n",
    "intensity_profiles = []\n",
    "\n",
    "for event in event_iterator:\n",
    "        calib(event)\n",
    "        image_processor(event)\n",
    "        muon_processor(event)\n",
    "        \n",
    "        center_x = event.muon.tel[1].ring.center_fov_lon.to_value()\n",
    "        center_y = event.muon.tel[1].ring.center_fov_lat.to_value()\n",
    "        if event.muon.tel[1].parameters.completeness > 0.9:\n",
    "        #if event.muon.tel[1].efficiency.impact.to_value() < 3:\n",
    "                intensity_profile_temp = intensity_binning(\n",
    "                        x_coord.degree, \n",
    "                        y_coord.degree, \n",
    "                        center_x, \n",
    "                        center_y, \n",
    "                        event.dl1.tel[1].image, \n",
    "                        event.dl1.tel[1].image_mask\n",
    "                )\n",
    "        \n",
    "                intensity_profiles.append(intensity_profile_temp)\n",
    "        if len(intensity_profiles) == 10:\n",
    "            break\n",
    "\n",
    "intensity_profiles = np.array(intensity_profiles)\n",
    "        "
   ]
  },
  {
   "cell_type": "code",
   "execution_count": null,
   "metadata": {},
   "outputs": [],
   "source": [
    "bin_size = 10  # You can adjust this to 5, 10, etc.\n",
    "num_bins = int(360 / bin_size)\n",
    "bin_edges = np.linspace(0, 360, num_bins + 1)\n",
    "bin_centers = (bin_edges[:-1] + bin_edges[1:]) / 2\n",
    "plt.figure(figsize=(10, 6))\n",
    "\n",
    "for shape in intensity_profiles[1:2]:\n",
    "    #plt.scatter(x_values,shape)\n",
    "    #plt.plot(shape,alpha=1)    \n",
    "    plt.step(bin_centers, shape, where='mid', linewidth=2)\n",
    "\n",
    "    #plt.ylim(0,100)"
   ]
  },
  {
   "cell_type": "code",
   "execution_count": null,
   "metadata": {},
   "outputs": [],
   "source": [
    "intensity_profiles.shape"
   ]
  },
  {
   "cell_type": "markdown",
   "metadata": {},
   "source": [
    "### Data"
   ]
  },
  {
   "cell_type": "code",
   "execution_count": null,
   "metadata": {},
   "outputs": [],
   "source": [
    "image_folder = glob.glob('/Users/vdk/muons2024/data/17043/dl1_image/*')\n",
    "mask_folder = glob.glob('/Users/vdk/muons2024/data/17043/dl1_mask/*')\n",
    "peak_folder = glob.glob('/Users/vdk/muons2024/data/17043/dl1_peak/*')\n",
    "\n",
    "data_dl1_images = []\n",
    "data_dl1_mask = []\n",
    "data_dl1_peak = []\n",
    "\n",
    "for file in image_folder:\n",
    "    tmp_result = np.load(file)\n",
    "    data_dl1_images.append(tmp_result)\n",
    "\n",
    "for file in mask_folder:\n",
    "    tmp_result = np.load(file)\n",
    "    data_dl1_mask.append(tmp_result)\n",
    "\n",
    "for file in peak_folder:\n",
    "    tmp_result = np.load(file)\n",
    "    data_dl1_peak.append(tmp_result)"
   ]
  },
  {
   "cell_type": "code",
   "execution_count": null,
   "metadata": {},
   "outputs": [],
   "source": []
  },
  {
   "cell_type": "code",
   "execution_count": null,
   "metadata": {},
   "outputs": [],
   "source": [
    "file_path = '/Users/vdk/muons2024/data/dl1_LST-1.Run17043.0001.h5'\n",
    "\n",
    "# Open the .h5 file\n",
    "with h5py.File(file_path, 'r') as f:\n",
    "    # Access the dataset\n",
    "    dataset = f['dl1/event/telescope/image/LST_LSTCam']\n",
    "    print(f\"dataset {dataset}\")\n",
    "    print(f\"dataset type {type(dataset)}\")\n",
    "    # Read the data\n",
    "    data = dataset[:]\n",
    "    print(f\"data {data}\")\n",
    "    print(f\"data type {type(data)}\")\n",
    "    \n",
    "    # Print some information about the data\n",
    "    # print(f'Dataset shape: {dataset.shape}')\n",
    "    # print(f'Dataset dtype: {dataset.dtype}')\n",
    "    # print('Data:', data)\n",
    "\n",
    "    # If you want to read a specific part of the data, you can use slicing\n",
    "    # For example, to read the first 10 entries:\n",
    "    partial_data = dataset[:10]\n",
    "#    print('First 10 entries:', partial_data)"
   ]
  },
  {
   "cell_type": "code",
   "execution_count": null,
   "metadata": {},
   "outputs": [],
   "source": [
    "data_loaded = pd.read_csv('/Users/vdk/Software/code/muon_paper_2024/low_nsb_2024year.csv', index_col=0)"
   ]
  },
  {
   "cell_type": "code",
   "execution_count": null,
   "metadata": {},
   "outputs": [],
   "source": [
    "data_loaded[100:130]"
   ]
  },
  {
   "cell_type": "code",
   "execution_count": null,
   "metadata": {},
   "outputs": [],
   "source": []
  },
  {
   "cell_type": "code",
   "execution_count": null,
   "metadata": {},
   "outputs": [],
   "source": [
    "fits_file = '/Users/vdk/muons2024/data/additional_statistic/muons_LST-1.Run17743.fits'\n",
    "\n",
    "dat = Table.read(fits_file, format='fits')\n",
    "dat['good_ring'] = dat['good_ring'].astype(bool)\n",
    "df = dat.to_pandas()\n",
    "df_good_data = df[(df['muon_efficiency'] < 1) & \n",
    "                      (df['size_outside'] < 500)]\n",
    "\n",
    "df_good_data\n",
    "\n",
    "ring_completeness_cut = 0.9\n",
    "ring_containment_cut = 0.99\n",
    "event_ids = np.array(list(df_good_data['event_id'][(df_good_data['ring_completeness'] > ring_completeness_cut) &\n",
    "                                           (df_good_data['ring_containment'] > ring_containment_cut)]))\n",
    "\n",
    "min_impact = min(df_good_data['impact_parameter'])\n",
    "max_impact = max(df_good_data['impact_parameter']) \n",
    "\n",
    "filename_event_ids = '/Users/vdk/muons2024/data/17043_muons_08complet.txt'\n",
    "#np.save(filename_event_ids, event_ids)\n",
    "\n",
    "df_real_data = df_good_data[(df_good_data['ring_completeness'] > ring_completeness_cut) &\n",
    "                                           (df_good_data['ring_containment'] > ring_containment_cut)]"
   ]
  },
  {
   "cell_type": "code",
   "execution_count": null,
   "metadata": {},
   "outputs": [],
   "source": [
    "plt.hist(df_real_data['ring_width'], bins = 40)"
   ]
  },
  {
   "cell_type": "code",
   "execution_count": null,
   "metadata": {},
   "outputs": [],
   "source": [
    "run_number = 17769\n",
    "fits_file = f'/Users/vdk/muons2024/data/additional_statistic/muons_LST-1.Run{run_number}.fits'\n",
    "\n",
    "dat = Table.read(fits_file, format='fits')\n",
    "dat['good_ring'] = dat['good_ring'].astype(bool)\n",
    "df = dat.to_pandas()\n",
    "df_good_data = df[(df['muon_efficiency'] < 1) & \n",
    "                      (df['size_outside'] < 500)]\n",
    "\n",
    "df_good_data\n",
    "\n",
    "ring_completeness_cut = 0.4\n",
    "ring_containment_cut = 0.99\n",
    "event_ids = np.array(list(df_good_data['event_id'][(df_good_data['ring_completeness'] > ring_completeness_cut) &\n",
    "                                           (df_good_data['ring_containment'] > ring_containment_cut)]))\n",
    "\n",
    "min_impact = min(df_good_data['impact_parameter'])\n",
    "max_impact = max(df_good_data['impact_parameter']) \n",
    "\n",
    "filename_event_ids = f'/Users/vdk/muons2024/data/additional_statistic/event_ids/{run_number}_muons_complet04_contain099.txt'\n",
    "np.save(filename_event_ids, event_ids)\n",
    "\n",
    "df_real_data = df_good_data[(df_good_data['ring_completeness'] > ring_completeness_cut) &\n",
    "                                           (df_good_data['ring_containment'] > ring_containment_cut)]"
   ]
  },
  {
   "cell_type": "code",
   "execution_count": null,
   "metadata": {},
   "outputs": [],
   "source": [
    "df_real_data"
   ]
  },
  {
   "cell_type": "code",
   "execution_count": null,
   "metadata": {},
   "outputs": [],
   "source": []
  },
  {
   "cell_type": "code",
   "execution_count": null,
   "metadata": {},
   "outputs": [],
   "source": [
    "#!/usr/bin/env python3\n",
    "import h5py\n",
    "import hdf5plugin\n",
    "import glob\n",
    "import numpy as np\n",
    "import argparse\n",
    "\n",
    "\n",
    "parser = argparse.ArgumentParser(description='Process run_number and date.')\n",
    "parser.add_argument('run_number', type=str, help='The run number.')\n",
    "parser.add_argument('date', type=str, help='The date in YYYYMMDD format.')\n",
    "\n",
    "args = parser.parse_args()\n",
    "\n",
    "# Access arguments\n",
    "run_number = args.run_number\n",
    "date = args.date\n",
    "\n",
    "filename_event_ids = '/fefs/aswg/workspace/vadym.voitsekhovskyi/2024muons/lst_study/real_data/azimuthal_profile_study/{run_number}_muons_complet04_contain099.txt.npy'\n",
    "event_ids = np.load(filename_event_ids)\n",
    "\n",
    "\n",
    "file_path = glob.glob('/fefs/aswg/data/real/DL1/{date}/v0.10/tailcut84/dl1_LST-1.Run{run_number}.*.h5')\n",
    "\n",
    "# Open the .h5 file\n",
    "for filename in file_path:\n",
    "    with h5py.File(filename, 'r') as f:\n",
    "        # Access the dataset\n",
    "        dataset = f['dl1/event/telescope/image/LST_LSTCam']\n",
    "\n",
    "        # Read the data\n",
    "        data = dataset[:]\n",
    "\n",
    "        for event_record in data:\n",
    "            if event_record[1] in event_ids:\n",
    "                filename_image = f'/fefs/aswg/workspace/vadym.voitsekhovskyi/2024muons/lst_study/real_data/azimuthal_profile_study/{run_number}_dl1_image_event{event_record[1]}.txt'\n",
    "                filename_image_mask = f'/fefs/aswg/workspace/vadym.voitsekhovskyi/2024muons/lst_study/real_data/azimuthal_profile_study/{run_number}_dl1__image_mask_event{event_record[1]}.txt'\n",
    "                np.save(filename_image, event_record[2])\n",
    "                np.save(filename_image_mask, event_record[4])"
   ]
  },
  {
   "cell_type": "code",
   "execution_count": null,
   "metadata": {},
   "outputs": [],
   "source": [
    "filename_event_ids = '/Users/vdk/muons2024/data/additional_statistic/event_ids/17769_muons_complet04_contain099.txt.npy'\n",
    "event_ids = np.load(filename_event_ids)"
   ]
  },
  {
   "cell_type": "code",
   "execution_count": null,
   "metadata": {},
   "outputs": [],
   "source": [
    "image_folder = glob.glob('/Users/vdk/muons2024/data/additional_statistic/event_ids/image_17743/image/*')\n",
    "mask_folder = glob.glob('/Users/vdk/muons2024/data/additional_statistic/event_ids/image_17743/image_mask/*')\n",
    "\n",
    "\n",
    "data_dl1_images = []\n",
    "data_dl1_mask = []\n",
    "\n",
    "for file in image_folder:\n",
    "    tmp_result = np.load(file)\n",
    "    data_dl1_images.append(tmp_result)\n",
    "\n",
    "for file in mask_folder:\n",
    "    tmp_result = np.load(file)\n",
    "    data_dl1_mask.append(tmp_result)\n"
   ]
  },
  {
   "cell_type": "code",
   "execution_count": null,
   "metadata": {},
   "outputs": [],
   "source": [
    "from ctapipe.image import tailcuts_clean\n",
    "from ctapipe.visualization import CameraDisplay\n",
    "import matplotlib.pyplot as plt\n",
    "\n",
    "camgeom = source.subarray.tel[1].camera.geometry\n",
    "new_data_mask = []\n",
    "for image in data_dl1_images:\n",
    "    mask = tailcuts_clean(camgeom, image, picture_thresh=10, boundary_thresh=5)\n",
    "    new_data_mask.append(mask)"
   ]
  },
  {
   "cell_type": "code",
   "execution_count": null,
   "metadata": {},
   "outputs": [],
   "source": [
    "image = data_dl1_images[500]\n",
    "\n",
    "negative_Q = np.sort(image[image <= 0])\n",
    "\n",
    "hist, bins = np.histogram(negative_Q,range=(-15,0),bins=30)\n",
    "bins = bins[:-1]\n",
    "\n",
    "cumulative = np.cumsum(hist)\n",
    "idx = (np.abs(cumulative - 0.318 * cumulative[-1])).argmin() #Find q closest to standard deviation\n",
    "dev = np.abs(bins[idx])\n",
    "\n",
    "tailcuts = [4*dev,2*dev]   # tailcuts are placed at 4*dev of each image.\n",
    "tailcuts"
   ]
  },
  {
   "cell_type": "code",
   "execution_count": null,
   "metadata": {},
   "outputs": [],
   "source": [
    "new_data_mask_tailcuts = []\n",
    "for image in data_dl1_images:\n",
    "    negative_Q = np.sort(image[image <= 0])\n",
    "\n",
    "    hist, bins = np.histogram(negative_Q,range=(-15,0),bins=30)\n",
    "    bins = bins[:-1]\n",
    "\n",
    "    cumulative = np.cumsum(hist)\n",
    "    idx = (np.abs(cumulative - 0.318 * cumulative[-1])).argmin() #Find q closest to standard deviation\n",
    "    dev = np.abs(bins[idx])\n",
    "\n",
    "    tailcuts = [4*dev,2*dev]   # tailcuts are placed at 4*dev of each image.\n",
    "    \n",
    "    mask = tailcuts_clean(camgeom, image, picture_thresh=tailcuts[0], boundary_thresh=tailcuts[1])\n",
    "    new_data_mask_tailcuts.append(mask)"
   ]
  },
  {
   "cell_type": "code",
   "execution_count": null,
   "metadata": {},
   "outputs": [],
   "source": [
    "cur_index = 6\n",
    "\n",
    "data_dl1_mask = np.array(data_dl1_mask).astype(bool)\n",
    "fig, ax = plt.subplots(1, 2, figsize=(18, 10))\n",
    "disp = CameraDisplay(\n",
    "    camgeom, image=data_dl1_images[cur_index], cmap=\"grey\", ax = ax[0], title=\"Pixel mask with standard tailcut cleaning [10;5]\"\n",
    ")\n",
    "disp.highlight_pixels(new_data_mask[cur_index], alpha=0.6, linewidth=2, color=\"red\")\n",
    "disp = CameraDisplay(\n",
    "    camgeom, image=data_dl1_images[cur_index], cmap=\"grey\", ax = ax[1], title=f\"Pixel mask with modified tailcuts cleaning\"\n",
    ")\n",
    "disp.highlight_pixels(new_data_mask_tailcuts[cur_index], alpha=0.6, linewidth=2, color=\"red\")"
   ]
  },
  {
   "cell_type": "code",
   "execution_count": null,
   "metadata": {},
   "outputs": [],
   "source": [
    "from ctapipe.image.muon import (\n",
    "    MuonIntensityFitter,\n",
    "    MuonRingFitter\n",
    ")\n",
    "\n",
    "\n",
    "\n",
    "fitter = MuonRingFitter(fit_method='kundu_chaudhuri')\n",
    "\n",
    "ring = fitter(x_coord, y_coord, data_dl1_images[2], new_data_mask[2])\n",
    "\n",
    "for _ in (0, 0):  # just to iterate the fit twice more\n",
    "    dist = np.sqrt(\n",
    "        (x_coord - ring.center_fov_lon) ** 2 + (y_coord - ring.center_fov_lat) ** 2\n",
    "    )\n",
    "    ring_dist = np.abs(dist - ring.radius)\n",
    "\n",
    "    new_data_mask[2] *= (ring_dist < ring.radius * 3)\n",
    "    ring = fitter(x_coord, y_coord, image, new_data_mask[2])   \n",
    "\n",
    "ring.radius"
   ]
  },
  {
   "cell_type": "code",
   "execution_count": null,
   "metadata": {},
   "outputs": [],
   "source": [
    "data_dl1_mask[1]"
   ]
  },
  {
   "cell_type": "code",
   "execution_count": null,
   "metadata": {},
   "outputs": [],
   "source": [
    "new_data_mask[0]"
   ]
  },
  {
   "cell_type": "code",
   "execution_count": null,
   "metadata": {},
   "outputs": [],
   "source": [
    "max_limit = 50\n",
    "fig, ax = plt.subplots(1, 2, figsize=(18, 10))\n",
    "camgeom = source.subarray.tel[1].camera.geometry\n",
    "#title=\"CT{}, run {} cog {} fit {} width {}\".format(1,event.index.obs_id, round(event.dl1.tel[1].parameters.concentration.cog, 3), round(j.muon.tel[1].efficiency.optical_efficiency, 3), round(j.muon.tel[1].efficiency.width.to_value(),3))\n",
    "disp = CameraDisplay(\n",
    "    camgeom, image=data_dl1_images[0], cmap=plt.cm.RdBu_r, ax = ax[0], title=\"dl1 image sim\"\n",
    ")\n",
    "#disp.set_limits_percent(20)\n",
    "disp.set_limits_minmax(0,max_limit)\n",
    "disp.add_colorbar()\n",
    "disp = CameraDisplay(\n",
    "    camgeom, image=data_dl1_images[1], cmap=plt.cm.RdBu_r, ax = ax[1], title=\"dl1 image data\"\n",
    ")\n",
    "\n",
    "disp.add_colorbar()\n",
    "disp.set_limits_minmax(0,max_limit)\n",
    "#plt.savefig(f\"/Users/vdk/TrurImageCheckCOG{i}_COG=0_fitWrong\")\n",
    "plt.show()"
   ]
  },
  {
   "cell_type": "code",
   "execution_count": null,
   "metadata": {},
   "outputs": [],
   "source": [
    "import os\n",
    "import glob\n",
    "import re\n",
    "import numpy as np\n",
    "from ctapipe.image import tailcuts_clean\n",
    "\n",
    "image_folder = glob.glob('/Users/vdk/muons2024/data/additional_statistic/event_ids/image_17743/image/*')\n",
    "\n",
    "file_pattern = '17743_dl1_image_event*.txt.npy'\n",
    "file_list = glob.glob('/Users/vdk/muons2024/data/additional_statistic/event_ids/image_17743/image/' + file_pattern) \n",
    "\n",
    "data_dict = {}\n",
    "\n",
    "for file_path in file_list:\n",
    "    filename = os.path.basename(file_path)\n",
    "    match = re.search(r'event(\\d+)\\.txt\\.npy$', filename)\n",
    "    if match:\n",
    "        event_id = int(match.group(1))\n",
    "        array_content = np.load(file_path)\n",
    "        data_dict[event_id] = array_content\n",
    "    else:\n",
    "        print(f\"Filename {filename} does not match the expected pattern.\")\n",
    "\n",
    "\n",
    "camgeom = source.subarray.tel[1].camera.geometry\n",
    "data_mask = {}\n",
    "for event_id, array_content in data_dict.items():\n",
    "    mask = tailcuts_clean(camgeom, array_content, picture_thresh=10, boundary_thresh=5)\n",
    "    data_mask[event_id] = mask"
   ]
  },
  {
   "cell_type": "code",
   "execution_count": null,
   "metadata": {},
   "outputs": [],
   "source": [
    "disp = CameraDisplay(\n",
    "    camgeom, image=data_dict[2399474], cmap=\"gray\", title=\"Pixels with signal\"\n",
    ")\n",
    "disp.highlight_pixels(data_mask[2399474], alpha=0.8, linewidth=2, color=\"green\")"
   ]
  },
  {
   "cell_type": "code",
   "execution_count": null,
   "metadata": {},
   "outputs": [],
   "source": [
    "test_name = \"test_hello_world\""
   ]
  },
  {
   "cell_type": "code",
   "execution_count": null,
   "metadata": {},
   "outputs": [],
   "source": [
    "test_name_2 = test_name.replace('_', '\\_').lstrip('test\\_')"
   ]
  },
  {
   "cell_type": "code",
   "execution_count": null,
   "metadata": {},
   "outputs": [],
   "source": [
    "test_name_2"
   ]
  },
  {
   "cell_type": "code",
   "execution_count": null,
   "metadata": {},
   "outputs": [],
   "source": [
    "test_name"
   ]
  },
  {
   "cell_type": "code",
   "execution_count": null,
   "metadata": {},
   "outputs": [],
   "source": [
    "test_name.replace('test_', '', 1).replace('_', '\\_')"
   ]
  },
  {
   "cell_type": "markdown",
   "metadata": {},
   "source": [
    "# New processed data"
   ]
  },
  {
   "cell_type": "code",
   "execution_count": null,
   "metadata": {},
   "outputs": [],
   "source": [
    "fits_file = f'/Users/vdk/muons2024/real_data/17744/fits_tables/tables_run{17744}/muons_LST-1.Run17744.0047.fits'\n",
    "\n",
    "# Read the FITS file into an Astropy Table\n",
    "dat = Table.read(fits_file, format='fits')\n",
    "\n",
    "# Ensure 'good_ring' is of boolean type\n",
    "dat['good_ring'] = dat['good_ring'].astype(bool)\n",
    "\n",
    "# Identify one-dimensional and multidimensional columns\n",
    "one_d_cols = [name for name in dat.colnames if len(dat[name].shape) <= 1]\n",
    "multi_d_cols = [name for name in dat.colnames if len(dat[name].shape) > 1]\n",
    "\n",
    "# Convert one-dimensional columns to pandas DataFrame\n",
    "df = dat[one_d_cols].to_pandas()\n",
    "\n",
    "# Extract multidimensional data separately\n",
    "images = dat['image'].tolist() if 'image' in multi_d_cols else None\n",
    "dist_masks = dat['dist_mask'].tolist() if 'dist_mask' in multi_d_cols else None\n",
    "\n",
    "# Apply your filtering criteria on the DataFrame\n",
    "df_good_data = df[(df['muon_efficiency'] < 1) & \n",
    "                 (df['size_outside'] < 500)]\n",
    "\n",
    "# Optionally, filter the multidimensional data based on the same criteria\n",
    "if images is not None:\n",
    "    images_good = np.array([img for img, cond in zip(images, (df['muon_efficiency'] < 1) &\n",
    "                                                (df['size_outside'] < 500)) if cond])\n",
    "if dist_masks is not None:\n",
    "    dist_masks_good = np.array([mask for mask, cond in zip(dist_masks, (df['muon_efficiency'] < 1) & \n",
    "                                                     (df['size_outside'] < 500)) if cond])"
   ]
  },
  {
   "cell_type": "code",
   "execution_count": null,
   "metadata": {},
   "outputs": [],
   "source": [
    "df"
   ]
  }
 ],
 "metadata": {
  "kernelspec": {
   "display_name": "cta-dev",
   "language": "python",
   "name": "python3"
  },
  "language_info": {
   "codemirror_mode": {
    "name": "ipython",
    "version": 3
   },
   "file_extension": ".py",
   "mimetype": "text/x-python",
   "name": "python",
   "nbconvert_exporter": "python",
   "pygments_lexer": "ipython3",
   "version": "3.11.9"
  }
 },
 "nbformat": 4,
 "nbformat_minor": 2
}
