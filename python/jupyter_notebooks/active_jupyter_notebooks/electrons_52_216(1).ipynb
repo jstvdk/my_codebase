{
 "cells": [
  {
   "cell_type": "code",
   "execution_count": null,
   "id": "0",
   "metadata": {},
   "outputs": [],
   "source": [
    "import matplotlib.pyplot as plt\n",
    "import numpy as np\n",
    "import astropy.units as u\n",
    "from ipywidgets import interact\n",
    "from tqdm.auto import tqdm\n",
    "from eventio import SimTelFile\n",
    "from lstchain import mc\n",
    "import glob\n",
    "import math\n",
    "\n",
    "from IPython.display import display, HTML\n",
    "display(HTML(\"<style>.container { width:95% !important; }</style>\"))"
   ]
  },
  {
   "cell_type": "code",
   "execution_count": null,
   "id": "1",
   "metadata": {},
   "outputs": [],
   "source": [
    "#%matplotlib widget"
   ]
  },
  {
   "cell_type": "code",
   "execution_count": null,
   "id": "2",
   "metadata": {},
   "outputs": [],
   "source": [
    "datafile = \"/Users/vdk/UnrealLST/simtel_investigations/MONOSTEREO_run1001_muon.simtel.gz\"\n",
    "datafile = \"/Users/vdk/UnrealLST/simtel_investigations/STEREOSTEREO_run1001_muon.simtel.gz\"\n",
    "datafile = \"/Users/vdk/UnrealLST/simtel_investigations/ARRAYSTEREO_run1001_muon.simtel.gz\"\n",
    "#datafile = \"/home/voutsi/Work/TriggerStudies/analysis/Electrons_data/simtel_corsika_theta_52.374_az_216.698_run4.simtel.gz\"\n",
    "source = SimTelFile(datafile)\n",
    "source.mc_run_headers[0]\n"
   ]
  },
  {
   "cell_type": "code",
   "execution_count": null,
   "id": "3",
   "metadata": {},
   "outputs": [],
   "source": [
    "#FilenamesList = glob.glob('simtel_corsika_theta_66.446_az_284.017_run*.simtel.gz')\n",
    "FilenamesList = glob.glob('simtel_*_run617.simtel.gz')\n"
   ]
  },
  {
   "cell_type": "code",
   "execution_count": null,
   "id": "4",
   "metadata": {},
   "outputs": [],
   "source": [
    "xcores = []  \n",
    "ycores = []\n",
    "xcores_sim = []\n",
    "ycores_sim = []\n",
    "Alts = []\n",
    "Azimuths = []\n",
    "PE = []\n"
   ]
  },
  {
   "cell_type": "code",
   "execution_count": null,
   "id": "5",
   "metadata": {},
   "outputs": [],
   "source": [
    "for filename in FilenamesList:\n",
    "    print(filename)\n",
    "    with SimTelFile(filename) as f:\n",
    "        evt_iter = f.iter_array_events()\n",
    "        xcores_temp = []\n",
    "        ycores_temp = []\n",
    "        for event in evt_iter:\n",
    "            xcores_temp.append(event['mc_event']['xcore'])\n",
    "            ycores_temp.append(event['mc_event']['ycore']) \n",
    "            #print(event['mc_event'])\n",
    "        xcores.extend(xcores_temp)\n",
    "        ycores.extend(ycores_temp)"
   ]
  },
  {
   "cell_type": "code",
   "execution_count": null,
   "id": "6",
   "metadata": {},
   "outputs": [],
   "source": [
    "with SimTelFile(datafile) as f:\n",
    "    evt_iter = f.iter_array_events()\n",
    "    xcores_temp = []\n",
    "    ycores_temp = []\n",
    "    for event in evt_iter:\n",
    "        xcores_temp.append(event['mc_event']['xcore'])\n",
    "        ycores_temp.append(event['mc_event']['ycore']) \n",
    "        #print(event['mc_event'])\n",
    "    xcores.extend(xcores_temp)\n",
    "    ycores.extend(ycores_temp)"
   ]
  },
  {
   "cell_type": "code",
   "execution_count": null,
   "id": "7",
   "metadata": {},
   "outputs": [],
   "source": [
    "# for filename in FilenamesList:\n",
    "#     with SimTelFile(filename) as f:\n",
    "#         evt_mc_iter = f.iter_mc_events()\n",
    "#         xcores_sim_temp = []\n",
    "#         ycores_sim_temp = []    \n",
    "#         for event in evt_mc_iter:\n",
    "#             xcores_sim_temp.append(event['mc_event']['xcore'])\n",
    "#             ycores_sim_temp.append(event['mc_event']['ycore'])     \n",
    "#         xcores_sim.extend(xcores_sim_temp)\n",
    "#         ycores_sim.extend(ycores_sim_temp)    \n",
    "\n",
    "\n",
    "with SimTelFile(datafile) as f:\n",
    "    evt_mc_iter = f.iter_mc_events()\n",
    "    xcores_sim_temp = []\n",
    "    ycores_sim_temp = []    \n",
    "    for event in evt_mc_iter:\n",
    "        xcores_sim_temp.append(event['mc_event']['xcore'])\n",
    "        ycores_sim_temp.append(event['mc_event']['ycore'])     \n",
    "    xcores_sim.extend(xcores_sim_temp)\n",
    "    ycores_sim.extend(ycores_sim_temp)"
   ]
  },
  {
   "cell_type": "code",
   "execution_count": null,
   "id": "8",
   "metadata": {},
   "outputs": [],
   "source": [
    "print('number of simulated events', len(xcores_sim))\n",
    "print('number of triggered events', len(xcores))"
   ]
  },
  {
   "cell_type": "code",
   "execution_count": null,
   "id": "9",
   "metadata": {},
   "outputs": [],
   "source": [
    "#print(\"xcores\", xcores)"
   ]
  },
  {
   "cell_type": "code",
   "execution_count": null,
   "id": "10",
   "metadata": {},
   "outputs": [],
   "source": [
    "plt.hist2d(xcores_sim, ycores_sim, bins=(50, 50), cmap=plt.cm.jet)\n",
    "telescope1 = [-70.93, -52.07]\n",
    "telescope2 = [-35.27, 66.14]\n",
    "telescope3 = [75.28, 50.49]\n",
    "telescope4 = [30.91, -64.54]\n",
    "# plt.scatter(telescope1[0],telescope1[1], label = 'LST1', marker = 'x', s =200, lw = 5, c = 'k')\n",
    "# plt.scatter(telescope2[0],telescope2[1], label = 'LST2', marker = 'x', s =200, lw = 5, c = 'k')\n",
    "# plt.scatter(telescope3[0],telescope3[1], label = 'LST3', marker = 'x', s =200, lw = 5, c = 'k')\n",
    "# plt.scatter(telescope4[0],telescope4[1], label = 'LST4', marker = 'x', s =200, lw = 5, c = 'k')\n",
    "plt.colorbar()\n",
    "plt.ylabel('y core (m)')\n",
    "plt.xlabel('x core (m)')\n",
    "plt.title('Cores for simulated showers')\n",
    "plt.xlim(-150,150)\n",
    "plt.ylim(-150,150)\n",
    "#plt.savefig('SimCoresElectrons_617.png')\n",
    "plt.show()"
   ]
  },
  {
   "cell_type": "code",
   "execution_count": null,
   "id": "11",
   "metadata": {},
   "outputs": [],
   "source": [
    "plt.hist2d(xcores, ycores, bins=(50, 50), cmap=plt.cm.jet)\n",
    "plt.colorbar()\n",
    "plt.ylabel('y core (m)')\n",
    "plt.xlabel('x core (m)')\n",
    "plt.title('Cores for showers that triggered')\n",
    "plt.xlim(-150,150)\n",
    "plt.ylim(-150,150)\n",
    "#plt.savefig('TrigCoresElectrons_617.png')\n",
    "plt.show()"
   ]
  },
  {
   "cell_type": "code",
   "execution_count": null,
   "id": "12",
   "metadata": {},
   "outputs": [],
   "source": [
    "# Off axis angle analysis\n",
    "for filename in FilenamesList:\n",
    "    with SimTelFile(filename) as f:\n",
    "        evt_iter = f.iter_array_events()\n",
    "        Alts_temp = []\n",
    "        Azimuths_temp = []\n",
    "        for event in evt_iter:\n",
    "            Alts_temp.append(event['mc_shower']['altitude'])\n",
    "            Azimuths_temp.append(event['mc_shower']['azimuth'])  \n",
    "            #print(event)\n",
    "        Alts.extend(Alts_temp)\n",
    "        Azimuths.extend(Azimuths_temp)\n",
    "print(\"Alts\", Alts, \"length\", len(Alts))"
   ]
  },
  {
   "cell_type": "code",
   "execution_count": null,
   "id": "13",
   "metadata": {},
   "outputs": [],
   "source": [
    "theta1 = (math.pi/2) - source.mc_run_headers[0]['alt_range'][1]\n",
    "phi1 = source.mc_run_headers[0]['az_range'][1]\n",
    "print(\"theta1\",theta1,\"phi1\",phi1)\n",
    "\n",
    "OffAxis = []\n",
    "\n",
    "Dir1 = [math.sin(theta1)*math.cos(phi1), math.sin(theta1)*math.sin(phi1), math.cos(theta1)]\n",
    "print(Dir1)\n",
    "for i,j in zip(Alts, Azimuths):\n",
    "    Zd = (math.pi/2) - i\n",
    "    Az = j\n",
    "    Dir2 = [math.sin(Zd)*math.cos(Az), math.sin(Zd)*math.sin(Az), math.cos(Zd)]\n",
    "    DirVec1 = np.array(Dir1) \n",
    "    DirVec2 = np.array(Dir2)\n",
    "    alpha = math.acos(np.dot(DirVec1,DirVec2))\n",
    "    OffAxis.append((alpha*180)/math.pi)"
   ]
  },
  {
   "cell_type": "code",
   "execution_count": null,
   "id": "14",
   "metadata": {},
   "outputs": [],
   "source": [
    "#bins = range(0,10,1)\n",
    "bins = np.linspace(0,10,20)\n",
    "fig, axes = plt.subplots()\n",
    "bins_content, bins_edge, patches = plt.hist(OffAxis, bins = bins, label='Protons, DT=300mV, viewcone = 10')\n",
    "plt.title('Electrons, viewcone = 8')\n",
    "plt.xlabel('Off axis angle (deg)')\n",
    "plt.show()\n",
    "#plt.savefig('Electrons_viewcone.png')"
   ]
  },
  {
   "cell_type": "code",
   "execution_count": null,
   "id": "15",
   "metadata": {},
   "outputs": [],
   "source": [
    "FilenamesList = glob.glob('simtel_*_run617.simtel.gz')\n",
    "xcores = []  \n",
    "ycores = []\n",
    "xcores_sim = []\n",
    "ycores_sim = []\n",
    "Alts = []\n",
    "Azimuths = []\n",
    "PE = []\n",
    "for filename in FilenamesList:\n",
    "    print(filename)\n",
    "    with SimTelFile(filename) as f:\n",
    "        evt_iter = f.iter_array_events()\n",
    "        xcores_temp = []\n",
    "        ycores_temp = []\n",
    "        for event in evt_iter:\n",
    "            xcores_temp.append(event['mc_event']['xcore'])\n",
    "            ycores_temp.append(event['mc_event']['ycore']) \n",
    "            #print(event['mc_event'])\n",
    "        xcores.extend(xcores_temp)\n",
    "        ycores.extend(ycores_temp)\n",
    "\n",
    "for filename in FilenamesList:\n",
    "    with SimTelFile(filename) as f:\n",
    "        evt_mc_iter = f.iter_mc_events()\n",
    "        xcores_sim_temp = []\n",
    "        ycores_sim_temp = []    \n",
    "        for event in evt_mc_iter:\n",
    "            xcores_sim_temp.append(event['mc_event']['xcore'])\n",
    "            ycores_sim_temp.append(event['mc_event']['ycore'])     \n",
    "        xcores_sim.extend(xcores_sim_temp)\n",
    "        ycores_sim.extend(ycores_sim_temp)\n",
    "\n",
    "plt.hist2d(xcores_sim, ycores_sim, bins=(50, 50), cmap=plt.cm.jet)\n",
    "plt.colorbar()\n",
    "plt.ylabel('y core (m)')\n",
    "plt.xlabel('x core (m)')\n",
    "plt.title('Cores for simulated showers')\n",
    "plt.xlim(-150,150)\n",
    "plt.ylim(-150,150)\n",
    "#plt.savefig('SimCoresElectrons_617.png')\n",
    "\n",
    "\n",
    "plt.hist2d(xcores, ycores, bins=(50, 50), cmap=plt.cm.jet)\n",
    "plt.colorbar()\n",
    "plt.ylabel('y core (m)')\n",
    "plt.xlabel('x core (m)')\n",
    "plt.title('Cores for showers that triggered')\n",
    "plt.xlim(-150,150)\n",
    "plt.ylim(-150,150)\n",
    "#plt.savefig('TrigCoresElectrons_617.png')"
   ]
  }
 ],
 "metadata": {
  "kernelspec": {
   "display_name": "Python 3 (ipykernel)",
   "language": "python",
   "name": "python3"
  },
  "language_info": {
   "codemirror_mode": {
    "name": "ipython",
    "version": 3
   },
   "file_extension": ".py",
   "mimetype": "text/x-python",
   "name": "python",
   "nbconvert_exporter": "python",
   "pygments_lexer": "ipython3",
   "version": "3.11.6"
  }
 },
 "nbformat": 4,
 "nbformat_minor": 5
}
