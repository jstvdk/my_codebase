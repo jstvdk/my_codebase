{
 "cells": [
  {
   "cell_type": "code",
   "execution_count": null,
   "metadata": {},
   "outputs": [],
   "source": [
    "class ConfigurationManager:\n",
    "    _instance = None\n",
    "    _config = {}\n",
    "\n",
    "    def __new__(cls, *args, **kwargs):\n",
    "        if not cls._instance:\n",
    "            cls._instance = super(ConfigurationManager, cls).__new__(cls)\n",
    "        return cls._instance\n",
    "\n",
    "    def set_config(self, key, value):\n",
    "        self._config[key] = value\n",
    "\n",
    "    def get_config(self, key):\n",
    "        return self._config.get(key)"
   ]
  },
  {
   "cell_type": "code",
   "execution_count": null,
   "metadata": {},
   "outputs": [],
   "source": [
    "# Приклад використання\n",
    "config1 = ConfigurationManager()\n",
    "config1.set_config('database', 'PostgreSQL')\n",
    "\n",
    "config2 = ConfigurationManager()\n",
    "print(config2.get_config('database'))  # Виведе: PostgreSQL\n",
    "\n",
    "print(config1 is config2)  # Виведе: True"
   ]
  },
  {
   "cell_type": "code",
   "execution_count": null,
   "metadata": {},
   "outputs": [],
   "source": [
    "from abc import ABC, abstractmethod\n",
    "\n",
    "class Animal(ABC):\n",
    "    @abstractmethod\n",
    "    def speak(self):\n",
    "        pass\n"
   ]
  },
  {
   "cell_type": "code",
   "execution_count": null,
   "metadata": {},
   "outputs": [],
   "source": [
    "\n",
    "class Dog(Animal):\n",
    "    def speak(self):\n",
    "        return \"Woof!\"\n",
    "\n",
    "class Cat(Animal):\n",
    "    def speak(self):\n",
    "       return \"Meow!\"\n",
    "\n"
   ]
  },
  {
   "cell_type": "code",
   "execution_count": null,
   "metadata": {},
   "outputs": [],
   "source": [
    "class AnimalFactory:\n",
    "    @staticmethod\n",
    "    def create_animal(animal_type):\n",
    "        if animal_type.lower() == 'dog':\n",
    "            return Dog()\n",
    "        elif animal_type.lower() == 'cat':\n",
    "            return Cat()\n",
    "        else:\n",
    "            raise ValueError(f\"Unknown animal type: {animal_type}\")\n",
    "\n",
    "# Приклад використання\n",
    "factory = AnimalFactory()\n",
    "dog = factory.create_animal('dog')\n",
    "cat = factory.create_animal('cat')\n",
    "\n",
    "print(dog.speak())  # Виведе: Woof!\n",
    "print(cat.speak())  # Виведе: Meow!"
   ]
  },
  {
   "cell_type": "code",
   "execution_count": null,
   "metadata": {},
   "outputs": [],
   "source": [
    "import functools\n",
    "\n",
    "def log_decorator(func):\n",
    "    @functools.wraps(func)\n",
    "    def wrapper(*args, **kwargs):\n",
    "        print(f\"Виклик функції '{func.__name__}' з аргументами {args} і {kwargs}\")\n",
    "        result = func(*args, **kwargs)\n",
    "        print(f\"Функція '{func.__name__}' повернула {result}\")\n",
    "        return result\n",
    "    return wrapper\n",
    "\n",
    "@log_decorator\n",
    "def add(a, b):\n",
    "    return a + b\n",
    "\n",
    "@log_decorator\n",
    "def greet(name):\n",
    "    return f\"Hello, {name}!\"\n",
    "\n",
    "# Приклад використання\n",
    "sum_result = add(5, 7)\n",
    "#greet_result = greet(\"Олена\")\n",
    "\n",
    "# Виведе в лог:\n",
    "# INFO:root:Виклик функції 'add' з аргументами (5, 7) і {}\n",
    "# INFO:root:Функція 'add' повернула 12\n",
    "# INFO:root:Виклик функції 'greet' з аргументами ('Олена',) і {}\n",
    "# INFO:root:Функція 'greet' повернула Hello, Олена!"
   ]
  },
  {
   "cell_type": "code",
   "execution_count": null,
   "metadata": {},
   "outputs": [],
   "source": [
    "import datetime\n",
    "\n",
    "def simple_decorator(func):\n",
    "    def wrapper():\n",
    "        print(f\"Перед викликом функції - {datetime.datetime.now()}\")\n",
    "        func()\n",
    "        print(f\"Після виклику функції - {datetime.datetime.now()}\")\n",
    "    return wrapper\n",
    "\n",
    "\n",
    "    "
   ]
  },
  {
   "cell_type": "code",
   "execution_count": null,
   "metadata": {},
   "outputs": [],
   "source": [
    "#@simple_decorator\n",
    "def say_hello():\n",
    "    print(\"Hello\")"
   ]
  },
  {
   "cell_type": "code",
   "execution_count": null,
   "metadata": {},
   "outputs": [],
   "source": [
    "simple_decorator(say_hello)()"
   ]
  },
  {
   "cell_type": "code",
   "execution_count": null,
   "metadata": {},
   "outputs": [],
   "source": [
    "say_hello()"
   ]
  },
  {
   "cell_type": "code",
   "execution_count": null,
   "metadata": {},
   "outputs": [],
   "source": [
    "@simple_decorator\n",
    "def creating_list():\n",
    "    list = [i for i in range(100000000)]"
   ]
  },
  {
   "cell_type": "code",
   "execution_count": null,
   "metadata": {},
   "outputs": [],
   "source": [
    "creating_list()"
   ]
  },
  {
   "cell_type": "code",
   "execution_count": null,
   "metadata": {},
   "outputs": [],
   "source": [
    "import functools\n",
    "\n",
    "def log_decorator(func):\n",
    "    @functools.wraps(func)\n",
    "    def wrapper(*args, **kwargs):\n",
    "        print(f\"Виклик функції '{func.__name__}' з аргументами {args} і {kwargs}\")\n",
    "        result = func(*args, **kwargs)\n",
    "        print(f\"Функція '{func.__name__}' повернула {result}\")\n",
    "        return result\n",
    "    return wrapper\n",
    "\n",
    "@log_decorator\n",
    "def add(a, b):\n",
    "    return a + b\n",
    "\n",
    "@log_decorator\n",
    "def greet(name):\n",
    "    return f\"Hello, {name}!\"\n",
    "\n",
    "# Приклад використання\n",
    "sum_result = add(5, 7)"
   ]
  },
  {
   "cell_type": "code",
   "execution_count": null,
   "metadata": {},
   "outputs": [],
   "source": []
  }
 ],
 "metadata": {
  "kernelspec": {
   "display_name": "cta-dev",
   "language": "python",
   "name": "python3"
  },
  "language_info": {
   "codemirror_mode": {
    "name": "ipython",
    "version": 3
   },
   "file_extension": ".py",
   "mimetype": "text/x-python",
   "name": "python",
   "nbconvert_exporter": "python",
   "pygments_lexer": "ipython3",
   "version": "3.10.14"
  }
 },
 "nbformat": 4,
 "nbformat_minor": 2
}
