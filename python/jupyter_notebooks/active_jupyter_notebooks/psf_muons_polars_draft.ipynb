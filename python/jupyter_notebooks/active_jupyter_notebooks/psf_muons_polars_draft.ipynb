{
 "cells": [
  {
   "cell_type": "code",
   "execution_count": null,
   "metadata": {},
   "outputs": [],
   "source": [
    "import sys\n",
    "import glob\n",
    "from datetime import datetime\n",
    "\n",
    "import numpy as np\n",
    "import pandas as pd\n",
    "import seaborn as sns\n",
    "import h5py\n",
    "import scipy.stats as stats\n",
    "from scipy.interpolate import interp1d\n",
    "import statsmodels.api as sm\n",
    "\n",
    "import matplotlib.pyplot as plt\n",
    "from ctapipe.io import EventSource\n",
    "from ctapipe.image import ImageProcessor, tailcuts_clean\n",
    "from ctapipe.calib import CameraCalibrator\n",
    "from ctapipe.visualization import CameraDisplay\n",
    "\n",
    "from astropy.table import Table, vstack\n",
    "\n",
    "#from muonpipe import usefull_func\n",
    "import matplotlib.pyplot as plt\n",
    "import seaborn as sns\n",
    "import pandas as pd\n",
    "import polars as pl\n",
    "\n",
    "\n",
    "filename = '/Users/vdk/muons2024//simtel_files/2024year_tuned_nooulier_reflectivity_additional/run101_muon.simtel.gz'\n",
    "source = EventSource(filename, max_events = 1)\n",
    "camgeom = source.subarray.tel[1].camera.geometry\n",
    "\n",
    "start_date_2019 = datetime.strptime(\"2019-11-25 00:00:00.0\", \"%Y-%m-%d %H:%M:%S.%f\").timestamp()\n",
    "\n",
    "start_date_2020 = datetime.strptime(\"2020-01-01 00:00:00.0\", \"%Y-%m-%d %H:%M:%S.%f\").timestamp()\n",
    "end_date_2020 = datetime.strptime(\"2020-12-31 00:00:00.0\", \"%Y-%m-%d %H:%M:%S.%f\").timestamp()\n",
    "\n",
    "start_date_2021 = datetime.strptime(\"2021-01-01 00:00:00.0\", \"%Y-%m-%d %H:%M:%S.%f\").timestamp()\n",
    "end_date_2021 = datetime.strptime(\"2021-12-31 00:00:00.0\", \"%Y-%m-%d %H:%M:%S.%f\").timestamp()\n",
    "\n",
    "start_date_2022 = datetime.strptime(\"2022-01-01 00:00:00.0\", \"%Y-%m-%d %H:%M:%S.%f\").timestamp()\n",
    "end_date_2022 = datetime.strptime(\"2022-12-31 00:00:00.0\", \"%Y-%m-%d %H:%M:%S.%f\").timestamp()\n",
    "\n",
    "start_date_2023 = datetime.strptime(\"2023-01-01 00:00:00.0\", \"%Y-%m-%d %H:%M:%S.%f\").timestamp()\n",
    "end_date_2023 = datetime.strptime(\"2023-12-31 00:00:00.0\", \"%Y-%m-%d %H:%M:%S.%f\").timestamp()\n",
    "\n",
    "start_date_2024 = datetime.strptime(\"2024-01-01 00:00:00.0\", \"%Y-%m-%d %H:%M:%S.%f\").timestamp()\n",
    "end_date_2024 = datetime.strptime(\"2024-12-31 00:00:00.0\", \"%Y-%m-%d %H:%M:%S.%f\").timestamp()\n",
    "\n"
   ]
  },
  {
   "cell_type": "code",
   "execution_count": null,
   "metadata": {},
   "outputs": [],
   "source": [
    "size_outside_cut = 500\n",
    "muon_efficiency_cut = 1\n",
    "min_impact = 2.2199933748101555\n",
    "max_impact = 9.983608702234397\n",
    "ring_completeness_cut = 0.8\n",
    "ring_containment_cut = 0.99\n",
    "min_radius_cut = 0.95\n",
    "max_radius_cut = 1.17\n"
   ]
  },
  {
   "cell_type": "code",
   "execution_count": null,
   "metadata": {},
   "outputs": [],
   "source": [
    "#muon_files = glob.glob('/Users/vdk/muons2024/all_muon_fits/low_nsb_filter/*')\n",
    "muon_files = glob.glob('/Users/vdk/Documents/DocumentsVadymMacBookWork/all_muon_fits/low_nsb_filter/*')\n",
    "for i, filename in enumerate(sorted(muon_files)):\n",
    "    print(i, filename)"
   ]
  },
  {
   "cell_type": "code",
   "execution_count": null,
   "metadata": {},
   "outputs": [],
   "source": [
    "import polars as pl\n",
    "\n",
    "# Read and filter CSV files using Polars\n",
    "df_files = [\n",
    "    pl.read_csv(muon_file, null_values=['NA', '?'])\n",
    "    .filter(\n",
    "        (pl.col('muon_efficiency') < muon_efficiency_cut) &\n",
    "        (pl.col('size_outside') < size_outside_cut) &\n",
    "        (pl.col('ring_completeness') > ring_completeness_cut) &\n",
    "        (pl.col('ring_containment') > ring_containment_cut) &\n",
    "        (pl.col('ring_radius').is_between(min_radius_cut, max_radius_cut)) &\n",
    "        (pl.col('event_time') >= start_date_2024) &\n",
    "        (pl.col('event_time') <= end_date_2024)\n",
    "    )\n",
    "    for muon_file in sorted(muon_files)[10:]\n",
    "]\n",
    "\n",
    "# Concatenate the filtered DataFrames\n",
    "df_good_data_real_cut = pl.concat(df_files, how='vertical')\n",
    "\n",
    "# Show the resulting DataFrame\n",
    "df_good_data_real_cut"
   ]
  },
  {
   "cell_type": "code",
   "execution_count": null,
   "metadata": {},
   "outputs": [],
   "source": []
  }
 ],
 "metadata": {
  "kernelspec": {
   "display_name": "cta-dev",
   "language": "python",
   "name": "python3"
  },
  "language_info": {
   "codemirror_mode": {
    "name": "ipython",
    "version": 3
   },
   "file_extension": ".py",
   "mimetype": "text/x-python",
   "name": "python",
   "nbconvert_exporter": "python",
   "pygments_lexer": "ipython3",
   "version": "3.10.14"
  }
 },
 "nbformat": 4,
 "nbformat_minor": 2
}
