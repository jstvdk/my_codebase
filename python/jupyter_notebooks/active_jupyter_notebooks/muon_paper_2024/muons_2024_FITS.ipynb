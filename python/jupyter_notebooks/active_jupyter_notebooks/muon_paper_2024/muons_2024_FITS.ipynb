{
 "cells": [
  {
   "cell_type": "code",
   "execution_count": null,
   "metadata": {},
   "outputs": [],
   "source": [
    "\n",
    "from astropy.table import Table, vstack\n",
    "from astropy.io import fits\n",
    "import seaborn as sns\n",
    "import matplotlib.pyplot as plt\n",
    "from python_modules.muonpipe import usefull_func\n",
    "import numpy as np\n",
    "import glob\n",
    "from matplotlib.patches import Circle\n",
    "import pandas as pd\n",
    "from datetime import datetime\n",
    "size_outside = 400 # phe"
   ]
  },
  {
   "cell_type": "code",
   "execution_count": null,
   "metadata": {},
   "outputs": [],
   "source": [
    "listdir= glob.glob('/Users/vdk/muons2024/georgios_muons/output/table_muons/*')\n",
    "dat = Table.read('{}'.format(listdir[0]), format='fits')\n",
    "\n",
    "for muon_file in listdir:\n",
    "    dat2 = Table.read(muon_file, format='fits')\n",
    "    dat = vstack([dat, dat2])\n",
    "\n",
    "        \n",
    "df = dat.to_pandas()\n",
    "df_ref_data = df[df['good_ring'] & (df['muon_efficiency'] < 1) & (df['ring_containment'] > 0.9) & (df['size_outside'] < 500)]\n",
    "\n",
    "#muon_files = glob.glob('/Users/vdk/muons2024/all_muon_fits/*')\n",
    "muon_files = glob.glob('/Users/vdk/muons2024/all_muon_fits/low_nsb_filter/*')\n",
    "print(sorted(muon_files))\n",
    "\n",
    "#df_files = [pd.read_csv(muon_file, na_values=['NA', '?']) for muon_file in sorted(muon_files)[0:5]] # [0:5] for 19-22 years, [5:] for 22-23 years\n",
    "df_files = [pd.read_csv(muon_file, na_values=['NA', '?']) for muon_file in sorted(muon_files)[:7]] \n",
    "df_all_data = pd.concat(df_files, ignore_index=True)\n",
    "df_good_data_real = df_all_data[(df_all_data['muon_efficiency'] < 1) & (df_all_data['ring_containment'] > 0.9) & (df_all_data['size_outside'] < 500)]# & (df_all_data['ring_completeness'] > 0.8)]\n",
    "#df_good_data = df_all_data[(df_all_data['ring_containment'] > 0.999) & (df_all_data['size_outside'] < 500)]# & (df_all_data['ring_completeness'] > 0.8)]\n",
    "del(df_all_data)\n",
    "df_good_data_real"
   ]
  },
  {
   "cell_type": "code",
   "execution_count": null,
   "metadata": {},
   "outputs": [],
   "source": [
    "usefull_func.hist_wo_outliers(df_good_data['impact_parameter'],outlier_value=20)"
   ]
  },
  {
   "cell_type": "code",
   "execution_count": null,
   "metadata": {},
   "outputs": [],
   "source": [
    "exclude_list = ['size_outside', 'good_ring', 'muon_efficiency']\n",
    "for parameter in df_good_data.columns[3:]:\n",
    "    if parameter not in exclude_list:\n",
    "        plt.figure()\n",
    "        sns.regplot(x = df_good_data[parameter], \n",
    "                y = df_good_data['muon_efficiency'], \n",
    "                x_bins=20, color = 'k', label = 'Run 16449')\n",
    "        plt.show()"
   ]
  },
  {
   "cell_type": "code",
   "execution_count": null,
   "metadata": {},
   "outputs": [],
   "source": [
    "fits_file_path = '/Users/vdk/muons_LST-1.Run01618.0006.fits'\n",
    "dat = Table.read(fits_file_path)\n",
    "df = dat.to_pandas()\n",
    "df_good_data = df[df['good_ring']]\n",
    "\n",
    "\n",
    "\n",
    "for column in df_good_data.columns:\n",
    "    print(column)\n",
    "    "
   ]
  },
  {
   "cell_type": "code",
   "execution_count": null,
   "metadata": {},
   "outputs": [],
   "source": [
    "fits_file_path = '/Users/vdk/muons_LST-1.Run01618.0005.fits'\n",
    "dat = Table.read(fits_file_path)\n",
    "df = dat.to_pandas()\n",
    "df_good_data = df[df['good_ring']]\n",
    "\n",
    "\n",
    "\n",
    "for column in df_good_data.columns:\n",
    "    print(column)\n",
    "    "
   ]
  },
  {
   "cell_type": "code",
   "execution_count": null,
   "metadata": {},
   "outputs": [],
   "source": [
    "df_good_data"
   ]
  },
  {
   "cell_type": "code",
   "execution_count": null,
   "metadata": {},
   "outputs": [],
   "source": [
    "plt.hist(df_good_data['muon_efficiency'])"
   ]
  },
  {
   "cell_type": "code",
   "execution_count": null,
   "metadata": {},
   "outputs": [],
   "source": []
  },
  {
   "cell_type": "code",
   "execution_count": null,
   "metadata": {},
   "outputs": [],
   "source": [
    "np.mean(df_good_data_3['muon_efficiency'])"
   ]
  },
  {
   "cell_type": "markdown",
   "metadata": {},
   "source": [
    "### Simulation upload"
   ]
  },
  {
   "cell_type": "code",
   "execution_count": null,
   "metadata": {},
   "outputs": [],
   "source": [
    "listdir = glob.glob('/Users/vdk/muons2024/lapalma_simulations/0784-reflection/tables/*')\n",
    "listdir2 = glob.glob('/Users/vdk/muons2024/lapalma_simulations/0684-reflection/tables/*')\n",
    "listdir3 = glob.glob('/Users/vdk/muons2024/lapalma_simulations/0884-reflection/tables/*')\n",
    "\n",
    "\n",
    "\n",
    "dat = Table.read('{}'.format(listdir[0]), format='fits')\n",
    "for muon_file in listdir:\n",
    "    dat2 = Table.read(muon_file, format='fits')\n",
    "    dat = vstack([dat, dat2])\n",
    "df = dat.to_pandas()\n",
    "df_good_data = df[df['good_ring'] & (df['ring_containment'] > 0.999) & (df['muon_efficiency'] < 1) & (df['size_outside'] < 500) & (df['ring_completeness'] > 0.9)]\n",
    "\n",
    "\n",
    "dat = Table.read('{}'.format(listdir2[0]), format='fits')\n",
    "for muon_file in listdir2:\n",
    "    dat2 = Table.read(muon_file, format='fits')\n",
    "    dat = vstack([dat, dat2])\n",
    "df_2 = dat.to_pandas()\n",
    "df_good_data_2 = df_2[df_2['good_ring'] & (df['ring_containment'] > 0.999) & (df_2['muon_efficiency'] < 1) & (df_2['size_outside'] < 500) & (df_2['ring_completeness'] > 0.9)]\n",
    "\n",
    "\n",
    "dat = Table.read('{}'.format(listdir3[0]), format='fits')\n",
    "for muon_file in listdir3:\n",
    "    dat2 = Table.read(muon_file, format='fits')\n",
    "    dat = vstack([dat, dat2])\n",
    "df_3 = dat.to_pandas()\n",
    "df_good_data_3 = df_3[df_3['good_ring'] & (df['ring_containment'] > 0.999) & (df['muon_efficiency'] < 1) & (df['size_outside'] < 500) & (df_3['ring_completeness'] > 0.9)]\n",
    "\n"
   ]
  },
  {
   "cell_type": "code",
   "execution_count": null,
   "metadata": {},
   "outputs": [],
   "source": []
  },
  {
   "cell_type": "code",
   "execution_count": null,
   "metadata": {},
   "outputs": [],
   "source": [
    "#muon_files = glob.glob('/Users/vdk/muons2024/all_muon_fits/*')\n",
    "muon_files = glob.glob('/Users/vdk/muons2024/all_muon_fits/low_nsb_filter/*')\n",
    "print(sorted(muon_files))\n",
    "\n",
    "#df_files = [pd.read_csv(muon_file, na_values=['NA', '?']) for muon_file in sorted(muon_files)[0:5]] # [0:5] for 19-22 years, [5:] for 22-23 years\n",
    "df_files = [pd.read_csv(muon_file, na_values=['NA', '?']) for muon_file in sorted(muon_files)[:7]] \n",
    "df_all_data = pd.concat(df_files, ignore_index=True)\n",
    "df_good_data_real = df_all_data[(df_all_data['muon_efficiency'] < 1) & (df_all_data['ring_containment'] > 0.999) & (df_all_data['size_outside'] < 500)]# & (df_all_data['ring_completeness'] > 0.8)]\n",
    "#df_good_data = df_all_data[(df_all_data['ring_containment'] > 0.999) & (df_all_data['size_outside'] < 500)]# & (df_all_data['ring_completeness'] > 0.8)]\n",
    "del(df_all_data)\n",
    "df_good_data_real"
   ]
  },
  {
   "cell_type": "code",
   "execution_count": null,
   "metadata": {},
   "outputs": [],
   "source": [
    "def format_axes(ax,option):\n",
    "    \n",
    "    if(option=='width'):\n",
    "        ax.set_xlabel('Muon radius [deg]')\n",
    "        ax.set_ylabel('Muon ring width [deg]')\n",
    "        ax.grid(linestyle=\"dashed\")\n",
    "        ax.set_ylim(0.042,0.14)\n",
    "        ax.set_xlim(0.93,1.23)\n",
    "        ax.legend()\n",
    "    if(option=='size'):\n",
    "        ax2.grid(linestyle=\"dashed\")\n",
    "        ax2.legend(ncol=2)\n",
    "        ax2.set_xlabel('Muon radius [deg]')\n",
    "        ax2.set_ylabel('Muon Size [pe]')\n",
    "        ax2.set_ylim(1800,3000)\n",
    "        ax2.set_xlim(1.05,1.22)\n",
    "\n",
    "fig,ax = plt.subplots()\n",
    "fig2,ax2 = plt.subplots()\n",
    "\n",
    "sns.regplot(x = df_good_data['ring_radius'][(df_good_data['ring_completeness'] > 0.9) & (df_good_data['size_outside'] < size_outside) &  (df_good_data['ring_size'] < 3000) & (df_good_data['ring_containment'] > 0.999) & (df_good_data['muon_efficiency'] < 1)], \n",
    "            y = df_good_data['ring_width'][(df_good_data['ring_completeness'] > 0.9) & (df_good_data['size_outside'] < size_outside) &  (df_good_data['ring_size'] < 3000) & (df_good_data['ring_containment'] > 0.999) & (df_good_data['muon_efficiency'] < 1)], \n",
    "            x_bins=10, ax=ax, color = 'k', label = '0.784')\n",
    "sns.regplot(x = df_good_data_2['ring_radius'][(df_good_data_2['ring_completeness'] > 0.9) & (df_good_data_2['size_outside'] < size_outside) &  (df_good_data_2['ring_size'] < 3000) & (df_good_data_2['ring_containment'] > 0.999) & (df_good_data_2['muon_efficiency'] < 1)], \n",
    "            y = df_good_data_2['ring_width'][(df_good_data_2['ring_completeness'] > 0.9) & (df_good_data_2['size_outside'] < size_outside) &  (df_good_data_2['ring_size'] < 3000) & (df_good_data_2['ring_containment'] > 0.999) & (df_good_data_2['muon_efficiency'] < 1)], \n",
    "            x_bins=10, ax=ax, color = 'r', label = '0.684')\n",
    "sns.regplot(x = df_good_data_3['ring_radius'][(df_good_data_3['ring_completeness'] > 0.9) & (df_good_data_3['size_outside'] < size_outside) &  (df_good_data_3['ring_size'] < 3000) & (df_good_data_3['ring_containment'] > 0.999) & (df_good_data_3['muon_efficiency'] < 1)], \n",
    "            y = df_good_data_3['ring_width'][(df_good_data_3['ring_completeness'] > 0.9) & (df_good_data_3['size_outside'] < size_outside) &  (df_good_data_3['ring_size'] < 3000) & (df_good_data_3['ring_containment'] > 0.999) & (df_good_data_3['muon_efficiency'] < 1)], \n",
    "            x_bins=10, ax=ax, color = 'green', label = '0.884')\n",
    "sns.regplot(x = df_good_data_real['ring_radius'][(df_good_data_real['ring_completeness'] > 0.9) & (df_good_data_real['size_outside'] < size_outside) &  (df_good_data_real['ring_size'] < 3000)& (df_good_data_real['muon_efficiency'] < 1) & (df_good_data_3['muon_efficiency'] < 1)], \n",
    "            y = df_good_data_real['ring_width'][(df_good_data_real['ring_completeness'] > 0.9) & (df_good_data_real['size_outside'] < size_outside) &  (df_good_data_real['ring_size'] < 3000)& (df_good_data_real['muon_efficiency'] < 1) & (df_good_data_3['muon_efficiency'] < 1)], \n",
    "            x_bins=10, ax=ax, color = 'blue', label = 'real')\n",
    "\n",
    "sns.regplot(x = df_good_data['ring_radius'][(df_good_data['ring_completeness'] > 0.9) & (df_good_data['size_outside'] < size_outside) & (df_good_data['ring_containment'] > 0.999)  &  (df_good_data['ring_size'] < 3000) & (df_good_data_3['muon_efficiency'] < 1)], \n",
    "            y = df_good_data['ring_size'][(df_good_data['ring_completeness'] > 0.9) & (df_good_data['size_outside'] < size_outside) & (df_good_data['ring_containment'] > 0.999)  &  (df_good_data['ring_size'] < 3000) & (df_good_data_3['muon_efficiency'] < 1)], \n",
    "            x_bins=10, ax=ax2, color = 'k', label = '0.784')\n",
    "sns.regplot(x = df_good_data_2['ring_radius'][(df_good_data_2['ring_completeness'] > 0.9) & (df_good_data_2['size_outside'] < size_outside) & (df_good_data_2['ring_containment'] > 0.999)  &  (df_good_data_2['ring_size'] < 3000) & (df_good_data_3['muon_efficiency'] < 1)], \n",
    "            y = df_good_data_2['ring_size'][(df_good_data_2['ring_completeness'] > 0.9) & (df_good_data_2['size_outside'] < size_outside) & (df_good_data_2['ring_containment'] > 0.999)  &  (df_good_data_2['ring_size'] < 3000) & (df_good_data_3['muon_efficiency'] < 1)], \n",
    "            x_bins=10, ax=ax2, color = 'r', label = '0.684')\n",
    "sns.regplot(x = df_good_data_3['ring_radius'][(df_good_data_3['ring_completeness'] > 0.9) & (df_good_data_3['size_outside'] < size_outside) & (df_good_data_3['ring_containment'] > 0.999)  &  (df_good_data_3['ring_size'] < 3000) & (df_good_data_3['muon_efficiency'] < 1)], \n",
    "            y = df_good_data_3['ring_size'][(df_good_data_3['ring_completeness'] > 0.9) & (df_good_data_3['size_outside'] < size_outside) & (df_good_data_3['ring_containment'] > 0.999)  &  (df_good_data_3['ring_size'] < 3000) & (df_good_data_3['muon_efficiency'] < 1)], \n",
    "            x_bins=10, ax=ax2, color = 'green', label = '0.884')\n",
    "sns.regplot(x = df_good_data_real['ring_radius'][(df_good_data_real['ring_completeness'] > 0.9) & (df_good_data_real['size_outside'] < size_outside) &  (df_good_data_real['ring_size'] < 3000)], \n",
    "            y = df_good_data_real['ring_size'][(df_good_data_real['ring_completeness'] > 0.9) & (df_good_data_real['size_outside'] < size_outside) &  (df_good_data_real['ring_size'] < 3000)], \n",
    "            x_bins=10, ax=ax2, color = 'blue', label = 'real')\n",
    "\n",
    "\n",
    "\n",
    "format_axes(ax,'width')        \n",
    "format_axes(ax2,'size') "
   ]
  },
  {
   "cell_type": "code",
   "execution_count": null,
   "metadata": {},
   "outputs": [],
   "source": [
    "print(f\"Start date {datetime.fromtimestamp(min(df_good_data_real['event_time'])).strftime('%Y-%m-%d %H:%M:%S.%f')}\")\n",
    "print(f\"End date {datetime.fromtimestamp(max(df_good_data_real['event_time'])).strftime('%Y-%m-%d %H:%M:%S.%f')}\")"
   ]
  },
  {
   "cell_type": "code",
   "execution_count": null,
   "metadata": {},
   "outputs": [],
   "source": [
    "#muon_files = glob.glob('/Users/vdk/muons2024/all_muon_fits/*')\n",
    "muon_files = glob.glob('/Users/vdk/muons2024/all_muon_fits/low_nsb_filter/*')\n",
    "print(sorted(muon_files))\n",
    "\n",
    "#df_files = [pd.read_csv(muon_file, na_values=['NA', '?']) for muon_file in sorted(muon_files)[0:5]] # [0:5] for 19-22 years, [5:] for 22-23 years\n",
    "df_files = [pd.read_csv(muon_file, na_values=['NA', '?']) for muon_file in sorted(muon_files)[7:]] \n",
    "df_all_data = pd.concat(df_files, ignore_index=True)\n",
    "df_good_data_real = df_all_data[(df_all_data['muon_efficiency'] < 1) & (df_all_data['ring_containment'] > 0.999) & (df_all_data['size_outside'] < 500)]# & (df_all_data['ring_completeness'] > 0.8)]\n",
    "#df_good_data = df_all_data[(df_all_data['ring_containment'] > 0.999) & (df_all_data['size_outside'] < 500)]# & (df_all_data['ring_completeness'] > 0.8)]\n",
    "del(df_all_data)\n",
    "df_good_data_real"
   ]
  },
  {
   "cell_type": "code",
   "execution_count": null,
   "metadata": {},
   "outputs": [],
   "source": [
    "print(f\"Start date {datetime.fromtimestamp(min(df_good_data_real['event_time'])).strftime('%Y-%m-%d %H:%M:%S.%f')}\")\n",
    "print(f\"End date {datetime.fromtimestamp(max(df_good_data_real['event_time'])).strftime('%Y-%m-%d %H:%M:%S.%f')}\")"
   ]
  },
  {
   "cell_type": "code",
   "execution_count": null,
   "metadata": {},
   "outputs": [],
   "source": [
    "bin_number = 8\n",
    "\n",
    "def format_axes(ax,option):\n",
    "    \n",
    "    if(option=='width'):\n",
    "        ax.set_xlabel('Muon radius [deg]')\n",
    "        ax.set_ylabel('Muon ring width [deg]')\n",
    "        ax.grid(linestyle=\"dashed\")\n",
    "        #ax.set_ylim(0.042,0.07)\n",
    "        ax.set_xlim(0.93,1.23)\n",
    "        ax.legend()\n",
    "    if(option=='size'):\n",
    "        ax2.grid(linestyle=\"dashed\")\n",
    "        ax2.legend(ncol=2)\n",
    "        ax2.set_xlabel('Muon radius [deg]')\n",
    "        ax2.set_ylabel('Muon Size [pe]')\n",
    "        ax2.set_ylim(1800,4000)\n",
    "        #ax2.set_xlim(1.05,1.22)\n",
    "        ax2.set_xlim(0.95,1.23)\n",
    "\n",
    "fig,ax = plt.subplots()\n",
    "fig2,ax2 = plt.subplots()\n",
    "\n",
    "sns.regplot(x = df_good_data['ring_radius'][(df_good_data['ring_completeness'] > 0.9) & (df_good_data['size_outside'] < size_outside) &  (df_good_data['ring_size'] < 3000) & (df_good_data['ring_containment'] > 0.999) & (df_good_data['muon_efficiency'] < 1)], \n",
    "            y = df_good_data['ring_width'][(df_good_data['ring_completeness'] > 0.9) & (df_good_data['size_outside'] < size_outside) &  (df_good_data['ring_size'] < 3000) & (df_good_data['ring_containment'] > 0.999) & (df_good_data['muon_efficiency'] < 1)], \n",
    "            x_bins=bin_number, ax=ax, color = 'k', label = '80\\% opt eff')\n",
    "sns.regplot(x = df_good_data_2['ring_radius'][(df_good_data_2['ring_completeness'] > 0.9) & (df_good_data_2['size_outside'] < size_outside) &  (df_good_data_2['ring_size'] < 3000) & (df_good_data_2['ring_containment'] > 0.999) & (df_good_data_2['muon_efficiency'] < 1)], \n",
    "            y = df_good_data_2['ring_width'][(df_good_data_2['ring_completeness'] > 0.9) & (df_good_data_2['size_outside'] < size_outside) &  (df_good_data_2['ring_size'] < 3000) & (df_good_data_2['ring_containment'] > 0.999) & (df_good_data_2['muon_efficiency'] < 1)], \n",
    "            x_bins=bin_number, ax=ax, color = 'r', label = '70\\% opt eff')\n",
    "sns.regplot(x = df_good_data_3['ring_radius'][(df_good_data_3['ring_completeness'] > 0.9) & (df_good_data_3['size_outside'] < size_outside) &  (df_good_data_3['ring_size'] < 3000) & (df_good_data_3['ring_containment'] > 0.999) & (df_good_data_3['muon_efficiency'] < 1)], \n",
    "            y = df_good_data_3['ring_width'][(df_good_data_3['ring_completeness'] > 0.9) & (df_good_data_3['size_outside'] < size_outside) &  (df_good_data_3['ring_size'] < 3000) & (df_good_data_3['ring_containment'] > 0.999) & (df_good_data_3['muon_efficiency'] < 1)], \n",
    "            x_bins=bin_number, ax=ax, color = 'green', label = '90 \\% opt eff')\n",
    "sns.regplot(x = df_good_data_real['ring_radius'][(df_good_data_real['ring_completeness'] > 0.9) & (df_good_data_real['size_outside'] < size_outside) &  (df_good_data_real['ring_size'] < 3000)& (df_good_data_real['muon_efficiency'] < 1) & (df_good_data_3['muon_efficiency'] < 1)][:4000], \n",
    "            y = df_good_data_real['ring_width'][(df_good_data_real['ring_completeness'] > 0.9) & (df_good_data_real['size_outside'] < size_outside) &  (df_good_data_real['ring_size'] < 3000)& (df_good_data_real['muon_efficiency'] < 1) & (df_good_data_3['muon_efficiency'] < 1)][:4000], \n",
    "            x_bins=bin_number, ax=ax, color = 'blue', label = 'real')\n",
    "\n",
    "sns.regplot(x = df_good_data['ring_radius'][(df_good_data['ring_completeness'] > 0.9) & (df_good_data['size_outside'] < size_outside) & (df_good_data['ring_containment'] > 0.999)  &  (df_good_data['ring_size'] < 3000) & (df_good_data_3['muon_efficiency'] < 1)], \n",
    "            y = df_good_data['ring_size'][(df_good_data['ring_completeness'] > 0.9) & (df_good_data['size_outside'] < size_outside) & (df_good_data['ring_containment'] > 0.999)  &  (df_good_data['ring_size'] < 3000) & (df_good_data_3['muon_efficiency'] < 1)], \n",
    "            x_bins=bin_number, ax=ax2, color = 'k', label = '0.784')\n",
    "sns.regplot(x = df_good_data_2['ring_radius'][(df_good_data_2['ring_completeness'] > 0.9) & (df_good_data_2['size_outside'] < size_outside) & (df_good_data_2['ring_containment'] > 0.999)  &  (df_good_data_2['ring_size'] < 3000) & (df_good_data_3['muon_efficiency'] < 1)], \n",
    "            y = df_good_data_2['ring_size'][(df_good_data_2['ring_completeness'] > 0.9) & (df_good_data_2['size_outside'] < size_outside) & (df_good_data_2['ring_containment'] > 0.999)  &  (df_good_data_2['ring_size'] < 3000) & (df_good_data_3['muon_efficiency'] < 1)], \n",
    "            x_bins=bin_number, ax=ax2, color = 'r', label = '0.684')\n",
    "sns.regplot(x = df_good_data_3['ring_radius'][(df_good_data_3['ring_completeness'] > 0.9) & (df_good_data_3['size_outside'] < size_outside) & (df_good_data_3['ring_containment'] > 0.999)  &  (df_good_data_3['ring_size'] < 3000) & (df_good_data_3['muon_efficiency'] < 1)], \n",
    "            y = df_good_data_3['ring_size'][(df_good_data_3['ring_completeness'] > 0.9) & (df_good_data_3['size_outside'] < size_outside) & (df_good_data_3['ring_containment'] > 0.999)  &  (df_good_data_3['ring_size'] < 3000) & (df_good_data_3['muon_efficiency'] < 1)], \n",
    "            x_bins=bin_number, ax=ax2, color = 'green', label = '0.884')\n",
    "sns.regplot(x = df_good_data_real['ring_radius'][(df_good_data_real['ring_completeness'] > 0.9) & (df_good_data_real['size_outside'] < size_outside) &  (df_good_data_real['ring_size'] < 3000)][4000:8000], \n",
    "            y = df_good_data_real['ring_size'][(df_good_data_real['ring_completeness'] > 0.9) & (df_good_data_real['size_outside'] < size_outside) &  (df_good_data_real['ring_size'] < 3000)][4000:8000], \n",
    "            x_bins=bin_number, ax=ax2, color = 'blue', label = 'real')\n",
    "\n",
    "\n",
    "\n",
    "format_axes(ax,'width')        \n",
    "format_axes(ax2,'size') "
   ]
  },
  {
   "cell_type": "code",
   "execution_count": null,
   "metadata": {},
   "outputs": [],
   "source": [
    "#muon_files = glob.glob('/Users/vdk/muons2024/all_muon_fits/*')\n",
    "muon_files = glob.glob('/Users/vdk/muons2024/all_muon_fits/low_nsb_filter/*')\n",
    "print(sorted(muon_files))\n",
    "\n",
    "#df_files = [pd.read_csv(muon_file, na_values=['NA', '?']) for muon_file in sorted(muon_files)[0:5]] # [0:5] for 19-22 years, [5:] for 22-23 years\n",
    "df_files = [pd.read_csv(muon_file, na_values=['NA', '?']) for muon_file in sorted(muon_files)[10:]] \n",
    "df_all_data = pd.concat(df_files, ignore_index=True)\n",
    "df_good_data_real = df_all_data[(df_all_data['muon_efficiency'] < 1) & (df_all_data['ring_containment'] > 0.999) & (df_all_data['size_outside'] < 500) & (df_all_data['ring_completeness'] > 0.9)]\n",
    "#df_good_data = df_all_data[(df_all_data['ring_containment'] > 0.999) & (df_all_data['size_outside'] < 500)]# & (df_all_data['ring_completeness'] > 0.8)]\n",
    "del(df_all_data)\n",
    "df_good_data_real"
   ]
  },
  {
   "cell_type": "code",
   "execution_count": null,
   "metadata": {},
   "outputs": [],
   "source": [
    "def format_axes(ax,option):\n",
    "    \n",
    "    if(option=='width'):\n",
    "        ax.set_xlabel('Muon radius [deg]')\n",
    "        ax.set_ylabel('Muon ring width [deg]')\n",
    "        ax.grid(linestyle=\"dashed\")\n",
    "        #ax.set_ylim(0.042,0.07)\n",
    "        ax.set_xlim(0.93,1.23)\n",
    "        ax.legend()\n",
    "    if(option=='size'):\n",
    "        ax2.grid(linestyle=\"dashed\")\n",
    "        ax2.legend(ncol=2)\n",
    "        ax2.set_xlabel('Muon radius [deg]')\n",
    "        ax2.set_ylabel('Muon Size [pe]')\n",
    "        ax2.set_ylim(1800,4000)\n",
    "        ax2.set_xlim(1.05,1.22)\n",
    "\n",
    "fig,ax = plt.subplots()\n",
    "fig2,ax2 = plt.subplots()\n",
    "\n",
    "sns.regplot(x = df_good_data['ring_radius'][(df_good_data['ring_completeness'] > 0.9) & (df_good_data['size_outside'] < size_outside) &  (df_good_data['ring_size'] < 3000) & (df_good_data['ring_containment'] > 0.999) & (df_good_data['muon_efficiency'] < 1)], \n",
    "            y = df_good_data['ring_width'][(df_good_data['ring_completeness'] > 0.9) & (df_good_data['size_outside'] < size_outside) &  (df_good_data['ring_size'] < 3000) & (df_good_data['ring_containment'] > 0.999) & (df_good_data['muon_efficiency'] < 1)], \n",
    "            x_bins=10, ax=ax, color = 'k', label = '0.784')\n",
    "sns.regplot(x = df_good_data_2['ring_radius'][(df_good_data_2['ring_completeness'] > 0.9) & (df_good_data_2['size_outside'] < size_outside) &  (df_good_data_2['ring_size'] < 3000) & (df_good_data_2['ring_containment'] > 0.999) & (df_good_data_2['muon_efficiency'] < 1)], \n",
    "            y = df_good_data_2['ring_width'][(df_good_data_2['ring_completeness'] > 0.9) & (df_good_data_2['size_outside'] < size_outside) &  (df_good_data_2['ring_size'] < 3000) & (df_good_data_2['ring_containment'] > 0.999) & (df_good_data_2['muon_efficiency'] < 1)], \n",
    "            x_bins=10, ax=ax, color = 'r', label = '0.684')\n",
    "sns.regplot(x = df_good_data_3['ring_radius'][(df_good_data_3['ring_completeness'] > 0.9) & (df_good_data_3['size_outside'] < size_outside) &  (df_good_data_3['ring_size'] < 3000) & (df_good_data_3['ring_containment'] > 0.999) & (df_good_data_3['muon_efficiency'] < 1)], \n",
    "            y = df_good_data_3['ring_width'][(df_good_data_3['ring_completeness'] > 0.9) & (df_good_data_3['size_outside'] < size_outside) &  (df_good_data_3['ring_size'] < 3000) & (df_good_data_3['ring_containment'] > 0.999) & (df_good_data_3['muon_efficiency'] < 1)], \n",
    "            x_bins=10, ax=ax, color = 'green', label = '0.884')\n",
    "sns.regplot(x = df_good_data_real['ring_radius'][(df_good_data_real['ring_completeness'] > 0.9) & (df_good_data_real['size_outside'] < size_outside) &  (df_good_data_real['ring_size'] < 3000)& (df_good_data_real['muon_efficiency'] < 1) & (df_good_data_3['muon_efficiency'] < 1)], \n",
    "            y = df_good_data_real['ring_width'][(df_good_data_real['ring_completeness'] > 0.9) & (df_good_data_real['size_outside'] < size_outside) &  (df_good_data_real['ring_size'] < 3000)& (df_good_data_real['muon_efficiency'] < 1) & (df_good_data_3['muon_efficiency'] < 1)], \n",
    "            x_bins=10, ax=ax, color = 'blue', label = 'real')\n",
    "\n",
    "sns.regplot(x = df_good_data['ring_radius'][(df_good_data['ring_completeness'] > 0.9) & (df_good_data['size_outside'] < size_outside) & (df_good_data['ring_containment'] > 0.999)  &  (df_good_data['ring_size'] < 3000) & (df_good_data_3['muon_efficiency'] < 1)], \n",
    "            y = df_good_data['ring_size'][(df_good_data['ring_completeness'] > 0.9) & (df_good_data['size_outside'] < size_outside) & (df_good_data['ring_containment'] > 0.999)  &  (df_good_data['ring_size'] < 3000) & (df_good_data_3['muon_efficiency'] < 1)], \n",
    "            x_bins=10, ax=ax2, color = 'k', label = '0.784')\n",
    "sns.regplot(x = df_good_data_2['ring_radius'][(df_good_data_2['ring_completeness'] > 0.9) & (df_good_data_2['size_outside'] < size_outside) & (df_good_data_2['ring_containment'] > 0.999)  &  (df_good_data_2['ring_size'] < 3000) & (df_good_data_3['muon_efficiency'] < 1)], \n",
    "            y = df_good_data_2['ring_size'][(df_good_data_2['ring_completeness'] > 0.9) & (df_good_data_2['size_outside'] < size_outside) & (df_good_data_2['ring_containment'] > 0.999)  &  (df_good_data_2['ring_size'] < 3000) & (df_good_data_3['muon_efficiency'] < 1)], \n",
    "            x_bins=10, ax=ax2, color = 'r', label = '0.684')\n",
    "sns.regplot(x = df_good_data_3['ring_radius'][(df_good_data_3['ring_completeness'] > 0.9) & (df_good_data_3['size_outside'] < size_outside) & (df_good_data_3['ring_containment'] > 0.999)  &  (df_good_data_3['ring_size'] < 3000) & (df_good_data_3['muon_efficiency'] < 1)], \n",
    "            y = df_good_data_3['ring_size'][(df_good_data_3['ring_completeness'] > 0.9) & (df_good_data_3['size_outside'] < size_outside) & (df_good_data_3['ring_containment'] > 0.999)  &  (df_good_data_3['ring_size'] < 3000) & (df_good_data_3['muon_efficiency'] < 1)], \n",
    "            x_bins=10, ax=ax2, color = 'green', label = '0.884')\n",
    "sns.regplot(x = df_good_data_real['ring_radius'][(df_good_data_real['ring_completeness'] > 0.9) & (df_good_data_real['size_outside'] < size_outside) &  (df_good_data_real['ring_size'] < 3000)], \n",
    "            y = df_good_data_real['ring_size'][(df_good_data_real['ring_completeness'] > 0.9) & (df_good_data_real['size_outside'] < size_outside) &  (df_good_data_real['ring_size'] < 3000)], \n",
    "            x_bins=10, ax=ax2, color = 'blue', label = 'real')\n",
    "\n",
    "\n",
    "\n",
    "format_axes(ax,'width')        \n",
    "format_axes(ax2,'size') "
   ]
  },
  {
   "cell_type": "code",
   "execution_count": null,
   "metadata": {},
   "outputs": [],
   "source": []
  },
  {
   "cell_type": "code",
   "execution_count": null,
   "metadata": {},
   "outputs": [],
   "source": [
    "min_values = df_good_data.min()\n",
    "print(min_values)"
   ]
  },
  {
   "cell_type": "code",
   "execution_count": null,
   "metadata": {},
   "outputs": [],
   "source": [
    "print(f\"ring widht sim {max(df_good_data['ring_width'][df_good_data['muon_efficiency'] < 1])}\")\n",
    "print(f\"ring widht real {max(df_good_data_real['ring_width'])}\")"
   ]
  },
  {
   "cell_type": "code",
   "execution_count": null,
   "metadata": {},
   "outputs": [],
   "source": []
  },
  {
   "cell_type": "markdown",
   "metadata": {},
   "source": [
    "### Binned distribution for simulations"
   ]
  },
  {
   "cell_type": "code",
   "execution_count": null,
   "metadata": {},
   "outputs": [],
   "source": [
    "x_value_str = 'ring_radius'\n",
    "y_value_str = 'ring_size'\n",
    "\n",
    "# Step 1: Create bins for 'ring_radius'\n",
    "df_good_data[f'{x_value_str}_bin'] = pd.cut(df_good_data[x_value_str], bins=70)\n",
    "\n",
    "# Step 2: Group by the new bin column and calculate mean 'ring_size' for each bin\n",
    "binned_data = df_good_data.groupby(f'{x_value_str}_bin')[y_value_str].mean().reset_index()\n",
    "\n",
    "# Step 3: Convert the bin intervals to strings (for plotting) or use midpoints\n",
    "binned_data['bin_mid'] = binned_data[f'{x_value_str}_bin'].apply(lambda x: x.mid)\n",
    "\n",
    "# Calculate number of elements in each bin\n",
    "bin_counts = df_good_data.groupby(f'{x_value_str}_bin').size().reset_index(name='count')\n",
    "\n",
    "# Merge the counts back with the mean calculations if needed\n",
    "binned_data_with_counts = binned_data.merge(bin_counts, on=f'{x_value_str}_bin')\n",
    "\n",
    "\n",
    "fig, axes = plt.subplots(2, 1, sharex=True, gridspec_kw={'height_ratios': [4, 3]}, figsize=(12,12))\n",
    "fig.subplots_adjust(hspace=0.05)\n",
    "\n",
    "ax = axes[0]\n",
    "ax.set_title(\"Ring size vs ring radius for simulations (80% optical efficiency)\")\n",
    "ax.scatter(binned_data_with_counts['bin_mid'], binned_data_with_counts[y_value_str], label=f'Binned {y_value_str}', alpha = 0.8)\n",
    "ax.set_ylabel('Ring size, [p.e.]')\n",
    "m, b = np.polyfit(df_good_data[x_value_str], df_good_data[y_value_str], 1)\n",
    "ax.plot(df_good_data[x_value_str], m*df_good_data[x_value_str] + b, color='red', label='Regression Line', alpha = 0.75)\n",
    "ax.legend()\n",
    "bx = axes[1]\n",
    "x_pos = list(binned_data_with_counts['bin_mid'])\n",
    "y_pos = np.array(binned_data_with_counts['count'])\n",
    "y_pos = y_pos / sum(y_pos)\n",
    "bx.bar(x_pos, y_pos, width=0.01, label=\"Number of events\")\n",
    "#bx.set_ylim(0,25000)\n",
    "bx.set_ylabel('Probability density')\n",
    "ax.grid(alpha = 0.5)\n",
    "bx.grid(alpha = 0.5)\n",
    "bx.legend()\n",
    "\n",
    "bx.tick_params(axis=\"y\", labelsize=9)\n",
    "# Scatter plot of binned values\n",
    "\n",
    "\n",
    "plt.xlabel('Radius of the ring, [deg]')\n",
    "plt.legend()\n",
    "plt.grid(alpha=0.5)\n"
   ]
  },
  {
   "cell_type": "code",
   "execution_count": null,
   "metadata": {},
   "outputs": [],
   "source": [
    "x_value_str = 'ring_radius'\n",
    "y_value_str = 'ring_size'\n",
    "\n",
    "# Step 1: Create bins for 'ring_radius'\n",
    "df_good_data_2[f'{x_value_str}_bin'] = pd.cut(df_good_data_2[x_value_str], bins=100)\n",
    "\n",
    "# Step 2: Group by the new bin column and calculate mean 'ring_size' for each bin\n",
    "binned_data = df_good_data_2.groupby(f'{x_value_str}_bin')[y_value_str].mean().reset_index()\n",
    "\n",
    "# Step 3: Convert the bin intervals to strings (for plotting) or use midpoints\n",
    "binned_data['bin_mid'] = binned_data[f'{x_value_str}_bin'].apply(lambda x: x.mid)\n",
    "\n",
    "# Calculate number of elements in each bin\n",
    "bin_counts = df_good_data_2.groupby(f'{x_value_str}_bin').size().reset_index(name='count')\n",
    "\n",
    "# Merge the counts back with the mean calculations if needed\n",
    "binned_data_with_counts = binned_data.merge(bin_counts, on=f'{x_value_str}_bin')\n",
    "\n",
    "\n",
    "fig, axes = plt.subplots(2, 1, sharex=True, gridspec_kw={'height_ratios': [4, 3]}, figsize=(12,12))\n",
    "fig.subplots_adjust(hspace=0.05)\n",
    "ax = axes[0]\n",
    "ax.set_title(\"Ring size vs ring radius for simulations (70% optical efficiency)\")\n",
    "ax.scatter(binned_data_with_counts['bin_mid'], binned_data_with_counts[y_value_str], label=f'Binned {y_value_str}', alpha = 0.8)\n",
    "ax.set_ylabel('Ring size, [p.e.]')\n",
    "m, b = np.polyfit(df_good_data_2[x_value_str], df_good_data_2[y_value_str], 1)\n",
    "ax.plot(df_good_data_2[x_value_str], m*df_good_data_2[x_value_str] + b, color='red', label='Regression Line', alpha = 0.75)\n",
    "ax.legend()\n",
    "bx = axes[1]\n",
    "x_pos = list(binned_data_with_counts['bin_mid'])\n",
    "y_pos = np.array(binned_data_with_counts['count'])\n",
    "y_pos = y_pos / sum(y_pos)\n",
    "bx.bar(x_pos, y_pos, width=(max(x_pos)-min(x_pos))/(len(x_pos)-2), label=\"Number of events\")\n",
    "#bx.set_ylim(0,25000)\n",
    "bx.set_ylabel('Probability density')\n",
    "ax.grid(alpha = 0.5)\n",
    "bx.grid(alpha = 0.5)\n",
    "bx.legend()\n",
    "\n",
    "bx.tick_params(axis=\"y\", labelsize=9)\n",
    "# Scatter plot of binned values\n",
    "\n",
    "\n",
    "plt.xlabel('Radius of the ring, [deg]')\n",
    "plt.legend()\n",
    "plt.grid(alpha=0.5)\n"
   ]
  },
  {
   "cell_type": "code",
   "execution_count": null,
   "metadata": {},
   "outputs": [],
   "source": [
    "x_value_str = 'ring_radius'\n",
    "y_value_str = 'ring_size'\n",
    "\n",
    "# Step 1: Create bins for 'ring_radius'\n",
    "df_good_data_3[f'{x_value_str}_bin'] = pd.cut(df_good_data_3[x_value_str], bins=70)\n",
    "\n",
    "# Step 2: Group by the new bin column and calculate mean 'ring_size' for each bin\n",
    "binned_data = df_good_data_3.groupby(f'{x_value_str}_bin')[y_value_str].mean().reset_index()\n",
    "\n",
    "# Step 3: Convert the bin intervals to strings (for plotting) or use midpoints\n",
    "binned_data['bin_mid'] = binned_data[f'{x_value_str}_bin'].apply(lambda x: x.mid)\n",
    "\n",
    "# Calculate number of elements in each bin\n",
    "bin_counts = df_good_data_3.groupby(f'{x_value_str}_bin').size().reset_index(name='count')\n",
    "\n",
    "# Merge the counts back with the mean calculations if needed\n",
    "binned_data_with_counts = binned_data.merge(bin_counts, on=f'{x_value_str}_bin')\n",
    "\n",
    "\n",
    "fig, axes = plt.subplots(2, 1, sharex=True, gridspec_kw={'height_ratios': [4, 3]}, figsize=(12,12))\n",
    "fig.subplots_adjust(hspace=0.05)\n",
    "ax = axes[0]\n",
    "ax.set_title(\"Ring size vs ring radius for simulations (90% optical efficiency)\")\n",
    "ax.scatter(binned_data_with_counts['bin_mid'], binned_data_with_counts[y_value_str], label=f'Binned {y_value_str}', alpha = 0.8)\n",
    "ax.set_ylabel('Ring size, [p.e.]')\n",
    "m, b = np.polyfit(df_good_data_3[x_value_str], df_good_data_3[y_value_str], 1)\n",
    "ax.plot(df_good_data_3[x_value_str], m*df_good_data_3[x_value_str] + b, color='red', label='Regression Line', alpha = 0.75)\n",
    "ax.legend()\n",
    "bx = axes[1]\n",
    "x_pos = list(binned_data_with_counts['bin_mid'])\n",
    "y_pos = np.array(binned_data_with_counts['count'])\n",
    "y_pos = y_pos / sum(y_pos)\n",
    "bx.bar(x_pos, y_pos, width=(max(x_pos)-min(x_pos))/(len(x_pos)-2), label=\"Number of events\")\n",
    "#bx.set_ylim(0,25000)\n",
    "bx.set_ylabel('Probability density')\n",
    "ax.grid(alpha = 0.5)\n",
    "bx.grid(alpha = 0.5)\n",
    "bx.legend()\n",
    "\n",
    "bx.tick_params(axis=\"y\", labelsize=9)\n",
    "# Scatter plot of binned values\n",
    "\n",
    "\n",
    "plt.xlabel('Radius of the ring, [deg]')\n",
    "plt.legend()\n",
    "plt.grid(alpha=0.5)\n"
   ]
  },
  {
   "cell_type": "code",
   "execution_count": null,
   "metadata": {},
   "outputs": [],
   "source": [
    "df_good_data_real_small = df_good_data_real[:5000]\n",
    "x_value_str = 'ring_radius'\n",
    "y_value_str = 'ring_size'\n",
    "\n",
    "# Step 1: Create bins for 'ring_radius'\n",
    "df_good_data_real_small[f'{x_value_str}_bin'] = pd.cut(df_good_data_real_small[x_value_str], bins=70)\n",
    "\n",
    "# Step 2: Group by the new bin column and calculate mean 'ring_size' for each bin\n",
    "binned_data = df_good_data_real_small.groupby(f'{x_value_str}_bin')[y_value_str].mean().reset_index()\n",
    "\n",
    "# Step 3: Convert the bin intervals to strings (for plotting) or use midpoints\n",
    "binned_data['bin_mid'] = binned_data[f'{x_value_str}_bin'].apply(lambda x: x.mid)\n",
    "\n",
    "# Calculate number of elements in each bin\n",
    "bin_counts = df_good_data_real_small.groupby(f'{x_value_str}_bin').size().reset_index(name='count')\n",
    "\n",
    "# Merge the counts back with the mean calculations if needed\n",
    "binned_data_with_counts = binned_data.merge(bin_counts, on=f'{x_value_str}_bin')\n",
    "\n",
    "\n",
    "fig, axes = plt.subplots(2, 1, sharex=True, gridspec_kw={'height_ratios': [4, 3]}, figsize=(12,12))\n",
    "fig.subplots_adjust(hspace=0.05)\n",
    "ax = axes[0]\n",
    "ax.scatter(binned_data_with_counts['bin_mid'], binned_data_with_counts[y_value_str], label=f'Binned {y_value_str}', alpha = 0.8)\n",
    "ax.set_ylabel('Ring size, [p.e.]')\n",
    "m, b = np.polyfit(df_good_data_real_small[x_value_str], df_good_data_real_small[y_value_str], 1)\n",
    "ax.plot(df_good_data_real_small[x_value_str], m*df_good_data_real_small[x_value_str] + b, color='red', label='Regression Line', alpha = 0.75)\n",
    "ax.legend()\n",
    "bx = axes[1]\n",
    "x_pos = list(binned_data_with_counts['bin_mid'])\n",
    "y_pos = np.array(binned_data_with_counts['count'])\n",
    "y_pos = y_pos / sum(y_pos)\n",
    "bx.bar(x_pos, y_pos, width=(max(x_pos)-min(x_pos))/(len(x_pos)-2), label=\"Number of events\")\n",
    "#bx.set_ylim(0,25000)\n",
    "bx.set_ylabel('Probability density')\n",
    "ax.grid(alpha = 0.5)\n",
    "bx.grid(alpha = 0.5)\n",
    "bx.legend()\n",
    "\n",
    "bx.tick_params(axis=\"y\", labelsize=9)\n",
    "# Scatter plot of binned values\n",
    "\n",
    "\n",
    "plt.xlabel('Radius of the ring, [deg]')\n",
    "plt.legend()\n",
    "plt.grid(alpha=0.5)\n"
   ]
  },
  {
   "cell_type": "code",
   "execution_count": null,
   "metadata": {},
   "outputs": [],
   "source": [
    "min(df_good_data_real['ring_containment'])"
   ]
  },
  {
   "cell_type": "code",
   "execution_count": null,
   "metadata": {},
   "outputs": [],
   "source": [
    "min(df_good_data['ring_containment'])"
   ]
  },
  {
   "cell_type": "markdown",
   "metadata": {},
   "source": [
    "### Check for min/max values in real data and simulations to check the cut consistency"
   ]
  },
  {
   "cell_type": "code",
   "execution_count": null,
   "metadata": {},
   "outputs": [],
   "source": [
    "min_values = df_good_data_real.min()\n",
    "print(min_values)"
   ]
  },
  {
   "cell_type": "code",
   "execution_count": null,
   "metadata": {},
   "outputs": [],
   "source": [
    "min_values = df_good_data.min()\n",
    "print(min_values)"
   ]
  },
  {
   "cell_type": "code",
   "execution_count": null,
   "metadata": {},
   "outputs": [],
   "source": [
    "print(f\"ring widht sim {max(df_good_data['ring_width'])}\")\n",
    "print(f\"ring widht real {max(df_good_data_real['ring_width'])}\")"
   ]
  },
  {
   "cell_type": "code",
   "execution_count": null,
   "metadata": {},
   "outputs": [],
   "source": [
    "print(f\"ring widht sim {max(df_good_data['size_outside'])}\")\n",
    "print(f\"ring widht real {max(df_good_data_real['size_outside'])}\")"
   ]
  },
  {
   "cell_type": "code",
   "execution_count": null,
   "metadata": {},
   "outputs": [],
   "source": [
    "print(f\"muon efficiency sim {max(df_good_data['muon_efficiency'])}\")\n",
    "print(f\"muon_efficiency real {max(df_good_data_real['muon_efficiency'])}\")"
   ]
  },
  {
   "cell_type": "code",
   "execution_count": null,
   "metadata": {},
   "outputs": [],
   "source": [
    "print(f\"ring completeness sim {min(df_good_data['ring_completeness'])}\")\n",
    "print(f\"ring completeness real {min(df_good_data_real['ring_completeness'])}\")"
   ]
  },
  {
   "cell_type": "code",
   "execution_count": null,
   "metadata": {},
   "outputs": [],
   "source": [
    "print(f\"size of the sample sim 70% {len(df_good_data_2)}\")\n",
    "print(f\"size of the sample sim 80% {len(df_good_data)}\")\n",
    "print(f\"size of the sample sim 90% {len(df_good_data_3)}\")\n",
    "print(f\"size of the observation sample {len(df_good_data_real)}\")"
   ]
  },
  {
   "cell_type": "code",
   "execution_count": null,
   "metadata": {},
   "outputs": [],
   "source": []
  }
 ],
 "metadata": {
  "kernelspec": {
   "display_name": "cta-test",
   "language": "python",
   "name": "python3"
  },
  "language_info": {
   "codemirror_mode": {
    "name": "ipython",
    "version": 3
   },
   "file_extension": ".py",
   "mimetype": "text/x-python",
   "name": "python",
   "nbconvert_exporter": "python",
   "pygments_lexer": "ipython3",
   "version": "3.9.16"
  }
 },
 "nbformat": 4,
 "nbformat_minor": 2
}
