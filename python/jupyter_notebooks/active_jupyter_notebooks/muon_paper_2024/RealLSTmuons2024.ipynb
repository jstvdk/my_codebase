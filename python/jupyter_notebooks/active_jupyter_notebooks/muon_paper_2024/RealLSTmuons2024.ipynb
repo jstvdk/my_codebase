{
 "cells": [
  {
   "cell_type": "code",
   "execution_count": null,
   "metadata": {},
   "outputs": [],
   "source": [
    "import sys\n",
    "sys.path.append('/Users/vdk/GeneveWork/Code/calibpipe-main-calibpipe/')\n",
    "from astropy.io import ascii\n",
    "import numpy as np\n",
    "import pandas as pd\n",
    "import matplotlib\n",
    "import csv\n",
    "import scipy\n",
    "import matplotlib.pyplot as plt\n",
    "from seaborn import histplot\n",
    "import random\n",
    "import copy\n",
    "from os import path, makedirs\n",
    "from astropy.coordinates import SkyCoord\n",
    "from astropy.table import Table\n",
    "import astropy.units as u\n",
    "from ctapipe.containers import MuonEfficiencyContainer\n",
    "from ctapipe.coordinates import CameraFrame, TelescopeFrame\n",
    "from ctapipe.io import EventSource, EventSeeker\n",
    "from ctapipe.core import TelescopeComponent\n",
    "from ctapipe.core.traits import (\n",
    "    List,\n",
    "    Int,\n",
    "    FloatTelescopeParameter,\n",
    "    TelescopeParameter,\n",
    "    Unicode,\n",
    ")\n",
    "from ctapipe.image.cleaning import tailcuts_clean\n",
    "from ctapipe.image.muon import MuonRingFitter, MuonIntensityFitter\n",
    "from traitlets.config import Config\n",
    "from ctapipe.image import ImageProcessor\n",
    "from ctapipe.image.muon import MuonProcessor\n",
    "from ctapipe.visualization import CameraDisplay\n",
    "from ctapipe.instrument import CameraGeometry\n",
    "from ctapipe.calib import CameraCalibrator\n",
    "from traitlets.config.loader import Config, FileConfigLoader, JSONFileConfigLoader\n",
    "import pathlib\n",
    "from calibpipe.throughput import MuonCalibrator\n",
    "from traitlets.config import Config\n",
    "from astropy.time import Time\n",
    "from astropy.coordinates import EarthLocation,SkyCoord, AltAz \n",
    "import time\n",
    "from ctapipe.image import number_of_island_sizes\n",
    "from ctapipe.image import (\n",
    "    hillas_parameters,\n",
    "    leakage_parameters,\n",
    "    concentration_parameters,\n",
    ")\n",
    "from ctapipe.image import timing_parameters\n",
    "from ctapipe.image import number_of_islands\n",
    "from ctapipe.image import camera_to_shower_coordinates\n",
    "import ctapipe\n",
    "from lstchain.io import replace_config, standard_config\n",
    "import h5py\n",
    "from astropy.io import fits\n",
    "import json\n",
    "muon_rings = [434, 663, 949, 1295, 1355, 1565, 1777, 1933, 3067, 3179, 3270, 3314,3346, 3692, 4076,  5016, 6853, 7723, 7919, 8122, 8605, 9047, 9157, 9239, 9774,  9910, 10486, 10491, 11600, 11781, 12038, 12506, 12969, 13004, 13101] \n",
    "muon_rings_datacheck = [54110, 55656, 55942, 57623, 58136, 58798, 59194, 59570, 60407, 60422, 62395, 63033, 63412, 64971, 65272, 66251, 66737, 67143, 67175, 67772, 68483, 68495, 68755, 68902, 69300, 69891, 70855, 72398, 73259, 73261, 73725, 76581, 76871, 77277, 80267, 80982, 81229, 81606, 82140, 83970, 84318, 85580, 87424, 87427, 87921, 88388, 89632, 91351, 93414, 93971, 94651, 95006, 96661, 97072, 97242, 97335, 97713, 97785, 97891, 99847, 100267, 101084, 101156, 101606, 103028, 103475, 105020, 105713]\n",
    "flagged_rings_sim = [5333507, 1673009, 1808303, 3362305, 2835508, 4026706, 159503, 4854202, 5464504, 2439702, 1402200, 3456509, 3547004, 2229705, 22604, 5573308, 3489206, 417000, 5895006, 1836008, 1794401, 593906, 3280901, 1114103, 5920700, 5521903, 5240406, 5678007, 918003, 5858809, 4315801, 3547006, 729206, 5412204, 759808, 3386907, 2597005, 3539901, 4125904, 1073405, 3662503, 846606, 2845905, 5139408, 5097001, 3248609, 2257305, 5559707, 1775404, 5586609, 5387503, 336801, 3611003, 4504102, 1556201, 3742006, 55203, 377809, 5303909, 3393108, 5854105, 3850800, 5240903, 5120108, 4330605, 4006201, 4752000, 817501, 1096109, 5562603, 3289408, 2057308, 1646106, 2736603, 220203, 2095301, 243205, 250008, 728702, 1177701, 402700, 4589808, 1063003, 3804102, 1088507, 5638409, 1824304, 2482107, 2619809, 4647903, 5864908, 4805401, 2936707, 996201]\n",
    "len(muon_rings)\n",
    "import os\n",
    "import pickle\n"
   ]
  },
  {
   "cell_type": "code",
   "execution_count": null,
   "metadata": {},
   "outputs": [],
   "source": []
  },
  {
   "cell_type": "code",
   "execution_count": null,
   "metadata": {},
   "outputs": [],
   "source": [
    "# Треба завантажити конфіг в івент соурс\n",
    "filename = f'/Users/vdk/muons2024/muon_cleaning_2024/LST-1.1.Run16463.0001.fits.fz'\n",
    "\n",
    "#int_cut = 0.3\n",
    "#min_pixel = 30\n",
    "\n",
    "config_filename = '/Users/vdk/CTA/RealLST/typical_run_data/lstchain_standard_v0.10_heuristic_ff.json'\n",
    "with open(config_filename) as json_file:\n",
    "    config_data = json.load(json_file)\n",
    "\n",
    "custom_config = Config(config_data)\n",
    "\n",
    "\n",
    "cfg = Config({\n",
    "    \"source_config\": {\n",
    "        \"EventSource\" : {\n",
    "            \"allowed_tels\": [1],\"max_events\": 9999}},\n",
    "        \"PointingSource\":{\n",
    "            \"drive_report_path\": '/Users/vdk/muons2024/muon_cleaning_2024/DrivePosition_log_20240201.txt'},\n",
    "        \"LSTR0Corrections\": {\n",
    "          \"calib_scale_high_gain\":1.088,\n",
    "          \"calib_scale_low_gain\":1.004,\n",
    "          \"drs4_pedestal_path\": '/Users/vdk/muons2024/muon_cleaning_2024/drs4_pedestal.Run16453.0000.h5',\n",
    "          \"calibration_path\": '/Users/vdk/muons2024/muon_cleaning_2024/calibration_filters_52.Run16454.0000.h5',\n",
    "          \"drs4_time_calibration_path\": '/Users/vdk/muons2024/muon_cleaning_2024/time_calibration.Run15253.0000.h5'\n",
    "      }})\n",
    "\n",
    "# config = replace_config(standard_config, muon_processor_config)\n",
    "# config = replace_config(config, muon_processor_config_2)\n",
    "# config = replace_config(config, custom_config)\n"
   ]
  },
  {
   "cell_type": "code",
   "execution_count": null,
   "metadata": {},
   "outputs": [],
   "source": [
    "source = EventSource(filename, config = Config(cfg))\n",
    "\n",
    "event_iterator = iter(source)\n",
    "event = next(event_iterator)\n",
    "\n",
    "event.index.event_id"
   ]
  },
  {
   "cell_type": "code",
   "execution_count": null,
   "metadata": {},
   "outputs": [],
   "source": [
    "print(event)"
   ]
  },
  {
   "cell_type": "code",
   "execution_count": null,
   "metadata": {},
   "outputs": [],
   "source": [
    "event = next(event_iterator)\n",
    "np.max(event.r1.tel[1].waveform)"
   ]
  },
  {
   "cell_type": "code",
   "execution_count": null,
   "metadata": {},
   "outputs": [],
   "source": [
    "print(event.trigger)"
   ]
  },
  {
   "cell_type": "code",
   "execution_count": null,
   "metadata": {},
   "outputs": [],
   "source": [
    "for pix_id in range(0,1764):\n",
    "    plt.plot(event.r0.tel[1].waveform[pix_id], label=\"pix {}\".format(pix_id), drawstyle='steps')"
   ]
  },
  {
   "cell_type": "code",
   "execution_count": null,
   "metadata": {},
   "outputs": [],
   "source": [
    "for pix_id in range(0,1764):\n",
    "    plt.plot(event.r1.tel[1].waveform[pix_id], label=\"pix {}\".format(pix_id), drawstyle='steps')"
   ]
  },
  {
   "cell_type": "code",
   "execution_count": null,
   "metadata": {},
   "outputs": [],
   "source": [
    "for i,event in enumerate(event_iterator):    \n",
    "    for pix_id in range(0, 1855):\n",
    "        plt.plot(\n",
    "            event.r0.tel[1].waveform[0][pix_id], label=\"pix {}\".format(pix_id), drawstyle=\"steps\"\n",
    "        )\n",
    "    plt.show()\n",
    "    for pix_id in range(0, 1855):\n",
    "        plt.plot(\n",
    "            event.r0.tel[1].waveform[1][pix_id], label=\"pix {}\".format(pix_id), drawstyle=\"steps\"\n",
    "        )\n",
    "        plt.ylim(400,600)\n",
    "    plt.show()\n",
    "    if i > 30:\n",
    "        plt.close()\n",
    "        break"
   ]
  },
  {
   "cell_type": "code",
   "execution_count": null,
   "metadata": {},
   "outputs": [],
   "source": [
    "event.r1.tel[1].waveform.shape"
   ]
  },
  {
   "cell_type": "code",
   "execution_count": null,
   "metadata": {},
   "outputs": [],
   "source": [
    "event.r0.tel[1].waveform[0].shape"
   ]
  },
  {
   "cell_type": "code",
   "execution_count": null,
   "metadata": {},
   "outputs": [],
   "source": [
    "# Треба завантажити конфіг в івент соурс\n",
    "filename = f'/Users/vdk/CTA/RealLST/typical_run_data/LST-1.4.Run14948.0001.fits.fz'\n",
    "\n",
    "#int_cut = 0.3\n",
    "#min_pixel = 30\n",
    "\n",
    "config_filename = '/Users/vdk/CTA/RealLST/typical_run_data/lstchain_standard_v0.10_heuristic_ff.json'\n",
    "with open(config_filename) as json_file:\n",
    "    config_data = json.load(json_file)\n",
    "\n",
    "custom_config = Config(config_data)\n",
    "\n",
    "\n",
    "cfg = Config({\n",
    "    \"source_config\": {\n",
    "        \"EventSource\" : {\n",
    "            \"allowed_tels\": [1],\"max_events\": 9999}},\n",
    "        \"PointingSource\":{\n",
    "            \"drive_report_path\": '/Users/vdk/CTA/RealLST/typical_run_data/DrivePosition_log_20231007.txt'},\n",
    "        \"LSTR0Corrections\": {\n",
    "          \"calib_scale_high_gain\":1.088,\n",
    "          \"calib_scale_low_gain\":1.004,\n",
    "          \"drs4_pedestal_path\": '/Users/vdk/CTA/RealLST/typical_run_data/drs4_pedestal.Run14937.0000.h5',\n",
    "          \"calibration_path\": '/Users/vdk/CTA/RealLST/typical_run_data/calibration_filters_52.Run14938.0000.h5',\n",
    "          \"drs4_time_calibration_path\": '/Users/vdk/CTA/RealLST/typical_run_data/time_calibration.Run08349.0000.h5'\n",
    "      }})\n",
    "\n",
    "# config = replace_config(standard_config, muon_processor_config)\n",
    "# config = replace_config(config, muon_processor_config_2)\n",
    "# config = replace_config(config, custom_config)\n",
    "source = EventSource(filename, config = Config(cfg))\n",
    "\n",
    "event_iterator = iter(source)\n",
    "event = next(event_iterator)\n",
    "\n",
    "event.index.event_id"
   ]
  },
  {
   "cell_type": "code",
   "execution_count": null,
   "metadata": {},
   "outputs": [],
   "source": [
    "event.r1.tel[1].waveform.shape"
   ]
  },
  {
   "cell_type": "code",
   "execution_count": null,
   "metadata": {},
   "outputs": [],
   "source": [
    "event.r0.tel[1].waveform[0].shape"
   ]
  },
  {
   "cell_type": "code",
   "execution_count": null,
   "metadata": {},
   "outputs": [],
   "source": []
  }
 ],
 "metadata": {
  "kernelspec": {
   "display_name": "lstchain-v0.10.3",
   "language": "python",
   "name": "python3"
  },
  "language_info": {
   "codemirror_mode": {
    "name": "ipython",
    "version": 3
   },
   "file_extension": ".py",
   "mimetype": "text/x-python",
   "name": "python",
   "nbconvert_exporter": "python",
   "pygments_lexer": "ipython3",
   "version": "3.11.6"
  }
 },
 "nbformat": 4,
 "nbformat_minor": 2
}
