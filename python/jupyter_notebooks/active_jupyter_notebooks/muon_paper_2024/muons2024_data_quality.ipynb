{
 "cells": [
  {
   "cell_type": "code",
   "execution_count": null,
   "metadata": {},
   "outputs": [],
   "source": [
    "import pandas as pd\n",
    "import numpy as np\n",
    "import glob\n",
    "import gc\n",
    "import matplotlib.pyplot as plt\n",
    "from matplotlib import colors\n",
    "from astropy.coordinates import SkyCoord, AltAz, angular_separation\n",
    "import astropy.units as u\n",
    "from scipy.stats import binned_statistic\n",
    "from scipy.signal import lombscargle\n",
    "from datetime import datetime\n",
    "import seaborn as sns\n",
    "import scipy as sc\n",
    "max_diffuse_nsb_std = 2.3\n",
    "test_file = '/Users/vdk/muons2024/v0.9-v0.10/20240228/DL1_datacheck_20240228.h5'\n",
    "with pd.HDFStore(test_file) as hdf:\n",
    "    # This prints a list of all group names:\n",
    "    print(hdf.keys())\n",
    "    # print(hdf['cosmics'])\n",
    "    # if '/cosmics_intensity_spectrum' in hdf.keys():\n",
    "    #     print('hi')\n",
    "        \n",
    "import h5py \n",
    "start_date_2019 = datetime.strptime(\"2019-01-01 00:00:00.0\", \"%Y-%m-%d %H:%M:%S.%f\").timestamp()\n",
    "end_date_2019 = datetime.strptime(\"2019-12-31 00:00:00.0\", \"%Y-%m-%d %H:%M:%S.%f\").timestamp()\n",
    "    \n",
    "start_date_2020 = datetime.strptime(\"2020-01-01 00:00:00.0\", \"%Y-%m-%d %H:%M:%S.%f\").timestamp()\n",
    "end_date_2020 = datetime.strptime(\"2020-12-31 00:00:00.0\", \"%Y-%m-%d %H:%M:%S.%f\").timestamp()\n",
    "\n",
    "start_date_2021 = datetime.strptime(\"2021-01-01 00:00:00.0\", \"%Y-%m-%d %H:%M:%S.%f\").timestamp()\n",
    "end_date_2021 = datetime.strptime(\"2021-12-31 00:00:00.0\", \"%Y-%m-%d %H:%M:%S.%f\").timestamp()\n",
    "\n",
    "start_date_2022 = datetime.strptime(\"2022-01-01 00:00:00.0\", \"%Y-%m-%d %H:%M:%S.%f\").timestamp()\n",
    "end_date_2022 = datetime.strptime(\"2022-12-31 00:00:00.0\", \"%Y-%m-%d %H:%M:%S.%f\").timestamp()\n",
    "\n",
    "start_date_2023 = datetime.strptime(\"2023-01-01 00:00:00.0\", \"%Y-%m-%d %H:%M:%S.%f\").timestamp()\n",
    "end_date_2023 = datetime.strptime(\"2023-12-31 00:00:00.0\", \"%Y-%m-%d %H:%M:%S.%f\").timestamp()\n",
    "\n",
    "start_date_2024 = datetime.strptime(\"2024-01-01 00:00:00.0\", \"%Y-%m-%d %H:%M:%S.%f\").timestamp()\n",
    "end_date_2024 = datetime.strptime(\"2024-12-31 00:00:00.0\", \"%Y-%m-%d %H:%M:%S.%f\").timestamp()"
   ]
  },
  {
   "cell_type": "markdown",
   "metadata": {},
   "source": [
    "### Datacheks only for 2024 year"
   ]
  },
  {
   "cell_type": "code",
   "execution_count": null,
   "metadata": {},
   "outputs": [],
   "source": [
    "files = glob.glob('/Users/vdk/muons2024/datachecks/2024_datachecks/DL1_datacheck_*.h5')\n",
    "files.sort()\n",
    "\n",
    "runsummary = []\n",
    "cosmics = []\n",
    "cis = []\n",
    "for file in files:\n",
    "    try:\n",
    "        runsummary.append(pd.read_hdf(file, 'runsummary'))\n",
    "        cosmics.append(pd.read_hdf(file, 'cosmics'))\n",
    "        cis.append(pd.read_hdf(file, 'cosmics_intensity_spectrum'))\n",
    "    except:\n",
    "        print(file)\n",
    "    \n",
    "cosmics_pd = pd.concat(cosmics, ignore_index=True)\n",
    "runsummary_pd = pd.concat(runsummary, ignore_index=True)\n",
    "cis_pd = pd.concat(cis, ignore_index=True)\n",
    "cosmics_pd.columns"
   ]
  },
  {
   "cell_type": "code",
   "execution_count": null,
   "metadata": {},
   "outputs": [],
   "source": [
    "runsummary_pd.columns"
   ]
  },
  {
   "cell_type": "code",
   "execution_count": null,
   "metadata": {},
   "outputs": [],
   "source": [
    "plt.hist((runsummary_pd['elapsed_time']/60), bins = 40, histtype='step', density = True)"
   ]
  },
  {
   "cell_type": "code",
   "execution_count": null,
   "metadata": {},
   "outputs": [],
   "source": [
    "long_runs = runsummary_pd['runnumber'][((runsummary_pd['elapsed_time']/60) > 18) & ((runsummary_pd['elapsed_time']/60) < 22)]"
   ]
  },
  {
   "cell_type": "code",
   "execution_count": null,
   "metadata": {},
   "outputs": [],
   "source": [
    "len(long_runs)"
   ]
  },
  {
   "cell_type": "code",
   "execution_count": null,
   "metadata": {},
   "outputs": [],
   "source": [
    "low_nsb_runs_2024 = cis_pd[['yyyymmdd','runnumber', 'subrun']][(cis_pd['diffuse_nsb_std'] < max_diffuse_nsb_std)]\n",
    "low_nsb_runs_2024_full = cis_pd[(cis_pd['diffuse_nsb_std'] < max_diffuse_nsb_std)]\n",
    "low_nsb_runsummary_2024  = runsummary_pd[runsummary_pd['runnumber'].isin(low_nsb_runs_2024['runnumber'])]\n",
    "len(low_nsb_runsummary_2024)"
   ]
  },
  {
   "cell_type": "code",
   "execution_count": null,
   "metadata": {},
   "outputs": [],
   "source": [
    "long_runs = low_nsb_runsummary_2024['runnumber'][((low_nsb_runsummary_2024['elapsed_time']/60) > 18) & ((low_nsb_runsummary_2024['elapsed_time']/60) < 22)]\n",
    "long_runs_full = low_nsb_runsummary_2024[((low_nsb_runsummary_2024['elapsed_time']/60) > 18) & ((low_nsb_runsummary_2024['elapsed_time']/60) < 22)]"
   ]
  },
  {
   "cell_type": "code",
   "execution_count": null,
   "metadata": {},
   "outputs": [],
   "source": [
    "len(long_runs)/len(low_nsb_runsummary_2024)"
   ]
  },
  {
   "cell_type": "code",
   "execution_count": null,
   "metadata": {},
   "outputs": [],
   "source": [
    "test_pd = cis_pd[(cis_pd['diffuse_nsb_std'] < max_diffuse_nsb_std)]"
   ]
  },
  {
   "cell_type": "code",
   "execution_count": null,
   "metadata": {},
   "outputs": [],
   "source": [
    "plt.hist(low_nsb_runs_2024_full['diffuse_nsb_std'])"
   ]
  },
  {
   "cell_type": "code",
   "execution_count": null,
   "metadata": {},
   "outputs": [],
   "source": []
  },
  {
   "cell_type": "code",
   "execution_count": null,
   "metadata": {},
   "outputs": [],
   "source": []
  },
  {
   "cell_type": "code",
   "execution_count": null,
   "metadata": {},
   "outputs": [],
   "source": []
  },
  {
   "cell_type": "code",
   "execution_count": null,
   "metadata": {},
   "outputs": [],
   "source": [
    "# Save the Series to a CSV file\n",
    "#long_runs.to_csv('/Users/vdk/Software/code/muon_paper_2024/series_data.csv')  # header=True to include the index name if it has one"
   ]
  },
  {
   "cell_type": "code",
   "execution_count": null,
   "metadata": {},
   "outputs": [],
   "source": [
    "# Read the CSV file back into a DataFrame\n",
    "data_loaded = pd.read_csv('/Users/vdk/Software/code/muon_paper_2024/series_data.csv', index_col=0)\n",
    "\n",
    "# Print the Series to verify\n",
    "# print(data_loaded)\n",
    "\n",
    "# Iterate through the Series and print each value\n",
    "for index, value in data_loaded.items():\n",
    "    print(f\"{(value)}\")"
   ]
  },
  {
   "cell_type": "code",
   "execution_count": null,
   "metadata": {},
   "outputs": [],
   "source": [
    "test = np.array(data_loaded).flatten()"
   ]
  },
  {
   "cell_type": "code",
   "execution_count": null,
   "metadata": {},
   "outputs": [],
   "source": [
    "# flatten_test = test.flatten()"
   ]
  },
  {
   "cell_type": "code",
   "execution_count": null,
   "metadata": {},
   "outputs": [],
   "source": [
    "test[2]"
   ]
  },
  {
   "cell_type": "code",
   "execution_count": null,
   "metadata": {},
   "outputs": [],
   "source": []
  },
  {
   "cell_type": "code",
   "execution_count": null,
   "metadata": {},
   "outputs": [],
   "source": [
    "files = glob.glob('/Users/vdk/muons2024/v0.9-v0.10/20*/DL1_datacheck_*.h5')\n",
    "files.sort()\n",
    "\n",
    "runsummary = []\n",
    "cosmics = []\n",
    "cis = []\n",
    "for file in files:\n",
    "    try:\n",
    "        runsummary.append(pd.read_hdf(file, 'runsummary'))\n",
    "        cosmics.append(pd.read_hdf(file, 'cosmics'))\n",
    "        cis.append(pd.read_hdf(file, 'cosmics_intensity_spectrum'))\n",
    "    except:\n",
    "        print(file)\n",
    "    \n",
    "cosmics_pd = pd.concat(cosmics, ignore_index=True)\n",
    "runsummary_pd = pd.concat(runsummary, ignore_index=True)\n",
    "cis_pd = pd.concat(cis, ignore_index=True)\n",
    "cosmics_pd.columns"
   ]
  },
  {
   "cell_type": "code",
   "execution_count": null,
   "metadata": {},
   "outputs": [],
   "source": [
    "np.sum(list(cosmics_pd['elapsed_time']))"
   ]
  },
  {
   "cell_type": "code",
   "execution_count": null,
   "metadata": {},
   "outputs": [],
   "source": [
    "cis_pd['diffuse_nsb_std'][(cis_pd['runnumber']==16893)]"
   ]
  },
  {
   "cell_type": "code",
   "execution_count": null,
   "metadata": {},
   "outputs": [],
   "source": [
    "runsummary_pd"
   ]
  },
  {
   "cell_type": "code",
   "execution_count": null,
   "metadata": {},
   "outputs": [],
   "source": [
    "\n"
   ]
  },
  {
   "cell_type": "code",
   "execution_count": null,
   "metadata": {},
   "outputs": [],
   "source": [
    "high_nsb_runs"
   ]
  },
  {
   "cell_type": "markdown",
   "metadata": {},
   "source": [
    "#### Choose only runsummary for low_nsb runs"
   ]
  },
  {
   "cell_type": "code",
   "execution_count": null,
   "metadata": {},
   "outputs": [],
   "source": [
    "low_nsb_runs = cis_pd[['yyyymmdd','runnumber', 'subrun']][(cis_pd['diffuse_nsb_std'] < max_diffuse_nsb_std)]\n",
    "low_nsb_runsummary = runsummary_pd[runsummary_pd['runnumber'].isin(low_nsb_runs['runnumber'])]\n",
    "low_nsb_cosmics = cosmics_pd[cosmics_pd['runnumber'].isin(low_nsb_runs['runnumber'])]\n",
    "low_nsb_cosmics"
   ]
  },
  {
   "cell_type": "code",
   "execution_count": null,
   "metadata": {},
   "outputs": [],
   "source": [
    "set_low_nsb = pd.DataFrame(set(low_nsb_cosmics['runnumber'][(low_nsb_cosmics['time'] > 1709158619.7528722)]), columns=['runnumber'])"
   ]
  },
  {
   "cell_type": "code",
   "execution_count": null,
   "metadata": {},
   "outputs": [],
   "source": [
    "# Low nsb runs for 2024 year, after February\n",
    "set_low_nsb.to_csv('/Users/vdk/Software/code/muon_paper_2024/low_nsb_2024year.csv')"
   ]
  },
  {
   "cell_type": "code",
   "execution_count": null,
   "metadata": {},
   "outputs": [],
   "source": [
    "set_low_nsb"
   ]
  },
  {
   "cell_type": "code",
   "execution_count": null,
   "metadata": {},
   "outputs": [],
   "source": [
    "high_nsb_runs = cis_pd[['yyyymmdd','runnumber', 'subrun']][(cis_pd['diffuse_nsb_std'] > max_diffuse_nsb_std)]\n",
    "high_nsb_runsummary = runsummary_pd[runsummary_pd['runnumber'].isin(high_nsb_runs['runnumber'])]\n",
    "high_nsb_cosmics = cosmics_pd[cosmics_pd['runnumber'].isin(high_nsb_runs['runnumber'])]\n",
    "high_nsb_runs"
   ]
  },
  {
   "cell_type": "code",
   "execution_count": null,
   "metadata": {},
   "outputs": [],
   "source": [
    "high_nsb_high_murings_rungs = runsummary_pd['runnumber'][runsummary_pd['num_contained_mu_rings'] > 2000]\n",
    "type(high_nsb_high_murings_rungs)"
   ]
  },
  {
   "cell_type": "code",
   "execution_count": null,
   "metadata": {},
   "outputs": [],
   "source": [
    "intersection = high_nsb_runs[high_nsb_runs['runnumber'].isin(high_nsb_high_murings_rungs)]\n",
    "intersection"
   ]
  },
  {
   "cell_type": "code",
   "execution_count": null,
   "metadata": {},
   "outputs": [],
   "source": [
    "intersection[intersection['runnumber'] == 16867]"
   ]
  },
  {
   "cell_type": "code",
   "execution_count": null,
   "metadata": {},
   "outputs": [],
   "source": [
    "searched_row = cis_pd.loc[(cis_pd['runnumber'] == 16876) & (cis_pd['subrun'] == 54)]\n",
    "searched_row['diffuse_nsb_std']"
   ]
  },
  {
   "cell_type": "code",
   "execution_count": null,
   "metadata": {},
   "outputs": [],
   "source": [
    "cis_pd['runnumber'][cis_pd['runnumber'] == 16876]"
   ]
  },
  {
   "cell_type": "code",
   "execution_count": null,
   "metadata": {},
   "outputs": [],
   "source": [
    "#high_nsb_runs.to_csv('/Users/vdk/highNSBvalues.csv')"
   ]
  },
  {
   "cell_type": "code",
   "execution_count": null,
   "metadata": {},
   "outputs": [],
   "source": [
    "# Unix timestamp\n",
    "timestamp = 1.605927e+09\n",
    "\n",
    "# Convert to a datetime object\n",
    "dt_object = datetime.fromtimestamp(timestamp)\n",
    "\n",
    "# Print the datetime in a human-readable format\n",
    "print(dt_object.strftime('%Y-%m-%d %H:%M:%S'))\n"
   ]
  },
  {
   "cell_type": "code",
   "execution_count": null,
   "metadata": {},
   "outputs": [],
   "source": [
    "mueff2019 = low_nsb_runsummary['mu_effi_mean'][(low_nsb_runsummary['time'] > start_date_2019) &\n",
    "                                           (low_nsb_runsummary['time'] < end_date_2019)]\n",
    "mueff2020 = low_nsb_runsummary['mu_effi_mean'][(low_nsb_runsummary['time'] > start_date_2020) &\n",
    "                                           (low_nsb_runsummary['time'] < end_date_2020)]\n",
    "mueff2021 = low_nsb_runsummary['mu_effi_mean'][(low_nsb_runsummary['time'] > start_date_2021) &\n",
    "                                           (low_nsb_runsummary['time'] < end_date_2021)]\n",
    "mueff2022 = low_nsb_runsummary['mu_effi_mean'][(low_nsb_runsummary['time'] > start_date_2022) &\n",
    "                                           (low_nsb_runsummary['time'] < end_date_2022)]\n",
    "mueff2023 = low_nsb_runsummary['mu_effi_mean'][(low_nsb_runsummary['time'] > start_date_2023) &\n",
    "                                           (low_nsb_runsummary['time'] < end_date_2023)]\n",
    "mueff2024 = low_nsb_runsummary['mu_effi_mean'][(low_nsb_runsummary['time'] > start_date_2024) &\n",
    "                                           (low_nsb_runsummary['time'] < end_date_2024)]\n",
    "\n",
    "mustd2019 = low_nsb_runsummary['mu_effi_stddev'][(low_nsb_runsummary['time'] > start_date_2019) &\n",
    "                                           (low_nsb_runsummary['time'] < end_date_2019)]\n",
    "mustd2020 = low_nsb_runsummary['mu_effi_stddev'][(low_nsb_runsummary['time'] > start_date_2020) &\n",
    "                                           (low_nsb_runsummary['time'] < end_date_2020)]\n",
    "mustd2021 = low_nsb_runsummary['mu_effi_stddev'][(low_nsb_runsummary['time'] > start_date_2021) &\n",
    "                                           (low_nsb_runsummary['time'] < end_date_2021)]\n",
    "mustd2022 = low_nsb_runsummary['mu_effi_stddev'][(low_nsb_runsummary['time'] > start_date_2022) &\n",
    "                                           (low_nsb_runsummary['time'] < end_date_2022)]\n",
    "mustd2023 = low_nsb_runsummary['mu_effi_stddev'][(low_nsb_runsummary['time'] > start_date_2023) &\n",
    "                                           (low_nsb_runsummary['time'] < end_date_2023)]\n",
    "mustd2024 = low_nsb_runsummary['mu_effi_stddev'][(low_nsb_runsummary['time'] > start_date_2024) &\n",
    "                                           (low_nsb_runsummary['time'] < end_date_2024)]\n",
    "\n",
    "musize2019 = low_nsb_runsummary['mu_intensity_mean'][(low_nsb_runsummary['time'] > start_date_2019) &\n",
    "                                           (low_nsb_runsummary['time'] < end_date_2019)]\n",
    "musize2020 = low_nsb_runsummary['mu_intensity_mean'][(low_nsb_runsummary['time'] > start_date_2020) &\n",
    "                                           (low_nsb_runsummary['time'] < end_date_2020)]\n",
    "musize2021 = low_nsb_runsummary['mu_intensity_mean'][(low_nsb_runsummary['time'] > start_date_2021) &\n",
    "                                           (low_nsb_runsummary['time'] < end_date_2021)]\n",
    "musize2022 = low_nsb_runsummary['mu_intensity_mean'][(low_nsb_runsummary['time'] > start_date_2022) &\n",
    "                                           (low_nsb_runsummary['time'] < end_date_2022)]\n",
    "musize2023 = low_nsb_runsummary['mu_intensity_mean'][(low_nsb_runsummary['time'] > start_date_2023) &\n",
    "                                           (low_nsb_runsummary['time'] < end_date_2023)]\n",
    "musize2024 = low_nsb_runsummary['mu_intensity_mean'][(low_nsb_runsummary['time'] > start_date_2024) &\n",
    "                                           (low_nsb_runsummary['time'] < end_date_2024)]\n",
    "\n",
    "print(f\"Mean opt eff for 2019 year = {np.mean(mueff2019)} with std = {np.mean(mustd2019)}\")\n",
    "print(f\"Mean opt eff for 2020 year = {np.mean(mueff2020)} with std = {np.mean(mustd2020)}\")\n",
    "print(f\"Mean opt eff for 2021 year = {np.mean(mueff2021)} with std = {np.mean(mustd2021)}\")\n",
    "print(f\"Mean opt eff for 2022 year = {np.mean(mueff2022)} with std = {np.mean(mustd2022)}\")\n",
    "print(f\"Mean opt eff for 2023 year = {np.mean(mueff2023)} with std = {np.mean(mustd2023)}\")\n",
    "print(f\"Mean opt eff for 2024 year = {np.mean(mueff2024)} with std = {np.mean(mustd2024)}\")\n",
    "\n",
    "print(f\"Mean ring size for 2019 year = {np.mean(musize2019)}\")\n",
    "print(f\"Mean ring size for 2020 year = {np.mean(musize2020)}\")\n",
    "print(f\"Mean ring size for 2021 year = {np.mean(musize2021)}\")\n",
    "print(f\"Mean ring size for 2022 year = {np.mean(musize2022)}\")\n",
    "print(f\"Mean ring size for 2023 year = {np.mean(musize2023)}\")\n",
    "print(f\"Mean ring size for 2024 year = {np.mean(musize2024)}\")"
   ]
  },
  {
   "cell_type": "code",
   "execution_count": null,
   "metadata": {},
   "outputs": [],
   "source": [
    "mueff2019 = high_nsb_runsummary['mu_effi_mean'][(high_nsb_runsummary['time'] > start_date_2019) &\n",
    "                                           (high_nsb_runsummary['time'] < end_date_2019)]\n",
    "mueff2020 = high_nsb_runsummary['mu_effi_mean'][(high_nsb_runsummary['time'] > start_date_2020) &\n",
    "                                           (high_nsb_runsummary['time'] < end_date_2020)]\n",
    "mueff2021 = high_nsb_runsummary['mu_effi_mean'][(high_nsb_runsummary['time'] > start_date_2021) &\n",
    "                                           (high_nsb_runsummary['time'] < end_date_2021)]\n",
    "mueff2022 = high_nsb_runsummary['mu_effi_mean'][(high_nsb_runsummary['time'] > start_date_2022) &\n",
    "                                           (high_nsb_runsummary['time'] < end_date_2022)]\n",
    "mueff2023 = high_nsb_runsummary['mu_effi_mean'][(high_nsb_runsummary['time'] > start_date_2023) &\n",
    "                                           (high_nsb_runsummary['time'] < end_date_2023)]\n",
    "mueff2024 = high_nsb_runsummary['mu_effi_mean'][(high_nsb_runsummary['time'] > start_date_2024) &\n",
    "                                           (high_nsb_runsummary['time'] < end_date_2024)]\n",
    "\n",
    "mustd2019 = low_nsb_runsummary['mu_effi_stddev'][(low_nsb_runsummary['time'] > start_date_2019) &\n",
    "                                           (low_nsb_runsummary['time'] < end_date_2019)]\n",
    "mustd2020 = low_nsb_runsummary['mu_effi_stddev'][(low_nsb_runsummary['time'] > start_date_2020) &\n",
    "                                           (low_nsb_runsummary['time'] < end_date_2020)]\n",
    "mustd2021 = low_nsb_runsummary['mu_effi_stddev'][(low_nsb_runsummary['time'] > start_date_2021) &\n",
    "                                           (low_nsb_runsummary['time'] < end_date_2021)]\n",
    "mustd2022 = low_nsb_runsummary['mu_effi_stddev'][(low_nsb_runsummary['time'] > start_date_2022) &\n",
    "                                           (low_nsb_runsummary['time'] < end_date_2022)]\n",
    "mustd2023 = low_nsb_runsummary['mu_effi_stddev'][(low_nsb_runsummary['time'] > start_date_2023) &\n",
    "                                           (low_nsb_runsummary['time'] < end_date_2023)]\n",
    "mustd2024 = low_nsb_runsummary['mu_effi_stddev'][(low_nsb_runsummary['time'] > start_date_2024) &\n",
    "                                           (low_nsb_runsummary['time'] < end_date_2024)]\n",
    "\n",
    "musize2019 = high_nsb_runsummary['mu_intensity_mean'][(high_nsb_runsummary['time'] > start_date_2019) &\n",
    "                                           (high_nsb_runsummary['time'] < end_date_2019)]\n",
    "musize2020 = high_nsb_runsummary['mu_intensity_mean'][(high_nsb_runsummary['time'] > start_date_2020) &\n",
    "                                           (high_nsb_runsummary['time'] < end_date_2020)]\n",
    "musize2021 = high_nsb_runsummary['mu_intensity_mean'][(high_nsb_runsummary['time'] > start_date_2021) &\n",
    "                                           (high_nsb_runsummary['time'] < end_date_2021)]\n",
    "musize2022 = high_nsb_runsummary['mu_intensity_mean'][(high_nsb_runsummary['time'] > start_date_2022) &\n",
    "                                           (high_nsb_runsummary['time'] < end_date_2022)]\n",
    "musize2023 = high_nsb_runsummary['mu_intensity_mean'][(high_nsb_runsummary['time'] > start_date_2023) &\n",
    "                                           (high_nsb_runsummary['time'] < end_date_2023)]\n",
    "musize2024 = high_nsb_runsummary['mu_intensity_mean'][(high_nsb_runsummary['time'] > start_date_2024) &\n",
    "                                           (high_nsb_runsummary['time'] < end_date_2024)]\n",
    "\n",
    "print(f\"Mean opt eff for 2019 year = {np.mean(mueff2019)} with std = {np.mean(mustd2019)}\")\n",
    "print(f\"Mean opt eff for 2020 year = {np.mean(mueff2020)} with std = {np.mean(mustd2020)}\")\n",
    "print(f\"Mean opt eff for 2021 year = {np.mean(mueff2021)} with std = {np.mean(mustd2021)}\")\n",
    "print(f\"Mean opt eff for 2022 year = {np.mean(mueff2022)} with std = {np.mean(mustd2022)}\")\n",
    "print(f\"Mean opt eff for 2023 year = {np.mean(mueff2023)} with std = {np.mean(mustd2023)}\")\n",
    "print(f\"Mean opt eff for 2024 year = {np.mean(mueff2024)} with std = {np.mean(mustd2024)}\")\n",
    "\n",
    "print(f\"Mean ring size for 2019 year = {np.mean(musize2019)}\")\n",
    "print(f\"Mean ring size for 2020 year = {np.mean(musize2020)}\")\n",
    "print(f\"Mean ring size for 2021 year = {np.mean(musize2021)}\")\n",
    "print(f\"Mean ring size for 2022 year = {np.mean(musize2022)}\")\n",
    "print(f\"Mean ring size for 2023 year = {np.mean(musize2023)}\")\n",
    "print(f\"Mean ring size for 2024 year = {np.mean(musize2024)}\")"
   ]
  },
  {
   "cell_type": "code",
   "execution_count": null,
   "metadata": {},
   "outputs": [],
   "source": [
    "runs2019 = low_nsb_runsummary['runnumber'][(low_nsb_runsummary['time'] > start_date_2019) &\n",
    "                                           (low_nsb_runsummary['time'] < end_date_2019)]\n",
    "runs2020 = low_nsb_runsummary['runnumber'][(low_nsb_runsummary['time'] > start_date_2020) &\n",
    "                                           (low_nsb_runsummary['time'] < end_date_2020)]\n",
    "runs2021 = low_nsb_runsummary['runnumber'][(low_nsb_runsummary['time'] > start_date_2021) &\n",
    "                                           (low_nsb_runsummary['time'] < end_date_2021)]\n",
    "runs2022 = low_nsb_runsummary['runnumber'][(low_nsb_runsummary['time'] > start_date_2022) &\n",
    "                                           (low_nsb_runsummary['time'] < end_date_2022)]\n",
    "runs2023 = low_nsb_runsummary['runnumber'][(low_nsb_runsummary['time'] > start_date_2023) &\n",
    "                                           (low_nsb_runsummary['time'] < end_date_2023)]\n",
    "runs2024 = low_nsb_runsummary['runnumber'][(low_nsb_runsummary['time'] > start_date_2024) &\n",
    "                                           (low_nsb_runsummary['time'] < end_date_2024)]\n",
    "\n",
    "mueff2024"
   ]
  },
  {
   "cell_type": "code",
   "execution_count": null,
   "metadata": {},
   "outputs": [],
   "source": [
    "np.mean(low_nsb_runsummary['mu_effi_mean'][-500:-1])"
   ]
  },
  {
   "cell_type": "code",
   "execution_count": null,
   "metadata": {},
   "outputs": [],
   "source": [
    "np.mean(low_nsb_runsummary['mu_effi_mean'][:1000])"
   ]
  },
  {
   "cell_type": "code",
   "execution_count": null,
   "metadata": {},
   "outputs": [],
   "source": [
    "#"
   ]
  },
  {
   "cell_type": "code",
   "execution_count": null,
   "metadata": {},
   "outputs": [],
   "source": []
  },
  {
   "cell_type": "code",
   "execution_count": null,
   "metadata": {},
   "outputs": [],
   "source": []
  },
  {
   "cell_type": "code",
   "execution_count": null,
   "metadata": {},
   "outputs": [],
   "source": [
    "ytext = 600\n",
    "plt.figure(figsize = (12,9))\n",
    "sns.regplot(x=low_nsb_runsummary['runnumber'], y=low_nsb_runsummary['mu_intensity_mean'], color='k', scatter_kws={'s': 10})#, x_bins = 400)\n",
    "sns.regplot(x=high_nsb_runsummary['runnumber'], y=high_nsb_runsummary['mu_intensity_mean'], color='r', scatter_kws={'s': 10})#, x_bins = 400)\n",
    "sns.regplot(x=runsummary_pd['runnumber'], y=runsummary_pd['mu_intensity_mean'], color='g', scatter_kws={'s': 10})#, x_bins = 400)\n",
    "plt.fill_betweenx(y=[0,4000], x1 = 0, x2=max(runs2019), alpha = 0.05)\n",
    "plt.fill_betweenx(y=[0,4000], x1 = max(runs2019), x2=max(runs2020), alpha = 0.075)\n",
    "plt.fill_betweenx(y=[0,4000], x1 = max(runs2020), x2=max(runs2021), alpha = 0.075)\n",
    "plt.fill_betweenx(y=[0,4000], x1 = max(runs2021), x2=max(runs2022), alpha = 0.075)\n",
    "plt.fill_betweenx(y=[0,4000], x1 = max(runs2022), x2=max(runs2023), alpha = 0.075)\n",
    "plt.fill_betweenx(y=[0,4000], x1 = max(runs2023), x2=20000, alpha = 0.075)\n",
    "plt.annotate(\"2019\",(600,250), c='red')\n",
    "plt.annotate(\"2020\",(2200,ytext), c='red')\n",
    "plt.annotate(\"2021\",(4500,ytext), c='red')\n",
    "plt.annotate(\"2022\",(8500,ytext), c='red')\n",
    "plt.annotate(\"2023\",(13700, ytext), c='red')\n",
    "plt.annotate(\"2024\",(16600,ytext), c='red')\n",
    "plt.ylim(500,3500)\n",
    "plt.xlim(0,17500)\n",
    "plt.grid(alpha = 0.2)\n",
    "plt.xlabel('Runnumber')\n",
    "plt.ylabel('Size of the muon ring [p.e.]')\n",
    "#plt.savefig('/Users/vdk/muons2024/images/prague_talk/mu_size.png', dpi=200, format='png', bbox_inches='tight')"
   ]
  },
  {
   "cell_type": "code",
   "execution_count": null,
   "metadata": {},
   "outputs": [],
   "source": [
    "ytext = 0.01\n",
    "plt.figure(figsize = (12,9))\n",
    "sns.regplot(x=low_nsb_runsummary['runnumber'], y=low_nsb_runsummary['mu_width_mean'], color='k', scatter_kws={'s': 10}, x_bins = 100)\n",
    "sns.regplot(x=high_nsb_runsummary['runnumber'], y=high_nsb_runsummary['mu_width_mean'], color='r', scatter_kws={'s': 10}, x_bins = 100)\n",
    "sns.regplot(x=runsummary_pd['runnumber'], y=runsummary_pd['mu_width_mean'], color='g', scatter_kws={'s': 10}, x_bins = 100)\n",
    "plt.fill_betweenx(y=[0,4000], x1 = 0, x2=max(runs2019), alpha = 0.05)\n",
    "plt.fill_betweenx(y=[0,4000], x1 = max(runs2019), x2=max(runs2020), alpha = 0.075)\n",
    "plt.fill_betweenx(y=[0,4000], x1 = max(runs2020), x2=max(runs2021), alpha = 0.075)\n",
    "plt.fill_betweenx(y=[0,4000], x1 = max(runs2021), x2=max(runs2022), alpha = 0.075)\n",
    "plt.fill_betweenx(y=[0,4000], x1 = max(runs2022), x2=max(runs2023), alpha = 0.075)\n",
    "plt.fill_betweenx(y=[0,4000], x1 = max(runs2023), x2=20000, alpha = 0.075)\n",
    "plt.annotate(\"2019\",(600, ytext), c='red')\n",
    "plt.annotate(\"2020\",(2200,ytext), c='red')\n",
    "plt.annotate(\"2021\",(4500,ytext), c='red')\n",
    "plt.annotate(\"2022\",(8500,ytext), c='red')\n",
    "plt.annotate(\"2023\",(13700, ytext), c='red')\n",
    "plt.annotate(\"2024\",(16600,ytext), c='red')\n",
    "plt.ylim(0,0.125)\n",
    "plt.xlim(0,17500)\n",
    "plt.grid(alpha = 0.2)\n",
    "plt.xlabel('Runnumber')\n",
    "plt.ylabel('Width of the ring [deg]')\n",
    "#plt.savefig('/Users/vdk/muons2024/images/prague_talk/mu_width.png', dpi=200, format='png', bbox_inches='tight')"
   ]
  },
  {
   "cell_type": "code",
   "execution_count": null,
   "metadata": {},
   "outputs": [],
   "source": [
    "muwidth2020 = low_nsb_runsummary['mu_width_mean'][(low_nsb_runsummary['time'] > start_date_2020) &\n",
    "                                           (low_nsb_runsummary['time'] < end_date_2020)]\n",
    "muwidth2023 = low_nsb_runsummary['mu_width_mean'][(low_nsb_runsummary['time'] > start_date_2023) &\n",
    "                                           (low_nsb_runsummary['time'] < end_date_2023)]\n",
    "muwidth2024 = low_nsb_runsummary['mu_width_mean'][(low_nsb_runsummary['time'] > start_date_2024) &\n",
    "                                           (low_nsb_runsummary['time'] < end_date_2024)]\n",
    "\n",
    "print(f\"Mean ring width for 2020 year = {np.mean(muwidth2020)}\")\n",
    "print(f\"Mean ring width for 2023 year = {np.mean(muwidth2023)}\")\n",
    "print(f\"Mean ring width for 2024 year = {np.mean(muwidth2024)}\")"
   ]
  },
  {
   "cell_type": "code",
   "execution_count": null,
   "metadata": {},
   "outputs": [],
   "source": [
    "0.06812494859062546/0.07033345270082957"
   ]
  },
  {
   "cell_type": "code",
   "execution_count": null,
   "metadata": {},
   "outputs": [],
   "source": [
    "ytext = 0.92\n",
    "plt.figure(figsize = (12,9))\n",
    "sns.regplot(x=low_nsb_cosmics['runnumber'], y=low_nsb_cosmics['mu_radius_mean'], color='k', scatter_kws={'s': 10}, x_bins = 600)#x_bins = int(len(low_nsb_cosmics['runnumber'])**0.5))\n",
    "plt.fill_betweenx(y=[0,4000], x1 = 0, x2=max(runs2019), alpha = 0.05)\n",
    "plt.fill_betweenx(y=[0,4000], x1 = max(runs2019), x2=max(runs2020), alpha = 0.075)\n",
    "plt.fill_betweenx(y=[0,4000], x1 = max(runs2020), x2=max(runs2021), alpha = 0.075)\n",
    "plt.fill_betweenx(y=[0,4000], x1 = max(runs2021), x2=max(runs2022), alpha = 0.075)\n",
    "plt.fill_betweenx(y=[0,4000], x1 = max(runs2022), x2=max(runs2023), alpha = 0.075)\n",
    "plt.fill_betweenx(y=[0,4000], x1 = max(runs2023), x2=20000, alpha = 0.075)\n",
    "plt.annotate(\"2019\",(600, ytext), c='red')\n",
    "plt.annotate(\"2020\",(2200,ytext), c='red')\n",
    "plt.annotate(\"2021\",(4500,ytext), c='red')\n",
    "plt.annotate(\"2022\",(8500,ytext), c='red')\n",
    "plt.annotate(\"2023\",(13700, ytext), c='red')\n",
    "plt.annotate(\"2024\",(16600,ytext), c='red')\n",
    "plt.ylim(0.9,1.3)\n",
    "plt.xlim(0,17500)\n",
    "plt.grid(alpha = 0.2)\n",
    "plt.xlabel('Runnumber')\n",
    "plt.ylabel('Radius of the ring [deg]')\n",
    "#plt.savefig('/Users/vdk/muons2024/images/prague_talk/mu_radius.png', dpi=200, format='png', bbox_inches='tight')"
   ]
  },
  {
   "cell_type": "code",
   "execution_count": null,
   "metadata": {},
   "outputs": [],
   "source": [
    "low_nsb_cosmics"
   ]
  },
  {
   "cell_type": "code",
   "execution_count": null,
   "metadata": {},
   "outputs": [],
   "source": [
    "low_nsb_cosmics"
   ]
  },
  {
   "cell_type": "code",
   "execution_count": null,
   "metadata": {},
   "outputs": [],
   "source": [
    "test_file = '/Users/vdk/dl1_run201_muon_lst.h5'\n",
    "with h5py.File(test_file, 'r') as file:\n",
    "    # List all groups and datasets in the file\n",
    "    print(\"Contents of the HDF5 file:\")\n",
    "    for name in file:\n",
    "        print(name)"
   ]
  },
  {
   "cell_type": "code",
   "execution_count": null,
   "metadata": {},
   "outputs": [],
   "source": []
  },
  {
   "cell_type": "code",
   "execution_count": null,
   "metadata": {},
   "outputs": [],
   "source": [
    "\n",
    "with pd.HDFStore(test_file) as hdf:\n",
    "    print(hdf.keys())"
   ]
  },
  {
   "cell_type": "code",
   "execution_count": null,
   "metadata": {},
   "outputs": [],
   "source": [
    "files = glob.glob('/Users/vdk/muons2024/v0.9-v0.10/20*/DL1_datacheck_*.h5')\n",
    "files.sort()\n",
    "\n",
    "# This takes a few minutes... DON'T RUN IT MORE THAN ONCE, it is not needed! (If you change the \n",
    "# sky region or the cuts just execute the cells from \"Data selection configuration\" onwards)\n",
    "dummy = []\n",
    "dummy2 = []\n",
    "dummy3 = []\n",
    "\n",
    "missing_flatfield_tables = 0\n",
    "for i, file in enumerate(files):\n",
    "    if i%10 == 0:\n",
    "        print(i, '/', len(files), file)\n",
    "    try:\n",
    "        dummy.append(pd.read_hdf(file, 'cosmics_intensity_spectrum'))\n",
    "        dummy2.append(pd.read_hdf(file, 'runsummary'))\n",
    "        fftable = pd.read_hdf(file, 'flatfield', errors='ignore')\n",
    "        dummy3.append(fftable)\n",
    "    except: \n",
    "            # some check files have no flatfield table at all (if calibox was off) \n",
    "        missing_flatfield_tables += 1\n",
    "\n",
    "# cosmics intensity spectra table (subrun-wise):\n",
    "cis = pd.concat(dummy, ignore_index=True)\n",
    "\n",
    "# flatfield table (subrun-wise):\n",
    "flatfield = pd.concat(dummy3, ignore_index=True)\n",
    "\n",
    "# parameters computed run-wise:\n",
    "runsummary = pd.concat(dummy2, ignore_index=True)"
   ]
  },
  {
   "cell_type": "code",
   "execution_count": null,
   "metadata": {},
   "outputs": [],
   "source": [
    "cis.columns"
   ]
  },
  {
   "cell_type": "code",
   "execution_count": null,
   "metadata": {},
   "outputs": [],
   "source": [
    "runsummary.columns"
   ]
  },
  {
   "cell_type": "code",
   "execution_count": null,
   "metadata": {},
   "outputs": [],
   "source": [
    "runsummary['time'] + runsummary['elapsed_time']"
   ]
  },
  {
   "cell_type": "code",
   "execution_count": null,
   "metadata": {},
   "outputs": [],
   "source": []
  },
  {
   "cell_type": "code",
   "execution_count": null,
   "metadata": {},
   "outputs": [],
   "source": [
    "muon_file = '/Users/vdk/muons2024/fits_complete_rings_low_nsb.csv'\n",
    "complete_muons = pd.read_csv(muon_file, na_values=['NA', '?'])\n",
    "complete_muons"
   ]
  },
  {
   "cell_type": "code",
   "execution_count": null,
   "metadata": {},
   "outputs": [],
   "source": [
    "complete_muons['event_time']"
   ]
  },
  {
   "cell_type": "code",
   "execution_count": null,
   "metadata": {},
   "outputs": [],
   "source": []
  },
  {
   "cell_type": "code",
   "execution_count": null,
   "metadata": {},
   "outputs": [],
   "source": []
  },
  {
   "cell_type": "code",
   "execution_count": null,
   "metadata": {},
   "outputs": [],
   "source": []
  },
  {
   "cell_type": "code",
   "execution_count": null,
   "metadata": {},
   "outputs": [],
   "source": [
    "z,x,c = plt.hist(cis['cos_zenith'])"
   ]
  },
  {
   "cell_type": "code",
   "execution_count": null,
   "metadata": {},
   "outputs": [],
   "source": [
    "# Choose only runs with zenith anlge < 5 degrees and then create two tables with the time of start and time of end\n",
    "runnumbers = cis['runnumber'][cis['cos_zenith'] >= np.cos(np.deg2rad(5))]\n",
    "zenith_table = runsummary[runsummary['runnumber'].isin(runnumbers)]\n",
    "start_table = zenith_table['time']\n",
    "end_table = zenith_table['time']+zenith_table['elapsed_time']\n",
    "# for index,row in new_table.iterrow:\n",
    "#     print(row)\n",
    "for start, end in zip(start_table, end_table):\n",
    "    print(f\"start = {start} / end = {end} and difference = {start - end}\")\n",
    "\n",
    "zenith_table.to_csv('/Users/vdk/muons2024/data_zenith_cuts/zenith<5deg.csv', index=False)"
   ]
  },
  {
   "cell_type": "code",
   "execution_count": null,
   "metadata": {},
   "outputs": [],
   "source": [
    "max(np.rad2deg(runsummary['mean_altitude']))"
   ]
  },
  {
   "cell_type": "code",
   "execution_count": null,
   "metadata": {},
   "outputs": [],
   "source": [
    "runsummary.columns"
   ]
  },
  {
   "cell_type": "code",
   "execution_count": null,
   "metadata": {},
   "outputs": [],
   "source": [
    "runsummary['runnumber'][(np.degrees(runsummary['mean_altitude']) > 88) & (np.degrees(runsummary['mean_altitude']) < 90)] #& (runsummary_pd['mu_radius_mean'] > 0.95) & (runsummary_pd['mu_radius_mean'] < 1.3)]"
   ]
  },
  {
   "cell_type": "code",
   "execution_count": null,
   "metadata": {},
   "outputs": [],
   "source": [
    "# Lets choose only values with zenith anlge that differs not much than 1 degree\n",
    "def delta(a,b):\n",
    "    return abs(np.rad2deg(a)-np.rad2deg(b))\n",
    "\n",
    "#runsummary_pd['runnumber'][(np.degrees(runsummary_pd['_altitude']) > 44) & (np.degrees(runsummary_pd['mean_altitude']) < 45)]) #& (runsummary_pd['mu_radius_mean'] > 0.95) & (runsummary_pd['mu_radius_mean'] < 1.3)]\n",
    "zd_runnumbers = runsummary_pd['runnumber'][\n",
    "    (delta(runsummary_pd['min_altitude'],runsummary_pd['max_altitude'])< 1) & \n",
    "    (delta(runsummary_pd['min_azimuth'],runsummary_pd['max_azimuth'])< 1) & \n",
    "    (runsummary_pd['mu_effi_stddev']<=0.02) & \n",
    "    (runsummary_pd['mu_width_stddev']<0.02) &\n",
    "    (runsummary_pd['num_contained_mu_rings'])\n",
    "]\n",
    "zenith_table = runsummary_pd[runsummary_pd['runnumber'].isin(zd_runnumbers)]"
   ]
  },
  {
   "cell_type": "code",
   "execution_count": null,
   "metadata": {},
   "outputs": [],
   "source": [
    "new_table = cis[['yyyymmdd','runnumber', 'subrun']][(cis['diffuse_nsb_std'] < max_diffuse_nsb_std)]\n",
    "new_table"
   ]
  },
  {
   "cell_type": "code",
   "execution_count": null,
   "metadata": {},
   "outputs": [],
   "source": [
    "new_table.to_csv('/Users/vdk/muons2024/1000-2000BigFitsLSTcuts.csv', index=False)"
   ]
  },
  {
   "cell_type": "code",
   "execution_count": null,
   "metadata": {},
   "outputs": [],
   "source": []
  },
  {
   "cell_type": "code",
   "execution_count": null,
   "metadata": {},
   "outputs": [],
   "source": [
    "runsummary_pd"
   ]
  },
  {
   "cell_type": "code",
   "execution_count": null,
   "metadata": {},
   "outputs": [],
   "source": [
    "mean_opt_efficiency = []\n",
    "observation_date = []\n",
    "mean_runs = []\n",
    "std_opt = []\n",
    "mean_width = []\n",
    "mean_width_std = []\n",
    "mean_size = []\n",
    "mean_radius = []\n",
    "radius = []\n",
    "width = []\n",
    "\n",
    "\n",
    "for observation in cosmics:\n",
    "    print(observation)\n",
    "    time = np.mean(observation['time']) \n",
    "    observation_date.append(datetime.utcfromtimestamp(time).strftime('%Y-%m-%d %H:%M:%S'))\n",
    "    mean_opt_efficiency.append(np.mean(observation['mu_effi_mean']))\n",
    "    mean_runs.append(int(np.mean(observation['runnumber'])))\n",
    "    std_opt.append(np.mean(observation['mu_effi_stddev']))\n",
    "    mean_width.append(np.mean(observation['mu_width_mean']))\n",
    "    mean_width_std.append(np.mean(observation['mu_width_stddev']))\n",
    "    mean_size.append(np.mean(observation['mu_intensity_mean']))\n",
    "    mean_radius.append(np.mean(observation['mu_radius_mean']))\n",
    "    for radi in observation['mu_radius_mean']:\n",
    "        radius.append(radi)\n",
    "    for wid in observation['mu_width_mean']:\n",
    "        width.append(wid)\n"
   ]
  },
  {
   "cell_type": "code",
   "execution_count": null,
   "metadata": {},
   "outputs": [],
   "source": [
    "# Algoprithm to count number of runs in each year\n",
    "\n",
    "time = []\n",
    "runnumber = []\n",
    "\n",
    "for observ in runsummary:\n",
    "    for item in observ['time']:\n",
    "        time.append(item)\n",
    "\n",
    "\n",
    "time = [datetime.utcfromtimestamp(item).strftime('%Y-%m-%d %H:%M:%S') for item in time]\n",
    "dates = []\n",
    "for date in time:\n",
    "    dates.append(int(date.split(' ')[0][:4]))\n",
    "\n",
    "check_points = []\n",
    "check = 0  \n",
    "for year in set(dates):\n",
    "    check_points.append(dates.count(year)+check)\n",
    "    check = check + dates.count(year)\n",
    "\n",
    "runs = []\n",
    "runs_check = 0  \n",
    "for i,observ in enumerate(runsummary):\n",
    "    for run in observ['runnumber']:\n",
    "        runs.append(run)\n",
    " \n",
    "x_fill = [runsummary[0]['runnumber'][0]]\n",
    "for i,run in enumerate(runs):\n",
    "    if i in check_points:\n",
    "        x_fill.append(run)\n",
    "        \n",
    "x_fill.append(runsummary[-1]['runnumber'][9])\n",
    "\n",
    "print(f\"number of runs in each year {x_fill}\")\n",
    "print(f\"2019 year = {dates.count(2019)}\")\n",
    "print(f\"2020 year = {dates.count(2020)}\")\n",
    "print(f\"2021 year = {dates.count(2021)}\")\n",
    "print(f\"2022 year = {dates.count(2022)}\")\n",
    "print(f\"2023 year = {dates.count(2023)}\")\n",
    "print(f\"2024 year = {dates.count(2024)}\")"
   ]
  },
  {
   "cell_type": "code",
   "execution_count": null,
   "metadata": {},
   "outputs": [],
   "source": [
    "plt.figure(figsize = (12,9))\n",
    "sns.regplot(x = mean_runs, y = mean_opt_efficiency, color = 'k')#, label = 'Mean Optical Efficiency during one observation')#, x_bins=75\n",
    "#plt.errorbar(mean_runs, mean_opt_efficiency, yerr=std_opt, fmt = 'none', capsize=5, zorder=1, color='C0', alpha = 0.4)\n",
    "plt.grid(alpha = 0.3)\n",
    "plt.title(\"Optical Efficiency for all LST1 observational time\")\n",
    "#plt.vlines(3000,0,0.3)\n",
    "plt.ylim(0.1,0.275)\n",
    "plt.fill_betweenx(y=[0,0.3], x1 = 0, x2=x_fill[1], alpha = 0.05)\n",
    "plt.fill_betweenx(y=[0,0.3], x1 = x_fill[1], x2=x_fill[2], alpha = 0.075)\n",
    "plt.fill_betweenx(y=[0,0.3], x1 = x_fill[2], x2=x_fill[3], alpha = 0.075)\n",
    "plt.fill_betweenx(y=[0,0.3], x1 = x_fill[3], x2=x_fill[4], alpha = 0.075)\n",
    "plt.fill_betweenx(y=[0,0.3], x1 = x_fill[4], x2=x_fill[5], alpha = 0.075)\n",
    "plt.fill_betweenx(y=[0,0.3], x1 = x_fill[5], x2=18000, alpha = 0.075)\n",
    "plt.xlim(0,18000)\n",
    "plt.xlabel('Run number')\n",
    "plt.ylabel('Mean optical efficiency')\n",
    "plt.legend()"
   ]
  },
  {
   "cell_type": "code",
   "execution_count": null,
   "metadata": {},
   "outputs": [],
   "source": [
    "x_value_str = 'runnumber'\n",
    "y_value_str = 'mu_effi_mean'\n",
    "df_good_data = cosmics_pd\n",
    "# Step 1: Create bins for 'ring_radius'\n",
    "df_good_data[f'{x_value_str}_bin'] = pd.cut(df_good_data[x_value_str], bins=100)\n",
    "\n",
    "# Step 2: Group by the new bin column and calculate mean 'ring_size' for each bin\n",
    "binned_data = df_good_data.groupby(f'{x_value_str}_bin')[y_value_str].mean().reset_index()\n",
    "\n",
    "# Step 3: Convert the bin intervals to strings (for plotting) or use midpoints\n",
    "binned_data['bin_mid'] = binned_data[f'{x_value_str}_bin'].apply(lambda x: x.mid)\n",
    "\n",
    "# Plotting\n",
    "plt.figure(figsize=(10, 6))\n",
    "\n",
    "# Scatter plot of binned values\n",
    "plt.scatter(binned_data['bin_mid'], binned_data[y_value_str], label='Binned Muon Efficiency', s=20)\n",
    "\n",
    "# Calculate and plot the regression line over the original data\n",
    "m, b = np.polyfit(df_good_data[x_value_str], df_good_data[y_value_str], 1)\n",
    "plt.plot(df_good_data[x_value_str], m*df_good_data[x_value_str] + b, color='red', label='Regression Line', alpha = 0.75)\n",
    "\n",
    "plt.xlabel(f'{x_value_str}')\n",
    "plt.ylabel(f'{y_value_str}')\n",
    "#plt.axhline(y=mean_ring_size, color='g', linestyle='--', label = f'Mean ring_size for this period = {round(mean_ring_size, 3)}')\n",
    "#plt.axvline(x=mean_ring_radius, color='orange', linestyle='--', label = f'Mean ring radius for this period = {round(mean_ring_radius,3)} pe')\n",
    "plt.legend()\n",
    "#plt.ylim(0,1.1)\n",
    "#plt.xlim(0,0.3)\n",
    "plt.grid(alpha=0.5)\n",
    "#plt.show()\n",
    "#plt.savefig('/home/jovyan/XImpact.png', dpi=300, format='png', bbox_inches='tight')\n",
    "#plt.savefig('/home/jovyan/OptEffVSImpact.png', dpi=300, format='png', bbox_inches='tight')\n",
    "#plt.savefig('/Users/vdk/muons2024/images/RadiusVsSize_19-23Y.png', dpi=200, format='png', bbox_inches='tight')"
   ]
  },
  {
   "cell_type": "code",
   "execution_count": null,
   "metadata": {},
   "outputs": [],
   "source": [
    "x_value_str = 'runnumber'\n",
    "y_value_str = 'mu_effi_mean'\n",
    "df_good_data = cosmics_pd\n",
    "# Step 1: Create bins for 'ring_radius'\n",
    "df_good_data[f'{x_value_str}_bin'] = pd.cut(df_good_data[x_value_str], bins=100)\n",
    "\n",
    "# Step 2: Group by the new bin column and calculate mean 'ring_size' for each bin\n",
    "binned_data = df_good_data.groupby(f'{x_value_str}_bin')[y_value_str].mean().reset_index()\n",
    "\n",
    "# Step 3: Convert the bin intervals to strings (for plotting) or use midpoints\n",
    "binned_data['bin_mid'] = binned_data[f'{x_value_str}_bin'].apply(lambda x: x.mid)\n",
    "\n",
    "# Plotting\n",
    "plt.figure(figsize=(10, 6))\n",
    "\n",
    "# Scatter plot of binned values\n",
    "plt.scatter(binned_data['bin_mid'], binned_data[y_value_str], label='Binned Muon Efficiency', s=20)\n",
    "\n",
    "# Calculate and plot the regression line over the original data\n",
    "m, b = np.polyfit(df_good_data[x_value_str], df_good_data[y_value_str], 1)\n",
    "plt.plot(df_good_data[x_value_str], m*df_good_data[x_value_str] + b, color='red', label='Regression Line', alpha = 0.75)\n",
    "\n",
    "plt.xlabel(f'{x_value_str}')\n",
    "plt.ylabel(f'{y_value_str}')\n",
    "#plt.axhline(y=mean_ring_size, color='g', linestyle='--', label = f'Mean ring_size for this period = {round(mean_ring_size, 3)}')\n",
    "#plt.axvline(x=mean_ring_radius, color='orange', linestyle='--', label = f'Mean ring radius for this period = {round(mean_ring_radius,3)} pe')\n",
    "plt.legend()\n",
    "#plt.ylim(0,2)\n",
    "#plt.xlim(0,0.3)\n",
    "plt.grid(alpha=0.5)\n",
    "#plt.show()\n",
    "#plt.savefig('/home/jovyan/XImpact.png', dpi=300, format='png', bbox_inches='tight')\n",
    "#plt.savefig('/home/jovyan/OptEffVSImpact.png', dpi=300, format='png', bbox_inches='tight')\n",
    "#plt.savefig('/Users/vdk/muons2024/images/RadiusVsSize_19-23Y.png', dpi=200, format='png', bbox_inches='tight')"
   ]
  },
  {
   "cell_type": "code",
   "execution_count": null,
   "metadata": {},
   "outputs": [],
   "source": [
    "plt.figure(figsize = (12,9))\n",
    "sns.regplot(x = mean_runs, y = mean_opt_efficiency, color = 'k', label = 'Mean Optical Efficiency during one observation')#, x_bins=75\n",
    "#plt.errorbar(mean_runs, mean_opt_efficiency, yerr=std_opt, fmt = 'none', capsize=5, zorder=1, color='C0', alpha = 0.4)\n",
    "plt.grid(alpha = 0.3)\n",
    "plt.title(\"Optical Efficiency for all LST1 observational time\")\n",
    "#plt.vlines(3000,0,0.3)\n",
    "plt.ylim(0.1,0.275)\n",
    "plt.fill_betweenx(y=[0,0.3], x1 = 0, x2=x_fill[1], alpha = 0.05)\n",
    "plt.fill_betweenx(y=[0,0.3], x1 = x_fill[1], x2=x_fill[2], alpha = 0.075)\n",
    "plt.fill_betweenx(y=[0,0.3], x1 = x_fill[2], x2=x_fill[3], alpha = 0.075)\n",
    "plt.fill_betweenx(y=[0,0.3], x1 = x_fill[3], x2=x_fill[4], alpha = 0.075)\n",
    "plt.fill_betweenx(y=[0,0.3], x1 = x_fill[4], x2=x_fill[5], alpha = 0.075)\n",
    "plt.fill_betweenx(y=[0,0.3], x1 = x_fill[5], x2=18000, alpha = 0.075)\n",
    "plt.xlim(0,18000)\n",
    "plt.xlabel('Run number')\n",
    "plt.ylabel('Mean optical efficiency')\n",
    "plt.legend()"
   ]
  },
  {
   "cell_type": "code",
   "execution_count": null,
   "metadata": {},
   "outputs": [],
   "source": [
    "plt.figure(figsize = (12,9))\n",
    "sns.regplot(x = mean_runs, y = mean_size, color = 'k', label = 'Mean Intensity in the ring per one observation', x_bins=100)\n",
    "#plt.errorbar(mean_runs, mean_opt_efficiency, yerr=std_opt, fmt = 'none', capsize=5, zorder=1, color='C0', alpha = 0.4)\n",
    "plt.grid(alpha = 0.3)\n",
    "plt.title(\"Muon ring size (integral intensity in p.e.) for all LST1 observational time\")\n",
    "\n",
    "\n",
    "plt.fill_betweenx(y=[0,10000], x1 = 0, x2=x_fill[1], alpha = 0.05)\n",
    "plt.fill_betweenx(y=[0,10000], x1 = x_fill[1], x2=x_fill[2], alpha = 0.075)\n",
    "plt.fill_betweenx(y=[0,10000], x1 = x_fill[2], x2=x_fill[3], alpha = 0.075)\n",
    "plt.fill_betweenx(y=[0,10000], x1 = x_fill[3], x2=x_fill[4], alpha = 0.075)\n",
    "plt.fill_betweenx(y=[0,10000], x1 = x_fill[4], x2=x_fill[5], alpha = 0.075)\n",
    "plt.fill_betweenx(y=[0,10000], x1 = x_fill[5], x2=18000, alpha = 0.075)\n",
    "plt.xlim(0,18000)\n",
    "plt.ylim(1000,3000)\n",
    "plt.xlabel('Run number')\n",
    "plt.ylabel('Mean muon ring intensity per observation [p.e.]')\n",
    "plt.legend()"
   ]
  },
  {
   "cell_type": "code",
   "execution_count": null,
   "metadata": {},
   "outputs": [],
   "source": [
    "plt.figure(figsize = (12,9))\n",
    "sns.regplot(x = mean_runs, y = mean_width, color = 'k', label = 'Mean ring width per one observation', x_bins=75)\n",
    "#plt.errorbar(mean_runs, mean_opt_efficiency, yerr=std_opt, fmt = 'none', capsize=5, zorder=1, color='C0', alpha = 0.4)\n",
    "plt.grid(alpha = 0.3)\n",
    "plt.title(\"Muon ring width for all LST1 observational time\")\n",
    "\n",
    "\n",
    "plt.fill_betweenx(y=[0,10000], x1 = 1000, x2=x_fill[1], alpha = 0.05)\n",
    "plt.fill_betweenx(y=[0,10000], x1 = x_fill[1], x2=x_fill[2], alpha = 0.05)\n",
    "plt.fill_betweenx(y=[0,10000], x1 = x_fill[2], x2=x_fill[3], alpha = 0.05)\n",
    "plt.fill_betweenx(y=[0,10000], x1 = x_fill[3], x2=x_fill[4], alpha = 0.05)\n",
    "plt.fill_betweenx(y=[0,10000], x1 = x_fill[4], x2=x_fill[5], alpha = 0.05)\n",
    "plt.fill_betweenx(y=[0,10000], x1 = x_fill[5], x2=17000, alpha = 0.05)\n",
    "plt.xlim(0,18000)\n",
    "plt.ylim(0.01,0.3)\n",
    "plt.xlabel('Run number')\n",
    "plt.ylabel('Mean muon ring width per observation [deg]')\n",
    "plt.legend()"
   ]
  },
  {
   "cell_type": "code",
   "execution_count": null,
   "metadata": {},
   "outputs": [],
   "source": [
    "plt.figure(figsize = (12,9))\n",
    "sns.regplot(x = mean_runs, y = mean_radius, color = 'k', label = 'Mean muon ring radius per one observation', x_bins=75)\n",
    "#plt.errorbar(mean_runs, mean_opt_efficiency, yerr=std_opt, fmt = 'none', capsize=5, zorder=1, color='C0', alpha = 0.4)\n",
    "plt.grid(alpha = 0.3)\n",
    "plt.title(\"Muon ring radius for all LST1 observational time\")\n",
    "\n",
    "\n",
    "plt.fill_betweenx(y=[0,10000], x1 = 0, x2=x_fill[1], alpha = 0.05)\n",
    "plt.fill_betweenx(y=[0,10000], x1 = x_fill[1], x2=x_fill[2], alpha = 0.075)\n",
    "plt.fill_betweenx(y=[0,10000], x1 = x_fill[2], x2=x_fill[3], alpha = 0.075)\n",
    "plt.fill_betweenx(y=[0,10000], x1 = x_fill[3], x2=x_fill[4], alpha = 0.075)\n",
    "plt.fill_betweenx(y=[0,10000], x1 = x_fill[4], x2=x_fill[5], alpha = 0.075)\n",
    "plt.fill_betweenx(y=[0,10000], x1 = x_fill[5], x2=18000, alpha = 0.075)\n",
    "plt.xlim(0,18000)\n",
    "plt.ylim(0.9,1.3)\n",
    "plt.xlabel('Run number')\n",
    "plt.ylabel('Mean muon ring radius per observation [deg]')\n",
    "plt.legend()"
   ]
  },
  {
   "cell_type": "code",
   "execution_count": null,
   "metadata": {},
   "outputs": [],
   "source": [
    "#sns.regplot(x = mean_radius, y = mean_size, color = 'k', label = 'Mean Optical Efficiency during one observation')\n",
    "plt.scatter(mean_radius,mean_size)"
   ]
  },
  {
   "cell_type": "code",
   "execution_count": null,
   "metadata": {},
   "outputs": [],
   "source": [
    " b"
   ]
  },
  {
   "cell_type": "code",
   "execution_count": null,
   "metadata": {},
   "outputs": [],
   "source": [
    "#sns.regplot(x = cosmics_pd['mu_radius_mean'][(cosmics_pd['mu_radius_mean'] > 0.95) & (cosmics_pd['mu_radius_mean'] < 1.3)], y = cosmics_pd['mu_width_mean'][(cosmics_pd['mu_radius_mean'] > 0.95) & (cosmics_pd['mu_radius_mean'] < 1.3)], color = 'k', label = 'Mean Optical Efficiency during one observation')\n",
    "x = cosmics_pd['mu_radius_mean'][(cosmics_pd['mu_width_mean'] > 0.04) & (cosmics_pd['mu_width_mean'] < 0.3) & (cosmics_pd['mu_radius_mean'] > 0.95) & (cosmics_pd['mu_radius_mean'] < 1.3)]\n",
    "y = cosmics_pd['mu_width_mean'][(cosmics_pd['mu_width_mean'] > 0.04) & (cosmics_pd['mu_width_mean'] < 0.3) & (cosmics_pd['mu_radius_mean'] > 0.95) & (cosmics_pd['mu_radius_mean'] < 1.3)]\n",
    "plt.scatter(x, y)"
   ]
  },
  {
   "cell_type": "code",
   "execution_count": null,
   "metadata": {},
   "outputs": [],
   "source": [
    "len(cosmics_pd['mu_radius_mean'][(cosmics_pd['mu_radius_mean'] > 0.95) & (cosmics_pd['mu_radius_mean'] < 1.3)])"
   ]
  },
  {
   "cell_type": "code",
   "execution_count": null,
   "metadata": {},
   "outputs": [],
   "source": [
    "plt.figure(figsize = (15,9))\n",
    "plt.errorbar(x = mean_runs, y = mean_opt_efficiency, yerr = std_opt, fmt = 'x')#, color = 'k', label = 'Real Data')\n",
    "plt.grid(alpha = 0.5)\n",
    "plt.fill_betweenx(y=[0,0.65], x1 = x_fill[0], x2=x_fill[1], alpha = 0.1)\n",
    "plt.fill_betweenx(y=[0,0.65], x1 = x_fill[1], x2=x_fill[2], alpha = 0.1)\n",
    "plt.fill_betweenx(y=[0,0.65], x1 = x_fill[2], x2=x_fill[3], alpha = 0.1)\n",
    "plt.fill_betweenx(y=[0,0.65], x1 = x_fill[3], x2=x_fill[4], alpha = 0.1)\n",
    "plt.fill_betweenx(y=[0,0.65], x1 = x_fill[4], x2=x_fill[5], alpha = 0.1)\n",
    "plt.fill_betweenx(y=[0,0.65], x1 = x_fill[5], x2=x_fill[6], alpha = 0.1)\n",
    "plt.ylim(0.05,0.65)\n",
    "plt.title(\"Optical Efficiency\")\n",
    "plt.xlabel('Run number')\n",
    "plt.ylabel('Mean optical efficiency for observation')"
   ]
  },
  {
   "cell_type": "code",
   "execution_count": null,
   "metadata": {},
   "outputs": [],
   "source": [
    "result = sc.stats.linregress(mean_runs,mean_opt_efficiency)\n",
    "result"
   ]
  },
  {
   "cell_type": "code",
   "execution_count": null,
   "metadata": {},
   "outputs": [],
   "source": [
    "radius2973 = []\n",
    "intensity2973 = []\n",
    "\n",
    "for observ in runsummary:\n",
    "    for i,run in enumerate(observ['runnumber']):\n",
    "        if run == 2973:\n",
    "            print(datetime.utcfromtimestamp(observ['time'][i]).strftime('%Y-%m-%d %H:%M:%S'))\n"
   ]
  },
  {
   "cell_type": "code",
   "execution_count": null,
   "metadata": {},
   "outputs": [],
   "source": [
    "print(f\"2019 year = {dates.count(2019)}\")\n",
    "print(f\"2020 year = {dates.count(2020)}\")\n",
    "print(f\"2021 year = {dates.count(2021)}\")\n",
    "print(f\"2022 year = {dates.count(2022)}\")\n",
    "print(f\"2023 year = {dates.count(2023)}\")\n",
    "print(f\"2024 year = {dates.count(2024)}\")\n",
    "runs"
   ]
  },
  {
   "cell_type": "markdown",
   "metadata": {},
   "source": [
    "runsummary[-1]['runnumber'][0] - runsummary[0]['runnumber'][0]"
   ]
  },
  {
   "cell_type": "code",
   "execution_count": null,
   "metadata": {},
   "outputs": [],
   "source": []
  },
  {
   "cell_type": "code",
   "execution_count": null,
   "metadata": {},
   "outputs": [],
   "source": [
    "fig = plt.figure()\n",
    "ax = fig.add_subplot(111)\n",
    "ax.plot(observation_date, mean_opt_efficiency)\n",
    "\n",
    "# format your data to desired format. Here I chose YYYY-MM-DD but you can set it to whatever you want.\n",
    "import matplotlib.dates as mdates\n",
    "ax.xaxis.set_major_formatter(mdates.DateFormatter('%YYYY-%mm-%dd'))\n",
    "\n",
    "# rotate and align the tick labels so they look better\n",
    "fig.autofmt_xdate()"
   ]
  },
  {
   "cell_type": "code",
   "execution_count": null,
   "metadata": {},
   "outputs": [],
   "source": []
  },
  {
   "cell_type": "code",
   "execution_count": null,
   "metadata": {},
   "outputs": [],
   "source": []
  },
  {
   "cell_type": "code",
   "execution_count": null,
   "metadata": {},
   "outputs": [],
   "source": [
    "sns.regplot(x = cosmics_pd['runnumber'], y = cosmics_pd['num_contained_mu_rings'], color = 'k', label = 'Mean muon ring radius per one observation', x_bins=75)"
   ]
  },
  {
   "cell_type": "code",
   "execution_count": null,
   "metadata": {},
   "outputs": [],
   "source": [
    "cosmics_pd['runnumber']"
   ]
  },
  {
   "cell_type": "code",
   "execution_count": null,
   "metadata": {},
   "outputs": [],
   "source": [
    "runsummary_pd.columns"
   ]
  },
  {
   "cell_type": "code",
   "execution_count": null,
   "metadata": {},
   "outputs": [],
   "source": [
    "max(runsummary_pd['ff_time_mean'])"
   ]
  },
  {
   "cell_type": "code",
   "execution_count": null,
   "metadata": {},
   "outputs": [],
   "source": [
    "pd.read_hdf(file)"
   ]
  },
  {
   "cell_type": "code",
   "execution_count": null,
   "metadata": {},
   "outputs": [],
   "source": [
    "with pd.HDFStore(file) as hdf:\n",
    "    # This prints a list of all group names:\n",
    "    print(hdf.keys())\n"
   ]
  },
  {
   "cell_type": "code",
   "execution_count": null,
   "metadata": {},
   "outputs": [],
   "source": []
  },
  {
   "cell_type": "code",
   "execution_count": null,
   "metadata": {},
   "outputs": [],
   "source": [
    "cis.columns"
   ]
  },
  {
   "cell_type": "code",
   "execution_count": null,
   "metadata": {},
   "outputs": [],
   "source": [
    "min(cis['diffuse_nsb_std'])"
   ]
  },
  {
   "cell_type": "code",
   "execution_count": null,
   "metadata": {},
   "outputs": [],
   "source": []
  }
 ],
 "metadata": {
  "kernelspec": {
   "display_name": "cta-dev",
   "language": "python",
   "name": "python3"
  },
  "language_info": {
   "codemirror_mode": {
    "name": "ipython",
    "version": 3
   },
   "file_extension": ".py",
   "mimetype": "text/x-python",
   "name": "python",
   "nbconvert_exporter": "python",
   "pygments_lexer": "ipython3",
   "version": "3.10.14"
  }
 },
 "nbformat": 4,
 "nbformat_minor": 2
}
