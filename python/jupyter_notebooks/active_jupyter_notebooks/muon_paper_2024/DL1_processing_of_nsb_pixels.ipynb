{
 "cells": [
  {
   "cell_type": "code",
   "execution_count": null,
   "metadata": {},
   "outputs": [],
   "source": [
    "import sys\n",
    "sys.path.append('/Users/vdk/Software/code/')\n",
    "import h5py\n",
    "import pandas as pd\n",
    "from astropy.table import Table, vstack\n",
    "import numpy as np\n",
    "from ctapipe.io import EventSource\n",
    "from ctapipe.visualization import CameraDisplay\n",
    "import matplotlib.pyplot as plt\n",
    "import glob\n",
    "from python_modules.muonpipe import usefull_func\n",
    "import seaborn as sns\n",
    "from ctapipe.image import tailcuts_clean\n",
    "import scipy.stats as stats\n",
    "colors = [\n",
    "    '#1f77b4',  # muted blue\n",
    "    '#ff7f0e',  # safety orange\n",
    "    '#2ca02c',  # cooked asparagus green\n",
    "    '#d62728',  # brick red\n",
    "    '#9467bd',  # muted purple\n",
    "    '#e377c2',  # raspberry yogurt pink\n",
    "    '#8c564b',  # chestnut brown\n",
    "    'k'\n",
    "]\n",
    "\n",
    "# Just to have subarray information for plotting purposes\n",
    "filename = '/Users/vdk/muons2024/lapalma_simulations/simtel/zenith10/run101_muon.simtel.gz'\n",
    "source = EventSource(filename, max_events = 5000)\n"
   ]
  },
  {
   "cell_type": "markdown",
   "metadata": {},
   "source": [
    "## Simulation processing"
   ]
  },
  {
   "cell_type": "markdown",
   "metadata": {},
   "source": [
    "### LocalPeakWindowSum"
   ]
  },
  {
   "cell_type": "markdown",
   "metadata": {},
   "source": [
    "Its a standard way how lstchain is processing muon rings in simulations. But for muons in the data lstchain uses GlobalPeakWindowSum"
   ]
  },
  {
   "cell_type": "code",
   "execution_count": null,
   "metadata": {},
   "outputs": [],
   "source": [
    "local_fits_file = '/Users/vdk/muons2024/data/for_comparison/zenith10/local_peak_window_sum/muon_table_run1.fits'\n",
    "local_dl1_file = '/Users/vdk/muons2024/data/for_comparison/zenith10/local_peak_window_sum/dl1_run101_muon.h5'\n",
    "\n",
    "dat = Table.read(local_fits_file, format='fits')\n",
    "dat['good_ring'] = dat['good_ring'].astype(bool)\n",
    "df = dat.to_pandas()\n",
    "df_good_data = df[(df['muon_efficiency'] < 1) & \n",
    "                      (df['size_outside'] < 500)]\n",
    "\n",
    "ring_completeness_cut = 0.8\n",
    "ring_containment_cut = 0.99\n",
    "\n",
    "event_ids = np.array(list(df_good_data['event_id'][(df_good_data['ring_completeness'] > ring_completeness_cut) &\n",
    "                                           (df_good_data['ring_containment'] > ring_containment_cut) &\n",
    "                                            (df_good_data['impact_parameter'] < max_impact) &\n",
    "                                           (df_good_data['impact_parameter'] > min_impact)]))\n",
    "\n",
    "df_sim_data_local = df_good_data[(df_good_data['ring_completeness'] > ring_completeness_cut) &\n",
    "                                           (df_good_data['ring_containment'] > ring_containment_cut) &\n",
    "                                            (df_good_data['impact_parameter'] < max_impact) &\n",
    "                                           (df_good_data['impact_parameter'] > min_impact)]\n",
    "\n",
    "del(df_good_data)\n",
    "\n",
    "local_sim_dl1_image = []\n",
    "local_sim_dl1_peak_time = []\n",
    "local_sim_dl1_image_mask = []\n",
    "with h5py.File(local_dl1_file, 'r') as f:\n",
    "    dataset = f['dl1/event/telescope/image/LST_LSTCam']\n",
    "    data = dataset[:]\n",
    "    \n",
    "    for event_record in data:\n",
    "        if event_record[1] in event_ids:\n",
    "            local_sim_dl1_image.append(event_record[2])\n",
    "            local_sim_dl1_peak_time.append(event_record[3])\n",
    "            local_sim_dl1_image_mask.append(event_record[4])\n",
    "        # This check is added in order to have the same statistic of same quality muon rings in all datasets\n",
    "        if len(local_sim_dl1_image) == 542:\n",
    "            break"
   ]
  },
  {
   "cell_type": "markdown",
   "metadata": {},
   "source": [
    "### Visualisation of first couple of entries"
   ]
  },
  {
   "cell_type": "code",
   "execution_count": null,
   "metadata": {},
   "outputs": [],
   "source": [
    "for i,event in enumerate(local_sim_dl1_image[:10]):\n",
    "        plt.figure(figsize = (12,12))\n",
    "        camgeom = source.subarray.tel[1].camera.geometry\n",
    "        disp = CameraDisplay(camgeom,title='1')\n",
    "        disp.image = event \n",
    "        disp.cmap = plt.cm.RdBu_r\n",
    "        disp.add_colorbar()\n",
    "        disp.set_limits_percent(95)\n",
    "        plt.show()"
   ]
  },
  {
   "cell_type": "markdown",
   "metadata": {},
   "source": [
    "### GlobalPeakWindowSum"
   ]
  },
  {
   "cell_type": "markdown",
   "metadata": {},
   "source": [
    "I specially used other config file with GlobalPeakWindowSum ImageExtractor for the same simtel file to check the difference between different charge extractors"
   ]
  },
  {
   "cell_type": "code",
   "execution_count": null,
   "metadata": {},
   "outputs": [],
   "source": [
    "global_fits_file = '/Users/vdk/muons2024/data/for_comparison/zenith10/global_peak_window_sum/muon_table_run1.fits'\n",
    "global_dl1_file = '/Users/vdk/muons2024/data/for_comparison/zenith10/global_peak_window_sum/dl1_run101_muon.h5'\n",
    "\n",
    "dat = Table.read(global_fits_file, format='fits')\n",
    "dat['good_ring'] = dat['good_ring'].astype(bool)\n",
    "df = dat.to_pandas()\n",
    "df_good_data = df[(df['muon_efficiency'] < 1) & \n",
    "                      (df['size_outside'] < 500)]\n",
    "\n",
    "ring_completeness_cut = 0.8\n",
    "ring_containment_cut = 0.99\n",
    "event_ids = np.array(list(df_good_data['event_id'][(df_good_data['ring_completeness'] > ring_completeness_cut) &\n",
    "                                           (df_good_data['ring_containment'] > ring_containment_cut) &\n",
    "                                            (df_good_data['impact_parameter'] < max_impact) &\n",
    "                                           (df_good_data['impact_parameter'] > min_impact)]))\n",
    "\n",
    "df_sim_data_global = df_good_data[(df_good_data['ring_completeness'] > ring_completeness_cut) &\n",
    "                                           (df_good_data['ring_containment'] > ring_containment_cut) &\n",
    "                                           (df_good_data['impact_parameter'] < max_impact) &\n",
    "                                           (df_good_data['impact_parameter'] > min_impact)]\n",
    "\n",
    "global_sim_dl1_image = []\n",
    "global_sim_dl1_peak_time = []\n",
    "global_sim_dl1_image_mask = []\n",
    "with h5py.File(global_dl1_file, 'r') as f:\n",
    "    dataset = f['dl1/event/telescope/image/LST_LSTCam']\n",
    "    data = dataset[:]\n",
    "    \n",
    "    for event_record in data:\n",
    "        if event_record[1] in event_ids:\n",
    "            global_sim_dl1_image.append(event_record[2])\n",
    "            global_sim_dl1_peak_time.append(event_record[3])\n",
    "            global_sim_dl1_image_mask.append(event_record[4])\n",
    "        if len(global_sim_dl1_image) == 542:\n",
    "            break\n"
   ]
  },
  {
   "cell_type": "code",
   "execution_count": null,
   "metadata": {},
   "outputs": [],
   "source": [
    "for i,event in enumerate(global_sim_dl1_image[:10]):\n",
    "        plt.figure(figsize = (12,12))\n",
    "        camgeom = source.subarray.tel[1].camera.geometry\n",
    "        disp = CameraDisplay(camgeom,title='1')\n",
    "        disp.image = event\n",
    "        disp.cmap = plt.cm.RdBu_r\n",
    "        disp.add_colorbar()\n",
    "        disp.set_limits_percent(95)\n",
    "        plt.show()"
   ]
  },
  {
   "cell_type": "markdown",
   "metadata": {},
   "source": [
    "### NSB Tuned simulation (GlobalPeakWindowSum)"
   ]
  },
  {
   "cell_type": "code",
   "execution_count": null,
   "metadata": {},
   "outputs": [],
   "source": [
    "fits_file = '/Users/vdk/muons2024/data/for_comparison/nsb_tuning/0.44nsb/muon_table_run1.fits'\n",
    "\n",
    "dat = Table.read(fits_file, format='fits')\n",
    "dat['good_ring'] = dat['good_ring'].astype(bool)\n",
    "df = dat.to_pandas()\n",
    "df_good_data = df[(df['muon_efficiency'] < 1) & \n",
    "                      (df['size_outside'] < 500)]\n",
    "\n",
    "ring_completeness_cut = 0.8\n",
    "ring_containment_cut = 0.99\n",
    "\n",
    "df_sim_data_nsb1data_tuned = df_good_data[(df_good_data['ring_completeness'] > ring_completeness_cut) &\n",
    "                                           (df_good_data['ring_containment'] > ring_containment_cut) &\n",
    "                                            (df_good_data['impact_parameter'] < max_impact) &\n",
    "                                           (df_good_data['impact_parameter'] > min_impact)]\n",
    "\n",
    "event_ids = np.array(list(df_good_data['event_id'][(df_good_data['ring_completeness'] > ring_completeness_cut) &\n",
    "                                           (df_good_data['ring_containment'] > ring_containment_cut) &\n",
    "                                            (df_good_data['impact_parameter'] < max_impact) &\n",
    "                                           (df_good_data['impact_parameter'] > min_impact)]))\n",
    "\n",
    "nsb_tuned_dl1_file = '/Users/vdk/muons2024/data/for_comparison/nsb_tuning/0.44nsb//dl1_run101_muon.h5'\n",
    "nsb1data_tuned_sim_dl1_image = []\n",
    "nsb1data_tuned_sim_dl1_peak_time = []\n",
    "nsb1data_tuned_sim_dl1_image_mask = []\n",
    "with h5py.File(nsb_tuned_dl1_file, 'r') as f:\n",
    "    dataset = f['dl1/event/telescope/image/LST_LSTCam']\n",
    "    data = dataset[:]\n",
    "    \n",
    "    for event_record in data:\n",
    "        if event_record[1] in event_ids:\n",
    "            nsb1data_tuned_sim_dl1_image.append(event_record[2])\n",
    "            nsb1data_tuned_sim_dl1_peak_time.append(event_record[3])\n",
    "            nsb1data_tuned_sim_dl1_image_mask.append(event_record[4])\n",
    "        if len(nsb1data_tuned_sim_dl1_image) == 542:\n",
    "            break\n",
    "\n"
   ]
  },
  {
   "cell_type": "markdown",
   "metadata": {},
   "source": [
    "### NSB tuned on DL1"
   ]
  },
  {
   "cell_type": "code",
   "execution_count": null,
   "metadata": {},
   "outputs": [],
   "source": [
    "fits_file = '/Users/vdk/muons2024/data/17043/nsb_tuning_dl1/muon_fits_tuned_2.fits'\n",
    "dat = Table.read(fits_file, format='fits')\n",
    "dat['good_ring'] = dat['good_ring'].astype(bool)\n",
    "df = dat.to_pandas()\n",
    "df_good_data = df[(df['muon_efficiency'] < 1) & \n",
    "                      (df['size_outside'] < 500)]\n",
    "\n",
    "df_good_data\n",
    "\n",
    "ring_completeness_cut = 0.8\n",
    "ring_containment_cut = 0.99\n",
    "\n",
    "df_sim_data_nsb3data_tuned = df_good_data[(df_good_data['ring_completeness'] > ring_completeness_cut) &\n",
    "                                           (df_good_data['ring_containment'] > ring_containment_cut) &\n",
    "                                            (df_good_data['impact_parameter'] < max_impact) &\n",
    "                                           (df_good_data['impact_parameter'] > min_impact)]\n",
    "\n",
    "event_ids = np.array(list(df_good_data['event_id'][(df_good_data['ring_completeness'] > ring_completeness_cut) &\n",
    "                                           (df_good_data['ring_containment'] > ring_containment_cut) &\n",
    "                                            (df_good_data['impact_parameter'] < max_impact) &\n",
    "                                           (df_good_data['impact_parameter'] > min_impact)]))\n",
    "\n",
    "nsb_tuned_dl1_file = '/Users/vdk/muons2024/data/17043/nsb_tuning_dl1/tuned.h5'\n",
    "nsbDL1data_tuned_sim_dl1_image = []\n",
    "nsbDL1data_tuned_sim_dl1_peak_time = []\n",
    "nsbDL1data_tuned_sim_dl1_image_mask = []\n",
    "with h5py.File(nsb_tuned_dl1_file, 'r') as f:\n",
    "    dataset = f['dl1/event/telescope/image/LST_LSTCam']\n",
    "    data = dataset[:]\n",
    "    \n",
    "    for event_record in data:\n",
    "        if event_record[1] in event_ids:\n",
    "            nsbDL1data_tuned_sim_dl1_image.append(event_record[2])\n",
    "            nsbDL1data_tuned_sim_dl1_peak_time.append(event_record[3])\n",
    "            nsbDL1data_tuned_sim_dl1_image_mask.append(event_record[4])\n",
    "        if len(nsbDL1data_tuned_sim_dl1_image) == 542:\n",
    "            break"
   ]
  },
  {
   "cell_type": "markdown",
   "metadata": {},
   "source": [
    "#### NSB tuned but with LocalPeak"
   ]
  },
  {
   "cell_type": "code",
   "execution_count": null,
   "metadata": {},
   "outputs": [],
   "source": [
    "fits_file = '/Users/vdk/muons2024/data/for_comparison/nsb_tuning/0.44nsb_local_peak/muon_table_run1.fits'\n",
    "\n",
    "dat = Table.read(fits_file, format='fits')\n",
    "dat['good_ring'] = dat['good_ring'].astype(bool)\n",
    "df = dat.to_pandas()\n",
    "df_good_data = df[(df['muon_efficiency'] < 1) & \n",
    "                      (df['size_outside'] < 500)]\n",
    "\n",
    "df_good_data\n",
    "\n",
    "ring_completeness_cut = 0.8\n",
    "ring_containment_cut = 0.99\n",
    "\n",
    "df_sim_data_nsb3data_tuned = df_good_data[(df_good_data['ring_completeness'] > ring_completeness_cut) &\n",
    "                                           (df_good_data['ring_containment'] > ring_containment_cut) &\n",
    "                                            (df_good_data['impact_parameter'] < max_impact) &\n",
    "                                           (df_good_data['impact_parameter'] > min_impact)]\n",
    "\n",
    "event_ids = np.array(list(df_good_data['event_id'][(df_good_data['ring_completeness'] > ring_completeness_cut) &\n",
    "                                           (df_good_data['ring_containment'] > ring_containment_cut) &\n",
    "                                            (df_good_data['impact_parameter'] < max_impact) &\n",
    "                                           (df_good_data['impact_parameter'] > min_impact)]))\n",
    "\n",
    "nsb_tuned_local_peak_file = '/Users/vdk/muons2024/data/for_comparison/nsb_tuning/0.44nsb_local_peak/dl1_run101_muon.h5'\n",
    "nsb_tuned_local_peak_dl1_image = []\n",
    "nsb_tuned_local_peak_peak_time = []\n",
    "nsb_tuned_local_peak_image_mask = []\n",
    "with h5py.File(nsb_tuned_local_peak_file, 'r') as f:\n",
    "    dataset = f['dl1/event/telescope/image/LST_LSTCam']\n",
    "    data = dataset[:]\n",
    "    \n",
    "    for event_record in data:\n",
    "        if event_record[1] in event_ids:\n",
    "            nsb_tuned_local_peak_dl1_image.append(event_record[2])\n",
    "            nsb_tuned_local_peak_peak_time.append(event_record[3])\n",
    "            nsb_tuned_local_peak_image_mask.append(event_record[4])\n",
    "        if len(nsb_tuned_local_peak_dl1_image)  == 542:\n",
    "            break"
   ]
  },
  {
   "cell_type": "markdown",
   "metadata": {},
   "source": [
    "### Mirror degraded relfection tuned sim"
   ]
  },
  {
   "cell_type": "markdown",
   "metadata": {},
   "source": [
    "##### Nominal mirror degraded reflection is multiplied by 1.2"
   ]
  },
  {
   "cell_type": "code",
   "execution_count": null,
   "metadata": {},
   "outputs": [],
   "source": [
    "fits_file = '/Users/vdk/muons2024/data/for_comparison/global_peak_window_sum/degraded_reflection_1.2/muon_table_run1.fits'\n",
    "\n",
    "\n",
    "dat = Table.read(fits_file, format='fits')\n",
    "dat['good_ring'] = dat['good_ring'].astype(bool)\n",
    "df = dat.to_pandas()\n",
    "df_good_data = df[(df['muon_efficiency'] < 1) & \n",
    "                      (df['size_outside'] < 500)]\n",
    "\n",
    "df_good_data\n",
    "\n",
    "ring_completeness_cut = 0.8\n",
    "ring_containment_cut = 0.99\n",
    "\n",
    "df_sim_data_reflection_09408 = df_good_data[(df_good_data['ring_completeness'] > ring_completeness_cut) &\n",
    "                                           (df_good_data['ring_containment'] > ring_containment_cut) &\n",
    "                                            (df_good_data['impact_parameter'] < max_impact) &\n",
    "                                           (df_good_data['impact_parameter'] > min_impact)]\n",
    "\n",
    "event_ids = np.array(list(df_good_data['event_id'][(df_good_data['ring_completeness'] > ring_completeness_cut) &\n",
    "                                           (df_good_data['ring_containment'] > ring_containment_cut) &\n",
    "                                            (df_good_data['impact_parameter'] < max_impact) &\n",
    "                                           (df_good_data['impact_parameter'] > min_impact)]))\n",
    "\n",
    "\n",
    "relection_dl1_file = '/Users/vdk/muons2024/data/for_comparison/global_peak_window_sum/degraded_reflection_1.2/dl1_run101_muon.h5'\n",
    "reflection09408_sim_dl1_image = []\n",
    "reflection09408_sim_dl1_peak_time = []\n",
    "reflection09408_sim_dl1_image_mask = []\n",
    "with h5py.File(nsb_tuned_dl1_file, 'r') as f:\n",
    "    # Access the dataset\n",
    "    dataset = f['dl1/event/telescope/image/LST_LSTCam']\n",
    "    \n",
    "    # Read the data\n",
    "    data = dataset[:]\n",
    "    \n",
    "    for event_record in data:\n",
    "        if event_record[1] in event_ids:\n",
    "            reflection09408_sim_dl1_image.append(event_record[2])\n",
    "            reflection09408_sim_dl1_peak_time.append(event_record[3])\n",
    "            reflection09408_sim_dl1_image_mask.append(event_record[4])\n",
    "        if len(reflection09408_sim_dl1_image) == 542:\n",
    "            break"
   ]
  },
  {
   "cell_type": "markdown",
   "metadata": {},
   "source": [
    "##### Nominal mirror degraded reflection is multiplied by 1.1"
   ]
  },
  {
   "cell_type": "code",
   "execution_count": null,
   "metadata": {},
   "outputs": [],
   "source": [
    "fits_file = '/Users/vdk/muons2024/data/for_comparison/global_peak_window_sum/degraded_reflection_1.1/muon_table_run1.fits'\n",
    "\n",
    "\n",
    "dat = Table.read(fits_file, format='fits')\n",
    "dat['good_ring'] = dat['good_ring'].astype(bool)\n",
    "df = dat.to_pandas()\n",
    "df_good_data = df[(df['muon_efficiency'] < 1) & \n",
    "                      (df['size_outside'] < 500)]\n",
    "\n",
    "df_good_data\n",
    "\n",
    "ring_completeness_cut = 0.8\n",
    "ring_containment_cut = 0.99\n",
    "\n",
    "df_sim_data_reflection_08624 = df_good_data[(df_good_data['ring_completeness'] > ring_completeness_cut) &\n",
    "                                           (df_good_data['ring_containment'] > ring_containment_cut) &\n",
    "                                            (df_good_data['impact_parameter'] < max_impact) &\n",
    "                                           (df_good_data['impact_parameter'] > min_impact)]\n",
    "\n",
    "event_ids = np.array(list(df_good_data['event_id'][(df_good_data['ring_completeness'] > ring_completeness_cut) &\n",
    "                                           (df_good_data['ring_containment'] > ring_containment_cut) &\n",
    "                                            (df_good_data['impact_parameter'] < max_impact) &\n",
    "                                           (df_good_data['impact_parameter'] > min_impact)]))\n",
    "\n",
    "fits_file = '/Users/vdk/muons2024/data/for_comparison/global_peak_window_sum/degraded_reflection-9016/muon_table_run1.fits'\n",
    "\n",
    "\n",
    "dat = Table.read(fits_file, format='fits')\n",
    "dat['good_ring'] = dat['good_ring'].astype(bool)\n",
    "df = dat.to_pandas()\n",
    "df_good_data = df[(df['muon_efficiency'] < 1) & \n",
    "                      (df['size_outside'] < 500)]\n",
    "\n",
    "df_good_data\n",
    "\n",
    "ring_completeness_cut = 0.8\n",
    "ring_containment_cut = 0.99\n",
    "\n",
    "df_sim_data_reflection_09016 = df_good_data[(df_good_data['ring_completeness'] > ring_completeness_cut) &\n",
    "                                           (df_good_data['ring_containment'] > ring_containment_cut) &\n",
    "                                            (df_good_data['impact_parameter'] < max_impact) &\n",
    "                                           (df_good_data['impact_parameter'] > min_impact)]\n",
    "\n",
    "event_ids = np.array(list(df_good_data['event_id'][(df_good_data['ring_completeness'] > ring_completeness_cut) &\n",
    "                                           (df_good_data['ring_containment'] > ring_containment_cut) &\n",
    "                                            (df_good_data['impact_parameter'] < max_impact) &\n",
    "                                           (df_good_data['impact_parameter'] > min_impact)]))\n",
    "\n"
   ]
  },
  {
   "cell_type": "markdown",
   "metadata": {},
   "source": [
    "### Processing of data"
   ]
  },
  {
   "cell_type": "markdown",
   "metadata": {},
   "source": [
    "### Choose ID of muon events for further processing of .h5 files to get dl1 images\n",
    "\n",
    "Its useful to do in such way, because .fits file are small, and h5 files take shitload amount of memory"
   ]
  },
  {
   "cell_type": "code",
   "execution_count": null,
   "metadata": {},
   "outputs": [],
   "source": [
    "fits_file = '/Users/vdk/muons2024/data/20240310fits/muons_LST-1.Run17043.fits'\n",
    "\n",
    "dat = Table.read(fits_file, format='fits')\n",
    "dat['good_ring'] = dat['good_ring'].astype(bool)\n",
    "df = dat.to_pandas()\n",
    "df_good_data = df[(df['muon_efficiency'] < 1) & \n",
    "                      (df['size_outside'] < 500)]\n",
    "\n",
    "# This cuts value were choosen in order to get relatively good rings, and still have decent statistic out of one run, e.g. around 1k of events\n",
    "ring_completeness_cut = 0.8\n",
    "ring_containment_cut = 0.99\n",
    "event_ids = np.array(list(df_good_data['event_id'][(df_good_data['ring_completeness'] > ring_completeness_cut) &\n",
    "                                           (df_good_data['ring_containment'] > ring_containment_cut)]))\n",
    "\n",
    "# This is required for further cuts in the simulations\n",
    "min_impact = min(df_good_data['impact_parameter'])\n",
    "max_impact = max(df_good_data['impact_parameter']) \n",
    "\n",
    "filename_event_ids = '/Users/vdk/muons2024/data/17043_muons_08complet.txt'\n",
    "#np.save(filename_event_ids, event_ids)\n",
    "\n",
    "df_real_data = df_good_data[(df_good_data['ring_completeness'] > ring_completeness_cut) &\n",
    "                                           (df_good_data['ring_containment'] > ring_containment_cut)]\n",
    "\n",
    "df_real_data"
   ]
  },
  {
   "cell_type": "markdown",
   "metadata": {},
   "source": [
    "Now based on choosen event id I choosed the required images on the cluster\n"
   ]
  },
  {
   "cell_type": "markdown",
   "metadata": {},
   "source": [
    "TODO : add the link to the script which did it"
   ]
  },
  {
   "cell_type": "code",
   "execution_count": null,
   "metadata": {},
   "outputs": [],
   "source": [
    "image_folder = glob.glob('/Users/vdk/muons2024/data/17043/dl1_image/*')\n",
    "mask_folder = glob.glob('/Users/vdk/muons2024/data/17043/dl1_mask/*')\n",
    "peak_folder = glob.glob('/Users/vdk/muons2024/data/17043/dl1_peak/*')\n",
    "\n",
    "data_dl1_images = []\n",
    "data_dl1_mask = []\n",
    "data_dl1_peak = []\n",
    "\n",
    "for file in image_folder:\n",
    "    tmp_result = np.load(file)\n",
    "    data_dl1_images.append(tmp_result)\n",
    "\n",
    "for file in mask_folder:\n",
    "    tmp_result = np.load(file)\n",
    "    data_dl1_mask.append(tmp_result)\n",
    "\n",
    "for file in peak_folder:\n",
    "    tmp_result = np.load(file)\n",
    "    data_dl1_peak.append(tmp_result)"
   ]
  },
  {
   "cell_type": "markdown",
   "metadata": {},
   "source": [
    "#### Plots with images"
   ]
  },
  {
   "cell_type": "code",
   "execution_count": null,
   "metadata": {},
   "outputs": [],
   "source": [
    "for i,event in enumerate(data_dl1_images[:20]):\n",
    "        plt.figure(figsize = (12,12))\n",
    "        camgeom = source.subarray.tel[1].camera.geometry\n",
    "        disp = CameraDisplay(camgeom,title='1')\n",
    "        disp.image = event \n",
    "        disp.cmap = plt.cm.RdBu_r\n",
    "        disp.add_colorbar()\n",
    "        disp.set_limits_percent(95)\n",
    "        plt.show()"
   ]
  },
  {
   "cell_type": "markdown",
   "metadata": {},
   "source": []
  },
  {
   "cell_type": "code",
   "execution_count": null,
   "metadata": {},
   "outputs": [],
   "source": []
  },
  {
   "cell_type": "markdown",
   "metadata": {},
   "source": [
    "#### Additional cleaning because for simulations in lstchain are used other thresholds"
   ]
  },
  {
   "cell_type": "code",
   "execution_count": null,
   "metadata": {},
   "outputs": [],
   "source": [
    "new_data_mask = []\n",
    "for image in data_dl1_images:\n",
    "    mask = tailcuts_clean(camgeom, image, picture_thresh=10, boundary_thresh=5)\n",
    "    new_data_mask.append(mask)\n",
    "    \n",
    "new_sim_mask = []\n",
    "for image in nsb1data_tuned_sim_dl1_image:\n",
    "    mask = tailcuts_clean(camgeom, image, picture_thresh=10, boundary_thresh=5)\n",
    "    new_sim_mask.append(mask)\n",
    "\n",
    "new_sim_mask_global = []\n",
    "for image in global_sim_dl1_image:\n",
    "    mask = tailcuts_clean(camgeom, image, picture_thresh=10, boundary_thresh=5)\n",
    "    new_sim_mask_global.append(mask)\n",
    "\n",
    "    \n",
    "new_local_tune_subrun_mask = []\n",
    "for image in nsb_tuned_local_peak_dl1_image:\n",
    "    mask = tailcuts_clean(camgeom, image, picture_thresh=10, boundary_thresh=5)\n",
    "    new_local_tune_subrun_mask.append(mask)"
   ]
  },
  {
   "cell_type": "markdown",
   "metadata": {},
   "source": [
    "#### Creation of charge arrays with nsb and signal"
   ]
  },
  {
   "cell_type": "code",
   "execution_count": null,
   "metadata": {},
   "outputs": [],
   "source": [
    "flattened_sim_local = np.array(local_sim_dl1_image).flatten()\n",
    "flattened_sim_global = np.array(global_sim_dl1_image).flatten()\n",
    "flattened_sim_nsb = np.array(nsb1data_tuned_sim_dl1_image[:2000]).flatten()\n",
    "flattened_sim_nsb_local = np.array(nsb_tuned_local_peak_dl1_image).flatten()\n",
    "flattened_data = np.array(data_dl1_images).flatten()\n",
    "flattened_sim_nsbDL1data = np.array(nsbDL1data_tuned_sim_dl1_image[:600]).flatten()\n",
    "\n",
    "\n",
    "data_masks_flat = np.array(new_data_mask).flatten()\n",
    "global_sim_masks_flat = np.array(new_sim_mask_global).flatten()\n",
    "nsb_tuned_sim_masks_flat = np.array(new_sim_mask).flatten()\n",
    "nsb_tuned_local_sim_masks_flat = np.array(new_local_tune_subrun_mask).flatten()\n",
    "nsbDL1data_tuned_sim_masks_flat = np.array(nsbDL1data_tuned_sim_dl1_image_mask).flatten()\n",
    "\n",
    "# Separate pixel values based on the mask\n",
    "data_pixels_with_mask_1 = flattened_data[data_masks_flat == 1]\n",
    "data_pixels_with_mask_0 = flattened_data[data_masks_flat == 0]\n",
    "\n",
    "\n",
    "global_sim_pixels_with_mask_1 = flattened_sim_global[global_sim_masks_flat == 1]\n",
    "global_sim_pixels_with_mask_0 = flattened_sim_global[global_sim_masks_flat == 0]\n",
    "\n",
    "nsb_tuned_sim_pixels_with_mask_1 = flattened_sim_nsb[nsb_tuned_sim_masks_flat == 1]\n",
    "nsb_tuned_sim_pixels_with_mask_0 = flattened_sim_nsb[nsb_tuned_sim_masks_flat == 0] \n",
    "\n",
    "nsb_tuned_local_pixels_with_mask_1 = flattened_sim_nsb_local[nsb_tuned_local_sim_masks_flat == 1]\n",
    "nsb_tuned_local_pixels_with_mask_0 = flattened_sim_nsb_local[nsb_tuned_local_sim_masks_flat == 0] \n",
    "\n",
    "nsbDL1data_tuned_sim_pixels_with_mask_1 = flattened_sim_nsbDL1data[nsbDL1data_tuned_sim_masks_flat == 1]\n",
    "nsbDL1data_tuned_sim_pixels_with_mask_0 = flattened_sim_nsbDL1data[nsbDL1data_tuned_sim_masks_flat == 0]\n",
    "   "
   ]
  },
  {
   "cell_type": "markdown",
   "metadata": {},
   "source": [
    "#### Pixels with signal"
   ]
  },
  {
   "cell_type": "code",
   "execution_count": null,
   "metadata": {},
   "outputs": [],
   "source": [
    "plt.figure(figsize=(16,11))\n",
    "\n",
    "usefull_func.hist_wo_outliers(\n",
    "    data_pixels_with_mask_1, \n",
    "    label = 'Data', \n",
    "    density=True, \n",
    "    mean_line=False, \n",
    "    show_outliers=True, \n",
    "    outlier_value=30,\n",
    "    bins = 1855,\n",
    "    color = colors[0], \n",
    "    alpha = 0.6\n",
    ")\n",
    "usefull_func.hist_wo_outliers(\n",
    "    nsb_tuned_sim_pixels_with_mask_1, \n",
    "    label = 'Simulations with Tuned NSB', \n",
    "    density=True, \n",
    "    mean_line=False, \n",
    "    show_outliers=True, \n",
    "    outlier_value=30, \n",
    "    bins = 1855,\n",
    "    color = colors[1], \n",
    "    alpha = 0.4\n",
    ")\n",
    "usefull_func.hist_wo_outliers(\n",
    "    global_sim_pixels_with_mask_1, \n",
    "    label = 'Simulations With NSB 0.24GHz', \n",
    "    density=True, \n",
    "    mean_line=False, \n",
    "    show_outliers=True, \n",
    "    outlier_value=30, \n",
    "    bins = 1855,\n",
    "    color = colors[2], \n",
    "    alpha = 0.4\n",
    ")\n",
    "\n",
    "plt.xlabel('Charge per pixel', fontsize = 14)\n",
    "plt.ylabel('Probability density', fontsize = 14)\n",
    "plt.ylim(0,0.5)\n",
    "#plt.title(\"Charge per pixel only for pixels with signal\")\n",
    "plt.legend(prop={'size': 14})\n",
    "#plt.savefig('/Users/vdk/muons2024/images/PlanPaper/dl1_hist_pixel_charge_signal.pdf', dpi=200, format='pdf', bbox_inches='tight')"
   ]
  },
  {
   "cell_type": "markdown",
   "metadata": {},
   "source": [
    "#### Pixels with NSB"
   ]
  },
  {
   "cell_type": "code",
   "execution_count": null,
   "metadata": {},
   "outputs": [],
   "source": [
    "plt.figure(figsize=(12,12))\n",
    "\n",
    "usefull_func.hist_wo_outliers(\n",
    "    data_pixels_with_mask_0, \n",
    "    label = 'Run17043', \n",
    "    density=True, \n",
    "    show_outliers=False, \n",
    "    outlier_value=30, \n",
    "    bins = 1855, \n",
    "    color = colors[0], \n",
    "    alpha = 0.6)\n",
    "\n",
    "usefull_func.hist_wo_outliers(\n",
    "    global_sim_pixels_with_mask_0, \n",
    "    label = 'Simulation with 0.24GHz NSB (standard value)', \n",
    "    density=True, \n",
    "    mean_line=False, \n",
    "    show_outliers=True, \n",
    "    outlier_value=30, \n",
    "    bins = 1855, \n",
    "    color = colors[6], \n",
    "    alpha = 0.5\n",
    ")\n",
    "\n",
    "usefull_func.hist_wo_outliers(\n",
    "    nsb_tuned_sim_pixels_with_mask_0, \n",
    "    label = 'Simulations with NSB tuned on the waveforms', \n",
    "    density=True, \n",
    "    mean_line=False, \n",
    "    show_outliers=True, \n",
    "    outlier_value=30, \n",
    "    bins = 1855, \n",
    "    color = colors[1], \n",
    "    alpha = 0.6\n",
    ")\n",
    "\n",
    "usefull_func.hist_wo_outliers(\n",
    "    nsbDL1data_tuned_sim_pixels_with_mask_0, \n",
    "    label = 'Simulations with NSB tuned on the DL1 level', \n",
    "    density=True, \n",
    "    mean_line=False, \n",
    "    show_outliers=True, \n",
    "    outlier_value=30, \n",
    "    bins = 1855, \n",
    "    color = colors[3], \n",
    "    alpha = 0.5\n",
    ")\n",
    "\n",
    "usefull_func.hist_wo_outliers(\n",
    "    nsb_tuned_local_pixels_with_mask_0, \n",
    "    label = 'Tuned local peak window sum', \n",
    "    density=True, \n",
    "    mean_line=False, \n",
    "    show_outliers=True, \n",
    "    outlier_value=30, \n",
    "    bins = 1855, \n",
    "    color = colors[4], \n",
    "    alpha = 0.6\n",
    ")\n",
    "\n",
    "\n",
    "plt.xlabel('Charge per pixel', fontsize = 14)\n",
    "plt.ylabel('Probability density', fontsize = 14)\n",
    "plt.ylim(0,0.45)\n",
    "#plt.title(\"Charge per pixel for pixels without signal\")\n",
    "plt.legend(prop={'size': 15})\n",
    "#plt.savefig('/Users/vdk/muons2024/images/PlanPaper/dl1_hist_pixel_charge_no_signal_nsbtuned_clean.pdf', dpi=200, format='pdf', bbox_inches='tight')"
   ]
  },
  {
   "cell_type": "markdown",
   "metadata": {},
   "source": [
    "#### Check how cleaning is choosing the pixels"
   ]
  },
  {
   "cell_type": "code",
   "execution_count": null,
   "metadata": {},
   "outputs": [],
   "source": [
    "for test_image in data_dl1_images[:10]:\n",
    "    mask = tailcuts_clean(camgeom, test_image, picture_thresh=10, boundary_thresh=5)\n",
    "    fig, ax = plt.subplots(1, 2, figsize=(10, 4))\n",
    "    disp = CameraDisplay(\n",
    "        camgeom, image=test_image, cmap=\"gray\", ax = ax[0], title=\"Pixels with signal\"\n",
    "    )\n",
    "    disp.highlight_pixels(mask, alpha=0.8, linewidth=2, color=\"green\")\n",
    "    disp = CameraDisplay(\n",
    "        camgeom, image=test_image, cmap=\"gray\", ax = ax[1], title=\"Pixels without signal\"\n",
    "    )\n",
    "    disp.highlight_pixels(~mask, alpha=0.8, linewidth=2, color=\"green\")\n",
    "\n",
    "plt.close()"
   ]
  },
  {
   "cell_type": "code",
   "execution_count": null,
   "metadata": {},
   "outputs": [],
   "source": [
    "for test_image in global_sim_dl1_image[:10]:\n",
    "    mask = tailcuts_clean(camgeom, test_image, picture_thresh=10, boundary_thresh=5)\n",
    "    fig, ax = plt.subplots(1, 2, figsize=(10, 4))\n",
    "    disp = CameraDisplay(\n",
    "        camgeom, image=test_image, cmap=\"gray\", ax = ax[0], title=\"Pixels with signal\"\n",
    "    )\n",
    "    disp.highlight_pixels(mask, alpha=0.8, linewidth=2, color=\"green\")\n",
    "    disp = CameraDisplay(\n",
    "        camgeom, image=test_image, cmap=\"gray\", ax = ax[1], title=\"Pixels without signal\"\n",
    "    )\n",
    "    disp.highlight_pixels(~mask, alpha=0.8, linewidth=2, color=\"green\")\n",
    "\n",
    "plt.close()"
   ]
  },
  {
   "cell_type": "code",
   "execution_count": null,
   "metadata": {},
   "outputs": [],
   "source": [
    "for test_image in nsb1data_tuned_sim_dl1_image[:10]:\n",
    "    mask = tailcuts_clean(camgeom, test_image, picture_thresh=10, boundary_thresh=5)\n",
    "    fig, ax = plt.subplots(1, 2, figsize=(10, 4))\n",
    "    disp = CameraDisplay(\n",
    "        camgeom, image=test_image, cmap=\"gray\", ax = ax[0], title=\"Pixels with signal\"\n",
    "    )\n",
    "    disp.highlight_pixels(mask, alpha=0.8, linewidth=2, color=\"green\")\n",
    "    disp = CameraDisplay(\n",
    "        camgeom, image=test_image, cmap=\"gray\", ax = ax[1], title=\"Pixels without signal\"\n",
    "    )\n",
    "    disp.highlight_pixels(~mask, alpha=0.8, linewidth=2, color=\"green\")"
   ]
  },
  {
   "cell_type": "markdown",
   "metadata": {},
   "source": [
    "#### Visual comparison of how NSB level differs in DL1 images for data and sim"
   ]
  },
  {
   "cell_type": "markdown",
   "metadata": {},
   "source": [
    "By setting the max amplitude of the pixel representation we can see in more details the brightness of particular pixels"
   ]
  },
  {
   "cell_type": "code",
   "execution_count": null,
   "metadata": {},
   "outputs": [],
   "source": [
    "max_limit = 6\n",
    "fig, ax = plt.subplots(1, 2, figsize=(18, 10))\n",
    "camgeom = source.subarray.tel[1].camera.geometry\n",
    "disp = CameraDisplay(\n",
    "    camgeom, image=nsb1data_tuned_sim_dl1_image[2], cmap=plt.cm.RdBu_r, ax = ax[0], title=\"DL1 image of NSB tuned simulations\"\n",
    ")\n",
    "#disp.set_limits_percent(20)\n",
    "disp.set_limits_minmax(0,max_limit)\n",
    "disp.add_colorbar()\n",
    "disp = CameraDisplay(\n",
    "    camgeom, image=data_dl1_images[2], cmap=plt.cm.RdBu_r, ax = ax[1], title=\"DL1 image of the data to which the NSB was tuned\"\n",
    ")\n",
    "\n",
    "disp.add_colorbar()\n",
    "disp.set_limits_minmax(0,max_limit)\n",
    "#plt.savefig(f\"/Users/vdk/TrurImageCheckCOG{i}_COG=0_fitWrong\")\n",
    "plt.show()"
   ]
  },
  {
   "cell_type": "code",
   "execution_count": null,
   "metadata": {},
   "outputs": [],
   "source": []
  }
 ],
 "metadata": {
  "kernelspec": {
   "display_name": "cta-dev",
   "language": "python",
   "name": "python3"
  },
  "language_info": {
   "codemirror_mode": {
    "name": "ipython",
    "version": 3
   },
   "file_extension": ".py",
   "mimetype": "text/x-python",
   "name": "python",
   "nbconvert_exporter": "python",
   "pygments_lexer": "ipython3",
   "version": "3.10.14"
  }
 },
 "nbformat": 4,
 "nbformat_minor": 2
}
