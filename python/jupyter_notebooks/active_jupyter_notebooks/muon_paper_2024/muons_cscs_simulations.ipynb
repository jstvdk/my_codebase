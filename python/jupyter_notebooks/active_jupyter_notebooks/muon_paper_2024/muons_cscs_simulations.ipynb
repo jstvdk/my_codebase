{
 "cells": [
  {
   "cell_type": "code",
   "execution_count": null,
   "metadata": {},
   "outputs": [],
   "source": [
    "from astropy.table import Table, vstack\n",
    "from astropy.io import fits\n",
    "import seaborn as sns\n",
    "import glob\n",
    "import matplotlib.pyplot as plt\n",
    "from python_modules.muonpipe import usefull_func\n",
    "import numpy as np\n",
    "import pandas as pd\n",
    "from python_modules.muonpipe.usefull_func import hist_wo_outliers, atmo_thick\n",
    "\n",
    "size_outside = 400 # phe"
   ]
  },
  {
   "cell_type": "code",
   "execution_count": null,
   "metadata": {},
   "outputs": [],
   "source": [
    "filepath = '/Users/vdk/muons2024/cscs_simulations/muon_table_run2.fits'\n",
    "dat = Table.read(filepath)\n",
    "df = dat.to_pandas()\n",
    "df_good_data = df[df['good_ring']]\n",
    "\n",
    "df_good_data.columns\n",
    "np.mean(df_good_data['muon_efficiency'])"
   ]
  },
  {
   "cell_type": "code",
   "execution_count": null,
   "metadata": {},
   "outputs": [],
   "source": [
    "listdir = glob.glob('/Users/vdk/muons2024/cscs_simulations/tables_large_lst_muons/*')\n",
    "listdir2 = glob.glob('/Users/vdk/muons2024/cscs_simulations/muons_zenith0/*')\n",
    "# Muons analyzed using GlobalPeakWindowSum\n",
    "listdir=listdir+listdir2\n",
    "dat = Table.read('{}'.format(listdir[0]), format='fits')\n",
    "\n",
    "for muon_file in listdir:\n",
    "    dat2 = Table.read(muon_file, format='fits')\n",
    "    dat = vstack([dat, dat2])\n",
    "\n",
    "        \n",
    "df = dat.to_pandas()\n",
    "df_good_data = df[df['good_ring']]\n",
    "np.mean(df_good_data['muon_efficiency'])"
   ]
  },
  {
   "cell_type": "code",
   "execution_count": null,
   "metadata": {},
   "outputs": [],
   "source": [
    "new_df = df_good_data[df_good_data['muon_efficiency'] < 1]\n",
    "new_df"
   ]
  },
  {
   "cell_type": "code",
   "execution_count": null,
   "metadata": {},
   "outputs": [],
   "source": [
    "hist_wo_outliers(new_df['muon_efficiency'], outlier_value=5)"
   ]
  },
  {
   "cell_type": "code",
   "execution_count": null,
   "metadata": {},
   "outputs": [],
   "source": [
    "plt.figure(figsize=(12,12))\n",
    "plt.scatter(new_df['impact_x_array'], new_df['impact_y_array'], alpha = 0.1, s = 1, marker = 'x')\n",
    "plt.xlabel(\"Impact parameter X [m]\")\n",
    "plt.ylabel(\"Impact parameter Y [m]\")\n",
    "plt.title(\"Reconstructed impact points of the muons on the LST mirror, transparency of dots = 0.1, 4e5 events\")\n",
    "plt.savefig('/Users/vdk/muons2024/images/plots_for_talk/ImpactParameter_Simulations_zenith0.png', dpi=200, format='png', bbox_inches='tight')"
   ]
  },
  {
   "cell_type": "code",
   "execution_count": null,
   "metadata": {},
   "outputs": [],
   "source": [
    "mean_opt_eff = np.mean(df_good_data['muon_efficiency'])\n",
    "mean_ring_width = np.mean(df_good_data['ring_width'])\n",
    "mean_ring_radius = np.mean(df_good_data['ring_radius'])\n",
    "mean_ring_size = np.mean(df_good_data['ring_size'])\n",
    "mean_impact_parameter = np.mean(df_good_data['impact_parameter'])\n",
    "print(np.mean(df_good_data['muon_efficiency']))\n",
    "print(np.mean(df_good_data['ring_width']))\n",
    "print(mean_ring_radius)"
   ]
  },
  {
   "cell_type": "code",
   "execution_count": null,
   "metadata": {},
   "outputs": [],
   "source": [
    "df_good_data.columns"
   ]
  },
  {
   "cell_type": "code",
   "execution_count": null,
   "metadata": {},
   "outputs": [],
   "source": [
    "param = 'ring_completeness'\n",
    "print(f\"Min value of {param} = {min(df_good_data[param])}\")\n",
    "print(f\"Max value of {param} = {max(df_good_data[param])}\")"
   ]
  },
  {
   "cell_type": "code",
   "execution_count": null,
   "metadata": {},
   "outputs": [],
   "source": [
    "x_value_str = 'ring_width'\n",
    "y_value_str = 'muon_efficiency'\n",
    "\n",
    "# Step 1: Create bins for 'ring_radius'\n",
    "df_good_data[f'{x_value_str}_bin'] = pd.cut(df_good_data[x_value_str], bins=500)\n",
    "\n",
    "# Step 2: Group by the new bin column and calculate mean 'ring_size' for each bin\n",
    "binned_data = df_good_data.groupby(f'{x_value_str}_bin')[y_value_str].mean().reset_index()\n",
    "\n",
    "# Step 3: Convert the bin intervals to strings (for plotting) or use midpoints\n",
    "binned_data['bin_mid'] = binned_data[f'{x_value_str}_bin'].apply(lambda x: x.mid)\n",
    "\n",
    "# Plotting\n",
    "plt.figure(figsize=(10, 6))\n",
    "\n",
    "# Scatter plot of binned values\n",
    "plt.scatter(binned_data['bin_mid'], binned_data[y_value_str], label='Binned Muon efficiency', s = 20)\n",
    "\n",
    "# Calculate and plot the regression line over the original data\n",
    "m, b = np.polyfit(df_good_data[x_value_str], df_good_data[y_value_str], 1)\n",
    "plt.plot(df_good_data[x_value_str], m*df_good_data[x_value_str] + b, color='red', label='Regression Line', alpha = 0.75)\n",
    "\n",
    "plt.xlabel(f'{x_value_str}')\n",
    "plt.ylabel(f'{y_value_str}')\n",
    "plt.axhline(y=mean_opt_eff, color='g', linestyle='--', label = f'Mean optical efficiency for this period = {round(mean_opt_eff, 3)}')\n",
    "plt.axvline(x=mean_ring_width, color='orange', linestyle='--', label = f'Mean ring width for this period = {round(mean_ring_width,3)} deg')\n",
    "plt.legend()\n",
    "plt.ylim(0,1.42)\n",
    "#plt.xlim(0,0.3)\n",
    "plt.grid(alpha=0.5)\n",
    "#plt.show()\n",
    "#plt.savefig('/home/jovyan/XImpact.png', dpi=300, format='png', bbox_inches='tight')\n",
    "#plt.savefig('/home/jovyan/OptEffVSImpact.png', dpi=300, format='png', bbox_inches='tight')\n",
    "#plt.savefig('/Users/vdk/muons2024/images/WidthVsEfficiency_29-23Y_ylim2.png', dpi=200, format='png', bbox_inches='tight')"
   ]
  },
  {
   "cell_type": "code",
   "execution_count": null,
   "metadata": {},
   "outputs": [],
   "source": [
    "x_value_str = 'ring_size'\n",
    "y_value_str = 'muon_efficiency'\n",
    "\n",
    "# Step 1: Create bins for 'ring_radius'\n",
    "df_good_data[f'{x_value_str}_bin'] = pd.cut(df_good_data[x_value_str], bins=500)\n",
    "\n",
    "# Step 2: Group by the new bin column and calculate mean 'ring_size' for each bin\n",
    "binned_data = df_good_data.groupby(f'{x_value_str}_bin')[y_value_str].mean().reset_index()\n",
    "\n",
    "# Step 3: Convert the bin intervals to strings (for plotting) or use midpoints\n",
    "binned_data['bin_mid'] = binned_data[f'{x_value_str}_bin'].apply(lambda x: x.mid)\n",
    "\n",
    "# Plotting\n",
    "plt.figure(figsize=(10, 6))\n",
    "\n",
    "# Scatter plot of binned values\n",
    "plt.scatter(binned_data['bin_mid'], binned_data[y_value_str], label='Binned Muon efficiency', s=20)\n",
    "\n",
    "# Calculate and plot the regression line over the original data\n",
    "m, b = np.polyfit(df_good_data[x_value_str], df_good_data[y_value_str], 1)\n",
    "plt.plot(df_good_data[x_value_str], m*df_good_data[x_value_str] + b, color='red', label='Regression Line', alpha = 0.75)\n",
    "\n",
    "plt.xlabel(f'{x_value_str}')\n",
    "plt.ylabel(f'{y_value_str}')\n",
    "plt.axhline(y=mean_opt_eff, color='g', linestyle='--', label = f'Mean optical efficiency for this period = {round(mean_opt_eff, 3)}')\n",
    "plt.axvline(x=mean_ring_size, color='orange', linestyle='--', label = f'Mean ring size for this period = {round(mean_ring_size,3)} pe')\n",
    "plt.legend()\n",
    "plt.ylim(0,1)\n",
    "#plt.xlim(0,0.3)\n",
    "plt.grid(alpha=0.5)\n",
    "#plt.show()\n",
    "#plt.savefig('/home/jovyan/XImpact.png', dpi=300, format='png', bbox_inches='tight')\n",
    "#plt.savefig('/home/jovyan/OptEffVSImpact.png', dpi=300, format='png', bbox_inches='tight')\n",
    "#plt.savefig('/Users/vdk/muons2024/images/SizeEfficiency_19-23Y_ylim2.png', dpi=200, format='png', bbox_inches='tight')"
   ]
  },
  {
   "cell_type": "code",
   "execution_count": null,
   "metadata": {},
   "outputs": [],
   "source": [
    "x_value_str = 'ring_radius'\n",
    "y_value_str = 'ring_width'\n",
    "\n",
    "# Step 1: Create bins for 'ring_radius'\n",
    "df_good_data[f'{x_value_str}_bin'] = pd.cut(df_good_data[x_value_str], bins=500)\n",
    "\n",
    "# Step 2: Group by the new bin column and calculate mean 'ring_size' for each bin\n",
    "binned_data = df_good_data.groupby(f'{x_value_str}_bin')[y_value_str].mean().reset_index()\n",
    "\n",
    "# Step 3: Convert the bin intervals to strings (for plotting) or use midpoints\n",
    "binned_data['bin_mid'] = binned_data[f'{x_value_str}_bin'].apply(lambda x: x.mid)\n",
    "\n",
    "# Plotting\n",
    "plt.figure(figsize=(10, 6))\n",
    "\n",
    "# Scatter plot of binned values\n",
    "plt.scatter(binned_data['bin_mid'], binned_data[y_value_str], label='Binned Ring Width', s=20)\n",
    "\n",
    "# Calculate and plot the regression line over the original data\n",
    "m, b = np.polyfit(df_good_data[x_value_str], df_good_data[y_value_str], 1)\n",
    "plt.plot(df_good_data[x_value_str], m*df_good_data[x_value_str] + b, color='red', label='Regression Line', alpha = 0.75)\n",
    "\n",
    "plt.xlabel(f'{x_value_str}')\n",
    "plt.ylabel(f'{y_value_str}')\n",
    "plt.axhline(y=mean_ring_width, color='g', linestyle='--', label = f'Mean width for this period = {round(mean_ring_width, 3)}')\n",
    "plt.axvline(x=mean_ring_radius, color='orange', linestyle='--', label = f'Mean ring radius for this period = {round(mean_ring_radius,3)} pe')\n",
    "plt.legend()\n",
    "plt.ylim(0,0.2)\n",
    "#plt.xlim(0,0.3)\n",
    "plt.grid(alpha=0.5)\n",
    "#plt.show()\n",
    "#plt.savefig('/home/jovyan/XImpact.png', dpi=300, format='png', bbox_inches='tight')\n",
    "#plt.savefig('/home/jovyan/OptEffVSImpact.png', dpi=300, format='png', bbox_inches='tight')\n",
    "#plt.savefig('/Users/vdk/muons2024/images/RadiusVsWidth_19-23Y.png', dpi=200, format='png', bbox_inches='tight')"
   ]
  },
  {
   "cell_type": "code",
   "execution_count": null,
   "metadata": {},
   "outputs": [],
   "source": [
    "x_value_str = 'ring_radius'\n",
    "y_value_str = 'ring_size'\n",
    "\n",
    "# Step 1: Create bins for 'ring_radius'\n",
    "df_good_data[f'{x_value_str}_bin'] = pd.cut(df_good_data[x_value_str], bins=500)\n",
    "\n",
    "# Step 2: Group by the new bin column and calculate mean 'ring_size' for each bin\n",
    "binned_data = df_good_data.groupby(f'{x_value_str}_bin')[y_value_str].mean().reset_index()\n",
    "\n",
    "# Step 3: Convert the bin intervals to strings (for plotting) or use midpoints\n",
    "binned_data['bin_mid'] = binned_data[f'{x_value_str}_bin'].apply(lambda x: x.mid)\n",
    "\n",
    "# Plotting\n",
    "plt.figure(figsize=(10, 6))\n",
    "\n",
    "# Scatter plot of binned values\n",
    "plt.scatter(binned_data['bin_mid'], binned_data[y_value_str], label='Binned Ring Size', s=20)\n",
    "\n",
    "# Calculate and plot the regression line over the original data\n",
    "m, b = np.polyfit(df_good_data[x_value_str], df_good_data[y_value_str], 1)\n",
    "plt.plot(df_good_data[x_value_str], m*df_good_data[x_value_str] + b, color='red', label='Regression Line', alpha = 0.75)\n",
    "\n",
    "plt.xlabel(f'{x_value_str}')\n",
    "plt.ylabel(f'{y_value_str}')\n",
    "plt.axhline(y=mean_ring_size, color='g', linestyle='--', label = f'Mean ring_size for this period = {round(mean_ring_size, 3)}')\n",
    "plt.axvline(x=mean_ring_radius, color='orange', linestyle='--', label = f'Mean ring radius for this period = {round(mean_ring_radius,3)} pe')\n",
    "plt.legend()\n",
    "plt.ylim(0,5000)\n",
    "#plt.xlim(0,0.3)\n",
    "plt.grid(alpha=0.5)\n",
    "#plt.show()\n",
    "#plt.savefig('/home/jovyan/XImpact.png', dpi=300, format='png', bbox_inches='tight')\n",
    "#plt.savefig('/home/jovyan/OptEffVSImpact.png', dpi=300, format='png', bbox_inches='tight')\n",
    "#plt.savefig('/Users/vdk/muons2024/images/RadiusVsSize_19-23Y.png', dpi=200, format='png', bbox_inches='tight')"
   ]
  },
  {
   "cell_type": "code",
   "execution_count": null,
   "metadata": {},
   "outputs": [],
   "source": []
  }
 ],
 "metadata": {
  "kernelspec": {
   "display_name": "cta-dev",
   "language": "python",
   "name": "python3"
  },
  "language_info": {
   "codemirror_mode": {
    "name": "ipython",
    "version": 3
   },
   "file_extension": ".py",
   "mimetype": "text/x-python",
   "name": "python",
   "nbconvert_exporter": "python",
   "pygments_lexer": "ipython3",
   "version": "3.9.16"
  }
 },
 "nbformat": 4,
 "nbformat_minor": 2
}
