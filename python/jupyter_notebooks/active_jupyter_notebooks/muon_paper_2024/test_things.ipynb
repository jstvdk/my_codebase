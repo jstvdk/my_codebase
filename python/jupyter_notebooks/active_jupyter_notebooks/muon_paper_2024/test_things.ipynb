{
 "cells": [
  {
   "cell_type": "code",
   "execution_count": null,
   "metadata": {},
   "outputs": [],
   "source": [
    "import math\n",
    "import math\n",
    "import numpy as np\n",
    "import matplotlib.pyplot as plt\n",
    "import pandas as pd\n",
    "\n",
    "summer_refractive_index = 1+0.00020409512542851616\n",
    "winter_refractive_index = 1+0.00020953240736654166\n",
    "#"
   ]
  },
  {
   "cell_type": "code",
   "execution_count": null,
   "metadata": {},
   "outputs": [],
   "source": [
    "print(summer_refractive_index)\n",
    "print(winter_refractive_index)"
   ]
  },
  {
   "cell_type": "code",
   "execution_count": null,
   "metadata": {},
   "outputs": [],
   "source": [
    "def cherenkov_angle(muon_energy_eV, refractive_index=1.000293):\n",
    "    # Constants\n",
    "    c = 299792458  # speed of light in m/s\n",
    "    muon_rest_mass_MeV = 105.66  # rest mass of muon in MeV\n",
    "    eV_to_MeV = 1e-6  # conversion factor from eV to MeV\n",
    "    \n",
    "    # Convert muon energy from eV to MeV\n",
    "    muon_energy_MeV = muon_energy_eV * eV_to_MeV\n",
    "    \n",
    "    # Check if the energy is sufficient for Cherenkov radiation\n",
    "    if muon_energy_MeV <= muon_rest_mass_MeV:\n",
    "        return \"Energy too low for Cherenkov radiation.\"\n",
    "    \n",
    "    # Calculate the momentum p\n",
    "    p = math.sqrt((muon_energy_MeV)**2 - (muon_rest_mass_MeV)**2)\n",
    "    \n",
    "    # Calculate beta\n",
    "    beta = p / muon_energy_MeV\n",
    "    \n",
    "    # Check if Cherenkov condition is met\n",
    "    if beta * refractive_index <= 1:\n",
    "        return \"Muon velocity too low for Cherenkov radiation in this medium.\"\n",
    "    \n",
    "    # Calculate Cherenkov angle\n",
    "    cos_theta_C = 1 / (beta * refractive_index)\n",
    "    theta_C = math.acos(cos_theta_C)\n",
    "    \n",
    "    # Convert angle from radians to degrees\n",
    "    theta_C_degrees = math.degrees(theta_C)\n",
    "    \n",
    "    return theta_C_degrees\n",
    "\n",
    "# Example usage\n",
    "muon_energy_eV = 6e9  # example energy in eV\n",
    "angle = cherenkov_angle(muon_energy_eV)\n",
    "print(f\"Cherenkov angle: {angle}\")"
   ]
  },
  {
   "cell_type": "code",
   "execution_count": null,
   "metadata": {},
   "outputs": [],
   "source": [
    "def plot_cherenkov_angle_distribution(min_energy_eV, max_energy_eV, num_points, refractive_index=1.000293, plot_option=False):\n",
    "    energies_eV = np.logspace(np.log10(min_energy_eV), np.log10(max_energy_eV), num_points)\n",
    "    energies_GeV = energies_eV * 1e-9  # Convert eV to GeV\n",
    "    angles = []\n",
    "\n",
    "    for energy in energies_eV:\n",
    "        angle = cherenkov_angle(energy, refractive_index)\n",
    "        if angle is not None:\n",
    "            angles.append(angle)\n",
    "        else:\n",
    "            angles.append(0)  # Append 0 for energies not producing Cherenkov radiation\n",
    "    if plot_option:\n",
    "        plt.figure(figsize=(10, 6))\n",
    "        plt.plot(energies_GeV, angles, label='Cherenkov Angle')\n",
    "        plt.xscale('log')\n",
    "        plt.xlabel('Muon Energy (GeV)')\n",
    "        plt.ylabel('Cherenkov Angle (degrees)')\n",
    "        plt.title('Cherenkov Angle Distribution as a Function of Muon Energy')\n",
    "        plt.legend()\n",
    "        plt.grid(True, which=\"both\", ls=\"--\")\n",
    "        plt.show()\n",
    "    \n",
    "    return energies_GeV, angles\n",
    "\n",
    "# Example usage\n",
    "min_energy_eV = 6e9  # 1 GeV\n",
    "max_energy_eV = 1e12  # 1 TeV\n",
    "num_points = 1000\n",
    "\n",
    "energies, summer_angles = plot_cherenkov_angle_distribution(min_energy_eV, max_energy_eV, num_points,refractive_index=summer_refractive_index)\n",
    "energies, winter_angles = plot_cherenkov_angle_distribution(min_energy_eV, max_energy_eV, num_points,refractive_index=winter_refractive_index)"
   ]
  },
  {
   "cell_type": "code",
   "execution_count": null,
   "metadata": {},
   "outputs": [],
   "source": [
    "print(f\"Maximum angle value for the summer = {round(max(summer_angles),3)} degrees\")\n",
    "print(f\"Maximum angle value for the winter = {round(max(winter_angles),3)} degrees\")\n",
    "plt.figure(figsize=(12, 9))\n",
    "plt.plot(energies, summer_angles, label='Cherenkov Angle for Summer')\n",
    "plt.plot(energies, winter_angles, label='Cherenkov Angle for  Winter')\n",
    "plt.xscale('log')\n",
    "plt.xlabel('Muon Energy (GeV)')\n",
    "plt.ylabel('Cherenkov Angle (degrees)')\n",
    "plt.title('Cherenkov Angle Distribution as a Function of Muon Energy and refractive index')\n",
    "plt.legend()\n",
    "plt.grid(True, which=\"both\", ls=\"--\")\n",
    "#plt.show()\n",
    "#plt.savefig('/Users/vdk/muons2024/images/PlanPaper/Cherenkov_Angle_Distribution.pdf', dpi=200, format='pdf', bbox_inches='tight')"
   ]
  },
  {
   "cell_type": "code",
   "execution_count": null,
   "metadata": {},
   "outputs": [],
   "source": [
    "max(winter_angles)"
   ]
  },
  {
   "cell_type": "code",
   "execution_count": null,
   "metadata": {},
   "outputs": [],
   "source": [
    "max(summer_angles)"
   ]
  },
  {
   "cell_type": "code",
   "execution_count": null,
   "metadata": {},
   "outputs": [],
   "source": [
    "def calculate_flux_for_energy_bins(energy_bins, k=100):\n",
    "    \"\"\"\n",
    "    Calculate the muon flux for specified energy bins.\n",
    "\n",
    "    :param energy_bins: List of tuples representing the energy bins [(E1, E2), ...] in GeV.\n",
    "    :param k: Normalization constant (default is 100 muons/m²/s/sr).\n",
    "    :return: List of flux values for each energy bin.\n",
    "    \"\"\"\n",
    "    flux_values = []\n",
    "    \n",
    "    for E1, E2 in energy_bins:\n",
    "        if E2 == float('inf'):\n",
    "            # For thxe last bin extending to infinity\n",
    "            flux = k / E1\n",
    "        else:\n",
    "            flux = k * (1/E1 - 1/E2)\n",
    "        \n",
    "        flux_values.append(flux)\n",
    "    \n",
    "    return flux_values\n",
    "\n",
    "# Example usage:\n",
    "energy_bins = [(1, 10), (10, 100), (100, 1000), (1000, float('inf'))]  # Energy bins in GeV\n",
    "flux_values = calculate_flux_for_energy_bins(energy_bins)\n",
    "\n",
    "for bin_range, flux in zip(energy_bins, flux_values):\n",
    "    print(f\"Flux for energy bin {bin_range} GeV: {flux} muons/m²/s/sr\")"
   ]
  },
  {
   "cell_type": "code",
   "execution_count": null,
   "metadata": {},
   "outputs": [],
   "source": [
    "import numpy as np\n",
    "import matplotlib.pyplot as plt\n",
    "\n",
    "def calculate_flux_for_energy_bins(energy_bins, k=100):\n",
    "    flux_values = []\n",
    "    \n",
    "    for E1, E2 in energy_bins:\n",
    "        if E2 == float('inf'):\n",
    "            flux = k / E1\n",
    "        else:\n",
    "            flux = k * (1/E1 - 1/E2)\n",
    "        flux_values.append(flux)\n",
    "    \n",
    "    return flux_values\n",
    "\n",
    "# Define 100 energy bins from 1 GeV to 1 TeV (1000 GeV) logarithmically spaced\n",
    "energy_edges = np.logspace(0, 3, 101)  # from 10^0 to 10^3 GeV\n",
    "energy_bins = [(energy_edges[i], energy_edges[i+1]) for i in range(len(energy_edges) - 1)]\n",
    "\n",
    "# Calculate the flux for these energy bins\n",
    "flux_values = calculate_flux_for_energy_bins(energy_bins)\n",
    "\n",
    "# Define the area in square meters\n",
    "area_m2 = 420\n",
    "\n",
    "# Calculate the total flux for the given area\n",
    "total_flux_values = [flux * area_m2 for flux in flux_values]\n",
    "\n",
    "# Extracting midpoints of bins for plotting\n",
    "bin_midpoints = [(E1 + E2) / 2 for E1, E2 in energy_bins]\n",
    "\n",
    "# Plotting the total flux\n",
    "plt.figure(figsize=(10, 6))\n",
    "plt.plot(bin_midpoints, total_flux_values, marker='o', linestyle='-', color='b')\n",
    "plt.xscale('log')\n",
    "plt.yscale('log')\n",
    "plt.xlabel('Energy (GeV)')\n",
    "plt.ylabel('Total Muon Flux (muons/s/sr) for 420 m²')\n",
    "plt.title('Total Muon Flux vs. Energy for an Area of 420 m²')\n",
    "plt.grid(True, which=\"both\", ls=\"--\")\n",
    "plt.show()"
   ]
  },
  {
   "cell_type": "code",
   "execution_count": null,
   "metadata": {},
   "outputs": [],
   "source": [
    "def calculate_flux_for_energy_bins(energy_bins, k=100, gamma=2.7):\n",
    "    flux_values = []\n",
    "    \n",
    "    for E1, E2 in energy_bins:\n",
    "        if E2 == float('inf'):\n",
    "            flux = k * E1**(-gamma) / (gamma - 1)\n",
    "        else:\n",
    "            flux = k * (E1**(1-gamma) - E2**(1-gamma)) / (gamma - 1)\n",
    "        flux_values.append(flux)\n",
    "    \n",
    "    return flux_values\n",
    "\n",
    "# Define 100 energy bins from 5 GeV to 1 TeV (1000 GeV) logarithmically spaced\n",
    "energy_edges = np.logspace(np.log10(5), 3, 101)  # from 10^0.7 to 10^3 GeV\n",
    "energy_bins = [(energy_edges[i], energy_edges[i+1]) for i in range(len(energy_edges) - 1)]\n",
    "\n",
    "# Calculate the flux for these energy bins with gamma = 2.7\n",
    "gamma = 2.7\n",
    "flux_values = calculate_flux_for_energy_bins(energy_bins, gamma=gamma)\n",
    "\n",
    "# Define the area in square meters\n",
    "area_m2 = 420\n",
    "\n",
    "# Calculate the total flux for the given area\n",
    "total_flux_values = [flux * area_m2 for flux in flux_values]\n",
    "\n",
    "# Extracting midpoints of bins for plotting\n",
    "bin_midpoints = [(E1 + E2) / 2 for E1, E2 in energy_bins]\n",
    "\n",
    "# Plotting the total flux\n",
    "plt.figure(figsize=(10, 6))\n",
    "plt.plot(bin_midpoints, total_flux_values, marker='o', linestyle='-', color='b')\n",
    "plt.xscale('log')\n",
    "plt.yscale('log')\n",
    "plt.xlabel('Energy (GeV)')\n",
    "plt.ylabel('Total Muon Flux (muons/s/sr) for 420 m²')\n",
    "plt.title('Total Muon Flux vs. Energy for an Area of 420 m² (Power Law -2.7)')\n",
    "plt.grid(True, which=\"both\", ls=\"--\")\n",
    "plt.show()"
   ]
  },
  {
   "cell_type": "code",
   "execution_count": null,
   "metadata": {},
   "outputs": [],
   "source": [
    "# Define the integration time in seconds\n",
    "integration_time_s = 7778581\n",
    "\n",
    "# Calculate the total flux for the given area and integration time\n",
    "total_flux_integrated_values = [flux * area_m2 * integration_time_s for flux in flux_values]\n",
    "\n",
    "# Plotting the total flux integrated over the given time\n",
    "plt.figure(figsize=(10, 6))\n",
    "plt.plot(bin_midpoints, total_flux_integrated_values, marker='o', linestyle='-', color='b')\n",
    "plt.xscale('log')\n",
    "plt.yscale('log')\n",
    "plt.xlabel('Energy (GeV)')\n",
    "plt.ylabel('Total Integrated Muon Flux (muons/sr) for 420 m² over 7778581 seconds')\n",
    "plt.title('Total Integrated Muon Flux vs. Energy for an Area of 420 m² (Power Law -2.7)')\n",
    "plt.grid(True, which=\"both\", ls=\"--\")\n",
    "plt.show()"
   ]
  },
  {
   "cell_type": "code",
   "execution_count": null,
   "metadata": {},
   "outputs": [],
   "source": [
    "len(np_array)"
   ]
  },
  {
   "cell_type": "code",
   "execution_count": null,
   "metadata": {},
   "outputs": [],
   "source": []
  },
  {
   "cell_type": "markdown",
   "metadata": {},
   "source": [
    "## Calculate outlier values"
   ]
  },
  {
   "cell_type": "code",
   "execution_count": null,
   "metadata": {},
   "outputs": [],
   "source": [
    "np_array = np.load('/Users/vdk/muons2024/lapalma_simulations/nsb_play/grand_tune/array_2023.npy')\n",
    "plt.figure(figsize=(14, 9))\n",
    "z,x,c = plt.hist(np_array,bins = 300)\n",
    "plt.grid(alpha=0.5)\n",
    "print(len(np_array))\n",
    "print(np.quantile(np_array,0.99))"
   ]
  },
  {
   "cell_type": "code",
   "execution_count": null,
   "metadata": {},
   "outputs": [],
   "source": [
    "np_array"
   ]
  },
  {
   "cell_type": "code",
   "execution_count": null,
   "metadata": {},
   "outputs": [],
   "source": [
    "np_array = np.load('/Users/vdk/muons2024/array_no_outliers.npy')\n",
    "plt.figure(figsize=(14, 9))\n",
    "z,x,c = plt.hist(np_array,bins = 100)\n",
    "plt.grid(alpha=0.5)\n",
    "print(len(np_array))"
   ]
  },
  {
   "cell_type": "code",
   "execution_count": null,
   "metadata": {},
   "outputs": [],
   "source": [
    "np_array = np.load('/Users/vdk/muons2024/95percent_arra-No_outliers.npy')\n",
    "plt.figure(figsize=(14, 9))\n",
    "z,x,c = plt.hist(np_array,bins = 100)\n",
    "plt.grid(alpha=0.5)\n",
    "print(len(np_array))"
   ]
  },
  {
   "cell_type": "code",
   "execution_count": null,
   "metadata": {},
   "outputs": [],
   "source": []
  },
  {
   "cell_type": "code",
   "execution_count": null,
   "metadata": {},
   "outputs": [],
   "source": []
  },
  {
   "cell_type": "code",
   "execution_count": null,
   "metadata": {},
   "outputs": [],
   "source": []
  },
  {
   "cell_type": "code",
   "execution_count": null,
   "metadata": {},
   "outputs": [],
   "source": [
    "file_path = '/Users/vdk/muons2024/lapalma_simulations/nsb_play/nsb_tuned_7.txt'  # Replace with your actual file path\n",
    "df = pd.read_csv(file_path, delim_whitespace=True, header=None, names=['id', 'nsb', 'time'])"
   ]
  },
  {
   "cell_type": "code",
   "execution_count": null,
   "metadata": {},
   "outputs": [],
   "source": [
    "df = pd.read_csv(file_path, delim_whitespace=True, header=None, names=['id', 'nsb', 'time'])\n",
    "nsb_threshold = 2.2\n",
    "filtered_df = df[df['nsb'] > nsb_threshold]\n",
    "weighted_sum = (filtered_df['nsb'] * filtered_df['time']).sum()\n",
    "total_duration = filtered_df['time'].sum()\n",
    "weighted_average = weighted_sum / total_duration"
   ]
  },
  {
   "cell_type": "code",
   "execution_count": null,
   "metadata": {},
   "outputs": [],
   "source": [
    "weighted_average"
   ]
  }
 ],
 "metadata": {
  "kernelspec": {
   "display_name": "cta-dev",
   "language": "python",
   "name": "python3"
  },
  "language_info": {
   "codemirror_mode": {
    "name": "ipython",
    "version": 3
   },
   "file_extension": ".py",
   "mimetype": "text/x-python",
   "name": "python",
   "nbconvert_exporter": "python",
   "pygments_lexer": "ipython3",
   "version": "3.10.14"
  }
 },
 "nbformat": 4,
 "nbformat_minor": 2
}
