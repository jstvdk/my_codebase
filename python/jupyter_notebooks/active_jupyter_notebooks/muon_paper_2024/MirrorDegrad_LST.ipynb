{
 "cells": [
  {
   "cell_type": "code",
   "execution_count": null,
   "metadata": {},
   "outputs": [],
   "source": [
    "from astropy.table import Table, vstack\n",
    "import glob\n",
    "import pandas as pd\n",
    "import numpy as np \n",
    "from astropy.time import Time\n",
    "from astropy.table import Table\n",
    "from astropy.io import fits\n",
    "import os\n",
    "import glob\n",
    "import seaborn as sns\n",
    "import matplotlib.pyplot as plt\n",
    "import copy\n",
    "import time\n",
    "import random\n",
    "from scipy.stats import sem\n",
    "from datetime import datetime, timezone\n",
    "from matplotlib.patches import Circle\n",
    "import matplotlib.patches as patches\n",
    "from matplotlib.patches import RegularPolygon\n",
    "import numpy as np"
   ]
  },
  {
   "cell_type": "code",
   "execution_count": null,
   "metadata": {},
   "outputs": [],
   "source": [
    "random.uniform(-np.pi, np.pi)"
   ]
  },
  {
   "cell_type": "markdown",
   "metadata": {},
   "source": [
    "#### LST mirror coordinates"
   ]
  },
  {
   "cell_type": "code",
   "execution_count": null,
   "metadata": {},
   "outputs": [],
   "source": [
    "# Define the path to your .dat file\n",
    "file_path = '/Users/vdk/Downloads/lst-sim-config-sim-telarray-lst-magic-prod2-v1.4/mirror_CTA-N-LST1_v2019-03-31.dat'\n",
    "\n",
    "# Lists to hold the extracted data from the first two columns\n",
    "first_column = []\n",
    "second_column = []\n",
    "\n",
    "# Open the file and read the data\n",
    "with open(file_path, 'r') as file:\n",
    "    for line in file:\n",
    "        # Split the line into a list of elements based on whitespace\n",
    "        columns = line.split()\n",
    "        # Check if the line has enough columns\n",
    "        if len(columns) >= 2 and line[0] != '#':\n",
    "            # Append the data from the first two columns to their respective lists\n",
    "            first_column.append(float(columns[0]))\n",
    "            second_column.append(float(columns[1]))\n",
    "\n",
    "# Output the lists\n",
    "print(\"First column:\", first_column)\n",
    "print(\"Second column:\", second_column)\n"
   ]
  },
  {
   "cell_type": "code",
   "execution_count": null,
   "metadata": {},
   "outputs": [],
   "source": [
    "dat = Table.read('/Users/vdk/muons2024/lapalma_simulations/cta-config/fit_valid/muon_table_run1.fits', format='fits')\n",
    "sum(dat['parameters_at_limit'])"
   ]
  },
  {
   "cell_type": "code",
   "execution_count": null,
   "metadata": {},
   "outputs": [],
   "source": [
    "muon_files = glob.glob('/Users/vdk/muons2024/all_muon_fits/low_nsb_filter/*')\n",
    "print(sorted(muon_files))\n",
    "df_files = [pd.read_csv(muon_file, na_values=['NA', '?']) for muon_file in sorted(muon_files)] \n",
    "df_all_data = pd.concat(df_files, ignore_index=True)\n",
    "df_good_data = df_all_data[(df_all_data['muon_efficiency'] < 1) & (df_all_data['ring_containment'] > 0.9) & (df_all_data['size_outside'] < 500)]# & (df_all_data['ring_completeness'] > 0.8)]\n",
    "#df_good_data = df_all_data[(df_all_data['ring_containment'] > 0.999) & (df_all_data['size_outside'] < 500)]# & (df_all_data['ring_completeness'] > 0.8)]\n",
    "del(df_all_data)\n",
    "df_good_data"
   ]
  },
  {
   "cell_type": "markdown",
   "metadata": {},
   "source": [
    "#### Simulation upload"
   ]
  },
  {
   "cell_type": "code",
   "execution_count": null,
   "metadata": {},
   "outputs": [],
   "source": [
    "#listdir1 = glob.glob('/Users/vdk/muons2024/lapalma_simulations/0784-reflection/tables/*')\n",
    "listdir2 = glob.glob('/Users/vdk/muons2024/cscs_simulations/tables_large_lst_muons/*')\n",
    "listdir3 = glob.glob('/Users/vdk/muons2024/cscs_simulations/muons_zenith0/*')\n",
    "#listdir4 = glob.glob('/Users/vdk/muons2024/lapalma_simulations/0684-reflection/tables/*')\n",
    "#listdir5 = glob.glob('/Users/vdk/muons2024/lapalma_simulations/0884-reflection/tables/*')\n",
    "listdir7 = glob.glob('/Users/vdk/muons2024/cscs_simulations/narrow_cone/tables/*')\n",
    "# Muons analyzed using GlobalPeakWindowSum\n",
    "listdir=listdir2+listdir3+listdir7\n",
    "#listdir = glob.glob('/Users/vdk/muons2024/lapalma_simulations/theta_40_az_180/tables/*')\n",
    "listdir_z0 = glob.glob('/Users/vdk/muons2024/lapalma_simulations/zenith0/tables_muon/*')\n",
    "listdir_z0_pt2 = glob.glob('/Users/vdk/muons2024/lapalma_simulations/zenith0/tables/*')\n",
    "listdir_z10 = glob.glob('/Users/vdk/muons2024/lapalma_simulations/theta_10.0_az_180/tables/*')\n",
    "listdir_z20 = glob.glob('/Users/vdk/muons2024/lapalma_simulations/0784-reflection/tables/*')\n",
    "listdir_z30 = glob.glob('/Users/vdk/muons2024/lapalma_simulations/theta_30_az_180/tables/*')\n",
    "listdir_z40 = glob.glob('/Users/vdk/muons2024/lapalma_simulations/theta_40_az_180/tables/*')\n",
    "\n",
    "listdir = listdir_z0 + listdir_z0_pt2 + listdir7 + listdir3 + listdir2\n",
    "\n",
    "listdir_z0_cta1 = glob.glob(\"/Users/vdk/muons2024/lapalma_simulations/cta-config/fit_valid/tables/*\")\n",
    "listdir_z0_cta2 = glob.glob(\"/Users/vdk/muons2024/lapalma_simulations/cta-config/tables_pt2/*\")\n",
    "\n",
    "listdir_z0_cta = glob.glob(\"/Users/vdk/muons2024/lapalma_simulations/cta-config/tables/*\")\n",
    "listdir_z0_cta_fit_valid = glob.glob('/Users/vdk/muons2024/lapalma_simulations/cta-config/fit_valid/tables/*')\n",
    "\n",
    "listdir_mir_align00125 = glob.glob('/Users/vdk/muons2024/lapalma_simulations/mirror_allignment/random_00125/tables/*')\n",
    "\n",
    "listdir_fitbound = glob.glob('/Users/vdk/muons2024/lapalma_simulations/fit_play/boundaries0-2pi/tables/*')\n",
    "listdir_fit_random = glob.glob('/Users/vdk/muons2024/lapalma_simulations/fit_play/fit_random/tables/*')\n",
    "listdir=listdir_z0_cta1+listdir_z0_cta2\n",
    "\n",
    "listdir_fit_random_initial_orig = glob.glob(\"/Users/vdk/muons2024/lapalma_simulations/fit_play/fit_random_initial_orig/tables/*\")\n",
    "listdir_fit_random_initial_guess_minus01 = glob.glob(\"/Users/vdk/muons2024/lapalma_simulations/fit_play/fit_random_initial_guess_phi_minus01/tables/*\")\n",
    "listdir_fit_random_initial_guess_pina2 = glob.glob(\"/Users/vdk/muons2024/lapalma_simulations/fit_play/fit_random_initial_guess_phi_pina2/tables/*\")\n",
    "\n",
    "dat = Table.read('{}'.format(listdir_fit_random_initial_guess_minus01[0]), format='fits')\n",
    "for muon_file in listdir_fit_random_initial_guess_minus01:\n",
    "    dat2 = Table.read(muon_file, format='fits')\n",
    "    dat2['good_ring'] = dat2['good_ring'].astype(bool)\n",
    "    dat2['is_valid'] = dat2['is_valid'].astype(bool)\n",
    "    dat2['parameters_at_limit'] = dat2['parameters_at_limit'].astype(bool)\n",
    "    dat = vstack([dat, dat2])\n",
    "\n",
    "min_impact = min(df_good_data['impact_parameter'])\n",
    "max_impact = max(df_good_data['impact_parameter']) \n",
    "df = dat.to_pandas()\n",
    "df_good_sim_data = df[(df['muon_efficiency'] < 1) & \n",
    "                      (df['ring_containment'] > 0.9) & \n",
    "                      (df['size_outside'] < 500) &\n",
    "                      (df['impact_parameter'] < max_impact) &\n",
    "                      (df['impact_parameter'] > min_impact)]\n",
    "#df_good_data = df_good_data[df_good_data['ring_completeness'] > 0.9]\n",
    "print(np.mean(df_good_sim_data['muon_efficiency']))\n",
    "df_good_sim_data"
   ]
  },
  {
   "cell_type": "code",
   "execution_count": null,
   "metadata": {},
   "outputs": [],
   "source": [
    "df_good_sim_data"
   ]
  },
  {
   "cell_type": "code",
   "execution_count": null,
   "metadata": {},
   "outputs": [],
   "source": [
    "number = 7\n",
    "#cos = abs(df_good_data['impact_x_array'][number]) / df_good_data['impact_parameter'][number] \n",
    "cosines = df_good_data['impact_x_array'] / df_good_data['impact_parameter'] \n",
    "phi = np.rad2deg(np.arccos(cosines))\n",
    "phi_cut = phi[:1000000]\n",
    "max(phi_cut)"
   ]
  },
  {
   "cell_type": "code",
   "execution_count": null,
   "metadata": {},
   "outputs": [],
   "source": []
  },
  {
   "cell_type": "code",
   "execution_count": null,
   "metadata": {},
   "outputs": [],
   "source": [
    "df_good_data_cut = copy.deepcopy(df_good_data[:3000000])\n",
    "condition = (\n",
    "    np.rad2deg(\n",
    "        np.arccos(\n",
    "            np.abs(df_good_data_cut['impact_x_array']) / df_good_data_cut['impact_parameter']\n",
    "        )\n",
    "    ) < 59\n",
    ") | (\n",
    "    np.rad2deg(\n",
    "        np.arccos(\n",
    "            np.abs(df_good_data_cut['impact_x_array']) / df_good_data_cut['impact_parameter']\n",
    "        )\n",
    "    ) > 60\n",
    ")\n",
    "sum(condition)\n",
    "len(df_good_data_cut)-sum(condition)\n",
    "alpha_value = 0.01\n",
    "# Create a new figure and an axes instance\n",
    "fig, ax = plt.subplots(figsize=(12,12))\n",
    "# Create a circle patch\n",
    "#circle = Circle((0, 0), 11.5, color='red', fill=False, label = 'LST1 full mirror')  # Center at (0.5, 0.5) with radius 0.2\n",
    "#ax.add_patch(circle)\n",
    "for mirror_x, mirror_y in zip(first_column,second_column):\n",
    "    circle = Circle((mirror_y*0.01, (mirror_x*0.01-0.269)), 0.75, color='k', fill=False, alpha = 0.3)  # Center at (0.5, 0.5) with radius 0.2\n",
    "    ax.add_patch(circle)\n",
    "# Set the aspect of the plot to equal to make sure the circle is not oval\n",
    "ax.set_aspect('equal')\n",
    "\n",
    "ax.scatter(df_good_data_cut['impact_x_array'][~condition], df_good_data_cut['impact_y_array'][~condition], alpha = 0.005, s = 1, marker = 'x', c = 'red')\n",
    "ax.scatter(df_good_data_cut['impact_x_array'][condition], df_good_data_cut['impact_y_array'][condition], alpha = 0.05, s = 1, marker = 'x')\n",
    "\n",
    "ax.set_xlabel(\"Impact parameter X [m]\")\n",
    "ax.set_ylabel(\"Impact parameter Y [m]\")\n",
    "ax.set_title(f\"Reconstructed impact points of the observed {(upper_limit-low_limit):.0E} muons on the LST mirror, transparency of dots = {alpha_value}\")\n",
    "handles, labels = ax.get_legend_handles_labels()\n",
    "#ax.legend(handles, labels)\n",
    "#plt.savefig('/Users/vdk/muons2024/images/ImpactPoints_19-23Y_Alpha1.png', dpi=200, format='png', bbox_inches='tight')\n",
    "plt.grid(alpha=0.15)\n",
    "plt.show()"
   ]
  },
  {
   "cell_type": "code",
   "execution_count": null,
   "metadata": {},
   "outputs": [],
   "source": [
    "df"
   ]
  },
  {
   "cell_type": "code",
   "execution_count": null,
   "metadata": {},
   "outputs": [],
   "source": [
    "cosines_sim = np.arccos(df_good_sim_data['impact_x_array'] / df_good_sim_data['impact_parameter'])\n",
    "\n",
    "#cosines_sim_cut = np.rad2deg(cosines_sim_cut)\n",
    "cosines_sim_cut = np.rad2deg(cosines_sim)\n",
    "cosines_sim_cut"
   ]
  },
  {
   "cell_type": "code",
   "execution_count": null,
   "metadata": {},
   "outputs": [],
   "source": [
    "z,x,c = plt.hist(cosines_sim_cut, bins = 40, density=True)\n",
    "plt.grid(alpha=0.5)"
   ]
  },
  {
   "cell_type": "code",
   "execution_count": null,
   "metadata": {},
   "outputs": [],
   "source": [
    "len(cosines_sim_cut[(cosines_sim_cut>56)])"
   ]
  },
  {
   "cell_type": "code",
   "execution_count": null,
   "metadata": {},
   "outputs": [],
   "source": [
    "cosines_sim = df_good_sim_data['impact_x_array'][(df_good_sim_data['is_valid']) | (df_good_sim_data['parameters_at_limit'])] / df_good_sim_data['impact_parameter'][(df_good_sim_data['is_valid']) | (df_good_sim_data['parameters_at_limit'])]\n",
    "cosines_sim_cut = cosines_sim[:1000000]\n",
    "cosines_sim_cut = np.rad2deg(cosines_sim_cut)\n",
    "min(cosines_sim_cut)"
   ]
  },
  {
   "cell_type": "code",
   "execution_count": null,
   "metadata": {},
   "outputs": [],
   "source": [
    "z,x,c = plt.hist(cosines_sim_cut, bins = 40, density=True)\n",
    "plt.grid(alpha=0.5)"
   ]
  },
  {
   "cell_type": "code",
   "execution_count": null,
   "metadata": {},
   "outputs": [],
   "source": [
    "condition = (np.rad2deg(np.arccos((abs(df_good_sim_data['impact_x_array']) / df_good_sim_data['impact_parameter']))) < 56)\n",
    "without_problems = df_good_sim_data[condition]"
   ]
  },
  {
   "cell_type": "code",
   "execution_count": null,
   "metadata": {},
   "outputs": [],
   "source": [
    "without_problems"
   ]
  },
  {
   "cell_type": "markdown",
   "metadata": {},
   "source": [
    "### All observed muons"
   ]
  },
  {
   "cell_type": "code",
   "execution_count": null,
   "metadata": {},
   "outputs": [],
   "source": [
    "low_limit = 0\n",
    "upper_limit = len(df_good_data['impact_parameter'])\n",
    "alpha_value = 1\n",
    "fig, ax = plt.subplots(figsize=(9,9))\n",
    "#circle = Circle((0, 0), 11.5, color='red', fill=False, label = 'LST1 full mirror')  # Center at (0.5, 0.5) with radius 0.2\n",
    "#ax.add_patch(circle)\n",
    "\n",
    "\n",
    "ax.scatter(df_good_data['impact_x_array'][:upper_limit], df_good_data['impact_y_array'][:upper_limit], alpha = alpha_value, s = 1, marker = 'x')\n",
    "ax.set_xlabel(\"Impact parameter X [m]\")\n",
    "ax.set_ylabel(\"Impact parameter Y [m]\")\n",
    "ax.set_title(f\"Reconstructed impact points of the observed {(upper_limit-low_limit):.3E} muons on the LST mirror\")#, transparency of dots = 1\")\n",
    "handles, labels = ax.get_legend_handles_labels()\n",
    "for center_x, center_y in zip(first_column, second_column):\n",
    "    hex = RegularPolygon((center_y*0.01, center_x*0.01-0.269), numVertices=6, radius=0.85, alpha=0.15, edgecolor='k', fill=False)\n",
    "    ax.add_patch(hex)\n",
    "plt.autoscale(enable = True)\n",
    "ax.set_aspect('equal')\n",
    "#ax.legend(handles, labels)\n",
    "#plt.savefig(f'/Users/vdk/muons2024/images/ZenithImpactStudy/ImpactPoints_AllYears_Alpha{alpha_value}.png', dpi=200, format='png', bbox_inches='tight')\n",
    "plt.grid(alpha=0.15)\n",
    "plt.show()"
   ]
  },
  {
   "cell_type": "markdown",
   "metadata": {},
   "source": [
    "### Less number of observed muons"
   ]
  },
  {
   "cell_type": "code",
   "execution_count": null,
   "metadata": {},
   "outputs": [],
   "source": [
    "low_limit = 6000000 #(7*1353641)\n",
    "upper_limit = 100000000 #(8*1353641)\n",
    "alpha_value = 0.002\n",
    "# Create a new figure and an axes instance\n",
    "fig, ax = plt.subplots(figsize=(12,12))\n",
    "# Create a circle patch\n",
    "#circle = Circle((0, 0), 11.5, color='red', fill=False, label = 'LST1 full mirror')  # Center at (0.5, 0.5) with radius 0.2\n",
    "#ax.add_patch(circle)\n",
    "\n",
    "x = df_good_data['impact_x_array'][df_good_data['ring_completeness'] > 0][low_limit:upper_limit]\n",
    "y = df_good_data['impact_y_array'][df_good_data['ring_completeness'] > 0][low_limit:upper_limit]\n",
    "# Add the circle to the Axes\n",
    "\n",
    "\n",
    "# Set the aspect of the plot to equal to make sure the circle is not oval\n",
    "ax.set_aspect('equal')\n",
    "\n",
    "ax.scatter(x, y, alpha = alpha_value, s = 1, marker = 'x')\n",
    "ax.set_xlabel(\"Impact parameter X [m]\")\n",
    "ax.set_ylabel(\"Impact parameter Y [m]\")\n",
    "ax.set_title(f\"Reconstructed impact points of observed {(upper_limit-low_limit):.0E} the muons on the LST mirror\") #, transparency of dots = 1\")\n",
    "handles, labels = ax.get_legend_handles_labels()\n",
    "for center_x, center_y in zip(first_column, second_column):\n",
    "    hex = RegularPolygon((center_y*0.01, center_x*0.01-0.269), numVertices=6, radius=0.85, alpha=0.3, edgecolor='k', fill=False)\n",
    "    ax.add_patch(hex)\n",
    "plt.autoscale(enable = True)\n",
    "#ax.legend(handles, labels)\n",
    "plt.savefig(f'/Users/vdk/muons2024/images/ImpactPoints_{(low_limit)}to{(upper_limit)}muons_Alpha{alpha_value}.png', dpi=200, format='png', bbox_inches='tight')\n",
    "plt.grid(alpha=0.15)\n",
    "plt.show()"
   ]
  },
  {
   "cell_type": "code",
   "execution_count": null,
   "metadata": {},
   "outputs": [],
   "source": []
  },
  {
   "cell_type": "markdown",
   "metadata": {},
   "source": [
    "#### Play with different dates"
   ]
  },
  {
   "cell_type": "code",
   "execution_count": null,
   "metadata": {},
   "outputs": [],
   "source": [
    "start_date = datetime.strptime(\"2023-01-01 00:00:00.0\", \"%Y-%m-%d %H:%M:%S.%f\").timestamp()\n",
    "end_date = datetime.strptime(\"2023-12-31 00:00:00.0\", \"%Y-%m-%d %H:%M:%S.%f\").timestamp()\n",
    "x_arr = df_good_data['impact_x_array'][(df_good_data['event_time'] > start_date) & (df_good_data['event_time'] < end_date)]\n",
    "y_arr = df_good_data['impact_y_array'][(df_good_data['event_time'] > start_date) & (df_good_data['event_time'] < end_date)]\n",
    "print(f\"Number of points = {len(x_arr)}\")\n",
    "alpha_value = 0.007\n",
    "fig, ax = plt.subplots(figsize=(12,12))\n",
    "ax.set_aspect('equal')\n",
    "\n",
    "ax.scatter(x_arr, y_arr, alpha = alpha_value, s = 1, marker = 'x')\n",
    "ax.set_xlabel(\"Impact parameter X [m]\")\n",
    "ax.set_ylabel(\"Impact parameter Y [m]\")\n",
    "#ax.set_title(f\"Reconstructed impact points of observed {(upper_limit-low_limit):.0E} the muons on the LST mirror, transparency of dots = 1\")\n",
    "\n",
    "for center_x, center_y in zip(first_column, second_column):\n",
    "    hex = RegularPolygon((center_y*0.01, center_x*0.01-0.269), numVertices=6, radius=0.85, alpha=0.3, edgecolor='k', fill=False)\n",
    "    ax.add_patch(hex)\n",
    "plt.autoscale(enable = True)\n",
    "#plt.savefig(f'/Users/vdk/muons2024/images/TimeImpactStudy/ImpactPoints_{len(x_arr)}muons_2021year_Alpha{alpha_value}.png', dpi=100, format='png', bbox_inches='tight')\n",
    "plt.xticks(np.arange(-11, 11, 0.5), fontsize = 6)  # Adjust the 0.5 to make it denser or less dense\n",
    "plt.yticks(np.arange(-11, 11, 0.5)) \n",
    "plt.grid(alpha=0.75)\n",
    "#plt.show()"
   ]
  },
  {
   "cell_type": "code",
   "execution_count": null,
   "metadata": {},
   "outputs": [],
   "source": [
    "xmin, xmax = 6.5, 8\n",
    "ymin, ymax = -5.5, -4\n",
    "\n",
    "# Define conditions\n",
    "condition_x = (x_arr >= xmin) & (x_arr <= xmax)\n",
    "condition_y = (y_arr >= ymin) & (y_arr <= ymax)\n",
    "\n",
    "# Combine conditions\n",
    "combined_condition = condition_x & condition_y\n",
    "\n",
    "# Filter indices\n",
    "filtered_indices = x_arr[combined_condition].index\n",
    "\n",
    "# Print the filtered indices\n",
    "print(len(filtered_indices))"
   ]
  },
  {
   "cell_type": "code",
   "execution_count": null,
   "metadata": {},
   "outputs": [],
   "source": [
    "114148/4"
   ]
  },
  {
   "cell_type": "code",
   "execution_count": null,
   "metadata": {},
   "outputs": [],
   "source": [
    "5723499/(np.pi*(10**2) - np.pi*(2)**2)"
   ]
  },
  {
   "cell_type": "code",
   "execution_count": null,
   "metadata": {},
   "outputs": [],
   "source": [
    "28537/18977.565783989998"
   ]
  },
  {
   "cell_type": "code",
   "execution_count": null,
   "metadata": {},
   "outputs": [],
   "source": [
    "60493/2.25"
   ]
  },
  {
   "cell_type": "code",
   "execution_count": null,
   "metadata": {},
   "outputs": [],
   "source": [
    "(85636/4)/18977.565783989998"
   ]
  },
  {
   "cell_type": "code",
   "execution_count": null,
   "metadata": {},
   "outputs": [],
   "source": [
    "114148/85636"
   ]
  },
  {
   "cell_type": "code",
   "execution_count": null,
   "metadata": {},
   "outputs": [],
   "source": [
    "xmin, xmax = -8, -6.5\n",
    "ymin, ymax = -5.5, -4\n",
    "\n",
    "# Define conditions\n",
    "condition_x = (x_arr >= xmin) & (x_arr <= xmax)\n",
    "condition_y = (y_arr >= ymin) & (y_arr <= ymax)\n",
    "\n",
    "# Combine conditions\n",
    "combined_condition = condition_x & condition_y\n",
    "\n",
    "# Filter indices\n",
    "filtered_indices = x_arr[combined_condition].index\n",
    "\n",
    "# Print the filtered indices\n",
    "print(len(filtered_indices))"
   ]
  },
  {
   "cell_type": "code",
   "execution_count": null,
   "metadata": {},
   "outputs": [],
   "source": [
    "(1/np.tan(np.deg2rad(1.2))) * 0.85\n"
   ]
  },
  {
   "cell_type": "code",
   "execution_count": null,
   "metadata": {},
   "outputs": [],
   "source": [
    "start_date = datetime.strptime(\"2023-01-01 00:00:00.0\", \"%Y-%m-%d %H:%M:%S.%f\").timestamp()\n",
    "end_date = datetime.strptime(\"2024-12-31 00:00:00.0\", \"%Y-%m-%d %H:%M:%S.%f\").timestamp()\n",
    "x_arr = df_good_data['impact_x_array'][(df_good_data['event_time'] > start_date) & (df_good_data['event_time'] < end_date)]\n",
    "y_arr = df_good_data['impact_y_array'][(df_good_data['event_time'] > start_date) & (df_good_data['event_time'] < end_date)]\n",
    "print(f\"Number of points = {len(x_arr)}\")\n",
    "alpha_value = 0.005\n",
    "fig, ax = plt.subplots(figsize=(12,12))\n",
    "ax.set_aspect('equal')\n",
    "\n",
    "ax.scatter(x_arr, y_arr, alpha = alpha_value, s = 1, marker = 'x')\n",
    "ax.set_xlabel(\"Impact parameter X [m]\")\n",
    "ax.set_ylabel(\"Impact parameter Y [m]\")\n",
    "#ax.set_title(f\"Reconstructed impact points of observed {(upper_limit-low_limit):.0E} the muons on the LST mirror, transparency of dots = 1\")\n",
    "\n",
    "for center_x, center_y in zip(first_column, second_column):\n",
    "    hex = RegularPolygon((center_y*0.01, center_x*0.01-0.269), numVertices=6, radius=0.85, alpha=0.3, edgecolor='k', fill=False)\n",
    "    ax.add_patch(hex)\n",
    "plt.autoscale(enable = True)\n",
    "#plt.savefig(f'/Users/vdk/muons2024/images//ImpactPoints_{len(x_arr)}muons_2023year_Alpha{alpha_value}.png', dpi=200, format='png', bbox_inches='tight')\n",
    "# plt.xticks(np.arange(-11, 11, 0.5), fontsize = 7)  # Adjust the 0.5 to make it denser or less dense\n",
    "# plt.yticks(np.arange(-11, 11, 0.5)) \n",
    "plt.grid(alpha=0.25)\n",
    "#plt.show()"
   ]
  },
  {
   "cell_type": "code",
   "execution_count": null,
   "metadata": {},
   "outputs": [],
   "source": [
    "plt.figure(figsize=(12,4))\n",
    "z,x,c = plt.hist(df_good_data['impact_x_array'][(df_good_data['event_time'] > start_date) & (df_good_data['event_time'] < end_date)], bins = 100, alpha = 0.8, density=True)\n",
    "plt.xlim(-12.5,12.5)\n",
    "plt.grid(alpha = 0.7)"
   ]
  },
  {
   "cell_type": "code",
   "execution_count": null,
   "metadata": {},
   "outputs": [],
   "source": [
    "start_date = datetime.strptime(\"2024-01-01 00:00:00.0\", \"%Y-%m-%d %H:%M:%S.%f\").timestamp()\n",
    "end_date = datetime.strptime(\"2024-12-31 00:00:00.0\", \"%Y-%m-%d %H:%M:%S.%f\").timestamp()\n",
    "x_arr = df_good_data['impact_x_array'][(df_good_data['event_time'] > start_date) & (df_good_data['event_time'] < end_date)]\n",
    "y_arr = df_good_data['impact_y_array'][(df_good_data['event_time'] > start_date) & (df_good_data['event_time'] < end_date)]\n",
    "\n",
    "alpha_value = 0.02\n",
    "fig, ax = plt.subplots(figsize=(12,12))\n",
    "ax.set_aspect('equal')\n",
    "\n",
    "ax.scatter(x_arr, y_arr, alpha = alpha_value, s = 1, marker = 'x')\n",
    "ax.set_xlabel(\"Impact parameter X [m]\")\n",
    "ax.set_ylabel(\"Impact parameter Y [m]\")\n",
    "#ax.set_title(f\"Reconstructed impact points of observed {(upper_limit-low_limit):.0E} the muons on the LST mirror, transparency of dots = 1\")\n",
    "\n",
    "for center_x, center_y in zip(first_column, second_column):\n",
    "    hex = RegularPolygon((center_y*0.01, center_x*0.01-0.269), numVertices=6, radius=0.85, alpha=0.3, edgecolor='k', fill=False)\n",
    "    ax.add_patch(hex)\n",
    "plt.autoscale(enable = True)\n",
    "#plt.savefig(f'/Users/vdk/muons2024/images/ZenithImpactStudy/ImpactPoints_{(low_limit)}to{(upper_limit)}muons_Alpha{alpha_value}.png', dpi=200, format='png', bbox_inches='tight')\n",
    "plt.grid(alpha=0.15)\n",
    "plt.show()"
   ]
  },
  {
   "cell_type": "code",
   "execution_count": null,
   "metadata": {},
   "outputs": [],
   "source": [
    "df_good_sim_data.columns"
   ]
  },
  {
   "cell_type": "markdown",
   "metadata": {},
   "source": [
    "### Simulated muons"
   ]
  },
  {
   "cell_type": "code",
   "execution_count": null,
   "metadata": {},
   "outputs": [],
   "source": [
    "low_limit = 0\n",
    "upper_limit = 2000000\n",
    "alpha_value = 0.1\n",
    "# Create a new figure and an axes instance\n",
    "fig, ax = plt.subplots(figsize=(12,12))\n",
    "# Create a circle patch\n",
    "# circle = Circle((0, 0), 11.5, color='red', fill=False, label = 'LST1 full mirror')  # Center at (0.5, 0.5) with radius 0.2\n",
    "# ax.add_patch(circle)\n",
    "# ax.set_aspect('equal')\n",
    "\n",
    "\n",
    "ax.scatter(df_good_sim_data['impact_x_array'][~df_good_sim_data['parameters_at_limit'] & df_good_sim_data['is_valid']], df_good_sim_data['impact_y_array'][~df_good_sim_data['parameters_at_limit'] & df_good_sim_data['is_valid']], alpha = alpha_value, s = 1, marker = 'x')\n",
    "#ax.scatter(without_problems['impact_x_array'], without_problems['impact_y_array'][:upper_limit], alpha = alpha_value, s = 1, marker = 'x')\n",
    "ax.set_xlabel(\"Impact parameter X [m]\")\n",
    "ax.set_ylabel(\"Impact parameter Y [m]\")\n",
    "ax.set_title(f\"Reconstructed impact points of simulated {(upper_limit-low_limit):.0E} the muons on the LST mirror, z=40, transparency of dots = 1\")\n",
    "handles, labels = ax.get_legend_handles_labels()\n",
    "for center_x, center_y in zip(first_column, second_column):\n",
    "    hex = RegularPolygon((center_y*0.01, center_x*0.01-0.269), numVertices=6, radius=0.85, alpha=0.3, edgecolor='k', fill=False)\n",
    "    ax.add_patch(hex)\n",
    "plt.autoscale(enable = True)\n",
    "#ax.legend(handles, labels)\n",
    "#plt.savefig(f'/Users/vdk/muons2024/images/ZenithImpactStudy/SimImpactPoints_1e6muons_Alpha{alpha_value}.png', dpi=200, format='png', bbox_inches='tight')\n",
    "plt.grid(alpha=0.15)\n",
    "plt.show()"
   ]
  },
  {
   "cell_type": "code",
   "execution_count": null,
   "metadata": {},
   "outputs": [],
   "source": [
    "plt.figure(figsize=(12,4))\n",
    "z,x,c = plt.hist(df_good_sim_data['impact_x_array'][~df_good_sim_data['parameters_at_limit'] & df_good_sim_data['is_valid']],  bins = 100, alpha = 0.8, density=True, label = 'Sim data')\n",
    "#z,x,c = plt.hist(df_good_data['impact_y_array'][(df_good_data['event_time'] > start_date) & (df_good_data['event_time'] < end_date)], bins = 100, alpha = 0.8, density=True,label = 'Obs data')\n",
    "plt.legend()\n",
    "plt.xlim(-12.5,12.5)\n",
    "plt.grid(alpha = 0.7)"
   ]
  },
  {
   "cell_type": "code",
   "execution_count": null,
   "metadata": {},
   "outputs": [],
   "source": [
    "len(df_good_sim_data['impact_x_array'][~df_good_sim_data['parameters_at_limit'] & df_good_sim_data['is_valid']])"
   ]
  },
  {
   "cell_type": "code",
   "execution_count": null,
   "metadata": {},
   "outputs": [],
   "source": [
    "df_good_data"
   ]
  },
  {
   "cell_type": "code",
   "execution_count": null,
   "metadata": {},
   "outputs": [],
   "source": [
    "len(df_good_sim_data)"
   ]
  },
  {
   "cell_type": "markdown",
   "metadata": {},
   "source": [
    "### Lets play now with transparency of a dots"
   ]
  },
  {
   "cell_type": "markdown",
   "metadata": {},
   "source": [
    "#### Simulated data"
   ]
  },
  {
   "cell_type": "code",
   "execution_count": null,
   "metadata": {},
   "outputs": [],
   "source": [
    "low_limit = 0\n",
    "upper_limit = len(df_good_sim_data)\n",
    "alpha_value = 1\n",
    "# Create a new figure and an axes instance\n",
    "fig, ax = plt.subplots(figsize=(12,12))\n",
    "# Create a circle patch\n",
    "# circle = Circle((0, 0), 11.5, color='red', fill=False, label = 'LST1 full mirror')  # Center at (0.5, 0.5) with radius 0.2\n",
    "# ax.add_patch(circle)\n",
    "# # Set the aspect of the plot to equal to make sure the circle is not oval\n",
    "# ax.set_aspect('equal')\n",
    "\n",
    "#ax.scatter(df_good_sim_data['impact_x_array'][low_limit:upper_limit], df_good_sim_data['impact_y_array'][low_limit:upper_limit], alpha = alpha_value, s = 1, marker = 'x')\n",
    "#ax.scatter(df_good_sim_data['impact_x_array'][(df_good_sim_data['is_valid']) | (~df_good_sim_data['parameters_at_limit'])], df_good_sim_data['impact_y_array'][(df_good_sim_data['is_valid']) | (~df_good_sim_data['parameters_at_limit'])], alpha = alpha_value, s = 1, marker = 'x')\n",
    "ax.scatter(df_good_sim_data['impact_x_array'][(~df_good_sim_data['parameters_at_limit'])], df_good_sim_data['impact_y_array'][(~df_good_sim_data['parameters_at_limit'])], alpha = alpha_value, s = 1, marker = 'x')\n",
    "ax.set_xlabel(\"Impact parameter X [m]\")\n",
    "ax.set_ylabel(\"Impact parameter Y [m]\")\n",
    "#ax.set_title(f\"Reconstructed impact points of the simulated {(upper_limit-low_limit):.0E} muons on the LST mirror, transparency of dots = {alpha_value}\")#\n",
    "ax.set_title(f\"Reconstructed impact points of the simulated {(upper_limit-low_limit):.2E} muons on the LST mirror, transparency of dots = {alpha_value}\")\n",
    "ax.set_title(f\"Reconstructed impact points of the simulated 1E+06 muons on the LST mirror, transparency of dots = {alpha_value}\")\n",
    "handles, labels = ax.get_legend_handles_labels()\n",
    "for center_x, center_y in zip(first_column, second_column):\n",
    "    hex = RegularPolygon((center_y*0.01, center_x*0.01-0.269), numVertices=6, radius=0.85, alpha=0.3, edgecolor='k', fill=False)\n",
    "    ax.add_patch(hex)\n",
    "plt.autoscale(enable = True)\n",
    "#ax.legend(handles, labels)\n",
    "#plt.savefig(f'/Users/vdk/muons2024/images/SimImpactPoints_NoParamLimit_zenith0_Alpha{alpha_value}.png', dpi=200, format='png', bbox_inches='tight')\n",
    "plt.grid(alpha=0.15)\n",
    "plt.show()"
   ]
  },
  {
   "cell_type": "code",
   "execution_count": null,
   "metadata": {},
   "outputs": [],
   "source": [
    "plt.figure(figsize=(12,4))\n",
    "#z,x,c = plt.hist(df_good_sim_data['impact_x_array'][(df_good_sim_data['is_valid']) & (~df_good_sim_data['parameters_at_limit'])],  bins = 100, alpha = 0.8, density=True, label = 'Sim data')\n",
    "z,x,c = plt.hist(df_good_sim_data['impact_x_array'][(~df_good_sim_data['parameters_at_limit'])],  bins = 100, alpha = 0.8, density=True, label = 'Sim data')\n",
    "#z,x,c = plt.hist(df_good_data['impact_y_array'][(df_good_data['event_time'] > start_date) & (df_good_data['event_time'] < end_date)], bins = 100, alpha = 0.8, density=True,label = 'Obs data')\n",
    "plt.legend()\n",
    "plt.xlim(-12.5,12.5)\n",
    "plt.grid(alpha = 0.7)"
   ]
  },
  {
   "cell_type": "code",
   "execution_count": null,
   "metadata": {},
   "outputs": [],
   "source": [
    "plt.figure(figsize=(12,4))\n",
    "#z,x,c = plt.hist(df_good_sim_data['impact_x_array'][(df_good_sim_data['is_valid']) & (~df_good_sim_data['parameters_at_limit'])],  bins = 100, alpha = 0.8, density=True, label = 'Sim data')\n",
    "z,x,c = plt.hist(df_good_sim_data['impact_x_array'][(~df_good_sim_data['parameters_at_limit'])],  bins = 100, alpha = 0.8, density=True, label = 'Sim data')\n",
    "#z,x,c = plt.hist(df_good_data['impact_y_array'][(df_good_data['event_time'] > start_date) & (df_good_data['event_time'] < end_date)], bins = 100, alpha = 0.8, density=True,label = 'Obs data')\n",
    "plt.legend()\n",
    "plt.xlim(-12.5,12.5)\n",
    "plt.grid(alpha = 0.7)"
   ]
  },
  {
   "cell_type": "markdown",
   "metadata": {},
   "source": [
    "### Percentage of unvalid events"
   ]
  },
  {
   "cell_type": "code",
   "execution_count": null,
   "metadata": {},
   "outputs": [],
   "source": [
    "len(df_good_sim_data['impact_x_array'][(~df_good_sim_data['is_valid']) | (df_good_sim_data['parameters_at_limit'])])/len(df_good_sim_data['impact_x_array'])"
   ]
  },
  {
   "cell_type": "markdown",
   "metadata": {},
   "source": [
    "### Optical efficiency in the invalid events"
   ]
  },
  {
   "cell_type": "code",
   "execution_count": null,
   "metadata": {},
   "outputs": [],
   "source": [
    "np.mean(df_good_sim_data['muon_efficiency'][(df_good_sim_data['is_valid']) & (~df_good_sim_data['parameters_at_limit'])])\n",
    "#np.mean(df_good_sim_data['muon_efficiency'])\n",
    "len(df_good_sim_data['muon_efficiency'])\n",
    "len(df_good_sim_data['muon_efficiency'][(df_good_sim_data['is_valid']) & (~df_good_sim_data['parameters_at_limit'])])\n",
    "#len(df_good_sim_data['muon_efficiency'][(~df_good_sim_data['is_valid']) | (df_good_sim_data['parameters_at_limit'])])"
   ]
  },
  {
   "cell_type": "markdown",
   "metadata": {},
   "source": [
    "#### Observaed data"
   ]
  },
  {
   "cell_type": "code",
   "execution_count": null,
   "metadata": {},
   "outputs": [],
   "source": [
    "low_limit = 0\n",
    "upper_limit = 1500000\n",
    "alpha_value = 0.05\n",
    "# Create a new figure and an axes instance\n",
    "fig, ax = plt.subplots(figsize=(12,12))\n",
    "# Create a circle patch\n",
    "#circle = Circle((0, 0), 11.5, color='red', fill=False, label = 'LST1 full mirror')  # Center at (0.5, 0.5) with radius 0.2\n",
    "#ax.add_patch(circle)\n",
    "for mirror_x, mirror_y in zip(first_column,second_column):\n",
    "    circle = Circle((mirror_y*0.01, (mirror_x*0.01-0.269)), 0.75, color='k', fill=False, alpha = 0.5)  # Center at (0.5, 0.5) with radius 0.2\n",
    "    ax.add_patch(circle)\n",
    "# Set the aspect of the plot to equal to make sure the circle is not oval\n",
    "ax.set_aspect('equal')\n",
    "\n",
    "ax.scatter(df_good_data['impact_x_array'][low_limit:upper_limit], df_good_data['impact_y_array'][low_limit:upper_limit], alpha = alpha_value, s = 1, marker = 'x')\n",
    "ax.set_xlabel(\"Impact parameter X [m]\")\n",
    "ax.set_ylabel(\"Impact parameter Y [m]\")\n",
    "ax.set_title(f\"Reconstructed impact points of the observed {(upper_limit-low_limit):.0E} muons on the LST mirror, transparency of dots = {alpha_value}\")\n",
    "handles, labels = ax.get_legend_handles_labels()\n",
    "#ax.legend(handles, labels)\n",
    "#plt.savefig('/Users/vdk/muons2024/images/ImpactPoints_19-23Y_Alpha1.png', dpi=200, format='png', bbox_inches='tight')\n",
    "plt.grid(alpha=0.15)\n",
    "plt.show()"
   ]
  },
  {
   "cell_type": "code",
   "execution_count": null,
   "metadata": {},
   "outputs": [],
   "source": [
    "df_to_check = df_good_data[low_limit:upper_limit]\n",
    "df_to_check_sim = df_good_sim_data[low_limit:upper_limit]\n",
    "stain_muons = df_to_check[\n",
    "    (df_to_check['impact_y_array'] > 0) & \n",
    "    (df_to_check['impact_y_array'] < 10) & \n",
    "    (df_to_check['impact_x_array'] > -2) & \n",
    "    (df_to_check['impact_x_array'] < 2)\n",
    "]\n",
    "regular_muons = df_to_check[\n",
    "    (df_to_check['impact_y_array'] > -2) & \n",
    "    (df_to_check['impact_y_array'] < 2) & \n",
    "    (df_to_check['impact_x_array'] > 0) & \n",
    "    (df_to_check['impact_x_array'] < 10)\n",
    "]\n",
    "sim_muons = df_to_check_sim[\n",
    "    (df_to_check_sim['impact_y_array'] > -2) & \n",
    "    (df_to_check_sim['impact_y_array'] < 2) & \n",
    "    (df_to_check_sim['impact_x_array'] > 0) & \n",
    "    (df_to_check_sim['impact_x_array'] < 10)\n",
    "]\n",
    "print(f\"Number of muons in the more dense region = {len(stain_muons)}\")\n",
    "print(f\"Number of muons in the region of lower density {len(regular_muons)}\")\n",
    "print(f\"Number of muons in the same region in simulations {len(sim_muons)}\")"
   ]
  },
  {
   "cell_type": "code",
   "execution_count": null,
   "metadata": {},
   "outputs": [],
   "source": [
    "min(df_good_sim_data['impact_parameter'])"
   ]
  },
  {
   "cell_type": "code",
   "execution_count": null,
   "metadata": {},
   "outputs": [],
   "source": [
    "\n",
    "\n",
    "low_limit = 1500000\n",
    "upper_limit = 3000000\n",
    "alpha_value = 0.01\n",
    "# Create a new figure and an axes instance\n",
    "fig, ax = plt.subplots(figsize=(9,9))\n",
    "# Create a circle patch\n",
    "# circle = Circle((0, 0), 11.5, color='red', fill=False, label = 'LST1 full mirror')  # Center at (0.5, 0.5) with radius 0.2\n",
    "# ax.add_patch(circle)\n",
    "\n",
    "\n",
    "\n",
    "# def hexagon(center_x, center_y, radius):\n",
    "#     \"\"\" Generate the vertices of a hexagon given center and radius \"\"\"\n",
    "#     angle = np.linspace(0, 2 * np.pi, 7)\n",
    "#     x_hexagon = center_x + radius * np.sin(angle)\n",
    "#     y_hexagon = center_y + radius * np.cos(angle)\n",
    "#     return x_hexagon, y_hexagon\n",
    "# x_hexagons=[]\n",
    "# y_hexagons=[]\n",
    "# # Plotting hexagons\n",
    "# for center_x, center_y in zip(first_column, second_column):\n",
    "#     x_hexagon, y_hexagon = hexagon(center_x*0.01, center_y*0.01, 0.75)\n",
    "#     print(center_x, x_hexagon)\n",
    "#     print(center_y, y_hexagon)\n",
    "#     hex_patch = patches.Polygon(np.column_stack([x_hexagon, y_hexagon]), closed=True, edgecolor='r', facecolor='none')\n",
    "#     ax.add_patch(hex_patch)\n",
    "\n",
    "for center_x, center_y in zip(first_column, second_column):\n",
    "    hex = RegularPolygon((center_y*0.01, center_x*0.01-0.269), numVertices=6, radius=0.85, alpha=0.7, edgecolor='k', fill=False)\n",
    "    ax.add_patch(hex)\n",
    "plt.autoscale(enable = True)\n",
    "\n",
    "# for mirror_x, mirror_y in zip(first_column,second_column):\n",
    "#     circle = Circle((mirror_y*0.01, (mirror_x*0.01-0.269)), 0.75, color='k', fill=False, alpha = 0.5)  # Center at (0.5, 0.5) with radius 0.2\n",
    "#     ax.add_patch(circle)\n",
    "# Set the aspect of the plot to equal to make sure the circle is not oval\n",
    "ax.set_aspect('equal')\n",
    "\n",
    "ax.scatter(df_good_data['impact_x_array'][low_limit:upper_limit], df_good_data['impact_y_array'][low_limit:upper_limit], alpha = alpha_value, s = 1, marker = 'x')\n",
    "ax.set_xlabel(\"Impact parameter X [m]\")\n",
    "ax.set_ylabel(\"Impact parameter Y [m]\")\n",
    "ax.set_title(f\"Reconstructed impact points of the observed {(upper_limit-low_limit):.0E} muons on the LST mirror, transparency of dots = {alpha_value}\")\n",
    "handles, labels = ax.get_legend_handles_labels()\n",
    "#ax.legend(handles, labels)\n",
    "#plt.savefig('/Users/vdk/muons2024/images/ImpactPoints_19-23Y_Alpha1.png', dpi=200, format='png', bbox_inches='tight')\n",
    "plt.grid(alpha=0.15)\n",
    "plt.show()"
   ]
  },
  {
   "cell_type": "code",
   "execution_count": null,
   "metadata": {},
   "outputs": [],
   "source": [
    "np.column_stack([x_hexagon, y_hexagon])"
   ]
  },
  {
   "cell_type": "code",
   "execution_count": null,
   "metadata": {},
   "outputs": [],
   "source": [
    "# So, how much impact points we expect in one square element\n",
    "N = 1500000\n",
    "S1 = np.pi * (max(df_good_data['impact_parameter']))**2\n",
    "S2 = np.pi * (min(df_good_data['impact_parameter']))**2\n",
    "S = S1 - S2\n",
    "print(f\"We expect to have '{round(N/S,1)}' muons per area unit\")"
   ]
  },
  {
   "cell_type": "code",
   "execution_count": null,
   "metadata": {},
   "outputs": [],
   "source": [
    "# So, how much impact points we expect in one square element\n",
    "N = 1500000\n",
    "S1 = np.pi * (max(df_good_data['impact_parameter']))**2\n",
    "S2 = np.pi * (min(df_good_data['impact_parameter']))**2\n",
    "S = S1 - S2\n",
    "df_to_check = df_good_data[low_limit:upper_limit]\n",
    "stain_muons = df_to_check[\n",
    "    (df_to_check['impact_y_array'] > -9) & \n",
    "    (df_to_check['impact_y_array'] < -6) & \n",
    "    (df_to_check['impact_x_array'] > 1) & \n",
    "    (df_to_check['impact_x_array'] < 4)\n",
    "]\n",
    "regular_muons = df_to_check[\n",
    "    (df_to_check['impact_y_array'] > -9) & \n",
    "    (df_to_check['impact_y_array'] < -6) & \n",
    "    (df_to_check['impact_x_array'] < -3) & \n",
    "    (df_to_check['impact_x_array'] > -6)\n",
    "]\n",
    "print(f\"Number of muons in the more dense region = {len(stain_muons)/(3*3)}\")\n",
    "print(f\"Number of muons in the region of lower density {len(regular_muons)/(3*3)}\")\n",
    "print(f\"We expect to have '{round(N/S,1)}' muons per area unit\")\n"
   ]
  },
  {
   "cell_type": "code",
   "execution_count": null,
   "metadata": {},
   "outputs": [],
   "source": [
    "stain_muons = df_to_check[\n",
    "    (df_to_check['impact_y_array'] > -9) & \n",
    "    (df_to_check['impact_y_array'] < -6) & \n",
    "    (df_to_check['impact_x_array'] > 1) & \n",
    "    (df_to_check['impact_x_array'] < 4)\n",
    "]"
   ]
  },
  {
   "cell_type": "code",
   "execution_count": null,
   "metadata": {},
   "outputs": [],
   "source": [
    "low_limit = 3000000\n",
    "upper_limit = 4500000\n",
    "alpha_value = 0.05\n",
    "# Create a new figure and an axes instance\n",
    "fig, ax = plt.subplots(figsize=(12,12))\n",
    "# Create a circle patch\n",
    "circle = Circle((0, 0), 11.5, color='red', fill=False, label = 'LST1 full mirror')  # Center at (0.5, 0.5) with radius 0.2\n",
    "\n",
    "# Add the circle to the Axes\n",
    "ax.add_patch(circle)\n",
    "\n",
    "# Set the aspect of the plot to equal to make sure the circle is not oval\n",
    "ax.set_aspect('equal')\n",
    "\n",
    "ax.scatter(df_good_data['impact_x_array'][low_limit:upper_limit], df_good_data['impact_y_array'][low_limit:upper_limit], alpha = alpha_value, s = 1, marker = 'x')\n",
    "ax.set_xlabel(\"Impact parameter X [m]\")\n",
    "ax.set_ylabel(\"Impact parameter Y [m]\")\n",
    "ax.set_title(\"Reconstructed impact points of the observed muons on the LST mirror, transparency of dots = 1\")\n",
    "handles, labels = ax.get_legend_handles_labels()\n",
    "#ax.legend(handles, labels)\n",
    "#plt.savefig('/Users/vdk/muons2024/images/ImpactPoints_19-23Y_Alpha1.png', dpi=200, format='png', bbox_inches='tight')\n",
    "plt.grid(alpha=0.15)\n",
    "plt.show()"
   ]
  },
  {
   "cell_type": "code",
   "execution_count": null,
   "metadata": {},
   "outputs": [],
   "source": [
    "df_to_check = df_good_data[5000000:6000000]\n",
    "df_to_check[(df_to_check['impact_y_array'] > -10) & (df_to_check['impact_y_array'] < -7) & (df_to_check['impact_x_array'] > 0) & (df_to_check['impact_x_array'] < 4)]"
   ]
  },
  {
   "cell_type": "code",
   "execution_count": null,
   "metadata": {},
   "outputs": [],
   "source": [
    "df_to_check[(df_to_check['impact_y_array'] > -10) & (df_to_check['impact_y_array'] < -7) & (df_to_check['impact_x_array'] < 0) & (df_to_check['impact_x_array'] > -4)]"
   ]
  },
  {
   "cell_type": "code",
   "execution_count": null,
   "metadata": {},
   "outputs": [],
   "source": [
    "df_to_check = df_good_data[5000000:6000000]\n",
    "df_to_check[(df_to_check['impact_y_array'] > -10) & (df_to_check['impact_y_array'] < -7) & (df_to_check['impact_x_array'] > 0) & (df_to_check['impact_x_array'] < 4)]"
   ]
  },
  {
   "cell_type": "markdown",
   "metadata": {},
   "source": [
    "### Sorted by event time"
   ]
  },
  {
   "cell_type": "code",
   "execution_count": null,
   "metadata": {},
   "outputs": [],
   "source": [
    "df_sorted = df_good_data.sort_values(by='event_time', ascending=True)"
   ]
  },
  {
   "cell_type": "code",
   "execution_count": null,
   "metadata": {},
   "outputs": [],
   "source": [
    "low_limit = 1700000\n",
    "upper_limit = 1900000\n",
    "alpha_value = 0.2\n",
    "# Create a new figure and an axes instance\n",
    "fig, ax = plt.subplots(figsize=(12,12))\n",
    "# Create a circle patch\n",
    "# circle = Circle((0, 0), 11.5, color='red', fill=False, label = 'LST1 full mirror')  # Center at (0.5, 0.5) with radius 0.2\n",
    "\n",
    "# # Add the circle to the Axes\n",
    "# ax.add_patch(circle)\n",
    "for mirror_x, mirror_y in zip(first_column,second_column):\n",
    "    circle = Circle((mirror_y*0.01, (mirror_x*0.01-0.269)), 0.75, color='k', fill=False, alpha = 0.5)  # Center at (0.5, 0.5) with radius 0.2\n",
    "    ax.add_patch(circle)\n",
    "\n",
    "# Set the aspect of the plot to equal to make sure the circle is not oval\n",
    "ax.set_aspect('equal')\n",
    "\n",
    "ax.scatter(df_sorted['impact_x_array'][low_limit:upper_limit], df_sorted['impact_y_array'][low_limit:upper_limit], alpha = alpha_value, s = 1, marker = 'x')\n",
    "ax.set_xlabel(\"Impact parameter X [m]\")\n",
    "ax.set_ylabel(\"Impact parameter Y [m]\")\n",
    "ax.set_title(f\"Reconstructed impact points of the observed {(upper_limit-low_limit):.0E} muons on the LST mirror, transparency of dots = {alpha_value}\")\n",
    "handles, labels = ax.get_legend_handles_labels()\n",
    "#ax.legend(handles, labels)\n",
    "#plt.savefig('/Users/vdk/muons2024/images/ImpactPoints_19-23Y_Alpha1.png', dpi=200, format='png', bbox_inches='tight')\n",
    "print(f\"Start date {datetime.fromtimestamp(min(df_sorted['event_time'][low_limit:upper_limit])).strftime('%Y-%m-%d %H:%M:%S.%f')}\")\n",
    "print(f\"End date {datetime.fromtimestamp(max(df_sorted['event_time'][low_limit:upper_limit])).strftime('%Y-%m-%d %H:%M:%S.%f')}\")\n",
    "#plt.grid(alpha=0.15)\n",
    "plt.grid(alpha=1)\n",
    "plt.show()"
   ]
  },
  {
   "cell_type": "code",
   "execution_count": null,
   "metadata": {},
   "outputs": [],
   "source": [
    "low_limit = 1700000\n",
    "upper_limit = 1900000\n",
    "alpha_value = 0.1\n",
    "# Create a new figure and an axes instance\n",
    "fig, ax = plt.subplots(figsize=(12,12))\n",
    "# Create a circle patch\n",
    "circle = Circle((0, 0), 11.5, color='red', fill=False, label = 'LST1 full mirror')\n",
    "\n",
    "# Add the circle to the Axes\n",
    "ax.add_patch(circle)\n",
    "\n",
    "# Set the aspect of the plot to equal to make sure the circle is not oval\n",
    "ax.set_aspect('equal')\n",
    "\n",
    "ax.scatter(df_to_check_sim['impact_x_array'], df_to_check_sim['impact_y_array'], alpha = alpha_value, s = 1, marker = 'x')\n",
    "ax.set_xlabel(\"Impact parameter X [m]\")\n",
    "ax.set_ylabel(\"Impact parameter Y [m]\")\n",
    "ax.set_title(f\"Reconstructed impact points of the simulated {(upper_limit-low_limit):.0E} muons on the LST mirror, transparency of dots = {alpha_value}\")\n",
    "handles, labels = ax.get_legend_handles_labels()\n",
    "#ax.legend(handles, labels)\n",
    "#plt.savefig('/Users/vdk/muons2024/images/ImpactPoints_19-23Y_Alpha1.png', dpi=200, format='png', bbox_inches='tight')\n",
    "print(f\"Start date {datetime.fromtimestamp(min(df_sorted['event_time'][low_limit:upper_limit])).strftime('%Y-%m-%d %H:%M:%S.%f')}\")\n",
    "print(f\"End date {datetime.fromtimestamp(max(df_sorted['event_time'][low_limit:upper_limit])).strftime('%Y-%m-%d %H:%M:%S.%f')}\")\n",
    "plt.grid(alpha=0.15)\n",
    "plt.show()"
   ]
  },
  {
   "cell_type": "code",
   "execution_count": null,
   "metadata": {},
   "outputs": [],
   "source": [
    "df_to_check = df_sorted[low_limit:upper_limit]\n",
    "df_to_check_sim = df_good_sim_data[1200000:1400000]\n",
    "stain_muons = df_to_check[\n",
    "    (df_to_check['impact_y_array'] > -9) & \n",
    "    (df_to_check['impact_y_array'] < -6) & \n",
    "    (df_to_check['impact_x_array'] > 1) & \n",
    "    (df_to_check['impact_x_array'] < 4)\n",
    "]\n",
    "regular_muons = df_to_check[\n",
    "    (df_to_check['impact_y_array'] > -9) & \n",
    "    (df_to_check['impact_y_array'] < -6) & \n",
    "    (df_to_check['impact_x_array'] < -3) & \n",
    "    (df_to_check['impact_x_array'] > -6)\n",
    "]\n",
    "sim_muons = df_to_check_sim[\n",
    "    (df_to_check_sim['impact_y_array'] > -9) & \n",
    "    (df_to_check_sim['impact_y_array'] < -6) & \n",
    "    (df_to_check_sim['impact_x_array'] < -3) & \n",
    "    (df_to_check_sim['impact_x_array'] > -6)\n",
    "]\n",
    "print(f\"Number of muons in the more dense region = {len(stain_muons)}\")\n",
    "print(f\"Number of muons in the region of lower density {len(regular_muons)}\")\n",
    "print(f\"Number of muons in the same region in simulations {len(sim_muons)}\")"
   ]
  },
  {
   "cell_type": "code",
   "execution_count": null,
   "metadata": {},
   "outputs": [],
   "source": [
    "df_to_check = df_sorted[low_limit:upper_limit]\n",
    "df_to_check_sim = df_good_sim_data[1200000:1400000]\n",
    "stain_muons = df_to_check[\n",
    "    (df_to_check['impact_y_array'] > -9) & \n",
    "    (df_to_check['impact_y_array'] < -6) & \n",
    "    (df_to_check['impact_x_array'] > 1) & \n",
    "    (df_to_check['impact_x_array'] < 4)\n",
    "]\n",
    "regular_muons = df_to_check[\n",
    "    (df_to_check['impact_y_array'] > -9) & \n",
    "    (df_to_check['impact_y_array'] < -6) & \n",
    "    (df_to_check['impact_x_array'] > 3) & \n",
    "    (df_to_check['impact_x_array'] < 5)\n",
    "]\n",
    "sim_muons = df_to_check_sim[\n",
    "    (df_to_check_sim['impact_y_array'] > -9) & \n",
    "    (df_to_check_sim['impact_y_array'] < -6) & \n",
    "    (df_to_check_sim['impact_x_array'] > 1) & \n",
    "    (df_to_check_sim['impact_x_array'] < 4)\n",
    "]\n",
    "print(f\"Number of muons in the more dense region = {len(stain_muons)}\")\n",
    "print(f\"Number of muons in the region of lower density {len(regular_muons)}\")\n",
    "print(f\"Number of muons in the same region in simulations {len(sim_muons)}\")"
   ]
  },
  {
   "cell_type": "code",
   "execution_count": null,
   "metadata": {},
   "outputs": [],
   "source": [
    "df_to_check = df_sorted[low_limit:upper_limit]\n",
    "df_to_check[\n",
    "    (df_to_check['impact_y_array'] > -9) & \n",
    "    (df_to_check['impact_y_array'] < -6) & \n",
    "    (df_to_check['impact_x_array'] > 3) & \n",
    "    (df_to_check['impact_x_array'] < 5)\n",
    "]"
   ]
  },
  {
   "cell_type": "markdown",
   "metadata": {},
   "source": [
    "### Heatmap"
   ]
  },
  {
   "cell_type": "code",
   "execution_count": null,
   "metadata": {},
   "outputs": [],
   "source": [
    "# Assuming muon_centers and mirrors_centers are numpy arrays of shape (N, 2) for 2D coordinates\n",
    "# Replace with your actual data\n",
    "\n",
    "\n",
    "# Initialize the mirror_numbers array\n",
    "\n",
    "\n",
    "# Vectorize distance calculations\n",
    "for muon in muon_centers:\n",
    "    # Calculate distances from the current muon to all mirrors\n",
    "    distances = np.linalg.norm(mirrors_centers - muon, axis=2)\n",
    "    \n",
    "    # Find the index of the closest mirror\n",
    "    closest_mirror_index = np.argmin(distances)\n",
    "    \n",
    "    # Increment the count for the closest mirror\n",
    "    mirror_numbers[closest_mirror_index] += 1\n",
    "\n",
    "print(mirror_numbers)\n"
   ]
  },
  {
   "cell_type": "code",
   "execution_count": null,
   "metadata": {},
   "outputs": [],
   "source": [
    "muon_centers_full = np.vstack((df_good_sim_data['impact_x_array'][~df_good_sim_data['parameters_at_limit']], df_good_sim_data['impact_y_array'][~df_good_sim_data['parameters_at_limit']]))\n",
    "mirrors_centers_full = np.vstack((first_column, second_column))\n",
    "\n",
    "# Assuming muon_centers and mirrors_centers are numpy arrays of shape (N, 2) for 2D coordinates\n",
    "# Replace with your actual data\n",
    "muon_centers = np.random.rand(198, 2)  # Example data\n",
    "mirrors_centers = np.random.rand(15000, 2)  # Example data"
   ]
  },
  {
   "cell_type": "code",
   "execution_count": null,
   "metadata": {},
   "outputs": [],
   "source": [
    "mirror_numbers = np.zeros(len(mirrors_centers), dtype=int)\n",
    "muon_centers = np.vstack((df_good_sim_data['impact_x_array'][~df_good_sim_data['parameters_at_limit'] & df_good_sim_data['is_valid']], df_good_sim_data['impact_y_array'][~df_good_sim_data['parameters_at_limit'] & df_good_sim_data['is_valid']])).T\n",
    "#muon_centers = np.vstack((df_good_sim_data['impact_x_array'][df_good_sim_data['is_valid']], df_good_sim_data['impact_y_array'][df_good_sim_data['is_valid']])).T\n",
    "#muon_centers = np.vstack((df_good_sim_data['impact_x_array'][~df_good_sim_data['is_valid']], df_good_sim_data['impact_y_array'][~df_good_sim_data['is_valid']])).T\n",
    "#muon_centers = np.vstack((df_good_sim_data['impact_x_array'][~df_good_sim_data['parameters_at_limit']], df_good_sim_data['impact_y_array'][~df_good_sim_data['parameters_at_limit']])).T\n",
    "\n",
    "mirrors_centers = np.vstack((np.array(second_column)*0.01, np.array(first_column)*0.01)).T\n",
    "\n",
    "print(muon_centers.shape)\n",
    "print(mirrors_centers.shape)\n",
    "# Initialize the mirror_numbers array\n",
    "mirror_numbers = np.zeros(len(mirrors_centers), dtype=int)\n",
    "\n",
    "# Vectorize distance calculations\n",
    "for muon in muon_centers:\n",
    "    # Calculate distances from the current muon to all mirrors\n",
    "    distances = np.linalg.norm(mirrors_centers - muon, axis=1)\n",
    "    \n",
    "    # Find the index of the closest mirror\n",
    "    closest_mirror_index = np.argmin(distances)\n",
    "    \n",
    "    # Increment the count for the closest mirror\n",
    "    mirror_numbers[closest_mirror_index] += 1\n",
    "\n",
    "#print(mirror_numbers)\n",
    "# Separate the coordinates into x and y lists\n",
    "x, y = zip(*mirrors_centers)\n",
    "\n",
    "# Create the scatter plot\n",
    "plt.figure(figsize=(12, 9))\n",
    "scatter = plt.scatter(x, y, c=mirror_numbers, cmap='viridis', s=1100, edgecolor='k', marker = 'h')\n",
    "\n",
    "# Add a colorbar\n",
    "cbar = plt.colorbar(scatter)\n",
    "cbar.set_label('Number of Events')\n",
    "\n",
    "# Add labels and title\n",
    "plt.xlabel('X Coordinate')\n",
    "plt.ylabel('Y Coordinate')\n",
    "plt.title('Heatmap of Events around Coordinates')\n",
    "\n",
    "# Show the plot\n",
    "plt.show()\n"
   ]
  },
  {
   "cell_type": "code",
   "execution_count": null,
   "metadata": {},
   "outputs": [],
   "source": [
    "mirror_numbers = np.zeros(len(mirrors_centers), dtype=int)\n",
    "muon_centers = np.vstack((df_good_data['impact_x_array'], df_good_data['impact_y_array'])).T\n",
    "mirrors_centers = np.vstack((np.array(second_column)*0.01, np.array(first_column)*0.01)).T\n",
    "\n",
    "print(muon_centers.shape)\n",
    "print(mirrors_centers.shape)\n",
    "# Initialize the mirror_numbers array\n",
    "mirror_numbers = np.zeros(len(mirrors_centers), dtype=int)\n",
    "\n",
    "# Vectorize distance calculations\n",
    "for muon in muon_centers:\n",
    "    # Calculate distances from the current muon to all mirrors\n",
    "    distances = np.linalg.norm(mirrors_centers - muon, axis=1)\n",
    "    \n",
    "    # Find the index of the closest mirror\n",
    "    closest_mirror_index = np.argmin(distances)\n",
    "    \n",
    "    # Increment the count for the closest mirror\n",
    "    mirror_numbers[closest_mirror_index] += 1\n",
    "\n",
    "print(mirror_numbers)\n",
    "# Separate the coordinates into x and y lists\n"
   ]
  },
  {
   "cell_type": "code",
   "execution_count": null,
   "metadata": {},
   "outputs": [],
   "source": [
    "x, y = zip(*mirrors_centers)\n",
    "\n",
    "# Create the scatter plot\n",
    "plt.figure(figsize=(12, 9.5))\n",
    "scatter = plt.scatter(x, y, c=mirror_numbers, cmap='viridis', s=1400, edgecolor='k', marker = 'h')\n",
    "\n",
    "# Add a colorbar\n",
    "cbar = plt.colorbar(scatter)\n",
    "cbar.set_label('Number of Events')\n",
    "\n",
    "# Add labels and title\n",
    "plt.xlabel('X Coordinate')\n",
    "plt.ylabel('Y Coordinate')\n",
    "plt.title('Heatmap of Events around Coordinates')\n",
    "\n",
    "# Show the plot\n",
    "plt.show()"
   ]
  }
 ],
 "metadata": {
  "kernelspec": {
   "display_name": "cta-dev",
   "language": "python",
   "name": "python3"
  },
  "language_info": {
   "codemirror_mode": {
    "name": "ipython",
    "version": 3
   },
   "file_extension": ".py",
   "mimetype": "text/x-python",
   "name": "python",
   "nbconvert_exporter": "python",
   "pygments_lexer": "ipython3",
   "version": "3.10.14"
  }
 },
 "nbformat": 4,
 "nbformat_minor": 2
}
