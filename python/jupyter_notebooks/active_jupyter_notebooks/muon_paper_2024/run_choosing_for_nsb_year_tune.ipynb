{
 "cells": [
  {
   "cell_type": "code",
   "execution_count": null,
   "metadata": {},
   "outputs": [],
   "source": [
    "import pandas as pd\n",
    "import numpy as np\n",
    "import glob\n",
    "import gc\n",
    "import matplotlib.pyplot as plt\n",
    "from matplotlib import colors\n",
    "from astropy.coordinates import SkyCoord, AltAz, angular_separation\n",
    "import astropy.units as u\n",
    "from scipy.stats import binned_statistic\n",
    "from scipy.signal import lombscargle\n",
    "from datetime import datetime\n",
    "import seaborn as sns\n",
    "import scipy as sc\n",
    "max_diffuse_nsb_std = 2.3\n",
    "test_file = '/Users/vdk/muons2024/v0.9-v0.10/20240228/DL1_datacheck_20240228.h5'\n",
    "with pd.HDFStore(test_file) as hdf:\n",
    "    # This prints a list of all group names:\n",
    "    print(hdf.keys())\n",
    "    # print(hdf['cosmics'])\n",
    "    # if '/cosmics_intensity_spectrum' in hdf.keys():\n",
    "    #     print('hi')\n",
    "        \n",
    "import h5py \n",
    "start_date_2019 = datetime.strptime(\"2019-01-01 00:00:00.0\", \"%Y-%m-%d %H:%M:%S.%f\").timestamp()\n",
    "end_date_2019 = datetime.strptime(\"2019-12-31 00:00:00.0\", \"%Y-%m-%d %H:%M:%S.%f\").timestamp()\n",
    "    \n",
    "start_date_2020 = datetime.strptime(\"2020-01-01 00:00:00.0\", \"%Y-%m-%d %H:%M:%S.%f\").timestamp()\n",
    "end_date_2020 = datetime.strptime(\"2020-12-31 00:00:00.0\", \"%Y-%m-%d %H:%M:%S.%f\").timestamp()\n",
    "\n",
    "start_date_2021 = datetime.strptime(\"2021-01-01 00:00:00.0\", \"%Y-%m-%d %H:%M:%S.%f\").timestamp()\n",
    "end_date_2021 = datetime.strptime(\"2021-12-31 00:00:00.0\", \"%Y-%m-%d %H:%M:%S.%f\").timestamp()\n",
    "\n",
    "start_date_2022 = datetime.strptime(\"2022-01-01 00:00:00.0\", \"%Y-%m-%d %H:%M:%S.%f\").timestamp()\n",
    "end_date_2022 = datetime.strptime(\"2022-12-31 00:00:00.0\", \"%Y-%m-%d %H:%M:%S.%f\").timestamp()\n",
    "\n",
    "start_date_2023 = datetime.strptime(\"2023-01-01 00:00:00.0\", \"%Y-%m-%d %H:%M:%S.%f\").timestamp()\n",
    "end_date_2023 = datetime.strptime(\"2023-12-31 00:00:00.0\", \"%Y-%m-%d %H:%M:%S.%f\").timestamp()\n",
    "\n",
    "start_date_2024 = datetime.strptime(\"2024-01-01 00:00:00.0\", \"%Y-%m-%d %H:%M:%S.%f\").timestamp()\n",
    "end_date_2024 = datetime.strptime(\"2024-12-31 00:00:00.0\", \"%Y-%m-%d %H:%M:%S.%f\").timestamp()"
   ]
  },
  {
   "cell_type": "markdown",
   "metadata": {},
   "source": [
    "### Datachek only for 2024 year"
   ]
  },
  {
   "cell_type": "code",
   "execution_count": null,
   "metadata": {},
   "outputs": [],
   "source": [
    "files = glob.glob('/Users/vdk/muons2024/datachecks/2024_datachecks/DL1_datacheck_*.h5')\n",
    "files.sort()\n",
    "\n",
    "runsummary = []\n",
    "cosmics = []\n",
    "cis = []\n",
    "for file in files:\n",
    "    try:\n",
    "        runsummary.append(pd.read_hdf(file, 'runsummary'))\n",
    "        cosmics.append(pd.read_hdf(file, 'cosmics'))\n",
    "        cis.append(pd.read_hdf(file, 'cosmics_intensity_spectrum'))\n",
    "    except:\n",
    "        print(file)\n",
    "    \n",
    "cosmics_pd = pd.concat(cosmics, ignore_index=True)\n",
    "runsummary_pd = pd.concat(runsummary, ignore_index=True)\n",
    "cis_pd = pd.concat(cis, ignore_index=True)\n",
    "cosmics_pd.columns"
   ]
  },
  {
   "cell_type": "markdown",
   "metadata": {},
   "source": [
    "#### Time of observations"
   ]
  },
  {
   "cell_type": "code",
   "execution_count": null,
   "metadata": {},
   "outputs": [],
   "source": [
    "z,x,c = plt.hist((runsummary_pd['elapsed_time']/60), bins = 40, histtype='step', density = True)\n",
    "plt.xlabel('Run time (min)')\n",
    "plt.ylabel('Normalized counts')"
   ]
  },
  {
   "cell_type": "code",
   "execution_count": null,
   "metadata": {},
   "outputs": [],
   "source": [
    "low_nsb_runs_2024 = cis_pd[['yyyymmdd','runnumber', 'subrun']][(cis_pd['diffuse_nsb_std'] < max_diffuse_nsb_std)]\n",
    "low_nsb_runs_2024_full = cis_pd[(cis_pd['diffuse_nsb_std'] < max_diffuse_nsb_std)]\n",
    "low_nsb_runsummary_2024  = runsummary_pd[runsummary_pd['runnumber'].isin(low_nsb_runs_2024['runnumber'])]\n",
    "low_nsb_runs_time = low_nsb_runsummary_2024[['runnumber', 'elapsed_time']]"
   ]
  },
  {
   "cell_type": "code",
   "execution_count": null,
   "metadata": {},
   "outputs": [],
   "source": [
    "low_nsb_runs_time.to_csv('/Users/vdk/Software/code/muon_paper_2024/2024_low_nsb_runnumbers.csv')  # header=True to include the index name if it has one"
   ]
  },
  {
   "cell_type": "markdown",
   "metadata": {},
   "source": [
    "### Datacheck for 2021-2023"
   ]
  },
  {
   "cell_type": "code",
   "execution_count": null,
   "metadata": {},
   "outputs": [],
   "source": [
    "files = glob.glob('/Users/vdk/muons2024/v0.9-v0.10/20*/DL1_datacheck_*.h5')\n",
    "files.sort()\n",
    "\n",
    "runsummary = []\n",
    "cosmics = []\n",
    "cis = []\n",
    "for file in files:\n",
    "    try:\n",
    "        runsummary.append(pd.read_hdf(file, 'runsummary'))\n",
    "        cosmics.append(pd.read_hdf(file, 'cosmics'))\n",
    "        cis.append(pd.read_hdf(file, 'cosmics_intensity_spectrum'))\n",
    "    except:\n",
    "        print(file)\n",
    "    \n",
    "cosmics_pd = pd.concat(cosmics, ignore_index=True)\n",
    "runsummary_pd = pd.concat(runsummary, ignore_index=True)\n",
    "cis_pd = pd.concat(cis, ignore_index=True)\n",
    "cosmics_pd.columns"
   ]
  },
  {
   "cell_type": "code",
   "execution_count": null,
   "metadata": {},
   "outputs": [],
   "source": [
    "low_nsb_runs = cis_pd[['yyyymmdd','runnumber', 'subrun']][(cis_pd['diffuse_nsb_std'] < max_diffuse_nsb_std)]\n",
    "low_nsb_runsummary = runsummary_pd[runsummary_pd['runnumber'].isin(low_nsb_runs['runnumber'])]\n",
    "low_nsb_cosmics = cosmics_pd[cosmics_pd['runnumber'].isin(low_nsb_runs['runnumber'])]\n",
    "low_nsb_cosmics"
   ]
  },
  {
   "cell_type": "code",
   "execution_count": null,
   "metadata": {},
   "outputs": [],
   "source": [
    "runs2019 = low_nsb_runsummary[['runnumber', 'elapsed_time']][(low_nsb_runsummary['time'] > start_date_2019) &\n",
    "                                           (low_nsb_runsummary['time'] < end_date_2019)]\n",
    "runs2020 = low_nsb_runsummary[['runnumber', 'elapsed_time']][(low_nsb_runsummary['time'] > start_date_2020) &\n",
    "                                           (low_nsb_runsummary['time'] < end_date_2020)]\n",
    "runs2021 = low_nsb_runsummary[['runnumber', 'elapsed_time']][(low_nsb_runsummary['time'] > start_date_2021) &\n",
    "                                           (low_nsb_runsummary['time'] < end_date_2021)]\n",
    "runs2022 = low_nsb_runsummary[['runnumber', 'elapsed_time']][(low_nsb_runsummary['time'] > start_date_2022) &\n",
    "                                           (low_nsb_runsummary['time'] < end_date_2022)]\n",
    "runs2023 = low_nsb_runsummary[['runnumber', 'elapsed_time']][(low_nsb_runsummary['time'] > start_date_2023) &\n",
    "                                           (low_nsb_runsummary['time'] < end_date_2023)]"
   ]
  },
  {
   "cell_type": "code",
   "execution_count": null,
   "metadata": {},
   "outputs": [],
   "source": [
    "# runs2019.to_csv('/Users/vdk/Software/code/muon_paper_2024/2019_low_nsb_runnumbers.csv') \n",
    "# runs2020.to_csv('/Users/vdk/Software/code/muon_paper_2024/2020_low_nsb_runnumbers.csv')\n",
    "# runs2021.to_csv('/Users/vdk/Software/code/muon_paper_2024/2021_low_nsb_runnumbers.csv')\n",
    "# runs2022.to_csv('/Users/vdk/Software/code/muon_paper_2024/2022_low_nsb_runnumbers.csv')\n",
    "# runs2023.to_csv('/Users/vdk/Software/code/muon_paper_2024/2023_low_nsb_runnumbers.csv')\n"
   ]
  },
  {
   "cell_type": "code",
   "execution_count": null,
   "metadata": {},
   "outputs": [],
   "source": [
    "df = pd.read_csv('/Users/vdk/muons2024/pandas_data_frames/2021_low_nsb_runnumbers.csv', index_col=False)\n",
    "df = df.drop(columns=[\"Unnamed: 0\"])"
   ]
  },
  {
   "cell_type": "code",
   "execution_count": null,
   "metadata": {},
   "outputs": [],
   "source": [
    "plt.hist(df['elapsed_time']/60)"
   ]
  },
  {
   "cell_type": "code",
   "execution_count": null,
   "metadata": {},
   "outputs": [],
   "source": [
    "run_numbers = np.array(df['runnumber']).flatten()\n",
    "tim_elapsed = np.array(df['elapsed_time']).flatten()\n",
    "run_numbers"
   ]
  },
  {
   "cell_type": "code",
   "execution_count": null,
   "metadata": {},
   "outputs": [],
   "source": [
    "runs2022"
   ]
  },
  {
   "cell_type": "code",
   "execution_count": null,
   "metadata": {},
   "outputs": [],
   "source": [
    "len('6851')"
   ]
  },
  {
   "cell_type": "code",
   "execution_count": null,
   "metadata": {},
   "outputs": [],
   "source": []
  }
 ],
 "metadata": {
  "kernelspec": {
   "display_name": "cta-dev",
   "language": "python",
   "name": "python3"
  },
  "language_info": {
   "codemirror_mode": {
    "name": "ipython",
    "version": 3
   },
   "file_extension": ".py",
   "mimetype": "text/x-python",
   "name": "python",
   "nbconvert_exporter": "python",
   "pygments_lexer": "ipython3",
   "version": "3.10.14"
  }
 },
 "nbformat": 4,
 "nbformat_minor": 2
}
