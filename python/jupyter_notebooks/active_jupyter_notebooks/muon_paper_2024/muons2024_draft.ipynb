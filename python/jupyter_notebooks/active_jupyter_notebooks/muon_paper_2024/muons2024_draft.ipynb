{
 "cells": [
  {
   "cell_type": "code",
   "execution_count": null,
   "metadata": {},
   "outputs": [],
   "source": [
    "import tables as tb\n",
    "import h5py\n",
    "import pandas as pd\n",
    "import matplotlib.pyplot as plt\n",
    "import numpy as np\n",
    "from astropy.io import fits\n",
    "import astropy.units as u\n",
    "from astropy.time import Time\n",
    "import numpy as np\n",
    "import matplotlib.pyplot as plt\n",
    "%matplotlib inline\n",
    "import os\n",
    "import re\n",
    "import math as mt\n",
    "from scipy.stats import norm\n",
    "import scipy\n",
    "import seaborn as sns\n",
    "from astropy.table import Table, vstack\n",
    "import glob\n",
    "from datetime import datetime\n",
    "from python_modules.muonpipe import usefull_func\n",
    "import glob\n",
    "OPT_EFF=[0.6, 0.7, 0.8, 0.9, 1.0]\n",
    "MIR_MIS=[0.00125, 0.0025, 0.0035, 0.005, 0.0075, 0.01, 0.0125]\n",
    "colors = ['C0', 'C1', 'C2', 'C3', 'C4']\n",
    "\n",
    "size_outside = 500 # phe\n",
    "\n"
   ]
  },
  {
   "cell_type": "markdown",
   "metadata": {},
   "source": [
    "### Recent tries of datacheck processing"
   ]
  },
  {
   "cell_type": "code",
   "execution_count": null,
   "metadata": {},
   "outputs": [],
   "source": [
    "files = glob.glob('/Users/vdk/muons2024/v0.9-v0.10/20*/DL1_datacheck_*.h5')\n",
    "files.sort()\n",
    "\n",
    "runsummary = []\n",
    "cosmics = []\n",
    "for file in files:\n",
    "    runsummary.append(pd.read_hdf(file, 'runsummary'))\n",
    "    cosmics.append(pd.read_hdf(file, 'cosmics'))\n",
    "    \n",
    "cosmics_pd = pd.concat(cosmics, ignore_index=True)\n",
    "runsummary_pd = pd.concat(runsummary, ignore_index=True)\n",
    "cosmics_pd.columns"
   ]
  },
  {
   "cell_type": "code",
   "execution_count": null,
   "metadata": {},
   "outputs": [],
   "source": [
    "runsummary_pd.columns"
   ]
  },
  {
   "cell_type": "code",
   "execution_count": null,
   "metadata": {},
   "outputs": [],
   "source": [
    "runs_with_0_rings = []\n",
    "# Lets try to check if all subruns have muon rings\n",
    "for run, num_rings in zip(cosmics_pd['runnumber'], cosmics_pd['num_contained_mu_rings']):\n",
    "    if num_rings == 0:\n",
    "        runs_with_0_rings.append(run)\n",
    "        #print(run)"
   ]
  },
  {
   "cell_type": "code",
   "execution_count": null,
   "metadata": {},
   "outputs": [],
   "source": [
    "runsummary_pd[runsummary_pd['runnumber'].isin([16449])]"
   ]
  },
  {
   "cell_type": "code",
   "execution_count": null,
   "metadata": {},
   "outputs": [],
   "source": [
    "# Lets choose only values with zenith anlge that differs not much than 1 degree\n",
    "def delta(a,b):\n",
    "    return abs(np.rad2deg(a)-np.rad2deg(b))\n",
    "\n",
    "#runsummary_pd['runnumber'][(np.degrees(runsummary_pd['_altitude']) > 44) & (np.degrees(runsummary_pd['mean_altitude']) < 45)]) #& (runsummary_pd['mu_radius_mean'] > 0.95) & (runsummary_pd['mu_radius_mean'] < 1.3)]\n",
    "zd_runnumbers = runsummary_pd['runnumber'][\n",
    "    (delta(runsummary_pd['min_altitude'],runsummary_pd['max_altitude'])< 1) & \n",
    "    (delta(runsummary_pd['min_azimuth'],runsummary_pd['max_azimuth'])< 1) & \n",
    "    (runsummary_pd['mu_effi_stddev']<=0.02) & \n",
    "    (runsummary_pd['mu_width_stddev']<0.02) &\n",
    "    (runsummary_pd['num_contained_mu_rings'])\n",
    "]\n",
    "zenith_table = runsummary_pd[runsummary_pd['runnumber'].isin(zd_runnumbers)]"
   ]
  },
  {
   "cell_type": "code",
   "execution_count": null,
   "metadata": {},
   "outputs": [],
   "source": [
    "zenith_table"
   ]
  },
  {
   "cell_type": "code",
   "execution_count": null,
   "metadata": {},
   "outputs": [],
   "source": [
    "plt.figure(figsize = (12,9))\n",
    "sns.regplot(x = np.degrees(zenith_table['mean_altitude']), y = zenith_table['mu_effi_mean'], color = 'k', label = 'Mean Optical Efficiency during one observation')#, x_bins=75\n",
    "plt.errorbar(np.degrees(zenith_table['mean_altitude']), zenith_table['mu_effi_mean'], yerr=zenith_table['mu_effi_stddev'], fmt = 'none', capsize=5, zorder=1, color='C0', alpha = 0.4)\n",
    "plt.grid(alpha = 0.3)\n",
    "plt.title(\"Optical Efficiency for all LST1 observational time\")\n",
    "#plt.vlines(3000,0,0.3)\n",
    "#plt.ylim(0.1,0.275)\n",
    "# plt.fill_betweenx(y=[0,0.3], x1 = 0, x2=x_fill[1], alpha = 0.05)\n",
    "# plt.fill_betweenx(y=[0,0.3], x1 = x_fill[1], x2=x_fill[2], alpha = 0.075)\n",
    "# plt.fill_betweenx(y=[0,0.3], x1 = x_fill[2], x2=x_fill[3], alpha = 0.075)\n",
    "# plt.fill_betweenx(y=[0,0.3], x1 = x_fill[3], x2=x_fill[4], alpha = 0.075)\n",
    "# plt.fill_betweenx(y=[0,0.3], x1 = x_fill[4], x2=x_fill[5], alpha = 0.075)\n",
    "# plt.fill_betweenx(y=[0,0.3], x1 = x_fill[5], x2=18000, alpha = 0.075)\n",
    "#plt.xlim(0,18000)\n",
    "plt.xlabel('Zenith angle')\n",
    "plt.ylabel('Mean optical efficiency')\n",
    "plt.legend()"
   ]
  },
  {
   "cell_type": "code",
   "execution_count": null,
   "metadata": {},
   "outputs": [],
   "source": [
    "plt.figure(figsize = (12,9))\n",
    "sns.regplot(x = np.degrees(zenith_table['mean_azimuth']), y = zenith_table['mu_effi_mean'], color = 'k', label = 'Mean Optical Efficiency during one observation')#, x_bins=75\n",
    "plt.errorbar(np.degrees(zenith_table['mean_azimuth']), zenith_table['mu_effi_mean'], yerr=zenith_table['mu_effi_stddev'], fmt = 'none', capsize=5, zorder=1, color='C0', alpha = 0.4)\n",
    "#plt.errorbar(mean_runs, mean_opt_efficiency, yerr=std_opt, fmt = 'none', capsize=5, zorder=1, color='C0', alpha = 0.4)\n",
    "plt.grid(alpha = 0.3)\n",
    "plt.title(\"Optical Efficiency for all LST1 observational time\")\n",
    "#plt.vlines(3000,0,0.3)\n",
    "#plt.ylim(0.1,0.275)\n",
    "# plt.fill_betweenx(y=[0,0.3], x1 = 0, x2=x_fill[1], alpha = 0.05)\n",
    "# plt.fill_betweenx(y=[0,0.3], x1 = x_fill[1], x2=x_fill[2], alpha = 0.075)\n",
    "# plt.fill_betweenx(y=[0,0.3], x1 = x_fill[2], x2=x_fill[3], alpha = 0.075)\n",
    "# plt.fill_betweenx(y=[0,0.3], x1 = x_fill[3], x2=x_fill[4], alpha = 0.075)\n",
    "# plt.fill_betweenx(y=[0,0.3], x1 = x_fill[4], x2=x_fill[5], alpha = 0.075)\n",
    "# plt.fill_betweenx(y=[0,0.3], x1 = x_fill[5], x2=18000, alpha = 0.075)\n",
    "#plt.xlim(0,18000)\n",
    "plt.xlabel('Zenith angle')\n",
    "plt.ylabel('Mean optical efficiency')\n",
    "plt.legend()"
   ]
  },
  {
   "cell_type": "code",
   "execution_count": null,
   "metadata": {},
   "outputs": [],
   "source": [
    "plt.figure(figsize = (12,9))\n",
    "sns.regplot(x = np.degrees(zenith_table['mean_altitude']), y = zenith_table['mu_intensity_mean'], color = 'k', label = 'Mean Optical Efficiency during one observation')#, x_bins=75\n",
    "#plt.errorbar(np.degrees(zenith_table['mean_altitude']), zenith_table['mu_effi_mean'], yerr=zenith_table['mu_effi_stddev'], fmt = 'none', capsize=5, zorder=1, color='C0', alpha = 0.4)\n",
    "plt.grid(alpha = 0.3)\n",
    "plt.title(\"Optical Efficiency for all LST1 observational time\")\n",
    "#plt.vlines(3000,0,0.3)\n",
    "#plt.ylim(0.1,0.275)\n",
    "# plt.fill_betweenx(y=[0,0.3], x1 = 0, x2=x_fill[1], alpha = 0.05)\n",
    "# plt.fill_betweenx(y=[0,0.3], x1 = x_fill[1], x2=x_fill[2], alpha = 0.075)\n",
    "# plt.fill_betweenx(y=[0,0.3], x1 = x_fill[2], x2=x_fill[3], alpha = 0.075)\n",
    "# plt.fill_betweenx(y=[0,0.3], x1 = x_fill[3], x2=x_fill[4], alpha = 0.075)\n",
    "# plt.fill_betweenx(y=[0,0.3], x1 = x_fill[4], x2=x_fill[5], alpha = 0.075)\n",
    "# plt.fill_betweenx(y=[0,0.3], x1 = x_fill[5], x2=18000, alpha = 0.075)\n",
    "#plt.xlim(0,18000)\n",
    "plt.xlabel('Zenith angle')\n",
    "plt.ylabel('Mean optical efficiency')\n",
    "plt.legend()"
   ]
  },
  {
   "cell_type": "code",
   "execution_count": null,
   "metadata": {},
   "outputs": [],
   "source": [
    "z,x,c = plt.hist(runsummary_pd['mu_effi_stddev'], bins = 50)\n",
    "plt.xlim(0,0.02)"
   ]
  },
  {
   "cell_type": "code",
   "execution_count": null,
   "metadata": {},
   "outputs": [],
   "source": [
    "z,x,c = plt.hist(np.degrees(zenith_table['mean_altitude']), bins = 40)\n"
   ]
  },
  {
   "cell_type": "code",
   "execution_count": null,
   "metadata": {},
   "outputs": [],
   "source": [
    "z,x,c = plt.hist(zenith_table['mu_width_mean'], bins = 40)"
   ]
  },
  {
   "cell_type": "code",
   "execution_count": null,
   "metadata": {},
   "outputs": [],
   "source": [
    "z,x,c = plt.hist(runsummary_pd['mu_intensity_mean'],bins = 50)\n",
    "plt.xlim(0,5000)"
   ]
  },
  {
   "cell_type": "code",
   "execution_count": null,
   "metadata": {},
   "outputs": [],
   "source": [
    "z,x,c = plt.hist(cosmics_pd['mu_radius_mean'],bins = 50)\n",
    "min(cosmics_pd['mu_radius_mean'])"
   ]
  },
  {
   "cell_type": "markdown",
   "metadata": {},
   "source": [
    "### Looking for other quality cuts"
   ]
  },
  {
   "cell_type": "code",
   "execution_count": null,
   "metadata": {},
   "outputs": [],
   "source": [
    "runsummary_pd['elapsed_time']"
   ]
  },
  {
   "cell_type": "code",
   "execution_count": null,
   "metadata": {},
   "outputs": [],
   "source": [
    "z,x,c = plt.hist(runsummary_pd['cosmics_fraction_pulses_above30']*runsummary_pd['elapsed_time'], bins = 40)"
   ]
  },
  {
   "cell_type": "markdown",
   "metadata": {},
   "source": [
    "### Rubens code"
   ]
  },
  {
   "cell_type": "code",
   "execution_count": null,
   "metadata": {},
   "outputs": [],
   "source": [
    "date=20200114\n",
    "\n",
    "listdir = glob.glob('/Users/vdk/muons2024/20240131muons/muons_LST-1.Run*')\n",
    "# Muons analyzed using GlobalPeakWindowSum\n",
    "\n",
    "dat = Table.read('{}'.format(listdir[0]), format='fits')\n",
    "for i in range(1,len(listdir)):\n",
    "    dat2 = Table.read('{}'.format(listdir[i]), format='fits')\n",
    "    dat = vstack([dat, dat2])\n",
    "\n",
    "df = dat.to_pandas()\n",
    "df_good_data = df[df['good_ring']]"
   ]
  },
  {
   "cell_type": "code",
   "execution_count": null,
   "metadata": {},
   "outputs": [],
   "source": [
    "def format_axes(ax,option):\n",
    "    \n",
    "    if(option=='width'):\n",
    "        ax.set_xlabel('Muon radius [deg]')\n",
    "        ax.set_ylabel('Muon ring width [deg]')\n",
    "        ax.grid(linestyle=\"dashed\")\n",
    "        #ax.set_ylim(0.042,0.07)\n",
    "        ax.legend()\n",
    "    if(option=='size'):\n",
    "        ax2.grid(linestyle=\"dashed\")\n",
    "        ax2.legend(ncol=2)\n",
    "        ax2.set_xlabel('Muon radius [deg]')\n",
    "        ax2.set_ylabel('Muon Size [pe]')\n",
    "        ax2.set_ylim(1500,4500)\n",
    "        \n",
    "fig,ax = plt.subplots()\n",
    "fig2,ax2 = plt.subplots()\n",
    "\n",
    "\n",
    "\n",
    "sns.regplot(x = df_good_data['ring_radius'][(df_good_data['ring_completeness'] > 0.9) & (df_good_data['size_outside'] < size_outside)], \n",
    "            y = df_good_data['ring_width'][(df_good_data['ring_completeness'] > 0.9) & (df_good_data['size_outside'] < size_outside)], \n",
    "            x_bins=10, ax=ax, color = 'k', label = 'Real Data')\n",
    "sns.regplot(x = df_good_data['ring_radius'][(df_good_data['ring_completeness'] > 0.9) & (df_good_data['size_outside'] < size_outside)], \n",
    "            y = df_good_data['ring_size'][(df_good_data['ring_completeness'] > 0.9) & (df_good_data['size_outside'] < size_outside)], \n",
    "            x_bins=10, ax=ax2, color = 'k', label = 'Real Data')\n",
    "\n",
    "format_axes(ax,'width')        \n",
    "format_axes(ax2,'size') "
   ]
  },
  {
   "cell_type": "code",
   "execution_count": null,
   "metadata": {},
   "outputs": [],
   "source": [
    "def Calculate_stereo_rate(RingComp,RINGCOMPCUT,RingCont,RINGCONTCUT,ImpactDiff,IMPACTDIFFCUT):   \n",
    "    \"\"\"\n",
    "    RingComp - completeness\n",
    "    RingCont - containment\n",
    "    ImpactDiff - difference in sim and rec impact parameter\n",
    "    RINGCOMPCUT,RINGCONTCUT,IMPACTDIFFCUT - cuts on the appropriate variables\n",
    "    \"\"\" \n",
    "    VIEWANGLE = 3.5 # deg\n",
    "    IMPACT_PARAMETER = 150 # m\n",
    "    Flux = 200 # m^-2 s^-1 sr^-1\n",
    "\n",
    "    Solid_angle = 2 * mt.pi * (1 - mt.cos(np.radians(3.5)))\n",
    "    Area = mt.pi * mt.pow(IMPACT_PARAMETER,2)\n",
    "    Nsim = 1e7\n",
    "    Nrec = len(RingCont[(RingComp > RINGCOMPCUT) & \n",
    "                        (RingCont > RINGCONTCUT) & \n",
    "                        (ImpactDiff < IMPACTDIFFCUT)])\n",
    "    print(\"Nrec = \", Nrec)\n",
    "    rate = Flux * Solid_angle * Area * Nrec / Nsim  # Hz\n",
    "    erate = Flux * Solid_angle * Area * mt.sqrt(Nrec) / Nsim # Hz\n",
    "    print(\"Number of seconds simulated: \", Nsim / (Flux * Solid_angle * Area) )\n",
    "    \n",
    "    return rate, erate"
   ]
  },
  {
   "cell_type": "code",
   "execution_count": null,
   "metadata": {},
   "outputs": [],
   "source": [
    "#maindir='../../../cta-lstchain-extra/muons/simulations/lstchain_v0/Stereo/Array_centered/'\n",
    "\n",
    "RINGCOMPCUT = 0.9 # containment of pixels above threshold inside a ring\n",
    "RINGCONTCUT = 0.9 # Angular cut for muon containment within the camera\n",
    "IMPACTDIFFCUT = 10. # Difference between reconstructed and real Impact parameter\n",
    "\n",
    "#sfn = sorted(os.listdir(maindir + 'files')) # Sort the filename list\n",
    "\n",
    "maindir = '/Users/vdk/muons2024/20240131muons/'\n",
    "sfn = os.listdir('/Users/vdk/muons2024/20240131muons/')\n",
    "\n",
    "RingWidth = []\n",
    "MuonEff = []\n",
    "ImpactParam = []\n",
    "RingCont = []\n",
    "RingComp = []\n",
    "RingPixComp = []\n",
    "Core_x = []\n",
    "Core_y = []\n",
    "Impact_arr_x = []\n",
    "Impact_arr_y = []\n",
    "MCImpactP = []\n",
    "ImpactDiff = []\n",
    "RingSize = []\n",
    "RingRadius = []\n",
    "NTels = []\n",
    "\n",
    "for filename in sfn:\n",
    "    if filename.endswith(\".fits\"):\n",
    "        #print(\"Opening file: \", filename)\n",
    "        table=fits.open(\"%s/%s\" % (maindir,filename))\n",
    "        data=table[1].data\n",
    "        \n",
    "        MuonEff = np.concatenate([MuonEff,data.field(0)])\n",
    "        RingWidth = np.concatenate([RingWidth,data.field(2)])\n",
    "        ImpactParam = np.concatenate([ImpactParam,data.field(1)])\n",
    "        RingCont = np.concatenate([RingCont,data.field(3)])\n",
    "        RingComp = np.concatenate([RingComp,data.field(4)])\n",
    "        RingPixComp = np.concatenate([RingPixComp,data.field(5)])\n",
    "        Core_x = np.concatenate([Core_x,data.field(6)])\n",
    "        Core_y = np.concatenate([Core_y,data.field(7)])\n",
    "        Impact_arr_x = np.concatenate([Impact_arr_x,data.field(8)])\n",
    "        Impact_arr_y = np.concatenate([Impact_arr_y,data.field(9)])\n",
    "        MCImpactP = np.concatenate([MCImpactP,data.field(10)])\n",
    "        ImpactDiff = np.concatenate([ImpactDiff,data.field(11)])\n",
    "        RingSize = np.concatenate([RingSize,data.field(12)])\n",
    "        RingRadius = np.concatenate([RingRadius,data.field(13)])\n",
    "        NTels = np.concatenate([NTels,data.field(14)])\n",
    "\n",
    "rate, erate = Calculate_stereo_rate(RingPixComp, -1, RingCont, -1, ImpactDiff, 1e10)\n",
    "print(\"The rate of muons is %.1f+-%.1f Hz\" % (rate, erate))\n",
    "\n",
    "rate, erate = Calculate_stereo_rate(RingPixComp, -1, RingCont, -1, ImpactDiff, IMPACTDIFFCUT)\n",
    "print(\"The rate of well reconstructed muons (< %i m) containment is %.1f+-%.1f Hz\" % (IMPACTDIFFCUT, rate, erate))\n",
    "\n",
    "rate, erate = Calculate_stereo_rate(RingPixComp, RINGCOMPCUT, RingCont, -1, ImpactDiff, 1e10)\n",
    "print(\"The rate of well reconstructed muons (> %i%%) pixel ring containment is %.1f+-%.1f Hz\" % (RINGCOMPCUT*100, rate, erate))\n",
    "\n",
    "rate, erate = Calculate_stereo_rate(RingComp, RINGCOMPCUT, RingCont, -1, ImpactDiff, 1e10)\n",
    "print(\"The rate of well reconstructed muons (> %i%%) ring completeness is %.1f+-%.1f Hz\" % (RINGCOMPCUT*100, rate, erate))\n",
    "\n",
    "rate, erate = Calculate_stereo_rate(RingPixComp, -1, RingCont, RINGCONTCUT, ImpactDiff, 1e10)\n",
    "print(\"The rate of well reconstructed muons (> %i%%) ring containment is %.1f+-%.1f Hz\" % (RINGCONTCUT*100, rate, erate))\n",
    "\n",
    "rate, erate = Calculate_stereo_rate(RingPixComp, RINGCOMPCUT, RingCont, RINGCONTCUT, ImpactDiff, IMPACTDIFFCUT)\n",
    "print(\"The rate of well reconstructed muons all cuts is %.1f+-%.1f Hz\" % (rate, erate))"
   ]
  },
  {
   "cell_type": "markdown",
   "metadata": {},
   "source": [
    "### Datacheck hdf5 processing"
   ]
  },
  {
   "cell_type": "code",
   "execution_count": null,
   "metadata": {},
   "outputs": [],
   "source": [
    "# Path to your HDF5 file\n",
    "dl1_file = '/Users/vdk/muons2024/DL1_datacheck_20240131.h5'\n",
    "\n",
    "fi = h5py.File(dl1_file, 'r')\n",
    "keys = list(fi.keys())\n",
    "\n",
    "def printname(name):\n",
    "    print(name)\n",
    "\n",
    "# Show all included tables\n",
    "fi.visit(printname)\n",
    "pd_hdf = pd.read_hdf(dl1_file, 'runsummary/table')\n",
    "pd_hdf_cosmics = pd.read_hdf(dl1_file, 'cosmics/table')\n",
    "pd_hdf.columns\n"
   ]
  },
  {
   "cell_type": "code",
   "execution_count": null,
   "metadata": {},
   "outputs": [],
   "source": [
    "for column in pd_hdf.columns:\n",
    "    print(column)"
   ]
  },
  {
   "cell_type": "code",
   "execution_count": null,
   "metadata": {},
   "outputs": [],
   "source": [
    "for column in pd_hdf_cosmics.columns:\n",
    "    print(column)"
   ]
  },
  {
   "cell_type": "code",
   "execution_count": null,
   "metadata": {},
   "outputs": [],
   "source": [
    "for item in pd_hdf_cosmics['mu_intensity_mean']:"
   ]
  },
  {
   "cell_type": "code",
   "execution_count": null,
   "metadata": {},
   "outputs": [],
   "source": [
    "for item in fi['runsummary/table']:\n",
    "    print(item)"
   ]
  },
  {
   "cell_type": "code",
   "execution_count": null,
   "metadata": {},
   "outputs": [],
   "source": []
  },
  {
   "cell_type": "markdown",
   "metadata": {},
   "source": [
    "### Lets choose only runs where change in telescope pointing direction does not exceed 1 deg"
   ]
  },
  {
   "cell_type": "code",
   "execution_count": null,
   "metadata": {},
   "outputs": [],
   "source": [
    "\n",
    "# Specify the directory you want to start from\n",
    "#root_dir = '/Users/vdk/muons2024/datacheck_v0.10/'\n",
    "root_dir = '/Users/vdk/muons2024/v0.9'\n",
    "\n",
    "# Pattern to match all items in root_dir that are directories\n",
    "pattern = os.path.join(root_dir, '*/')\n",
    "run_numbers= {}\n",
    "\n",
    "for dir_path in glob.glob(pattern):\n",
    "    if dir_path[-5:-3] in ['11','12', '01', '02','03', '04']:\n",
    "        dl1_file = dir_path+f'DL1_datacheck_{dir_path[-9:-1]}.h5'\n",
    "        print(f\"reading {dl1_file}\")\n",
    "        pd_hdf = pd.read_hdf(dl1_file, 'runsummary/table')\n",
    "        for i,item in enumerate(pd_hdf['mean_altitude']):\n",
    "            if (np.rad2deg(abs(pd_hdf['min_altitude'][i] - pd_hdf['max_altitude'][i])) <= 1) and \\\n",
    "               (np.rad2deg(abs(pd_hdf['min_azimuth'][i] - pd_hdf['max_azimuth'][i])) <= 1):\n",
    "                run_numbers[pd_hdf['runnumber'][i]] = f\"{np.rad2deg(pd_hdf['mean_altitude'][i])},{np.rad2deg(pd_hdf['mean_azimuth'][i])}\"\n",
    "        #print(dir_path+f'DL1_datacheck_{dir_path[-9:-1]}.h5')\n"
   ]
  },
  {
   "cell_type": "code",
   "execution_count": null,
   "metadata": {},
   "outputs": [],
   "source": [
    "print(f\"There are {len(run_numbers)} winter runs with small changes in telescope direction \")\n",
    "altitudes = []\n",
    "azimuthes = []\n",
    "\n",
    "for key,item in run_numbers.items():\n",
    "   #print(round(float(item.split(',')[0]),2),round(float(item.split(',')[1]),2))\n",
    "   altitudes.append(round(float(item.split(',')[0]),2))\n",
    "   azimuthes.append(round(float(item.split(',')[1]),2))\n",
    "\n",
    "runs = [i for i in range(len(altitudes))]\n",
    "\n",
    "fig, axs = plt.subplots(1, 2, figsize=(12, 5))#, sharey=True)\n",
    "axs[0].scatter(runs,altitudes, s = 20, marker = 'x')\n",
    "axs\n",
    "axs[0].grid(alpha = 0.5)\n",
    "axs[1].scatter(runs,azimuthes, s = 20, marker = 'x')\n",
    "axs[1].grid(alpha = 0.5)\n",
    "axs[0].set_xlabel('Run')\n",
    "axs[1].set_xlabel('Run')\n",
    "axs[0].set_ylabel('Degree')\n",
    "axs[0].set_title('Telescope Altitudes')\n",
    "axs[1].set_title('Telescope Azimuthes')\n",
    "#plt.scatter(runs,altitudes)\n",
    "#plt.scatter(runs,azimuthes)\n",
    "\n"
   ]
  },
  {
   "cell_type": "markdown",
   "metadata": {},
   "source": [
    "### Check time of each observation"
   ]
  },
  {
   "cell_type": "code",
   "execution_count": null,
   "metadata": {},
   "outputs": [],
   "source": [
    "timestamp = 1.70673312e+09\n",
    "dt_object = datetime.utcfromtimestamp(timestamp)\n",
    "\n",
    "# Format the datetime object to a string in a readable format\n",
    "formatted_time = dt_object.strftime('%Y-%m-%d %H:%M:%S')\n",
    "\n",
    "formatted_time\n",
    "for time in pd_hdf['time']:\n",
    "    dt_object = datetime.utcfromtimestamp(time)\n",
    "    formatted_time = dt_object.strftime('%Y-%m-%d %H:%M:%S')\n",
    "    print(formatted_time)\n"
   ]
  },
  {
   "cell_type": "code",
   "execution_count": null,
   "metadata": {},
   "outputs": [],
   "source": [
    "altitudes = []\n",
    "for i,item in enumerate(pd_hdf['mean_altitude']):\n",
    "    altitudes.append(np.rad2deg(item))\n",
    "    #print(f\"for run number {pd_hdf['runnumber'][i]} the difference in altitude during run is {np.rad2deg(abs(pd_hdf['min_altitude'][i] - pd_hdf['max_altitude'][i]))} degrees\")\n",
    "\n",
    "azimuthes = []\n",
    "for i,item in enumerate(pd_hdf['mean_altitude']):\n",
    "    azimuthes.append(np.rad2deg(item))\n",
    "    #print(f\"for run number {pd_hdf['runnumber'][i]} the difference in altitude during run is {np.rad2deg(abs(pd_hdf['min_azimuth'][i] - pd_hdf['max_azimuth'][i]))} degrees\")"
   ]
  },
  {
   "cell_type": "code",
   "execution_count": null,
   "metadata": {},
   "outputs": [],
   "source": [
    "log_file_path = '/Users/vdk/muons2024/DL1_datacheck_20240131.log'\n",
    "\n",
    "with open(log_file_path, 'r') as file:\n",
    "    print_next_line = False\n",
    "    for line in file:\n",
    "        if print_next_line:\n",
    "            print(line.strip())  # Print the next line\n",
    "            print_next_line = False\n",
    "        elif line.startswith('Anomalies'):\n",
    "            print(line.strip())\n",
    "            print_next_line = True\n",
    "        "
   ]
  },
  {
   "cell_type": "code",
   "execution_count": null,
   "metadata": {},
   "outputs": [],
   "source": [
    "log_file_path = '/Users/vdk/muons2024/DL1_datacheck_20240131.log'\n",
    "\n",
    "with open(log_file_path, 'r') as file:\n",
    "    for line in file:\n",
    "        print(line.strip())"
   ]
  },
  {
   "cell_type": "code",
   "execution_count": null,
   "metadata": {},
   "outputs": [],
   "source": [
    "\n",
    "\n",
    "log_file_path = '/Users/vdk/muons2024/DL1_datacheck_20240109.log'\n",
    "\n",
    "with open(log_file_path, 'r') as file:\n",
    "    for line in file:\n",
    "        print(line.strip())"
   ]
  },
  {
   "cell_type": "markdown",
   "metadata": {},
   "source": [
    "### Perform all quality cuts on datacheck"
   ]
  },
  {
   "cell_type": "code",
   "execution_count": null,
   "metadata": {},
   "outputs": [],
   "source": [
    "\n",
    "# Specify the directory you want to start from\n",
    "#root_dir = '/Users/vdk/muons2024/datacheck_v0.10/'\n",
    "root_dir = '/Users/vdk/muons2024/v0.9/'\n",
    "\n",
    "# Pattern to match all items in root_dir that are directories\n",
    "pattern = os.path.join(root_dir, '*/')\n",
    "optical_eff = {}\n",
    "num_cosmic = {}\n",
    "elapsed_time = {}\n",
    "date = {}\n",
    "mu_width = {}\n",
    "mu_number = []\n",
    "\n",
    "\n",
    "for dir_path in glob.glob(pattern):\n",
    "    # Choose only winter\n",
    "    #if dir_path[-5:-3] in ['11','12', '01', '02','03', '04']:\n",
    "    if True:\n",
    "        dl1_file = dir_path+f'DL1_datacheck_{dir_path[-9:-1]}.h5'\n",
    "        print(f\"reading {dl1_file}\")\n",
    "        pd_hdf = pd.read_hdf(dl1_file, 'runsummary/table')\n",
    "        pd_hdf_cosmic = pd.read_hdf(dl1_file, 'cosmics/table')\n",
    "        for i,item in enumerate(pd_hdf['mean_altitude']):\n",
    "            # Choose only narrow FoV\n",
    "            # if (np.rad2deg(abs(pd_hdf['min_altitude'][i] - pd_hdf['max_altitude'][i])) <= 1) and \\\n",
    "            #    (np.rad2deg(abs(pd_hdf['min_azimuth'][i] - pd_hdf['max_azimuth'][i])) <= 1):\n",
    "            if True:\n",
    "                if pd_hdf['mu_effi_mean'][i] < 0.3:\n",
    "                    #num_cosmic[int(pd_hdf['runnumber'][i])] = (pd_hdf['num_cosmics'][i])\n",
    "                    num_cosmic[pd_hdf['runnumber'][i]] = pd_hdf['num_cosmics'][i]\n",
    "                    elapsed_time[int(pd_hdf['runnumber'][i])] = (pd_hdf['elapsed_time'][i])\n",
    "                    date[int(pd_hdf['runnumber'][i])] = (pd_hdf['time'][i])\n",
    "                    optical_eff[int(pd_hdf['runnumber'][i])] = (pd_hdf['mu_effi_mean'][i])\n",
    "                    mu_width[int(pd_hdf['runnumber'][i])] = (pd_hdf['mu_width_mean'][i])\n",
    "                    mu_number.append(pd_hdf['num_contained_mu_rings'][i])\n",
    "        #print(dir_path+f'DL1_datacheck_{dir_path[-9:-1]}.h5')\n"
   ]
  },
  {
   "cell_type": "code",
   "execution_count": null,
   "metadata": {},
   "outputs": [],
   "source": [
    "num = [item for key,item in num_cosmic.items()]\n",
    "usefull_func.hist_wo_outliers(num,outlier_value=10000000,bin_number=20,xlabel='Number of cosmics in the run')"
   ]
  },
  {
   "cell_type": "code",
   "execution_count": null,
   "metadata": {},
   "outputs": [],
   "source": [
    "usefull_func.hist_wo_outliers(mu_number,outlier_value=10000,bin_number=20,xlabel='Number of muons in the run')"
   ]
  },
  {
   "cell_type": "code",
   "execution_count": null,
   "metadata": {},
   "outputs": [],
   "source": [
    "sorted_dict = {key: optical_eff[key] for key in sorted(optical_eff)}\n",
    "runs = [key for key in sorted_dict.keys()]\n",
    "effs = [sorted_dict[key] for key in sorted_dict.keys()]\n",
    "plt.scatter(runs, effs, marker = 'x', s = 15, alpha = 0.5)\n",
    "plt.grid(alpha = 0.5)\n",
    "plt.xlabel('Run Number')\n",
    "plt.ylabel('Optical Efficiency')"
   ]
  },
  {
   "cell_type": "code",
   "execution_count": null,
   "metadata": {},
   "outputs": [],
   "source": [
    "len(runs)"
   ]
  },
  {
   "cell_type": "code",
   "execution_count": null,
   "metadata": {},
   "outputs": [],
   "source": [
    "plt.figure(figsize = (12,9))\n",
    "sns.regplot(x = runs, y = effs, x_bins=3000, color = 'k', label = 'Real Data')\n",
    "plt.grid(alpha = 0.5)\n",
    "plt.title(\"Optical Efficiency\")"
   ]
  },
  {
   "cell_type": "code",
   "execution_count": null,
   "metadata": {},
   "outputs": [],
   "source": [
    "\n",
    "# Specify the directory you want to start from\n",
    "root_dir = '/Users/vdk/muons2024/datacheck_v0.10/'\n",
    "root_dir = '/Users/vdk/muons2024/v0.9/'\n",
    "\n",
    "# Pattern to match all items in root_dir that are directories\n",
    "pattern = os.path.join(root_dir, '*/')\n",
    "optical_eff = {}\n",
    "num_cosmic = {}\n",
    "elapsed_time = {}\n",
    "date = {}\n",
    "mu_width = {}\n",
    "mu_number = []\n",
    "altitude = {}\n",
    "azimuth = {}\n",
    "list_of_dl1_files = []\n",
    "\n",
    "for dir_path in glob.glob(pattern):\n",
    "    # Choose only winter\n",
    "    if dir_path[-5:-3] in ['11','12', '01', '02','03', '04']:\n",
    "        dl1_file = dir_path+f'DL1_datacheck_{dir_path[-9:-1]}.h5'\n",
    "        print(f\"reading {dl1_file}\")\n",
    "        pd_hdf = pd.read_hdf(dl1_file, 'runsummary/table')\n",
    "        pd_hdf_cosmic = pd.read_hdf(dl1_file, 'cosmics/table')\n",
    "        for i,item in enumerate(pd_hdf['mean_altitude']):\n",
    "            # Choose only narrow FoV\n",
    "            if (np.rad2deg(abs(pd_hdf['min_altitude'][i] - pd_hdf['max_altitude'][i])) <= 1) and \\\n",
    "               (np.rad2deg(abs(pd_hdf['min_azimuth'][i] - pd_hdf['max_azimuth'][i])) <= 1):\n",
    "                if pd_hdf['mu_effi_mean'][i] < 0.3:\n",
    "                    if pd_hdf['num_contained_mu_rings'][i] < 3500 and pd_hdf['num_contained_mu_rings'][i] > 1500: \n",
    "                        if pd_hdf['num_cosmics'][i] < 10000000 and pd_hdf['num_cosmics'][i] > 3000000:\n",
    "                            if (pd_hdf['elapsed_time'][i]) > 900:\n",
    "                                list_of_dl1_files.append(dl1_file)\n",
    "                                optical_eff[int(pd_hdf['runnumber'][i])] = (pd_hdf['mu_effi_mean'][i])\n",
    "                                mu_width[int(pd_hdf['runnumber'][i])] = (pd_hdf['mu_width_mean'][i])\n",
    "                                mu_number.append(pd_hdf['num_contained_mu_rings'][i])\n"
   ]
  },
  {
   "cell_type": "code",
   "execution_count": null,
   "metadata": {},
   "outputs": [],
   "source": [
    "for file in list_of_dl1_files:\n",
    "    pd_hdf = pd.read_hdf(file, 'runsummary/table')\n",
    "    #pd_hdf_cosmic = pd.read_hdf(dl1_file, 'cosmics/table')\n",
    "    for key,time in enumerate(pd_hdf['time']):\n",
    "        dt_object = datetime.utcfromtimestamp(time)\n",
    "        formatted_time = dt_object.strftime('%Y-%m-%d %H:%M:%S')\n",
    "        print(f\"for run {pd_hdf['runnumber'][key]} the date is {formatted_time}\\n\")"
   ]
  },
  {
   "cell_type": "code",
   "execution_count": null,
   "metadata": {},
   "outputs": [],
   "source": [
    "for file in list_of_dl1_files:\n",
    "    pd_hdf = pd.read_hdf(file, 'runsummary/table')\n",
    "    print(f\"treating {file}\")\n",
    "    for i,item in enumerate(pd_hdf['mean_altitude']):\n",
    "        if (np.rad2deg(abs(pd_hdf['min_altitude'][i] - pd_hdf['max_altitude'][i])) <= 1) and \\\n",
    "            (np.rad2deg(abs(pd_hdf['min_azimuth'][i] - pd_hdf['max_azimuth'][i])) <= 1):\n",
    "                print(f\"for run {pd_hdf['runnumber'][i]} we have altitude = {np.rad2deg(item)} and azimuth = {np.rad2deg(pd_hdf['mean_azimuth'][i])} and optical efficiency {pd_hdf['mu_effi_mean'][i]}\")"
   ]
  },
  {
   "cell_type": "code",
   "execution_count": null,
   "metadata": {},
   "outputs": [],
   "source": [
    "set(list_of_dl1_files)"
   ]
  },
  {
   "cell_type": "code",
   "execution_count": null,
   "metadata": {},
   "outputs": [],
   "source": [
    "sorted_dict = {key: optical_eff[key] for key in sorted(optical_eff)}\n",
    "runs = [key for key in sorted_dict.keys()]\n",
    "effs = [sorted_dict[key] for key in sorted_dict.keys()]\n",
    "plt.scatter(runs, effs, marker = 'x', s = 25, alpha = 0.7)\n",
    "plt.grid(alpha = 0.5)\n",
    "plt.xlabel('Run Number')\n",
    "plt.ylabel('Optical Efficiency')"
   ]
  },
  {
   "cell_type": "code",
   "execution_count": null,
   "metadata": {},
   "outputs": [],
   "source": [
    "plt.figure(figsize = (12,9))\n",
    "sns.regplot(x = runs, y = effs, x_bins=70, color = 'k', label = 'Real Data')\n",
    "plt.grid(alpha = 0.5)\n",
    "plt.title(\"Optical Efficiency\")"
   ]
  },
  {
   "cell_type": "code",
   "execution_count": null,
   "metadata": {},
   "outputs": [],
   "source": [
    "plt.figure(figsize = (12,9))\n",
    "sns.regplot(x = runs, y = effs, x_bins=70, color = 'k', label = 'Real Data')\n",
    "plt.grid(alpha = 0.5)\n",
    "plt.title(\"Optical Efficiency\")"
   ]
  },
  {
   "cell_type": "code",
   "execution_count": null,
   "metadata": {},
   "outputs": [],
   "source": [
    "sorted_dict = {key: mu_width[key] for key in sorted(mu_width)}\n",
    "runs = [key for key in sorted_dict.keys()]\n",
    "mu_width = [sorted_dict[key] for key in sorted_dict.keys()]\n",
    "plt.scatter(runs, mu_width, marker = 'x', s = 25, alpha = 0.7)\n",
    "plt.grid(alpha = 0.5)"
   ]
  },
  {
   "cell_type": "code",
   "execution_count": null,
   "metadata": {},
   "outputs": [],
   "source": [
    "plt.figure(figsize = (12,9))\n",
    "sns.regplot(x = runs, y = mu_width, x_bins=70, color = 'darkorange', label = 'Real Data')\n",
    "plt.grid(alpha = 0.5)\n",
    "plt.title(\"Muon Width\")"
   ]
  },
  {
   "cell_type": "code",
   "execution_count": null,
   "metadata": {},
   "outputs": [],
   "source": [
    "sorted_dict = {key: date[key] for key in sorted(date)}\n",
    "runs = [key for key in sorted_dict.keys()]\n",
    "new_date = [sorted_dict[key] for key in sorted_dict.keys()]\n",
    "plt.scatter(runs, new_date, marker = 'x', s = 25, alpha = 0.7)\n",
    "plt.grid(alpha = 0.5)"
   ]
  },
  {
   "cell_type": "code",
   "execution_count": null,
   "metadata": {},
   "outputs": [],
   "source": [
    "sorted_dict = {key: num_cosmic[key] for key in sorted(num_cosmic)}\n",
    "runs = [key for key in sorted_dict.keys()]\n",
    "new_num_cosmic = [sorted_dict[key] for key in sorted_dict.keys()]\n",
    "plt.scatter(runs, new_num_cosmic, marker = 'x', s = 25, alpha = 0.7)\n",
    "plt.grid(alpha = 0.5)"
   ]
  },
  {
   "cell_type": "code",
   "execution_count": null,
   "metadata": {},
   "outputs": [],
   "source": [
    "sorted_cosmic = {key: date[key] for key in sorted(date)}\n",
    "runs = [key for key in sorted_cosmic.keys()]\n",
    "sorted_elapsed = {key: elapsed_time[key] for key in sorted(elapsed_time)}\n",
    "runs_elapsed = [key for key in sorted_elapsed.keys()]\n",
    "new_cosmic = np.array([sorted_cosmic[key] for key in sorted_cosmic.keys()])\n",
    "new_elapsed = np.array([sorted_elapsed[key] for key in sorted_elapsed.keys()])\n",
    "cosmic_rate = new_cosmic/new_elapsed\n",
    "plt.scatter(runs, cosmic_rate, marker = 'x', s = 25, alpha = 0.7)\n",
    "plt.grid(alpha = 0.5)"
   ]
  },
  {
   "cell_type": "code",
   "execution_count": null,
   "metadata": {},
   "outputs": [],
   "source": [
    "cosmic_rate = []\n",
    "x_runs = []\n",
    "for key,item in num_cosmic.items():\n",
    "    x_runs.append(key)\n",
    "    cosmic_rate.append(item/elapsed_time[key])\n",
    "    \n",
    "plt.scatter(x_runs, cosmic_rate)\n",
    "    "
   ]
  },
  {
   "cell_type": "code",
   "execution_count": null,
   "metadata": {},
   "outputs": [],
   "source": [
    "for time in elapsed_time:\n",
    "    print(time/60)"
   ]
  },
  {
   "cell_type": "code",
   "execution_count": null,
   "metadata": {},
   "outputs": [],
   "source": [
    "from astropy.io import fits\n",
    "\n",
    "# Path to your FITS file\n",
    "fits_file_path = '/Users/vdk/muons2024/muons_LST-1.Run16869.0095.fits'\n",
    "\n",
    "\n",
    "with fits.open(fits_file_path) as hdul:\n",
    "    # hdul is a list-like collection of HDU (Header/Data Unit) objects.\n",
    "    \n",
    "    # Print the contents of the FITS file\n",
    "    hdul.info()\n",
    "    \n",
    "    # Access the primary HDU (HDU 0)\n",
    "    primary_hdu = hdul[1]\n",
    "    \n",
    "    # Access data and header of the primary HDU\n",
    "    data = primary_hdu.data\n",
    "    header = primary_hdu.header\n",
    "    \n",
    "    # Print header information\n",
    "    print(header)\n",
    "    \n"
   ]
  },
  {
   "cell_type": "code",
   "execution_count": null,
   "metadata": {},
   "outputs": [],
   "source": []
  },
  {
   "cell_type": "code",
   "execution_count": null,
   "metadata": {},
   "outputs": [],
   "source": [
    "keys = [\n",
    "    ('event_id', '>i8'), \n",
    "    ('event_time', '>f8'), \n",
    "    ('mc_energy', '>i8'), \n",
    "    ('ring_size', '>f4'), \n",
    "    ('size_outside', '>f4'), \n",
    "    ('ring_center_x', '>f8'), \n",
    "    ('ring_center_y', '>f8'), \n",
    "    ('ring_radius', '>f8'), \n",
    "    ('ring_width', '>f8'), \n",
    "    ('good_ring', 'i1'), \n",
    "    ('muon_efficiency', '>f8'), \n",
    "    ('ring_containment', '>f8'), \n",
    "    ('ring_completeness', '>f8'), \n",
    "    ('impact_parameter', '>f8'), \n",
    "    ('impact_x_array', '>f8'),\n",
    "    ('impact_y_array', '>f8'), \n",
    "    ('radial_stdev', '>f8'), \n",
    "    ('radial_skewness', '>f8'), \n",
    "    ('radial_excess_kurtosis', '>f8'), \n",
    "    ('num_pixels_in_ring', '>i8'), \n",
    "    ('mean_pixel_charge_around_ring', '>f8'), \n",
    "    ('hg_peak_sample', '>i8'), \n",
    "    ('lg_peak_sample', '>i8')\n",
    "]\n",
    "\n",
    "for i, item in enumerate(data[0]):\n",
    "    print(f\"{keys[i][0]} = {item}\")"
   ]
  },
  {
   "cell_type": "code",
   "execution_count": null,
   "metadata": {},
   "outputs": [],
   "source": [
    "\n",
    "EventSource"
   ]
  },
  {
   "cell_type": "code",
   "execution_count": null,
   "metadata": {},
   "outputs": [],
   "source": []
  },
  {
   "cell_type": "code",
   "execution_count": null,
   "metadata": {},
   "outputs": [],
   "source": []
  }
 ],
 "metadata": {
  "kernelspec": {
   "display_name": "cta-dev",
   "language": "python",
   "name": "python3"
  },
  "language_info": {
   "codemirror_mode": {
    "name": "ipython",
    "version": 3
   },
   "file_extension": ".py",
   "mimetype": "text/x-python",
   "name": "python",
   "nbconvert_exporter": "python",
   "pygments_lexer": "ipython3",
   "version": "3.9.16"
  }
 },
 "nbformat": 4,
 "nbformat_minor": 2
}
