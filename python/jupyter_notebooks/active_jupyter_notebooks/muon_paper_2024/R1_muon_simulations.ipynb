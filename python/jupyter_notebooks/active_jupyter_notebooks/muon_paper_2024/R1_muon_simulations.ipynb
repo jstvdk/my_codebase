{
 "cells": [
  {
   "cell_type": "code",
   "execution_count": null,
   "metadata": {},
   "outputs": [],
   "source": [
    "from ctapipe.io import EventSource\n",
    "from astropy.table import Table, vstack\n",
    "from ctapipe.visualization import CameraDisplay\n",
    "import pandas as pd\n",
    "import glob\n",
    "import numpy as np\n",
    "import matplotlib.pyplot as plt\n",
    "from astropy import units as u\n"
   ]
  },
  {
   "cell_type": "code",
   "execution_count": null,
   "metadata": {},
   "outputs": [],
   "source": [
    "fits_file = '/Users/vdk/muons2024/lapalma_simulations/simtel/zenith0/muon_table_run101.fits'\n",
    "\n",
    "dat = Table.read(fits_file, format='fits')\n",
    "dat['good_ring'] = dat['good_ring'].astype(bool)\n",
    "df = dat.to_pandas()\n",
    "df_good_data = df[(df['muon_efficiency'] < 1) & \n",
    "                      (df['size_outside'] < 500)]\n",
    "\n",
    "df_good_data\n",
    "\n",
    "ring_completeness_cut = 0.9\n",
    "ring_containment_cut = 0.9\n",
    "event_ids = np.array(list(df_good_data['event_id'][(df_good_data['ring_completeness'] > ring_completeness_cut) &\n",
    "                                           (df_good_data['ring_containment'] > ring_containment_cut)]))"
   ]
  },
  {
   "cell_type": "code",
   "execution_count": null,
   "metadata": {},
   "outputs": [],
   "source": [
    "df_good_data"
   ]
  },
  {
   "cell_type": "code",
   "execution_count": null,
   "metadata": {},
   "outputs": [],
   "source": [
    "filename = '/Users/vdk/muons2024/lapalma_simulations/simtel/zenith0/run101_muon.simtel.gz'\n",
    "source = EventSource(filename, max_events = 5000)\n",
    "event_iterator = iter(source)\n",
    "i = 0\n",
    "events = np.array([])\n",
    "for event in event_iterator:\n",
    "    if event.index.event_id in event_ids:\n",
    "        events = np.append(events, event)\n",
    "        \n"
   ]
  },
  {
   "cell_type": "markdown",
   "metadata": {},
   "source": [
    "#### Calculating pixel area and other geom things"
   ]
  },
  {
   "cell_type": "code",
   "execution_count": null,
   "metadata": {},
   "outputs": [],
   "source": [
    "telescope = source.subarray.tel[1]\n",
    "geometry = telescope.camera.geometry\n",
    "optics = telescope.optics\n",
    "\n",
    "focal_length = optics.equivalent_focal_length.to_value(u.m)\n",
    "pixel_area = geometry.pix_area[0].to_value(u.m**2)\n",
    "pixel_radius = np.sqrt(pixel_area / np.pi) / focal_length\n",
    "\n",
    "mirror_radius = np.sqrt(optics.mirror_area.to_value(u.m**2) / np.pi)"
   ]
  },
  {
   "cell_type": "code",
   "execution_count": null,
   "metadata": {},
   "outputs": [],
   "source": [
    "pixel_radius"
   ]
  },
  {
   "cell_type": "markdown",
   "metadata": {},
   "source": [
    "#### True images of simulated events"
   ]
  },
  {
   "cell_type": "code",
   "execution_count": null,
   "metadata": {},
   "outputs": [],
   "source": [
    "for i,event in enumerate(events[:10]):\n",
    "        plt.figure(figsize = (12,12))\n",
    "        camgeom = source.subarray.tel[1].camera.geometry\n",
    "        #title=\"CT{}, run {} cog {} fit {} width {}\".format(1,event.index.obs_id, round(event.dl1.tel[1].parameters.concentration.cog, 3), round(j.muon.tel[1].efficiency.optical_efficiency, 3), round(j.muon.tel[1].efficiency.width.to_value(),3))\n",
    "        disp = CameraDisplay(camgeom,title='1')\n",
    "        disp.image = event.simulation.tel[1].true_image #.sum(axis=1)\n",
    "        #disp.image = j.r0.tel[1].waveform[0].sum(axis=1)        \n",
    "        disp.cmap = plt.cm.RdBu_r\n",
    "        disp.add_colorbar()\n",
    "        disp.set_limits_percent(95)\n",
    "        #plt.savefig(f\"/Users/vdk/TrurImageCheckCOG{i}_COG=0_fitWrong\")\n",
    "        plt.show()"
   ]
  },
  {
   "cell_type": "markdown",
   "metadata": {},
   "source": [
    "### R1 Distributions"
   ]
  },
  {
   "cell_type": "markdown",
   "metadata": {},
   "source": [
    "#### R1 amplitudes per event"
   ]
  },
  {
   "cell_type": "code",
   "execution_count": null,
   "metadata": {},
   "outputs": [],
   "source": [
    "x_value = np.arange(1,41)\n",
    "plt.figure(figsize = (15,9))\n",
    "for event_instance in events[:100]:\n",
    "    plt.plot(x_value,event_instance.r1.tel[1].waveform[:,:,:].sum(axis=1).reshape(40), drawstyle='steps')\n",
    "\n",
    "plt.grid(alpha = 0.5)\n",
    "plt.xlabel(\"Time bin (ns)\")\n",
    "plt.ylabel(\"Sum of p.e. pver all pixels in each time bin\")\n"
   ]
  },
  {
   "cell_type": "code",
   "execution_count": null,
   "metadata": {},
   "outputs": [],
   "source": [
    "plt.figure(figsize = (15,9))\n",
    "for pix_id in range(0,1855):\n",
    "    plt.plot(events[1].r1.tel[1].waveform[0][pix_id], label=\"pix {}\".format(pix_id), drawstyle='steps')\n",
    "\n",
    "plt.grid(alpha = 0.5)\n",
    "plt.xlabel(\"Time bin (ns)\")\n",
    "plt.ylabel(\"p.e./ns for each pixel\")"
   ]
  },
  {
   "cell_type": "code",
   "execution_count": null,
   "metadata": {},
   "outputs": [],
   "source": []
  },
  {
   "cell_type": "markdown",
   "metadata": {},
   "source": [
    "#### Number of events that have pixels on the image with R1 amplitude > 2.5 p.e.\n"
   ]
  },
  {
   "cell_type": "code",
   "execution_count": null,
   "metadata": {},
   "outputs": [],
   "source": [
    "pixel_numbers = []\n",
    "for event_instance in events:\n",
    "    #pixel_numbers.append((event_instance.r1.tel[1].waveform[0,:,:][event_instance.r1.tel[1].waveform[0].sum(axis=1) > 2.5]).shape[0])\n",
    "    condition_mask = event_instance.r1.tel[1].waveform[0,:,:] > 2.5\n",
    "    rows_with_condition = np.any(condition_mask, axis=1)\n",
    "    pixel_numbers.append(np.sum(rows_with_condition))"
   ]
  },
  {
   "cell_type": "code",
   "execution_count": null,
   "metadata": {},
   "outputs": [],
   "source": [
    "plt.hist(pixel_numbers, bins = 20)\n",
    "plt.grid(alpha=0.5)"
   ]
  },
  {
   "cell_type": "code",
   "execution_count": null,
   "metadata": {},
   "outputs": [],
   "source": [
    "condition_mask = event_instance.r1.tel[1].waveform[0,:,:] > 2.5\n",
    "rows_with_condition = np.any(condition_mask, axis=1)\n",
    "count = np.sum(rows_with_condition)\n",
    "count"
   ]
  },
  {
   "cell_type": "code",
   "execution_count": null,
   "metadata": {},
   "outputs": [],
   "source": [
    "(events[0].r1.tel[1].waveform[0,:,:][events[0].r1.tel[1].waveform[0].sum(axis=1) > 2.5]).shape[0]"
   ]
  },
  {
   "cell_type": "markdown",
   "metadata": {},
   "source": [
    "#### Distribution of mean for variance per pixel"
   ]
  },
  {
   "cell_type": "code",
   "execution_count": null,
   "metadata": {},
   "outputs": [],
   "source": []
  },
  {
   "cell_type": "markdown",
   "metadata": {},
   "source": [
    "#### Distribution of time of max value R1 amplitude per pixel"
   ]
  },
  {
   "cell_type": "code",
   "execution_count": null,
   "metadata": {},
   "outputs": [],
   "source": []
  },
  {
   "cell_type": "code",
   "execution_count": null,
   "metadata": {},
   "outputs": [],
   "source": []
  }
 ],
 "metadata": {
  "kernelspec": {
   "display_name": "cta-dev",
   "language": "python",
   "name": "python3"
  },
  "language_info": {
   "codemirror_mode": {
    "name": "ipython",
    "version": 3
   },
   "file_extension": ".py",
   "mimetype": "text/x-python",
   "name": "python",
   "nbconvert_exporter": "python",
   "pygments_lexer": "ipython3",
   "version": "3.10.14"
  }
 },
 "nbformat": 4,
 "nbformat_minor": 2
}
