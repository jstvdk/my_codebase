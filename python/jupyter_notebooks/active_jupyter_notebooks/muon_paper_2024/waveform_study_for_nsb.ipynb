{
 "cells": [
  {
   "cell_type": "code",
   "execution_count": null,
   "metadata": {},
   "outputs": [],
   "source": [
    "\n",
    "import numpy as np\n",
    "import matplotlib.pyplot as plt\n",
    "from ctapipe.io import EventSource\n",
    "from astropy.table import Table, vstack\n",
    "from ctapipe.visualization import CameraDisplay\n",
    "import pandas as pd\n",
    "import glob\n",
    "from astropy import units as u\n",
    "\n",
    "\n",
    "# File for the subarray description use\n",
    "filename = '/Users/vdk/muons2024/lapalma_simulations/simtel/zenith10/run101_muon.simtel.gz'\n",
    "source = EventSource(filename, max_events = 5000)\n",
    "event_iterator = iter(source)\n",
    "        \n",
    "colors = [\n",
    "    '#1f77b4',  # muted blue\n",
    "    '#ff7f0e',  # safety orange\n",
    "    '#2ca02c',  # cooked asparagus green\n",
    "    '#d62728',  # brick red\n",
    "    '#9467bd',  # muted purple\n",
    "    '#e377c2',  # raspberry yogurt pink\n",
    "    '#8c564b',  # chestnut brown\n",
    "    'k'\n",
    "]"
   ]
  },
  {
   "cell_type": "markdown",
   "metadata": {},
   "source": [
    "## Uploading of arrays with waveforms"
   ]
  },
  {
   "cell_type": "code",
   "execution_count": null,
   "metadata": {},
   "outputs": [],
   "source": [
    "tuned_sim_files = glob.glob('/Users/vdk/muons2024/data/dc_to_pe_comparison/tuned_simulations/*')\n",
    "data_files = glob.glob('/Users/vdk/muons2024/data/dc_to_pe_comparison/17043_subrun20/*')\n",
    "sim_files = glob.glob('/Users/vdk/muons2024/data/dc_to_pe_comparison/simulations/*')\n",
    "double_tuned_files = glob.glob('/Users/vdk/muons2024/data/dc_to_pe_comparison/triple_tuned_sim/*')\n",
    "\n",
    "data_waveforms = []\n",
    "tune_sim_waveforms = []\n",
    "double_tuned_waveforms = []\n",
    "sim_waveforms = []\n",
    "\n",
    "for file_name in tuned_sim_files:\n",
    "    tune_sim_waveforms.append(\n",
    "        np.loadtxt(file_name)\n",
    "    )\n",
    "\n",
    "for file_name in sim_files:\n",
    "    sim_waveforms.append(\n",
    "        np.loadtxt(file_name)\n",
    "    )\n",
    "\n",
    "for file_name in data_files:\n",
    "    data_waveforms.append(\n",
    "        np.loadtxt(file_name)\n",
    "    )\n",
    "    \n",
    "for file_name in double_tuned_files:\n",
    "    double_tuned_waveforms.append(\n",
    "        np.loadtxt(file_name)\n",
    "    )\n"
   ]
  },
  {
   "cell_type": "markdown",
   "metadata": {},
   "source": [
    "#### Creation of arrays with variances for each time bin, choosing the pixels where charge amplitude is less then some threshold value in p.e., in order to choose only pixels without signal"
   ]
  },
  {
   "cell_type": "code",
   "execution_count": null,
   "metadata": {},
   "outputs": [],
   "source": [
    "cut_threshold = 1.3\n",
    "\n",
    "thresholds = np.array([cut_threshold for i in range(40)]) \n",
    "tuned_sim_row_variances = []\n",
    "for waveform in tune_sim_waveforms:\n",
    "    condition = np.all(waveform < thresholds, axis=1)\n",
    "    tuned_sim_row_variances.append(np.var(waveform[condition], axis=0))\n",
    "    \n",
    "    \n",
    "thresholds = np.array([cut_threshold for i in range(36)]) \n",
    "data_row_variances = []\n",
    "for waveform in data_waveforms:\n",
    "    condition = np.all(waveform < thresholds, axis=1)\n",
    "    data_row_variances.append(np.var(waveform[condition], axis=0))\n",
    "\n",
    "  \n",
    "thresholds = np.array([cut_threshold for i in range(40)]) \n",
    "sim_row_variances = []\n",
    "for waveform in sim_waveforms:\n",
    "    condition = np.all(waveform < thresholds, axis=1)\n",
    "    sim_row_variances.append(np.var(waveform[condition], axis=0))\n",
    "\n",
    "double_tuned_sim_row_variances = []\n",
    "for waveform in double_tuned_waveforms:\n",
    "    condition = np.all(waveform < thresholds, axis=1)\n",
    "    double_tuned_sim_row_variances.append(np.var(waveform[condition], axis=0))\n",
    "\n",
    "mean_var_tuned_sim = np.mean(np.array(tuned_sim_row_variances), axis = 0)\n",
    "mean_var_double_tuned_sim = np.mean(np.array(double_tuned_sim_row_variances), axis = 0)\n",
    "mean_var_sim = np.mean(np.array(sim_row_variances), axis = 0)\n",
    "mean_var_data = np.mean(np.array(data_row_variances), axis = 0)\n",
    "\n",
    "plt.figure(figsize=(8,8))\n",
    "plt.plot(mean_var_data, label = \"variance for data\")\n",
    "plt.plot(mean_var_tuned_sim, label = \"variance for simulation with nsb tuned to the data\")\n",
    "plt.plot(mean_var_sim, label = \"variance for simulation with nsb\")\n",
    "plt.plot(mean_var_double_tuned_sim, label = \"variance for simulation with nsb tuned on the already tuned nsb\")\n",
    "\n",
    "plt.grid(alpha=0.5)\n",
    "\n",
    "\n",
    "plt.ylim(0.0,0.15)\n",
    "plt.xlabel(\"time sample\")\n",
    "plt.ylabel(\"Mean of the variance per time bin\")\n",
    "plt.legend()\n",
    "plt.title(f\"Mean of the variance for pixels with charge  < {cut_threshold} p.e, just after dc_to_pe conversion\")\n",
    "#plt.savefig('/Users/vdk/muons2024/images/PlanPaper/Variance_1000_events_cut<1.3pe.pdf', dpi = 200)"
   ]
  },
  {
   "cell_type": "markdown",
   "metadata": {},
   "source": [
    "### Histogram for all variances"
   ]
  },
  {
   "cell_type": "code",
   "execution_count": null,
   "metadata": {},
   "outputs": [],
   "source": [
    "plt.figure(figsize=(9,6))\n",
    "x,y,c = plt.hist(np.array(data_row_variances).flatten(), bins = 100, density=True, alpha = 0.5, label = 'Data')\n",
    "x,y,c = plt.hist(np.array(sim_row_variances).flatten(), bins = 100, density=True, alpha = 0.5, label = 'Simulations')\n",
    "x,y,c = plt.hist(np.array(tuned_sim_row_variances).flatten(), bins = 100, density=True, alpha = 0.5, label = 'Simulations with NSB tuned to data')\n",
    "x,y,c = plt.hist(np.array(double_tuned_sim_row_variances).flatten(), bins = 100, density=True, alpha = 0.5, label = 'Simulations with NSB tuned on the NSB tuned waveforms')\n",
    "plt.grid(alpha = 0.5)\n",
    "plt.ylim(0,200)\n",
    "plt.xlabel('Variance')\n",
    "plt.ylabel('Probability density')\n",
    "plt.title('Variance distribution for 1000 of events after dc_to_pe conversion and pedestal substraction')\n",
    "plt.legend()\n",
    "print(f\"Mean value of the variance for data {round(np.mean(np.array(data_row_variances).flatten()),3)} with std = {round(np.std(np.array(data_row_variances).flatten()), 3)}\")\n",
    "print(f\"Mean value of the variance for simulations {round(np.mean(np.array(sim_row_variances).flatten()),3)} with std = {round(np.std(np.array(sim_row_variances).flatten()),3)}\")\n",
    "print(f\"Mean value of the variance for tuned simulations {round(np.mean(np.array(tuned_sim_row_variances).flatten()),3)} with std = {round(np.std(np.array(tuned_sim_row_variances).flatten()),3)}\")\n",
    "print(f\"Mean value of the variance for tuned simulations on tuned simulations {round(np.mean(np.array(double_tuned_sim_row_variances).flatten()),3)} with std = {round(np.std(np.array(double_tuned_sim_row_variances).flatten()),3)}\")\n",
    "#plt.savefig('/Users/vdk/muons2024/images/PlanPaper/Variance_1000_events_cut<1.3pe_histogram.pdf', dpi = 200)"
   ]
  },
  {
   "cell_type": "markdown",
   "metadata": {},
   "source": [
    "### Check how typical event looks like for tuned simulation"
   ]
  },
  {
   "cell_type": "code",
   "execution_count": null,
   "metadata": {},
   "outputs": [],
   "source": [
    "plt.figure(figsize = (12,12))\n",
    "camgeom = source.subarray.tel[1].camera.geometry\n",
    "disp = CameraDisplay(camgeom,title='1')\n",
    "disp.image = tune_sim_waveforms[0].sum(axis=1)  \n",
    "disp.cmap = plt.cm.RdBu_r\n",
    "disp.add_colorbar()\n",
    "disp.set_limits_percent(95)\n",
    "plt.show()"
   ]
  },
  {
   "cell_type": "code",
   "execution_count": null,
   "metadata": {},
   "outputs": [],
   "source": []
  }
 ],
 "metadata": {
  "kernelspec": {
   "display_name": "cta-dev",
   "language": "python",
   "name": "python3"
  },
  "language_info": {
   "codemirror_mode": {
    "name": "ipython",
    "version": 3
   },
   "file_extension": ".py",
   "mimetype": "text/x-python",
   "name": "python",
   "nbconvert_exporter": "python",
   "pygments_lexer": "ipython3",
   "version": "3.10.14"
  }
 },
 "nbformat": 4,
 "nbformat_minor": 2
}
