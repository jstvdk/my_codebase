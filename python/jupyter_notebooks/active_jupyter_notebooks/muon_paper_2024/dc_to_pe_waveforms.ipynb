{
 "cells": [
  {
   "cell_type": "code",
   "execution_count": null,
   "metadata": {},
   "outputs": [],
   "source": [
    "import sys\n",
    "sys.path.append('/Users/vdk/Software/code/')\n",
    "import numpy as np\n",
    "import matplotlib.pyplot as plt\n",
    "from ctapipe.io import EventSource\n",
    "from astropy.table import Table, vstack\n",
    "from ctapipe.visualization import CameraDisplay\n",
    "import pandas as pd\n",
    "import glob\n",
    "from astropy import units as u\n",
    "from python_modules.muonpipe import usefull_func\n",
    "\n",
    "\n",
    "filename = '/Users/vdk/muons2024/lapalma_simulations/simtel/zenith10/run101_muon.simtel.gz'\n",
    "source = EventSource(filename, max_events = 5000)\n",
    "event_iterator = iter(source)\n",
    "        \n",
    "colors = [\n",
    "    '#1f77b4',  # muted blue\n",
    "    '#ff7f0e',  # safety orange\n",
    "    '#2ca02c',  # cooked asparagus green\n",
    "    '#d62728',  # brick red\n",
    "    '#9467bd',  # muted purple\n",
    "    '#e377c2',  # raspberry yogurt pink\n",
    "    '#8c564b',  # chestnut brown\n",
    "    'k'\n",
    "]"
   ]
  },
  {
   "cell_type": "markdown",
   "metadata": {},
   "source": [
    "## Load pedestals for simulation"
   ]
  },
  {
   "cell_type": "code",
   "execution_count": null,
   "metadata": {},
   "outputs": [],
   "source": [
    "sim_pedestal_1 = np.loadtxt('/Users/vdk/muons2024/data/17043/real_data/array_pedestals/pedestal_sim_event100.txt')\n",
    "sim_pedestal_2 = np.loadtxt('/Users/vdk/muons2024/data/17043/real_data/array_pedestals/pedestal_sim_event101.txt')\n",
    "sim_pedestal_3 = np.loadtxt('/Users/vdk/muons2024/data/17043/real_data/array_pedestals/pedestal_sim_event102.txt')\n",
    "\n",
    "data_pedestal_1 = np.loadtxt('/Users/vdk/muons2024/data/17043/real_data/array_pedestals/pedestal_data_event1200643.txt')\n",
    "data_pedestal_2 = np.loadtxt('/Users/vdk/muons2024/data/17043/real_data/array_pedestals/pedestal_data_event1200647.txt')\n",
    "data_pedestal_3 = np.loadtxt('/Users/vdk/muons2024/data/17043/real_data/array_pedestals/pedestal_data_event1200651.txt')\n",
    "\n",
    "data_dc_to_pe_1 = np.loadtxt('/Users/vdk/muons2024/data/17043/real_data/array_pedestals/dc_to_pe_data_event1200643.txt')\n",
    "data_dc_to_pe_2 = np.loadtxt('/Users/vdk/muons2024/data/17043/real_data/array_pedestals/dc_to_pe_data_event1200647.txt')\n",
    "data_dc_to_pe_3 = np.loadtxt('/Users/vdk/muons2024/data/17043/real_data/array_pedestals/dc_to_pe_data_event1200651.txt')"
   ]
  },
  {
   "cell_type": "code",
   "execution_count": null,
   "metadata": {},
   "outputs": [],
   "source": [
    "sim_pedestal_1.shape"
   ]
  },
  {
   "cell_type": "markdown",
   "metadata": {},
   "source": [
    "#### Simulation pedestal processing\n",
    "\n",
    "**Simtel file is processed with `eventio` class, that creates instance of `array_event` for each `event`:**\n",
    "\n",
    "```python\n",
    "pedestal = array_event[\"camera_monitorings\"][tel_id][\"pedestal\"] / array_event[\"camera_monitorings\"][tel_id][\"n_ped_slices\"]\n",
    "dc_to_pe = array_event[\"laser_calibrations\"][tel_id][\"calib\"]\n",
    "```\n",
    "\n",
    "**Then the R0 waveforms are converted into `R1 waveforms` by substracting this `pedestal` and multiplying by `dc_to_pe` array:**\n",
    "\n",
    "```python\n",
    "calib_shift = 1\n",
    "r1_waveforms = (r0_waveforms - pedestal) * dc_to_pe + calib_shift\n",
    "```"
   ]
  },
  {
   "cell_type": "markdown",
   "metadata": {},
   "source": [
    "### Data pedestal processing\n",
    "\n",
    "\n",
    "**Trace of the procedures that change the waveform values**\n",
    "\n",
    "1. First of all, before all other procedures, there are subtracting of the offset from the `r0 waveform`:\n",
    "\n",
    "```python\n",
    "scale = self.data_stream.waveform_scale = 1\n",
    "offset = self.data_stream.waveform_offset = 400\n",
    "waveform = raw_waveform.astype(np.float32) / scale - offset\n",
    "```\n",
    "\n",
    "2. Then there is happening `drs4_corrections`\n",
    "\n",
    "3. And now it is time for `pedestal` subtraction and `dc_to_pe` conversion:\n",
    "\n",
    "```python\n",
    "waveform -= calibration.pedestal_per_sample[selected_gain_channel, PIXEL_INDEX, np.newaxis]\n",
    "waveform *= calibration.dc_to_pe[selected_gain_channel, PIXEL_INDEX, np.newaxis]\n",
    "```\n",
    "\n",
    "**Pedestal values are taken from the pedestal calibration file, which is created at the beginning of each night.** `calibration_filters_52.Run17017.0000.h5`"
   ]
  },
  {
   "cell_type": "code",
   "execution_count": null,
   "metadata": {},
   "outputs": [],
   "source": [
    "channel_0 = 0\n",
    "channel_1 = 1\n",
    "\n",
    "fig, (ax1, ax2) = plt.subplots(1, 2, figsize=(11, 6))\n",
    "\n",
    "# Plot for channel 0\n",
    "ax1.hist(sim_pedestal_1[channel_0], histtype='step', bins=30, density=True)\n",
    "ax1.hist(sim_pedestal_2[channel_0], histtype='step', bins=30, density=True)\n",
    "ax1.hist(sim_pedestal_3[channel_0], histtype='step', bins=30, density=True, label='Pedestals for the simulations with tuned NSB', linewidth=3, color = 'orange')\n",
    "\n",
    "ax1.hist(data_pedestal_1[channel_0] + 400, histtype='step', bins=30, density=True)\n",
    "ax1.hist(data_pedestal_2[channel_0] + 400, histtype='step', bins=30, density=True)\n",
    "ax1.hist(data_pedestal_3[channel_0] + 400, histtype='step', bins=30, density=True, label='Pedestals for the data + 400 (waveform offset)', linewidth=3, color = 'lightblue')\n",
    "\n",
    "ax1.grid(alpha=0.5)\n",
    "ax1.set_xlabel(\"ADC counts value for pedestals\")\n",
    "ax1.set_ylabel(\"Probability density\")\n",
    "ax1.legend()\n",
    "ax1.set_ylim(0, 2.5)\n",
    "ax1.set_title(f'Pedestal distribution for the gain channel = {channel_0}')\n",
    "\n",
    "# Plot for channel 1\n",
    "ax2.hist(sim_pedestal_1[channel_1], histtype='step', bins=30, density=True)\n",
    "ax2.hist(sim_pedestal_2[channel_1], histtype='step', bins=30, density=True)\n",
    "ax2.hist(sim_pedestal_3[channel_1], histtype='step', bins=30, density=True, label='Pedestals for the simulations with tuned NSB', linewidth=3, color = 'orange')\n",
    "\n",
    "ax2.hist(data_pedestal_1[channel_1] + 400, histtype='step', bins=30, density=True)\n",
    "ax2.hist(data_pedestal_2[channel_1] + 400, histtype='step', bins=30, density=True)\n",
    "ax2.hist(data_pedestal_3[channel_1] + 400, histtype='step', bins=30, density=True, label='Pedestals for the data + 400 (waveform offset)', linewidth=3, color = 'lightblue')\n",
    "\n",
    "ax2.grid(alpha=0.5)\n",
    "ax2.set_xlabel(\"ADC counts value for pedestals\")\n",
    "ax2.set_ylabel(\"Probability density\")\n",
    "ax2.legend()\n",
    "ax2.set_ylim(0, 2.5)\n",
    "ax2.set_title(f'Pedestal distribution for the gain channel = {channel_1}')\n",
    "\n",
    "print(f'=========================HIGH GAIN==============================\\n')\n",
    "print(f'Mean of pedestal distribution in sim {round(np.mean(sim_pedestal_1[channel_0]),3)} wit std = {round(np.std(sim_pedestal_1[channel_0]),3)}')\n",
    "print(f'Mean of pedestal distribution in data {round(np.mean(data_pedestal_1[channel_0]+400),3)} with std = {round(np.std(data_pedestal_1[channel_0]+400),3)}')\n",
    "print(f'\\n=========================LOW GAIN==============================\\n')\n",
    "print(f'Mean of pedestal distribution in sim {round(np.mean(sim_pedestal_1[channel_1]),3)} wit std = {round(np.std(sim_pedestal_1[channel_1]),3)}')\n",
    "print(f'Mean of pedestal distribution in data {round(np.mean(data_pedestal_1[channel_1]+400),3)} with std = {round(np.std(data_pedestal_1[channel_1]+400),3)}')\n",
    "\n",
    "plt.tight_layout()\n",
    "plt.show()\n"
   ]
  },
  {
   "cell_type": "code",
   "execution_count": null,
   "metadata": {},
   "outputs": [],
   "source": [
    "channel = 1\n",
    "plt.figure(figsize=(8,7))\n",
    "\n",
    "z,x,c = plt.hist(data_pedestal_3[0], histtype = 'step', bins = 30, density = True, label = 'Pedestals for the low gain channel', linewidth = 3)\n",
    "\n",
    "z,x,c = plt.hist(data_pedestal_3[1], histtype = 'step', bins = 30, density = True, label = 'Pedestals for the high gain channel', linewidth = 3)\n",
    "\n",
    "plt.grid(alpha = 0.5)\n",
    "plt.xlabel(\"ADC counts value for pedestals\")\n",
    "plt.ylabel(\"Probability deinsity\")\n",
    "plt.legend()\n",
    "plt.ylim(0,2.5)\n",
    "plt.title(f'Pedestal distribution for data (calibration Run17017)')\n",
    "print(f'Mean of pedestal distribution in sim {round(np.mean(sim_pedestal_1[channel]),3)} wit std = {round(np.std(sim_pedestal_1[channel]),3)}')\n",
    "print(f'Mean of pedestal distribution in data {round(np.mean(data_pedestal_1[channel]+400),3)} with std = {round(np.std(data_pedestal_1[channel]+400),3)}')"
   ]
  },
  {
   "cell_type": "code",
   "execution_count": null,
   "metadata": {},
   "outputs": [],
   "source": [
    "channel = 1\n",
    "plt.figure(figsize=(8,7))\n",
    "z,x,c = plt.hist(sim_pedestal_1[channel], histtype = 'step', bins = 30, density = True)\n",
    "z,x,c = plt.hist(sim_pedestal_2[channel], histtype = 'step', bins = 30, density = True)\n",
    "z,x,c = plt.hist(sim_pedestal_3[channel], histtype = 'step', bins = 30, density = True, label = 'Pedestal for the simulations with tuned NSB', linewidth = 3)\n",
    "\n",
    "z,x,c = plt.hist(data_pedestal_1[channel]+400, histtype = 'step', bins = 30, density = True)\n",
    "z,x,c = plt.hist(data_pedestal_2[channel]+400, histtype = 'step', bins = 30, density = True)\n",
    "z,x,c = plt.hist(data_pedestal_3[channel]+400, histtype = 'step', bins = 30, density = True, label = 'Pedestal for the data + 400 (waveform offset)', linewidth = 3)\n",
    "\n",
    "plt.grid(alpha = 0.5)\n",
    "plt.xlabel(\"ADC counts value for pedestals\")\n",
    "plt.ylabel(\"Probability deinsity\")\n",
    "plt.legend()\n",
    "plt.ylim(0,2.5)\n",
    "plt.title(f'Pedestal distribution for the gain channel = {channel}')\n",
    "print(f'Mean of pedestal distribution in sim {round(np.mean(sim_pedestal_1[channel]),3)} wit std = {round(np.std(sim_pedestal_1[channel]),3)}')\n",
    "print(f'Mean of pedestal distribution in data {round(np.mean(data_pedestal_1[channel]+400),3)} with std = {round(np.std(data_pedestal_1[channel]+400),3)}')"
   ]
  },
  {
   "cell_type": "code",
   "execution_count": null,
   "metadata": {},
   "outputs": [],
   "source": []
  },
  {
   "cell_type": "code",
   "execution_count": null,
   "metadata": {},
   "outputs": [],
   "source": [
    "channel = 0\n",
    "plt.figure(figsize=(7,5))\n",
    "z,x,c = plt.hist(data_pedestal_1[channel]+400, histtype = 'step', bins = 30, density = True)\n",
    "z,x,c = plt.hist(data_pedestal_2[channel]+400, histtype = 'step', bins = 30, density = True)\n",
    "z,x,c = plt.hist(data_pedestal_3[channel]+400, histtype = 'step', bins = 30, density = True)\n",
    "\n",
    "plt.grid(alpha = 0.5)\n",
    "plt.xlabel(\"? counts value for pedestals\")\n",
    "plt.ylabel(\"Probability deinsity\")\n",
    "np.mean(data_pedestal_1[channel])"
   ]
  },
  {
   "cell_type": "code",
   "execution_count": null,
   "metadata": {},
   "outputs": [],
   "source": [
    "channel = 0\n",
    "plt.figure(figsize=(7,5))\n",
    "z,x,c = plt.hist(data_dc_to_pe_1[channel], histtype = 'step', bins = 30, density = True)\n",
    "z,x,c = plt.hist(data_dc_to_pe_2[channel], histtype = 'step', bins = 30, density = True)\n",
    "z,x,c = plt.hist(data_dc_to_pe_3[channel], histtype = 'step', bins = 30, density = True)\n",
    "\n",
    "plt.grid(alpha = 0.5)\n",
    "plt.xlabel(\"dc_to_pe converstion array\")\n",
    "plt.ylabel(\"Probability deinsity\")\n",
    "np.mean(data_dc_to_pe_1[channel])"
   ]
  },
  {
   "cell_type": "code",
   "execution_count": null,
   "metadata": {},
   "outputs": [],
   "source": []
  },
  {
   "cell_type": "code",
   "execution_count": null,
   "metadata": {},
   "outputs": [],
   "source": []
  },
  {
   "cell_type": "code",
   "execution_count": null,
   "metadata": {},
   "outputs": [],
   "source": [
    "data_waveform = np.loadtxt('/Users/vdk/muons2024/data/dc_to_pe_comparison/5_data_event.txt')\n",
    "sim_waveform = np.loadtxt('/Users/vdk/muons2024/data/dc_to_pe_comparison/5_sim_event.txt')\n",
    "print(f\"min value in data {np.min(data_waveform)}\")\n",
    "print(f\"min value in sim {np.min(sim_waveform)}\")\n",
    "\n"
   ]
  },
  {
   "cell_type": "code",
   "execution_count": null,
   "metadata": {},
   "outputs": [],
   "source": [
    "data_waveform.shape"
   ]
  },
  {
   "cell_type": "code",
   "execution_count": null,
   "metadata": {},
   "outputs": [],
   "source": [
    "\n",
    "plt.figure(figsize = (12,12))\n",
    "camgeom = source.subarray.tel[1].camera.geometry\n",
    "#title=\"CT{}, run {} cog {} fit {} width {}\".format(1,event.index.obs_id, round(event.dl1.tel[1].parameters.concentration.cog, 3), round(j.muon.tel[1].efficiency.optical_efficiency, 3), round(j.muon.tel[1].efficiency.width.to_value(),3))\n",
    "disp = CameraDisplay(camgeom,title='1')\n",
    "disp.image = data_waveform.sum(axis=1)\n",
    "disp.image = sim_waveform.sum(axis=1)\n",
    "#disp.image = j.r0.tel[1].waveform[0].sum(axis=1)        \n",
    "disp.cmap = plt.cm.RdBu_r\n",
    "disp.add_colorbar()\n",
    "disp.set_limits_percent(95)\n",
    "#plt.savefig(f\"/Users/vdk/TrurImageCheckCOG{i}_COG=0_fitWrong\")\n",
    "plt.show()"
   ]
  },
  {
   "cell_type": "code",
   "execution_count": null,
   "metadata": {},
   "outputs": [],
   "source": [
    "fig, (ax1, ax2) = plt.subplots(1, 2, figsize=(12, 6))  # 1 row, 2 columns\n",
    "\n",
    "for pix_id in range(0,1855):\n",
    "    ax1.plot(data_waveform[pix_id], drawstyle='steps')\n",
    "    \n",
    "for pix_id in range(0,1855):\n",
    "    ax2.plot(sim_waveform[pix_id], drawstyle='steps')\n",
    "\n",
    "ax1.set_ylim(0,2)\n",
    "ax2.set_ylim(0,2)\n",
    "ax1.grid(alpha = 0.5)\n",
    "ax2.grid(alpha = 0.5)\n",
    "ax1.set_ylabel(\"p.e. for each pixel\")\n",
    "ax1.set_xlabel(\"Time bin (ns)\")\n",
    "ax2.set_xlabel(\"Time bin (ns)\")\n"
   ]
  },
  {
   "cell_type": "code",
   "execution_count": null,
   "metadata": {},
   "outputs": [],
   "source": [
    "thresholds = np.array([1.5 for i in range(36)]) \n",
    "condition = np.all(data_waveform < thresholds, axis=1)\n",
    "nsb_data = data_waveform[condition]\n",
    "\n",
    "thresholds = np.array([1 for i in range(40)]) \n",
    "condition = np.all(sim_waveform < thresholds, axis=1)\n",
    "nsb_sim = sim_waveform[condition]\n",
    "\n",
    "print(nsb_data.shape)\n",
    "print(nsb_sim.shape)"
   ]
  },
  {
   "cell_type": "code",
   "execution_count": null,
   "metadata": {},
   "outputs": [],
   "source": [
    "plt.figure(figsize = (15,9))\n",
    "for pix_id in range(0,nsb_data.shape[0]):\n",
    "    plt.plot(nsb_data[pix_id], drawstyle='steps')\n",
    "    \n",
    "for pix_id in range(0,nsb_sim.shape[0]):\n",
    "    plt.plot(nsb_sim[pix_id], drawstyle='steps')\n",
    "\n",
    "plt.grid(alpha = 0.5)\n",
    "plt.xlabel(\"Time bin (ns)\")\n",
    "plt.ylabel(\"p.e./ns for each pixel\")"
   ]
  },
  {
   "cell_type": "code",
   "execution_count": null,
   "metadata": {},
   "outputs": [],
   "source": []
  },
  {
   "cell_type": "code",
   "execution_count": null,
   "metadata": {},
   "outputs": [],
   "source": [
    "data_row_variances = np.var(nsb_data, axis=0)\n",
    "sim_row_variances = np.var(nsb_sim, axis=0)\n",
    "plt.figure(figsize=(8,8))\n",
    "plt.plot(data_row_variances, label = \"variance for data\")\n",
    "plt.plot(sim_row_variances, label = \"variance for simulations\")\n",
    "\n",
    "\n",
    "plt.grid(alpha=0.5)\n",
    "\n",
    "plt.xlabel(\"time sample\")\n",
    "plt.ylabel(\"variance\")\n",
    "plt.legend()\n",
    "plt.title(\"Variance for pixels with charge  < 1.5 p.e\")\n"
   ]
  },
  {
   "cell_type": "code",
   "execution_count": null,
   "metadata": {},
   "outputs": [],
   "source": [
    "print(f\"Variance for data {np.var(nsb_data.flatten())}\")\n",
    "print(f\"Variance for sim {np.var(nsb_sim.flatten())}\")"
   ]
  },
  {
   "cell_type": "code",
   "execution_count": null,
   "metadata": {},
   "outputs": [],
   "source": [
    "plt.hist(nsb_data.flatten(),alpha = 0.5)\n",
    "plt.hist(nsb_sim.flatten(),alpha = 0.5)"
   ]
  },
  {
   "cell_type": "code",
   "execution_count": null,
   "metadata": {},
   "outputs": [],
   "source": [
    "usefull_func.hist_wo_outliers(nsb_data.sum(axis=1), label = 'Data', density=True, mean_line=True, color = colors[0], alpha = 0.6)\n",
    "usefull_func.hist_wo_outliers(nsb_sim.sum(axis=1), label = 'Simulations', density=True, mean_line=True, color = colors[0], alpha = 0.6)"
   ]
  },
  {
   "cell_type": "code",
   "execution_count": null,
   "metadata": {},
   "outputs": [],
   "source": [
    "nsb_data.shape"
   ]
  },
  {
   "cell_type": "code",
   "execution_count": null,
   "metadata": {},
   "outputs": [],
   "source": []
  },
  {
   "cell_type": "code",
   "execution_count": null,
   "metadata": {},
   "outputs": [],
   "source": [
    "plt.figure(figsize = (15,9))\n",
    "for pix_id in range(0,1855):\n",
    "    plt.plot(r0_data_waveform[pix_id], drawstyle='steps')\n",
    "    \n",
    "\n",
    "plt.grid(alpha = 0.5)\n",
    "plt.xlabel(\"Time bin (ns)\")\n",
    "plt.ylabel(\"p.e./ns for each pixel\")"
   ]
  },
  {
   "cell_type": "code",
   "execution_count": null,
   "metadata": {},
   "outputs": [],
   "source": [
    "plt.figure(figsize = (12,12))\n",
    "camgeom = source.subarray.tel[1].camera.geometry\n",
    "#title=\"CT{}, run {} cog {} fit {} width {}\".format(1,event.index.obs_id, round(event.dl1.tel[1].parameters.concentration.cog, 3), round(j.muon.tel[1].efficiency.optical_efficiency, 3), round(j.muon.tel[1].efficiency.width.to_value(),3))\n",
    "disp = CameraDisplay(camgeom,title='1')\n",
    "disp.image = r0_data_waveform.sum(axis=1)\n",
    "#disp.image = sim_waveform.sum(axis=1)\n",
    "#disp.image = j.r0.tel[1].waveform[0].sum(axis=1)        \n",
    "disp.cmap = plt.cm.RdBu_r\n",
    "disp.add_colorbar()\n",
    "disp.set_limits_minmax(15000,20000)\n",
    "#plt.savefig(f\"/Users/vdk/TrurImageCheckCOG{i}_COG=0_fitWrong\")\n",
    "plt.show()"
   ]
  },
  {
   "cell_type": "code",
   "execution_count": null,
   "metadata": {},
   "outputs": [],
   "source": [
    "np.max(data_waveform)"
   ]
  },
  {
   "cell_type": "markdown",
   "metadata": {},
   "source": [
    "### Tuned"
   ]
  },
  {
   "cell_type": "code",
   "execution_count": null,
   "metadata": {},
   "outputs": [],
   "source": [
    "data_waveform = np.loadtxt('/Users/vdk/muons2024/data/dc_to_pe_comparison/3_data_20subrun_event.csv')\n",
    "tuned_sim_waveform = np.loadtxt('/Users/vdk/muons2024/data/dc_to_pe_comparison/1_sim_tuned_event.csv')\n",
    "print(f\"min value in data {np.min(data_waveform)}\")\n",
    "print(f\"min value in sim {np.min(sim_waveform)}\")"
   ]
  },
  {
   "cell_type": "code",
   "execution_count": null,
   "metadata": {},
   "outputs": [],
   "source": [
    "\n",
    "plt.figure(figsize = (12,12))\n",
    "camgeom = source.subarray.tel[1].camera.geometry\n",
    "#title=\"CT{}, run {} cog {} fit {} width {}\".format(1,event.index.obs_id, round(event.dl1.tel[1].parameters.concentration.cog, 3), round(j.muon.tel[1].efficiency.optical_efficiency, 3), round(j.muon.tel[1].efficiency.width.to_value(),3))\n",
    "disp = CameraDisplay(camgeom,title='1')\n",
    "disp.image = data_waveform.sum(axis=1)\n",
    "disp.image = tuned_sim_waveform.sum(axis=1)\n",
    "#disp.image = j.r0.tel[1].waveform[0].sum(axis=1)        \n",
    "disp.cmap = plt.cm.RdBu_r\n",
    "disp.add_colorbar()\n",
    "disp.set_limits_percent(95)\n",
    "#plt.savefig(f\"/Users/vdk/TrurImageCheckCOG{i}_COG=0_fitWrong\")\n",
    "plt.show()"
   ]
  },
  {
   "cell_type": "code",
   "execution_count": null,
   "metadata": {},
   "outputs": [],
   "source": [
    "fig, (ax1, ax2) = plt.subplots(1, 2, figsize=(12, 6))  # 1 row, 2 columns\n",
    "\n",
    "for pix_id in range(0,1855):\n",
    "    ax1.plot(data_waveform[pix_id], drawstyle='steps')\n",
    "    \n",
    "for pix_id in range(0,1855):\n",
    "    ax2.plot(tuned_sim_waveform[pix_id], drawstyle='steps')\n",
    "\n",
    "ax1.set_ylim(0,3)\n",
    "ax2.set_ylim(0,3)\n",
    "ax1.grid(alpha = 0.5)\n",
    "ax1.set_title(\"R1 waveform for dataa\")\n",
    "ax2.grid(alpha = 0.5)\n",
    "ax1.set_ylabel(\"p.e. for each pixel\")\n",
    "ax1.set_xlabel(\"Time bin (ns)\")\n",
    "ax2.set_xlabel(\"Time bin (ns)\")\n",
    "ax2.set_title(\"R1 waveform for tuned simulation\")\n",
    "#plt.title(\"Left: Data; Right: Simulations with Tuned NSB\")\n",
    "#plt.savefig('/Users/vdk/muons2024/images/PlanPaper/data_vs_tuned_sim_waveform.pdf', dpi = 200)"
   ]
  },
  {
   "cell_type": "code",
   "execution_count": null,
   "metadata": {},
   "outputs": [],
   "source": []
  },
  {
   "cell_type": "code",
   "execution_count": null,
   "metadata": {},
   "outputs": [],
   "source": []
  },
  {
   "cell_type": "code",
   "execution_count": null,
   "metadata": {},
   "outputs": [],
   "source": [
    "cut_threshold = 1.4\n",
    "thresholds = np.array([cut_threshold for i in range(36)]) \n",
    "condition = np.all(data_waveform < thresholds, axis=1)\n",
    "nsb_data = data_waveform[condition]\n",
    "\n",
    "thresholds = np.array([cut_threshold for i in range(40)]) \n",
    "condition = np.all(sim_waveform < thresholds, axis=1)\n",
    "nsb_sim = sim_waveform[condition]\n",
    "\n",
    "thresholds = np.array([cut_threshold for i in range(40)]) \n",
    "condition = np.all(tuned_sim_waveform < thresholds, axis=1)\n",
    "tuned_nsb_sim = tuned_sim_waveform[condition]\n",
    "\n",
    "print(nsb_data.shape)\n",
    "print(nsb_sim.shape)\n",
    "print(tuned_nsb_sim.shape)\n",
    "data_row_variances = np.var(nsb_data, axis=0)\n",
    "tuned_sim_row_variances = np.var(tuned_nsb_sim, axis=0)\n",
    "sim_row_variances = np.var(nsb_sim, axis=0)\n",
    "plt.figure(figsize=(8,8))\n",
    "plt.plot(data_row_variances, label = \"variance for data\")\n",
    "plt.plot(tuned_sim_row_variances, label = \"variance for simulation with nsb tuned to the data\")\n",
    "plt.plot(sim_row_variances, label = \"variance for simulation\")\n",
    "\n",
    "\n",
    "plt.grid(alpha=0.5)\n",
    "\n",
    "\n",
    "plt.ylim(0.0,0.15)\n",
    "plt.xlabel(\"time sample\")\n",
    "plt.ylabel(\"variance\")\n",
    "plt.legend()\n",
    "plt.title(f\"Variance for pixels with charge  < {cut_threshold} p.e, just after dc_to_pe conversion\")\n",
    "\n",
    "\n",
    "print(f\"Variance for data {np.var(nsb_data.flatten())}\")\n",
    "print(f\"Variance for sim {np.var(nsb_sim.flatten())}\")\n",
    "print(f\"Variance for tuned sim {np.var(tuned_nsb_sim.flatten())}\")"
   ]
  },
  {
   "cell_type": "code",
   "execution_count": null,
   "metadata": {},
   "outputs": [],
   "source": [
    "nsb_data.shape"
   ]
  },
  {
   "cell_type": "code",
   "execution_count": null,
   "metadata": {},
   "outputs": [],
   "source": [
    "0.06431668311798179 / 0.08368620043660975"
   ]
  },
  {
   "cell_type": "markdown",
   "metadata": {},
   "source": [
    "### Larger statistic"
   ]
  },
  {
   "cell_type": "code",
   "execution_count": null,
   "metadata": {},
   "outputs": [],
   "source": [
    "tuned_sim_files = glob.glob('/Users/vdk/muons2024/data/dc_to_pe_comparison/tuned_simulations/*')\n",
    "data_files = glob.glob('/Users/vdk/muons2024/data/dc_to_pe_comparison/17043_subrun20/*')\n",
    "sim_files = glob.glob('/Users/vdk/muons2024/data/dc_to_pe_comparison/simulations/*')\n",
    "double_tuned_files = glob.glob('/Users/vdk/muons2024/data/dc_to_pe_comparison/triple_tuned_sim/*')\n",
    "\n",
    "data_waveforms = []\n",
    "tune_sim_waveforms = []\n",
    "double_tuned_waveforms = []\n",
    "sim_waveforms = []\n",
    "\n",
    "for file_name in tuned_sim_files:\n",
    "    tune_sim_waveforms.append(\n",
    "        np.loadtxt(file_name)\n",
    "    )\n",
    "\n",
    "for file_name in sim_files:\n",
    "    sim_waveforms.append(\n",
    "        np.loadtxt(file_name)\n",
    "    )\n",
    "\n",
    "for file_name in data_files:\n",
    "    data_waveforms.append(\n",
    "        np.loadtxt(file_name)\n",
    "    )\n",
    "    \n",
    "for file_name in double_tuned_files:\n",
    "    double_tuned_waveforms.append(\n",
    "        np.loadtxt(file_name)\n",
    "    )\n"
   ]
  },
  {
   "cell_type": "code",
   "execution_count": null,
   "metadata": {},
   "outputs": [],
   "source": [
    "sim_files"
   ]
  },
  {
   "cell_type": "code",
   "execution_count": null,
   "metadata": {},
   "outputs": [],
   "source": [
    "cut_threshold = 1.3\n",
    "\n",
    "thresholds = np.array([cut_threshold for i in range(40)]) \n",
    "tuned_sim_row_variances = []\n",
    "for waveform in tune_sim_waveforms:\n",
    "    condition = np.all(waveform < thresholds, axis=1)\n",
    "    tuned_sim_row_variances.append(np.var(waveform[condition], axis=0))\n",
    "    \n",
    "    \n",
    "thresholds = np.array([cut_threshold for i in range(36)]) \n",
    "data_row_variances = []\n",
    "for waveform in data_waveforms:\n",
    "    condition = np.all(waveform < thresholds, axis=1)\n",
    "    data_row_variances.append(np.var(waveform[condition], axis=0))\n",
    "\n",
    "  \n",
    "thresholds = np.array([cut_threshold for i in range(40)]) \n",
    "sim_row_variances = []\n",
    "for waveform in sim_waveforms:\n",
    "    condition = np.all(waveform < thresholds, axis=1)\n",
    "    sim_row_variances.append(np.var(waveform[condition], axis=0))\n",
    "\n",
    "double_tuned_sim_row_variances = []\n",
    "for waveform in double_tuned_waveforms:\n",
    "    condition = np.all(waveform < thresholds, axis=1)\n",
    "    double_tuned_sim_row_variances.append(np.var(waveform[condition], axis=0))\n",
    "\n",
    "mean_var_tuned_sim = np.mean(np.array(tuned_sim_row_variances), axis = 0)\n",
    "mean_var_double_tuned_sim = np.mean(np.array(double_tuned_sim_row_variances), axis = 0)\n",
    "mean_var_sim = np.mean(np.array(sim_row_variances), axis = 0)\n",
    "mean_var_data = np.mean(np.array(data_row_variances), axis = 0)\n",
    "\n",
    "plt.figure(figsize=(8,8))\n",
    "plt.plot(mean_var_data, label = \"variance for data\")\n",
    "plt.plot(mean_var_tuned_sim, label = \"variance for simulation with nsb tuned to the data\")\n",
    "plt.plot(mean_var_sim, label = \"variance for simulation with nsb\")\n",
    "plt.plot(mean_var_double_tuned_sim, label = \"variance for simulation with nsb tuned double times to the data\")\n",
    "\n",
    "plt.grid(alpha=0.5)\n",
    "\n",
    "\n",
    "plt.ylim(0.0,0.15)\n",
    "plt.xlabel(\"time sample\")\n",
    "plt.ylabel(\"Mean of the variance per time bin\")\n",
    "plt.legend()\n",
    "plt.title(f\"Mean of the variance for pixels with charge  < {cut_threshold} p.e, just after dc_to_pe conversion\")\n",
    "#plt.savefig('/Users/vdk/muons2024/images/PlanPaper/Variance_1000_events_cut<1.3pe.pdf', dpi = 200)"
   ]
  },
  {
   "cell_type": "code",
   "execution_count": null,
   "metadata": {},
   "outputs": [],
   "source": [
    "plt.figure(figsize=(9,6))\n",
    "x,y,c = plt.hist(np.array(data_row_variances).flatten(), bins = 100, density=True, alpha = 0.5, label = 'Data')\n",
    "x,y,c = plt.hist(np.array(sim_row_variances).flatten(), bins = 100, density=True, alpha = 0.5, label = 'Simulations')\n",
    "x,y,c = plt.hist(np.array(tuned_sim_row_variances).flatten(), bins = 100, density=True, alpha = 0.5, label = 'Simulations with NSB tuned to data')\n",
    "plt.grid(alpha = 0.5)\n",
    "plt.ylim(0,200)\n",
    "plt.xlabel('Variance')\n",
    "plt.ylabel('Probability density')\n",
    "plt.title('Variance distribution for 1000 of events after dc_to_pe conversion and pedestal substraction')\n",
    "plt.legend()\n",
    "print(f\"Mean value of the variance for data {round(np.mean(np.array(data_row_variances).flatten()),3)} with std = {round(np.std(np.array(data_row_variances).flatten()), 3)}\")\n",
    "print(f\"Mean value of the variance for simulations {round(np.mean(np.array(sim_row_variances).flatten()),3)} with std = {round(np.std(np.array(sim_row_variances).flatten()),3)}\")\n",
    "print(f\"Mean value of the variance for tuned simulations {round(np.mean(np.array(tuned_sim_row_variances).flatten()),3)} with std = {round(np.std(np.array(tuned_sim_row_variances).flatten()),3)}\")\n",
    "#plt.savefig('/Users/vdk/muons2024/images/PlanPaper/Variance_1000_events_cut<1.3pe_histogram.pdf', dpi = 200)"
   ]
  },
  {
   "cell_type": "code",
   "execution_count": null,
   "metadata": {},
   "outputs": [],
   "source": [
    "usefull_func.hist_wo_outliers(np.array(tune_sim_waveforms).reshape(-1, 40).sum(axis=1), outlier_value=20, show_outliers=True,label = 'Data', density=True, mean_line=True, color = colors[0], alpha = 0.6, bins = 50)\n",
    "usefull_func.hist_wo_outliers(np.array(data_waveforms).reshape(-1, 40).sum(axis=1), outlier_value=20, show_outliers=True, label = 'Data', density=True, mean_line=True, color = colors[0], alpha = 0.6, bins = 50)"
   ]
  },
  {
   "cell_type": "code",
   "execution_count": null,
   "metadata": {},
   "outputs": [],
   "source": [
    "np.array(tune_sim_waveforms).reshape(-1, 40).shape"
   ]
  },
  {
   "cell_type": "code",
   "execution_count": null,
   "metadata": {},
   "outputs": [],
   "source": []
  }
 ],
 "metadata": {
  "kernelspec": {
   "display_name": "lstchain-env",
   "language": "python",
   "name": "python3"
  },
  "language_info": {
   "codemirror_mode": {
    "name": "ipython",
    "version": 3
   },
   "file_extension": ".py",
   "mimetype": "text/x-python",
   "name": "python",
   "nbconvert_exporter": "python",
   "pygments_lexer": "ipython3",
   "version": "3.10.14"
  }
 },
 "nbformat": 4,
 "nbformat_minor": 2
}
