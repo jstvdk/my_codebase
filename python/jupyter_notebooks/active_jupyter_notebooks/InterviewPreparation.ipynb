{
 "cells": [
  {
   "cell_type": "code",
   "execution_count": null,
   "metadata": {},
   "outputs": [],
   "source": [
    "def my_decorator(func):\n",
    "    def wrapper(*args, **kwargs):\n",
    "        print(\"Before the function call\")\n",
    "        result = func(*args, **kwargs)\n",
    "        print(\"After the function call\")\n",
    "        return result\n",
    "    return wrapper\n",
    "\n",
    "@my_decorator\n",
    "def say_hello(name):\n",
    "    print(f\"Hello, {name}\")\n",
    "\n",
    "say_hello(\"Alice\")"
   ]
  },
  {
   "cell_type": "code",
   "execution_count": null,
   "metadata": {},
   "outputs": [],
   "source": [
    "\"\"\"\n",
    "Напишіть скрипт, який просить ввести радіус кулі і рахує її об'єм.\n",
    "\"\"\"\n",
    "\n",
    "radius = int(input(\"Вкажіть радіус кулі, щоб дізнатись її об'єм\"))\n",
    "volume = 4/3 * (3.14 * radius**3)\n",
    "\n",
    "print(f\"Об\\'єм кулі дорівнює {volume} умовних кубічних одиниць\")"
   ]
  },
  {
   "cell_type": "markdown",
   "metadata": {},
   "source": [
    "| Function         | String                     | Times |\n",
    "|------------------|----------------------------|-------|\n",
    "| print_few_times  | \"Programming is awesome!\"  | 5     |\n",
    "| print_few_times  | \"Programming is awesome!\"  | 4     |\n",
    "| print_few_times  | \"Programming is awesome!\"  | 3     |\n",
    "| print_few_times  | \"Programming is awesome!\"  | 2     |\n",
    "| print_few_times  | \"Programming is awesome!\"  | 1     |\n",
    "| print_few_times  | \"Programming is awesome!\"  | 0     |"
   ]
  },
  {
   "cell_type": "code",
   "execution_count": null,
   "metadata": {},
   "outputs": [],
   "source": [
    " \n",
    "def is_prime(n,div=2):\n",
    "    if n <= 1:\n",
    "        return False\n",
    "    elif (n % div == 0):\n",
    "        return False\n",
    "    elif (div * div > n):\n",
    "        return True\n",
    "    return is_prime(n,div + 1)"
   ]
  },
  {
   "cell_type": "code",
   "execution_count": null,
   "metadata": {},
   "outputs": [],
   "source": [
    "for i in range(30):\n",
    "    print(i, is_prime(i))"
   ]
  },
  {
   "cell_type": "code",
   "execution_count": null,
   "metadata": {},
   "outputs": [],
   "source": [
    "is_prime(106)"
   ]
  },
  {
   "cell_type": "code",
   "execution_count": null,
   "metadata": {},
   "outputs": [],
   "source": []
  }
 ],
 "metadata": {
  "kernelspec": {
   "display_name": "cta-dev",
   "language": "python",
   "name": "python3"
  },
  "language_info": {
   "codemirror_mode": {
    "name": "ipython",
    "version": 3
   },
   "file_extension": ".py",
   "mimetype": "text/x-python",
   "name": "python",
   "nbconvert_exporter": "python",
   "pygments_lexer": "ipython3",
   "version": "3.10.14"
  }
 },
 "nbformat": 4,
 "nbformat_minor": 2
}
