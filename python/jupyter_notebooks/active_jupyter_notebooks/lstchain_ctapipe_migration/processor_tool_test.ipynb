{
 "cells": [
  {
   "cell_type": "code",
   "execution_count": null,
   "metadata": {},
   "outputs": [],
   "source": [
    "import h5py\n",
    "import numpy as np\n",
    "from ctapipe.tools.process import ProcessorTool\n",
    "import yaml\n",
    "from traitlets.config import Config"
   ]
  },
  {
   "cell_type": "markdown",
   "metadata": {},
   "source": [
    "# Processor Tool set up and run"
   ]
  },
  {
   "cell_type": "code",
   "execution_count": null,
   "metadata": {},
   "outputs": [],
   "source": [
    "filename = '/Users/vdk/muons2024/simtel_files/2024year_tuned_nooulier_reflectivity_additional/run101_muon.simtel.gz'\n",
    "\n",
    "yaml_file_path = '/Users/vdk/Software/ctasoft/calibpipe/doc/source/examples/throughput/configurations/processor_tool_muon_configuration.yaml'\n",
    "\n",
    "def dict_to_config(d):\n",
    "    \"\"\"Recursively convert a dictionary into a Config object.\"\"\"\n",
    "    config = Config()\n",
    "    for key, value in d.items():\n",
    "        # If the key starts with an uppercase letter, ensure the value is a Config instance\n",
    "        if key[0].isupper() and isinstance(value, dict):\n",
    "            config[key] = dict_to_config(value)\n",
    "        else:\n",
    "            config[key] = value\n",
    "    return config\n",
    "\n",
    "def load_config_from_yaml(yaml_file_path):\n",
    "    # Load the YAML file\n",
    "    with open(yaml_file_path, 'r') as file:\n",
    "        yaml_data = yaml.safe_load(file)\n",
    "    \n",
    "    # Convert the YAML data (a dictionary) to a Config object\n",
    "    config = dict_to_config(yaml_data)\n",
    "    return config\n",
    "\n",
    "# Example usage:\n",
    "\n",
    "config = load_config_from_yaml(yaml_file_path)\n",
    "\n",
    "config['DataWriter']['output_path'] = '/Users/vdk/muons2024/calibpipe/lstchain_ctapipe_migration_data/test_sim.h5'\n",
    "config['DataWriter']['write_muon_parameters'] = True\n",
    "config['EventSource']['input_url'] = '/Users/vdk/muons2024/simtel_files/2024year_tuned_nooulier_reflectivity_additional/run101_muon.simtel.gz'\n",
    "config['EventSource']['max_events'] = 50\n",
    "config['GlobalPeakWindowSum']['window_shift'] = 4\n",
    "config['GlobalPeakWindowSum']['window_width'] = 8"
   ]
  },
  {
   "cell_type": "code",
   "execution_count": null,
   "metadata": {},
   "outputs": [],
   "source": [
    "test_tool = ProcessorTool(config=config)"
   ]
  },
  {
   "cell_type": "code",
   "execution_count": null,
   "metadata": {},
   "outputs": [],
   "source": [
    "test_tool.run()"
   ]
  },
  {
   "cell_type": "markdown",
   "metadata": {},
   "source": [
    "# Processing .h5 file"
   ]
  },
  {
   "cell_type": "code",
   "execution_count": null,
   "metadata": {},
   "outputs": [],
   "source": [
    "with h5py.File(config['DataWriter']['output_path'], \"r\") as h5_file:\n",
    "    # Access a dataset\n",
    "    dataset = h5_file[\"dl1/event/telescope/muon/tel_001\"]\n",
    "    test_dataset = h5_file.get(\"dl1/event/telescope/muon/tel_001\")\n",
    "    trigger_dataset = h5_file[\"dl1/event/subarray/trigger\"]\n",
    "    tigger_info = h5_file[\"dl1/event/telescope/trigger\"]\n",
    "    time_dataset = trigger_dataset[\"time\"]\n",
    "    trigger_lookup = trigger_dataset[:50]\n",
    "    simulation_info = h5_file['configuration/simulation/run']\n",
    "    print(type(simulation_info))\n",
    "    simulation_dataset = simulation_info[()]\n",
    "    \n",
    "    # Read the first and last values\n",
    "    first_time = time_dataset[0]\n",
    "    last_time = time_dataset[-1]\n",
    "    # Check the shape and data type of the dataset\n",
    "    print(\"Dataset shape:\", dataset.shape)\n",
    "    print(\"Dataset dtype:\", dataset.dtype)\n",
    "    dataset_dtype = dataset.dtype\n",
    "    trigger_dataset_dtype = trigger_dataset.dtype\n",
    "    trigger_info_dtype = tigger_info.dtype\n",
    "    simulation_dtype = simulation_info.dtype\n",
    "    # Load the data from the dataset\n",
    "    data = dataset[:50]\n",
    "    data_trigger = trigger_dataset[:50]\n",
    "    data_trigger_info = tigger_info[:50]\n",
    "    #print(\"Data:\", data)"
   ]
  },
  {
   "cell_type": "markdown",
   "metadata": {},
   "source": [
    "# Simulation info"
   ]
  },
  {
   "cell_type": "code",
   "execution_count": null,
   "metadata": {},
   "outputs": [],
   "source": [
    "for dtype_name in simulation_dtype.names:\n",
    "    print(f\"Field {dtype_name}: {simulation_dataset[dtype_name]}\")"
   ]
  }
 ],
 "metadata": {
  "kernelspec": {
   "display_name": "cta-dev",
   "language": "python",
   "name": "python3"
  },
  "language_info": {
   "codemirror_mode": {
    "name": "ipython",
    "version": 3
   },
   "file_extension": ".py",
   "mimetype": "text/x-python",
   "name": "python",
   "nbconvert_exporter": "python",
   "pygments_lexer": "ipython3",
   "version": "3.10.14"
  }
 },
 "nbformat": 4,
 "nbformat_minor": 2
}
