{
 "cells": [
  {
   "cell_type": "code",
   "execution_count": null,
   "metadata": {},
   "outputs": [],
   "source": [
    "import numpy as np\n",
    "from lstchain.image.muon.muon_analysis import pixel_coords_to_telescope\n",
    "from ctapipe.io import EventSource\n",
    "import glob\n",
    "from ctapipe.image import tailcuts_clean\n",
    "from ctapipe.visualization import CameraDisplay\n",
    "import matplotlib.pyplot as plt\n",
    "from ctapipe.image.muon import (\n",
    "    MuonIntensityFitter,\n",
    "    MuonRingFitter\n",
    ")\n",
    "import h5py\n",
    "import sys\n",
    "sys.path.append('/Users/vdk/Software/code')\n",
    "from python_modules.muonpipe.usefull_func import get_muon_parameters\n",
    "\n",
    "filename = '/Users/vdk//muons2024/data/for_comparison/nsb_tuning/triple_tuning/run101_muon.simtel.gz'\n",
    "source = EventSource(filename, max_events = 1)\n",
    "tel_description = source.subarray.tels[1]\n",
    "geom = tel_description.camera.geometry\n",
    "equivalent_focal_length = tel_description.optics.equivalent_focal_length\n",
    "x_coord, y_coord = pixel_coords_to_telescope(geom, equivalent_focal_length)"
   ]
  },
  {
   "cell_type": "code",
   "execution_count": null,
   "metadata": {},
   "outputs": [],
   "source": [
    "image_folder = glob.glob('/Users/vdk/muons2024/data/additional_statistic/event_ids/image_17743/image/*')\n",
    "image_folder = glob.glob('/Users/vdk/muons2024/data/17043/muon_images/*')\n",
    "data_dl1_images = []\n",
    "\n",
    "for file in image_folder:\n",
    "    tmp_result = np.loadtxt(file)\n",
    "    data_dl1_images.append(tmp_result)"
   ]
  },
  {
   "cell_type": "code",
   "execution_count": null,
   "metadata": {},
   "outputs": [],
   "source": [
    "camgeom = source.subarray.tel[1].camera.geometry\n",
    "new_data_mask = []\n",
    "for image in data_dl1_images:\n",
    "    mask = tailcuts_clean(camgeom, image, picture_thresh=10, boundary_thresh=5)\n",
    "    new_data_mask.append(mask)"
   ]
  },
  {
   "cell_type": "code",
   "execution_count": null,
   "metadata": {},
   "outputs": [],
   "source": [
    "new_tailcuts_data_mask = []\n",
    "\n",
    "for image in data_dl1_images:\n",
    "    negative_Q = np.sort(image[image <= 0])\n",
    "\n",
    "    hist, bins = np.histogram(negative_Q,range=(-15,0),bins=30)\n",
    "    bins = bins[:-1]\n",
    "\n",
    "    cumulative = np.cumsum(hist)\n",
    "    idx = (np.abs(cumulative - 0.318 * cumulative[-1])).argmin() #Find q closest to standard deviation\n",
    "    dev = np.abs(bins[idx])\n",
    "\n",
    "    tailcuts = [4*dev,2*dev]   # tailcuts are placed at 4*dev of each image.\n",
    "    \n",
    "    mask = tailcuts_clean(camgeom, image, picture_thresh=tailcuts[0], boundary_thresh=tailcuts[1])\n",
    "    new_tailcuts_data_mask.append(mask)"
   ]
  },
  {
   "cell_type": "code",
   "execution_count": null,
   "metadata": {},
   "outputs": [],
   "source": [
    "for cur_index in range(50):\n",
    "    fig, ax = plt.subplots(1, 3, figsize=(26, 10))\n",
    "    disp = CameraDisplay(\n",
    "        camgeom, image=data_dl1_images[cur_index], cmap=\"grey\", ax = ax[0], title=\"DL1 image\"\n",
    "    )\n",
    "    disp = CameraDisplay(\n",
    "        camgeom, image=data_dl1_images[cur_index], cmap=\"grey\", ax = ax[1], title=\"DL1 image with highlighted mask for standard tailcut cleaning [10;5]\"\n",
    "    )\n",
    "    disp.highlight_pixels(new_data_mask[cur_index], alpha=0.6, linewidth=2, color=\"red\")\n",
    "    disp = CameraDisplay(\n",
    "        camgeom, image=data_dl1_images[cur_index], cmap=\"grey\", ax = ax[2], title=f\"DL1 image with highlighted mask for modified tailcuts cleaning\"\n",
    "    )\n",
    "    disp.highlight_pixels(new_tailcuts_data_mask[cur_index], alpha=0.6, linewidth=2, color=\"red\")"
   ]
  },
  {
   "cell_type": "code",
   "execution_count": null,
   "metadata": {},
   "outputs": [],
   "source": [
    "fitter = MuonRingFitter(fit_method='kundu_chaudhuri')\n",
    "\n",
    "ring = fitter(x_coord, y_coord, data_dl1_images[2], new_data_mask[2])\n",
    "\n",
    "for _ in (0, 0):  # just to iterate the fit twice more\n",
    "    dist = np.sqrt(\n",
    "        (x_coord - ring.center_fov_lon) ** 2 + (y_coord - ring.center_fov_lat) ** 2\n",
    "    )\n",
    "    ring_dist = np.abs(dist - ring.radius)\n",
    "\n",
    "    new_data_mask[2] *= (ring_dist < ring.radius * 3)\n",
    "    ring = fitter(x_coord, y_coord, image, new_data_mask[2])   \n",
    "\n",
    "ring.radius"
   ]
  },
  {
   "cell_type": "markdown",
   "metadata": {},
   "source": [
    "# GlobalPeakWindow processed muon simulations"
   ]
  },
  {
   "cell_type": "code",
   "execution_count": null,
   "metadata": {},
   "outputs": [],
   "source": [
    "# It can be any dl1 file, from real data or simulations\n",
    "dl1_file = '/Users/vdk/muons2024/data/for_comparison/zenith10/global_peak_window_sum/dl1_run101_muon.h5'\n",
    "\n",
    "dl1_images = []\n",
    "\n",
    "with h5py.File(dl1_file, 'r') as f:\n",
    "    # Access the dataset\n",
    "    dataset = f['dl1/event/telescope/image/LST_LSTCam']\n",
    "    \n",
    "    # Read the data\n",
    "    data = dataset[:]\n",
    "    for i, dataline in enumerate(data):\n",
    "        dl1_images.append(dataline[2])"
   ]
  },
  {
   "cell_type": "code",
   "execution_count": null,
   "metadata": {},
   "outputs": [],
   "source": [
    "new_tailcuts_sim_mask = []\n",
    "\n",
    "for image in dl1_images:\n",
    "    negative_Q = np.sort(image[image <= 0])\n",
    "\n",
    "    hist, bins = np.histogram(negative_Q,range=(-15,0),bins=30)\n",
    "    bins = bins[:-1]\n",
    "\n",
    "    cumulative = np.cumsum(hist)\n",
    "    idx = (np.abs(cumulative - 0.318 * cumulative[-1])).argmin() #Find q closest to standard deviation\n",
    "    dev = np.abs(bins[idx])\n",
    "\n",
    "    tailcuts = [4*dev,2*dev]   # tailcuts are placed at 4*dev of each image.\n",
    "    \n",
    "    mask = tailcuts_clean(camgeom, image, picture_thresh=tailcuts[0], boundary_thresh=tailcuts[1])\n",
    "    new_tailcuts_sim_mask.append(mask)"
   ]
  },
  {
   "cell_type": "code",
   "execution_count": null,
   "metadata": {},
   "outputs": [],
   "source": [
    "new_sim_mask = []\n",
    "for image in dl1_images:\n",
    "    mask = tailcuts_clean(camgeom, image, picture_thresh=10, boundary_thresh=5)\n",
    "    new_sim_mask.append(mask)"
   ]
  },
  {
   "cell_type": "code",
   "execution_count": null,
   "metadata": {},
   "outputs": [],
   "source": [
    "for cur_index in range(50):\n",
    "    fig, ax = plt.subplots(1, 3, figsize=(26, 10))\n",
    "    \n",
    "    disp = CameraDisplay(\n",
    "        camgeom, image=dl1_images[cur_index], cmap=\"grey\", ax = ax[0], title=\"DL1 image\"\n",
    "    )\n",
    "    \n",
    "    disp = CameraDisplay(\n",
    "        camgeom, image=dl1_images[cur_index], cmap=\"grey\", ax = ax[1], title=\"DL1 image with highlighted mask for standard tailcut cleaning [10;5]\"\n",
    "    )\n",
    "    disp.highlight_pixels(new_sim_mask[cur_index], alpha=0.6, linewidth=2, color=\"red\")\n",
    "    \n",
    "    disp = CameraDisplay(\n",
    "        camgeom, image=dl1_images[cur_index], cmap=\"grey\", ax = ax[2], title=f\"DL1 image with highlighted mask for modified tailcuts cleaning\"\n",
    "    )\n",
    "    disp.highlight_pixels(new_tailcuts_sim_mask[cur_index], alpha=0.6, linewidth=2, color=\"red\")"
   ]
  },
  {
   "cell_type": "markdown",
   "metadata": {},
   "source": [
    "## Real data muon distribution for different tailcut process"
   ]
  },
  {
   "cell_type": "code",
   "execution_count": null,
   "metadata": {},
   "outputs": [],
   "source": [
    "import pandas as pd\n",
    "from astropy.io import fits\n",
    "\n",
    "new_tailcuts_dir = '/Users/vdk/muons2024/data/17744/tables_new_tailcuts/*'\n",
    "standard_tailcuts_dir = '/Users/vdk/muons2024/data/17744/tables_standard_tailcuts/*'\n",
    "nsbtune2024_reflectivity_dir = '/Users/vdk/muons2024/lapalma_simulations/proper_mc_config/nsbtune2024year_tuned_reflectivity/tables/*'\n",
    "\n",
    "def process_fits_files(directory):\n",
    "    fits_files = glob.glob(directory)\n",
    "    data_frames = []\n",
    "    \n",
    "    for file in fits_files:\n",
    "        with fits.open(file) as hdul:\n",
    "            data = hdul[1].data\n",
    "            df = pd.DataFrame(data)\n",
    "            data_frames.append(df)\n",
    "    \n",
    "    return pd.concat(data_frames, ignore_index=True)\n",
    "\n",
    "new_tailcuts_df = process_fits_files(new_tailcuts_dir)\n",
    "standard_tailcuts_df = process_fits_files(standard_tailcuts_dir)\n",
    "sim_2024nsb_reflectivity_df = process_fits_files(nsbtune2024_reflectivity_dir)\n"
   ]
  },
  {
   "cell_type": "code",
   "execution_count": null,
   "metadata": {},
   "outputs": [],
   "source": [
    "new_tailcuts_df.columns"
   ]
  },
  {
   "cell_type": "code",
   "execution_count": null,
   "metadata": {},
   "outputs": [],
   "source": [
    "standard_tailcuts_df"
   ]
  },
  {
   "cell_type": "code",
   "execution_count": null,
   "metadata": {},
   "outputs": [],
   "source": [
    "# BEGIN: Create histograms for 'ring_completeness' column\n",
    "plt.figure(figsize=(12, 7))\n",
    "\n",
    "z,x,c = plt.hist(new_tailcuts_df['ring_completeness'], bins=30, alpha=0.7, label='New tailcuts', density=True)\n",
    "z,x,c = plt.hist(standard_tailcuts_df['ring_completeness'],bins=30, alpha=0.7, label='Standard tailcuts', density=True)\n",
    "z,x,c = plt.hist(sim_2024nsb_reflectivity_df['ring_completeness'], bins=30, alpha=0.7, label='2024 NSB tune', density=True)\n",
    "\n",
    "plt.legend()"
   ]
  },
  {
   "cell_type": "code",
   "execution_count": null,
   "metadata": {},
   "outputs": [],
   "source": [
    "# BEGIN: Create histograms for 'ring_completeness' column\n",
    "plt.figure(figsize=(12, 7))\n",
    "\n",
    "z,x,c = plt.hist(new_tailcuts_df['ring_radius'], bins=30, alpha=0.7, label='New tailcuts', density=True)\n",
    "z,x,c = plt.hist(standard_tailcuts_df['ring_radius'],bins=30, alpha=0.7, label='Standard tailcuts', density=True)\n",
    "z,x,c = plt.hist(sim_2024nsb_reflectivity_df['ring_radius'], bins=30, alpha=0.7, label='2024 NSB tune', density=True)\n",
    "\n",
    "plt.legend()"
   ]
  },
  {
   "cell_type": "code",
   "execution_count": null,
   "metadata": {},
   "outputs": [],
   "source": [
    "# BEGIN: Create histograms for 'ring_completeness' column\n",
    "plt.figure(figsize=(12, 7))\n",
    "\n",
    "z,x,c = plt.hist(new_tailcuts_df['ring_size'], bins=30, alpha=0.7, label='New tailcuts', density=True)\n",
    "z,x,c = plt.hist(standard_tailcuts_df['ring_size'],bins=30, alpha=0.7, label='Standard tailcuts', density=True)\n",
    "z,x,c = plt.hist(sim_2024nsb_reflectivity_df['ring_size'], bins=30, alpha=0.7, label='2024 NSB tune', density=True)\n",
    "\n",
    "plt.legend()"
   ]
  },
  {
   "cell_type": "code",
   "execution_count": null,
   "metadata": {},
   "outputs": [],
   "source": [
    "# BEGIN: Create histograms for 'ring_completeness' column\n",
    "plt.figure(figsize=(12, 7))\n",
    "\n",
    "z,x,c = plt.hist(new_tailcuts_df['muon_efficiency'], bins=300, alpha=0.7, label='New tailcuts', density=True)\n",
    "z,x,c = plt.hist(standard_tailcuts_df['muon_efficiency'],bins=3000, alpha=0.7, label='Standard tailcuts', density=True)\n",
    "z,x,c = plt.hist(sim_2024nsb_reflectivity_df['muon_efficiency'], bins=10000, alpha=0.7, label='2024 NSB tune', density=True)\n",
    "\n",
    "plt.xlim(0,1)\n",
    "#plt.ylim(0,1)\n",
    "plt.legend()"
   ]
  },
  {
   "cell_type": "code",
   "execution_count": null,
   "metadata": {},
   "outputs": [],
   "source": [
    "sim_2024nsb_reflectivity_df['muon_efficiency'].mean()"
   ]
  },
  {
   "cell_type": "code",
   "execution_count": null,
   "metadata": {},
   "outputs": [],
   "source": [
    "new_tailcuts_df['muon_efficiency'].mean()   "
   ]
  },
  {
   "cell_type": "code",
   "execution_count": null,
   "metadata": {},
   "outputs": [],
   "source": [
    "standard_tailcuts_df['muon_efficiency'].mean()  "
   ]
  },
  {
   "cell_type": "code",
   "execution_count": null,
   "metadata": {},
   "outputs": [],
   "source": [
    "z,x,c = plt.hist(standard_tailcuts_df['muon_efficiency'],bins=30, alpha=0.7, label='Standard tailcuts', density=True)"
   ]
  },
  {
   "cell_type": "code",
   "execution_count": null,
   "metadata": {},
   "outputs": [],
   "source": [
    "standard_tailcuts_data = get_muon_parameters(glob.glob(standard_tailcuts_dir), muon_efficiency=(1, 'upper'), size_outside=(500, 'upper'))\n",
    "new_tailcuts_data = get_muon_parameters(glob.glob(new_tailcuts_dir), muon_efficiency=(1, 'upper'), size_outside=(500, 'upper'))9\n",
    "sim_2024nsb = get_muon_parameters(glob.glob(nsbtune2024_reflectivity_dir), muon_efficiency=(1, 'upper'), size_outside=(500, 'upper'))"
   ]
  },
  {
   "cell_type": "code",
   "execution_count": null,
   "metadata": {},
   "outputs": [],
   "source": [
    "# BEGIN: Create histograms for 'ring_completeness' column\n",
    "plt.figure(figsize=(12, 7))\n",
    "\n",
    "z,x,c = plt.hist(new_tailcuts_data['muon_efficiency'], bins=300, alpha=0.7, label='New tailcuts', density=True)\n",
    "z,x,c = plt.hist(standard_tailcuts_data['muon_efficiency'],bins=100, alpha=0.7, label='Standard tailcuts', density=True)\n",
    "z,x,c = plt.hist(sim_2024nsb['muon_efficiency'], bins=100, alpha=0.7, label='2024 NSB tune', density=True)\n",
    "\n",
    "plt.xlim(0,1)\n",
    "#plt.ylim(0,1)\n",
    "plt.legend()"
   ]
  },
  {
   "cell_type": "code",
   "execution_count": null,
   "metadata": {},
   "outputs": [],
   "source": [
    "new_tailcuts_data['muon_efficiency'].mean()"
   ]
  },
  {
   "cell_type": "code",
   "execution_count": null,
   "metadata": {},
   "outputs": [],
   "source": [
    "new_tailcuts_df['muon_efficiency'].mean()"
   ]
  },
  {
   "cell_type": "code",
   "execution_count": null,
   "metadata": {},
   "outputs": [],
   "source": [
    "standard_tailcuts_data['muon_efficiency'].mean()"
   ]
  },
  {
   "cell_type": "code",
   "execution_count": null,
   "metadata": {},
   "outputs": [],
   "source": [
    "standard_tailcuts_df['muon_efficiency'].mean()"
   ]
  },
  {
   "cell_type": "code",
   "execution_count": null,
   "metadata": {},
   "outputs": [],
   "source": [
    "max(new_tailcuts_df['muon_efficiency'])"
   ]
  },
  {
   "cell_type": "code",
   "execution_count": null,
   "metadata": {},
   "outputs": [],
   "source": [
    "max(new_tailcuts_data['muon_efficiency'])   "
   ]
  },
  {
   "cell_type": "code",
   "execution_count": null,
   "metadata": {},
   "outputs": [],
   "source": [
    "max(standard_tailcuts_df['muon_efficiency'])    "
   ]
  },
  {
   "cell_type": "code",
   "execution_count": null,
   "metadata": {},
   "outputs": [],
   "source": [
    "max(standard_tailcuts_data['muon_efficiency'])"
   ]
  },
  {
   "cell_type": "code",
   "execution_count": null,
   "metadata": {},
   "outputs": [],
   "source": [
    "max(sim_2024nsb_reflectivity_df['muon_efficiency'])"
   ]
  },
  {
   "cell_type": "code",
   "execution_count": null,
   "metadata": {},
   "outputs": [],
   "source": [
    "max(sim_2024nsb['muon_efficiency']) "
   ]
  },
  {
   "cell_type": "code",
   "execution_count": null,
   "metadata": {},
   "outputs": [],
   "source": []
  }
 ],
 "metadata": {
  "kernelspec": {
   "display_name": "lstchain-v0.10.3",
   "language": "python",
   "name": "python3"
  },
  "language_info": {
   "codemirror_mode": {
    "name": "ipython",
    "version": 3
   },
   "file_extension": ".py",
   "mimetype": "text/x-python",
   "name": "python",
   "nbconvert_exporter": "python",
   "pygments_lexer": "ipython3",
   "version": "3.11.6"
  }
 },
 "nbformat": 4,
 "nbformat_minor": 2
}
