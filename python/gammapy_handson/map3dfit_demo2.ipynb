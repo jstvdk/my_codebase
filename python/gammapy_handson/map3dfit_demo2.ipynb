{
 "cells": [
  {
   "cell_type": "markdown",
   "id": "0",
   "metadata": {},
   "source": [
    "# Models with energy-dependent morphology in gammapy.\n",
    "\n",
    "Oleg Kalashev, EPFL\n",
    "\n",
    "#### Motivation\n",
    "\n",
    "Universe is not transparent for $\\gamma$ rays with energy of TeV and above. \n",
    "\n",
    "Electron-photon cascades and secondary $\\gamma$ rays:\n",
    "\n",
    "Pair production: $$\\gamma \\gamma_b  ->  e^+ e^-$$\n",
    "\n",
    "Inverse Compton scattering: $$e \\gamma_b  ->  e \\gamma$$\n",
    "\n",
    "Electrons are deflected by the intergalactic magnetic fields (IGMF) -> secondary $\\gamma$ rays are also deflected.\n",
    "\n",
    "Secondary $\\gamma$ ray halo may appear arround distant sources. The source morphology depends on IGMF properties.\n",
    "\n",
    "\n",
    "#### Setup"
   ]
  },
  {
   "cell_type": "code",
   "execution_count": null,
   "id": "1",
   "metadata": {},
   "outputs": [],
   "source": [
    "from IPython.display import display\n",
    "from gammapy.analysis import Analysis, AnalysisConfig\n",
    "from gammapy.modeling.models import Models\n",
    "from gammapy.data import DataStore\n",
    "from gammapy.utils.regions import CircleSkyRegion\n",
    "%matplotlib inline\n",
    "import logging\n",
    "from IPython.display import display\n",
    "# from pathlib import Path\n",
    "# from astropy.time import Time\n",
    "# # Check package versions\n",
    "import numpy as np\n",
    "import astropy.units as u\n",
    "from astropy.coordinates import Angle, SkyCoord\n",
    "from regions import CircleSkyRegion\n",
    "\n",
    "# %matplotlib inline\n",
    "import matplotlib.pyplot as plt\n",
    "from gammapy.data import DataStore\n",
    "from pathlib import Path\n",
    "from gammapy.datasets import (\n",
    "    Datasets,\n",
    "    MapDataset,\n",
    "    FluxPointsDataset,\n",
    "    SpectrumDataset,\n",
    "    SpectrumDatasetOnOff,\n",
    ")\n",
    "\n",
    "from astropy.coordinates import SkyCoord, Angle\n",
    "from astropy import units as u\n",
    "from gammapy.utils.regions import CircleSkyRegion\n",
    "from gammapy.estimators import FluxPointsEstimator\n",
    "from gammapy.analysis import Analysis, AnalysisConfig\n",
    "from gammapy.estimators import LightCurveEstimator\n",
    "from gammapy.estimators.utils import resample_energy_edges, get_rebinned_axis\n",
    "from gammapy.makers import (\n",
    "    ReflectedRegionsBackgroundMaker,\n",
    "    SafeMaskMaker,\n",
    "    SpectrumDatasetMaker,\n",
    "    MapDatasetMaker,\n",
    "    FoVBackgroundMaker\n",
    ")\n",
    "from gammapy.maps import MapAxis, RegionGeom, WcsGeom, Map\n",
    "from gammapy.modeling import Fit\n",
    "from gammapy.modeling.models import (\n",
    "    Models,\n",
    "    TemplateSpatialModel,\n",
    "    PointSpatialModel,\n",
    "    ConstantSpectralModel,\n",
    "    TemplateSpectralModel,\n",
    "    FoVBackgroundModel,\n",
    "    PowerLawSpectralModel,\n",
    "    SkyModel,\n",
    ")\n",
    "\n",
    "from gammapy.visualization import plot_spectrum_datasets_off_regions\n",
    "log = logging.getLogger(__name__)\n",
    "import os\n",
    "from astropy.time import Time\n",
    "GAMMAPY_DATA = os.path.join(os.getcwd(),'.') \n",
    "os.environ['GAMMAPY_DATA'] = GAMMAPY_DATA\n",
    "CALDB = os.path.join(os.getcwd(),'IRFS') \n",
    "os.environ['CALDB'] = 'IRFS'"
   ]
  },
  {
   "cell_type": "markdown",
   "id": "2",
   "metadata": {},
   "source": [
    "### Define region of interest and find observations"
   ]
  },
  {
   "cell_type": "code",
   "execution_count": null,
   "id": "3",
   "metadata": {},
   "outputs": [],
   "source": [
    "src_name='Mkn 501'\n",
    "source = SkyCoord.from_name(src_name, frame='icrs', parse=False, cache=True)\n",
    "print(source)\n",
    "\n",
    "RA=source.ra\n",
    "DEC=source.dec\n",
    "\n",
    "data_store = DataStore.from_dir(\".\")\n",
    "selection = dict(\n",
    "    type=\"sky_circle\",\n",
    "    frame=\"icrs\",\n",
    "    lon=RA,\n",
    "    lat=DEC,\n",
    "    radius=\"2 deg\",\n",
    ")\n",
    "selected_obs_table = data_store.obs_table.select_observations(selection)\n",
    "obs_ids = selected_obs_table[\"OBS_ID\"]\n",
    "observations = data_store.get_observations(obs_ids)\n",
    "print(f\"Number of selected observations : {len(observations)}\")"
   ]
  },
  {
   "cell_type": "markdown",
   "id": "4",
   "metadata": {},
   "source": [
    "#### Analysis configuration"
   ]
  },
  {
   "cell_type": "code",
   "execution_count": null,
   "id": "5",
   "metadata": {},
   "outputs": [],
   "source": [
    "from gammapy.analysis import Analysis, AnalysisConfig\n",
    "\n",
    "config = AnalysisConfig()\n",
    "\n",
    "# Selecting the observations\n",
    "max_observations = 10\n",
    "config.observations.datastore = \"$GAMMAPY_DATA\"\n",
    "config.observations.obs_ids = obs_ids[:max_observations]\n",
    "\n",
    "# Defining a reference geometry for the reduced datasets\n",
    "\n",
    "config.datasets.type = \"3d\"  # Analysis type is 3D\n",
    "\n",
    "config.datasets.geom.wcs.skydir = {\n",
    "    \"lon\": RA,\n",
    "    \"lat\": DEC,\n",
    "    \"frame\": 'icrs',\n",
    "}\n",
    "\n",
    "config.datasets.geom.wcs.width = {\"width\": \"1 deg\", \"height\": \"1 deg\"}\n",
    "config.datasets.geom.wcs.binsize = \"0.02 deg\"\n",
    "\n",
    "# Cutout size (for the run-wise event selection)\n",
    "config.datasets.geom.selection.offset_max = 3.5 * u.deg\n",
    "config.datasets.safe_mask.methods = [\"aeff-default\", \"offset-max\"]\n",
    "\n",
    "# We now fix the energy axis for the counts map - (the reconstructed energy binning)\n",
    "config.datasets.geom.axes.energy.min = \"1 TeV\"\n",
    "config.datasets.geom.axes.energy.max = \"10 TeV\"\n",
    "config.datasets.geom.axes.energy.nbins = 10\n",
    "\n",
    "# We now fix the energy axis for the IRF maps (exposure, etc) - (the true energy binning)\n",
    "config.datasets.geom.axes.energy_true.min = \"0.5 TeV\"\n",
    "config.datasets.geom.axes.energy_true.max = \"20 TeV\"\n",
    "config.datasets.geom.axes.energy_true.nbins = 20\n",
    "\n",
    "config.datasets.background.method = \"fov_background\"\n",
    "\n",
    "config.datasets.stack = True # first we will make stacked analysis"
   ]
  },
  {
   "cell_type": "markdown",
   "id": "6",
   "metadata": {},
   "source": [
    "### Prepare stacked dataset"
   ]
  },
  {
   "cell_type": "code",
   "execution_count": null,
   "id": "7",
   "metadata": {},
   "outputs": [],
   "source": [
    "analysis_stacked = Analysis(config)\n",
    "analysis_stacked.get_observations()\n",
    "# run data reduction\n",
    "analysis_stacked.get_datasets()"
   ]
  },
  {
   "cell_type": "code",
   "execution_count": null,
   "id": "8",
   "metadata": {},
   "outputs": [],
   "source": [
    "dataset_stacked = analysis_stacked.datasets[\"stacked\"]\n",
    "print(dataset_stacked)"
   ]
  },
  {
   "cell_type": "code",
   "execution_count": null,
   "id": "9",
   "metadata": {},
   "outputs": [],
   "source": [
    "dataset_stacked.counts.smooth(0.02 * u.deg).plot_interactive(add_cbar=True)\n",
    "plt.show()"
   ]
  },
  {
   "cell_type": "code",
   "execution_count": null,
   "id": "10",
   "metadata": {},
   "outputs": [],
   "source": [
    "dataset_stacked.background.plot_interactive(add_cbar=True)\n",
    "plt.show()"
   ]
  },
  {
   "cell_type": "code",
   "execution_count": null,
   "id": "11",
   "metadata": {},
   "outputs": [],
   "source": [
    "excess = dataset_stacked.excess.sum_over_axes()\n",
    "excess.smooth(\"0.06 deg\").plot(stretch=\"sqrt\", add_cbar=True)\n",
    "plt.show()"
   ]
  },
  {
   "cell_type": "markdown",
   "id": "12",
   "metadata": {},
   "source": []
  },
  {
   "cell_type": "markdown",
   "id": "13",
   "metadata": {},
   "source": [
    "## Defining custom spatial model"
   ]
  },
  {
   "cell_type": "code",
   "execution_count": null,
   "id": "14",
   "metadata": {},
   "outputs": [],
   "source": [
    "from astropy.coordinates import angular_separation\n",
    "from gammapy.modeling.models import SpatialModel\n",
    "from gammapy.modeling import Parameter\n",
    "\n",
    "class CustomGaussianModel(SpatialModel):\n",
    "    \"\"\"My custom Energy Dependent Gaussian model.\n",
    "\n",
    "    Parameters\n",
    "    ----------\n",
    "    lon_0, lat_0 : `~astropy.coordinates.Angle`\n",
    "        Center position\n",
    "    sigma_1TeV : `~astropy.coordinates.Angle`\n",
    "        Width of the Gaussian at 1 TeV\n",
    "    sigma_10TeV : `~astropy.coordinates.Angle`\n",
    "        Width of the Gaussian at 10 TeV\n",
    "\n",
    "    \"\"\"\n",
    "\n",
    "    tag = \"CustomGaussianModel\"\n",
    "    is_energy_dependent = True\n",
    "    lon_0 = Parameter(\"lon_0\", RA)\n",
    "    lat_0 = Parameter(\"lat_0\", DEC, min=-90, max=90)\n",
    "    lon_0.frozen = True\n",
    "    lat_0.frozen = True\n",
    "\n",
    "    sigma_1TeV = Parameter(\"sigma_1TeV\", \"0.12 deg\", min=0)\n",
    "    sigma_10TeV = Parameter(\"sigma_10TeV\", \"0.02 deg\", min=0)\n",
    "\n",
    "    @staticmethod\n",
    "    def evaluate(lon, lat, energy, lon_0, lat_0, sigma_1TeV, sigma_10TeV):\n",
    "\n",
    "        sep = angular_separation(lon, lat, lon_0, lat_0)\n",
    "\n",
    "        # Compute sigma for the given energy using linear interpolation in log energy\n",
    "        sigma_nodes = u.Quantity([sigma_1TeV, sigma_10TeV])\n",
    "        energy_nodes = [1, 10] * u.TeV\n",
    "        log_s = np.log(sigma_nodes.to(\"deg\").value)\n",
    "        log_en = np.log(energy_nodes.to(\"TeV\").value)\n",
    "        log_e = np.log(energy.to(\"TeV\").value)\n",
    "        sigma = np.exp(np.interp(log_e, log_en, log_s)) * u.deg\n",
    "\n",
    "        exponent = -0.5 * (sep / sigma) ** 2\n",
    "        norm = 1 / (2 * np.pi * sigma**2)\n",
    "        return norm * np.exp(exponent)\n",
    "    \n",
    "    @property\n",
    "    def evaluation_radius(self):\n",
    "        \"\"\"Evaluation radius (`~astropy.coordinates.Angle`).\"\"\"\n",
    "        return 5 * np.max([self.sigma_1TeV.value, self.sigma_10TeV.value]) * u.deg\n",
    "    "
   ]
  },
  {
   "cell_type": "markdown",
   "id": "15",
   "metadata": {},
   "source": [
    "We define spectral model from table data. To keep overall flux normalization as a free parameter we multiply template spectrum by constant"
   ]
  },
  {
   "cell_type": "code",
   "execution_count": null,
   "id": "16",
   "metadata": {},
   "outputs": [],
   "source": [
    "spec_file = 'data/2xphoton_E5e+13_z0.03364_N4000000_EBL12_B1e-12_Lmax5_p1_5.0_0.5_5_p2.4524_crbeam.spec'\n",
    "specE2 = np.loadtxt(spec_file)\n",
    "E = specE2[:,0]\n",
    "flux = specE2[:,1]/E/E\n",
    "norm_flux = flux[E>=1e12][0]\n",
    "flux /=  norm_flux\n",
    "\n",
    "template = TemplateSpectralModel(energy=E*u.eV, values=1e-12*flux)\n",
    "cm = ConstantSpectralModel(const=1*u.Unit(\"TeV-1 s-1 cm-2\"))\n",
    "spectral_model = cm*template\n",
    "spectral_model.plot([0.01, 50] * u.TeV)"
   ]
  },
  {
   "cell_type": "markdown",
   "id": "17",
   "metadata": {},
   "source": [
    "Below we use separate models for halo and primary photons"
   ]
  },
  {
   "cell_type": "code",
   "execution_count": null,
   "id": "18",
   "metadata": {},
   "outputs": [],
   "source": [
    "dataset_stacked.mask_fit = dataset_stacked.counts.geom.energy_mask(\n",
    "    energy_min=0.3 * u.TeV, energy_max=None\n",
    ")\n",
    "\n",
    "\n",
    "halo_spectrum = TemplateSpectralModel(energy=E*u.eV, values=1e-12*flux)\n",
    "halo_norm = ConstantSpectralModel(const=0.01*u.Unit(\"TeV-1 s-1 cm-2\"))\n",
    "halo_model = SkyModel(\n",
    "    spatial_model=CustomGaussianModel(),\n",
    "    spectral_model=halo_norm*halo_spectrum,\n",
    "    name='halo',\n",
    ")\n",
    "\n",
    "point_spectrum = TemplateSpectralModel(energy=E*u.eV, values=1e-12*flux)\n",
    "point_norm = ConstantSpectralModel(const=1*u.Unit(\"TeV-1 s-1 cm-2\"))\n",
    "\n",
    "point_model = SkyModel(\n",
    "    spatial_model=PointSpatialModel(\n",
    "        lon_0=RA, lat_0 = DEC, frame='icrs'\n",
    "    ),\n",
    "    spectral_model = point_norm*point_spectrum,\n",
    "    name=\"primary\",\n",
    ")\n",
    "\n",
    "bkg_model = FoVBackgroundModel(dataset_name=\"stacked\")\n",
    "\n",
    "models_stacked = Models([point_model, bkg_model, halo_model])\n",
    "\n",
    "dataset_stacked.models = models_stacked\n"
   ]
  },
  {
   "cell_type": "code",
   "execution_count": null,
   "id": "19",
   "metadata": {},
   "outputs": [],
   "source": [
    "fit = Fit(optimize_opts={\"print_level\": 1})\n",
    "#fit = Fit(backend=\"scipy\", optimize_opts={'options':{'maxiter': 1000}})\n",
    "result = fit.run(datasets=[dataset_stacked])\n",
    "result"
   ]
  },
  {
   "cell_type": "code",
   "execution_count": null,
   "id": "20",
   "metadata": {},
   "outputs": [],
   "source": [
    "display(result.models.to_parameters_table())"
   ]
  },
  {
   "cell_type": "code",
   "execution_count": null,
   "id": "21",
   "metadata": {},
   "outputs": [],
   "source": [
    "dataset_stacked.plot_residuals_spatial(method=\"diff/sqrt(model)\", vmin=-1, vmax=1)\n",
    "plt.show()"
   ]
  },
  {
   "cell_type": "code",
   "execution_count": null,
   "id": "22",
   "metadata": {},
   "outputs": [],
   "source": [
    "region = CircleSkyRegion(source, radius=0.15 * u.deg)\n",
    "dataset_stacked.plot_residuals(\n",
    "    kwargs_spatial=dict(method=\"diff/sqrt(model)\", vmin=-1, vmax=1),\n",
    "    kwargs_spectral=dict(region=region),\n",
    ")\n",
    "plt.show()"
   ]
  },
  {
   "cell_type": "code",
   "execution_count": null,
   "id": "23",
   "metadata": {},
   "outputs": [],
   "source": []
  }
 ],
 "metadata": {
  "kernelspec": {
   "display_name": "Python 3 (ipykernel)",
   "language": "python",
   "name": "python3"
  },
  "language_info": {
   "codemirror_mode": {
    "name": "ipython",
    "version": 3
   },
   "file_extension": ".py",
   "mimetype": "text/x-python",
   "name": "python",
   "nbconvert_exporter": "python",
   "pygments_lexer": "ipython3",
   "version": "3.11.6"
  }
 },
 "nbformat": 4,
 "nbformat_minor": 5
}
