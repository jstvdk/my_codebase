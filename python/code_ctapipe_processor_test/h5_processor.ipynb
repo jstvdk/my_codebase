{
 "cells": [
  {
   "cell_type": "code",
   "execution_count": null,
   "metadata": {},
   "outputs": [],
   "source": [
    "import h5py\n",
    "import numpy as np\n",
    "import copy\n",
    "\n",
    "file_path = \"events.dl1.h5\" \n",
    "file_path = \"calibpipe_test/file.h5\" \n",
    "file_path = \"/Users/vdk/Software/ctasoft/calibpipe/src/calibpipe/tests/data/throughput/empty_muon_table.h5\"\n",
    "file_path = \"/Users/vdk/Software/ctasoft/calibpipe/src/calibpipe/tests/data/throughput/lst_muon_table.h5\"\n",
    "file_path = \"/Users/vdk/Software/ctapipe_processor_test/events.dl1.h5\"\n",
    "with h5py.File(file_path, \"r\") as h5_file:\n",
    "    \n",
    "    # List all groups in the file\n",
    "    print(\"Groups in the file:\")\n",
    "    for group in h5_file:\n",
    "        print(group)\n",
    "    \n",
    "    # You can also recursively list all datasets\n",
    "    def print_structure(name, obj):\n",
    "        print(f\"{name}: {obj}\")\n",
    "    \n",
    "    print(\"\\nFile structure:\")\n",
    "    h5_file.visititems(print_structure)"
   ]
  },
  {
   "cell_type": "code",
   "execution_count": null,
   "metadata": {},
   "outputs": [],
   "source": [
    "with h5py.File(file_path, \"r\") as h5_file:\n",
    "    # Access a dataset\n",
    "    dataset = h5_file[\"dl1/event/telescope/muon/tel_001\"]\n",
    "    test_dataset = h5_file.get(\"dl1/event/telescope/muon/tel_001\")\n",
    "    trigger_dataset = h5_file[\"dl1/event/subarray/trigger\"]\n",
    "    tigger_info = h5_file[\"dl1/event/telescope/trigger\"]\n",
    "    time_dataset = trigger_dataset[\"time\"]\n",
    "    trigger_lookup = trigger_dataset[:50]\n",
    "    simulation_info = h5_file['configuration/simulation/run']\n",
    "    simulation_dataset = simulation_info[()]\n",
    "    \n",
    "    simulation_images_tel = h5_file['simulation/event/telescope/images/tel_001']\n",
    "    data_images_tel = h5_file['dl1/event/telescope/images/tel_001']\n",
    "    print(\"simulation_images_tel: \", simulation_images_tel.shape)\n",
    "    print(\"simulation_images_tel: \" , simulation_images_tel.dtype)\n",
    "    \n",
    "    simulation_event_subarray_shower = h5_file['simulation/event/subarray/shower']\n",
    "    print(\"simulation_event_subarray_shower: \", simulation_event_subarray_shower.shape)\n",
    "    print(\"simulation_event_subarray_shower: \" , simulation_event_subarray_shower.dtype)\n",
    "    \n",
    "    # Read the first and last values\n",
    "    first_time = time_dataset[0]\n",
    "    last_time = time_dataset[-1]\n",
    "    # Check the shape and data type of the dataset\n",
    "    print(\"Dataset shape:\", dataset.shape)\n",
    "    print(\"Dataset dtype:\", dataset.dtype)\n",
    "    dataset_dtype = dataset.dtype\n",
    "    trigger_dataset_dtype = trigger_dataset.dtype\n",
    "    trigger_info_dtype = tigger_info.dtype\n",
    "    simulation_dtype = simulation_info.dtype\n",
    "    # Load the data from the dataset\n",
    "    data = dataset[:50]\n",
    "    data_trigger = trigger_dataset[:50]\n",
    "    data_trigger_info = tigger_info[:50]\n",
    "    data_images_tel = data_images_tel[:50]"
   ]
  },
  {
   "cell_type": "code",
   "execution_count": null,
   "metadata": {},
   "outputs": [],
   "source": [
    "if simulation_dtype.names:\n",
    "    # If the dtype is structured, access fields by name\n",
    "    first_field = simulation_dataset.dtype.names[0]\n",
    "    print(f\"First field ({first_field}):\", data[first_field])"
   ]
  },
  {
   "cell_type": "code",
   "execution_count": null,
   "metadata": {},
   "outputs": [],
   "source": [
    "for dtype_name in simulation_dtype.names:\n",
    "    print(f\"Field {dtype_name}: {simulation_dataset[dtype_name]}\")"
   ]
  },
  {
   "cell_type": "code",
   "execution_count": null,
   "metadata": {},
   "outputs": [],
   "source": [
    "('obs_id', '<i4'), ('event_id', '<i8'), ('tel_id', '<i2'), ('muonring_center_fov_lon', '<f8'), ('muonring_center_fov_lat', '<f8'), ('muonring_radius', '<f8'), ('muonring_center_phi', '<f8'), ('muonring_center_distance', '<f8'), ('muonparameters_containment', '<f8'), ('muonparameters_completeness', '<f8'), ('muonparameters_intensity_ratio', '<f4'), ('muonparameters_mean_squared_error', '<f8'), ('muonefficiency_width', '<f8'), ('muonefficiency_impact', '<f8'), ('muonefficiency_impact_x', '<f8'), ('muonefficiency_impact_y', '<f8'), ('muonefficiency_optical_efficiency', '<f8'), ('muonefficiency_is_valid', 'u1'), ('muonefficiency_parameters_at_limit', 'u1'), ('muonefficiency_likelihood_value', '<f8')"
   ]
  },
  {
   "cell_type": "code",
   "execution_count": null,
   "metadata": {},
   "outputs": [],
   "source": [
    "data_array = np.array(data, dtype=dataset_dtype)"
   ]
  },
  {
   "cell_type": "code",
   "execution_count": null,
   "metadata": {},
   "outputs": [],
   "source": [
    "data_list = np.array(data.tolist())\n",
    "type(data_list)"
   ]
  },
  {
   "cell_type": "code",
   "execution_count": null,
   "metadata": {},
   "outputs": [],
   "source": [
    "data_array[0]"
   ]
  },
  {
   "cell_type": "code",
   "execution_count": null,
   "metadata": {},
   "outputs": [],
   "source": [
    "data_list[0,3:]"
   ]
  },
  {
   "cell_type": "code",
   "execution_count": null,
   "metadata": {},
   "outputs": [],
   "source": [
    "type(data)"
   ]
  },
  {
   "cell_type": "code",
   "execution_count": null,
   "metadata": {},
   "outputs": [],
   "source": [
    "type(data[0])"
   ]
  },
  {
   "cell_type": "code",
   "execution_count": null,
   "metadata": {},
   "outputs": [],
   "source": [
    "from astropy.table import Table"
   ]
  },
  {
   "cell_type": "code",
   "execution_count": null,
   "metadata": {},
   "outputs": [],
   "source": [
    "table_test = Table(data_array)"
   ]
  },
  {
   "cell_type": "code",
   "execution_count": null,
   "metadata": {},
   "outputs": [],
   "source": [
    "table_test.columns"
   ]
  },
  {
   "cell_type": "code",
   "execution_count": null,
   "metadata": {},
   "outputs": [],
   "source": [
    "table_test['event_id','muonring_center_fov_lon','muonring_center_fov_lat', 'muonring_radius', 'muonparameters_ring_size', 'muonparameters_size_outside','muonefficiency_optical_efficiency'][:10]"
   ]
  },
  {
   "cell_type": "code",
   "execution_count": null,
   "metadata": {},
   "outputs": [],
   "source": [
    "from astropy.table import Table, vstack\n",
    "\n",
    "def read_and_process_fits(files):\n",
    "    dat = None\n",
    "    for muon_file in files:\n",
    "        dat2 = Table.read(muon_file, format='fits')\n",
    "        \n",
    "        # Convert columns to boolean if they exist\n",
    "        for col in ['good_ring', 'is_valid', 'parameters_at_limit']:\n",
    "            if col in dat2.colnames:\n",
    "                dat2[col] = dat2[col].astype(bool)\n",
    "        \n",
    "        # Stack the tables\n",
    "        dat = vstack([dat, dat2]) if dat is not None else dat2\n",
    "    \n",
    "    return dat\n",
    "\n",
    "muon_table = read_and_process_fits([\"/Users/vdk/Software/ctapipe_processor_test/lstchain_comparison/muon_table.fits\"])\n",
    "\n",
    "muon_table['event_id', 'ring_center_x', 'ring_center_y', 'ring_radius', 'ring_size', 'size_outside', 'muon_efficiency'][:10]"
   ]
  },
  {
   "cell_type": "code",
   "execution_count": null,
   "metadata": {},
   "outputs": [],
   "source": [
    "muon_table.columns"
   ]
  },
  {
   "cell_type": "code",
   "execution_count": null,
   "metadata": {},
   "outputs": [],
   "source": [
    "table_test.columns"
   ]
  },
  {
   "cell_type": "code",
   "execution_count": null,
   "metadata": {},
   "outputs": [],
   "source": [
    "np.nanmean(table_test['muonefficiency_optical_efficiency'])"
   ]
  },
  {
   "cell_type": "code",
   "execution_count": null,
   "metadata": {},
   "outputs": [],
   "source": [
    "np.nanmean(muon_table['muon_efficiency'])"
   ]
  },
  {
   "cell_type": "code",
   "execution_count": null,
   "metadata": {},
   "outputs": [],
   "source": [
    "np.nanmean(table_test['muonring_center_fov_lon'])"
   ]
  },
  {
   "cell_type": "code",
   "execution_count": null,
   "metadata": {},
   "outputs": [],
   "source": [
    "len(table_test)"
   ]
  },
  {
   "cell_type": "code",
   "execution_count": null,
   "metadata": {},
   "outputs": [],
   "source": [
    "filtered_table = table_test[(table_test['muonefficiency_is_valid'] != 0) & (table_test['muonefficiency_parameters_at_limit'] != 1)]\n",
    "filtered_table['muonefficiency_optical_efficiency']"
   ]
  },
  {
   "cell_type": "code",
   "execution_count": null,
   "metadata": {},
   "outputs": [],
   "source": [
    "all_attributes = table_test.__dir__()\n",
    "user_defined = [attr for attr in all_attributes if not attr.startswith('_')]\n",
    "user_defined"
   ]
  },
  {
   "cell_type": "code",
   "execution_count": null,
   "metadata": {},
   "outputs": [],
   "source": [
    "data_trigger[0]"
   ]
  },
  {
   "cell_type": "code",
   "execution_count": null,
   "metadata": {},
   "outputs": [],
   "source": [
    "data_trigger['time'][0] - data_trigger['time'][-1]"
   ]
  },
  {
   "cell_type": "code",
   "execution_count": null,
   "metadata": {},
   "outputs": [],
   "source": [
    "table_test"
   ]
  },
  {
   "cell_type": "code",
   "execution_count": null,
   "metadata": {},
   "outputs": [],
   "source": [
    "muon_table"
   ]
  },
  {
   "cell_type": "code",
   "execution_count": null,
   "metadata": {},
   "outputs": [],
   "source": [
    "\n",
    "muon_table = table_test\n",
    "\n",
    "min_ring_radius = 0.1\n",
    "max_ring_radius = 1.5\n",
    "min_impact_parameter = 0.1\n",
    "max_impact_parameter = 1.0\n",
    "ring_completeness_threshold = 0.1\n",
    "ring_containment_threshold = 0.1\n",
    "\n",
    "mask = (\n",
    "    (muon_table['muonring_radius'] >= min_ring_radius) &\n",
    "    (muon_table['muonring_radius'] <= max_ring_radius) &\n",
    "    (muon_table['muonefficiency_impact'] >= min_impact_parameter) &\n",
    "    (muon_table['muonefficiency_impact'] <= max_impact_parameter) &\n",
    "    (muon_table['muonparameters_completeness'] >= ring_completeness_threshold) &\n",
    "    (muon_table['muonparameters_containment'] >= ring_containment_threshold) &\n",
    "    (muon_table['muonefficiency_is_valid'] != 0) &\n",
    "    (muon_table['muonefficiency_parameters_at_limit'] != 1)\n",
    ") & ~(\n",
    "    np.isnan(muon_table['muonring_radius']) |\n",
    "    np.isnan(muon_table['muonefficiency_impact']) |\n",
    "    np.isnan(muon_table['muonparameters_completeness']) |\n",
    "    np.isnan(muon_table['muonparameters_containment']) |\n",
    "    np.isnan(muon_table['muonefficiency_is_valid']) |\n",
    "    np.isnan(muon_table['muonefficiency_parameters_at_limit'])\n",
    ")\n",
    "\n",
    "filtered_table = muon_table[mask]\n",
    "filtered_table"
   ]
  },
  {
   "cell_type": "code",
   "execution_count": null,
   "metadata": {},
   "outputs": [],
   "source": [
    "muon_table"
   ]
  },
  {
   "cell_type": "code",
   "execution_count": null,
   "metadata": {},
   "outputs": [],
   "source": []
  },
  {
   "cell_type": "code",
   "execution_count": null,
   "metadata": {},
   "outputs": [],
   "source": [
    "test_dict = {'1' : 0}\n",
    "\n",
    "list(test_dict.keys())[0]"
   ]
  },
  {
   "cell_type": "code",
   "execution_count": null,
   "metadata": {},
   "outputs": [],
   "source": []
  },
  {
   "cell_type": "code",
   "execution_count": null,
   "metadata": {},
   "outputs": [],
   "source": []
  },
  {
   "cell_type": "code",
   "execution_count": null,
   "metadata": {},
   "outputs": [],
   "source": []
  }
 ],
 "metadata": {
  "kernelspec": {
   "display_name": "cta-dev",
   "language": "python",
   "name": "python3"
  },
  "language_info": {
   "codemirror_mode": {
    "name": "ipython",
    "version": 3
   },
   "file_extension": ".py",
   "mimetype": "text/x-python",
   "name": "python",
   "nbconvert_exporter": "python",
   "pygments_lexer": "ipython3",
   "version": "3.10.14"
  }
 },
 "nbformat": 4,
 "nbformat_minor": 2
}
