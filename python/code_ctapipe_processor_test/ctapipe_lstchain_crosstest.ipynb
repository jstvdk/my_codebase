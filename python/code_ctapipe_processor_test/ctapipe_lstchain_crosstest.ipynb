{
 "cells": [
  {
   "cell_type": "code",
   "execution_count": null,
   "metadata": {},
   "outputs": [],
   "source": [
    "import h5py\n",
    "import numpy as np\n",
    "from astropy.table import Table, vstack\n",
    "import pandas as pd\n",
    "import matplotlib.pyplot as plt\n",
    "from astropy.table import Table\n",
    "import numpy as np\n",
    "import math\n",
    "import warnings\n",
    "import matplotlib.pyplot as plt\n",
    "\n",
    "def read_and_process_fits(files):\n",
    "    dat = None\n",
    "    for muon_file in files:\n",
    "        dat2 = Table.read(muon_file, format='fits')\n",
    "        \n",
    "        # Convert columns to boolean if they exist\n",
    "        for col in ['good_ring', 'is_valid', 'parameters_at_limit']:\n",
    "            if col in dat2.colnames:\n",
    "                dat2[col] = dat2[col].astype(bool)\n",
    "        \n",
    "        # Stack the tables\n",
    "        dat = vstack([dat, dat2]) if dat is not None else dat2\n",
    "    \n",
    "    return dat\n",
    "\n",
    "ctapipe_dl1_file_path = \"/Users/vdk/Software/ctapipe_processor_test/events.dl1.h5\"\n",
    "ctapipe_dl1_file_path = \"/Users/vdk/Software/ctapipe_processor_test/test_images/dl1_20k_muons.h5\""
   ]
  },
  {
   "cell_type": "markdown",
   "metadata": {},
   "source": [
    "# Getting muon table for ctapipe"
   ]
  },
  {
   "cell_type": "code",
   "execution_count": null,
   "metadata": {},
   "outputs": [],
   "source": []
  },
  {
   "cell_type": "code",
   "execution_count": null,
   "metadata": {},
   "outputs": [],
   "source": [
    "with h5py.File(ctapipe_dl1_file_path, \"r\") as h5_file:\n",
    "    dataset = h5_file[\"dl1/event/telescope/muon/tel_001\"]\n",
    "    dataset_dtype = dataset.dtype\n",
    "    data = dataset[:]\n",
    "\n",
    "data_array = np.array(data, dtype=dataset_dtype)\n",
    "muon_table_ctapipe = Table(data_array)\n",
    "#muon_table_ctapipe[muon_table_ctapipe['muonefficiency_is_valid'] == 1]\n",
    "muon_table_ctapipe[muon_table_ctapipe['muonefficiency_optical_efficiency'] > 0]"
   ]
  },
  {
   "cell_type": "code",
   "execution_count": null,
   "metadata": {},
   "outputs": [],
   "source": [
    "muon_table_lstchain = read_and_process_fits([\"/Users/vdk/Software/ctapipe_processor_test/lstchain_comparison/20k_events/muon_table.fits\"])\n",
    "\n",
    "muon_table_lstchain[muon_table_lstchain['good_ring'] == True]"
   ]
  },
  {
   "cell_type": "code",
   "execution_count": null,
   "metadata": {},
   "outputs": [],
   "source": [
    "np.nanmean(muon_table_ctapipe['muonparameters_ring_size'])"
   ]
  },
  {
   "cell_type": "code",
   "execution_count": null,
   "metadata": {},
   "outputs": [],
   "source": [
    "np.nanmean(muon_table_lstchain['ring_size'])"
   ]
  },
  {
   "cell_type": "code",
   "execution_count": null,
   "metadata": {},
   "outputs": [],
   "source": [
    "comparison_columns_lstchain = [\n",
    "    'ring_size', \n",
    "    'ring_center_x', \n",
    "    'ring_center_y', \n",
    "    'ring_radius',  \n",
    "    'ring_width', \n",
    "    'impact_parameter', \n",
    "    'muon_efficiency',\n",
    "    'radial_stdev',\n",
    "    ]\n",
    "\n",
    "for value in muon_table_lstchain[muon_table_lstchain['event_id'] == 303]:\n",
    "    for col in value.colnames:\n",
    "        if col in comparison_columns_lstchain:\n",
    "            print(f\"{col}: {value[col]}\")"
   ]
  },
  {
   "cell_type": "code",
   "execution_count": null,
   "metadata": {},
   "outputs": [],
   "source": [
    "comparison_columns_ctapipe = [\n",
    "    'muonparameters_ring_size', \n",
    "    'muonring_center_fov_lon', \n",
    "    'muonring_center_fov_lat', \n",
    "    'muonring_radius',  \n",
    "    'muonefficiency_width', \n",
    "    'muonefficiency_impact',\n",
    "    'muonefficiency_optical_efficiency',\n",
    "    'muonparameters_standard_dev'\n",
    "]\n",
    "for value in muon_table_ctapipe[muon_table_ctapipe['event_id'] == 303]:\n",
    "    for col in value.colnames:\n",
    "        if col in comparison_columns_ctapipe:\n",
    "            print(f\"{col}: {value[col]}\")"
   ]
  },
  {
   "cell_type": "markdown",
   "metadata": {},
   "source": [
    "# Plot comparison"
   ]
  },
  {
   "cell_type": "code",
   "execution_count": null,
   "metadata": {},
   "outputs": [],
   "source": [
    "def reweight_gaug(data, zenith, alpha  = 0.7, is_data=False):\n",
    "    if is_data:\n",
    "        weights = np.ones(len(data))/len(data)\n",
    "    else:\n",
    "        zenith = np.deg2rad(zenith)\n",
    "        weights = np.ones(len(data))\n",
    "        weights = data['mc_energy']**(-alpha) * (1/(1 + 1.1 * data['mc_energy'] * 1000 * np.cos(np.deg2rad(zenith))/115) + 0.054/(1 + 1.1 * data['mc_energy'] * 1000 * np.cos(np.deg2rad(zenith))/850))\n",
    "    return weights / np.sum(weights)\n",
    "    \n",
    "def read_and_process_fits(files):\n",
    "    dat = None\n",
    "    for muon_file in files:\n",
    "        dat2 = Table.read(muon_file, format='fits')\n",
    "        \n",
    "        # Convert columns to boolean if they exist\n",
    "        for col in ['good_ring', 'is_valid', 'parameters_at_limit']:\n",
    "            if col in dat2.colnames:\n",
    "                dat2[col] = dat2[col].astype(bool)\n",
    "        \n",
    "        # Stack the tables\n",
    "        dat = vstack([dat, dat2]) if dat is not None else dat2\n",
    "    \n",
    "    return dat\n",
    "\n",
    "def plot_columns(df_lstchain, df_ctapipe, columns_lstchain, columns_ctapipe, rows, cols, bin_power = 0.4, apply_weight=True, plot_option=True):\n",
    "    fig, axes = plt.subplots(rows, cols, figsize=(12, 18))\n",
    "    axes = axes.flatten()\n",
    "    \n",
    "    for i, col in enumerate(columns_lstchain):\n",
    "        lstchain_values = df_lstchain[col][~np.isnan(df_lstchain[col])]\n",
    "        ctapipe_values = df_ctapipe[columns_ctapipe[i]][~np.isnan(df_ctapipe[columns_ctapipe[i]])]\n",
    "    \n",
    "\n",
    "        min_value = min(min(ctapipe_values), min(lstchain_values))\n",
    "        max_value = max(max(ctapipe_values), max(lstchain_values))\n",
    "\n",
    "        num_bins = int(max(len(df_lstchain)**bin_power, len(df_ctapipe))**bin_power)\n",
    "        #num_bins = max(10, min(num_bins, 50))\n",
    "\n",
    "        \n",
    "        bins = np.linspace(min_value, max_value, num_bins + 1)\n",
    "\n",
    "        if apply_weight:\n",
    "            lst_weights = reweight_gaug(df_lstchain, 10, 0.7, False)\n",
    "            ctapipe_weights = reweight_gaug(df_ctapipe, 10, 0.7, False)\n",
    "            axes[i].hist(lstchain_values, weights=lst_weights, bins=bins, alpha=0.6, color='k', density=True, label='Data', histtype='step', lw=2)\n",
    "            axes[i].hist(ctapipe_values, weights=ctapipe_weights, bins=bins, alpha=0.85, color='orange', density=True, label=f'Muon Simulation 0.0046deg', histtype='step', lw=2)\n",
    "        else:\n",
    "            axes[i].hist(lstchain_values, bins=bins, alpha=0.6, color='k', density=True, label='lstchain', histtype='step', lw=2)\n",
    "            axes[i].hist(ctapipe_values, bins=bins, alpha=0.85, color='orange', density=True, label=f'ctapipe', histtype='step', lw=2)\n",
    "\n",
    "        axes[i].set_title(f'Histogram of {col}')\n",
    "        axes[i].set_xlabel(col)\n",
    "        axes[i].set_ylabel('Normalized Frequency')\n",
    "        axes[i].legend(loc='upper right')\n",
    "\n",
    "    plt.tight_layout()\n",
    "    if plot_option:\n",
    "        plt.savefig(f'/Users/vdk/muons2024/basic_distributions/PROTONS_noringcenter_{name}_radiuscut={min_radius_cut}-{max_radius_cut}_completeness={ring_completeness_cut}_centerdistance={ring_center_distance_cut}_impactdistance={impact_distance_cut}_widthquantile={QUANTILE_CUT}.pdf', dpi=200)\n",
    "    plt.show()\n",
    "\n",
    "comparison_columns_lstchain = [\n",
    "    'ring_size', \n",
    "    'ring_center_x', \n",
    "    'ring_center_y', \n",
    "    'ring_radius',  \n",
    "    'ring_width', \n",
    "    'impact_parameter', \n",
    "    'muon_efficiency',\n",
    "    'radial_stdev',\n",
    "    ]\n",
    "comparison_columns_ctapipe = [\n",
    "    'muonparameters_ring_size', \n",
    "    'muonring_center_fov_lon', \n",
    "    'muonring_center_fov_lat', \n",
    "    'muonring_radius',  \n",
    "    'muonefficiency_width', \n",
    "    'muonefficiency_impact',\n",
    "    'muonefficiency_optical_efficiency',\n",
    "    'muonparameters_standard_dev'\n",
    "]"
   ]
  },
  {
   "cell_type": "code",
   "execution_count": null,
   "metadata": {},
   "outputs": [],
   "source": [
    "plot_columns(\n",
    "    #muon_table_lstchain[muon_table_lstchain['muon_efficiency'] < ], \n",
    "    #muon_table_ctapipe[muon_table_ctapipe['muonefficiency_optical_efficiency'] < 1], \n",
    "    muon_table_lstchain,\n",
    "    muon_table_ctapipe,\n",
    "    comparison_columns_lstchain, \n",
    "    comparison_columns_ctapipe, \n",
    "    rows=4,\n",
    "    cols=2,\n",
    "    apply_weight=False, \n",
    "    plot_option=False, \n",
    ")"
   ]
  },
  {
   "cell_type": "code",
   "execution_count": null,
   "metadata": {},
   "outputs": [],
   "source": [
    "plot_columns(\n",
    "    muon_table_lstchain[muon_table_lstchain['muon_efficiency'] < 1], \n",
    "    muon_table_ctapipe[muon_table_ctapipe['muonefficiency_optical_efficiency'] < 1], \n",
    "    comparison_columns_lstchain, \n",
    "    comparison_columns_ctapipe,\n",
    "    rows=4,\n",
    "    cols=2,\n",
    "    bin_power=0.6,\n",
    "    apply_weight=False, \n",
    "    plot_option=False, \n",
    ")"
   ]
  },
  {
   "cell_type": "code",
   "execution_count": null,
   "metadata": {},
   "outputs": [],
   "source": [
    "plt.figure(figsize=(10, 7))\n",
    "z,x,c = plt.hist(muon_table_lstchain['ring_radius'], density=True, bins=50, alpha=0.5, label='lstchain')\n",
    "z,x,c = plt.hist(muon_table_ctapipe['muonring_radius'], density=True, bins=50, alpha=0.5, label='ctapipe')\n",
    "plt.legend()\n",
    "plt.xlabel('Ring radius')"
   ]
  },
  {
   "cell_type": "code",
   "execution_count": null,
   "metadata": {},
   "outputs": [],
   "source": [
    "plt.figure(figsize=(10, 7))\n",
    "z,x,c = plt.hist(muon_table_lstchain['ring_center_y'], density=True, bins=np.linspace(-1,1,40), alpha=0.5, label='lstchain')\n",
    "z,x,c = plt.hist(muon_table_ctapipe['muonring_center_fov_lat'], density=True, bins=np.linspace(-1,1,40), alpha=0.5, label='ctapipe')\n",
    "plt.legend()\n",
    "plt.xlabel('Ring radius')"
   ]
  },
  {
   "cell_type": "code",
   "execution_count": null,
   "metadata": {},
   "outputs": [],
   "source": [
    "plt.figure(figsize=(10, 7))\n",
    "z,x,c = plt.hist(muon_table_lstchain['ring_center_x'], density=True, bins=np.linspace(-1,1,40), alpha=0.5, label='lstchain')\n",
    "z,x,c = plt.hist(muon_table_ctapipe['muonring_center_fov_lon'], density=True, bins=np.linspace(-1,1,40), alpha=0.5, label='ctapipe')\n",
    "plt.legend()\n",
    "plt.xlabel('Ring radius')"
   ]
  },
  {
   "cell_type": "code",
   "execution_count": null,
   "metadata": {},
   "outputs": [],
   "source": []
  },
  {
   "cell_type": "code",
   "execution_count": null,
   "metadata": {},
   "outputs": [],
   "source": [
    "np.isnan(muon_table_ctapipe['muonefficiency_impact'][0])"
   ]
  },
  {
   "cell_type": "code",
   "execution_count": null,
   "metadata": {},
   "outputs": [],
   "source": [
    "len(muon_table_ctapipe[np.isnan(muon_table_ctapipe['muonefficiency_impact'])])"
   ]
  },
  {
   "cell_type": "code",
   "execution_count": null,
   "metadata": {},
   "outputs": [],
   "source": [
    "compare_astropy_tables_overlaid_histograms(\n",
    "    muon_table_ctapipe=muon_table_ctapipe,\n",
    "    muon_table_lstchain=muon_table_lstchain,\n",
    "    comparison_columns_ctapipe=comparison_columns_ctapipe,\n",
    "    comparison_columns_lstchain=comparison_columns_lstchain,\n",
    ")"
   ]
  }
 ],
 "metadata": {
  "kernelspec": {
   "display_name": "cta-dev",
   "language": "python",
   "name": "python3"
  },
  "language_info": {
   "codemirror_mode": {
    "name": "ipython",
    "version": 3
   },
   "file_extension": ".py",
   "mimetype": "text/x-python",
   "name": "python",
   "nbconvert_exporter": "python",
   "pygments_lexer": "ipython3",
   "version": "3.10.14"
  }
 },
 "nbformat": 4,
 "nbformat_minor": 2
}
