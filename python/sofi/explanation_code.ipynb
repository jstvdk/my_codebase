{
 "cells": [
  {
   "cell_type": "code",
   "execution_count": null,
   "metadata": {},
   "outputs": [],
   "source": [
    "import os\n",
    "import random"
   ]
  },
  {
   "cell_type": "code",
   "execution_count": null,
   "metadata": {},
   "outputs": [],
   "source": [
    "class_ids = [\n",
    "    \"With_Radiation_sign\",\n",
    "    \"Without_Radiation_sign\",\n",
    "    \"Radiation_sign\"\n",
    "]\n",
    "\n",
    "class_mapping = dict(zip(range(len(class_ids)), class_ids))\n",
    "name2classID = {value:key for key,value in class_mapping.items()}"
   ]
  },
  {
   "cell_type": "code",
   "execution_count": null,
   "metadata": {},
   "outputs": [],
   "source": [
    "dataset_dir = '/Users/vdk/Software/my_code/python/sofi/data/yolo_labeled_files'"
   ]
  },
  {
   "cell_type": "code",
   "execution_count": null,
   "metadata": {},
   "outputs": [],
   "source": [
    "txt_files = []\n",
    "\n",
    "for r, _, f in os.walk(dataset_dir):\n",
    "    for txt_filename in f:\n",
    "        txt_files.append(os.path.join(r, txt_filename))\n",
    "txt_files = sorted(txt_files)\n",
    "random.seed(10)\n",
    "random.shuffle(txt_files)"
   ]
  },
  {
   "cell_type": "code",
   "execution_count": null,
   "metadata": {},
   "outputs": [],
   "source": [
    "ls /Users/vdk/Software/my_code/python/sofi/data/"
   ]
  },
  {
   "cell_type": "code",
   "execution_count": null,
   "metadata": {},
   "outputs": [],
   "source": [
    "txt_file = txt_files[0]\n",
    "txt_file"
   ]
  },
  {
   "cell_type": "code",
   "execution_count": null,
   "metadata": {},
   "outputs": [],
   "source": [
    "test = txt_files[0].split(\"/\")\n",
    "test"
   ]
  },
  {
   "cell_type": "code",
   "execution_count": null,
   "metadata": {},
   "outputs": [],
   "source": [
    "txt_files[0]"
   ]
  },
  {
   "cell_type": "code",
   "execution_count": null,
   "metadata": {},
   "outputs": [],
   "source": [
    "def parse_annotation(txt_file):\n",
    "\n",
    "    image_path = txt_file.split(\"/\")\n",
    "    image_path[-2] = \"imgs\"\n",
    "    image_path[-1] = image_path[-1][:-4] + \".jpg\"\n",
    "    image_path = \"/\".join(image_path)\n",
    "\n",
    "    boxes = []\n",
    "    class_ids = []\n",
    "    with open(txt_file) as file:\n",
    "\n",
    "        for line in file:\n",
    "            lineSplit = line.split()\n",
    "            print(lineSplit)\n",
    "            box = lineSplit[1:]\n",
    "            box = [640*float(coor) for coor in box]\n",
    "\n",
    "            # correct from center to edge of the box\n",
    "            box[0] -= box[2]/2\n",
    "            box[1] -= box[3]/2\n",
    "\n",
    "            boxes.append(box)\n",
    "\n",
    "\n",
    "            class_ids.append(lineSplit[0])\n",
    "\n",
    "\n",
    "    return image_path, boxes, class_ids"
   ]
  },
  {
   "cell_type": "code",
   "execution_count": null,
   "metadata": {},
   "outputs": [],
   "source": [
    "parse_annotation(txt_files[0])"
   ]
  },
  {
   "cell_type": "code",
   "execution_count": null,
   "metadata": {},
   "outputs": [],
   "source": [
    "txt_files[0]"
   ]
  },
  {
   "cell_type": "code",
   "execution_count": null,
   "metadata": {},
   "outputs": [],
   "source": [
    "class_ids = [name2classID['Radiation_sign']]#*len(boxes)"
   ]
  },
  {
   "cell_type": "code",
   "execution_count": null,
   "metadata": {},
   "outputs": [],
   "source": [
    "class_ids"
   ]
  },
  {
   "cell_type": "code",
   "execution_count": null,
   "metadata": {},
   "outputs": [],
   "source": [
    "dataset_dir = '/Users/vdk/Software/my_code/python/sofi/data/yolo_labeled_files'\n",
    "txt_files = []\n",
    "\n",
    "for r, _, f in os.walk(dataset_dir):\n",
    "    for txt_filename in f:\n",
    "        txt_files.append(os.path.join(r, txt_filename))\n",
    "txt_files = sorted(txt_files)\n",
    "random.seed(10)\n",
    "random.shuffle(txt_files)"
   ]
  },
  {
   "cell_type": "code",
   "execution_count": null,
   "metadata": {},
   "outputs": [],
   "source": [
    "parse_annotation(txt_files[0])"
   ]
  },
  {
   "cell_type": "code",
   "execution_count": null,
   "metadata": {},
   "outputs": [],
   "source": [
    "txt_files[0]"
   ]
  },
  {
   "cell_type": "code",
   "execution_count": null,
   "metadata": {},
   "outputs": [],
   "source": []
  },
  {
   "cell_type": "code",
   "execution_count": null,
   "metadata": {},
   "outputs": [],
   "source": []
  },
  {
   "cell_type": "code",
   "execution_count": null,
   "metadata": {},
   "outputs": [],
   "source": [
    "try:\n",
    "    print(1)\n",
    "except:\n",
    "    print(2)"
   ]
  },
  {
   "cell_type": "code",
   "execution_count": null,
   "metadata": {},
   "outputs": [],
   "source": []
  }
 ],
 "metadata": {
  "kernelspec": {
   "display_name": "pytorch",
   "language": "python",
   "name": "python3"
  },
  "language_info": {
   "codemirror_mode": {
    "name": "ipython",
    "version": 3
   },
   "file_extension": ".py",
   "mimetype": "text/x-python",
   "name": "python",
   "nbconvert_exporter": "python",
   "pygments_lexer": "ipython3",
   "version": "3.12.2"
  }
 },
 "nbformat": 4,
 "nbformat_minor": 2
}
