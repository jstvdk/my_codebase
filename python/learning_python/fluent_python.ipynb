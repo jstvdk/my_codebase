{
 "cells": [
  {
   "cell_type": "code",
   "execution_count": null,
   "metadata": {},
   "outputs": [],
   "source": [
    "import math \n",
    "import time\n",
    "import functools\n",
    "\n",
    "class Vector:\n",
    "\n",
    "    def __init__(self, x=0, y=0): \n",
    "        self.x = x\n",
    "        self.y = y\n",
    "    def __repr__(self):\n",
    "        return f'Vector({self.x!r}, {self.y})'\n"
   ]
  },
  {
   "cell_type": "code",
   "execution_count": null,
   "metadata": {},
   "outputs": [],
   "source": [
    "def clock(func): \n",
    "    @functools.wraps(func)\n",
    "    def clocked(*args, **kwargs):\n",
    "        t0 = time.perf_counter()\n",
    "        result = func(*args, **kwargs)\n",
    "        elapsed = time.perf_counter() - t0\n",
    "        name = func.__name__\n",
    "        arg_lst = [repr(arg) for arg in args] \n",
    "        arg_lst.extend(f'{k}={v!r}' for k, v in kwargs.items()) \n",
    "        arg_str = ', '.join(arg_lst)\n",
    "        print(f'[{elapsed:0.8f}s] {name}({arg_str}) -> {result!r}') \n",
    "        return result\n",
    "    return clocked"
   ]
  },
  {
   "cell_type": "code",
   "execution_count": null,
   "metadata": {},
   "outputs": [],
   "source": [
    "@clock\n",
    "def printer(n):\n",
    "    for i in range(n):\n",
    "        print(i)\n"
   ]
  },
  {
   "cell_type": "code",
   "execution_count": null,
   "metadata": {},
   "outputs": [],
   "source": []
  },
  {
   "cell_type": "code",
   "execution_count": null,
   "metadata": {},
   "outputs": [],
   "source": [
    "a = Vector()"
   ]
  },
  {
   "cell_type": "code",
   "execution_count": null,
   "metadata": {},
   "outputs": [],
   "source": [
    "print(a.x)"
   ]
  },
  {
   "cell_type": "code",
   "execution_count": null,
   "metadata": {},
   "outputs": [],
   "source": [
    "type(a.x)"
   ]
  },
  {
   "cell_type": "code",
   "execution_count": null,
   "metadata": {},
   "outputs": [],
   "source": [
    "a = [1,2,3]\n",
    "b = 10\n",
    "c = 25\n",
    "t = [a,b,c]\n",
    "t"
   ]
  },
  {
   "cell_type": "code",
   "execution_count": null,
   "metadata": {},
   "outputs": [],
   "source": [
    "import array\n",
    "array.array('d', [1,2,3])"
   ]
  },
  {
   "cell_type": "code",
   "execution_count": null,
   "metadata": {},
   "outputs": [],
   "source": [
    "import sys\n",
    "int_list = [i for i in range(100000)]\n",
    "int_array = array.array('i', [i for i in range(100000)])\n",
    "print(sys.getsizeof(int_list))  # Size of list in bytes\n",
    "print(sys.getsizeof(int_array))  # Size of array in bytes"
   ]
  },
  {
   "cell_type": "code",
   "execution_count": null,
   "metadata": {},
   "outputs": [],
   "source": [
    "a = (1)\n",
    "b = (1,2,3,4)\n",
    "hash(b)"
   ]
  },
  {
   "cell_type": "code",
   "execution_count": null,
   "metadata": {},
   "outputs": [],
   "source": [
    "import pandas as pd\n",
    "\n",
    "# Correct data based on the provided image\n",
    "data = {\n",
    "    \"Day\": [\n",
    "        3,\n",
    "        4, 4,\n",
    "        5, 5,\n",
    "        6,\n",
    "        7, 7,\n",
    "        8, 8,\n",
    "        9,\n",
    "        10, 10,\n",
    "        11, 11,\n",
    "        12,\n",
    "        13, 13,\n",
    "        14, 14,\n",
    "        15,\n",
    "        16, 16,\n",
    "        17\n",
    "    ],\n",
    "    \"Shift Type\": [\n",
    "        \"FULL NIGHT\",\n",
    "        \"First Half\", \"Second Half\",\n",
    "        \"First Half\", \"Second Half\",\n",
    "        \"FULL NIGHT\",\n",
    "        \"First Half\", \"Second Half\",\n",
    "        \"First Half\", \"Second Half\",\n",
    "        \"FULL NIGHT\",\n",
    "        \"First Half\", \"Second Half\",\n",
    "        \"First Half\", \"Second Half\",\n",
    "        \"FULL NIGHT\",\n",
    "        \"First Half\", \"Second Half\",\n",
    "        \"First Half\", \"Second Half\",\n",
    "        \"FULL NIGHT\",\n",
    "        \"First Half\", \"Second Half\",\n",
    "        \"FULL NIGHT\"\n",
    "    ],\n",
    "    \"Leader\": [\n",
    "        \"Misha\",\n",
    "        \"Miguel\", \"Misha\",\n",
    "        \"Misha\", \"Miguel\",\n",
    "        \"Miguel\",\n",
    "        \"Misha\", \"Miguel\",\n",
    "        \"Miguel\", \"Misha\",\n",
    "        \"Misha\",\n",
    "        \"Miguel\", \"Misha\",\n",
    "        \"Misha\", \"Miguel\",\n",
    "        \"Miguel\",\n",
    "        \"Misha\", \"Miguel\",\n",
    "        \"Miguel\", \"Misha\",\n",
    "        \"Misha\",\n",
    "        \"Miguel\", \"Misha\",\n",
    "        \"Miguel\"\n",
    "    ],\n",
    "    \"Operator\": [\n",
    "        \"Giulia\",\n",
    "        \"Giulia\", \"Vadym\",\n",
    "        \"Vadym\", \"Giulia\",\n",
    "        \"Vadym\",\n",
    "        \"Giulia\", \"Vadym\",\n",
    "        \"Giulia\", \"Vadym\",\n",
    "        \"Giulia\",\n",
    "        \"Vadym\", \"Giulia\",\n",
    "        \"Giulia\", \"Vadym\",\n",
    "        \"Giulia\",\n",
    "        \"Vadym\", \"Giulia\",\n",
    "        \"Giulia\", \"Vadym\",\n",
    "        \"Vadym\",\n",
    "        \"Giulia\", \"Vadym\",\n",
    "        \"Vadym\"\n",
    "    ]\n",
    "}\n",
    "# Adjust the day numbers by subtracting 2\n",
    "data[\"Day\"] = [day - 2 for day in data[\"Day\"]]\n",
    "\n",
    "data[\"Day\"] = [str(day)+\" August\" for day in data[\"Day\"]]\n",
    "# Create DataFrame\n",
    "df = pd.DataFrame(data)\n",
    "\n",
    "\n",
    "\n",
    "# Save to CSV\n",
    "#csv_path = \"/Users/vdk/Corrected_15_Night_Schedule.csv\"\n",
    "df.to_csv(csv_path, index=False)\n",
    "\n",
    "csv_path\n"
   ]
  },
  {
   "cell_type": "code",
   "execution_count": null,
   "metadata": {},
   "outputs": [],
   "source": [
    "test = (1,2,3)\n",
    "(record,)  = 1,2,3"
   ]
  },
  {
   "cell_type": "code",
   "execution_count": null,
   "metadata": {},
   "outputs": [],
   "source": [
    "t = (1, 2, [30, 40])"
   ]
  },
  {
   "cell_type": "code",
   "execution_count": null,
   "metadata": {},
   "outputs": [],
   "source": [
    "t[2] += [50, 60]"
   ]
  },
  {
   "cell_type": "code",
   "execution_count": null,
   "metadata": {},
   "outputs": [],
   "source": [
    "t"
   ]
  },
  {
   "cell_type": "code",
   "execution_count": null,
   "metadata": {},
   "outputs": [],
   "source": [
    "import threading\n",
    "import time\n",
    "\n",
    "def cpu_bound_task():\n",
    "    count = 0\n",
    "    for _ in range(10**7):\n",
    "        count += 1\n",
    "\n",
    "start_time = time.time()\n",
    "\n",
    "# Creating multiple threads to perform the CPU-bound task\n",
    "threads = []\n",
    "for _ in range(4):\n",
    "    thread = threading.Thread(target=cpu_bound_task)\n",
    "    threads.append(thread)\n",
    "    thread.start()\n",
    "\n",
    "for thread in threads:\n",
    "    thread.join()\n",
    "\n",
    "end_time = time.time()\n",
    "\n",
    "print(\"Time taken with threads:\", end_time - start_time)"
   ]
  },
  {
   "cell_type": "code",
   "execution_count": null,
   "metadata": {},
   "outputs": [],
   "source": [
    "def cpu_bound_task():\n",
    "    count = 0\n",
    "    for _ in range(10**7):\n",
    "        count += 1\n",
    "\n",
    "start_time = time.time()\n",
    "cpu_bound_task()\n",
    "end_time = time.time()\n",
    "\n",
    "print(\"Time taken with threads:\", end_time - start_time)"
   ]
  },
  {
   "cell_type": "code",
   "execution_count": null,
   "metadata": {},
   "outputs": [],
   "source": [
    "import multiprocessing\n",
    "import time\n",
    "\n",
    "def cpu_bound_task():\n",
    "    count = 0\n",
    "    for _ in range(10**7):\n",
    "        count += 1\n",
    "\n",
    "start_time = time.time()\n",
    "\n",
    "# Creating multiple processes to perform the CPU-bound task\n",
    "processes = []\n",
    "for _ in range(4):\n",
    "    process = multiprocessing.Process(target=cpu_bound_task)\n",
    "    processes.append(process)\n",
    "    process.start()\n",
    "\n",
    "for process in processes:\n",
    "    process.join()\n",
    "\n",
    "end_time = time.time()\n",
    "\n",
    "print(\"Time taken with processes:\", end_time - start_time)"
   ]
  },
  {
   "cell_type": "code",
   "execution_count": null,
   "metadata": {},
   "outputs": [],
   "source": [
    "test_dict = {'1' : 1, '2' : 2}"
   ]
  },
  {
   "cell_type": "code",
   "execution_count": null,
   "metadata": {},
   "outputs": [],
   "source": [
    "test_dict['1'] = 3"
   ]
  },
  {
   "cell_type": "code",
   "execution_count": null,
   "metadata": {},
   "outputs": [],
   "source": [
    "test_dict['1']"
   ]
  },
  {
   "cell_type": "code",
   "execution_count": null,
   "metadata": {},
   "outputs": [],
   "source": [
    "s = {1.0,2.0,3.0}\n",
    "s"
   ]
  },
  {
   "cell_type": "code",
   "execution_count": null,
   "metadata": {},
   "outputs": [],
   "source": [
    "s.add(1)\n",
    "s"
   ]
  },
  {
   "cell_type": "code",
   "execution_count": null,
   "metadata": {},
   "outputs": [],
   "source": [
    "hash(test_str)"
   ]
  },
  {
   "cell_type": "code",
   "execution_count": null,
   "metadata": {},
   "outputs": [],
   "source": [
    "test_str = 'hello world'\n",
    "hash(test_str)"
   ]
  },
  {
   "cell_type": "code",
   "execution_count": null,
   "metadata": {},
   "outputs": [],
   "source": [
    "from unicodedata import name\n",
    "\n",
    "SKIN1 = 0x1F3FB  # EMOJI MODIFIER FITZPATRICK TYPE-1-2  # (1)\n",
    "SKINS = [chr(i) for i in range(SKIN1, SKIN1 + 5)]       # (2)\n",
    "THUMB = '\\U0001F44d'  # THUMBS UP SIGN 👍\n",
    "\n",
    "examples = [THUMB]                                      # (3)\n",
    "examples.extend(THUMB + skin for skin in SKINS)         # (4)\n",
    "\n",
    "for example in examples:\n",
    "    print(example, end='\\t')                            # (5)\n",
    "    print(' + '.join(name(char) for char in example)) "
   ]
  },
  {
   "cell_type": "code",
   "execution_count": null,
   "metadata": {},
   "outputs": [],
   "source": [
    "def count_bits(x): \n",
    "    num_bits = 0\n",
    "    while x: \n",
    "        num_bits += x&1 \n",
    "        x>>=1\n",
    "    return num_bits\n"
   ]
  },
  {
   "cell_type": "code",
   "execution_count": null,
   "metadata": {},
   "outputs": [],
   "source": [
    "count_bits(1)"
   ]
  },
  {
   "cell_type": "code",
   "execution_count": null,
   "metadata": {},
   "outputs": [],
   "source": [
    "def check_odd(x):\n",
    "    return bool(x & 1)\n",
    "\n",
    "check_odd(20)"
   ]
  },
  {
   "cell_type": "code",
   "execution_count": null,
   "metadata": {},
   "outputs": [],
   "source": [
    "pip install emoji"
   ]
  },
  {
   "cell_type": "code",
   "execution_count": null,
   "metadata": {},
   "outputs": [],
   "source": [
    "import emoji\n",
    "import unicodedata\n",
    "\n",
    "def print_emoji_names():\n",
    "    for char, data in emoji.EMOJI_DATA.items():\n",
    "        try:\n",
    "            name = unicodedata.name(char)\n",
    "        except ValueError:\n",
    "            name = data.get(\"en\", \"No name found\")\n",
    "        print(f\"{char}: {name}\")\n",
    "\n",
    "print_emoji_names()"
   ]
  },
  {
   "cell_type": "code",
   "execution_count": null,
   "metadata": {},
   "outputs": [],
   "source": [
    "import unicodedata\n",
    "\n",
    "def print_emoji_names():\n",
    "    # Define a function to check if a character is an emoji\n",
    "    def is_emoji(char):\n",
    "        try:\n",
    "            name = unicodedata.name(char)\n",
    "            # Filter to common emoji-related terms\n",
    "            return any(keyword in name for keyword in [\"FACE\", \"CAT\", \"HEART\", \"EMOJI\", \"HAND\", \"PERSON\", \"ANIMAL\", \"PLANT\", \"FOOD\", \"ACTIVITY\", \"OBJECT\", \"SYMBOL\", \"FLAG\"])\n",
    "        except ValueError:\n",
    "            return False\n",
    "\n",
    "    # List of emoji ranges\n",
    "    emoji_ranges = [\n",
    "        (0x1F600, 0x1F64F),  # Emoticons\n",
    "        (0x1F300, 0x1F5FF),  # Miscellaneous Symbols and Pictographs\n",
    "        (0x1F680, 0x1F6FF),  # Transport and Map Symbols\n",
    "        (0x1F700, 0x1F77F),  # Alchemical Symbols\n",
    "        (0x1F780, 0x1F7FF),  # Geometric Shapes Extended\n",
    "        (0x1F800, 0x1F8FF),  # Supplemental Arrows-C\n",
    "        (0x1F900, 0x1F9FF),  # Supplemental Symbols and Pictographs\n",
    "        (0x1FA00, 0x1FA6F),  # Chess Symbols\n",
    "        (0x1FA70, 0x1FAFF),  # Symbols and Pictographs Extended-A\n",
    "        (0x2600, 0x26FF),    # Miscellaneous Symbols\n",
    "        (0x2700, 0x27BF),    # Dingbats\n",
    "        (0x1F000, 0x1F02F),  # Mahjong Tiles\n",
    "        (0x1F0A0, 0x1F0FF),  # Playing Cards\n",
    "        (0x1F1E6, 0x1F1FF),  # Regional Indicator Symbols (Flags)\n",
    "    ]\n",
    "\n",
    "    # Iterate over the Unicode ranges and print emoji names\n",
    "    for start, end in emoji_ranges:\n",
    "        for codepoint in range(start, end + 1):\n",
    "            char = chr(codepoint)\n",
    "            if is_emoji(char):\n",
    "                print(f\"{char}: {unicodedata.name(char)}\")\n",
    "\n",
    "# Call the function to print all emoji names\n",
    "print_emoji_names()"
   ]
  },
  {
   "cell_type": "code",
   "execution_count": null,
   "metadata": {},
   "outputs": [],
   "source": [
    "import unicodedata\n",
    "\n",
    "emoji_char = '🐥'\n",
    "emoji_name = unicodedata.name(emoji_char)\n",
    "print(emoji_name)"
   ]
  },
  {
   "cell_type": "code",
   "execution_count": null,
   "metadata": {},
   "outputs": [],
   "source": [
    "import re\n",
    "\n",
    "re_numbers_str = re.compile(r'\\d+')\n",
    "re_words_str = re.compile(r'\\w+')\n",
    "re_numbers_bytes = re.compile(rb'\\d+')\n",
    "re_words_bytes = re.compile(rb'\\w+')\n",
    "\n",
    "text_str = (\"Ramanujan saw \\u0be7\\u0bed\\u0be8\\u0bef\"\n",
    "            \" as 1729 = 13 + 123 = 93 + 103.\")\n",
    "text_bytes = text_str.encode('utf_8')\n",
    "\n",
    "print(f'Text\\n {text_str!r}')\n",
    "print('Numbers')\n",
    "print(' str   :', re_numbers_str.findall(text_str))\n",
    "print(' bytes :', re_numbers_bytes.findall(text_bytes))\n",
    "print('Words')\n",
    "print(' str   :', re_words_str.findall(text_str))\n",
    "print(' bytes :', re_words_bytes.findall(text_bytes))"
   ]
  },
  {
   "cell_type": "code",
   "execution_count": null,
   "metadata": {},
   "outputs": [],
   "source": [
    "import matplotlib.pyplot as plt\n",
    "import numpy as np\n",
    "\n",
    "# Create the figure and axis\n",
    "fig, ax = plt.subplots(figsize=(10, 8))\n",
    "\n",
    "mirror_x = np.linspace(-11.5, 11.5, 400)\n",
    "a = 0.01\n",
    "mirror_y = a * mirror_x**2 - 26\n",
    "ax.plot(mirror_x, mirror_y, 'k', linewidth=2)#, label='Mirror')\n",
    "\n",
    "# Plot the camera as a rectangle\n",
    "camera_x = [-1.5, 1.5, 1.5, -1.5, -1.5]\n",
    "camera_y = [2, 2, 3, 3, 2]\n",
    "ax.plot(camera_x, camera_y, 'k', linewidth=2)\n",
    "ax.text(0, 3.2, 'Camera', horizontalalignment='center', fontsize=12)\n",
    "\n",
    "# Plot the muon track as a vertical line\n",
    "muon_x = [2, 2]\n",
    "muon_y = [30, -35]\n",
    "ax.plot(muon_x, muon_y, 'gold', linewidth=2, label='Muon')\n",
    "\n",
    "# Plot the Cherenkov light cone\n",
    "light_cone_angle = np.deg2rad(47)\n",
    "x_light_cone_left = np.linspace(2, -8 * np.tan(light_cone_angle), 100)\n",
    "x_light_cone_right = np.linspace(2, 12 * np.tan(light_cone_angle), 100)\n",
    "y_light_cone = np.linspace(30, -25.5, 100)\n",
    "\n",
    "ax.plot(x_light_cone_left, y_light_cone, 'yellow', linestyle='-', linewidth=2)\n",
    "ax.plot(x_light_cone_right, y_light_cone, 'yellow', linestyle='-', linewidth=2)\n",
    "ax.fill_betweenx(y_light_cone, x_light_cone_left, x_light_cone_right, color='yellow', alpha=0.3, label='Cherenkov Light')\n",
    "\n",
    "# Add the \"Not Detected in Real Data\" regions\n",
    "not_detected_x = [-4.5, -3.5, -2.5, -1.5, -0.5, 0.5, 1.5, 2.5, 3.5, 4.5]\n",
    "not_detected_y = [-3.5, -3.8, -4.1, -4.4, -4.7, -4.7, -4.4, -4.1, -3.8, -3.5]\n",
    "#ax.plot(not_detected_x, not_detected_y, 'r', linestyle='-', linewidth=2, label='Not Detected in Real Data')\n",
    "\n",
    "# Annotate the diagram\n",
    "#ax.text(0, -4.8, 'Not Detected in Real Data', horizontalalignment='center', fontsize=12, color='red')\n",
    "ax.text(7, -25, 'Mirror dish', horizontalalignment='center', fontsize=12, color='black')\n",
    "# Set limits and labels\n",
    "ax.set_xlim(-13,13)\n",
    "ax.set_ylim(-27, 30)\n",
    "#ax.set_title('Schematic Representation of Muon Light Gathered by LST Camera (Not to Scale)')\n",
    "ax.legend()\n",
    "\n",
    "# Remove the axes\n",
    "ax.axis('off')\n",
    "\n",
    "# Show the plot\n",
    "plt.show()"
   ]
  }
 ],
 "metadata": {
  "kernelspec": {
   "display_name": "cta-dev",
   "language": "python",
   "name": "python3"
  },
  "language_info": {
   "codemirror_mode": {
    "name": "ipython",
    "version": 3
   },
   "file_extension": ".py",
   "mimetype": "text/x-python",
   "name": "python",
   "nbconvert_exporter": "python",
   "pygments_lexer": "ipython3",
   "version": "3.10.14"
  }
 },
 "nbformat": 4,
 "nbformat_minor": 2
}
